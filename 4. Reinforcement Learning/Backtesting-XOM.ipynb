{
 "cells": [
  {
   "cell_type": "code",
   "execution_count": 1,
   "metadata": {
    "scrolled": true
   },
   "outputs": [
    {
     "name": "stderr",
     "output_type": "stream",
     "text": [
      "C:\\Users\\Elid-PC.DESKTOP-MG9DS93\\anaconda3\\lib\\site-packages\\pandas_datareader\\compat\\__init__.py:7: FutureWarning: pandas.util.testing is deprecated. Use the functions in the public API at pandas.testing instead.\n",
      "  from pandas.util.testing import assert_frame_equal\n"
     ]
    },
    {
     "data": {
      "application/javascript": [
       "\n",
       "console.log('Starting front end url_querystring_target comm target');\n",
       "const comm = Jupyter.notebook.kernel.comm_manager.new_comm('url_querystring_target', {'init': 1});\n",
       "comm.send({'ipyparams_browser_url': window.location.href});\n",
       "console.log('Sent window.location.href on url_querystring_target comm target');\n",
       "\n",
       "comm.on_msg(function(msg) {\n",
       "    console.log(msg.content.data);\n",
       "});\n"
      ],
      "text/plain": [
       "<IPython.core.display.Javascript object>"
      ]
     },
     "metadata": {},
     "output_type": "display_data"
    },
    {
     "name": "stderr",
     "output_type": "stream",
     "text": [
      "Using TensorFlow backend.\n"
     ]
    }
   ],
   "source": [
    "# Import libraries\n",
    "import pandas as pd\n",
    "from pandas_datareader import data as pdr\n",
    "\n",
    "import numpy as np\n",
    "import matplotlib.pyplot as plt\n",
    "import pickle\n",
    "\n",
    "from sklearn import preprocessing\n",
    "from sklearn.metrics import accuracy_score\n",
    "from sklearn.metrics import precision_recall_fscore_support\n",
    "\n",
    "import talib, re, ipyparams\n",
    "\n",
    "from Agent import Agent"
   ]
  },
  {
   "cell_type": "code",
   "execution_count": 2,
   "metadata": {},
   "outputs": [
    {
     "data": {
      "text/plain": [
       "755"
      ]
     },
     "execution_count": 2,
     "metadata": {},
     "output_type": "execute_result"
    }
   ],
   "source": [
    "end_date = '2020-04-19'\n",
    "start_date = '2017-04-20'\n",
    "\n",
    "\n",
    "symbol = 'XOM'\n",
    "Date = pd.DataFrame(pdr.DataReader(symbol,'yahoo', start_date, end_date))\n",
    "\n",
    "alldata = pd.DataFrame({'Date': Date.index})\n",
    "alldata[symbol] = pdr.DataReader(symbol, 'yahoo', start_date, end_date)['Adj Close'].values\n",
    "# Stock symbol\n",
    "\n",
    "# Load close prices of to NumPy array\n",
    "close = alldata[symbol].values\n",
    "len(close)"
   ]
  },
  {
   "cell_type": "code",
   "execution_count": 3,
   "metadata": {},
   "outputs": [
    {
     "data": {
      "text/plain": [
       "array([69.34041595, 69.78839111, 69.51269531, 69.87453461, 70.408638  ,\n",
       "       70.1243515 , 70.0037384 , 70.33972168, 70.69291687, 70.68431091,\n",
       "       71.24427795, 70.33110046, 70.65846252, 71.40794373, 70.90829468,\n",
       "       71.23004913, 71.83878326, 71.78660583, 72.00400543, 71.78660583,\n",
       "       71.29962158, 71.09091187, 71.24744415, 71.56049347, 71.81269073,\n",
       "       71.56049347, 71.09091187, 70.91699219, 70.52566528, 70.00389862,\n",
       "       70.17782593, 69.13428497, 69.67343903, 70.62132263, 70.36043549,\n",
       "       70.10825348, 71.42136383, 72.1170578 , 72.14313507, 71.3691864 ,\n",
       "       71.5344162 , 72.60404968, 71.96923065, 71.57790375, 70.82134247,\n",
       "       70.50827789, 70.96916962, 70.64741516, 70.53437805, 70.8996048 ,\n",
       "       70.17782593, 70.20391083, 71.39527893, 70.30825806, 69.67343903,\n",
       "       69.76040649, 69.70822144, 70.09085083, 70.40391541, 70.41261292,\n",
       "       70.68218994, 70.31694794, 70.09085083, 70.30825806, 70.31694794,\n",
       "       69.67343903, 69.4560318 , 69.80387878, 69.89085388, 70.29086304,\n",
       "       69.22124481, 69.60388184, 69.7169342 , 70.09085083, 69.99520874,\n",
       "       69.75171661, 69.70822144, 69.53429413, 69.75171661, 69.33904266,\n",
       "       68.67171478, 68.68928528, 68.52244568, 68.0219574 , 66.95953369,\n",
       "       67.29318237, 67.06490326, 67.38100433, 67.2668457 , 67.02100372,\n",
       "       67.36343384, 67.1439209 , 67.12636566, 66.81904602, 67.02100372,\n",
       "       67.2317276 , 67.76733398, 69.17219543, 69.39170837, 69.20732117,\n",
       "       69.58488464, 69.80439758, 70.04146576, 70.32242584, 70.30487823,\n",
       "       70.32242584, 70.43657684, 70.72634125, 70.1468277 , 70.17316437,\n",
       "       71.10388947, 71.02487946, 71.49901581, 72.16633606, 71.98194122,\n",
       "       71.67462158, 71.78876495, 71.81510162, 72.01705933, 71.74486542,\n",
       "       72.02583313, 72.22779083, 72.52632141, 72.37706757, 72.3595047 ,\n",
       "       72.71070099, 72.84241486, 72.66681671, 72.64924622, 72.97412109,\n",
       "       73.08826447, 73.29022217, 73.02680969, 73.29022217, 73.5009613 ,\n",
       "       73.3516922 , 73.18486023, 73.64144135, 73.34290314, 73.0355835 ,\n",
       "       73.53607178, 73.38681793, 73.29022217, 73.72924042, 73.49884033,\n",
       "       73.45452881, 72.87850952, 71.96576691, 71.38973999, 71.10617828,\n",
       "       71.38089752, 71.66446686, 71.8682785 , 72.1518631 , 71.87715149,\n",
       "       72.37339783, 72.90510559, 73.80899811, 73.95965576, 74.05712891,\n",
       "       73.45452881, 72.91395569, 73.15323639, 73.25072479, 73.57858276,\n",
       "       73.33933258, 73.65835571, 73.46340179, 73.57858276, 73.49884033,\n",
       "       73.05576324, 73.43681335, 74.30525208, 74.41159058, 74.42046356,\n",
       "       74.3495636 , 74.4559021 , 74.11914825, 75.35093689, 76.83083344,\n",
       "       76.93718719, 76.87513733, 77.22074127, 76.89287567, 76.28139496,\n",
       "       77.03464508, 77.55748749, 77.07009888, 77.98286438, 77.47772217,\n",
       "       77.22961426, 78.20439148, 78.24871063, 78.45252991, 78.31072235,\n",
       "       78.86902618, 77.99171448, 76.90174103, 77.3625412 , 78.93106079,\n",
       "       74.90784454, 70.64537048, 69.43132782, 68.18183136, 67.41086578,\n",
       "       67.84056854, 68.41350555, 68.30609131, 68.44932556, 68.22551727,\n",
       "       68.52094269, 67.81371307, 67.04381561, 67.91218567, 69.40722656,\n",
       "       70.57996368, 69.38037109, 67.80476379, 67.32131958, 67.63467407,\n",
       "       68.27923584, 68.1986618 , 66.47981262, 66.35449219, 66.7483902 ,\n",
       "       67.35713196, 66.72153473, 65.88896179, 66.6230545 , 67.24971771,\n",
       "       66.38134003, 66.23810577, 67.17810822, 65.79944611, 65.2533493 ,\n",
       "       66.24706268, 65.97848511, 65.18172455, 66.79314423, 65.54876709,\n",
       "       67.1601944 , 67.02589417, 68.05541992, 67.02589417, 67.02589417,\n",
       "       68.99542236, 69.31770325, 69.12971497, 69.68473816, 70.311409  ,\n",
       "       70.12340546, 70.92016602, 71.09920502, 70.72320557, 71.23348999,\n",
       "       70.14131927, 71.17082214, 72.38833618, 69.63998413, 69.60417175,\n",
       "       68.88798523, 68.75370789, 68.52094269, 68.8432312 , 69.59520721,\n",
       "       69.90855408, 71.5557785 , 73.15824127, 73.50186157, 73.99924469,\n",
       "       73.9630661 , 74.17106628, 74.04444885, 73.5199585 , 74.40618134,\n",
       "       73.8274231 , 74.28862   , 72.58852386, 71.17781067, 70.91555786,\n",
       "       73.70082092, 73.46569061, 73.99924469, 73.22153473, 72.95928192,\n",
       "       74.20722198, 74.94876862, 75.59986115, 75.14770508, 74.53278351,\n",
       "       73.70986938, 74.05349731, 72.94120789, 73.08588409, 72.97737885,\n",
       "       72.751297  , 72.06403351, 73.59229279, 72.10923767, 72.92311859,\n",
       "       73.89072418, 74.12583923, 74.81311798, 73.9359436 , 74.36999512,\n",
       "       74.4332962 , 74.45140839, 74.96684265, 75.65412903, 74.68650818,\n",
       "       74.77693939, 75.33760834, 74.59607697, 74.4332962 , 74.35192108,\n",
       "       74.16201019, 73.61039734, 73.61039734, 75.06632233, 75.59082031,\n",
       "       76.17861176, 74.08061981, 73.91785431, 73.70986938, 72.697052  ,\n",
       "       72.26296997, 72.52523041, 72.50714111, 73.492836  , 73.00450134,\n",
       "       72.63374329, 72.56064606, 71.7749176 , 71.54652405, 70.29484558,\n",
       "       71.26329041, 71.5008316 , 72.00334167, 72.02160645, 73.05400848,\n",
       "       72.25001526, 72.74337006, 73.45600891, 73.34637451, 73.87628174,\n",
       "       73.55651093, 73.24588013, 73.35551453, 74.33309937, 73.51081848,\n",
       "       74.76250458, 74.65286255, 75.70354462, 75.95022583, 75.21018219,\n",
       "       75.75836182, 76.20603943, 76.40704346, 77.32067108, 77.49425507,\n",
       "       77.81403351, 79.12052155, 79.02915955, 78.37134552, 78.36221313,\n",
       "       77.67698669, 78.39874268, 78.99260712, 78.70939636, 78.18862152,\n",
       "       77.96935272, 78.69111633, 79.03830719, 77.2201767 , 74.55236816,\n",
       "       74.35136414, 73.83974457, 74.18690491, 74.46101379, 74.78076935,\n",
       "       74.89040375, 74.14122772, 72.94435883, 70.91612244, 71.54652405,\n",
       "       70.83388519, 70.39533997, 71.97592926, 72.79819489, 73.7026825 ,\n",
       "       74.87213898, 74.58891296, 74.90868378, 75.8588562 , 74.65286255,\n",
       "       74.63441467, 73.67460632, 71.98570251, 71.42273712, 72.16106415,\n",
       "       72.87168121, 73.1116333 , 71.03512573, 71.57962036, 69.66924286,\n",
       "       71.04436493, 71.10895538, 72.40100861, 72.96396637, 73.37004089,\n",
       "       74.95742798, 73.30545044, 72.34563446, 71.65345001, 70.63828278,\n",
       "       70.76748657, 70.15837097, 71.04436493, 69.75229645, 68.33103943,\n",
       "       66.44834137, 65.32241821, 63.33818817, 62.86752701, 60.45876312,\n",
       "       63.34742737, 63.62428284, 62.91364288, 62.93212128, 64.31645966,\n",
       "       63.32896042, 65.66388702, 66.00535583, 66.48525238, 66.83596039,\n",
       "       66.49449158, 66.18994141, 66.10688019, 66.14378357, 66.1160965 ,\n",
       "       66.56830597, 67.36201477, 66.34681702, 65.80232239, 65.89460754,\n",
       "       66.18994141, 65.74694824, 65.99611664, 66.71598816, 67.62963867,\n",
       "       70.06608582, 69.05089569, 69.76152802, 69.45698547, 68.92169189,\n",
       "       69.03368378, 69.14565277, 70.35873413, 71.15190125, 71.17057037,\n",
       "       72.51428223, 72.99951935, 73.27945709, 72.61693573, 73.17681122,\n",
       "       73.25147247, 73.40077209, 74.15661621, 73.74603271, 74.65116882,\n",
       "       74.94044495, 74.82847595, 73.97930908, 74.8004837 , 73.72737122,\n",
       "       74.4458847 , 74.65116882, 75.31371307, 75.06175995, 74.79115295,\n",
       "       75.65896606, 75.4630127 , 75.88291931, 76.32149506, 75.09909058,\n",
       "       74.57652283, 75.54698944, 74.96843719, 75.34169769, 75.39768982,\n",
       "       76.26551819, 75.93891144, 75.49100494, 76.56412506, 76.97468567,\n",
       "       77.45059204, 76.45213318, 76.10687256, 76.47080231, 75.50966644,\n",
       "       75.25772095, 75.77094269, 75.98557281, 75.70563507, 77.35727692,\n",
       "       77.80519104, 76.29350281, 76.7227478 , 75.10840607, 74.6231842 ,\n",
       "       74.9124527 , 73.41009521, 72.12237549, 72.29032898, 71.97306061,\n",
       "       71.59047699, 71.70244598, 71.63713074, 72.26006317, 71.45780945,\n",
       "       71.55219269, 72.08074188, 72.07130432, 71.64657593, 71.63713837,\n",
       "       71.96747589, 71.3162384 , 69.64564514, 69.93823242, 68.53191376,\n",
       "       68.10719299, 67.9278717 , 66.79524994, 67.84291077, 69.45687103,\n",
       "       68.88114166, 70.13643646, 70.3912735 , 70.70274353, 70.63667297,\n",
       "       69.87216949, 70.48565674, 70.17418671, 70.87262726, 71.48612213,\n",
       "       71.08971405, 72.30725861, 73.32660675, 72.6281662 , 71.98635864,\n",
       "       72.29782104, 71.56162262, 72.32613373, 72.26006317, 71.46724701,\n",
       "       72.14681244, 71.85421753, 72.18457031, 72.13736725, 73.15671539,\n",
       "       73.21334839, 73.26998138, 72.75086212, 71.66545105, 71.24073029,\n",
       "       70.63667297, 70.77824402, 70.85374451, 71.13690948, 71.12747192,\n",
       "       70.72161865, 70.60836029, 71.10858917, 71.11802673, 70.18362427,\n",
       "       68.39035034, 67.72022247, 66.33277893, 66.97458649, 66.54042053,\n",
       "       68.31483459, 66.86132812, 66.53643036, 67.35822296, 64.64440918,\n",
       "       64.26217651, 65.26552582, 66.36442566, 65.96308899, 66.62243652,\n",
       "       66.47909546, 64.49150848, 64.83551788, 64.20484161, 64.67306519,\n",
       "       65.38974762, 65.43753052, 65.51396942, 66.21154022, 67.147995  ,\n",
       "       67.77867126, 68.31378937, 68.86802673, 68.7342453 , 68.78202057,\n",
       "       69.41269684, 70.45427704, 69.91915131, 69.58470154, 69.11647034,\n",
       "       68.87757874, 68.925354  , 67.97934723, 68.18000793, 67.81690216,\n",
       "       68.304245  , 67.47289276, 65.88664246, 64.16661072, 64.95973969,\n",
       "       65.90575409, 64.99796295, 63.73659897, 64.44373322, 65.21775055,\n",
       "       65.91532135, 66.10643005, 66.33575439, 65.19863892, 65.11263275,\n",
       "       64.60617828, 65.68597412, 66.02042389, 66.65110016, 66.02042389,\n",
       "       66.17331696, 65.59040833, 65.39929962, 64.71129608, 64.56795502,\n",
       "       66.50775909, 68.48579407, 69.84270477, 68.31378937, 69.76626587,\n",
       "       68.44133759, 68.02548981, 67.08740997, 66.53617096, 66.24603271,\n",
       "       66.91333008, 66.26537323, 65.58841705, 65.79149628, 67.37754059,\n",
       "       67.08740997, 66.64254761, 66.47813416, 66.43945312, 65.88820648,\n",
       "       66.16866302, 65.64643097, 66.39110565, 66.15899658, 67.22280121,\n",
       "       67.36786652, 66.78760529, 66.69090271, 68.02548981, 66.95201874,\n",
       "       67.69667816, 67.38720703, 67.570961  , 67.10675049, 67.63865662,\n",
       "       67.9771347 , 67.71601105, 67.82239532, 67.59029388, 67.19379425,\n",
       "       67.48391724, 68.56707001, 68.01582336, 68.53805542, 67.9771347 ,\n",
       "       66.95201874, 67.46457672, 66.86497498, 67.50325775, 66.92300415,\n",
       "       66.81661987, 66.55550385, 66.30406189, 65.35630798, 64.97914124,\n",
       "       64.57295227, 64.13776398, 62.60975266, 62.52271652, 62.00048828,\n",
       "       62.65811157, 60.07596588, 58.7317009 , 57.99671173, 60.66589355,\n",
       "       59.84386444, 59.44735718, 58.81952667, 59.378685  , 60.10461044,\n",
       "       59.7710762 , 59.49640656, 58.74105072, 59.19229889, 58.72143173,\n",
       "       58.00531387, 55.28800201, 53.16908646, 52.00172043, 48.87239456,\n",
       "       50.46158218, 52.85517502, 50.32424545, 51.4229393 , 49.15687943,\n",
       "       46.78290939, 41.06380081, 42.58431625, 41.18151474, 36.47281647,\n",
       "       37.39493561, 33.83398438, 36.10985565, 32.49003983, 33.7751236 ,\n",
       "       32.11726761, 30.85180473, 34.7659111 , 36.58072281, 38.08162308,\n",
       "       36.24719238, 36.78672791, 37.24779129, 36.81615829, 39.63157272,\n",
       "       38.46420288, 39.70024109, 40.45559311, 43.01594543, 42.30964279,\n",
       "       41.94667816, 41.62295914, 39.71004868, 38.40534592, 42.39793396])"
      ]
     },
     "execution_count": 3,
     "metadata": {},
     "output_type": "execute_result"
    }
   ],
   "source": [
    "close"
   ]
  },
  {
   "cell_type": "code",
   "execution_count": 4,
   "metadata": {},
   "outputs": [
    {
     "data": {
      "text/html": [
       "<div>\n",
       "<style scoped>\n",
       "    .dataframe tbody tr th:only-of-type {\n",
       "        vertical-align: middle;\n",
       "    }\n",
       "\n",
       "    .dataframe tbody tr th {\n",
       "        vertical-align: top;\n",
       "    }\n",
       "\n",
       "    .dataframe thead th {\n",
       "        text-align: right;\n",
       "    }\n",
       "</style>\n",
       "<table border=\"1\" class=\"dataframe\">\n",
       "  <thead>\n",
       "    <tr style=\"text-align: right;\">\n",
       "      <th></th>\n",
       "      <th>macd</th>\n",
       "      <th>macdsignal</th>\n",
       "      <th>macdhist</th>\n",
       "    </tr>\n",
       "  </thead>\n",
       "  <tbody>\n",
       "    <tr>\n",
       "      <th>0</th>\n",
       "      <td>0.206118</td>\n",
       "      <td>0.577961</td>\n",
       "      <td>-0.371843</td>\n",
       "    </tr>\n",
       "    <tr>\n",
       "      <th>1</th>\n",
       "      <td>0.016274</td>\n",
       "      <td>0.465623</td>\n",
       "      <td>-0.449349</td>\n",
       "    </tr>\n",
       "    <tr>\n",
       "      <th>2</th>\n",
       "      <td>-0.222981</td>\n",
       "      <td>0.327903</td>\n",
       "      <td>-0.550884</td>\n",
       "    </tr>\n",
       "    <tr>\n",
       "      <th>3</th>\n",
       "      <td>-0.318804</td>\n",
       "      <td>0.198561</td>\n",
       "      <td>-0.517365</td>\n",
       "    </tr>\n",
       "    <tr>\n",
       "      <th>4</th>\n",
       "      <td>-0.614943</td>\n",
       "      <td>0.035860</td>\n",
       "      <td>-0.650804</td>\n",
       "    </tr>\n",
       "  </tbody>\n",
       "</table>\n",
       "</div>"
      ],
      "text/plain": [
       "       macd  macdsignal  macdhist\n",
       "0  0.206118    0.577961 -0.371843\n",
       "1  0.016274    0.465623 -0.449349\n",
       "2 -0.222981    0.327903 -0.550884\n",
       "3 -0.318804    0.198561 -0.517365\n",
       "4 -0.614943    0.035860 -0.650804"
      ]
     },
     "execution_count": 4,
     "metadata": {},
     "output_type": "execute_result"
    }
   ],
   "source": [
    "macd, macdsignal, macdhist = talib.MACD(close, fastperiod=5, slowperiod=20, signalperiod=9)\n",
    "macdhist = macdhist[~np.isnan(macdhist)]\n",
    "macd = macd[-len(macdhist):]\n",
    "macdsignal = macdsignal[-len(macdhist):]\n",
    "\n",
    "\n",
    "pd.DataFrame({'macd': macd, 'macdsignal': macdsignal, 'macdhist': macdhist}).head()"
   ]
  },
  {
   "cell_type": "code",
   "execution_count": 5,
   "metadata": {},
   "outputs": [],
   "source": [
    "def prepare_dataset(close):\n",
    "    \"\"\"\n",
    "    Function prepare_dataset to generate input data and trading strategy from stock close prices\n",
    "    \"\"\"\n",
    "\n",
    "    macd, macdsignal, macdhist = talib.MACD(close, fastperiod=12, slowperiod=26, signalperiod=9)\n",
    "\n",
    "    # Cancel NaN values\n",
    "    macdhist = macdhist[~np.isnan(macdhist)]\n",
    "    macd = macd[-len(macdhist):]\n",
    "    macdsignal = macdsignal[-len(macdhist):]\n",
    "\n",
    "    # Scaling features to a range [0, 1]\n",
    "    min_max_scaler = preprocessing.MinMaxScaler(feature_range=(-1, 1))\n",
    "    macdhist_norm = min_max_scaler.fit_transform(np.expand_dims(macdhist, axis=1))\n",
    "\n",
    "    # Implement strategy\n",
    "    start_sell = 0.2\n",
    "    stop_sell = 0.05\n",
    "    start_buy = -0.2\n",
    "    stop_buy = -0.05\n",
    "\n",
    "    y = np.full(len(macdhist), np.nan)\n",
    "    y[0] = 0\n",
    "\n",
    "    for i in range(1, len(macdhist)):\n",
    "\n",
    "        if y[i-1] == 0:\n",
    "            if (macdhist_norm[i] >= start_sell):\n",
    "                # Enter sell position\n",
    "                y[i] = -1\n",
    "            elif (macdhist_norm[i] <= start_buy):\n",
    "                # Enter buy position\n",
    "                y[i] = 1\n",
    "            else:\n",
    "                y[i] = 0\n",
    "        elif y[i-1] == -1:\n",
    "            if macdhist_norm[i] > stop_sell:\n",
    "                # Stay in sell position\n",
    "                y[i] = -1\n",
    "            else:\n",
    "                # Leave sell position\n",
    "                y[i] = 0\n",
    "        else:\n",
    "            if macdhist_norm[i] < stop_buy:\n",
    "                # Stay in buy position\n",
    "                y[i] = 1\n",
    "            else:\n",
    "                # Leave buy position\n",
    "                y[i] = 0\n",
    "\n",
    "    # Plot strategy\n",
    "    dates = np.arange(len(macdhist))\n",
    "    plt.plot(dates, y,'g', label='Strategy Positions')\n",
    "    plt.bar(dates, macdhist_norm[:, 0], width=1, color='blue', label='MACD histogram')\n",
    "    plt.plot(dates, start_sell * np.ones(len(macdhist)), 'k--', lw=1)\n",
    "    plt.plot(dates, stop_sell * np.ones(len(macdhist)), 'k--', lw=1)\n",
    "    plt.plot(dates, start_buy * np.ones(len(macdhist)), 'k--', lw=1)\n",
    "    plt.plot(dates, stop_buy * np.ones(len(macdhist)), 'k--', lw=1)\n",
    "    plt.xlabel('Days')\n",
    "    plt.xlim((0, len(y)))\n",
    "    plt.legend()\n",
    "    # plt.savefig('images/AAL_macd.png', bbox_inches='tight')\n",
    "    plt.show()\n",
    "    \n",
    "    # Generate input data - technical indicators\n",
    "    ind1 = talib.MIDPOINT(close)    # Overlap: MidPoint over period\n",
    "    ind2 = talib.HT_DCPERIOD(close) # Cycle Indicator Functions:  Hilbert Transform - Dominant Cycle Period\n",
    "    ind3 = talib.MAX(close)         # Math Operator: Highest value over a specified period\n",
    "    ind4 = talib.SIN(close)         # Math Transform: Vector Trigonometric Sin\n",
    "    ind5 = talib.APO(close)         # Momentum: Absolute Price Oscillator\n",
    "    ind6 = talib.TEMA(close, timeperiod=5) ## Triple Exponential Moving Average\n",
    "\n",
    "    x = np.vstack((macdhist, macd, macdsignal, ind1[-len(macdhist):], ind2[-len(macdhist):],\n",
    "                   ind3[-len(macdhist):], ind4[-len(macdhist):], ind5[-len(macdhist):],\n",
    "                   ind6[-len(macdhist):]))\n",
    "    x = x.T\n",
    "\n",
    "    return x, y"
   ]
  },
  {
   "cell_type": "code",
   "execution_count": 6,
   "metadata": {},
   "outputs": [
    {
     "data": {
      "image/png": "[encoded data removed]",
      "text/plain": [
       "<Figure size 432x288 with 1 Axes>"
      ]
     },
     "metadata": {
      "needs_background": "light"
     },
     "output_type": "display_data"
    }
   ],
   "source": [
    "# Implement MACD trading strategy\n",
    "X, y = prepare_dataset(close)"
   ]
  },
  {
   "cell_type": "code",
   "execution_count": 7,
   "metadata": {},
   "outputs": [
    {
     "data": {
      "text/plain": [
       "array([-3.15740095e-01, -5.35814252e-02,  2.62158669e-01,  7.04734879e+01,\n",
       "        1.72117648e+01,  7.20040054e+01,  9.97919818e-01, -2.78878872e-01,\n",
       "        7.01720884e+01])"
      ]
     },
     "execution_count": 7,
     "metadata": {},
     "output_type": "execute_result"
    }
   ],
   "source": [
    "X[0]"
   ]
  },
  {
   "cell_type": "code",
   "execution_count": 8,
   "metadata": {},
   "outputs": [],
   "source": [
    "# Split dataset\n",
    "n_train = int(X.shape[0] * 0.8)\n",
    "\n",
    "X_train, y_train = X[:n_train], y[:n_train]\n",
    "X_test, y_test = X[n_train:], y[n_train:]"
   ]
  },
  {
   "cell_type": "code",
   "execution_count": 9,
   "metadata": {},
   "outputs": [],
   "source": [
    "# Normalize data\n",
    "scaler = preprocessing.MinMaxScaler()\n",
    "\n",
    "X_train = scaler.fit_transform(X_train)\n",
    "X_test = scaler.transform(X_test)"
   ]
  },
  {
   "cell_type": "code",
   "execution_count": 10,
   "metadata": {},
   "outputs": [
    {
     "name": "stdout",
     "output_type": "stream",
     "text": [
      "[-1.  0.  1.]\n"
     ]
    }
   ],
   "source": [
    "# Encode trading signal with integers between 0 and n-1 classes\n",
    "le = preprocessing.LabelEncoder()\n",
    "\n",
    "y_train = le.fit_transform(y_train)\n",
    "y_test = le.transform(y_test)\n",
    "\n",
    "print(le.classes_)"
   ]
  },
  {
   "cell_type": "code",
   "execution_count": 11,
   "metadata": {},
   "outputs": [],
   "source": [
    "## Create and train the Agent\n",
    "# Variable definiton\n",
    "episodes = 20\n",
    "look_back = 5\n",
    "batch_size = 32\n",
    "action_size = len(le.classes_)\n",
    "n_features = X_train.shape[1]"
   ]
  },
  {
   "cell_type": "code",
   "execution_count": 12,
   "metadata": {},
   "outputs": [],
   "source": [
    "# Create Agent\n",
    "agent = Agent(look_back, action_size, n_features)"
   ]
  },
  {
   "cell_type": "code",
   "execution_count": 13,
   "metadata": {},
   "outputs": [],
   "source": [
    "def run(agent, dataX, dataY, episodes, look_back):\n",
    "    \"\"\"\n",
    "    Function run to train the agent\n",
    "    \"\"\"\n",
    "    \n",
    "    # Length of dataset\n",
    "    times = len(dataX)\n",
    "\n",
    "    # List of total rewards\n",
    "    total_reward_list = []\n",
    "\n",
    "    for ep in range(episodes):\n",
    "\n",
    "        # print('Episode: ' + str(ep))\n",
    "        \n",
    "        # Initial state and position\n",
    "        state = dataX[:look_back, :][np.newaxis, :, :]\n",
    "        pos = dataY[look_back - 1]\n",
    "\n",
    "        done = False\n",
    "        total_reward = 0\n",
    "\n",
    "        for t in range(1, times - look_back + 1):\n",
    "\n",
    "            # Predict action based on the current state\n",
    "            action = agent.act(state)\n",
    "\n",
    "            # Calculate reward\n",
    "            if action == pos:   # 0:-1      1:0     2:1\n",
    "                reward = +1\n",
    "\n",
    "            elif (pos == 0 or pos == 2):\n",
    "                if action == 1:\n",
    "                    reward = 0\n",
    "                else:\n",
    "                    reward = -1\n",
    "            else:\n",
    "                reward = -1\n",
    "\n",
    "            total_reward += reward\n",
    "\n",
    "            # Final state\n",
    "            if t == times - look_back:\n",
    "                done = True\n",
    "\n",
    "            # Receive next state and position\n",
    "            next_state = dataX[t:t + look_back, :][np.newaxis, :, :]\n",
    "            next_pos = dataY[t + look_back - 1]\n",
    "            \n",
    "            # Remember current experience\n",
    "            agent.remember(state, action, reward, next_state, done)\n",
    "            \n",
    "            # Make next_state the new current state; the same for pos\n",
    "            state = next_state\n",
    "            pos = next_pos\n",
    "\n",
    "            if done:\n",
    "                print('Episode: %i ---> Total Reward: %i' %(ep, total_reward))\n",
    "                total_reward_list.append(total_reward)\n",
    "\n",
    "            # Train the agent with previous experiences\n",
    "            if len(agent.memory) > batch_size:\n",
    "                agent.replay(batch_size)\n",
    "\n",
    "        if (ep + 1) % 5 == 0 and ep > 0:\n",
    "            file = 'checkpoints/' + symbol + '_robot_checkpoint' + str(ep + 1)\n",
    "            # Serialize weights to HDF5\n",
    "            agent.model.save_weights(file + \".h5\")\n",
    "            # Save epsilon\n",
    "            pickle.dump(agent.epsilon, open(file + \"_epsilon.pickle\", \"wb\"))\n",
    "\n",
    "    # Save list of rewards along the epochs\n",
    "    np.savetxt(file + '_total_reward.txt', total_reward_list)\n",
    "\n",
    "    return\n"
   ]
  },
  {
   "cell_type": "code",
   "execution_count": 14,
   "metadata": {},
   "outputs": [
    {
     "name": "stdout",
     "output_type": "stream",
     "text": [
      "Episode: 0 ---> Total Reward: 88\n",
      "Episode: 1 ---> Total Reward: 286\n",
      "Episode: 2 ---> Total Reward: 310\n",
      "Episode: 3 ---> Total Reward: 411\n",
      "Episode: 4 ---> Total Reward: 364\n",
      "Episode: 5 ---> Total Reward: 395\n",
      "Episode: 6 ---> Total Reward: 381\n",
      "Episode: 7 ---> Total Reward: 411\n",
      "Episode: 8 ---> Total Reward: 421\n",
      "Episode: 9 ---> Total Reward: 467\n",
      "Episode: 10 ---> Total Reward: 461\n",
      "Episode: 11 ---> Total Reward: 449\n",
      "Episode: 12 ---> Total Reward: 454\n",
      "Episode: 13 ---> Total Reward: 420\n",
      "Episode: 14 ---> Total Reward: 452\n",
      "Episode: 15 ---> Total Reward: 436\n",
      "Episode: 16 ---> Total Reward: 440\n",
      "Episode: 17 ---> Total Reward: 453\n",
      "Episode: 18 ---> Total Reward: 447\n",
      "Episode: 19 ---> Total Reward: 453\n"
     ]
    }
   ],
   "source": [
    "# Train Agent\n",
    "run(agent, X_train, y_train, episodes, look_back)"
   ]
  },
  {
   "cell_type": "code",
   "execution_count": 15,
   "metadata": {},
   "outputs": [
    {
     "data": {
      "image/png": "[encoded data removed]",
      "text/plain": [
       "<Figure size 432x288 with 1 Axes>"
      ]
     },
     "metadata": {
      "needs_background": "light"
     },
     "output_type": "display_data"
    }
   ],
   "source": [
    "# Load rewards\n",
    "total_reward_list = np.loadtxt( 'checkpoints/'+ symbol + '_robot_checkpoint' + str(episodes) + '_total_reward.txt')\n",
    "# Plot\n",
    "plt.figure()\n",
    "plt.plot(np.arange(1, episodes+1), total_reward_list)\n",
    "plt.xlabel('Episodes')\n",
    "plt.ylabel('Total Reward')\n",
    "plt.show()"
   ]
  },
  {
   "cell_type": "code",
   "execution_count": 16,
   "metadata": {},
   "outputs": [
    {
     "data": {
      "text/plain": [
       "array([ 88., 286., 310., 411., 364., 395., 381., 411., 421., 467., 461.,\n",
       "       449., 454., 420., 452., 436., 440., 453., 447., 453.])"
      ]
     },
     "execution_count": 16,
     "metadata": {},
     "output_type": "execute_result"
    }
   ],
   "source": [
    "total_reward_list"
   ]
  },
  {
   "cell_type": "code",
   "execution_count": 17,
   "metadata": {},
   "outputs": [],
   "source": [
    "def evaluate(agent, dataX, dataY, look_back):\n",
    "    \"\"\"\n",
    "    Function run to evaluate the trained agent\n",
    "    \"\"\"\n",
    "    \n",
    "    # Length of dataset\n",
    "    times = len(dataX)\n",
    "\n",
    "    # Initial state and position\n",
    "    state = dataX[:look_back, :][np.newaxis, :, :]\n",
    "    pos = dataY[look_back - 1]\n",
    "\n",
    "    # List of predicted positions\n",
    "    pos_list = []\n",
    "    \n",
    "    done = False\n",
    "    total_reward = 0\n",
    "    \n",
    "    for t in range(1, times - look_back + 1):\n",
    "\n",
    "        # Predict action based on the current state\n",
    "        action = agent.act(state)\n",
    "\n",
    "        # Calculate reward\n",
    "        if action == pos:   # 0:-1      1:0     2:1\n",
    "            reward = +1\n",
    "\n",
    "        elif (pos == 0 or pos == 2):\n",
    "            if action == 1:\n",
    "                reward = 0\n",
    "            else:\n",
    "                reward = -1\n",
    "        else:\n",
    "            reward = -1\n",
    "\n",
    "        pos_list.append(action)\n",
    "        total_reward += reward\n",
    "\n",
    "        # Final state\n",
    "        if t == times - look_back:\n",
    "            done = True\n",
    "\n",
    "        # Receive next state and position\n",
    "        next_state = dataX[t:t + look_back, :][np.newaxis, :, :]\n",
    "        next_pos = dataY[t + look_back - 1]\n",
    "\n",
    "        # Remember current experience\n",
    "        agent.remember(state, action, reward, next_state, done)\n",
    "\n",
    "        # Make next_state the new current state; the same for pos\n",
    "        state = next_state\n",
    "        pos = next_pos\n",
    "\n",
    "        if done:\n",
    "            print('Total Reward: %i' % total_reward)\n",
    "\n",
    "    return np.array(pos_list)"
   ]
  },
  {
   "cell_type": "code",
   "execution_count": 18,
   "metadata": {},
   "outputs": [
    {
     "name": "stdout",
     "output_type": "stream",
     "text": [
      "Total Reward: 13\n",
      "Accuracy: 36.43 %\n"
     ]
    }
   ],
   "source": [
    "# Evaluate the model\n",
    "# Make predictions\n",
    "y_pred_test = evaluate(agent, X_test, y_test, look_back)\n",
    "\n",
    "# Calculate and print accuracy\n",
    "acc = accuracy_score(y_test[look_back-1:-1], y_pred_test)\n",
    "\n",
    "print('Accuracy: %.2f %%' % (acc*100))"
   ]
  },
  {
   "cell_type": "code",
   "execution_count": 19,
   "metadata": {},
   "outputs": [
    {
     "name": "stdout",
     "output_type": "stream",
     "text": [
      "      1-Precision  2-Recall  3-F1 score  4-Support\n",
      "-1.0        0.265     0.619       0.371         21\n",
      " 0.0        0.261     0.360       0.303         50\n",
      " 1.0        0.909     0.290       0.440         69\n"
     ]
    }
   ],
   "source": [
    "# Calculate and print precision, recall, f1 score and support\n",
    "p, r, f1, s = precision_recall_fscore_support(y_test[look_back-1:-1], y_pred_test, average=None)\n",
    "results = pd.DataFrame({'1-Precision': p, '2-Recall': r, '3-F1 score': f1, '4-Support': s}, index=le.classes_)\n",
    "\n",
    "print(results.round(decimals=3))"
   ]
  },
  {
   "cell_type": "code",
   "execution_count": 20,
   "metadata": {},
   "outputs": [],
   "source": [
    "# Decodificate labels\n",
    "y_true_test = le.inverse_transform(y_test[look_back-1:-1])\n",
    "y_pred_test = le.inverse_transform(y_pred_test)"
   ]
  },
  {
   "cell_type": "code",
   "execution_count": 21,
   "metadata": {},
   "outputs": [
    {
     "data": {
      "image/png": "[encoded data removed]",
      "text/plain": [
       "<Figure size 432x288 with 1 Axes>"
      ]
     },
     "metadata": {
      "needs_background": "light"
     },
     "output_type": "display_data"
    }
   ],
   "source": [
    "# Plot strategy\n",
    "plt.figure()\n",
    "plt.plot(y_true_test, label='true')\n",
    "plt.plot(y_pred_test, label='pred')\n",
    "plt.legend()\n",
    "plt.show()"
   ]
  },
  {
   "cell_type": "code",
   "execution_count": null,
   "metadata": {},
   "outputs": [],
   "source": []
  }
 ],
 "metadata": {
  "kernelspec": {
   "display_name": "Python 3",
   "language": "python",
   "name": "python3"
  },
  "language_info": {
   "codemirror_mode": {
    "name": "ipython",
    "version": 3
   },
   "file_extension": ".py",
   "mimetype": "text/x-python",
   "name": "python",
   "nbconvert_exporter": "python",
   "pygments_lexer": "ipython3",
   "version": "3.7.6"
  }
 },
 "nbformat": 4,
 "nbformat_minor": 2
}
