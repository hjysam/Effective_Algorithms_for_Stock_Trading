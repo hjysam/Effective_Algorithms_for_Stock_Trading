{
 "cells": [
  {
   "cell_type": "code",
   "execution_count": 1,
   "metadata": {
    "scrolled": true
   },
   "outputs": [
    {
     "name": "stderr",
     "output_type": "stream",
     "text": [
      "C:\\Users\\Elid-PC.DESKTOP-MG9DS93\\anaconda3\\lib\\site-packages\\pandas_datareader\\compat\\__init__.py:7: FutureWarning: pandas.util.testing is deprecated. Use the functions in the public API at pandas.testing instead.\n",
      "  from pandas.util.testing import assert_frame_equal\n"
     ]
    },
    {
     "data": {
      "application/javascript": [
       "\n",
       "console.log('Starting front end url_querystring_target comm target');\n",
       "const comm = Jupyter.notebook.kernel.comm_manager.new_comm('url_querystring_target', {'init': 1});\n",
       "comm.send({'ipyparams_browser_url': window.location.href});\n",
       "console.log('Sent window.location.href on url_querystring_target comm target');\n",
       "\n",
       "comm.on_msg(function(msg) {\n",
       "    console.log(msg.content.data);\n",
       "});\n"
      ],
      "text/plain": [
       "<IPython.core.display.Javascript object>"
      ]
     },
     "metadata": {},
     "output_type": "display_data"
    },
    {
     "name": "stderr",
     "output_type": "stream",
     "text": [
      "Using TensorFlow backend.\n"
     ]
    }
   ],
   "source": [
    "# Import libraries\n",
    "import pandas as pd\n",
    "from pandas_datareader import data as pdr\n",
    "\n",
    "import numpy as np\n",
    "import matplotlib.pyplot as plt\n",
    "import pickle\n",
    "\n",
    "from sklearn import preprocessing\n",
    "from sklearn.metrics import accuracy_score\n",
    "from sklearn.metrics import precision_recall_fscore_support\n",
    "\n",
    "import talib, re, ipyparams\n",
    "\n",
    "from Agent import Agent"
   ]
  },
  {
   "cell_type": "code",
   "execution_count": 2,
   "metadata": {},
   "outputs": [
    {
     "data": {
      "text/plain": [
       "754"
      ]
     },
     "execution_count": 2,
     "metadata": {},
     "output_type": "execute_result"
    }
   ],
   "source": [
    "end_date = '2020-02-19'\n",
    "start_date = '2017-02-20'\n",
    "\n",
    "symbol = 'JNJ'\n",
    "Date = pd.DataFrame(pdr.DataReader(symbol,'yahoo', start_date, end_date))\n",
    "\n",
    "alldata = pd.DataFrame({'Date': Date.index})\n",
    "alldata[symbol] = pdr.DataReader(symbol, 'yahoo', start_date, end_date)['Adj Close'].values\n",
    "# Stock symbol\n",
    "\n",
    "# Load close prices of to NumPy array\n",
    "close = alldata[symbol].values\n",
    "len(close)"
   ]
  },
  {
   "cell_type": "code",
   "execution_count": 3,
   "metadata": {},
   "outputs": [
    {
     "data": {
      "text/plain": [
       "array([109.7368927 , 109.60848999, 111.60771179, 113.29707336,\n",
       "       112.99242401, 112.81702423, 114.34020996, 114.12788391,\n",
       "       114.27558899, 114.20172882, 114.31251526, 114.56177521,\n",
       "       116.26956177, 116.50959015, 116.94346619, 117.28502655,\n",
       "       119.04823303, 118.58666229, 118.21740723, 118.22664642,\n",
       "       117.4696579 , 116.55574799, 116.22341156, 115.83570099,\n",
       "       116.13110352, 116.00187683, 115.3187561 , 115.07872009,\n",
       "       114.97717285, 115.10641479, 115.09719849, 115.20798492,\n",
       "       115.43875122, 115.3187561 , 114.78330994, 114.67253876,\n",
       "       115.76184845, 115.38336182, 116.05725861, 112.45700836,\n",
       "       112.04158783, 112.5031662 , 112.40161133, 113.44476318,\n",
       "       113.94325256, 114.01711273, 114.22943115, 113.98018646,\n",
       "       113.86018372, 114.19250488, 113.85093689, 114.42328644,\n",
       "       114.01711273, 113.77709198, 113.74018097, 113.37091064,\n",
       "       113.73092651, 114.13711548, 117.22963715, 117.94968414,\n",
       "       116.93424225, 117.21118164, 117.23887634, 117.47889709,\n",
       "       117.71888733, 117.70967865, 118.50884247, 117.94197845,\n",
       "       118.11855316, 119.17791748, 119.67043304, 120.87846375,\n",
       "       121.13866425, 121.57540894, 121.50107574, 121.31520844,\n",
       "       122.22589111, 122.49537659, 122.68125153, 123.37817383,\n",
       "       123.62908173, 124.84641266, 124.58622742, 124.72560883,\n",
       "       125.36682129, 126.42617035, 126.77927399, 126.69562531,\n",
       "       125.45972443, 124.35391235, 123.25737762, 122.93212891,\n",
       "       123.49898529, 124.18663788, 123.14586639, 123.1644516 ,\n",
       "       122.24448395, 121.94711304, 122.87635803, 122.53256226,\n",
       "       123.22021484, 122.80201721, 124.94863129, 125.64560699,\n",
       "       126.90938568, 125.73851013, 123.60121155, 122.55115509,\n",
       "       121.68692017, 121.57540894, 122.52326965, 123.33171082,\n",
       "       123.13656616, 122.81131744, 123.9171524 , 123.75915527,\n",
       "       123.46181488, 122.9135437 , 123.8056488 , 123.67552948,\n",
       "       123.68484497, 124.0379715 , 123.94503784, 124.67915344,\n",
       "       123.62908173, 123.24808502, 124.01008606, 125.17164612,\n",
       "       123.40605164, 123.4896698 , 123.1436615 , 123.1997757 ,\n",
       "       123.63932037, 122.57321167, 123.7889328 , 122.53580475,\n",
       "       121.47907257, 122.19915009, 123.6206131 , 122.48903656,\n",
       "       124.57447815, 124.0320816 , 123.8637619 , 125.48160553,\n",
       "       125.73408508, 126.60382843, 126.45420074, 124.58383179,\n",
       "       123.20912933, 122.87248993, 122.66671753, 122.45163727,\n",
       "       121.33879089, 121.07693481, 121.58192444, 122.71350098,\n",
       "       123.53646088, 124.27520752, 124.55578613, 124.58383179,\n",
       "       124.79895782, 125.21974945, 127.79148102, 127.95980835,\n",
       "       127.58574677, 127.29585266, 131.66311646, 131.5602417 ,\n",
       "       132.83204651, 133.16873169, 134.30964661, 132.45799255,\n",
       "       133.13131714, 132.61700439, 132.58891296, 130.92431641,\n",
       "       130.37257385, 130.90560913, 130.8588562 , 130.99913025,\n",
       "       130.69987488, 130.70922852, 132.15875244, 131.25163269,\n",
       "       130.51283264, 130.69987488, 130.44737244, 130.08268738,\n",
       "       129.86758423, 129.05397034, 128.98851013, 129.37191772,\n",
       "       128.38998413, 129.06330872, 129.93836975, 131.74490356,\n",
       "       131.54728699, 131.09565735, 131.70726013, 130.79457092,\n",
       "       131.41558838, 132.72341919, 131.73548889, 132.28121948,\n",
       "       132.79870605, 134.17243958, 134.44528198, 133.27856445,\n",
       "       134.04071045, 133.41967773, 133.40087891, 132.81752014,\n",
       "       132.72341919, 131.838974  , 131.81074524, 132.26239014,\n",
       "       132.25299072, 131.46261597, 131.00154114, 132.25299072,\n",
       "       132.24356079, 133.33499146, 133.50437927, 135.62139893,\n",
       "       135.46147156, 136.23300171, 137.14562988, 138.1806488 ,\n",
       "       138.29356384, 138.23709106, 138.65109253, 139.38500977,\n",
       "       133.44793701, 133.67373657, 135.86604309, 136.74108887,\n",
       "       135.18856812, 134.01243591, 130.02304077, 131.74490356,\n",
       "       129.54316711, 122.68402863, 124.03890228, 123.65313721,\n",
       "       118.89219666, 121.87483978, 122.57112122, 122.27944946,\n",
       "       122.00656891, 123.47438812, 125.28090668, 123.13564301,\n",
       "       122.23240662, 122.23240662, 124.21770477, 125.06045532,\n",
       "       124.68167877, 122.98669434, 120.52467346, 121.98296356,\n",
       "       122.90145874, 121.41479492, 122.19126892, 125.05097198,\n",
       "       126.69863892, 125.59072113, 127.21945953, 125.29720306,\n",
       "       125.99790192, 126.58499908, 123.32758331, 124.24610138,\n",
       "       124.22715759, 120.61936951, 118.46038055, 120.62882996,\n",
       "       120.45838165, 120.68565369, 121.34849548, 117.94903564,\n",
       "       121.53788757, 123.48856354, 123.77264404, 121.30116272,\n",
       "       122.60792542, 123.33703613, 122.74996185, 123.50749207,\n",
       "       123.68740082, 124.76689911, 123.61165619, 120.94132233,\n",
       "       120.78035736, 119.93758392, 120.09856415, 119.49253082,\n",
       "       120.03229523, 121.21592712, 121.46214294, 119.77661133,\n",
       "       119.32208252, 116.94529724, 116.50024414, 117.59867859,\n",
       "       117.03052521, 116.10253906, 116.95476532, 118.69710541,\n",
       "       120.48680115, 119.36943054, 118.48878479, 118.69710541,\n",
       "       117.2767334 , 117.64601135, 117.15363312, 116.38661194,\n",
       "       116.89794922, 115.76164246, 115.87612915, 113.90144348,\n",
       "       115.39914703, 114.11131287, 115.67579651, 116.33401489,\n",
       "       115.88565826, 117.13532257, 117.65045929, 118.34684753,\n",
       "       117.01132202, 116.89683533, 116.9826889 , 116.77283478,\n",
       "       116.96360779, 115.73301697, 116.92545319, 116.4198761 ,\n",
       "       115.85704041, 117.18301392, 116.94454193, 116.71559143,\n",
       "       116.00965881, 116.38170624, 115.75209045, 115.98104858,\n",
       "       117.05901337, 119.24356079, 119.95901489, 120.24520874,\n",
       "       121.5139389 , 120.42644501, 121.87645721, 120.13072968,\n",
       "       118.94783783, 123.16428375, 121.91461182, 120.14025879,\n",
       "       120.05440521, 120.7984848 , 123.40276337, 122.69684601,\n",
       "       124.28040314, 125.4919281 , 126.08335876, 126.41724396,\n",
       "       126.53170013, 125.20572662, 125.87349701, 125.9402771 ,\n",
       "       125.40606689, 125.12940216, 125.15802765, 124.72875977,\n",
       "       124.22316742, 123.53632355, 124.42349243, 126.37908173,\n",
       "       128.27742004, 130.57646179, 129.1169281 , 128.41098022,\n",
       "       128.88796997, 129.68930054, 129.56445312, 128.98826599,\n",
       "       129.50682068, 129.59324646, 129.34358215, 128.41207886,\n",
       "       130.46714783, 131.4370575 , 131.86920166, 131.76356506,\n",
       "       133.01194763, 133.82821655, 134.33717346, 133.95304871,\n",
       "       134.40438843, 134.96138   , 134.884552  , 136.34422302,\n",
       "       137.20849609, 134.89414978, 133.13679504, 132.67584229,\n",
       "       132.73345947, 132.68544006, 134.14511108, 134.90374756,\n",
       "       133.51130676, 133.81861877, 133.57855225, 133.85700989,\n",
       "       133.67457581, 132.26290894, 128.52731323, 128.55612183,\n",
       "       128.63296509, 131.13935852, 133.92422485, 133.96266174,\n",
       "       133.53051758, 133.17518616, 133.4152832 , 132.01324463,\n",
       "       132.97354126, 131.53308105, 132.09007263, 135.1630249 ,\n",
       "       134.43319702, 135.23027039, 135.09580994, 136.5554657 ,\n",
       "       136.91079712, 139.0042572 , 139.53242493, 139.5708313 ,\n",
       "       139.83970642, 138.93704224, 138.52410889, 138.76417542,\n",
       "       140.19503784, 141.8659668 , 140.63676453, 136.3538208 ,\n",
       "       136.58427429, 136.62294006, 138.41082764, 141.52270508,\n",
       "       140.95252991, 141.96725464, 141.30041504, 141.12646484,\n",
       "       141.01049805, 140.5466156 , 140.38232422, 141.58070374,\n",
       "       142.16053772, 142.87567139, 128.53399658, 124.80361938,\n",
       "       126.0406189 , 123.32498932, 123.96282959, 123.78887177,\n",
       "       118.71515656, 122.45521545, 123.13171387, 122.99641418,\n",
       "       124.71664429, 123.46029663, 121.49846649, 123.53761292,\n",
       "       122.74514771, 125.59609985, 124.6006546 , 125.35448456,\n",
       "       125.39313507, 123.97249603, 125.01623535, 123.74055481,\n",
       "       124.75530243, 126.30156708, 124.47503662, 124.47503662,\n",
       "       122.76446533, 123.92417145, 124.65866089, 125.95365143,\n",
       "       127.21967316, 128.61132812, 129.69369507, 128.41802979,\n",
       "       128.41802979, 128.53399658, 127.61592865, 127.95413971,\n",
       "       127.56757355, 129.65504456, 129.93530273, 129.80001831,\n",
       "       131.80052185, 131.13368225, 131.77151489, 130.87275696,\n",
       "       132.01312256, 132.49952698, 132.41197205, 132.17849731,\n",
       "       132.92758179, 134.59112549, 134.71759033, 134.99971008,\n",
       "       135.3110199 , 134.4841156 , 134.30899048, 134.79541016,\n",
       "       135.39857483, 135.62231445, 134.27009583, 133.86149597,\n",
       "       133.44317627, 134.67868042, 133.55992126, 134.34791565,\n",
       "       133.19024658, 132.89839172, 134.80514526, 134.93162537,\n",
       "       135.10671997, 135.99197388, 135.20399475, 133.96852112,\n",
       "       133.44317627, 131.88665771, 132.48007202, 132.44116211,\n",
       "       131.88665771, 131.89639282, 131.53643799, 132.2855072 ,\n",
       "       132.81085205, 134.27009583, 134.75650024, 133.78367615,\n",
       "       134.08525085, 136.09899902, 135.41804504, 135.85578918,\n",
       "       136.57569885, 136.04063416, 137.36367798, 138.0933075 ,\n",
       "       137.44151306, 138.15167236, 138.22949219, 136.167099  ,\n",
       "       135.99197388, 134.96080017, 135.27209473, 133.47236633,\n",
       "       133.10270691, 133.19024658, 134.45492554, 134.84405518,\n",
       "       134.65922546, 134.36737061, 134.98995972, 135.99197388,\n",
       "       136.00178528, 134.25830078, 128.63604736, 129.40005493,\n",
       "       128.45974731, 128.74378967, 130.98680115, 131.62347412,\n",
       "       133.87628174, 135.70794678, 136.1683197 , 136.91271973,\n",
       "       138.77372742, 137.82363892, 137.21635437, 136.57969666,\n",
       "       137.35348511, 137.56896973, 139.2928772 , 139.17530823,\n",
       "       140.12542725, 141.28121948, 138.94024658, 137.80404663,\n",
       "       136.42297363, 136.50134277, 137.15757751, 139.2243042 ,\n",
       "       137.68650818, 138.07830811, 138.5092926 , 138.31338501,\n",
       "       137.23594666, 131.54512024, 131.94671631, 129.78204346,\n",
       "       129.15518188, 129.36087036, 127.63697052, 126.0012207 ,\n",
       "       126.19711304, 127.11782837, 128.43034363, 128.0483551 ,\n",
       "       130.29138184, 129.37065125, 127.5488205 , 127.61737823,\n",
       "       128.38137817, 127.49005127, 128.08753967, 127.53903198,\n",
       "       128.97885132, 129.33148193, 129.22372437, 130.6831665 ,\n",
       "       127.58797455, 127.86224365, 128.66542053, 129.53717041,\n",
       "       127.92102814, 128.8319397 , 128.57727051, 125.1098938 ,\n",
       "       126.11646271, 127.93221283, 126.98485565, 126.55066681,\n",
       "       126.66908264, 127.04407501, 127.16249084, 126.88618469,\n",
       "       126.52106476, 125.27764893, 127.84340668, 129.44206238,\n",
       "       128.71179199, 129.0572052 , 127.83352661, 127.96182251,\n",
       "       128.69207764, 128.39602661, 129.91574097, 130.00454712,\n",
       "       129.81706238, 129.26443481, 127.1526413 , 126.90592957,\n",
       "       127.67564392, 128.27761841, 130.26112366, 129.46180725,\n",
       "       131.89926147, 131.40585327, 130.10324097, 127.5177536 ,\n",
       "       127.35985565, 129.59996033, 128.99798584, 131.09007263,\n",
       "       133.38937378, 134.37619019, 126.01776886, 126.33356476,\n",
       "       127.49800873, 128.188797  , 125.82041168, 126.65921783,\n",
       "       127.47827911, 127.41905975, 131.09007263, 130.30059814,\n",
       "       129.47166443, 128.51443481, 128.70195007, 129.23483276,\n",
       "       129.69862366, 131.24795532, 130.24139404, 129.61968994,\n",
       "       129.54075623, 129.23483276, 133.16241455, 133.05384827,\n",
       "       133.04397583, 134.14923096, 134.64265442, 136.25117493,\n",
       "       136.31077576, 136.30085754, 136.87718201, 136.61883545,\n",
       "       136.48965454, 136.29092407, 138.49685669, 138.67570496,\n",
       "       139.49052429, 139.60975647, 139.10299683, 140.0867157 ,\n",
       "       140.44442749, 140.48417664, 140.89157104, 142.65036011,\n",
       "       142.28271484, 144.42903137, 145.13452148, 145.51211548,\n",
       "       145.00534058, 144.9059906 , 144.82649231, 144.37934875,\n",
       "       144.94572449, 145.04508972, 143.36579895, 143.18695068,\n",
       "       144.06135559, 144.04150391, 144.46876526, 144.14085388,\n",
       "       144.77680969, 145.59161377, 146.07850647, 147.26095581,\n",
       "       148.224823  , 148.32418823, 147.31065369, 147.58886719,\n",
       "       147.38021851, 147.80747986, 148.55273438, 149.58613586,\n",
       "       149.40727234, 147.92671204, 149.21847534, 150.63943481,\n",
       "       153.01428223, 152.55718994, 150.92758179, 150.89778137,\n",
       "       151.02696228, 150.13264465, 149.13899231, 149.17874146,\n",
       "       148.19500732, 147.99627686])"
      ]
     },
     "execution_count": 3,
     "metadata": {},
     "output_type": "execute_result"
    }
   ],
   "source": [
    "close"
   ]
  },
  {
   "cell_type": "code",
   "execution_count": 4,
   "metadata": {},
   "outputs": [
    {
     "data": {
      "text/html": [
       "<div>\n",
       "<style scoped>\n",
       "    .dataframe tbody tr th:only-of-type {\n",
       "        vertical-align: middle;\n",
       "    }\n",
       "\n",
       "    .dataframe tbody tr th {\n",
       "        vertical-align: top;\n",
       "    }\n",
       "\n",
       "    .dataframe thead th {\n",
       "        text-align: right;\n",
       "    }\n",
       "</style>\n",
       "<table border=\"1\" class=\"dataframe\">\n",
       "  <thead>\n",
       "    <tr style=\"text-align: right;\">\n",
       "      <th></th>\n",
       "      <th>macd</th>\n",
       "      <th>macdsignal</th>\n",
       "      <th>macdhist</th>\n",
       "    </tr>\n",
       "  </thead>\n",
       "  <tbody>\n",
       "    <tr>\n",
       "      <th>0</th>\n",
       "      <td>0.240635</td>\n",
       "      <td>1.586709</td>\n",
       "      <td>-1.346074</td>\n",
       "    </tr>\n",
       "    <tr>\n",
       "      <th>1</th>\n",
       "      <td>0.048627</td>\n",
       "      <td>1.279093</td>\n",
       "      <td>-1.230465</td>\n",
       "    </tr>\n",
       "    <tr>\n",
       "      <th>2</th>\n",
       "      <td>-0.037959</td>\n",
       "      <td>1.015682</td>\n",
       "      <td>-1.053641</td>\n",
       "    </tr>\n",
       "    <tr>\n",
       "      <th>3</th>\n",
       "      <td>-0.091174</td>\n",
       "      <td>0.794311</td>\n",
       "      <td>-0.885485</td>\n",
       "    </tr>\n",
       "    <tr>\n",
       "      <th>4</th>\n",
       "      <td>-0.094001</td>\n",
       "      <td>0.616649</td>\n",
       "      <td>-0.710649</td>\n",
       "    </tr>\n",
       "  </tbody>\n",
       "</table>\n",
       "</div>"
      ],
      "text/plain": [
       "       macd  macdsignal  macdhist\n",
       "0  0.240635    1.586709 -1.346074\n",
       "1  0.048627    1.279093 -1.230465\n",
       "2 -0.037959    1.015682 -1.053641\n",
       "3 -0.091174    0.794311 -0.885485\n",
       "4 -0.094001    0.616649 -0.710649"
      ]
     },
     "execution_count": 4,
     "metadata": {},
     "output_type": "execute_result"
    }
   ],
   "source": [
    "macd, macdsignal, macdhist = talib.MACD(close, fastperiod=5, slowperiod=20, signalperiod=9)\n",
    "macdhist = macdhist[~np.isnan(macdhist)]\n",
    "macd = macd[-len(macdhist):]\n",
    "macdsignal = macdsignal[-len(macdhist):]\n",
    "\n",
    "\n",
    "pd.DataFrame({'macd': macd, 'macdsignal': macdsignal, 'macdhist': macdhist}).head()"
   ]
  },
  {
   "cell_type": "code",
   "execution_count": 5,
   "metadata": {},
   "outputs": [],
   "source": [
    "def prepare_dataset(close):\n",
    "    \"\"\"\n",
    "    Function prepare_dataset to generate input data and trading strategy from stock close prices\n",
    "    \"\"\"\n",
    "\n",
    "    macd, macdsignal, macdhist = talib.MACD(close, fastperiod=12, slowperiod=26, signalperiod=9)\n",
    "\n",
    "    # Cancel NaN values\n",
    "    macdhist = macdhist[~np.isnan(macdhist)]\n",
    "    macd = macd[-len(macdhist):]\n",
    "    macdsignal = macdsignal[-len(macdhist):]\n",
    "\n",
    "    # Scaling features to a range [0, 1]\n",
    "    min_max_scaler = preprocessing.MinMaxScaler(feature_range=(-1, 1))\n",
    "    macdhist_norm = min_max_scaler.fit_transform(np.expand_dims(macdhist, axis=1))\n",
    "\n",
    "    # Implement strategy\n",
    "    start_sell = 0.2\n",
    "    stop_sell = 0.05\n",
    "    start_buy = -0.2\n",
    "    stop_buy = -0.05\n",
    "\n",
    "    y = np.full(len(macdhist), np.nan)\n",
    "    y[0] = 0\n",
    "\n",
    "    for i in range(1, len(macdhist)):\n",
    "\n",
    "        if y[i-1] == 0:\n",
    "            if (macdhist_norm[i] >= start_sell):\n",
    "                # Enter sell position\n",
    "                y[i] = -1\n",
    "            elif (macdhist_norm[i] <= start_buy):\n",
    "                # Enter buy position\n",
    "                y[i] = 1\n",
    "            else:\n",
    "                y[i] = 0\n",
    "        elif y[i-1] == -1:\n",
    "            if macdhist_norm[i] > stop_sell:\n",
    "                # Stay in sell position\n",
    "                y[i] = -1\n",
    "            else:\n",
    "                # Leave sell position\n",
    "                y[i] = 0\n",
    "        else:\n",
    "            if macdhist_norm[i] < stop_buy:\n",
    "                # Stay in buy position\n",
    "                y[i] = 1\n",
    "            else:\n",
    "                # Leave buy position\n",
    "                y[i] = 0\n",
    "\n",
    "    # Plot strategy\n",
    "    dates = np.arange(len(macdhist))\n",
    "    plt.plot(dates, y,'g', label='Strategy Positions')\n",
    "    plt.bar(dates, macdhist_norm[:, 0], width=1, color='blue', label='MACD histogram')\n",
    "    plt.plot(dates, start_sell * np.ones(len(macdhist)), 'k--', lw=1)\n",
    "    plt.plot(dates, stop_sell * np.ones(len(macdhist)), 'k--', lw=1)\n",
    "    plt.plot(dates, start_buy * np.ones(len(macdhist)), 'k--', lw=1)\n",
    "    plt.plot(dates, stop_buy * np.ones(len(macdhist)), 'k--', lw=1)\n",
    "    plt.xlabel('Days')\n",
    "    plt.xlim((0, len(y)))\n",
    "    plt.legend()\n",
    "    # plt.savefig('images/AAL_macd.png', bbox_inches='tight')\n",
    "    plt.show()\n",
    "    \n",
    "    # Generate input data - technical indicators\n",
    "    ind1 = talib.MIDPOINT(close)    # Overlap: MidPoint over period\n",
    "    ind2 = talib.HT_DCPERIOD(close) # Cycle Indicator Functions:  Hilbert Transform - Dominant Cycle Period\n",
    "    ind3 = talib.MAX(close)         # Math Operator: Highest value over a specified period\n",
    "    ind4 = talib.SIN(close)         # Math Transform: Vector Trigonometric Sin\n",
    "    ind5 = talib.APO(close)         # Momentum: Absolute Price Oscillator\n",
    "    ind6 = talib.TEMA(close, timeperiod=5) ## Triple Exponential Moving Average\n",
    "\n",
    "    x = np.vstack((macdhist, macd, macdsignal, ind1[-len(macdhist):], ind2[-len(macdhist):],\n",
    "                   ind3[-len(macdhist):], ind4[-len(macdhist):], ind5[-len(macdhist):],\n",
    "                   ind6[-len(macdhist):]))\n",
    "    x = x.T\n",
    "\n",
    "    return x, y"
   ]
  },
  {
   "cell_type": "code",
   "execution_count": 6,
   "metadata": {},
   "outputs": [
    {
     "data": {
      "image/png": "[encoded data removed]",
      "text/plain": [
       "<Figure size 432x288 with 1 Axes>"
      ]
     },
     "metadata": {
      "needs_background": "light"
     },
     "output_type": "display_data"
    }
   ],
   "source": [
    "# Implement MACD trading strategy\n",
    "X, y = prepare_dataset(close)"
   ]
  },
  {
   "cell_type": "code",
   "execution_count": 7,
   "metadata": {},
   "outputs": [
    {
     "data": {
      "text/plain": [
       "array([ -0.57983334,   0.54309063,   1.12292397, 116.22341537,\n",
       "        17.21176483, 119.04823303,   0.79570586,  -0.60660714,\n",
       "       115.36801545])"
      ]
     },
     "execution_count": 7,
     "metadata": {},
     "output_type": "execute_result"
    }
   ],
   "source": [
    "X[0]"
   ]
  },
  {
   "cell_type": "code",
   "execution_count": 8,
   "metadata": {},
   "outputs": [],
   "source": [
    "# Split dataset\n",
    "n_train = int(X.shape[0] * 0.8)\n",
    "\n",
    "X_train, y_train = X[:n_train], y[:n_train]\n",
    "X_test, y_test = X[n_train:], y[n_train:]"
   ]
  },
  {
   "cell_type": "code",
   "execution_count": 9,
   "metadata": {},
   "outputs": [],
   "source": [
    "# Normalize data\n",
    "scaler = preprocessing.MinMaxScaler()\n",
    "\n",
    "X_train = scaler.fit_transform(X_train)\n",
    "X_test = scaler.transform(X_test)"
   ]
  },
  {
   "cell_type": "code",
   "execution_count": 10,
   "metadata": {},
   "outputs": [
    {
     "name": "stdout",
     "output_type": "stream",
     "text": [
      "[-1.  0.  1.]\n"
     ]
    }
   ],
   "source": [
    "# Encode trading signal with integers between 0 and n-1 classes\n",
    "le = preprocessing.LabelEncoder()\n",
    "le = le.fit([-1.0,0,1.0])\n",
    "\n",
    "y_train = le.fit_transform(y_train)\n",
    "y_test = le.transform(y_test)\n",
    "\n",
    "print(le.classes_)"
   ]
  },
  {
   "cell_type": "code",
   "execution_count": 11,
   "metadata": {},
   "outputs": [],
   "source": [
    "## Create and train the Agent\n",
    "# Variable definiton\n",
    "episodes = 20\n",
    "look_back = 5\n",
    "batch_size = 32\n",
    "action_size = len(le.classes_)\n",
    "n_features = X_train.shape[1]"
   ]
  },
  {
   "cell_type": "code",
   "execution_count": 12,
   "metadata": {},
   "outputs": [],
   "source": [
    "# Create Agent\n",
    "agent = Agent(look_back, action_size, n_features)"
   ]
  },
  {
   "cell_type": "code",
   "execution_count": 13,
   "metadata": {},
   "outputs": [],
   "source": [
    "def run(agent, dataX, dataY, episodes, look_back):\n",
    "    \"\"\"\n",
    "    Function run to train the agent\n",
    "    \"\"\"\n",
    "    \n",
    "    # Length of dataset\n",
    "    times = len(dataX)\n",
    "\n",
    "    # List of total rewards\n",
    "    total_reward_list = []\n",
    "\n",
    "    for ep in range(episodes):\n",
    "\n",
    "        # print('Episode: ' + str(ep))\n",
    "        \n",
    "        # Initial state and position\n",
    "        state = dataX[:look_back, :][np.newaxis, :, :]\n",
    "        pos = dataY[look_back - 1]\n",
    "\n",
    "        done = False\n",
    "        total_reward = 0\n",
    "\n",
    "        for t in range(1, times - look_back + 1):\n",
    "\n",
    "            # Predict action based on the current state\n",
    "            action = agent.act(state)\n",
    "\n",
    "            # Calculate reward\n",
    "            if action == pos:   # 0:-1      1:0     2:1\n",
    "                reward = +1\n",
    "\n",
    "            elif (pos == 0 or pos == 2):\n",
    "                if action == 1:\n",
    "                    reward = 0\n",
    "                else:\n",
    "                    reward = -1\n",
    "            else:\n",
    "                reward = -1\n",
    "\n",
    "            total_reward += reward\n",
    "\n",
    "            # Final state\n",
    "            if t == times - look_back:\n",
    "                done = True\n",
    "\n",
    "            # Receive next state and position\n",
    "            next_state = dataX[t:t + look_back, :][np.newaxis, :, :]\n",
    "            next_pos = dataY[t + look_back - 1]\n",
    "            \n",
    "            # Remember current experience\n",
    "            agent.remember(state, action, reward, next_state, done)\n",
    "            \n",
    "            # Make next_state the new current state; the same for pos\n",
    "            state = next_state\n",
    "            pos = next_pos\n",
    "\n",
    "            if done:\n",
    "                print('Episode: %i ---> Total Reward: %i' %(ep, total_reward))\n",
    "                total_reward_list.append(total_reward)\n",
    "\n",
    "            # Train the agent with previous experiences\n",
    "            if len(agent.memory) > batch_size:\n",
    "                agent.replay(batch_size)\n",
    "\n",
    "        if (ep + 1) % 5 == 0 and ep > 0:\n",
    "            file = 'checkpoints/' + symbol + '_robot_checkpoint' + str(ep + 1)\n",
    "            # Serialize weights to HDF5\n",
    "            agent.model.save_weights(file + \".h5\")\n",
    "            # Save epsilon\n",
    "            pickle.dump(agent.epsilon, open(file + \"_epsilon.pickle\", \"wb\"))\n",
    "\n",
    "    # Save list of rewards along the epochs\n",
    "    np.savetxt(file + '_total_reward.txt', total_reward_list)\n",
    "\n",
    "    return\n"
   ]
  },
  {
   "cell_type": "code",
   "execution_count": 14,
   "metadata": {},
   "outputs": [
    {
     "name": "stdout",
     "output_type": "stream",
     "text": [
      "Episode: 0 ---> Total Reward: 299\n",
      "Episode: 1 ---> Total Reward: 464\n",
      "Episode: 2 ---> Total Reward: 458\n",
      "Episode: 3 ---> Total Reward: 444\n",
      "Episode: 4 ---> Total Reward: 443\n",
      "Episode: 5 ---> Total Reward: 447\n",
      "Episode: 6 ---> Total Reward: 443\n",
      "Episode: 7 ---> Total Reward: 442\n",
      "Episode: 8 ---> Total Reward: 427\n",
      "Episode: 9 ---> Total Reward: 452\n",
      "Episode: 10 ---> Total Reward: 453\n",
      "Episode: 11 ---> Total Reward: 451\n",
      "Episode: 12 ---> Total Reward: 463\n",
      "Episode: 13 ---> Total Reward: 454\n",
      "Episode: 14 ---> Total Reward: 477\n",
      "Episode: 15 ---> Total Reward: 482\n",
      "Episode: 16 ---> Total Reward: 479\n",
      "Episode: 17 ---> Total Reward: 474\n",
      "Episode: 18 ---> Total Reward: 491\n",
      "Episode: 19 ---> Total Reward: 487\n"
     ]
    }
   ],
   "source": [
    "# Train Agent\n",
    "run(agent, X_train, y_train, episodes, look_back)"
   ]
  },
  {
   "cell_type": "code",
   "execution_count": 15,
   "metadata": {},
   "outputs": [
    {
     "data": {
      "image/png": "[encoded data removed]",
      "text/plain": [
       "<Figure size 432x288 with 1 Axes>"
      ]
     },
     "metadata": {
      "needs_background": "light"
     },
     "output_type": "display_data"
    }
   ],
   "source": [
    "# Load rewards\n",
    "total_reward_list = np.loadtxt( 'checkpoints/'+ symbol + '_robot_checkpoint' + str(episodes) + '_total_reward.txt')\n",
    "# Plot\n",
    "plt.figure()\n",
    "plt.plot(np.arange(1, episodes+1), total_reward_list)\n",
    "plt.xlabel('Episodes')\n",
    "plt.ylabel('Total Reward')\n",
    "plt.show()"
   ]
  },
  {
   "cell_type": "code",
   "execution_count": 16,
   "metadata": {},
   "outputs": [
    {
     "data": {
      "text/plain": [
       "array([299., 464., 458., 444., 443., 447., 443., 442., 427., 452., 453.,\n",
       "       451., 463., 454., 477., 482., 479., 474., 491., 487.])"
      ]
     },
     "execution_count": 16,
     "metadata": {},
     "output_type": "execute_result"
    }
   ],
   "source": [
    "total_reward_list"
   ]
  },
  {
   "cell_type": "code",
   "execution_count": 17,
   "metadata": {},
   "outputs": [],
   "source": [
    "def evaluate(agent, dataX, dataY, look_back):\n",
    "    \"\"\"\n",
    "    Function run to evaluate the trained agent\n",
    "    \"\"\"\n",
    "    \n",
    "    # Length of dataset\n",
    "    times = len(dataX)\n",
    "\n",
    "    # Initial state and position\n",
    "    state = dataX[:look_back, :][np.newaxis, :, :]\n",
    "    pos = dataY[look_back - 1]\n",
    "\n",
    "    # List of predicted positions\n",
    "    pos_list = []\n",
    "    \n",
    "    done = False\n",
    "    total_reward = 0\n",
    "    \n",
    "    for t in range(1, times - look_back + 1):\n",
    "\n",
    "        # Predict action based on the current state\n",
    "        action = agent.act(state)\n",
    "\n",
    "        # Calculate reward\n",
    "        if action == pos:   # 0:-1      1:0     2:1\n",
    "            reward = +1\n",
    "\n",
    "        elif (pos == 0 or pos == 2):\n",
    "            if action == 1:\n",
    "                reward = 0\n",
    "            else:\n",
    "                reward = -1\n",
    "        else:\n",
    "            reward = -1\n",
    "\n",
    "        pos_list.append(action)\n",
    "        total_reward += reward\n",
    "\n",
    "        # Final state\n",
    "        if t == times - look_back:\n",
    "            done = True\n",
    "\n",
    "        # Receive next state and position\n",
    "        next_state = dataX[t:t + look_back, :][np.newaxis, :, :]\n",
    "        next_pos = dataY[t + look_back - 1]\n",
    "\n",
    "        # Remember current experience\n",
    "        agent.remember(state, action, reward, next_state, done)\n",
    "\n",
    "        # Make next_state the new current state; the same for pos\n",
    "        state = next_state\n",
    "        pos = next_pos\n",
    "\n",
    "        if done:\n",
    "            print('Total Reward: %i' % total_reward)\n",
    "\n",
    "    return np.array(pos_list)"
   ]
  },
  {
   "cell_type": "code",
   "execution_count": 18,
   "metadata": {},
   "outputs": [
    {
     "name": "stdout",
     "output_type": "stream",
     "text": [
      "Total Reward: 131\n",
      "Accuracy: 94.29 %\n"
     ]
    }
   ],
   "source": [
    "# Evaluate the model\n",
    "# Make predictions\n",
    "y_pred_test = evaluate(agent, X_test, y_test, look_back)\n",
    "\n",
    "# Calculate and print accuracy\n",
    "acc = accuracy_score(y_test[look_back-1:-1], y_pred_test)\n",
    "\n",
    "print('Accuracy: %.2f %%' % (acc*100))"
   ]
  },
  {
   "cell_type": "code",
   "execution_count": 19,
   "metadata": {},
   "outputs": [
    {
     "name": "stdout",
     "output_type": "stream",
     "text": [
      "      1-Precision  2-Recall  3-F1 score  4-Support\n",
      "-1.0          1.0     0.943       0.971        140\n",
      " 0.0          0.0     0.000       0.000          0\n",
      " 1.0          0.0     0.000       0.000          0\n"
     ]
    },
    {
     "name": "stderr",
     "output_type": "stream",
     "text": [
      "C:\\Users\\Elid-PC.DESKTOP-MG9DS93\\anaconda3\\lib\\site-packages\\sklearn\\metrics\\_classification.py:1272: UndefinedMetricWarning: Recall and F-score are ill-defined and being set to 0.0 in labels with no true samples. Use `zero_division` parameter to control this behavior.\n",
      "  _warn_prf(average, modifier, msg_start, len(result))\n"
     ]
    }
   ],
   "source": [
    "# Calculate and print precision, recall, f1 score and support\n",
    "p, r, f1, s = precision_recall_fscore_support(y_test[look_back-1:-1], y_pred_test, average=None)\n",
    "results = pd.DataFrame({'1-Precision': p, '2-Recall': r, '3-F1 score': f1, '4-Support': s}, index=le.classes_)\n",
    "\n",
    "print(results.round(decimals=3))"
   ]
  },
  {
   "cell_type": "code",
   "execution_count": 20,
   "metadata": {},
   "outputs": [],
   "source": [
    "# Decodificate labels\n",
    "y_true_test = le.inverse_transform(y_test[look_back-1:-1])\n",
    "y_pred_test = le.inverse_transform(y_pred_test)"
   ]
  },
  {
   "cell_type": "code",
   "execution_count": 21,
   "metadata": {},
   "outputs": [
    {
     "data": {
      "image/png": "[encoded data removed]",
      "text/plain": [
       "<Figure size 432x288 with 1 Axes>"
      ]
     },
     "metadata": {
      "needs_background": "light"
     },
     "output_type": "display_data"
    }
   ],
   "source": [
    "# Plot strategy\n",
    "plt.figure()\n",
    "plt.plot(y_true_test, label='true')\n",
    "plt.plot(y_pred_test, label='pred')\n",
    "plt.legend()\n",
    "plt.show()"
   ]
  },
  {
   "cell_type": "code",
   "execution_count": null,
   "metadata": {},
   "outputs": [],
   "source": []
  }
 ],
 "metadata": {
  "kernelspec": {
   "display_name": "Python 3",
   "language": "python",
   "name": "python3"
  },
  "language_info": {
   "codemirror_mode": {
    "name": "ipython",
    "version": 3
   },
   "file_extension": ".py",
   "mimetype": "text/x-python",
   "name": "python",
   "nbconvert_exporter": "python",
   "pygments_lexer": "ipython3",
   "version": "3.7.6"
  }
 },
 "nbformat": 4,
 "nbformat_minor": 2
}
