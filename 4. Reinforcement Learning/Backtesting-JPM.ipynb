{
 "cells": [
  {
   "cell_type": "code",
   "execution_count": 1,
   "metadata": {
    "scrolled": true
   },
   "outputs": [
    {
     "name": "stderr",
     "output_type": "stream",
     "text": [
      "C:\\Users\\Elid-PC.DESKTOP-MG9DS93\\anaconda3\\lib\\site-packages\\pandas_datareader\\compat\\__init__.py:7: FutureWarning: pandas.util.testing is deprecated. Use the functions in the public API at pandas.testing instead.\n",
      "  from pandas.util.testing import assert_frame_equal\n"
     ]
    },
    {
     "data": {
      "application/javascript": [
       "\n",
       "console.log('Starting front end url_querystring_target comm target');\n",
       "const comm = Jupyter.notebook.kernel.comm_manager.new_comm('url_querystring_target', {'init': 1});\n",
       "comm.send({'ipyparams_browser_url': window.location.href});\n",
       "console.log('Sent window.location.href on url_querystring_target comm target');\n",
       "\n",
       "comm.on_msg(function(msg) {\n",
       "    console.log(msg.content.data);\n",
       "});\n"
      ],
      "text/plain": [
       "<IPython.core.display.Javascript object>"
      ]
     },
     "metadata": {},
     "output_type": "display_data"
    },
    {
     "name": "stderr",
     "output_type": "stream",
     "text": [
      "Using TensorFlow backend.\n"
     ]
    }
   ],
   "source": [
    "# Import libraries\n",
    "import pandas as pd\n",
    "from pandas_datareader import data as pdr\n",
    "\n",
    "import numpy as np\n",
    "import matplotlib.pyplot as plt\n",
    "import pickle\n",
    "\n",
    "from sklearn import preprocessing\n",
    "from sklearn.metrics import accuracy_score\n",
    "from sklearn.metrics import precision_recall_fscore_support\n",
    "\n",
    "import talib, re, ipyparams\n",
    "\n",
    "from Agent import Agent"
   ]
  },
  {
   "cell_type": "code",
   "execution_count": 2,
   "metadata": {},
   "outputs": [
    {
     "data": {
      "text/plain": [
       "754"
      ]
     },
     "execution_count": 2,
     "metadata": {},
     "output_type": "execute_result"
    }
   ],
   "source": [
    "end_date = '2020-02-19'\n",
    "start_date = '2017-02-20'\n",
    "\n",
    "symbol = 'JPM'\n",
    "Date = pd.DataFrame(pdr.DataReader(symbol,'yahoo', start_date, end_date))\n",
    "\n",
    "alldata = pd.DataFrame({'Date': Date.index})\n",
    "alldata[symbol] = pdr.DataReader(symbol, 'yahoo', start_date, end_date)['Adj Close'].values\n",
    "# Stock symbol\n",
    "\n",
    "# Load close prices of to NumPy array\n",
    "close = alldata[symbol].values\n",
    "len(close)"
   ]
  },
  {
   "cell_type": "code",
   "execution_count": 3,
   "metadata": {},
   "outputs": [
    {
     "data": {
      "text/plain": [
       "array([ 82.93436432,  82.97990417,  83.04372406,  82.31471252,\n",
       "        82.40583038,  82.57896423,  85.29453278,  83.96409607,\n",
       "        84.56551361,  83.76360321,  83.2988739 ,  83.11660004,\n",
       "        83.44467926,  83.18039703,  83.2532959 ,  83.38998413,\n",
       "        83.59046936,  83.50846863,  82.6336441 ,  82.04131317,\n",
       "        79.6355896 ,  79.76316071,  79.6355896 ,  79.54444885,\n",
       "        79.49888611,  80.73820496,  80.43747711,  81.13005829,\n",
       "        80.0456543 ,  79.75404358,  80.0198288 ,  79.44832611,\n",
       "        79.71564484,  79.43909454,  79.16255188,  79.02429962,\n",
       "        78.72011566,  77.79834747,  79.14412689,  78.49889374,\n",
       "        77.85363007,  78.85838318,  77.90894318,  80.65585327,\n",
       "        81.35641479,  81.51311493,  80.75724792,  80.19495392,\n",
       "        80.25027466,  79.73406219,  80.19495392,  80.28713226,\n",
       "        80.19495392,  80.28713226,  79.96450806,  80.59132385,\n",
       "        80.34243774,  80.12121582,  80.50835419,  80.75724792,\n",
       "        77.67847443,  77.3927536 ,  78.14859772,  78.07485199,\n",
       "        79.05195618,  79.00588226,  78.67401123,  78.68322754,\n",
       "        77.33744049,  75.72431946,  76.56314087,  76.17597961,\n",
       "        76.31427002,  76.47097778,  77.3466568 ,  78.30529785,\n",
       "        80.15808868,  80.17653656,  80.44384766,  80.27791595,\n",
       "        79.79857635,  79.43909454,  81.18127441,  80.67428589,\n",
       "        80.30558777,  80.21340179,  80.06591797,  80.41617584,\n",
       "        81.1628418 ,  82.79438782,  84.02035522,  84.25080109,\n",
       "        85.96547699,  86.82744598,  86.5493927 ,  86.98501587,\n",
       "        86.37329865,  86.03961945,  85.74303436,  86.28987885,\n",
       "        85.50203705,  84.70495605,  84.40836334,  84.52885437,\n",
       "        84.52885437,  84.24151611,  84.60299683,  86.0118103 ,\n",
       "        85.20545959,  84.85325623,  84.60299683,  85.08496857,\n",
       "        86.22499847,  86.29915619,  85.73376465,  86.80891418,\n",
       "        87.14256287,  86.82744598,  86.68841553,  85.44643402,\n",
       "        84.73277283,  85.72449493,  85.94694519,  85.35374451,\n",
       "        84.01909637,  84.10250092,  84.00054932,  84.86251068,\n",
       "        84.96447754,  84.82543945,  85.16837311,  84.89958954,\n",
       "        84.43616486,  84.6308136 ,  84.24151611,  84.99226379,\n",
       "        82.96247864,  83.51859283,  82.05416107,  81.95220947,\n",
       "        83.22199249,  84.24151611,  84.48251343,  84.31567383,\n",
       "        84.91812134,  86.12303925,  87.06842041,  87.68014526,\n",
       "        88.07868958,  87.89332581,  87.23526764,  86.84598541,\n",
       "        88.21772003,  88.40310669,  88.52358246,  89.75630188,\n",
       "        90.22899628,  89.311409  ,  90.51403046,  90.35554504,\n",
       "        89.88008881,  90.55132294,  90.28096771,  89.48854065,\n",
       "        89.36734009,  91.21324158,  91.00814056,  91.35305786,\n",
       "        91.46495056,  92.77012634,  92.6116333 ,  94.08461761,\n",
       "        94.17784882,  94.84907532,  94.87705231,  94.54144287,\n",
       "        93.79563141,  94.08461761,  94.70924377,  94.54144287,\n",
       "        93.95409393,  92.06160736,  91.0267868 ,  91.01744843,\n",
       "        90.90559387,  91.23188782,  90.68183899,  91.53953552,\n",
       "        91.80057526,  91.49292755,  92.30399323,  92.22940826,\n",
       "        91.95903778,  91.66072083,  91.2971344 ,  94.49482727,\n",
       "        96.70430756,  97.44078827,  97.69249725,  99.7062149 ,\n",
       "        98.55952454,  97.82302094,  97.53403473,  98.7552948 ,\n",
       "        98.46630859,  99.6129837 ,  98.36375427,  97.57131195,\n",
       "        98.95107269,  99.71552277,  99.29601288,  98.95107269,\n",
       "       100.52661133, 100.17234039,  99.77146149,  99.95790863,\n",
       "       100.48931122,  99.69689178, 100.63847351, 100.74102783,\n",
       "       102.18421173, 101.52822876, 101.67814636, 102.19358063,\n",
       "       103.31812286, 103.87101746, 105.58596039, 105.21112823,\n",
       "       105.88585663, 106.13887787, 105.90458679, 107.14160156,\n",
       "       107.02914429, 108.39735413, 108.42545319, 109.00649261,\n",
       "       108.89402771, 107.87255096, 108.39735413, 109.52191162,\n",
       "       107.09474182, 101.95928192, 105.06118011, 105.77339172,\n",
       "       101.09712982, 103.12133026, 104.71443939, 105.36106873,\n",
       "       107.79756927, 108.24741364, 107.46958923, 107.49771118,\n",
       "       107.94753265, 107.75073242, 109.93422699, 111.30244446,\n",
       "       109.98109436, 108.23803711, 106.29819489, 106.19510651,\n",
       "       107.82569122, 107.91941071, 107.51644897, 107.5258255 ,\n",
       "       110.61833191, 110.26222229, 108.94087982, 107.72261047,\n",
       "       107.99437714, 108.18180847, 107.32902527, 107.43210602,\n",
       "       107.5258255 , 103.03697968, 100.28183746, 103.3743515 ,\n",
       "       101.36889648, 101.20959473, 103.05574036, 101.06902313,\n",
       "       102.45597839, 104.01159668, 105.37731934, 102.74947357,\n",
       "       103.9833374 , 105.97070312, 104.19055176, 106.78072357,\n",
       "       103.88915253, 103.80438232, 103.80438232, 102.96611023,\n",
       "       105.22662354, 104.99115753, 104.48252869, 103.9927597 ,\n",
       "       103.59716797, 103.70078278, 103.04146576, 102.45748901,\n",
       "       102.45748901, 101.64748383, 101.00700378, 102.12783813,\n",
       "       103.01320648, 104.53903961, 106.81840515, 107.64724731,\n",
       "       107.24224091, 107.27992249, 106.46047211, 106.75244904,\n",
       "       106.39455414, 104.6709137 , 105.63162231, 106.44164276,\n",
       "       105.95185852, 104.7651062 , 104.22823334,  99.77313995,\n",
       "       102.05249023, 100.79037476, 102.09958649, 102.14666748,\n",
       "       101.5721283 , 103.94567108, 104.36009216, 104.65208435,\n",
       "       104.38835144, 103.78556061, 103.57833862, 101.75108337,\n",
       "       101.62864685, 101.89237213, 101.29898834, 101.28955841,\n",
       "       101.26131439,  99.60360718,  98.69940186,  98.76533508,\n",
       "        97.23949432,  98.83126831,  98.14368439,  98.97254181,\n",
       "        97.58798218,  98.22247314,  98.54445648, 101.59378052,\n",
       "       100.96876526, 100.7509613 , 101.18656158, 100.72254944,\n",
       "       104.7188797 , 104.64311981, 105.61851501, 104.06545258,\n",
       "       105.38175964, 107.34205627, 108.09964752, 109.07506561,\n",
       "       108.76255035, 109.88000488, 110.54290009, 108.85723877,\n",
       "       109.52960968, 109.99363708, 110.88381958, 110.91223907,\n",
       "       111.31943512, 111.54673004, 110.68493652, 109.59590912,\n",
       "       107.85342407, 108.57315826, 107.67350006, 108.68678284,\n",
       "       108.68678284, 108.54473877, 109.20763397, 108.87619019,\n",
       "       108.64890289, 108.60155487, 110.52394867, 109.98416901,\n",
       "       109.62431335, 109.08452606, 108.50685883, 109.04664612,\n",
       "       108.5163269 , 108.05230713, 108.26064301, 107.68296814,\n",
       "       108.36481476, 107.08637238, 107.5030365 , 107.48410034,\n",
       "       107.80607605, 108.24169922, 111.38573456, 112.3421936 ,\n",
       "       111.60353088, 110.53341675, 110.22091675, 108.92353058,\n",
       "       108.45002747, 106.85907745, 107.48410034, 107.92918396,\n",
       "       108.94248199, 109.92470551, 109.30484772, 109.97239685,\n",
       "       109.20948792, 106.30092621, 103.11580658, 101.99051666,\n",
       "       101.40880585, 103.58307648, 104.73697662, 103.07765198,\n",
       "       102.90601349, 101.42788696, 100.36935425,  98.50024414,\n",
       "        99.99744415,  98.6242218 ,  99.98789978, 101.75211334,\n",
       "       103.96453094, 103.9263916 , 103.3542099 , 104.03128815,\n",
       "       104.51763153, 106.31045532, 107.16872406, 106.12927246,\n",
       "       103.89778137, 104.50808716, 102.35290527, 104.9658432 ,\n",
       "       104.88954926, 105.69059753, 103.42095947, 102.64852905,\n",
       "       101.70444489, 104.19341278, 104.63207245, 105.79549408,\n",
       "       104.95630646, 106.03391266, 107.03520966, 102.25753784,\n",
       "       100.31214142,  98.50024414,  96.65975189,  95.71565247,\n",
       "        96.33550262,  96.43087769,  95.63935852,  94.41872406,\n",
       "        93.97050476,  92.7784729 ,  91.97742462,  89.80315399,\n",
       "        87.86729431,  91.51013947,  92.54006958,  92.3398056 ,\n",
       "        93.0931778 ,  94.70480347,  93.35887909,  96.80060577,\n",
       "        96.8678894 ,  96.68523407,  96.52180481,  96.51218414,\n",
       "        96.05072784,  97.04093933,  97.75235748,  98.54067993,\n",
       "        98.94445038, 100.54994965,  98.96367645,  98.71372986,\n",
       "        98.77140045,  99.39629364,  99.86737823, 100.14616394,\n",
       "       100.37690735,  99.50205231,  99.86737823, 100.22307587,\n",
       "        99.78085327,  99.73278046,  98.42531586,  97.44471741,\n",
       "        96.98326111,  98.63681793,  99.10788727,  98.46376801,\n",
       "       101.47286224, 101.11715698, 101.60746002, 101.39595032,\n",
       "       100.94410706, 102.00161743, 101.22290802, 101.09793091,\n",
       "       100.32883453, 100.39613342, 100.16539764, 100.08847809,\n",
       "        99.71355438,  98.99252319,  99.03098297, 100.3192215 ,\n",
       "       100.02119446, 100.35767365, 101.27097321, 102.43423462,\n",
       "       103.04951477, 102.67458344, 100.48265076,  98.89639282,\n",
       "        95.9065094 ,  95.10857391,  96.06034088,  95.73347473,\n",
       "        96.81982422,  97.3197403 , 100.59801483, 101.07870483,\n",
       "       101.28059387, 102.25900269, 102.01683044, 102.34620667,\n",
       "       101.5905838 , 102.04588318, 102.9080658 , 107.73232269,\n",
       "       106.50204468, 107.62576294, 110.72570801, 109.91197205,\n",
       "       110.04759216, 110.18321228, 109.99915314, 110.05727386,\n",
       "       110.89038086, 112.48878479, 112.42098236, 111.55880737,\n",
       "       111.80099487, 112.48878479, 111.49099731, 109.66978455,\n",
       "       109.08854675, 109.00135803, 108.99167633, 106.02736664,\n",
       "       106.87016296, 106.46329498, 107.82920074, 107.30608368,\n",
       "       107.86795044, 108.23606873, 107.35452271, 105.24269867,\n",
       "       106.27923584, 105.12644196, 104.83583069, 103.7121048 ,\n",
       "       102.64650726, 103.130867  , 106.30828857, 106.68609619,\n",
       "       106.91860199, 105.74643707, 106.88952637, 107.21890259,\n",
       "       105.8529892 , 106.11454773, 106.38578796, 105.80456543,\n",
       "       107.24796295, 106.47298431, 106.74423218, 106.01767731,\n",
       "       105.2620697 , 104.39022064, 105.08769989, 105.43643951,\n",
       "       108.30387878, 110.12508392, 110.24134064, 110.06573486,\n",
       "       110.71937561, 110.11450958, 110.58279419, 110.260849  ,\n",
       "       111.31448364, 112.48518372, 111.11936188, 112.30958557,\n",
       "       111.20716858, 111.87055969, 110.76815796, 111.48033142,\n",
       "       113.51930237, 113.97783661, 112.88517761, 113.38272858,\n",
       "       113.02176666, 112.76810455, 113.16809845, 110.18280792,\n",
       "       110.17304993, 106.89507294, 107.73407745, 105.39266968,\n",
       "       107.1780014 , 107.06091309, 105.05121613, 106.67068481,\n",
       "       102.24152374, 102.63175201, 105.09024048, 106.03656006,\n",
       "       104.69024658, 104.98291779, 106.06582642, 103.43173218,\n",
       "       104.26099396, 103.15856934, 104.19269562, 106.55361938,\n",
       "       107.1780014 , 105.909729  , 107.18774414, 109.62671661,\n",
       "       109.8608551 , 112.58274841, 114.01686096, 114.32904816,\n",
       "       115.03147125, 117.29483032, 116.25095367, 115.675354  ,\n",
       "       116.83630371, 116.46557617, 115.99729919, 115.9777832 ,\n",
       "       114.46562958, 115.11927032, 114.17295074, 114.84610748,\n",
       "       114.81684113, 112.7290802 , 110.48522949, 110.32789612,\n",
       "       112.71755981, 112.47171021, 109.9640274 , 110.76058197,\n",
       "       112.31436157, 114.21232605, 114.5171814 , 117.96892548,\n",
       "       117.693573  , 118.35244751, 118.55896759, 121.49934387,\n",
       "       122.71875763, 123.04328156, 122.95477295, 123.93817139,\n",
       "       124.41020966, 124.33154297, 123.64315796, 122.84659576,\n",
       "       125.67880249, 126.68186951, 126.95722198, 127.15390778,\n",
       "       127.84228516, 128.2159729 , 127.76360321, 127.01622772,\n",
       "       126.34751129, 126.46552277, 127.38007355, 128.45199585,\n",
       "       128.41264343, 127.4784317 , 127.7734375 , 128.61917114,\n",
       "       129.30755615, 129.48455811, 129.86808777, 129.57305908,\n",
       "       129.28787231, 127.62593079, 130.14344788, 130.85150146,\n",
       "       132.79862976, 132.17907715, 132.26759338, 131.95289612,\n",
       "       135.72917175, 134.53924561, 135.06044006, 135.88650513,\n",
       "       135.74882507, 135.07029724, 134.96211243, 134.92277527,\n",
       "       135.29647827, 136.73223877, 136.83058167, 136.32904053,\n",
       "       137.08625793, 138.74821472, 136.91723633, 136.80836487,\n",
       "       134.48254395, 135.53163147, 136.02648926, 134.67059326,\n",
       "       135.78895569, 137.37251282, 135.31390381, 135.83843994,\n",
       "       136.77867126, 135.43266296, 135.27430725, 135.13574219,\n",
       "       131.78060913, 130.6721344 , 133.04743958, 132.84950256,\n",
       "       134.49243164, 130.99873352, 131.99835205, 133.89859009,\n",
       "       136.17494202, 136.19474792, 135.75926208, 136.32341003,\n",
       "       136.58073425, 136.58073425, 136.4619751 , 136.04629517,\n",
       "       134.24501038, 136.07598877])"
      ]
     },
     "execution_count": 3,
     "metadata": {},
     "output_type": "execute_result"
    }
   ],
   "source": [
    "close"
   ]
  },
  {
   "cell_type": "code",
   "execution_count": 4,
   "metadata": {},
   "outputs": [
    {
     "data": {
      "text/html": [
       "<div>\n",
       "<style scoped>\n",
       "    .dataframe tbody tr th:only-of-type {\n",
       "        vertical-align: middle;\n",
       "    }\n",
       "\n",
       "    .dataframe tbody tr th {\n",
       "        vertical-align: top;\n",
       "    }\n",
       "\n",
       "    .dataframe thead th {\n",
       "        text-align: right;\n",
       "    }\n",
       "</style>\n",
       "<table border=\"1\" class=\"dataframe\">\n",
       "  <thead>\n",
       "    <tr style=\"text-align: right;\">\n",
       "      <th></th>\n",
       "      <th>macd</th>\n",
       "      <th>macdsignal</th>\n",
       "      <th>macdhist</th>\n",
       "    </tr>\n",
       "  </thead>\n",
       "  <tbody>\n",
       "    <tr>\n",
       "      <th>0</th>\n",
       "      <td>-0.961884</td>\n",
       "      <td>-1.289695</td>\n",
       "      <td>0.327811</td>\n",
       "    </tr>\n",
       "    <tr>\n",
       "      <th>1</th>\n",
       "      <td>-1.000377</td>\n",
       "      <td>-1.231831</td>\n",
       "      <td>0.231455</td>\n",
       "    </tr>\n",
       "    <tr>\n",
       "      <th>2</th>\n",
       "      <td>-1.061268</td>\n",
       "      <td>-1.197719</td>\n",
       "      <td>0.136451</td>\n",
       "    </tr>\n",
       "    <tr>\n",
       "      <th>3</th>\n",
       "      <td>-1.001022</td>\n",
       "      <td>-1.158379</td>\n",
       "      <td>0.157357</td>\n",
       "    </tr>\n",
       "    <tr>\n",
       "      <th>4</th>\n",
       "      <td>-1.068977</td>\n",
       "      <td>-1.140499</td>\n",
       "      <td>0.071522</td>\n",
       "    </tr>\n",
       "  </tbody>\n",
       "</table>\n",
       "</div>"
      ],
      "text/plain": [
       "       macd  macdsignal  macdhist\n",
       "0 -0.961884   -1.289695  0.327811\n",
       "1 -1.000377   -1.231831  0.231455\n",
       "2 -1.061268   -1.197719  0.136451\n",
       "3 -1.001022   -1.158379  0.157357\n",
       "4 -1.068977   -1.140499  0.071522"
      ]
     },
     "execution_count": 4,
     "metadata": {},
     "output_type": "execute_result"
    }
   ],
   "source": [
    "macd, macdsignal, macdhist = talib.MACD(close, fastperiod=5, slowperiod=20, signalperiod=9)\n",
    "macdhist = macdhist[~np.isnan(macdhist)]\n",
    "macd = macd[-len(macdhist):]\n",
    "macdsignal = macdsignal[-len(macdhist):]\n",
    "\n",
    "\n",
    "pd.DataFrame({'macd': macd, 'macdsignal': macdsignal, 'macdhist': macdhist}).head()"
   ]
  },
  {
   "cell_type": "code",
   "execution_count": 5,
   "metadata": {},
   "outputs": [],
   "source": [
    "def prepare_dataset(close):\n",
    "    \"\"\"\n",
    "    Function prepare_dataset to generate input data and trading strategy from stock close prices\n",
    "    \"\"\"\n",
    "\n",
    "    macd, macdsignal, macdhist = talib.MACD(close, fastperiod=12, slowperiod=26, signalperiod=9)\n",
    "\n",
    "    # Cancel NaN values\n",
    "    macdhist = macdhist[~np.isnan(macdhist)]\n",
    "    macd = macd[-len(macdhist):]\n",
    "    macdsignal = macdsignal[-len(macdhist):]\n",
    "\n",
    "    # Scaling features to a range [0, 1]\n",
    "    min_max_scaler = preprocessing.MinMaxScaler(feature_range=(-1, 1))\n",
    "    macdhist_norm = min_max_scaler.fit_transform(np.expand_dims(macdhist, axis=1))\n",
    "\n",
    "    # Implement strategy\n",
    "    start_sell = 0.2\n",
    "    stop_sell = 0.05\n",
    "    start_buy = -0.2\n",
    "    stop_buy = -0.05\n",
    "\n",
    "    y = np.full(len(macdhist), np.nan)\n",
    "    y[0] = 0\n",
    "\n",
    "    for i in range(1, len(macdhist)):\n",
    "\n",
    "        if y[i-1] == 0:\n",
    "            if (macdhist_norm[i] >= start_sell):\n",
    "                # Enter sell position\n",
    "                y[i] = -1\n",
    "            elif (macdhist_norm[i] <= start_buy):\n",
    "                # Enter buy position\n",
    "                y[i] = 1\n",
    "            else:\n",
    "                y[i] = 0\n",
    "        elif y[i-1] == -1:\n",
    "            if macdhist_norm[i] > stop_sell:\n",
    "                # Stay in sell position\n",
    "                y[i] = -1\n",
    "            else:\n",
    "                # Leave sell position\n",
    "                y[i] = 0\n",
    "        else:\n",
    "            if macdhist_norm[i] < stop_buy:\n",
    "                # Stay in buy position\n",
    "                y[i] = 1\n",
    "            else:\n",
    "                # Leave buy position\n",
    "                y[i] = 0\n",
    "\n",
    "    # Plot strategy\n",
    "    dates = np.arange(len(macdhist))\n",
    "    plt.plot(dates, y,'g', label='Strategy Positions')\n",
    "    plt.bar(dates, macdhist_norm[:, 0], width=1, color='blue', label='MACD histogram')\n",
    "    plt.plot(dates, start_sell * np.ones(len(macdhist)), 'k--', lw=1)\n",
    "    plt.plot(dates, stop_sell * np.ones(len(macdhist)), 'k--', lw=1)\n",
    "    plt.plot(dates, start_buy * np.ones(len(macdhist)), 'k--', lw=1)\n",
    "    plt.plot(dates, stop_buy * np.ones(len(macdhist)), 'k--', lw=1)\n",
    "    plt.xlabel('Days')\n",
    "    plt.xlim((0, len(y)))\n",
    "    plt.legend()\n",
    "    # plt.savefig('images/AAL_macd.png', bbox_inches='tight')\n",
    "    plt.show()\n",
    "    \n",
    "    # Generate input data - technical indicators\n",
    "    ind1 = talib.MIDPOINT(close)    # Overlap: MidPoint over period\n",
    "    ind2 = talib.HT_DCPERIOD(close) # Cycle Indicator Functions:  Hilbert Transform - Dominant Cycle Period\n",
    "    ind3 = talib.MAX(close)         # Math Operator: Highest value over a specified period\n",
    "    ind4 = talib.SIN(close)         # Math Transform: Vector Trigonometric Sin\n",
    "    ind5 = talib.APO(close)         # Momentum: Absolute Price Oscillator\n",
    "    ind6 = talib.TEMA(close, timeperiod=5) ## Triple Exponential Moving Average\n",
    "\n",
    "    x = np.vstack((macdhist, macd, macdsignal, ind1[-len(macdhist):], ind2[-len(macdhist):],\n",
    "                   ind3[-len(macdhist):], ind4[-len(macdhist):], ind5[-len(macdhist):],\n",
    "                   ind6[-len(macdhist):]))\n",
    "    x = x.T\n",
    "\n",
    "    return x, y"
   ]
  },
  {
   "cell_type": "code",
   "execution_count": 6,
   "metadata": {},
   "outputs": [
    {
     "data": {
      "image/png": "[encoded data removed]",
      "text/plain": [
       "<Figure size 432x288 with 1 Axes>"
      ]
     },
     "metadata": {
      "needs_background": "light"
     },
     "output_type": "display_data"
    }
   ],
   "source": [
    "# Implement MACD trading strategy\n",
    "X, y = prepare_dataset(close)"
   ]
  },
  {
   "cell_type": "code",
   "execution_count": 7,
   "metadata": {},
   "outputs": [
    {
     "data": {
      "text/plain": [
       "array([-1.42706425e-02, -1.03450145e+00, -1.02023081e+00,  8.02845764e+01,\n",
       "        1.71083390e+01,  8.52945328e+01, -7.82878030e-01, -1.53373562e+00,\n",
       "        7.94647893e+01])"
      ]
     },
     "execution_count": 7,
     "metadata": {},
     "output_type": "execute_result"
    }
   ],
   "source": [
    "X[0]"
   ]
  },
  {
   "cell_type": "code",
   "execution_count": 8,
   "metadata": {},
   "outputs": [],
   "source": [
    "# Split dataset\n",
    "n_train = int(X.shape[0] * 0.8)\n",
    "\n",
    "X_train, y_train = X[:n_train], y[:n_train]\n",
    "X_test, y_test = X[n_train:], y[n_train:]"
   ]
  },
  {
   "cell_type": "code",
   "execution_count": 9,
   "metadata": {},
   "outputs": [],
   "source": [
    "# Normalize data\n",
    "scaler = preprocessing.MinMaxScaler()\n",
    "\n",
    "X_train = scaler.fit_transform(X_train)\n",
    "X_test = scaler.transform(X_test)"
   ]
  },
  {
   "cell_type": "code",
   "execution_count": 10,
   "metadata": {},
   "outputs": [
    {
     "name": "stdout",
     "output_type": "stream",
     "text": [
      "[-1.  0.  1.]\n"
     ]
    }
   ],
   "source": [
    "# Encode trading signal with integers between 0 and n-1 classes\n",
    "le = preprocessing.LabelEncoder()\n",
    "\n",
    "y_train = le.fit_transform(y_train)\n",
    "y_test = le.transform(y_test)\n",
    "\n",
    "print(le.classes_)"
   ]
  },
  {
   "cell_type": "code",
   "execution_count": 11,
   "metadata": {},
   "outputs": [],
   "source": [
    "## Create and train the Agent\n",
    "# Variable definiton\n",
    "episodes = 20\n",
    "look_back = 5\n",
    "batch_size = 32\n",
    "action_size = len(le.classes_)\n",
    "n_features = X_train.shape[1]"
   ]
  },
  {
   "cell_type": "code",
   "execution_count": 12,
   "metadata": {},
   "outputs": [],
   "source": [
    "# Create Agent\n",
    "agent = Agent(look_back, action_size, n_features)"
   ]
  },
  {
   "cell_type": "code",
   "execution_count": 13,
   "metadata": {},
   "outputs": [],
   "source": [
    "def run(agent, dataX, dataY, episodes, look_back):\n",
    "    \"\"\"\n",
    "    Function run to train the agent\n",
    "    \"\"\"\n",
    "    \n",
    "    # Length of dataset\n",
    "    times = len(dataX)\n",
    "\n",
    "    # List of total rewards\n",
    "    total_reward_list = []\n",
    "\n",
    "    for ep in range(episodes):\n",
    "\n",
    "        # print('Episode: ' + str(ep))\n",
    "        \n",
    "        # Initial state and position\n",
    "        state = dataX[:look_back, :][np.newaxis, :, :]\n",
    "        pos = dataY[look_back - 1]\n",
    "\n",
    "        done = False\n",
    "        total_reward = 0\n",
    "\n",
    "        for t in range(1, times - look_back + 1):\n",
    "\n",
    "            # Predict action based on the current state\n",
    "            action = agent.act(state)\n",
    "\n",
    "            # Calculate reward\n",
    "            if action == pos:   # 0:-1      1:0     2:1\n",
    "                reward = +1\n",
    "\n",
    "            elif (pos == 0 or pos == 2):\n",
    "                if action == 1:\n",
    "                    reward = 0\n",
    "                else:\n",
    "                    reward = -1\n",
    "            else:\n",
    "                reward = -1\n",
    "\n",
    "            total_reward += reward\n",
    "\n",
    "            # Final state\n",
    "            if t == times - look_back:\n",
    "                done = True\n",
    "\n",
    "            # Receive next state and position\n",
    "            next_state = dataX[t:t + look_back, :][np.newaxis, :, :]\n",
    "            next_pos = dataY[t + look_back - 1]\n",
    "            \n",
    "            # Remember current experience\n",
    "            agent.remember(state, action, reward, next_state, done)\n",
    "            \n",
    "            # Make next_state the new current state; the same for pos\n",
    "            state = next_state\n",
    "            pos = next_pos\n",
    "\n",
    "            if done:\n",
    "                print('Episode: %i ---> Total Reward: %i' %(ep, total_reward))\n",
    "                total_reward_list.append(total_reward)\n",
    "\n",
    "            # Train the agent with previous experiences\n",
    "            if len(agent.memory) > batch_size:\n",
    "                agent.replay(batch_size)\n",
    "\n",
    "        if (ep + 1) % 5 == 0 and ep > 0:\n",
    "            file = 'checkpoints/' + symbol + '_robot_checkpoint' + str(ep + 1)\n",
    "            # Serialize weights to HDF5\n",
    "            agent.model.save_weights(file + \".h5\")\n",
    "            # Save epsilon\n",
    "            pickle.dump(agent.epsilon, open(file + \"_epsilon.pickle\", \"wb\"))\n",
    "\n",
    "    # Save list of rewards along the epochs\n",
    "    np.savetxt(file + '_total_reward.txt', total_reward_list)\n",
    "\n",
    "    return\n"
   ]
  },
  {
   "cell_type": "code",
   "execution_count": 14,
   "metadata": {},
   "outputs": [
    {
     "name": "stdout",
     "output_type": "stream",
     "text": [
      "Episode: 0 ---> Total Reward: 187\n",
      "Episode: 1 ---> Total Reward: 393\n",
      "Episode: 2 ---> Total Reward: 434\n",
      "Episode: 3 ---> Total Reward: 433\n",
      "Episode: 4 ---> Total Reward: 440\n",
      "Episode: 5 ---> Total Reward: 423\n",
      "Episode: 6 ---> Total Reward: 460\n",
      "Episode: 7 ---> Total Reward: 473\n",
      "Episode: 8 ---> Total Reward: 439\n",
      "Episode: 9 ---> Total Reward: 445\n",
      "Episode: 10 ---> Total Reward: 461\n",
      "Episode: 11 ---> Total Reward: 447\n",
      "Episode: 12 ---> Total Reward: 478\n",
      "Episode: 13 ---> Total Reward: 476\n",
      "Episode: 14 ---> Total Reward: 462\n",
      "Episode: 15 ---> Total Reward: 504\n",
      "Episode: 16 ---> Total Reward: 471\n",
      "Episode: 17 ---> Total Reward: 494\n",
      "Episode: 18 ---> Total Reward: 476\n",
      "Episode: 19 ---> Total Reward: 488\n"
     ]
    }
   ],
   "source": [
    "# Train Agent\n",
    "run(agent, X_train, y_train, episodes, look_back)"
   ]
  },
  {
   "cell_type": "code",
   "execution_count": 15,
   "metadata": {},
   "outputs": [
    {
     "data": {
      "image/png": "[encoded data removed]",
      "text/plain": [
       "<Figure size 432x288 with 1 Axes>"
      ]
     },
     "metadata": {
      "needs_background": "light"
     },
     "output_type": "display_data"
    }
   ],
   "source": [
    "# Load rewards\n",
    "total_reward_list = np.loadtxt( 'checkpoints/'+ symbol + '_robot_checkpoint' + str(episodes) + '_total_reward.txt')\n",
    "# Plot\n",
    "plt.figure()\n",
    "plt.plot(np.arange(1, episodes+1), total_reward_list)\n",
    "plt.xlabel('Episodes')\n",
    "plt.ylabel('Total Reward')\n",
    "plt.show()"
   ]
  },
  {
   "cell_type": "code",
   "execution_count": 16,
   "metadata": {},
   "outputs": [
    {
     "data": {
      "text/plain": [
       "array([187., 393., 434., 433., 440., 423., 460., 473., 439., 445., 461.,\n",
       "       447., 478., 476., 462., 504., 471., 494., 476., 488.])"
      ]
     },
     "execution_count": 16,
     "metadata": {},
     "output_type": "execute_result"
    }
   ],
   "source": [
    "total_reward_list"
   ]
  },
  {
   "cell_type": "code",
   "execution_count": 17,
   "metadata": {},
   "outputs": [],
   "source": [
    "def evaluate(agent, dataX, dataY, look_back):\n",
    "    \"\"\"\n",
    "    Function run to evaluate the trained agent\n",
    "    \"\"\"\n",
    "    \n",
    "    # Length of dataset\n",
    "    times = len(dataX)\n",
    "\n",
    "    # Initial state and position\n",
    "    state = dataX[:look_back, :][np.newaxis, :, :]\n",
    "    pos = dataY[look_back - 1]\n",
    "\n",
    "    # List of predicted positions\n",
    "    pos_list = []\n",
    "    \n",
    "    done = False\n",
    "    total_reward = 0\n",
    "    \n",
    "    for t in range(1, times - look_back + 1):\n",
    "\n",
    "        # Predict action based on the current state\n",
    "        action = agent.act(state)\n",
    "\n",
    "        # Calculate reward\n",
    "        if action == pos:   # 0:-1      1:0     2:1\n",
    "            reward = +1\n",
    "\n",
    "        elif (pos == 0 or pos == 2):\n",
    "            if action == 1:\n",
    "                reward = 0\n",
    "            else:\n",
    "                reward = -1\n",
    "        else:\n",
    "            reward = -1\n",
    "\n",
    "        pos_list.append(action)\n",
    "        total_reward += reward\n",
    "\n",
    "        # Final state\n",
    "        if t == times - look_back:\n",
    "            done = True\n",
    "\n",
    "        # Receive next state and position\n",
    "        next_state = dataX[t:t + look_back, :][np.newaxis, :, :]\n",
    "        next_pos = dataY[t + look_back - 1]\n",
    "\n",
    "        # Remember current experience\n",
    "        agent.remember(state, action, reward, next_state, done)\n",
    "\n",
    "        # Make next_state the new current state; the same for pos\n",
    "        state = next_state\n",
    "        pos = next_pos\n",
    "\n",
    "        if done:\n",
    "            print('Total Reward: %i' % total_reward)\n",
    "\n",
    "    return np.array(pos_list)"
   ]
  },
  {
   "cell_type": "code",
   "execution_count": 18,
   "metadata": {},
   "outputs": [
    {
     "name": "stdout",
     "output_type": "stream",
     "text": [
      "Total Reward: 95\n",
      "Accuracy: 72.86 %\n"
     ]
    }
   ],
   "source": [
    "# Evaluate the model\n",
    "# Make predictions\n",
    "y_pred_test = evaluate(agent, X_test, y_test, look_back)\n",
    "\n",
    "# Calculate and print accuracy\n",
    "acc = accuracy_score(y_test[look_back-1:-1], y_pred_test)\n",
    "\n",
    "print('Accuracy: %.2f %%' % (acc*100))"
   ]
  },
  {
   "cell_type": "code",
   "execution_count": 19,
   "metadata": {},
   "outputs": [
    {
     "name": "stdout",
     "output_type": "stream",
     "text": [
      "      1-Precision  2-Recall  3-F1 score  4-Support\n",
      "-1.0        0.923     0.375       0.533         32\n",
      " 0.0        0.380     0.760       0.507         25\n",
      " 1.0        0.922     0.855       0.888         83\n"
     ]
    }
   ],
   "source": [
    "# Calculate and print precision, recall, f1 score and support\n",
    "p, r, f1, s = precision_recall_fscore_support(y_test[look_back-1:-1], y_pred_test, average=None)\n",
    "results = pd.DataFrame({'1-Precision': p, '2-Recall': r, '3-F1 score': f1, '4-Support': s}, index=le.classes_)\n",
    "\n",
    "print(results.round(decimals=3))"
   ]
  },
  {
   "cell_type": "code",
   "execution_count": 20,
   "metadata": {},
   "outputs": [],
   "source": [
    "# Decodificate labels\n",
    "y_true_test = le.inverse_transform(y_test[look_back-1:-1])\n",
    "y_pred_test = le.inverse_transform(y_pred_test)"
   ]
  },
  {
   "cell_type": "code",
   "execution_count": 21,
   "metadata": {},
   "outputs": [
    {
     "data": {
      "image/png": "[encoded data removed]",
      "text/plain": [
       "<Figure size 432x288 with 1 Axes>"
      ]
     },
     "metadata": {
      "needs_background": "light"
     },
     "output_type": "display_data"
    }
   ],
   "source": [
    "# Plot strategy\n",
    "plt.figure()\n",
    "plt.plot(y_true_test, label='true')\n",
    "plt.plot(y_pred_test, label='pred')\n",
    "plt.legend()\n",
    "plt.show()"
   ]
  },
  {
   "cell_type": "code",
   "execution_count": null,
   "metadata": {},
   "outputs": [],
   "source": []
  }
 ],
 "metadata": {
  "kernelspec": {
   "display_name": "Python 3",
   "language": "python",
   "name": "python3"
  },
  "language_info": {
   "codemirror_mode": {
    "name": "ipython",
    "version": 3
   },
   "file_extension": ".py",
   "mimetype": "text/x-python",
   "name": "python",
   "nbconvert_exporter": "python",
   "pygments_lexer": "ipython3",
   "version": "3.7.6"
  }
 },
 "nbformat": 4,
 "nbformat_minor": 2
}
