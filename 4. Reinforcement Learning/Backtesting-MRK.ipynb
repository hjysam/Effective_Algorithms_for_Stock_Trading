{
 "cells": [
  {
   "cell_type": "code",
   "execution_count": 1,
   "metadata": {
    "scrolled": true
   },
   "outputs": [
    {
     "name": "stderr",
     "output_type": "stream",
     "text": [
      "C:\\Users\\Elid-PC.DESKTOP-MG9DS93\\anaconda3\\lib\\site-packages\\pandas_datareader\\compat\\__init__.py:7: FutureWarning: pandas.util.testing is deprecated. Use the functions in the public API at pandas.testing instead.\n",
      "  from pandas.util.testing import assert_frame_equal\n"
     ]
    },
    {
     "data": {
      "application/javascript": [
       "\n",
       "console.log('Starting front end url_querystring_target comm target');\n",
       "const comm = Jupyter.notebook.kernel.comm_manager.new_comm('url_querystring_target', {'init': 1});\n",
       "comm.send({'ipyparams_browser_url': window.location.href});\n",
       "console.log('Sent window.location.href on url_querystring_target comm target');\n",
       "\n",
       "comm.on_msg(function(msg) {\n",
       "    console.log(msg.content.data);\n",
       "});\n"
      ],
      "text/plain": [
       "<IPython.core.display.Javascript object>"
      ]
     },
     "metadata": {},
     "output_type": "display_data"
    },
    {
     "name": "stderr",
     "output_type": "stream",
     "text": [
      "Using TensorFlow backend.\n"
     ]
    }
   ],
   "source": [
    "# Import libraries\n",
    "import pandas as pd\n",
    "from pandas_datareader import data as pdr\n",
    "\n",
    "import numpy as np\n",
    "import matplotlib.pyplot as plt\n",
    "import pickle\n",
    "\n",
    "from sklearn import preprocessing\n",
    "from sklearn.metrics import accuracy_score\n",
    "from sklearn.metrics import precision_recall_fscore_support\n",
    "\n",
    "import talib, re, ipyparams\n",
    "\n",
    "from Agent import Agent"
   ]
  },
  {
   "cell_type": "code",
   "execution_count": 2,
   "metadata": {},
   "outputs": [
    {
     "data": {
      "text/plain": [
       "754"
      ]
     },
     "execution_count": 2,
     "metadata": {},
     "output_type": "execute_result"
    }
   ],
   "source": [
    "end_date = '2020-02-19'\n",
    "start_date = '2017-02-20'\n",
    "\n",
    "currentNotebook = ipyparams.notebook_name\n",
    "symbol = 'MRK'\n",
    "Date = pd.DataFrame(pdr.DataReader(symbol,'yahoo', start_date, end_date))\n",
    "\n",
    "alldata = pd.DataFrame({'Date': Date.index})\n",
    "alldata[symbol] = pdr.DataReader(symbol, 'yahoo', start_date, end_date)['Adj Close'].values\n",
    "# Stock symbol\n",
    "\n",
    "# Load close prices of to NumPy array\n",
    "close = alldata[symbol].values\n",
    "len(close)"
   ]
  },
  {
   "cell_type": "code",
   "execution_count": 3,
   "metadata": {},
   "outputs": [
    {
     "data": {
      "text/plain": [
       "array([59.51667404, 59.34397125, 59.85297394, 60.13473892, 59.85297394,\n",
       "       59.87114334, 60.1801796 , 60.06202698, 60.51650238, 60.41650391,\n",
       "       59.95294571, 59.80752182, 59.889328  , 59.62573624, 58.7285614 ,\n",
       "       58.77433014, 59.23207474, 58.75602722, 58.49969101, 58.69194794,\n",
       "       58.50884247, 58.13349533, 57.93207932, 57.84053802, 57.8496933 ,\n",
       "       57.98701477, 58.26166534, 58.08771515, 58.1701088 , 58.10603333,\n",
       "       58.28911972, 58.19757843, 57.89546967, 57.79476547, 57.26377869,\n",
       "       57.29123688, 57.7215271 , 57.31871414, 57.49264908, 57.00744629,\n",
       "       57.34617233, 57.26377869, 56.65956116, 56.88843536, 57.03490448,\n",
       "       57.40110397, 57.29123688, 57.06237411, 57.10814667, 57.40110397,\n",
       "       58.25251007, 58.02363205, 58.56377411, 58.60039902, 57.94124603,\n",
       "       58.53631592, 58.98490524, 58.19757843, 58.14264297, 58.39899063,\n",
       "       57.6757431 , 58.49053574, 58.38982773, 58.62786102, 59.09476471,\n",
       "       59.44264221, 59.54335022, 59.43349075, 59.39686203, 59.60743332,\n",
       "       59.74475861, 59.93701172, 59.57081223, 59.20461273, 58.64616776,\n",
       "       57.85884857, 58.94828033, 58.94828033, 58.34883118, 58.44105911,\n",
       "       58.27505875, 58.07216644, 58.72694397, 59.51082993, 60.36849213,\n",
       "       60.88493347, 61.01404953, 60.79271698, 60.44226837, 60.09183502,\n",
       "       59.33560562, 59.10504913, 59.27105331, 59.16962051, 58.19205475,\n",
       "       58.24738693, 57.94305801, 57.49116898, 57.89694595, 57.99839401,\n",
       "       58.15517044, 57.74017715, 57.5557251 , 57.74938965, 58.04449844,\n",
       "       57.7586174 , 57.70327759, 57.50961685, 56.99317169, 58.73616409,\n",
       "       59.12350464, 58.9113884 , 58.94827652, 58.50561142, 58.57938385,\n",
       "       58.19205475, 57.95227814, 57.47272873, 57.62950516, 57.34361649,\n",
       "       57.5280571 , 57.79549789, 57.6387291 , 57.82316208, 57.030056  ,\n",
       "       56.70729446, 57.14995193, 57.56494141, 57.31595612, 57.83238983,\n",
       "       58.04449844, 58.39493942, 58.21049881, 58.21049881, 58.89294434,\n",
       "       58.86527634, 58.67161179, 59.02205658, 59.31716537, 59.27105331,\n",
       "       60.06415558, 60.36849213, 60.35926819, 61.41820908, 61.45536423,\n",
       "       61.29745102, 61.26029587, 61.11167145, 60.93518829, 60.49859619,\n",
       "       60.54505157, 60.15492249, 59.97842789, 59.71834564, 59.47681808,\n",
       "       59.95985794, 59.79264832, 60.00629044, 60.00629044, 59.95985794,\n",
       "       59.75549698, 59.87625122, 59.24460602, 59.29105377, 58.88233185,\n",
       "       58.83589172, 58.72442627, 58.99380493, 59.21673584, 59.33749008,\n",
       "       58.89162445, 58.6222496 , 58.00918579, 57.58188629, 54.0985527 ,\n",
       "       50.81957626, 51.17255402, 51.40477371, 51.43264389, 52.07357407,\n",
       "       51.90637589, 51.63699722, 52.55659866, 52.21290207, 51.53481293,\n",
       "       51.18183899, 51.07966232, 50.90317917, 51.24685669, 51.27473068,\n",
       "       50.25294876, 50.41086197, 50.50374985, 50.48517227, 50.67095184,\n",
       "       51.02393341, 51.42335129, 51.33975601, 51.89707947, 52.22219467,\n",
       "       51.80419922, 50.48517227, 50.87530136, 51.61841965, 52.33366394,\n",
       "       53.01174927, 52.86313248, 52.46968079, 52.68514252, 52.66640472,\n",
       "       52.67576981, 52.56335831, 53.02238083, 52.79755402, 52.77882004,\n",
       "       52.77882004, 53.02238083, 52.71324539, 52.66640472, 52.59145737,\n",
       "       53.44393921, 53.38773346, 53.07859039, 53.20973969, 53.67813873,\n",
       "       53.95917511, 54.95217514, 58.14663315, 58.10916519, 57.26605225,\n",
       "       57.40656662, 57.37846375, 57.8000145 , 57.31288528, 57.42529678,\n",
       "       58.11853027, 57.73444366, 56.81638718, 55.50488281, 56.07632446,\n",
       "       54.8584938 , 52.83502197, 51.95443726, 52.34789658, 51.27058792,\n",
       "       51.40173721, 51.92634201, 51.4298439 , 51.4298439 , 52.45094299,\n",
       "       52.73198318, 51.50477982, 51.10196304, 51.12070084, 51.40173721,\n",
       "       52.51651382, 51.26121521, 50.79282761, 50.30568695, 50.92397308,\n",
       "       50.96144867, 50.8677597 , 51.02701569, 51.29868317, 51.65467072,\n",
       "       51.86076355, 51.87013626, 51.78508759, 52.21032715, 52.60721588,\n",
       "       51.62443542, 51.63388443, 51.6811409 , 51.1424942 , 50.47154999,\n",
       "       51.06689453, 50.79284668, 52.05913162, 51.47323608, 50.33925629,\n",
       "       51.11414337, 51.53939056, 51.52993393, 50.42431259, 53.07025909,\n",
       "       53.38210678, 53.10805893, 53.61834717, 54.02469254, 55.42327118,\n",
       "       56.00915146, 55.67840958, 55.41381836, 55.59336853, 56.9352417 ,\n",
       "       56.78404617, 56.34934998, 56.1414566 , 56.19815445, 55.63116074,\n",
       "       54.7901268 , 54.14754105, 54.36488724, 54.57278442, 54.22314072,\n",
       "       53.63724899, 54.76177979, 54.8657341 , 56.40604782, 56.39659882,\n",
       "       55.94300842, 56.46274567, 55.82016373, 55.88630676, 55.34766769,\n",
       "       55.234272  , 55.91465759, 55.87686157, 55.83906174, 55.18702316,\n",
       "       56.43440247, 56.25485611, 57.22818375, 58.60786438, 58.01252747,\n",
       "       58.52281189, 58.57950974, 59.13705063, 58.90080643, 59.00475311,\n",
       "       59.14649963, 58.6227417 , 59.07032013, 58.07994461, 58.11803436,\n",
       "       58.3561058 , 58.2608757 , 58.53704071, 58.1656456 , 57.82282639,\n",
       "       57.02290344, 57.42286682, 57.8037796 , 57.57522964, 57.8133049 ,\n",
       "       58.69892502, 59.23221207, 59.06079865, 59.32743835, 58.94652176,\n",
       "       59.67025757, 59.88928986, 59.60359955, 59.5464592 , 59.93689346,\n",
       "       59.52741623, 59.53693771, 59.69882965, 60.39399338, 61.41294479,\n",
       "       60.95584488, 60.46065521, 61.71767426, 62.727108  , 62.36522675,\n",
       "       62.10811615, 62.78423309, 63.06040192, 63.40322876, 63.50797653,\n",
       "       62.85089874, 62.91756439, 63.53653717, 63.28894806, 64.15553284,\n",
       "       65.56490326, 65.76488495, 66.8219223 , 65.86964417, 65.74584961,\n",
       "       65.67917633, 65.74584961, 65.69823456, 65.35540771, 65.52681732,\n",
       "       65.2696991 , 65.31732178, 64.70785522, 65.34589386, 66.06961823,\n",
       "       66.34579468, 66.24103546, 65.78393555, 66.52671051, 67.45044708,\n",
       "       67.09568787, 67.51755524, 67.51755524, 67.09568787, 67.8627243 ,\n",
       "       68.16952515, 67.8627243 , 67.73808289, 67.43128204, 67.80518341,\n",
       "       68.01612854, 68.58179474, 68.79273224, 68.42839813, 68.28458405,\n",
       "       68.10240936, 68.51470184, 69.3584137 , 67.54631042, 65.55204773,\n",
       "       66.93270111, 66.59712219, 68.28458405, 68.85985565, 69.23377228,\n",
       "       69.36799622, 69.57893372, 69.12831116, 67.63260651, 67.0765152 ,\n",
       "       67.49838257, 68.50509644, 69.86658478, 70.57608032, 70.10627747,\n",
       "       69.29129791, 70.10627747, 70.28843689, 71.98548889, 72.3690033 ,\n",
       "       71.77454376, 71.61155701, 71.5348587 , 71.0362854 , 71.75537109,\n",
       "       72.9250946 , 73.20314026, 71.69785309, 71.70743561, 71.59239197,\n",
       "       72.33065033, 73.19355774, 74.046875  , 74.69886017, 76.06990051,\n",
       "       75.95485687, 74.98648834, 75.13989258, 73.55789185, 74.22904205,\n",
       "       73.9318161 , 74.79472351, 75.75350952, 73.84181976, 72.63493347,\n",
       "       71.76597595, 71.22529602, 70.95494843, 70.38530731, 68.69567871,\n",
       "       71.44735718, 72.77974701, 72.77010345, 73.77422333, 72.9825058 ,\n",
       "       71.48597717, 73.63904572, 72.82803345, 73.36870575, 72.80872345,\n",
       "       71.91079712, 72.31630707, 70.83908081, 71.93010712, 72.03631592,\n",
       "       72.99217224, 73.25285339, 73.21424103, 72.83768463, 70.64598083,\n",
       "       70.43357086, 70.40461731, 70.70393372, 70.83908081, 71.86252594,\n",
       "       73.81284332, 74.2183609 , 74.48870087, 74.72042847, 74.17008209,\n",
       "       74.84593964, 74.06388092, 75.81143951, 76.29418945, 76.21695709,\n",
       "       77.05693054, 76.50659943, 76.69005585, 77.07624817, 77.98381805,\n",
       "       77.60726929, 77.95484924, 77.83900452, 78.48589325, 78.83347321,\n",
       "       78.56312561, 78.88173676, 77.97416687, 77.67486572, 77.04729462,\n",
       "       78.0803833 , 78.42796326, 78.7851944 , 79.21289825, 79.29066467,\n",
       "       79.07681274, 79.62117004, 79.7864151 , 80.63210297, 79.99054718,\n",
       "       80.04886627, 80.60293579, 79.99054718, 80.32104492, 80.8459549 ,\n",
       "       80.97232819, 80.88483429, 80.85568237, 79.56283569, 78.88240051,\n",
       "       78.68798065, 78.54218292, 78.56162262, 77.60900879, 77.21047211,\n",
       "       76.33561707, 75.39271545, 71.85443878, 71.14483643, 71.4072876 ,\n",
       "       72.51542664, 72.64179993, 74.20681   , 74.48870087, 74.63451385,\n",
       "       76.5105896 , 76.52030182, 77.29794312, 77.76454163, 77.25906372,\n",
       "       75.72322083, 75.99539185, 76.14120483, 76.00511169, 75.01361084,\n",
       "       75.25662994, 75.38300323, 76.91884613, 76.52030182, 76.67583466,\n",
       "       77.27850342, 78.71715546, 78.75603485, 78.90184021, 78.01728058,\n",
       "       77.14241791, 77.45347595, 76.99661255, 78.01728058, 78.8143692 ,\n",
       "       79.40731812, 79.16429901, 80.15579224, 80.17523956, 80.66127014,\n",
       "       81.3708725 , 80.58350372, 81.00428009, 81.51312256, 82.67759705,\n",
       "       83.52893066, 82.78523254, 82.75587463, 83.67572021, 83.41150665,\n",
       "       81.74797821, 82.03176117, 82.05131531, 82.93201447, 83.67572021,\n",
       "       85.03590393, 83.76378632, 82.23725128, 83.03966522, 83.0005188 ,\n",
       "       79.2624588 , 78.01970673, 79.22332001, 79.83979797, 80.16272736,\n",
       "       80.91621399, 79.64408875, 79.46795654, 80.27036285, 79.99636841,\n",
       "       79.99636841, 79.68322754, 80.72049713, 81.48376465, 81.20977783,\n",
       "       81.89476013, 82.65802765, 81.33699036, 82.54059601, 82.44274902,\n",
       "       82.9124527 , 83.68549347, 83.89099884, 84.23348999, 81.61097717,\n",
       "       81.66968536, 83.23536682, 84.34112549, 83.81270599, 85.04568481,\n",
       "       84.85975647, 83.11794281, 84.03777313, 83.68549347, 84.62490845,\n",
       "       84.85975647, 84.61511993, 84.7912674 , 84.20413208, 84.25305939,\n",
       "       84.71297455, 81.67947388, 79.93766022, 81.14126587, 81.52290344,\n",
       "       81.37515259, 80.80381775, 81.27664948, 81.77902222, 82.71482086,\n",
       "       83.88703918, 83.09899139, 82.35034943, 81.85782623, 82.62615967,\n",
       "       81.67066956, 82.92168427, 82.36019897, 80.39995575, 81.50320435,\n",
       "       83.72943115, 83.12854004, 82.04499054, 82.92168427, 82.50795746,\n",
       "       83.0792923 , 83.42405701, 83.76882935, 83.18764496, 82.54737091,\n",
       "       83.41420746, 83.25659943, 80.08473206, 81.63127136, 81.34560394,\n",
       "       81.03038025, 80.97127533, 83.82792664, 84.93119049, 85.36461639,\n",
       "       83.67032623, 82.64586639, 81.68051147, 82.00558472, 81.64111328,\n",
       "       82.34049988, 82.03513336, 82.86257935, 83.55211639, 83.2861557 ,\n",
       "       83.63092041, 82.87242889, 83.38465881, 83.99539185, 84.18254852,\n",
       "       84.17269897, 84.41896057, 86.03444672, 86.30041504, 85.87683868,\n",
       "       85.73893738, 86.07384491, 87.34456635, 87.42337036, 87.52187347,\n",
       "       87.39382172, 87.7681427 , 87.64994049, 88.23110962, 88.45922852,\n",
       "       88.55841064, 88.2906189 , 88.88570404, 89.25267029, 90.82965088,\n",
       "       90.98833466, 90.6907959 , 90.59160614, 90.75029755, 90.28414917,\n",
       "       90.20480347, 91.28588104, 90.50234985, 90.88915253, 88.4691391 ,\n",
       "       87.87406158, 88.64766693, 88.79644012, 88.77661133, 89.19316864,\n",
       "       90.7899704 , 90.43292236, 90.22464752, 89.23284149, 88.91545868,\n",
       "       87.83438873, 85.27553558, 85.39454651, 85.5433197 , 86.52519989,\n",
       "       85.7912674 , 84.73995209, 86.62438202, 87.6360321 , 85.12676239,\n",
       "       84.9779892 , 84.38290405, 84.95815277, 84.55150604, 82.56789398,\n",
       "       81.29838562, 81.97281647, 81.78437042, 81.32814026])"
      ]
     },
     "execution_count": 3,
     "metadata": {},
     "output_type": "execute_result"
    }
   ],
   "source": [
    "close"
   ]
  },
  {
   "cell_type": "code",
   "execution_count": 4,
   "metadata": {},
   "outputs": [
    {
     "data": {
      "text/html": [
       "<div>\n",
       "<style scoped>\n",
       "    .dataframe tbody tr th:only-of-type {\n",
       "        vertical-align: middle;\n",
       "    }\n",
       "\n",
       "    .dataframe tbody tr th {\n",
       "        vertical-align: top;\n",
       "    }\n",
       "\n",
       "    .dataframe thead th {\n",
       "        text-align: right;\n",
       "    }\n",
       "</style>\n",
       "<table border=\"1\" class=\"dataframe\">\n",
       "  <thead>\n",
       "    <tr style=\"text-align: right;\">\n",
       "      <th></th>\n",
       "      <th>macd</th>\n",
       "      <th>macdsignal</th>\n",
       "      <th>macdhist</th>\n",
       "    </tr>\n",
       "  </thead>\n",
       "  <tbody>\n",
       "    <tr>\n",
       "      <th>0</th>\n",
       "      <td>-0.646229</td>\n",
       "      <td>-0.818917</td>\n",
       "      <td>0.172688</td>\n",
       "    </tr>\n",
       "    <tr>\n",
       "      <th>1</th>\n",
       "      <td>-0.568426</td>\n",
       "      <td>-0.768819</td>\n",
       "      <td>0.200393</td>\n",
       "    </tr>\n",
       "    <tr>\n",
       "      <th>2</th>\n",
       "      <td>-0.518708</td>\n",
       "      <td>-0.718797</td>\n",
       "      <td>0.200089</td>\n",
       "    </tr>\n",
       "    <tr>\n",
       "      <th>3</th>\n",
       "      <td>-0.428660</td>\n",
       "      <td>-0.660769</td>\n",
       "      <td>0.232109</td>\n",
       "    </tr>\n",
       "    <tr>\n",
       "      <th>4</th>\n",
       "      <td>-0.382533</td>\n",
       "      <td>-0.605122</td>\n",
       "      <td>0.222589</td>\n",
       "    </tr>\n",
       "  </tbody>\n",
       "</table>\n",
       "</div>"
      ],
      "text/plain": [
       "       macd  macdsignal  macdhist\n",
       "0 -0.646229   -0.818917  0.172688\n",
       "1 -0.568426   -0.768819  0.200393\n",
       "2 -0.518708   -0.718797  0.200089\n",
       "3 -0.428660   -0.660769  0.232109\n",
       "4 -0.382533   -0.605122  0.222589"
      ]
     },
     "execution_count": 4,
     "metadata": {},
     "output_type": "execute_result"
    }
   ],
   "source": [
    "macd, macdsignal, macdhist = talib.MACD(close, fastperiod=5, slowperiod=20, signalperiod=9)\n",
    "macdhist = macdhist[~np.isnan(macdhist)]\n",
    "macd = macd[-len(macdhist):]\n",
    "macdsignal = macdsignal[-len(macdhist):]\n",
    "\n",
    "\n",
    "pd.DataFrame({'macd': macd, 'macdsignal': macdsignal, 'macdhist': macdhist}).head()"
   ]
  },
  {
   "cell_type": "code",
   "execution_count": 5,
   "metadata": {},
   "outputs": [],
   "source": [
    "def prepare_dataset(close):\n",
    "    \"\"\"\n",
    "    Function prepare_dataset to generate input data and trading strategy from stock close prices\n",
    "    \"\"\"\n",
    "\n",
    "    macd, macdsignal, macdhist = talib.MACD(close, fastperiod=12, slowperiod=26, signalperiod=9)\n",
    "\n",
    "    # Cancel NaN values\n",
    "    macdhist = macdhist[~np.isnan(macdhist)]\n",
    "    macd = macd[-len(macdhist):]\n",
    "    macdsignal = macdsignal[-len(macdhist):]\n",
    "\n",
    "    # Scaling features to a range [0, 1]\n",
    "    min_max_scaler = preprocessing.MinMaxScaler(feature_range=(-1, 1))\n",
    "    macdhist_norm = min_max_scaler.fit_transform(np.expand_dims(macdhist, axis=1))\n",
    "\n",
    "    # Implement strategy\n",
    "    start_sell = 0.2\n",
    "    stop_sell = 0.05\n",
    "    start_buy = -0.2\n",
    "    stop_buy = -0.05\n",
    "\n",
    "    y = np.full(len(macdhist), np.nan)\n",
    "    y[0] = 0\n",
    "\n",
    "    for i in range(1, len(macdhist)):\n",
    "\n",
    "        if y[i-1] == 0:\n",
    "            if (macdhist_norm[i] >= start_sell):\n",
    "                # Enter sell position\n",
    "                y[i] = -1\n",
    "            elif (macdhist_norm[i] <= start_buy):\n",
    "                # Enter buy position\n",
    "                y[i] = 1\n",
    "            else:\n",
    "                y[i] = 0\n",
    "        elif y[i-1] == -1:\n",
    "            if macdhist_norm[i] > stop_sell:\n",
    "                # Stay in sell position\n",
    "                y[i] = -1\n",
    "            else:\n",
    "                # Leave sell position\n",
    "                y[i] = 0\n",
    "        else:\n",
    "            if macdhist_norm[i] < stop_buy:\n",
    "                # Stay in buy position\n",
    "                y[i] = 1\n",
    "            else:\n",
    "                # Leave buy position\n",
    "                y[i] = 0\n",
    "\n",
    "    # Plot strategy\n",
    "    dates = np.arange(len(macdhist))\n",
    "    plt.plot(dates, y,'g', label='Strategy Positions')\n",
    "    plt.bar(dates, macdhist_norm[:, 0], width=1, color='blue', label='MACD histogram')\n",
    "    plt.plot(dates, start_sell * np.ones(len(macdhist)), 'k--', lw=1)\n",
    "    plt.plot(dates, stop_sell * np.ones(len(macdhist)), 'k--', lw=1)\n",
    "    plt.plot(dates, start_buy * np.ones(len(macdhist)), 'k--', lw=1)\n",
    "    plt.plot(dates, stop_buy * np.ones(len(macdhist)), 'k--', lw=1)\n",
    "    plt.xlabel('Days')\n",
    "    plt.xlim((0, len(y)))\n",
    "    plt.legend()\n",
    "    # plt.savefig('images/AAL_macd.png', bbox_inches='tight')\n",
    "    plt.show()\n",
    "    \n",
    "    # Generate input data - technical indicators\n",
    "    ind1 = talib.MIDPOINT(close)    # Overlap: MidPoint over period\n",
    "    ind2 = talib.HT_DCPERIOD(close) # Cycle Indicator Functions:  Hilbert Transform - Dominant Cycle Period\n",
    "    ind3 = talib.MAX(close)         # Math Operator: Highest value over a specified period\n",
    "    ind4 = talib.SIN(close)         # Math Transform: Vector Trigonometric Sin\n",
    "    ind5 = talib.APO(close)         # Momentum: Absolute Price Oscillator\n",
    "    ind6 = talib.TEMA(close, timeperiod=5) ## Triple Exponential Moving Average\n",
    "\n",
    "    x = np.vstack((macdhist, macd, macdsignal, ind1[-len(macdhist):], ind2[-len(macdhist):],\n",
    "                   ind3[-len(macdhist):], ind4[-len(macdhist):], ind5[-len(macdhist):],\n",
    "                   ind6[-len(macdhist):]))\n",
    "    x = x.T\n",
    "\n",
    "    return x, y"
   ]
  },
  {
   "cell_type": "code",
   "execution_count": 6,
   "metadata": {},
   "outputs": [
    {
     "data": {
      "image/png": "[encoded data removed]",
      "text/plain": [
       "<Figure size 432x288 with 1 Axes>"
      ]
     },
     "metadata": {
      "needs_background": "light"
     },
     "output_type": "display_data"
    }
   ],
   "source": [
    "# Implement MACD trading strategy\n",
    "X, y = prepare_dataset(close)"
   ]
  },
  {
   "cell_type": "code",
   "execution_count": 7,
   "metadata": {},
   "outputs": [
    {
     "data": {
      "text/plain": [
       "array([ 0.1117908 , -0.55224234, -0.66403314, 58.15180397, 17.21176483,\n",
       "       60.51650238,  0.94774692, -0.65588834, 57.84783748])"
      ]
     },
     "execution_count": 7,
     "metadata": {},
     "output_type": "execute_result"
    }
   ],
   "source": [
    "X[0]"
   ]
  },
  {
   "cell_type": "code",
   "execution_count": 8,
   "metadata": {},
   "outputs": [],
   "source": [
    "# Split dataset\n",
    "n_train = int(X.shape[0] * 0.8)\n",
    "\n",
    "X_train, y_train = X[:n_train], y[:n_train]\n",
    "X_test, y_test = X[n_train:], y[n_train:]"
   ]
  },
  {
   "cell_type": "code",
   "execution_count": 9,
   "metadata": {},
   "outputs": [],
   "source": [
    "# Normalize data\n",
    "scaler = preprocessing.MinMaxScaler()\n",
    "\n",
    "X_train = scaler.fit_transform(X_train)\n",
    "X_test = scaler.transform(X_test)"
   ]
  },
  {
   "cell_type": "code",
   "execution_count": 10,
   "metadata": {},
   "outputs": [
    {
     "name": "stdout",
     "output_type": "stream",
     "text": [
      "[-1.  0.  1.]\n"
     ]
    }
   ],
   "source": [
    "# Encode trading signal with integers between 0 and n-1 classes\n",
    "le = preprocessing.LabelEncoder()\n",
    "\n",
    "y_train = le.fit_transform(y_train)\n",
    "y_test = le.transform(y_test)\n",
    "\n",
    "print(le.classes_)"
   ]
  },
  {
   "cell_type": "code",
   "execution_count": 11,
   "metadata": {},
   "outputs": [],
   "source": [
    "## Create and train the Agent\n",
    "# Variable definiton\n",
    "episodes = 20\n",
    "look_back = 5\n",
    "batch_size = 32\n",
    "action_size = len(le.classes_)\n",
    "n_features = X_train.shape[1]"
   ]
  },
  {
   "cell_type": "code",
   "execution_count": 12,
   "metadata": {},
   "outputs": [],
   "source": [
    "# Create Agent\n",
    "agent = Agent(look_back, action_size, n_features)"
   ]
  },
  {
   "cell_type": "code",
   "execution_count": 13,
   "metadata": {},
   "outputs": [],
   "source": [
    "def run(agent, dataX, dataY, episodes, look_back):\n",
    "    \"\"\"\n",
    "    Function run to train the agent\n",
    "    \"\"\"\n",
    "    \n",
    "    # Length of dataset\n",
    "    times = len(dataX)\n",
    "\n",
    "    # List of total rewards\n",
    "    total_reward_list = []\n",
    "\n",
    "    for ep in range(episodes):\n",
    "\n",
    "        # print('Episode: ' + str(ep))\n",
    "        \n",
    "        # Initial state and position\n",
    "        state = dataX[:look_back, :][np.newaxis, :, :]\n",
    "        pos = dataY[look_back - 1]\n",
    "\n",
    "        done = False\n",
    "        total_reward = 0\n",
    "\n",
    "        for t in range(1, times - look_back + 1):\n",
    "\n",
    "            # Predict action based on the current state\n",
    "            action = agent.act(state)\n",
    "\n",
    "            # Calculate reward\n",
    "            if action == pos:   # 0:-1      1:0     2:1\n",
    "                reward = +1\n",
    "\n",
    "            elif (pos == 0 or pos == 2):\n",
    "                if action == 1:\n",
    "                    reward = 0\n",
    "                else:\n",
    "                    reward = -1\n",
    "            else:\n",
    "                reward = -1\n",
    "\n",
    "            total_reward += reward\n",
    "\n",
    "            # Final state\n",
    "            if t == times - look_back:\n",
    "                done = True\n",
    "\n",
    "            # Receive next state and position\n",
    "            next_state = dataX[t:t + look_back, :][np.newaxis, :, :]\n",
    "            next_pos = dataY[t + look_back - 1]\n",
    "            \n",
    "            # Remember current experience\n",
    "            agent.remember(state, action, reward, next_state, done)\n",
    "            \n",
    "            # Make next_state the new current state; the same for pos\n",
    "            state = next_state\n",
    "            pos = next_pos\n",
    "\n",
    "            if done:\n",
    "                print('Episode: %i ---> Total Reward: %i' %(ep, total_reward))\n",
    "                total_reward_list.append(total_reward)\n",
    "\n",
    "            # Train the agent with previous experiences\n",
    "            if len(agent.memory) > batch_size:\n",
    "                agent.replay(batch_size)\n",
    "\n",
    "        if (ep + 1) % 5 == 0 and ep > 0:\n",
    "            file = 'checkpoints/' + symbol + '_robot_checkpoint' + str(ep + 1)\n",
    "            # Serialize weights to HDF5\n",
    "            agent.model.save_weights(file + \".h5\")\n",
    "            # Save epsilon\n",
    "            pickle.dump(agent.epsilon, open(file + \"_epsilon.pickle\", \"wb\"))\n",
    "\n",
    "    # Save list of rewards along the epochs\n",
    "    np.savetxt(file + '_total_reward.txt', total_reward_list)\n",
    "\n",
    "    return\n"
   ]
  },
  {
   "cell_type": "code",
   "execution_count": 14,
   "metadata": {},
   "outputs": [
    {
     "name": "stdout",
     "output_type": "stream",
     "text": [
      "Episode: 0 ---> Total Reward: 192\n",
      "Episode: 1 ---> Total Reward: 308\n",
      "Episode: 2 ---> Total Reward: 310\n",
      "Episode: 3 ---> Total Reward: 328\n",
      "Episode: 4 ---> Total Reward: 315\n",
      "Episode: 5 ---> Total Reward: 359\n",
      "Episode: 6 ---> Total Reward: 395\n",
      "Episode: 7 ---> Total Reward: 419\n",
      "Episode: 8 ---> Total Reward: 438\n",
      "Episode: 9 ---> Total Reward: 448\n",
      "Episode: 10 ---> Total Reward: 443\n",
      "Episode: 11 ---> Total Reward: 438\n",
      "Episode: 12 ---> Total Reward: 455\n",
      "Episode: 13 ---> Total Reward: 437\n",
      "Episode: 14 ---> Total Reward: 463\n",
      "Episode: 15 ---> Total Reward: 444\n",
      "Episode: 16 ---> Total Reward: 450\n",
      "Episode: 17 ---> Total Reward: 451\n",
      "Episode: 18 ---> Total Reward: 463\n",
      "Episode: 19 ---> Total Reward: 456\n"
     ]
    }
   ],
   "source": [
    "# Train Agent\n",
    "run(agent, X_train, y_train, episodes, look_back)"
   ]
  },
  {
   "cell_type": "code",
   "execution_count": 15,
   "metadata": {},
   "outputs": [
    {
     "data": {
      "image/png": "[encoded data removed]",
      "text/plain": [
       "<Figure size 432x288 with 1 Axes>"
      ]
     },
     "metadata": {
      "needs_background": "light"
     },
     "output_type": "display_data"
    }
   ],
   "source": [
    "# Load rewards\n",
    "total_reward_list = np.loadtxt( 'checkpoints/'+ symbol + '_robot_checkpoint' + str(episodes) + '_total_reward.txt')\n",
    "# Plot\n",
    "plt.figure()\n",
    "plt.plot(np.arange(1, episodes+1), total_reward_list)\n",
    "plt.xlabel('Episodes')\n",
    "plt.ylabel('Total Reward')\n",
    "plt.show()"
   ]
  },
  {
   "cell_type": "code",
   "execution_count": 16,
   "metadata": {},
   "outputs": [
    {
     "data": {
      "text/plain": [
       "array([192., 308., 310., 328., 315., 359., 395., 419., 438., 448., 443.,\n",
       "       438., 455., 437., 463., 444., 450., 451., 463., 456.])"
      ]
     },
     "execution_count": 16,
     "metadata": {},
     "output_type": "execute_result"
    }
   ],
   "source": [
    "total_reward_list"
   ]
  },
  {
   "cell_type": "code",
   "execution_count": 17,
   "metadata": {},
   "outputs": [],
   "source": [
    "def evaluate(agent, dataX, dataY, look_back):\n",
    "    \"\"\"\n",
    "    Function run to evaluate the trained agent\n",
    "    \"\"\"\n",
    "    \n",
    "    # Length of dataset\n",
    "    times = len(dataX)\n",
    "\n",
    "    # Initial state and position\n",
    "    state = dataX[:look_back, :][np.newaxis, :, :]\n",
    "    pos = dataY[look_back - 1]\n",
    "\n",
    "    # List of predicted positions\n",
    "    pos_list = []\n",
    "    \n",
    "    done = False\n",
    "    total_reward = 0\n",
    "    \n",
    "    for t in range(1, times - look_back + 1):\n",
    "\n",
    "        # Predict action based on the current state\n",
    "        action = agent.act(state)\n",
    "\n",
    "        # Calculate reward\n",
    "        if action == pos:   # 0:-1      1:0     2:1\n",
    "            reward = +1\n",
    "\n",
    "        elif (pos == 0 or pos == 2):\n",
    "            if action == 1:\n",
    "                reward = 0\n",
    "            else:\n",
    "                reward = -1\n",
    "        else:\n",
    "            reward = -1\n",
    "\n",
    "        pos_list.append(action)\n",
    "        total_reward += reward\n",
    "\n",
    "        # Final state\n",
    "        if t == times - look_back:\n",
    "            done = True\n",
    "\n",
    "        # Receive next state and position\n",
    "        next_state = dataX[t:t + look_back, :][np.newaxis, :, :]\n",
    "        next_pos = dataY[t + look_back - 1]\n",
    "\n",
    "        # Remember current experience\n",
    "        agent.remember(state, action, reward, next_state, done)\n",
    "\n",
    "        # Make next_state the new current state; the same for pos\n",
    "        state = next_state\n",
    "        pos = next_pos\n",
    "\n",
    "        if done:\n",
    "            print('Total Reward: %i' % total_reward)\n",
    "\n",
    "    return np.array(pos_list)"
   ]
  },
  {
   "cell_type": "code",
   "execution_count": 18,
   "metadata": {},
   "outputs": [
    {
     "name": "stdout",
     "output_type": "stream",
     "text": [
      "Total Reward: 98\n",
      "Accuracy: 71.43 %\n"
     ]
    }
   ],
   "source": [
    "# Evaluate the model\n",
    "# Make predictions\n",
    "y_pred_test = evaluate(agent, X_test, y_test, look_back)\n",
    "\n",
    "# Calculate and print accuracy\n",
    "acc = accuracy_score(y_test[look_back-1:-1], y_pred_test)\n",
    "\n",
    "print('Accuracy: %.2f %%' % (acc*100))"
   ]
  },
  {
   "cell_type": "code",
   "execution_count": 19,
   "metadata": {},
   "outputs": [
    {
     "name": "stdout",
     "output_type": "stream",
     "text": [
      "      1-Precision  2-Recall  3-F1 score  4-Support\n",
      "-1.0        0.976     0.800       0.879        100\n",
      " 0.0        0.309     0.895       0.459         19\n",
      " 1.0        1.000     0.143       0.250         21\n"
     ]
    }
   ],
   "source": [
    "# Calculate and print precision, recall, f1 score and support\n",
    "p, r, f1, s = precision_recall_fscore_support(y_test[look_back-1:-1], y_pred_test, average=None)\n",
    "results = pd.DataFrame({'1-Precision': p, '2-Recall': r, '3-F1 score': f1, '4-Support': s}, index=le.classes_)\n",
    "\n",
    "print(results.round(decimals=3))"
   ]
  },
  {
   "cell_type": "code",
   "execution_count": 20,
   "metadata": {},
   "outputs": [],
   "source": [
    "# Decodificate labels\n",
    "y_true_test = le.inverse_transform(y_test[look_back-1:-1])\n",
    "y_pred_test = le.inverse_transform(y_pred_test)"
   ]
  },
  {
   "cell_type": "code",
   "execution_count": 21,
   "metadata": {},
   "outputs": [
    {
     "data": {
      "image/png": "[encoded data removed]",
      "text/plain": [
       "<Figure size 432x288 with 1 Axes>"
      ]
     },
     "metadata": {
      "needs_background": "light"
     },
     "output_type": "display_data"
    }
   ],
   "source": [
    "# Plot strategy\n",
    "plt.figure()\n",
    "plt.plot(y_true_test, label='true')\n",
    "plt.plot(y_pred_test, label='pred')\n",
    "plt.legend()\n",
    "plt.show()"
   ]
  },
  {
   "cell_type": "code",
   "execution_count": null,
   "metadata": {},
   "outputs": [],
   "source": []
  }
 ],
 "metadata": {
  "kernelspec": {
   "display_name": "Python 3",
   "language": "python",
   "name": "python3"
  },
  "language_info": {
   "codemirror_mode": {
    "name": "ipython",
    "version": 3
   },
   "file_extension": ".py",
   "mimetype": "text/x-python",
   "name": "python",
   "nbconvert_exporter": "python",
   "pygments_lexer": "ipython3",
   "version": "3.7.6"
  }
 },
 "nbformat": 4,
 "nbformat_minor": 2
}
