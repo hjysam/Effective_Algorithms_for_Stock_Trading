{
 "cells": [
  {
   "cell_type": "code",
   "execution_count": 1,
   "metadata": {
    "scrolled": true
   },
   "outputs": [
    {
     "name": "stderr",
     "output_type": "stream",
     "text": [
      "C:\\Users\\Elid-PC.DESKTOP-MG9DS93\\anaconda3\\lib\\site-packages\\pandas_datareader\\compat\\__init__.py:7: FutureWarning: pandas.util.testing is deprecated. Use the functions in the public API at pandas.testing instead.\n",
      "  from pandas.util.testing import assert_frame_equal\n"
     ]
    },
    {
     "data": {
      "application/javascript": [
       "\n",
       "console.log('Starting front end url_querystring_target comm target');\n",
       "const comm = Jupyter.notebook.kernel.comm_manager.new_comm('url_querystring_target', {'init': 1});\n",
       "comm.send({'ipyparams_browser_url': window.location.href});\n",
       "console.log('Sent window.location.href on url_querystring_target comm target');\n",
       "\n",
       "comm.on_msg(function(msg) {\n",
       "    console.log(msg.content.data);\n",
       "});\n"
      ],
      "text/plain": [
       "<IPython.core.display.Javascript object>"
      ]
     },
     "metadata": {},
     "output_type": "display_data"
    },
    {
     "name": "stderr",
     "output_type": "stream",
     "text": [
      "Using TensorFlow backend.\n"
     ]
    }
   ],
   "source": [
    "# Import libraries\n",
    "import pandas as pd\n",
    "from pandas_datareader import data as pdr\n",
    "\n",
    "import numpy as np\n",
    "import matplotlib.pyplot as plt\n",
    "import pickle\n",
    "\n",
    "from sklearn import preprocessing\n",
    "from sklearn.metrics import accuracy_score\n",
    "from sklearn.metrics import precision_recall_fscore_support\n",
    "\n",
    "import talib, re, ipyparams\n",
    "\n",
    "from Agent import Agent"
   ]
  },
  {
   "cell_type": "code",
   "execution_count": 2,
   "metadata": {},
   "outputs": [
    {
     "data": {
      "text/plain": [
       "755"
      ]
     },
     "execution_count": 2,
     "metadata": {},
     "output_type": "execute_result"
    }
   ],
   "source": [
    "end_date = '2020-04-19'\n",
    "start_date = '2017-04-20'\n",
    "\n",
    "symbol = 'IBM'\n",
    "Date = pd.DataFrame(pdr.DataReader(symbol,'yahoo', start_date, end_date))\n",
    "\n",
    "alldata = pd.DataFrame({'Date': Date.index})\n",
    "alldata[symbol] = pdr.DataReader(symbol, 'yahoo', start_date, end_date)['Adj Close'].values\n",
    "# Stock symbol\n",
    "\n",
    "# Load close prices of to NumPy array\n",
    "close = alldata[symbol].values\n",
    "len(close)"
   ]
  },
  {
   "cell_type": "code",
   "execution_count": 3,
   "metadata": {},
   "outputs": [
    {
     "data": {
      "text/plain": [
       "array([139.86903381, 140.396698  , 138.73583984, 139.05592346,\n",
       "       138.74449158, 138.45901489, 138.68392944, 138.65797424,\n",
       "       137.40365601, 137.62857056, 137.22201538, 137.58532715,\n",
       "       134.12515259, 133.67089844, 132.86729431, 132.11611938,\n",
       "       131.5920105 , 131.34741211, 132.34321594, 134.23867798,\n",
       "       131.83657837, 131.70558167, 132.75378418, 133.33026123,\n",
       "       132.79740906, 133.21672058, 133.81941223, 133.19923401,\n",
       "       132.53538513, 133.32156372, 133.35646057, 132.81489563,\n",
       "       133.12936401, 133.09442139, 131.88024902, 132.85856628,\n",
       "       134.6055603 , 135.54893494, 134.73657227, 134.35224915,\n",
       "       134.71038818, 135.72364807, 135.25193787, 135.34803772,\n",
       "       134.33477783, 134.86759949, 134.61431885, 135.59262085,\n",
       "       135.1733551 , 135.67124939, 134.63180542, 134.36973572,\n",
       "       135.89834595, 134.22993469, 133.08570862, 133.59231567,\n",
       "       134.01158142, 133.8106842 , 134.25616455, 134.19503784,\n",
       "       134.72787476, 133.65341187, 134.51821899, 128.86668396,\n",
       "       128.98025513, 128.47363281, 127.52155304, 127.69623566,\n",
       "       126.97122955, 126.71791077, 126.03658295, 126.36849976,\n",
       "       126.9188385 , 126.17632294, 126.60436249, 126.79654694,\n",
       "       125.32032013, 125.44390869, 125.14376831, 125.20554352,\n",
       "       125.20554352, 125.62926483, 125.40858459, 125.78814697,\n",
       "       124.19924927, 123.31655121, 123.87264252, 124.47289276,\n",
       "       125.47037506, 126.17654419, 126.88272858, 125.79696655,\n",
       "       126.35309601, 125.84113312, 126.25600433, 127.18283081,\n",
       "       126.26483154, 126.95336914, 126.14125061, 125.74401093,\n",
       "       127.8713913 , 128.66583252, 128.86889648, 128.47164917,\n",
       "       127.8360672 , 127.59774017, 127.45650482, 128.77177429,\n",
       "       128.2244873 , 128.10972595, 128.76292419, 129.37202454,\n",
       "       128.57757568, 128.57757568, 128.06559753, 129.46029663,\n",
       "       129.56620789, 129.30140686, 129.51324463, 129.30140686,\n",
       "       130.10467529, 131.08448792, 130.30770874, 129.78689575,\n",
       "       129.84869385, 129.61032104, 129.35437012, 140.82095337,\n",
       "       142.0302887 , 143.06304932, 140.83862305, 137.59901428,\n",
       "       135.49810791, 135.58639526, 135.65698242, 136.25726318,\n",
       "       135.99243164, 135.9659729 , 135.36573792, 133.80328369,\n",
       "       133.15007019, 133.60025024, 133.79446411, 133.99951172,\n",
       "       132.9831543 , 132.30557251, 132.7424469 , 131.14657593,\n",
       "       132.94749451, 132.81376648, 134.18673706, 135.47055054,\n",
       "       135.31008911, 135.37249756, 135.49732971, 135.93417358,\n",
       "       136.89704895, 137.27148438, 137.97579956, 139.49143982,\n",
       "       138.50184631, 137.3874054 , 136.91487122, 138.02037048,\n",
       "       138.55529785, 139.74108887, 137.21800232, 137.29826355,\n",
       "       135.9609375 , 136.70088196, 136.61174011, 136.36210632,\n",
       "       135.06936646, 135.9609375 , 136.25514221, 136.52258301,\n",
       "       137.33389282, 136.78115845, 137.52111816, 141.30131531,\n",
       "       144.16314697, 144.86749268, 145.74119568, 146.06214905,\n",
       "       146.37417603, 146.39204407, 145.44697571, 146.07998657,\n",
       "       150.35940552, 150.77841187, 144.76046753, 144.96554565,\n",
       "       148.21972656, 147.43513489, 147.52427673, 149.19146729,\n",
       "       148.71003723, 145.87490845, 145.94625854, 144.78723145,\n",
       "       141.78271484, 135.98768616, 138.4928894 , 137.164505  ,\n",
       "       132.87895203, 134.60760498, 136.30918884, 135.72399902,\n",
       "       139.33430481, 140.45973206, 140.61277771, 139.69442749,\n",
       "       138.61402893, 137.91177368, 140.01853943, 142.77352905,\n",
       "       140.94587708, 140.2976532 , 138.47897339, 139.0912323 ,\n",
       "       141.3059845 , 140.19857788, 142.53947449, 140.63978577,\n",
       "       143.43078613, 144.28607178, 143.43978882, 142.35940552,\n",
       "       143.7008667 , 144.28607178, 141.6661377 , 140.63075256,\n",
       "       141.07192993, 136.93041992, 134.04940796, 138.08282471,\n",
       "       136.76835632, 137.31756592, 138.13685608, 135.11175537,\n",
       "       134.91371155, 138.75808716, 138.67706299, 135.56196594,\n",
       "       137.47062683, 139.90150452, 139.87449646, 142.31436157,\n",
       "       141.0899353 , 142.15231323, 144.87130737, 133.95933533,\n",
       "       132.97799683, 130.45709229, 131.32141113, 131.05130005,\n",
       "       131.39344788, 132.09567261, 131.87960815, 130.51112366,\n",
       "       130.54711914, 128.251297  , 127.83713531, 129.56576538,\n",
       "       128.94454956, 128.74647522, 129.82063293, 131.30447388,\n",
       "       131.2134552 , 131.35908508, 130.84933472, 131.65950012,\n",
       "       131.54116821, 131.15881348, 132.44238281, 132.07823181,\n",
       "       131.69592285, 131.1497345 , 130.75827026, 128.55529785,\n",
       "       129.82975769, 128.63722229, 129.21983337, 130.21206665,\n",
       "       130.81289673, 131.73233032, 132.32403564, 133.03405762,\n",
       "       133.43461609, 133.69859314, 133.22525024, 132.17835999,\n",
       "       132.35131836, 131.52293396, 130.99493408, 129.83886719,\n",
       "       128.58261108, 128.60992432, 126.34320831, 126.60723114,\n",
       "       125.15071106, 127.48110199, 127.17159271, 127.31726074,\n",
       "       127.05328369, 128.74645996, 129.70230103, 131.44100952,\n",
       "       131.73233032, 131.94168091, 133.31628418, 132.81556702,\n",
       "       132.41508484, 130.62171936, 131.55935669, 135.85606384,\n",
       "       133.22525024, 132.63352966, 133.25254822, 133.47102356,\n",
       "       133.55296326, 132.13285828, 132.44238281, 131.93258667,\n",
       "       130.63082886, 130.13925171, 134.45417786, 132.93391418,\n",
       "       133.82606506, 133.71681213, 133.21072388, 132.94386292,\n",
       "       131.31521606, 131.91331482, 132.41938782, 133.73519897,\n",
       "       134.3977356 , 134.81178284, 134.31491089, 133.64320374,\n",
       "       133.76280212, 134.3793335 , 134.97740173, 134.88540649,\n",
       "       135.759552  , 134.27812195, 134.78416443, 134.04806519,\n",
       "       134.9498291 , 134.70140076, 133.83642578, 134.02046204,\n",
       "       134.793396  , 134.86700439, 137.05697632, 136.48646545,\n",
       "       136.12762451, 136.69812012, 137.15817261, 139.08131409,\n",
       "       139.2653656 , 138.05073547, 137.02018738, 139.5045929 ,\n",
       "       139.40336609, 139.13652039, 140.78359985, 141.47369385,\n",
       "       140.98600769, 139.22851562, 137.13058472, 136.54167175,\n",
       "       135.48350525, 131.29679871, 127.91983032, 129.60372925,\n",
       "       129.8613739 , 133.53277588, 123.34667969, 120.12612915,\n",
       "       118.79191589, 119.63844299, 120.73343658, 117.0528183 ,\n",
       "       116.35350037, 114.8260498 , 110.08725739, 106.18579102,\n",
       "       106.21340179, 107.50161743, 106.43423462, 110.47370911,\n",
       "       113.28939056, 114.87204742, 114.97455597, 115.12366486,\n",
       "       112.66350555, 112.60760498, 112.01120758, 113.16672516,\n",
       "       113.28786469, 112.1137085 , 109.21557617, 110.49224091,\n",
       "       109.20626831, 111.41481018, 111.85277557, 114.62044525,\n",
       "       113.20400238, 115.80392456, 116.77307129, 113.31581879,\n",
       "       115.46845245, 111.20977783, 112.87783813, 112.65419006,\n",
       "       112.90579987, 112.50510406, 111.73162842, 108.19052124,\n",
       "       108.70306396, 108.49803925, 105.32034302, 103.38204956,\n",
       "       100.24162292, 103.8013916 , 106.02857208, 105.32966614,\n",
       "       105.92605591, 107.36114502, 105.2178421 , 109.32739258,\n",
       "       110.1008606 , 111.66640472, 112.46781921, 113.49288177,\n",
       "       113.1853714 , 112.18825531, 113.43697357, 113.33446503,\n",
       "       113.86563873, 115.38458252, 114.17314148, 123.83668518,\n",
       "       123.50119781, 124.84309387, 125.12267303, 125.17855835,\n",
       "       125.22516632, 125.26243591, 124.96425629, 125.9799881 ,\n",
       "       126.31545258, 127.03299713, 125.56234741, 126.05256653,\n",
       "       126.31653595, 128.25856018, 129.6443634 , 128.66392517,\n",
       "       130.12516785, 130.75679016, 130.09689331, 129.94602966,\n",
       "       131.27531433, 131.4732666 , 131.71838379, 131.19987488,\n",
       "       130.21943665, 131.22814941, 130.5022583 , 129.98376465,\n",
       "       129.13528442, 127.60807037, 127.35351562, 129.82350159,\n",
       "       130.3608551 , 130.62481689, 130.84162903, 131.44497681,\n",
       "       132.18032837, 132.4442749 , 131.60525513, 133.33987427,\n",
       "       131.46383667, 131.20930481, 132.18974304, 131.26585388,\n",
       "       131.90692139, 133.01934814, 135.09335327, 134.81053162,\n",
       "       135.40446472, 134.60313416, 135.07447815, 135.17819214,\n",
       "       133.97151184, 134.82939148, 135.54586792, 136.08322144,\n",
       "       135.65901184, 136.82797241, 131.14331055, 132.29345703,\n",
       "       130.93591309, 132.3971405 , 131.93519592, 130.6907959 ,\n",
       "       131.454422  , 131.08674622, 132.23687744, 132.51026917,\n",
       "       131.5958252 , 132.21803284, 132.34059143, 129.75750732,\n",
       "       130.09689331, 129.10479736, 129.08573914, 125.36539459,\n",
       "       127.1683197 , 128.20809937, 129.61991882, 128.1317749 ,\n",
       "       128.89492798, 130.16366577, 130.06828308, 126.29069519,\n",
       "       126.18577576, 124.44963074, 123.71509552, 123.60063171,\n",
       "       121.13948822, 122.36051941, 126.57688904, 125.43218231,\n",
       "       126.12854767, 127.1683197 , 128.53244019, 129.68670654,\n",
       "       128.65643311, 129.50541687, 128.92353821, 128.73275757,\n",
       "       130.09689331, 130.76463318, 132.45307922, 132.78697205,\n",
       "       132.93005371, 131.98565674, 132.13829041, 132.13829041,\n",
       "       131.54684448, 133.43563843, 133.75996399, 135.01914978,\n",
       "       134.86653137, 134.09384155, 132.91096497, 133.9984436 ,\n",
       "       134.73300171, 136.16387939, 136.71716309, 136.91748047,\n",
       "       136.47868347, 142.7364502 , 142.78413391, 142.84138489,\n",
       "       143.4519043 , 143.11801147, 143.46142578, 144.38673401,\n",
       "       143.92886353, 142.87001038, 141.41049194, 143.39465332,\n",
       "       140.46609497, 134.27508545, 134.24649048, 132.7011261 ,\n",
       "       135.22019958, 131.38847351, 129.44848633, 131.06030273,\n",
       "       126.67845154, 127.32511139, 129.10101318, 130.33644104,\n",
       "       128.36749268, 129.57395935, 129.64151001, 125.05697632,\n",
       "       125.46234894, 126.60123444, 128.135849  , 130.18203735,\n",
       "       130.80937195, 129.42919922, 131.5718689 , 136.05989075,\n",
       "       135.67382812, 137.63311768, 139.99778748, 138.59829712,\n",
       "       138.61759949, 138.66584778, 137.51730347, 137.24705505,\n",
       "       137.26635742, 137.99023438, 136.93821716, 137.12159729,\n",
       "       136.74516296, 138.1736145 , 138.55003357, 138.25083923,\n",
       "       140.35488892, 138.65620422, 136.75482178, 137.07333374,\n",
       "       138.009552  , 136.35908508, 133.56011963, 134.80517578,\n",
       "       136.21432495, 137.78753662, 137.09262085, 138.0191803 ,\n",
       "       137.16018677, 129.58360291, 129.41952515, 127.96212006,\n",
       "       129.29405212, 129.69943237, 129.40023804, 130.72251892,\n",
       "       131.23405457, 129.15895081, 130.53912354, 129.07206726,\n",
       "       130.80937195, 132.87484741, 133.08717346, 133.94618225,\n",
       "       134.46376038, 134.38563538, 132.29577637, 132.41296387,\n",
       "       131.32896423, 130.86021423, 131.25083923, 131.16294861,\n",
       "       131.36804199, 130.07896423, 130.70396423, 131.19224548,\n",
       "       132.78405762, 131.92466736, 130.63560486, 131.29968262,\n",
       "       129.79576111, 129.02426147, 128.89732361, 128.81918335,\n",
       "       130.09849548, 130.78208923, 130.77233887, 130.62583923,\n",
       "       132.14929199, 131.06530762, 130.98718262, 131.07505798,\n",
       "       131.26060486, 131.40708923, 132.41296387, 132.37390137,\n",
       "       131.81724548, 131.74890137, 132.10046387, 129.69810486,\n",
       "       130.89927673, 132.24693298, 131.19224548, 130.95788574,\n",
       "       131.04576111, 132.13952637, 133.53601074, 133.48719788,\n",
       "       133.39930725, 132.63757324, 133.41882324, 134.7469635 ,\n",
       "       135.06922913, 135.90907288, 140.51847839, 139.52238464,\n",
       "       137.26649475, 135.3719635 , 136.28016663, 134.46376038,\n",
       "       133.56530762, 140.36222839, 142.8427124 , 145.61616516,\n",
       "       152.66699219, 153.08691406, 151.37982178, 152.38630676,\n",
       "       151.44888306, 153.25466919, 152.26789856, 148.70567322,\n",
       "       149.10038757, 148.86355591, 149.21879578, 147.85705566,\n",
       "       144.49217224, 139.83465576, 137.90058899, 131.34846497,\n",
       "       128.42762756, 132.52272034, 127.19416809, 132.44377136,\n",
       "       127.83557129, 126.03965759, 116.25093079, 123.11882782,\n",
       "       116.40882111, 101.44944   , 106.52141571,  97.76880646,\n",
       "       105.23862457, 102.17964935,  99.01212311,  94.12763214,\n",
       "        93.51583862, 104.08411407, 104.44921112, 111.39604187,\n",
       "       106.60035706, 111.43551636, 109.46198273, 103.74860382,\n",
       "       108.54428864, 104.932724  , 113.30050659, 113.41891479,\n",
       "       117.71134949, 119.8921051 , 119.54673767, 122.27021027,\n",
       "       117.11929321, 114.19846344, 118.53036499])"
      ]
     },
     "execution_count": 3,
     "metadata": {},
     "output_type": "execute_result"
    }
   ],
   "source": [
    "close"
   ]
  },
  {
   "cell_type": "code",
   "execution_count": 4,
   "metadata": {},
   "outputs": [
    {
     "data": {
      "text/html": [
       "<div>\n",
       "<style scoped>\n",
       "    .dataframe tbody tr th:only-of-type {\n",
       "        vertical-align: middle;\n",
       "    }\n",
       "\n",
       "    .dataframe tbody tr th {\n",
       "        vertical-align: top;\n",
       "    }\n",
       "\n",
       "    .dataframe thead th {\n",
       "        text-align: right;\n",
       "    }\n",
       "</style>\n",
       "<table border=\"1\" class=\"dataframe\">\n",
       "  <thead>\n",
       "    <tr style=\"text-align: right;\">\n",
       "      <th></th>\n",
       "      <th>macd</th>\n",
       "      <th>macdsignal</th>\n",
       "      <th>macdhist</th>\n",
       "    </tr>\n",
       "  </thead>\n",
       "  <tbody>\n",
       "    <tr>\n",
       "      <th>0</th>\n",
       "      <td>-1.245294</td>\n",
       "      <td>-2.532450</td>\n",
       "      <td>1.287156</td>\n",
       "    </tr>\n",
       "    <tr>\n",
       "      <th>1</th>\n",
       "      <td>-1.281298</td>\n",
       "      <td>-2.282220</td>\n",
       "      <td>1.000922</td>\n",
       "    </tr>\n",
       "    <tr>\n",
       "      <th>2</th>\n",
       "      <td>-1.075153</td>\n",
       "      <td>-2.040806</td>\n",
       "      <td>0.965653</td>\n",
       "    </tr>\n",
       "    <tr>\n",
       "      <th>3</th>\n",
       "      <td>-0.908372</td>\n",
       "      <td>-1.814319</td>\n",
       "      <td>0.905948</td>\n",
       "    </tr>\n",
       "    <tr>\n",
       "      <th>4</th>\n",
       "      <td>-0.907880</td>\n",
       "      <td>-1.633032</td>\n",
       "      <td>0.725152</td>\n",
       "    </tr>\n",
       "  </tbody>\n",
       "</table>\n",
       "</div>"
      ],
      "text/plain": [
       "       macd  macdsignal  macdhist\n",
       "0 -1.245294   -2.532450  1.287156\n",
       "1 -1.281298   -2.282220  1.000922\n",
       "2 -1.075153   -2.040806  0.965653\n",
       "3 -0.908372   -1.814319  0.905948\n",
       "4 -0.907880   -1.633032  0.725152"
      ]
     },
     "execution_count": 4,
     "metadata": {},
     "output_type": "execute_result"
    }
   ],
   "source": [
    "macd, macdsignal, macdhist = talib.MACD(close, fastperiod=5, slowperiod=20, signalperiod=9)\n",
    "macdhist = macdhist[~np.isnan(macdhist)]\n",
    "macd = macd[-len(macdhist):]\n",
    "macdsignal = macdsignal[-len(macdhist):]\n",
    "\n",
    "\n",
    "pd.DataFrame({'macd': macd, 'macdsignal': macdsignal, 'macdhist': macdhist}).head()"
   ]
  },
  {
   "cell_type": "code",
   "execution_count": 5,
   "metadata": {},
   "outputs": [],
   "source": [
    "def prepare_dataset(close):\n",
    "    \"\"\"\n",
    "    Function prepare_dataset to generate input data and trading strategy from stock close prices\n",
    "    \"\"\"\n",
    "\n",
    "    macd, macdsignal, macdhist = talib.MACD(close, fastperiod=12, slowperiod=26, signalperiod=9)\n",
    "\n",
    "    # Cancel NaN values\n",
    "    macdhist = macdhist[~np.isnan(macdhist)]\n",
    "    macd = macd[-len(macdhist):]\n",
    "    macdsignal = macdsignal[-len(macdhist):]\n",
    "\n",
    "    # Scaling features to a range [0, 1]\n",
    "    min_max_scaler = preprocessing.MinMaxScaler(feature_range=(-1, 1))\n",
    "    macdhist_norm = min_max_scaler.fit_transform(np.expand_dims(macdhist, axis=1))\n",
    "\n",
    "    # Implement strategy\n",
    "    start_sell = 0.2\n",
    "    stop_sell = 0.05\n",
    "    start_buy = -0.2\n",
    "    stop_buy = -0.05\n",
    "\n",
    "    y = np.full(len(macdhist), np.nan)\n",
    "    y[0] = 0\n",
    "\n",
    "    for i in range(1, len(macdhist)):\n",
    "\n",
    "        if y[i-1] == 0:\n",
    "            if (macdhist_norm[i] >= start_sell):\n",
    "                # Enter sell position\n",
    "                y[i] = -1\n",
    "            elif (macdhist_norm[i] <= start_buy):\n",
    "                # Enter buy position\n",
    "                y[i] = 1\n",
    "            else:\n",
    "                y[i] = 0\n",
    "        elif y[i-1] == -1:\n",
    "            if macdhist_norm[i] > stop_sell:\n",
    "                # Stay in sell position\n",
    "                y[i] = -1\n",
    "            else:\n",
    "                # Leave sell position\n",
    "                y[i] = 0\n",
    "        else:\n",
    "            if macdhist_norm[i] < stop_buy:\n",
    "                # Stay in buy position\n",
    "                y[i] = 1\n",
    "            else:\n",
    "                # Leave buy position\n",
    "                y[i] = 0\n",
    "\n",
    "    # Plot strategy\n",
    "    dates = np.arange(len(macdhist))\n",
    "    plt.plot(dates, y,'g', label='Strategy Positions')\n",
    "    plt.bar(dates, macdhist_norm[:, 0], width=1, color='blue', label='MACD histogram')\n",
    "    plt.plot(dates, start_sell * np.ones(len(macdhist)), 'k--', lw=1)\n",
    "    plt.plot(dates, stop_sell * np.ones(len(macdhist)), 'k--', lw=1)\n",
    "    plt.plot(dates, start_buy * np.ones(len(macdhist)), 'k--', lw=1)\n",
    "    plt.plot(dates, stop_buy * np.ones(len(macdhist)), 'k--', lw=1)\n",
    "    plt.xlabel('Days')\n",
    "    plt.xlim((0, len(y)))\n",
    "    plt.legend()\n",
    "    # plt.savefig('images/AAL_macd.png', bbox_inches='tight')\n",
    "    plt.show()\n",
    "    \n",
    "    # Generate input data - technical indicators\n",
    "    ind1 = talib.MIDPOINT(close)    # Overlap: MidPoint over period\n",
    "    ind2 = talib.HT_DCPERIOD(close) # Cycle Indicator Functions:  Hilbert Transform - Dominant Cycle Period\n",
    "    ind3 = talib.MAX(close)         # Math Operator: Highest value over a specified period\n",
    "    ind4 = talib.SIN(close)         # Math Transform: Vector Trigonometric Sin\n",
    "    ind5 = talib.APO(close)         # Momentum: Absolute Price Oscillator\n",
    "    ind6 = talib.TEMA(close, timeperiod=5) ## Triple Exponential Moving Average\n",
    "\n",
    "    x = np.vstack((macdhist, macd, macdsignal, ind1[-len(macdhist):], ind2[-len(macdhist):],\n",
    "                   ind3[-len(macdhist):], ind4[-len(macdhist):], ind5[-len(macdhist):],\n",
    "                   ind6[-len(macdhist):]))\n",
    "    x = x.T\n",
    "\n",
    "    return x, y"
   ]
  },
  {
   "cell_type": "code",
   "execution_count": 6,
   "metadata": {},
   "outputs": [
    {
     "data": {
      "image/png": "[encoded data removed]",
      "text/plain": [
       "<Figure size 432x288 with 1 Axes>"
      ]
     },
     "metadata": {
      "needs_background": "light"
     },
     "output_type": "display_data"
    }
   ],
   "source": [
    "# Implement MACD trading strategy\n",
    "X, y = prepare_dataset(close)"
   ]
  },
  {
   "cell_type": "code",
   "execution_count": 7,
   "metadata": {},
   "outputs": [
    {
     "data": {
      "text/plain": [
       "array([  0.63887103,  -1.39943564,  -2.03830666, 132.76249695,\n",
       "        17.21176483, 138.74449158,   0.91175217,  -0.46482487,\n",
       "       133.07785308])"
      ]
     },
     "execution_count": 7,
     "metadata": {},
     "output_type": "execute_result"
    }
   ],
   "source": [
    "X[0]"
   ]
  },
  {
   "cell_type": "code",
   "execution_count": 8,
   "metadata": {},
   "outputs": [],
   "source": [
    "# Split dataset\n",
    "n_train = int(X.shape[0] * 0.8)\n",
    "\n",
    "X_train, y_train = X[:n_train], y[:n_train]\n",
    "X_test, y_test = X[n_train:], y[n_train:]"
   ]
  },
  {
   "cell_type": "code",
   "execution_count": 9,
   "metadata": {},
   "outputs": [],
   "source": [
    "# Normalize data\n",
    "scaler = preprocessing.MinMaxScaler()\n",
    "\n",
    "X_train = scaler.fit_transform(X_train)\n",
    "X_test = scaler.transform(X_test)"
   ]
  },
  {
   "cell_type": "code",
   "execution_count": 10,
   "metadata": {},
   "outputs": [
    {
     "name": "stdout",
     "output_type": "stream",
     "text": [
      "[-1.  0.  1.]\n"
     ]
    }
   ],
   "source": [
    "# Encode trading signal with integers between 0 and n-1 classes\n",
    "le = preprocessing.LabelEncoder()\n",
    "\n",
    "y_train = le.fit_transform(y_train)\n",
    "y_test = le.transform(y_test)\n",
    "\n",
    "print(le.classes_)"
   ]
  },
  {
   "cell_type": "code",
   "execution_count": 11,
   "metadata": {},
   "outputs": [],
   "source": [
    "## Create and train the Agent\n",
    "# Variable definiton\n",
    "episodes = 20\n",
    "look_back = 5\n",
    "batch_size = 32\n",
    "action_size = len(le.classes_)\n",
    "n_features = X_train.shape[1]"
   ]
  },
  {
   "cell_type": "code",
   "execution_count": 12,
   "metadata": {},
   "outputs": [],
   "source": [
    "# Create Agent\n",
    "agent = Agent(look_back, action_size, n_features)"
   ]
  },
  {
   "cell_type": "code",
   "execution_count": 13,
   "metadata": {},
   "outputs": [],
   "source": [
    "def run(agent, dataX, dataY, episodes, look_back):\n",
    "    \"\"\"\n",
    "    Function run to train the agent\n",
    "    \"\"\"\n",
    "    \n",
    "    # Length of dataset\n",
    "    times = len(dataX)\n",
    "\n",
    "    # List of total rewards\n",
    "    total_reward_list = []\n",
    "\n",
    "    for ep in range(episodes):\n",
    "\n",
    "        # print('Episode: ' + str(ep))\n",
    "        \n",
    "        # Initial state and position\n",
    "        state = dataX[:look_back, :][np.newaxis, :, :]\n",
    "        pos = dataY[look_back - 1]\n",
    "\n",
    "        done = False\n",
    "        total_reward = 0\n",
    "\n",
    "        for t in range(1, times - look_back + 1):\n",
    "\n",
    "            # Predict action based on the current state\n",
    "            action = agent.act(state)\n",
    "\n",
    "            # Calculate reward\n",
    "            if action == pos:   # 0:-1      1:0     2:1\n",
    "                reward = +1\n",
    "\n",
    "            elif (pos == 0 or pos == 2):\n",
    "                if action == 1:\n",
    "                    reward = 0\n",
    "                else:\n",
    "                    reward = -1\n",
    "            else:\n",
    "                reward = -1\n",
    "\n",
    "            total_reward += reward\n",
    "\n",
    "            # Final state\n",
    "            if t == times - look_back:\n",
    "                done = True\n",
    "\n",
    "            # Receive next state and position\n",
    "            next_state = dataX[t:t + look_back, :][np.newaxis, :, :]\n",
    "            next_pos = dataY[t + look_back - 1]\n",
    "            \n",
    "            # Remember current experience\n",
    "            agent.remember(state, action, reward, next_state, done)\n",
    "            \n",
    "            # Make next_state the new current state; the same for pos\n",
    "            state = next_state\n",
    "            pos = next_pos\n",
    "\n",
    "            if done:\n",
    "                print('Episode: %i ---> Total Reward: %i' %(ep, total_reward))\n",
    "                total_reward_list.append(total_reward)\n",
    "\n",
    "            # Train the agent with previous experiences\n",
    "            if len(agent.memory) > batch_size:\n",
    "                agent.replay(batch_size)\n",
    "\n",
    "        if (ep + 1) % 5 == 0 and ep > 0:\n",
    "            file = 'checkpoints/' + symbol + '_robot_checkpoint' + str(ep + 1)\n",
    "            # Serialize weights to HDF5\n",
    "            agent.model.save_weights(file + \".h5\")\n",
    "            # Save epsilon\n",
    "            pickle.dump(agent.epsilon, open(file + \"_epsilon.pickle\", \"wb\"))\n",
    "\n",
    "    # Save list of rewards along the epochs\n",
    "    np.savetxt(file + '_total_reward.txt', total_reward_list)\n",
    "\n",
    "    return\n"
   ]
  },
  {
   "cell_type": "code",
   "execution_count": 14,
   "metadata": {},
   "outputs": [
    {
     "name": "stdout",
     "output_type": "stream",
     "text": [
      "Episode: 0 ---> Total Reward: 130\n",
      "Episode: 1 ---> Total Reward: 230\n",
      "Episode: 2 ---> Total Reward: 239\n",
      "Episode: 3 ---> Total Reward: 231\n",
      "Episode: 4 ---> Total Reward: 236\n",
      "Episode: 5 ---> Total Reward: 240\n",
      "Episode: 6 ---> Total Reward: 239\n",
      "Episode: 7 ---> Total Reward: 232\n",
      "Episode: 8 ---> Total Reward: 233\n",
      "Episode: 9 ---> Total Reward: 224\n",
      "Episode: 10 ---> Total Reward: 231\n",
      "Episode: 11 ---> Total Reward: 237\n",
      "Episode: 12 ---> Total Reward: 235\n",
      "Episode: 13 ---> Total Reward: 238\n",
      "Episode: 14 ---> Total Reward: 239\n",
      "Episode: 15 ---> Total Reward: 234\n",
      "Episode: 16 ---> Total Reward: 235\n",
      "Episode: 17 ---> Total Reward: 234\n",
      "Episode: 18 ---> Total Reward: 235\n",
      "Episode: 19 ---> Total Reward: 232\n"
     ]
    }
   ],
   "source": [
    "# Train Agent\n",
    "run(agent, X_train, y_train, episodes, look_back)"
   ]
  },
  {
   "cell_type": "code",
   "execution_count": 15,
   "metadata": {},
   "outputs": [
    {
     "data": {
      "image/png": "[encoded data removed]",
      "text/plain": [
       "<Figure size 432x288 with 1 Axes>"
      ]
     },
     "metadata": {
      "needs_background": "light"
     },
     "output_type": "display_data"
    }
   ],
   "source": [
    "# Load rewards\n",
    "total_reward_list = np.loadtxt( 'checkpoints/'+ symbol + '_robot_checkpoint' + str(episodes) + '_total_reward.txt')\n",
    "# Plot\n",
    "plt.figure()\n",
    "plt.plot(np.arange(1, episodes+1), total_reward_list)\n",
    "plt.xlabel('Episodes')\n",
    "plt.ylabel('Total Reward')\n",
    "plt.show()"
   ]
  },
  {
   "cell_type": "code",
   "execution_count": 16,
   "metadata": {},
   "outputs": [
    {
     "data": {
      "text/plain": [
       "array([130., 230., 239., 231., 236., 240., 239., 232., 233., 224., 231.,\n",
       "       237., 235., 238., 239., 234., 235., 234., 235., 232.])"
      ]
     },
     "execution_count": 16,
     "metadata": {},
     "output_type": "execute_result"
    }
   ],
   "source": [
    "total_reward_list"
   ]
  },
  {
   "cell_type": "code",
   "execution_count": 17,
   "metadata": {},
   "outputs": [],
   "source": [
    "def evaluate(agent, dataX, dataY, look_back):\n",
    "    \"\"\"\n",
    "    Function run to evaluate the trained agent\n",
    "    \"\"\"\n",
    "    \n",
    "    # Length of dataset\n",
    "    times = len(dataX)\n",
    "\n",
    "    # Initial state and position\n",
    "    state = dataX[:look_back, :][np.newaxis, :, :]\n",
    "    pos = dataY[look_back - 1]\n",
    "\n",
    "    # List of predicted positions\n",
    "    pos_list = []\n",
    "    \n",
    "    done = False\n",
    "    total_reward = 0\n",
    "    \n",
    "    for t in range(1, times - look_back + 1):\n",
    "\n",
    "        # Predict action based on the current state\n",
    "        action = agent.act(state)\n",
    "\n",
    "        # Calculate reward\n",
    "        if action == pos:   # 0:-1      1:0     2:1\n",
    "            reward = +1\n",
    "\n",
    "        elif (pos == 0 or pos == 2):\n",
    "            if action == 1:\n",
    "                reward = 0\n",
    "            else:\n",
    "                reward = -1\n",
    "        else:\n",
    "            reward = -1\n",
    "\n",
    "        pos_list.append(action)\n",
    "        total_reward += reward\n",
    "\n",
    "        # Final state\n",
    "        if t == times - look_back:\n",
    "            done = True\n",
    "\n",
    "        # Receive next state and position\n",
    "        next_state = dataX[t:t + look_back, :][np.newaxis, :, :]\n",
    "        next_pos = dataY[t + look_back - 1]\n",
    "\n",
    "        # Remember current experience\n",
    "        agent.remember(state, action, reward, next_state, done)\n",
    "\n",
    "        # Make next_state the new current state; the same for pos\n",
    "        state = next_state\n",
    "        pos = next_pos\n",
    "\n",
    "        if done:\n",
    "            print('Total Reward: %i' % total_reward)\n",
    "\n",
    "    return np.array(pos_list)"
   ]
  },
  {
   "cell_type": "code",
   "execution_count": 18,
   "metadata": {},
   "outputs": [
    {
     "name": "stdout",
     "output_type": "stream",
     "text": [
      "Total Reward: 52\n",
      "Accuracy: 37.14 %\n"
     ]
    }
   ],
   "source": [
    "# Evaluate the model\n",
    "# Make predictions\n",
    "y_pred_test = evaluate(agent, X_test, y_test, look_back)\n",
    "\n",
    "# Calculate and print accuracy\n",
    "acc = accuracy_score(y_test[look_back-1:-1], y_pred_test)\n",
    "\n",
    "print('Accuracy: %.2f %%' % (acc*100))"
   ]
  },
  {
   "cell_type": "code",
   "execution_count": 19,
   "metadata": {},
   "outputs": [
    {
     "name": "stdout",
     "output_type": "stream",
     "text": [
      "      1-Precision  2-Recall  3-F1 score  4-Support\n",
      "-1.0        0.000       0.0       0.000         60\n",
      " 0.0        0.371       1.0       0.542         52\n",
      " 1.0        0.000       0.0       0.000         28\n"
     ]
    },
    {
     "name": "stderr",
     "output_type": "stream",
     "text": [
      "C:\\Users\\Elid-PC.DESKTOP-MG9DS93\\anaconda3\\lib\\site-packages\\sklearn\\metrics\\_classification.py:1272: UndefinedMetricWarning: Precision and F-score are ill-defined and being set to 0.0 in labels with no predicted samples. Use `zero_division` parameter to control this behavior.\n",
      "  _warn_prf(average, modifier, msg_start, len(result))\n"
     ]
    }
   ],
   "source": [
    "# Calculate and print precision, recall, f1 score and support\n",
    "p, r, f1, s = precision_recall_fscore_support(y_test[look_back-1:-1], y_pred_test, average=None)\n",
    "results = pd.DataFrame({'1-Precision': p, '2-Recall': r, '3-F1 score': f1, '4-Support': s}, index=le.classes_)\n",
    "\n",
    "print(results.round(decimals=3))"
   ]
  },
  {
   "cell_type": "code",
   "execution_count": 20,
   "metadata": {},
   "outputs": [],
   "source": [
    "# Decodificate labels\n",
    "y_true_test = le.inverse_transform(y_test[look_back-1:-1])\n",
    "y_pred_test = le.inverse_transform(y_pred_test)"
   ]
  },
  {
   "cell_type": "code",
   "execution_count": 21,
   "metadata": {},
   "outputs": [
    {
     "data": {
      "image/png": "[encoded data removed]",
      "text/plain": [
       "<Figure size 432x288 with 1 Axes>"
      ]
     },
     "metadata": {
      "needs_background": "light"
     },
     "output_type": "display_data"
    }
   ],
   "source": [
    "# Plot strategy\n",
    "plt.figure()\n",
    "plt.plot(y_true_test, label='true')\n",
    "plt.plot(y_pred_test, label='pred')\n",
    "plt.legend()\n",
    "plt.show()"
   ]
  },
  {
   "cell_type": "code",
   "execution_count": null,
   "metadata": {},
   "outputs": [],
   "source": []
  }
 ],
 "metadata": {
  "kernelspec": {
   "display_name": "Python 3",
   "language": "python",
   "name": "python3"
  },
  "language_info": {
   "codemirror_mode": {
    "name": "ipython",
    "version": 3
   },
   "file_extension": ".py",
   "mimetype": "text/x-python",
   "name": "python",
   "nbconvert_exporter": "python",
   "pygments_lexer": "ipython3",
   "version": "3.7.6"
  }
 },
 "nbformat": 4,
 "nbformat_minor": 2
}
