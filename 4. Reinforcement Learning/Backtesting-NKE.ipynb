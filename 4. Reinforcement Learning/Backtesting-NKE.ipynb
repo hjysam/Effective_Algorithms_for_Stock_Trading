{
 "cells": [
  {
   "cell_type": "code",
   "execution_count": 1,
   "metadata": {
    "scrolled": true
   },
   "outputs": [
    {
     "name": "stderr",
     "output_type": "stream",
     "text": [
      "C:\\Users\\Elid-PC.DESKTOP-MG9DS93\\anaconda3\\lib\\site-packages\\pandas_datareader\\compat\\__init__.py:7: FutureWarning: pandas.util.testing is deprecated. Use the functions in the public API at pandas.testing instead.\n",
      "  from pandas.util.testing import assert_frame_equal\n"
     ]
    },
    {
     "data": {
      "application/javascript": [
       "\n",
       "console.log('Starting front end url_querystring_target comm target');\n",
       "const comm = Jupyter.notebook.kernel.comm_manager.new_comm('url_querystring_target', {'init': 1});\n",
       "comm.send({'ipyparams_browser_url': window.location.href});\n",
       "console.log('Sent window.location.href on url_querystring_target comm target');\n",
       "\n",
       "comm.on_msg(function(msg) {\n",
       "    console.log(msg.content.data);\n",
       "});\n"
      ],
      "text/plain": [
       "<IPython.core.display.Javascript object>"
      ]
     },
     "metadata": {},
     "output_type": "display_data"
    },
    {
     "name": "stderr",
     "output_type": "stream",
     "text": [
      "Using TensorFlow backend.\n"
     ]
    }
   ],
   "source": [
    "# Import libraries\n",
    "import pandas as pd\n",
    "from pandas_datareader import data as pdr\n",
    "\n",
    "import numpy as np\n",
    "import matplotlib.pyplot as plt\n",
    "import pickle\n",
    "\n",
    "from sklearn import preprocessing\n",
    "from sklearn.metrics import accuracy_score\n",
    "from sklearn.metrics import precision_recall_fscore_support\n",
    "\n",
    "import talib, re, ipyparams\n",
    "\n",
    "from Agent import Agent"
   ]
  },
  {
   "cell_type": "code",
   "execution_count": 2,
   "metadata": {},
   "outputs": [
    {
     "data": {
      "text/plain": [
       "755"
      ]
     },
     "execution_count": 2,
     "metadata": {},
     "output_type": "execute_result"
    }
   ],
   "source": [
    "end_date = '2020-04-19'\n",
    "start_date = '2017-04-20'\n",
    "\n",
    "symbol = 'NKE'\n",
    "Date = pd.DataFrame(pdr.DataReader(symbol,'yahoo', start_date, end_date))\n",
    "\n",
    "alldata = pd.DataFrame({'Date': Date.index})\n",
    "alldata[symbol] = pdr.DataReader(symbol, 'yahoo', start_date, end_date)['Adj Close'].values\n",
    "# Stock symbol\n",
    "\n",
    "# Load close prices of to NumPy array\n",
    "close = alldata[symbol].values\n",
    "len(close)"
   ]
  },
  {
   "cell_type": "code",
   "execution_count": 3,
   "metadata": {},
   "outputs": [
    {
     "data": {
      "text/plain": [
       "array([ 53.95555878,  54.47714996,  53.94589233,  53.57886124,\n",
       "        53.55953598,  53.27942276,  53.57886124,  53.52090073,\n",
       "        53.1152153 ,  53.19248581,  52.67089462,  52.61294556,\n",
       "        52.11067963,  52.44873428,  53.01863098,  52.69988251,\n",
       "        52.39078903,  52.35215378,  51.93680954,  50.98056412,\n",
       "        50.03396988,  49.91806793,  50.00500107,  49.81182098,\n",
       "        50.42034149,  50.23681641,  50.56521988,  50.79704666,\n",
       "        51.11578369,  51.18340683,  50.68910599,  51.3481636 ,\n",
       "        51.37724304,  50.86357117,  51.59046173,  51.56139374,\n",
       "        51.81338882,  52.36582184,  52.63720322,  52.97642136,\n",
       "        51.2706337 ,  49.52606964,  50.41773605,  49.97190475,\n",
       "        50.97018051,  50.78603363,  51.22216797,  51.63892365,\n",
       "        51.3190918 ,  51.716465  ,  51.53231812,  57.1827507 ,\n",
       "        56.84352112,  55.78710556,  55.39942169,  56.19416428,\n",
       "        56.92106628,  56.38800812,  56.42677307,  56.15539551,\n",
       "        56.21355057,  56.01002121,  55.87432861,  55.9906311 ,\n",
       "        57.27967072,  58.10348511,  57.13428879,  57.56073761,\n",
       "        56.56245804,  56.3589325 ,  56.86290741,  57.2312088 ,\n",
       "        57.99687576,  57.94841385,  58.28763199,  57.91933441,\n",
       "        57.94841385,  57.628582  ,  58.05503082,  57.25059128,\n",
       "        57.15367508,  57.93872452,  56.75629807,  56.7369194 ,\n",
       "        55.69017792,  53.25749207,  51.95876312,  52.46275711,\n",
       "        51.95876312,  52.18168259,  52.23983765,  52.07506943,\n",
       "        51.10586548,  50.94111252,  51.35929108,  51.89418411,\n",
       "        51.55379105,  51.31066513,  50.95081711,  50.76604843,\n",
       "        51.57324982,  51.9330864 ,  52.0497818 ,  52.25402069,\n",
       "        52.39016724,  52.03033829,  51.86501312,  52.08869171,\n",
       "        51.72885132,  51.77748108,  51.76774979,  52.22483826,\n",
       "        51.2231369 ,  51.18423462,  50.42566299,  50.44511414,\n",
       "        50.05611038,  50.6493454 ,  50.7466011 ,  50.98000717,\n",
       "        50.10473251,  50.11445236,  49.62818909,  49.4336853 ,\n",
       "        49.57955551,  49.95884323,  50.57154083,  50.86330414,\n",
       "        51.24258423,  51.60242462,  52.18594742,  51.95253372,\n",
       "        53.43078232,  55.24941254,  54.42276001,  53.75171661,\n",
       "        53.47940826,  53.55721283,  53.60582733,  54.17961884,\n",
       "        54.50056458,  53.6350174 ,  54.22825241,  54.5880928 ,\n",
       "        54.54919434,  54.37413406,  54.44221497,  55.07435989,\n",
       "        55.65786743,  57.56402206,  57.62238312,  57.75853348,\n",
       "        57.44732666,  57.69046021,  57.9919548 ,  57.94332123,\n",
       "        58.70189285,  58.76023483,  58.42848206,  58.64314651,\n",
       "        58.95539093,  58.27236557,  59.13103104,  59.81406021,\n",
       "        60.40927124,  60.66297531,  62.74134827,  62.96575928,\n",
       "        63.21945953,  63.23897171,  62.68280029,  62.04854965,\n",
       "        63.19994354,  61.75582504,  62.10710144,  61.42406464,\n",
       "        61.42406464,  61.03376007,  61.9509697 ,  61.94121552,\n",
       "        61.90218735,  62.42910004,  62.9852829 ,  62.53642654,\n",
       "        62.6632843 ,  62.73158646,  63.10237122,  61.88266754,\n",
       "        62.26321411,  62.55595016,  65.58081055,  64.78068542,\n",
       "        65.51248932,  66.35164642,  66.06867981,  66.39068604,\n",
       "        65.94182587,  65.69789124,  66.56632233,  66.01013947,\n",
       "        65.59056091,  62.82915497,  63.63904572,  64.03909302,\n",
       "        60.97521591,  63.90250397,  64.38061523,  64.27328491,\n",
       "        66.31262207,  66.63462067,  66.64438629,  65.85401154,\n",
       "        65.42468262,  65.50273895,  66.50777435,  67.96165466,\n",
       "        66.38092804,  65.405159  ,  64.71237946,  64.48725891,\n",
       "        63.6651535 ,  63.85110855,  62.80388641,  63.72388077,\n",
       "        64.8885498 ,  65.3974762 ,  64.76130676,  64.79066467,\n",
       "        64.97663879,  64.5068512 ,  64.31109619,  65.37789917,\n",
       "        64.93747711,  63.04856491,  63.25409317,  64.49707031,\n",
       "        64.76130676,  64.04686737,  65.0255661 ,  62.75495529,\n",
       "        65.28002167,  66.96342468,  68.10848999,  66.11192322,\n",
       "        65.74980927,  65.57363892,  65.40726471,  66.32725525,\n",
       "        65.81832886,  65.63235474,  66.07279205,  64.79066467,\n",
       "        64.33068848,  64.68300629,  65.45619965,  65.54427338,\n",
       "        65.25067139,  66.60129547,  68.07913971,  66.93405914,\n",
       "        66.65023041,  66.8068161 ,  65.47577667,  66.65023041,\n",
       "        67.86383057,  67.00255585,  66.50341034,  66.47406006,\n",
       "        66.97319794,  67.37445831,  68.02041626,  69.82124329,\n",
       "        69.42977142,  69.80167389,  69.86039734,  69.79188538,\n",
       "        69.82124329,  70.64336395,  70.71187592,  69.4101944 ,\n",
       "        70.69230652,  70.27146149,  71.40992737,  72.46006775,\n",
       "        72.67599487,  73.36299896,  73.37283325,  73.51022339,\n",
       "        73.20597839,  72.9115448 ,  72.73487854,  73.31393433,\n",
       "        74.4327774 ,  74.20705414,  72.8821106 ,  73.33355713,\n",
       "        72.56804657,  72.06749725,  71.00754547,  71.21363068,\n",
       "        70.02610016,  70.36959076,  78.20153046,  76.89619446,\n",
       "        74.86460876,  75.12960052,  75.06092072,  75.84605408,\n",
       "        76.13067627,  75.92456818,  75.93438721,  75.94421387,\n",
       "        76.30732727,  76.03253937,  75.16885376,  75.52217865,\n",
       "        75.53200531,  75.16885376,  74.12852478,  75.72829437,\n",
       "        76.69991302,  75.46329498,  74.55056   ,  75.48292542,\n",
       "        76.10123444,  77.19064331,  77.27896881,  78.03469086,\n",
       "        79.03575897,  79.00631714,  79.7522049 ,  79.23204041,\n",
       "        78.66281891,  78.65299225,  78.09356689,  78.56465912,\n",
       "        78.27023315,  80.65513611,  81.41085052,  81.1065979 ,\n",
       "        81.37159729,  80.92012024,  81.11643219,  81.04771423,\n",
       "        81.25382233,  79.88961029,  80.87347412,  78.31543732,\n",
       "        78.63027954,  79.10251617,  79.00414276,  80.77509308,\n",
       "        81.29653931,  81.66056061,  82.12298584,  82.14265442,\n",
       "        81.91637421,  83.88410187,  83.06748962,  83.9923172 ,\n",
       "        84.16941071,  82.91007233,  83.42167664,  82.34926605,\n",
       "        83.17572021,  83.35282135,  83.09700012,  81.4342804 ,\n",
       "        81.16864777,  78.88607788,  78.82704926,  78.93527985,\n",
       "        79.12220764,  73.7306366 ,  73.30757141,  74.6849823 ,\n",
       "        73.77983093,  76.2296524 ,  75.24578857,  74.37999725,\n",
       "        73.01241302,  73.69129181,  72.16629791,  70.95614624,\n",
       "        71.92033386,  70.9069519 ,  71.02502441,  73.30757141,\n",
       "        73.82902527,  75.55078125,  75.34417725,  76.27883911,\n",
       "        75.3343277 ,  76.71173859,  76.52481079,  75.12772369,\n",
       "        73.88806152,  73.98643494,  73.98643494,  73.13047791,\n",
       "        73.53386688,  71.34968567,  69.97229004,  71.20211792,\n",
       "        70.33630371,  71.53662872,  70.92663574,  73.45516205,\n",
       "        73.14031982,  74.12711334,  76.90982819,  74.78825378,\n",
       "        74.54155731,  72.37062836,  71.5515976 ,  72.59759521,\n",
       "        73.337677  ,  71.96604156,  71.57132721,  68.97610474,\n",
       "        70.2095871 ,  68.05838776,  66.63742065,  71.41345215,\n",
       "        67.19988251,  72.04499054,  72.69626617,  72.37062836,\n",
       "        73.16005707,  73.08111572,  71.78843689,  73.66331482,\n",
       "        74.71916962,  75.71582794,  75.57767487,  75.40991974,\n",
       "        75.03494263,  75.08428192,  76.85062408,  76.65326691,\n",
       "        78.08410645,  79.38665009,  79.68268585,  79.43598938,\n",
       "        79.37679291,  79.54453278,  79.25836945,  79.15969086,\n",
       "        80.20568085,  80.79775238,  80.43264771,  80.90628815,\n",
       "        81.76480103,  81.61677551,  81.3010025 ,  81.27140808,\n",
       "        82.57395935,  83.59034729,  84.2712326 ,  83.56074524,\n",
       "        84.2514801 ,  83.45220184,  83.71862793,  82.84039307,\n",
       "        83.63968658,  84.04426575,  84.66594696,  85.03105164,\n",
       "        84.59686279,  86.22925568,  84.72547913,  84.52761841,\n",
       "        84.22092438,  84.34954071,  83.89444733,  84.90355682,\n",
       "        84.51771545,  85.01238251,  85.94234467,  85.87309265,\n",
       "        86.88219452,  86.75359344,  85.76426697,  87.07016754,\n",
       "        81.31232452,  81.45082092,  82.48960876,  82.20270538,\n",
       "        83.1425705 ,  83.31074524,  84.31985474,  83.46903992,\n",
       "        83.56797028,  84.3693161 ,  84.48803711,  83.82519531,\n",
       "        83.37999725,  83.97358704,  84.09230804,  85.31906891,\n",
       "        85.90277863,  86.8624115 ,  87.78248596,  88.24746704,\n",
       "        86.42710876,  86.49636841,  87.44612122,  86.62498474,\n",
       "        87.36697388,  87.31751251,  86.89209747,  84.98269653,\n",
       "        84.35942841,  84.78483582,  82.67758179,  81.65858459,\n",
       "        81.88612366,  82.0938797 ,  83.0535202 ,  81.6486969 ,\n",
       "        82.77651215,  83.11289215,  83.37999725,  83.66690826,\n",
       "        81.96527863,  82.7468338 ,  82.3115387 ,  81.75751495,\n",
       "        81.28264618,  80.33289337,  78.027771  ,  78.41360474,\n",
       "        76.52866364,  77.34216309,  80.97316742,  82.0644455 ,\n",
       "        81.79658508,  82.74897766,  81.92555237,  82.60016632,\n",
       "        81.97515106,  82.9473877 ,  82.77873993,  81.45927429,\n",
       "        83.63192749,  82.88787079,  84.56446838,  85.07042694,\n",
       "        83.8303299 ,  81.96524048,  81.8957901 ,  82.99699402,\n",
       "        83.28469849,  84.73313141,  84.28668213,  85.51686859,\n",
       "        86.13195038,  87.77880096,  87.34227753,  86.74703979,\n",
       "        87.59030151,  88.41372681,  88.77087402,  87.89784241,\n",
       "        86.80656433,  86.74703979,  85.8640976 ,  85.28868866,\n",
       "        86.01289368,  86.01289368,  86.58830261,  86.84625244,\n",
       "        86.92562103,  86.50893402,  85.34820557,  82.46128082,\n",
       "        80.4969635 ,  78.34416962,  80.65570068,  80.63585663,\n",
       "        82.34222412,  81.33030701,  81.00292206,  82.65969086,\n",
       "        80.38784027,  78.87989044,  79.64378357,  80.48703766,\n",
       "        79.89179993,  82.08428192,  82.64976501,  79.80252075,\n",
       "        81.59816742,  81.3799057 ,  82.81842041,  84.70336151,\n",
       "        84.04689789,  84.21599579,  85.88697815,  87.9458847 ,\n",
       "        88.21443939,  88.19454193,  86.3644104 ,  86.28483582,\n",
       "        87.1999054 ,  86.85178375,  86.80204773,  87.12033081,\n",
       "        87.60771179,  87.22974396,  86.21521759,  87.21979523,\n",
       "        86.71253204,  90.32306671,  91.67577362,  91.81502533,\n",
       "        93.41638947,  91.78518677,  90.99942017,  91.72550964,\n",
       "        92.57094574,  92.67041016,  91.25802612,  92.02389526,\n",
       "        92.50132751,  93.3766098 ,  94.37123871,  94.28173065,\n",
       "        94.37123871,  95.04759216,  95.58469391,  95.70406342,\n",
       "        95.08737946,  91.82496643,  91.0093689 ,  90.43247223,\n",
       "        90.36284637,  88.80126953,  89.70639801,  89.06982422,\n",
       "        88.70180511,  89.37815857,  89.3980484 ,  89.00019836,\n",
       "        89.91526794,  89.32843018,  89.5671463 ,  89.0200882 ,\n",
       "        90.80049896,  90.78059387,  92.54110718,  93.67499542,\n",
       "        93.10804749,  92.55106354,  91.66583252,  92.8394928 ,\n",
       "        92.4018631 ,  92.82955933,  93.63520813,  93.23133087,\n",
       "        93.30113983,  92.20418549,  93.46070099,  95.52497101,\n",
       "        96.73162079,  96.36264038,  96.74159241,  96.91112518,\n",
       "        97.44963074,  97.49948883,  98.53661346,  99.37429047,\n",
       "       100.29174042, 100.87014008,  99.68343353,  99.76321411,\n",
       "        99.8629303 , 100.43135834, 101.28897858, 100.52111053,\n",
       "       101.0296936 , 101.9172287 , 101.63800812, 101.54826355,\n",
       "       101.49839783, 101.26903534, 101.19922638, 100.62083435,\n",
       "       101.87734985, 102.63523865, 102.50559998, 103.08399963,\n",
       "       104.24078369, 104.29064941, 104.20089722, 102.73496246,\n",
       "       101.74770355,  99.96265411, 100.13218689,  99.56375885,\n",
       "        97.91833496,  96.03356171,  98.99533844, 101.09950256,\n",
       "       100.26182556,  99.99256897,  99.16487122,  99.74326324,\n",
       "        99.74326324, 102.71501923, 103.08399963, 103.25352478,\n",
       "       101.7177887 , 102.17651367, 102.24632263,  99.97262573,\n",
       "        95.64463806,  92.64296722,  91.74545288,  88.30500031,\n",
       "        89.37999725,  92.68000031,  90.93000031,  93.79000092,\n",
       "        90.58000183,  88.36000061,  84.11000061,  88.30000305,\n",
       "        84.        ,  74.19999695,  75.58000183,  66.79000092,\n",
       "        69.83999634,  68.04000092,  70.33999634,  67.44999695,\n",
       "        62.79999924,  72.33000183,  79.01000214,  84.30000305,\n",
       "        83.23000336,  85.37999725,  82.73999786,  79.23000336,\n",
       "        80.13999939,  78.86000061,  84.62999725,  84.16000366,\n",
       "        85.30000305,  86.79000092,  84.45999908,  87.47000122,\n",
       "        85.04000092,  86.30000305,  89.91000366])"
      ]
     },
     "execution_count": 3,
     "metadata": {},
     "output_type": "execute_result"
    }
   ],
   "source": [
    "close"
   ]
  },
  {
   "cell_type": "code",
   "execution_count": 4,
   "metadata": {},
   "outputs": [
    {
     "data": {
      "text/html": [
       "<div>\n",
       "<style scoped>\n",
       "    .dataframe tbody tr th:only-of-type {\n",
       "        vertical-align: middle;\n",
       "    }\n",
       "\n",
       "    .dataframe tbody tr th {\n",
       "        vertical-align: top;\n",
       "    }\n",
       "\n",
       "    .dataframe thead th {\n",
       "        text-align: right;\n",
       "    }\n",
       "</style>\n",
       "<table border=\"1\" class=\"dataframe\">\n",
       "  <thead>\n",
       "    <tr style=\"text-align: right;\">\n",
       "      <th></th>\n",
       "      <th>macd</th>\n",
       "      <th>macdsignal</th>\n",
       "      <th>macdhist</th>\n",
       "    </tr>\n",
       "  </thead>\n",
       "  <tbody>\n",
       "    <tr>\n",
       "      <th>0</th>\n",
       "      <td>-0.957701</td>\n",
       "      <td>-1.319238</td>\n",
       "      <td>0.361537</td>\n",
       "    </tr>\n",
       "    <tr>\n",
       "      <th>1</th>\n",
       "      <td>-0.728169</td>\n",
       "      <td>-1.201024</td>\n",
       "      <td>0.472856</td>\n",
       "    </tr>\n",
       "    <tr>\n",
       "      <th>2</th>\n",
       "      <td>-0.550503</td>\n",
       "      <td>-1.070920</td>\n",
       "      <td>0.520417</td>\n",
       "    </tr>\n",
       "    <tr>\n",
       "      <th>3</th>\n",
       "      <td>-0.543555</td>\n",
       "      <td>-0.965447</td>\n",
       "      <td>0.421892</td>\n",
       "    </tr>\n",
       "    <tr>\n",
       "      <th>4</th>\n",
       "      <td>-0.365189</td>\n",
       "      <td>-0.845395</td>\n",
       "      <td>0.480206</td>\n",
       "    </tr>\n",
       "  </tbody>\n",
       "</table>\n",
       "</div>"
      ],
      "text/plain": [
       "       macd  macdsignal  macdhist\n",
       "0 -0.957701   -1.319238  0.361537\n",
       "1 -0.728169   -1.201024  0.472856\n",
       "2 -0.550503   -1.070920  0.520417\n",
       "3 -0.543555   -0.965447  0.421892\n",
       "4 -0.365189   -0.845395  0.480206"
      ]
     },
     "execution_count": 4,
     "metadata": {},
     "output_type": "execute_result"
    }
   ],
   "source": [
    "macd, macdsignal, macdhist = talib.MACD(close, fastperiod=5, slowperiod=20, signalperiod=9)\n",
    "macdhist = macdhist[~np.isnan(macdhist)]\n",
    "macd = macd[-len(macdhist):]\n",
    "macdsignal = macdsignal[-len(macdhist):]\n",
    "\n",
    "\n",
    "pd.DataFrame({'macd': macd, 'macdsignal': macdsignal, 'macdhist': macdhist}).head()"
   ]
  },
  {
   "cell_type": "code",
   "execution_count": 5,
   "metadata": {},
   "outputs": [],
   "source": [
    "def prepare_dataset(close):\n",
    "    \"\"\"\n",
    "    Function prepare_dataset to generate input data and trading strategy from stock close prices\n",
    "    \"\"\"\n",
    "\n",
    "    macd, macdsignal, macdhist = talib.MACD(close, fastperiod=12, slowperiod=26, signalperiod=9)\n",
    "\n",
    "    # Cancel NaN values\n",
    "    macdhist = macdhist[~np.isnan(macdhist)]\n",
    "    macd = macd[-len(macdhist):]\n",
    "    macdsignal = macdsignal[-len(macdhist):]\n",
    "\n",
    "    # Scaling features to a range [0, 1]\n",
    "    min_max_scaler = preprocessing.MinMaxScaler(feature_range=(-1, 1))\n",
    "    macdhist_norm = min_max_scaler.fit_transform(np.expand_dims(macdhist, axis=1))\n",
    "\n",
    "    # Implement strategy\n",
    "    start_sell = 0.2\n",
    "    stop_sell = 0.05\n",
    "    start_buy = -0.2\n",
    "    stop_buy = -0.05\n",
    "\n",
    "    y = np.full(len(macdhist), np.nan)\n",
    "    y[0] = 0\n",
    "\n",
    "    for i in range(1, len(macdhist)):\n",
    "\n",
    "        if y[i-1] == 0:\n",
    "            if (macdhist_norm[i] >= start_sell):\n",
    "                # Enter sell position\n",
    "                y[i] = -1\n",
    "            elif (macdhist_norm[i] <= start_buy):\n",
    "                # Enter buy position\n",
    "                y[i] = 1\n",
    "            else:\n",
    "                y[i] = 0\n",
    "        elif y[i-1] == -1:\n",
    "            if macdhist_norm[i] > stop_sell:\n",
    "                # Stay in sell position\n",
    "                y[i] = -1\n",
    "            else:\n",
    "                # Leave sell position\n",
    "                y[i] = 0\n",
    "        else:\n",
    "            if macdhist_norm[i] < stop_buy:\n",
    "                # Stay in buy position\n",
    "                y[i] = 1\n",
    "            else:\n",
    "                # Leave buy position\n",
    "                y[i] = 0\n",
    "\n",
    "    # Plot strategy\n",
    "    dates = np.arange(len(macdhist))\n",
    "    plt.plot(dates, y,'g', label='Strategy Positions')\n",
    "    plt.bar(dates, macdhist_norm[:, 0], width=1, color='blue', label='MACD histogram')\n",
    "    plt.plot(dates, start_sell * np.ones(len(macdhist)), 'k--', lw=1)\n",
    "    plt.plot(dates, stop_sell * np.ones(len(macdhist)), 'k--', lw=1)\n",
    "    plt.plot(dates, start_buy * np.ones(len(macdhist)), 'k--', lw=1)\n",
    "    plt.plot(dates, stop_buy * np.ones(len(macdhist)), 'k--', lw=1)\n",
    "    plt.xlabel('Days')\n",
    "    plt.xlim((0, len(y)))\n",
    "    plt.legend()\n",
    "    # plt.savefig('images/AAL_macd.png', bbox_inches='tight')\n",
    "    plt.show()\n",
    "    \n",
    "    # Generate input data - technical indicators\n",
    "    ind1 = talib.MIDPOINT(close)    # Overlap: MidPoint over period\n",
    "    ind2 = talib.HT_DCPERIOD(close) # Cycle Indicator Functions:  Hilbert Transform - Dominant Cycle Period\n",
    "    ind3 = talib.MAX(close)         # Math Operator: Highest value over a specified period\n",
    "    ind4 = talib.SIN(close)         # Math Transform: Vector Trigonometric Sin\n",
    "    ind5 = talib.APO(close)         # Momentum: Absolute Price Oscillator\n",
    "    ind6 = talib.TEMA(close, timeperiod=5) ## Triple Exponential Moving Average\n",
    "\n",
    "    x = np.vstack((macdhist, macd, macdsignal, ind1[-len(macdhist):], ind2[-len(macdhist):],\n",
    "                   ind3[-len(macdhist):], ind4[-len(macdhist):], ind5[-len(macdhist):],\n",
    "                   ind6[-len(macdhist):]))\n",
    "    x = x.T\n",
    "\n",
    "    return x, y"
   ]
  },
  {
   "cell_type": "code",
   "execution_count": 6,
   "metadata": {},
   "outputs": [
    {
     "data": {
      "image/png": "[encoded data removed]",
      "text/plain": [
       "<Figure size 432x288 with 1 Axes>"
      ]
     },
     "metadata": {
      "needs_background": "light"
     },
     "output_type": "display_data"
    }
   ],
   "source": [
    "# Implement MACD trading strategy\n",
    "X, y = prepare_dataset(close)"
   ]
  },
  {
   "cell_type": "code",
   "execution_count": 7,
   "metadata": {},
   "outputs": [
    {
     "data": {
      "text/plain": [
       "array([ 0.25476944, -0.64361026, -0.8983797 , 50.59453201, 17.06855758,\n",
       "       53.57886124,  0.56306399, -0.75638649, 51.08705886])"
      ]
     },
     "execution_count": 7,
     "metadata": {},
     "output_type": "execute_result"
    }
   ],
   "source": [
    "X[0]"
   ]
  },
  {
   "cell_type": "code",
   "execution_count": 8,
   "metadata": {},
   "outputs": [],
   "source": [
    "# Split dataset\n",
    "n_train = int(X.shape[0] * 0.8)\n",
    "\n",
    "X_train, y_train = X[:n_train], y[:n_train]\n",
    "X_test, y_test = X[n_train:], y[n_train:]"
   ]
  },
  {
   "cell_type": "code",
   "execution_count": 9,
   "metadata": {},
   "outputs": [],
   "source": [
    "# Normalize data\n",
    "scaler = preprocessing.MinMaxScaler()\n",
    "\n",
    "X_train = scaler.fit_transform(X_train)\n",
    "X_test = scaler.transform(X_test)"
   ]
  },
  {
   "cell_type": "code",
   "execution_count": 10,
   "metadata": {},
   "outputs": [
    {
     "name": "stdout",
     "output_type": "stream",
     "text": [
      "[-1.  0.  1.]\n"
     ]
    }
   ],
   "source": [
    "# Encode trading signal with integers between 0 and n-1 classes\n",
    "le = preprocessing.LabelEncoder()\n",
    "\n",
    "y_train = le.fit_transform(y_train)\n",
    "y_test = le.transform(y_test)\n",
    "\n",
    "print(le.classes_)"
   ]
  },
  {
   "cell_type": "code",
   "execution_count": 11,
   "metadata": {},
   "outputs": [],
   "source": [
    "## Create and train the Agent\n",
    "# Variable definiton\n",
    "episodes = 20\n",
    "look_back = 5\n",
    "batch_size = 32\n",
    "action_size = len(le.classes_)\n",
    "n_features = X_train.shape[1]"
   ]
  },
  {
   "cell_type": "code",
   "execution_count": 12,
   "metadata": {},
   "outputs": [],
   "source": [
    "# Create Agent\n",
    "agent = Agent(look_back, action_size, n_features)"
   ]
  },
  {
   "cell_type": "code",
   "execution_count": 13,
   "metadata": {},
   "outputs": [],
   "source": [
    "def run(agent, dataX, dataY, episodes, look_back):\n",
    "    \"\"\"\n",
    "    Function run to train the agent\n",
    "    \"\"\"\n",
    "    \n",
    "    # Length of dataset\n",
    "    times = len(dataX)\n",
    "\n",
    "    # List of total rewards\n",
    "    total_reward_list = []\n",
    "\n",
    "    for ep in range(episodes):\n",
    "\n",
    "        # print('Episode: ' + str(ep))\n",
    "        \n",
    "        # Initial state and position\n",
    "        state = dataX[:look_back, :][np.newaxis, :, :]\n",
    "        pos = dataY[look_back - 1]\n",
    "\n",
    "        done = False\n",
    "        total_reward = 0\n",
    "\n",
    "        for t in range(1, times - look_back + 1):\n",
    "\n",
    "            # Predict action based on the current state\n",
    "            action = agent.act(state)\n",
    "\n",
    "            # Calculate reward\n",
    "            if action == pos:   # 0:-1      1:0     2:1\n",
    "                reward = +1\n",
    "\n",
    "            elif (pos == 0 or pos == 2):\n",
    "                if action == 1:\n",
    "                    reward = 0\n",
    "                else:\n",
    "                    reward = -1\n",
    "            else:\n",
    "                reward = -1\n",
    "\n",
    "            total_reward += reward\n",
    "\n",
    "            # Final state\n",
    "            if t == times - look_back:\n",
    "                done = True\n",
    "\n",
    "            # Receive next state and position\n",
    "            next_state = dataX[t:t + look_back, :][np.newaxis, :, :]\n",
    "            next_pos = dataY[t + look_back - 1]\n",
    "            \n",
    "            # Remember current experience\n",
    "            agent.remember(state, action, reward, next_state, done)\n",
    "            \n",
    "            # Make next_state the new current state; the same for pos\n",
    "            state = next_state\n",
    "            pos = next_pos\n",
    "\n",
    "            if done:\n",
    "                print('Episode: %i ---> Total Reward: %i' %(ep, total_reward))\n",
    "                total_reward_list.append(total_reward)\n",
    "\n",
    "            # Train the agent with previous experiences\n",
    "            if len(agent.memory) > batch_size:\n",
    "                agent.replay(batch_size)\n",
    "\n",
    "        if (ep + 1) % 5 == 0 and ep > 0:\n",
    "            file = 'checkpoints/' + symbol + '_robot_checkpoint' + str(ep + 1)\n",
    "            # Serialize weights to HDF5\n",
    "            agent.model.save_weights(file + \".h5\")\n",
    "            # Save epsilon\n",
    "            pickle.dump(agent.epsilon, open(file + \"_epsilon.pickle\", \"wb\"))\n",
    "\n",
    "    # Save list of rewards along the epochs\n",
    "    np.savetxt(file + '_total_reward.txt', total_reward_list)\n",
    "\n",
    "    return\n"
   ]
  },
  {
   "cell_type": "code",
   "execution_count": 14,
   "metadata": {},
   "outputs": [
    {
     "name": "stdout",
     "output_type": "stream",
     "text": [
      "Episode: 0 ---> Total Reward: 148\n",
      "Episode: 1 ---> Total Reward: 370\n",
      "Episode: 2 ---> Total Reward: 356\n",
      "Episode: 3 ---> Total Reward: 393\n",
      "Episode: 4 ---> Total Reward: 387\n",
      "Episode: 5 ---> Total Reward: 378\n",
      "Episode: 6 ---> Total Reward: 395\n",
      "Episode: 7 ---> Total Reward: 432\n",
      "Episode: 8 ---> Total Reward: 418\n",
      "Episode: 9 ---> Total Reward: 436\n",
      "Episode: 10 ---> Total Reward: 419\n",
      "Episode: 11 ---> Total Reward: 442\n",
      "Episode: 12 ---> Total Reward: 454\n",
      "Episode: 13 ---> Total Reward: 440\n",
      "Episode: 14 ---> Total Reward: 440\n",
      "Episode: 15 ---> Total Reward: 461\n",
      "Episode: 16 ---> Total Reward: 433\n",
      "Episode: 17 ---> Total Reward: 443\n",
      "Episode: 18 ---> Total Reward: 452\n",
      "Episode: 19 ---> Total Reward: 473\n"
     ]
    }
   ],
   "source": [
    "# Train Agent\n",
    "run(agent, X_train, y_train, episodes, look_back)"
   ]
  },
  {
   "cell_type": "code",
   "execution_count": 15,
   "metadata": {},
   "outputs": [
    {
     "data": {
      "image/png": "[encoded data removed]",
      "text/plain": [
       "<Figure size 432x288 with 1 Axes>"
      ]
     },
     "metadata": {
      "needs_background": "light"
     },
     "output_type": "display_data"
    }
   ],
   "source": [
    "# Load rewards\n",
    "total_reward_list = np.loadtxt( 'checkpoints/'+ symbol + '_robot_checkpoint' + str(episodes) + '_total_reward.txt')\n",
    "# Plot\n",
    "plt.figure()\n",
    "plt.plot(np.arange(1, episodes+1), total_reward_list)\n",
    "plt.xlabel('Episodes')\n",
    "plt.ylabel('Total Reward')\n",
    "plt.show()"
   ]
  },
  {
   "cell_type": "code",
   "execution_count": 16,
   "metadata": {},
   "outputs": [
    {
     "data": {
      "text/plain": [
       "array([148., 370., 356., 393., 387., 378., 395., 432., 418., 436., 419.,\n",
       "       442., 454., 440., 440., 461., 433., 443., 452., 473.])"
      ]
     },
     "execution_count": 16,
     "metadata": {},
     "output_type": "execute_result"
    }
   ],
   "source": [
    "total_reward_list"
   ]
  },
  {
   "cell_type": "code",
   "execution_count": 17,
   "metadata": {},
   "outputs": [],
   "source": [
    "def evaluate(agent, dataX, dataY, look_back):\n",
    "    \"\"\"\n",
    "    Function run to evaluate the trained agent\n",
    "    \"\"\"\n",
    "    \n",
    "    # Length of dataset\n",
    "    times = len(dataX)\n",
    "\n",
    "    # Initial state and position\n",
    "    state = dataX[:look_back, :][np.newaxis, :, :]\n",
    "    pos = dataY[look_back - 1]\n",
    "\n",
    "    # List of predicted positions\n",
    "    pos_list = []\n",
    "    \n",
    "    done = False\n",
    "    total_reward = 0\n",
    "    \n",
    "    for t in range(1, times - look_back + 1):\n",
    "\n",
    "        # Predict action based on the current state\n",
    "        action = agent.act(state)\n",
    "\n",
    "        # Calculate reward\n",
    "        if action == pos:   # 0:-1      1:0     2:1\n",
    "            reward = +1\n",
    "\n",
    "        elif (pos == 0 or pos == 2):\n",
    "            if action == 1:\n",
    "                reward = 0\n",
    "            else:\n",
    "                reward = -1\n",
    "        else:\n",
    "            reward = -1\n",
    "\n",
    "        pos_list.append(action)\n",
    "        total_reward += reward\n",
    "\n",
    "        # Final state\n",
    "        if t == times - look_back:\n",
    "            done = True\n",
    "\n",
    "        # Receive next state and position\n",
    "        next_state = dataX[t:t + look_back, :][np.newaxis, :, :]\n",
    "        next_pos = dataY[t + look_back - 1]\n",
    "\n",
    "        # Remember current experience\n",
    "        agent.remember(state, action, reward, next_state, done)\n",
    "\n",
    "        # Make next_state the new current state; the same for pos\n",
    "        state = next_state\n",
    "        pos = next_pos\n",
    "\n",
    "        if done:\n",
    "            print('Total Reward: %i' % total_reward)\n",
    "\n",
    "    return np.array(pos_list)"
   ]
  },
  {
   "cell_type": "code",
   "execution_count": 18,
   "metadata": {},
   "outputs": [
    {
     "name": "stdout",
     "output_type": "stream",
     "text": [
      "Total Reward: 79\n",
      "Accuracy: 66.43 %\n"
     ]
    }
   ],
   "source": [
    "# Evaluate the model\n",
    "# Make predictions\n",
    "y_pred_test = evaluate(agent, X_test, y_test, look_back)\n",
    "\n",
    "# Calculate and print accuracy\n",
    "acc = accuracy_score(y_test[look_back-1:-1], y_pred_test)\n",
    "\n",
    "print('Accuracy: %.2f %%' % (acc*100))"
   ]
  },
  {
   "cell_type": "code",
   "execution_count": 19,
   "metadata": {},
   "outputs": [
    {
     "name": "stdout",
     "output_type": "stream",
     "text": [
      "      1-Precision  2-Recall  3-F1 score  4-Support\n",
      "-1.0        0.857     0.588       0.698         51\n",
      " 0.0        0.535     0.864       0.661         44\n",
      " 1.0        0.735     0.556       0.633         45\n"
     ]
    }
   ],
   "source": [
    "# Calculate and print precision, recall, f1 score and support\n",
    "p, r, f1, s = precision_recall_fscore_support(y_test[look_back-1:-1], y_pred_test, average=None)\n",
    "results = pd.DataFrame({'1-Precision': p, '2-Recall': r, '3-F1 score': f1, '4-Support': s}, index=le.classes_)\n",
    "\n",
    "print(results.round(decimals=3))"
   ]
  },
  {
   "cell_type": "code",
   "execution_count": 20,
   "metadata": {},
   "outputs": [],
   "source": [
    "# Decodificate labels\n",
    "y_true_test = le.inverse_transform(y_test[look_back-1:-1])\n",
    "y_pred_test = le.inverse_transform(y_pred_test)"
   ]
  },
  {
   "cell_type": "code",
   "execution_count": 21,
   "metadata": {},
   "outputs": [
    {
     "data": {
      "image/png": "[encoded data removed]",
      "text/plain": [
       "<Figure size 432x288 with 1 Axes>"
      ]
     },
     "metadata": {
      "needs_background": "light"
     },
     "output_type": "display_data"
    }
   ],
   "source": [
    "# Plot strategy\n",
    "plt.figure()\n",
    "plt.plot(y_true_test, label='true')\n",
    "plt.plot(y_pred_test, label='pred')\n",
    "plt.legend()\n",
    "plt.show()"
   ]
  },
  {
   "cell_type": "code",
   "execution_count": null,
   "metadata": {},
   "outputs": [],
   "source": []
  }
 ],
 "metadata": {
  "kernelspec": {
   "display_name": "Python 3",
   "language": "python",
   "name": "python3"
  },
  "language_info": {
   "codemirror_mode": {
    "name": "ipython",
    "version": 3
   },
   "file_extension": ".py",
   "mimetype": "text/x-python",
   "name": "python",
   "nbconvert_exporter": "python",
   "pygments_lexer": "ipython3",
   "version": "3.7.6"
  }
 },
 "nbformat": 4,
 "nbformat_minor": 2
}
