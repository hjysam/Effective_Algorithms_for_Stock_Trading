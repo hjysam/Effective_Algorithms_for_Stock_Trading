{
 "cells": [
  {
   "cell_type": "code",
   "execution_count": 1,
   "metadata": {
    "scrolled": true
   },
   "outputs": [
    {
     "name": "stderr",
     "output_type": "stream",
     "text": [
      "C:\\Users\\Elid-PC.DESKTOP-MG9DS93\\anaconda3\\lib\\site-packages\\pandas_datareader\\compat\\__init__.py:7: FutureWarning: pandas.util.testing is deprecated. Use the functions in the public API at pandas.testing instead.\n",
      "  from pandas.util.testing import assert_frame_equal\n"
     ]
    },
    {
     "data": {
      "application/javascript": [
       "\n",
       "console.log('Starting front end url_querystring_target comm target');\n",
       "const comm = Jupyter.notebook.kernel.comm_manager.new_comm('url_querystring_target', {'init': 1});\n",
       "comm.send({'ipyparams_browser_url': window.location.href});\n",
       "console.log('Sent window.location.href on url_querystring_target comm target');\n",
       "\n",
       "comm.on_msg(function(msg) {\n",
       "    console.log(msg.content.data);\n",
       "});\n"
      ],
      "text/plain": [
       "<IPython.core.display.Javascript object>"
      ]
     },
     "metadata": {},
     "output_type": "display_data"
    },
    {
     "name": "stderr",
     "output_type": "stream",
     "text": [
      "Using TensorFlow backend.\n"
     ]
    }
   ],
   "source": [
    "# Import libraries\n",
    "import pandas as pd\n",
    "from pandas_datareader import data as pdr\n",
    "\n",
    "import numpy as np\n",
    "import matplotlib.pyplot as plt\n",
    "import pickle\n",
    "\n",
    "from sklearn import preprocessing\n",
    "from sklearn.metrics import accuracy_score\n",
    "from sklearn.metrics import precision_recall_fscore_support\n",
    "\n",
    "import talib, re, ipyparams\n",
    "\n",
    "from Agent import Agent"
   ]
  },
  {
   "cell_type": "code",
   "execution_count": 2,
   "metadata": {},
   "outputs": [
    {
     "data": {
      "text/plain": [
       "754"
      ]
     },
     "execution_count": 2,
     "metadata": {},
     "output_type": "execute_result"
    }
   ],
   "source": [
    "end_date = '2020-02-19'\n",
    "start_date = '2017-02-20'\n",
    "\n",
    "symbol = 'MCD'\n",
    "Date = pd.DataFrame(pdr.DataReader(symbol,'yahoo', start_date, end_date))\n",
    "\n",
    "alldata = pd.DataFrame({'Date': Date.index})\n",
    "alldata[symbol] = pdr.DataReader(symbol, 'yahoo', start_date, end_date)['Adj Close'].values\n",
    "# Stock symbol\n",
    "\n",
    "# Load close prices of to NumPy array\n",
    "close = alldata[symbol].values\n",
    "len(close)"
   ]
  },
  {
   "cell_type": "code",
   "execution_count": 3,
   "metadata": {},
   "outputs": [
    {
     "data": {
      "text/plain": [
       "array([118.13230133, 117.95701599, 118.34451294, 118.69509888,\n",
       "       118.02593231, 118.63935089, 119.94052887, 119.17839813,\n",
       "       118.87169647, 118.99253082, 119.02971649, 119.04829407,\n",
       "       119.09476471, 118.94605255, 118.60218811, 118.77877045,\n",
       "       118.85311127, 118.94605255, 119.55947113, 119.68958282,\n",
       "       119.44794464, 119.98700714, 119.89405823, 120.21004486,\n",
       "       120.34947205, 120.31228638, 119.74533844, 120.19146729,\n",
       "       120.46099854, 120.46099854, 120.16357422, 121.20453644,\n",
       "       120.96287537, 120.78629303, 120.80487823, 121.93876648,\n",
       "       121.99452209, 121.52979279, 122.07816315, 122.96112823,\n",
       "       123.27709961, 123.86264801, 123.99276733, 124.75486755,\n",
       "       131.69760132, 130.89828491, 130.92616272, 130.05252075,\n",
       "       131.18638611, 131.26075745, 132.55264282, 133.3240509 ,\n",
       "       133.79804993, 134.05830383, 134.16981506, 134.31851196,\n",
       "       134.03036499, 135.09921265, 135.95425415, 136.89299011,\n",
       "       136.0750885 , 136.63275146, 137.69226074, 137.72943115,\n",
       "       137.3855896 , 138.94697571, 139.20721436, 139.28157043,\n",
       "       139.34660339, 140.23884583, 142.52085876, 143.78341675,\n",
       "       142.89494324, 141.43595886, 142.09999084, 141.6230011 ,\n",
       "       141.66976929, 138.85473633, 140.11729431, 140.92158508,\n",
       "       141.37986755, 142.14674377, 143.22227478, 144.09202576,\n",
       "       143.77403259, 144.77478027, 144.62513733, 143.98916626,\n",
       "       143.76470947, 144.30714417, 143.21292114, 143.24099731,\n",
       "       142.62373352, 143.15681458, 143.17549133, 146.14956665,\n",
       "       145.44813538, 144.87763977, 146.43948364, 144.99920654,\n",
       "       145.22369385, 145.20498657, 143.98916626, 143.92370605,\n",
       "       144.22297668, 143.95173645, 142.01579285, 148.76823425,\n",
       "       146.37400818, 146.7855072 , 145.75679016, 145.09275818,\n",
       "       144.06401062, 146.44882202, 144.69996643, 143.85824585,\n",
       "       144.9337616 , 144.88697815, 144.88697815, 146.47685242,\n",
       "       147.112854  , 147.07542419, 147.41212463, 148.60922241,\n",
       "       147.66465759, 147.54307556, 148.10420227, 149.30133057,\n",
       "       148.52505493, 148.15097046, 148.53440857, 149.3293457 ,\n",
       "       149.05813599, 150.08360291, 150.49757385, 150.34703064,\n",
       "       149.67907715, 148.85119629, 150.43167114, 150.25296021,\n",
       "       151.96517944, 147.0730896 , 147.70343018, 147.70343018,\n",
       "       147.62814331, 147.40235901, 148.10795593, 150.41288757,\n",
       "       149.61322021, 149.50032043, 147.00721741, 144.26954651,\n",
       "       144.92811584, 148.16441345, 147.40235901, 147.66578674,\n",
       "       147.57170105, 147.90101624, 149.39685059, 150.1494751 ,\n",
       "       150.63867188, 151.07145691, 153.48924255, 154.20426941,\n",
       "       155.57780457, 155.23912048, 155.60600281, 155.95411682,\n",
       "       156.64091492, 156.45275879, 153.66801453, 154.17604065,\n",
       "       153.89382935, 154.29833984, 155.59661865, 156.38687134,\n",
       "       157.02659607, 156.51858521, 158.14613342, 158.66357422,\n",
       "       159.99949646, 160.6580658 , 160.02770996, 157.11128235,\n",
       "       155.7848053 , 157.45936584, 158.15551758, 157.412323  ,\n",
       "       158.13673401, 156.84785461, 157.04542542, 158.33430481,\n",
       "       159.03988647, 159.09632874, 158.95523071, 161.1942749 ,\n",
       "       160.33815002, 162.75149536, 163.60324097, 161.50221252,\n",
       "       163.71682739, 164.18051147, 163.64108276, 163.8682251 ,\n",
       "       163.96284485, 162.99754333, 164.2467804 , 163.85876465,\n",
       "       164.72944641, 164.86196899, 164.09538269, 162.94078064,\n",
       "       162.63790894, 162.23095703, 162.10792542, 163.41394043,\n",
       "       163.82093811, 162.89344788, 163.93447876, 163.24360657,\n",
       "       164.38871765, 164.72000122, 164.60639954, 164.23730469,\n",
       "       164.20892334, 164.09538269, 164.26573181, 164.36981201,\n",
       "       165.60014343, 165.21212769, 166.67903137, 166.76420593,\n",
       "       167.33206177, 166.67903137, 166.24368286, 168.7989502 ,\n",
       "       168.24057007, 163.23416138, 161.96598816, 162.68525696,\n",
       "       160.30032349, 155.0667572 , 156.32546997, 156.82705688,\n",
       "       150.448349  , 152.18025208, 155.11407471, 153.69447327,\n",
       "       151.41369629, 152.16133118, 149.33157349, 148.73535156,\n",
       "       150.1360321 , 152.04776001, 154.31910706, 154.81126404,\n",
       "       152.04776001, 150.22869873, 148.2858429 , 141.20967102,\n",
       "       143.83822632, 144.00015259, 145.1239624 , 147.08586121,\n",
       "       149.7525177 , 150.22869873, 150.68586731, 150.70492554,\n",
       "       153.91442871, 154.62872314, 151.43824768, 151.79060364,\n",
       "       151.10490417, 149.56204224, 147.60014343, 150.4858551 ,\n",
       "       149.9810791 , 150.86682129, 148.93345642, 150.20967102,\n",
       "       152.76203918, 154.02871704, 156.14300537, 153.57159424,\n",
       "       153.55253601, 155.01919556, 155.56204224, 153.92396545,\n",
       "       154.02871704, 153.93348694, 154.80967712, 154.10490417,\n",
       "       151.93348694, 151.20967102, 151.41917419, 149.82872009,\n",
       "       148.51441956, 151.33348083, 150.76205444, 159.46682739,\n",
       "       155.65727234, 153.02871704, 152.45729065, 157.17160034,\n",
       "       157.14300537, 156.9239502 , 156.41918945, 157.20970154,\n",
       "       157.51443481, 156.87632751, 155.2953949 , 155.11442566,\n",
       "       153.62870789, 153.31442261, 153.7906189 , 151.85728455,\n",
       "       153.92396545, 154.6572876 , 155.43824768, 152.97155762,\n",
       "       154.11444092, 152.390625  , 152.54396057, 153.55990601,\n",
       "       152.85069275, 155.63015747, 162.43499756, 161.88867188,\n",
       "       159.5692749 , 159.79928589, 159.65556335, 160.10600281,\n",
       "       159.54052734, 159.36799622, 158.11247253, 155.80264282,\n",
       "       153.85702515, 157.70993042, 153.16694641, 154.22123718,\n",
       "       150.87628174, 149.82203674, 150.176651  , 150.34916687,\n",
       "       149.97537231, 150.78048706, 152.79316711, 153.29156494,\n",
       "       153.94328308, 152.02642822, 152.50564575, 151.92100525,\n",
       "       152.17976379, 153.10943604, 151.36509705, 150.86672974,\n",
       "       151.40342712, 152.15100098, 151.37469482, 152.28520203,\n",
       "       149.64952087, 150.93379211, 152.04559326, 150.99128723,\n",
       "       150.39710999, 148.94984436, 149.71661377, 150.20541382,\n",
       "       149.5536499 , 152.31394958, 152.67814636, 152.08392334,\n",
       "       151.56636047, 153.9241333 , 153.23405457, 155.00712585,\n",
       "       154.45127869, 154.959198  , 154.3458252 , 153.87619019,\n",
       "       152.4385376 , 152.75482178, 153.80908203, 154.92086792,\n",
       "       156.32978821, 156.03265381, 156.45700073, 155.96516418,\n",
       "       157.43109131, 157.91326904, 158.06758118, 159.19596863,\n",
       "       158.76194763, 158.87771606, 156.62095642, 155.11645508,\n",
       "       152.51254272, 152.15571594, 153.51553345, 155.0682373 ,\n",
       "       159.41777039, 157.49856567, 160.48826599, 159.86140442,\n",
       "       160.60401917, 161.33694458, 160.73899841, 159.30203247,\n",
       "       158.80052185, 159.89997864, 160.64259338, 161.79988098,\n",
       "       163.78656006, 162.37850952, 157.17066956, 157.99041748,\n",
       "       157.84576416, 158.23153687, 160.83543396, 160.8740387 ,\n",
       "       161.52983093, 160.70045471, 170.84606934, 171.03895569,\n",
       "       169.07154846, 167.17164612, 167.06558228, 172.13839722,\n",
       "       170.60494995, 168.65687561, 170.46031189, 173.97079468,\n",
       "       176.20822144, 177.69342041, 178.87963867, 179.32327271,\n",
       "       177.80915833, 177.46195984, 177.30766296, 177.02796936,\n",
       "       180.91455078, 180.07551575, 177.17263794, 176.21786499,\n",
       "       175.45596313, 177.34623718, 178.05989075, 181.16531372,\n",
       "       182.52513123, 182.92298889, 179.8760376 , 179.55583191,\n",
       "       179.95367432, 177.53749084, 179.17738342, 178.14878845,\n",
       "       178.04208374, 180.90463257, 177.85769653, 175.43179321,\n",
       "       174.38380432, 173.85011292, 168.53251648, 168.98857117,\n",
       "       165.23329163, 168.87214661, 170.50236511, 170.35679626,\n",
       "       172.30723572, 170.84197998, 169.71635437, 172.9961853 ,\n",
       "       174.87869263, 175.24743652, 174.94659424, 176.16926575,\n",
       "       176.96496582, 175.84906006, 175.65499878, 174.03448486,\n",
       "       175.74229431, 177.15904236, 179.09976196, 180.57470703,\n",
       "       181.81678772, 178.54666138, 178.15852356, 176.77090454,\n",
       "       176.38276672, 173.48136902, 171.48242188, 172.28782654,\n",
       "       172.30723572, 170.95843506, 170.08509827, 169.57080078,\n",
       "       169.09532166, 168.81393433, 168.98857117, 170.65760803,\n",
       "       174.63609314, 173.93743896, 175.14067078, 177.39193726,\n",
       "       177.74124146, 177.19786072, 177.78009033, 177.92562866,\n",
       "       179.52716064, 180.70877075, 176.35339355, 177.09558105,\n",
       "       177.75961304, 176.28503418, 175.28895569, 176.83192444,\n",
       "       177.5643158 , 177.78892517, 178.45297241, 180.98219299,\n",
       "       179.63456726, 178.81427002, 180.63064575, 181.99780273,\n",
       "       182.42747498, 181.36303711, 183.08175659, 183.11105347,\n",
       "       184.94696045, 185.44497681, 183.97039795, 183.93135071,\n",
       "       183.93135071, 185.41569519, 186.23600769, 185.39616394,\n",
       "       185.62077332, 184.78094482, 184.44894409, 187.10510254,\n",
       "       187.34925842, 187.20277405, 187.11486816, 190.33746338,\n",
       "       189.37068176, 190.679245  , 192.99363708, 193.28660583,\n",
       "       192.78857422, 192.49562073, 192.93507385, 189.61482239,\n",
       "       190.04447937, 192.88624573, 194.23384094, 193.39402771,\n",
       "       193.38424683, 193.09129333, 195.29829407, 194.36080933,\n",
       "       193.36471558, 194.39987183, 195.29829407, 194.54632568,\n",
       "       194.32174683, 195.15179443, 195.26899719, 194.30221558,\n",
       "       193.13038635, 192.0561676 , 191.42141724, 194.56587219,\n",
       "       194.75250244, 195.25346375, 196.08837891, 196.57951355,\n",
       "       199.44769287, 201.83457947, 197.72874451, 199.65396118,\n",
       "       201.2943573 , 200.8621521 , 201.64794922, 200.19422913,\n",
       "       200.88179016, 200.9210968 , 201.48097229, 200.63623047,\n",
       "       200.30226135, 202.06051636, 200.9210968 , 202.61056519,\n",
       "       203.97592163, 202.64004517, 205.86186218, 209.0345459 ,\n",
       "       207.49241638, 208.39608765, 208.32733154, 209.22119141,\n",
       "       208.91668701, 209.21136475, 210.409729  , 209.92840576,\n",
       "       209.9185791 , 212.07955933, 210.07575989, 211.18569946,\n",
       "       210.50793457, 209.00509644, 210.63563538, 211.75540161,\n",
       "       211.16604614, 208.57287598, 206.98162842, 207.50222778,\n",
       "       210.67492676, 206.71643066, 210.2820282 , 212.98323059,\n",
       "       214.14228821, 217.22659302, 213.30738831, 215.83178711,\n",
       "       212.63945007, 214.39768982, 214.59414673, 214.89863586,\n",
       "       214.59414673, 216.79440308, 215.59605408, 210.85174561,\n",
       "       213.06182861, 212.21707153, 214.20124817, 216.62741089,\n",
       "       215.23510742, 214.40563965, 215.75846863, 216.73603821,\n",
       "       217.26925659, 214.53401184, 207.04910278, 207.56259155,\n",
       "       209.4881134 , 207.17749023, 204.79772949, 207.21699524,\n",
       "       207.78970337, 207.87858582, 206.76275635, 208.88577271,\n",
       "       209.35977173, 209.96211243, 209.93249512, 210.48545837,\n",
       "       212.01600647, 206.39741516, 203.68190002, 207.39472961,\n",
       "       209.03388977, 209.26100159, 208.46118164, 210.15960693,\n",
       "       209.10301208, 206.39741516, 205.76544189, 204.61999512,\n",
       "       205.68643188, 204.25463867, 205.88392639, 207.21699524,\n",
       "       196.76974487, 196.710495  , 193.56051636, 192.16819763,\n",
       "       189.373703  , 190.20317078, 194.41960144, 194.23197937,\n",
       "       191.50662231, 186.29286194, 189.76867676, 191.74359131,\n",
       "       190.65740967, 191.18075562, 190.22291565, 190.85488892,\n",
       "       192.55331421, 191.56585693, 191.53623962, 191.84234619,\n",
       "       191.01289368, 191.69424438, 189.93656921, 190.71665955,\n",
       "       189.48233032, 191.57572937, 193.83700562, 193.27053833,\n",
       "       193.96618652, 191.91900635, 193.10160828, 193.00222778,\n",
       "       194.13514709, 193.46929932, 193.73762512, 193.50904846,\n",
       "       195.0891571 , 195.89411926, 196.64941406, 195.29786682,\n",
       "       194.41340637, 195.83450317, 195.91400146, 194.97984314,\n",
       "       195.44692993, 195.83450317, 196.93759155, 195.68544006,\n",
       "       196.38108826, 199.54130554, 198.83572388, 201.07173157,\n",
       "       201.36987305, 204.62947083, 207.05429077, 205.98101807,\n",
       "       205.22572327, 206.03070068, 208.46546936, 209.53874207,\n",
       "       210.66171265, 209.84681702, 210.12507629, 212.09275818,\n",
       "       209.92631531, 208.03813171, 209.081604  , 213.10641479,\n",
       "       214.83558655, 212.63934326, 213.84181213, 213.28529358,\n",
       "       213.03684998, 211.5461731 , 210.29402161, 211.88407898,\n",
       "       214.38839722, 216.1076355 , 216.06788635, 215.7399292 ,\n",
       "       214.80577087, 214.28901672])"
      ]
     },
     "execution_count": 3,
     "metadata": {},
     "output_type": "execute_result"
    }
   ],
   "source": [
    "close"
   ]
  },
  {
   "cell_type": "code",
   "execution_count": 4,
   "metadata": {},
   "outputs": [
    {
     "data": {
      "text/html": [
       "<div>\n",
       "<style scoped>\n",
       "    .dataframe tbody tr th:only-of-type {\n",
       "        vertical-align: middle;\n",
       "    }\n",
       "\n",
       "    .dataframe tbody tr th {\n",
       "        vertical-align: top;\n",
       "    }\n",
       "\n",
       "    .dataframe thead th {\n",
       "        text-align: right;\n",
       "    }\n",
       "</style>\n",
       "<table border=\"1\" class=\"dataframe\">\n",
       "  <thead>\n",
       "    <tr style=\"text-align: right;\">\n",
       "      <th></th>\n",
       "      <th>macd</th>\n",
       "      <th>macdsignal</th>\n",
       "      <th>macdhist</th>\n",
       "    </tr>\n",
       "  </thead>\n",
       "  <tbody>\n",
       "    <tr>\n",
       "      <th>0</th>\n",
       "      <td>0.536751</td>\n",
       "      <td>0.522479</td>\n",
       "      <td>0.014272</td>\n",
       "    </tr>\n",
       "    <tr>\n",
       "      <th>1</th>\n",
       "      <td>0.582661</td>\n",
       "      <td>0.534515</td>\n",
       "      <td>0.048146</td>\n",
       "    </tr>\n",
       "    <tr>\n",
       "      <th>2</th>\n",
       "      <td>0.591855</td>\n",
       "      <td>0.545983</td>\n",
       "      <td>0.045872</td>\n",
       "    </tr>\n",
       "    <tr>\n",
       "      <th>3</th>\n",
       "      <td>0.507797</td>\n",
       "      <td>0.538346</td>\n",
       "      <td>-0.030549</td>\n",
       "    </tr>\n",
       "    <tr>\n",
       "      <th>4</th>\n",
       "      <td>0.688823</td>\n",
       "      <td>0.568441</td>\n",
       "      <td>0.120381</td>\n",
       "    </tr>\n",
       "  </tbody>\n",
       "</table>\n",
       "</div>"
      ],
      "text/plain": [
       "       macd  macdsignal  macdhist\n",
       "0  0.536751    0.522479  0.014272\n",
       "1  0.582661    0.534515  0.048146\n",
       "2  0.591855    0.545983  0.045872\n",
       "3  0.507797    0.538346 -0.030549\n",
       "4  0.688823    0.568441  0.120381"
      ]
     },
     "execution_count": 4,
     "metadata": {},
     "output_type": "execute_result"
    }
   ],
   "source": [
    "macd, macdsignal, macdhist = talib.MACD(close, fastperiod=5, slowperiod=20, signalperiod=9)\n",
    "macdhist = macdhist[~np.isnan(macdhist)]\n",
    "macd = macd[-len(macdhist):]\n",
    "macdsignal = macdsignal[-len(macdhist):]\n",
    "\n",
    "\n",
    "pd.DataFrame({'macd': macd, 'macdsignal': macdsignal, 'macdhist': macdhist}).head()"
   ]
  },
  {
   "cell_type": "code",
   "execution_count": 5,
   "metadata": {},
   "outputs": [],
   "source": [
    "def prepare_dataset(close):\n",
    "    \"\"\"\n",
    "    Function prepare_dataset to generate input data and trading strategy from stock close prices\n",
    "    \"\"\"\n",
    "\n",
    "    macd, macdsignal, macdhist = talib.MACD(close, fastperiod=12, slowperiod=26, signalperiod=9)\n",
    "\n",
    "    # Cancel NaN values\n",
    "    macdhist = macdhist[~np.isnan(macdhist)]\n",
    "    macd = macd[-len(macdhist):]\n",
    "    macdsignal = macdsignal[-len(macdhist):]\n",
    "\n",
    "    # Scaling features to a range [0, 1]\n",
    "    min_max_scaler = preprocessing.MinMaxScaler(feature_range=(-1, 1))\n",
    "    macdhist_norm = min_max_scaler.fit_transform(np.expand_dims(macdhist, axis=1))\n",
    "\n",
    "    # Implement strategy\n",
    "    start_sell = 0.2\n",
    "    stop_sell = 0.05\n",
    "    start_buy = -0.2\n",
    "    stop_buy = -0.05\n",
    "\n",
    "    y = np.full(len(macdhist), np.nan)\n",
    "    y[0] = 0\n",
    "\n",
    "    for i in range(1, len(macdhist)):\n",
    "\n",
    "        if y[i-1] == 0:\n",
    "            if (macdhist_norm[i] >= start_sell):\n",
    "                # Enter sell position\n",
    "                y[i] = -1\n",
    "            elif (macdhist_norm[i] <= start_buy):\n",
    "                # Enter buy position\n",
    "                y[i] = 1\n",
    "            else:\n",
    "                y[i] = 0\n",
    "        elif y[i-1] == -1:\n",
    "            if macdhist_norm[i] > stop_sell:\n",
    "                # Stay in sell position\n",
    "                y[i] = -1\n",
    "            else:\n",
    "                # Leave sell position\n",
    "                y[i] = 0\n",
    "        else:\n",
    "            if macdhist_norm[i] < stop_buy:\n",
    "                # Stay in buy position\n",
    "                y[i] = 1\n",
    "            else:\n",
    "                # Leave buy position\n",
    "                y[i] = 0\n",
    "\n",
    "    # Plot strategy\n",
    "    dates = np.arange(len(macdhist))\n",
    "    plt.plot(dates, y,'g', label='Strategy Positions')\n",
    "    plt.bar(dates, macdhist_norm[:, 0], width=1, color='blue', label='MACD histogram')\n",
    "    plt.plot(dates, start_sell * np.ones(len(macdhist)), 'k--', lw=1)\n",
    "    plt.plot(dates, stop_sell * np.ones(len(macdhist)), 'k--', lw=1)\n",
    "    plt.plot(dates, start_buy * np.ones(len(macdhist)), 'k--', lw=1)\n",
    "    plt.plot(dates, stop_buy * np.ones(len(macdhist)), 'k--', lw=1)\n",
    "    plt.xlabel('Days')\n",
    "    plt.xlim((0, len(y)))\n",
    "    plt.legend()\n",
    "    # plt.savefig('images/AAL_macd.png', bbox_inches='tight')\n",
    "    plt.show()\n",
    "    \n",
    "    # Generate input data - technical indicators\n",
    "    ind1 = talib.MIDPOINT(close)    # Overlap: MidPoint over period\n",
    "    ind2 = talib.HT_DCPERIOD(close) # Cycle Indicator Functions:  Hilbert Transform - Dominant Cycle Period\n",
    "    ind3 = talib.MAX(close)         # Math Operator: Highest value over a specified period\n",
    "    ind4 = talib.SIN(close)         # Math Transform: Vector Trigonometric Sin\n",
    "    ind5 = talib.APO(close)         # Momentum: Absolute Price Oscillator\n",
    "    ind6 = talib.TEMA(close, timeperiod=5) ## Triple Exponential Moving Average\n",
    "\n",
    "    x = np.vstack((macdhist, macd, macdsignal, ind1[-len(macdhist):], ind2[-len(macdhist):],\n",
    "                   ind3[-len(macdhist):], ind4[-len(macdhist):], ind5[-len(macdhist):],\n",
    "                   ind6[-len(macdhist):]))\n",
    "    x = x.T\n",
    "\n",
    "    return x, y"
   ]
  },
  {
   "cell_type": "code",
   "execution_count": 6,
   "metadata": {},
   "outputs": [
    {
     "data": {
      "image/png": "[encoded data removed]",
      "text/plain": [
       "<Figure size 432x288 with 1 Axes>"
      ]
     },
     "metadata": {
      "needs_background": "light"
     },
     "output_type": "display_data"
    }
   ],
   "source": [
    "# Implement MACD trading strategy\n",
    "X, y = prepare_dataset(close)"
   ]
  },
  {
   "cell_type": "code",
   "execution_count": 7,
   "metadata": {},
   "outputs": [
    {
     "data": {
      "text/plain": [
       "array([8.07305251e-02, 5.52733425e-01, 4.72002900e-01, 1.20326241e+02,\n",
       "       1.72117648e+01, 1.21204536e+02, 9.86414391e-01, 6.80195539e-01,\n",
       "       1.20917244e+02])"
      ]
     },
     "execution_count": 7,
     "metadata": {},
     "output_type": "execute_result"
    }
   ],
   "source": [
    "X[0]"
   ]
  },
  {
   "cell_type": "code",
   "execution_count": 8,
   "metadata": {},
   "outputs": [],
   "source": [
    "# Split dataset\n",
    "n_train = int(X.shape[0] * 0.8)\n",
    "\n",
    "X_train, y_train = X[:n_train], y[:n_train]\n",
    "X_test, y_test = X[n_train:], y[n_train:]"
   ]
  },
  {
   "cell_type": "code",
   "execution_count": 9,
   "metadata": {},
   "outputs": [],
   "source": [
    "# Normalize data\n",
    "scaler = preprocessing.MinMaxScaler()\n",
    "\n",
    "X_train = scaler.fit_transform(X_train)\n",
    "X_test = scaler.transform(X_test)"
   ]
  },
  {
   "cell_type": "code",
   "execution_count": 10,
   "metadata": {},
   "outputs": [
    {
     "name": "stdout",
     "output_type": "stream",
     "text": [
      "[-1.  0.  1.]\n"
     ]
    }
   ],
   "source": [
    "# Encode trading signal with integers between 0 and n-1 classes\n",
    "le = preprocessing.LabelEncoder()\n",
    "\n",
    "y_train = le.fit_transform(y_train)\n",
    "y_test = le.transform(y_test)\n",
    "\n",
    "print(le.classes_)"
   ]
  },
  {
   "cell_type": "code",
   "execution_count": 11,
   "metadata": {},
   "outputs": [],
   "source": [
    "## Create and train the Agent\n",
    "# Variable definiton\n",
    "episodes = 20\n",
    "look_back = 5\n",
    "batch_size = 32\n",
    "action_size = len(le.classes_)\n",
    "n_features = X_train.shape[1]"
   ]
  },
  {
   "cell_type": "code",
   "execution_count": 12,
   "metadata": {},
   "outputs": [],
   "source": [
    "# Create Agent\n",
    "agent = Agent(look_back, action_size, n_features)"
   ]
  },
  {
   "cell_type": "code",
   "execution_count": 13,
   "metadata": {},
   "outputs": [],
   "source": [
    "def run(agent, dataX, dataY, episodes, look_back):\n",
    "    \"\"\"\n",
    "    Function run to train the agent\n",
    "    \"\"\"\n",
    "    \n",
    "    # Length of dataset\n",
    "    times = len(dataX)\n",
    "\n",
    "    # List of total rewards\n",
    "    total_reward_list = []\n",
    "\n",
    "    for ep in range(episodes):\n",
    "\n",
    "        # print('Episode: ' + str(ep))\n",
    "        \n",
    "        # Initial state and position\n",
    "        state = dataX[:look_back, :][np.newaxis, :, :]\n",
    "        pos = dataY[look_back - 1]\n",
    "\n",
    "        done = False\n",
    "        total_reward = 0\n",
    "\n",
    "        for t in range(1, times - look_back + 1):\n",
    "\n",
    "            # Predict action based on the current state\n",
    "            action = agent.act(state)\n",
    "\n",
    "            # Calculate reward\n",
    "            if action == pos:   # 0:-1      1:0     2:1\n",
    "                reward = +1\n",
    "\n",
    "            elif (pos == 0 or pos == 2):\n",
    "                if action == 1:\n",
    "                    reward = 0\n",
    "                else:\n",
    "                    reward = -1\n",
    "            else:\n",
    "                reward = -1\n",
    "\n",
    "            total_reward += reward\n",
    "\n",
    "            # Final state\n",
    "            if t == times - look_back:\n",
    "                done = True\n",
    "\n",
    "            # Receive next state and position\n",
    "            next_state = dataX[t:t + look_back, :][np.newaxis, :, :]\n",
    "            next_pos = dataY[t + look_back - 1]\n",
    "            \n",
    "            # Remember current experience\n",
    "            agent.remember(state, action, reward, next_state, done)\n",
    "            \n",
    "            # Make next_state the new current state; the same for pos\n",
    "            state = next_state\n",
    "            pos = next_pos\n",
    "\n",
    "            if done:\n",
    "                print('Episode: %i ---> Total Reward: %i' %(ep, total_reward))\n",
    "                total_reward_list.append(total_reward)\n",
    "\n",
    "            # Train the agent with previous experiences\n",
    "            if len(agent.memory) > batch_size:\n",
    "                agent.replay(batch_size)\n",
    "\n",
    "        if (ep + 1) % 5 == 0 and ep > 0:\n",
    "            file = 'checkpoints/' + symbol + '_robot_checkpoint' + str(ep + 1)\n",
    "            # Serialize weights to HDF5\n",
    "            agent.model.save_weights(file + \".h5\")\n",
    "            # Save epsilon\n",
    "            pickle.dump(agent.epsilon, open(file + \"_epsilon.pickle\", \"wb\"))\n",
    "\n",
    "    # Save list of rewards along the epochs\n",
    "    np.savetxt(file + '_total_reward.txt', total_reward_list)\n",
    "\n",
    "    return\n"
   ]
  },
  {
   "cell_type": "code",
   "execution_count": 14,
   "metadata": {},
   "outputs": [
    {
     "name": "stdout",
     "output_type": "stream",
     "text": [
      "Episode: 0 ---> Total Reward: 77\n",
      "Episode: 1 ---> Total Reward: 214\n",
      "Episode: 2 ---> Total Reward: 379\n",
      "Episode: 3 ---> Total Reward: 405\n",
      "Episode: 4 ---> Total Reward: 421\n",
      "Episode: 5 ---> Total Reward: 428\n",
      "Episode: 6 ---> Total Reward: 471\n",
      "Episode: 7 ---> Total Reward: 460\n",
      "Episode: 8 ---> Total Reward: 492\n",
      "Episode: 9 ---> Total Reward: 472\n",
      "Episode: 10 ---> Total Reward: 487\n",
      "Episode: 11 ---> Total Reward: 492\n",
      "Episode: 12 ---> Total Reward: 506\n",
      "Episode: 13 ---> Total Reward: 507\n",
      "Episode: 14 ---> Total Reward: 501\n",
      "Episode: 15 ---> Total Reward: 492\n",
      "Episode: 16 ---> Total Reward: 512\n",
      "Episode: 17 ---> Total Reward: 528\n",
      "Episode: 18 ---> Total Reward: 528\n",
      "Episode: 19 ---> Total Reward: 521\n"
     ]
    }
   ],
   "source": [
    "# Train Agent\n",
    "run(agent, X_train, y_train, episodes, look_back)"
   ]
  },
  {
   "cell_type": "code",
   "execution_count": 15,
   "metadata": {},
   "outputs": [
    {
     "data": {
      "image/png": "[encoded data removed]",
      "text/plain": [
       "<Figure size 432x288 with 1 Axes>"
      ]
     },
     "metadata": {
      "needs_background": "light"
     },
     "output_type": "display_data"
    }
   ],
   "source": [
    "# Load rewards\n",
    "total_reward_list = np.loadtxt( 'checkpoints/'+ symbol + '_robot_checkpoint' + str(episodes) + '_total_reward.txt')\n",
    "# Plot\n",
    "plt.figure()\n",
    "plt.plot(np.arange(1, episodes+1), total_reward_list)\n",
    "plt.xlabel('Episodes')\n",
    "plt.ylabel('Total Reward')\n",
    "plt.show()"
   ]
  },
  {
   "cell_type": "code",
   "execution_count": 16,
   "metadata": {},
   "outputs": [
    {
     "data": {
      "text/plain": [
       "array([ 77., 214., 379., 405., 421., 428., 471., 460., 492., 472., 487.,\n",
       "       492., 506., 507., 501., 492., 512., 528., 528., 521.])"
      ]
     },
     "execution_count": 16,
     "metadata": {},
     "output_type": "execute_result"
    }
   ],
   "source": [
    "total_reward_list"
   ]
  },
  {
   "cell_type": "code",
   "execution_count": 17,
   "metadata": {},
   "outputs": [],
   "source": [
    "def evaluate(agent, dataX, dataY, look_back):\n",
    "    \"\"\"\n",
    "    Function run to evaluate the trained agent\n",
    "    \"\"\"\n",
    "    \n",
    "    # Length of dataset\n",
    "    times = len(dataX)\n",
    "\n",
    "    # Initial state and position\n",
    "    state = dataX[:look_back, :][np.newaxis, :, :]\n",
    "    pos = dataY[look_back - 1]\n",
    "\n",
    "    # List of predicted positions\n",
    "    pos_list = []\n",
    "    \n",
    "    done = False\n",
    "    total_reward = 0\n",
    "    \n",
    "    for t in range(1, times - look_back + 1):\n",
    "\n",
    "        # Predict action based on the current state\n",
    "        action = agent.act(state)\n",
    "\n",
    "        # Calculate reward\n",
    "        if action == pos:   # 0:-1      1:0     2:1\n",
    "            reward = +1\n",
    "\n",
    "        elif (pos == 0 or pos == 2):\n",
    "            if action == 1:\n",
    "                reward = 0\n",
    "            else:\n",
    "                reward = -1\n",
    "        else:\n",
    "            reward = -1\n",
    "\n",
    "        pos_list.append(action)\n",
    "        total_reward += reward\n",
    "\n",
    "        # Final state\n",
    "        if t == times - look_back:\n",
    "            done = True\n",
    "\n",
    "        # Receive next state and position\n",
    "        next_state = dataX[t:t + look_back, :][np.newaxis, :, :]\n",
    "        next_pos = dataY[t + look_back - 1]\n",
    "\n",
    "        # Remember current experience\n",
    "        agent.remember(state, action, reward, next_state, done)\n",
    "\n",
    "        # Make next_state the new current state; the same for pos\n",
    "        state = next_state\n",
    "        pos = next_pos\n",
    "\n",
    "        if done:\n",
    "            print('Total Reward: %i' % total_reward)\n",
    "\n",
    "    return np.array(pos_list)"
   ]
  },
  {
   "cell_type": "code",
   "execution_count": 18,
   "metadata": {},
   "outputs": [
    {
     "name": "stdout",
     "output_type": "stream",
     "text": [
      "Total Reward: 91\n",
      "Accuracy: 75.00 %\n"
     ]
    }
   ],
   "source": [
    "# Evaluate the model\n",
    "# Make predictions\n",
    "y_pred_test = evaluate(agent, X_test, y_test, look_back)\n",
    "\n",
    "# Calculate and print accuracy\n",
    "acc = accuracy_score(y_test[look_back-1:-1], y_pred_test)\n",
    "\n",
    "print('Accuracy: %.2f %%' % (acc*100))"
   ]
  },
  {
   "cell_type": "code",
   "execution_count": 19,
   "metadata": {},
   "outputs": [
    {
     "name": "stdout",
     "output_type": "stream",
     "text": [
      "      1-Precision  2-Recall  3-F1 score  4-Support\n",
      "-1.0        0.870     0.838       0.854         80\n",
      " 0.0        0.523     0.676       0.590         34\n",
      " 1.0        0.789     0.577       0.667         26\n"
     ]
    }
   ],
   "source": [
    "# Calculate and print precision, recall, f1 score and support\n",
    "p, r, f1, s = precision_recall_fscore_support(y_test[look_back-1:-1], y_pred_test, average=None)\n",
    "results = pd.DataFrame({'1-Precision': p, '2-Recall': r, '3-F1 score': f1, '4-Support': s}, index=le.classes_)\n",
    "\n",
    "print(results.round(decimals=3))"
   ]
  },
  {
   "cell_type": "code",
   "execution_count": 20,
   "metadata": {},
   "outputs": [],
   "source": [
    "# Decodificate labels\n",
    "y_true_test = le.inverse_transform(y_test[look_back-1:-1])\n",
    "y_pred_test = le.inverse_transform(y_pred_test)"
   ]
  },
  {
   "cell_type": "code",
   "execution_count": 21,
   "metadata": {},
   "outputs": [
    {
     "data": {
      "image/png": "[encoded data removed]",
      "text/plain": [
       "<Figure size 432x288 with 1 Axes>"
      ]
     },
     "metadata": {
      "needs_background": "light"
     },
     "output_type": "display_data"
    }
   ],
   "source": [
    "# Plot strategy\n",
    "plt.figure()\n",
    "plt.plot(y_true_test, label='true')\n",
    "plt.plot(y_pred_test, label='pred')\n",
    "plt.legend()\n",
    "plt.show()"
   ]
  },
  {
   "cell_type": "code",
   "execution_count": null,
   "metadata": {},
   "outputs": [],
   "source": []
  }
 ],
 "metadata": {
  "kernelspec": {
   "display_name": "Python 3",
   "language": "python",
   "name": "python3"
  },
  "language_info": {
   "codemirror_mode": {
    "name": "ipython",
    "version": 3
   },
   "file_extension": ".py",
   "mimetype": "text/x-python",
   "name": "python",
   "nbconvert_exporter": "python",
   "pygments_lexer": "ipython3",
   "version": "3.7.6"
  }
 },
 "nbformat": 4,
 "nbformat_minor": 2
}
