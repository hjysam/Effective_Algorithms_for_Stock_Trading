{
 "cells": [
  {
   "cell_type": "code",
   "execution_count": 1,
   "metadata": {
    "scrolled": true
   },
   "outputs": [
    {
     "name": "stderr",
     "output_type": "stream",
     "text": [
      "C:\\Users\\Elid-PC.DESKTOP-MG9DS93\\anaconda3\\lib\\site-packages\\pandas_datareader\\compat\\__init__.py:7: FutureWarning: pandas.util.testing is deprecated. Use the functions in the public API at pandas.testing instead.\n",
      "  from pandas.util.testing import assert_frame_equal\n"
     ]
    },
    {
     "data": {
      "application/javascript": [
       "\n",
       "console.log('Starting front end url_querystring_target comm target');\n",
       "const comm = Jupyter.notebook.kernel.comm_manager.new_comm('url_querystring_target', {'init': 1});\n",
       "comm.send({'ipyparams_browser_url': window.location.href});\n",
       "console.log('Sent window.location.href on url_querystring_target comm target');\n",
       "\n",
       "comm.on_msg(function(msg) {\n",
       "    console.log(msg.content.data);\n",
       "});\n"
      ],
      "text/plain": [
       "<IPython.core.display.Javascript object>"
      ]
     },
     "metadata": {},
     "output_type": "display_data"
    },
    {
     "name": "stderr",
     "output_type": "stream",
     "text": [
      "Using TensorFlow backend.\n"
     ]
    }
   ],
   "source": [
    "# Import libraries\n",
    "import pandas as pd\n",
    "from pandas_datareader import data as pdr\n",
    "\n",
    "import numpy as np\n",
    "import matplotlib.pyplot as plt\n",
    "import pickle\n",
    "\n",
    "from sklearn import preprocessing\n",
    "from sklearn.metrics import accuracy_score\n",
    "from sklearn.metrics import precision_recall_fscore_support\n",
    "\n",
    "import talib, re, ipyparams\n",
    "\n",
    "from Agent import Agent"
   ]
  },
  {
   "cell_type": "code",
   "execution_count": 2,
   "metadata": {},
   "outputs": [
    {
     "data": {
      "text/plain": [
       "755"
      ]
     },
     "execution_count": 2,
     "metadata": {},
     "output_type": "execute_result"
    }
   ],
   "source": [
    "end_date = '2020-04-19'\n",
    "start_date = '2017-04-20'\n",
    "\n",
    "currentNotebook = ipyparams.notebook_name\n",
    "symbol = 'V'\n",
    "Date = pd.DataFrame(pdr.DataReader(symbol,'yahoo', start_date, end_date))\n",
    "\n",
    "alldata = pd.DataFrame({'Date': Date.index})\n",
    "alldata[symbol] = pdr.DataReader(symbol, 'yahoo', start_date, end_date)['Adj Close'].values\n",
    "# Stock symbol\n",
    "\n",
    "# Load close prices of to NumPy array\n",
    "close = alldata[symbol].values\n",
    "len(close)"
   ]
  },
  {
   "cell_type": "code",
   "execution_count": 3,
   "metadata": {},
   "outputs": [
    {
     "data": {
      "text/plain": [
       "array([ 87.85769653,  89.22819519,  89.22819519,  89.91342926,\n",
       "        90.16794586,  89.88407135,  89.6687088 ,  89.29671478,\n",
       "        89.33587646,  90.58888245,  90.49099731,  90.66719818,\n",
       "        90.14837646,  89.98196411,  90.06026459,  90.30499268,\n",
       "        90.15814972,  90.77487183,  91.26433563,  91.18602753,\n",
       "        89.98471832,  89.93569183,  90.69078064,  91.50471497,\n",
       "        92.04409027,  92.97571564,  93.20124817,  92.83840942,\n",
       "        92.88745117,  93.3875885 ,  93.55429077,  94.28979492,\n",
       "        94.68205261,  93.93674469,  94.23094177,  94.23094177,\n",
       "        92.73054504,  91.6910553 ,  93.24048615,  93.47584534,\n",
       "        92.3480835 ,  92.3480835 ,  92.95608521,  92.55403137,\n",
       "        92.71092224,  92.13233948,  93.73081207,  93.37778473,\n",
       "        93.06396484,  94.36824036,  92.59324646,  91.96563721,\n",
       "        91.54396057,  92.19120789,  91.4458847 ,  92.10293579,\n",
       "        93.25030518,  93.5641098 ,  94.31920624,  94.08383942,\n",
       "        95.0546875 ,  94.95662689,  95.69211578,  96.34915924,\n",
       "        96.21187592,  97.67304993,  98.42814636,  98.05548859,\n",
       "        98.89884949,  97.64361572,  97.23175049,  97.63380432,\n",
       "        98.91846466,  99.32054901,  98.64389801,  98.93809509,\n",
       "        99.52646637,  99.32054901,  99.01652527,  97.5651474 ,\n",
       "        98.15355682,  99.89912415, 100.64441681, 101.48422241,\n",
       "       100.344841  , 100.68862152, 101.38599396, 102.22089386,\n",
       "       101.34670258, 101.38599396, 101.51369476, 101.93605042,\n",
       "       101.92623901, 101.88694   , 101.68066406, 102.05391693,\n",
       "       101.17973328, 101.34670258, 102.70220184, 102.57450104,\n",
       "       104.26393127, 104.32286835, 103.94963074, 104.1951828 ,\n",
       "       103.42904663, 102.9673996 , 103.53710175, 103.10490417,\n",
       "       103.43886566, 103.68442535, 101.18955231, 101.11096954,\n",
       "       102.0440979 , 102.7218399 , 103.37011719, 103.56655884,\n",
       "       103.71388245, 103.43886566, 104.3523407 , 104.83364105,\n",
       "       105.1086731 , 105.40331268, 106.51324463, 106.18912506,\n",
       "       106.7293396 , 106.37573242, 105.62924194, 105.8846283 ,\n",
       "       105.11847687, 105.6390686 , 105.61941528, 106.48377228,\n",
       "       107.54457855, 107.84909058, 107.76067352, 108.08483124,\n",
       "       108.02589417, 109.0965271 , 109.00812531, 109.38137817,\n",
       "       109.93141174, 110.09838867, 110.47164917, 110.14751434,\n",
       "       109.89213562, 109.42066193, 109.99034882, 108.29109955,\n",
       "       109.24062347, 108.05986023, 108.18777466, 109.66374207,\n",
       "       109.04384613, 110.17539978, 110.57881927, 111.54312134,\n",
       "       108.09921265, 110.7854538 , 108.95526886, 105.7081604 ,\n",
       "       106.83972931, 107.98114014, 109.6145401 , 110.79529572,\n",
       "       110.56900024, 111.64151764, 111.493927  , 111.11018372,\n",
       "       111.99575043, 111.73008728, 110.34268188, 110.32299805,\n",
       "       110.60835266, 110.88387299, 111.17906189, 112.19252777,\n",
       "       112.51725006, 112.19252777, 112.67469788, 113.79640961,\n",
       "       114.21952057, 116.95497894, 117.42727661, 117.20097351,\n",
       "       117.07305908, 117.91925812, 118.16526031, 118.46044922,\n",
       "       120.02496338, 121.13685608, 120.73342133, 122.33730316,\n",
       "       122.65216827, 122.55377197, 123.21302795, 124.29541016,\n",
       "       122.83911133, 121.56980133, 122.23892212, 123.70502472,\n",
       "       118.97212982, 114.40647888, 118.04718018, 117.73232269,\n",
       "       112.03511047, 114.45569611, 116.5712204 , 116.45314789,\n",
       "       118.8934021 , 120.52963257, 120.10578156, 120.2634964 ,\n",
       "       118.70610046, 118.65682983, 121.17032623, 122.8065567 ,\n",
       "       121.60401917, 121.18019104, 118.67654419, 119.04125214,\n",
       "       120.13536072, 119.3270874 , 120.10578156, 120.4704895 ,\n",
       "       122.72770691, 122.46157837, 121.4364624 , 120.82533264,\n",
       "       121.64346313, 122.74741364, 121.44631958, 123.12199402,\n",
       "       121.45618439, 118.27241516, 115.32521057, 118.9131012 ,\n",
       "       115.71948242, 115.31534576, 117.90771484, 116.69532013,\n",
       "       117.49372101, 118.09499359, 119.45523834, 116.01519775,\n",
       "       117.08959961, 118.99196625, 118.06541443, 119.33695221,\n",
       "       119.02153015, 120.13536072, 122.02788544, 122.69813538,\n",
       "       122.18558502, 122.42214966, 122.67842865, 119.53408051,\n",
       "       119.47494507, 125.26091766, 124.20623779, 125.06378174,\n",
       "       125.68476868, 124.57094574, 125.35949707, 126.32546234,\n",
       "       127.40971375, 128.04055786, 128.96708679, 129.12481689,\n",
       "       129.93309021, 129.33180237, 129.22335815, 129.01637268,\n",
       "       128.27590942, 128.27590942, 128.99662781, 129.04600525,\n",
       "       130.20111084, 130.21096802, 129.60876465, 128.03900146,\n",
       "       128.97688293, 129.05587769, 129.18423462, 131.3759613 ,\n",
       "       131.85969543, 134.54508972, 132.13613892, 133.02468872,\n",
       "       132.20526123, 133.14315796, 132.68902588, 133.28137207,\n",
       "       133.38012695, 134.46611023, 133.38998413, 133.77503967,\n",
       "       132.81739807, 133.60719299, 129.26318359, 130.86254883,\n",
       "       129.35205078, 131.0501709 , 130.76387024, 130.81321716,\n",
       "       129.77656555, 131.59315491, 132.38298035, 133.79475403,\n",
       "       134.94989014, 136.39126587, 138.11901855, 137.64512634,\n",
       "       136.69735718, 137.86230469, 139.10627747, 138.34608459,\n",
       "       139.19514465, 138.24732971, 138.24732971, 140.82411194,\n",
       "       140.68588257, 138.91871643, 134.74253845, 134.99923706,\n",
       "       136.49003601, 137.15148926, 138.0400238 , 137.93141174,\n",
       "       138.4941864 , 138.88905334, 138.22758484, 137.95115662,\n",
       "       138.42507935, 138.96807861, 138.13876343, 139.06817627,\n",
       "       139.74052429, 139.35491943, 138.46504211, 139.55264282,\n",
       "       140.50186157, 142.57824707, 143.76477051, 143.56703186,\n",
       "       145.37641907, 145.08969116, 145.23800659, 146.13778687,\n",
       "       141.06544495, 142.87487793, 141.58950806, 142.45959473,\n",
       "       143.85374451, 144.92160034, 145.96966553, 146.17729187,\n",
       "       144.53596497, 145.96966553, 145.76203918, 147.56158447,\n",
       "       148.36247253, 147.43302917, 147.89775085, 147.5912323 ,\n",
       "       148.33279419, 148.4019928 , 149.09414673, 147.98674011,\n",
       "       147.69010925, 145.10945129, 143.72520447, 140.29423523,\n",
       "       140.70950317, 133.99586487, 132.22599792, 138.48483276,\n",
       "       135.68664551, 140.1459198 , 140.84793091, 137.72344971,\n",
       "       138.5045929 , 139.05830383, 137.55537415, 132.75004578,\n",
       "       138.93965149, 136.19090271, 132.81925964, 131.26689148,\n",
       "       136.29968262, 139.24615479, 138.20794678, 138.22773743,\n",
       "       139.206604  , 143.15171814, 143.59666443, 142.3112793 ,\n",
       "       138.14863586, 138.14863586, 137.92120361, 140.49661255,\n",
       "       138.85232544, 133.48364258, 132.10682678, 133.1468811 ,\n",
       "       131.61155701, 134.65248108, 134.62277222, 140.04098511,\n",
       "       137.782547  , 140.36785889, 143.62667847, 137.32691956,\n",
       "       139.71409607, 135.81140137, 136.57409668, 135.51425171,\n",
       "       136.49487305, 136.23728943, 133.81054688, 130.1554718 ,\n",
       "       131.40354919, 130.01678467, 127.54048157, 123.08310699,\n",
       "       120.57707214, 128.99655151, 130.75970459, 129.69984436,\n",
       "       130.69036865, 131.66108704, 126.91645813, 132.38417053,\n",
       "       134.77134705, 135.50434875, 137.09909058, 137.35661316,\n",
       "       136.75239563, 135.80149841, 136.03919983, 136.03919983,\n",
       "       135.97981262, 137.18824768, 136.74249268, 135.71234131,\n",
       "       136.39579773, 137.35661316, 134.70199585, 133.72137451,\n",
       "       136.29676819, 133.73127747, 138.82263184, 140.15985107,\n",
       "       141.18006897, 140.1499176 , 138.84242249, 139.05046082,\n",
       "       139.46644592, 140.64515686, 142.13098145, 142.05160522,\n",
       "       143.78805542, 143.32170105, 143.60945129, 142.88510132,\n",
       "       144.74060059, 144.92913818, 145.90155029, 146.08016968,\n",
       "       146.97320557, 148.31274414, 146.81443787, 146.80450439,\n",
       "       146.66558838, 145.69317627, 146.20916748, 149.50344849,\n",
       "       150.55523682, 151.289505  , 153.00613403, 154.25636292,\n",
       "       153.76023865, 153.39308167, 152.55961609, 154.59373474,\n",
       "       151.88487244, 151.84516907, 154.09759521, 153.0259552 ,\n",
       "       153.47247314, 154.98069763, 156.04240417, 156.55838013,\n",
       "       157.23313904, 156.41949463, 156.42941284, 156.52862549,\n",
       "       156.27064514, 157.33236694, 156.63778687, 158.4039917 ,\n",
       "       159.19781494, 158.98942566, 159.19781494, 158.91998291,\n",
       "       159.15809631, 160.40837097, 160.23968506, 159.77333069,\n",
       "       161.66853333, 162.87908936, 163.15689087, 161.52960205,\n",
       "       159.87252808, 160.78543091, 161.02355957, 158.96958923,\n",
       "       159.51530457, 158.57269287, 159.4657135 , 156.11190796,\n",
       "       158.96958923, 161.52960205, 163.84512329, 163.06997681,\n",
       "       162.45384216, 162.84140015, 163.21905518, 160.5059967 ,\n",
       "       161.62898254, 162.69233704, 161.71841431, 161.74822998,\n",
       "       160.32713318, 157.61410522, 161.32092285, 164.36190796,\n",
       "       165.88237   , 168.99293518, 169.75813293, 169.251297  ,\n",
       "       170.52334595, 168.29727173, 168.60534668, 168.50596619,\n",
       "       168.22772217, 169.62895203, 172.6599884 , 172.36186218,\n",
       "       172.76930237, 170.21528625, 169.99665833, 170.16558838,\n",
       "       172.47117615, 172.85874939, 174.19041443, 175.77053833,\n",
       "       175.56185913, 175.09475708, 176.62519836, 178.19537354,\n",
       "       179.61647034, 179.20901489, 179.44754028, 178.19537354,\n",
       "       178.03634644, 179.40777588, 178.12579346, 179.44754028,\n",
       "       179.77546692, 182.19038391, 180.46118164, 182.54814148,\n",
       "       182.07112122, 180.40156555, 176.89349365, 178.0562439 ,\n",
       "       176.31712341, 167.81033325, 171.40782166, 174.23016357,\n",
       "       178.7816925 , 177.9369812 , 175.24383545, 177.49971008,\n",
       "       172.43139648, 175.42701721, 177.37763977, 178.88041687,\n",
       "       178.38282776, 180.07469177, 179.22874451, 174.39198303,\n",
       "       176.7407074 , 177.52693176, 177.8155365 , 180.30358887,\n",
       "       179.95526123, 178.34300232, 180.90072632, 183.84655762,\n",
       "       184.85173035, 180.68177795, 175.50665283, 174.14318848,\n",
       "       177.12884521, 176.42224121, 175.26779175, 175.6061554 ,\n",
       "       174.45170593, 175.11849976, 173.2276001 , 174.07351685,\n",
       "       173.64558411, 174.4417572 , 174.80996704, 173.16786194,\n",
       "       171.18739319, 173.45648193, 169.01782227, 172.04327393,\n",
       "       175.13839722, 174.06356812, 171.59542847, 174.04367065,\n",
       "       174.04367065, 176.21324158, 176.51179504, 177.89517212,\n",
       "       177.0193634 , 177.08905029, 174.86972046, 175.58624268,\n",
       "       170.0428772 , 170.5007019 , 175.31755066, 176.99946594,\n",
       "       178.97993469, 176.78051758, 178.39277649, 178.00463867,\n",
       "       180.06472778, 178.09420776, 175.52655029, 175.92463684,\n",
       "       177.57667542, 178.11412048, 178.68136597, 178.88041687,\n",
       "       178.55198669, 179.19000244, 179.20994568, 179.10029602,\n",
       "       182.2006073 , 181.09407043, 179.32957458, 178.91088867,\n",
       "       180.40621948, 181.98129272, 183.79560852, 183.93518066,\n",
       "       181.22364807, 181.33331299, 180.03736877, 181.323349  ,\n",
       "       181.60246277, 182.35012817, 181.69218445, 181.44296265,\n",
       "       182.0710144 , 184.56321716, 185.65979004, 184.94203186,\n",
       "       184.32395935, 185.95884705, 187.41430664, 186.49717712,\n",
       "       186.98565674, 188.57069397, 188.79997253, 187.24484253,\n",
       "       187.31460571, 190.52458191, 189.00932312, 188.6006012 ,\n",
       "       188.10215759, 191.32209778, 192.64794922, 193.16633606,\n",
       "       194.72146606, 195.4392395 , 199.17755127, 200.32395935,\n",
       "       204.06228638, 206.64419556, 207.25230408, 205.87661743,\n",
       "       204.36134338, 201.06166077, 202.21806335, 204.22177124,\n",
       "       207.56134033, 198.35014343, 200.18440247, 202.92582703,\n",
       "       202.17816162, 202.40745544, 202.10839844, 205.3482666 ,\n",
       "       203.30464172, 206.79374695, 207.05329895, 209.93847656,\n",
       "       210.84695435, 212.95343018, 211.0965271 , 208.46095276,\n",
       "       198.45768738, 188.08506775, 186.89706421, 179.70909119,\n",
       "       181.4561615 , 192.00849915, 185.41952515, 193.96520996,\n",
       "       186.6474762 , 184.05181885, 170.84394836, 182.29476929,\n",
       "       172.66088867, 159.81240845, 175.53608704, 151.75588989,\n",
       "       157.62606812, 148.23179626, 151.99549866, 146.58456421,\n",
       "       135.5131073 , 154.27168274, 161.50956726, 168.59770203,\n",
       "       161.28993225, 165.29324341, 160.85066223, 152.85406494,\n",
       "       157.12690735, 151.59617615, 169.1567688 , 168.30818176,\n",
       "       174.64756775, 173.3996582 , 168.70751953, 174.32809448,\n",
       "       165.68258667, 162.14849854, 169.2565918 ])"
      ]
     },
     "execution_count": 3,
     "metadata": {},
     "output_type": "execute_result"
    }
   ],
   "source": [
    "close"
   ]
  },
  {
   "cell_type": "code",
   "execution_count": 4,
   "metadata": {},
   "outputs": [
    {
     "data": {
      "text/html": [
       "<div>\n",
       "<style scoped>\n",
       "    .dataframe tbody tr th:only-of-type {\n",
       "        vertical-align: middle;\n",
       "    }\n",
       "\n",
       "    .dataframe tbody tr th {\n",
       "        vertical-align: top;\n",
       "    }\n",
       "\n",
       "    .dataframe thead th {\n",
       "        text-align: right;\n",
       "    }\n",
       "</style>\n",
       "<table border=\"1\" class=\"dataframe\">\n",
       "  <thead>\n",
       "    <tr style=\"text-align: right;\">\n",
       "      <th></th>\n",
       "      <th>macd</th>\n",
       "      <th>macdsignal</th>\n",
       "      <th>macdhist</th>\n",
       "    </tr>\n",
       "  </thead>\n",
       "  <tbody>\n",
       "    <tr>\n",
       "      <th>0</th>\n",
       "      <td>1.397437</td>\n",
       "      <td>0.805632</td>\n",
       "      <td>0.591805</td>\n",
       "    </tr>\n",
       "    <tr>\n",
       "      <th>1</th>\n",
       "      <td>1.367013</td>\n",
       "      <td>0.917909</td>\n",
       "      <td>0.449104</td>\n",
       "    </tr>\n",
       "    <tr>\n",
       "      <th>2</th>\n",
       "      <td>1.424345</td>\n",
       "      <td>1.019196</td>\n",
       "      <td>0.405149</td>\n",
       "    </tr>\n",
       "    <tr>\n",
       "      <th>3</th>\n",
       "      <td>1.453400</td>\n",
       "      <td>1.106037</td>\n",
       "      <td>0.347363</td>\n",
       "    </tr>\n",
       "    <tr>\n",
       "      <th>4</th>\n",
       "      <td>1.599905</td>\n",
       "      <td>1.204810</td>\n",
       "      <td>0.395095</td>\n",
       "    </tr>\n",
       "  </tbody>\n",
       "</table>\n",
       "</div>"
      ],
      "text/plain": [
       "       macd  macdsignal  macdhist\n",
       "0  1.397437    0.805632  0.591805\n",
       "1  1.367013    0.917909  0.449104\n",
       "2  1.424345    1.019196  0.405149\n",
       "3  1.453400    1.106037  0.347363\n",
       "4  1.599905    1.204810  0.395095"
      ]
     },
     "execution_count": 4,
     "metadata": {},
     "output_type": "execute_result"
    }
   ],
   "source": [
    "macd, macdsignal, macdhist = talib.MACD(close, fastperiod=5, slowperiod=20, signalperiod=9)\n",
    "macdhist = macdhist[~np.isnan(macdhist)]\n",
    "macd = macd[-len(macdhist):]\n",
    "macdsignal = macdsignal[-len(macdhist):]\n",
    "\n",
    "\n",
    "pd.DataFrame({'macd': macd, 'macdsignal': macdsignal, 'macdhist': macdhist}).head()"
   ]
  },
  {
   "cell_type": "code",
   "execution_count": 5,
   "metadata": {},
   "outputs": [],
   "source": [
    "def prepare_dataset(close):\n",
    "    \"\"\"\n",
    "    Function prepare_dataset to generate input data and trading strategy from stock close prices\n",
    "    \"\"\"\n",
    "\n",
    "    macd, macdsignal, macdhist = talib.MACD(close, fastperiod=12, slowperiod=26, signalperiod=9)\n",
    "\n",
    "    # Cancel NaN values\n",
    "    macdhist = macdhist[~np.isnan(macdhist)]\n",
    "    macd = macd[-len(macdhist):]\n",
    "    macdsignal = macdsignal[-len(macdhist):]\n",
    "\n",
    "    # Scaling features to a range [0, 1]\n",
    "    min_max_scaler = preprocessing.MinMaxScaler(feature_range=(-1, 1))\n",
    "    macdhist_norm = min_max_scaler.fit_transform(np.expand_dims(macdhist, axis=1))\n",
    "\n",
    "    # Implement strategy\n",
    "    start_sell = 0.2\n",
    "    stop_sell = 0.05\n",
    "    start_buy = -0.2\n",
    "    stop_buy = -0.05\n",
    "\n",
    "    y = np.full(len(macdhist), np.nan)\n",
    "    y[0] = 0\n",
    "\n",
    "    for i in range(1, len(macdhist)):\n",
    "\n",
    "        if y[i-1] == 0:\n",
    "            if (macdhist_norm[i] >= start_sell):\n",
    "                # Enter sell position\n",
    "                y[i] = -1\n",
    "            elif (macdhist_norm[i] <= start_buy):\n",
    "                # Enter buy position\n",
    "                y[i] = 1\n",
    "            else:\n",
    "                y[i] = 0\n",
    "        elif y[i-1] == -1:\n",
    "            if macdhist_norm[i] > stop_sell:\n",
    "                # Stay in sell position\n",
    "                y[i] = -1\n",
    "            else:\n",
    "                # Leave sell position\n",
    "                y[i] = 0\n",
    "        else:\n",
    "            if macdhist_norm[i] < stop_buy:\n",
    "                # Stay in buy position\n",
    "                y[i] = 1\n",
    "            else:\n",
    "                # Leave buy position\n",
    "                y[i] = 0\n",
    "\n",
    "    # Plot strategy\n",
    "    dates = np.arange(len(macdhist))\n",
    "    plt.plot(dates, y,'g', label='Strategy Positions')\n",
    "    plt.bar(dates, macdhist_norm[:, 0], width=1, color='blue', label='MACD histogram')\n",
    "    plt.plot(dates, start_sell * np.ones(len(macdhist)), 'k--', lw=1)\n",
    "    plt.plot(dates, stop_sell * np.ones(len(macdhist)), 'k--', lw=1)\n",
    "    plt.plot(dates, start_buy * np.ones(len(macdhist)), 'k--', lw=1)\n",
    "    plt.plot(dates, stop_buy * np.ones(len(macdhist)), 'k--', lw=1)\n",
    "    plt.xlabel('Days')\n",
    "    plt.xlim((0, len(y)))\n",
    "    plt.legend()\n",
    "    # plt.savefig('images/AAL_macd.png', bbox_inches='tight')\n",
    "    plt.show()\n",
    "    \n",
    "    # Generate input data - technical indicators\n",
    "    ind1 = talib.MIDPOINT(close)    # Overlap: MidPoint over period\n",
    "    ind2 = talib.HT_DCPERIOD(close) # Cycle Indicator Functions:  Hilbert Transform - Dominant Cycle Period\n",
    "    ind3 = talib.MAX(close)         # Math Operator: Highest value over a specified period\n",
    "    ind4 = talib.SIN(close)         # Math Transform: Vector Trigonometric Sin\n",
    "    ind5 = talib.APO(close)         # Momentum: Absolute Price Oscillator\n",
    "    ind6 = talib.TEMA(close, timeperiod=5) ## Triple Exponential Moving Average\n",
    "\n",
    "    x = np.vstack((macdhist, macd, macdsignal, ind1[-len(macdhist):], ind2[-len(macdhist):],\n",
    "                   ind3[-len(macdhist):], ind4[-len(macdhist):], ind5[-len(macdhist):],\n",
    "                   ind6[-len(macdhist):]))\n",
    "    x = x.T\n",
    "\n",
    "    return x, y"
   ]
  },
  {
   "cell_type": "code",
   "execution_count": 6,
   "metadata": {},
   "outputs": [
    {
     "data": {
      "image/png": "[encoded data removed]",
      "text/plain": [
       "<Figure size 432x288 with 1 Axes>"
      ]
     },
     "metadata": {
      "needs_background": "light"
     },
     "output_type": "display_data"
    }
   ],
   "source": [
    "# Implement MACD trading strategy\n",
    "X, y = prepare_dataset(close)"
   ]
  },
  {
   "cell_type": "code",
   "execution_count": 7,
   "metadata": {},
   "outputs": [
    {
     "data": {
      "text/plain": [
       "array([ 0.23704982,  1.18275363,  0.94570381, 92.30887222, 17.21176483,\n",
       "       94.68205261, -0.30604406,  1.42728263, 94.26985081])"
      ]
     },
     "execution_count": 7,
     "metadata": {},
     "output_type": "execute_result"
    }
   ],
   "source": [
    "X[0]"
   ]
  },
  {
   "cell_type": "code",
   "execution_count": 8,
   "metadata": {},
   "outputs": [],
   "source": [
    "# Split dataset\n",
    "n_train = int(X.shape[0] * 0.8)\n",
    "\n",
    "X_train, y_train = X[:n_train], y[:n_train]\n",
    "X_test, y_test = X[n_train:], y[n_train:]"
   ]
  },
  {
   "cell_type": "code",
   "execution_count": 9,
   "metadata": {},
   "outputs": [],
   "source": [
    "# Normalize data\n",
    "scaler = preprocessing.MinMaxScaler()\n",
    "\n",
    "X_train = scaler.fit_transform(X_train)\n",
    "X_test = scaler.transform(X_test)"
   ]
  },
  {
   "cell_type": "code",
   "execution_count": 10,
   "metadata": {},
   "outputs": [
    {
     "name": "stdout",
     "output_type": "stream",
     "text": [
      "[-1.  0.  1.]\n"
     ]
    }
   ],
   "source": [
    "# Encode trading signal with integers between 0 and n-1 classes\n",
    "le = preprocessing.LabelEncoder()\n",
    "\n",
    "y_train = le.fit_transform(y_train)\n",
    "y_test = le.transform(y_test)\n",
    "\n",
    "print(le.classes_)"
   ]
  },
  {
   "cell_type": "code",
   "execution_count": 11,
   "metadata": {},
   "outputs": [],
   "source": [
    "## Create and train the Agent\n",
    "# Variable definiton\n",
    "episodes = 20\n",
    "look_back = 5\n",
    "batch_size = 32\n",
    "action_size = len(le.classes_)\n",
    "n_features = X_train.shape[1]"
   ]
  },
  {
   "cell_type": "code",
   "execution_count": 12,
   "metadata": {},
   "outputs": [],
   "source": [
    "# Create Agent\n",
    "agent = Agent(look_back, action_size, n_features)"
   ]
  },
  {
   "cell_type": "code",
   "execution_count": 13,
   "metadata": {},
   "outputs": [],
   "source": [
    "def run(agent, dataX, dataY, episodes, look_back):\n",
    "    \"\"\"\n",
    "    Function run to train the agent\n",
    "    \"\"\"\n",
    "    \n",
    "    # Length of dataset\n",
    "    times = len(dataX)\n",
    "\n",
    "    # List of total rewards\n",
    "    total_reward_list = []\n",
    "\n",
    "    for ep in range(episodes):\n",
    "\n",
    "        # print('Episode: ' + str(ep))\n",
    "        \n",
    "        # Initial state and position\n",
    "        state = dataX[:look_back, :][np.newaxis, :, :]\n",
    "        pos = dataY[look_back - 1]\n",
    "\n",
    "        done = False\n",
    "        total_reward = 0\n",
    "\n",
    "        for t in range(1, times - look_back + 1):\n",
    "\n",
    "            # Predict action based on the current state\n",
    "            action = agent.act(state)\n",
    "\n",
    "            # Calculate reward\n",
    "            if action == pos:   # 0:-1      1:0     2:1\n",
    "                reward = +1\n",
    "\n",
    "            elif (pos == 0 or pos == 2):\n",
    "                if action == 1:\n",
    "                    reward = 0\n",
    "                else:\n",
    "                    reward = -1\n",
    "            else:\n",
    "                reward = -1\n",
    "\n",
    "            total_reward += reward\n",
    "\n",
    "            # Final state\n",
    "            if t == times - look_back:\n",
    "                done = True\n",
    "\n",
    "            # Receive next state and position\n",
    "            next_state = dataX[t:t + look_back, :][np.newaxis, :, :]\n",
    "            next_pos = dataY[t + look_back - 1]\n",
    "            \n",
    "            # Remember current experience\n",
    "            agent.remember(state, action, reward, next_state, done)\n",
    "            \n",
    "            # Make next_state the new current state; the same for pos\n",
    "            state = next_state\n",
    "            pos = next_pos\n",
    "\n",
    "            if done:\n",
    "                print('Episode: %i ---> Total Reward: %i' %(ep, total_reward))\n",
    "                total_reward_list.append(total_reward)\n",
    "\n",
    "            # Train the agent with previous experiences\n",
    "            if len(agent.memory) > batch_size:\n",
    "                agent.replay(batch_size)\n",
    "\n",
    "        if (ep + 1) % 5 == 0 and ep > 0:\n",
    "            file = 'checkpoints/' + symbol + '_robot_checkpoint' + str(ep + 1)\n",
    "            # Serialize weights to HDF5\n",
    "            agent.model.save_weights(file + \".h5\")\n",
    "            # Save epsilon\n",
    "            pickle.dump(agent.epsilon, open(file + \"_epsilon.pickle\", \"wb\"))\n",
    "\n",
    "    # Save list of rewards along the epochs\n",
    "    np.savetxt(file + '_total_reward.txt', total_reward_list)\n",
    "\n",
    "    return\n"
   ]
  },
  {
   "cell_type": "code",
   "execution_count": 14,
   "metadata": {},
   "outputs": [
    {
     "name": "stdout",
     "output_type": "stream",
     "text": [
      "Episode: 0 ---> Total Reward: 195\n",
      "Episode: 1 ---> Total Reward: 457\n",
      "Episode: 2 ---> Total Reward: 456\n",
      "Episode: 3 ---> Total Reward: 468\n",
      "Episode: 4 ---> Total Reward: 469\n",
      "Episode: 5 ---> Total Reward: 482\n",
      "Episode: 6 ---> Total Reward: 464\n",
      "Episode: 7 ---> Total Reward: 482\n",
      "Episode: 8 ---> Total Reward: 443\n",
      "Episode: 9 ---> Total Reward: 498\n",
      "Episode: 10 ---> Total Reward: 473\n",
      "Episode: 11 ---> Total Reward: 512\n",
      "Episode: 12 ---> Total Reward: 484\n",
      "Episode: 13 ---> Total Reward: 486\n",
      "Episode: 14 ---> Total Reward: 460\n",
      "Episode: 15 ---> Total Reward: 489\n",
      "Episode: 16 ---> Total Reward: 495\n",
      "Episode: 17 ---> Total Reward: 485\n",
      "Episode: 18 ---> Total Reward: 501\n",
      "Episode: 19 ---> Total Reward: 508\n"
     ]
    }
   ],
   "source": [
    "# Train Agent\n",
    "run(agent, X_train, y_train, episodes, look_back)"
   ]
  },
  {
   "cell_type": "code",
   "execution_count": 15,
   "metadata": {},
   "outputs": [
    {
     "data": {
      "image/png": "[encoded data removed]",
      "text/plain": [
       "<Figure size 432x288 with 1 Axes>"
      ]
     },
     "metadata": {
      "needs_background": "light"
     },
     "output_type": "display_data"
    }
   ],
   "source": [
    "# Load rewards\n",
    "total_reward_list = np.loadtxt( 'checkpoints/'+ symbol + '_robot_checkpoint' + str(episodes) + '_total_reward.txt')\n",
    "# Plot\n",
    "plt.figure()\n",
    "plt.plot(np.arange(1, episodes+1), total_reward_list)\n",
    "plt.xlabel('Episodes')\n",
    "plt.ylabel('Total Reward')\n",
    "plt.show()"
   ]
  },
  {
   "cell_type": "code",
   "execution_count": 16,
   "metadata": {},
   "outputs": [
    {
     "data": {
      "text/plain": [
       "array([195., 457., 456., 468., 469., 482., 464., 482., 443., 498., 473.,\n",
       "       512., 484., 486., 460., 489., 495., 485., 501., 508.])"
      ]
     },
     "execution_count": 16,
     "metadata": {},
     "output_type": "execute_result"
    }
   ],
   "source": [
    "total_reward_list"
   ]
  },
  {
   "cell_type": "code",
   "execution_count": 17,
   "metadata": {},
   "outputs": [],
   "source": [
    "def evaluate(agent, dataX, dataY, look_back):\n",
    "    \"\"\"\n",
    "    Function run to evaluate the trained agent\n",
    "    \"\"\"\n",
    "    \n",
    "    # Length of dataset\n",
    "    times = len(dataX)\n",
    "\n",
    "    # Initial state and position\n",
    "    state = dataX[:look_back, :][np.newaxis, :, :]\n",
    "    pos = dataY[look_back - 1]\n",
    "\n",
    "    # List of predicted positions\n",
    "    pos_list = []\n",
    "    \n",
    "    done = False\n",
    "    total_reward = 0\n",
    "    \n",
    "    for t in range(1, times - look_back + 1):\n",
    "\n",
    "        # Predict action based on the current state\n",
    "        action = agent.act(state)\n",
    "\n",
    "        # Calculate reward\n",
    "        if action == pos:   # 0:-1      1:0     2:1\n",
    "            reward = +1\n",
    "\n",
    "        elif (pos == 0 or pos == 2):\n",
    "            if action == 1:\n",
    "                reward = 0\n",
    "            else:\n",
    "                reward = -1\n",
    "        else:\n",
    "            reward = -1\n",
    "\n",
    "        pos_list.append(action)\n",
    "        total_reward += reward\n",
    "\n",
    "        # Final state\n",
    "        if t == times - look_back:\n",
    "            done = True\n",
    "\n",
    "        # Receive next state and position\n",
    "        next_state = dataX[t:t + look_back, :][np.newaxis, :, :]\n",
    "        next_pos = dataY[t + look_back - 1]\n",
    "\n",
    "        # Remember current experience\n",
    "        agent.remember(state, action, reward, next_state, done)\n",
    "\n",
    "        # Make next_state the new current state; the same for pos\n",
    "        state = next_state\n",
    "        pos = next_pos\n",
    "\n",
    "        if done:\n",
    "            print('Total Reward: %i' % total_reward)\n",
    "\n",
    "    return np.array(pos_list)"
   ]
  },
  {
   "cell_type": "code",
   "execution_count": 18,
   "metadata": {},
   "outputs": [
    {
     "name": "stdout",
     "output_type": "stream",
     "text": [
      "Total Reward: 70\n",
      "Accuracy: 55.71 %\n"
     ]
    }
   ],
   "source": [
    "# Evaluate the model\n",
    "# Make predictions\n",
    "y_pred_test = evaluate(agent, X_test, y_test, look_back)\n",
    "\n",
    "# Calculate and print accuracy\n",
    "acc = accuracy_score(y_test[look_back-1:-1], y_pred_test)\n",
    "\n",
    "print('Accuracy: %.2f %%' % (acc*100))"
   ]
  },
  {
   "cell_type": "code",
   "execution_count": 19,
   "metadata": {},
   "outputs": [
    {
     "name": "stdout",
     "output_type": "stream",
     "text": [
      "      1-Precision  2-Recall  3-F1 score  4-Support\n",
      "-1.0        1.000     0.231       0.375         52\n",
      " 0.0        0.538     0.955       0.689         66\n",
      " 1.0        0.273     0.136       0.182         22\n"
     ]
    }
   ],
   "source": [
    "# Calculate and print precision, recall, f1 score and support\n",
    "p, r, f1, s = precision_recall_fscore_support(y_test[look_back-1:-1], y_pred_test, average=None)\n",
    "results = pd.DataFrame({'1-Precision': p, '2-Recall': r, '3-F1 score': f1, '4-Support': s}, index=le.classes_)\n",
    "\n",
    "print(results.round(decimals=3))"
   ]
  },
  {
   "cell_type": "code",
   "execution_count": 20,
   "metadata": {},
   "outputs": [],
   "source": [
    "# Decodificate labels\n",
    "y_true_test = le.inverse_transform(y_test[look_back-1:-1])\n",
    "y_pred_test = le.inverse_transform(y_pred_test)"
   ]
  },
  {
   "cell_type": "code",
   "execution_count": 21,
   "metadata": {},
   "outputs": [
    {
     "data": {
      "image/png": "[encoded data removed]",
      "text/plain": [
       "<Figure size 432x288 with 1 Axes>"
      ]
     },
     "metadata": {
      "needs_background": "light"
     },
     "output_type": "display_data"
    }
   ],
   "source": [
    "# Plot strategy\n",
    "plt.figure()\n",
    "plt.plot(y_true_test, label='true')\n",
    "plt.plot(y_pred_test, label='pred')\n",
    "plt.legend()\n",
    "plt.show()"
   ]
  },
  {
   "cell_type": "code",
   "execution_count": null,
   "metadata": {},
   "outputs": [],
   "source": []
  }
 ],
 "metadata": {
  "kernelspec": {
   "display_name": "Python 3",
   "language": "python",
   "name": "python3"
  },
  "language_info": {
   "codemirror_mode": {
    "name": "ipython",
    "version": 3
   },
   "file_extension": ".py",
   "mimetype": "text/x-python",
   "name": "python",
   "nbconvert_exporter": "python",
   "pygments_lexer": "ipython3",
   "version": "3.7.6"
  }
 },
 "nbformat": 4,
 "nbformat_minor": 2
}
