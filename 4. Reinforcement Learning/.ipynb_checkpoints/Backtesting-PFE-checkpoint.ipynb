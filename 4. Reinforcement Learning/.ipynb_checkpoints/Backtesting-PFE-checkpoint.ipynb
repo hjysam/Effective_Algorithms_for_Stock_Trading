{
 "cells": [
  {
   "cell_type": "code",
   "execution_count": 1,
   "metadata": {
    "scrolled": true
   },
   "outputs": [
    {
     "name": "stderr",
     "output_type": "stream",
     "text": [
      "C:\\Users\\Elid-PC.DESKTOP-MG9DS93\\anaconda3\\lib\\site-packages\\pandas_datareader\\compat\\__init__.py:7: FutureWarning: pandas.util.testing is deprecated. Use the functions in the public API at pandas.testing instead.\n",
      "  from pandas.util.testing import assert_frame_equal\n"
     ]
    },
    {
     "data": {
      "application/javascript": [
       "\n",
       "console.log('Starting front end url_querystring_target comm target');\n",
       "const comm = Jupyter.notebook.kernel.comm_manager.new_comm('url_querystring_target', {'init': 1});\n",
       "comm.send({'ipyparams_browser_url': window.location.href});\n",
       "console.log('Sent window.location.href on url_querystring_target comm target');\n",
       "\n",
       "comm.on_msg(function(msg) {\n",
       "    console.log(msg.content.data);\n",
       "});\n"
      ],
      "text/plain": [
       "<IPython.core.display.Javascript object>"
      ]
     },
     "metadata": {},
     "output_type": "display_data"
    },
    {
     "name": "stderr",
     "output_type": "stream",
     "text": [
      "Using TensorFlow backend.\n"
     ]
    }
   ],
   "source": [
    "# Import libraries\n",
    "import pandas as pd\n",
    "from pandas_datareader import data as pdr\n",
    "\n",
    "import numpy as np\n",
    "import matplotlib.pyplot as plt\n",
    "import pickle\n",
    "\n",
    "from sklearn import preprocessing\n",
    "from sklearn.metrics import accuracy_score\n",
    "from sklearn.metrics import precision_recall_fscore_support\n",
    "\n",
    "import talib, re, ipyparams\n",
    "\n",
    "from Agent import Agent"
   ]
  },
  {
   "cell_type": "code",
   "execution_count": 2,
   "metadata": {},
   "outputs": [
    {
     "data": {
      "text/plain": [
       "503"
      ]
     },
     "execution_count": 2,
     "metadata": {},
     "output_type": "execute_result"
    }
   ],
   "source": [
    "end_date = '2020-04-19'\n",
    "start_date = '2018-04-20'\n",
    "\n",
    "currentNotebook = ipyparams.notebook_name\n",
    "symbol = 'PFE'\n",
    "Date = pd.DataFrame(pdr.DataReader(symbol,'yahoo', start_date, end_date))\n",
    "\n",
    "alldata = pd.DataFrame({'Date': Date.index})\n",
    "alldata[symbol] = pdr.DataReader(symbol, 'yahoo', start_date, end_date)['Adj Close'].values\n",
    "# Stock symbol\n",
    "\n",
    "# Load close prices of to NumPy array\n",
    "close = alldata[symbol].values\n",
    "len(close)"
   ]
  },
  {
   "cell_type": "code",
   "execution_count": 3,
   "metadata": {},
   "outputs": [
    {
     "data": {
      "text/plain": [
       "array([33.64006805, 33.73216248, 33.88870621, 34.12814331, 33.77820587,\n",
       "       33.93474579, 34.07288742, 33.71374512, 32.59946823, 32.12981033,\n",
       "       32.01009369, 32.08376312, 32.16664505, 32.21269226, 32.38765717,\n",
       "       32.58293533, 33.01067734, 33.3454361 , 33.18735504, 33.17805481,\n",
       "       33.20595551, 33.14086533, 33.28964233, 33.21525955, 33.44771957,\n",
       "       33.37332916, 33.17805481, 33.19665527, 33.5221138 , 33.41053009,\n",
       "       33.70808792, 33.89406586, 33.88476181, 33.82897186, 33.93126297,\n",
       "       34.09863663, 33.75458527, 33.75458527, 33.68019104, 33.62440491,\n",
       "       33.8103714 , 33.62440491, 33.68019104, 33.90336609, 33.75458527,\n",
       "       33.94985199, 33.82897186, 33.82897186, 33.67089462, 33.8103714 ,\n",
       "       33.7359848 , 33.78247833, 33.80107498, 34.28461075, 34.5077858 ,\n",
       "       34.55427933, 34.80534363, 34.60077286, 34.88903809, 34.8983345 ,\n",
       "       34.75885773, 35.00991821, 35.01921844, 34.74026108, 34.71236038,\n",
       "       34.60077286, 35.05641556, 35.32607269, 35.48415756, 35.71662903,\n",
       "       35.88400269, 37.1300354 , 37.44619751, 37.18361664, 38.01825333,\n",
       "       38.4871521 , 38.29959106, 38.83413696, 38.44964218, 38.38399506,\n",
       "       38.27145767, 38.17768097, 38.59968948, 38.84351349, 39.4718399 ,\n",
       "       39.69691086, 39.53748703, 39.45307922, 39.57499313, 39.76255798,\n",
       "       38.99356079, 38.91853714, 38.91853714, 38.91853714, 38.93729782,\n",
       "       38.79662323, 39.24676895, 39.18112183, 39.57499313, 39.44371033,\n",
       "       39.67816162, 39.77193451, 40.18456268, 40.28772354, 40.33460999,\n",
       "       40.80351257, 40.56906128, 41.02857971, 41.31929779, 41.19738007,\n",
       "       41.06609344, 40.96293259, 41.16925049, 41.32867432, 41.51623154,\n",
       "       41.46934509, 42.02264786, 41.91948318, 42.11642075, 42.46340561,\n",
       "       42.6415863 , 41.74130249, 40.14705658, 41.05670929, 40.43776321,\n",
       "       41.19738007, 41.79757309, 41.26302719, 41.73192215, 41.61000824,\n",
       "       41.35681152, 39.83757401, 40.70973206, 39.95011139, 40.54092407,\n",
       "       40.22207642, 40.38150406, 40.95355606, 40.25959015, 40.8128891 ,\n",
       "       40.33460999, 41.63815308, 41.43968964, 41.84605408, 41.6853981 ,\n",
       "       41.12783051, 40.55135727, 40.83486557, 41.1183815 , 41.75155258,\n",
       "       41.1372757 , 40.73091125, 40.76871872, 40.95772552, 41.64759445,\n",
       "       42.4319725 , 43.00843811, 43.68886948, 43.46206284, 42.65878296,\n",
       "       42.50757217, 41.5058403 , 41.95946121, 41.59089661, 41.73265457,\n",
       "       42.12011337, 41.39243698, 40.74036789, 40.06938934, 39.6630249 ,\n",
       "       39.64413071, 39.62522888, 38.32108307, 39.87092972, 40.49465561,\n",
       "       40.59861374, 41.25068665, 40.87266541, 39.72917938, 40.63641357,\n",
       "       40.8537674 , 41.04277802, 40.95772552, 39.98434448, 40.52300644,\n",
       "       40.04104233, 40.38125229, 39.79533386, 40.13554764, 40.19224548,\n",
       "       39.94653702, 39.84258652, 38.69909668, 38.40613174, 37.35714722,\n",
       "       38.52898407, 39.29446411, 40.4670105 , 40.87692261, 40.45747375,\n",
       "       40.14289093, 40.35261536, 39.75204086, 40.25728226, 39.73298264,\n",
       "       39.91410065, 39.75204086, 40.00942612, 40.41934586, 40.61000061,\n",
       "       40.22868347, 40.17148972, 40.95318222, 41.06758118, 41.01037598,\n",
       "       40.92458725, 41.32496643, 41.33449554, 41.05804062, 40.88645172,\n",
       "       39.90456772, 39.4565239 , 38.97988129, 39.56138229, 39.78063965,\n",
       "       40.04755783, 39.26586533, 39.82830048, 39.85690308, 40.32401276,\n",
       "       40.20008469, 40.3716774 , 39.89503479, 39.9331665 , 40.43840408,\n",
       "       40.05709457, 40.31448746, 40.48607254, 40.83878708, 40.90551376,\n",
       "       40.83878708, 40.74346542, 40.98178101, 41.12477875, 40.83878708,\n",
       "       40.73392868, 40.29541779, 39.76157379, 40.12382507, 39.00847626,\n",
       "       38.01706314, 37.54042053, 37.15910721, 37.57854843, 37.53088379,\n",
       "       37.75967026, 38.10286331, 37.74060822, 38.71295929, 38.86548615,\n",
       "       39.09427261, 39.4565239 , 39.70437622, 38.92268372, 39.03708267,\n",
       "       39.08516312, 39.16210556, 39.01784515, 39.10440063, 39.57565689,\n",
       "       40.04690552, 39.88341522, 39.99881744, 40.07575226, 40.38351822,\n",
       "       40.31619263, 40.345047  , 40.29695892, 40.12384415, 40.29695892,\n",
       "       39.93149948, 40.31619263, 40.61433411, 40.85476685, 41.07596588,\n",
       "       41.27793503, 41.42219162, 41.03749847, 41.4318161 , 40.87400055,\n",
       "       41.12405396, 41.23946381, 41.42219162, 41.83574295, 41.93191528,\n",
       "       41.99924088, 42.08579254, 42.08579254, 41.34525681, 41.76842499,\n",
       "       41.66262817, 42.09541321, 42.52819824, 42.70131683, 42.23967361,\n",
       "       41.64339828, 41.71071625, 42.37432098, 41.33563995, 40.77783203,\n",
       "       41.1144371 , 41.21060944, 41.10482407, 41.4125824 , 41.13367462,\n",
       "       41.1817627 , 41.44142914, 41.24908447, 41.03749847, 41.44142914,\n",
       "       39.86417389, 37.30594635, 37.35403061, 37.13076019, 36.88807678,\n",
       "       35.87850952, 35.86880493, 35.5096283 , 35.79114151, 35.28635788,\n",
       "       34.35444641, 34.1700058 , 33.23809814, 33.47107697, 33.63610077,\n",
       "       34.1505928 , 33.59727097, 33.84966278, 34.0535202 , 33.33517075,\n",
       "       33.8205452 , 33.33517075, 34.0535202 , 34.29620743, 34.50976562,\n",
       "       35.06308746, 34.78157425, 35.27665329, 35.43196869, 35.75231552,\n",
       "       36.28621674, 36.31534195, 36.18914413, 35.82997131, 35.75231552,\n",
       "       35.43196869, 35.31547928, 35.44167709, 35.61640549, 35.17957687,\n",
       "       34.95630264, 34.84952927, 34.73303604, 35.16016388, 34.87864685,\n",
       "       34.39328003, 33.68463898, 34.41269684, 34.87864685, 34.78157425,\n",
       "       34.39328003, 34.64566803, 34.74274063, 35.05337906, 35.23781967,\n",
       "       35.43196869, 35.27665329, 35.39313889, 35.39313889, 35.39313889,\n",
       "       35.36401749, 35.69406509, 35.32518768, 35.69406509, 36.18914413,\n",
       "       37.09193039, 37.35403061, 37.2472496 , 37.2666626 , 36.91719437,\n",
       "       36.38329315, 36.50949097, 36.17624664, 36.3134613 , 36.19584656,\n",
       "       36.23505402, 35.87240601, 35.8234024 , 36.53889084, 36.48008347,\n",
       "       36.91133499, 36.3134613 , 36.98974609, 37.56801987, 37.91106033,\n",
       "       37.52881622, 37.86205673, 37.75424194, 37.52881622, 37.29358292,\n",
       "       37.38179779, 37.27397919, 37.52881622, 37.55821609, 37.71503448,\n",
       "       37.46020889, 37.77384567, 37.56801987, 38.36191559, 38.12668991,\n",
       "       38.11688614, 38.19529724, 38.45012665, 38.53833771, 38.50893402,\n",
       "       38.59714508, 38.53833771, 38.13648987, 38.40111923, 38.36191559,\n",
       "       38.15608978, 38.10708237, 37.97967148, 38.2835083 , 38.11688614,\n",
       "       38.70495605, 38.62654495, 39.27342606, 39.86149597, 39.80269241,\n",
       "       39.70467758, 39.53806305, 39.3910408 , 39.90070343, 39.02839661,\n",
       "       39.36163712, 37.38179779, 36.8329277 , 36.70420837, 36.87253571,\n",
       "       37.13986588, 37.31809235, 37.79335403, 37.88246536, 37.67453766,\n",
       "       37.43690872, 37.71414566, 37.36759949, 36.5655899 , 36.1497345 ,\n",
       "       35.96160889, 35.87249756, 35.49624634, 35.36753082, 34.32788849,\n",
       "       33.59519577, 34.37739944, 33.76351547, 33.09022522, 34.53582001,\n",
       "       33.96154404, 36.04082108, 35.11009598, 34.67443848, 33.42686844,\n",
       "       34.24868011, 31.85256004, 29.72377586, 32.38722992, 29.88219833,\n",
       "       31.842659  , 32.04068756, 30.11982918, 28.72374344, 28.20887375,\n",
       "       29.40693474, 29.45643997, 31.43670464, 30.59509277, 32.34762573,\n",
       "       32.3179245 , 31.43670464, 32.5456543 , 33.30805588, 34.22887802,\n",
       "       33.27835083, 34.25858307, 35.04078674, 34.79325485, 36.08042526,\n",
       "       35.61506653, 35.5259552 , 36.54578781])"
      ]
     },
     "execution_count": 3,
     "metadata": {},
     "output_type": "execute_result"
    }
   ],
   "source": [
    "close"
   ]
  },
  {
   "cell_type": "code",
   "execution_count": 4,
   "metadata": {},
   "outputs": [
    {
     "data": {
      "text/html": [
       "<div>\n",
       "<style scoped>\n",
       "    .dataframe tbody tr th:only-of-type {\n",
       "        vertical-align: middle;\n",
       "    }\n",
       "\n",
       "    .dataframe tbody tr th {\n",
       "        vertical-align: top;\n",
       "    }\n",
       "\n",
       "    .dataframe thead th {\n",
       "        text-align: right;\n",
       "    }\n",
       "</style>\n",
       "<table border=\"1\" class=\"dataframe\">\n",
       "  <thead>\n",
       "    <tr style=\"text-align: right;\">\n",
       "      <th></th>\n",
       "      <th>macd</th>\n",
       "      <th>macdsignal</th>\n",
       "      <th>macdhist</th>\n",
       "    </tr>\n",
       "  </thead>\n",
       "  <tbody>\n",
       "    <tr>\n",
       "      <th>0</th>\n",
       "      <td>0.059701</td>\n",
       "      <td>0.054965</td>\n",
       "      <td>0.004736</td>\n",
       "    </tr>\n",
       "    <tr>\n",
       "      <th>1</th>\n",
       "      <td>0.120697</td>\n",
       "      <td>0.068112</td>\n",
       "      <td>0.052585</td>\n",
       "    </tr>\n",
       "    <tr>\n",
       "      <th>2</th>\n",
       "      <td>0.127089</td>\n",
       "      <td>0.079907</td>\n",
       "      <td>0.047182</td>\n",
       "    </tr>\n",
       "    <tr>\n",
       "      <th>3</th>\n",
       "      <td>0.197757</td>\n",
       "      <td>0.103477</td>\n",
       "      <td>0.094280</td>\n",
       "    </tr>\n",
       "    <tr>\n",
       "      <th>4</th>\n",
       "      <td>0.278385</td>\n",
       "      <td>0.138459</td>\n",
       "      <td>0.139926</td>\n",
       "    </tr>\n",
       "  </tbody>\n",
       "</table>\n",
       "</div>"
      ],
      "text/plain": [
       "       macd  macdsignal  macdhist\n",
       "0  0.059701    0.054965  0.004736\n",
       "1  0.120697    0.068112  0.052585\n",
       "2  0.127089    0.079907  0.047182\n",
       "3  0.197757    0.103477  0.094280\n",
       "4  0.278385    0.138459  0.139926"
      ]
     },
     "execution_count": 4,
     "metadata": {},
     "output_type": "execute_result"
    }
   ],
   "source": [
    "macd, macdsignal, macdhist = talib.MACD(close, fastperiod=5, slowperiod=20, signalperiod=9)\n",
    "macdhist = macdhist[~np.isnan(macdhist)]\n",
    "macd = macd[-len(macdhist):]\n",
    "macdsignal = macdsignal[-len(macdhist):]\n",
    "\n",
    "\n",
    "pd.DataFrame({'macd': macd, 'macdsignal': macdsignal, 'macdhist': macdhist}).head()"
   ]
  },
  {
   "cell_type": "code",
   "execution_count": 5,
   "metadata": {},
   "outputs": [],
   "source": [
    "def prepare_dataset(close):\n",
    "    \"\"\"\n",
    "    Function prepare_dataset to generate input data and trading strategy from stock close prices\n",
    "    \"\"\"\n",
    "\n",
    "    macd, macdsignal, macdhist = talib.MACD(close, fastperiod=12, slowperiod=26, signalperiod=9)\n",
    "\n",
    "    # Cancel NaN values\n",
    "    macdhist = macdhist[~np.isnan(macdhist)]\n",
    "    macd = macd[-len(macdhist):]\n",
    "    macdsignal = macdsignal[-len(macdhist):]\n",
    "\n",
    "    # Scaling features to a range [0, 1]\n",
    "    min_max_scaler = preprocessing.MinMaxScaler(feature_range=(-1, 1))\n",
    "    macdhist_norm = min_max_scaler.fit_transform(np.expand_dims(macdhist, axis=1))\n",
    "\n",
    "    # Implement strategy\n",
    "    start_sell = 0.4\n",
    "    stop_sell = 0.1\n",
    "    start_buy = -0.4\n",
    "    stop_buy = -0.1\n",
    "\n",
    "    y = np.full(len(macdhist), np.nan)\n",
    "    y[0] = 0\n",
    "\n",
    "    for i in range(1, len(macdhist)):\n",
    "\n",
    "        if y[i-1] == 0:\n",
    "            if (macdhist_norm[i] >= start_sell):\n",
    "                # Enter sell position\n",
    "                y[i] = -1\n",
    "            elif (macdhist_norm[i] <= start_buy):\n",
    "                # Enter buy position\n",
    "                y[i] = 1\n",
    "            else:\n",
    "                y[i] = 0\n",
    "        elif y[i-1] == -1:\n",
    "            if macdhist_norm[i] > stop_sell:\n",
    "                # Stay in sell position\n",
    "                y[i] = -1\n",
    "            else:\n",
    "                # Leave sell position\n",
    "                y[i] = 0\n",
    "        else:\n",
    "            if macdhist_norm[i] < stop_buy:\n",
    "                # Stay in buy position\n",
    "                y[i] = 1\n",
    "            else:\n",
    "                # Leave buy position\n",
    "                y[i] = 0\n",
    "\n",
    "    # Plot strategy\n",
    "    dates = np.arange(len(macdhist))\n",
    "    plt.plot(dates, y,'g', label='Strategy Positions')\n",
    "    plt.bar(dates, macdhist_norm[:, 0], width=1, color='blue', label='MACD histogram')\n",
    "    plt.plot(dates, start_sell * np.ones(len(macdhist)), 'k--', lw=1)\n",
    "    plt.plot(dates, stop_sell * np.ones(len(macdhist)), 'k--', lw=1)\n",
    "    plt.plot(dates, start_buy * np.ones(len(macdhist)), 'k--', lw=1)\n",
    "    plt.plot(dates, stop_buy * np.ones(len(macdhist)), 'k--', lw=1)\n",
    "    plt.xlabel('Days')\n",
    "    plt.xlim((0, len(y)))\n",
    "    plt.legend()\n",
    "    # plt.savefig('images/AAL_macd.png', bbox_inches='tight')\n",
    "    plt.show()\n",
    "    \n",
    "    # Generate input data - technical indicators\n",
    "    ind1 = talib.MIDPOINT(close)    # Overlap: MidPoint over period\n",
    "    ind2 = talib.HT_DCPERIOD(close) # Cycle Indicator Functions:  Hilbert Transform - Dominant Cycle Period\n",
    "    ind3 = talib.MAX(close)         # Math Operator: Highest value over a specified period\n",
    "    ind4 = talib.SIN(close)         # Math Transform: Vector Trigonometric Sin\n",
    "    ind5 = talib.APO(close)         # Momentum: Absolute Price Oscillator\n",
    "    ind6 = talib.TEMA(close, timeperiod=5) ## Triple Exponential Moving Average\n",
    "\n",
    "    x = np.vstack((macdhist, macd, macdsignal, ind1[-len(macdhist):], ind2[-len(macdhist):],\n",
    "                   ind3[-len(macdhist):], ind4[-len(macdhist):], ind5[-len(macdhist):],\n",
    "                   ind6[-len(macdhist):]))\n",
    "    x = x.T\n",
    "\n",
    "    return x, y"
   ]
  },
  {
   "cell_type": "code",
   "execution_count": 6,
   "metadata": {},
   "outputs": [
    {
     "data": {
      "image/png": "[encoded data removed]",
      "text/plain": [
       "<Figure size 432x288 with 1 Axes>"
      ]
     },
     "metadata": {
      "needs_background": "light"
     },
     "output_type": "display_data"
    }
   ],
   "source": [
    "# Implement MACD trading strategy\n",
    "X, y = prepare_dataset(close)"
   ]
  },
  {
   "cell_type": "code",
   "execution_count": 7,
   "metadata": {},
   "outputs": [
    {
     "data": {
      "text/plain": [
       "array([ 0.10640343,  0.16603806,  0.05963462, 33.51746559, 17.21176483,\n",
       "       34.07288742,  0.66578644,  0.44997364, 33.89782296])"
      ]
     },
     "execution_count": 7,
     "metadata": {},
     "output_type": "execute_result"
    }
   ],
   "source": [
    "X[0]"
   ]
  },
  {
   "cell_type": "code",
   "execution_count": 8,
   "metadata": {},
   "outputs": [],
   "source": [
    "# Split dataset\n",
    "n_train = int(X.shape[0] * 0.8)\n",
    "\n",
    "X_train, y_train = X[:n_train], y[:n_train]\n",
    "X_test, y_test = X[n_train:], y[n_train:]"
   ]
  },
  {
   "cell_type": "code",
   "execution_count": 9,
   "metadata": {},
   "outputs": [],
   "source": [
    "# Normalize data\n",
    "scaler = preprocessing.MinMaxScaler()\n",
    "\n",
    "X_train = scaler.fit_transform(X_train)\n",
    "X_test = scaler.transform(X_test)"
   ]
  },
  {
   "cell_type": "code",
   "execution_count": 10,
   "metadata": {},
   "outputs": [
    {
     "name": "stdout",
     "output_type": "stream",
     "text": [
      "[-1.  0.  1.]\n"
     ]
    }
   ],
   "source": [
    "# Encode trading signal with integers between 0 and n-1 classes\n",
    "le = preprocessing.LabelEncoder()\n",
    "\n",
    "y_train = le.fit_transform(y_train)\n",
    "y_test = le.transform(y_test)\n",
    "\n",
    "print(le.classes_)"
   ]
  },
  {
   "cell_type": "code",
   "execution_count": 11,
   "metadata": {},
   "outputs": [],
   "source": [
    "## Create and train the Agent\n",
    "# Variable definiton\n",
    "episodes = 20\n",
    "look_back = 5\n",
    "batch_size = 32\n",
    "action_size = len(le.classes_)\n",
    "n_features = X_train.shape[1]"
   ]
  },
  {
   "cell_type": "code",
   "execution_count": 12,
   "metadata": {},
   "outputs": [],
   "source": [
    "# Create Agent\n",
    "agent = Agent(look_back, action_size, n_features)"
   ]
  },
  {
   "cell_type": "code",
   "execution_count": 13,
   "metadata": {},
   "outputs": [],
   "source": [
    "def run(agent, dataX, dataY, episodes, look_back):\n",
    "    \"\"\"\n",
    "    Function run to train the agent\n",
    "    \"\"\"\n",
    "    \n",
    "    # Length of dataset\n",
    "    times = len(dataX)\n",
    "\n",
    "    # List of total rewards\n",
    "    total_reward_list = []\n",
    "\n",
    "    for ep in range(episodes):\n",
    "\n",
    "        # print('Episode: ' + str(ep))\n",
    "        \n",
    "        # Initial state and position\n",
    "        state = dataX[:look_back, :][np.newaxis, :, :]\n",
    "        pos = dataY[look_back - 1]\n",
    "\n",
    "        done = False\n",
    "        total_reward = 0\n",
    "\n",
    "        for t in range(1, times - look_back + 1):\n",
    "\n",
    "            # Predict action based on the current state\n",
    "            action = agent.act(state)\n",
    "\n",
    "            # Calculate reward\n",
    "            if action == pos:   # 0:-1      1:0     2:1\n",
    "                reward = +1\n",
    "\n",
    "            elif (pos == 0 or pos == 2):\n",
    "                if action == 1:\n",
    "                    reward = 0\n",
    "                else:\n",
    "                    reward = -1\n",
    "            else:\n",
    "                reward = -1\n",
    "\n",
    "            total_reward += reward\n",
    "\n",
    "            # Final state\n",
    "            if t == times - look_back:\n",
    "                done = True\n",
    "\n",
    "            # Receive next state and position\n",
    "            next_state = dataX[t:t + look_back, :][np.newaxis, :, :]\n",
    "            next_pos = dataY[t + look_back - 1]\n",
    "            \n",
    "            # Remember current experience\n",
    "            agent.remember(state, action, reward, next_state, done)\n",
    "            \n",
    "            # Make next_state the new current state; the same for pos\n",
    "            state = next_state\n",
    "            pos = next_pos\n",
    "\n",
    "            if done:\n",
    "                print('Episode: %i ---> Total Reward: %i' %(ep, total_reward))\n",
    "                total_reward_list.append(total_reward)\n",
    "\n",
    "            # Train the agent with previous experiences\n",
    "            if len(agent.memory) > batch_size:\n",
    "                agent.replay(batch_size)\n",
    "\n",
    "        if (ep + 1) % 5 == 0 and ep > 0:\n",
    "            file = 'checkpoints/' + symbol + '_robot_checkpoint' + str(ep + 1)\n",
    "            # Serialize weights to HDF5\n",
    "            agent.model.save_weights(file + \".h5\")\n",
    "            # Save epsilon\n",
    "            pickle.dump(agent.epsilon, open(file + \"_epsilon.pickle\", \"wb\"))\n",
    "\n",
    "    # Save list of rewards along the epochs\n",
    "    np.savetxt(file + '_total_reward.txt', total_reward_list)\n",
    "\n",
    "    return\n"
   ]
  },
  {
   "cell_type": "code",
   "execution_count": null,
   "metadata": {},
   "outputs": [],
   "source": [
    "# Train Agent\n",
    "run(agent, X_train, y_train, episodes, look_back)"
   ]
  },
  {
   "cell_type": "code",
   "execution_count": null,
   "metadata": {},
   "outputs": [],
   "source": [
    "# Load rewards\n",
    "total_reward_list = np.loadtxt( 'checkpoints/'+ symbol + '_robot_checkpoint' + str(episodes) + '_total_reward.txt')\n",
    "# Plot\n",
    "plt.figure()\n",
    "plt.plot(np.arange(1, episodes+1), total_reward_list)\n",
    "plt.xlabel('Episodes')\n",
    "plt.ylabel('Total Reward')\n",
    "plt.show()"
   ]
  },
  {
   "cell_type": "code",
   "execution_count": null,
   "metadata": {},
   "outputs": [],
   "source": [
    "total_reward_list"
   ]
  },
  {
   "cell_type": "code",
   "execution_count": null,
   "metadata": {},
   "outputs": [],
   "source": [
    "def evaluate(agent, dataX, dataY, look_back):\n",
    "    \"\"\"\n",
    "    Function run to evaluate the trained agent\n",
    "    \"\"\"\n",
    "    \n",
    "    # Length of dataset\n",
    "    times = len(dataX)\n",
    "\n",
    "    # Initial state and position\n",
    "    state = dataX[:look_back, :][np.newaxis, :, :]\n",
    "    pos = dataY[look_back - 1]\n",
    "\n",
    "    # List of predicted positions\n",
    "    pos_list = []\n",
    "    \n",
    "    done = False\n",
    "    total_reward = 0\n",
    "    \n",
    "    for t in range(1, times - look_back + 1):\n",
    "\n",
    "        # Predict action based on the current state\n",
    "        action = agent.act(state)\n",
    "\n",
    "        # Calculate reward\n",
    "        if action == pos:   # 0:-1      1:0     2:1\n",
    "            reward = +1\n",
    "\n",
    "        elif (pos == 0 or pos == 2):\n",
    "            if action == 1:\n",
    "                reward = 0\n",
    "            else:\n",
    "                reward = -1\n",
    "        else:\n",
    "            reward = -1\n",
    "\n",
    "        pos_list.append(action)\n",
    "        total_reward += reward\n",
    "\n",
    "        # Final state\n",
    "        if t == times - look_back:\n",
    "            done = True\n",
    "\n",
    "        # Receive next state and position\n",
    "        next_state = dataX[t:t + look_back, :][np.newaxis, :, :]\n",
    "        next_pos = dataY[t + look_back - 1]\n",
    "\n",
    "        # Remember current experience\n",
    "        agent.remember(state, action, reward, next_state, done)\n",
    "\n",
    "        # Make next_state the new current state; the same for pos\n",
    "        state = next_state\n",
    "        pos = next_pos\n",
    "\n",
    "        if done:\n",
    "            print('Total Reward: %i' % total_reward)\n",
    "\n",
    "    return np.array(pos_list)"
   ]
  },
  {
   "cell_type": "code",
   "execution_count": null,
   "metadata": {},
   "outputs": [],
   "source": [
    "# Evaluate the model\n",
    "# Make predictions\n",
    "y_pred_test = evaluate(agent, X_test, y_test, look_back)\n",
    "\n",
    "# Calculate and print accuracy\n",
    "acc = accuracy_score(y_test[look_back-1:-1], y_pred_test)\n",
    "\n",
    "print('Accuracy: %.2f %%' % (acc*100))"
   ]
  },
  {
   "cell_type": "code",
   "execution_count": null,
   "metadata": {},
   "outputs": [],
   "source": [
    "# Calculate and print precision, recall, f1 score and support\n",
    "p, r, f1, s = precision_recall_fscore_support(y_test[look_back-1:-1], y_pred_test, average=None)\n",
    "results = pd.DataFrame({'1-Precision': p, '2-Recall': r, '3-F1 score': f1, '4-Support': s}, index=le.classes_)\n",
    "\n",
    "print(results.round(decimals=3))"
   ]
  },
  {
   "cell_type": "code",
   "execution_count": null,
   "metadata": {},
   "outputs": [],
   "source": [
    "# Decodificate labels\n",
    "y_true_test = le.inverse_transform(y_test[look_back-1:-1])\n",
    "y_pred_test = le.inverse_transform(y_pred_test)"
   ]
  },
  {
   "cell_type": "code",
   "execution_count": null,
   "metadata": {},
   "outputs": [],
   "source": [
    "# Plot strategy\n",
    "plt.figure()\n",
    "plt.plot(y_true_test, label='true')\n",
    "plt.plot(y_pred_test, label='pred')\n",
    "plt.legend()\n",
    "plt.show()"
   ]
  },
  {
   "cell_type": "code",
   "execution_count": null,
   "metadata": {},
   "outputs": [],
   "source": []
  }
 ],
 "metadata": {
  "kernelspec": {
   "display_name": "Python 3",
   "language": "python",
   "name": "python3"
  },
  "language_info": {
   "codemirror_mode": {
    "name": "ipython",
    "version": 3
   },
   "file_extension": ".py",
   "mimetype": "text/x-python",
   "name": "python",
   "nbconvert_exporter": "python",
   "pygments_lexer": "ipython3",
   "version": "3.7.6"
  }
 },
 "nbformat": 4,
 "nbformat_minor": 2
}
