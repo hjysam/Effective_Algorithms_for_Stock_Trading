{
 "cells": [
  {
   "cell_type": "code",
   "execution_count": 12,
   "metadata": {
    "scrolled": true
   },
   "outputs": [],
   "source": [
    "# Import libraries\n",
    "import pandas as pd\n",
    "from pandas_datareader import data as pdr\n",
    "\n",
    "import numpy as np\n",
    "import matplotlib.pyplot as plt\n",
    "import pickle\n",
    "\n",
    "from sklearn import preprocessing\n",
    "from sklearn.metrics import accuracy_score\n",
    "from sklearn.metrics import precision_recall_fscore_support\n",
    "\n",
    "import talib, re, ipyparams\n",
    "\n",
    "from Agent import Agent"
   ]
  },
  {
   "cell_type": "code",
   "execution_count": 13,
   "metadata": {},
   "outputs": [
    {
     "data": {
      "text/plain": [
       "''"
      ]
     },
     "execution_count": 13,
     "metadata": {},
     "output_type": "execute_result"
    }
   ],
   "source": [
    "end_date = '2020-04-19'\n",
    "start_date = '2018-04-20'\n",
    "\n",
    "ipyparams.notebook_name\n",
    "\n"
   ]
  },
  {
   "cell_type": "code",
   "execution_count": 3,
   "metadata": {},
   "outputs": [
    {
     "data": {
      "text/plain": [
       "array([134.28604126, 135.96606445, 135.80380249, 137.11154175,\n",
       "       137.96110535, 137.14970398, 137.25468445, 137.12106323,\n",
       "       139.91792297, 140.80563354, 140.37611389, 139.87017822,\n",
       "       142.18971252, 146.05566406, 146.99110413, 146.29429626,\n",
       "       147.55947876, 149.62025452, 149.23686218, 149.01638794,\n",
       "       144.01309204, 146.20800781, 146.70643616, 147.59783936,\n",
       "       147.41572571, 146.97485352, 147.48278809, 147.23362732,\n",
       "       147.2911377 , 146.41888428, 146.82145691, 148.99725342,\n",
       "       147.54031372, 148.03874207, 148.920578  , 148.55632019,\n",
       "       142.79576111, 139.3835907 , 140.50500488, 139.13439941,\n",
       "       138.30046082, 136.36436462, 140.26538086, 138.99060059,\n",
       "       139.81489563, 139.5848999 , 140.20788574, 139.76699829,\n",
       "       137.76371765, 139.77656555, 137.71582031, 138.04168701,\n",
       "       137.54325867, 138.10879517, 136.80523682, 138.1950531 ,\n",
       "       139.03849792, 139.48901367, 139.69030762, 141.63606262,\n",
       "       142.85331726, 143.35171509, 143.85014343, 144.75112915,\n",
       "       144.09934998, 144.03225708, 145.77671814, 146.39971924,\n",
       "       147.08987427, 144.3102417 , 143.29423523, 142.5561676 ,\n",
       "       143.82139587, 150.61708069, 149.11224365, 149.89820862,\n",
       "       152.21777344, 153.43504333, 154.37435913, 149.45724487,\n",
       "       151.53573608, 153.81626892, 155.50019836, 154.87475586,\n",
       "       151.90136719, 151.55499268, 151.27592468, 153.74891663,\n",
       "       153.94132996, 153.25814819, 153.82589722, 155.37510681,\n",
       "       156.76077271, 157.18415833, 157.80961609, 157.85774231,\n",
       "       155.96208191, 155.79849243, 155.17303467, 152.64231873,\n",
       "       155.4039917 , 154.78816223, 153.62382507, 152.30551147,\n",
       "       153.84512329, 152.68080139, 152.73854065, 150.17895508,\n",
       "       147.60011292, 146.15672302, 144.86730957, 147.35952759,\n",
       "       148.40838623, 147.49427795, 148.30252075, 148.0042572 ,\n",
       "       148.6489563 , 147.68670654, 149.52459717, 149.43798828,\n",
       "       149.95761108, 150.01533508, 150.64083862, 150.11160278,\n",
       "       151.0642395 , 153.84512329, 154.41285706, 153.72967529,\n",
       "       150.09233093, 150.35215759, 150.275177  , 151.17007446,\n",
       "       150.50611877, 151.46833801, 156.89546204, 160.42695618,\n",
       "       162.65936279, 160.5905304 , 161.76449585, 165.98878479,\n",
       "       167.67271423, 168.21156311, 169.58760071, 169.24119568,\n",
       "       168.68106079, 168.00506592, 165.46524048, 163.28271484,\n",
       "       165.23348999, 164.31604004, 164.15190125, 167.20353699,\n",
       "       168.96112061, 168.97079468, 168.12095642, 167.13594055,\n",
       "       163.66906738, 165.95776367, 165.18519592, 163.9780426 ,\n",
       "       163.82351685, 163.21514893, 163.51454163, 163.56277466,\n",
       "       166.74964905, 165.81289673, 166.36335754, 166.31507874,\n",
       "       168.00506592, 170.37107849, 168.55551147, 168.37203979,\n",
       "       169.00942993, 169.00942993, 164.72167969, 164.75064087,\n",
       "       165.21418762, 163.42759705, 166.35371399, 166.32472229,\n",
       "       167.09729004, 168.9997406 , 168.37203979, 168.35272217,\n",
       "       168.31410217, 169.27015686, 171.01811218, 170.14897156,\n",
       "       172.95921326, 173.11369324, 172.34114075, 170.93119812,\n",
       "       170.96980286, 168.246521  , 165.24313354, 165.62940979,\n",
       "       162.20114136, 161.24510193, 161.6893158 , 162.02732849,\n",
       "       154.99693298, 151.12440491, 157.44015503, 154.06982422,\n",
       "       149.83036804, 151.66300964, 157.77178955, 159.35232544,\n",
       "       162.2903595 , 167.73980713, 167.1967926 , 166.63439941,\n",
       "       165.87806702, 167.26467896, 170.1736145 , 173.5382843 ,\n",
       "       172.97592163, 172.71411133, 169.68876648, 170.86207581,\n",
       "       171.45358276, 171.30812073, 169.71789551, 171.56993103,\n",
       "       174.51763916, 176.20483398, 174.50796509, 173.02438354,\n",
       "       173.22801208, 172.61715698, 169.97970581, 169.92152405,\n",
       "       166.07200623, 163.72544861, 159.93409729, 167.52650452,\n",
       "       163.23091125, 161.42736816, 162.68792725, 161.62130737,\n",
       "       163.27941895, 166.40168762, 167.55555725, 163.26974487,\n",
       "       164.88902283, 167.9919281 , 167.20649719, 168.85491943,\n",
       "       169.42697144, 170.4839325 , 172.83045959, 172.44259644,\n",
       "       167.55555725, 160.69042969, 160.22502136, 157.99482727,\n",
       "       158.68325806, 159.23596191, 157.39363098, 160.24440002,\n",
       "       163.96783447, 171.21115112, 171.52142334, 178.25080872,\n",
       "       179.54043579, 180.40342712, 181.67367554, 184.27232361,\n",
       "       183.57148743, 183.14320374, 181.47872925, 183.17237854,\n",
       "       182.0140686 , 181.35215759, 182.63703918, 182.17953491,\n",
       "       183.34764099, 183.14320374, 183.56176758, 182.89987183,\n",
       "       182.51051331, 181.89724731, 185.17756653, 186.72528076,\n",
       "       188.1658783 , 188.8180542 , 188.31190491, 186.59873962,\n",
       "       186.14123535, 187.16329956, 185.62533569, 185.72270203,\n",
       "       183.81486511, 183.71748352, 180.74867249, 181.53710938,\n",
       "       180.52479553, 179.99913025, 177.32232666, 179.52218628,\n",
       "       179.2593689 , 180.56373596, 180.18408203, 182.19900513,\n",
       "       179.02577209, 180.46636963, 182.9679718 , 185.50854492,\n",
       "       185.28469849, 182.88038635, 185.94656372, 186.23857117,\n",
       "       185.82977295, 186.3553772 , 185.33331299, 186.7739563 ,\n",
       "       186.34568787, 186.5111084 , 187.864151  , 189.63571167,\n",
       "       189.04194641, 185.89790344, 184.85636902, 185.22624207,\n",
       "       196.13795471, 201.87121582, 202.45523071, 203.50650024,\n",
       "       201.59864807, 201.73495483, 203.32157898, 202.71592712,\n",
       "       204.02484131, 204.88449097, 205.36308289, 208.37165833,\n",
       "       212.5328064 , 210.46200562, 210.05172729, 210.06152344,\n",
       "       210.49131775, 211.14576721, 212.88446045, 214.6036377 ,\n",
       "       217.80757141, 219.80999756, 222.34968567, 223.0627594 ,\n",
       "       221.60734558, 217.92478943, 216.16654968, 213.26541138,\n",
       "       218.65740967, 215.94187927, 221.1579895 , 218.64761353,\n",
       "       212.82588196, 213.17752075, 213.30447388, 214.92601013,\n",
       "       212.61097717, 215.66836548, 217.03588867, 215.30693054,\n",
       "       219.7318573 , 220.50354004, 221.98826599, 223.96142578,\n",
       "       226.68670654, 222.70133972, 219.0871582 , 218.57926941,\n",
       "       221.60734558, 211.34111023, 209.47543335, 216.95774841,\n",
       "       212.31791687, 216.99681091, 216.05909729, 211.00898743,\n",
       "       214.22267151, 215.53160095, 217.56335449, 210.10058594,\n",
       "       214.70133972, 211.28253174, 207.31669617, 208.35211182,\n",
       "       213.78314209, 217.06518555, 202.667099  , 196.91372681,\n",
       "       199.04318237, 205.07980347, 204.36425781, 200.42379761,\n",
       "       190.32762146, 188.42602539, 183.10348511, 187.62225342,\n",
       "       189.70030212, 182.18208313, 173.47781372, 173.28175354,\n",
       "       168.88059998, 171.164505  , 170.79203796, 177.35945129,\n",
       "       175.99693298, 175.04615784, 181.16265869, 173.19354248,\n",
       "       171.26252747, 165.15582275, 166.24385071, 165.29304504,\n",
       "       165.7537384 , 167.56712341, 162.20536804, 160.69586182,\n",
       "       162.78372192, 157.70619202, 153.72653198, 147.74725342,\n",
       "       143.92445374, 154.05981445, 153.05999756, 153.13842773,\n",
       "       154.61854553, 154.79498291, 139.37625122, 145.3261261 ,\n",
       "       145.00268555, 147.76686096, 150.27619934, 150.75653076,\n",
       "       149.27638245, 147.03170776, 150.04096985, 151.8739624 ,\n",
       "       152.77574158, 153.7167511 , 150.2664032 , 150.87413025,\n",
       "       149.67825317, 154.63815308, 153.20704651, 151.61907959,\n",
       "       161.97993469, 163.1463623 , 163.22479248, 167.8611908 ,\n",
       "       170.73321533, 170.79203796, 167.55732727, 167.75422668,\n",
       "       166.78947449, 168.22673035, 167.52778625, 168.13815308,\n",
       "       167.7640686 , 168.26609802, 169.34896851, 168.39408875,\n",
       "       170.27430725, 171.5146637 , 171.6131134 , 172.1446991 ,\n",
       "       170.45150757, 172.24311829, 173.10943604, 172.79440308,\n",
       "       171.8001709 , 169.81164551, 170.21525574, 176.11187744,\n",
       "       178.09057617, 178.87809753, 180.86660767, 183.21936035,\n",
       "       185.08976746, 183.62298584, 185.22758484, 192.04956055,\n",
       "       188.07254028, 185.79852295, 183.87892151, 185.53274536,\n",
       "       185.77883911, 186.98968506, 188.25959778, 190.9962616 ,\n",
       "       192.30554199, 192.64021301, 193.92979431, 196.98149109,\n",
       "       196.39083862, 197.49337769, 195.84941101, 195.7706604 ,\n",
       "       196.12504578, 196.14474487, 199.96427917, 200.6829071 ,\n",
       "       201.34246826, 204.24647522, 203.93147278, 202.08078003,\n",
       "       201.11604309, 201.42121887, 197.5426178 , 207.23912048,\n",
       "       205.89045715, 208.44995117, 205.23091125, 199.69850159,\n",
       "       199.737854  , 197.59182739, 194.85450745, 183.52967834,\n",
       "       186.43499756, 188.66833496, 187.83825684, 186.77099609,\n",
       "       180.93069458, 184.39930725, 180.62432861, 177.5411377 ,\n",
       "       176.85928345, 176.12800598, 175.2880249 , 176.19718933,\n",
       "       173.00527954, 171.25613403, 177.52137756, 180.387146  ,\n",
       "       183.03556824, 187.90740967, 190.3087616 , 192.51245117,\n",
       "       191.89978027, 191.86022949, 190.46687317, 191.60331726,\n",
       "       196.10952759, 195.53637695, 197.10762024, 196.43562317,\n",
       "       196.23799133, 193.26350403, 197.44361877, 197.38432312,\n",
       "       195.58576965, 199.17298889, 200.33905029, 201.99923706,\n",
       "       201.8213501 , 197.66101074, 198.86663818, 200.8331604 ,\n",
       "       199.37062073, 200.90234375, 202.78981018, 202.08818054,\n",
       "       200.95173645, 203.23449707, 200.20069885, 204.77610779,\n",
       "       206.37698364, 206.20901489, 204.57847595, 205.28997803,\n",
       "       207.20707703, 206.31768799, 210.52746582, 205.97181702,\n",
       "       201.61384583, 191.05978394, 194.67662048, 196.69256592,\n",
       "       201.03079224, 199.3742218 , 198.86831665, 207.29008484,\n",
       "       201.12007141, 200.11819458, 204.83992004, 208.65898132,\n",
       "       208.66889954, 210.93057251, 210.75202942, 201.01097107,\n",
       "       204.83000183, 202.51873779, 203.87773132, 207.32974243,\n",
       "       207.06192017, 204.04634094, 207.50831604, 211.56541443,\n",
       "       211.545578  , 212.44827271, 214.95791626, 221.7925415 ,\n",
       "       221.29655457, 216.99145508, 218.13220215, 218.92578125,\n",
       "       220.97914124, 219.18370056, 215.97962952, 216.96168518,\n",
       "       215.93003845, 219.25311279, 218.12228394, 217.06089783,\n",
       "       222.16947937, 222.78450012, 217.19976807, 219.0447998 ,\n",
       "       225.18504333, 225.2346344 , 222.59602356, 225.20489502,\n",
       "       228.24028015, 234.31108093, 233.97381592, 233.42825317,\n",
       "       232.48587036, 233.38856506, 234.50949097, 238.57650757,\n",
       "       238.03094482, 241.22505188, 241.62182617, 244.59771729,\n",
       "       247.04786682, 241.33415222, 241.30439758, 246.76019287,\n",
       "       253.76344299, 255.42993164, 255.06292725, 255.17201233,\n",
       "       258.11700439, 258.82345581, 260.87301636, 260.63421631,\n",
       "       263.13153076, 261.31079102, 264.41500854, 265.74822998,\n",
       "       264.94232178, 261.85803223, 260.68399048, 260.45513916,\n",
       "       265.02191162, 262.9524231 , 266.48446655, 265.89746094,\n",
       "       262.8230896 , 258.13696289, 260.41534424, 264.23590088,\n",
       "       269.3399353 , 265.56912231, 267.12124634, 269.3996582 ,\n",
       "       270.08615112, 273.75747681, 278.44360352, 278.99087524,\n",
       "       278.32424927, 278.60281372, 278.02575684, 282.56268311,\n",
       "       282.83129883, 288.44277954, 288.33331299, 290.0446167 ,\n",
       "       292.16381836, 298.82995605, 295.92471313, 298.28271484,\n",
       "       296.87988281, 301.6555481 , 308.06298828, 308.75939941,\n",
       "       315.35586548, 311.09753418, 309.76431274, 313.64456177,\n",
       "       317.11694336, 314.96786499, 316.09216309, 317.6144104 ,\n",
       "       316.69903564, 307.38641357, 316.08218384, 322.69851685,\n",
       "       322.230896  , 307.94360352, 307.09790039, 317.23629761,\n",
       "       319.82318115, 323.56411743, 319.16601562, 320.68191528,\n",
       "       318.74713135, 326.31668091, 323.99295044, 324.07275391,\n",
       "       318.13879395, 322.74633789, 319.43527222, 312.2048645 ,\n",
       "       297.375     , 287.30227661, 291.85992432, 272.78158569,\n",
       "       272.62200928, 298.0032959 , 288.53894043, 301.92269897,\n",
       "       292.12921143, 288.24972534, 265.45144653, 284.56967163,\n",
       "       274.68643188, 247.55986023, 277.21957397, 241.55612183,\n",
       "       252.17736816, 246.0040741 , 244.11917114, 228.62113953,\n",
       "       223.76426697, 246.21351624, 244.85717773, 257.74230957,\n",
       "       247.07118225, 254.12210083, 253.60350037, 240.2596283 ,\n",
       "       244.26876831, 240.75827026, 261.76141357, 258.72961426,\n",
       "       265.35171509, 267.26651001, 272.5123291 , 286.27505493,\n",
       "       283.66213989, 285.91604614, 282.03652954])"
      ]
     },
     "execution_count": 3,
     "metadata": {},
     "output_type": "execute_result"
    }
   ],
   "source": [
    "close"
   ]
  },
  {
   "cell_type": "code",
   "execution_count": 4,
   "metadata": {},
   "outputs": [
    {
     "data": {
      "text/html": [
       "<div>\n",
       "<style scoped>\n",
       "    .dataframe tbody tr th:only-of-type {\n",
       "        vertical-align: middle;\n",
       "    }\n",
       "\n",
       "    .dataframe tbody tr th {\n",
       "        vertical-align: top;\n",
       "    }\n",
       "\n",
       "    .dataframe thead th {\n",
       "        text-align: right;\n",
       "    }\n",
       "</style>\n",
       "<table border=\"1\" class=\"dataframe\">\n",
       "  <thead>\n",
       "    <tr style=\"text-align: right;\">\n",
       "      <th></th>\n",
       "      <th>macd</th>\n",
       "      <th>macdsignal</th>\n",
       "      <th>macdhist</th>\n",
       "    </tr>\n",
       "  </thead>\n",
       "  <tbody>\n",
       "    <tr>\n",
       "      <th>0</th>\n",
       "      <td>2.746627</td>\n",
       "      <td>4.115009</td>\n",
       "      <td>-1.368382</td>\n",
       "    </tr>\n",
       "    <tr>\n",
       "      <th>1</th>\n",
       "      <td>2.501976</td>\n",
       "      <td>3.792402</td>\n",
       "      <td>-1.290427</td>\n",
       "    </tr>\n",
       "    <tr>\n",
       "      <th>2</th>\n",
       "      <td>2.067301</td>\n",
       "      <td>3.447382</td>\n",
       "      <td>-1.380081</td>\n",
       "    </tr>\n",
       "    <tr>\n",
       "      <th>3</th>\n",
       "      <td>1.835338</td>\n",
       "      <td>3.124973</td>\n",
       "      <td>-1.289635</td>\n",
       "    </tr>\n",
       "    <tr>\n",
       "      <th>4</th>\n",
       "      <td>2.155206</td>\n",
       "      <td>2.931020</td>\n",
       "      <td>-0.775813</td>\n",
       "    </tr>\n",
       "  </tbody>\n",
       "</table>\n",
       "</div>"
      ],
      "text/plain": [
       "       macd  macdsignal  macdhist\n",
       "0  2.746627    4.115009 -1.368382\n",
       "1  2.501976    3.792402 -1.290427\n",
       "2  2.067301    3.447382 -1.380081\n",
       "3  1.835338    3.124973 -1.289635\n",
       "4  2.155206    2.931020 -0.775813"
      ]
     },
     "execution_count": 4,
     "metadata": {},
     "output_type": "execute_result"
    }
   ],
   "source": [
    "macd, macdsignal, macdhist = talib.MACD(close, fastperiod=5, slowperiod=20, signalperiod=9)\n",
    "macdhist = macdhist[~np.isnan(macdhist)]\n",
    "macd = macd[-len(macdhist):]\n",
    "macdsignal = macdsignal[-len(macdhist):]\n",
    "\n",
    "\n",
    "pd.DataFrame({'macd': macd, 'macdsignal': macdsignal, 'macdhist': macdhist}).head()"
   ]
  },
  {
   "cell_type": "code",
   "execution_count": 5,
   "metadata": {},
   "outputs": [],
   "source": [
    "def prepare_dataset(close):\n",
    "    \"\"\"\n",
    "    Function prepare_dataset to generate input data and trading strategy from stock close prices\n",
    "    \"\"\"\n",
    "\n",
    "    macd, macdsignal, macdhist = talib.MACD(close, fastperiod=12, slowperiod=26, signalperiod=9)\n",
    "\n",
    "    # Cancel NaN values\n",
    "    macdhist = macdhist[~np.isnan(macdhist)]\n",
    "    macd = macd[-len(macdhist):]\n",
    "    macdsignal = macdsignal[-len(macdhist):]\n",
    "\n",
    "    # Scaling features to a range [0, 1]\n",
    "    min_max_scaler = preprocessing.MinMaxScaler(feature_range=(-1, 1))\n",
    "    macdhist_norm = min_max_scaler.fit_transform(np.expand_dims(macdhist, axis=1))\n",
    "\n",
    "    # Implement strategy\n",
    "    start_sell = 0.4\n",
    "    stop_sell = 0.1\n",
    "    start_buy = -0.4\n",
    "    stop_buy = -0.1\n",
    "\n",
    "    y = np.full(len(macdhist), np.nan)\n",
    "    y[0] = 0\n",
    "\n",
    "    for i in range(1, len(macdhist)):\n",
    "\n",
    "        if y[i-1] == 0:\n",
    "            if (macdhist_norm[i] >= start_sell):\n",
    "                # Enter sell position\n",
    "                y[i] = -1\n",
    "            elif (macdhist_norm[i] <= start_buy):\n",
    "                # Enter buy position\n",
    "                y[i] = 1\n",
    "            else:\n",
    "                y[i] = 0\n",
    "        elif y[i-1] == -1:\n",
    "            if macdhist_norm[i] > stop_sell:\n",
    "                # Stay in sell position\n",
    "                y[i] = -1\n",
    "            else:\n",
    "                # Leave sell position\n",
    "                y[i] = 0\n",
    "        else:\n",
    "            if macdhist_norm[i] < stop_buy:\n",
    "                # Stay in buy position\n",
    "                y[i] = 1\n",
    "            else:\n",
    "                # Leave buy position\n",
    "                y[i] = 0\n",
    "\n",
    "    # Plot strategy\n",
    "    dates = np.arange(len(macdhist))\n",
    "    plt.plot(dates, y,'g', label='Strategy Positions')\n",
    "    plt.bar(dates, macdhist_norm[:, 0], width=1, color='blue', label='MACD histogram')\n",
    "    plt.plot(dates, start_sell * np.ones(len(macdhist)), 'k--', lw=1)\n",
    "    plt.plot(dates, stop_sell * np.ones(len(macdhist)), 'k--', lw=1)\n",
    "    plt.plot(dates, start_buy * np.ones(len(macdhist)), 'k--', lw=1)\n",
    "    plt.plot(dates, stop_buy * np.ones(len(macdhist)), 'k--', lw=1)\n",
    "    plt.xlabel('Days')\n",
    "    plt.xlim((0, len(y)))\n",
    "    plt.legend()\n",
    "    # plt.savefig('images/AAL_macd.png', bbox_inches='tight')\n",
    "    plt.show()\n",
    "    \n",
    "    # Generate input data - technical indicators\n",
    "    ind1 = talib.MIDPOINT(close)    # Overlap: MidPoint over period\n",
    "    ind2 = talib.HT_DCPERIOD(close) # Cycle Indicator Functions:  Hilbert Transform - Dominant Cycle Period\n",
    "    ind3 = talib.MAX(close)         # Math Operator: Highest value over a specified period\n",
    "    ind4 = talib.SIN(close)         # Math Transform: Vector Trigonometric Sin\n",
    "    ind5 = talib.APO(close)         # Momentum: Absolute Price Oscillator\n",
    "    ind6 = talib.TEMA(close, timeperiod=5) ## Triple Exponential Moving Average\n",
    "\n",
    "    x = np.vstack((macdhist, macd, macdsignal, ind1[-len(macdhist):], ind2[-len(macdhist):],\n",
    "                   ind3[-len(macdhist):], ind4[-len(macdhist):], ind5[-len(macdhist):],\n",
    "                   ind6[-len(macdhist):]))\n",
    "    x = x.T\n",
    "\n",
    "    return x, y"
   ]
  },
  {
   "cell_type": "code",
   "execution_count": 6,
   "metadata": {},
   "outputs": [
    {
     "data": {
      "image/png": "[encoded data removed]",
      "text/plain": [
       "<Figure size 432x288 with 1 Axes>"
      ]
     },
     "metadata": {
      "needs_background": "light"
     },
     "output_type": "display_data"
    }
   ],
   "source": [
    "# Implement MACD trading strategy\n",
    "X, y = prepare_dataset(close)"
   ]
  },
  {
   "cell_type": "code",
   "execution_count": 7,
   "metadata": {},
   "outputs": [
    {
     "data": {
      "text/plain": [
       "array([ -0.8677001 ,   2.6154192 ,   3.4831193 , 146.50517273,\n",
       "        17.21176483, 149.62025452,  -0.3745277 ,   1.35067407,\n",
       "       148.0583748 ])"
      ]
     },
     "execution_count": 7,
     "metadata": {},
     "output_type": "execute_result"
    }
   ],
   "source": [
    "X[0]"
   ]
  },
  {
   "cell_type": "code",
   "execution_count": 8,
   "metadata": {},
   "outputs": [],
   "source": [
    "# Split dataset\n",
    "n_train = int(X.shape[0] * 0.8)\n",
    "\n",
    "X_train, y_train = X[:n_train], y[:n_train]\n",
    "X_test, y_test = X[n_train:], y[n_train:]"
   ]
  },
  {
   "cell_type": "code",
   "execution_count": 9,
   "metadata": {},
   "outputs": [],
   "source": [
    "# Normalize data\n",
    "scaler = preprocessing.MinMaxScaler()\n",
    "\n",
    "X_train = scaler.fit_transform(X_train)\n",
    "X_test = scaler.transform(X_test)"
   ]
  },
  {
   "cell_type": "code",
   "execution_count": 10,
   "metadata": {},
   "outputs": [
    {
     "name": "stdout",
     "output_type": "stream",
     "text": [
      "[-1.  0.  1.]\n"
     ]
    }
   ],
   "source": [
    "# Encode trading signal with integers between 0 and n-1 classes\n",
    "le = preprocessing.LabelEncoder()\n",
    "\n",
    "y_train = le.fit_transform(y_train)\n",
    "y_test = le.transform(y_test)\n",
    "\n",
    "print(le.classes_)"
   ]
  },
  {
   "cell_type": "code",
   "execution_count": 11,
   "metadata": {},
   "outputs": [],
   "source": [
    "## Create and train the Agent\n",
    "# Variable definiton\n",
    "episodes = 20\n",
    "look_back = 5\n",
    "batch_size = 32\n",
    "action_size = len(le.classes_)\n",
    "n_features = X_train.shape[1]"
   ]
  },
  {
   "cell_type": "code",
   "execution_count": 12,
   "metadata": {},
   "outputs": [],
   "source": [
    "# Create Agent\n",
    "agent = Agent(look_back, action_size, n_features)"
   ]
  },
  {
   "cell_type": "code",
   "execution_count": 13,
   "metadata": {},
   "outputs": [],
   "source": [
    "def run(agent, dataX, dataY, episodes, look_back):\n",
    "    \"\"\"\n",
    "    Function run to train the agent\n",
    "    \"\"\"\n",
    "    \n",
    "    # Length of dataset\n",
    "    times = len(dataX)\n",
    "\n",
    "    # List of total rewards\n",
    "    total_reward_list = []\n",
    "\n",
    "    for ep in range(episodes):\n",
    "\n",
    "        # print('Episode: ' + str(ep))\n",
    "        \n",
    "        # Initial state and position\n",
    "        state = dataX[:look_back, :][np.newaxis, :, :]\n",
    "        pos = dataY[look_back - 1]\n",
    "\n",
    "        done = False\n",
    "        total_reward = 0\n",
    "\n",
    "        for t in range(1, times - look_back + 1):\n",
    "\n",
    "            # Predict action based on the current state\n",
    "            action = agent.act(state)\n",
    "\n",
    "            # Calculate reward\n",
    "            if action == pos:   # 0:-1      1:0     2:1\n",
    "                reward = +1\n",
    "\n",
    "            elif (pos == 0 or pos == 2):\n",
    "                if action == 1:\n",
    "                    reward = 0\n",
    "                else:\n",
    "                    reward = -1\n",
    "            else:\n",
    "                reward = -1\n",
    "\n",
    "            total_reward += reward\n",
    "\n",
    "            # Final state\n",
    "            if t == times - look_back:\n",
    "                done = True\n",
    "\n",
    "            # Receive next state and position\n",
    "            next_state = dataX[t:t + look_back, :][np.newaxis, :, :]\n",
    "            next_pos = dataY[t + look_back - 1]\n",
    "            \n",
    "            # Remember current experience\n",
    "            agent.remember(state, action, reward, next_state, done)\n",
    "            \n",
    "            # Make next_state the new current state; the same for pos\n",
    "            state = next_state\n",
    "            pos = next_pos\n",
    "\n",
    "            if done:\n",
    "                print('Episode: %i ---> Total Reward: %i' %(ep, total_reward))\n",
    "                total_reward_list.append(total_reward)\n",
    "\n",
    "            # Train the agent with previous experiences\n",
    "            if len(agent.memory) > batch_size:\n",
    "                agent.replay(batch_size)\n",
    "\n",
    "        if (ep + 1) % 5 == 0 and ep > 0:\n",
    "            file = 'checkpoints/' + symbol + '_robot_checkpoint' + str(ep + 1)\n",
    "            # Serialize weights to HDF5\n",
    "            agent.model.save_weights(file + \".h5\")\n",
    "            # Save epsilon\n",
    "            pickle.dump(agent.epsilon, open(file + \"_epsilon.pickle\", \"wb\"))\n",
    "\n",
    "    # Save list of rewards along the epochs\n",
    "    np.savetxt(file + '_total_reward.txt', total_reward_list)\n",
    "\n",
    "    return\n"
   ]
  },
  {
   "cell_type": "code",
   "execution_count": 14,
   "metadata": {},
   "outputs": [
    {
     "name": "stdout",
     "output_type": "stream",
     "text": [
      "Episode: 0 ---> Total Reward: 251\n",
      "Episode: 1 ---> Total Reward: 497\n",
      "Episode: 2 ---> Total Reward: 523\n",
      "Episode: 3 ---> Total Reward: 527\n",
      "Episode: 4 ---> Total Reward: 531\n",
      "Episode: 5 ---> Total Reward: 502\n",
      "Episode: 6 ---> Total Reward: 499\n",
      "Episode: 7 ---> Total Reward: 501\n",
      "Episode: 8 ---> Total Reward: 515\n",
      "Episode: 9 ---> Total Reward: 516\n",
      "Episode: 10 ---> Total Reward: 495\n",
      "Episode: 11 ---> Total Reward: 523\n",
      "Episode: 12 ---> Total Reward: 515\n",
      "Episode: 13 ---> Total Reward: 501\n",
      "Episode: 14 ---> Total Reward: 510\n",
      "Episode: 15 ---> Total Reward: 527\n",
      "Episode: 16 ---> Total Reward: 521\n",
      "Episode: 17 ---> Total Reward: 527\n",
      "Episode: 18 ---> Total Reward: 513\n",
      "Episode: 19 ---> Total Reward: 518\n"
     ]
    }
   ],
   "source": [
    "# Train Agent\n",
    "run(agent, X_train, y_train, episodes, look_back)"
   ]
  },
  {
   "cell_type": "code",
   "execution_count": 15,
   "metadata": {},
   "outputs": [
    {
     "data": {
      "image/png": "[encoded data removed]",
      "text/plain": [
       "<Figure size 432x288 with 1 Axes>"
      ]
     },
     "metadata": {
      "needs_background": "light"
     },
     "output_type": "display_data"
    }
   ],
   "source": [
    "# Load rewards\n",
    "total_reward_list = np.loadtxt( 'checkpoints/'+ symbol + '_robot_checkpoint' + str(episodes) + '_total_reward.txt')\n",
    "# Plot\n",
    "plt.figure()\n",
    "plt.plot(np.arange(1, episodes+1), total_reward_list)\n",
    "plt.xlabel('Episodes')\n",
    "plt.ylabel('Total Reward')\n",
    "plt.show()"
   ]
  },
  {
   "cell_type": "code",
   "execution_count": 16,
   "metadata": {},
   "outputs": [
    {
     "data": {
      "text/plain": [
       "array([251., 497., 523., 527., 531., 502., 499., 501., 515., 516., 495.,\n",
       "       523., 515., 501., 510., 527., 521., 527., 513., 518.])"
      ]
     },
     "execution_count": 16,
     "metadata": {},
     "output_type": "execute_result"
    }
   ],
   "source": [
    "total_reward_list"
   ]
  },
  {
   "cell_type": "code",
   "execution_count": 17,
   "metadata": {},
   "outputs": [],
   "source": [
    "def evaluate(agent, dataX, dataY, look_back):\n",
    "    \"\"\"\n",
    "    Function run to evaluate the trained agent\n",
    "    \"\"\"\n",
    "    \n",
    "    # Length of dataset\n",
    "    times = len(dataX)\n",
    "\n",
    "    # Initial state and position\n",
    "    state = dataX[:look_back, :][np.newaxis, :, :]\n",
    "    pos = dataY[look_back - 1]\n",
    "\n",
    "    # List of predicted positions\n",
    "    pos_list = []\n",
    "    \n",
    "    done = False\n",
    "    total_reward = 0\n",
    "    \n",
    "    for t in range(1, times - look_back + 1):\n",
    "\n",
    "        # Predict action based on the current state\n",
    "        action = agent.act(state)\n",
    "\n",
    "        # Calculate reward\n",
    "        if action == pos:   # 0:-1      1:0     2:1\n",
    "            reward = +1\n",
    "\n",
    "        elif (pos == 0 or pos == 2):\n",
    "            if action == 1:\n",
    "                reward = 0\n",
    "            else:\n",
    "                reward = -1\n",
    "        else:\n",
    "            reward = -1\n",
    "\n",
    "        pos_list.append(action)\n",
    "        total_reward += reward\n",
    "\n",
    "        # Final state\n",
    "        if t == times - look_back:\n",
    "            done = True\n",
    "\n",
    "        # Receive next state and position\n",
    "        next_state = dataX[t:t + look_back, :][np.newaxis, :, :]\n",
    "        next_pos = dataY[t + look_back - 1]\n",
    "\n",
    "        # Remember current experience\n",
    "        agent.remember(state, action, reward, next_state, done)\n",
    "\n",
    "        # Make next_state the new current state; the same for pos\n",
    "        state = next_state\n",
    "        pos = next_pos\n",
    "\n",
    "        if done:\n",
    "            print('Total Reward: %i' % total_reward)\n",
    "\n",
    "    return np.array(pos_list)"
   ]
  },
  {
   "cell_type": "code",
   "execution_count": 18,
   "metadata": {},
   "outputs": [
    {
     "name": "stdout",
     "output_type": "stream",
     "text": [
      "Total Reward: 109\n",
      "Accuracy: 77.86 %\n"
     ]
    }
   ],
   "source": [
    "# Evaluate the model\n",
    "# Make predictions\n",
    "y_pred_test = evaluate(agent, X_test, y_test, look_back)\n",
    "\n",
    "# Calculate and print accuracy\n",
    "acc = accuracy_score(y_test[look_back-1:-1], y_pred_test)\n",
    "\n",
    "print('Accuracy: %.2f %%' % (acc*100))"
   ]
  },
  {
   "cell_type": "code",
   "execution_count": 19,
   "metadata": {},
   "outputs": [
    {
     "name": "stdout",
     "output_type": "stream",
     "text": [
      "      1-Precision  2-Recall  3-F1 score  4-Support\n",
      "-1.0        0.000       0.0       0.000          8\n",
      " 0.0        0.779       1.0       0.876        109\n",
      " 1.0        0.000       0.0       0.000         23\n"
     ]
    },
    {
     "name": "stderr",
     "output_type": "stream",
     "text": [
      "C:\\Users\\Elid-PC.DESKTOP-MG9DS93\\anaconda3\\lib\\site-packages\\sklearn\\metrics\\_classification.py:1272: UndefinedMetricWarning: Precision and F-score are ill-defined and being set to 0.0 in labels with no predicted samples. Use `zero_division` parameter to control this behavior.\n",
      "  _warn_prf(average, modifier, msg_start, len(result))\n"
     ]
    }
   ],
   "source": [
    "# Calculate and print precision, recall, f1 score and support\n",
    "p, r, f1, s = precision_recall_fscore_support(y_test[look_back-1:-1], y_pred_test, average=None)\n",
    "results = pd.DataFrame({'1-Precision': p, '2-Recall': r, '3-F1 score': f1, '4-Support': s}, index=le.classes_)\n",
    "\n",
    "print(results.round(decimals=3))"
   ]
  },
  {
   "cell_type": "code",
   "execution_count": 20,
   "metadata": {},
   "outputs": [],
   "source": [
    "# Decodificate labels\n",
    "y_true_test = le.inverse_transform(y_test[look_back-1:-1])\n",
    "y_pred_test = le.inverse_transform(y_pred_test)"
   ]
  },
  {
   "cell_type": "code",
   "execution_count": 21,
   "metadata": {},
   "outputs": [
    {
     "data": {
      "image/png": "[encoded data removed]",
      "text/plain": [
       "<Figure size 432x288 with 1 Axes>"
      ]
     },
     "metadata": {
      "needs_background": "light"
     },
     "output_type": "display_data"
    }
   ],
   "source": [
    "# Plot strategy\n",
    "plt.figure()\n",
    "plt.plot(y_true_test, label='true')\n",
    "plt.plot(y_pred_test, label='pred')\n",
    "plt.legend()\n",
    "plt.show()"
   ]
  },
  {
   "cell_type": "code",
   "execution_count": null,
   "metadata": {},
   "outputs": [],
   "source": []
  }
 ],
 "metadata": {
  "kernelspec": {
   "display_name": "Python 3",
   "language": "python",
   "name": "python3"
  },
  "language_info": {
   "codemirror_mode": {
    "name": "ipython",
    "version": 3
   },
   "file_extension": ".py",
   "mimetype": "text/x-python",
   "name": "python",
   "nbconvert_exporter": "python",
   "pygments_lexer": "ipython3",
   "version": "3.7.6"
  }
 },
 "nbformat": 4,
 "nbformat_minor": 2
}
