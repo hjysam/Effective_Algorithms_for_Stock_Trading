{
 "cells": [
  {
   "cell_type": "code",
   "execution_count": 1,
   "metadata": {
    "scrolled": true
   },
   "outputs": [
    {
     "name": "stderr",
     "output_type": "stream",
     "text": [
      "C:\\Users\\Elid-PC.DESKTOP-MG9DS93\\anaconda3\\lib\\site-packages\\pandas_datareader\\compat\\__init__.py:7: FutureWarning: pandas.util.testing is deprecated. Use the functions in the public API at pandas.testing instead.\n",
      "  from pandas.util.testing import assert_frame_equal\n"
     ]
    },
    {
     "data": {
      "application/javascript": [
       "\n",
       "console.log('Starting front end url_querystring_target comm target');\n",
       "const comm = Jupyter.notebook.kernel.comm_manager.new_comm('url_querystring_target', {'init': 1});\n",
       "comm.send({'ipyparams_browser_url': window.location.href});\n",
       "console.log('Sent window.location.href on url_querystring_target comm target');\n",
       "\n",
       "comm.on_msg(function(msg) {\n",
       "    console.log(msg.content.data);\n",
       "});\n"
      ],
      "text/plain": [
       "<IPython.core.display.Javascript object>"
      ]
     },
     "metadata": {},
     "output_type": "display_data"
    },
    {
     "name": "stderr",
     "output_type": "stream",
     "text": [
      "Using TensorFlow backend.\n"
     ]
    }
   ],
   "source": [
    "# Import libraries\n",
    "import pandas as pd\n",
    "from pandas_datareader import data as pdr\n",
    "\n",
    "import numpy as np\n",
    "import matplotlib.pyplot as plt\n",
    "import pickle\n",
    "\n",
    "from sklearn import preprocessing\n",
    "from sklearn.metrics import accuracy_score\n",
    "from sklearn.metrics import precision_recall_fscore_support\n",
    "\n",
    "import talib, re, ipyparams\n",
    "\n",
    "from Agent import Agent"
   ]
  },
  {
   "cell_type": "code",
   "execution_count": 2,
   "metadata": {},
   "outputs": [
    {
     "data": {
      "text/plain": [
       "503"
      ]
     },
     "execution_count": 2,
     "metadata": {},
     "output_type": "execute_result"
    }
   ],
   "source": [
    "end_date = '2020-04-19'\n",
    "start_date = '2018-04-20'\n",
    "\n",
    "symbol = 'INTC'\n",
    "Date = pd.DataFrame(pdr.DataReader(symbol,'yahoo', start_date, end_date))\n",
    "\n",
    "alldata = pd.DataFrame({'Date': Date.index})\n",
    "alldata[symbol] = pdr.DataReader(symbol, 'yahoo', start_date, end_date)['Adj Close'].values\n",
    "# Stock symbol\n",
    "\n",
    "# Load close prices of to NumPy array\n",
    "close = alldata[symbol].values\n",
    "len(close)"
   ]
  },
  {
   "cell_type": "code",
   "execution_count": 3,
   "metadata": {},
   "outputs": [
    {
     "data": {
      "text/plain": [
       "array([49.5106163 , 48.85640717, 48.44871902, 48.78055954, 48.71419144,\n",
       "       50.29754639, 49.99414444, 48.94173813, 50.56302261, 49.59593964,\n",
       "       49.56749344, 50.33036423, 50.85483932, 51.14092255, 51.81796265,\n",
       "       52.42825317, 52.13264847, 52.35197067, 51.41745377, 52.10403824,\n",
       "       52.26614761, 51.0169487 , 51.79889297, 51.92285538, 52.64758301,\n",
       "       52.20893478, 52.86690903, 52.75247574, 53.09576797, 52.63804626,\n",
       "       54.43079376, 54.19239807, 53.90632248, 54.38311386, 53.28648758,\n",
       "       52.49500656, 51.98960495, 52.27568436, 52.47593689, 52.96227264,\n",
       "       52.55222702, 50.74994278, 50.47340393, 50.97879791, 49.76774979,\n",
       "       50.06335449, 48.35643768, 47.36470413, 46.49694443, 46.96419144,\n",
       "       47.4028511 , 47.87010956, 47.17399597, 48.39457321, 48.98580551,\n",
       "       49.45306778, 49.73913956, 48.82369232, 49.9203186 , 49.7963562 ,\n",
       "       49.59609985, 49.34817123, 49.31955719, 49.56749344, 49.50074005,\n",
       "       49.88217926, 49.75821304, 49.99660873, 49.73913956, 45.4670639 ,\n",
       "       45.47660446, 45.86757278, 46.54462433, 47.1835289 , 47.32656479,\n",
       "       47.2977829 , 47.68153763, 47.93097305, 48.10366821, 46.86605072,\n",
       "       46.48230362, 46.16570282, 45.53250885, 45.25428772, 45.18712616,\n",
       "       44.61149216, 45.68600845, 45.13915634, 45.07200623, 45.72438812,\n",
       "       46.38636398, 46.59742737, 46.77012253, 46.28083038, 46.46311951,\n",
       "       46.01220703, 45.7819519 , 45.34063721, 44.56352615, 44.41962051,\n",
       "       43.10525894, 43.10525894, 43.71926498, 43.69048691, 43.57536316,\n",
       "       44.22774124, 44.27571487, 45.28306961, 44.7650032 , 45.00484848,\n",
       "       44.04545975, 43.84399414, 44.01667404, 45.36941147, 44.56352615,\n",
       "       46.14651489, 46.77971649, 46.1753006 , 45.11996841, 45.11996841,\n",
       "       44.65946579, 42.98053741, 42.4336853 , 43.05729294, 42.72150421,\n",
       "       44.07424545, 44.02627182, 43.14363861, 42.21303177, 43.18200302,\n",
       "       42.69272232, 40.69720078, 42.51044464, 43.83439636, 43.55617523,\n",
       "       45.82032394, 44.9760704 , 46.26164246, 45.19673157, 46.02180099,\n",
       "       45.61631393, 47.03549576, 47.29615402, 46.44658279, 45.0370636 ,\n",
       "       45.75147247, 45.46184921, 46.44658279, 47.1416893 , 46.34038544,\n",
       "       45.75147247, 45.40391922, 44.93086624, 45.80940247, 46.4079628 ,\n",
       "       47.17065048, 46.05076218, 47.60509491, 48.39673996, 46.09902954,\n",
       "       46.69759369, 44.64123917, 45.57769394, 45.7418251 , 46.17626953,\n",
       "       46.62035751, 46.2052269 , 45.45220184, 46.08937836, 43.99440384,\n",
       "       43.96544266, 43.28964615, 42.08286667, 44.59296799, 44.75709152,\n",
       "       45.13360596, 45.30738449, 45.45220184, 42.95174408, 45.58735657,\n",
       "       45.79975128, 46.08937836, 46.35003662, 46.88102722, 47.23823166,\n",
       "       46.67828369, 46.91963959, 46.46588898, 46.79413223, 47.48924255,\n",
       "       46.60105133, 46.28245544, 48.03953171, 45.41358566, 45.09498596,\n",
       "       44.93086624, 45.89629364, 45.49081421, 47.04513931, 47.51820755,\n",
       "       48.2808876 , 48.48005676, 47.82911682, 47.4502182 , 47.38220978,\n",
       "       48.58692169, 49.03384018, 49.36415863, 50.18997192, 49.9373703 ,\n",
       "       49.92765808, 49.94709396, 50.99635696, 51.5890007 , 51.71530151,\n",
       "       51.72501373, 51.45298004, 51.78330994, 52.40509033, 52.15249634,\n",
       "       51.44326782, 51.10322571, 50.98664093, 51.83188248, 52.04562378,\n",
       "       52.8228569 , 51.91931915, 52.78399658, 52.56053925, 52.62855148,\n",
       "       52.28851318, 53.08517838, 51.74444199, 51.27810669, 51.91931915,\n",
       "       51.64729309, 51.59871674, 52.17192841, 52.95886993, 52.81314468,\n",
       "       53.90127182, 54.32875443, 54.0178566 , 54.09558105, 53.74582672,\n",
       "       54.16358566, 54.21216583, 54.8145256 , 54.67850876, 55.09627533,\n",
       "       56.89362717, 56.82562256, 57.14622879, 57.10736465, 57.04907608,\n",
       "       55.97066116, 50.93806458, 49.65562439, 49.58761978, 49.31558609,\n",
       "       49.11155701, 50.27741241, 50.06725311, 49.3439064 , 48.13181305,\n",
       "       45.57077789, 45.16023254, 43.75263214, 44.15340805, 44.59328079,\n",
       "       44.50530243, 43.87971115, 42.57965088, 43.45938873, 43.00974274,\n",
       "       43.52781677, 43.56691742, 42.58942032, 43.23456573, 43.72331619,\n",
       "       43.04884338, 42.48189926, 43.78196335, 43.54736328, 44.08498764,\n",
       "       44.9940567 , 45.74672699, 45.79560089, 45.27752686, 45.64897919,\n",
       "       45.15045547, 45.09180832, 46.30389404, 46.01065063, 46.12794495,\n",
       "       46.39187241, 46.55805206, 45.79560089, 47.10544205, 46.39187241,\n",
       "       46.7926445 , 46.96859741, 47.03701782, 47.42802048, 46.99791718,\n",
       "       46.7437706 , 46.67534637, 47.12499237, 47.50621414, 48.79650497,\n",
       "       48.99200439, 48.06338501, 48.27843857, 48.8160553 , 49.13863373,\n",
       "       50.19432831, 50.58532333, 51.72898865, 50.98609543, 50.42892456,\n",
       "       51.32822037, 50.53644562, 49.41232681, 48.38595963, 47.58441925,\n",
       "       45.91290283, 46.21305084, 45.98670959, 46.41970825, 45.24863815,\n",
       "       44.87467575, 46.09495926, 45.14038849, 44.97309113, 45.76036835,\n",
       "       46.47875214, 45.85877609, 46.40002823, 46.03591156, 44.2448616 ,\n",
       "       44.83531952, 45.06166077, 45.06166077, 46.1244812 , 46.65589142,\n",
       "       46.23273087, 48.14187241, 49.3031044 , 50.11005783, 50.76940536,\n",
       "       50.99574661, 51.95031738, 52.16681671, 51.70429611, 51.3697052 ,\n",
       "       51.12368011, 50.91702271, 50.74972153, 49.91324234, 50.09038544,\n",
       "       49.02755737, 50.20847321, 50.11005783, 49.97228622, 50.71035767,\n",
       "       49.9526062 , 48.60439682, 49.23421478, 50.11005783, 49.81483078,\n",
       "       48.93899155, 49.67705917, 50.29703903, 51.26145172, 50.81860733,\n",
       "       51.81254578, 51.61572647, 51.03511429, 50.54306412, 51.30081558,\n",
       "       51.182724  , 50.89733505, 51.39922333, 55.56194305, 55.8571701 ,\n",
       "       55.44385147, 55.69971466, 55.63082504, 55.61114883, 56.69365311,\n",
       "       56.63460541, 56.99577332, 57.4410553 , 57.65874863, 57.73790359,\n",
       "       57.58948135, 57.28273392, 57.20357513, 57.35199738, 57.63895798,\n",
       "       57.73790359, 57.29262924, 57.609272  , 57.00567245, 58.1930809 ,\n",
       "       58.28214264, 57.89622879, 57.4410553 , 57.05514908, 55.48182297,\n",
       "       55.43235016, 55.49172211, 56.21406555, 55.93699646, 55.99636841,\n",
       "       56.47133636, 56.94630051, 57.18378448, 57.09472656, 56.6989212 ,\n",
       "       56.57028198, 57.35199738, 58.33161163, 58.60867691, 58.78678894,\n",
       "       59.19248962, 59.44976425, 58.99458694, 59.22217178, 60.20178604,\n",
       "       59.46954727, 59.30133057, 58.3118248 , 58.3514061 , 58.67794418,\n",
       "       58.32171631, 58.96490097, 58.80657959, 58.32171631, 59.03416443,\n",
       "       58.97479248, 59.91482925, 62.07196045, 62.65577316, 67.75174713,\n",
       "       65.00091553, 66.60391235, 65.63420105, 65.77272797, 63.25937271,\n",
       "       63.74423218, 64.77332306, 66.63359833, 66.71315002, 65.64916229,\n",
       "       66.01708221, 67.03135681, 67.08107758, 67.06118774, 66.89214325,\n",
       "       65.76848602, 66.73303986, 65.08235931, 63.97859573, 61.41308975,\n",
       "       59.3944931 , 59.31494522, 55.5164032 , 55.20814514, 57.85320282,\n",
       "       55.65561676, 58.3503952 , 56.6400528 , 55.45673752, 50.56437302,\n",
       "       53.67679214, 51.36982346, 45.28420258, 54.12426758, 44.35942459,\n",
       "       49.79870224, 47.34257507, 45.68195343, 45.57257462, 49.30150986,\n",
       "       52.10567093, 50.97206879, 55.22803116, 52.07583618, 55.17831421,\n",
       "       53.81600571, 51.58858871, 54.04471207, 53.82595062, 58.10179901,\n",
       "       58.07196808, 58.64870834, 56.81904221, 58.37028122, 60.31927109,\n",
       "       58.53932571, 60.44854355, 60.02095795])"
      ]
     },
     "execution_count": 3,
     "metadata": {},
     "output_type": "execute_result"
    }
   ],
   "source": [
    "close"
   ]
  },
  {
   "cell_type": "code",
   "execution_count": 4,
   "metadata": {},
   "outputs": [
    {
     "data": {
      "text/html": [
       "<div>\n",
       "<style scoped>\n",
       "    .dataframe tbody tr th:only-of-type {\n",
       "        vertical-align: middle;\n",
       "    }\n",
       "\n",
       "    .dataframe tbody tr th {\n",
       "        vertical-align: top;\n",
       "    }\n",
       "\n",
       "    .dataframe thead th {\n",
       "        text-align: right;\n",
       "    }\n",
       "</style>\n",
       "<table border=\"1\" class=\"dataframe\">\n",
       "  <thead>\n",
       "    <tr style=\"text-align: right;\">\n",
       "      <th></th>\n",
       "      <th>macd</th>\n",
       "      <th>macdsignal</th>\n",
       "      <th>macdhist</th>\n",
       "    </tr>\n",
       "  </thead>\n",
       "  <tbody>\n",
       "    <tr>\n",
       "      <th>0</th>\n",
       "      <td>1.073112</td>\n",
       "      <td>1.191956</td>\n",
       "      <td>-0.118844</td>\n",
       "    </tr>\n",
       "    <tr>\n",
       "      <th>1</th>\n",
       "      <td>1.111739</td>\n",
       "      <td>1.175912</td>\n",
       "      <td>-0.064174</td>\n",
       "    </tr>\n",
       "    <tr>\n",
       "      <th>2</th>\n",
       "      <td>0.990763</td>\n",
       "      <td>1.138882</td>\n",
       "      <td>-0.148120</td>\n",
       "    </tr>\n",
       "    <tr>\n",
       "      <th>3</th>\n",
       "      <td>1.313185</td>\n",
       "      <td>1.173743</td>\n",
       "      <td>0.139442</td>\n",
       "    </tr>\n",
       "    <tr>\n",
       "      <th>4</th>\n",
       "      <td>1.409213</td>\n",
       "      <td>1.220837</td>\n",
       "      <td>0.188376</td>\n",
       "    </tr>\n",
       "  </tbody>\n",
       "</table>\n",
       "</div>"
      ],
      "text/plain": [
       "       macd  macdsignal  macdhist\n",
       "0  1.073112    1.191956 -0.118844\n",
       "1  1.111739    1.175912 -0.064174\n",
       "2  0.990763    1.138882 -0.148120\n",
       "3  1.313185    1.173743  0.139442\n",
       "4  1.409213    1.220837  0.188376"
      ]
     },
     "execution_count": 4,
     "metadata": {},
     "output_type": "execute_result"
    }
   ],
   "source": [
    "macd, macdsignal, macdhist = talib.MACD(close, fastperiod=5, slowperiod=20, signalperiod=9)\n",
    "macdhist = macdhist[~np.isnan(macdhist)]\n",
    "macd = macd[-len(macdhist):]\n",
    "macdsignal = macdsignal[-len(macdhist):]\n",
    "\n",
    "\n",
    "pd.DataFrame({'macd': macd, 'macdsignal': macdsignal, 'macdhist': macdhist}).head()"
   ]
  },
  {
   "cell_type": "code",
   "execution_count": 5,
   "metadata": {},
   "outputs": [],
   "source": [
    "def prepare_dataset(close):\n",
    "    \"\"\"\n",
    "    Function prepare_dataset to generate input data and trading strategy from stock close prices\n",
    "    \"\"\"\n",
    "\n",
    "    macd, macdsignal, macdhist = talib.MACD(close, fastperiod=12, slowperiod=26, signalperiod=9)\n",
    "\n",
    "    # Cancel NaN values\n",
    "    macdhist = macdhist[~np.isnan(macdhist)]\n",
    "    macd = macd[-len(macdhist):]\n",
    "    macdsignal = macdsignal[-len(macdhist):]\n",
    "\n",
    "    # Scaling features to a range [0, 1]\n",
    "    min_max_scaler = preprocessing.MinMaxScaler(feature_range=(-1, 1))\n",
    "    macdhist_norm = min_max_scaler.fit_transform(np.expand_dims(macdhist, axis=1))\n",
    "\n",
    "    # Implement strategy\n",
    "    start_sell = 0.4\n",
    "    stop_sell = 0.1\n",
    "    start_buy = -0.4\n",
    "    stop_buy = -0.1\n",
    "\n",
    "    y = np.full(len(macdhist), np.nan)\n",
    "    y[0] = 0\n",
    "\n",
    "    for i in range(1, len(macdhist)):\n",
    "\n",
    "        if y[i-1] == 0:\n",
    "            if (macdhist_norm[i] >= start_sell):\n",
    "                # Enter sell position\n",
    "                y[i] = -1\n",
    "            elif (macdhist_norm[i] <= start_buy):\n",
    "                # Enter buy position\n",
    "                y[i] = 1\n",
    "            else:\n",
    "                y[i] = 0\n",
    "        elif y[i-1] == -1:\n",
    "            if macdhist_norm[i] > stop_sell:\n",
    "                # Stay in sell position\n",
    "                y[i] = -1\n",
    "            else:\n",
    "                # Leave sell position\n",
    "                y[i] = 0\n",
    "        else:\n",
    "            if macdhist_norm[i] < stop_buy:\n",
    "                # Stay in buy position\n",
    "                y[i] = 1\n",
    "            else:\n",
    "                # Leave buy position\n",
    "                y[i] = 0\n",
    "\n",
    "    # Plot strategy\n",
    "    dates = np.arange(len(macdhist))\n",
    "    plt.plot(dates, y,'g', label='Strategy Positions')\n",
    "    plt.bar(dates, macdhist_norm[:, 0], width=1, color='blue', label='MACD histogram')\n",
    "    plt.plot(dates, start_sell * np.ones(len(macdhist)), 'k--', lw=1)\n",
    "    plt.plot(dates, stop_sell * np.ones(len(macdhist)), 'k--', lw=1)\n",
    "    plt.plot(dates, start_buy * np.ones(len(macdhist)), 'k--', lw=1)\n",
    "    plt.plot(dates, stop_buy * np.ones(len(macdhist)), 'k--', lw=1)\n",
    "    plt.xlabel('Days')\n",
    "    plt.xlim((0, len(y)))\n",
    "    plt.legend()\n",
    "    # plt.savefig('images/AAL_macd.png', bbox_inches='tight')\n",
    "    plt.show()\n",
    "    \n",
    "    # Generate input data - technical indicators\n",
    "    ind1 = talib.MIDPOINT(close)    # Overlap: MidPoint over period\n",
    "    ind2 = talib.HT_DCPERIOD(close) # Cycle Indicator Functions:  Hilbert Transform - Dominant Cycle Period\n",
    "    ind3 = talib.MAX(close)         # Math Operator: Highest value over a specified period\n",
    "    ind4 = talib.SIN(close)         # Math Transform: Vector Trigonometric Sin\n",
    "    ind5 = talib.APO(close)         # Momentum: Absolute Price Oscillator\n",
    "    ind6 = talib.TEMA(close, timeperiod=5) ## Triple Exponential Moving Average\n",
    "\n",
    "    x = np.vstack((macdhist, macd, macdsignal, ind1[-len(macdhist):], ind2[-len(macdhist):],\n",
    "                   ind3[-len(macdhist):], ind4[-len(macdhist):], ind5[-len(macdhist):],\n",
    "                   ind6[-len(macdhist):]))\n",
    "    x = x.T\n",
    "\n",
    "    return x, y"
   ]
  },
  {
   "cell_type": "code",
   "execution_count": 6,
   "metadata": {},
   "outputs": [
    {
     "data": {
      "image/png": "[encoded data removed]",
      "text/plain": [
       "<Figure size 432x288 with 1 Axes>"
      ]
     },
     "metadata": {
      "needs_background": "light"
     },
     "output_type": "display_data"
    }
   ],
   "source": [
    "# Implement MACD trading strategy\n",
    "X, y = prepare_dataset(close)"
   ]
  },
  {
   "cell_type": "code",
   "execution_count": 7,
   "metadata": {},
   "outputs": [
    {
     "data": {
      "text/plain": [
       "array([ 1.93233131e-02,  1.21163518e+00,  1.19231186e+00,  5.27238712e+01,\n",
       "        1.72117648e+01,  5.44307938e+01, -8.28284355e-01,  9.76798865e-01,\n",
       "        5.43899867e+01])"
      ]
     },
     "execution_count": 7,
     "metadata": {},
     "output_type": "execute_result"
    }
   ],
   "source": [
    "X[0]"
   ]
  },
  {
   "cell_type": "code",
   "execution_count": 8,
   "metadata": {},
   "outputs": [],
   "source": [
    "# Split dataset\n",
    "n_train = int(X.shape[0] * 0.8)\n",
    "\n",
    "X_train, y_train = X[:n_train], y[:n_train]\n",
    "X_test, y_test = X[n_train:], y[n_train:]"
   ]
  },
  {
   "cell_type": "code",
   "execution_count": 9,
   "metadata": {},
   "outputs": [],
   "source": [
    "# Normalize data\n",
    "scaler = preprocessing.MinMaxScaler()\n",
    "\n",
    "X_train = scaler.fit_transform(X_train)\n",
    "X_test = scaler.transform(X_test)"
   ]
  },
  {
   "cell_type": "code",
   "execution_count": 10,
   "metadata": {},
   "outputs": [
    {
     "name": "stdout",
     "output_type": "stream",
     "text": [
      "[-1.  0.  1.]\n"
     ]
    }
   ],
   "source": [
    "# Encode trading signal with integers between 0 and n-1 classes\n",
    "le = preprocessing.LabelEncoder()\n",
    "\n",
    "y_train = le.fit_transform(y_train)\n",
    "y_test = le.transform(y_test)\n",
    "\n",
    "print(le.classes_)"
   ]
  },
  {
   "cell_type": "code",
   "execution_count": 11,
   "metadata": {},
   "outputs": [],
   "source": [
    "## Create and train the Agent\n",
    "# Variable definiton\n",
    "episodes = 20\n",
    "look_back = 5\n",
    "batch_size = 32\n",
    "action_size = len(le.classes_)\n",
    "n_features = X_train.shape[1]"
   ]
  },
  {
   "cell_type": "code",
   "execution_count": 12,
   "metadata": {},
   "outputs": [],
   "source": [
    "# Create Agent\n",
    "agent = Agent(look_back, action_size, n_features)"
   ]
  },
  {
   "cell_type": "code",
   "execution_count": 13,
   "metadata": {},
   "outputs": [],
   "source": [
    "def run(agent, dataX, dataY, episodes, look_back):\n",
    "    \"\"\"\n",
    "    Function run to train the agent\n",
    "    \"\"\"\n",
    "    \n",
    "    # Length of dataset\n",
    "    times = len(dataX)\n",
    "\n",
    "    # List of total rewards\n",
    "    total_reward_list = []\n",
    "\n",
    "    for ep in range(episodes):\n",
    "\n",
    "        # print('Episode: ' + str(ep))\n",
    "        \n",
    "        # Initial state and position\n",
    "        state = dataX[:look_back, :][np.newaxis, :, :]\n",
    "        pos = dataY[look_back - 1]\n",
    "\n",
    "        done = False\n",
    "        total_reward = 0\n",
    "\n",
    "        for t in range(1, times - look_back + 1):\n",
    "\n",
    "            # Predict action based on the current state\n",
    "            action = agent.act(state)\n",
    "\n",
    "            # Calculate reward\n",
    "            if action == pos:   # 0:-1      1:0     2:1\n",
    "                reward = +1\n",
    "\n",
    "            elif (pos == 0 or pos == 2):\n",
    "                if action == 1:\n",
    "                    reward = 0\n",
    "                else:\n",
    "                    reward = -1\n",
    "            else:\n",
    "                reward = -1\n",
    "\n",
    "            total_reward += reward\n",
    "\n",
    "            # Final state\n",
    "            if t == times - look_back:\n",
    "                done = True\n",
    "\n",
    "            # Receive next state and position\n",
    "            next_state = dataX[t:t + look_back, :][np.newaxis, :, :]\n",
    "            next_pos = dataY[t + look_back - 1]\n",
    "            \n",
    "            # Remember current experience\n",
    "            agent.remember(state, action, reward, next_state, done)\n",
    "            \n",
    "            # Make next_state the new current state; the same for pos\n",
    "            state = next_state\n",
    "            pos = next_pos\n",
    "\n",
    "            if done:\n",
    "                print('Episode: %i ---> Total Reward: %i' %(ep, total_reward))\n",
    "                total_reward_list.append(total_reward)\n",
    "\n",
    "            # Train the agent with previous experiences\n",
    "            if len(agent.memory) > batch_size:\n",
    "                agent.replay(batch_size)\n",
    "\n",
    "        if (ep + 1) % 5 == 0 and ep > 0:\n",
    "            file = 'checkpoints/' + symbol + '_robot_checkpoint' + str(ep + 1)\n",
    "            # Serialize weights to HDF5\n",
    "            agent.model.save_weights(file + \".h5\")\n",
    "            # Save epsilon\n",
    "            pickle.dump(agent.epsilon, open(file + \"_epsilon.pickle\", \"wb\"))\n",
    "\n",
    "    # Save list of rewards along the epochs\n",
    "    np.savetxt(file + '_total_reward.txt', total_reward_list)\n",
    "\n",
    "    return\n"
   ]
  },
  {
   "cell_type": "code",
   "execution_count": null,
   "metadata": {},
   "outputs": [
    {
     "name": "stdout",
     "output_type": "stream",
     "text": [
      "Episode: 0 ---> Total Reward: 39\n",
      "Episode: 1 ---> Total Reward: 237\n"
     ]
    }
   ],
   "source": [
    "# Train Agent\n",
    "run(agent, X_train, y_train, episodes, look_back)"
   ]
  },
  {
   "cell_type": "code",
   "execution_count": null,
   "metadata": {},
   "outputs": [],
   "source": [
    "# Load rewards\n",
    "total_reward_list = np.loadtxt( 'checkpoints/'+ symbol + '_robot_checkpoint' + str(episodes) + '_total_reward.txt')\n",
    "# Plot\n",
    "plt.figure()\n",
    "plt.plot(np.arange(1, episodes+1), total_reward_list)\n",
    "plt.xlabel('Episodes')\n",
    "plt.ylabel('Total Reward')\n",
    "plt.show()"
   ]
  },
  {
   "cell_type": "code",
   "execution_count": null,
   "metadata": {},
   "outputs": [],
   "source": [
    "total_reward_list"
   ]
  },
  {
   "cell_type": "code",
   "execution_count": null,
   "metadata": {},
   "outputs": [],
   "source": [
    "def evaluate(agent, dataX, dataY, look_back):\n",
    "    \"\"\"\n",
    "    Function run to evaluate the trained agent\n",
    "    \"\"\"\n",
    "    \n",
    "    # Length of dataset\n",
    "    times = len(dataX)\n",
    "\n",
    "    # Initial state and position\n",
    "    state = dataX[:look_back, :][np.newaxis, :, :]\n",
    "    pos = dataY[look_back - 1]\n",
    "\n",
    "    # List of predicted positions\n",
    "    pos_list = []\n",
    "    \n",
    "    done = False\n",
    "    total_reward = 0\n",
    "    \n",
    "    for t in range(1, times - look_back + 1):\n",
    "\n",
    "        # Predict action based on the current state\n",
    "        action = agent.act(state)\n",
    "\n",
    "        # Calculate reward\n",
    "        if action == pos:   # 0:-1      1:0     2:1\n",
    "            reward = +1\n",
    "\n",
    "        elif (pos == 0 or pos == 2):\n",
    "            if action == 1:\n",
    "                reward = 0\n",
    "            else:\n",
    "                reward = -1\n",
    "        else:\n",
    "            reward = -1\n",
    "\n",
    "        pos_list.append(action)\n",
    "        total_reward += reward\n",
    "\n",
    "        # Final state\n",
    "        if t == times - look_back:\n",
    "            done = True\n",
    "\n",
    "        # Receive next state and position\n",
    "        next_state = dataX[t:t + look_back, :][np.newaxis, :, :]\n",
    "        next_pos = dataY[t + look_back - 1]\n",
    "\n",
    "        # Remember current experience\n",
    "        agent.remember(state, action, reward, next_state, done)\n",
    "\n",
    "        # Make next_state the new current state; the same for pos\n",
    "        state = next_state\n",
    "        pos = next_pos\n",
    "\n",
    "        if done:\n",
    "            print('Total Reward: %i' % total_reward)\n",
    "\n",
    "    return np.array(pos_list)"
   ]
  },
  {
   "cell_type": "code",
   "execution_count": null,
   "metadata": {},
   "outputs": [],
   "source": [
    "# Evaluate the model\n",
    "# Make predictions\n",
    "y_pred_test = evaluate(agent, X_test, y_test, look_back)\n",
    "\n",
    "# Calculate and print accuracy\n",
    "acc = accuracy_score(y_test[look_back-1:-1], y_pred_test)\n",
    "\n",
    "print('Accuracy: %.2f %%' % (acc*100))"
   ]
  },
  {
   "cell_type": "code",
   "execution_count": null,
   "metadata": {},
   "outputs": [],
   "source": [
    "# Calculate and print precision, recall, f1 score and support\n",
    "p, r, f1, s = precision_recall_fscore_support(y_test[look_back-1:-1], y_pred_test, average=None)\n",
    "results = pd.DataFrame({'1-Precision': p, '2-Recall': r, '3-F1 score': f1, '4-Support': s}, index=le.classes_)\n",
    "\n",
    "print(results.round(decimals=3))"
   ]
  },
  {
   "cell_type": "code",
   "execution_count": null,
   "metadata": {},
   "outputs": [],
   "source": [
    "# Decodificate labels\n",
    "y_true_test = le.inverse_transform(y_test[look_back-1:-1])\n",
    "y_pred_test = le.inverse_transform(y_pred_test)"
   ]
  },
  {
   "cell_type": "code",
   "execution_count": null,
   "metadata": {},
   "outputs": [],
   "source": [
    "# Plot strategy\n",
    "plt.figure()\n",
    "plt.plot(y_true_test, label='true')\n",
    "plt.plot(y_pred_test, label='pred')\n",
    "plt.legend()\n",
    "plt.show()"
   ]
  },
  {
   "cell_type": "code",
   "execution_count": null,
   "metadata": {},
   "outputs": [],
   "source": []
  }
 ],
 "metadata": {
  "kernelspec": {
   "display_name": "Python 3",
   "language": "python",
   "name": "python3"
  },
  "language_info": {
   "codemirror_mode": {
    "name": "ipython",
    "version": 3
   },
   "file_extension": ".py",
   "mimetype": "text/x-python",
   "name": "python",
   "nbconvert_exporter": "python",
   "pygments_lexer": "ipython3",
   "version": "3.7.6"
  }
 },
 "nbformat": 4,
 "nbformat_minor": 2
}
