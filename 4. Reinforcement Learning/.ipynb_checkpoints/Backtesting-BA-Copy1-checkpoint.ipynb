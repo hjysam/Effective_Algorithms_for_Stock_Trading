{
 "cells": [
  {
   "cell_type": "code",
   "execution_count": 1,
   "metadata": {
    "scrolled": true
   },
   "outputs": [
    {
     "name": "stderr",
     "output_type": "stream",
     "text": [
      "C:\\Users\\Elid-PC.DESKTOP-MG9DS93\\anaconda3\\lib\\site-packages\\pandas_datareader\\compat\\__init__.py:7: FutureWarning: pandas.util.testing is deprecated. Use the functions in the public API at pandas.testing instead.\n",
      "  from pandas.util.testing import assert_frame_equal\n"
     ]
    },
    {
     "data": {
      "application/javascript": [
       "\n",
       "console.log('Starting front end url_querystring_target comm target');\n",
       "const comm = Jupyter.notebook.kernel.comm_manager.new_comm('url_querystring_target', {'init': 1});\n",
       "comm.send({'ipyparams_browser_url': window.location.href});\n",
       "console.log('Sent window.location.href on url_querystring_target comm target');\n",
       "\n",
       "comm.on_msg(function(msg) {\n",
       "    console.log(msg.content.data);\n",
       "});\n"
      ],
      "text/plain": [
       "<IPython.core.display.Javascript object>"
      ]
     },
     "metadata": {},
     "output_type": "display_data"
    },
    {
     "name": "stderr",
     "output_type": "stream",
     "text": [
      "Using TensorFlow backend.\n"
     ]
    }
   ],
   "source": [
    "# Import libraries\n",
    "import pandas as pd\n",
    "from pandas_datareader import data as pdr\n",
    "\n",
    "import numpy as np\n",
    "import matplotlib.pyplot as plt\n",
    "import pickle\n",
    "\n",
    "from sklearn import preprocessing\n",
    "from sklearn.metrics import accuracy_score\n",
    "from sklearn.metrics import precision_recall_fscore_support\n",
    "\n",
    "import talib, re, ipyparams\n",
    "\n",
    "from Agent import Agent"
   ]
  },
  {
   "cell_type": "code",
   "execution_count": 2,
   "metadata": {},
   "outputs": [
    {
     "data": {
      "text/plain": [
       "503"
      ]
     },
     "execution_count": 2,
     "metadata": {},
     "output_type": "execute_result"
    }
   ],
   "source": [
    "end_date = '2020-04-19'\n",
    "start_date = '2018-04-20'\n",
    "\n",
    "symbol = 'BA'\n",
    "Date = pd.DataFrame(pdr.DataReader(symbol,'yahoo', start_date, end_date))\n",
    "\n",
    "alldata = pd.DataFrame({'Date': Date.index})\n",
    "alldata[symbol] = pdr.DataReader(symbol, 'yahoo', start_date, end_date)['Adj Close'].values\n",
    "# Stock symbol\n",
    "\n",
    "# Load close prices of to NumPy array\n",
    "close = alldata[symbol].values\n",
    "len(close)"
   ]
  },
  {
   "cell_type": "code",
   "execution_count": 3,
   "metadata": {},
   "outputs": [
    {
     "data": {
      "text/plain": [
       "array([326.23001099, 324.34329224, 324.50610352, 315.13980103,\n",
       "       328.35601807, 328.28903198, 326.45980835, 319.44946289,\n",
       "       315.59954834, 310.4758606 , 316.7008667 , 320.28265381,\n",
       "       326.02883911, 324.05599976, 329.92666626, 331.15866089,\n",
       "       329.60906982, 331.65914917, 329.28182983, 328.17495728,\n",
       "       331.22598267, 338.04992676, 350.26379395, 341.69775391,\n",
       "       345.73049927, 345.52838135, 346.57748413, 339.25302124,\n",
       "       344.7487793 , 338.94503784, 343.33392334, 347.19348145,\n",
       "       346.58709717, 357.61703491, 354.70077515, 355.63430786,\n",
       "       357.02032471, 356.71234131, 350.19638062, 348.82009888,\n",
       "       344.45040894, 341.42819214, 328.31933594, 329.8303833 ,\n",
       "       324.98916626, 326.19226074, 318.77160645, 318.86785889,\n",
       "       317.44342041, 322.09213257, 322.91983032, 323.46847534,\n",
       "       320.43667603, 320.67730713, 322.08258057, 329.08935547,\n",
       "       334.13262939, 327.81884766, 333.04507446, 337.62646484,\n",
       "       342.73718262, 343.48794556, 346.71224976, 341.99609375,\n",
       "       341.58221436, 340.0133667 , 344.82574463, 342.56393433,\n",
       "       345.83633423, 347.11645508, 337.88632202, 342.9296875 ,\n",
       "       339.52258301, 336.60623169, 335.36465454, 333.56478882,\n",
       "       337.5975647 , 334.72943115, 332.4564209 , 328.28765869,\n",
       "       327.27209473, 328.02648926, 320.8883667 , 334.6423645 ,\n",
       "       335.04858398, 339.24633789, 342.17709351, 338.55963135,\n",
       "       336.09320068, 337.93096924, 342.14807129, 339.70095825,\n",
       "       338.7144165 , 335.53222656, 331.55691528, 334.90350342,\n",
       "       335.31939697, 339.75900269, 337.83422852, 330.65731812,\n",
       "       333.9362793 , 341.82888794, 343.81173706, 348.00946045,\n",
       "       344.2953186 , 351.6656189 , 353.25186157, 355.41848755,\n",
       "       360.03222656, 355.93112183, 355.1960144 , 353.06811523,\n",
       "       355.35076904, 359.71295166, 369.76251221, 373.70880127,\n",
       "       379.44448853, 377.21017456, 373.80554199, 373.128479  ,\n",
       "       372.80926514, 355.42816162, 346.37484741, 348.30932617,\n",
       "       347.11968994, 356.18258667, 353.52267456, 347.57424927,\n",
       "       344.58547974, 344.31469727, 338.57897949, 343.02822876,\n",
       "       351.84939575, 347.49682617, 324.59283447, 338.443573  ,\n",
       "       343.23132324, 351.17236328, 346.02667236, 350.11807251,\n",
       "       354.4609375 , 359.82904053, 360.27597046, 358.88647461,\n",
       "       346.92489624, 339.61773682, 334.96331787, 331.90246582,\n",
       "       326.44155884, 311.85638428, 308.70809937, 308.33880615,\n",
       "       303.48031616, 307.40600586, 309.02877808, 324.06085205,\n",
       "       332.86447144, 336.94561768, 349.77197266, 332.80615234,\n",
       "       322.50619507, 314.07183838, 317.11328125, 312.91549683,\n",
       "       317.44360352, 316.25817871, 309.72836304, 307.18252563,\n",
       "       318.77484131, 310.50570679, 304.18966675, 295.93026733,\n",
       "       285.83432007, 305.04476929, 308.16390991, 307.42544556,\n",
       "       313.3722229 , 314.6451416 , 302.10055542, 317.82260132,\n",
       "       318.82339478, 330.89193726, 334.09848022, 342.63000488,\n",
       "       342.91183472, 340.44369507, 342.27050781, 342.09555054,\n",
       "       348.92663574, 354.40701294, 347.77032471, 348.46020508,\n",
       "       348.12982178, 353.89196777, 352.69677734, 354.58190918,\n",
       "       376.74627686, 374.70568848, 376.46450806, 385.76364136,\n",
       "       398.57055664, 399.47424316, 395.68026733, 395.42636108,\n",
       "       394.48886108, 401.10031128, 400.96359253, 400.22134399,\n",
       "       408.18051147, 406.51052856, 411.67663574, 407.79962158,\n",
       "       414.11807251, 416.87203979, 416.77435303, 425.24130249,\n",
       "       429.65542603, 430.29998779, 422.5557251 , 420.04589844,\n",
       "       414.51846313, 412.66296387, 412.64346313, 390.6411438 ,\n",
       "       366.61730957, 368.30682373, 364.55670166, 370.11343384,\n",
       "       363.56063843, 364.6836853 , 367.34976196, 363.97079468,\n",
       "       353.68743896, 361.78320312, 361.70510864, 365.44540405,\n",
       "       365.67004395, 372.48657227, 382.36953735, 381.59799194,\n",
       "       375.72875977, 386.58834839, 382.75033569, 365.74816895,\n",
       "       360.39651489, 356.39251709, 361.49029541, 370.74822998,\n",
       "       366.66610718, 372.7795105 , 368.67788696, 371.16818237,\n",
       "       366.38296509, 365.25982666, 366.66610718, 373.83422852,\n",
       "       371.87127686, 370.17205811, 368.84390259, 367.97476196,\n",
       "       366.99816895, 367.6427002 , 362.89654541, 348.86309814,\n",
       "       351.32406616, 347.8225708 , 348.35296631, 331.36108398,\n",
       "       336.93011475, 339.48382568, 347.50827026, 348.69671631,\n",
       "       346.50646973, 352.36029053, 346.49661255, 344.30633545,\n",
       "       348.57885742, 348.55923462, 342.5874939 , 343.63842773,\n",
       "       335.52557373, 332.85403442, 338.48196411, 342.53839111,\n",
       "       344.39477539, 347.40026855, 347.4984436 , 343.10806274,\n",
       "       340.84902954, 342.64642334, 340.97671509, 348.57885742,\n",
       "       367.29937744, 361.99557495, 368.20300293, 365.21713257,\n",
       "       367.3288269 , 362.74200439, 368.26190186, 357.53640747,\n",
       "       357.52658081, 350.11108398, 347.85205078, 348.15649414,\n",
       "       349.52172852, 344.86618042, 346.80111694, 346.02514648,\n",
       "       352.60583496, 358.8230896 , 355.16934204, 356.28903198,\n",
       "       362.93847656, 354.67822266, 370.63879395, 366.76904297,\n",
       "       366.42526245, 354.99255371, 341.89016724, 338.85519409,\n",
       "       334.15048218, 341.2713623 , 335.10321045, 328.3359375 ,\n",
       "       333.51208496, 325.16345215, 326.52874756, 325.4777832 ,\n",
       "       332.42071533, 333.60668945, 329.05053711, 328.97146606,\n",
       "       316.67678833, 324.16824341, 326.58966064, 329.88070679,\n",
       "       327.87445068, 336.01818848, 350.26971436, 351.8510437 ,\n",
       "       354.84564209, 350.58599854, 355.76477051, 358.50241089,\n",
       "       359.8366394 , 350.27963257, 352.36495972, 356.09088135,\n",
       "       358.7593689 , 354.58865356, 365.17352295, 378.46643066,\n",
       "       371.24182129, 375.32357788, 374.42419434, 379.71170044,\n",
       "       381.89590454, 379.94891357, 374.95791626, 372.62545776,\n",
       "       377.1914978 , 381.68835449, 382.37030029, 378.38735962,\n",
       "       376.02526855, 370.55987549, 363.06842041, 367.72341919,\n",
       "       371.31103516, 372.14120483, 369.72970581, 370.57965088,\n",
       "       366.66592407, 370.54013062, 368.82043457, 366.62637329,\n",
       "       368.07922363, 364.74859619, 339.98135376, 327.19247437,\n",
       "       333.06311035, 336.5222168 , 340.52490234, 335.86004639,\n",
       "       336.89776611, 344.85372925, 342.01727295, 335.93911743,\n",
       "       341.15744019, 346.98849487, 354.10440063, 350.05230713,\n",
       "       355.19668579, 348.92401123, 364.78961182, 360.73373413,\n",
       "       360.35598755, 365.26678467, 369.48168945, 367.27481079,\n",
       "       364.82937622, 368.71624756, 364.27267456, 369.14370728,\n",
       "       370.92312622, 371.3008728 , 365.82345581, 364.01422119,\n",
       "       353.07928467, 349.99761963, 346.77676392, 343.63546753,\n",
       "       351.99572754, 349.13275146, 345.84234619, 347.92993164,\n",
       "       344.24188232, 339.64920044, 325.06594849, 325.06594849,\n",
       "       328.72418213, 331.52749634, 326.06002808, 335.55355835,\n",
       "       331.03045654, 327.96868896, 328.18740845, 324.46951294,\n",
       "       323.83331299, 331.34857178, 330.79190063, 331.76608276,\n",
       "       335.28515625, 329.41009521, 334.35070801, 327.96868896,\n",
       "       328.26690674, 330.38430786, 327.84939575, 330.03637695,\n",
       "       322.2328186 , 311.51657104, 307.17242432, 315.91043091,\n",
       "       321.13931274, 314.72747803, 314.68771362, 320.11538696,\n",
       "       321.38781738, 316.38757324, 314.13101196, 316.05953979,\n",
       "       327.6008606 , 339.41061401, 334.75830078, 342.63146973,\n",
       "       342.38293457, 345.39501953, 342.82000732, 340.48999023,\n",
       "       338.88000488, 338.29998779, 336.27999878, 330.38000488,\n",
       "       317.8999939 , 304.14001465, 305.58999634, 287.76000977,\n",
       "       275.10998535, 289.26998901, 280.61999512, 283.11999512,\n",
       "       260.36999512, 262.32998657, 227.16999817, 231.00999451,\n",
       "       189.08000183, 154.83999634, 170.19999695, 129.61000061,\n",
       "       124.13999939, 101.88999939,  97.70999908,  95.01000214,\n",
       "       105.62000275, 127.68000031, 158.72999573, 180.55000305,\n",
       "       162.        , 152.27999878, 149.13999939, 130.69999695,\n",
       "       123.26999664, 124.51999664, 148.77000427, 141.58000183,\n",
       "       146.86999512, 151.83999634, 147.33000183, 141.        ,\n",
       "       145.97999573, 134.24000549, 154.        ])"
      ]
     },
     "execution_count": 3,
     "metadata": {},
     "output_type": "execute_result"
    }
   ],
   "source": [
    "close"
   ]
  },
  {
   "cell_type": "code",
   "execution_count": 4,
   "metadata": {},
   "outputs": [
    {
     "data": {
      "text/html": [
       "<div>\n",
       "<style scoped>\n",
       "    .dataframe tbody tr th:only-of-type {\n",
       "        vertical-align: middle;\n",
       "    }\n",
       "\n",
       "    .dataframe tbody tr th {\n",
       "        vertical-align: top;\n",
       "    }\n",
       "\n",
       "    .dataframe thead th {\n",
       "        text-align: right;\n",
       "    }\n",
       "</style>\n",
       "<table border=\"1\" class=\"dataframe\">\n",
       "  <thead>\n",
       "    <tr style=\"text-align: right;\">\n",
       "      <th></th>\n",
       "      <th>macd</th>\n",
       "      <th>macdsignal</th>\n",
       "      <th>macdhist</th>\n",
       "    </tr>\n",
       "  </thead>\n",
       "  <tbody>\n",
       "    <tr>\n",
       "      <th>0</th>\n",
       "      <td>8.081293</td>\n",
       "      <td>8.578425</td>\n",
       "      <td>-0.497132</td>\n",
       "    </tr>\n",
       "    <tr>\n",
       "      <th>1</th>\n",
       "      <td>7.837390</td>\n",
       "      <td>8.430218</td>\n",
       "      <td>-0.592828</td>\n",
       "    </tr>\n",
       "    <tr>\n",
       "      <th>2</th>\n",
       "      <td>6.059625</td>\n",
       "      <td>7.956099</td>\n",
       "      <td>-1.896475</td>\n",
       "    </tr>\n",
       "    <tr>\n",
       "      <th>3</th>\n",
       "      <td>5.839925</td>\n",
       "      <td>7.532864</td>\n",
       "      <td>-1.692939</td>\n",
       "    </tr>\n",
       "    <tr>\n",
       "      <th>4</th>\n",
       "      <td>6.440956</td>\n",
       "      <td>7.314483</td>\n",
       "      <td>-0.873527</td>\n",
       "    </tr>\n",
       "  </tbody>\n",
       "</table>\n",
       "</div>"
      ],
      "text/plain": [
       "       macd  macdsignal  macdhist\n",
       "0  8.081293    8.578425 -0.497132\n",
       "1  7.837390    8.430218 -0.592828\n",
       "2  6.059625    7.956099 -1.896475\n",
       "3  5.839925    7.532864 -1.692939\n",
       "4  6.440956    7.314483 -0.873527"
      ]
     },
     "execution_count": 4,
     "metadata": {},
     "output_type": "execute_result"
    }
   ],
   "source": [
    "macd, macdsignal, macdhist = talib.MACD(close, fastperiod=5, slowperiod=20, signalperiod=9)\n",
    "macdhist = macdhist[~np.isnan(macdhist)]\n",
    "macd = macd[-len(macdhist):]\n",
    "macdsignal = macdsignal[-len(macdhist):]\n",
    "\n",
    "\n",
    "pd.DataFrame({'macd': macd, 'macdsignal': macdsignal, 'macdhist': macdhist}).head()"
   ]
  },
  {
   "cell_type": "code",
   "execution_count": 5,
   "metadata": {},
   "outputs": [],
   "source": [
    "def prepare_dataset(close):\n",
    "    \"\"\"\n",
    "    Function prepare_dataset to generate input data and trading strategy from stock close prices\n",
    "    \"\"\"\n",
    "\n",
    "    macd, macdsignal, macdhist = talib.MACD(close, fastperiod=12, slowperiod=26, signalperiod=9)\n",
    "\n",
    "    # Cancel NaN values\n",
    "    macdhist = macdhist[~np.isnan(macdhist)]\n",
    "    macd = macd[-len(macdhist):]\n",
    "    macdsignal = macdsignal[-len(macdhist):]\n",
    "\n",
    "    # Scaling features to a range [0, 1]\n",
    "    min_max_scaler = preprocessing.MinMaxScaler(feature_range=(-1, 1))\n",
    "    macdhist_norm = min_max_scaler.fit_transform(np.expand_dims(macdhist, axis=1))\n",
    "\n",
    "    # Implement strategy\n",
    "    start_sell = 0.2\n",
    "    stop_sell = 0.05\n",
    "    start_buy = -0.2\n",
    "    stop_buy = -0.05\n",
    "\n",
    "    y = np.full(len(macdhist), np.nan)\n",
    "    y[0] = 0\n",
    "\n",
    "    for i in range(1, len(macdhist)):\n",
    "\n",
    "        if y[i-1] == 0:\n",
    "            if (macdhist_norm[i] >= start_sell):\n",
    "                # Enter sell position\n",
    "                y[i] = -1\n",
    "            elif (macdhist_norm[i] <= start_buy):\n",
    "                # Enter buy position\n",
    "                y[i] = 1\n",
    "            else:\n",
    "                y[i] = 0\n",
    "        elif y[i-1] == -1:\n",
    "            if macdhist_norm[i] > stop_sell:\n",
    "                # Stay in sell position\n",
    "                y[i] = -1\n",
    "            else:\n",
    "                # Leave sell position\n",
    "                y[i] = 0\n",
    "        else:\n",
    "            if macdhist_norm[i] < stop_buy:\n",
    "                # Stay in buy position\n",
    "                y[i] = 1\n",
    "            else:\n",
    "                # Leave buy position\n",
    "                y[i] = 0\n",
    "\n",
    "    # Plot strategy\n",
    "    dates = np.arange(len(macdhist))\n",
    "    plt.plot(dates, y,'g', label='Strategy Positions')\n",
    "    plt.bar(dates, macdhist_norm[:, 0], width=1, color='blue', label='MACD histogram')\n",
    "    plt.plot(dates, start_sell * np.ones(len(macdhist)), 'k--', lw=1)\n",
    "    plt.plot(dates, stop_sell * np.ones(len(macdhist)), 'k--', lw=1)\n",
    "    plt.plot(dates, start_buy * np.ones(len(macdhist)), 'k--', lw=1)\n",
    "    plt.plot(dates, stop_buy * np.ones(len(macdhist)), 'k--', lw=1)\n",
    "    plt.xlabel('Days')\n",
    "    plt.xlim((0, len(y)))\n",
    "    plt.legend()\n",
    "    # plt.savefig('images/AAL_macd.png', bbox_inches='tight')\n",
    "    plt.show()\n",
    "    \n",
    "    # Generate input data - technical indicators\n",
    "    ind1 = talib.MIDPOINT(close)    # Overlap: MidPoint over period\n",
    "    ind2 = talib.HT_DCPERIOD(close) # Cycle Indicator Functions:  Hilbert Transform - Dominant Cycle Period\n",
    "    ind3 = talib.MAX(close)         # Math Operator: Highest value over a specified period\n",
    "    ind4 = talib.SIN(close)         # Math Transform: Vector Trigonometric Sin\n",
    "    ind5 = talib.APO(close)         # Momentum: Absolute Price Oscillator\n",
    "    ind6 = talib.TEMA(close, timeperiod=5) ## Triple Exponential Moving Average\n",
    "\n",
    "    x = np.vstack((macdhist, macd, macdsignal, ind1[-len(macdhist):], ind2[-len(macdhist):],\n",
    "                   ind3[-len(macdhist):], ind4[-len(macdhist):], ind5[-len(macdhist):],\n",
    "                   ind6[-len(macdhist):]))\n",
    "    x = x.T\n",
    "\n",
    "    return x, y"
   ]
  },
  {
   "cell_type": "code",
   "execution_count": 6,
   "metadata": {},
   "outputs": [
    {
     "data": {
      "image/png": "[encoded data removed]",
      "text/plain": [
       "<Figure size 432x288 with 1 Axes>"
      ]
     },
     "metadata": {
      "needs_background": "light"
     },
     "output_type": "display_data"
    }
   ],
   "source": [
    "# Implement MACD trading strategy\n",
    "X, y = prepare_dataset(close)"
   ]
  },
  {
   "cell_type": "code",
   "execution_count": 7,
   "metadata": {},
   "outputs": [
    {
     "data": {
      "text/plain": [
       "array([ 3.11144465e-01,  7.56203353e+00,  7.25088906e+00,  3.44421509e+02,\n",
       "        1.72117648e+01,  3.57617035e+02, -5.00804167e-01,  1.06343202e+01,\n",
       "        3.54581516e+02])"
      ]
     },
     "execution_count": 7,
     "metadata": {},
     "output_type": "execute_result"
    }
   ],
   "source": [
    "X[0]"
   ]
  },
  {
   "cell_type": "code",
   "execution_count": 8,
   "metadata": {},
   "outputs": [],
   "source": [
    "# Split dataset\n",
    "n_train = int(X.shape[0] * 0.8)\n",
    "\n",
    "X_train, y_train = X[:n_train], y[:n_train]\n",
    "X_test, y_test = X[n_train:], y[n_train:]"
   ]
  },
  {
   "cell_type": "code",
   "execution_count": 9,
   "metadata": {},
   "outputs": [],
   "source": [
    "# Normalize data\n",
    "scaler = preprocessing.MinMaxScaler()\n",
    "\n",
    "X_train = scaler.fit_transform(X_train)\n",
    "X_test = scaler.transform(X_test)"
   ]
  },
  {
   "cell_type": "code",
   "execution_count": 10,
   "metadata": {},
   "outputs": [
    {
     "name": "stdout",
     "output_type": "stream",
     "text": [
      "[-1.  0.  1.]\n"
     ]
    }
   ],
   "source": [
    "# Encode trading signal with integers between 0 and n-1 classes\n",
    "le = preprocessing.LabelEncoder()\n",
    "\n",
    "y_train = le.fit_transform(y_train)\n",
    "y_test = le.transform(y_test)\n",
    "\n",
    "print(le.classes_)"
   ]
  },
  {
   "cell_type": "code",
   "execution_count": 11,
   "metadata": {},
   "outputs": [],
   "source": [
    "## Create and train the Agent\n",
    "# Variable definiton\n",
    "episodes = 20\n",
    "look_back = 5\n",
    "batch_size = 32\n",
    "action_size = len(le.classes_)\n",
    "n_features = X_train.shape[1]"
   ]
  },
  {
   "cell_type": "code",
   "execution_count": 12,
   "metadata": {},
   "outputs": [],
   "source": [
    "# Create Agent\n",
    "agent = Agent(look_back, action_size, n_features)"
   ]
  },
  {
   "cell_type": "code",
   "execution_count": 13,
   "metadata": {},
   "outputs": [],
   "source": [
    "def run(agent, dataX, dataY, episodes, look_back):\n",
    "    \"\"\"\n",
    "    Function run to train the agent\n",
    "    \"\"\"\n",
    "    \n",
    "    # Length of dataset\n",
    "    times = len(dataX)\n",
    "\n",
    "    # List of total rewards\n",
    "    total_reward_list = []\n",
    "\n",
    "    for ep in range(episodes):\n",
    "\n",
    "        # print('Episode: ' + str(ep))\n",
    "        \n",
    "        # Initial state and position\n",
    "        state = dataX[:look_back, :][np.newaxis, :, :]\n",
    "        pos = dataY[look_back - 1]\n",
    "\n",
    "        done = False\n",
    "        total_reward = 0\n",
    "\n",
    "        for t in range(1, times - look_back + 1):\n",
    "\n",
    "            # Predict action based on the current state\n",
    "            action = agent.act(state)\n",
    "\n",
    "            # Calculate reward\n",
    "            if action == pos:   # 0:-1      1:0     2:1\n",
    "                reward = +1\n",
    "\n",
    "            elif (pos == 0 or pos == 2):\n",
    "                if action == 1:\n",
    "                    reward = 0\n",
    "                else:\n",
    "                    reward = -1\n",
    "            else:\n",
    "                reward = -1\n",
    "\n",
    "            total_reward += reward\n",
    "\n",
    "            # Final state\n",
    "            if t == times - look_back:\n",
    "                done = True\n",
    "\n",
    "            # Receive next state and position\n",
    "            next_state = dataX[t:t + look_back, :][np.newaxis, :, :]\n",
    "            next_pos = dataY[t + look_back - 1]\n",
    "            \n",
    "            # Remember current experience\n",
    "            agent.remember(state, action, reward, next_state, done)\n",
    "            \n",
    "            # Make next_state the new current state; the same for pos\n",
    "            state = next_state\n",
    "            pos = next_pos\n",
    "\n",
    "            if done:\n",
    "                print('Episode: %i ---> Total Reward: %i' %(ep, total_reward))\n",
    "                total_reward_list.append(total_reward)\n",
    "\n",
    "            # Train the agent with previous experiences\n",
    "            if len(agent.memory) > batch_size:\n",
    "                agent.replay(batch_size)\n",
    "\n",
    "        if (ep + 1) % 5 == 0 and ep > 0:\n",
    "            file = 'checkpoints/' + symbol + '_robot_checkpoint' + str(ep + 1)\n",
    "            # Serialize weights to HDF5\n",
    "            agent.model.save_weights(file + \".h5\")\n",
    "            # Save epsilon\n",
    "            pickle.dump(agent.epsilon, open(file + \"_epsilon.pickle\", \"wb\"))\n",
    "\n",
    "    # Save list of rewards along the epochs\n",
    "    np.savetxt(file + '_total_reward.txt', total_reward_list)\n",
    "\n",
    "    return\n"
   ]
  },
  {
   "cell_type": "code",
   "execution_count": 14,
   "metadata": {},
   "outputs": [
    {
     "name": "stdout",
     "output_type": "stream",
     "text": [
      "Episode: 0 ---> Total Reward: 128\n",
      "Episode: 1 ---> Total Reward: 276\n",
      "Episode: 2 ---> Total Reward: 309\n",
      "Episode: 3 ---> Total Reward: 288\n",
      "Episode: 4 ---> Total Reward: 310\n",
      "Episode: 5 ---> Total Reward: 284\n",
      "Episode: 6 ---> Total Reward: 295\n",
      "Episode: 7 ---> Total Reward: 297\n",
      "Episode: 8 ---> Total Reward: 280\n",
      "Episode: 9 ---> Total Reward: 273\n",
      "Episode: 10 ---> Total Reward: 302\n",
      "Episode: 11 ---> Total Reward: 281\n",
      "Episode: 12 ---> Total Reward: 286\n",
      "Episode: 13 ---> Total Reward: 284\n",
      "Episode: 14 ---> Total Reward: 299\n",
      "Episode: 15 ---> Total Reward: 294\n",
      "Episode: 16 ---> Total Reward: 297\n",
      "Episode: 17 ---> Total Reward: 310\n",
      "Episode: 18 ---> Total Reward: 297\n",
      "Episode: 19 ---> Total Reward: 286\n"
     ]
    }
   ],
   "source": [
    "# Train Agent\n",
    "run(agent, X_train, y_train, episodes, look_back)"
   ]
  },
  {
   "cell_type": "code",
   "execution_count": 15,
   "metadata": {},
   "outputs": [
    {
     "data": {
      "image/png": "[encoded data removed]",
      "text/plain": [
       "<Figure size 432x288 with 1 Axes>"
      ]
     },
     "metadata": {
      "needs_background": "light"
     },
     "output_type": "display_data"
    }
   ],
   "source": [
    "# Load rewards\n",
    "total_reward_list = np.loadtxt( 'checkpoints/'+ symbol + '_robot_checkpoint' + str(episodes) + '_total_reward.txt')\n",
    "# Plot\n",
    "plt.figure()\n",
    "plt.plot(np.arange(1, episodes+1), total_reward_list)\n",
    "plt.xlabel('Episodes')\n",
    "plt.ylabel('Total Reward')\n",
    "plt.show()"
   ]
  },
  {
   "cell_type": "code",
   "execution_count": 16,
   "metadata": {},
   "outputs": [
    {
     "data": {
      "text/plain": [
       "array([128., 276., 309., 288., 310., 284., 295., 297., 280., 273., 302.,\n",
       "       281., 286., 284., 299., 294., 297., 310., 297., 286.])"
      ]
     },
     "execution_count": 16,
     "metadata": {},
     "output_type": "execute_result"
    }
   ],
   "source": [
    "total_reward_list"
   ]
  },
  {
   "cell_type": "code",
   "execution_count": 17,
   "metadata": {},
   "outputs": [],
   "source": [
    "def evaluate(agent, dataX, dataY, look_back):\n",
    "    \"\"\"\n",
    "    Function run to evaluate the trained agent\n",
    "    \"\"\"\n",
    "    \n",
    "    # Length of dataset\n",
    "    times = len(dataX)\n",
    "\n",
    "    # Initial state and position\n",
    "    state = dataX[:look_back, :][np.newaxis, :, :]\n",
    "    pos = dataY[look_back - 1]\n",
    "\n",
    "    # List of predicted positions\n",
    "    pos_list = []\n",
    "    \n",
    "    done = False\n",
    "    total_reward = 0\n",
    "    \n",
    "    for t in range(1, times - look_back + 1):\n",
    "\n",
    "        # Predict action based on the current state\n",
    "        action = agent.act(state)\n",
    "\n",
    "        # Calculate reward\n",
    "        if action == pos:   # 0:-1      1:0     2:1\n",
    "            reward = +1\n",
    "\n",
    "        elif (pos == 0 or pos == 2):\n",
    "            if action == 1:\n",
    "                reward = 0\n",
    "            else:\n",
    "                reward = -1\n",
    "        else:\n",
    "            reward = -1\n",
    "\n",
    "        pos_list.append(action)\n",
    "        total_reward += reward\n",
    "\n",
    "        # Final state\n",
    "        if t == times - look_back:\n",
    "            done = True\n",
    "\n",
    "        # Receive next state and position\n",
    "        next_state = dataX[t:t + look_back, :][np.newaxis, :, :]\n",
    "        next_pos = dataY[t + look_back - 1]\n",
    "\n",
    "        # Remember current experience\n",
    "        agent.remember(state, action, reward, next_state, done)\n",
    "\n",
    "        # Make next_state the new current state; the same for pos\n",
    "        state = next_state\n",
    "        pos = next_pos\n",
    "\n",
    "        if done:\n",
    "            print('Total Reward: %i' % total_reward)\n",
    "\n",
    "    return np.array(pos_list)"
   ]
  },
  {
   "cell_type": "code",
   "execution_count": 18,
   "metadata": {},
   "outputs": [
    {
     "name": "stdout",
     "output_type": "stream",
     "text": [
      "Total Reward: 42\n",
      "Accuracy: 69.66 %\n"
     ]
    }
   ],
   "source": [
    "# Evaluate the model\n",
    "# Make predictions\n",
    "y_pred_test = evaluate(agent, X_test, y_test, look_back)\n",
    "\n",
    "# Calculate and print accuracy\n",
    "acc = accuracy_score(y_test[look_back-1:-1], y_pred_test)\n",
    "\n",
    "print('Accuracy: %.2f %%' % (acc*100))"
   ]
  },
  {
   "cell_type": "code",
   "execution_count": 19,
   "metadata": {},
   "outputs": [
    {
     "name": "stdout",
     "output_type": "stream",
     "text": [
      "      1-Precision  2-Recall  3-F1 score  4-Support\n",
      "-1.0        0.756     0.899       0.821         69\n",
      " 0.0        0.000     0.000       0.000          8\n",
      " 1.0        0.000     0.000       0.000         12\n"
     ]
    },
    {
     "name": "stderr",
     "output_type": "stream",
     "text": [
      "C:\\Users\\Elid-PC.DESKTOP-MG9DS93\\anaconda3\\lib\\site-packages\\sklearn\\metrics\\_classification.py:1272: UndefinedMetricWarning: Precision and F-score are ill-defined and being set to 0.0 in labels with no predicted samples. Use `zero_division` parameter to control this behavior.\n",
      "  _warn_prf(average, modifier, msg_start, len(result))\n"
     ]
    }
   ],
   "source": [
    "# Calculate and print precision, recall, f1 score and support\n",
    "p, r, f1, s = precision_recall_fscore_support(y_test[look_back-1:-1], y_pred_test, average=None)\n",
    "results = pd.DataFrame({'1-Precision': p, '2-Recall': r, '3-F1 score': f1, '4-Support': s}, index=le.classes_)\n",
    "\n",
    "print(results.round(decimals=3))"
   ]
  },
  {
   "cell_type": "code",
   "execution_count": 20,
   "metadata": {},
   "outputs": [],
   "source": [
    "# Decodificate labels\n",
    "y_true_test = le.inverse_transform(y_test[look_back-1:-1])\n",
    "y_pred_test = le.inverse_transform(y_pred_test)"
   ]
  },
  {
   "cell_type": "code",
   "execution_count": 21,
   "metadata": {},
   "outputs": [
    {
     "data": {
      "image/png": "[encoded data removed]",
      "text/plain": [
       "<Figure size 432x288 with 1 Axes>"
      ]
     },
     "metadata": {
      "needs_background": "light"
     },
     "output_type": "display_data"
    }
   ],
   "source": [
    "# Plot strategy\n",
    "plt.figure()\n",
    "plt.plot(y_true_test, label='true')\n",
    "plt.plot(y_pred_test, label='pred')\n",
    "plt.legend()\n",
    "plt.show()"
   ]
  },
  {
   "cell_type": "code",
   "execution_count": null,
   "metadata": {},
   "outputs": [],
   "source": []
  }
 ],
 "metadata": {
  "kernelspec": {
   "display_name": "Python 3",
   "language": "python",
   "name": "python3"
  },
  "language_info": {
   "codemirror_mode": {
    "name": "ipython",
    "version": 3
   },
   "file_extension": ".py",
   "mimetype": "text/x-python",
   "name": "python",
   "nbconvert_exporter": "python",
   "pygments_lexer": "ipython3",
   "version": "3.7.6"
  }
 },
 "nbformat": 4,
 "nbformat_minor": 2
}
