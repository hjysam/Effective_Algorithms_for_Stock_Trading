{
 "cells": [
  {
   "cell_type": "code",
   "execution_count": 1,
   "metadata": {
    "scrolled": true
   },
   "outputs": [
    {
     "name": "stderr",
     "output_type": "stream",
     "text": [
      "C:\\Users\\Elid-PC.DESKTOP-MG9DS93\\anaconda3\\lib\\site-packages\\pandas_datareader\\compat\\__init__.py:7: FutureWarning: pandas.util.testing is deprecated. Use the functions in the public API at pandas.testing instead.\n",
      "  from pandas.util.testing import assert_frame_equal\n"
     ]
    },
    {
     "data": {
      "application/javascript": [
       "\n",
       "console.log('Starting front end url_querystring_target comm target');\n",
       "const comm = Jupyter.notebook.kernel.comm_manager.new_comm('url_querystring_target', {'init': 1});\n",
       "comm.send({'ipyparams_browser_url': window.location.href});\n",
       "console.log('Sent window.location.href on url_querystring_target comm target');\n",
       "\n",
       "comm.on_msg(function(msg) {\n",
       "    console.log(msg.content.data);\n",
       "});\n"
      ],
      "text/plain": [
       "<IPython.core.display.Javascript object>"
      ]
     },
     "metadata": {},
     "output_type": "display_data"
    },
    {
     "name": "stderr",
     "output_type": "stream",
     "text": [
      "Using TensorFlow backend.\n"
     ]
    }
   ],
   "source": [
    "# Import libraries\n",
    "import pandas as pd\n",
    "from pandas_datareader import data as pdr\n",
    "\n",
    "import numpy as np\n",
    "import matplotlib.pyplot as plt\n",
    "import pickle\n",
    "\n",
    "from sklearn import preprocessing\n",
    "from sklearn.metrics import accuracy_score\n",
    "from sklearn.metrics import precision_recall_fscore_support\n",
    "\n",
    "import talib, re, ipyparams\n",
    "\n",
    "from Agent import Agent"
   ]
  },
  {
   "cell_type": "code",
   "execution_count": 2,
   "metadata": {},
   "outputs": [
    {
     "data": {
      "text/plain": [
       "503"
      ]
     },
     "execution_count": 2,
     "metadata": {},
     "output_type": "execute_result"
    }
   ],
   "source": [
    "end_date = '2020-04-19'\n",
    "start_date = '2018-04-20'\n",
    "\n",
    "symbol = 'CAT'\n",
    "Date = pd.DataFrame(pdr.DataReader(symbol,'yahoo', start_date, end_date))\n",
    "\n",
    "alldata = pd.DataFrame({'Date': Date.index})\n",
    "alldata[symbol] = pdr.DataReader(symbol, 'yahoo', start_date, end_date)['Adj Close'].values\n",
    "# Stock symbol\n",
    "\n",
    "# Load close prices of to NumPy array\n",
    "close = alldata[symbol].values\n",
    "len(close)"
   ]
  },
  {
   "cell_type": "code",
   "execution_count": 3,
   "metadata": {},
   "outputs": [
    {
     "data": {
      "text/plain": [
       "array([146.40310669, 144.82489014, 145.52423096, 136.49925232,\n",
       "       137.20799255, 138.26643372, 136.76385498, 136.42364502,\n",
       "       136.48033142, 135.95114136, 135.8755188 , 138.32315063,\n",
       "       141.58348083, 141.68742371, 144.22007751, 145.50531006,\n",
       "       146.34640503, 146.74328613, 144.20118713, 145.34469604,\n",
       "       145.24073792, 147.14967346, 150.18318176, 147.61273193,\n",
       "       149.0680542 , 149.03027344, 147.28198242, 145.17457581,\n",
       "       146.91340637, 143.55857849, 145.08003235, 144.1161499 ,\n",
       "       144.59809875, 147.90565491, 147.69776917, 146.78111267,\n",
       "       147.70724487, 148.83181763, 146.20465088, 144.72094727,\n",
       "       141.7724762 , 140.50614929, 135.42190552, 135.26127625,\n",
       "       131.85916138, 132.24662781, 129.07138062, 128.08854675,\n",
       "       127.20965576, 128.55158997, 128.21138   , 128.79728699,\n",
       "       126.47254181, 128.34368896, 127.96568298, 133.22001648,\n",
       "       133.48460388, 129.24143982, 131.75518799, 133.01211548,\n",
       "       130.4888916 , 131.31106567, 133.36175537, 132.56306458,\n",
       "       130.09095764, 129.57751465, 131.18437195, 133.57093811,\n",
       "       135.56767273, 135.54864502, 132.87684631, 136.72767639,\n",
       "       131.72634888, 131.22241211, 131.69784546, 132.62013245,\n",
       "       135.37750244, 132.83882141, 131.70735168, 129.23521423,\n",
       "       128.37948608, 128.28440857, 125.52702332, 129.55847168,\n",
       "       132.48703003, 131.84996033, 133.1050415 , 132.76274109,\n",
       "       130.06242371, 131.41259766, 135.05419922, 135.01618958,\n",
       "       134.88308716, 132.22077942, 132.02111816, 131.44111633,\n",
       "       133.67553711, 134.60736084, 134.36962891, 135.0637207 ,\n",
       "       135.04470825, 137.18403625, 138.38208008, 137.77357483,\n",
       "       139.02864075, 141.73847961, 145.24699402, 148.32765198,\n",
       "       148.68894958, 146.42601013, 146.51158142, 145.63682556,\n",
       "       144.97125244, 144.99028015, 144.79060364, 147.20568848,\n",
       "       150.4384613 , 149.04074097, 145.76994324, 145.80795288,\n",
       "       142.10931396, 136.65159607, 134.03683472, 135.08276367,\n",
       "       134.8260498 , 136.64208984, 134.38864136, 129.12112427,\n",
       "       125.65722656, 123.15975952, 113.84934235, 107.49565887,\n",
       "       110.6437912 , 110.08880615, 109.06495667, 112.39488983,\n",
       "       116.08843231, 119.32268524, 120.36568451, 120.95895386,\n",
       "       123.75302124, 129.2742157 , 125.72421265, 121.43739319,\n",
       "       119.60974121, 120.52835083, 119.70542908, 123.83914185,\n",
       "       124.35586548, 120.54748535, 116.99746704, 118.52848053,\n",
       "       117.04531097, 119.41837311, 119.22698975, 125.1309433 ,\n",
       "       124.61421204, 129.81962585, 132.95819092, 123.74346924,\n",
       "       122.83441162, 118.22226715, 118.06917572, 117.92563629,\n",
       "       119.96379089, 120.47093964, 121.30342102, 119.1026001 ,\n",
       "       118.91121674, 117.05488586, 116.30853271, 114.89233398,\n",
       "       111.90686798, 119.38011169, 121.2077179 , 120.19343567,\n",
       "       121.59048462, 120.93022919, 116.27024078, 122.623909  ,\n",
       "       122.70046234, 124.17404938, 124.65250397, 127.22649384,\n",
       "       126.40358734, 126.11652374, 125.05438232, 125.98256683,\n",
       "       128.73834229, 131.5504303 , 127.35159302, 126.94713593,\n",
       "       127.82348633, 131.80081177, 119.77252197, 121.85266876,\n",
       "       125.30032349, 128.2375946 , 126.07077026, 126.04187012,\n",
       "       127.12046814, 125.71443176, 124.01950073, 123.84616089,\n",
       "       124.16394806, 127.76570892, 128.17980957, 127.7175293 ,\n",
       "       131.16520691, 130.77999878, 135.1232605 , 133.74613953,\n",
       "       133.55352783, 136.18261719, 132.87940979, 134.42027283,\n",
       "       132.26307678, 132.38825989, 133.23574829, 132.07046509,\n",
       "       129.84585571, 127.89089966, 126.49449158, 128.18943787,\n",
       "       127.58271027, 128.5650177 , 128.7480011 , 127.76570892,\n",
       "       129.14285278, 129.190979  , 128.09312439, 129.10432434,\n",
       "       124.97290039, 126.52338409, 126.96638489, 126.35003662,\n",
       "       127.47678375, 130.48146057, 135.06549072, 135.00770569,\n",
       "       134.11209106, 134.94993591, 135.17144775, 134.65139771,\n",
       "       131.30967712, 132.44602966, 133.73649597, 135.9803772 ,\n",
       "       135.06549072, 136.7796936 , 137.46347046, 138.89738464,\n",
       "       137.94789124, 137.60877991, 133.44264221, 131.8924408 ,\n",
       "       134.70214844, 134.69247437, 135.08001709, 133.8495636 ,\n",
       "       130.96232605, 134.73123169, 132.50282288, 129.50901794,\n",
       "       127.84255981, 127.11590576, 127.25154877, 121.39957428,\n",
       "       123.50202942, 123.33731079, 122.66879272, 118.93863678,\n",
       "       118.61890411, 121.06046295, 119.71372986, 118.45420837,\n",
       "       119.07427216, 117.80504608, 117.69848633, 118.0472641 ,\n",
       "       116.08045959, 116.89431   , 118.27980804, 119.28743744,\n",
       "       119.54902649, 120.58571625, 121.82585907, 123.31793213,\n",
       "       123.14353943, 123.21135712, 123.2694931 , 123.35668182,\n",
       "       126.272995  , 126.54426575, 129.47026062, 129.72218323,\n",
       "       130.18722534, 129.54777527, 130.94294739, 131.28205872,\n",
       "       132.04745483, 132.3478241 , 131.62115479, 131.36924744,\n",
       "       131.27236938, 130.64259338, 130.10972595, 128.51107788,\n",
       "       129.79000854, 134.05302429, 135.29318237, 134.76029968,\n",
       "       131.50488281, 130.69104004, 133.00494385, 132.0383606 ,\n",
       "       134.83067322, 128.78721619, 131.5209198 , 129.77330017,\n",
       "       131.27685547, 129.80258179, 128.55288696, 123.78842163,\n",
       "       121.59168243, 118.77009583, 119.18991852, 117.92069244,\n",
       "       119.13134003, 116.55383301, 113.95681763, 116.19259644,\n",
       "       112.48255157, 112.52160645, 113.67366791, 114.58165741,\n",
       "       113.9079895 , 114.89408112, 115.09910583, 111.35977936,\n",
       "       111.71125031, 110.69587708, 112.14083862, 114.98194122,\n",
       "       116.18283081, 114.25947571, 116.2804718 , 120.07836914,\n",
       "       119.79524231, 124.23752594, 127.20555115, 129.93927002,\n",
       "       128.6309967 , 130.61294556, 129.99786377, 129.04104614,\n",
       "       127.96709442, 127.03957367, 125.12598419, 125.37982941,\n",
       "       123.00734711, 123.61267853, 123.39788818, 123.59314728,\n",
       "       123.31977081, 119.47305298, 117.12010193, 117.19821167,\n",
       "       118.17453003, 117.40324402, 115.17721558, 116.61241913,\n",
       "       119.78548431, 125.36029816, 125.34077454, 127.92803955,\n",
       "       127.10793304, 128.94343567, 128.61869812, 130.11437988,\n",
       "       131.55102539, 133.17462158, 131.70846558, 137.49438477,\n",
       "       137.8190918 , 139.06878662, 138.09461975, 135.59526062,\n",
       "       142.17823792, 144.5693512 , 144.02815247, 143.16223145,\n",
       "       144.65791321, 145.78952026, 145.63208008, 143.99861145,\n",
       "       142.17823792, 141.14501953, 142.98510742, 141.29263306,\n",
       "       140.88917542, 139.25575256, 141.0663147 , 141.57798767,\n",
       "       144.0773468 , 143.75260925, 143.35902405, 142.41438293,\n",
       "       140.67269897, 137.8190918 , 137.87814331, 138.79325867,\n",
       "       140.43655396, 140.54478455, 140.58413696, 141.69607544,\n",
       "       144.43159485, 143.20158386, 143.03431702, 144.02815247,\n",
       "       144.7661438 , 142.69975281, 145.20895386, 146.12406921,\n",
       "       145.12037659, 145.84854126, 145.90759277, 145.15975952,\n",
       "       145.31718445, 148.12159729, 146.06503296, 145.96661377,\n",
       "       144.03799438, 145.31718445, 144.95310974, 143.79199219,\n",
       "       144.47094727, 144.33317566, 143.24095154, 145.50415039,\n",
       "       146.43559265, 144.52316284, 141.3324585 , 141.45135498,\n",
       "       139.10292053, 134.49520874, 135.49603271, 134.54476929,\n",
       "       134.13848877, 130.15507507, 128.58944702, 132.29541016,\n",
       "       136.18966675, 136.00138855, 132.15667725, 133.09805298,\n",
       "       134.95103455, 138.32009888, 138.44891357, 136.73466492,\n",
       "       135.3374939 , 135.61494446, 135.68429565, 135.96176147,\n",
       "       130.96760559, 127.82644653, 127.08326721, 122.1485672 ,\n",
       "       123.10974121, 126.43917847, 123.24847412, 126.24099731,\n",
       "       120.86039734, 120.30549622, 103.12323761, 105.52122498,\n",
       "        99.77399445,  91.42068481,  98.7335434 ,  92.56021881,\n",
       "        99.28844452,  99.20917511, 102.07288361,  94.6312027 ,\n",
       "        91.0144043 , 100.41807556, 103.71778107, 109.49474335,\n",
       "       104.48078156, 110.69373322, 114.98434448, 110.33701324,\n",
       "       115.67797089, 113.62680817, 119.33441162, 120.81085205,\n",
       "       126.24099731, 123.89255524, 113.10163116, 115.42034912,\n",
       "       110.51537323, 112.19000244, 116.30000305])"
      ]
     },
     "execution_count": 3,
     "metadata": {},
     "output_type": "execute_result"
    }
   ],
   "source": [
    "close"
   ]
  },
  {
   "cell_type": "code",
   "execution_count": 4,
   "metadata": {},
   "outputs": [
    {
     "data": {
      "text/html": [
       "<div>\n",
       "<style scoped>\n",
       "    .dataframe tbody tr th:only-of-type {\n",
       "        vertical-align: middle;\n",
       "    }\n",
       "\n",
       "    .dataframe tbody tr th {\n",
       "        vertical-align: top;\n",
       "    }\n",
       "\n",
       "    .dataframe thead th {\n",
       "        text-align: right;\n",
       "    }\n",
       "</style>\n",
       "<table border=\"1\" class=\"dataframe\">\n",
       "  <thead>\n",
       "    <tr style=\"text-align: right;\">\n",
       "      <th></th>\n",
       "      <th>macd</th>\n",
       "      <th>macdsignal</th>\n",
       "      <th>macdhist</th>\n",
       "    </tr>\n",
       "  </thead>\n",
       "  <tbody>\n",
       "    <tr>\n",
       "      <th>0</th>\n",
       "      <td>2.354084</td>\n",
       "      <td>3.860815</td>\n",
       "      <td>-1.506731</td>\n",
       "    </tr>\n",
       "    <tr>\n",
       "      <th>1</th>\n",
       "      <td>2.095976</td>\n",
       "      <td>3.507847</td>\n",
       "      <td>-1.411871</td>\n",
       "    </tr>\n",
       "    <tr>\n",
       "      <th>2</th>\n",
       "      <td>1.074984</td>\n",
       "      <td>3.021275</td>\n",
       "      <td>-1.946290</td>\n",
       "    </tr>\n",
       "    <tr>\n",
       "      <th>3</th>\n",
       "      <td>0.787273</td>\n",
       "      <td>2.574474</td>\n",
       "      <td>-1.787202</td>\n",
       "    </tr>\n",
       "    <tr>\n",
       "      <th>4</th>\n",
       "      <td>0.359244</td>\n",
       "      <td>2.131428</td>\n",
       "      <td>-1.772185</td>\n",
       "    </tr>\n",
       "  </tbody>\n",
       "</table>\n",
       "</div>"
      ],
      "text/plain": [
       "       macd  macdsignal  macdhist\n",
       "0  2.354084    3.860815 -1.506731\n",
       "1  2.095976    3.507847 -1.411871\n",
       "2  1.074984    3.021275 -1.946290\n",
       "3  0.787273    2.574474 -1.787202\n",
       "4  0.359244    2.131428 -1.772185"
      ]
     },
     "execution_count": 4,
     "metadata": {},
     "output_type": "execute_result"
    }
   ],
   "source": [
    "macd, macdsignal, macdhist = talib.MACD(close, fastperiod=5, slowperiod=20, signalperiod=9)\n",
    "macdhist = macdhist[~np.isnan(macdhist)]\n",
    "macd = macd[-len(macdhist):]\n",
    "macdsignal = macdsignal[-len(macdhist):]\n",
    "\n",
    "\n",
    "pd.DataFrame({'macd': macd, 'macdsignal': macdsignal, 'macdhist': macdhist}).head()"
   ]
  },
  {
   "cell_type": "code",
   "execution_count": 5,
   "metadata": {},
   "outputs": [],
   "source": [
    "def prepare_dataset(close):\n",
    "    \"\"\"\n",
    "    Function prepare_dataset to generate input data and trading strategy from stock close prices\n",
    "    \"\"\"\n",
    "\n",
    "    macd, macdsignal, macdhist = talib.MACD(close, fastperiod=12, slowperiod=26, signalperiod=9)\n",
    "\n",
    "    # Cancel NaN values\n",
    "    macdhist = macdhist[~np.isnan(macdhist)]\n",
    "    macd = macd[-len(macdhist):]\n",
    "    macdsignal = macdsignal[-len(macdhist):]\n",
    "\n",
    "    # Scaling features to a range [0, 1]\n",
    "    min_max_scaler = preprocessing.MinMaxScaler(feature_range=(-1, 1))\n",
    "    macdhist_norm = min_max_scaler.fit_transform(np.expand_dims(macdhist, axis=1))\n",
    "\n",
    "    # Implement strategy\n",
    "    start_sell = 0.4\n",
    "    stop_sell = 0.1\n",
    "    start_buy = -0.4\n",
    "    stop_buy = -0.1\n",
    "\n",
    "    y = np.full(len(macdhist), np.nan)\n",
    "    y[0] = 0\n",
    "\n",
    "    for i in range(1, len(macdhist)):\n",
    "\n",
    "        if y[i-1] == 0:\n",
    "            if (macdhist_norm[i] >= start_sell):\n",
    "                # Enter sell position\n",
    "                y[i] = -1\n",
    "            elif (macdhist_norm[i] <= start_buy):\n",
    "                # Enter buy position\n",
    "                y[i] = 1\n",
    "            else:\n",
    "                y[i] = 0\n",
    "        elif y[i-1] == -1:\n",
    "            if macdhist_norm[i] > stop_sell:\n",
    "                # Stay in sell position\n",
    "                y[i] = -1\n",
    "            else:\n",
    "                # Leave sell position\n",
    "                y[i] = 0\n",
    "        else:\n",
    "            if macdhist_norm[i] < stop_buy:\n",
    "                # Stay in buy position\n",
    "                y[i] = 1\n",
    "            else:\n",
    "                # Leave buy position\n",
    "                y[i] = 0\n",
    "\n",
    "    # Plot strategy\n",
    "    dates = np.arange(len(macdhist))\n",
    "    plt.plot(dates, y,'g', label='Strategy Positions')\n",
    "    plt.bar(dates, macdhist_norm[:, 0], width=1, color='blue', label='MACD histogram')\n",
    "    plt.plot(dates, start_sell * np.ones(len(macdhist)), 'k--', lw=1)\n",
    "    plt.plot(dates, stop_sell * np.ones(len(macdhist)), 'k--', lw=1)\n",
    "    plt.plot(dates, start_buy * np.ones(len(macdhist)), 'k--', lw=1)\n",
    "    plt.plot(dates, stop_buy * np.ones(len(macdhist)), 'k--', lw=1)\n",
    "    plt.xlabel('Days')\n",
    "    plt.xlim((0, len(y)))\n",
    "    plt.legend()\n",
    "    # plt.savefig('images/AAL_macd.png', bbox_inches='tight')\n",
    "    plt.show()\n",
    "    \n",
    "    # Generate input data - technical indicators\n",
    "    ind1 = talib.MIDPOINT(close)    # Overlap: MidPoint over period\n",
    "    ind2 = talib.HT_DCPERIOD(close) # Cycle Indicator Functions:  Hilbert Transform - Dominant Cycle Period\n",
    "    ind3 = talib.MAX(close)         # Math Operator: Highest value over a specified period\n",
    "    ind4 = talib.SIN(close)         # Math Transform: Vector Trigonometric Sin\n",
    "    ind5 = talib.APO(close)         # Momentum: Absolute Price Oscillator\n",
    "    ind6 = talib.TEMA(close, timeperiod=5) ## Triple Exponential Moving Average\n",
    "\n",
    "    x = np.vstack((macdhist, macd, macdsignal, ind1[-len(macdhist):], ind2[-len(macdhist):],\n",
    "                   ind3[-len(macdhist):], ind4[-len(macdhist):], ind5[-len(macdhist):],\n",
    "                   ind6[-len(macdhist):]))\n",
    "    x = x.T\n",
    "\n",
    "    return x, y"
   ]
  },
  {
   "cell_type": "code",
   "execution_count": 6,
   "metadata": {},
   "outputs": [
    {
     "data": {
      "image/png": "[encoded data removed]",
      "text/plain": [
       "<Figure size 432x288 with 1 Axes>"
      ]
     },
     "metadata": {
      "needs_background": "light"
     },
     "output_type": "display_data"
    }
   ],
   "source": [
    "# Implement MACD trading strategy\n",
    "X, y = prepare_dataset(close)"
   ]
  },
  {
   "cell_type": "code",
   "execution_count": 7,
   "metadata": {},
   "outputs": [
    {
     "data": {
      "text/plain": [
       "array([ -0.8958136 ,   1.82446011,   2.72027371, 146.87088013,\n",
       "        17.21176483, 150.18318176,  -0.24817919,   2.2804136 ,\n",
       "       146.65074817])"
      ]
     },
     "execution_count": 7,
     "metadata": {},
     "output_type": "execute_result"
    }
   ],
   "source": [
    "X[0]"
   ]
  },
  {
   "cell_type": "code",
   "execution_count": 8,
   "metadata": {},
   "outputs": [],
   "source": [
    "# Split dataset\n",
    "n_train = int(X.shape[0] * 0.8)\n",
    "\n",
    "X_train, y_train = X[:n_train], y[:n_train]\n",
    "X_test, y_test = X[n_train:], y[n_train:]"
   ]
  },
  {
   "cell_type": "code",
   "execution_count": 9,
   "metadata": {},
   "outputs": [],
   "source": [
    "# Normalize data\n",
    "scaler = preprocessing.MinMaxScaler()\n",
    "\n",
    "X_train = scaler.fit_transform(X_train)\n",
    "X_test = scaler.transform(X_test)"
   ]
  },
  {
   "cell_type": "code",
   "execution_count": 10,
   "metadata": {},
   "outputs": [
    {
     "name": "stdout",
     "output_type": "stream",
     "text": [
      "[-1.  0.  1.]\n"
     ]
    }
   ],
   "source": [
    "# Encode trading signal with integers between 0 and n-1 classes\n",
    "le = preprocessing.LabelEncoder()\n",
    "\n",
    "y_train = le.fit_transform(y_train)\n",
    "y_test = le.transform(y_test)\n",
    "\n",
    "print(le.classes_)"
   ]
  },
  {
   "cell_type": "code",
   "execution_count": 11,
   "metadata": {},
   "outputs": [],
   "source": [
    "## Create and train the Agent\n",
    "# Variable definiton\n",
    "episodes = 20\n",
    "look_back = 5\n",
    "batch_size = 32\n",
    "action_size = len(le.classes_)\n",
    "n_features = X_train.shape[1]"
   ]
  },
  {
   "cell_type": "code",
   "execution_count": 12,
   "metadata": {},
   "outputs": [],
   "source": [
    "# Create Agent\n",
    "agent = Agent(look_back, action_size, n_features)"
   ]
  },
  {
   "cell_type": "code",
   "execution_count": 13,
   "metadata": {},
   "outputs": [],
   "source": [
    "def run(agent, dataX, dataY, episodes, look_back):\n",
    "    \"\"\"\n",
    "    Function run to train the agent\n",
    "    \"\"\"\n",
    "    \n",
    "    # Length of dataset\n",
    "    times = len(dataX)\n",
    "\n",
    "    # List of total rewards\n",
    "    total_reward_list = []\n",
    "\n",
    "    for ep in range(episodes):\n",
    "\n",
    "        # print('Episode: ' + str(ep))\n",
    "        \n",
    "        # Initial state and position\n",
    "        state = dataX[:look_back, :][np.newaxis, :, :]\n",
    "        pos = dataY[look_back - 1]\n",
    "\n",
    "        done = False\n",
    "        total_reward = 0\n",
    "\n",
    "        for t in range(1, times - look_back + 1):\n",
    "\n",
    "            # Predict action based on the current state\n",
    "            action = agent.act(state)\n",
    "\n",
    "            # Calculate reward\n",
    "            if action == pos:   # 0:-1      1:0     2:1\n",
    "                reward = +1\n",
    "\n",
    "            elif (pos == 0 or pos == 2):\n",
    "                if action == 1:\n",
    "                    reward = 0\n",
    "                else:\n",
    "                    reward = -1\n",
    "            else:\n",
    "                reward = -1\n",
    "\n",
    "            total_reward += reward\n",
    "\n",
    "            # Final state\n",
    "            if t == times - look_back:\n",
    "                done = True\n",
    "\n",
    "            # Receive next state and position\n",
    "            next_state = dataX[t:t + look_back, :][np.newaxis, :, :]\n",
    "            next_pos = dataY[t + look_back - 1]\n",
    "            \n",
    "            # Remember current experience\n",
    "            agent.remember(state, action, reward, next_state, done)\n",
    "            \n",
    "            # Make next_state the new current state; the same for pos\n",
    "            state = next_state\n",
    "            pos = next_pos\n",
    "\n",
    "            if done:\n",
    "                print('Episode: %i ---> Total Reward: %i' %(ep, total_reward))\n",
    "                total_reward_list.append(total_reward)\n",
    "\n",
    "            # Train the agent with previous experiences\n",
    "            if len(agent.memory) > batch_size:\n",
    "                agent.replay(batch_size)\n",
    "\n",
    "        if (ep + 1) % 5 == 0 and ep > 0:\n",
    "            file = 'checkpoints/' + symbol + '_robot_checkpoint' + str(ep + 1)\n",
    "            # Serialize weights to HDF5\n",
    "            agent.model.save_weights(file + \".h5\")\n",
    "            # Save epsilon\n",
    "            pickle.dump(agent.epsilon, open(file + \"_epsilon.pickle\", \"wb\"))\n",
    "\n",
    "    # Save list of rewards along the epochs\n",
    "    np.savetxt(file + '_total_reward.txt', total_reward_list)\n",
    "\n",
    "    return\n"
   ]
  },
  {
   "cell_type": "code",
   "execution_count": null,
   "metadata": {},
   "outputs": [
    {
     "name": "stdout",
     "output_type": "stream",
     "text": [
      "Episode: 0 ---> Total Reward: 82\n"
     ]
    }
   ],
   "source": [
    "# Train Agent\n",
    "run(agent, X_train, y_train, episodes, look_back)"
   ]
  },
  {
   "cell_type": "code",
   "execution_count": null,
   "metadata": {},
   "outputs": [],
   "source": [
    "# Load rewards\n",
    "total_reward_list = np.loadtxt( 'checkpoints/'+ symbol + '_robot_checkpoint' + str(episodes) + '_total_reward.txt')\n",
    "# Plot\n",
    "plt.figure()\n",
    "plt.plot(np.arange(1, episodes+1), total_reward_list)\n",
    "plt.xlabel('Episodes')\n",
    "plt.ylabel('Total Reward')\n",
    "plt.show()"
   ]
  },
  {
   "cell_type": "code",
   "execution_count": null,
   "metadata": {},
   "outputs": [],
   "source": [
    "total_reward_list"
   ]
  },
  {
   "cell_type": "code",
   "execution_count": null,
   "metadata": {},
   "outputs": [],
   "source": [
    "def evaluate(agent, dataX, dataY, look_back):\n",
    "    \"\"\"\n",
    "    Function run to evaluate the trained agent\n",
    "    \"\"\"\n",
    "    \n",
    "    # Length of dataset\n",
    "    times = len(dataX)\n",
    "\n",
    "    # Initial state and position\n",
    "    state = dataX[:look_back, :][np.newaxis, :, :]\n",
    "    pos = dataY[look_back - 1]\n",
    "\n",
    "    # List of predicted positions\n",
    "    pos_list = []\n",
    "    \n",
    "    done = False\n",
    "    total_reward = 0\n",
    "    \n",
    "    for t in range(1, times - look_back + 1):\n",
    "\n",
    "        # Predict action based on the current state\n",
    "        action = agent.act(state)\n",
    "\n",
    "        # Calculate reward\n",
    "        if action == pos:   # 0:-1      1:0     2:1\n",
    "            reward = +1\n",
    "\n",
    "        elif (pos == 0 or pos == 2):\n",
    "            if action == 1:\n",
    "                reward = 0\n",
    "            else:\n",
    "                reward = -1\n",
    "        else:\n",
    "            reward = -1\n",
    "\n",
    "        pos_list.append(action)\n",
    "        total_reward += reward\n",
    "\n",
    "        # Final state\n",
    "        if t == times - look_back:\n",
    "            done = True\n",
    "\n",
    "        # Receive next state and position\n",
    "        next_state = dataX[t:t + look_back, :][np.newaxis, :, :]\n",
    "        next_pos = dataY[t + look_back - 1]\n",
    "\n",
    "        # Remember current experience\n",
    "        agent.remember(state, action, reward, next_state, done)\n",
    "\n",
    "        # Make next_state the new current state; the same for pos\n",
    "        state = next_state\n",
    "        pos = next_pos\n",
    "\n",
    "        if done:\n",
    "            print('Total Reward: %i' % total_reward)\n",
    "\n",
    "    return np.array(pos_list)"
   ]
  },
  {
   "cell_type": "code",
   "execution_count": null,
   "metadata": {},
   "outputs": [],
   "source": [
    "# Evaluate the model\n",
    "# Make predictions\n",
    "y_pred_test = evaluate(agent, X_test, y_test, look_back)\n",
    "\n",
    "# Calculate and print accuracy\n",
    "acc = accuracy_score(y_test[look_back-1:-1], y_pred_test)\n",
    "\n",
    "print('Accuracy: %.2f %%' % (acc*100))"
   ]
  },
  {
   "cell_type": "code",
   "execution_count": null,
   "metadata": {},
   "outputs": [],
   "source": [
    "# Calculate and print precision, recall, f1 score and support\n",
    "p, r, f1, s = precision_recall_fscore_support(y_test[look_back-1:-1], y_pred_test, average=None)\n",
    "results = pd.DataFrame({'1-Precision': p, '2-Recall': r, '3-F1 score': f1, '4-Support': s}, index=le.classes_)\n",
    "\n",
    "print(results.round(decimals=3))"
   ]
  },
  {
   "cell_type": "code",
   "execution_count": null,
   "metadata": {},
   "outputs": [],
   "source": [
    "# Decodificate labels\n",
    "y_true_test = le.inverse_transform(y_test[look_back-1:-1])\n",
    "y_pred_test = le.inverse_transform(y_pred_test)"
   ]
  },
  {
   "cell_type": "code",
   "execution_count": null,
   "metadata": {},
   "outputs": [],
   "source": [
    "# Plot strategy\n",
    "plt.figure()\n",
    "plt.plot(y_true_test, label='true')\n",
    "plt.plot(y_pred_test, label='pred')\n",
    "plt.legend()\n",
    "plt.show()"
   ]
  },
  {
   "cell_type": "code",
   "execution_count": null,
   "metadata": {},
   "outputs": [],
   "source": []
  }
 ],
 "metadata": {
  "kernelspec": {
   "display_name": "Python 3",
   "language": "python",
   "name": "python3"
  },
  "language_info": {
   "codemirror_mode": {
    "name": "ipython",
    "version": 3
   },
   "file_extension": ".py",
   "mimetype": "text/x-python",
   "name": "python",
   "nbconvert_exporter": "python",
   "pygments_lexer": "ipython3",
   "version": "3.7.6"
  }
 },
 "nbformat": 4,
 "nbformat_minor": 2
}
