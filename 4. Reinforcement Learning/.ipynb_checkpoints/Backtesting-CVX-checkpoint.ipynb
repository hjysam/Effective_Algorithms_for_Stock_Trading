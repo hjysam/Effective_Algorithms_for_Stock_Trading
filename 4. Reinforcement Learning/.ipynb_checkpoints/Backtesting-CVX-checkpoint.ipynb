{
 "cells": [
  {
   "cell_type": "code",
   "execution_count": 1,
   "metadata": {
    "scrolled": true
   },
   "outputs": [
    {
     "name": "stderr",
     "output_type": "stream",
     "text": [
      "C:\\Users\\Elid-PC.DESKTOP-MG9DS93\\anaconda3\\lib\\site-packages\\pandas_datareader\\compat\\__init__.py:7: FutureWarning: pandas.util.testing is deprecated. Use the functions in the public API at pandas.testing instead.\n",
      "  from pandas.util.testing import assert_frame_equal\n"
     ]
    },
    {
     "data": {
      "application/javascript": [
       "\n",
       "console.log('Starting front end url_querystring_target comm target');\n",
       "const comm = Jupyter.notebook.kernel.comm_manager.new_comm('url_querystring_target', {'init': 1});\n",
       "comm.send({'ipyparams_browser_url': window.location.href});\n",
       "console.log('Sent window.location.href on url_querystring_target comm target');\n",
       "\n",
       "comm.on_msg(function(msg) {\n",
       "    console.log(msg.content.data);\n",
       "});\n"
      ],
      "text/plain": [
       "<IPython.core.display.Javascript object>"
      ]
     },
     "metadata": {},
     "output_type": "display_data"
    },
    {
     "name": "stderr",
     "output_type": "stream",
     "text": [
      "Using TensorFlow backend.\n"
     ]
    }
   ],
   "source": [
    "# Import libraries\n",
    "import pandas as pd\n",
    "from pandas_datareader import data as pdr\n",
    "\n",
    "import numpy as np\n",
    "import matplotlib.pyplot as plt\n",
    "import pickle\n",
    "\n",
    "from sklearn import preprocessing\n",
    "from sklearn.metrics import accuracy_score\n",
    "from sklearn.metrics import precision_recall_fscore_support\n",
    "\n",
    "import talib, re, ipyparams\n",
    "\n",
    "from Agent import Agent"
   ]
  },
  {
   "cell_type": "code",
   "execution_count": 2,
   "metadata": {},
   "outputs": [
    {
     "data": {
      "text/plain": [
       "503"
      ]
     },
     "execution_count": 2,
     "metadata": {},
     "output_type": "execute_result"
    }
   ],
   "source": [
    "end_date = '2020-04-19'\n",
    "start_date = '2018-04-20'\n",
    "\n",
    "symbol = 'CVX'\n",
    "Date = pd.DataFrame(pdr.DataReader(symbol,'yahoo', start_date, end_date))\n",
    "\n",
    "alldata = pd.DataFrame({'Date': Date.index})\n",
    "alldata[symbol] = pdr.DataReader(symbol, 'yahoo', start_date, end_date)['Adj Close'].values\n",
    "# Stock symbol\n",
    "\n",
    "# Load close prices of to NumPy array\n",
    "close = alldata[symbol].values\n",
    "len(close)"
   ]
  },
  {
   "cell_type": "code",
   "execution_count": 3,
   "metadata": {},
   "outputs": [
    {
     "data": {
      "text/plain": [
       "array([114.26779938, 112.97465515, 114.14772797, 113.1871109 ,\n",
       "       113.35336304, 114.73887634, 116.95570374, 115.56095123,\n",
       "       115.33003235, 115.91194916, 116.39225769, 115.94889069,\n",
       "       115.40393066, 116.90950012, 118.89542389, 118.98779297,\n",
       "       119.92992401, 120.43793488, 119.83757019, 119.67129517,\n",
       "       120.62167358, 119.13089752, 120.53780365, 119.47564697,\n",
       "       119.91355133, 117.96623993, 113.8480072 , 113.10260773,\n",
       "       116.61523438, 115.81394958, 115.39466095, 113.91322327,\n",
       "       114.35113525, 114.95675659, 118.29234314, 117.80784607,\n",
       "       118.85137939, 118.40415955, 118.3948288 , 117.87306213,\n",
       "       115.57169342, 117.36993408, 116.96928406, 116.73635864,\n",
       "       114.22068024, 116.55931854, 114.23932648, 115.68350983,\n",
       "       117.39787292, 117.08109283, 117.79853058, 115.76734161,\n",
       "       116.21459961, 115.51578522, 115.66487122, 117.38857269,\n",
       "       118.87932587, 115.08718872, 115.77667236, 115.57169342,\n",
       "       114.58406067, 113.58711243, 113.23304749, 113.36348724,\n",
       "       113.92253113, 113.04669952, 115.39466095, 116.37297821,\n",
       "       115.48783875, 117.36993408, 119.10295105, 117.64944458,\n",
       "       116.82952881, 115.3108139 , 115.58101654, 115.81394958,\n",
       "       116.63386536, 115.42262268, 114.16478729, 114.919487  ,\n",
       "       114.08093262, 114.21136475, 109.88814545, 110.67829132,\n",
       "       110.80998993, 110.76296234, 110.94168854, 111.86353302,\n",
       "       111.09218597, 111.94818878, 113.2086792 , 112.74775696,\n",
       "       113.08640289, 112.70071411, 111.43082428, 111.8164978 ,\n",
       "       111.86353302, 108.3924942 , 107.79987335, 107.68699646,\n",
       "       108.19494629, 108.91926575, 109.39900208, 110.41490173,\n",
       "       110.53720856, 111.1204071 , 112.4185257 , 112.3338623 ,\n",
       "       113.94239044, 115.34398651, 116.04947662, 114.71372986,\n",
       "       115.20288849, 115.02416229, 117.00894928, 117.3381958 ,\n",
       "       117.87435913, 117.53572845, 117.89317322, 117.43225098,\n",
       "       119.29476929, 115.32517242, 111.40261078, 110.7817688 ,\n",
       "       110.00102234, 110.53720856, 110.3302536 , 110.49958038,\n",
       "       111.12981415, 110.25499725, 106.67108154, 103.67037201,\n",
       "       104.95907593, 104.91204071, 102.46631622, 104.2723999 ,\n",
       "       105.02492523, 104.5734024 , 107.92215729, 111.88234711,\n",
       "       111.84472656, 113.6978302 , 112.27742767, 112.4185257 ,\n",
       "       110.42432404, 108.50536346, 108.85340881, 111.08557892,\n",
       "       113.08977509, 113.43170929, 110.27819824, 111.67448425,\n",
       "       107.90355682, 109.2143631 , 109.43282318, 112.21590424,\n",
       "       112.89030457, 112.97579193, 114.61904144, 111.36103058,\n",
       "       110.09773254, 109.69878387, 109.17636108, 109.67979431,\n",
       "       109.82227325, 110.1262207 , 108.12203217, 106.81122589,\n",
       "       104.23710632, 102.42289734,  99.71581268,  98.98441315,\n",
       "        95.92588043, 102.00495911, 103.83817291, 103.2017746 ,\n",
       "       103.33475494, 105.13948059, 103.12579346, 105.26296234,\n",
       "       106.63076019, 106.16532898, 107.59010315, 107.76107788,\n",
       "       106.89672089, 106.11782837, 106.49777985, 105.81388092,\n",
       "       106.34579468, 108.63494873, 106.70674133, 105.80438232,\n",
       "       107.81807709, 107.54261017, 106.5452652 , 106.22232056,\n",
       "       107.34315491, 108.90090179, 112.43437195, 113.735672  ,\n",
       "       113.48872375, 112.91880035, 112.3013916 , 111.68398285,\n",
       "       111.08557892, 112.76680756, 113.57419586, 113.36312103,\n",
       "       114.50481415, 114.46643829, 115.39705658, 114.3033371 ,\n",
       "       114.54319   , 114.76387024, 115.07086945, 115.20518494,\n",
       "       114.72547913, 117.07601166, 117.16236877, 118.2848587 ,\n",
       "       118.51512146, 116.9896698 , 116.68266296, 118.60147095,\n",
       "       118.87010193, 119.60884094, 119.54168701, 120.22285461,\n",
       "       120.76971436, 120.19408417, 119.62802887, 120.75053406,\n",
       "       118.09297943, 117.90110016, 119.09075165, 117.80516052,\n",
       "       118.0258255 , 118.17933655, 119.86788177, 119.858284  ,\n",
       "       118.86051178, 119.73356628, 121.28780365, 121.5372467 ,\n",
       "       120.44352722, 120.39554596, 120.87525177, 114.89818573,\n",
       "       115.26274109, 116.25092316, 115.3874588 , 114.99411011,\n",
       "       116.95129395, 117.06642151, 113.47825623, 113.11367798,\n",
       "       112.34614563, 112.94098663, 115.18598938, 113.02732849,\n",
       "       111.65538025, 112.50924683, 113.59338379, 113.46865845,\n",
       "       112.72991943, 116.27011871, 117.03764343, 115.55057526,\n",
       "       116.70185089, 117.1815567 , 117.03623199, 116.76494598,\n",
       "       117.07497406, 117.55939484, 116.81339264, 114.19752502,\n",
       "       115.01134491, 114.62380219, 113.13178253, 111.78509521,\n",
       "       110.30276489, 112.37608337, 113.64527893, 113.984375  ,\n",
       "       116.91996002, 117.69503784, 118.47979736, 117.39469147,\n",
       "       116.44522858, 117.14279938, 117.0459137 , 117.60784149,\n",
       "       119.09985352, 119.06110382, 120.40779877, 121.03754425,\n",
       "       121.01816559, 119.78773499, 120.0687027 , 119.27425385,\n",
       "       120.56282043, 120.9503479 , 119.09985352, 119.50676727,\n",
       "       119.69085693, 119.74898529, 119.50676727, 121.53166199,\n",
       "       121.52197266, 122.05484009, 121.80293274, 120.87284088,\n",
       "       120.27216339, 120.79533386, 121.14411926, 121.40570068,\n",
       "       121.89981842, 122.59738922, 121.71573639, 119.86524963,\n",
       "       120.35935974, 120.46592712, 119.27425385, 116.97809601,\n",
       "       116.96840668, 115.04040527, 115.66046143, 115.38919067,\n",
       "       119.39051819, 118.60575104, 117.76286316, 118.57668304,\n",
       "       114.07155609, 113.30618286, 113.3551178 , 114.82332611,\n",
       "       113.66832733, 115.38123322, 115.23442841, 112.73847198,\n",
       "       113.28659821, 113.37470245, 114.35350037, 115.02886963,\n",
       "       115.22463226, 113.80535889, 114.76459503, 115.14633179,\n",
       "       115.75318909, 116.85923004, 119.26708984, 118.70916748,\n",
       "       118.84619904, 118.92450714, 121.4889679 , 121.26384735,\n",
       "       121.54769135, 121.03872681, 121.6847229 , 122.25243378,\n",
       "       121.11701965, 120.89189911, 117.61291504, 116.08597565,\n",
       "       116.08597565, 113.55088043, 109.90973663, 110.75151062,\n",
       "       111.4366684 , 110.85917664, 109.34202576, 110.74171448,\n",
       "       112.1609726 , 113.68791199, 113.71727753, 113.84452057,\n",
       "       112.66996002, 112.90486145, 112.30780029, 114.13816071,\n",
       "       115.30294037, 115.47912598, 115.08760071, 116.15449524,\n",
       "       115.96852875, 115.62593842, 113.89346313, 113.67812347,\n",
       "       113.74663544, 118.99302673, 119.35517883, 117.35842896,\n",
       "       119.30623627, 118.36659241, 118.24913025, 118.39595032,\n",
       "       119.68797302, 119.37475586, 119.24625397, 117.18040466,\n",
       "       115.10466003, 115.984375  , 117.39785767, 117.25947571,\n",
       "       117.01235962, 116.42918396, 116.70594788, 115.77680206,\n",
       "       115.45062256, 114.5511322 , 115.58900452, 114.98604584,\n",
       "       116.64664459, 115.94484711, 116.52802277, 114.88720703,\n",
       "       117.43739319, 116.59721375, 117.98104095, 117.22982025,\n",
       "       117.18040466, 116.76525116, 118.29734802, 118.93983459,\n",
       "       118.94971466, 119.20671844, 118.91018677, 118.46537781,\n",
       "       119.1177597 , 120.02713013, 119.61198425, 119.20671844,\n",
       "       117.68450928, 116.34021759, 116.15242004, 115.09477997,\n",
       "       115.3122406 , 114.95639801, 114.78835297, 115.53957367,\n",
       "       114.24471283, 112.00093842, 111.59567261, 111.79336548,\n",
       "       110.55780029, 109.1146698 , 109.83624268, 109.09490204,\n",
       "       110.11300659, 105.90222168, 105.05215454, 105.61557007,\n",
       "       109.0059433 , 108.22506714, 107.681427  , 108.52160645,\n",
       "       109.92520142, 110.7456131 , 110.37000275, 110.08000183,\n",
       "       110.23999786, 110.73999786, 109.80999756, 109.01000214,\n",
       "       104.70999908, 100.70999908,  98.04000092,  94.12999725,\n",
       "        93.33999634,  96.58999634,  94.38999939,  98.52999878,\n",
       "        97.19000244,  95.31999969,  80.66999817,  84.98000336,\n",
       "        83.02999878,  76.26000214,  83.41999817,  69.69999695,\n",
       "        70.69000244,  55.04999924,  57.38999939,  59.38999939,\n",
       "        54.22000122,  66.55000305,  69.26999664,  76.37999725,\n",
       "        68.77999878,  71.94999695,  72.45999908,  68.55999756,\n",
       "        76.12000275,  75.11000061,  80.38999939,  80.91999817,\n",
       "        85.98000336,  84.30999756,  84.91000366,  84.61000061,\n",
       "        82.48999786,  79.98999786,  87.16999817])"
      ]
     },
     "execution_count": 3,
     "metadata": {},
     "output_type": "execute_result"
    }
   ],
   "source": [
    "close"
   ]
  },
  {
   "cell_type": "code",
   "execution_count": 4,
   "metadata": {},
   "outputs": [
    {
     "data": {
      "text/html": [
       "<div>\n",
       "<style scoped>\n",
       "    .dataframe tbody tr th:only-of-type {\n",
       "        vertical-align: middle;\n",
       "    }\n",
       "\n",
       "    .dataframe tbody tr th {\n",
       "        vertical-align: top;\n",
       "    }\n",
       "\n",
       "    .dataframe thead th {\n",
       "        text-align: right;\n",
       "    }\n",
       "</style>\n",
       "<table border=\"1\" class=\"dataframe\">\n",
       "  <thead>\n",
       "    <tr style=\"text-align: right;\">\n",
       "      <th></th>\n",
       "      <th>macd</th>\n",
       "      <th>macdsignal</th>\n",
       "      <th>macdhist</th>\n",
       "    </tr>\n",
       "  </thead>\n",
       "  <tbody>\n",
       "    <tr>\n",
       "      <th>0</th>\n",
       "      <td>-1.041495</td>\n",
       "      <td>1.833533</td>\n",
       "      <td>-2.875028</td>\n",
       "    </tr>\n",
       "    <tr>\n",
       "      <th>1</th>\n",
       "      <td>-0.793640</td>\n",
       "      <td>1.308099</td>\n",
       "      <td>-2.101738</td>\n",
       "    </tr>\n",
       "    <tr>\n",
       "      <th>2</th>\n",
       "      <td>-0.809727</td>\n",
       "      <td>0.884534</td>\n",
       "      <td>-1.694260</td>\n",
       "    </tr>\n",
       "    <tr>\n",
       "      <th>3</th>\n",
       "      <td>-0.893555</td>\n",
       "      <td>0.528916</td>\n",
       "      <td>-1.422471</td>\n",
       "    </tr>\n",
       "    <tr>\n",
       "      <th>4</th>\n",
       "      <td>-1.268475</td>\n",
       "      <td>0.169438</td>\n",
       "      <td>-1.437912</td>\n",
       "    </tr>\n",
       "  </tbody>\n",
       "</table>\n",
       "</div>"
      ],
      "text/plain": [
       "       macd  macdsignal  macdhist\n",
       "0 -1.041495    1.833533 -2.875028\n",
       "1 -0.793640    1.308099 -2.101738\n",
       "2 -0.809727    0.884534 -1.694260\n",
       "3 -0.893555    0.528916 -1.422471\n",
       "4 -1.268475    0.169438 -1.437912"
      ]
     },
     "execution_count": 4,
     "metadata": {},
     "output_type": "execute_result"
    }
   ],
   "source": [
    "macd, macdsignal, macdhist = talib.MACD(close, fastperiod=5, slowperiod=20, signalperiod=9)\n",
    "macdhist = macdhist[~np.isnan(macdhist)]\n",
    "macd = macd[-len(macdhist):]\n",
    "macdsignal = macdsignal[-len(macdhist):]\n",
    "\n",
    "\n",
    "pd.DataFrame({'macd': macd, 'macdsignal': macdsignal, 'macdhist': macdhist}).head()"
   ]
  },
  {
   "cell_type": "code",
   "execution_count": 5,
   "metadata": {},
   "outputs": [],
   "source": [
    "def prepare_dataset(close):\n",
    "    \"\"\"\n",
    "    Function prepare_dataset to generate input data and trading strategy from stock close prices\n",
    "    \"\"\"\n",
    "\n",
    "    macd, macdsignal, macdhist = talib.MACD(close, fastperiod=12, slowperiod=26, signalperiod=9)\n",
    "\n",
    "    # Cancel NaN values\n",
    "    macdhist = macdhist[~np.isnan(macdhist)]\n",
    "    macd = macd[-len(macdhist):]\n",
    "    macdsignal = macdsignal[-len(macdhist):]\n",
    "\n",
    "    # Scaling features to a range [0, 1]\n",
    "    min_max_scaler = preprocessing.MinMaxScaler(feature_range=(-1, 1))\n",
    "    macdhist_norm = min_max_scaler.fit_transform(np.expand_dims(macdhist, axis=1))\n",
    "\n",
    "    # Implement strategy\n",
    "    start_sell = 0.4\n",
    "    stop_sell = 0.1\n",
    "    start_buy = -0.4\n",
    "    stop_buy = -0.1\n",
    "\n",
    "    y = np.full(len(macdhist), np.nan)\n",
    "    y[0] = 0\n",
    "\n",
    "    for i in range(1, len(macdhist)):\n",
    "\n",
    "        if y[i-1] == 0:\n",
    "            if (macdhist_norm[i] >= start_sell):\n",
    "                # Enter sell position\n",
    "                y[i] = -1\n",
    "            elif (macdhist_norm[i] <= start_buy):\n",
    "                # Enter buy position\n",
    "                y[i] = 1\n",
    "            else:\n",
    "                y[i] = 0\n",
    "        elif y[i-1] == -1:\n",
    "            if macdhist_norm[i] > stop_sell:\n",
    "                # Stay in sell position\n",
    "                y[i] = -1\n",
    "            else:\n",
    "                # Leave sell position\n",
    "                y[i] = 0\n",
    "        else:\n",
    "            if macdhist_norm[i] < stop_buy:\n",
    "                # Stay in buy position\n",
    "                y[i] = 1\n",
    "            else:\n",
    "                # Leave buy position\n",
    "                y[i] = 0\n",
    "\n",
    "    # Plot strategy\n",
    "    dates = np.arange(len(macdhist))\n",
    "    plt.plot(dates, y,'g', label='Strategy Positions')\n",
    "    plt.bar(dates, macdhist_norm[:, 0], width=1, color='blue', label='MACD histogram')\n",
    "    plt.plot(dates, start_sell * np.ones(len(macdhist)), 'k--', lw=1)\n",
    "    plt.plot(dates, stop_sell * np.ones(len(macdhist)), 'k--', lw=1)\n",
    "    plt.plot(dates, start_buy * np.ones(len(macdhist)), 'k--', lw=1)\n",
    "    plt.plot(dates, stop_buy * np.ones(len(macdhist)), 'k--', lw=1)\n",
    "    plt.xlabel('Days')\n",
    "    plt.xlim((0, len(y)))\n",
    "    plt.legend()\n",
    "    # plt.savefig('images/AAL_macd.png', bbox_inches='tight')\n",
    "    plt.show()\n",
    "    \n",
    "    # Generate input data - technical indicators\n",
    "    ind1 = talib.MIDPOINT(close)    # Overlap: MidPoint over period\n",
    "    ind2 = talib.HT_DCPERIOD(close) # Cycle Indicator Functions:  Hilbert Transform - Dominant Cycle Period\n",
    "    ind3 = talib.MAX(close)         # Math Operator: Highest value over a specified period\n",
    "    ind4 = talib.SIN(close)         # Math Transform: Vector Trigonometric Sin\n",
    "    ind5 = talib.APO(close)         # Momentum: Absolute Price Oscillator\n",
    "    ind6 = talib.TEMA(close, timeperiod=5) ## Triple Exponential Moving Average\n",
    "\n",
    "    x = np.vstack((macdhist, macd, macdsignal, ind1[-len(macdhist):], ind2[-len(macdhist):],\n",
    "                   ind3[-len(macdhist):], ind4[-len(macdhist):], ind5[-len(macdhist):],\n",
    "                   ind6[-len(macdhist):]))\n",
    "    x = x.T\n",
    "\n",
    "    return x, y"
   ]
  },
  {
   "cell_type": "code",
   "execution_count": 6,
   "metadata": {},
   "outputs": [
    {
     "data": {
      "image/png": "[encoded data removed]",
      "text/plain": [
       "<Figure size 432x288 with 1 Axes>"
      ]
     },
     "metadata": {
      "needs_background": "light"
     },
     "output_type": "display_data"
    }
   ],
   "source": [
    "# Implement MACD trading strategy\n",
    "X, y = prepare_dataset(close)"
   ]
  },
  {
   "cell_type": "code",
   "execution_count": 7,
   "metadata": {},
   "outputs": [
    {
     "data": {
      "text/plain": [
       "array([-9.36065813e-01, -1.86190450e-02,  9.17446768e-01,  1.16862141e+02,\n",
       "        1.72117648e+01,  1.20621674e+02,  9.58636229e-01, -9.56619996e-01,\n",
       "        1.14628867e+02])"
      ]
     },
     "execution_count": 7,
     "metadata": {},
     "output_type": "execute_result"
    }
   ],
   "source": [
    "X[0]"
   ]
  },
  {
   "cell_type": "code",
   "execution_count": 8,
   "metadata": {},
   "outputs": [],
   "source": [
    "# Split dataset\n",
    "n_train = int(X.shape[0] * 0.8)\n",
    "\n",
    "X_train, y_train = X[:n_train], y[:n_train]\n",
    "X_test, y_test = X[n_train:], y[n_train:]"
   ]
  },
  {
   "cell_type": "code",
   "execution_count": 9,
   "metadata": {},
   "outputs": [],
   "source": [
    "# Normalize data\n",
    "scaler = preprocessing.MinMaxScaler()\n",
    "\n",
    "X_train = scaler.fit_transform(X_train)\n",
    "X_test = scaler.transform(X_test)"
   ]
  },
  {
   "cell_type": "code",
   "execution_count": 10,
   "metadata": {},
   "outputs": [
    {
     "ename": "ValueError",
     "evalue": "y contains previously unseen labels: [-1.0]",
     "output_type": "error",
     "traceback": [
      "\u001b[1;31m---------------------------------------------------------------------------\u001b[0m",
      "\u001b[1;31mValueError\u001b[0m                                Traceback (most recent call last)",
      "\u001b[1;32m<ipython-input-10-9ea623cb811c>\u001b[0m in \u001b[0;36m<module>\u001b[1;34m\u001b[0m\n\u001b[0;32m      3\u001b[0m \u001b[1;33m\u001b[0m\u001b[0m\n\u001b[0;32m      4\u001b[0m \u001b[0my_train\u001b[0m \u001b[1;33m=\u001b[0m \u001b[0mle\u001b[0m\u001b[1;33m.\u001b[0m\u001b[0mfit_transform\u001b[0m\u001b[1;33m(\u001b[0m\u001b[0my_train\u001b[0m\u001b[1;33m)\u001b[0m\u001b[1;33m\u001b[0m\u001b[1;33m\u001b[0m\u001b[0m\n\u001b[1;32m----> 5\u001b[1;33m \u001b[0my_test\u001b[0m \u001b[1;33m=\u001b[0m \u001b[0mle\u001b[0m\u001b[1;33m.\u001b[0m\u001b[0mtransform\u001b[0m\u001b[1;33m(\u001b[0m\u001b[0my_test\u001b[0m\u001b[1;33m)\u001b[0m\u001b[1;33m\u001b[0m\u001b[1;33m\u001b[0m\u001b[0m\n\u001b[0m\u001b[0;32m      6\u001b[0m \u001b[1;33m\u001b[0m\u001b[0m\n\u001b[0;32m      7\u001b[0m \u001b[0mprint\u001b[0m\u001b[1;33m(\u001b[0m\u001b[0mle\u001b[0m\u001b[1;33m.\u001b[0m\u001b[0mclasses_\u001b[0m\u001b[1;33m)\u001b[0m\u001b[1;33m\u001b[0m\u001b[1;33m\u001b[0m\u001b[0m\n",
      "\u001b[1;32m~\\anaconda3\\lib\\site-packages\\sklearn\\preprocessing\\_label.py\u001b[0m in \u001b[0;36mtransform\u001b[1;34m(self, y)\u001b[0m\n\u001b[0;32m    271\u001b[0m             \u001b[1;32mreturn\u001b[0m \u001b[0mnp\u001b[0m\u001b[1;33m.\u001b[0m\u001b[0marray\u001b[0m\u001b[1;33m(\u001b[0m\u001b[1;33m[\u001b[0m\u001b[1;33m]\u001b[0m\u001b[1;33m)\u001b[0m\u001b[1;33m\u001b[0m\u001b[1;33m\u001b[0m\u001b[0m\n\u001b[0;32m    272\u001b[0m \u001b[1;33m\u001b[0m\u001b[0m\n\u001b[1;32m--> 273\u001b[1;33m         \u001b[0m_\u001b[0m\u001b[1;33m,\u001b[0m \u001b[0my\u001b[0m \u001b[1;33m=\u001b[0m \u001b[0m_encode\u001b[0m\u001b[1;33m(\u001b[0m\u001b[0my\u001b[0m\u001b[1;33m,\u001b[0m \u001b[0muniques\u001b[0m\u001b[1;33m=\u001b[0m\u001b[0mself\u001b[0m\u001b[1;33m.\u001b[0m\u001b[0mclasses_\u001b[0m\u001b[1;33m,\u001b[0m \u001b[0mencode\u001b[0m\u001b[1;33m=\u001b[0m\u001b[1;32mTrue\u001b[0m\u001b[1;33m)\u001b[0m\u001b[1;33m\u001b[0m\u001b[1;33m\u001b[0m\u001b[0m\n\u001b[0m\u001b[0;32m    274\u001b[0m         \u001b[1;32mreturn\u001b[0m \u001b[0my\u001b[0m\u001b[1;33m\u001b[0m\u001b[1;33m\u001b[0m\u001b[0m\n\u001b[0;32m    275\u001b[0m \u001b[1;33m\u001b[0m\u001b[0m\n",
      "\u001b[1;32m~\\anaconda3\\lib\\site-packages\\sklearn\\preprocessing\\_label.py\u001b[0m in \u001b[0;36m_encode\u001b[1;34m(values, uniques, encode, check_unknown)\u001b[0m\n\u001b[0;32m    116\u001b[0m     \u001b[1;32melse\u001b[0m\u001b[1;33m:\u001b[0m\u001b[1;33m\u001b[0m\u001b[1;33m\u001b[0m\u001b[0m\n\u001b[0;32m    117\u001b[0m         return _encode_numpy(values, uniques, encode,\n\u001b[1;32m--> 118\u001b[1;33m                              check_unknown=check_unknown)\n\u001b[0m\u001b[0;32m    119\u001b[0m \u001b[1;33m\u001b[0m\u001b[0m\n\u001b[0;32m    120\u001b[0m \u001b[1;33m\u001b[0m\u001b[0m\n",
      "\u001b[1;32m~\\anaconda3\\lib\\site-packages\\sklearn\\preprocessing\\_label.py\u001b[0m in \u001b[0;36m_encode_numpy\u001b[1;34m(values, uniques, encode, check_unknown)\u001b[0m\n\u001b[0;32m     48\u001b[0m             \u001b[1;32mif\u001b[0m \u001b[0mdiff\u001b[0m\u001b[1;33m:\u001b[0m\u001b[1;33m\u001b[0m\u001b[1;33m\u001b[0m\u001b[0m\n\u001b[0;32m     49\u001b[0m                 raise ValueError(\"y contains previously unseen labels: %s\"\n\u001b[1;32m---> 50\u001b[1;33m                                  % str(diff))\n\u001b[0m\u001b[0;32m     51\u001b[0m         \u001b[0mencoded\u001b[0m \u001b[1;33m=\u001b[0m \u001b[0mnp\u001b[0m\u001b[1;33m.\u001b[0m\u001b[0msearchsorted\u001b[0m\u001b[1;33m(\u001b[0m\u001b[0muniques\u001b[0m\u001b[1;33m,\u001b[0m \u001b[0mvalues\u001b[0m\u001b[1;33m)\u001b[0m\u001b[1;33m\u001b[0m\u001b[1;33m\u001b[0m\u001b[0m\n\u001b[0;32m     52\u001b[0m         \u001b[1;32mreturn\u001b[0m \u001b[0muniques\u001b[0m\u001b[1;33m,\u001b[0m \u001b[0mencoded\u001b[0m\u001b[1;33m\u001b[0m\u001b[1;33m\u001b[0m\u001b[0m\n",
      "\u001b[1;31mValueError\u001b[0m: y contains previously unseen labels: [-1.0]"
     ]
    }
   ],
   "source": [
    "# Encode trading signal with integers between 0 and n-1 classes\n",
    "le = preprocessing.LabelEncoder()\n",
    "\n",
    "y_train = le.fit_transform(y_train)\n",
    "y_test = le.transform(y_test)\n",
    "\n",
    "print(le.classes_)"
   ]
  },
  {
   "cell_type": "code",
   "execution_count": null,
   "metadata": {},
   "outputs": [],
   "source": [
    "## Create and train the Agent\n",
    "# Variable definiton\n",
    "episodes = 20\n",
    "look_back = 5\n",
    "batch_size = 32\n",
    "action_size = len(le.classes_)\n",
    "n_features = X_train.shape[1]"
   ]
  },
  {
   "cell_type": "code",
   "execution_count": null,
   "metadata": {},
   "outputs": [],
   "source": [
    "# Create Agent\n",
    "agent = Agent(look_back, action_size, n_features)"
   ]
  },
  {
   "cell_type": "code",
   "execution_count": null,
   "metadata": {},
   "outputs": [],
   "source": [
    "def run(agent, dataX, dataY, episodes, look_back):\n",
    "    \"\"\"\n",
    "    Function run to train the agent\n",
    "    \"\"\"\n",
    "    \n",
    "    # Length of dataset\n",
    "    times = len(dataX)\n",
    "\n",
    "    # List of total rewards\n",
    "    total_reward_list = []\n",
    "\n",
    "    for ep in range(episodes):\n",
    "\n",
    "        # print('Episode: ' + str(ep))\n",
    "        \n",
    "        # Initial state and position\n",
    "        state = dataX[:look_back, :][np.newaxis, :, :]\n",
    "        pos = dataY[look_back - 1]\n",
    "\n",
    "        done = False\n",
    "        total_reward = 0\n",
    "\n",
    "        for t in range(1, times - look_back + 1):\n",
    "\n",
    "            # Predict action based on the current state\n",
    "            action = agent.act(state)\n",
    "\n",
    "            # Calculate reward\n",
    "            if action == pos:   # 0:-1      1:0     2:1\n",
    "                reward = +1\n",
    "\n",
    "            elif (pos == 0 or pos == 2):\n",
    "                if action == 1:\n",
    "                    reward = 0\n",
    "                else:\n",
    "                    reward = -1\n",
    "            else:\n",
    "                reward = -1\n",
    "\n",
    "            total_reward += reward\n",
    "\n",
    "            # Final state\n",
    "            if t == times - look_back:\n",
    "                done = True\n",
    "\n",
    "            # Receive next state and position\n",
    "            next_state = dataX[t:t + look_back, :][np.newaxis, :, :]\n",
    "            next_pos = dataY[t + look_back - 1]\n",
    "            \n",
    "            # Remember current experience\n",
    "            agent.remember(state, action, reward, next_state, done)\n",
    "            \n",
    "            # Make next_state the new current state; the same for pos\n",
    "            state = next_state\n",
    "            pos = next_pos\n",
    "\n",
    "            if done:\n",
    "                print('Episode: %i ---> Total Reward: %i' %(ep, total_reward))\n",
    "                total_reward_list.append(total_reward)\n",
    "\n",
    "            # Train the agent with previous experiences\n",
    "            if len(agent.memory) > batch_size:\n",
    "                agent.replay(batch_size)\n",
    "\n",
    "        if (ep + 1) % 5 == 0 and ep > 0:\n",
    "            file = 'checkpoints/' + symbol + '_robot_checkpoint' + str(ep + 1)\n",
    "            # Serialize weights to HDF5\n",
    "            agent.model.save_weights(file + \".h5\")\n",
    "            # Save epsilon\n",
    "            pickle.dump(agent.epsilon, open(file + \"_epsilon.pickle\", \"wb\"))\n",
    "\n",
    "    # Save list of rewards along the epochs\n",
    "    np.savetxt(file + '_total_reward.txt', total_reward_list)\n",
    "\n",
    "    return\n"
   ]
  },
  {
   "cell_type": "code",
   "execution_count": null,
   "metadata": {},
   "outputs": [],
   "source": [
    "# Train Agent\n",
    "run(agent, X_train, y_train, episodes, look_back)"
   ]
  },
  {
   "cell_type": "code",
   "execution_count": null,
   "metadata": {},
   "outputs": [],
   "source": [
    "# Load rewards\n",
    "total_reward_list = np.loadtxt( 'checkpoints/'+ symbol + '_robot_checkpoint' + str(episodes) + '_total_reward.txt')\n",
    "# Plot\n",
    "plt.figure()\n",
    "plt.plot(np.arange(1, episodes+1), total_reward_list)\n",
    "plt.xlabel('Episodes')\n",
    "plt.ylabel('Total Reward')\n",
    "plt.show()"
   ]
  },
  {
   "cell_type": "code",
   "execution_count": null,
   "metadata": {},
   "outputs": [],
   "source": [
    "total_reward_list"
   ]
  },
  {
   "cell_type": "code",
   "execution_count": null,
   "metadata": {},
   "outputs": [],
   "source": [
    "def evaluate(agent, dataX, dataY, look_back):\n",
    "    \"\"\"\n",
    "    Function run to evaluate the trained agent\n",
    "    \"\"\"\n",
    "    \n",
    "    # Length of dataset\n",
    "    times = len(dataX)\n",
    "\n",
    "    # Initial state and position\n",
    "    state = dataX[:look_back, :][np.newaxis, :, :]\n",
    "    pos = dataY[look_back - 1]\n",
    "\n",
    "    # List of predicted positions\n",
    "    pos_list = []\n",
    "    \n",
    "    done = False\n",
    "    total_reward = 0\n",
    "    \n",
    "    for t in range(1, times - look_back + 1):\n",
    "\n",
    "        # Predict action based on the current state\n",
    "        action = agent.act(state)\n",
    "\n",
    "        # Calculate reward\n",
    "        if action == pos:   # 0:-1      1:0     2:1\n",
    "            reward = +1\n",
    "\n",
    "        elif (pos == 0 or pos == 2):\n",
    "            if action == 1:\n",
    "                reward = 0\n",
    "            else:\n",
    "                reward = -1\n",
    "        else:\n",
    "            reward = -1\n",
    "\n",
    "        pos_list.append(action)\n",
    "        total_reward += reward\n",
    "\n",
    "        # Final state\n",
    "        if t == times - look_back:\n",
    "            done = True\n",
    "\n",
    "        # Receive next state and position\n",
    "        next_state = dataX[t:t + look_back, :][np.newaxis, :, :]\n",
    "        next_pos = dataY[t + look_back - 1]\n",
    "\n",
    "        # Remember current experience\n",
    "        agent.remember(state, action, reward, next_state, done)\n",
    "\n",
    "        # Make next_state the new current state; the same for pos\n",
    "        state = next_state\n",
    "        pos = next_pos\n",
    "\n",
    "        if done:\n",
    "            print('Total Reward: %i' % total_reward)\n",
    "\n",
    "    return np.array(pos_list)"
   ]
  },
  {
   "cell_type": "code",
   "execution_count": null,
   "metadata": {},
   "outputs": [],
   "source": [
    "# Evaluate the model\n",
    "# Make predictions\n",
    "y_pred_test = evaluate(agent, X_test, y_test, look_back)\n",
    "\n",
    "# Calculate and print accuracy\n",
    "acc = accuracy_score(y_test[look_back-1:-1], y_pred_test)\n",
    "\n",
    "print('Accuracy: %.2f %%' % (acc*100))"
   ]
  },
  {
   "cell_type": "code",
   "execution_count": null,
   "metadata": {},
   "outputs": [],
   "source": [
    "# Calculate and print precision, recall, f1 score and support\n",
    "p, r, f1, s = precision_recall_fscore_support(y_test[look_back-1:-1], y_pred_test, average=None)\n",
    "results = pd.DataFrame({'1-Precision': p, '2-Recall': r, '3-F1 score': f1, '4-Support': s}, index=le.classes_)\n",
    "\n",
    "print(results.round(decimals=3))"
   ]
  },
  {
   "cell_type": "code",
   "execution_count": null,
   "metadata": {},
   "outputs": [],
   "source": [
    "# Decodificate labels\n",
    "y_true_test = le.inverse_transform(y_test[look_back-1:-1])\n",
    "y_pred_test = le.inverse_transform(y_pred_test)"
   ]
  },
  {
   "cell_type": "code",
   "execution_count": null,
   "metadata": {},
   "outputs": [],
   "source": [
    "# Plot strategy\n",
    "plt.figure()\n",
    "plt.plot(y_true_test, label='true')\n",
    "plt.plot(y_pred_test, label='pred')\n",
    "plt.legend()\n",
    "plt.show()"
   ]
  },
  {
   "cell_type": "code",
   "execution_count": null,
   "metadata": {},
   "outputs": [],
   "source": []
  }
 ],
 "metadata": {
  "kernelspec": {
   "display_name": "Python 3",
   "language": "python",
   "name": "python3"
  },
  "language_info": {
   "codemirror_mode": {
    "name": "ipython",
    "version": 3
   },
   "file_extension": ".py",
   "mimetype": "text/x-python",
   "name": "python",
   "nbconvert_exporter": "python",
   "pygments_lexer": "ipython3",
   "version": "3.7.6"
  }
 },
 "nbformat": 4,
 "nbformat_minor": 2
}
