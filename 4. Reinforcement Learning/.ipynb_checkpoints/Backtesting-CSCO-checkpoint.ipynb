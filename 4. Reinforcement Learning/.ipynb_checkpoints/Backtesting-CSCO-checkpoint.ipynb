{
 "cells": [
  {
   "cell_type": "code",
   "execution_count": 1,
   "metadata": {
    "scrolled": true
   },
   "outputs": [
    {
     "name": "stderr",
     "output_type": "stream",
     "text": [
      "C:\\Users\\Elid-PC.DESKTOP-MG9DS93\\anaconda3\\lib\\site-packages\\pandas_datareader\\compat\\__init__.py:7: FutureWarning: pandas.util.testing is deprecated. Use the functions in the public API at pandas.testing instead.\n",
      "  from pandas.util.testing import assert_frame_equal\n"
     ]
    },
    {
     "data": {
      "application/javascript": [
       "\n",
       "console.log('Starting front end url_querystring_target comm target');\n",
       "const comm = Jupyter.notebook.kernel.comm_manager.new_comm('url_querystring_target', {'init': 1});\n",
       "comm.send({'ipyparams_browser_url': window.location.href});\n",
       "console.log('Sent window.location.href on url_querystring_target comm target');\n",
       "\n",
       "comm.on_msg(function(msg) {\n",
       "    console.log(msg.content.data);\n",
       "});\n"
      ],
      "text/plain": [
       "<IPython.core.display.Javascript object>"
      ]
     },
     "metadata": {},
     "output_type": "display_data"
    },
    {
     "name": "stderr",
     "output_type": "stream",
     "text": [
      "Using TensorFlow backend.\n"
     ]
    }
   ],
   "source": [
    "# Import libraries\n",
    "import pandas as pd\n",
    "from pandas_datareader import data as pdr\n",
    "\n",
    "import numpy as np\n",
    "import matplotlib.pyplot as plt\n",
    "import pickle\n",
    "\n",
    "from sklearn import preprocessing\n",
    "from sklearn.metrics import accuracy_score\n",
    "from sklearn.metrics import precision_recall_fscore_support\n",
    "\n",
    "import talib, re, ipyparams\n",
    "\n",
    "from Agent import Agent"
   ]
  },
  {
   "cell_type": "code",
   "execution_count": 2,
   "metadata": {},
   "outputs": [
    {
     "data": {
      "text/plain": [
       "503"
      ]
     },
     "execution_count": 2,
     "metadata": {},
     "output_type": "execute_result"
    }
   ],
   "source": [
    "end_date = '2020-04-19'\n",
    "start_date = '2018-04-20'\n",
    "\n",
    "symbol = 'CSCO'\n",
    "Date = pd.DataFrame(pdr.DataReader(symbol,'yahoo', start_date, end_date))\n",
    "\n",
    "alldata = pd.DataFrame({'Date': Date.index})\n",
    "alldata[symbol] = pdr.DataReader(symbol, 'yahoo', start_date, end_date)['Adj Close'].values\n",
    "# Stock symbol\n",
    "\n",
    "# Load close prices of to NumPy array\n",
    "close = alldata[symbol].values\n",
    "len(close)"
   ]
  },
  {
   "cell_type": "code",
   "execution_count": 3,
   "metadata": {},
   "outputs": [
    {
     "data": {
      "text/plain": [
       "array([42.00180817, 41.55878448, 41.70959473, 41.22887802, 41.20059586,\n",
       "       41.67189407, 42.14318848, 41.74730301, 42.25630188, 41.34198761,\n",
       "       41.88868713, 42.69931793, 43.1046257 , 43.08577728, 43.39683533,\n",
       "       43.64191055, 43.29315567, 43.07634735, 42.86898422, 42.56735229,\n",
       "       40.96495056, 40.72930527, 41.23830032, 41.14404678, 41.17232132,\n",
       "       41.06863403, 40.77643204, 40.50307846, 40.38997269, 40.25800323,\n",
       "       41.15346909, 41.07806396, 41.16289139, 41.71902084, 41.14404678,\n",
       "       40.98379898, 41.18174362, 41.41739655, 41.48337555, 42.12433624,\n",
       "       41.70959473, 41.67189407, 41.30428314, 41.22887802, 40.68217468,\n",
       "       40.71987915, 39.86212158, 40.10719299, 39.89982986, 40.4747963 ,\n",
       "       40.55963516, 40.35227203, 40.2203064 , 40.42929459, 40.57177353,\n",
       "       40.53378296, 40.71427155, 40.438797  , 41.39822769, 39.68833923,\n",
       "       40.37229919, 40.2203064 , 40.0968132 , 40.27730179, 39.90682602,\n",
       "       39.954319  , 40.26780319, 40.99925232, 41.35072708, 40.438797  ,\n",
       "       40.05881119, 40.17281342, 39.76433945, 40.40079117, 40.68577576,\n",
       "       41.13224411, 41.39822769, 41.64521408, 41.58821487, 41.58821487,\n",
       "       41.55971909, 41.79719925, 41.66421127, 42.89912796, 43.5735817 ,\n",
       "       43.90605927, 43.48808289, 43.68756866, 43.7160759 , 44.00105286,\n",
       "       44.25753784, 44.59951401, 45.10297775, 44.78950119, 45.37846375,\n",
       "       45.34045792, 44.90349197, 44.91298676, 44.6945076 , 44.71350861,\n",
       "       44.67550659, 44.5425148 , 44.875     , 45.02698517, 44.75150299,\n",
       "       45.08398438, 44.91298676, 45.34045792, 46.12891006, 46.01491547,\n",
       "       46.04341507, 45.98642349, 45.91042709, 46.21440887, 46.42338943,\n",
       "       46.55637741, 46.67987442, 46.26863861, 46.02954865, 45.44616699,\n",
       "       45.41748047, 43.63864899, 42.19454956, 43.71516418, 42.72054672,\n",
       "       43.82036209, 43.93512344, 43.47606659, 43.36131287, 43.7629776 ,\n",
       "       43.43781662, 42.14673233, 43.48563766, 42.31887817, 41.92677689,\n",
       "       42.63448334, 43.75341797, 43.65777969, 43.4951973 , 44.12639999,\n",
       "       44.47068787, 45.80958939, 46.3260231 , 45.0540657 , 43.62908936,\n",
       "       43.15090942, 42.39538956, 44.72890472, 44.32722855, 43.75341797,\n",
       "       42.54840469, 42.93095016, 42.59622192, 43.58127213, 44.10726547,\n",
       "       45.22620773, 45.27402496, 45.78089142, 46.61292648, 45.28358459,\n",
       "       46.27820587, 44.41329956, 44.81497574, 45.034935  , 45.35053253,\n",
       "       45.39835358, 43.82036209, 42.27106094, 42.13717651, 41.25732422,\n",
       "       40.63568878, 40.02360916, 38.52213287, 40.61655807, 41.03736115,\n",
       "       40.9034729 , 41.43902588, 41.07561111, 39.58177948, 41.36473846,\n",
       "       41.64422607, 41.98154831, 41.75024414, 41.67314911, 41.91408539,\n",
       "       41.64422607, 42.42488098, 42.36705017, 42.60799408, 43.39827728,\n",
       "       43.15733719, 43.81269455, 43.95726776, 44.4584198 , 44.0921936 ,\n",
       "       44.29458237, 45.01740265, 45.57638931, 45.62457657, 45.63420868,\n",
       "       45.54747391, 45.75950623, 45.00777054, 45.48000717, 45.85588074,\n",
       "       46.15464783, 45.77878189, 46.64616394, 47.63884354, 47.85087204,\n",
       "       47.83159637, 47.61956787, 48.29420471, 48.94956207, 49.32542801,\n",
       "       49.72056961, 49.8940506 , 49.54709625, 49.30615616, 49.44107819,\n",
       "       49.79766846, 49.43144226, 49.21941376, 50.03861237, 50.26028061,\n",
       "       50.68433762, 50.82889938, 51.27223587, 51.57099915, 51.37824631,\n",
       "       51.33005142, 51.98541641, 50.82889938, 50.81926346, 51.30114365,\n",
       "       51.21440887, 51.42643356, 52.03360748, 52.98772812, 53.28649902,\n",
       "       53.6141777 , 53.47839737, 53.54628754, 53.81784821, 53.51718903,\n",
       "       54.13790512, 53.92453003, 54.59374237, 54.85560608, 55.23385239,\n",
       "       54.61314011, 54.70042801, 54.6422348 , 54.98168945, 55.1659584 ,\n",
       "       54.63253403, 54.19609833, 54.43856049, 54.26398849, 53.90513611,\n",
       "       53.28442383, 53.28442383, 52.94497299, 51.83932495, 51.85871887,\n",
       "       51.32529068, 51.75203705, 49.75410843, 50.45241547, 50.85975647,\n",
       "       54.24459076, 54.65192795, 54.32217789, 54.81681061, 54.01182556,\n",
       "       52.55702209, 52.73160172, 52.30485916, 51.57745743, 51.95570374,\n",
       "       50.46211243, 50.21964264, 51.62595367, 53.10014725, 53.43959808,\n",
       "       54.24459076, 54.71981812, 55.38903046, 54.17670059, 54.47735596,\n",
       "       53.10014725, 53.73056412, 54.36097336, 54.43856049, 55.67999268,\n",
       "       55.31144333, 55.45692062, 54.39007187, 54.89439774, 54.05061722,\n",
       "       53.08075333, 53.09045029, 54.12820816, 55.12371063, 55.24082947,\n",
       "       54.84067535, 54.98707581, 55.75810623, 55.92402267, 56.55841446,\n",
       "       56.65601349, 56.23633575, 55.83618164, 56.3534584 , 55.98258591,\n",
       "       56.34369659, 56.32417679, 55.85570145, 55.26035309, 55.17251205,\n",
       "       55.56290817, 55.11395264, 54.06964874, 54.05989075, 51.97127914,\n",
       "       50.1364212 , 51.33688354, 51.08312988, 51.88343811, 51.17097092,\n",
       "       50.30234146, 51.45400238, 49.39467621, 45.13937378, 45.83232498,\n",
       "       47.33534241, 46.77902985, 47.59885788, 47.02302933, 45.49072647,\n",
       "       45.96895981, 45.66640854, 45.74448395, 46.13488007, 45.68592453,\n",
       "       45.38336563, 46.18367386, 47.25726318, 47.66717529, 47.41342163,\n",
       "       48.02829361, 48.82860184, 48.73100281, 48.82860184, 48.76028061,\n",
       "       48.22349167, 48.15517044, 48.00876999, 48.4089241 , 48.23324585,\n",
       "       47.94045258, 48.41868591, 47.6574173 , 47.66717529, 48.22349167,\n",
       "       46.59359741, 45.44192886, 46.2777977 , 46.73015213, 46.97599792,\n",
       "       45.61893463, 46.06145477, 45.38292694, 45.78610992, 45.28458405,\n",
       "       45.58943176, 46.01228714, 46.24829865, 45.93361664, 46.602314  ,\n",
       "       46.759655  , 46.26796341, 45.63860321, 46.1204567 , 46.38597107,\n",
       "       46.45480728, 46.76948929, 46.72031784, 46.24829865, 46.69081879,\n",
       "       46.96616364, 47.4676857 , 47.61519241, 48.01837921, 47.30051422,\n",
       "       47.56602478, 47.65452957, 44.16353226, 44.34054184, 44.39954758,\n",
       "       44.71422958, 44.33071136, 44.09469604, 44.10453033, 44.69455719,\n",
       "       44.55688858, 44.48805237, 44.55688858, 43.95702744, 43.54400635,\n",
       "       43.16048813, 42.7966423 , 43.1113205 , 43.17032623, 43.36699677,\n",
       "       43.54400635, 44.91090012, 44.54705048, 45.21574783, 45.66810226,\n",
       "       45.86478043, 47.0841713 , 46.66131592, 47.30051422, 46.98583221,\n",
       "       47.05466843, 46.97599792, 46.79898834, 47.1628418 , 47.96522903,\n",
       "       47.18265152, 47.35105515, 47.0439682 , 47.07368469, 46.87556458,\n",
       "       46.68735123, 47.51945877, 47.34115219, 47.55908203, 48.58931351,\n",
       "       48.55959702, 48.34166336, 48.60912704, 48.53978348, 48.39119339,\n",
       "       47.02415466, 47.32133865, 46.60809708, 46.79631805, 45.53824615,\n",
       "       46.09298325, 47.17274475, 47.99495316, 48.23269653, 47.51945877,\n",
       "       48.41100311, 48.66856384, 49.46105194, 46.87556458, 46.52885056,\n",
       "       46.15242004, 45.85523987, 46.40997696, 45.86514282, 43.58674622,\n",
       "       42.33858109, 41.76402664, 39.66394043, 39.5549736 , 40.7833252 ,\n",
       "       39.66394043, 41.00125885, 39.19835281, 39.30731964, 37.60347366,\n",
       "       39.70356369, 36.70201874, 32.88817978, 37.28647995, 33.39339066,\n",
       "       35.1665802 , 36.7713623 , 37.3558197 , 35.26563644, 34.27503204,\n",
       "       38.23746109, 37.31619644, 40.1988678 , 38.45539856, 39.94130707,\n",
       "       38.9407959 , 37.97000122, 39.79999924, 39.06000137, 41.43000031,\n",
       "       40.63999939, 41.74000168, 41.20000076, 41.22000122, 42.77999878,\n",
       "       41.52000046, 41.5       , 42.47999954])"
      ]
     },
     "execution_count": 3,
     "metadata": {},
     "output_type": "execute_result"
    }
   ],
   "source": [
    "close"
   ]
  },
  {
   "cell_type": "code",
   "execution_count": 4,
   "metadata": {},
   "outputs": [
    {
     "data": {
      "text/html": [
       "<div>\n",
       "<style scoped>\n",
       "    .dataframe tbody tr th:only-of-type {\n",
       "        vertical-align: middle;\n",
       "    }\n",
       "\n",
       "    .dataframe tbody tr th {\n",
       "        vertical-align: top;\n",
       "    }\n",
       "\n",
       "    .dataframe thead th {\n",
       "        text-align: right;\n",
       "    }\n",
       "</style>\n",
       "<table border=\"1\" class=\"dataframe\">\n",
       "  <thead>\n",
       "    <tr style=\"text-align: right;\">\n",
       "      <th></th>\n",
       "      <th>macd</th>\n",
       "      <th>macdsignal</th>\n",
       "      <th>macdhist</th>\n",
       "    </tr>\n",
       "  </thead>\n",
       "  <tbody>\n",
       "    <tr>\n",
       "      <th>0</th>\n",
       "      <td>-0.647923</td>\n",
       "      <td>-0.243812</td>\n",
       "      <td>-0.404111</td>\n",
       "    </tr>\n",
       "    <tr>\n",
       "      <th>1</th>\n",
       "      <td>-0.708779</td>\n",
       "      <td>-0.336805</td>\n",
       "      <td>-0.371974</td>\n",
       "    </tr>\n",
       "    <tr>\n",
       "      <th>2</th>\n",
       "      <td>-0.754406</td>\n",
       "      <td>-0.420326</td>\n",
       "      <td>-0.334080</td>\n",
       "    </tr>\n",
       "    <tr>\n",
       "      <th>3</th>\n",
       "      <td>-0.544771</td>\n",
       "      <td>-0.445215</td>\n",
       "      <td>-0.099557</td>\n",
       "    </tr>\n",
       "    <tr>\n",
       "      <th>4</th>\n",
       "      <td>-0.418984</td>\n",
       "      <td>-0.439969</td>\n",
       "      <td>0.020984</td>\n",
       "    </tr>\n",
       "  </tbody>\n",
       "</table>\n",
       "</div>"
      ],
      "text/plain": [
       "       macd  macdsignal  macdhist\n",
       "0 -0.647923   -0.243812 -0.404111\n",
       "1 -0.708779   -0.336805 -0.371974\n",
       "2 -0.754406   -0.420326 -0.334080\n",
       "3 -0.544771   -0.445215 -0.099557\n",
       "4 -0.418984   -0.439969  0.020984"
      ]
     },
     "execution_count": 4,
     "metadata": {},
     "output_type": "execute_result"
    }
   ],
   "source": [
    "macd, macdsignal, macdhist = talib.MACD(close, fastperiod=5, slowperiod=20, signalperiod=9)\n",
    "macdhist = macdhist[~np.isnan(macdhist)]\n",
    "macd = macd[-len(macdhist):]\n",
    "macdsignal = macdsignal[-len(macdhist):]\n",
    "\n",
    "\n",
    "pd.DataFrame({'macd': macd, 'macdsignal': macdsignal, 'macdhist': macdhist}).head()"
   ]
  },
  {
   "cell_type": "code",
   "execution_count": 5,
   "metadata": {},
   "outputs": [],
   "source": [
    "def prepare_dataset(close):\n",
    "    \"\"\"\n",
    "    Function prepare_dataset to generate input data and trading strategy from stock close prices\n",
    "    \"\"\"\n",
    "\n",
    "    macd, macdsignal, macdhist = talib.MACD(close, fastperiod=12, slowperiod=26, signalperiod=9)\n",
    "\n",
    "    # Cancel NaN values\n",
    "    macdhist = macdhist[~np.isnan(macdhist)]\n",
    "    macd = macd[-len(macdhist):]\n",
    "    macdsignal = macdsignal[-len(macdhist):]\n",
    "\n",
    "    # Scaling features to a range [0, 1]\n",
    "    min_max_scaler = preprocessing.MinMaxScaler(feature_range=(-1, 1))\n",
    "    macdhist_norm = min_max_scaler.fit_transform(np.expand_dims(macdhist, axis=1))\n",
    "\n",
    "    # Implement strategy\n",
    "    start_sell = 0.4\n",
    "    stop_sell = 0.1\n",
    "    start_buy = -0.4\n",
    "    stop_buy = -0.1\n",
    "\n",
    "    y = np.full(len(macdhist), np.nan)\n",
    "    y[0] = 0\n",
    "\n",
    "    for i in range(1, len(macdhist)):\n",
    "\n",
    "        if y[i-1] == 0:\n",
    "            if (macdhist_norm[i] >= start_sell):\n",
    "                # Enter sell position\n",
    "                y[i] = -1\n",
    "            elif (macdhist_norm[i] <= start_buy):\n",
    "                # Enter buy position\n",
    "                y[i] = 1\n",
    "            else:\n",
    "                y[i] = 0\n",
    "        elif y[i-1] == -1:\n",
    "            if macdhist_norm[i] > stop_sell:\n",
    "                # Stay in sell position\n",
    "                y[i] = -1\n",
    "            else:\n",
    "                # Leave sell position\n",
    "                y[i] = 0\n",
    "        else:\n",
    "            if macdhist_norm[i] < stop_buy:\n",
    "                # Stay in buy position\n",
    "                y[i] = 1\n",
    "            else:\n",
    "                # Leave buy position\n",
    "                y[i] = 0\n",
    "\n",
    "    # Plot strategy\n",
    "    dates = np.arange(len(macdhist))\n",
    "    plt.plot(dates, y,'g', label='Strategy Positions')\n",
    "    plt.bar(dates, macdhist_norm[:, 0], width=1, color='blue', label='MACD histogram')\n",
    "    plt.plot(dates, start_sell * np.ones(len(macdhist)), 'k--', lw=1)\n",
    "    plt.plot(dates, stop_sell * np.ones(len(macdhist)), 'k--', lw=1)\n",
    "    plt.plot(dates, start_buy * np.ones(len(macdhist)), 'k--', lw=1)\n",
    "    plt.plot(dates, stop_buy * np.ones(len(macdhist)), 'k--', lw=1)\n",
    "    plt.xlabel('Days')\n",
    "    plt.xlim((0, len(y)))\n",
    "    plt.legend()\n",
    "    # plt.savefig('images/AAL_macd.png', bbox_inches='tight')\n",
    "    plt.show()\n",
    "    \n",
    "    # Generate input data - technical indicators\n",
    "    ind1 = talib.MIDPOINT(close)    # Overlap: MidPoint over period\n",
    "    ind2 = talib.HT_DCPERIOD(close) # Cycle Indicator Functions:  Hilbert Transform - Dominant Cycle Period\n",
    "    ind3 = talib.MAX(close)         # Math Operator: Highest value over a specified period\n",
    "    ind4 = talib.SIN(close)         # Math Transform: Vector Trigonometric Sin\n",
    "    ind5 = talib.APO(close)         # Momentum: Absolute Price Oscillator\n",
    "    ind6 = talib.TEMA(close, timeperiod=5) ## Triple Exponential Moving Average\n",
    "\n",
    "    x = np.vstack((macdhist, macd, macdsignal, ind1[-len(macdhist):], ind2[-len(macdhist):],\n",
    "                   ind3[-len(macdhist):], ind4[-len(macdhist):], ind5[-len(macdhist):],\n",
    "                   ind6[-len(macdhist):]))\n",
    "    x = x.T\n",
    "\n",
    "    return x, y"
   ]
  },
  {
   "cell_type": "code",
   "execution_count": 6,
   "metadata": {},
   "outputs": [
    {
     "data": {
      "image/png": "[encoded data removed]",
      "text/plain": [
       "<Figure size 432x288 with 1 Axes>"
      ]
     },
     "metadata": {
      "needs_background": "light"
     },
     "output_type": "display_data"
    }
   ],
   "source": [
    "# Implement MACD trading strategy\n",
    "X, y = prepare_dataset(close)"
   ]
  },
  {
   "cell_type": "code",
   "execution_count": 7,
   "metadata": {},
   "outputs": [
    {
     "data": {
      "text/plain": [
       "array([-2.38384249e-02, -2.26323968e-01, -2.02485543e-01,  4.09885120e+01,\n",
       "        1.71248446e+01,  4.36419106e+01, -7.69665045e-01, -8.19510215e-01,\n",
       "        4.16336454e+01])"
      ]
     },
     "execution_count": 7,
     "metadata": {},
     "output_type": "execute_result"
    }
   ],
   "source": [
    "X[0]"
   ]
  },
  {
   "cell_type": "code",
   "execution_count": 8,
   "metadata": {},
   "outputs": [],
   "source": [
    "# Split dataset\n",
    "n_train = int(X.shape[0] * 0.8)\n",
    "\n",
    "X_train, y_train = X[:n_train], y[:n_train]\n",
    "X_test, y_test = X[n_train:], y[n_train:]"
   ]
  },
  {
   "cell_type": "code",
   "execution_count": 9,
   "metadata": {},
   "outputs": [],
   "source": [
    "# Normalize data\n",
    "scaler = preprocessing.MinMaxScaler()\n",
    "\n",
    "X_train = scaler.fit_transform(X_train)\n",
    "X_test = scaler.transform(X_test)"
   ]
  },
  {
   "cell_type": "code",
   "execution_count": 10,
   "metadata": {},
   "outputs": [
    {
     "name": "stdout",
     "output_type": "stream",
     "text": [
      "[-1.  0.  1.]\n"
     ]
    }
   ],
   "source": [
    "# Encode trading signal with integers between 0 and n-1 classes\n",
    "le = preprocessing.LabelEncoder()\n",
    "\n",
    "y_train = le.fit_transform(y_train)\n",
    "y_test = le.transform(y_test)\n",
    "\n",
    "print(le.classes_)"
   ]
  },
  {
   "cell_type": "code",
   "execution_count": 11,
   "metadata": {},
   "outputs": [],
   "source": [
    "## Create and train the Agent\n",
    "# Variable definiton\n",
    "episodes = 20\n",
    "look_back = 5\n",
    "batch_size = 32\n",
    "action_size = len(le.classes_)\n",
    "n_features = X_train.shape[1]"
   ]
  },
  {
   "cell_type": "code",
   "execution_count": 12,
   "metadata": {},
   "outputs": [],
   "source": [
    "# Create Agent\n",
    "agent = Agent(look_back, action_size, n_features)"
   ]
  },
  {
   "cell_type": "code",
   "execution_count": 13,
   "metadata": {},
   "outputs": [],
   "source": [
    "def run(agent, dataX, dataY, episodes, look_back):\n",
    "    \"\"\"\n",
    "    Function run to train the agent\n",
    "    \"\"\"\n",
    "    \n",
    "    # Length of dataset\n",
    "    times = len(dataX)\n",
    "\n",
    "    # List of total rewards\n",
    "    total_reward_list = []\n",
    "\n",
    "    for ep in range(episodes):\n",
    "\n",
    "        # print('Episode: ' + str(ep))\n",
    "        \n",
    "        # Initial state and position\n",
    "        state = dataX[:look_back, :][np.newaxis, :, :]\n",
    "        pos = dataY[look_back - 1]\n",
    "\n",
    "        done = False\n",
    "        total_reward = 0\n",
    "\n",
    "        for t in range(1, times - look_back + 1):\n",
    "\n",
    "            # Predict action based on the current state\n",
    "            action = agent.act(state)\n",
    "\n",
    "            # Calculate reward\n",
    "            if action == pos:   # 0:-1      1:0     2:1\n",
    "                reward = +1\n",
    "\n",
    "            elif (pos == 0 or pos == 2):\n",
    "                if action == 1:\n",
    "                    reward = 0\n",
    "                else:\n",
    "                    reward = -1\n",
    "            else:\n",
    "                reward = -1\n",
    "\n",
    "            total_reward += reward\n",
    "\n",
    "            # Final state\n",
    "            if t == times - look_back:\n",
    "                done = True\n",
    "\n",
    "            # Receive next state and position\n",
    "            next_state = dataX[t:t + look_back, :][np.newaxis, :, :]\n",
    "            next_pos = dataY[t + look_back - 1]\n",
    "            \n",
    "            # Remember current experience\n",
    "            agent.remember(state, action, reward, next_state, done)\n",
    "            \n",
    "            # Make next_state the new current state; the same for pos\n",
    "            state = next_state\n",
    "            pos = next_pos\n",
    "\n",
    "            if done:\n",
    "                print('Episode: %i ---> Total Reward: %i' %(ep, total_reward))\n",
    "                total_reward_list.append(total_reward)\n",
    "\n",
    "            # Train the agent with previous experiences\n",
    "            if len(agent.memory) > batch_size:\n",
    "                agent.replay(batch_size)\n",
    "\n",
    "        if (ep + 1) % 5 == 0 and ep > 0:\n",
    "            file = 'checkpoints/' + symbol + '_robot_checkpoint' + str(ep + 1)\n",
    "            # Serialize weights to HDF5\n",
    "            agent.model.save_weights(file + \".h5\")\n",
    "            # Save epsilon\n",
    "            pickle.dump(agent.epsilon, open(file + \"_epsilon.pickle\", \"wb\"))\n",
    "\n",
    "    # Save list of rewards along the epochs\n",
    "    np.savetxt(file + '_total_reward.txt', total_reward_list)\n",
    "\n",
    "    return\n"
   ]
  },
  {
   "cell_type": "code",
   "execution_count": null,
   "metadata": {},
   "outputs": [],
   "source": [
    "# Train Agent\n",
    "run(agent, X_train, y_train, episodes, look_back)"
   ]
  },
  {
   "cell_type": "code",
   "execution_count": null,
   "metadata": {},
   "outputs": [],
   "source": [
    "# Load rewards\n",
    "total_reward_list = np.loadtxt( 'checkpoints/'+ symbol + '_robot_checkpoint' + str(episodes) + '_total_reward.txt')\n",
    "# Plot\n",
    "plt.figure()\n",
    "plt.plot(np.arange(1, episodes+1), total_reward_list)\n",
    "plt.xlabel('Episodes')\n",
    "plt.ylabel('Total Reward')\n",
    "plt.show()"
   ]
  },
  {
   "cell_type": "code",
   "execution_count": null,
   "metadata": {},
   "outputs": [],
   "source": [
    "total_reward_list"
   ]
  },
  {
   "cell_type": "code",
   "execution_count": null,
   "metadata": {},
   "outputs": [],
   "source": [
    "def evaluate(agent, dataX, dataY, look_back):\n",
    "    \"\"\"\n",
    "    Function run to evaluate the trained agent\n",
    "    \"\"\"\n",
    "    \n",
    "    # Length of dataset\n",
    "    times = len(dataX)\n",
    "\n",
    "    # Initial state and position\n",
    "    state = dataX[:look_back, :][np.newaxis, :, :]\n",
    "    pos = dataY[look_back - 1]\n",
    "\n",
    "    # List of predicted positions\n",
    "    pos_list = []\n",
    "    \n",
    "    done = False\n",
    "    total_reward = 0\n",
    "    \n",
    "    for t in range(1, times - look_back + 1):\n",
    "\n",
    "        # Predict action based on the current state\n",
    "        action = agent.act(state)\n",
    "\n",
    "        # Calculate reward\n",
    "        if action == pos:   # 0:-1      1:0     2:1\n",
    "            reward = +1\n",
    "\n",
    "        elif (pos == 0 or pos == 2):\n",
    "            if action == 1:\n",
    "                reward = 0\n",
    "            else:\n",
    "                reward = -1\n",
    "        else:\n",
    "            reward = -1\n",
    "\n",
    "        pos_list.append(action)\n",
    "        total_reward += reward\n",
    "\n",
    "        # Final state\n",
    "        if t == times - look_back:\n",
    "            done = True\n",
    "\n",
    "        # Receive next state and position\n",
    "        next_state = dataX[t:t + look_back, :][np.newaxis, :, :]\n",
    "        next_pos = dataY[t + look_back - 1]\n",
    "\n",
    "        # Remember current experience\n",
    "        agent.remember(state, action, reward, next_state, done)\n",
    "\n",
    "        # Make next_state the new current state; the same for pos\n",
    "        state = next_state\n",
    "        pos = next_pos\n",
    "\n",
    "        if done:\n",
    "            print('Total Reward: %i' % total_reward)\n",
    "\n",
    "    return np.array(pos_list)"
   ]
  },
  {
   "cell_type": "code",
   "execution_count": null,
   "metadata": {},
   "outputs": [],
   "source": [
    "# Evaluate the model\n",
    "# Make predictions\n",
    "y_pred_test = evaluate(agent, X_test, y_test, look_back)\n",
    "\n",
    "# Calculate and print accuracy\n",
    "acc = accuracy_score(y_test[look_back-1:-1], y_pred_test)\n",
    "\n",
    "print('Accuracy: %.2f %%' % (acc*100))"
   ]
  },
  {
   "cell_type": "code",
   "execution_count": null,
   "metadata": {},
   "outputs": [],
   "source": [
    "# Calculate and print precision, recall, f1 score and support\n",
    "p, r, f1, s = precision_recall_fscore_support(y_test[look_back-1:-1], y_pred_test, average=None)\n",
    "results = pd.DataFrame({'1-Precision': p, '2-Recall': r, '3-F1 score': f1, '4-Support': s}, index=le.classes_)\n",
    "\n",
    "print(results.round(decimals=3))"
   ]
  },
  {
   "cell_type": "code",
   "execution_count": null,
   "metadata": {},
   "outputs": [],
   "source": [
    "# Decodificate labels\n",
    "y_true_test = le.inverse_transform(y_test[look_back-1:-1])\n",
    "y_pred_test = le.inverse_transform(y_pred_test)"
   ]
  },
  {
   "cell_type": "code",
   "execution_count": null,
   "metadata": {},
   "outputs": [],
   "source": [
    "# Plot strategy\n",
    "plt.figure()\n",
    "plt.plot(y_true_test, label='true')\n",
    "plt.plot(y_pred_test, label='pred')\n",
    "plt.legend()\n",
    "plt.show()"
   ]
  },
  {
   "cell_type": "code",
   "execution_count": null,
   "metadata": {},
   "outputs": [],
   "source": []
  }
 ],
 "metadata": {
  "kernelspec": {
   "display_name": "Python 3",
   "language": "python",
   "name": "python3"
  },
  "language_info": {
   "codemirror_mode": {
    "name": "ipython",
    "version": 3
   },
   "file_extension": ".py",
   "mimetype": "text/x-python",
   "name": "python",
   "nbconvert_exporter": "python",
   "pygments_lexer": "ipython3",
   "version": "3.7.6"
  }
 },
 "nbformat": 4,
 "nbformat_minor": 2
}
