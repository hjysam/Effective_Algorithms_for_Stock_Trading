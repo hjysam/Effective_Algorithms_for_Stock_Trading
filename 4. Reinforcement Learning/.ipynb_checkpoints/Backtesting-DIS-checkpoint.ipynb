{
 "cells": [
  {
   "cell_type": "code",
   "execution_count": 1,
   "metadata": {
    "scrolled": true
   },
   "outputs": [
    {
     "name": "stderr",
     "output_type": "stream",
     "text": [
      "C:\\Users\\Elid-PC.DESKTOP-MG9DS93\\anaconda3\\lib\\site-packages\\pandas_datareader\\compat\\__init__.py:7: FutureWarning: pandas.util.testing is deprecated. Use the functions in the public API at pandas.testing instead.\n",
      "  from pandas.util.testing import assert_frame_equal\n"
     ]
    },
    {
     "data": {
      "application/javascript": [
       "\n",
       "console.log('Starting front end url_querystring_target comm target');\n",
       "const comm = Jupyter.notebook.kernel.comm_manager.new_comm('url_querystring_target', {'init': 1});\n",
       "comm.send({'ipyparams_browser_url': window.location.href});\n",
       "console.log('Sent window.location.href on url_querystring_target comm target');\n",
       "\n",
       "comm.on_msg(function(msg) {\n",
       "    console.log(msg.content.data);\n",
       "});\n"
      ],
      "text/plain": [
       "<IPython.core.display.Javascript object>"
      ]
     },
     "metadata": {},
     "output_type": "display_data"
    },
    {
     "name": "stderr",
     "output_type": "stream",
     "text": [
      "Using TensorFlow backend.\n"
     ]
    }
   ],
   "source": [
    "# Import libraries\n",
    "import pandas as pd\n",
    "from pandas_datareader import data as pdr\n",
    "\n",
    "import numpy as np\n",
    "import matplotlib.pyplot as plt\n",
    "import pickle\n",
    "\n",
    "from sklearn import preprocessing\n",
    "from sklearn.metrics import accuracy_score\n",
    "from sklearn.metrics import precision_recall_fscore_support\n",
    "\n",
    "import talib, re, ipyparams\n",
    "\n",
    "from Agent import Agent"
   ]
  },
  {
   "cell_type": "code",
   "execution_count": 2,
   "metadata": {},
   "outputs": [
    {
     "data": {
      "text/plain": [
       "503"
      ]
     },
     "execution_count": 2,
     "metadata": {},
     "output_type": "execute_result"
    }
   ],
   "source": [
    "end_date = '2020-04-19'\n",
    "start_date = '2018-04-20'\n",
    "\n",
    "symbol = 'DIS'\n",
    "Date = pd.DataFrame(pdr.DataReader(symbol,'yahoo', start_date, end_date))\n",
    "\n",
    "alldata = pd.DataFrame({'Date': Date.index})\n",
    "alldata[symbol] = pdr.DataReader(symbol, 'yahoo', start_date, end_date)['Adj Close'].values\n",
    "# Stock symbol\n",
    "\n",
    "# Load close prices of to NumPy array\n",
    "close = alldata[symbol].values\n",
    "len(close)"
   ]
  },
  {
   "cell_type": "code",
   "execution_count": 3,
   "metadata": {},
   "outputs": [
    {
     "data": {
      "text/plain": [
       "array([ 98.1160202 ,  97.48389435,  97.39636993,  96.7253418 ,\n",
       "        98.3688736 ,  97.09489441,  96.50166321,  97.57142639,\n",
       "        97.30884552,  96.8809433 ,  96.04459381,  98.3688736 ,\n",
       "        99.66230774,  98.9912796 ,  97.22132111,  98.88430786,\n",
       "        99.26358032,  99.62341309, 100.09020233, 102.15192413,\n",
       "       101.47116852, 101.0724411 , 101.19886017, 101.20858765,\n",
       "       100.06104279,  99.3024826 ,  99.38999939,  96.94902039,\n",
       "        97.23104858,  96.73506927,  96.6280899 ,  97.48389435,\n",
       "        97.1921463 ,  99.10797882,  99.65258026, 101.12107086,\n",
       "       101.480896  , 101.46144867, 103.38700104, 105.75991821,\n",
       "       105.8571701 , 104.11637878, 103.1827774 , 104.2039032 ,\n",
       "       102.97854614, 103.41616821, 101.57814026, 101.39336395,\n",
       "       101.10161591, 101.88935089, 101.92824554, 102.4339447 ,\n",
       "       101.17942047, 102.44367218, 102.71817017, 103.9337616 ,\n",
       "       103.94356537, 105.91401672, 106.11988831, 107.83544922,\n",
       "       108.03150177, 108.12954712, 108.51187134, 109.92353821,\n",
       "       109.28633118, 108.9039917 , 108.52166748, 108.99222565,\n",
       "       111.27637482, 110.40389252, 110.41369629, 111.32539368,\n",
       "       110.74700928, 110.53132629, 111.84496307, 113.65856171,\n",
       "       114.26635742, 111.73712921, 111.91359711, 110.46271515,\n",
       "       109.91373444, 110.53132629, 110.62936401, 110.26664734,\n",
       "       110.26664734, 109.78627777, 110.17841339, 109.73727417,\n",
       "       109.79608917, 109.72747803, 110.11959839, 110.36467743,\n",
       "       110.23722839, 109.71766663, 109.81568909, 108.66871643,\n",
       "       107.70800781, 108.09033203, 108.78636169, 108.50206757,\n",
       "       107.4433136 , 107.30606842, 108.49226379, 107.11001587,\n",
       "       107.20803833, 107.37469482, 107.62957764, 109.42356873,\n",
       "       108.22757721, 110.55093384, 111.39401245, 112.9429245 ,\n",
       "       113.75659943, 114.6388855 , 113.95265961, 115.3447113 ,\n",
       "       114.60947418, 113.84481812, 112.52139282, 113.73698425,\n",
       "       114.58986664, 110.63917542, 108.96282196, 110.39408875,\n",
       "       111.20775604, 113.90364075, 114.82514191, 113.89383698,\n",
       "       116.56031799, 115.94271088, 115.53097534, 109.41376495,\n",
       "       111.91359711, 110.962677  , 110.81562805, 112.50178528,\n",
       "       112.57040405, 113.8154068 , 112.91352081, 113.17819977,\n",
       "       114.413414  , 114.74671936, 113.71738434, 115.67802429,\n",
       "       114.4036026 , 114.55065155, 114.81534576, 114.80554199,\n",
       "       113.90364075, 113.14878845, 109.6686554 , 110.80582428,\n",
       "       109.87451935, 110.33527374, 111.65870667, 113.8154068 ,\n",
       "       114.31537628, 113.21741486, 113.46248627, 110.64897919,\n",
       "       112.08024597, 110.62799835, 110.50943756, 110.61811829,\n",
       "       110.85521698, 112.02096558, 110.84533691, 109.2844162 ,\n",
       "       108.12853241, 107.90132141, 105.70812225, 102.96169281,\n",
       "        99.13841248, 104.55225372, 105.23390961, 106.00450134,\n",
       "       108.3261261 , 107.65434265, 105.04621124, 108.28660583,\n",
       "       109.2251358 , 110.07475281, 111.30966187, 111.43809509,\n",
       "       111.28990936, 111.06268311, 110.41065216, 109.57091522,\n",
       "       109.66970825, 109.69934845, 109.26465607, 109.77838135,\n",
       "       109.21526337, 109.74873352, 109.47211456, 109.56103516,\n",
       "       108.80033112, 110.17354584, 109.95620728, 110.45017242,\n",
       "       111.29978943, 110.06488037, 109.61042023, 110.1636734 ,\n",
       "       108.1186676 , 107.88155365, 108.86947632, 109.32392883,\n",
       "       111.23062134, 112.13951874, 112.3074646 , 112.91010284,\n",
       "       113.85851288, 112.21855164, 112.12963867, 111.41833496,\n",
       "       111.47760773, 112.63348389, 112.94962311, 112.62360382,\n",
       "       113.46334076, 112.63348389, 112.43589783, 113.36454773,\n",
       "       113.34479523, 112.71250916, 113.09781647, 113.57201385,\n",
       "       111.75423431, 108.67189789, 108.66201782, 107.3480835 ,\n",
       "       106.92327881, 106.48858643, 108.81021118, 108.94851685,\n",
       "       109.37332916, 109.68946075, 111.15159607, 110.60823822,\n",
       "       111.16146851, 113.36454773, 113.61152649, 113.57201385,\n",
       "       115.44907379, 115.74546051, 115.19221497, 128.48970032,\n",
       "       130.44578552, 128.33161926, 130.15930176, 130.85084534,\n",
       "       130.09013367, 131.74986267, 133.46885681, 135.58300781,\n",
       "       138.23066711, 137.6181488 , 135.31626892, 134.73339844,\n",
       "       132.52044678, 132.70814514, 133.37005615, 131.82888794,\n",
       "       133.36018372, 131.9770813 , 132.42164612, 129.75424194,\n",
       "       131.59178162, 133.0539093 , 133.86401367, 133.40957642,\n",
       "       132.29322815, 132.47103882, 132.23394775, 131.12747192,\n",
       "       131.1867218 , 131.01878357, 129.98149109, 130.60385132,\n",
       "       130.44578552, 130.87062073, 133.19224548, 134.29872131,\n",
       "       135.5533905 , 136.37335205, 135.41506958, 133.44909668,\n",
       "       134.08137512, 140.02868652, 139.93977356, 139.26797485,\n",
       "       137.55886841, 139.21858215, 140.30529785, 138.53689575,\n",
       "       137.53910828, 138.25041199, 138.70484924, 137.6181488 ,\n",
       "       137.95402527, 139.93977356, 140.80914307, 141.25370789,\n",
       "       141.60162354, 140.18014526, 140.76663208, 142.68513489,\n",
       "       142.70501709, 144.01716614, 144.19607544, 143.44061279,\n",
       "       141.72091675, 140.78651428, 139.01712036, 140.00120544,\n",
       "       140.41871643, 140.4485321 , 142.35710144, 143.78851318,\n",
       "       145.51815796, 144.06684875, 142.15829468, 141.00520325,\n",
       "       140.86604309, 137.47634888, 141.02507019, 134.05683899,\n",
       "       137.06878662, 137.69503784, 134.94152832, 136.1940155 ,\n",
       "       132.05880737, 132.61546326, 134.39480591, 134.48426819,\n",
       "       134.32522583, 134.95146179, 135.26956177, 130.88583374,\n",
       "       133.80831909, 133.68904114, 135.73677063, 137.01907349,\n",
       "       136.4425354 , 135.49819946, 137.06878662, 138.01312256,\n",
       "       138.71890259, 138.00318909, 134.98129272, 135.37890625,\n",
       "       136.68110657, 137.19801331, 134.99124146, 135.49819946,\n",
       "       135.98527527, 132.50611877, 131.48225403, 131.67112732,\n",
       "       131.18403625, 132.29736328, 130.48822021, 129.1860199 ,\n",
       "       129.54386902, 128.77845764, 128.37089539, 127.38678741,\n",
       "       129.49417114, 130.1204071 , 127.70488739, 128.55976868,\n",
       "       128.56970215, 129.2456665 , 128.92755127, 128.98719788,\n",
       "       130.08065796, 131.58164978, 130.11047363, 129.48422241,\n",
       "       131.61148071, 130.3490448 , 129.48422241, 130.1204071 ,\n",
       "       129.75262451, 128.7088623 , 128.82817078, 129.14625549,\n",
       "       131.95939636, 132.12838745, 130.66712952, 130.48822021,\n",
       "       132.16815186, 137.13838196, 135.92564392, 137.75468445,\n",
       "       147.83428955, 146.27363586, 143.80841064, 146.7706604 ,\n",
       "       147.49632263, 146.0549469 , 146.02511597, 147.40684509,\n",
       "       148.79850769, 150.7368927 , 150.57785034, 150.67726135,\n",
       "       149.72296143, 147.69512939, 147.39691162, 146.56190491,\n",
       "       146.78060913, 145.33924866, 145.22988892, 146.71101379,\n",
       "       146.88000488, 146.38000488, 148.46000671, 147.72999573,\n",
       "       146.25999451, 146.1499939 , 146.88000488, 144.67999268,\n",
       "       145.28999329, 145.69999695, 145.75      , 143.77000427,\n",
       "       144.63000488, 148.19999695, 146.5       , 145.6499939 ,\n",
       "       145.69999695, 145.3999939 , 144.83000183, 144.61999512,\n",
       "       143.88000488, 145.19999695, 144.32000732, 145.11999512,\n",
       "       144.33000183, 143.55999756, 144.00999451, 142.19999695,\n",
       "       140.08000183, 135.8999939 , 138.36999512, 136.05999756,\n",
       "       137.80999756, 138.30999756, 141.32000732, 144.72999573,\n",
       "       141.36999512, 142.69999695, 141.02000427, 142.58999634,\n",
       "       141.00999451, 141.8500061 , 140.8999939 , 139.53999329,\n",
       "       139.13999939, 141.30000305, 140.36999512, 138.97000122,\n",
       "       133.00999451, 128.19000244, 123.36000061, 118.04000092,\n",
       "       117.65000153, 119.98000336, 116.44999695, 119.18000031,\n",
       "       113.98000336, 115.26999664, 104.34999847, 111.45999908,\n",
       "       105.51000214,  91.80999756, 102.51999664,  95.01000214,\n",
       "        93.52999878,  88.80000305,  94.93000031,  85.98000336,\n",
       "        85.76000214,  98.12000275, 100.73000336, 105.36000061,\n",
       "        96.40000153,  99.80000305,  96.59999847,  94.91999817,\n",
       "        96.97000122,  93.87999725,  99.58000183, 101.23999786,\n",
       "       101.06999969, 104.5       , 103.5       , 106.02999878,\n",
       "       103.37000275, 102.01999664, 106.62999725])"
      ]
     },
     "execution_count": 3,
     "metadata": {},
     "output_type": "execute_result"
    }
   ],
   "source": [
    "close"
   ]
  },
  {
   "cell_type": "code",
   "execution_count": 4,
   "metadata": {},
   "outputs": [
    {
     "data": {
      "text/html": [
       "<div>\n",
       "<style scoped>\n",
       "    .dataframe tbody tr th:only-of-type {\n",
       "        vertical-align: middle;\n",
       "    }\n",
       "\n",
       "    .dataframe tbody tr th {\n",
       "        vertical-align: top;\n",
       "    }\n",
       "\n",
       "    .dataframe thead th {\n",
       "        text-align: right;\n",
       "    }\n",
       "</style>\n",
       "<table border=\"1\" class=\"dataframe\">\n",
       "  <thead>\n",
       "    <tr style=\"text-align: right;\">\n",
       "      <th></th>\n",
       "      <th>macd</th>\n",
       "      <th>macdsignal</th>\n",
       "      <th>macdhist</th>\n",
       "    </tr>\n",
       "  </thead>\n",
       "  <tbody>\n",
       "    <tr>\n",
       "      <th>0</th>\n",
       "      <td>-0.122311</td>\n",
       "      <td>1.363360</td>\n",
       "      <td>-1.485671</td>\n",
       "    </tr>\n",
       "    <tr>\n",
       "      <th>1</th>\n",
       "      <td>-0.518159</td>\n",
       "      <td>0.987056</td>\n",
       "      <td>-1.505215</td>\n",
       "    </tr>\n",
       "    <tr>\n",
       "      <th>2</th>\n",
       "      <td>-0.858566</td>\n",
       "      <td>0.617932</td>\n",
       "      <td>-1.476498</td>\n",
       "    </tr>\n",
       "    <tr>\n",
       "      <th>3</th>\n",
       "      <td>-1.062105</td>\n",
       "      <td>0.281924</td>\n",
       "      <td>-1.344030</td>\n",
       "    </tr>\n",
       "    <tr>\n",
       "      <th>4</th>\n",
       "      <td>-0.947395</td>\n",
       "      <td>0.036061</td>\n",
       "      <td>-0.983456</td>\n",
       "    </tr>\n",
       "  </tbody>\n",
       "</table>\n",
       "</div>"
      ],
      "text/plain": [
       "       macd  macdsignal  macdhist\n",
       "0 -0.122311    1.363360 -1.485671\n",
       "1 -0.518159    0.987056 -1.505215\n",
       "2 -0.858566    0.617932 -1.476498\n",
       "3 -1.062105    0.281924 -1.344030\n",
       "4 -0.947395    0.036061 -0.983456"
      ]
     },
     "execution_count": 4,
     "metadata": {},
     "output_type": "execute_result"
    }
   ],
   "source": [
    "macd, macdsignal, macdhist = talib.MACD(close, fastperiod=5, slowperiod=20, signalperiod=9)\n",
    "macdhist = macdhist[~np.isnan(macdhist)]\n",
    "macd = macd[-len(macdhist):]\n",
    "macdsignal = macdsignal[-len(macdhist):]\n",
    "\n",
    "\n",
    "pd.DataFrame({'macd': macd, 'macdsignal': macdsignal, 'macdhist': macdhist}).head()"
   ]
  },
  {
   "cell_type": "code",
   "execution_count": 5,
   "metadata": {},
   "outputs": [],
   "source": [
    "def prepare_dataset(close):\n",
    "    \"\"\"\n",
    "    Function prepare_dataset to generate input data and trading strategy from stock close prices\n",
    "    \"\"\"\n",
    "\n",
    "    macd, macdsignal, macdhist = talib.MACD(close, fastperiod=12, slowperiod=26, signalperiod=9)\n",
    "\n",
    "    # Cancel NaN values\n",
    "    macdhist = macdhist[~np.isnan(macdhist)]\n",
    "    macd = macd[-len(macdhist):]\n",
    "    macdsignal = macdsignal[-len(macdhist):]\n",
    "\n",
    "    # Scaling features to a range [0, 1]\n",
    "    min_max_scaler = preprocessing.MinMaxScaler(feature_range=(-1, 1))\n",
    "    macdhist_norm = min_max_scaler.fit_transform(np.expand_dims(macdhist, axis=1))\n",
    "\n",
    "    # Implement strategy\n",
    "    start_sell = 0.4\n",
    "    stop_sell = 0.1\n",
    "    start_buy = -0.4\n",
    "    stop_buy = -0.1\n",
    "\n",
    "    y = np.full(len(macdhist), np.nan)\n",
    "    y[0] = 0\n",
    "\n",
    "    for i in range(1, len(macdhist)):\n",
    "\n",
    "        if y[i-1] == 0:\n",
    "            if (macdhist_norm[i] >= start_sell):\n",
    "                # Enter sell position\n",
    "                y[i] = -1\n",
    "            elif (macdhist_norm[i] <= start_buy):\n",
    "                # Enter buy position\n",
    "                y[i] = 1\n",
    "            else:\n",
    "                y[i] = 0\n",
    "        elif y[i-1] == -1:\n",
    "            if macdhist_norm[i] > stop_sell:\n",
    "                # Stay in sell position\n",
    "                y[i] = -1\n",
    "            else:\n",
    "                # Leave sell position\n",
    "                y[i] = 0\n",
    "        else:\n",
    "            if macdhist_norm[i] < stop_buy:\n",
    "                # Stay in buy position\n",
    "                y[i] = 1\n",
    "            else:\n",
    "                # Leave buy position\n",
    "                y[i] = 0\n",
    "\n",
    "    # Plot strategy\n",
    "    dates = np.arange(len(macdhist))\n",
    "    plt.plot(dates, y,'g', label='Strategy Positions')\n",
    "    plt.bar(dates, macdhist_norm[:, 0], width=1, color='blue', label='MACD histogram')\n",
    "    plt.plot(dates, start_sell * np.ones(len(macdhist)), 'k--', lw=1)\n",
    "    plt.plot(dates, stop_sell * np.ones(len(macdhist)), 'k--', lw=1)\n",
    "    plt.plot(dates, start_buy * np.ones(len(macdhist)), 'k--', lw=1)\n",
    "    plt.plot(dates, stop_buy * np.ones(len(macdhist)), 'k--', lw=1)\n",
    "    plt.xlabel('Days')\n",
    "    plt.xlim((0, len(y)))\n",
    "    plt.legend()\n",
    "    # plt.savefig('images/AAL_macd.png', bbox_inches='tight')\n",
    "    plt.show()\n",
    "    \n",
    "    # Generate input data - technical indicators\n",
    "    ind1 = talib.MIDPOINT(close)    # Overlap: MidPoint over period\n",
    "    ind2 = talib.HT_DCPERIOD(close) # Cycle Indicator Functions:  Hilbert Transform - Dominant Cycle Period\n",
    "    ind3 = talib.MAX(close)         # Math Operator: Highest value over a specified period\n",
    "    ind4 = talib.SIN(close)         # Math Transform: Vector Trigonometric Sin\n",
    "    ind5 = talib.APO(close)         # Momentum: Absolute Price Oscillator\n",
    "    ind6 = talib.TEMA(close, timeperiod=5) ## Triple Exponential Moving Average\n",
    "\n",
    "    x = np.vstack((macdhist, macd, macdsignal, ind1[-len(macdhist):], ind2[-len(macdhist):],\n",
    "                   ind3[-len(macdhist):], ind4[-len(macdhist):], ind5[-len(macdhist):],\n",
    "                   ind6[-len(macdhist):]))\n",
    "    x = x.T\n",
    "\n",
    "    return x, y"
   ]
  },
  {
   "cell_type": "code",
   "execution_count": 6,
   "metadata": {},
   "outputs": [
    {
     "data": {
      "image/png": "[encoded data removed]",
      "text/plain": [
       "<Figure size 432x288 with 1 Axes>"
      ]
     },
     "metadata": {
      "needs_background": "light"
     },
     "output_type": "display_data"
    }
   ],
   "source": [
    "# Implement MACD trading strategy\n",
    "X, y = prepare_dataset(close)"
   ]
  },
  {
   "cell_type": "code",
   "execution_count": 7,
   "metadata": {},
   "outputs": [
    {
     "data": {
      "text/plain": [
       "array([-4.61009022e-01,  6.25301434e-02,  5.23539165e-01,  9.90496292e+01,\n",
       "        1.72117648e+01,  1.02151924e+02, -9.89095942e-01, -2.87138914e-01,\n",
       "        9.84948150e+01])"
      ]
     },
     "execution_count": 7,
     "metadata": {},
     "output_type": "execute_result"
    }
   ],
   "source": [
    "X[0]"
   ]
  },
  {
   "cell_type": "code",
   "execution_count": 8,
   "metadata": {},
   "outputs": [],
   "source": [
    "# Split dataset\n",
    "n_train = int(X.shape[0] * 0.8)\n",
    "\n",
    "X_train, y_train = X[:n_train], y[:n_train]\n",
    "X_test, y_test = X[n_train:], y[n_train:]"
   ]
  },
  {
   "cell_type": "code",
   "execution_count": 9,
   "metadata": {},
   "outputs": [],
   "source": [
    "# Normalize data\n",
    "scaler = preprocessing.MinMaxScaler()\n",
    "\n",
    "X_train = scaler.fit_transform(X_train)\n",
    "X_test = scaler.transform(X_test)"
   ]
  },
  {
   "cell_type": "code",
   "execution_count": 10,
   "metadata": {},
   "outputs": [
    {
     "name": "stdout",
     "output_type": "stream",
     "text": [
      "[-1.  0.  1.]\n"
     ]
    }
   ],
   "source": [
    "# Encode trading signal with integers between 0 and n-1 classes\n",
    "le = preprocessing.LabelEncoder()\n",
    "\n",
    "y_train = le.fit_transform(y_train)\n",
    "y_test = le.transform(y_test)\n",
    "\n",
    "print(le.classes_)"
   ]
  },
  {
   "cell_type": "code",
   "execution_count": 11,
   "metadata": {},
   "outputs": [],
   "source": [
    "## Create and train the Agent\n",
    "# Variable definiton\n",
    "episodes = 20\n",
    "look_back = 5\n",
    "batch_size = 32\n",
    "action_size = len(le.classes_)\n",
    "n_features = X_train.shape[1]"
   ]
  },
  {
   "cell_type": "code",
   "execution_count": 12,
   "metadata": {},
   "outputs": [],
   "source": [
    "# Create Agent\n",
    "agent = Agent(look_back, action_size, n_features)"
   ]
  },
  {
   "cell_type": "code",
   "execution_count": 13,
   "metadata": {},
   "outputs": [],
   "source": [
    "def run(agent, dataX, dataY, episodes, look_back):\n",
    "    \"\"\"\n",
    "    Function run to train the agent\n",
    "    \"\"\"\n",
    "    \n",
    "    # Length of dataset\n",
    "    times = len(dataX)\n",
    "\n",
    "    # List of total rewards\n",
    "    total_reward_list = []\n",
    "\n",
    "    for ep in range(episodes):\n",
    "\n",
    "        # print('Episode: ' + str(ep))\n",
    "        \n",
    "        # Initial state and position\n",
    "        state = dataX[:look_back, :][np.newaxis, :, :]\n",
    "        pos = dataY[look_back - 1]\n",
    "\n",
    "        done = False\n",
    "        total_reward = 0\n",
    "\n",
    "        for t in range(1, times - look_back + 1):\n",
    "\n",
    "            # Predict action based on the current state\n",
    "            action = agent.act(state)\n",
    "\n",
    "            # Calculate reward\n",
    "            if action == pos:   # 0:-1      1:0     2:1\n",
    "                reward = +1\n",
    "\n",
    "            elif (pos == 0 or pos == 2):\n",
    "                if action == 1:\n",
    "                    reward = 0\n",
    "                else:\n",
    "                    reward = -1\n",
    "            else:\n",
    "                reward = -1\n",
    "\n",
    "            total_reward += reward\n",
    "\n",
    "            # Final state\n",
    "            if t == times - look_back:\n",
    "                done = True\n",
    "\n",
    "            # Receive next state and position\n",
    "            next_state = dataX[t:t + look_back, :][np.newaxis, :, :]\n",
    "            next_pos = dataY[t + look_back - 1]\n",
    "            \n",
    "            # Remember current experience\n",
    "            agent.remember(state, action, reward, next_state, done)\n",
    "            \n",
    "            # Make next_state the new current state; the same for pos\n",
    "            state = next_state\n",
    "            pos = next_pos\n",
    "\n",
    "            if done:\n",
    "                print('Episode: %i ---> Total Reward: %i' %(ep, total_reward))\n",
    "                total_reward_list.append(total_reward)\n",
    "\n",
    "            # Train the agent with previous experiences\n",
    "            if len(agent.memory) > batch_size:\n",
    "                agent.replay(batch_size)\n",
    "\n",
    "        if (ep + 1) % 5 == 0 and ep > 0:\n",
    "            file = 'checkpoints/' + symbol + '_robot_checkpoint' + str(ep + 1)\n",
    "            # Serialize weights to HDF5\n",
    "            agent.model.save_weights(file + \".h5\")\n",
    "            # Save epsilon\n",
    "            pickle.dump(agent.epsilon, open(file + \"_epsilon.pickle\", \"wb\"))\n",
    "\n",
    "    # Save list of rewards along the epochs\n",
    "    np.savetxt(file + '_total_reward.txt', total_reward_list)\n",
    "\n",
    "    return\n"
   ]
  },
  {
   "cell_type": "code",
   "execution_count": null,
   "metadata": {},
   "outputs": [
    {
     "name": "stdout",
     "output_type": "stream",
     "text": [
      "Episode: 0 ---> Total Reward: 96\n"
     ]
    }
   ],
   "source": [
    "# Train Agent\n",
    "run(agent, X_train, y_train, episodes, look_back)"
   ]
  },
  {
   "cell_type": "code",
   "execution_count": null,
   "metadata": {},
   "outputs": [],
   "source": [
    "# Load rewards\n",
    "total_reward_list = np.loadtxt( 'checkpoints/'+ symbol + '_robot_checkpoint' + str(episodes) + '_total_reward.txt')\n",
    "# Plot\n",
    "plt.figure()\n",
    "plt.plot(np.arange(1, episodes+1), total_reward_list)\n",
    "plt.xlabel('Episodes')\n",
    "plt.ylabel('Total Reward')\n",
    "plt.show()"
   ]
  },
  {
   "cell_type": "code",
   "execution_count": null,
   "metadata": {},
   "outputs": [],
   "source": [
    "total_reward_list"
   ]
  },
  {
   "cell_type": "code",
   "execution_count": null,
   "metadata": {},
   "outputs": [],
   "source": [
    "def evaluate(agent, dataX, dataY, look_back):\n",
    "    \"\"\"\n",
    "    Function run to evaluate the trained agent\n",
    "    \"\"\"\n",
    "    \n",
    "    # Length of dataset\n",
    "    times = len(dataX)\n",
    "\n",
    "    # Initial state and position\n",
    "    state = dataX[:look_back, :][np.newaxis, :, :]\n",
    "    pos = dataY[look_back - 1]\n",
    "\n",
    "    # List of predicted positions\n",
    "    pos_list = []\n",
    "    \n",
    "    done = False\n",
    "    total_reward = 0\n",
    "    \n",
    "    for t in range(1, times - look_back + 1):\n",
    "\n",
    "        # Predict action based on the current state\n",
    "        action = agent.act(state)\n",
    "\n",
    "        # Calculate reward\n",
    "        if action == pos:   # 0:-1      1:0     2:1\n",
    "            reward = +1\n",
    "\n",
    "        elif (pos == 0 or pos == 2):\n",
    "            if action == 1:\n",
    "                reward = 0\n",
    "            else:\n",
    "                reward = -1\n",
    "        else:\n",
    "            reward = -1\n",
    "\n",
    "        pos_list.append(action)\n",
    "        total_reward += reward\n",
    "\n",
    "        # Final state\n",
    "        if t == times - look_back:\n",
    "            done = True\n",
    "\n",
    "        # Receive next state and position\n",
    "        next_state = dataX[t:t + look_back, :][np.newaxis, :, :]\n",
    "        next_pos = dataY[t + look_back - 1]\n",
    "\n",
    "        # Remember current experience\n",
    "        agent.remember(state, action, reward, next_state, done)\n",
    "\n",
    "        # Make next_state the new current state; the same for pos\n",
    "        state = next_state\n",
    "        pos = next_pos\n",
    "\n",
    "        if done:\n",
    "            print('Total Reward: %i' % total_reward)\n",
    "\n",
    "    return np.array(pos_list)"
   ]
  },
  {
   "cell_type": "code",
   "execution_count": null,
   "metadata": {},
   "outputs": [],
   "source": [
    "# Evaluate the model\n",
    "# Make predictions\n",
    "y_pred_test = evaluate(agent, X_test, y_test, look_back)\n",
    "\n",
    "# Calculate and print accuracy\n",
    "acc = accuracy_score(y_test[look_back-1:-1], y_pred_test)\n",
    "\n",
    "print('Accuracy: %.2f %%' % (acc*100))"
   ]
  },
  {
   "cell_type": "code",
   "execution_count": null,
   "metadata": {},
   "outputs": [],
   "source": [
    "# Calculate and print precision, recall, f1 score and support\n",
    "p, r, f1, s = precision_recall_fscore_support(y_test[look_back-1:-1], y_pred_test, average=None)\n",
    "results = pd.DataFrame({'1-Precision': p, '2-Recall': r, '3-F1 score': f1, '4-Support': s}, index=le.classes_)\n",
    "\n",
    "print(results.round(decimals=3))"
   ]
  },
  {
   "cell_type": "code",
   "execution_count": null,
   "metadata": {},
   "outputs": [],
   "source": [
    "# Decodificate labels\n",
    "y_true_test = le.inverse_transform(y_test[look_back-1:-1])\n",
    "y_pred_test = le.inverse_transform(y_pred_test)"
   ]
  },
  {
   "cell_type": "code",
   "execution_count": null,
   "metadata": {},
   "outputs": [],
   "source": [
    "# Plot strategy\n",
    "plt.figure()\n",
    "plt.plot(y_true_test, label='true')\n",
    "plt.plot(y_pred_test, label='pred')\n",
    "plt.legend()\n",
    "plt.show()"
   ]
  },
  {
   "cell_type": "code",
   "execution_count": null,
   "metadata": {},
   "outputs": [],
   "source": []
  }
 ],
 "metadata": {
  "kernelspec": {
   "display_name": "Python 3",
   "language": "python",
   "name": "python3"
  },
  "language_info": {
   "codemirror_mode": {
    "name": "ipython",
    "version": 3
   },
   "file_extension": ".py",
   "mimetype": "text/x-python",
   "name": "python",
   "nbconvert_exporter": "python",
   "pygments_lexer": "ipython3",
   "version": "3.7.6"
  }
 },
 "nbformat": 4,
 "nbformat_minor": 2
}
