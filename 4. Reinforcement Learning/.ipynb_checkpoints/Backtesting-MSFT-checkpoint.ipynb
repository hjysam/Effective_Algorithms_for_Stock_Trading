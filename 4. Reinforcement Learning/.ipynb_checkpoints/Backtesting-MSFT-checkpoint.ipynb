{
 "cells": [
  {
   "cell_type": "code",
   "execution_count": 1,
   "metadata": {
    "scrolled": true
   },
   "outputs": [
    {
     "name": "stderr",
     "output_type": "stream",
     "text": [
      "C:\\Users\\Elid-PC.DESKTOP-MG9DS93\\anaconda3\\lib\\site-packages\\pandas_datareader\\compat\\__init__.py:7: FutureWarning: pandas.util.testing is deprecated. Use the functions in the public API at pandas.testing instead.\n",
      "  from pandas.util.testing import assert_frame_equal\n"
     ]
    },
    {
     "data": {
      "application/javascript": [
       "\n",
       "console.log('Starting front end url_querystring_target comm target');\n",
       "const comm = Jupyter.notebook.kernel.comm_manager.new_comm('url_querystring_target', {'init': 1});\n",
       "comm.send({'ipyparams_browser_url': window.location.href});\n",
       "console.log('Sent window.location.href on url_querystring_target comm target');\n",
       "\n",
       "comm.on_msg(function(msg) {\n",
       "    console.log(msg.content.data);\n",
       "});\n"
      ],
      "text/plain": [
       "<IPython.core.display.Javascript object>"
      ]
     },
     "metadata": {},
     "output_type": "display_data"
    },
    {
     "name": "stderr",
     "output_type": "stream",
     "text": [
      "Using TensorFlow backend.\n"
     ]
    }
   ],
   "source": [
    "# Import libraries\n",
    "import pandas as pd\n",
    "from pandas_datareader import data as pdr\n",
    "\n",
    "import numpy as np\n",
    "import matplotlib.pyplot as plt\n",
    "import pickle\n",
    "\n",
    "from sklearn import preprocessing\n",
    "from sklearn.metrics import accuracy_score\n",
    "from sklearn.metrics import precision_recall_fscore_support\n",
    "\n",
    "import talib, re, ipyparams\n",
    "\n",
    "from Agent import Agent"
   ]
  },
  {
   "cell_type": "code",
   "execution_count": 2,
   "metadata": {},
   "outputs": [
    {
     "data": {
      "text/plain": [
       "503"
      ]
     },
     "execution_count": 2,
     "metadata": {},
     "output_type": "execute_result"
    }
   ],
   "source": [
    "end_date = '2020-04-19'\n",
    "start_date = '2018-04-20'\n",
    "\n",
    "currentNotebook = ipyparams.notebook_name\n",
    "symbol = 'MSFT'\n",
    "Date = pd.DataFrame(pdr.DataReader(symbol,'yahoo', start_date, end_date))\n",
    "\n",
    "alldata = pd.DataFrame({'Date': Date.index})\n",
    "alldata[symbol] = pdr.DataReader(symbol, 'yahoo', start_date, end_date)['Adj Close'].values\n",
    "# Stock symbol\n",
    "\n",
    "# Load close prices of to NumPy array\n",
    "close = alldata[symbol].values\n",
    "len(close)"
   ]
  },
  {
   "cell_type": "code",
   "execution_count": 3,
   "metadata": {},
   "outputs": [
    {
     "data": {
      "text/plain": [
       "array([ 93.28050995,  92.20318604,  92.5428772 ,  90.37853241,\n",
       "        89.59238434,  91.48497772,  92.99905396,  90.76675415,\n",
       "        92.20318604,  90.75706482,  91.30056763,  92.35848236,\n",
       "        93.38726807,  92.98934174,  94.0860672 ,  95.02751923,\n",
       "        94.82369232,  95.14398956,  94.45489502,  94.69857788,\n",
       "        93.75305939,  93.92851257,  95.13722992,  95.03975677,\n",
       "        96.17047882,  95.82931519,  95.87805176,  95.53687286,\n",
       "        96.45315552,  96.34593964,  98.24673462,  99.10453033,\n",
       "        99.61141205,  99.90383911,  98.33446503,  99.06552887,\n",
       "        98.50017548,  98.75361633,  98.30522156,  98.86083984,\n",
       "        97.60338593,  98.31497192,  98.31497192,  99.29948425,\n",
       "        98.58790588,  97.87632751,  95.90730286,  96.57988739,\n",
       "        95.07875061,  96.14123535,  96.12174988,  97.48641968,\n",
       "        96.55065155,  97.24272919,  98.60740662,  99.27998352,\n",
       "        99.54316711,  99.40670776, 101.56095123, 102.76965332,\n",
       "       102.26277161, 103.27653503, 102.46746826, 101.76564789,\n",
       "       103.58844757, 105.24556732, 104.94338226, 108.03338623,\n",
       "       106.85392761, 104.96287537, 102.71116638, 103.40325165,\n",
       "       103.59820557, 104.85565186, 105.313797  , 105.40151978,\n",
       "       106.13259888, 106.72720337, 106.90265656, 106.24957275,\n",
       "       105.47949982, 106.79544067, 105.34723663, 105.32765961,\n",
       "       105.26895905, 104.57421875, 103.70333099, 104.76011658,\n",
       "       105.24937439, 106.07133484, 107.24555206, 107.89138794,\n",
       "       109.61357117, 109.54507446, 109.91691589, 109.31023407,\n",
       "       106.15940094, 106.40402985, 105.88542175, 107.0302887 ,\n",
       "       108.85031891, 109.31023407, 110.48445129, 110.93457031,\n",
       "       109.73099518, 110.77800751, 109.30043793, 111.13027954,\n",
       "       111.8054657 , 112.20664215, 111.9913559 , 111.53147888,\n",
       "       111.95223236, 111.91308594, 113.12645721, 112.6763382 ,\n",
       "       112.69589996, 110.36702728, 109.72120667, 108.46870422,\n",
       "       109.84841919, 103.8794632 , 103.63482666, 107.21620178,\n",
       "       105.28851318, 108.61548615, 108.33171082, 106.16918945,\n",
       "       106.32575989, 107.27490234, 105.77777863, 100.12194824,\n",
       "       105.97349548, 104.66227722, 101.61907196, 101.50165558,\n",
       "       104.51548767, 103.64460754, 103.8794632 , 105.20046234,\n",
       "       105.40594482, 109.55485535, 109.34937286, 107.21620178,\n",
       "       104.57421875, 104.64269257, 103.15875244, 105.42889404,\n",
       "       106.42147064, 102.81479645,  99.95500946, 101.33084869,\n",
       "       101.29154205, 104.63288116, 105.2913208 , 109.20264435,\n",
       "       108.28868866, 108.97661591, 110.15590668, 106.64749908,\n",
       "       107.30594635, 103.01134491, 105.73353577, 106.71628571,\n",
       "       107.19784546, 107.56144714, 104.20046997, 101.11464691,\n",
       "       102.17601013, 101.90084839,  99.758461  ,  96.53504944,\n",
       "        92.50579834,  98.82485199,  99.43416595,  98.65778351,\n",
       "        99.81742096,  99.37519073,  95.71937561, 100.17121124,\n",
       "       100.29896545, 101.02619934, 102.4708252 , 101.81240082,\n",
       "       101.02619934, 100.28914642, 103.19806671, 103.56168365,\n",
       "       104.28891754, 105.85147858, 103.85650635, 104.86872864,\n",
       "       104.36753082, 105.32079315, 103.26686096, 101.16378784,\n",
       "       104.54442596, 102.62807465, 101.00654602, 103.91546631,\n",
       "       105.36993408, 104.20046997, 103.45357513, 103.84667969,\n",
       "       103.43392181, 105.04563141, 104.96700287, 105.05545044,\n",
       "       106.35267639, 106.30354309, 105.75085449, 107.98135376,\n",
       "       109.52097321, 110.13287354, 110.89282227, 110.70529938,\n",
       "       110.56713104, 111.06060791, 110.79412842, 110.24143219,\n",
       "       110.29078674, 108.94853973, 109.06697845, 111.35668945,\n",
       "       112.1363678 , 113.00487518, 113.09369659, 114.39646912,\n",
       "       116.03478241, 116.11374664, 115.98544312, 118.65019226,\n",
       "       115.52157593, 116.12362671, 116.37034607, 115.245224  ,\n",
       "       115.40314484, 116.39996338, 117.46585846, 117.63363647,\n",
       "       118.40345764, 117.80142212, 118.32449341, 118.3639679 ,\n",
       "       117.72245026, 118.62058258, 118.75875092, 119.37065125,\n",
       "       119.46935272, 119.19300079, 120.1799469 , 121.75905609,\n",
       "       122.14395905, 123.80203247, 123.3776474 , 127.46357727,\n",
       "       128.19390869, 128.07548523, 128.89465332, 126.2101593 ,\n",
       "       124.56196594, 127.21684265, 126.47662354, 123.88096619,\n",
       "       123.87111664, 123.8612442 , 125.46995544, 121.73931122,\n",
       "       123.1013031 , 124.83483887, 127.71746826, 126.86557007,\n",
       "       125.03296661, 125.70657349, 126.4693222 , 124.99333954,\n",
       "       125.05276489, 124.97353363, 123.76499939, 124.54756165,\n",
       "       122.5168457 , 118.71295166, 122.0017395 , 124.64662933,\n",
       "       126.61791229, 130.16423035, 131.35296631, 130.85766602,\n",
       "       130.25340271, 131.07559204, 131.20437622, 131.60061646,\n",
       "       133.8888855 , 134.41390991, 135.66203308, 135.68186951,\n",
       "       136.48423767, 132.17514038, 132.67044067, 132.8883667 ,\n",
       "       132.70018005, 134.4039917 , 135.29551697, 136.16725159,\n",
       "       135.77101135, 135.67195129, 135.17666626, 136.55360413,\n",
       "       137.09840393, 137.59370422, 137.59370422, 135.79081726,\n",
       "       134.9884491 , 135.13703918, 135.33514404, 137.12811279,\n",
       "       137.9800415 , 139.39659119, 138.87158203, 140.01075745,\n",
       "       139.70367432, 139.03007507, 134.9884491 , 136.76159668,\n",
       "       135.61250305, 130.96662903, 133.42330933, 134.00773621,\n",
       "       137.58380127, 136.41491699, 134.51293945, 137.29653931,\n",
       "       133.16192627, 132.86375427, 135.29881287, 137.56489563,\n",
       "       136.42190552, 137.94255066, 136.9387207 , 132.57553101,\n",
       "       134.62295532, 134.91117859, 134.73226929, 137.27664185,\n",
       "       137.01824951, 135.20935059, 136.78965759, 139.19487   ,\n",
       "       138.25067139, 136.68032837, 135.24911499, 135.28884888,\n",
       "       136.68032837, 136.48153687, 135.49758911, 136.55111694,\n",
       "       137.67420959, 140.20864868, 138.58859253, 138.29042053,\n",
       "       136.54118347, 138.50907898, 138.68797302, 136.88902283,\n",
       "       138.18109131, 136.233078  , 133.82783508, 135.44789124,\n",
       "       137.27664185, 136.28276062, 134.84161377, 137.3959198 ,\n",
       "       138.25067139, 138.82711792, 138.69792175, 140.70559692,\n",
       "       139.55267334, 138.83706665, 136.57098389, 137.58474731,\n",
       "       135.53733826, 136.40203857, 139.08555603, 139.87071228,\n",
       "       143.30960083, 141.957901  , 143.72703552, 142.49458313,\n",
       "       142.84246826, 143.66740417, 143.57795715, 143.18037415,\n",
       "       143.37915039, 145.06878662, 145.21786499, 146.17201233,\n",
       "       146.41053772, 147.15596008, 149.05430603, 149.42204285,\n",
       "       149.47172546, 149.21243286, 149.07281494, 149.18252563,\n",
       "       150.8180542 , 151.61587524, 151.90509033, 150.96765137,\n",
       "       149.14263916, 148.90328979, 149.44181824, 149.52159119,\n",
       "       151.3366394 , 150.94770813, 150.71833801, 151.28677368,\n",
       "       152.82258606, 154.10906982, 155.1063385 , 154.26863098,\n",
       "       153.94950867, 155.28585815, 156.98123169, 156.98123169,\n",
       "       156.9513092 , 158.23779297, 158.52700806, 157.16073608,\n",
       "       157.27043152, 160.18247986, 158.18792725, 158.59681702,\n",
       "       157.15077209, 159.65391541, 161.64846802, 160.9005127 ,\n",
       "       162.8352356 , 161.68836975, 162.73550415, 165.71736145,\n",
       "       166.64483643, 166.04646301, 165.24864197, 166.26586914,\n",
       "       164.59043884, 161.83795166, 165.00930786, 167.58226013,\n",
       "       172.30935669, 169.76629639, 173.90499878, 179.62936401,\n",
       "       179.40995789, 183.12980652, 183.38909912, 188.18598938,\n",
       "       183.93760681, 184.2068634 , 183.20959473, 184.84512329,\n",
       "       186.72000122, 187.27999878, 184.41999817, 178.58999634,\n",
       "       170.88999939, 168.07000732, 170.16999817, 158.17999268,\n",
       "       162.00999451, 172.78999329, 164.50999451, 170.55000305,\n",
       "       166.27000427, 161.57000732, 150.61999512, 160.91999817,\n",
       "       153.63000488, 139.05999756, 158.83000183, 135.41999817,\n",
       "       146.57000732, 140.3999939 , 142.71000671, 137.3500061 ,\n",
       "       135.97999573, 148.33999634, 146.91999817, 156.11000061,\n",
       "       149.69999695, 160.22999573, 157.71000671, 152.11000061,\n",
       "       155.25999451, 153.83000183, 165.27000427, 163.49000549,\n",
       "       165.13000488, 165.13999939, 165.50999451, 173.69999695,\n",
       "       171.88000488, 177.03999329, 178.6000061 ])"
      ]
     },
     "execution_count": 3,
     "metadata": {},
     "output_type": "execute_result"
    }
   ],
   "source": [
    "close"
   ]
  },
  {
   "cell_type": "code",
   "execution_count": 4,
   "metadata": {},
   "outputs": [
    {
     "data": {
      "text/html": [
       "<div>\n",
       "<style scoped>\n",
       "    .dataframe tbody tr th:only-of-type {\n",
       "        vertical-align: middle;\n",
       "    }\n",
       "\n",
       "    .dataframe tbody tr th {\n",
       "        vertical-align: top;\n",
       "    }\n",
       "\n",
       "    .dataframe thead th {\n",
       "        text-align: right;\n",
       "    }\n",
       "</style>\n",
       "<table border=\"1\" class=\"dataframe\">\n",
       "  <thead>\n",
       "    <tr style=\"text-align: right;\">\n",
       "      <th></th>\n",
       "      <th>macd</th>\n",
       "      <th>macdsignal</th>\n",
       "      <th>macdhist</th>\n",
       "    </tr>\n",
       "  </thead>\n",
       "  <tbody>\n",
       "    <tr>\n",
       "      <th>0</th>\n",
       "      <td>1.411321</td>\n",
       "      <td>1.574630</td>\n",
       "      <td>-0.163308</td>\n",
       "    </tr>\n",
       "    <tr>\n",
       "      <th>1</th>\n",
       "      <td>1.489837</td>\n",
       "      <td>1.557671</td>\n",
       "      <td>-0.067834</td>\n",
       "    </tr>\n",
       "    <tr>\n",
       "      <th>2</th>\n",
       "      <td>1.464372</td>\n",
       "      <td>1.539011</td>\n",
       "      <td>-0.074639</td>\n",
       "    </tr>\n",
       "    <tr>\n",
       "      <th>3</th>\n",
       "      <td>1.855094</td>\n",
       "      <td>1.602228</td>\n",
       "      <td>0.252866</td>\n",
       "    </tr>\n",
       "    <tr>\n",
       "      <th>4</th>\n",
       "      <td>2.236113</td>\n",
       "      <td>1.729005</td>\n",
       "      <td>0.507108</td>\n",
       "    </tr>\n",
       "  </tbody>\n",
       "</table>\n",
       "</div>"
      ],
      "text/plain": [
       "       macd  macdsignal  macdhist\n",
       "0  1.411321    1.574630 -0.163308\n",
       "1  1.489837    1.557671 -0.067834\n",
       "2  1.464372    1.539011 -0.074639\n",
       "3  1.855094    1.602228  0.252866\n",
       "4  2.236113    1.729005  0.507108"
      ]
     },
     "execution_count": 4,
     "metadata": {},
     "output_type": "execute_result"
    }
   ],
   "source": [
    "macd, macdsignal, macdhist = talib.MACD(close, fastperiod=5, slowperiod=20, signalperiod=9)\n",
    "macdhist = macdhist[~np.isnan(macdhist)]\n",
    "macd = macd[-len(macdhist):]\n",
    "macdsignal = macdsignal[-len(macdhist):]\n",
    "\n",
    "\n",
    "pd.DataFrame({'macd': macd, 'macdsignal': macdsignal, 'macdhist': macdhist}).head()"
   ]
  },
  {
   "cell_type": "code",
   "execution_count": 5,
   "metadata": {},
   "outputs": [],
   "source": [
    "def prepare_dataset(close):\n",
    "    \"\"\"\n",
    "    Function prepare_dataset to generate input data and trading strategy from stock close prices\n",
    "    \"\"\"\n",
    "\n",
    "    macd, macdsignal, macdhist = talib.MACD(close, fastperiod=12, slowperiod=26, signalperiod=9)\n",
    "\n",
    "    # Cancel NaN values\n",
    "    macdhist = macdhist[~np.isnan(macdhist)]\n",
    "    macd = macd[-len(macdhist):]\n",
    "    macdsignal = macdsignal[-len(macdhist):]\n",
    "\n",
    "    # Scaling features to a range [0, 1]\n",
    "    min_max_scaler = preprocessing.MinMaxScaler(feature_range=(-1, 1))\n",
    "    macdhist_norm = min_max_scaler.fit_transform(np.expand_dims(macdhist, axis=1))\n",
    "\n",
    "    # Implement strategy\n",
    "    start_sell = 0.4\n",
    "    stop_sell = 0.1\n",
    "    start_buy = -0.4\n",
    "    stop_buy = -0.1\n",
    "\n",
    "    y = np.full(len(macdhist), np.nan)\n",
    "    y[0] = 0\n",
    "\n",
    "    for i in range(1, len(macdhist)):\n",
    "\n",
    "        if y[i-1] == 0:\n",
    "            if (macdhist_norm[i] >= start_sell):\n",
    "                # Enter sell position\n",
    "                y[i] = -1\n",
    "            elif (macdhist_norm[i] <= start_buy):\n",
    "                # Enter buy position\n",
    "                y[i] = 1\n",
    "            else:\n",
    "                y[i] = 0\n",
    "        elif y[i-1] == -1:\n",
    "            if macdhist_norm[i] > stop_sell:\n",
    "                # Stay in sell position\n",
    "                y[i] = -1\n",
    "            else:\n",
    "                # Leave sell position\n",
    "                y[i] = 0\n",
    "        else:\n",
    "            if macdhist_norm[i] < stop_buy:\n",
    "                # Stay in buy position\n",
    "                y[i] = 1\n",
    "            else:\n",
    "                # Leave buy position\n",
    "                y[i] = 0\n",
    "\n",
    "    # Plot strategy\n",
    "    dates = np.arange(len(macdhist))\n",
    "    plt.plot(dates, y,'g', label='Strategy Positions')\n",
    "    plt.bar(dates, macdhist_norm[:, 0], width=1, color='blue', label='MACD histogram')\n",
    "    plt.plot(dates, start_sell * np.ones(len(macdhist)), 'k--', lw=1)\n",
    "    plt.plot(dates, stop_sell * np.ones(len(macdhist)), 'k--', lw=1)\n",
    "    plt.plot(dates, start_buy * np.ones(len(macdhist)), 'k--', lw=1)\n",
    "    plt.plot(dates, stop_buy * np.ones(len(macdhist)), 'k--', lw=1)\n",
    "    plt.xlabel('Days')\n",
    "    plt.xlim((0, len(y)))\n",
    "    plt.legend()\n",
    "    # plt.savefig('images/AAL_macd.png', bbox_inches='tight')\n",
    "    plt.show()\n",
    "    \n",
    "    # Generate input data - technical indicators\n",
    "    ind1 = talib.MIDPOINT(close)    # Overlap: MidPoint over period\n",
    "    ind2 = talib.HT_DCPERIOD(close) # Cycle Indicator Functions:  Hilbert Transform - Dominant Cycle Period\n",
    "    ind3 = talib.MAX(close)         # Math Operator: Highest value over a specified period\n",
    "    ind4 = talib.SIN(close)         # Math Transform: Vector Trigonometric Sin\n",
    "    ind5 = talib.APO(close)         # Momentum: Absolute Price Oscillator\n",
    "    ind6 = talib.TEMA(close, timeperiod=5) ## Triple Exponential Moving Average\n",
    "\n",
    "    x = np.vstack((macdhist, macd, macdsignal, ind1[-len(macdhist):], ind2[-len(macdhist):],\n",
    "                   ind3[-len(macdhist):], ind4[-len(macdhist):], ind5[-len(macdhist):],\n",
    "                   ind6[-len(macdhist):]))\n",
    "    x = x.T\n",
    "\n",
    "    return x, y"
   ]
  },
  {
   "cell_type": "code",
   "execution_count": 6,
   "metadata": {},
   "outputs": [
    {
     "data": {
      "image/png": "[encoded data removed]",
      "text/plain": [
       "<Figure size 432x288 with 1 Axes>"
      ]
     },
     "metadata": {
      "needs_background": "light"
     },
     "output_type": "display_data"
    }
   ],
   "source": [
    "# Implement MACD trading strategy\n",
    "X, y = prepare_dataset(close)"
   ]
  },
  {
   "cell_type": "code",
   "execution_count": 7,
   "metadata": {},
   "outputs": [
    {
     "data": {
      "text/plain": [
       "array([  0.31936407,   1.95127858,   1.63191451,  96.82844925,\n",
       "        17.21176483,  99.90383911,  -0.5868199 ,   1.85466585,\n",
       "       100.12205675])"
      ]
     },
     "execution_count": 7,
     "metadata": {},
     "output_type": "execute_result"
    }
   ],
   "source": [
    "X[0]"
   ]
  },
  {
   "cell_type": "code",
   "execution_count": 8,
   "metadata": {},
   "outputs": [],
   "source": [
    "# Split dataset\n",
    "n_train = int(X.shape[0] * 0.8)\n",
    "\n",
    "X_train, y_train = X[:n_train], y[:n_train]\n",
    "X_test, y_test = X[n_train:], y[n_train:]"
   ]
  },
  {
   "cell_type": "code",
   "execution_count": 9,
   "metadata": {},
   "outputs": [],
   "source": [
    "# Normalize data\n",
    "scaler = preprocessing.MinMaxScaler()\n",
    "\n",
    "X_train = scaler.fit_transform(X_train)\n",
    "X_test = scaler.transform(X_test)"
   ]
  },
  {
   "cell_type": "code",
   "execution_count": 10,
   "metadata": {},
   "outputs": [
    {
     "ename": "ValueError",
     "evalue": "y contains previously unseen labels: [-1.0, 1.0]",
     "output_type": "error",
     "traceback": [
      "\u001b[1;31m---------------------------------------------------------------------------\u001b[0m",
      "\u001b[1;31mValueError\u001b[0m                                Traceback (most recent call last)",
      "\u001b[1;32m<ipython-input-10-9ea623cb811c>\u001b[0m in \u001b[0;36m<module>\u001b[1;34m\u001b[0m\n\u001b[0;32m      3\u001b[0m \u001b[1;33m\u001b[0m\u001b[0m\n\u001b[0;32m      4\u001b[0m \u001b[0my_train\u001b[0m \u001b[1;33m=\u001b[0m \u001b[0mle\u001b[0m\u001b[1;33m.\u001b[0m\u001b[0mfit_transform\u001b[0m\u001b[1;33m(\u001b[0m\u001b[0my_train\u001b[0m\u001b[1;33m)\u001b[0m\u001b[1;33m\u001b[0m\u001b[1;33m\u001b[0m\u001b[0m\n\u001b[1;32m----> 5\u001b[1;33m \u001b[0my_test\u001b[0m \u001b[1;33m=\u001b[0m \u001b[0mle\u001b[0m\u001b[1;33m.\u001b[0m\u001b[0mtransform\u001b[0m\u001b[1;33m(\u001b[0m\u001b[0my_test\u001b[0m\u001b[1;33m)\u001b[0m\u001b[1;33m\u001b[0m\u001b[1;33m\u001b[0m\u001b[0m\n\u001b[0m\u001b[0;32m      6\u001b[0m \u001b[1;33m\u001b[0m\u001b[0m\n\u001b[0;32m      7\u001b[0m \u001b[0mprint\u001b[0m\u001b[1;33m(\u001b[0m\u001b[0mle\u001b[0m\u001b[1;33m.\u001b[0m\u001b[0mclasses_\u001b[0m\u001b[1;33m)\u001b[0m\u001b[1;33m\u001b[0m\u001b[1;33m\u001b[0m\u001b[0m\n",
      "\u001b[1;32m~\\anaconda3\\lib\\site-packages\\sklearn\\preprocessing\\_label.py\u001b[0m in \u001b[0;36mtransform\u001b[1;34m(self, y)\u001b[0m\n\u001b[0;32m    271\u001b[0m             \u001b[1;32mreturn\u001b[0m \u001b[0mnp\u001b[0m\u001b[1;33m.\u001b[0m\u001b[0marray\u001b[0m\u001b[1;33m(\u001b[0m\u001b[1;33m[\u001b[0m\u001b[1;33m]\u001b[0m\u001b[1;33m)\u001b[0m\u001b[1;33m\u001b[0m\u001b[1;33m\u001b[0m\u001b[0m\n\u001b[0;32m    272\u001b[0m \u001b[1;33m\u001b[0m\u001b[0m\n\u001b[1;32m--> 273\u001b[1;33m         \u001b[0m_\u001b[0m\u001b[1;33m,\u001b[0m \u001b[0my\u001b[0m \u001b[1;33m=\u001b[0m \u001b[0m_encode\u001b[0m\u001b[1;33m(\u001b[0m\u001b[0my\u001b[0m\u001b[1;33m,\u001b[0m \u001b[0muniques\u001b[0m\u001b[1;33m=\u001b[0m\u001b[0mself\u001b[0m\u001b[1;33m.\u001b[0m\u001b[0mclasses_\u001b[0m\u001b[1;33m,\u001b[0m \u001b[0mencode\u001b[0m\u001b[1;33m=\u001b[0m\u001b[1;32mTrue\u001b[0m\u001b[1;33m)\u001b[0m\u001b[1;33m\u001b[0m\u001b[1;33m\u001b[0m\u001b[0m\n\u001b[0m\u001b[0;32m    274\u001b[0m         \u001b[1;32mreturn\u001b[0m \u001b[0my\u001b[0m\u001b[1;33m\u001b[0m\u001b[1;33m\u001b[0m\u001b[0m\n\u001b[0;32m    275\u001b[0m \u001b[1;33m\u001b[0m\u001b[0m\n",
      "\u001b[1;32m~\\anaconda3\\lib\\site-packages\\sklearn\\preprocessing\\_label.py\u001b[0m in \u001b[0;36m_encode\u001b[1;34m(values, uniques, encode, check_unknown)\u001b[0m\n\u001b[0;32m    116\u001b[0m     \u001b[1;32melse\u001b[0m\u001b[1;33m:\u001b[0m\u001b[1;33m\u001b[0m\u001b[1;33m\u001b[0m\u001b[0m\n\u001b[0;32m    117\u001b[0m         return _encode_numpy(values, uniques, encode,\n\u001b[1;32m--> 118\u001b[1;33m                              check_unknown=check_unknown)\n\u001b[0m\u001b[0;32m    119\u001b[0m \u001b[1;33m\u001b[0m\u001b[0m\n\u001b[0;32m    120\u001b[0m \u001b[1;33m\u001b[0m\u001b[0m\n",
      "\u001b[1;32m~\\anaconda3\\lib\\site-packages\\sklearn\\preprocessing\\_label.py\u001b[0m in \u001b[0;36m_encode_numpy\u001b[1;34m(values, uniques, encode, check_unknown)\u001b[0m\n\u001b[0;32m     48\u001b[0m             \u001b[1;32mif\u001b[0m \u001b[0mdiff\u001b[0m\u001b[1;33m:\u001b[0m\u001b[1;33m\u001b[0m\u001b[1;33m\u001b[0m\u001b[0m\n\u001b[0;32m     49\u001b[0m                 raise ValueError(\"y contains previously unseen labels: %s\"\n\u001b[1;32m---> 50\u001b[1;33m                                  % str(diff))\n\u001b[0m\u001b[0;32m     51\u001b[0m         \u001b[0mencoded\u001b[0m \u001b[1;33m=\u001b[0m \u001b[0mnp\u001b[0m\u001b[1;33m.\u001b[0m\u001b[0msearchsorted\u001b[0m\u001b[1;33m(\u001b[0m\u001b[0muniques\u001b[0m\u001b[1;33m,\u001b[0m \u001b[0mvalues\u001b[0m\u001b[1;33m)\u001b[0m\u001b[1;33m\u001b[0m\u001b[1;33m\u001b[0m\u001b[0m\n\u001b[0;32m     52\u001b[0m         \u001b[1;32mreturn\u001b[0m \u001b[0muniques\u001b[0m\u001b[1;33m,\u001b[0m \u001b[0mencoded\u001b[0m\u001b[1;33m\u001b[0m\u001b[1;33m\u001b[0m\u001b[0m\n",
      "\u001b[1;31mValueError\u001b[0m: y contains previously unseen labels: [-1.0, 1.0]"
     ]
    }
   ],
   "source": [
    "# Encode trading signal with integers between 0 and n-1 classes\n",
    "le = preprocessing.LabelEncoder()\n",
    "\n",
    "y_train = le.fit_transform(y_train)\n",
    "y_test = le.transform(y_test)\n",
    "\n",
    "print(le.classes_)"
   ]
  },
  {
   "cell_type": "code",
   "execution_count": null,
   "metadata": {},
   "outputs": [],
   "source": [
    "## Create and train the Agent\n",
    "# Variable definiton\n",
    "episodes = 20\n",
    "look_back = 5\n",
    "batch_size = 32\n",
    "action_size = len(le.classes_)\n",
    "n_features = X_train.shape[1]"
   ]
  },
  {
   "cell_type": "code",
   "execution_count": null,
   "metadata": {},
   "outputs": [],
   "source": [
    "# Create Agent\n",
    "agent = Agent(look_back, action_size, n_features)"
   ]
  },
  {
   "cell_type": "code",
   "execution_count": null,
   "metadata": {},
   "outputs": [],
   "source": [
    "def run(agent, dataX, dataY, episodes, look_back):\n",
    "    \"\"\"\n",
    "    Function run to train the agent\n",
    "    \"\"\"\n",
    "    \n",
    "    # Length of dataset\n",
    "    times = len(dataX)\n",
    "\n",
    "    # List of total rewards\n",
    "    total_reward_list = []\n",
    "\n",
    "    for ep in range(episodes):\n",
    "\n",
    "        # print('Episode: ' + str(ep))\n",
    "        \n",
    "        # Initial state and position\n",
    "        state = dataX[:look_back, :][np.newaxis, :, :]\n",
    "        pos = dataY[look_back - 1]\n",
    "\n",
    "        done = False\n",
    "        total_reward = 0\n",
    "\n",
    "        for t in range(1, times - look_back + 1):\n",
    "\n",
    "            # Predict action based on the current state\n",
    "            action = agent.act(state)\n",
    "\n",
    "            # Calculate reward\n",
    "            if action == pos:   # 0:-1      1:0     2:1\n",
    "                reward = +1\n",
    "\n",
    "            elif (pos == 0 or pos == 2):\n",
    "                if action == 1:\n",
    "                    reward = 0\n",
    "                else:\n",
    "                    reward = -1\n",
    "            else:\n",
    "                reward = -1\n",
    "\n",
    "            total_reward += reward\n",
    "\n",
    "            # Final state\n",
    "            if t == times - look_back:\n",
    "                done = True\n",
    "\n",
    "            # Receive next state and position\n",
    "            next_state = dataX[t:t + look_back, :][np.newaxis, :, :]\n",
    "            next_pos = dataY[t + look_back - 1]\n",
    "            \n",
    "            # Remember current experience\n",
    "            agent.remember(state, action, reward, next_state, done)\n",
    "            \n",
    "            # Make next_state the new current state; the same for pos\n",
    "            state = next_state\n",
    "            pos = next_pos\n",
    "\n",
    "            if done:\n",
    "                print('Episode: %i ---> Total Reward: %i' %(ep, total_reward))\n",
    "                total_reward_list.append(total_reward)\n",
    "\n",
    "            # Train the agent with previous experiences\n",
    "            if len(agent.memory) > batch_size:\n",
    "                agent.replay(batch_size)\n",
    "\n",
    "        if (ep + 1) % 5 == 0 and ep > 0:\n",
    "            file = 'checkpoints/' + symbol + '_robot_checkpoint' + str(ep + 1)\n",
    "            # Serialize weights to HDF5\n",
    "            agent.model.save_weights(file + \".h5\")\n",
    "            # Save epsilon\n",
    "            pickle.dump(agent.epsilon, open(file + \"_epsilon.pickle\", \"wb\"))\n",
    "\n",
    "    # Save list of rewards along the epochs\n",
    "    np.savetxt(file + '_total_reward.txt', total_reward_list)\n",
    "\n",
    "    return\n"
   ]
  },
  {
   "cell_type": "code",
   "execution_count": null,
   "metadata": {},
   "outputs": [],
   "source": [
    "# Train Agent\n",
    "run(agent, X_train, y_train, episodes, look_back)"
   ]
  },
  {
   "cell_type": "code",
   "execution_count": null,
   "metadata": {},
   "outputs": [],
   "source": [
    "# Load rewards\n",
    "total_reward_list = np.loadtxt( 'checkpoints/'+ symbol + '_robot_checkpoint' + str(episodes) + '_total_reward.txt')\n",
    "# Plot\n",
    "plt.figure()\n",
    "plt.plot(np.arange(1, episodes+1), total_reward_list)\n",
    "plt.xlabel('Episodes')\n",
    "plt.ylabel('Total Reward')\n",
    "plt.show()"
   ]
  },
  {
   "cell_type": "code",
   "execution_count": null,
   "metadata": {},
   "outputs": [],
   "source": [
    "total_reward_list"
   ]
  },
  {
   "cell_type": "code",
   "execution_count": null,
   "metadata": {},
   "outputs": [],
   "source": [
    "def evaluate(agent, dataX, dataY, look_back):\n",
    "    \"\"\"\n",
    "    Function run to evaluate the trained agent\n",
    "    \"\"\"\n",
    "    \n",
    "    # Length of dataset\n",
    "    times = len(dataX)\n",
    "\n",
    "    # Initial state and position\n",
    "    state = dataX[:look_back, :][np.newaxis, :, :]\n",
    "    pos = dataY[look_back - 1]\n",
    "\n",
    "    # List of predicted positions\n",
    "    pos_list = []\n",
    "    \n",
    "    done = False\n",
    "    total_reward = 0\n",
    "    \n",
    "    for t in range(1, times - look_back + 1):\n",
    "\n",
    "        # Predict action based on the current state\n",
    "        action = agent.act(state)\n",
    "\n",
    "        # Calculate reward\n",
    "        if action == pos:   # 0:-1      1:0     2:1\n",
    "            reward = +1\n",
    "\n",
    "        elif (pos == 0 or pos == 2):\n",
    "            if action == 1:\n",
    "                reward = 0\n",
    "            else:\n",
    "                reward = -1\n",
    "        else:\n",
    "            reward = -1\n",
    "\n",
    "        pos_list.append(action)\n",
    "        total_reward += reward\n",
    "\n",
    "        # Final state\n",
    "        if t == times - look_back:\n",
    "            done = True\n",
    "\n",
    "        # Receive next state and position\n",
    "        next_state = dataX[t:t + look_back, :][np.newaxis, :, :]\n",
    "        next_pos = dataY[t + look_back - 1]\n",
    "\n",
    "        # Remember current experience\n",
    "        agent.remember(state, action, reward, next_state, done)\n",
    "\n",
    "        # Make next_state the new current state; the same for pos\n",
    "        state = next_state\n",
    "        pos = next_pos\n",
    "\n",
    "        if done:\n",
    "            print('Total Reward: %i' % total_reward)\n",
    "\n",
    "    return np.array(pos_list)"
   ]
  },
  {
   "cell_type": "code",
   "execution_count": null,
   "metadata": {},
   "outputs": [],
   "source": [
    "# Evaluate the model\n",
    "# Make predictions\n",
    "y_pred_test = evaluate(agent, X_test, y_test, look_back)\n",
    "\n",
    "# Calculate and print accuracy\n",
    "acc = accuracy_score(y_test[look_back-1:-1], y_pred_test)\n",
    "\n",
    "print('Accuracy: %.2f %%' % (acc*100))"
   ]
  },
  {
   "cell_type": "code",
   "execution_count": null,
   "metadata": {},
   "outputs": [],
   "source": [
    "# Calculate and print precision, recall, f1 score and support\n",
    "p, r, f1, s = precision_recall_fscore_support(y_test[look_back-1:-1], y_pred_test, average=None)\n",
    "results = pd.DataFrame({'1-Precision': p, '2-Recall': r, '3-F1 score': f1, '4-Support': s}, index=le.classes_)\n",
    "\n",
    "print(results.round(decimals=3))"
   ]
  },
  {
   "cell_type": "code",
   "execution_count": null,
   "metadata": {},
   "outputs": [],
   "source": [
    "# Decodificate labels\n",
    "y_true_test = le.inverse_transform(y_test[look_back-1:-1])\n",
    "y_pred_test = le.inverse_transform(y_pred_test)"
   ]
  },
  {
   "cell_type": "code",
   "execution_count": null,
   "metadata": {},
   "outputs": [],
   "source": [
    "# Plot strategy\n",
    "plt.figure()\n",
    "plt.plot(y_true_test, label='true')\n",
    "plt.plot(y_pred_test, label='pred')\n",
    "plt.legend()\n",
    "plt.show()"
   ]
  },
  {
   "cell_type": "code",
   "execution_count": null,
   "metadata": {},
   "outputs": [],
   "source": []
  }
 ],
 "metadata": {
  "kernelspec": {
   "display_name": "Python 3",
   "language": "python",
   "name": "python3"
  },
  "language_info": {
   "codemirror_mode": {
    "name": "ipython",
    "version": 3
   },
   "file_extension": ".py",
   "mimetype": "text/x-python",
   "name": "python",
   "nbconvert_exporter": "python",
   "pygments_lexer": "ipython3",
   "version": "3.7.6"
  }
 },
 "nbformat": 4,
 "nbformat_minor": 2
}
