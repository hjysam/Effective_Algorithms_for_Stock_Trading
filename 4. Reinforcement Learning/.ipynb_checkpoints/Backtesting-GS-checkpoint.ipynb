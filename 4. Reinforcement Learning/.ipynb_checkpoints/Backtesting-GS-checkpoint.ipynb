{
 "cells": [
  {
   "cell_type": "code",
   "execution_count": 1,
   "metadata": {
    "scrolled": true
   },
   "outputs": [
    {
     "name": "stderr",
     "output_type": "stream",
     "text": [
      "C:\\Users\\Elid-PC.DESKTOP-MG9DS93\\anaconda3\\lib\\site-packages\\pandas_datareader\\compat\\__init__.py:7: FutureWarning: pandas.util.testing is deprecated. Use the functions in the public API at pandas.testing instead.\n",
      "  from pandas.util.testing import assert_frame_equal\n"
     ]
    },
    {
     "data": {
      "application/javascript": [
       "\n",
       "console.log('Starting front end url_querystring_target comm target');\n",
       "const comm = Jupyter.notebook.kernel.comm_manager.new_comm('url_querystring_target', {'init': 1});\n",
       "comm.send({'ipyparams_browser_url': window.location.href});\n",
       "console.log('Sent window.location.href on url_querystring_target comm target');\n",
       "\n",
       "comm.on_msg(function(msg) {\n",
       "    console.log(msg.content.data);\n",
       "});\n"
      ],
      "text/plain": [
       "<IPython.core.display.Javascript object>"
      ]
     },
     "metadata": {},
     "output_type": "display_data"
    },
    {
     "name": "stderr",
     "output_type": "stream",
     "text": [
      "Using TensorFlow backend.\n"
     ]
    }
   ],
   "source": [
    "# Import libraries\n",
    "import pandas as pd\n",
    "from pandas_datareader import data as pdr\n",
    "\n",
    "import numpy as np\n",
    "import matplotlib.pyplot as plt\n",
    "import pickle\n",
    "\n",
    "from sklearn import preprocessing\n",
    "from sklearn.metrics import accuracy_score\n",
    "from sklearn.metrics import precision_recall_fscore_support\n",
    "\n",
    "import talib, re, ipyparams\n",
    "\n",
    "from Agent import Agent"
   ]
  },
  {
   "cell_type": "code",
   "execution_count": 2,
   "metadata": {},
   "outputs": [
    {
     "data": {
      "text/plain": [
       "503"
      ]
     },
     "execution_count": 2,
     "metadata": {},
     "output_type": "execute_result"
    }
   ],
   "source": [
    "end_date = '2020-04-19'\n",
    "start_date = '2018-04-20'\n",
    "\n",
    "symbol = 'GS'\n",
    "Date = pd.DataFrame(pdr.DataReader(symbol,'yahoo', start_date, end_date))\n",
    "\n",
    "alldata = pd.DataFrame({'Date': Date.index})\n",
    "alldata[symbol] = pdr.DataReader(symbol, 'yahoo', start_date, end_date)['Adj Close'].values\n",
    "# Stock symbol\n",
    "\n",
    "# Load close prices of to NumPy array\n",
    "close = alldata[symbol].values\n",
    "len(close)"
   ]
  },
  {
   "cell_type": "code",
   "execution_count": 3,
   "metadata": {},
   "outputs": [
    {
     "data": {
      "text/plain": [
       "array([244.84466553, 242.71574402, 237.61982727, 233.59320068,\n",
       "       230.45280457, 231.28125   , 231.00189209, 229.58581543,\n",
       "       227.98672485, 225.46286011, 224.84634399, 226.32020569,\n",
       "       228.49726868, 228.30459595, 232.86106873, 234.5083313 ,\n",
       "       234.00741577, 234.96110535, 232.6973114 , 232.11932373,\n",
       "       230.32757568, 228.30459595, 228.97894287, 229.2678833 ,\n",
       "       229.0848999 , 227.43765259, 226.38763428, 218.70040894,\n",
       "       221.53288269, 218.36206055, 220.74987793, 222.23860168,\n",
       "       220.74017334, 224.5007019 , 225.68011475, 225.62211609,\n",
       "       226.29879761, 224.8874054 , 226.04745483, 225.8734436 ,\n",
       "       224.20103455, 223.68865967, 220.72085571, 220.23748779,\n",
       "       219.42544556, 218.49740601, 214.16648865, 214.20518494,\n",
       "       212.85176086, 215.9839325 , 213.22880554, 215.82926941,\n",
       "       213.04512024, 213.39315796, 214.40817261, 220.40182495,\n",
       "       219.29978943, 218.14936829, 219.65748596, 218.87440491,\n",
       "       223.73703003, 223.33099365, 223.54367065, 221.98727417,\n",
       "       223.97869873, 225.97979736, 228.02922058, 228.81228638,\n",
       "       229.21827698, 229.73066711, 230.99703979, 229.52763367,\n",
       "       228.18388367, 226.20214844, 226.29879761, 228.07754517,\n",
       "       229.91433716, 228.50291443, 225.99911499, 221.96791077,\n",
       "       219.30943298, 221.91957092, 221.61988831, 225.24507141,\n",
       "       225.61245728, 227.93255615, 230.70704651, 231.37405396,\n",
       "       228.47390747, 227.28488159, 234.52558899, 234.30322266,\n",
       "       234.13832092, 232.19850159, 230.65634155, 230.51083374,\n",
       "       230.41383362, 227.46530151, 226.87365723, 224.93382263,\n",
       "       223.28495789, 221.28691101, 221.46148682, 222.34414673,\n",
       "       221.03474426, 222.00466919, 228.49342346, 230.25866699,\n",
       "       228.26063538, 225.89402771, 225.50605774, 221.9949646 ,\n",
       "       220.88925171, 217.49455261, 218.55174255, 219.26950073,\n",
       "       220.92805481, 220.6370697 , 218.92033386, 218.57113647,\n",
       "       216.20454407, 208.42579651, 206.56355286, 207.4364624 ,\n",
       "       208.74588013, 215.03092957, 221.41300964, 218.1831665 ,\n",
       "       220.13272095, 214.93395996, 211.98538208, 202.88754272,\n",
       "       207.57225037, 205.97190857, 208.0378418 , 212.68373108,\n",
       "       218.5905304 , 220.14241028, 222.78057861, 221.8397522 ,\n",
       "       221.3354187 , 224.32275391, 224.68162537, 215.95236206,\n",
       "       199.85173035, 198.88179016, 196.39880371, 197.61122131,\n",
       "       196.03993225, 192.25726318, 185.58421326, 186.80630493,\n",
       "       183.41160583, 188.49397278, 187.82473755, 192.3833313 ,\n",
       "       189.75396729, 185.70275879, 186.61817932, 179.48962402,\n",
       "       179.27536011, 174.97094727, 174.15293884, 172.17602539,\n",
       "       172.0786438 , 171.31904602, 168.25144958, 163.61592102,\n",
       "       167.01463318, 164.82348633, 164.00547791, 155.86408997,\n",
       "       152.26086426, 158.66877747, 161.08392334, 158.76615906,\n",
       "       162.68103027, 167.53079224, 165.07667542, 170.47180176,\n",
       "       171.41642761, 170.78343201, 171.85466003, 171.39694214,\n",
       "       172.30262756, 174.04580688, 175.20469666, 191.92562866,\n",
       "       193.88305664, 197.24281311, 192.50994873, 191.75033569,\n",
       "       192.6268158 , 195.4899292 , 194.49659729, 195.25617981,\n",
       "       197.18440247, 192.83131409, 191.39974976, 192.5488739 ,\n",
       "       192.83131409, 191.47766113, 188.02050781, 186.65713501,\n",
       "       186.32601929, 189.40339661, 189.59814453, 187.49462891,\n",
       "       193.3085022 , 193.4740448 , 193.40588379, 191.22445679,\n",
       "       190.87388611, 193.45457458, 193.69801331, 193.69804382,\n",
       "       192.32913208, 193.79580688, 191.62515259, 191.6446991 ,\n",
       "       190.41270447, 188.48648071, 190.90159607, 191.6153717 ,\n",
       "       192.26069641, 192.8669281 , 193.08204651, 193.85447693,\n",
       "       197.97093201, 196.65092468, 190.00202942, 190.25624084,\n",
       "       184.76113892, 184.32112122, 186.45269775, 185.80735779,\n",
       "       186.93179321, 187.72381592, 192.36825562, 193.11135864,\n",
       "       196.39671326, 197.73626709, 197.88293457, 198.03935242,\n",
       "       196.16201782, 198.46960449, 198.32292175, 203.22158813,\n",
       "       195.46781921, 197.35491943, 203.28027344, 201.33448792,\n",
       "       200.05360413, 199.6038208 , 196.08381653, 196.92469788,\n",
       "       198.56738281, 202.322052  , 201.34425354, 200.18070984,\n",
       "       200.43495178, 202.90872192, 201.84292603, 198.12736511,\n",
       "       196.48469543, 197.14959717, 197.56027222, 190.63760376,\n",
       "       191.91847229, 192.03579712, 194.71492004, 193.04290771,\n",
       "       192.85716248, 194.68559265, 191.17536926, 187.70425415,\n",
       "       188.71136475, 185.23046875, 184.7000885 , 184.03219604,\n",
       "       179.239151  , 179.92668152, 186.49749756, 185.08314514,\n",
       "       186.42874146, 186.42874146, 190.66195679, 191.26109314,\n",
       "       186.83143616, 188.03952026, 188.24577332, 187.43057251,\n",
       "       191.50662231, 192.15489197, 192.21380615, 192.44953918,\n",
       "       193.97193909, 192.56739807, 193.50047302, 195.76933289,\n",
       "       200.95526123, 203.17501831, 202.31066895, 202.36961365,\n",
       "       204.19648743, 202.08477783, 204.06881714, 202.30085754,\n",
       "       207.58502197, 210.12889099, 207.81091309, 211.68075562,\n",
       "       209.50027466, 210.69856262, 209.71636963, 210.18782043,\n",
       "       215.52108765, 218.07476807, 216.0612793 , 218.18281555,\n",
       "       216.39523315, 217.45597839, 216.20861816, 207.83056641,\n",
       "       205.64028931, 198.08728027, 202.34013367, 202.07496643,\n",
       "       203.31251526, 203.21427917, 197.93013   , 200.47399902,\n",
       "       192.07629395, 192.68525696, 195.86755371, 198.59802246,\n",
       "       196.41757202, 197.10510254, 198.81408691, 192.70489502,\n",
       "       196.09344482, 194.54159546, 196.84971619, 201.06999207,\n",
       "       201.53451538, 196.65206909, 199.37991333, 204.63793945,\n",
       "       204.79606628, 209.51049805, 213.11798096, 214.27435303,\n",
       "       216.1917572 , 217.33822632, 214.68945312, 213.39472961,\n",
       "       214.55108643, 212.72262573, 211.25      , 210.9732666 ,\n",
       "       205.32977295, 207.58320618, 205.79429626, 206.53556824,\n",
       "       204.81582642, 200.32872009, 195.94046021, 194.94223022,\n",
       "       198.46075439, 198.06539917, 195.07069397, 194.5567627 ,\n",
       "       197.54156494, 202.29553223, 203.42227173, 204.05480957,\n",
       "       205.00361633, 204.05480957, 204.11412048, 206.81230164,\n",
       "       207.15823364, 208.85820007, 208.59132385, 211.73428345,\n",
       "       215.21327209, 215.10456848, 213.29586792, 210.89419556,\n",
       "       214.85748291, 217.30857849, 216.09291077, 215.87547302,\n",
       "       220.68873596, 220.31317139, 216.47836304, 217.84230042,\n",
       "       216.76499939, 216.873703  , 217.68415833, 217.17021179,\n",
       "       217.47659302, 215.37142944, 215.68768311, 217.71380615,\n",
       "       220.1550293 , 219.85853577, 220.35270691, 220.00483704,\n",
       "       216.31738281, 210.95019531, 214.62771606, 215.82041931,\n",
       "       223.24502563, 220.46203613, 220.53161621, 219.84580994,\n",
       "       224.67626953, 223.63264465, 226.6541748 , 229.74526978,\n",
       "       229.04953003, 228.54263306, 227.53875732, 227.69778442,\n",
       "       228.51281738, 229.80491638, 229.258255  , 228.40348816,\n",
       "       228.53268433, 232.89601135, 230.17266846, 232.52825928,\n",
       "       234.05891418, 236.31509399, 241.1257019 , 240.63867188,\n",
       "       243.71983337, 244.167099  , 243.71983337, 248.2024231 ,\n",
       "       247.9440155 , 244.20684814, 245.54866028, 244.08758545,\n",
       "       240.4498291 , 236.6927948 , 241.1058197 , 238.6607666 ,\n",
       "       242.64639282, 236.30516052, 237.55751038, 240.4697113 ,\n",
       "       242.81536865, 240.35043335, 236.5536499 , 235.9175415 ,\n",
       "       235.02301025, 237.19969177, 236.90151978, 235.63923645,\n",
       "       231.79277039, 235.88772583, 231.31567383, 229.2184906 ,\n",
       "       223.17544556, 216.28756714, 214.46867371, 204.44000244,\n",
       "       200.77000427, 209.47000122, 203.42999268, 208.74000549,\n",
       "       198.78999329, 192.8500061 , 172.80999756, 184.3500061 ,\n",
       "       171.88999939, 150.67999268, 177.16999817, 154.66000366,\n",
       "       158.66999817, 140.02000427, 149.49000549, 138.41000366,\n",
       "       134.97000122, 153.6000061 , 155.13000488, 165.78999329,\n",
       "       158.33999634, 159.61999512, 154.58999634, 145.28999329,\n",
       "       149.92999268, 146.92999268, 158.22999573, 166.02000427,\n",
       "       176.96000671, 184.25999451, 179.17999268, 178.22999573,\n",
       "       178.52000427, 177.03999329, 183.49000549])"
      ]
     },
     "execution_count": 3,
     "metadata": {},
     "output_type": "execute_result"
    }
   ],
   "source": [
    "close"
   ]
  },
  {
   "cell_type": "code",
   "execution_count": 4,
   "metadata": {},
   "outputs": [
    {
     "data": {
      "text/html": [
       "<div>\n",
       "<style scoped>\n",
       "    .dataframe tbody tr th:only-of-type {\n",
       "        vertical-align: middle;\n",
       "    }\n",
       "\n",
       "    .dataframe tbody tr th {\n",
       "        vertical-align: top;\n",
       "    }\n",
       "\n",
       "    .dataframe thead th {\n",
       "        text-align: right;\n",
       "    }\n",
       "</style>\n",
       "<table border=\"1\" class=\"dataframe\">\n",
       "  <thead>\n",
       "    <tr style=\"text-align: right;\">\n",
       "      <th></th>\n",
       "      <th>macd</th>\n",
       "      <th>macdsignal</th>\n",
       "      <th>macdhist</th>\n",
       "    </tr>\n",
       "  </thead>\n",
       "  <tbody>\n",
       "    <tr>\n",
       "      <th>0</th>\n",
       "      <td>-4.182662</td>\n",
       "      <td>-1.106652</td>\n",
       "      <td>-3.076010</td>\n",
       "    </tr>\n",
       "    <tr>\n",
       "      <th>1</th>\n",
       "      <td>-4.602018</td>\n",
       "      <td>-1.805725</td>\n",
       "      <td>-2.796293</td>\n",
       "    </tr>\n",
       "    <tr>\n",
       "      <th>2</th>\n",
       "      <td>-5.463825</td>\n",
       "      <td>-2.537345</td>\n",
       "      <td>-2.926480</td>\n",
       "    </tr>\n",
       "    <tr>\n",
       "      <th>3</th>\n",
       "      <td>-5.241662</td>\n",
       "      <td>-3.078209</td>\n",
       "      <td>-2.163453</td>\n",
       "    </tr>\n",
       "    <tr>\n",
       "      <th>4</th>\n",
       "      <td>-4.586799</td>\n",
       "      <td>-3.379927</td>\n",
       "      <td>-1.206872</td>\n",
       "    </tr>\n",
       "  </tbody>\n",
       "</table>\n",
       "</div>"
      ],
      "text/plain": [
       "       macd  macdsignal  macdhist\n",
       "0 -4.182662   -1.106652 -3.076010\n",
       "1 -4.602018   -1.805725 -2.796293\n",
       "2 -5.463825   -2.537345 -2.926480\n",
       "3 -5.241662   -3.078209 -2.163453\n",
       "4 -4.586799   -3.379927 -1.206872"
      ]
     },
     "execution_count": 4,
     "metadata": {},
     "output_type": "execute_result"
    }
   ],
   "source": [
    "macd, macdsignal, macdhist = talib.MACD(close, fastperiod=5, slowperiod=20, signalperiod=9)\n",
    "macdhist = macdhist[~np.isnan(macdhist)]\n",
    "macd = macd[-len(macdhist):]\n",
    "macdsignal = macdsignal[-len(macdhist):]\n",
    "\n",
    "\n",
    "pd.DataFrame({'macd': macd, 'macdsignal': macdsignal, 'macdhist': macdhist}).head()"
   ]
  },
  {
   "cell_type": "code",
   "execution_count": 5,
   "metadata": {},
   "outputs": [],
   "source": [
    "def prepare_dataset(close):\n",
    "    \"\"\"\n",
    "    Function prepare_dataset to generate input data and trading strategy from stock close prices\n",
    "    \"\"\"\n",
    "\n",
    "    macd, macdsignal, macdhist = talib.MACD(close, fastperiod=12, slowperiod=26, signalperiod=9)\n",
    "\n",
    "    # Cancel NaN values\n",
    "    macdhist = macdhist[~np.isnan(macdhist)]\n",
    "    macd = macd[-len(macdhist):]\n",
    "    macdsignal = macdsignal[-len(macdhist):]\n",
    "\n",
    "    # Scaling features to a range [0, 1]\n",
    "    min_max_scaler = preprocessing.MinMaxScaler(feature_range=(-1, 1))\n",
    "    macdhist_norm = min_max_scaler.fit_transform(np.expand_dims(macdhist, axis=1))\n",
    "\n",
    "    # Implement strategy\n",
    "    start_sell = 0.4\n",
    "    stop_sell = 0.1\n",
    "    start_buy = -0.4\n",
    "    stop_buy = -0.1\n",
    "\n",
    "    y = np.full(len(macdhist), np.nan)\n",
    "    y[0] = 0\n",
    "\n",
    "    for i in range(1, len(macdhist)):\n",
    "\n",
    "        if y[i-1] == 0:\n",
    "            if (macdhist_norm[i] >= start_sell):\n",
    "                # Enter sell position\n",
    "                y[i] = -1\n",
    "            elif (macdhist_norm[i] <= start_buy):\n",
    "                # Enter buy position\n",
    "                y[i] = 1\n",
    "            else:\n",
    "                y[i] = 0\n",
    "        elif y[i-1] == -1:\n",
    "            if macdhist_norm[i] > stop_sell:\n",
    "                # Stay in sell position\n",
    "                y[i] = -1\n",
    "            else:\n",
    "                # Leave sell position\n",
    "                y[i] = 0\n",
    "        else:\n",
    "            if macdhist_norm[i] < stop_buy:\n",
    "                # Stay in buy position\n",
    "                y[i] = 1\n",
    "            else:\n",
    "                # Leave buy position\n",
    "                y[i] = 0\n",
    "\n",
    "    # Plot strategy\n",
    "    dates = np.arange(len(macdhist))\n",
    "    plt.plot(dates, y,'g', label='Strategy Positions')\n",
    "    plt.bar(dates, macdhist_norm[:, 0], width=1, color='blue', label='MACD histogram')\n",
    "    plt.plot(dates, start_sell * np.ones(len(macdhist)), 'k--', lw=1)\n",
    "    plt.plot(dates, stop_sell * np.ones(len(macdhist)), 'k--', lw=1)\n",
    "    plt.plot(dates, start_buy * np.ones(len(macdhist)), 'k--', lw=1)\n",
    "    plt.plot(dates, stop_buy * np.ones(len(macdhist)), 'k--', lw=1)\n",
    "    plt.xlabel('Days')\n",
    "    plt.xlim((0, len(y)))\n",
    "    plt.legend()\n",
    "    # plt.savefig('images/AAL_macd.png', bbox_inches='tight')\n",
    "    plt.show()\n",
    "    \n",
    "    # Generate input data - technical indicators\n",
    "    ind1 = talib.MIDPOINT(close)    # Overlap: MidPoint over period\n",
    "    ind2 = talib.HT_DCPERIOD(close) # Cycle Indicator Functions:  Hilbert Transform - Dominant Cycle Period\n",
    "    ind3 = talib.MAX(close)         # Math Operator: Highest value over a specified period\n",
    "    ind4 = talib.SIN(close)         # Math Transform: Vector Trigonometric Sin\n",
    "    ind5 = talib.APO(close)         # Momentum: Absolute Price Oscillator\n",
    "    ind6 = talib.TEMA(close, timeperiod=5) ## Triple Exponential Moving Average\n",
    "\n",
    "    x = np.vstack((macdhist, macd, macdsignal, ind1[-len(macdhist):], ind2[-len(macdhist):],\n",
    "                   ind3[-len(macdhist):], ind4[-len(macdhist):], ind5[-len(macdhist):],\n",
    "                   ind6[-len(macdhist):]))\n",
    "    x = x.T\n",
    "\n",
    "    return x, y"
   ]
  },
  {
   "cell_type": "code",
   "execution_count": 6,
   "metadata": {},
   "outputs": [
    {
     "data": {
      "image/png": "[encoded data removed]",
      "text/plain": [
       "<Figure size 432x288 with 1 Axes>"
      ]
     },
     "metadata": {
      "needs_background": "light"
     },
     "output_type": "display_data"
    }
   ],
   "source": [
    "# Implement MACD trading strategy\n",
    "X, y = prepare_dataset(close)"
   ]
  },
  {
   "cell_type": "code",
   "execution_count": 7,
   "metadata": {},
   "outputs": [
    {
     "data": {
      "text/plain": [
       "array([ -0.69696817,  -2.69016294,  -1.99319477, 224.34481812,\n",
       "        17.21176483, 234.96110535,  -0.99242381,  -3.27792515,\n",
       "       223.45350419])"
      ]
     },
     "execution_count": 7,
     "metadata": {},
     "output_type": "execute_result"
    }
   ],
   "source": [
    "X[0]"
   ]
  },
  {
   "cell_type": "code",
   "execution_count": 8,
   "metadata": {},
   "outputs": [],
   "source": [
    "# Split dataset\n",
    "n_train = int(X.shape[0] * 0.8)\n",
    "\n",
    "X_train, y_train = X[:n_train], y[:n_train]\n",
    "X_test, y_test = X[n_train:], y[n_train:]"
   ]
  },
  {
   "cell_type": "code",
   "execution_count": 9,
   "metadata": {},
   "outputs": [],
   "source": [
    "# Normalize data\n",
    "scaler = preprocessing.MinMaxScaler()\n",
    "\n",
    "X_train = scaler.fit_transform(X_train)\n",
    "X_test = scaler.transform(X_test)"
   ]
  },
  {
   "cell_type": "code",
   "execution_count": 10,
   "metadata": {},
   "outputs": [
    {
     "name": "stdout",
     "output_type": "stream",
     "text": [
      "[-1.  0.  1.]\n"
     ]
    }
   ],
   "source": [
    "# Encode trading signal with integers between 0 and n-1 classes\n",
    "le = preprocessing.LabelEncoder()\n",
    "\n",
    "y_train = le.fit_transform(y_train)\n",
    "y_test = le.transform(y_test)\n",
    "\n",
    "print(le.classes_)"
   ]
  },
  {
   "cell_type": "code",
   "execution_count": 11,
   "metadata": {},
   "outputs": [],
   "source": [
    "## Create and train the Agent\n",
    "# Variable definiton\n",
    "episodes = 20\n",
    "look_back = 5\n",
    "batch_size = 32\n",
    "action_size = len(le.classes_)\n",
    "n_features = X_train.shape[1]"
   ]
  },
  {
   "cell_type": "code",
   "execution_count": 12,
   "metadata": {},
   "outputs": [],
   "source": [
    "# Create Agent\n",
    "agent = Agent(look_back, action_size, n_features)"
   ]
  },
  {
   "cell_type": "code",
   "execution_count": 13,
   "metadata": {},
   "outputs": [],
   "source": [
    "def run(agent, dataX, dataY, episodes, look_back):\n",
    "    \"\"\"\n",
    "    Function run to train the agent\n",
    "    \"\"\"\n",
    "    \n",
    "    # Length of dataset\n",
    "    times = len(dataX)\n",
    "\n",
    "    # List of total rewards\n",
    "    total_reward_list = []\n",
    "\n",
    "    for ep in range(episodes):\n",
    "\n",
    "        # print('Episode: ' + str(ep))\n",
    "        \n",
    "        # Initial state and position\n",
    "        state = dataX[:look_back, :][np.newaxis, :, :]\n",
    "        pos = dataY[look_back - 1]\n",
    "\n",
    "        done = False\n",
    "        total_reward = 0\n",
    "\n",
    "        for t in range(1, times - look_back + 1):\n",
    "\n",
    "            # Predict action based on the current state\n",
    "            action = agent.act(state)\n",
    "\n",
    "            # Calculate reward\n",
    "            if action == pos:   # 0:-1      1:0     2:1\n",
    "                reward = +1\n",
    "\n",
    "            elif (pos == 0 or pos == 2):\n",
    "                if action == 1:\n",
    "                    reward = 0\n",
    "                else:\n",
    "                    reward = -1\n",
    "            else:\n",
    "                reward = -1\n",
    "\n",
    "            total_reward += reward\n",
    "\n",
    "            # Final state\n",
    "            if t == times - look_back:\n",
    "                done = True\n",
    "\n",
    "            # Receive next state and position\n",
    "            next_state = dataX[t:t + look_back, :][np.newaxis, :, :]\n",
    "            next_pos = dataY[t + look_back - 1]\n",
    "            \n",
    "            # Remember current experience\n",
    "            agent.remember(state, action, reward, next_state, done)\n",
    "            \n",
    "            # Make next_state the new current state; the same for pos\n",
    "            state = next_state\n",
    "            pos = next_pos\n",
    "\n",
    "            if done:\n",
    "                print('Episode: %i ---> Total Reward: %i' %(ep, total_reward))\n",
    "                total_reward_list.append(total_reward)\n",
    "\n",
    "            # Train the agent with previous experiences\n",
    "            if len(agent.memory) > batch_size:\n",
    "                agent.replay(batch_size)\n",
    "\n",
    "        if (ep + 1) % 5 == 0 and ep > 0:\n",
    "            file = 'checkpoints/' + symbol + '_robot_checkpoint' + str(ep + 1)\n",
    "            # Serialize weights to HDF5\n",
    "            agent.model.save_weights(file + \".h5\")\n",
    "            # Save epsilon\n",
    "            pickle.dump(agent.epsilon, open(file + \"_epsilon.pickle\", \"wb\"))\n",
    "\n",
    "    # Save list of rewards along the epochs\n",
    "    np.savetxt(file + '_total_reward.txt', total_reward_list)\n",
    "\n",
    "    return\n"
   ]
  },
  {
   "cell_type": "code",
   "execution_count": null,
   "metadata": {},
   "outputs": [
    {
     "name": "stdout",
     "output_type": "stream",
     "text": [
      "Episode: 0 ---> Total Reward: 77\n"
     ]
    }
   ],
   "source": [
    "# Train Agent\n",
    "run(agent, X_train, y_train, episodes, look_back)"
   ]
  },
  {
   "cell_type": "code",
   "execution_count": null,
   "metadata": {},
   "outputs": [],
   "source": [
    "# Load rewards\n",
    "total_reward_list = np.loadtxt( 'checkpoints/'+ symbol + '_robot_checkpoint' + str(episodes) + '_total_reward.txt')\n",
    "# Plot\n",
    "plt.figure()\n",
    "plt.plot(np.arange(1, episodes+1), total_reward_list)\n",
    "plt.xlabel('Episodes')\n",
    "plt.ylabel('Total Reward')\n",
    "plt.show()"
   ]
  },
  {
   "cell_type": "code",
   "execution_count": null,
   "metadata": {},
   "outputs": [],
   "source": [
    "total_reward_list"
   ]
  },
  {
   "cell_type": "code",
   "execution_count": null,
   "metadata": {},
   "outputs": [],
   "source": [
    "def evaluate(agent, dataX, dataY, look_back):\n",
    "    \"\"\"\n",
    "    Function run to evaluate the trained agent\n",
    "    \"\"\"\n",
    "    \n",
    "    # Length of dataset\n",
    "    times = len(dataX)\n",
    "\n",
    "    # Initial state and position\n",
    "    state = dataX[:look_back, :][np.newaxis, :, :]\n",
    "    pos = dataY[look_back - 1]\n",
    "\n",
    "    # List of predicted positions\n",
    "    pos_list = []\n",
    "    \n",
    "    done = False\n",
    "    total_reward = 0\n",
    "    \n",
    "    for t in range(1, times - look_back + 1):\n",
    "\n",
    "        # Predict action based on the current state\n",
    "        action = agent.act(state)\n",
    "\n",
    "        # Calculate reward\n",
    "        if action == pos:   # 0:-1      1:0     2:1\n",
    "            reward = +1\n",
    "\n",
    "        elif (pos == 0 or pos == 2):\n",
    "            if action == 1:\n",
    "                reward = 0\n",
    "            else:\n",
    "                reward = -1\n",
    "        else:\n",
    "            reward = -1\n",
    "\n",
    "        pos_list.append(action)\n",
    "        total_reward += reward\n",
    "\n",
    "        # Final state\n",
    "        if t == times - look_back:\n",
    "            done = True\n",
    "\n",
    "        # Receive next state and position\n",
    "        next_state = dataX[t:t + look_back, :][np.newaxis, :, :]\n",
    "        next_pos = dataY[t + look_back - 1]\n",
    "\n",
    "        # Remember current experience\n",
    "        agent.remember(state, action, reward, next_state, done)\n",
    "\n",
    "        # Make next_state the new current state; the same for pos\n",
    "        state = next_state\n",
    "        pos = next_pos\n",
    "\n",
    "        if done:\n",
    "            print('Total Reward: %i' % total_reward)\n",
    "\n",
    "    return np.array(pos_list)"
   ]
  },
  {
   "cell_type": "code",
   "execution_count": null,
   "metadata": {},
   "outputs": [],
   "source": [
    "# Evaluate the model\n",
    "# Make predictions\n",
    "y_pred_test = evaluate(agent, X_test, y_test, look_back)\n",
    "\n",
    "# Calculate and print accuracy\n",
    "acc = accuracy_score(y_test[look_back-1:-1], y_pred_test)\n",
    "\n",
    "print('Accuracy: %.2f %%' % (acc*100))"
   ]
  },
  {
   "cell_type": "code",
   "execution_count": null,
   "metadata": {},
   "outputs": [],
   "source": [
    "# Calculate and print precision, recall, f1 score and support\n",
    "p, r, f1, s = precision_recall_fscore_support(y_test[look_back-1:-1], y_pred_test, average=None)\n",
    "results = pd.DataFrame({'1-Precision': p, '2-Recall': r, '3-F1 score': f1, '4-Support': s}, index=le.classes_)\n",
    "\n",
    "print(results.round(decimals=3))"
   ]
  },
  {
   "cell_type": "code",
   "execution_count": null,
   "metadata": {},
   "outputs": [],
   "source": [
    "# Decodificate labels\n",
    "y_true_test = le.inverse_transform(y_test[look_back-1:-1])\n",
    "y_pred_test = le.inverse_transform(y_pred_test)"
   ]
  },
  {
   "cell_type": "code",
   "execution_count": null,
   "metadata": {},
   "outputs": [],
   "source": [
    "# Plot strategy\n",
    "plt.figure()\n",
    "plt.plot(y_true_test, label='true')\n",
    "plt.plot(y_pred_test, label='pred')\n",
    "plt.legend()\n",
    "plt.show()"
   ]
  },
  {
   "cell_type": "code",
   "execution_count": null,
   "metadata": {},
   "outputs": [],
   "source": []
  }
 ],
 "metadata": {
  "kernelspec": {
   "display_name": "Python 3",
   "language": "python",
   "name": "python3"
  },
  "language_info": {
   "codemirror_mode": {
    "name": "ipython",
    "version": 3
   },
   "file_extension": ".py",
   "mimetype": "text/x-python",
   "name": "python",
   "nbconvert_exporter": "python",
   "pygments_lexer": "ipython3",
   "version": "3.7.6"
  }
 },
 "nbformat": 4,
 "nbformat_minor": 2
}
