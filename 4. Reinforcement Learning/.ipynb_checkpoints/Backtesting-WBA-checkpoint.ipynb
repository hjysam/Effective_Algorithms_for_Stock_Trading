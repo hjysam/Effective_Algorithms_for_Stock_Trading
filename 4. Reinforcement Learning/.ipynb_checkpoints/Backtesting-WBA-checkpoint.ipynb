{
 "cells": [
  {
   "cell_type": "code",
   "execution_count": 1,
   "metadata": {
    "scrolled": true
   },
   "outputs": [
    {
     "name": "stderr",
     "output_type": "stream",
     "text": [
      "C:\\Users\\Elid-PC.DESKTOP-MG9DS93\\anaconda3\\lib\\site-packages\\pandas_datareader\\compat\\__init__.py:7: FutureWarning: pandas.util.testing is deprecated. Use the functions in the public API at pandas.testing instead.\n",
      "  from pandas.util.testing import assert_frame_equal\n"
     ]
    },
    {
     "data": {
      "application/javascript": [
       "\n",
       "console.log('Starting front end url_querystring_target comm target');\n",
       "const comm = Jupyter.notebook.kernel.comm_manager.new_comm('url_querystring_target', {'init': 1});\n",
       "comm.send({'ipyparams_browser_url': window.location.href});\n",
       "console.log('Sent window.location.href on url_querystring_target comm target');\n",
       "\n",
       "comm.on_msg(function(msg) {\n",
       "    console.log(msg.content.data);\n",
       "});\n"
      ],
      "text/plain": [
       "<IPython.core.display.Javascript object>"
      ]
     },
     "metadata": {},
     "output_type": "display_data"
    },
    {
     "name": "stderr",
     "output_type": "stream",
     "text": [
      "Using TensorFlow backend.\n"
     ]
    }
   ],
   "source": [
    "# Import libraries\n",
    "import pandas as pd\n",
    "from pandas_datareader import data as pdr\n",
    "\n",
    "import numpy as np\n",
    "import matplotlib.pyplot as plt\n",
    "import pickle\n",
    "\n",
    "from sklearn import preprocessing\n",
    "from sklearn.metrics import accuracy_score\n",
    "from sklearn.metrics import precision_recall_fscore_support\n",
    "\n",
    "import talib, re, ipyparams\n",
    "\n",
    "from Agent import Agent"
   ]
  },
  {
   "cell_type": "code",
   "execution_count": 2,
   "metadata": {},
   "outputs": [
    {
     "data": {
      "text/plain": [
       "503"
      ]
     },
     "execution_count": 2,
     "metadata": {},
     "output_type": "execute_result"
    }
   ],
   "source": [
    "end_date = '2020-04-19'\n",
    "start_date = '2018-04-20'\n",
    "\n",
    "currentNotebook = ipyparams.notebook_name\n",
    "symbol = 'WBA'\n",
    "Date = pd.DataFrame(pdr.DataReader(symbol,'yahoo', start_date, end_date))\n",
    "\n",
    "alldata = pd.DataFrame({'Date': Date.index})\n",
    "alldata[symbol] = pdr.DataReader(symbol, 'yahoo', start_date, end_date)['Adj Close'].values\n",
    "# Stock symbol\n",
    "\n",
    "# Load close prices of to NumPy array\n",
    "close = alldata[symbol].values\n",
    "len(close)"
   ]
  },
  {
   "cell_type": "code",
   "execution_count": 3,
   "metadata": {},
   "outputs": [
    {
     "data": {
      "text/plain": [
       "array([61.62740707, 60.34350967, 60.98545837, 61.36307526, 62.25992584,\n",
       "       63.00571442, 63.35502243, 62.73194504, 61.75958633, 60.08861542,\n",
       "       58.74807358, 60.23966599, 58.81415176, 58.87079239, 59.41833878,\n",
       "       60.23966599, 60.50399399, 61.45748138, 60.99489975, 62.0616684 ,\n",
       "       62.67905807, 61.11185074, 61.26381683, 61.00737   , 60.70342255,\n",
       "       60.22851181, 60.34248734, 59.55413437, 60.35199356, 59.2596817 ,\n",
       "       59.70610809, 60.12402725, 59.73459625, 59.98155212, 60.40897751,\n",
       "       60.2190094 , 60.84589767, 60.50395966, 60.70342255, 61.61525726,\n",
       "       62.49859238, 60.93138504, 61.36830139, 64.58821106, 64.38874817,\n",
       "       64.21778107, 63.86634064, 63.22995758, 62.93551636, 56.70465469,\n",
       "       57.00859833, 58.06290436, 57.71147156, 59.25018692, 60.12402725,\n",
       "       60.53245163, 60.0290451 , 60.46596527, 60.67493439, 61.90019608,\n",
       "       61.89070511, 62.33712006, 62.84053802, 61.67225266, 61.71974182,\n",
       "       62.06167984, 62.22314835, 63.35344315, 64.15129852, 65.19610596,\n",
       "       65.6900177 , 64.22728729, 63.10648727, 63.61940002, 63.84734726,\n",
       "       64.03731537, 63.68587875, 63.15397263, 62.85003662, 63.15397263,\n",
       "       63.14448547, 65.21511078, 65.28159332, 66.12693024, 66.90118408,\n",
       "       66.90118408, 67.14971924, 66.56661987, 66.22251129, 66.1556015 ,\n",
       "       66.37546539, 66.22251129, 65.62988281, 64.80783081, 65.5342865 ,\n",
       "       64.63578033, 65.22841644, 65.02768707, 65.18062592, 65.76370239,\n",
       "       65.70635223, 67.27397156, 67.36956787, 67.17838287, 67.34088135,\n",
       "       67.75190735, 68.13424683, 69.67319489, 69.7783432 , 69.01365662,\n",
       "       69.02321625, 69.7401123 , 70.55259705, 69.68276215, 69.26217651,\n",
       "       70.24671936, 70.54303741, 70.10333252, 69.30997467, 70.87760162,\n",
       "       70.31362915, 69.11878204, 67.77102661, 70.25627899, 71.4224472 ,\n",
       "       72.91358948, 73.58270264, 73.20035553, 73.93636322, 74.22312927,\n",
       "       73.85034943, 70.92539215, 72.39741516, 72.86580658, 73.42976379,\n",
       "       75.3223877 , 76.24957275, 76.3738327 , 75.80031586, 76.44075012,\n",
       "       77.0429306 , 78.2951355 , 79.22732544, 79.17928314, 78.62187195,\n",
       "       78.72759247, 78.3431778 , 79.08317566, 79.30420685, 78.72759247,\n",
       "       76.6805954 , 76.65177155, 77.66085052, 78.51615906, 80.26524353,\n",
       "       81.34159088, 81.54341125, 81.37042236, 82.35067749, 79.59252167,\n",
       "       79.70783997, 78.02604675, 77.99720764, 78.62187195, 79.22732544,\n",
       "       79.11200714, 75.67150879, 73.24972534, 72.53856659, 70.43389893,\n",
       "       66.89730835, 64.63889313, 62.71682739, 65.08096313, 65.6960144 ,\n",
       "       65.39810944, 65.66719055, 65.38850403, 64.70615387, 66.85887909,\n",
       "       67.2432785 , 68.58872223, 69.41522217, 69.6554718 , 68.91547394,\n",
       "       67.89677429, 68.99236298, 69.19416809, 69.18456268, 69.60741425,\n",
       "       68.80014801, 68.91547394, 68.54066467, 69.0884552 , 68.7905426 ,\n",
       "       68.71366119, 68.81936646, 69.44403839, 69.07883453, 68.6752243 ,\n",
       "       68.53105927, 68.68482971, 68.42534637, 67.38743591, 67.72379303,\n",
       "       68.77132416, 69.60741425, 69.72344971, 70.99976349, 71.96665955,\n",
       "       69.42370605, 68.1377182 , 68.0990448 , 68.94992065, 69.11430359,\n",
       "       69.00793457, 68.83389282, 64.4054718 , 62.5973587 , 61.30171204,\n",
       "       59.07782745, 57.81118393, 57.91754913, 58.67173004, 58.98114014,\n",
       "       59.85136032, 59.77399826, 60.55719757, 60.99230194, 61.65946579,\n",
       "       60.71189499, 61.49509048, 60.34447479, 59.64830399, 59.87069321,\n",
       "       60.17043304, 60.44116592, 61.17601013, 61.38873291, 53.52780151,\n",
       "       53.02501297, 52.35785294, 52.87997437, 53.23773193, 52.69626617,\n",
       "       52.70593643, 51.67134094, 51.68101883, 52.44487   , 53.02501297,\n",
       "       53.31508636, 52.82196808, 52.30950165, 51.45862961, 51.70035553,\n",
       "       50.93650055, 51.10087585, 51.78738022, 51.79704666, 51.90340424,\n",
       "       52.00976944, 52.29016495, 52.1354599 , 51.18789291, 51.7293663 ,\n",
       "       51.78738022, 51.65200424, 50.39503098, 50.83980942, 50.99451447,\n",
       "       50.7624588 , 50.96722412, 50.95746613, 51.44500732, 51.62052155,\n",
       "       50.32367325, 50.47968674, 50.43093491, 49.8556366 , 49.29009247,\n",
       "       48.11024857, 48.66604233, 50.21641541, 49.53386307, 49.70937729,\n",
       "       50.67469788, 50.98672485, 51.56202316, 50.82095718, 51.57176971,\n",
       "       51.25974655, 51.49376297, 51.4840126 , 51.58152008, 51.56202316,\n",
       "       51.14273834, 50.65520096, 51.63027573, 51.07448196, 53.16114044,\n",
       "       53.30740356, 53.28790665, 53.59017563, 53.8144455 , 53.8144455 ,\n",
       "       54.04846573, 54.11671829, 54.18497467, 54.2337265 , 54.35073853,\n",
       "       54.49699783, 54.4189949 , 53.16114044, 53.45366669, 53.08313751,\n",
       "       52.59560013, 53.28790665, 53.82419586, 53.39515686, 53.67793274,\n",
       "       53.74618912, 54.01921082, 53.13189316, 52.72236252, 52.34207916,\n",
       "       50.57719421, 50.16765976, 51.17198944, 51.6985321 , 51.47426224,\n",
       "       50.70395279, 51.74728394, 49.15358353, 48.06149673, 49.22183609,\n",
       "       50.34163666, 49.85947037, 50.08579636, 50.13499451, 48.53106689,\n",
       "       49.23954773, 48.65898895, 49.15098953, 49.59379196, 50.37115097,\n",
       "       49.6233139 , 50.60731506, 51.49291992, 51.7192421 , 54.70077133,\n",
       "       55.97013474, 57.13125992, 54.6712532 , 55.0943718 , 54.45476913,\n",
       "       53.96276474, 53.53964615, 53.69708633, 54.12020874, 53.45108414,\n",
       "       52.77212524, 53.490448  , 53.21492767, 53.53964615, 54.42525101,\n",
       "       53.82500839, 51.9849205 , 51.75859833, 52.12268066, 51.91603851,\n",
       "       51.25675964, 51.24691772, 52.08332062, 53.12636566, 52.81148148,\n",
       "       53.64788818, 53.78564453, 55.04516983, 54.41540909, 53.71676636,\n",
       "       54.43508911, 53.68724823, 53.5790062 , 54.53348923, 54.90741348,\n",
       "       55.36989594, 54.96644974, 53.90372849, 56.46213913, 58.69582748,\n",
       "       60.23086929, 58.5383873 , 57.73149872, 58.29238892, 61.25423431,\n",
       "       61.71671677, 61.25423431, 60.94919205, 61.60149002, 61.40322495,\n",
       "       60.91747284, 60.8084259 , 60.09466553, 60.07483673, 60.14422989,\n",
       "       59.11324692, 59.58908463, 59.08350372, 58.75636292, 58.47879028,\n",
       "       58.39948273, 58.58783722, 58.1219101 , 58.20121765, 57.90381622,\n",
       "       57.50728226, 58.07234573, 57.37841034, 57.29910278, 56.59525681,\n",
       "       56.70430374, 57.24953461, 57.88399124, 58.06243134, 57.84433365,\n",
       "       58.38957214, 58.50852966, 58.39948273, 58.4490509 , 58.56801224,\n",
       "       58.56801224, 59.07358932, 58.77619171, 55.34617615, 54.20614243,\n",
       "       53.7501297 , 53.59151459, 54.14665985, 53.95830917, 53.94839096,\n",
       "       53.93848038, 53.4031601 , 52.95705795, 52.83810043, 51.58901978,\n",
       "       51.77737045, 52.32260513, 51.82693863, 51.49980164, 50.40933228,\n",
       "       50.50846481, 51.8864212 , 52.52087402, 53.02645493, 52.77862167,\n",
       "       52.95705795, 52.53078842, 53.99796295, 53.10575867, 52.39199829,\n",
       "       51.86000061, 52.06999969, 51.86999893, 51.45000076, 49.02999878,\n",
       "       47.50999832, 47.66999817, 46.24000168, 45.75999832, 48.11000061,\n",
       "       46.11999893, 48.68999863, 48.77999878, 50.50999832, 48.43999863,\n",
       "       49.15999985, 46.06999969, 41.02000046, 46.18999863, 45.08000183,\n",
       "       49.59999847, 52.81000137, 48.54999924, 46.41999817, 43.61000061,\n",
       "       45.25      , 41.43999863, 45.66999817, 44.        , 45.15999985,\n",
       "       45.75      , 43.02999878, 40.31999969, 40.72000122, 42.63000107,\n",
       "       42.81000137, 43.09000015, 43.97999954, 44.11000061, 46.38000107,\n",
       "       43.43999863, 43.22999954, 44.5       ])"
      ]
     },
     "execution_count": 3,
     "metadata": {},
     "output_type": "execute_result"
    }
   ],
   "source": [
    "close"
   ]
  },
  {
   "cell_type": "code",
   "execution_count": 4,
   "metadata": {},
   "outputs": [
    {
     "data": {
      "text/html": [
       "<div>\n",
       "<style scoped>\n",
       "    .dataframe tbody tr th:only-of-type {\n",
       "        vertical-align: middle;\n",
       "    }\n",
       "\n",
       "    .dataframe tbody tr th {\n",
       "        vertical-align: top;\n",
       "    }\n",
       "\n",
       "    .dataframe thead th {\n",
       "        text-align: right;\n",
       "    }\n",
       "</style>\n",
       "<table border=\"1\" class=\"dataframe\">\n",
       "  <thead>\n",
       "    <tr style=\"text-align: right;\">\n",
       "      <th></th>\n",
       "      <th>macd</th>\n",
       "      <th>macdsignal</th>\n",
       "      <th>macdhist</th>\n",
       "    </tr>\n",
       "  </thead>\n",
       "  <tbody>\n",
       "    <tr>\n",
       "      <th>0</th>\n",
       "      <td>-0.521641</td>\n",
       "      <td>0.032487</td>\n",
       "      <td>-0.554128</td>\n",
       "    </tr>\n",
       "    <tr>\n",
       "      <th>1</th>\n",
       "      <td>-0.454451</td>\n",
       "      <td>-0.064901</td>\n",
       "      <td>-0.389550</td>\n",
       "    </tr>\n",
       "    <tr>\n",
       "      <th>2</th>\n",
       "      <td>-0.659571</td>\n",
       "      <td>-0.183835</td>\n",
       "      <td>-0.475736</td>\n",
       "    </tr>\n",
       "    <tr>\n",
       "      <th>3</th>\n",
       "      <td>-0.656063</td>\n",
       "      <td>-0.278280</td>\n",
       "      <td>-0.377783</td>\n",
       "    </tr>\n",
       "    <tr>\n",
       "      <th>4</th>\n",
       "      <td>-0.533616</td>\n",
       "      <td>-0.329347</td>\n",
       "      <td>-0.204268</td>\n",
       "    </tr>\n",
       "  </tbody>\n",
       "</table>\n",
       "</div>"
      ],
      "text/plain": [
       "       macd  macdsignal  macdhist\n",
       "0 -0.521641    0.032487 -0.554128\n",
       "1 -0.454451   -0.064901 -0.389550\n",
       "2 -0.659571   -0.183835 -0.475736\n",
       "3 -0.656063   -0.278280 -0.377783\n",
       "4 -0.533616   -0.329347 -0.204268"
      ]
     },
     "execution_count": 4,
     "metadata": {},
     "output_type": "execute_result"
    }
   ],
   "source": [
    "macd, macdsignal, macdhist = talib.MACD(close, fastperiod=5, slowperiod=20, signalperiod=9)\n",
    "macdhist = macdhist[~np.isnan(macdhist)]\n",
    "macd = macd[-len(macdhist):]\n",
    "macdsignal = macdsignal[-len(macdhist):]\n",
    "\n",
    "\n",
    "pd.DataFrame({'macd': macd, 'macdsignal': macdsignal, 'macdhist': macdhist}).head()"
   ]
  },
  {
   "cell_type": "code",
   "execution_count": 5,
   "metadata": {},
   "outputs": [],
   "source": [
    "def prepare_dataset(close):\n",
    "    \"\"\"\n",
    "    Function prepare_dataset to generate input data and trading strategy from stock close prices\n",
    "    \"\"\"\n",
    "\n",
    "    macd, macdsignal, macdhist = talib.MACD(close, fastperiod=12, slowperiod=26, signalperiod=9)\n",
    "\n",
    "    # Cancel NaN values\n",
    "    macdhist = macdhist[~np.isnan(macdhist)]\n",
    "    macd = macd[-len(macdhist):]\n",
    "    macdsignal = macdsignal[-len(macdhist):]\n",
    "\n",
    "    # Scaling features to a range [0, 1]\n",
    "    min_max_scaler = preprocessing.MinMaxScaler(feature_range=(-1, 1))\n",
    "    macdhist_norm = min_max_scaler.fit_transform(np.expand_dims(macdhist, axis=1))\n",
    "\n",
    "    # Implement strategy\n",
    "    start_sell = 0.4\n",
    "    stop_sell = 0.1\n",
    "    start_buy = -0.4\n",
    "    stop_buy = -0.1\n",
    "\n",
    "    y = np.full(len(macdhist), np.nan)\n",
    "    y[0] = 0\n",
    "\n",
    "    for i in range(1, len(macdhist)):\n",
    "\n",
    "        if y[i-1] == 0:\n",
    "            if (macdhist_norm[i] >= start_sell):\n",
    "                # Enter sell position\n",
    "                y[i] = -1\n",
    "            elif (macdhist_norm[i] <= start_buy):\n",
    "                # Enter buy position\n",
    "                y[i] = 1\n",
    "            else:\n",
    "                y[i] = 0\n",
    "        elif y[i-1] == -1:\n",
    "            if macdhist_norm[i] > stop_sell:\n",
    "                # Stay in sell position\n",
    "                y[i] = -1\n",
    "            else:\n",
    "                # Leave sell position\n",
    "                y[i] = 0\n",
    "        else:\n",
    "            if macdhist_norm[i] < stop_buy:\n",
    "                # Stay in buy position\n",
    "                y[i] = 1\n",
    "            else:\n",
    "                # Leave buy position\n",
    "                y[i] = 0\n",
    "\n",
    "    # Plot strategy\n",
    "    dates = np.arange(len(macdhist))\n",
    "    plt.plot(dates, y,'g', label='Strategy Positions')\n",
    "    plt.bar(dates, macdhist_norm[:, 0], width=1, color='blue', label='MACD histogram')\n",
    "    plt.plot(dates, start_sell * np.ones(len(macdhist)), 'k--', lw=1)\n",
    "    plt.plot(dates, stop_sell * np.ones(len(macdhist)), 'k--', lw=1)\n",
    "    plt.plot(dates, start_buy * np.ones(len(macdhist)), 'k--', lw=1)\n",
    "    plt.plot(dates, stop_buy * np.ones(len(macdhist)), 'k--', lw=1)\n",
    "    plt.xlabel('Days')\n",
    "    plt.xlim((0, len(y)))\n",
    "    plt.legend()\n",
    "    # plt.savefig('images/AAL_macd.png', bbox_inches='tight')\n",
    "    plt.show()\n",
    "    \n",
    "    # Generate input data - technical indicators\n",
    "    ind1 = talib.MIDPOINT(close)    # Overlap: MidPoint over period\n",
    "    ind2 = talib.HT_DCPERIOD(close) # Cycle Indicator Functions:  Hilbert Transform - Dominant Cycle Period\n",
    "    ind3 = talib.MAX(close)         # Math Operator: Highest value over a specified period\n",
    "    ind4 = talib.SIN(close)         # Math Transform: Vector Trigonometric Sin\n",
    "    ind5 = talib.APO(close)         # Momentum: Absolute Price Oscillator\n",
    "    ind6 = talib.TEMA(close, timeperiod=5) ## Triple Exponential Moving Average\n",
    "\n",
    "    x = np.vstack((macdhist, macd, macdsignal, ind1[-len(macdhist):], ind2[-len(macdhist):],\n",
    "                   ind3[-len(macdhist):], ind4[-len(macdhist):], ind5[-len(macdhist):],\n",
    "                   ind6[-len(macdhist):]))\n",
    "    x = x.T\n",
    "\n",
    "    return x, y"
   ]
  },
  {
   "cell_type": "code",
   "execution_count": 6,
   "metadata": {},
   "outputs": [
    {
     "data": {
      "image/png": "[encoded data removed]",
      "text/plain": [
       "<Figure size 432x288 with 1 Axes>"
      ]
     },
     "metadata": {
      "needs_background": "light"
     },
     "output_type": "display_data"
    }
   ],
   "source": [
    "# Implement MACD trading strategy\n",
    "X, y = prepare_dataset(close)"
   ]
  },
  {
   "cell_type": "code",
   "execution_count": 7,
   "metadata": {},
   "outputs": [
    {
     "data": {
      "text/plain": [
       "array([-0.09768301, -0.31914512, -0.22146211, 60.96936989, 17.21176483,\n",
       "       63.35502243, -0.28718976, -0.16745604, 59.92499967])"
      ]
     },
     "execution_count": 7,
     "metadata": {},
     "output_type": "execute_result"
    }
   ],
   "source": [
    "X[0]"
   ]
  },
  {
   "cell_type": "code",
   "execution_count": 8,
   "metadata": {},
   "outputs": [],
   "source": [
    "# Split dataset\n",
    "n_train = int(X.shape[0] * 0.8)\n",
    "\n",
    "X_train, y_train = X[:n_train], y[:n_train]\n",
    "X_test, y_test = X[n_train:], y[n_train:]"
   ]
  },
  {
   "cell_type": "code",
   "execution_count": 9,
   "metadata": {},
   "outputs": [],
   "source": [
    "# Normalize data\n",
    "scaler = preprocessing.MinMaxScaler()\n",
    "\n",
    "X_train = scaler.fit_transform(X_train)\n",
    "X_test = scaler.transform(X_test)"
   ]
  },
  {
   "cell_type": "code",
   "execution_count": 10,
   "metadata": {},
   "outputs": [
    {
     "name": "stdout",
     "output_type": "stream",
     "text": [
      "[-1.  0.  1.]\n"
     ]
    }
   ],
   "source": [
    "# Encode trading signal with integers between 0 and n-1 classes\n",
    "le = preprocessing.LabelEncoder()\n",
    "\n",
    "y_train = le.fit_transform(y_train)\n",
    "y_test = le.transform(y_test)\n",
    "\n",
    "print(le.classes_)"
   ]
  },
  {
   "cell_type": "code",
   "execution_count": 11,
   "metadata": {},
   "outputs": [],
   "source": [
    "## Create and train the Agent\n",
    "# Variable definiton\n",
    "episodes = 20\n",
    "look_back = 5\n",
    "batch_size = 32\n",
    "action_size = len(le.classes_)\n",
    "n_features = X_train.shape[1]"
   ]
  },
  {
   "cell_type": "code",
   "execution_count": 12,
   "metadata": {},
   "outputs": [],
   "source": [
    "# Create Agent\n",
    "agent = Agent(look_back, action_size, n_features)"
   ]
  },
  {
   "cell_type": "code",
   "execution_count": 13,
   "metadata": {},
   "outputs": [],
   "source": [
    "def run(agent, dataX, dataY, episodes, look_back):\n",
    "    \"\"\"\n",
    "    Function run to train the agent\n",
    "    \"\"\"\n",
    "    \n",
    "    # Length of dataset\n",
    "    times = len(dataX)\n",
    "\n",
    "    # List of total rewards\n",
    "    total_reward_list = []\n",
    "\n",
    "    for ep in range(episodes):\n",
    "\n",
    "        # print('Episode: ' + str(ep))\n",
    "        \n",
    "        # Initial state and position\n",
    "        state = dataX[:look_back, :][np.newaxis, :, :]\n",
    "        pos = dataY[look_back - 1]\n",
    "\n",
    "        done = False\n",
    "        total_reward = 0\n",
    "\n",
    "        for t in range(1, times - look_back + 1):\n",
    "\n",
    "            # Predict action based on the current state\n",
    "            action = agent.act(state)\n",
    "\n",
    "            # Calculate reward\n",
    "            if action == pos:   # 0:-1      1:0     2:1\n",
    "                reward = +1\n",
    "\n",
    "            elif (pos == 0 or pos == 2):\n",
    "                if action == 1:\n",
    "                    reward = 0\n",
    "                else:\n",
    "                    reward = -1\n",
    "            else:\n",
    "                reward = -1\n",
    "\n",
    "            total_reward += reward\n",
    "\n",
    "            # Final state\n",
    "            if t == times - look_back:\n",
    "                done = True\n",
    "\n",
    "            # Receive next state and position\n",
    "            next_state = dataX[t:t + look_back, :][np.newaxis, :, :]\n",
    "            next_pos = dataY[t + look_back - 1]\n",
    "            \n",
    "            # Remember current experience\n",
    "            agent.remember(state, action, reward, next_state, done)\n",
    "            \n",
    "            # Make next_state the new current state; the same for pos\n",
    "            state = next_state\n",
    "            pos = next_pos\n",
    "\n",
    "            if done:\n",
    "                print('Episode: %i ---> Total Reward: %i' %(ep, total_reward))\n",
    "                total_reward_list.append(total_reward)\n",
    "\n",
    "            # Train the agent with previous experiences\n",
    "            if len(agent.memory) > batch_size:\n",
    "                agent.replay(batch_size)\n",
    "\n",
    "        if (ep + 1) % 5 == 0 and ep > 0:\n",
    "            file = 'checkpoints/' + symbol + '_robot_checkpoint' + str(ep + 1)\n",
    "            # Serialize weights to HDF5\n",
    "            agent.model.save_weights(file + \".h5\")\n",
    "            # Save epsilon\n",
    "            pickle.dump(agent.epsilon, open(file + \"_epsilon.pickle\", \"wb\"))\n",
    "\n",
    "    # Save list of rewards along the epochs\n",
    "    np.savetxt(file + '_total_reward.txt', total_reward_list)\n",
    "\n",
    "    return\n"
   ]
  },
  {
   "cell_type": "code",
   "execution_count": null,
   "metadata": {},
   "outputs": [
    {
     "name": "stdout",
     "output_type": "stream",
     "text": [
      "Episode: 0 ---> Total Reward: 87\n",
      "Episode: 1 ---> Total Reward: 182\n",
      "Episode: 2 ---> Total Reward: 224\n",
      "Episode: 3 ---> Total Reward: 219\n"
     ]
    }
   ],
   "source": [
    "# Train Agent\n",
    "run(agent, X_train, y_train, episodes, look_back)"
   ]
  },
  {
   "cell_type": "code",
   "execution_count": null,
   "metadata": {},
   "outputs": [],
   "source": [
    "# Load rewards\n",
    "total_reward_list = np.loadtxt( 'checkpoints/'+ symbol + '_robot_checkpoint' + str(episodes) + '_total_reward.txt')\n",
    "# Plot\n",
    "plt.figure()\n",
    "plt.plot(np.arange(1, episodes+1), total_reward_list)\n",
    "plt.xlabel('Episodes')\n",
    "plt.ylabel('Total Reward')\n",
    "plt.show()"
   ]
  },
  {
   "cell_type": "code",
   "execution_count": null,
   "metadata": {},
   "outputs": [],
   "source": [
    "total_reward_list"
   ]
  },
  {
   "cell_type": "code",
   "execution_count": null,
   "metadata": {},
   "outputs": [],
   "source": [
    "def evaluate(agent, dataX, dataY, look_back):\n",
    "    \"\"\"\n",
    "    Function run to evaluate the trained agent\n",
    "    \"\"\"\n",
    "    \n",
    "    # Length of dataset\n",
    "    times = len(dataX)\n",
    "\n",
    "    # Initial state and position\n",
    "    state = dataX[:look_back, :][np.newaxis, :, :]\n",
    "    pos = dataY[look_back - 1]\n",
    "\n",
    "    # List of predicted positions\n",
    "    pos_list = []\n",
    "    \n",
    "    done = False\n",
    "    total_reward = 0\n",
    "    \n",
    "    for t in range(1, times - look_back + 1):\n",
    "\n",
    "        # Predict action based on the current state\n",
    "        action = agent.act(state)\n",
    "\n",
    "        # Calculate reward\n",
    "        if action == pos:   # 0:-1      1:0     2:1\n",
    "            reward = +1\n",
    "\n",
    "        elif (pos == 0 or pos == 2):\n",
    "            if action == 1:\n",
    "                reward = 0\n",
    "            else:\n",
    "                reward = -1\n",
    "        else:\n",
    "            reward = -1\n",
    "\n",
    "        pos_list.append(action)\n",
    "        total_reward += reward\n",
    "\n",
    "        # Final state\n",
    "        if t == times - look_back:\n",
    "            done = True\n",
    "\n",
    "        # Receive next state and position\n",
    "        next_state = dataX[t:t + look_back, :][np.newaxis, :, :]\n",
    "        next_pos = dataY[t + look_back - 1]\n",
    "\n",
    "        # Remember current experience\n",
    "        agent.remember(state, action, reward, next_state, done)\n",
    "\n",
    "        # Make next_state the new current state; the same for pos\n",
    "        state = next_state\n",
    "        pos = next_pos\n",
    "\n",
    "        if done:\n",
    "            print('Total Reward: %i' % total_reward)\n",
    "\n",
    "    return np.array(pos_list)"
   ]
  },
  {
   "cell_type": "code",
   "execution_count": null,
   "metadata": {},
   "outputs": [],
   "source": [
    "# Evaluate the model\n",
    "# Make predictions\n",
    "y_pred_test = evaluate(agent, X_test, y_test, look_back)\n",
    "\n",
    "# Calculate and print accuracy\n",
    "acc = accuracy_score(y_test[look_back-1:-1], y_pred_test)\n",
    "\n",
    "print('Accuracy: %.2f %%' % (acc*100))"
   ]
  },
  {
   "cell_type": "code",
   "execution_count": null,
   "metadata": {},
   "outputs": [],
   "source": [
    "# Calculate and print precision, recall, f1 score and support\n",
    "p, r, f1, s = precision_recall_fscore_support(y_test[look_back-1:-1], y_pred_test, average=None)\n",
    "results = pd.DataFrame({'1-Precision': p, '2-Recall': r, '3-F1 score': f1, '4-Support': s}, index=le.classes_)\n",
    "\n",
    "print(results.round(decimals=3))"
   ]
  },
  {
   "cell_type": "code",
   "execution_count": null,
   "metadata": {},
   "outputs": [],
   "source": [
    "# Decodificate labels\n",
    "y_true_test = le.inverse_transform(y_test[look_back-1:-1])\n",
    "y_pred_test = le.inverse_transform(y_pred_test)"
   ]
  },
  {
   "cell_type": "code",
   "execution_count": null,
   "metadata": {},
   "outputs": [],
   "source": [
    "# Plot strategy\n",
    "plt.figure()\n",
    "plt.plot(y_true_test, label='true')\n",
    "plt.plot(y_pred_test, label='pred')\n",
    "plt.legend()\n",
    "plt.show()"
   ]
  },
  {
   "cell_type": "code",
   "execution_count": null,
   "metadata": {},
   "outputs": [],
   "source": []
  }
 ],
 "metadata": {
  "kernelspec": {
   "display_name": "Python 3",
   "language": "python",
   "name": "python3"
  },
  "language_info": {
   "codemirror_mode": {
    "name": "ipython",
    "version": 3
   },
   "file_extension": ".py",
   "mimetype": "text/x-python",
   "name": "python",
   "nbconvert_exporter": "python",
   "pygments_lexer": "ipython3",
   "version": "3.7.6"
  }
 },
 "nbformat": 4,
 "nbformat_minor": 2
}
