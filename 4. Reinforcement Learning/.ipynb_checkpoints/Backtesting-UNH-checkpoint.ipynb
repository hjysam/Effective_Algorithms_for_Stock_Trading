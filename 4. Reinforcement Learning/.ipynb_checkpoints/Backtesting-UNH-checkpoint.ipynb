{
 "cells": [
  {
   "cell_type": "code",
   "execution_count": 1,
   "metadata": {
    "scrolled": true
   },
   "outputs": [
    {
     "name": "stderr",
     "output_type": "stream",
     "text": [
      "C:\\Users\\Elid-PC.DESKTOP-MG9DS93\\anaconda3\\lib\\site-packages\\pandas_datareader\\compat\\__init__.py:7: FutureWarning: pandas.util.testing is deprecated. Use the functions in the public API at pandas.testing instead.\n",
      "  from pandas.util.testing import assert_frame_equal\n"
     ]
    },
    {
     "data": {
      "application/javascript": [
       "\n",
       "console.log('Starting front end url_querystring_target comm target');\n",
       "const comm = Jupyter.notebook.kernel.comm_manager.new_comm('url_querystring_target', {'init': 1});\n",
       "comm.send({'ipyparams_browser_url': window.location.href});\n",
       "console.log('Sent window.location.href on url_querystring_target comm target');\n",
       "\n",
       "comm.on_msg(function(msg) {\n",
       "    console.log(msg.content.data);\n",
       "});\n"
      ],
      "text/plain": [
       "<IPython.core.display.Javascript object>"
      ]
     },
     "metadata": {},
     "output_type": "display_data"
    },
    {
     "name": "stderr",
     "output_type": "stream",
     "text": [
      "Using TensorFlow backend.\n"
     ]
    }
   ],
   "source": [
    "# Import libraries\n",
    "import pandas as pd\n",
    "from pandas_datareader import data as pdr\n",
    "\n",
    "import numpy as np\n",
    "import matplotlib.pyplot as plt\n",
    "import pickle\n",
    "\n",
    "from sklearn import preprocessing\n",
    "from sklearn.metrics import accuracy_score\n",
    "from sklearn.metrics import precision_recall_fscore_support\n",
    "\n",
    "import talib, re, ipyparams\n",
    "\n",
    "from Agent import Agent"
   ]
  },
  {
   "cell_type": "code",
   "execution_count": 2,
   "metadata": {},
   "outputs": [
    {
     "data": {
      "text/plain": [
       "503"
      ]
     },
     "execution_count": 2,
     "metadata": {},
     "output_type": "execute_result"
    }
   ],
   "source": [
    "end_date = '2020-04-19'\n",
    "start_date = '2018-04-20'\n",
    "\n",
    "currentNotebook = ipyparams.notebook_name\n",
    "symbol = 'UNH'\n",
    "Date = pd.DataFrame(pdr.DataReader(symbol,'yahoo', start_date, end_date))\n",
    "\n",
    "alldata = pd.DataFrame({'Date': Date.index})\n",
    "alldata[symbol] = pdr.DataReader(symbol, 'yahoo', start_date, end_date)['Adj Close'].values\n",
    "# Stock symbol\n",
    "\n",
    "# Load close prices of to NumPy array\n",
    "close = alldata[symbol].values\n",
    "len(close)"
   ]
  },
  {
   "cell_type": "code",
   "execution_count": 3,
   "metadata": {},
   "outputs": [
    {
     "data": {
      "text/plain": [
       "array([228.5219574 , 227.84344482, 227.14555359, 227.02922058,\n",
       "       227.68835449, 229.75294495, 232.80622864, 229.14228821,\n",
       "       229.57852173, 226.29255676, 226.96138   , 228.65763855,\n",
       "       226.60272217, 224.90647888, 222.17304993, 226.53489685,\n",
       "       230.96458435, 235.44274902, 232.1471405 , 234.29898071,\n",
       "       235.50091553, 237.12931824, 240.28923035, 237.65275574,\n",
       "       236.76098633, 235.27793884, 237.42980957, 234.73513794,\n",
       "       237.42012024, 234.09542847, 235.87893677, 237.11962891,\n",
       "       236.92575073, 241.01620483, 241.33607483, 242.98390198,\n",
       "       245.9887085 , 245.79486084, 245.10664368, 247.4911499 ,\n",
       "       248.99884033, 247.91914368, 246.11958313, 245.91531372,\n",
       "       245.020401  , 247.43276978, 243.87257385, 242.95822144,\n",
       "       241.40184021, 238.22102356, 238.64903259, 240.73068237,\n",
       "       240.24430847, 243.66828918, 243.92123413, 246.75186157,\n",
       "       248.57086182, 247.64675903, 249.06697083, 251.64466858,\n",
       "       249.97161865, 243.46403503, 248.45411682, 246.0320282 ,\n",
       "       245.80831909, 245.847229  , 246.83940125, 247.90939331,\n",
       "       249.99105835, 248.96968079, 246.91720581, 246.31411743,\n",
       "       246.46003723, 249.09609985, 250.20504761, 249.75756836,\n",
       "       250.62332153, 251.75169373, 254.45588684, 253.25939941,\n",
       "       253.79444885, 256.29431152, 253.50257874, 255.92466736,\n",
       "       255.17567444, 255.24378967, 254.55310059, 253.62905884,\n",
       "       254.29049683, 257.07250977, 259.79611206, 261.18713379,\n",
       "       261.66375732, 261.07043457, 261.13845825, 261.18713379,\n",
       "       260.34088135, 263.18103027, 261.84387207, 253.4990387 ,\n",
       "       254.77764893, 256.36853027, 259.12084961, 258.94512939,\n",
       "       257.53970337, 256.97363281, 258.96469116, 259.99926758,\n",
       "       260.27252197, 260.94598389, 257.18835449, 256.60275269,\n",
       "       258.30099487, 259.65765381, 262.64428711, 264.13757324,\n",
       "       264.40106201, 261.88296509, 262.74182129, 262.556427  ,\n",
       "       263.63000488, 256.76864624, 250.95162964, 253.38188171,\n",
       "       254.00654602, 266.03100586, 260.88742065, 260.40921021,\n",
       "       258.9354248 , 255.90002441, 258.50592041, 250.17085266,\n",
       "       257.90081787, 251.9861908 , 250.36602783, 252.08381653,\n",
       "       255.08016968, 254.67019653, 254.74835205, 254.74835205,\n",
       "       257.21765137, 268.04156494, 270.01312256, 269.91546631,\n",
       "       265.84555054, 262.76141357, 258.60354614, 258.58404541,\n",
       "       264.60598755, 259.66738892, 255.22659302, 254.29936218,\n",
       "       255.34368896, 259.77481079, 264.64505005, 274.20996094,\n",
       "       275.77157593, 275.48760986, 280.35388184, 272.73626709,\n",
       "       271.07177734, 263.5617981 , 260.96716309, 261.64273071,\n",
       "       264.99139404, 266.46981812, 259.48864746, 252.68373108,\n",
       "       247.69017029, 245.0856781 , 237.37992859, 233.36550903,\n",
       "       228.07821655, 238.27096558, 240.83624268, 241.10063171,\n",
       "       243.92050171, 238.40803528, 231.90661621, 234.61878967,\n",
       "       235.06921387, 238.21220398, 238.55488586, 239.75921631,\n",
       "       242.50079346, 242.88264465, 251.50875854, 256.00296021,\n",
       "       254.34820557, 259.95864868, 260.14468384, 261.44692993,\n",
       "       260.57553101, 262.45544434, 261.20214844, 261.76025391,\n",
       "       264.72702026, 264.56054688, 263.11141968, 262.61209106,\n",
       "       260.7517395 , 263.87515259, 263.3855896 , 256.43377686,\n",
       "       251.77314758, 258.00039673, 258.29412842, 259.79220581,\n",
       "       265.47113037, 264.76620483, 263.88497925, 260.83984375,\n",
       "       261.5350647 , 259.07739258, 257.49124146, 244.86047363,\n",
       "       237.16453552, 241.01251221, 231.09396362, 236.39102173,\n",
       "       234.08029175, 231.75973511, 233.22419739, 238.98379517,\n",
       "       241.66703796, 247.92788696, 248.93041992, 247.092453  ,\n",
       "       250.63078308, 252.72428894, 246.20788574, 247.70184326,\n",
       "       242.85629272, 242.63024902, 239.21968079, 237.5684967 ,\n",
       "       238.07955933, 243.02339172, 241.33285522, 240.222229  ,\n",
       "       241.62773132, 243.15116882, 244.51734924, 244.487854  ,\n",
       "       244.5271759 , 241.81446838, 231.38626099, 219.39529419,\n",
       "       226.25570679, 217.17404175, 213.12461853, 217.95048523,\n",
       "       223.21864319, 226.62919617, 226.40313721, 226.83560181,\n",
       "       232.93917847, 233.38148499, 229.07652283, 227.97572327,\n",
       "       228.46713257, 227.97572327, 236.37922668, 233.97120667,\n",
       "       235.05235291, 233.89256287, 236.46768188, 235.44551086,\n",
       "       232.37896729, 232.03495789, 232.73278809, 237.24414062,\n",
       "       241.77516174, 245.65748596, 245.06773376, 242.27639771,\n",
       "       243.3870697 , 237.91249084, 238.24665833, 239.32781982,\n",
       "       237.6569519 , 232.50672913, 236.63478088, 238.61030579,\n",
       "       237.67660522, 242.54179382, 243.88830566, 241.6572113 ,\n",
       "       240.31069946, 240.76280212, 242.23376465, 242.82609558,\n",
       "       242.55952454, 246.99215698, 244.59320068, 249.05543518,\n",
       "       246.44918823, 244.49447632, 240.35804749, 243.19134521,\n",
       "       240.89112854, 239.53865051, 240.85163879, 242.07582092,\n",
       "       243.83306885, 244.67218018, 242.85571289, 244.31677246,\n",
       "       257.82192993, 262.50134277, 262.56060791, 261.27722168,\n",
       "       263.24172974, 257.26907349, 253.36958313, 252.05657959,\n",
       "       251.75054932, 247.92015076, 245.5211792 , 249.70701599,\n",
       "       250.57575989, 251.67155457, 245.82723999, 246.06416321,\n",
       "       246.85394287, 241.92771912, 245.10655212, 243.29995728,\n",
       "       244.45500183, 245.45210266, 240.0914917 , 246.03453064,\n",
       "       240.0914917 , 241.12808228, 242.54968262, 241.58221436,\n",
       "       237.09036255, 237.27793884, 229.96264648, 227.71177673,\n",
       "       228.12641907, 220.08058167, 224.4440918 , 227.67228699,\n",
       "       231.00907898, 227.67228699, 223.83200073, 226.65545654,\n",
       "       226.07301331, 227.73152161, 229.48878479, 231.21641541,\n",
       "       227.15895081, 231.71165466, 232.52497864, 230.63050842,\n",
       "       228.73602295, 230.95780945, 230.9974823 , 226.91098022,\n",
       "       223.17160034, 220.36459351, 213.72895813, 213.51074219,\n",
       "       215.55401611, 215.44491577, 214.98864746, 213.60993958,\n",
       "       218.01387024, 219.44216919, 218.32133484, 220.27534485,\n",
       "       221.91192627, 220.26541138, 218.79743958, 236.65116882,\n",
       "       235.06417847, 241.68988037, 243.34631348, 241.93785095,\n",
       "       247.4526825 , 245.78633118, 242.52307129, 242.91983032,\n",
       "       245.04243469, 250.23983765, 252.72944641, 250.64651489,\n",
       "       250.16049194, 249.20829773, 248.26602173, 248.48423767,\n",
       "       254.37594604, 254.88182068, 252.02520752, 253.17579651,\n",
       "       251.50944519, 253.75108337, 267.21081543, 270.71212769,\n",
       "       272.0015564 , 273.32073975, 274.30267334, 274.59033203,\n",
       "       280.37298584, 279.11328125, 278.38922119, 277.59570312,\n",
       "       277.38745117, 274.64987183, 277.05020142, 279.70840454,\n",
       "       278.98156738, 276.34298706, 278.31445312, 279.29022217,\n",
       "       282.38677979, 284.24874878, 290.77050781, 289.21722412,\n",
       "       291.63674927, 293.3493042 , 291.32806396, 293.81729126,\n",
       "       293.26968384, 294.37487793, 294.69351196, 292.5826416 ,\n",
       "       292.71209717, 291.23846436, 288.29122925, 290.2925415 ,\n",
       "       288.54016113, 294.62380981, 292.9510498 , 293.8571167 ,\n",
       "       284.61715698, 286.99682617, 295.13162231, 299.44293213,\n",
       "       297.18270874, 299.23382568, 299.2935791 , 298.16842651,\n",
       "       291.54711914, 282.86474609, 284.63705444, 281.67987061,\n",
       "       279.76815796, 271.27496338, 272.83816528, 279.62875366,\n",
       "       294.45455933, 291.19863892, 287.97262573, 285.79205322,\n",
       "       289.53585815, 302.17111206, 300.89663696, 297.49139404,\n",
       "       300.83691406, 303.9932251 , 300.82693481, 300.12994385,\n",
       "       276.59191895, 262.25402832, 261.86569214, 252.82485962,\n",
       "       253.86038208, 271.93206787, 260.27258301, 288.17175293,\n",
       "       281.73959351, 282.64569092, 272.26068115, 278.79238892,\n",
       "       276.5819397 , 249.33000183, 272.04000854, 225.03999329,\n",
       "       244.22000122, 217.05999756, 219.80000305, 206.58999634,\n",
       "       194.86000061, 219.80000305, 234.49000549, 255.38999939,\n",
       "       242.44999695, 251.27999878, 249.38000488, 237.32000732,\n",
       "       240.44000244, 229.49000549, 248.33999634, 248.03999329,\n",
       "       267.82998657, 264.13000488, 263.51000977, 270.5       ,\n",
       "       281.67999268, 298.42999268, 290.55999756])"
      ]
     },
     "execution_count": 3,
     "metadata": {},
     "output_type": "execute_result"
    }
   ],
   "source": [
    "close"
   ]
  },
  {
   "cell_type": "code",
   "execution_count": 4,
   "metadata": {},
   "outputs": [
    {
     "data": {
      "text/html": [
       "<div>\n",
       "<style scoped>\n",
       "    .dataframe tbody tr th:only-of-type {\n",
       "        vertical-align: middle;\n",
       "    }\n",
       "\n",
       "    .dataframe tbody tr th {\n",
       "        vertical-align: top;\n",
       "    }\n",
       "\n",
       "    .dataframe thead th {\n",
       "        text-align: right;\n",
       "    }\n",
       "</style>\n",
       "<table border=\"1\" class=\"dataframe\">\n",
       "  <thead>\n",
       "    <tr style=\"text-align: right;\">\n",
       "      <th></th>\n",
       "      <th>macd</th>\n",
       "      <th>macdsignal</th>\n",
       "      <th>macdhist</th>\n",
       "    </tr>\n",
       "  </thead>\n",
       "  <tbody>\n",
       "    <tr>\n",
       "      <th>0</th>\n",
       "      <td>2.902092</td>\n",
       "      <td>4.070505</td>\n",
       "      <td>-1.168413</td>\n",
       "    </tr>\n",
       "    <tr>\n",
       "      <th>1</th>\n",
       "      <td>2.958143</td>\n",
       "      <td>3.848032</td>\n",
       "      <td>-0.889889</td>\n",
       "    </tr>\n",
       "    <tr>\n",
       "      <th>2</th>\n",
       "      <td>2.106449</td>\n",
       "      <td>3.499716</td>\n",
       "      <td>-1.393267</td>\n",
       "    </tr>\n",
       "    <tr>\n",
       "      <th>3</th>\n",
       "      <td>1.950502</td>\n",
       "      <td>3.189873</td>\n",
       "      <td>-1.239371</td>\n",
       "    </tr>\n",
       "    <tr>\n",
       "      <th>4</th>\n",
       "      <td>2.089921</td>\n",
       "      <td>2.969883</td>\n",
       "      <td>-0.879961</td>\n",
       "    </tr>\n",
       "  </tbody>\n",
       "</table>\n",
       "</div>"
      ],
      "text/plain": [
       "       macd  macdsignal  macdhist\n",
       "0  2.902092    4.070505 -1.168413\n",
       "1  2.958143    3.848032 -0.889889\n",
       "2  2.106449    3.499716 -1.393267\n",
       "3  1.950502    3.189873 -1.239371\n",
       "4  2.089921    2.969883 -0.879961"
      ]
     },
     "execution_count": 4,
     "metadata": {},
     "output_type": "execute_result"
    }
   ],
   "source": [
    "macd, macdsignal, macdhist = talib.MACD(close, fastperiod=5, slowperiod=20, signalperiod=9)\n",
    "macdhist = macdhist[~np.isnan(macdhist)]\n",
    "macd = macd[-len(macdhist):]\n",
    "macdsignal = macdsignal[-len(macdhist):]\n",
    "\n",
    "\n",
    "pd.DataFrame({'macd': macd, 'macdsignal': macdsignal, 'macdhist': macdhist}).head()"
   ]
  },
  {
   "cell_type": "code",
   "execution_count": 5,
   "metadata": {},
   "outputs": [],
   "source": [
    "def prepare_dataset(close):\n",
    "    \"\"\"\n",
    "    Function prepare_dataset to generate input data and trading strategy from stock close prices\n",
    "    \"\"\"\n",
    "\n",
    "    macd, macdsignal, macdhist = talib.MACD(close, fastperiod=12, slowperiod=26, signalperiod=9)\n",
    "\n",
    "    # Cancel NaN values\n",
    "    macdhist = macdhist[~np.isnan(macdhist)]\n",
    "    macd = macd[-len(macdhist):]\n",
    "    macdsignal = macdsignal[-len(macdhist):]\n",
    "\n",
    "    # Scaling features to a range [0, 1]\n",
    "    min_max_scaler = preprocessing.MinMaxScaler(feature_range=(-1, 1))\n",
    "    macdhist_norm = min_max_scaler.fit_transform(np.expand_dims(macdhist, axis=1))\n",
    "\n",
    "    # Implement strategy\n",
    "    start_sell = 0.4\n",
    "    stop_sell = 0.1\n",
    "    start_buy = -0.4\n",
    "    stop_buy = -0.1\n",
    "\n",
    "    y = np.full(len(macdhist), np.nan)\n",
    "    y[0] = 0\n",
    "\n",
    "    for i in range(1, len(macdhist)):\n",
    "\n",
    "        if y[i-1] == 0:\n",
    "            if (macdhist_norm[i] >= start_sell):\n",
    "                # Enter sell position\n",
    "                y[i] = -1\n",
    "            elif (macdhist_norm[i] <= start_buy):\n",
    "                # Enter buy position\n",
    "                y[i] = 1\n",
    "            else:\n",
    "                y[i] = 0\n",
    "        elif y[i-1] == -1:\n",
    "            if macdhist_norm[i] > stop_sell:\n",
    "                # Stay in sell position\n",
    "                y[i] = -1\n",
    "            else:\n",
    "                # Leave sell position\n",
    "                y[i] = 0\n",
    "        else:\n",
    "            if macdhist_norm[i] < stop_buy:\n",
    "                # Stay in buy position\n",
    "                y[i] = 1\n",
    "            else:\n",
    "                # Leave buy position\n",
    "                y[i] = 0\n",
    "\n",
    "    # Plot strategy\n",
    "    dates = np.arange(len(macdhist))\n",
    "    plt.plot(dates, y,'g', label='Strategy Positions')\n",
    "    plt.bar(dates, macdhist_norm[:, 0], width=1, color='blue', label='MACD histogram')\n",
    "    plt.plot(dates, start_sell * np.ones(len(macdhist)), 'k--', lw=1)\n",
    "    plt.plot(dates, stop_sell * np.ones(len(macdhist)), 'k--', lw=1)\n",
    "    plt.plot(dates, start_buy * np.ones(len(macdhist)), 'k--', lw=1)\n",
    "    plt.plot(dates, stop_buy * np.ones(len(macdhist)), 'k--', lw=1)\n",
    "    plt.xlabel('Days')\n",
    "    plt.xlim((0, len(y)))\n",
    "    plt.legend()\n",
    "    # plt.savefig('images/AAL_macd.png', bbox_inches='tight')\n",
    "    plt.show()\n",
    "    \n",
    "    # Generate input data - technical indicators\n",
    "    ind1 = talib.MIDPOINT(close)    # Overlap: MidPoint over period\n",
    "    ind2 = talib.HT_DCPERIOD(close) # Cycle Indicator Functions:  Hilbert Transform - Dominant Cycle Period\n",
    "    ind3 = talib.MAX(close)         # Math Operator: Highest value over a specified period\n",
    "    ind4 = talib.SIN(close)         # Math Transform: Vector Trigonometric Sin\n",
    "    ind5 = talib.APO(close)         # Momentum: Absolute Price Oscillator\n",
    "    ind6 = talib.TEMA(close, timeperiod=5) ## Triple Exponential Moving Average\n",
    "\n",
    "    x = np.vstack((macdhist, macd, macdsignal, ind1[-len(macdhist):], ind2[-len(macdhist):],\n",
    "                   ind3[-len(macdhist):], ind4[-len(macdhist):], ind5[-len(macdhist):],\n",
    "                   ind6[-len(macdhist):]))\n",
    "    x = x.T\n",
    "\n",
    "    return x, y"
   ]
  },
  {
   "cell_type": "code",
   "execution_count": 6,
   "metadata": {},
   "outputs": [
    {
     "data": {
      "image/png": "[encoded data removed]",
      "text/plain": [
       "<Figure size 432x288 with 1 Axes>"
      ]
     },
     "metadata": {
      "needs_background": "light"
     },
     "output_type": "display_data"
    }
   ],
   "source": [
    "# Implement MACD trading strategy\n",
    "X, y = prepare_dataset(close)"
   ]
  },
  {
   "cell_type": "code",
   "execution_count": 7,
   "metadata": {},
   "outputs": [
    {
     "data": {
      "text/plain": [
       "array([-2.37934297e-02,  2.75290045e+00,  2.77669388e+00,  2.37555817e+02,\n",
       "        1.72117648e+01,  2.41016205e+02,  7.74819479e-01,  3.90428142e+00,\n",
       "        2.39840520e+02])"
      ]
     },
     "execution_count": 7,
     "metadata": {},
     "output_type": "execute_result"
    }
   ],
   "source": [
    "X[0]"
   ]
  },
  {
   "cell_type": "code",
   "execution_count": 8,
   "metadata": {},
   "outputs": [],
   "source": [
    "# Split dataset\n",
    "n_train = int(X.shape[0] * 0.8)\n",
    "\n",
    "X_train, y_train = X[:n_train], y[:n_train]\n",
    "X_test, y_test = X[n_train:], y[n_train:]"
   ]
  },
  {
   "cell_type": "code",
   "execution_count": 9,
   "metadata": {},
   "outputs": [],
   "source": [
    "# Normalize data\n",
    "scaler = preprocessing.MinMaxScaler()\n",
    "\n",
    "X_train = scaler.fit_transform(X_train)\n",
    "X_test = scaler.transform(X_test)"
   ]
  },
  {
   "cell_type": "code",
   "execution_count": 10,
   "metadata": {},
   "outputs": [
    {
     "name": "stdout",
     "output_type": "stream",
     "text": [
      "[-1.  0.  1.]\n"
     ]
    }
   ],
   "source": [
    "# Encode trading signal with integers between 0 and n-1 classes\n",
    "le = preprocessing.LabelEncoder()\n",
    "\n",
    "y_train = le.fit_transform(y_train)\n",
    "y_test = le.transform(y_test)\n",
    "\n",
    "print(le.classes_)"
   ]
  },
  {
   "cell_type": "code",
   "execution_count": 11,
   "metadata": {},
   "outputs": [],
   "source": [
    "## Create and train the Agent\n",
    "# Variable definiton\n",
    "episodes = 20\n",
    "look_back = 5\n",
    "batch_size = 32\n",
    "action_size = len(le.classes_)\n",
    "n_features = X_train.shape[1]"
   ]
  },
  {
   "cell_type": "code",
   "execution_count": 12,
   "metadata": {},
   "outputs": [],
   "source": [
    "# Create Agent\n",
    "agent = Agent(look_back, action_size, n_features)"
   ]
  },
  {
   "cell_type": "code",
   "execution_count": 13,
   "metadata": {},
   "outputs": [],
   "source": [
    "def run(agent, dataX, dataY, episodes, look_back):\n",
    "    \"\"\"\n",
    "    Function run to train the agent\n",
    "    \"\"\"\n",
    "    \n",
    "    # Length of dataset\n",
    "    times = len(dataX)\n",
    "\n",
    "    # List of total rewards\n",
    "    total_reward_list = []\n",
    "\n",
    "    for ep in range(episodes):\n",
    "\n",
    "        # print('Episode: ' + str(ep))\n",
    "        \n",
    "        # Initial state and position\n",
    "        state = dataX[:look_back, :][np.newaxis, :, :]\n",
    "        pos = dataY[look_back - 1]\n",
    "\n",
    "        done = False\n",
    "        total_reward = 0\n",
    "\n",
    "        for t in range(1, times - look_back + 1):\n",
    "\n",
    "            # Predict action based on the current state\n",
    "            action = agent.act(state)\n",
    "\n",
    "            # Calculate reward\n",
    "            if action == pos:   # 0:-1      1:0     2:1\n",
    "                reward = +1\n",
    "\n",
    "            elif (pos == 0 or pos == 2):\n",
    "                if action == 1:\n",
    "                    reward = 0\n",
    "                else:\n",
    "                    reward = -1\n",
    "            else:\n",
    "                reward = -1\n",
    "\n",
    "            total_reward += reward\n",
    "\n",
    "            # Final state\n",
    "            if t == times - look_back:\n",
    "                done = True\n",
    "\n",
    "            # Receive next state and position\n",
    "            next_state = dataX[t:t + look_back, :][np.newaxis, :, :]\n",
    "            next_pos = dataY[t + look_back - 1]\n",
    "            \n",
    "            # Remember current experience\n",
    "            agent.remember(state, action, reward, next_state, done)\n",
    "            \n",
    "            # Make next_state the new current state; the same for pos\n",
    "            state = next_state\n",
    "            pos = next_pos\n",
    "\n",
    "            if done:\n",
    "                print('Episode: %i ---> Total Reward: %i' %(ep, total_reward))\n",
    "                total_reward_list.append(total_reward)\n",
    "\n",
    "            # Train the agent with previous experiences\n",
    "            if len(agent.memory) > batch_size:\n",
    "                agent.replay(batch_size)\n",
    "\n",
    "        if (ep + 1) % 5 == 0 and ep > 0:\n",
    "            file = 'checkpoints/' + symbol + '_robot_checkpoint' + str(ep + 1)\n",
    "            # Serialize weights to HDF5\n",
    "            agent.model.save_weights(file + \".h5\")\n",
    "            # Save epsilon\n",
    "            pickle.dump(agent.epsilon, open(file + \"_epsilon.pickle\", \"wb\"))\n",
    "\n",
    "    # Save list of rewards along the epochs\n",
    "    np.savetxt(file + '_total_reward.txt', total_reward_list)\n",
    "\n",
    "    return\n"
   ]
  },
  {
   "cell_type": "code",
   "execution_count": null,
   "metadata": {},
   "outputs": [],
   "source": [
    "# Train Agent\n",
    "run(agent, X_train, y_train, episodes, look_back)"
   ]
  },
  {
   "cell_type": "code",
   "execution_count": null,
   "metadata": {},
   "outputs": [],
   "source": [
    "# Load rewards\n",
    "total_reward_list = np.loadtxt( 'checkpoints/'+ symbol + '_robot_checkpoint' + str(episodes) + '_total_reward.txt')\n",
    "# Plot\n",
    "plt.figure()\n",
    "plt.plot(np.arange(1, episodes+1), total_reward_list)\n",
    "plt.xlabel('Episodes')\n",
    "plt.ylabel('Total Reward')\n",
    "plt.show()"
   ]
  },
  {
   "cell_type": "code",
   "execution_count": null,
   "metadata": {},
   "outputs": [],
   "source": [
    "total_reward_list"
   ]
  },
  {
   "cell_type": "code",
   "execution_count": null,
   "metadata": {},
   "outputs": [],
   "source": [
    "def evaluate(agent, dataX, dataY, look_back):\n",
    "    \"\"\"\n",
    "    Function run to evaluate the trained agent\n",
    "    \"\"\"\n",
    "    \n",
    "    # Length of dataset\n",
    "    times = len(dataX)\n",
    "\n",
    "    # Initial state and position\n",
    "    state = dataX[:look_back, :][np.newaxis, :, :]\n",
    "    pos = dataY[look_back - 1]\n",
    "\n",
    "    # List of predicted positions\n",
    "    pos_list = []\n",
    "    \n",
    "    done = False\n",
    "    total_reward = 0\n",
    "    \n",
    "    for t in range(1, times - look_back + 1):\n",
    "\n",
    "        # Predict action based on the current state\n",
    "        action = agent.act(state)\n",
    "\n",
    "        # Calculate reward\n",
    "        if action == pos:   # 0:-1      1:0     2:1\n",
    "            reward = +1\n",
    "\n",
    "        elif (pos == 0 or pos == 2):\n",
    "            if action == 1:\n",
    "                reward = 0\n",
    "            else:\n",
    "                reward = -1\n",
    "        else:\n",
    "            reward = -1\n",
    "\n",
    "        pos_list.append(action)\n",
    "        total_reward += reward\n",
    "\n",
    "        # Final state\n",
    "        if t == times - look_back:\n",
    "            done = True\n",
    "\n",
    "        # Receive next state and position\n",
    "        next_state = dataX[t:t + look_back, :][np.newaxis, :, :]\n",
    "        next_pos = dataY[t + look_back - 1]\n",
    "\n",
    "        # Remember current experience\n",
    "        agent.remember(state, action, reward, next_state, done)\n",
    "\n",
    "        # Make next_state the new current state; the same for pos\n",
    "        state = next_state\n",
    "        pos = next_pos\n",
    "\n",
    "        if done:\n",
    "            print('Total Reward: %i' % total_reward)\n",
    "\n",
    "    return np.array(pos_list)"
   ]
  },
  {
   "cell_type": "code",
   "execution_count": null,
   "metadata": {},
   "outputs": [],
   "source": [
    "# Evaluate the model\n",
    "# Make predictions\n",
    "y_pred_test = evaluate(agent, X_test, y_test, look_back)\n",
    "\n",
    "# Calculate and print accuracy\n",
    "acc = accuracy_score(y_test[look_back-1:-1], y_pred_test)\n",
    "\n",
    "print('Accuracy: %.2f %%' % (acc*100))"
   ]
  },
  {
   "cell_type": "code",
   "execution_count": null,
   "metadata": {},
   "outputs": [],
   "source": [
    "# Calculate and print precision, recall, f1 score and support\n",
    "p, r, f1, s = precision_recall_fscore_support(y_test[look_back-1:-1], y_pred_test, average=None)\n",
    "results = pd.DataFrame({'1-Precision': p, '2-Recall': r, '3-F1 score': f1, '4-Support': s}, index=le.classes_)\n",
    "\n",
    "print(results.round(decimals=3))"
   ]
  },
  {
   "cell_type": "code",
   "execution_count": null,
   "metadata": {},
   "outputs": [],
   "source": [
    "# Decodificate labels\n",
    "y_true_test = le.inverse_transform(y_test[look_back-1:-1])\n",
    "y_pred_test = le.inverse_transform(y_pred_test)"
   ]
  },
  {
   "cell_type": "code",
   "execution_count": null,
   "metadata": {},
   "outputs": [],
   "source": [
    "# Plot strategy\n",
    "plt.figure()\n",
    "plt.plot(y_true_test, label='true')\n",
    "plt.plot(y_pred_test, label='pred')\n",
    "plt.legend()\n",
    "plt.show()"
   ]
  },
  {
   "cell_type": "code",
   "execution_count": null,
   "metadata": {},
   "outputs": [],
   "source": []
  }
 ],
 "metadata": {
  "kernelspec": {
   "display_name": "Python 3",
   "language": "python",
   "name": "python3"
  },
  "language_info": {
   "codemirror_mode": {
    "name": "ipython",
    "version": 3
   },
   "file_extension": ".py",
   "mimetype": "text/x-python",
   "name": "python",
   "nbconvert_exporter": "python",
   "pygments_lexer": "ipython3",
   "version": "3.7.6"
  }
 },
 "nbformat": 4,
 "nbformat_minor": 2
}
