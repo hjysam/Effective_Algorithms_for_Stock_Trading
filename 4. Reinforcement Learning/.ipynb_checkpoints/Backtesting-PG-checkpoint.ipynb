{
 "cells": [
  {
   "cell_type": "code",
   "execution_count": 1,
   "metadata": {
    "scrolled": true
   },
   "outputs": [
    {
     "name": "stderr",
     "output_type": "stream",
     "text": [
      "C:\\Users\\Elid-PC.DESKTOP-MG9DS93\\anaconda3\\lib\\site-packages\\pandas_datareader\\compat\\__init__.py:7: FutureWarning: pandas.util.testing is deprecated. Use the functions in the public API at pandas.testing instead.\n",
      "  from pandas.util.testing import assert_frame_equal\n"
     ]
    },
    {
     "data": {
      "application/javascript": [
       "\n",
       "console.log('Starting front end url_querystring_target comm target');\n",
       "const comm = Jupyter.notebook.kernel.comm_manager.new_comm('url_querystring_target', {'init': 1});\n",
       "comm.send({'ipyparams_browser_url': window.location.href});\n",
       "console.log('Sent window.location.href on url_querystring_target comm target');\n",
       "\n",
       "comm.on_msg(function(msg) {\n",
       "    console.log(msg.content.data);\n",
       "});\n"
      ],
      "text/plain": [
       "<IPython.core.display.Javascript object>"
      ]
     },
     "metadata": {},
     "output_type": "display_data"
    },
    {
     "name": "stderr",
     "output_type": "stream",
     "text": [
      "Using TensorFlow backend.\n"
     ]
    }
   ],
   "source": [
    "# Import libraries\n",
    "import pandas as pd\n",
    "from pandas_datareader import data as pdr\n",
    "\n",
    "import numpy as np\n",
    "import matplotlib.pyplot as plt\n",
    "import pickle\n",
    "\n",
    "from sklearn import preprocessing\n",
    "from sklearn.metrics import accuracy_score\n",
    "from sklearn.metrics import precision_recall_fscore_support\n",
    "\n",
    "import talib, re, ipyparams\n",
    "\n",
    "from Agent import Agent"
   ]
  },
  {
   "cell_type": "code",
   "execution_count": 2,
   "metadata": {},
   "outputs": [
    {
     "data": {
      "text/plain": [
       "503"
      ]
     },
     "execution_count": 2,
     "metadata": {},
     "output_type": "execute_result"
    }
   ],
   "source": [
    "end_date = '2020-04-19'\n",
    "start_date = '2018-04-20'\n",
    "\n",
    "currentNotebook = ipyparams.notebook_name\n",
    "symbol = 'PG'\n",
    "Date = pd.DataFrame(pdr.DataReader(symbol,'yahoo', start_date, end_date))\n",
    "\n",
    "alldata = pd.DataFrame({'Date': Date.index})\n",
    "alldata[symbol] = pdr.DataReader(symbol, 'yahoo', start_date, end_date)['Adj Close'].values\n",
    "# Stock symbol\n",
    "\n",
    "# Load close prices of to NumPy array\n",
    "close = alldata[symbol].values\n",
    "len(close)"
   ]
  },
  {
   "cell_type": "code",
   "execution_count": 3,
   "metadata": {},
   "outputs": [
    {
     "data": {
      "text/plain": [
       "array([ 70.71646881,  69.63142395,  68.87660217,  68.40486145,\n",
       "        68.21614838,  68.64074707,  68.69734955,  68.25390625,\n",
       "        67.89536285,  66.93297577,  67.32924652,  68.33882141,\n",
       "        67.91423798,  67.40473175,  68.2822113 ,  69.01815033,\n",
       "        69.22572327,  69.14080811,  68.82944489,  69.37667847,\n",
       "        69.78239441,  69.30120087,  69.87674713,  69.84844208,\n",
       "        69.98996735,  69.60312653,  70.11264038,  69.8673172 ,\n",
       "        70.65985107,  69.03701019,  69.30120087,  69.98996735,\n",
       "        69.79183197,  70.15036774,  71.48072052,  72.82051849,\n",
       "        73.15074921,  72.87712097,  72.15061188,  71.69772339,\n",
       "        73.00920868,  71.55619812,  72.01851654,  71.56562805,\n",
       "        72.12230682,  73.05639648,  73.3960495 ,  73.59420013,\n",
       "        73.30170441,  73.64137268,  73.65081024,  73.71685791,\n",
       "        73.49984741,  74.73583984,  74.8302002 ,  73.4621048 ,\n",
       "        75.31139374,  74.68867493,  74.43392181,  74.8302002 ,\n",
       "        75.03777313,  75.50953674,  75.21703339,  74.95731354,\n",
       "        74.90971375,  74.74785614,  75.20485687,  75.66186523,\n",
       "        76.25214386,  76.71866608,  76.35686493,  77.00429535,\n",
       "        76.78530121,  78.07061768,  78.38480377,  78.56569672,\n",
       "        78.67995453,  78.40384674,  77.49937439,  77.52793121,\n",
       "        77.61360931,  77.4136734 ,  78.35623932,  79.67964172,\n",
       "        79.67964172,  79.6320343 ,  79.87957764,  79.39401245,\n",
       "        79.25119781,  79.36545563,  79.4416275 ,  79.47970581,\n",
       "        79.48921204,  79.41305542,  78.9750824 ,  78.73707581,\n",
       "        79.29881287,  78.68946838,  77.9849472 ,  78.43240356,\n",
       "        78.08013916,  79.12743378,  79.45114899,  79.60346222,\n",
       "        80.2128067 ,  79.97478485,  79.97478485,  81.26961517,\n",
       "        81.70756531,  80.23183441,  79.13695526,  79.27024078,\n",
       "        78.8894043 ,  79.24168396,  79.6605835 ,  80.31752014,\n",
       "        79.0512619 ,  77.99445343,  78.21343231,  78.45146179,\n",
       "        78.26101685,  77.53746033,  75.09060669,  75.27149963,\n",
       "        76.2902298 ,  77.12805176,  77.93733215,  77.07019043,\n",
       "        83.85128784,  83.17893982,  83.71682739,  85.92595673,\n",
       "        85.48413086,  84.38917542,  84.75415039,  85.66662598,\n",
       "        85.17676544,  86.0508194 ,  86.26213074,  87.59722137,\n",
       "        87.89498901,  87.68367004,  87.7509079 ,  88.7594223 ,\n",
       "        89.0379715 ,  89.77754974,  89.79676056,  90.12332916,\n",
       "        90.11372375,  89.60466003,  88.46167755,  87.79892731,\n",
       "        87.92379761,  88.30799103,  89.05718994,  89.33572388,\n",
       "        89.15322876,  90.77646637,  89.63347626,  89.62387085,\n",
       "        89.85439301,  88.79785156,  89.35492706,  90.20016479,\n",
       "        90.31542969,  92.67825317,  92.82231903,  89.10520172,\n",
       "        88.83626556,  88.13510895,  87.38591766,  87.37631989,\n",
       "        83.90892792,  86.53107452,  88.38483429,  87.57801819,\n",
       "        88.28878784,  87.67405701,  87.05934906,  88.83626556,\n",
       "        88.48088074,  88.80745697,  87.35710144,  87.56841278,\n",
       "        88.14470673,  87.54920197,  88.37522888,  87.76050568,\n",
       "        87.74812317,  88.50322723,  87.55449677,  91.8141098 ,\n",
       "        91.29134369,  90.61367035,  90.53622437,  90.55558777,\n",
       "        91.50432587,  93.3921051 ,  94.3602066 ,  94.90234375,\n",
       "        94.33115387,  94.79585266,  94.04073334,  94.59255219,\n",
       "        95.13467407,  96.09309387,  96.07373047,  95.31861877,\n",
       "        95.33798981,  96.79980469,  96.1124649 ,  96.59651184,\n",
       "        97.05151367,  96.39320374,  96.64491272,  95.75427246,\n",
       "        95.40574646,  95.299263  ,  95.71554565,  95.92852783,\n",
       "        95.77362823,  95.40574646,  95.27021027,  96.40288544,\n",
       "        96.85788727,  97.95183563,  98.08737183,  99.17163849,\n",
       "        98.27130127,  98.64887238,  98.47460938,  99.22003937,\n",
       "        98.41652679,  98.70694733,  99.73313141,  99.61695862,\n",
       "       100.24621582, 100.73027039, 100.33334351, 100.43984222,\n",
       "       100.38176727, 100.13005066, 100.34303284, 101.62091827,\n",
       "       101.32081604, 101.31112671, 101.4079361 , 101.70804596,\n",
       "       102.35667419, 103.02465057, 103.1961441 , 103.39112854,\n",
       "       103.35214233, 100.57359314, 101.09030914, 100.69058228,\n",
       "       103.20588684, 102.15296936, 103.81035614, 102.29921722,\n",
       "       102.913414  , 103.42037201, 103.03041077, 102.07498169,\n",
       "       102.43570709, 101.62651062, 103.35214233, 103.44962311,\n",
       "       102.95241547, 104.02483368, 105.39948273, 104.75602722,\n",
       "       104.63903809, 103.70310974, 104.04433441, 104.08333588,\n",
       "       104.01508331, 101.84099579, 101.57776642, 102.6891861 ,\n",
       "       100.3298645 , 101.19754791, 102.05547333, 104.05409241,\n",
       "       104.68778229, 106.04292297, 105.99419403, 106.63764191,\n",
       "       106.93011475, 108.12928772, 108.41201782, 108.20727539,\n",
       "       106.85212708, 107.65156555, 108.93847656, 108.41201782,\n",
       "       109.51368713, 108.9189682 , 106.97887421, 107.02761078,\n",
       "       106.90087128, 107.71981049, 108.68499756, 111.21981049,\n",
       "       110.31312561, 111.19055939, 110.07913971, 110.89807892,\n",
       "       111.5122757 , 112.10699463, 112.58470917, 112.98442078,\n",
       "       113.03317261, 113.27445221, 112.8525238 , 113.13708496,\n",
       "       111.71427917, 110.48773193, 110.65454102, 112.57778168,\n",
       "       113.82394409, 118.15122986, 115.82568359, 114.54025269,\n",
       "       114.25569916, 110.9587326 , 112.13620758, 113.35295105,\n",
       "       115.23693848, 114.58931732, 113.8533783 , 115.05049896,\n",
       "       113.6178894 , 115.18787384, 116.94430542, 117.98441315,\n",
       "       116.66955566, 116.96391296, 117.17978668, 115.1191864 ,\n",
       "       117.08167267, 118.28859711, 119.12265778, 118.90678406,\n",
       "       117.97460175, 119.08340454, 120.8986969 , 120.45713806,\n",
       "       120.56507874, 119.87820435, 117.63116455, 118.99508667,\n",
       "       120.46694946, 119.82914734, 117.5036087 , 118.88716125,\n",
       "       119.13246918, 119.61328125, 119.94689178, 120.90851593,\n",
       "       121.2911911 , 120.71225739, 121.97805786, 122.23319244,\n",
       "       122.04675293, 121.52669525, 118.80865479, 119.45627594,\n",
       "       121.67388153, 120.5356369 , 118.66147614, 119.69177246,\n",
       "       119.65252686, 118.81846619, 117.79798126, 115.00143433,\n",
       "       115.32524872, 115.173172  , 116.00267792, 117.59256744,\n",
       "       120.65384674, 121.46360779, 123.23124695, 121.71048737,\n",
       "       121.93761444, 122.05610657, 123.37937164, 122.95474243,\n",
       "       122.32273865, 117.58269501, 117.41481781, 118.81707764,\n",
       "       118.1258316 , 118.20481873, 117.83944702, 117.78019714,\n",
       "       119.14295959, 118.99482727, 119.03433228, 120.36746216,\n",
       "       119.9033432 , 120.76247406, 118.83682251, 118.78746033,\n",
       "       119.00470734, 120.73284912, 120.23908997, 120.53534698,\n",
       "       121.18710327, 121.41422272, 122.9744873 , 123.06336975,\n",
       "       122.63874054, 123.31024933, 122.71773529, 123.10286713,\n",
       "       123.01399231, 123.90275574, 123.99162292, 123.74475098,\n",
       "       122.46099091, 123.35961914, 123.79412079, 123.33987427,\n",
       "       123.65587616, 123.65587616, 124.51500702, 122.91524506,\n",
       "       123.33987427, 121.86849213, 121.04885101, 121.21672821,\n",
       "       120.46621704, 120.9797287 , 122.30298615, 122.4214859 ,\n",
       "       123.32011414, 123.13249207, 124.3866272 , 124.49525452,\n",
       "       124.83101654, 124.51500702, 124.73225403, 124.16196442,\n",
       "       124.31096649, 124.85733032, 125.19507599, 124.23149872,\n",
       "       125.11560059, 123.79441833, 124.28116608, 124.82752991,\n",
       "       125.96990204, 126.29772186, 125.24474335, 125.33414459,\n",
       "       123.33746338, 122.632164  , 124.132164  , 125.30434418,\n",
       "       124.04276276, 124.6089859 , 125.74143219, 125.86063385,\n",
       "       122.48316193, 120.62554932, 119.3639679 , 112.74808502,\n",
       "       112.47987366, 118.76793671, 117.387146  , 123.67520905,\n",
       "       120.82421875, 120.85402679, 115.29112244, 119.75138092,\n",
       "       110.8507309 , 101.16532135, 113.31430817, 107.78120422,\n",
       "       117.4566803 , 116.67191315, 110.09577179, 101.75141907,\n",
       "        97.05274963, 102.58585358, 100.25141907, 106.66862488,\n",
       "       109.44013977, 114.23814392, 109.27127075, 108.60571289,\n",
       "       113.64212036, 114.31761932, 117.02952576, 112.0229187 ,\n",
       "       114.33747864, 113.90039825, 115.18184662, 120.15866089,\n",
       "       120.41693878, 120.69508362, 123.86395264])"
      ]
     },
     "execution_count": 3,
     "metadata": {},
     "output_type": "execute_result"
    }
   ],
   "source": [
    "close"
   ]
  },
  {
   "cell_type": "code",
   "execution_count": 4,
   "metadata": {},
   "outputs": [
    {
     "data": {
      "text/html": [
       "<div>\n",
       "<style scoped>\n",
       "    .dataframe tbody tr th:only-of-type {\n",
       "        vertical-align: middle;\n",
       "    }\n",
       "\n",
       "    .dataframe tbody tr th {\n",
       "        vertical-align: top;\n",
       "    }\n",
       "\n",
       "    .dataframe thead th {\n",
       "        text-align: right;\n",
       "    }\n",
       "</style>\n",
       "<table border=\"1\" class=\"dataframe\">\n",
       "  <thead>\n",
       "    <tr style=\"text-align: right;\">\n",
       "      <th></th>\n",
       "      <th>macd</th>\n",
       "      <th>macdsignal</th>\n",
       "      <th>macdhist</th>\n",
       "    </tr>\n",
       "  </thead>\n",
       "  <tbody>\n",
       "    <tr>\n",
       "      <th>0</th>\n",
       "      <td>0.592950</td>\n",
       "      <td>0.636589</td>\n",
       "      <td>-0.043639</td>\n",
       "    </tr>\n",
       "    <tr>\n",
       "      <th>1</th>\n",
       "      <td>0.730127</td>\n",
       "      <td>0.655296</td>\n",
       "      <td>0.074831</td>\n",
       "    </tr>\n",
       "    <tr>\n",
       "      <th>2</th>\n",
       "      <td>0.403300</td>\n",
       "      <td>0.604897</td>\n",
       "      <td>-0.201597</td>\n",
       "    </tr>\n",
       "    <tr>\n",
       "      <th>3</th>\n",
       "      <td>0.256266</td>\n",
       "      <td>0.535171</td>\n",
       "      <td>-0.278905</td>\n",
       "    </tr>\n",
       "    <tr>\n",
       "      <th>4</th>\n",
       "      <td>0.323435</td>\n",
       "      <td>0.492824</td>\n",
       "      <td>-0.169389</td>\n",
       "    </tr>\n",
       "  </tbody>\n",
       "</table>\n",
       "</div>"
      ],
      "text/plain": [
       "       macd  macdsignal  macdhist\n",
       "0  0.592950    0.636589 -0.043639\n",
       "1  0.730127    0.655296  0.074831\n",
       "2  0.403300    0.604897 -0.201597\n",
       "3  0.256266    0.535171 -0.278905\n",
       "4  0.323435    0.492824 -0.169389"
      ]
     },
     "execution_count": 4,
     "metadata": {},
     "output_type": "execute_result"
    }
   ],
   "source": [
    "macd, macdsignal, macdhist = talib.MACD(close, fastperiod=5, slowperiod=20, signalperiod=9)\n",
    "macdhist = macdhist[~np.isnan(macdhist)]\n",
    "macd = macd[-len(macdhist):]\n",
    "macdsignal = macdsignal[-len(macdhist):]\n",
    "\n",
    "\n",
    "pd.DataFrame({'macd': macd, 'macdsignal': macdsignal, 'macdhist': macdhist}).head()"
   ]
  },
  {
   "cell_type": "code",
   "execution_count": 5,
   "metadata": {},
   "outputs": [],
   "source": [
    "def prepare_dataset(close):\n",
    "    \"\"\"\n",
    "    Function prepare_dataset to generate input data and trading strategy from stock close prices\n",
    "    \"\"\"\n",
    "\n",
    "    macd, macdsignal, macdhist = talib.MACD(close, fastperiod=12, slowperiod=26, signalperiod=9)\n",
    "\n",
    "    # Cancel NaN values\n",
    "    macdhist = macdhist[~np.isnan(macdhist)]\n",
    "    macd = macd[-len(macdhist):]\n",
    "    macdsignal = macdsignal[-len(macdhist):]\n",
    "\n",
    "    # Scaling features to a range [0, 1]\n",
    "    min_max_scaler = preprocessing.MinMaxScaler(feature_range=(-1, 1))\n",
    "    macdhist_norm = min_max_scaler.fit_transform(np.expand_dims(macdhist, axis=1))\n",
    "\n",
    "    # Implement strategy\n",
    "    start_sell = 0.4\n",
    "    stop_sell = 0.1\n",
    "    start_buy = -0.4\n",
    "    stop_buy = -0.1\n",
    "\n",
    "    y = np.full(len(macdhist), np.nan)\n",
    "    y[0] = 0\n",
    "\n",
    "    for i in range(1, len(macdhist)):\n",
    "\n",
    "        if y[i-1] == 0:\n",
    "            if (macdhist_norm[i] >= start_sell):\n",
    "                # Enter sell position\n",
    "                y[i] = -1\n",
    "            elif (macdhist_norm[i] <= start_buy):\n",
    "                # Enter buy position\n",
    "                y[i] = 1\n",
    "            else:\n",
    "                y[i] = 0\n",
    "        elif y[i-1] == -1:\n",
    "            if macdhist_norm[i] > stop_sell:\n",
    "                # Stay in sell position\n",
    "                y[i] = -1\n",
    "            else:\n",
    "                # Leave sell position\n",
    "                y[i] = 0\n",
    "        else:\n",
    "            if macdhist_norm[i] < stop_buy:\n",
    "                # Stay in buy position\n",
    "                y[i] = 1\n",
    "            else:\n",
    "                # Leave buy position\n",
    "                y[i] = 0\n",
    "\n",
    "    # Plot strategy\n",
    "    dates = np.arange(len(macdhist))\n",
    "    plt.plot(dates, y,'g', label='Strategy Positions')\n",
    "    plt.bar(dates, macdhist_norm[:, 0], width=1, color='blue', label='MACD histogram')\n",
    "    plt.plot(dates, start_sell * np.ones(len(macdhist)), 'k--', lw=1)\n",
    "    plt.plot(dates, stop_sell * np.ones(len(macdhist)), 'k--', lw=1)\n",
    "    plt.plot(dates, start_buy * np.ones(len(macdhist)), 'k--', lw=1)\n",
    "    plt.plot(dates, stop_buy * np.ones(len(macdhist)), 'k--', lw=1)\n",
    "    plt.xlabel('Days')\n",
    "    plt.xlim((0, len(y)))\n",
    "    plt.legend()\n",
    "    # plt.savefig('images/AAL_macd.png', bbox_inches='tight')\n",
    "    plt.show()\n",
    "    \n",
    "    # Generate input data - technical indicators\n",
    "    ind1 = talib.MIDPOINT(close)    # Overlap: MidPoint over period\n",
    "    ind2 = talib.HT_DCPERIOD(close) # Cycle Indicator Functions:  Hilbert Transform - Dominant Cycle Period\n",
    "    ind3 = talib.MAX(close)         # Math Operator: Highest value over a specified period\n",
    "    ind4 = talib.SIN(close)         # Math Transform: Vector Trigonometric Sin\n",
    "    ind5 = talib.APO(close)         # Momentum: Absolute Price Oscillator\n",
    "    ind6 = talib.TEMA(close, timeperiod=5) ## Triple Exponential Moving Average\n",
    "\n",
    "    x = np.vstack((macdhist, macd, macdsignal, ind1[-len(macdhist):], ind2[-len(macdhist):],\n",
    "                   ind3[-len(macdhist):], ind4[-len(macdhist):], ind5[-len(macdhist):],\n",
    "                   ind6[-len(macdhist):]))\n",
    "    x = x.T\n",
    "\n",
    "    return x, y"
   ]
  },
  {
   "cell_type": "code",
   "execution_count": 6,
   "metadata": {},
   "outputs": [
    {
     "data": {
      "image/png": "[encoded data removed]",
      "text/plain": [
       "<Figure size 432x288 with 1 Axes>"
      ]
     },
     "metadata": {
      "needs_background": "light"
     },
     "output_type": "display_data"
    }
   ],
   "source": [
    "# Implement MACD trading strategy\n",
    "X, y = prepare_dataset(close)"
   ]
  },
  {
   "cell_type": "code",
   "execution_count": 7,
   "metadata": {},
   "outputs": [
    {
     "data": {
      "text/plain": [
       "array([-6.47629979e-02,  4.25166013e-01,  4.89929011e-01,  6.98484306e+01,\n",
       "        1.72117648e+01,  7.06598511e+01,  8.60030456e-01,  7.36970266e-01,\n",
       "        7.00290803e+01])"
      ]
     },
     "execution_count": 7,
     "metadata": {},
     "output_type": "execute_result"
    }
   ],
   "source": [
    "X[0]"
   ]
  },
  {
   "cell_type": "code",
   "execution_count": 8,
   "metadata": {},
   "outputs": [],
   "source": [
    "# Split dataset\n",
    "n_train = int(X.shape[0] * 0.8)\n",
    "\n",
    "X_train, y_train = X[:n_train], y[:n_train]\n",
    "X_test, y_test = X[n_train:], y[n_train:]"
   ]
  },
  {
   "cell_type": "code",
   "execution_count": 9,
   "metadata": {},
   "outputs": [],
   "source": [
    "# Normalize data\n",
    "scaler = preprocessing.MinMaxScaler()\n",
    "\n",
    "X_train = scaler.fit_transform(X_train)\n",
    "X_test = scaler.transform(X_test)"
   ]
  },
  {
   "cell_type": "code",
   "execution_count": 10,
   "metadata": {},
   "outputs": [
    {
     "name": "stdout",
     "output_type": "stream",
     "text": [
      "[-1.  0.  1.]\n"
     ]
    }
   ],
   "source": [
    "# Encode trading signal with integers between 0 and n-1 classes\n",
    "le = preprocessing.LabelEncoder()\n",
    "\n",
    "y_train = le.fit_transform(y_train)\n",
    "y_test = le.transform(y_test)\n",
    "\n",
    "print(le.classes_)"
   ]
  },
  {
   "cell_type": "code",
   "execution_count": 11,
   "metadata": {},
   "outputs": [],
   "source": [
    "## Create and train the Agent\n",
    "# Variable definiton\n",
    "episodes = 20\n",
    "look_back = 5\n",
    "batch_size = 32\n",
    "action_size = len(le.classes_)\n",
    "n_features = X_train.shape[1]"
   ]
  },
  {
   "cell_type": "code",
   "execution_count": 12,
   "metadata": {},
   "outputs": [],
   "source": [
    "# Create Agent\n",
    "agent = Agent(look_back, action_size, n_features)"
   ]
  },
  {
   "cell_type": "code",
   "execution_count": 13,
   "metadata": {},
   "outputs": [],
   "source": [
    "def run(agent, dataX, dataY, episodes, look_back):\n",
    "    \"\"\"\n",
    "    Function run to train the agent\n",
    "    \"\"\"\n",
    "    \n",
    "    # Length of dataset\n",
    "    times = len(dataX)\n",
    "\n",
    "    # List of total rewards\n",
    "    total_reward_list = []\n",
    "\n",
    "    for ep in range(episodes):\n",
    "\n",
    "        # print('Episode: ' + str(ep))\n",
    "        \n",
    "        # Initial state and position\n",
    "        state = dataX[:look_back, :][np.newaxis, :, :]\n",
    "        pos = dataY[look_back - 1]\n",
    "\n",
    "        done = False\n",
    "        total_reward = 0\n",
    "\n",
    "        for t in range(1, times - look_back + 1):\n",
    "\n",
    "            # Predict action based on the current state\n",
    "            action = agent.act(state)\n",
    "\n",
    "            # Calculate reward\n",
    "            if action == pos:   # 0:-1      1:0     2:1\n",
    "                reward = +1\n",
    "\n",
    "            elif (pos == 0 or pos == 2):\n",
    "                if action == 1:\n",
    "                    reward = 0\n",
    "                else:\n",
    "                    reward = -1\n",
    "            else:\n",
    "                reward = -1\n",
    "\n",
    "            total_reward += reward\n",
    "\n",
    "            # Final state\n",
    "            if t == times - look_back:\n",
    "                done = True\n",
    "\n",
    "            # Receive next state and position\n",
    "            next_state = dataX[t:t + look_back, :][np.newaxis, :, :]\n",
    "            next_pos = dataY[t + look_back - 1]\n",
    "            \n",
    "            # Remember current experience\n",
    "            agent.remember(state, action, reward, next_state, done)\n",
    "            \n",
    "            # Make next_state the new current state; the same for pos\n",
    "            state = next_state\n",
    "            pos = next_pos\n",
    "\n",
    "            if done:\n",
    "                print('Episode: %i ---> Total Reward: %i' %(ep, total_reward))\n",
    "                total_reward_list.append(total_reward)\n",
    "\n",
    "            # Train the agent with previous experiences\n",
    "            if len(agent.memory) > batch_size:\n",
    "                agent.replay(batch_size)\n",
    "\n",
    "        if (ep + 1) % 5 == 0 and ep > 0:\n",
    "            file = 'checkpoints/' + symbol + '_robot_checkpoint' + str(ep + 1)\n",
    "            # Serialize weights to HDF5\n",
    "            agent.model.save_weights(file + \".h5\")\n",
    "            # Save epsilon\n",
    "            pickle.dump(agent.epsilon, open(file + \"_epsilon.pickle\", \"wb\"))\n",
    "\n",
    "    # Save list of rewards along the epochs\n",
    "    np.savetxt(file + '_total_reward.txt', total_reward_list)\n",
    "\n",
    "    return\n"
   ]
  },
  {
   "cell_type": "code",
   "execution_count": null,
   "metadata": {},
   "outputs": [
    {
     "name": "stdout",
     "output_type": "stream",
     "text": [
      "Episode: 0 ---> Total Reward: 114\n"
     ]
    }
   ],
   "source": [
    "# Train Agent\n",
    "run(agent, X_train, y_train, episodes, look_back)"
   ]
  },
  {
   "cell_type": "code",
   "execution_count": null,
   "metadata": {},
   "outputs": [],
   "source": [
    "# Load rewards\n",
    "total_reward_list = np.loadtxt( 'checkpoints/'+ symbol + '_robot_checkpoint' + str(episodes) + '_total_reward.txt')\n",
    "# Plot\n",
    "plt.figure()\n",
    "plt.plot(np.arange(1, episodes+1), total_reward_list)\n",
    "plt.xlabel('Episodes')\n",
    "plt.ylabel('Total Reward')\n",
    "plt.show()"
   ]
  },
  {
   "cell_type": "code",
   "execution_count": null,
   "metadata": {},
   "outputs": [],
   "source": [
    "total_reward_list"
   ]
  },
  {
   "cell_type": "code",
   "execution_count": null,
   "metadata": {},
   "outputs": [],
   "source": [
    "def evaluate(agent, dataX, dataY, look_back):\n",
    "    \"\"\"\n",
    "    Function run to evaluate the trained agent\n",
    "    \"\"\"\n",
    "    \n",
    "    # Length of dataset\n",
    "    times = len(dataX)\n",
    "\n",
    "    # Initial state and position\n",
    "    state = dataX[:look_back, :][np.newaxis, :, :]\n",
    "    pos = dataY[look_back - 1]\n",
    "\n",
    "    # List of predicted positions\n",
    "    pos_list = []\n",
    "    \n",
    "    done = False\n",
    "    total_reward = 0\n",
    "    \n",
    "    for t in range(1, times - look_back + 1):\n",
    "\n",
    "        # Predict action based on the current state\n",
    "        action = agent.act(state)\n",
    "\n",
    "        # Calculate reward\n",
    "        if action == pos:   # 0:-1      1:0     2:1\n",
    "            reward = +1\n",
    "\n",
    "        elif (pos == 0 or pos == 2):\n",
    "            if action == 1:\n",
    "                reward = 0\n",
    "            else:\n",
    "                reward = -1\n",
    "        else:\n",
    "            reward = -1\n",
    "\n",
    "        pos_list.append(action)\n",
    "        total_reward += reward\n",
    "\n",
    "        # Final state\n",
    "        if t == times - look_back:\n",
    "            done = True\n",
    "\n",
    "        # Receive next state and position\n",
    "        next_state = dataX[t:t + look_back, :][np.newaxis, :, :]\n",
    "        next_pos = dataY[t + look_back - 1]\n",
    "\n",
    "        # Remember current experience\n",
    "        agent.remember(state, action, reward, next_state, done)\n",
    "\n",
    "        # Make next_state the new current state; the same for pos\n",
    "        state = next_state\n",
    "        pos = next_pos\n",
    "\n",
    "        if done:\n",
    "            print('Total Reward: %i' % total_reward)\n",
    "\n",
    "    return np.array(pos_list)"
   ]
  },
  {
   "cell_type": "code",
   "execution_count": null,
   "metadata": {},
   "outputs": [],
   "source": [
    "# Evaluate the model\n",
    "# Make predictions\n",
    "y_pred_test = evaluate(agent, X_test, y_test, look_back)\n",
    "\n",
    "# Calculate and print accuracy\n",
    "acc = accuracy_score(y_test[look_back-1:-1], y_pred_test)\n",
    "\n",
    "print('Accuracy: %.2f %%' % (acc*100))"
   ]
  },
  {
   "cell_type": "code",
   "execution_count": null,
   "metadata": {},
   "outputs": [],
   "source": [
    "# Calculate and print precision, recall, f1 score and support\n",
    "p, r, f1, s = precision_recall_fscore_support(y_test[look_back-1:-1], y_pred_test, average=None)\n",
    "results = pd.DataFrame({'1-Precision': p, '2-Recall': r, '3-F1 score': f1, '4-Support': s}, index=le.classes_)\n",
    "\n",
    "print(results.round(decimals=3))"
   ]
  },
  {
   "cell_type": "code",
   "execution_count": null,
   "metadata": {},
   "outputs": [],
   "source": [
    "# Decodificate labels\n",
    "y_true_test = le.inverse_transform(y_test[look_back-1:-1])\n",
    "y_pred_test = le.inverse_transform(y_pred_test)"
   ]
  },
  {
   "cell_type": "code",
   "execution_count": null,
   "metadata": {},
   "outputs": [],
   "source": [
    "# Plot strategy\n",
    "plt.figure()\n",
    "plt.plot(y_true_test, label='true')\n",
    "plt.plot(y_pred_test, label='pred')\n",
    "plt.legend()\n",
    "plt.show()"
   ]
  },
  {
   "cell_type": "code",
   "execution_count": null,
   "metadata": {},
   "outputs": [],
   "source": []
  }
 ],
 "metadata": {
  "kernelspec": {
   "display_name": "Python 3",
   "language": "python",
   "name": "python3"
  },
  "language_info": {
   "codemirror_mode": {
    "name": "ipython",
    "version": 3
   },
   "file_extension": ".py",
   "mimetype": "text/x-python",
   "name": "python",
   "nbconvert_exporter": "python",
   "pygments_lexer": "ipython3",
   "version": "3.7.6"
  }
 },
 "nbformat": 4,
 "nbformat_minor": 2
}
