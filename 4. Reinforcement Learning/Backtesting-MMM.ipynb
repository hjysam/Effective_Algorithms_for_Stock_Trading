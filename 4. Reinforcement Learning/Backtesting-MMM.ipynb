{
 "cells": [
  {
   "cell_type": "code",
   "execution_count": 1,
   "metadata": {
    "scrolled": true
   },
   "outputs": [
    {
     "name": "stderr",
     "output_type": "stream",
     "text": [
      "C:\\Users\\Elid-PC.DESKTOP-MG9DS93\\anaconda3\\lib\\site-packages\\pandas_datareader\\compat\\__init__.py:7: FutureWarning: pandas.util.testing is deprecated. Use the functions in the public API at pandas.testing instead.\n",
      "  from pandas.util.testing import assert_frame_equal\n"
     ]
    },
    {
     "data": {
      "application/javascript": [
       "\n",
       "console.log('Starting front end url_querystring_target comm target');\n",
       "const comm = Jupyter.notebook.kernel.comm_manager.new_comm('url_querystring_target', {'init': 1});\n",
       "comm.send({'ipyparams_browser_url': window.location.href});\n",
       "console.log('Sent window.location.href on url_querystring_target comm target');\n",
       "\n",
       "comm.on_msg(function(msg) {\n",
       "    console.log(msg.content.data);\n",
       "});\n"
      ],
      "text/plain": [
       "<IPython.core.display.Javascript object>"
      ]
     },
     "metadata": {},
     "output_type": "display_data"
    },
    {
     "name": "stderr",
     "output_type": "stream",
     "text": [
      "Using TensorFlow backend.\n"
     ]
    }
   ],
   "source": [
    "# Import libraries\n",
    "import pandas as pd\n",
    "from pandas_datareader import data as pdr\n",
    "\n",
    "import numpy as np\n",
    "import matplotlib.pyplot as plt\n",
    "import pickle\n",
    "\n",
    "from sklearn import preprocessing\n",
    "from sklearn.metrics import accuracy_score\n",
    "from sklearn.metrics import precision_recall_fscore_support\n",
    "\n",
    "import talib, re, ipyparams\n",
    "\n",
    "from Agent import Agent"
   ]
  },
  {
   "cell_type": "code",
   "execution_count": 2,
   "metadata": {},
   "outputs": [
    {
     "data": {
      "text/plain": [
       "755"
      ]
     },
     "execution_count": 2,
     "metadata": {},
     "output_type": "execute_result"
    }
   ],
   "source": [
    "end_date = '2020-04-19'\n",
    "start_date = '2017-04-20'\n",
    "\n",
    "symbol = 'MMM'\n",
    "Date = pd.DataFrame(pdr.DataReader(symbol,'yahoo', start_date, end_date))\n",
    "\n",
    "alldata = pd.DataFrame({'Date': Date.index})\n",
    "alldata[symbol] = pdr.DataReader(symbol, 'yahoo', start_date, end_date)['Adj Close'].values\n",
    "# Stock symbol\n",
    "\n",
    "# Load close prices of to NumPy array\n",
    "close = alldata[symbol].values\n",
    "len(close)"
   ]
  },
  {
   "cell_type": "code",
   "execution_count": 3,
   "metadata": {},
   "outputs": [
    {
     "data": {
      "text/plain": [
       "array([174.35116577, 175.57275391, 175.88504028, 178.39242554,\n",
       "       179.21902466, 179.09963989, 180.11909485, 179.86193848,\n",
       "       178.92510986, 180.50488281, 181.51516724, 183.24188232,\n",
       "       183.14085388, 182.45202637, 181.81825256, 180.605896  ,\n",
       "       180.7069397 , 180.54161072, 181.51516724, 181.77233887,\n",
       "       180.02145386, 180.39102173, 180.90844727, 183.41233826,\n",
       "       182.69168091, 182.46992493, 184.36399841, 185.40808105,\n",
       "       187.04347229, 188.91908264, 188.80818176, 190.97946167,\n",
       "       190.53594971, 189.7875824 , 189.41798401, 190.27728271,\n",
       "       191.19195557, 191.61700439, 193.2061615 , 194.03771973,\n",
       "       195.22035217, 197.02204895, 197.13290405, 197.13290405,\n",
       "       196.67094421, 196.07962036, 196.70791626, 196.43997192,\n",
       "       193.82519531, 194.60134888, 192.04200745, 192.35614014,\n",
       "       193.87142944, 193.80671692, 192.19906616, 193.6496582 ,\n",
       "       194.48121643, 193.71435547, 195.229599  , 195.03556824,\n",
       "       195.66387939, 195.58070374, 195.23886108, 195.96878052,\n",
       "       196.29211426, 195.10023499, 194.02850342, 184.22541809,\n",
       "       183.89280701, 184.83525085, 184.53033447, 185.87004089,\n",
       "       187.72715759, 189.7875824 , 191.82949829, 191.85719299,\n",
       "       191.66317749, 190.72998047, 190.77618408, 190.54518127,\n",
       "       190.31422424, 191.59848022, 191.42295837, 192.10665894,\n",
       "       189.73213196, 188.05052185, 188.99299622, 189.83380127,\n",
       "       188.33302307, 187.82189941, 187.83122253, 188.13786316,\n",
       "       188.56532288, 189.28085327, 189.86630249, 189.1600647 ,\n",
       "       186.76257324, 187.75688171, 189.99639893, 191.13935852,\n",
       "       194.73561096, 194.80993652, 194.67056274, 196.47329712,\n",
       "       198.25750732, 198.63848877, 198.45263672, 195.6184082 ,\n",
       "       195.55335999, 195.85072327, 195.82284546, 196.10159302,\n",
       "       194.66127014, 194.72633362, 195.05154419, 197.70922852,\n",
       "       199.39122009, 201.20326233, 201.06385803, 201.20326233,\n",
       "       201.35192871, 201.41697693, 201.19396973, 202.1975708 ,\n",
       "       202.31837463, 203.24763489, 202.34622192, 202.82945251,\n",
       "       203.73085022, 205.66369629, 205.87741089, 218.05073547,\n",
       "       220.86637878, 216.46168518, 218.13438416, 214.67755127,\n",
       "       213.90621948, 213.8969574 , 215.80189514, 215.79263306,\n",
       "       214.01774597, 213.77613831, 213.57171631, 212.23353577,\n",
       "       211.36006165, 212.07559204, 213.10707092, 211.31359863,\n",
       "       213.19068909, 213.13494873, 215.11427307, 217.53034973,\n",
       "       216.28353882, 216.09674072, 218.54367065, 220.065979  ,\n",
       "       222.28878784, 227.0799408 , 225.22140503, 223.45622253,\n",
       "       222.52229309, 222.9052124 , 224.42755127, 222.40089417,\n",
       "       223.49360657, 220.95326233, 223.31613159, 222.35417175,\n",
       "       222.27946472, 222.67173767, 222.64367676, 221.27078247,\n",
       "       219.2721405 , 219.22544861, 219.89788818, 220.5983429 ,\n",
       "       220.15007019, 219.82316589, 220.0753479 , 220.065979  ,\n",
       "       222.94256592, 224.67971802, 223.95123291, 225.34281921,\n",
       "       225.21205139, 226.30477905, 228.32211304, 228.57424927,\n",
       "       231.72166443, 229.66699219, 231.78703308, 230.96517944,\n",
       "       230.04057312, 231.32940674, 235.69094849, 241.54679871,\n",
       "       239.09986877, 234.92510986, 233.95379639, 231.56289673,\n",
       "       228.9758606 , 216.15278625, 218.19810486, 217.78715515,\n",
       "       208.16752625, 210.33428955, 214.0513916 , 216.07807922,\n",
       "       216.67578125, 220.64967346, 222.34068298, 220.83757019,\n",
       "       218.12252808, 221.71125793, 222.66949463, 229.3584137 ,\n",
       "       226.20184326, 221.25090027, 217.33338928, 216.42211914,\n",
       "       218.71437073, 219.51292419, 221.30731201, 222.03068542,\n",
       "       226.73735046, 225.28118896, 223.186203  , 220.10476685,\n",
       "       221.58912659, 222.85740662, 217.54006958, 218.37617493,\n",
       "       219.96386719, 209.65805054, 202.32092285, 206.90545654,\n",
       "       202.80001831, 203.42945862, 206.22901917, 199.74681091,\n",
       "       203.23217773, 204.38771057, 205.43049622, 199.39920044,\n",
       "       199.92530823, 203.84281921, 201.35328674, 203.31674194,\n",
       "       202.47122192, 204.51922607, 206.76452637, 206.22901917,\n",
       "       205.59959412, 204.56620789, 202.80943298, 188.95249939,\n",
       "       186.80111694, 185.15707397, 184.24581909, 182.62055969,\n",
       "       183.2124176 , 182.72390747, 183.8324585 , 187.28962708,\n",
       "       188.13513184, 189.52552795, 191.10380554, 192.61636353,\n",
       "       192.73847961, 193.30213928, 190.154953  , 188.0881958 ,\n",
       "       189.51646423, 188.19221497, 190.84066772, 188.20167542,\n",
       "       187.91792297, 188.61784363, 188.25845337, 185.14651489,\n",
       "       187.92736816, 186.55583191, 188.78813171, 190.17857361,\n",
       "       190.31100464, 192.82701111, 193.97154236, 195.40927124,\n",
       "       194.01882935, 193.82965088, 193.80126953, 192.60949707,\n",
       "       193.87696838, 193.12025452, 188.59895325, 187.35984802,\n",
       "       184.93840027, 185.86535645, 185.20324707, 185.94102478,\n",
       "       184.37086487, 185.36404419, 186.07344055, 184.93840027,\n",
       "       185.23161316, 186.65988159, 186.77339172, 189.67724609,\n",
       "       190.57585144, 186.98150635, 188.5327301 , 190.29208374,\n",
       "       190.22584534, 191.13391113, 191.25686646, 190.68936157,\n",
       "       191.020401  , 188.07870483, 189.81912231, 193.31887817,\n",
       "       196.70515442, 196.1943512 , 194.01882935, 200.82919312,\n",
       "       195.84439087, 194.40666199, 196.07139587, 195.51332092,\n",
       "       197.28213501, 195.92951965, 193.69723511, 191.02986145,\n",
       "       189.02459717, 189.6678009 , 190.4907074 , 192.15544128,\n",
       "       193.68777466, 193.52697754, 194.55799866, 193.20539856,\n",
       "       193.06256104, 195.48117065, 198.37593079, 199.42337036,\n",
       "       200.4041748 , 200.17562866, 200.8421936 , 198.63305664,\n",
       "       201.70869446, 202.57524109, 202.41334534, 202.75614929,\n",
       "       201.66108704, 196.83334351, 199.06152344, 197.94744873,\n",
       "       199.51860046, 201.42304993, 202.93707275, 204.98432922,\n",
       "       205.99371338, 203.30841064, 200.57557678, 200.98503113,\n",
       "       200.07087708, 200.64222717, 202.05149841, 205.40332031,\n",
       "       205.45092773, 203.62268066, 203.0037384 , 204.12734985,\n",
       "       200.36608887, 192.49121094, 187.33018494, 188.7585144 ,\n",
       "       189.43458557, 192.66264343, 193.23391724, 190.80581665,\n",
       "       190.30110168, 191.7389679 , 183.34991455, 175.72264099,\n",
       "       176.15113831, 176.11303711, 176.91290283, 180.74081421,\n",
       "       181.16932678, 183.03569031, 183.59750366, 184.01646423,\n",
       "       185.96852112, 191.67230225, 194.31945801, 191.49139404,\n",
       "       187.62538147, 188.89181519, 188.59661865, 195.11935425,\n",
       "       199.01393127, 195.75732422, 190.92958069, 190.48857117,\n",
       "       188.67657471, 191.61027527, 192.40600586, 195.90536499,\n",
       "       196.11625671, 199.33757019, 200.1428833 , 193.85368347,\n",
       "       194.31387329, 190.05714417, 190.13383484, 189.30934143,\n",
       "       191.56234741, 193.78657532, 188.00549316, 184.86087036,\n",
       "       186.52906799, 182.118927  , 179.64541626, 176.16525269,\n",
       "       171.24699402, 178.57162476, 182.82836914, 181.55326843,\n",
       "       182.67497253, 183.0680542 , 176.17483521, 183.42280579,\n",
       "       183.00094604, 183.76789856, 184.36233521, 185.6086731 ,\n",
       "       184.27606201, 184.23770142, 181.14102173, 181.65872192,\n",
       "       183.79669189, 187.77537537, 184.32398987, 184.35273743,\n",
       "       184.57325745, 187.8137207 , 185.22515869, 188.82040405,\n",
       "       191.04464722, 192.03210449, 190.93916321, 191.9458313 ,\n",
       "       192.81826782, 194.2084198 , 191.59107971, 191.57191467,\n",
       "       192.6169281 , 198.04330444, 201.06326294, 197.8293457 ,\n",
       "       201.6231842 , 201.18876648, 201.30461121, 200.57095337,\n",
       "       202.09620667, 203.28356934, 202.12516785, 201.78727722,\n",
       "       200.20411682, 200.30065918, 199.69247437, 196.77711487,\n",
       "       195.77314758, 192.93501282, 193.92933655, 199.92414856,\n",
       "       198.66920471, 199.49940491, 200.19447327, 200.87020874,\n",
       "       201.26600647, 201.77763367, 201.08256531, 202.34719849,\n",
       "       197.56871033, 196.16894531, 200.05931091, 199.98210144,\n",
       "       201.30461121, 200.58058167, 204.59648132, 204.77987671,\n",
       "       205.74523926, 207.57939148, 207.94622803, 207.56974792,\n",
       "       204.61578369, 204.76055908, 206.13136292, 209.88658142,\n",
       "       208.35168457, 209.38459778, 210.09896851, 211.29600525,\n",
       "       210.96777344, 211.89450073, 211.48905945, 184.11170959,\n",
       "       185.02879333, 183.61938477, 182.94364929, 179.62284851,\n",
       "       178.34855652, 178.80229187, 176.69781494, 172.91365051,\n",
       "       172.40200806, 169.20669556, 169.7665863 , 168.03865051,\n",
       "       169.13911438, 168.08686829, 165.85693359, 163.23117065,\n",
       "       160.48957825, 161.50318909, 163.85865784, 161.49278259,\n",
       "       161.70697021, 159.03930664, 157.14073181, 156.34239197,\n",
       "       155.5342865 , 155.81661987, 159.95446777, 159.52609253,\n",
       "       160.37313843, 162.21325684, 163.84890747, 164.45256042,\n",
       "       164.5499115 , 164.39414978, 162.29115295, 162.37876892,\n",
       "       167.32470703, 166.2440033 , 169.349823  , 168.77540588,\n",
       "       168.80459595, 167.49021912, 167.3441925 , 166.97421265,\n",
       "       168.76564026, 169.9047699 , 169.42770386, 170.36236572,\n",
       "       167.46101379, 164.72517395, 161.32727051, 161.32727051,\n",
       "       164.57911682, 168.76564026, 168.27883911, 171.83251953,\n",
       "       170.06054688, 168.49304199, 168.05490112, 170.03134155,\n",
       "       172.83535767, 174.68521118, 173.42926025, 169.38877869,\n",
       "       172.09539795, 172.94244385, 170.10923767, 168.78512573,\n",
       "       166.04928589, 160.36340332, 159.38980103, 159.32162476,\n",
       "       159.88632202, 159.15611267, 157.82228088, 160.52891541,\n",
       "       154.61909485, 154.0983429 , 158.67689514, 160.10154724,\n",
       "       158.19544983, 158.33300781, 158.06773376, 153.12567139,\n",
       "       153.39093018, 153.02740479, 154.79594421, 157.55682373,\n",
       "       158.89305115, 155.86689758, 157.27189636, 161.35916138,\n",
       "       161.07424927, 163.03927612, 165.90823364, 165.14187622,\n",
       "       167.59817505, 168.44314575, 166.7040863 , 165.13206482,\n",
       "       164.51306152, 164.14953613, 163.84494019, 163.84494019,\n",
       "       161.86026001, 161.13319397, 160.96615601, 161.65393066,\n",
       "       161.52619934, 155.6114502 , 152.92913818, 152.51649475,\n",
       "       153.09619141, 150.83639526, 148.10499573, 148.35061646,\n",
       "       149.64753723, 155.33633423, 157.70419312, 160.13101196,\n",
       "       159.34500122, 160.68122864, 160.24893188, 163.03927612,\n",
       "       164.61129761, 165.8099823 , 159.06007385, 163.18666077,\n",
       "       166.10473633, 165.85910034, 165.42680359, 162.105896  ,\n",
       "       167.11672974, 171.84265137, 172.20619202, 170.95838928,\n",
       "       171.46929932, 170.12324524, 167.13639832, 167.85362244,\n",
       "       167.56869507, 167.94203186, 168.87545776, 167.55886841,\n",
       "       167.69641113, 164.83729553, 163.65797424, 166.09590149,\n",
       "       168.71220398, 167.71125793, 169.07888794, 168.24642944,\n",
       "       166.7598877 , 163.68769836, 165.64002991, 162.8948822 ,\n",
       "       169.9311676 , 168.30587769, 166.15536499, 167.22566223,\n",
       "       167.04727173, 167.27520752, 169.21762085, 168.40498352,\n",
       "       167.51306152, 170.60505676, 173.79615784, 176.86834717,\n",
       "       175.09440613, 175.00521851, 175.66920471, 174.25204468,\n",
       "       174.83674622, 178.38461304, 176.848526  , 177.01699829,\n",
       "       176.30345154, 179.00895691, 179.57383728, 178.85040283,\n",
       "       179.2963562 , 179.74230957, 178.1665802 , 179.38554382,\n",
       "       179.72250366, 177.78009033, 176.43229675, 176.14489746,\n",
       "       176.5512085 , 174.05383301, 164.09402466, 160.54615784,\n",
       "       161.05157471, 157.23612976, 155.18469238, 155.82887268,\n",
       "       160.8731842 , 161.42816162, 158.64338684, 158.7127533 ,\n",
       "       160.99211121, 162.33000183, 159.75999451, 161.00999451,\n",
       "       158.88000488, 159.33999634, 158.55999756, 156.92999268,\n",
       "       152.55000305, 146.8500061 , 148.96000671, 150.16000366,\n",
       "       149.24000549, 153.02000427, 145.24000549, 153.97999573,\n",
       "       151.41000366, 153.6499939 , 144.05999756, 153.30000305,\n",
       "       147.24000549, 133.58000183, 141.67999268, 130.91000366,\n",
       "       134.44000244, 137.02000427, 137.50999451, 124.88999939,\n",
       "       117.87000275, 132.72000122, 131.53999329, 136.17999268,\n",
       "       133.24000549, 137.74000549, 136.50999451, 133.13999939,\n",
       "       137.91000366, 133.78999329, 140.69999695, 144.6000061 ,\n",
       "       148.99000549, 147.77999878, 146.3999939 , 150.13999939,\n",
       "       145.16000366, 144.8999939 , 146.46000671])"
      ]
     },
     "execution_count": 3,
     "metadata": {},
     "output_type": "execute_result"
    }
   ],
   "source": [
    "close"
   ]
  },
  {
   "cell_type": "code",
   "execution_count": 4,
   "metadata": {},
   "outputs": [
    {
     "data": {
      "text/html": [
       "<div>\n",
       "<style scoped>\n",
       "    .dataframe tbody tr th:only-of-type {\n",
       "        vertical-align: middle;\n",
       "    }\n",
       "\n",
       "    .dataframe tbody tr th {\n",
       "        vertical-align: top;\n",
       "    }\n",
       "\n",
       "    .dataframe thead th {\n",
       "        text-align: right;\n",
       "    }\n",
       "</style>\n",
       "<table border=\"1\" class=\"dataframe\">\n",
       "  <thead>\n",
       "    <tr style=\"text-align: right;\">\n",
       "      <th></th>\n",
       "      <th>macd</th>\n",
       "      <th>macdsignal</th>\n",
       "      <th>macdhist</th>\n",
       "    </tr>\n",
       "  </thead>\n",
       "  <tbody>\n",
       "    <tr>\n",
       "      <th>0</th>\n",
       "      <td>2.172633</td>\n",
       "      <td>1.194371</td>\n",
       "      <td>0.978262</td>\n",
       "    </tr>\n",
       "    <tr>\n",
       "      <th>1</th>\n",
       "      <td>2.756834</td>\n",
       "      <td>1.506864</td>\n",
       "      <td>1.249970</td>\n",
       "    </tr>\n",
       "    <tr>\n",
       "      <th>2</th>\n",
       "      <td>3.468264</td>\n",
       "      <td>1.899144</td>\n",
       "      <td>1.569120</td>\n",
       "    </tr>\n",
       "    <tr>\n",
       "      <th>3</th>\n",
       "      <td>3.760872</td>\n",
       "      <td>2.271490</td>\n",
       "      <td>1.489383</td>\n",
       "    </tr>\n",
       "    <tr>\n",
       "      <th>4</th>\n",
       "      <td>4.334945</td>\n",
       "      <td>2.684181</td>\n",
       "      <td>1.650764</td>\n",
       "    </tr>\n",
       "  </tbody>\n",
       "</table>\n",
       "</div>"
      ],
      "text/plain": [
       "       macd  macdsignal  macdhist\n",
       "0  2.172633    1.194371  0.978262\n",
       "1  2.756834    1.506864  1.249970\n",
       "2  3.468264    1.899144  1.569120\n",
       "3  3.760872    2.271490  1.489383\n",
       "4  4.334945    2.684181  1.650764"
      ]
     },
     "execution_count": 4,
     "metadata": {},
     "output_type": "execute_result"
    }
   ],
   "source": [
    "macd, macdsignal, macdhist = talib.MACD(close, fastperiod=5, slowperiod=20, signalperiod=9)\n",
    "macdhist = macdhist[~np.isnan(macdhist)]\n",
    "macd = macd[-len(macdhist):]\n",
    "macdsignal = macdsignal[-len(macdhist):]\n",
    "\n",
    "\n",
    "pd.DataFrame({'macd': macd, 'macdsignal': macdsignal, 'macdhist': macdhist}).head()"
   ]
  },
  {
   "cell_type": "code",
   "execution_count": 5,
   "metadata": {},
   "outputs": [],
   "source": [
    "def prepare_dataset(close):\n",
    "    \"\"\"\n",
    "    Function prepare_dataset to generate input data and trading strategy from stock close prices\n",
    "    \"\"\"\n",
    "\n",
    "    macd, macdsignal, macdhist = talib.MACD(close, fastperiod=12, slowperiod=26, signalperiod=9)\n",
    "\n",
    "    # Cancel NaN values\n",
    "    macdhist = macdhist[~np.isnan(macdhist)]\n",
    "    macd = macd[-len(macdhist):]\n",
    "    macdsignal = macdsignal[-len(macdhist):]\n",
    "\n",
    "    # Scaling features to a range [0, 1]\n",
    "    min_max_scaler = preprocessing.MinMaxScaler(feature_range=(-1, 1))\n",
    "    macdhist_norm = min_max_scaler.fit_transform(np.expand_dims(macdhist, axis=1))\n",
    "\n",
    "    # Implement strategy\n",
    "    start_sell = 0.2\n",
    "    stop_sell = 0.05\n",
    "    start_buy = -0.2\n",
    "    stop_buy = -0.05\n",
    "\n",
    "    y = np.full(len(macdhist), np.nan)\n",
    "    y[0] = 0\n",
    "\n",
    "    for i in range(1, len(macdhist)):\n",
    "\n",
    "        if y[i-1] == 0:\n",
    "            if (macdhist_norm[i] >= start_sell):\n",
    "                # Enter sell position\n",
    "                y[i] = -1\n",
    "            elif (macdhist_norm[i] <= start_buy):\n",
    "                # Enter buy position\n",
    "                y[i] = 1\n",
    "            else:\n",
    "                y[i] = 0\n",
    "        elif y[i-1] == -1:\n",
    "            if macdhist_norm[i] > stop_sell:\n",
    "                # Stay in sell position\n",
    "                y[i] = -1\n",
    "            else:\n",
    "                # Leave sell position\n",
    "                y[i] = 0\n",
    "        else:\n",
    "            if macdhist_norm[i] < stop_buy:\n",
    "                # Stay in buy position\n",
    "                y[i] = 1\n",
    "            else:\n",
    "                # Leave buy position\n",
    "                y[i] = 0\n",
    "\n",
    "    # Plot strategy\n",
    "    dates = np.arange(len(macdhist))\n",
    "    plt.plot(dates, y,'g', label='Strategy Positions')\n",
    "    plt.bar(dates, macdhist_norm[:, 0], width=1, color='blue', label='MACD histogram')\n",
    "    plt.plot(dates, start_sell * np.ones(len(macdhist)), 'k--', lw=1)\n",
    "    plt.plot(dates, stop_sell * np.ones(len(macdhist)), 'k--', lw=1)\n",
    "    plt.plot(dates, start_buy * np.ones(len(macdhist)), 'k--', lw=1)\n",
    "    plt.plot(dates, stop_buy * np.ones(len(macdhist)), 'k--', lw=1)\n",
    "    plt.xlabel('Days')\n",
    "    plt.xlim((0, len(y)))\n",
    "    plt.legend()\n",
    "    # plt.savefig('images/AAL_macd.png', bbox_inches='tight')\n",
    "    plt.show()\n",
    "    \n",
    "    # Generate input data - technical indicators\n",
    "    ind1 = talib.MIDPOINT(close)    # Overlap: MidPoint over period\n",
    "    ind2 = talib.HT_DCPERIOD(close) # Cycle Indicator Functions:  Hilbert Transform - Dominant Cycle Period\n",
    "    ind3 = talib.MAX(close)         # Math Operator: Highest value over a specified period\n",
    "    ind4 = talib.SIN(close)         # Math Transform: Vector Trigonometric Sin\n",
    "    ind5 = talib.APO(close)         # Momentum: Absolute Price Oscillator\n",
    "    ind6 = talib.TEMA(close, timeperiod=5) ## Triple Exponential Moving Average\n",
    "\n",
    "    x = np.vstack((macdhist, macd, macdsignal, ind1[-len(macdhist):], ind2[-len(macdhist):],\n",
    "                   ind3[-len(macdhist):], ind4[-len(macdhist):], ind5[-len(macdhist):],\n",
    "                   ind6[-len(macdhist):]))\n",
    "    x = x.T\n",
    "\n",
    "    return x, y"
   ]
  },
  {
   "cell_type": "code",
   "execution_count": 6,
   "metadata": {},
   "outputs": [
    {
     "data": {
      "image/png": "[encoded data removed]",
      "text/plain": [
       "<Figure size 432x288 with 1 Axes>"
      ]
     },
     "metadata": {
      "needs_background": "light"
     },
     "output_type": "display_data"
    }
   ],
   "source": [
    "# Implement MACD trading strategy\n",
    "X, y = prepare_dataset(close)"
   ]
  },
  {
   "cell_type": "code",
   "execution_count": 7,
   "metadata": {},
   "outputs": [
    {
     "data": {
      "text/plain": [
       "array([  0.85580148,   2.82962036,   1.97381888, 185.50045776,\n",
       "        17.21176483, 190.97946167,   0.96139376,   2.72039609,\n",
       "       190.50984897])"
      ]
     },
     "execution_count": 7,
     "metadata": {},
     "output_type": "execute_result"
    }
   ],
   "source": [
    "X[0]"
   ]
  },
  {
   "cell_type": "code",
   "execution_count": 8,
   "metadata": {},
   "outputs": [],
   "source": [
    "# Split dataset\n",
    "n_train = int(X.shape[0] * 0.8)\n",
    "\n",
    "X_train, y_train = X[:n_train], y[:n_train]\n",
    "X_test, y_test = X[n_train:], y[n_train:]"
   ]
  },
  {
   "cell_type": "code",
   "execution_count": 9,
   "metadata": {},
   "outputs": [],
   "source": [
    "# Normalize data\n",
    "scaler = preprocessing.MinMaxScaler()\n",
    "\n",
    "X_train = scaler.fit_transform(X_train)\n",
    "X_test = scaler.transform(X_test)"
   ]
  },
  {
   "cell_type": "code",
   "execution_count": 10,
   "metadata": {},
   "outputs": [
    {
     "name": "stdout",
     "output_type": "stream",
     "text": [
      "[-1.  0.  1.]\n"
     ]
    }
   ],
   "source": [
    "# Encode trading signal with integers between 0 and n-1 classes\n",
    "le = preprocessing.LabelEncoder()\n",
    "\n",
    "y_train = le.fit_transform(y_train)\n",
    "y_test = le.transform(y_test)\n",
    "\n",
    "print(le.classes_)"
   ]
  },
  {
   "cell_type": "code",
   "execution_count": 11,
   "metadata": {},
   "outputs": [],
   "source": [
    "## Create and train the Agent\n",
    "# Variable definiton\n",
    "episodes = 20\n",
    "look_back = 5\n",
    "batch_size = 32\n",
    "action_size = len(le.classes_)\n",
    "n_features = X_train.shape[1]"
   ]
  },
  {
   "cell_type": "code",
   "execution_count": 12,
   "metadata": {},
   "outputs": [],
   "source": [
    "# Create Agent\n",
    "agent = Agent(look_back, action_size, n_features)"
   ]
  },
  {
   "cell_type": "code",
   "execution_count": 13,
   "metadata": {},
   "outputs": [],
   "source": [
    "def run(agent, dataX, dataY, episodes, look_back):\n",
    "    \"\"\"\n",
    "    Function run to train the agent\n",
    "    \"\"\"\n",
    "    \n",
    "    # Length of dataset\n",
    "    times = len(dataX)\n",
    "\n",
    "    # List of total rewards\n",
    "    total_reward_list = []\n",
    "\n",
    "    for ep in range(episodes):\n",
    "\n",
    "        # print('Episode: ' + str(ep))\n",
    "        \n",
    "        # Initial state and position\n",
    "        state = dataX[:look_back, :][np.newaxis, :, :]\n",
    "        pos = dataY[look_back - 1]\n",
    "\n",
    "        done = False\n",
    "        total_reward = 0\n",
    "\n",
    "        for t in range(1, times - look_back + 1):\n",
    "\n",
    "            # Predict action based on the current state\n",
    "            action = agent.act(state)\n",
    "\n",
    "            # Calculate reward\n",
    "            if action == pos:   # 0:-1      1:0     2:1\n",
    "                reward = +1\n",
    "\n",
    "            elif (pos == 0 or pos == 2):\n",
    "                if action == 1:\n",
    "                    reward = 0\n",
    "                else:\n",
    "                    reward = -1\n",
    "            else:\n",
    "                reward = -1\n",
    "\n",
    "            total_reward += reward\n",
    "\n",
    "            # Final state\n",
    "            if t == times - look_back:\n",
    "                done = True\n",
    "\n",
    "            # Receive next state and position\n",
    "            next_state = dataX[t:t + look_back, :][np.newaxis, :, :]\n",
    "            next_pos = dataY[t + look_back - 1]\n",
    "            \n",
    "            # Remember current experience\n",
    "            agent.remember(state, action, reward, next_state, done)\n",
    "            \n",
    "            # Make next_state the new current state; the same for pos\n",
    "            state = next_state\n",
    "            pos = next_pos\n",
    "\n",
    "            if done:\n",
    "                print('Episode: %i ---> Total Reward: %i' %(ep, total_reward))\n",
    "                total_reward_list.append(total_reward)\n",
    "\n",
    "            # Train the agent with previous experiences\n",
    "            if len(agent.memory) > batch_size:\n",
    "                agent.replay(batch_size)\n",
    "\n",
    "        if (ep + 1) % 5 == 0 and ep > 0:\n",
    "            file = 'checkpoints/' + symbol + '_robot_checkpoint' + str(ep + 1)\n",
    "            # Serialize weights to HDF5\n",
    "            agent.model.save_weights(file + \".h5\")\n",
    "            # Save epsilon\n",
    "            pickle.dump(agent.epsilon, open(file + \"_epsilon.pickle\", \"wb\"))\n",
    "\n",
    "    # Save list of rewards along the epochs\n",
    "    np.savetxt(file + '_total_reward.txt', total_reward_list)\n",
    "\n",
    "    return\n"
   ]
  },
  {
   "cell_type": "code",
   "execution_count": 14,
   "metadata": {},
   "outputs": [
    {
     "name": "stdout",
     "output_type": "stream",
     "text": [
      "Episode: 0 ---> Total Reward: 95\n",
      "Episode: 1 ---> Total Reward: 304\n",
      "Episode: 2 ---> Total Reward: 311\n",
      "Episode: 3 ---> Total Reward: 338\n",
      "Episode: 4 ---> Total Reward: 377\n",
      "Episode: 5 ---> Total Reward: 382\n",
      "Episode: 6 ---> Total Reward: 359\n",
      "Episode: 7 ---> Total Reward: 416\n",
      "Episode: 8 ---> Total Reward: 389\n",
      "Episode: 9 ---> Total Reward: 402\n",
      "Episode: 10 ---> Total Reward: 468\n",
      "Episode: 11 ---> Total Reward: 452\n",
      "Episode: 12 ---> Total Reward: 470\n",
      "Episode: 13 ---> Total Reward: 498\n",
      "Episode: 14 ---> Total Reward: 490\n",
      "Episode: 15 ---> Total Reward: 457\n",
      "Episode: 16 ---> Total Reward: 496\n",
      "Episode: 17 ---> Total Reward: 494\n",
      "Episode: 18 ---> Total Reward: 505\n",
      "Episode: 19 ---> Total Reward: 522\n"
     ]
    }
   ],
   "source": [
    "# Train Agent\n",
    "run(agent, X_train, y_train, episodes, look_back)"
   ]
  },
  {
   "cell_type": "code",
   "execution_count": 15,
   "metadata": {},
   "outputs": [
    {
     "data": {
      "image/png": "[encoded data removed]",
      "text/plain": [
       "<Figure size 432x288 with 1 Axes>"
      ]
     },
     "metadata": {
      "needs_background": "light"
     },
     "output_type": "display_data"
    }
   ],
   "source": [
    "# Load rewards\n",
    "total_reward_list = np.loadtxt( 'checkpoints/'+ symbol + '_robot_checkpoint' + str(episodes) + '_total_reward.txt')\n",
    "# Plot\n",
    "plt.figure()\n",
    "plt.plot(np.arange(1, episodes+1), total_reward_list)\n",
    "plt.xlabel('Episodes')\n",
    "plt.ylabel('Total Reward')\n",
    "plt.show()"
   ]
  },
  {
   "cell_type": "code",
   "execution_count": 16,
   "metadata": {},
   "outputs": [
    {
     "data": {
      "text/plain": [
       "array([ 95., 304., 311., 338., 377., 382., 359., 416., 389., 402., 468.,\n",
       "       452., 470., 498., 490., 457., 496., 494., 505., 522.])"
      ]
     },
     "execution_count": 16,
     "metadata": {},
     "output_type": "execute_result"
    }
   ],
   "source": [
    "total_reward_list"
   ]
  },
  {
   "cell_type": "code",
   "execution_count": 17,
   "metadata": {},
   "outputs": [],
   "source": [
    "def evaluate(agent, dataX, dataY, look_back):\n",
    "    \"\"\"\n",
    "    Function run to evaluate the trained agent\n",
    "    \"\"\"\n",
    "    \n",
    "    # Length of dataset\n",
    "    times = len(dataX)\n",
    "\n",
    "    # Initial state and position\n",
    "    state = dataX[:look_back, :][np.newaxis, :, :]\n",
    "    pos = dataY[look_back - 1]\n",
    "\n",
    "    # List of predicted positions\n",
    "    pos_list = []\n",
    "    \n",
    "    done = False\n",
    "    total_reward = 0\n",
    "    \n",
    "    for t in range(1, times - look_back + 1):\n",
    "\n",
    "        # Predict action based on the current state\n",
    "        action = agent.act(state)\n",
    "\n",
    "        # Calculate reward\n",
    "        if action == pos:   # 0:-1      1:0     2:1\n",
    "            reward = +1\n",
    "\n",
    "        elif (pos == 0 or pos == 2):\n",
    "            if action == 1:\n",
    "                reward = 0\n",
    "            else:\n",
    "                reward = -1\n",
    "        else:\n",
    "            reward = -1\n",
    "\n",
    "        pos_list.append(action)\n",
    "        total_reward += reward\n",
    "\n",
    "        # Final state\n",
    "        if t == times - look_back:\n",
    "            done = True\n",
    "\n",
    "        # Receive next state and position\n",
    "        next_state = dataX[t:t + look_back, :][np.newaxis, :, :]\n",
    "        next_pos = dataY[t + look_back - 1]\n",
    "\n",
    "        # Remember current experience\n",
    "        agent.remember(state, action, reward, next_state, done)\n",
    "\n",
    "        # Make next_state the new current state; the same for pos\n",
    "        state = next_state\n",
    "        pos = next_pos\n",
    "\n",
    "        if done:\n",
    "            print('Total Reward: %i' % total_reward)\n",
    "\n",
    "    return np.array(pos_list)"
   ]
  },
  {
   "cell_type": "code",
   "execution_count": 18,
   "metadata": {},
   "outputs": [
    {
     "name": "stdout",
     "output_type": "stream",
     "text": [
      "Total Reward: 44\n",
      "Accuracy: 57.14 %\n"
     ]
    }
   ],
   "source": [
    "# Evaluate the model\n",
    "# Make predictions\n",
    "y_pred_test = evaluate(agent, X_test, y_test, look_back)\n",
    "\n",
    "# Calculate and print accuracy\n",
    "acc = accuracy_score(y_test[look_back-1:-1], y_pred_test)\n",
    "\n",
    "print('Accuracy: %.2f %%' % (acc*100))"
   ]
  },
  {
   "cell_type": "code",
   "execution_count": 19,
   "metadata": {},
   "outputs": [
    {
     "name": "stdout",
     "output_type": "stream",
     "text": [
      "      1-Precision  2-Recall  3-F1 score  4-Support\n",
      "-1.0        0.950     0.551       0.697         69\n",
      " 0.0        0.455     0.444       0.449         45\n",
      " 1.0        0.393     0.846       0.537         26\n"
     ]
    }
   ],
   "source": [
    "# Calculate and print precision, recall, f1 score and support\n",
    "p, r, f1, s = precision_recall_fscore_support(y_test[look_back-1:-1], y_pred_test, average=None)\n",
    "results = pd.DataFrame({'1-Precision': p, '2-Recall': r, '3-F1 score': f1, '4-Support': s}, index=le.classes_)\n",
    "\n",
    "print(results.round(decimals=3))"
   ]
  },
  {
   "cell_type": "code",
   "execution_count": 20,
   "metadata": {},
   "outputs": [],
   "source": [
    "# Decodificate labels\n",
    "y_true_test = le.inverse_transform(y_test[look_back-1:-1])\n",
    "y_pred_test = le.inverse_transform(y_pred_test)"
   ]
  },
  {
   "cell_type": "code",
   "execution_count": 21,
   "metadata": {},
   "outputs": [
    {
     "data": {
      "image/png": "[encoded data removed]",
      "text/plain": [
       "<Figure size 432x288 with 1 Axes>"
      ]
     },
     "metadata": {
      "needs_background": "light"
     },
     "output_type": "display_data"
    }
   ],
   "source": [
    "# Plot strategy\n",
    "plt.figure()\n",
    "plt.plot(y_true_test, label='true')\n",
    "plt.plot(y_pred_test, label='pred')\n",
    "plt.legend()\n",
    "plt.show()"
   ]
  }
 ],
 "metadata": {
  "kernelspec": {
   "display_name": "Python 3",
   "language": "python",
   "name": "python3"
  },
  "language_info": {
   "codemirror_mode": {
    "name": "ipython",
    "version": 3
   },
   "file_extension": ".py",
   "mimetype": "text/x-python",
   "name": "python",
   "nbconvert_exporter": "python",
   "pygments_lexer": "ipython3",
   "version": "3.7.6"
  }
 },
 "nbformat": 4,
 "nbformat_minor": 2
}
