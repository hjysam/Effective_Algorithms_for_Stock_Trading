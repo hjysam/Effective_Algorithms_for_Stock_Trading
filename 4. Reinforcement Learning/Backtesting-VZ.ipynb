{
 "cells": [
  {
   "cell_type": "code",
   "execution_count": 1,
   "metadata": {
    "scrolled": true
   },
   "outputs": [
    {
     "name": "stderr",
     "output_type": "stream",
     "text": [
      "C:\\Users\\Elid-PC.DESKTOP-MG9DS93\\anaconda3\\lib\\site-packages\\pandas_datareader\\compat\\__init__.py:7: FutureWarning: pandas.util.testing is deprecated. Use the functions in the public API at pandas.testing instead.\n",
      "  from pandas.util.testing import assert_frame_equal\n"
     ]
    },
    {
     "data": {
      "application/javascript": [
       "\n",
       "console.log('Starting front end url_querystring_target comm target');\n",
       "const comm = Jupyter.notebook.kernel.comm_manager.new_comm('url_querystring_target', {'init': 1});\n",
       "comm.send({'ipyparams_browser_url': window.location.href});\n",
       "console.log('Sent window.location.href on url_querystring_target comm target');\n",
       "\n",
       "comm.on_msg(function(msg) {\n",
       "    console.log(msg.content.data);\n",
       "});\n"
      ],
      "text/plain": [
       "<IPython.core.display.Javascript object>"
      ]
     },
     "metadata": {},
     "output_type": "display_data"
    },
    {
     "name": "stderr",
     "output_type": "stream",
     "text": [
      "Using TensorFlow backend.\n"
     ]
    }
   ],
   "source": [
    "# Import libraries\n",
    "import pandas as pd\n",
    "from pandas_datareader import data as pdr\n",
    "\n",
    "import numpy as np\n",
    "import matplotlib.pyplot as plt\n",
    "import pickle\n",
    "\n",
    "from sklearn import preprocessing\n",
    "from sklearn.metrics import accuracy_score\n",
    "from sklearn.metrics import precision_recall_fscore_support\n",
    "\n",
    "import talib, re, ipyparams\n",
    "\n",
    "from Agent import Agent"
   ]
  },
  {
   "cell_type": "code",
   "execution_count": 2,
   "metadata": {},
   "outputs": [
    {
     "data": {
      "text/plain": [
       "755"
      ]
     },
     "execution_count": 2,
     "metadata": {},
     "output_type": "execute_result"
    }
   ],
   "source": [
    "end_date = '2020-04-19'\n",
    "start_date = '2017-04-20'\n",
    "\n",
    "\n",
    "symbol = 'VZ'\n",
    "Date = pd.DataFrame(pdr.DataReader(symbol,'yahoo', start_date, end_date))\n",
    "\n",
    "alldata = pd.DataFrame({'Date': Date.index})\n",
    "alldata[symbol] = pdr.DataReader(symbol, 'yahoo', start_date, end_date)['Adj Close'].values\n",
    "# Stock symbol\n",
    "\n",
    "# Load close prices of to NumPy array\n",
    "close = alldata[symbol].values\n",
    "len(close)"
   ]
  },
  {
   "cell_type": "code",
   "execution_count": 3,
   "metadata": {},
   "outputs": [
    {
     "data": {
      "text/plain": [
       "array([42.80940628, 42.34578705, 41.33110428, 41.156147  , 40.84999466,\n",
       "       41.42732239, 40.82375717, 40.15895844, 40.13271713, 40.15895844,\n",
       "       40.3689003 , 40.13271713, 40.84125137, 40.78876877, 40.60507202,\n",
       "       40.57008362, 40.25518036, 40.09773254, 39.69535446, 39.63412476,\n",
       "       38.90809631, 39.3979454 , 39.73033524, 39.78281784, 39.78281784,\n",
       "       39.3979454 , 39.63412476, 39.64286423, 40.4126358 , 40.79751205,\n",
       "       40.68379974, 40.62257004, 40.56134033, 40.62257004, 40.67504501,\n",
       "       40.40388107, 40.86749649, 41.27861404, 40.64005661, 40.84125137,\n",
       "       40.79751205, 40.78876877, 40.73628616, 40.18519974, 39.72158813,\n",
       "       39.73033524, 39.70409393, 40.01900864, 39.22299576, 39.22299576,\n",
       "       38.84685898, 39.06554413, 39.36294937, 39.05679321, 38.56760788,\n",
       "       38.53216553, 38.28403473, 38.00930405, 38.301754  , 38.54103088,\n",
       "       38.60306168, 38.69168091, 38.42581558, 38.5055809 , 39.18796158,\n",
       "       39.19681931, 38.73598862, 38.9752655 , 39.34746933, 42.36943436,\n",
       "       42.4846344 , 42.89228821, 43.32653046, 42.72390366, 43.0783844 ,\n",
       "       43.34425735, 43.29994965, 43.06951904, 42.73277283, 42.55553436,\n",
       "       42.59098053, 43.22904587, 42.96318817, 42.90115356, 42.44032669,\n",
       "       42.2630806 , 42.66187668, 42.84797287, 42.78593826, 42.81253815,\n",
       "       43.14042282, 43.0783844 , 42.9897728 , 42.64414597, 42.51122284,\n",
       "       42.46691132, 41.97063828, 41.57184601, 40.94264221, 40.86287689,\n",
       "       41.03126144, 41.46549988, 41.8731575 , 41.81111908, 42.41373825,\n",
       "       42.61755753, 43.72531509, 43.84939194, 43.37084579, 44.22159195,\n",
       "       44.22159195, 43.87597656, 43.87597656, 43.78735352, 43.85825348,\n",
       "       43.74304581, 44.17728043, 44.22159195, 44.10638809, 43.77455902,\n",
       "       43.98979568, 44.07050705, 43.8194046 , 43.36201859, 42.92256546,\n",
       "       43.12883759, 43.40686035, 43.63106537, 44.13329315, 44.42028427,\n",
       "       43.93598938, 43.89114761, 43.62209702, 43.84629822, 43.82836914,\n",
       "       42.89565659, 42.93153   , 42.89565659, 42.56383133, 42.52795029,\n",
       "       40.83293533, 40.86881256, 40.77016068, 40.42039108, 40.24999619,\n",
       "       40.13340378, 39.65808105, 39.55943298, 40.15134048, 40.73427963,\n",
       "       41.43381119, 41.4158783 , 42.24097061, 42.16025543, 42.74319839,\n",
       "       43.78352356, 44.75210953, 45.63998032, 45.96284103, 46.38434219,\n",
       "       45.66688538, 45.45164108, 45.2184639 , 45.81934738, 46.49197006,\n",
       "       47.70270157, 47.43364716, 46.94038773, 47.23633957, 47.75650787,\n",
       "       47.37984467, 47.32602692, 47.5412674 , 47.70270157, 47.72960663,\n",
       "       47.78340912, 47.91794205, 47.46951675, 48.00761795, 47.02110291,\n",
       "       47.1735611 , 47.06594467, 46.98522949, 46.8128891 , 46.88544846,\n",
       "       47.26642227, 47.03965378, 46.85823822, 46.91266632, 46.75847244,\n",
       "       47.08500671, 48.49093628, 48.28231049, 49.18029785, 49.24378967,\n",
       "       49.63382339, 49.09866333, 48.89003754, 49.04423523, 49.25285721,\n",
       "       48.05554962, 45.80607224, 46.10539627, 46.26865768, 44.48176956,\n",
       "       45.24369049, 45.4523201 , 45.42510605, 44.90808105, 45.11670685,\n",
       "       45.48860168, 44.37292862, 43.5021553 , 43.42052078, 43.80147934,\n",
       "       44.52712631, 43.57471848, 43.30259705, 43.5021553 , 43.7742691 ,\n",
       "       44.18244171, 44.34570312, 44.30036545, 44.45455551, 44.45455551,\n",
       "       44.26407623, 44.12802124, 43.9466095 , 43.80147934, 44.04639053,\n",
       "       43.81962585, 43.25725174, 42.88536072, 42.52254486, 41.98738098,\n",
       "       42.69487762, 42.91257095, 43.53844452, 43.37516785, 42.77651596,\n",
       "       43.08491135, 43.47494507, 43.75613022, 43.06676483, 43.09431839,\n",
       "       44.3342514 , 43.70051193, 43.8474617 , 43.77399063, 44.44446564,\n",
       "       44.86695862, 44.65570831, 44.48120117, 43.99442291, 44.69245529,\n",
       "       45.62009811, 46.01503754, 45.70275879, 47.36517715, 45.32619095,\n",
       "       44.83940125, 43.85665131, 43.93931198, 44.26076889, 43.83827972,\n",
       "       43.18616867, 42.59835815, 43.35149765, 44.65570831, 44.5363121 ,\n",
       "       43.89338684, 43.95768356, 43.94849777, 43.8474617 , 44.48120117,\n",
       "       44.83021927, 44.6281662 , 44.67408371, 44.56386948, 44.2699585 ,\n",
       "       44.63734055, 43.78317261, 43.91175461, 43.9209404 , 44.05871201,\n",
       "       44.46283722, 45.01390839, 45.17005539, 45.28027344, 44.83021927,\n",
       "       43.5351944 , 43.9209404 , 44.14137268, 43.59029388, 44.54549789,\n",
       "       44.16893005, 44.6648941 , 45.70275879, 45.55580139, 45.28027344,\n",
       "       45.2894516 , 46.71307373, 46.20792389, 46.30895233, 46.56612015,\n",
       "       47.09882355, 47.28252029, 47.14315414, 47.70062256, 47.70062256,\n",
       "       47.60771179, 47.76565552, 47.93289566, 47.78424072, 47.51480103,\n",
       "       47.15244675, 47.03165436, 47.15244675, 47.85856628, 47.30110168,\n",
       "       47.55196381, 48.32312393, 48.769104  , 47.97935486, 48.06297684,\n",
       "       48.29525375, 48.56469345, 48.75980377, 48.74123001, 48.96421814,\n",
       "       49.25223541, 48.7505188 , 48.51823807, 49.12216568, 49.46593094,\n",
       "       50.42292786, 50.90605927, 50.7759819 , 51.01755142, 50.30213547,\n",
       "       50.43220901, 50.89676666, 50.96180344, 50.7759819 , 50.70165253,\n",
       "       50.86889267, 50.51583099, 49.41947937, 50.00481796, 50.44150162,\n",
       "       50.17205811, 50.28355026, 50.84101868, 51.07329941, 51.0454216 ,\n",
       "       50.68307114, 50.82243729, 50.53441238, 49.70750046, 50.12560654,\n",
       "       50.56228638, 49.74467087, 49.28940201, 49.37302399, 49.79112244,\n",
       "       49.6053009 , 50.02340698, 50.56228638, 50.44150162, 51.11975861,\n",
       "       51.0454216 , 51.11975861, 51.65803909, 51.0380249 , 50.09861374,\n",
       "       50.47437668, 50.35225296, 50.4461937 , 50.69044495, 51.33863831,\n",
       "       51.57348633, 51.64863968, 53.74352264, 53.94079208, 53.01078033,\n",
       "       52.14652634, 53.0577507 , 54.65474319, 53.6307869 , 52.65380859,\n",
       "       53.1986618 , 53.74352264, 53.74352264, 54.15685654, 54.73929214,\n",
       "       54.9177742 , 55.16202164, 55.10565948, 55.36869049, 55.50021362,\n",
       "       56.56173706, 56.94689941, 55.85718536, 55.57536697, 55.0868721 ,\n",
       "       55.58476257, 56.97507858, 56.42082977, 55.84779358, 56.64628983,\n",
       "       54.63595963, 54.57019806, 54.56080627, 54.18503571, 54.73929214,\n",
       "       55.28414154, 53.78108978, 53.6307869 , 53.62139893, 52.55986786,\n",
       "       52.27804947, 52.47531891, 51.733181  , 51.59227753, 49.83558273,\n",
       "       51.14135742, 51.80834579, 51.92106628, 52.81350708, 52.62562943,\n",
       "       52.81350708, 52.9450264 , 53.28321075, 54.84262848, 54.15255356,\n",
       "       54.67461395, 55.07328796, 55.08277512, 55.1492157 , 54.18103027,\n",
       "       53.94372177, 54.19051361, 54.09560013, 54.82649231, 54.17153168,\n",
       "       53.53556061, 52.27310562, 50.57402039, 51.25745392, 52.26361465,\n",
       "       51.77952194, 51.2954216 , 51.39034271, 51.0581131 , 50.84928894,\n",
       "       51.20999146, 51.30491257, 51.6561203 , 51.71307373, 51.285923  ,\n",
       "       52.35853577, 52.62431335, 52.92806625, 53.29825592, 54.0291481 ,\n",
       "       53.89625931, 53.76337051, 53.83930969, 54.0291481 , 54.0671196 ,\n",
       "       53.38368988, 53.23181534, 52.85212708, 53.4406395 , 53.65895462,\n",
       "       54.65563583, 54.51324844, 54.73156357, 55.00684357, 55.42449188,\n",
       "       55.12074661, 54.57969666, 54.74106216, 55.32957458, 56.72491455,\n",
       "       57.02866745, 57.55072784, 57.78802872, 56.07945251, 56.12691116,\n",
       "       56.08893967, 55.55738068, 55.88011551, 55.99402237, 56.08893967,\n",
       "       56.12691116, 56.00512314, 56.20650864, 56.15855789, 56.33117676,\n",
       "       56.30240631, 56.37912369, 55.41054153, 55.65988159, 55.97634506,\n",
       "       54.80637741, 54.739254  , 53.55968857, 54.25975418, 54.50909042,\n",
       "       54.84473801, 54.2022171 , 54.65293884, 54.89268875, 54.57622147,\n",
       "       54.30770493, 54.06795883, 54.16385269, 54.57622147, 54.42278671,\n",
       "       54.23098373, 54.48032379, 55.02694702, 55.70783234, 56.59010315,\n",
       "       57.060009  , 56.82025909, 56.45584106, 56.88739014, 56.32158661,\n",
       "       55.79413986, 54.49950027, 52.12120056, 54.06795883, 53.91452026,\n",
       "       54.69129562, 55.18038559, 54.89268875, 53.84738922, 54.49950027,\n",
       "       55.00776672, 55.25710297, 55.89004135, 55.26669693, 54.97900009,\n",
       "       55.26669693, 54.98858643, 55.4009552 , 55.8804512 , 55.621521  ,\n",
       "       54.65293884, 54.9022789 , 54.78720093, 54.33647156, 55.74619293,\n",
       "       55.74619293, 55.9188118 , 55.51603317, 54.66614532, 55.23790741,\n",
       "       55.1603775 , 55.4220314 , 55.79997635, 55.63523483, 55.45110703,\n",
       "       55.44141388, 54.84057999, 53.78427887, 53.76489258, 54.23974991,\n",
       "       54.61769104, 55.31543732, 55.59646606, 54.87934494, 53.56138611,\n",
       "       53.55169678, 53.87149429, 53.51293564, 53.34819031, 53.38695145,\n",
       "       54.09438324, 54.0556221 , 53.96840286, 54.62738419, 53.99747849,\n",
       "       54.55954742, 54.89873123, 55.23790741, 54.53047562, 54.84057999,\n",
       "       55.02470398, 54.19129181, 54.95687103, 55.41234589, 56.15853882,\n",
       "       56.14884949, 56.36204529, 56.24575806, 56.38142776, 56.77875137,\n",
       "       57.23422623, 56.84658813, 57.86413193, 58.27114868, 58.56187439,\n",
       "       58.10640335, 57.66062164, 58.01918411, 58.07732773, 58.12578201,\n",
       "       58.42620087, 58.34867096, 58.63939285, 58.4068222 , 58.57155991,\n",
       "       58.43588638, 58.49403763, 57.99980164, 57.08886337, 57.18576431,\n",
       "       58.04825974, 58.38743591, 57.87382126, 57.98642731, 58.58372116,\n",
       "       58.68163681, 58.35850906, 59.28872299, 59.03413773, 59.15163803,\n",
       "       59.77830505, 59.48455429, 59.50413895, 59.61184692, 59.31809616,\n",
       "       59.11246872, 58.92642975, 58.93621826, 59.55309677, 59.21038818,\n",
       "       59.11246872, 58.62288666, 58.26059341, 58.87747192, 59.26913834,\n",
       "       58.11371613, 58.36830521, 58.08434296, 58.17247009, 58.10392761,\n",
       "       58.27038574, 58.20184326, 58.26059341, 58.24100876, 58.36830521,\n",
       "       58.50538635, 58.14309311, 58.64247131, 58.84809494, 58.98518372,\n",
       "       58.71101379, 58.88726425, 59.26913834, 59.55309677, 59.91539001,\n",
       "       59.73913956, 59.95455551, 59.80768585, 59.89580536, 59.54330826,\n",
       "       59.95455551, 60.20914459, 59.59226608, 59.53351593, 60.77705765,\n",
       "       60.12101746, 60.00351715, 60.01330948, 60.24830627, 59.93497467,\n",
       "       60.12101746, 59.77830505, 59.1418457 , 59.01455688, 58.35850906,\n",
       "       58.46622086, 58.22382736, 58.36233902, 58.52063751, 58.41180801,\n",
       "       58.4711647 , 59.03509903, 59.49020767, 59.67818451, 59.836483  ,\n",
       "       59.86616135, 59.63861084, 59.27254868, 60.05414581, 58.89659119,\n",
       "       58.72840118, 58.80754852, 57.43233871, 57.66978836, 58.50085068,\n",
       "       58.80754852, 59.30222702, 59.59904099, 58.06552887, 57.61042404,\n",
       "       58.0259552 , 57.88744354, 57.29383087, 57.60053253, 57.47191238,\n",
       "       57.5807457 , 57.37297821, 56.51223373, 56.53202057, 54.47415543,\n",
       "       53.58372879, 56.7101059 , 55.10734558, 57.50159454, 56.5518074 ,\n",
       "       56.26489258, 55.23596191, 55.91862106, 54.2466011 , 50.65522385,\n",
       "       53.5936203 , 50.44746017, 53.73213577, 53.74202728, 53.04947281,\n",
       "       51.24884033, 49.77469635, 49.45809937, 49.40863037, 52.97032928,\n",
       "       52.20851898, 54.1872406 , 53.15830612, 52.35692215, 54.66213226,\n",
       "       54.11798477, 56.09670639, 56.37372589, 57.18499756, 57.43999863,\n",
       "       56.66999817, 58.13999939, 56.93000031, 57.65999985, 58.45999908])"
      ]
     },
     "execution_count": 3,
     "metadata": {},
     "output_type": "execute_result"
    }
   ],
   "source": [
    "close"
   ]
  },
  {
   "cell_type": "code",
   "execution_count": 4,
   "metadata": {},
   "outputs": [
    {
     "data": {
      "text/html": [
       "<div>\n",
       "<style scoped>\n",
       "    .dataframe tbody tr th:only-of-type {\n",
       "        vertical-align: middle;\n",
       "    }\n",
       "\n",
       "    .dataframe tbody tr th {\n",
       "        vertical-align: top;\n",
       "    }\n",
       "\n",
       "    .dataframe thead th {\n",
       "        text-align: right;\n",
       "    }\n",
       "</style>\n",
       "<table border=\"1\" class=\"dataframe\">\n",
       "  <thead>\n",
       "    <tr style=\"text-align: right;\">\n",
       "      <th></th>\n",
       "      <th>macd</th>\n",
       "      <th>macdsignal</th>\n",
       "      <th>macdhist</th>\n",
       "    </tr>\n",
       "  </thead>\n",
       "  <tbody>\n",
       "    <tr>\n",
       "      <th>0</th>\n",
       "      <td>-0.452229</td>\n",
       "      <td>-0.644912</td>\n",
       "      <td>0.192682</td>\n",
       "    </tr>\n",
       "    <tr>\n",
       "      <th>1</th>\n",
       "      <td>-0.221846</td>\n",
       "      <td>-0.560298</td>\n",
       "      <td>0.338452</td>\n",
       "    </tr>\n",
       "    <tr>\n",
       "      <th>2</th>\n",
       "      <td>0.015795</td>\n",
       "      <td>-0.445080</td>\n",
       "      <td>0.460875</td>\n",
       "    </tr>\n",
       "    <tr>\n",
       "      <th>3</th>\n",
       "      <td>0.131559</td>\n",
       "      <td>-0.329752</td>\n",
       "      <td>0.461311</td>\n",
       "    </tr>\n",
       "    <tr>\n",
       "      <th>4</th>\n",
       "      <td>0.182629</td>\n",
       "      <td>-0.227276</td>\n",
       "      <td>0.409905</td>\n",
       "    </tr>\n",
       "  </tbody>\n",
       "</table>\n",
       "</div>"
      ],
      "text/plain": [
       "       macd  macdsignal  macdhist\n",
       "0 -0.452229   -0.644912  0.192682\n",
       "1 -0.221846   -0.560298  0.338452\n",
       "2  0.015795   -0.445080  0.460875\n",
       "3  0.131559   -0.329752  0.461311\n",
       "4  0.182629   -0.227276  0.409905"
      ]
     },
     "execution_count": 4,
     "metadata": {},
     "output_type": "execute_result"
    }
   ],
   "source": [
    "macd, macdsignal, macdhist = talib.MACD(close, fastperiod=5, slowperiod=20, signalperiod=9)\n",
    "macdhist = macdhist[~np.isnan(macdhist)]\n",
    "macd = macd[-len(macdhist):]\n",
    "macdsignal = macdsignal[-len(macdhist):]\n",
    "\n",
    "\n",
    "pd.DataFrame({'macd': macd, 'macdsignal': macdsignal, 'macdhist': macdhist}).head()"
   ]
  },
  {
   "cell_type": "code",
   "execution_count": 5,
   "metadata": {},
   "outputs": [],
   "source": [
    "def prepare_dataset(close):\n",
    "    \"\"\"\n",
    "    Function prepare_dataset to generate input data and trading strategy from stock close prices\n",
    "    \"\"\"\n",
    "\n",
    "    macd, macdsignal, macdhist = talib.MACD(close, fastperiod=12, slowperiod=26, signalperiod=9)\n",
    "\n",
    "    # Cancel NaN values\n",
    "    macdhist = macdhist[~np.isnan(macdhist)]\n",
    "    macd = macd[-len(macdhist):]\n",
    "    macdsignal = macdsignal[-len(macdhist):]\n",
    "\n",
    "    # Scaling features to a range [0, 1]\n",
    "    min_max_scaler = preprocessing.MinMaxScaler(feature_range=(-1, 1))\n",
    "    macdhist_norm = min_max_scaler.fit_transform(np.expand_dims(macdhist, axis=1))\n",
    "\n",
    "    # Implement strategy\n",
    "    start_sell = 0.2\n",
    "    stop_sell = 0.05\n",
    "    start_buy = -0.2\n",
    "    stop_buy = -0.05\n",
    "\n",
    "    y = np.full(len(macdhist), np.nan)\n",
    "    y[0] = 0\n",
    "\n",
    "    for i in range(1, len(macdhist)):\n",
    "\n",
    "        if y[i-1] == 0:\n",
    "            if (macdhist_norm[i] >= start_sell):\n",
    "                # Enter sell position\n",
    "                y[i] = -1\n",
    "            elif (macdhist_norm[i] <= start_buy):\n",
    "                # Enter buy position\n",
    "                y[i] = 1\n",
    "            else:\n",
    "                y[i] = 0\n",
    "        elif y[i-1] == -1:\n",
    "            if macdhist_norm[i] > stop_sell:\n",
    "                # Stay in sell position\n",
    "                y[i] = -1\n",
    "            else:\n",
    "                # Leave sell position\n",
    "                y[i] = 0\n",
    "        else:\n",
    "            if macdhist_norm[i] < stop_buy:\n",
    "                # Stay in buy position\n",
    "                y[i] = 1\n",
    "            else:\n",
    "                # Leave buy position\n",
    "                y[i] = 0\n",
    "\n",
    "    # Plot strategy\n",
    "    dates = np.arange(len(macdhist))\n",
    "    plt.plot(dates, y,'g', label='Strategy Positions')\n",
    "    plt.bar(dates, macdhist_norm[:, 0], width=1, color='blue', label='MACD histogram')\n",
    "    plt.plot(dates, start_sell * np.ones(len(macdhist)), 'k--', lw=1)\n",
    "    plt.plot(dates, stop_sell * np.ones(len(macdhist)), 'k--', lw=1)\n",
    "    plt.plot(dates, start_buy * np.ones(len(macdhist)), 'k--', lw=1)\n",
    "    plt.plot(dates, stop_buy * np.ones(len(macdhist)), 'k--', lw=1)\n",
    "    plt.xlabel('Days')\n",
    "    plt.xlim((0, len(y)))\n",
    "    plt.legend()\n",
    "    # plt.savefig('images/AAL_macd.png', bbox_inches='tight')\n",
    "    plt.show()\n",
    "    \n",
    "    # Generate input data - technical indicators\n",
    "    ind1 = talib.MIDPOINT(close)    # Overlap: MidPoint over period\n",
    "    ind2 = talib.HT_DCPERIOD(close) # Cycle Indicator Functions:  Hilbert Transform - Dominant Cycle Period\n",
    "    ind3 = talib.MAX(close)         # Math Operator: Highest value over a specified period\n",
    "    ind4 = talib.SIN(close)         # Math Transform: Vector Trigonometric Sin\n",
    "    ind5 = talib.APO(close)         # Momentum: Absolute Price Oscillator\n",
    "    ind6 = talib.TEMA(close, timeperiod=5) ## Triple Exponential Moving Average\n",
    "\n",
    "    x = np.vstack((macdhist, macd, macdsignal, ind1[-len(macdhist):], ind2[-len(macdhist):],\n",
    "                   ind3[-len(macdhist):], ind4[-len(macdhist):], ind5[-len(macdhist):],\n",
    "                   ind6[-len(macdhist):]))\n",
    "    x = x.T\n",
    "\n",
    "    return x, y"
   ]
  },
  {
   "cell_type": "code",
   "execution_count": 6,
   "metadata": {},
   "outputs": [
    {
     "data": {
      "image/png": "[encoded data removed]",
      "text/plain": [
       "<Figure size 432x288 with 1 Axes>"
      ]
     },
     "metadata": {
      "needs_background": "light"
     },
     "output_type": "display_data"
    }
   ],
   "source": [
    "# Implement MACD trading strategy\n",
    "X, y = prepare_dataset(close)"
   ]
  },
  {
   "cell_type": "code",
   "execution_count": 7,
   "metadata": {},
   "outputs": [
    {
     "data": {
      "text/plain": [
       "array([ 2.45188517e-01, -1.21456661e-01, -3.66645178e-01,  3.98528042e+01,\n",
       "        1.72117648e+01,  4.14273224e+01,  2.16408668e-01,  1.39610095e-02,\n",
       "        4.06722844e+01])"
      ]
     },
     "execution_count": 7,
     "metadata": {},
     "output_type": "execute_result"
    }
   ],
   "source": [
    "X[0]"
   ]
  },
  {
   "cell_type": "code",
   "execution_count": 8,
   "metadata": {},
   "outputs": [],
   "source": [
    "# Split dataset\n",
    "n_train = int(X.shape[0] * 0.8)\n",
    "\n",
    "X_train, y_train = X[:n_train], y[:n_train]\n",
    "X_test, y_test = X[n_train:], y[n_train:]"
   ]
  },
  {
   "cell_type": "code",
   "execution_count": 9,
   "metadata": {},
   "outputs": [],
   "source": [
    "# Normalize data\n",
    "scaler = preprocessing.MinMaxScaler()\n",
    "\n",
    "X_train = scaler.fit_transform(X_train)\n",
    "X_test = scaler.transform(X_test)"
   ]
  },
  {
   "cell_type": "code",
   "execution_count": 10,
   "metadata": {},
   "outputs": [
    {
     "name": "stdout",
     "output_type": "stream",
     "text": [
      "[-1.  0.  1.]\n"
     ]
    }
   ],
   "source": [
    "# Encode trading signal with integers between 0 and n-1 classes\n",
    "le = preprocessing.LabelEncoder()\n",
    "\n",
    "y_train = le.fit_transform(y_train)\n",
    "y_test = le.transform(y_test)\n",
    "\n",
    "print(le.classes_)"
   ]
  },
  {
   "cell_type": "code",
   "execution_count": 11,
   "metadata": {},
   "outputs": [],
   "source": [
    "## Create and train the Agent\n",
    "# Variable definiton\n",
    "episodes = 20\n",
    "look_back = 5\n",
    "batch_size = 32\n",
    "action_size = len(le.classes_)\n",
    "n_features = X_train.shape[1]"
   ]
  },
  {
   "cell_type": "code",
   "execution_count": 12,
   "metadata": {},
   "outputs": [],
   "source": [
    "# Create Agent\n",
    "agent = Agent(look_back, action_size, n_features)"
   ]
  },
  {
   "cell_type": "code",
   "execution_count": 13,
   "metadata": {},
   "outputs": [],
   "source": [
    "def run(agent, dataX, dataY, episodes, look_back):\n",
    "    \"\"\"\n",
    "    Function run to train the agent\n",
    "    \"\"\"\n",
    "    \n",
    "    # Length of dataset\n",
    "    times = len(dataX)\n",
    "\n",
    "    # List of total rewards\n",
    "    total_reward_list = []\n",
    "\n",
    "    for ep in range(episodes):\n",
    "\n",
    "        # print('Episode: ' + str(ep))\n",
    "        \n",
    "        # Initial state and position\n",
    "        state = dataX[:look_back, :][np.newaxis, :, :]\n",
    "        pos = dataY[look_back - 1]\n",
    "\n",
    "        done = False\n",
    "        total_reward = 0\n",
    "\n",
    "        for t in range(1, times - look_back + 1):\n",
    "\n",
    "            # Predict action based on the current state\n",
    "            action = agent.act(state)\n",
    "\n",
    "            # Calculate reward\n",
    "            if action == pos:   # 0:-1      1:0     2:1\n",
    "                reward = +1\n",
    "\n",
    "            elif (pos == 0 or pos == 2):\n",
    "                if action == 1:\n",
    "                    reward = 0\n",
    "                else:\n",
    "                    reward = -1\n",
    "            else:\n",
    "                reward = -1\n",
    "\n",
    "            total_reward += reward\n",
    "\n",
    "            # Final state\n",
    "            if t == times - look_back:\n",
    "                done = True\n",
    "\n",
    "            # Receive next state and position\n",
    "            next_state = dataX[t:t + look_back, :][np.newaxis, :, :]\n",
    "            next_pos = dataY[t + look_back - 1]\n",
    "            \n",
    "            # Remember current experience\n",
    "            agent.remember(state, action, reward, next_state, done)\n",
    "            \n",
    "            # Make next_state the new current state; the same for pos\n",
    "            state = next_state\n",
    "            pos = next_pos\n",
    "\n",
    "            if done:\n",
    "                print('Episode: %i ---> Total Reward: %i' %(ep, total_reward))\n",
    "                total_reward_list.append(total_reward)\n",
    "\n",
    "            # Train the agent with previous experiences\n",
    "            if len(agent.memory) > batch_size:\n",
    "                agent.replay(batch_size)\n",
    "\n",
    "        if (ep + 1) % 5 == 0 and ep > 0:\n",
    "            file = 'checkpoints/' + symbol + '_robot_checkpoint' + str(ep + 1)\n",
    "            # Serialize weights to HDF5\n",
    "            agent.model.save_weights(file + \".h5\")\n",
    "            # Save epsilon\n",
    "            pickle.dump(agent.epsilon, open(file + \"_epsilon.pickle\", \"wb\"))\n",
    "\n",
    "    # Save list of rewards along the epochs\n",
    "    np.savetxt(file + '_total_reward.txt', total_reward_list)\n",
    "\n",
    "    return\n"
   ]
  },
  {
   "cell_type": "code",
   "execution_count": 14,
   "metadata": {},
   "outputs": [
    {
     "name": "stdout",
     "output_type": "stream",
     "text": [
      "Episode: 0 ---> Total Reward: 159\n",
      "Episode: 1 ---> Total Reward: 376\n",
      "Episode: 2 ---> Total Reward: 412\n",
      "Episode: 3 ---> Total Reward: 423\n",
      "Episode: 4 ---> Total Reward: 450\n",
      "Episode: 5 ---> Total Reward: 442\n",
      "Episode: 6 ---> Total Reward: 433\n",
      "Episode: 7 ---> Total Reward: 447\n",
      "Episode: 8 ---> Total Reward: 458\n",
      "Episode: 9 ---> Total Reward: 461\n",
      "Episode: 10 ---> Total Reward: 490\n",
      "Episode: 11 ---> Total Reward: 464\n",
      "Episode: 12 ---> Total Reward: 495\n",
      "Episode: 13 ---> Total Reward: 479\n",
      "Episode: 14 ---> Total Reward: 470\n",
      "Episode: 15 ---> Total Reward: 469\n",
      "Episode: 16 ---> Total Reward: 470\n",
      "Episode: 17 ---> Total Reward: 477\n",
      "Episode: 18 ---> Total Reward: 443\n",
      "Episode: 19 ---> Total Reward: 465\n"
     ]
    }
   ],
   "source": [
    "# Train Agent\n",
    "run(agent, X_train, y_train, episodes, look_back)"
   ]
  },
  {
   "cell_type": "code",
   "execution_count": 15,
   "metadata": {},
   "outputs": [
    {
     "data": {
      "image/png": "[encoded data removed]",
      "text/plain": [
       "<Figure size 432x288 with 1 Axes>"
      ]
     },
     "metadata": {
      "needs_background": "light"
     },
     "output_type": "display_data"
    }
   ],
   "source": [
    "# Load rewards\n",
    "total_reward_list = np.loadtxt( 'checkpoints/'+ symbol + '_robot_checkpoint' + str(episodes) + '_total_reward.txt')\n",
    "# Plot\n",
    "plt.figure()\n",
    "plt.plot(np.arange(1, episodes+1), total_reward_list)\n",
    "plt.xlabel('Episodes')\n",
    "plt.ylabel('Total Reward')\n",
    "plt.show()"
   ]
  },
  {
   "cell_type": "code",
   "execution_count": 16,
   "metadata": {},
   "outputs": [
    {
     "data": {
      "text/plain": [
       "array([159., 376., 412., 423., 450., 442., 433., 447., 458., 461., 490.,\n",
       "       464., 495., 479., 470., 469., 470., 477., 443., 465.])"
      ]
     },
     "execution_count": 16,
     "metadata": {},
     "output_type": "execute_result"
    }
   ],
   "source": [
    "total_reward_list"
   ]
  },
  {
   "cell_type": "code",
   "execution_count": 17,
   "metadata": {},
   "outputs": [],
   "source": [
    "def evaluate(agent, dataX, dataY, look_back):\n",
    "    \"\"\"\n",
    "    Function run to evaluate the trained agent\n",
    "    \"\"\"\n",
    "    \n",
    "    # Length of dataset\n",
    "    times = len(dataX)\n",
    "\n",
    "    # Initial state and position\n",
    "    state = dataX[:look_back, :][np.newaxis, :, :]\n",
    "    pos = dataY[look_back - 1]\n",
    "\n",
    "    # List of predicted positions\n",
    "    pos_list = []\n",
    "    \n",
    "    done = False\n",
    "    total_reward = 0\n",
    "    \n",
    "    for t in range(1, times - look_back + 1):\n",
    "\n",
    "        # Predict action based on the current state\n",
    "        action = agent.act(state)\n",
    "\n",
    "        # Calculate reward\n",
    "        if action == pos:   # 0:-1      1:0     2:1\n",
    "            reward = +1\n",
    "\n",
    "        elif (pos == 0 or pos == 2):\n",
    "            if action == 1:\n",
    "                reward = 0\n",
    "            else:\n",
    "                reward = -1\n",
    "        else:\n",
    "            reward = -1\n",
    "\n",
    "        pos_list.append(action)\n",
    "        total_reward += reward\n",
    "\n",
    "        # Final state\n",
    "        if t == times - look_back:\n",
    "            done = True\n",
    "\n",
    "        # Receive next state and position\n",
    "        next_state = dataX[t:t + look_back, :][np.newaxis, :, :]\n",
    "        next_pos = dataY[t + look_back - 1]\n",
    "\n",
    "        # Remember current experience\n",
    "        agent.remember(state, action, reward, next_state, done)\n",
    "\n",
    "        # Make next_state the new current state; the same for pos\n",
    "        state = next_state\n",
    "        pos = next_pos\n",
    "\n",
    "        if done:\n",
    "            print('Total Reward: %i' % total_reward)\n",
    "\n",
    "    return np.array(pos_list)"
   ]
  },
  {
   "cell_type": "code",
   "execution_count": 18,
   "metadata": {},
   "outputs": [
    {
     "name": "stdout",
     "output_type": "stream",
     "text": [
      "Total Reward: 101\n",
      "Accuracy: 82.14 %\n"
     ]
    }
   ],
   "source": [
    "# Evaluate the model\n",
    "# Make predictions\n",
    "y_pred_test = evaluate(agent, X_test, y_test, look_back)\n",
    "\n",
    "# Calculate and print accuracy\n",
    "acc = accuracy_score(y_test[look_back-1:-1], y_pred_test)\n",
    "\n",
    "print('Accuracy: %.2f %%' % (acc*100))"
   ]
  },
  {
   "cell_type": "code",
   "execution_count": 19,
   "metadata": {},
   "outputs": [
    {
     "name": "stdout",
     "output_type": "stream",
     "text": [
      "      1-Precision  2-Recall  3-F1 score  4-Support\n",
      "-1.0        0.706     1.000       0.828         12\n",
      " 0.0        0.450     0.409       0.429         22\n",
      " 1.0        0.913     0.887       0.900        106\n"
     ]
    }
   ],
   "source": [
    "# Calculate and print precision, recall, f1 score and support\n",
    "p, r, f1, s = precision_recall_fscore_support(y_test[look_back-1:-1], y_pred_test, average=None)\n",
    "results = pd.DataFrame({'1-Precision': p, '2-Recall': r, '3-F1 score': f1, '4-Support': s}, index=le.classes_)\n",
    "\n",
    "print(results.round(decimals=3))"
   ]
  },
  {
   "cell_type": "code",
   "execution_count": 20,
   "metadata": {},
   "outputs": [],
   "source": [
    "# Decodificate labels\n",
    "y_true_test = le.inverse_transform(y_test[look_back-1:-1])\n",
    "y_pred_test = le.inverse_transform(y_pred_test)"
   ]
  },
  {
   "cell_type": "code",
   "execution_count": 21,
   "metadata": {},
   "outputs": [
    {
     "data": {
      "image/png": "[encoded data removed]",
      "text/plain": [
       "<Figure size 432x288 with 1 Axes>"
      ]
     },
     "metadata": {
      "needs_background": "light"
     },
     "output_type": "display_data"
    }
   ],
   "source": [
    "# Plot strategy\n",
    "plt.figure()\n",
    "plt.plot(y_true_test, label='true')\n",
    "plt.plot(y_pred_test, label='pred')\n",
    "plt.legend()\n",
    "plt.show()"
   ]
  },
  {
   "cell_type": "code",
   "execution_count": null,
   "metadata": {},
   "outputs": [],
   "source": []
  }
 ],
 "metadata": {
  "kernelspec": {
   "display_name": "Python 3",
   "language": "python",
   "name": "python3"
  },
  "language_info": {
   "codemirror_mode": {
    "name": "ipython",
    "version": 3
   },
   "file_extension": ".py",
   "mimetype": "text/x-python",
   "name": "python",
   "nbconvert_exporter": "python",
   "pygments_lexer": "ipython3",
   "version": "3.7.6"
  }
 },
 "nbformat": 4,
 "nbformat_minor": 2
}
