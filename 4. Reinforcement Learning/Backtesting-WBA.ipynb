{
 "cells": [
  {
   "cell_type": "code",
   "execution_count": 1,
   "metadata": {
    "scrolled": true
   },
   "outputs": [
    {
     "name": "stderr",
     "output_type": "stream",
     "text": [
      "C:\\Users\\Elid-PC.DESKTOP-MG9DS93\\anaconda3\\lib\\site-packages\\pandas_datareader\\compat\\__init__.py:7: FutureWarning: pandas.util.testing is deprecated. Use the functions in the public API at pandas.testing instead.\n",
      "  from pandas.util.testing import assert_frame_equal\n"
     ]
    },
    {
     "data": {
      "application/javascript": [
       "\n",
       "console.log('Starting front end url_querystring_target comm target');\n",
       "const comm = Jupyter.notebook.kernel.comm_manager.new_comm('url_querystring_target', {'init': 1});\n",
       "comm.send({'ipyparams_browser_url': window.location.href});\n",
       "console.log('Sent window.location.href on url_querystring_target comm target');\n",
       "\n",
       "comm.on_msg(function(msg) {\n",
       "    console.log(msg.content.data);\n",
       "});\n"
      ],
      "text/plain": [
       "<IPython.core.display.Javascript object>"
      ]
     },
     "metadata": {},
     "output_type": "display_data"
    },
    {
     "name": "stderr",
     "output_type": "stream",
     "text": [
      "Using TensorFlow backend.\n"
     ]
    }
   ],
   "source": [
    "# Import libraries\n",
    "import pandas as pd\n",
    "from pandas_datareader import data as pdr\n",
    "\n",
    "import numpy as np\n",
    "import matplotlib.pyplot as plt\n",
    "import pickle\n",
    "\n",
    "from sklearn import preprocessing\n",
    "from sklearn.metrics import accuracy_score\n",
    "from sklearn.metrics import precision_recall_fscore_support\n",
    "\n",
    "import talib, re, ipyparams\n",
    "\n",
    "from Agent import Agent"
   ]
  },
  {
   "cell_type": "code",
   "execution_count": 2,
   "metadata": {},
   "outputs": [
    {
     "data": {
      "text/plain": [
       "755"
      ]
     },
     "execution_count": 2,
     "metadata": {},
     "output_type": "execute_result"
    }
   ],
   "source": [
    "end_date = '2020-04-19'\n",
    "start_date = '2017-04-20'\n",
    "\n",
    "symbol = 'WBA'\n",
    "Date = pd.DataFrame(pdr.DataReader(symbol,'yahoo', start_date, end_date))\n",
    "\n",
    "alldata = pd.DataFrame({'Date': Date.index})\n",
    "alldata[symbol] = pdr.DataReader(symbol, 'yahoo', start_date, end_date)['Adj Close'].values\n",
    "# Stock symbol\n",
    "\n",
    "# Load close prices of to NumPy array\n",
    "close = alldata[symbol].values\n",
    "len(close)"
   ]
  },
  {
   "cell_type": "code",
   "execution_count": 3,
   "metadata": {},
   "outputs": [
    {
     "data": {
      "text/plain": [
       "array([77.19835663, 77.78074646, 77.67904663, 77.91015625, 79.42620087,\n",
       "       79.42620087, 79.39845276, 79.99933624, 79.92538452, 79.3245163 ,\n",
       "       79.3060379 , 79.54637146, 79.39845276, 79.35223389, 79.48166656,\n",
       "       79.14888763, 79.03794098, 78.80684662, 78.53875732, 78.46911621,\n",
       "       75.88782501, 75.62784576, 74.84788513, 75.5256958 , 75.43284607,\n",
       "       74.82003784, 74.97789001, 75.44213867, 74.43005371, 75.22858429,\n",
       "       76.30567169, 77.15989685, 77.41988373, 75.62784576, 75.637146  ,\n",
       "       75.64643097, 75.200737  , 75.9621048 , 75.95284271, 76.95561981,\n",
       "       76.65850067, 72.83300781, 74.10507965, 72.70302582, 72.53588104,\n",
       "       70.9109726 , 70.88312531, 71.98805237, 71.73734283, 71.57949829,\n",
       "       72.768013  , 72.7122879 , 72.54515839, 73.0187149 , 72.16447449,\n",
       "       71.93235779, 71.64450073, 71.76521301, 71.97877502, 72.43375397,\n",
       "       73.26941681, 73.52011871, 73.04656219, 73.87294769, 74.09579468,\n",
       "       73.26012421, 73.91007996, 74.33719635, 73.0558548 , 73.14870453,\n",
       "       73.92867279, 74.90359497, 75.33071136, 75.23786926, 75.25643921,\n",
       "       75.26570892, 75.68357086, 75.28430176, 75.47000122, 74.04936981,\n",
       "       74.95002747, 75.70212555, 75.33071136, 75.82527161, 75.48002625,\n",
       "       74.67754364, 75.20941925, 75.84394073, 75.91859436, 75.11610413,\n",
       "       75.70397186, 75.73196411, 75.97457123, 76.31049347, 76.04923248,\n",
       "       75.78794861, 76.01190948, 76.2918396 , 76.10520935, 75.94658661,\n",
       "       76.77705383, 77.20628357, 77.19696045, 76.52511597, 76.98234558,\n",
       "       77.07565308, 75.77861023, 73.56713104, 72.96992493, 73.16589355,\n",
       "       73.67910004, 73.79108429, 72.92327881, 72.33541107, 72.05548859,\n",
       "       71.47693634, 71.65424347, 70.75843811, 71.80354309, 68.30432129,\n",
       "       66.13017273, 65.17838287, 64.31058502, 64.38523865, 63.04154968,\n",
       "       62.80825806, 62.89223862, 63.20950699, 62.70560837, 63.50811768,\n",
       "       62.99489212, 62.78959274, 64.72116089, 62.62163925, 60.16753769,\n",
       "       61.8284874 , 61.83781815, 62.52832794, 62.31370544, 62.39769745,\n",
       "       61.52989578, 63.37746429, 64.29192352, 64.88912201, 66.62537384,\n",
       "       66.04349518, 66.24996948, 65.88394928, 66.91631317, 66.86938477,\n",
       "       66.42828369, 66.78492737, 66.94446564, 65.95903015, 65.12375641,\n",
       "       67.79852295, 67.49819183, 68.28656006, 67.05709839, 67.16973114,\n",
       "       65.86518097, 66.68169403, 65.33021545, 67.15094757, 67.46065521,\n",
       "       67.58266449, 67.31048584, 66.03411865, 67.5169754 , 68.08946991,\n",
       "       67.75159454, 68.24901581, 68.74642181, 68.23961639, 68.79335022,\n",
       "       68.38040161, 68.45549011, 68.155159  , 70.34191132, 70.86748505,\n",
       "       67.19786835, 68.4367218 , 69.30953979, 68.90598297, 69.52539062,\n",
       "       70.74546051, 71.39304352, 71.35549927, 71.1208725 , 71.32733917,\n",
       "       71.76844788, 72.6412735 , 72.28463745, 72.57557678, 73.45778656,\n",
       "       74.28369904, 75.33482361, 71.44935608, 70.63285065, 71.38365173,\n",
       "       69.03736877, 66.09980774, 67.37619019, 67.13219452, 64.02568817,\n",
       "       64.25093079, 64.25093079, 64.09138489, 64.65779877, 65.87561798,\n",
       "       66.95184326, 66.9424057 , 65.73401642, 65.77177429, 66.42317963,\n",
       "       66.6497345 , 65.27143097, 65.03542328, 66.27212524, 66.63085938,\n",
       "       66.60254669, 65.8850708 , 65.61129761, 65.11094666, 66.6497345 ,\n",
       "       66.22492218, 65.95114899, 64.71445465, 63.60990524, 63.78929138,\n",
       "       62.89243317, 62.35433578, 62.56201553, 62.14664459, 61.76902008,\n",
       "       63.69487381, 62.26935959, 63.80816269, 61.8067894 , 59.56938553,\n",
       "       59.63547516, 61.84455109, 61.03265762, 59.91868591, 59.33338165,\n",
       "       60.19245911, 60.52288055, 60.45679092, 60.24910736, 62.51481628,\n",
       "       62.27880859, 62.55257797, 61.62740707, 60.34350967, 60.98545837,\n",
       "       61.36307526, 62.25992584, 63.00571442, 63.35502243, 62.73194504,\n",
       "       61.75958633, 60.08861542, 58.74807358, 60.23966599, 58.81415176,\n",
       "       58.87079239, 59.41833878, 60.23966599, 60.50399399, 61.45748138,\n",
       "       60.99489975, 62.0616684 , 62.67905807, 61.11185074, 61.26381683,\n",
       "       61.00737   , 60.70342255, 60.22851181, 60.34248734, 59.55413437,\n",
       "       60.35199356, 59.2596817 , 59.70610809, 60.12402725, 59.73459625,\n",
       "       59.98155212, 60.40897751, 60.2190094 , 60.84589767, 60.50395966,\n",
       "       60.70342255, 61.61525726, 62.49859238, 60.93138504, 61.36830139,\n",
       "       64.58821106, 64.38874817, 64.21778107, 63.86634064, 63.22995758,\n",
       "       62.93551636, 56.70465469, 57.00859833, 58.06290436, 57.71147156,\n",
       "       59.25018692, 60.12402725, 60.53245163, 60.0290451 , 60.46596527,\n",
       "       60.67493439, 61.90019608, 61.89070511, 62.33712006, 62.84053802,\n",
       "       61.67225266, 61.71974182, 62.06167984, 62.22314835, 63.35344315,\n",
       "       64.15129852, 65.19610596, 65.6900177 , 64.22728729, 63.10648727,\n",
       "       63.61940002, 63.84734726, 64.03731537, 63.68587875, 63.15397263,\n",
       "       62.85003662, 63.15397263, 63.14448547, 65.21511078, 65.28159332,\n",
       "       66.12693024, 66.90118408, 66.90118408, 67.14971924, 66.56661987,\n",
       "       66.22251129, 66.1556015 , 66.37546539, 66.22251129, 65.62988281,\n",
       "       64.80783081, 65.5342865 , 64.63578033, 65.22841644, 65.02768707,\n",
       "       65.18062592, 65.76370239, 65.70635223, 67.27397156, 67.36956787,\n",
       "       67.17838287, 67.34088135, 67.75190735, 68.13424683, 69.67319489,\n",
       "       69.7783432 , 69.01365662, 69.02321625, 69.7401123 , 70.55259705,\n",
       "       69.68276215, 69.26217651, 70.24671936, 70.54303741, 70.10333252,\n",
       "       69.30997467, 70.87760162, 70.31362915, 69.11878204, 67.77102661,\n",
       "       70.25627899, 71.4224472 , 72.91358948, 73.58270264, 73.20035553,\n",
       "       73.93636322, 74.22312927, 73.85034943, 70.92539215, 72.39741516,\n",
       "       72.86580658, 73.42976379, 75.3223877 , 76.24957275, 76.3738327 ,\n",
       "       75.80031586, 76.44075012, 77.0429306 , 78.2951355 , 79.22732544,\n",
       "       79.17928314, 78.62187195, 78.72759247, 78.3431778 , 79.08317566,\n",
       "       79.30420685, 78.72759247, 76.6805954 , 76.65177155, 77.66085052,\n",
       "       78.51615906, 80.26524353, 81.34159088, 81.54341125, 81.37042236,\n",
       "       82.35067749, 79.59252167, 79.70783997, 78.02604675, 77.99720764,\n",
       "       78.62187195, 79.22732544, 79.11200714, 75.67150879, 73.24972534,\n",
       "       72.53856659, 70.43389893, 66.89730835, 64.63889313, 62.71682739,\n",
       "       65.08096313, 65.6960144 , 65.39810944, 65.66719055, 65.38850403,\n",
       "       64.70615387, 66.85887909, 67.2432785 , 68.58872223, 69.41522217,\n",
       "       69.6554718 , 68.91547394, 67.89677429, 68.99236298, 69.19416809,\n",
       "       69.18456268, 69.60741425, 68.80014801, 68.91547394, 68.54066467,\n",
       "       69.0884552 , 68.7905426 , 68.71366119, 68.81936646, 69.44403839,\n",
       "       69.07883453, 68.6752243 , 68.53105927, 68.68482971, 68.42534637,\n",
       "       67.38743591, 67.72379303, 68.77132416, 69.60741425, 69.72344971,\n",
       "       70.99976349, 71.96665955, 69.42370605, 68.1377182 , 68.0990448 ,\n",
       "       68.94992065, 69.11430359, 69.00793457, 68.83389282, 64.4054718 ,\n",
       "       62.5973587 , 61.30171204, 59.07782745, 57.81118393, 57.91754913,\n",
       "       58.67173004, 58.98114014, 59.85136032, 59.77399826, 60.55719757,\n",
       "       60.99230194, 61.65946579, 60.71189499, 61.49509048, 60.34447479,\n",
       "       59.64830399, 59.87069321, 60.17043304, 60.44116592, 61.17601013,\n",
       "       61.38873291, 53.52780151, 53.02501297, 52.35785294, 52.87997437,\n",
       "       53.23773193, 52.69626617, 52.70593643, 51.67134094, 51.68101883,\n",
       "       52.44487   , 53.02501297, 53.31508636, 52.82196808, 52.30950165,\n",
       "       51.45862961, 51.70035553, 50.93650055, 51.10087585, 51.78738022,\n",
       "       51.79704666, 51.90340424, 52.00976944, 52.29016495, 52.1354599 ,\n",
       "       51.18789291, 51.7293663 , 51.78738022, 51.65200424, 50.39503098,\n",
       "       50.83980942, 50.99451447, 50.7624588 , 50.96722412, 50.95746613,\n",
       "       51.44500732, 51.62052155, 50.32367325, 50.47968674, 50.43093491,\n",
       "       49.8556366 , 49.29009247, 48.11024857, 48.66604233, 50.21641541,\n",
       "       49.53386307, 49.70937729, 50.67469788, 50.98672485, 51.56202316,\n",
       "       50.82095718, 51.57176971, 51.25974655, 51.49376297, 51.4840126 ,\n",
       "       51.58152008, 51.56202316, 51.14273834, 50.65520096, 51.63027573,\n",
       "       51.07448196, 53.16114044, 53.30740356, 53.28790665, 53.59017563,\n",
       "       53.8144455 , 53.8144455 , 54.04846573, 54.11671829, 54.18497467,\n",
       "       54.2337265 , 54.35073853, 54.49699783, 54.4189949 , 53.16114044,\n",
       "       53.45366669, 53.08313751, 52.59560013, 53.28790665, 53.82419586,\n",
       "       53.39515686, 53.67793274, 53.74618912, 54.01921082, 53.13189316,\n",
       "       52.72236252, 52.34207916, 50.57719421, 50.16765976, 51.17198944,\n",
       "       51.6985321 , 51.47426224, 50.70395279, 51.74728394, 49.15358353,\n",
       "       48.06149673, 49.22183609, 50.34163666, 49.85947037, 50.08579636,\n",
       "       50.13499451, 48.53106689, 49.23954773, 48.65898895, 49.15098953,\n",
       "       49.59379196, 50.37115097, 49.6233139 , 50.60731506, 51.49291992,\n",
       "       51.7192421 , 54.70077133, 55.97013474, 57.13125992, 54.6712532 ,\n",
       "       55.0943718 , 54.45476913, 53.96276474, 53.53964615, 53.69708633,\n",
       "       54.12020874, 53.45108414, 52.77212524, 53.490448  , 53.21492767,\n",
       "       53.53964615, 54.42525101, 53.82500839, 51.9849205 , 51.75859833,\n",
       "       52.12268066, 51.91603851, 51.25675964, 51.24691772, 52.08332062,\n",
       "       53.12636566, 52.81148148, 53.64788818, 53.78564453, 55.04516983,\n",
       "       54.41540909, 53.71676636, 54.43508911, 53.68724823, 53.5790062 ,\n",
       "       54.53348923, 54.90741348, 55.36989594, 54.96644974, 53.90372849,\n",
       "       56.46213913, 58.69582748, 60.23086929, 58.5383873 , 57.73149872,\n",
       "       58.29238892, 61.25423431, 61.71671677, 61.25423431, 60.94919205,\n",
       "       61.60149002, 61.40322495, 60.91747284, 60.8084259 , 60.09466553,\n",
       "       60.07483673, 60.14422989, 59.11324692, 59.58908463, 59.08350372,\n",
       "       58.75636292, 58.47879028, 58.39948273, 58.58783722, 58.1219101 ,\n",
       "       58.20121765, 57.90381622, 57.50728226, 58.07234573, 57.37841034,\n",
       "       57.29910278, 56.59525681, 56.70430374, 57.24953461, 57.88399124,\n",
       "       58.06243134, 57.84433365, 58.38957214, 58.50852966, 58.39948273,\n",
       "       58.4490509 , 58.56801224, 58.56801224, 59.07358932, 58.77619171,\n",
       "       55.34617615, 54.20614243, 53.7501297 , 53.59151459, 54.14665985,\n",
       "       53.95830917, 53.94839096, 53.93848038, 53.4031601 , 52.95705795,\n",
       "       52.83810043, 51.58901978, 51.77737045, 52.32260513, 51.82693863,\n",
       "       51.49980164, 50.40933228, 50.50846481, 51.8864212 , 52.52087402,\n",
       "       53.02645493, 52.77862167, 52.95705795, 52.53078842, 53.99796295,\n",
       "       53.10575867, 52.39199829, 51.86000061, 52.06999969, 51.86999893,\n",
       "       51.45000076, 49.02999878, 47.50999832, 47.66999817, 46.24000168,\n",
       "       45.75999832, 48.11000061, 46.11999893, 48.68999863, 48.77999878,\n",
       "       50.50999832, 48.43999863, 49.15999985, 46.06999969, 41.02000046,\n",
       "       46.18999863, 45.08000183, 49.59999847, 52.81000137, 48.54999924,\n",
       "       46.41999817, 43.61000061, 45.25      , 41.43999863, 45.66999817,\n",
       "       44.        , 45.15999985, 45.75      , 43.02999878, 40.31999969,\n",
       "       40.72000122, 42.63000107, 42.81000137, 43.09000015, 43.97999954,\n",
       "       44.11000061, 46.38000107, 43.43999863, 43.22999954, 44.5       ])"
      ]
     },
     "execution_count": 3,
     "metadata": {},
     "output_type": "execute_result"
    }
   ],
   "source": [
    "close"
   ]
  },
  {
   "cell_type": "code",
   "execution_count": 4,
   "metadata": {},
   "outputs": [
    {
     "data": {
      "text/html": [
       "<div>\n",
       "<style scoped>\n",
       "    .dataframe tbody tr th:only-of-type {\n",
       "        vertical-align: middle;\n",
       "    }\n",
       "\n",
       "    .dataframe tbody tr th {\n",
       "        vertical-align: top;\n",
       "    }\n",
       "\n",
       "    .dataframe thead th {\n",
       "        text-align: right;\n",
       "    }\n",
       "</style>\n",
       "<table border=\"1\" class=\"dataframe\">\n",
       "  <thead>\n",
       "    <tr style=\"text-align: right;\">\n",
       "      <th></th>\n",
       "      <th>macd</th>\n",
       "      <th>macdsignal</th>\n",
       "      <th>macdhist</th>\n",
       "    </tr>\n",
       "  </thead>\n",
       "  <tbody>\n",
       "    <tr>\n",
       "      <th>0</th>\n",
       "      <td>-1.562905</td>\n",
       "      <td>-1.392132</td>\n",
       "      <td>-0.170773</td>\n",
       "    </tr>\n",
       "    <tr>\n",
       "      <th>1</th>\n",
       "      <td>-1.637965</td>\n",
       "      <td>-1.441299</td>\n",
       "      <td>-0.196666</td>\n",
       "    </tr>\n",
       "    <tr>\n",
       "      <th>2</th>\n",
       "      <td>-1.441114</td>\n",
       "      <td>-1.441262</td>\n",
       "      <td>0.000148</td>\n",
       "    </tr>\n",
       "    <tr>\n",
       "      <th>3</th>\n",
       "      <td>-1.020179</td>\n",
       "      <td>-1.357045</td>\n",
       "      <td>0.336866</td>\n",
       "    </tr>\n",
       "    <tr>\n",
       "      <th>4</th>\n",
       "      <td>-0.530509</td>\n",
       "      <td>-1.191738</td>\n",
       "      <td>0.661229</td>\n",
       "    </tr>\n",
       "  </tbody>\n",
       "</table>\n",
       "</div>"
      ],
      "text/plain": [
       "       macd  macdsignal  macdhist\n",
       "0 -1.562905   -1.392132 -0.170773\n",
       "1 -1.637965   -1.441299 -0.196666\n",
       "2 -1.441114   -1.441262  0.000148\n",
       "3 -1.020179   -1.357045  0.336866\n",
       "4 -0.530509   -1.191738  0.661229"
      ]
     },
     "execution_count": 4,
     "metadata": {},
     "output_type": "execute_result"
    }
   ],
   "source": [
    "macd, macdsignal, macdhist = talib.MACD(close, fastperiod=5, slowperiod=20, signalperiod=9)\n",
    "macdhist = macdhist[~np.isnan(macdhist)]\n",
    "macd = macd[-len(macdhist):]\n",
    "macdsignal = macdsignal[-len(macdhist):]\n",
    "\n",
    "\n",
    "pd.DataFrame({'macd': macd, 'macdsignal': macdsignal, 'macdhist': macdhist}).head()"
   ]
  },
  {
   "cell_type": "code",
   "execution_count": 5,
   "metadata": {},
   "outputs": [],
   "source": [
    "def prepare_dataset(close):\n",
    "    \"\"\"\n",
    "    Function prepare_dataset to generate input data and trading strategy from stock close prices\n",
    "    \"\"\"\n",
    "\n",
    "    macd, macdsignal, macdhist = talib.MACD(close, fastperiod=12, slowperiod=26, signalperiod=9)\n",
    "\n",
    "    # Cancel NaN values\n",
    "    macdhist = macdhist[~np.isnan(macdhist)]\n",
    "    macd = macd[-len(macdhist):]\n",
    "    macdsignal = macdsignal[-len(macdhist):]\n",
    "\n",
    "    # Scaling features to a range [0, 1]\n",
    "    min_max_scaler = preprocessing.MinMaxScaler(feature_range=(-1, 1))\n",
    "    macdhist_norm = min_max_scaler.fit_transform(np.expand_dims(macdhist, axis=1))\n",
    "\n",
    "    # Implement strategy\n",
    "    start_sell = 0.2\n",
    "    stop_sell = 0.05\n",
    "    start_buy = -0.2\n",
    "    stop_buy = -0.05\n",
    "\n",
    "    y = np.full(len(macdhist), np.nan)\n",
    "    y[0] = 0\n",
    "\n",
    "    for i in range(1, len(macdhist)):\n",
    "\n",
    "        if y[i-1] == 0:\n",
    "            if (macdhist_norm[i] >= start_sell):\n",
    "                # Enter sell position\n",
    "                y[i] = -1\n",
    "            elif (macdhist_norm[i] <= start_buy):\n",
    "                # Enter buy position\n",
    "                y[i] = 1\n",
    "            else:\n",
    "                y[i] = 0\n",
    "        elif y[i-1] == -1:\n",
    "            if macdhist_norm[i] > stop_sell:\n",
    "                # Stay in sell position\n",
    "                y[i] = -1\n",
    "            else:\n",
    "                # Leave sell position\n",
    "                y[i] = 0\n",
    "        else:\n",
    "            if macdhist_norm[i] < stop_buy:\n",
    "                # Stay in buy position\n",
    "                y[i] = 1\n",
    "            else:\n",
    "                # Leave buy position\n",
    "                y[i] = 0\n",
    "\n",
    "    # Plot strategy\n",
    "    dates = np.arange(len(macdhist))\n",
    "    plt.plot(dates, y,'g', label='Strategy Positions')\n",
    "    plt.bar(dates, macdhist_norm[:, 0], width=1, color='blue', label='MACD histogram')\n",
    "    plt.plot(dates, start_sell * np.ones(len(macdhist)), 'k--', lw=1)\n",
    "    plt.plot(dates, stop_sell * np.ones(len(macdhist)), 'k--', lw=1)\n",
    "    plt.plot(dates, start_buy * np.ones(len(macdhist)), 'k--', lw=1)\n",
    "    plt.plot(dates, stop_buy * np.ones(len(macdhist)), 'k--', lw=1)\n",
    "    plt.xlabel('Days')\n",
    "    plt.xlim((0, len(y)))\n",
    "    plt.legend()\n",
    "    # plt.savefig('images/AAL_macd.png', bbox_inches='tight')\n",
    "    plt.show()\n",
    "    \n",
    "    # Generate input data - technical indicators\n",
    "    ind1 = talib.MIDPOINT(close)    # Overlap: MidPoint over period\n",
    "    ind2 = talib.HT_DCPERIOD(close) # Cycle Indicator Functions:  Hilbert Transform - Dominant Cycle Period\n",
    "    ind3 = talib.MAX(close)         # Math Operator: Highest value over a specified period\n",
    "    ind4 = talib.SIN(close)         # Math Transform: Vector Trigonometric Sin\n",
    "    ind5 = talib.APO(close)         # Momentum: Absolute Price Oscillator\n",
    "    ind6 = talib.TEMA(close, timeperiod=5) ## Triple Exponential Moving Average\n",
    "\n",
    "    x = np.vstack((macdhist, macd, macdsignal, ind1[-len(macdhist):], ind2[-len(macdhist):],\n",
    "                   ind3[-len(macdhist):], ind4[-len(macdhist):], ind5[-len(macdhist):],\n",
    "                   ind6[-len(macdhist):]))\n",
    "    x = x.T\n",
    "\n",
    "    return x, y"
   ]
  },
  {
   "cell_type": "code",
   "execution_count": 6,
   "metadata": {},
   "outputs": [
    {
     "data": {
      "image/png": "[encoded data removed]",
      "text/plain": [
       "<Figure size 432x288 with 1 Axes>"
      ]
     },
     "metadata": {
      "needs_background": "light"
     },
     "output_type": "display_data"
    }
   ],
   "source": [
    "# Implement MACD trading strategy\n",
    "X, y = prepare_dataset(close)"
   ]
  },
  {
   "cell_type": "code",
   "execution_count": 7,
   "metadata": {},
   "outputs": [
    {
     "data": {
      "text/plain": [
       "array([ 0.23844323, -0.78286212, -1.02130535, 75.92496872, 17.09802862,\n",
       "       79.99933624,  0.22760954, -1.6703993 , 76.43109612])"
      ]
     },
     "execution_count": 7,
     "metadata": {},
     "output_type": "execute_result"
    }
   ],
   "source": [
    "X[0]"
   ]
  },
  {
   "cell_type": "code",
   "execution_count": 8,
   "metadata": {},
   "outputs": [],
   "source": [
    "# Split dataset\n",
    "n_train = int(X.shape[0] * 0.8)\n",
    "\n",
    "X_train, y_train = X[:n_train], y[:n_train]\n",
    "X_test, y_test = X[n_train:], y[n_train:]"
   ]
  },
  {
   "cell_type": "code",
   "execution_count": 9,
   "metadata": {},
   "outputs": [],
   "source": [
    "# Normalize data\n",
    "scaler = preprocessing.MinMaxScaler()\n",
    "\n",
    "X_train = scaler.fit_transform(X_train)\n",
    "X_test = scaler.transform(X_test)"
   ]
  },
  {
   "cell_type": "code",
   "execution_count": 10,
   "metadata": {},
   "outputs": [
    {
     "name": "stdout",
     "output_type": "stream",
     "text": [
      "[-1.  0.  1.]\n"
     ]
    }
   ],
   "source": [
    "# Encode trading signal with integers between 0 and n-1 classes\n",
    "le = preprocessing.LabelEncoder()\n",
    "\n",
    "y_train = le.fit_transform(y_train)\n",
    "y_test = le.transform(y_test)\n",
    "\n",
    "print(le.classes_)"
   ]
  },
  {
   "cell_type": "code",
   "execution_count": 11,
   "metadata": {},
   "outputs": [],
   "source": [
    "## Create and train the Agent\n",
    "# Variable definiton\n",
    "episodes = 20\n",
    "look_back = 5\n",
    "batch_size = 32\n",
    "action_size = len(le.classes_)\n",
    "n_features = X_train.shape[1]"
   ]
  },
  {
   "cell_type": "code",
   "execution_count": 12,
   "metadata": {},
   "outputs": [],
   "source": [
    "# Create Agent\n",
    "agent = Agent(look_back, action_size, n_features)"
   ]
  },
  {
   "cell_type": "code",
   "execution_count": 13,
   "metadata": {},
   "outputs": [],
   "source": [
    "def run(agent, dataX, dataY, episodes, look_back):\n",
    "    \"\"\"\n",
    "    Function run to train the agent\n",
    "    \"\"\"\n",
    "    \n",
    "    # Length of dataset\n",
    "    times = len(dataX)\n",
    "\n",
    "    # List of total rewards\n",
    "    total_reward_list = []\n",
    "\n",
    "    for ep in range(episodes):\n",
    "\n",
    "        # print('Episode: ' + str(ep))\n",
    "        \n",
    "        # Initial state and position\n",
    "        state = dataX[:look_back, :][np.newaxis, :, :]\n",
    "        pos = dataY[look_back - 1]\n",
    "\n",
    "        done = False\n",
    "        total_reward = 0\n",
    "\n",
    "        for t in range(1, times - look_back + 1):\n",
    "\n",
    "            # Predict action based on the current state\n",
    "            action = agent.act(state)\n",
    "\n",
    "            # Calculate reward\n",
    "            if action == pos:   # 0:-1      1:0     2:1\n",
    "                reward = +1\n",
    "\n",
    "            elif (pos == 0 or pos == 2):\n",
    "                if action == 1:\n",
    "                    reward = 0\n",
    "                else:\n",
    "                    reward = -1\n",
    "            else:\n",
    "                reward = -1\n",
    "\n",
    "            total_reward += reward\n",
    "\n",
    "            # Final state\n",
    "            if t == times - look_back:\n",
    "                done = True\n",
    "\n",
    "            # Receive next state and position\n",
    "            next_state = dataX[t:t + look_back, :][np.newaxis, :, :]\n",
    "            next_pos = dataY[t + look_back - 1]\n",
    "            \n",
    "            # Remember current experience\n",
    "            agent.remember(state, action, reward, next_state, done)\n",
    "            \n",
    "            # Make next_state the new current state; the same for pos\n",
    "            state = next_state\n",
    "            pos = next_pos\n",
    "\n",
    "            if done:\n",
    "                print('Episode: %i ---> Total Reward: %i' %(ep, total_reward))\n",
    "                total_reward_list.append(total_reward)\n",
    "\n",
    "            # Train the agent with previous experiences\n",
    "            if len(agent.memory) > batch_size:\n",
    "                agent.replay(batch_size)\n",
    "\n",
    "        if (ep + 1) % 5 == 0 and ep > 0:\n",
    "            file = 'checkpoints/' + symbol + '_robot_checkpoint' + str(ep + 1)\n",
    "            # Serialize weights to HDF5\n",
    "            agent.model.save_weights(file + \".h5\")\n",
    "            # Save epsilon\n",
    "            pickle.dump(agent.epsilon, open(file + \"_epsilon.pickle\", \"wb\"))\n",
    "\n",
    "    # Save list of rewards along the epochs\n",
    "    np.savetxt(file + '_total_reward.txt', total_reward_list)\n",
    "\n",
    "    return\n"
   ]
  },
  {
   "cell_type": "code",
   "execution_count": 14,
   "metadata": {},
   "outputs": [
    {
     "name": "stdout",
     "output_type": "stream",
     "text": [
      "Episode: 0 ---> Total Reward: 234\n",
      "Episode: 1 ---> Total Reward: 375\n",
      "Episode: 2 ---> Total Reward: 426\n",
      "Episode: 3 ---> Total Reward: 420\n",
      "Episode: 4 ---> Total Reward: 362\n",
      "Episode: 5 ---> Total Reward: 416\n",
      "Episode: 6 ---> Total Reward: 474\n",
      "Episode: 7 ---> Total Reward: 476\n",
      "Episode: 8 ---> Total Reward: 492\n",
      "Episode: 9 ---> Total Reward: 510\n",
      "Episode: 10 ---> Total Reward: 503\n",
      "Episode: 11 ---> Total Reward: 507\n",
      "Episode: 12 ---> Total Reward: 515\n",
      "Episode: 13 ---> Total Reward: 499\n",
      "Episode: 14 ---> Total Reward: 507\n",
      "Episode: 15 ---> Total Reward: 528\n",
      "Episode: 16 ---> Total Reward: 517\n",
      "Episode: 17 ---> Total Reward: 515\n",
      "Episode: 18 ---> Total Reward: 533\n",
      "Episode: 19 ---> Total Reward: 527\n"
     ]
    }
   ],
   "source": [
    "# Train Agent\n",
    "run(agent, X_train, y_train, episodes, look_back)"
   ]
  },
  {
   "cell_type": "code",
   "execution_count": 15,
   "metadata": {},
   "outputs": [
    {
     "data": {
      "image/png": "[encoded data removed]",
      "text/plain": [
       "<Figure size 432x288 with 1 Axes>"
      ]
     },
     "metadata": {
      "needs_background": "light"
     },
     "output_type": "display_data"
    }
   ],
   "source": [
    "# Load rewards\n",
    "total_reward_list = np.loadtxt( 'checkpoints/'+ symbol + '_robot_checkpoint' + str(episodes) + '_total_reward.txt')\n",
    "# Plot\n",
    "plt.figure()\n",
    "plt.plot(np.arange(1, episodes+1), total_reward_list)\n",
    "plt.xlabel('Episodes')\n",
    "plt.ylabel('Total Reward')\n",
    "plt.show()"
   ]
  },
  {
   "cell_type": "code",
   "execution_count": 16,
   "metadata": {},
   "outputs": [
    {
     "data": {
      "text/plain": [
       "array([234., 375., 426., 420., 362., 416., 474., 476., 492., 510., 503.,\n",
       "       507., 515., 499., 507., 528., 517., 515., 533., 527.])"
      ]
     },
     "execution_count": 16,
     "metadata": {},
     "output_type": "execute_result"
    }
   ],
   "source": [
    "total_reward_list"
   ]
  },
  {
   "cell_type": "code",
   "execution_count": 17,
   "metadata": {},
   "outputs": [],
   "source": [
    "def evaluate(agent, dataX, dataY, look_back):\n",
    "    \"\"\"\n",
    "    Function run to evaluate the trained agent\n",
    "    \"\"\"\n",
    "    \n",
    "    # Length of dataset\n",
    "    times = len(dataX)\n",
    "\n",
    "    # Initial state and position\n",
    "    state = dataX[:look_back, :][np.newaxis, :, :]\n",
    "    pos = dataY[look_back - 1]\n",
    "\n",
    "    # List of predicted positions\n",
    "    pos_list = []\n",
    "    \n",
    "    done = False\n",
    "    total_reward = 0\n",
    "    \n",
    "    for t in range(1, times - look_back + 1):\n",
    "\n",
    "        # Predict action based on the current state\n",
    "        action = agent.act(state)\n",
    "\n",
    "        # Calculate reward\n",
    "        if action == pos:   # 0:-1      1:0     2:1\n",
    "            reward = +1\n",
    "\n",
    "        elif (pos == 0 or pos == 2):\n",
    "            if action == 1:\n",
    "                reward = 0\n",
    "            else:\n",
    "                reward = -1\n",
    "        else:\n",
    "            reward = -1\n",
    "\n",
    "        pos_list.append(action)\n",
    "        total_reward += reward\n",
    "\n",
    "        # Final state\n",
    "        if t == times - look_back:\n",
    "            done = True\n",
    "\n",
    "        # Receive next state and position\n",
    "        next_state = dataX[t:t + look_back, :][np.newaxis, :, :]\n",
    "        next_pos = dataY[t + look_back - 1]\n",
    "\n",
    "        # Remember current experience\n",
    "        agent.remember(state, action, reward, next_state, done)\n",
    "\n",
    "        # Make next_state the new current state; the same for pos\n",
    "        state = next_state\n",
    "        pos = next_pos\n",
    "\n",
    "        if done:\n",
    "            print('Total Reward: %i' % total_reward)\n",
    "\n",
    "    return np.array(pos_list)"
   ]
  },
  {
   "cell_type": "code",
   "execution_count": 18,
   "metadata": {},
   "outputs": [
    {
     "name": "stdout",
     "output_type": "stream",
     "text": [
      "Total Reward: 105\n",
      "Accuracy: 78.57 %\n"
     ]
    }
   ],
   "source": [
    "# Evaluate the model\n",
    "# Make predictions\n",
    "y_pred_test = evaluate(agent, X_test, y_test, look_back)\n",
    "\n",
    "# Calculate and print accuracy\n",
    "acc = accuracy_score(y_test[look_back-1:-1], y_pred_test)\n",
    "\n",
    "print('Accuracy: %.2f %%' % (acc*100))"
   ]
  },
  {
   "cell_type": "code",
   "execution_count": 19,
   "metadata": {},
   "outputs": [
    {
     "name": "stdout",
     "output_type": "stream",
     "text": [
      "      1-Precision  2-Recall  3-F1 score  4-Support\n",
      "-1.0        0.965     0.759       0.850        108\n",
      " 0.0        0.528     0.875       0.659         32\n",
      " 1.0        0.000     0.000       0.000          0\n"
     ]
    },
    {
     "name": "stderr",
     "output_type": "stream",
     "text": [
      "C:\\Users\\Elid-PC.DESKTOP-MG9DS93\\anaconda3\\lib\\site-packages\\sklearn\\metrics\\_classification.py:1272: UndefinedMetricWarning: Recall and F-score are ill-defined and being set to 0.0 in labels with no true samples. Use `zero_division` parameter to control this behavior.\n",
      "  _warn_prf(average, modifier, msg_start, len(result))\n"
     ]
    }
   ],
   "source": [
    "# Calculate and print precision, recall, f1 score and support\n",
    "p, r, f1, s = precision_recall_fscore_support(y_test[look_back-1:-1], y_pred_test, average=None)\n",
    "results = pd.DataFrame({'1-Precision': p, '2-Recall': r, '3-F1 score': f1, '4-Support': s}, index=le.classes_)\n",
    "\n",
    "print(results.round(decimals=3))"
   ]
  },
  {
   "cell_type": "code",
   "execution_count": 20,
   "metadata": {},
   "outputs": [],
   "source": [
    "# Decodificate labels\n",
    "y_true_test = le.inverse_transform(y_test[look_back-1:-1])\n",
    "y_pred_test = le.inverse_transform(y_pred_test)"
   ]
  },
  {
   "cell_type": "code",
   "execution_count": 21,
   "metadata": {},
   "outputs": [
    {
     "data": {
      "image/png": "[encoded data removed]",
      "text/plain": [
       "<Figure size 432x288 with 1 Axes>"
      ]
     },
     "metadata": {
      "needs_background": "light"
     },
     "output_type": "display_data"
    }
   ],
   "source": [
    "# Plot strategy\n",
    "plt.figure()\n",
    "plt.plot(y_true_test, label='true')\n",
    "plt.plot(y_pred_test, label='pred')\n",
    "plt.legend()\n",
    "plt.show()"
   ]
  },
  {
   "cell_type": "code",
   "execution_count": null,
   "metadata": {},
   "outputs": [],
   "source": []
  }
 ],
 "metadata": {
  "kernelspec": {
   "display_name": "Python 3",
   "language": "python",
   "name": "python3"
  },
  "language_info": {
   "codemirror_mode": {
    "name": "ipython",
    "version": 3
   },
   "file_extension": ".py",
   "mimetype": "text/x-python",
   "name": "python",
   "nbconvert_exporter": "python",
   "pygments_lexer": "ipython3",
   "version": "3.7.6"
  }
 },
 "nbformat": 4,
 "nbformat_minor": 2
}
