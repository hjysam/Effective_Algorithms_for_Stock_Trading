{
 "cells": [
  {
   "cell_type": "code",
   "execution_count": 1,
   "metadata": {
    "scrolled": true
   },
   "outputs": [
    {
     "name": "stderr",
     "output_type": "stream",
     "text": [
      "C:\\Users\\Elid-PC.DESKTOP-MG9DS93\\anaconda3\\lib\\site-packages\\pandas_datareader\\compat\\__init__.py:7: FutureWarning: pandas.util.testing is deprecated. Use the functions in the public API at pandas.testing instead.\n",
      "  from pandas.util.testing import assert_frame_equal\n"
     ]
    },
    {
     "data": {
      "application/javascript": [
       "\n",
       "console.log('Starting front end url_querystring_target comm target');\n",
       "const comm = Jupyter.notebook.kernel.comm_manager.new_comm('url_querystring_target', {'init': 1});\n",
       "comm.send({'ipyparams_browser_url': window.location.href});\n",
       "console.log('Sent window.location.href on url_querystring_target comm target');\n",
       "\n",
       "comm.on_msg(function(msg) {\n",
       "    console.log(msg.content.data);\n",
       "});\n"
      ],
      "text/plain": [
       "<IPython.core.display.Javascript object>"
      ]
     },
     "metadata": {},
     "output_type": "display_data"
    },
    {
     "name": "stderr",
     "output_type": "stream",
     "text": [
      "Using TensorFlow backend.\n"
     ]
    }
   ],
   "source": [
    "# Import libraries\n",
    "import pandas as pd\n",
    "from pandas_datareader import data as pdr\n",
    "\n",
    "import numpy as np\n",
    "import matplotlib.pyplot as plt\n",
    "import pickle\n",
    "\n",
    "from sklearn import preprocessing\n",
    "from sklearn.metrics import accuracy_score\n",
    "from sklearn.metrics import precision_recall_fscore_support\n",
    "\n",
    "import talib, re, ipyparams\n",
    "\n",
    "from Agent import Agent"
   ]
  },
  {
   "cell_type": "code",
   "execution_count": 2,
   "metadata": {},
   "outputs": [
    {
     "data": {
      "text/plain": [
       "755"
      ]
     },
     "execution_count": 2,
     "metadata": {},
     "output_type": "execute_result"
    }
   ],
   "source": [
    "end_date = '2020-04-19'\n",
    "start_date = '2017-04-20'\n",
    "\n",
    "currentNotebook = ipyparams.notebook_name\n",
    "symbol = 'PG'\n",
    "Date = pd.DataFrame(pdr.DataReader(symbol,'yahoo', start_date, end_date))\n",
    "\n",
    "alldata = pd.DataFrame({'Date': Date.index})\n",
    "alldata[symbol] = pdr.DataReader(symbol, 'yahoo', start_date, end_date)['Adj Close'].values\n",
    "# Stock symbol\n",
    "\n",
    "# Load close prices of to NumPy array\n",
    "close = alldata[symbol].values\n",
    "len(close)"
   ]
  },
  {
   "cell_type": "code",
   "execution_count": 3,
   "metadata": {},
   "outputs": [
    {
     "data": {
      "text/plain": [
       "array([ 81.86989594,  81.62319183,  80.97442627,  81.82420349,\n",
       "        82.23538208,  80.17035675,  80.12467194,  79.79572296,\n",
       "        79.5764389 ,  78.78149414,  78.97338104,  78.99166107,\n",
       "        79.03733063,  79.0830307 ,  78.945961  ,  79.02819824,\n",
       "        78.7358017 ,  78.75408173,  78.88199615,  78.79977417,\n",
       "        78.8180542 ,  78.46169281,  78.79977417,  78.77235413,\n",
       "        78.65357208,  79.03733063,  79.36626434,  79.72262573,\n",
       "        79.85969543,  80.49015808,  80.52669525,  80.94702911,\n",
       "        81.08407593,  81.13890839,  81.11148834,  80.27088165,\n",
       "        80.5541153 ,  80.62722778,  80.46276093,  80.80997467,\n",
       "        81.66886139,  81.92470551,  82.10746002,  81.89730072,\n",
       "        81.68714142,  81.34906006,  81.70542145,  81.65060425,\n",
       "        80.96530151,  80.7460022 ,  79.48505402,  79.63126373,\n",
       "        80.17035675,  80.10639954,  79.83226776,  80.08811951,\n",
       "        79.5764389 ,  79.28404236,  79.4576416 ,  79.22007751,\n",
       "        79.58557129,  79.99674988,  80.9927063 ,  81.3610611 ,\n",
       "        81.59129333,  81.60050201,  81.20451355,  82.08856201,\n",
       "        82.23592377,  83.50675201,  83.07392883,  83.63567352,\n",
       "        83.8935318 ,  83.83828735,  83.67251587,  83.49755096,\n",
       "        84.20663452,  84.3355484 ,  84.64866638,  84.4828949 ,\n",
       "        84.11454773,  84.40002441,  84.9065094 ,  85.12753296,\n",
       "        84.78679657,  85.155159  ,  85.51430511,  85.44985199,\n",
       "        85.12753296,  84.97098541,  85.19199371,  85.155159  ,\n",
       "        85.01701355,  84.60260773,  84.97098541,  85.21040344,\n",
       "        85.38537598,  85.38537598,  85.61560822,  85.49589539,\n",
       "        86.55490112,  86.11289215,  86.1497345 ,  86.1497345 ,\n",
       "        85.89186859,  85.78135681,  86.72068024,  86.93248749,\n",
       "        85.31170654,  84.94334412,  85.38537598,  85.32091522,\n",
       "        83.68173218,  83.70014191,  83.78304291,  84.51052856,\n",
       "        84.83283997,  85.1091156 ,  84.74996185,  85.02623749,\n",
       "        84.83283997,  84.37239838,  84.22505188,  84.860466  ,\n",
       "        85.68006897,  85.77215576,  85.45905304,  85.431427  ,\n",
       "        84.97680664,  81.87797546,  80.9965744 ,  80.69966888,\n",
       "        80.58833313,  81.18212891,  80.75532532,  80.0409317 ,\n",
       "        80.10588074,  80.61617279,  80.26360321,  80.32855225,\n",
       "        79.83681488,  80.69966888,  81.25634003,  81.44190216,\n",
       "        81.79447174,  82.57381439,  82.45320892,  81.85942078,\n",
       "        82.80577087,  82.04496765,  81.89652252,  82.31404877,\n",
       "        81.95219421,  82.06352997,  82.53669739,  82.94493103,\n",
       "        82.92636871,  83.49232483,  83.83560944,  84.80979156,\n",
       "        84.80052948,  84.66136932,  83.59439087,  83.84490204,\n",
       "        83.71500397,  83.36244965,  84.3180542 ,  84.42941284,\n",
       "        85.25514984,  85.24586487,  85.06031799,  84.92113495,\n",
       "        85.05102539,  85.47781372,  85.80254364,  85.44998932,\n",
       "        85.42214966,  85.24586487,  84.10467529,  84.00260925,\n",
       "        84.59640503,  84.65207672,  85.09742737,  84.47579956,\n",
       "        83.93768311,  83.64079285,  83.13977051,  83.70571899,\n",
       "        84.61495972,  84.30644989,  85.13848877,  85.90509033,\n",
       "        83.25005341,  82.55825043,  82.58629608,  82.01602936,\n",
       "        81.20269012,  81.28681946,  80.71656799,  80.25846863,\n",
       "        78.76268005,  75.78045654,  77.01448059,  76.50965881,\n",
       "        74.99517822,  74.71471405,  76.03287506,  76.19178772,\n",
       "        75.42520905,  77.04253387,  77.22014618,  76.04222107,\n",
       "        75.01385498,  75.57479095,  75.77111053,  76.3133316 ,\n",
       "        75.29433441,  73.40589142,  73.57416534,  74.32206726,\n",
       "        75.06060791,  74.80819702,  74.0042038 ,  74.76145935,\n",
       "        75.06060791,  74.65860748,  74.52771759,  73.85463715,\n",
       "        73.54611969,  73.82657623,  73.53677368,  73.20957184,\n",
       "        72.02228546,  71.43331146,  70.96588135,  71.43331146,\n",
       "        72.72344208,  73.70504761,  74.11638641,  72.35884094,\n",
       "        73.34980011,  73.90137482,  73.66764832,  73.32176208,\n",
       "        73.06932831,  73.26565552,  73.17216492,  72.72344208,\n",
       "        73.26565552,  73.49002838,  73.32176208,  73.10673523,\n",
       "        70.71678925,  69.63175201,  68.8769455 ,  68.40518951,\n",
       "        68.21646118,  68.64105225,  68.69766235,  68.25421143,\n",
       "        67.89567566,  66.93328094,  67.32956696,  68.33913422,\n",
       "        67.91454315,  67.40503693,  68.28251648,  69.01846313,\n",
       "        69.2260437 ,  69.14111328,  68.82975769,  69.37698364,\n",
       "        69.78272247,  69.30151367,  69.87706757,  69.84875488,\n",
       "        69.99028778,  69.6034317 ,  70.11295319,  69.86762238,\n",
       "        70.6601944 ,  69.03733063,  69.30151367,  69.99028778,\n",
       "        69.7921524 ,  70.15068817,  71.48105621,  72.82085419,\n",
       "        73.15107727,  72.87745667,  72.1509552 ,  71.69805145,\n",
       "        73.00954437,  71.55652618,  72.01885986,  71.56597137,\n",
       "        72.12264252,  73.05672455,  73.39639282,  73.59453583,\n",
       "        73.30203247,  73.64170837,  73.65113831,  73.7171936 ,\n",
       "        73.50018311,  74.73619843,  74.83055115,  73.46244812,\n",
       "        75.31173706,  74.68901825,  74.43427277,  74.83055115,\n",
       "        75.03810883,  75.50988007,  75.21738434,  74.95747375,\n",
       "        74.9098587 ,  74.74801636,  75.20500946,  75.66201019,\n",
       "        76.25229645,  76.71883392,  76.35702515,  77.00444794,\n",
       "        76.78546906,  78.07077789,  78.38497925,  78.56585693,\n",
       "        78.68011475,  78.40401459,  77.49953461,  77.5280838 ,\n",
       "        77.61377716,  77.41383362,  78.35639954,  79.67980957,\n",
       "        79.67980957,  79.63219452,  79.87973785,  79.3941803 ,\n",
       "        79.25135803,  79.36560822,  79.44178009,  79.47986603,\n",
       "        79.48937988,  79.41322327,  78.97525787,  78.73722839,\n",
       "        79.29897308,  78.68964386,  77.98509216,  78.43257141,\n",
       "        78.08029175,  79.12759399,  79.45128632,  79.60362244,\n",
       "        80.21297455,  79.97494507,  79.97494507,  81.26977539,\n",
       "        81.70773315,  80.23200989,  79.13711548,  79.270401  ,\n",
       "        78.88957214,  79.24184418,  79.6607666 ,  80.31769562,\n",
       "        79.05142975,  77.99460602,  78.21359253,  78.45162201,\n",
       "        78.26119232,  77.53761292,  75.09076691,  75.27164459,\n",
       "        76.29039001,  77.1282196 ,  77.93749237,  77.07015991,\n",
       "        83.85126495,  83.17890167,  83.71678925,  85.92591858,\n",
       "        85.48409271,  84.38913727,  84.75411987,  85.66660309,\n",
       "        85.17674255,  86.05079651,  86.26210022,  87.59718323,\n",
       "        87.89495087,  87.68363953,  87.75086975,  88.75939178,\n",
       "        89.03793335,  89.77750397,  89.79671478,  90.12329865,\n",
       "        90.11367798,  89.60462952,  88.46163177,  87.79888916,\n",
       "        87.92375946,  88.30796051,  89.05714417,  89.33568573,\n",
       "        89.15319061,  90.77642822,  89.63344574,  89.62384033,\n",
       "        89.85436249,  88.79781342,  89.35489655,  90.20012665,\n",
       "        90.31539154,  92.6782074 ,  92.82228088,  89.10516357,\n",
       "        88.83623505,  88.13506317,  87.38587952,  87.37628174,\n",
       "        83.90887451,  86.53103638,  88.38478088,  87.57798004,\n",
       "        88.28874969,  87.67402649,  87.05931854,  88.83623505,\n",
       "        88.48085022,  88.80741882,  87.35707092,  87.568367  ,\n",
       "        88.14466858,  87.54915619,  88.37519836,  87.76048279,\n",
       "        87.74789429,  88.50299835,  87.55426788,  91.81386566,\n",
       "        91.29110718,  90.61343384,  90.53598022,  90.55534363,\n",
       "        91.50408173,  93.39186096,  94.35995483,  94.90208435,\n",
       "        94.33090973,  94.79559326,  94.04047394,  94.59230804,\n",
       "        95.13442993,  96.0928421 ,  96.07347107,  95.318367  ,\n",
       "        95.33773041,  96.79954529,  96.11220551,  96.59625244,\n",
       "        97.05124664,  96.39294434,  96.64466095,  95.75402069,\n",
       "        95.40550232,  95.2990036 ,  95.71528625,  95.9282608 ,\n",
       "        95.77337646,  95.40550232,  95.26996613,  96.40263367,\n",
       "        96.85764313,  97.95158386,  98.08711243,  99.17137909,\n",
       "        98.27105713,  98.64860535,  98.47434998,  99.21977997,\n",
       "        98.4162674 ,  98.70668793,  99.73287201,  99.61669922,\n",
       "       100.24595642, 100.73001099, 100.33307648, 100.4395752 ,\n",
       "       100.38149261, 100.12979889, 100.34276581, 101.62065887,\n",
       "       101.32054138, 101.31085968, 101.40766907, 101.70777893,\n",
       "       102.35640717, 103.02437592, 103.19597626, 103.39096069,\n",
       "       103.35195923, 100.57342529, 101.09013367, 100.69041443,\n",
       "       103.20571899, 102.15280151, 103.81018066, 102.29903412,\n",
       "       102.91323853, 103.42020416, 103.03023529, 102.07479858,\n",
       "       102.43552399, 101.62633514, 103.35195923, 103.44944763,\n",
       "       102.95223999, 104.0246582 , 105.39930725, 104.75585175,\n",
       "       104.63886261, 103.70294189, 104.04415894, 104.08315277,\n",
       "       104.01490784, 101.84082031, 101.5776062 , 102.68901062,\n",
       "       100.32969666, 101.19737244, 102.05531311, 104.0539093 ,\n",
       "       104.68760681, 106.04275513, 105.99401093, 106.63745117,\n",
       "       106.92993927, 108.12910461, 108.41182709, 108.20709991,\n",
       "       106.8519516 , 107.65138245, 108.93828583, 108.41182709,\n",
       "       109.5134964 , 108.9187851 , 106.97868347, 107.02742767,\n",
       "       106.9006958 , 107.71962738, 108.68481445, 111.21961975,\n",
       "       110.31293488, 111.19036865, 110.0789566 , 110.89788818,\n",
       "       111.51209259, 112.10679626, 112.58451843, 112.98423004,\n",
       "       113.03298187, 113.27436829, 112.85243225, 113.13699341,\n",
       "       111.71418762, 110.48764801, 110.65445709, 112.57769012,\n",
       "       113.82386017, 118.15113831, 115.82559204, 114.54016876,\n",
       "       114.2556076 , 110.95864868, 112.13612366, 113.3528595 ,\n",
       "       115.23684692, 114.5892334 , 113.85329437, 115.05040741,\n",
       "       113.61779785, 115.18778229, 116.94421387, 117.98432159,\n",
       "       116.66946411, 116.96382141, 117.17969513, 115.11909485,\n",
       "       117.08158112, 118.28850555, 119.12255859, 118.90668488,\n",
       "       117.97451019, 119.08331299, 120.89859772, 120.45704651,\n",
       "       120.56498718, 119.87811279, 117.631073  , 118.99499512,\n",
       "       120.46685791, 119.82905579, 117.50351715, 118.8870697 ,\n",
       "       119.13237762, 119.61318207, 119.94680023, 120.90842438,\n",
       "       121.29109955, 120.71216583, 121.97796631, 122.23309326,\n",
       "       122.04665375, 121.52659607, 118.80856323, 119.45618439,\n",
       "       121.67378998, 120.53554535, 118.66138458, 119.69168091,\n",
       "       119.6524353 , 118.81837463, 117.79788971, 115.0013504 ,\n",
       "       115.32516479, 115.17308044, 116.00258636, 117.59247589,\n",
       "       120.65375519, 121.46350861, 123.23114777, 121.71038818,\n",
       "       121.93751526, 122.05601501, 123.37928009, 122.95464325,\n",
       "       122.32263947, 117.58260345, 117.41472626, 118.81698608,\n",
       "       118.12574005, 118.20472717, 117.83935547, 117.78010559,\n",
       "       119.14286804, 118.99473572, 119.03424072, 120.36737061,\n",
       "       119.90324402, 120.76237488, 118.83673096, 118.78736115,\n",
       "       119.00461578, 120.73274994, 120.23899841, 120.5352478 ,\n",
       "       121.18701172, 121.41413116, 122.97439575, 123.0632782 ,\n",
       "       122.63864136, 123.31015015, 122.71764374, 123.10277557,\n",
       "       123.01389313, 123.90265656, 123.99153137, 123.74465179,\n",
       "       122.46089935, 123.35951996, 123.79402924, 123.33977509,\n",
       "       123.65577698, 123.65577698, 124.51490784, 122.91514587,\n",
       "       123.33977509, 121.86839294, 121.04875183, 121.21663666,\n",
       "       120.46612549, 120.97962952, 122.30289459, 122.42138672,\n",
       "       123.32002258, 123.13240051, 124.38652802, 124.49516296,\n",
       "       124.83091736, 124.51490784, 124.73215485, 124.16196442,\n",
       "       124.31096649, 124.85733032, 125.19507599, 124.23149872,\n",
       "       125.11560059, 123.79441833, 124.28116608, 124.82752991,\n",
       "       125.96990204, 126.29772186, 125.24474335, 125.33414459,\n",
       "       123.33746338, 122.632164  , 124.132164  , 125.30434418,\n",
       "       124.04276276, 124.6089859 , 125.74143219, 125.86063385,\n",
       "       122.48316193, 120.62554932, 119.3639679 , 112.74808502,\n",
       "       112.47987366, 118.76793671, 117.387146  , 123.67520905,\n",
       "       120.82421875, 120.85402679, 115.29112244, 119.75138092,\n",
       "       110.8507309 , 101.16532135, 113.31430817, 107.78120422,\n",
       "       117.4566803 , 116.67191315, 110.09577179, 101.75141907,\n",
       "        97.05274963, 102.58585358, 100.25141907, 106.66862488,\n",
       "       109.44013977, 114.23814392, 109.27127075, 108.60571289,\n",
       "       113.64212036, 114.31761932, 117.02952576, 112.0229187 ,\n",
       "       114.33747864, 113.90039825, 115.18184662, 120.15866089,\n",
       "       120.41693878, 120.69508362, 123.86395264])"
      ]
     },
     "execution_count": 3,
     "metadata": {},
     "output_type": "execute_result"
    }
   ],
   "source": [
    "close"
   ]
  },
  {
   "cell_type": "code",
   "execution_count": 4,
   "metadata": {},
   "outputs": [
    {
     "data": {
      "text/html": [
       "<div>\n",
       "<style scoped>\n",
       "    .dataframe tbody tr th:only-of-type {\n",
       "        vertical-align: middle;\n",
       "    }\n",
       "\n",
       "    .dataframe tbody tr th {\n",
       "        vertical-align: top;\n",
       "    }\n",
       "\n",
       "    .dataframe thead th {\n",
       "        text-align: right;\n",
       "    }\n",
       "</style>\n",
       "<table border=\"1\" class=\"dataframe\">\n",
       "  <thead>\n",
       "    <tr style=\"text-align: right;\">\n",
       "      <th></th>\n",
       "      <th>macd</th>\n",
       "      <th>macdsignal</th>\n",
       "      <th>macdhist</th>\n",
       "    </tr>\n",
       "  </thead>\n",
       "  <tbody>\n",
       "    <tr>\n",
       "      <th>0</th>\n",
       "      <td>-0.135658</td>\n",
       "      <td>-0.652009</td>\n",
       "      <td>0.516351</td>\n",
       "    </tr>\n",
       "    <tr>\n",
       "      <th>1</th>\n",
       "      <td>0.023795</td>\n",
       "      <td>-0.516848</td>\n",
       "      <td>0.540643</td>\n",
       "    </tr>\n",
       "    <tr>\n",
       "      <th>2</th>\n",
       "      <td>0.269327</td>\n",
       "      <td>-0.359613</td>\n",
       "      <td>0.628940</td>\n",
       "    </tr>\n",
       "    <tr>\n",
       "      <th>3</th>\n",
       "      <td>0.417575</td>\n",
       "      <td>-0.204175</td>\n",
       "      <td>0.621751</td>\n",
       "    </tr>\n",
       "    <tr>\n",
       "      <th>4</th>\n",
       "      <td>0.593818</td>\n",
       "      <td>-0.044577</td>\n",
       "      <td>0.638395</td>\n",
       "    </tr>\n",
       "  </tbody>\n",
       "</table>\n",
       "</div>"
      ],
      "text/plain": [
       "       macd  macdsignal  macdhist\n",
       "0 -0.135658   -0.652009  0.516351\n",
       "1  0.023795   -0.516848  0.540643\n",
       "2  0.269327   -0.359613  0.628940\n",
       "3  0.417575   -0.204175  0.621751\n",
       "4  0.593818   -0.044577  0.638395"
      ]
     },
     "execution_count": 4,
     "metadata": {},
     "output_type": "execute_result"
    }
   ],
   "source": [
    "macd, macdsignal, macdhist = talib.MACD(close, fastperiod=5, slowperiod=20, signalperiod=9)\n",
    "macdhist = macdhist[~np.isnan(macdhist)]\n",
    "macd = macd[-len(macdhist):]\n",
    "macdsignal = macdsignal[-len(macdhist):]\n",
    "\n",
    "\n",
    "pd.DataFrame({'macd': macd, 'macdsignal': macdsignal, 'macdhist': macdhist}).head()"
   ]
  },
  {
   "cell_type": "code",
   "execution_count": 5,
   "metadata": {},
   "outputs": [],
   "source": [
    "def prepare_dataset(close):\n",
    "    \"\"\"\n",
    "    Function prepare_dataset to generate input data and trading strategy from stock close prices\n",
    "    \"\"\"\n",
    "\n",
    "    macd, macdsignal, macdhist = talib.MACD(close, fastperiod=12, slowperiod=26, signalperiod=9)\n",
    "\n",
    "    # Cancel NaN values\n",
    "    macdhist = macdhist[~np.isnan(macdhist)]\n",
    "    macd = macd[-len(macdhist):]\n",
    "    macdsignal = macdsignal[-len(macdhist):]\n",
    "\n",
    "    # Scaling features to a range [0, 1]\n",
    "    min_max_scaler = preprocessing.MinMaxScaler(feature_range=(-1, 1))\n",
    "    macdhist_norm = min_max_scaler.fit_transform(np.expand_dims(macdhist, axis=1))\n",
    "\n",
    "    # Implement strategy\n",
    "    start_sell = 0.2\n",
    "    stop_sell = 0.05\n",
    "    start_buy = -0.2\n",
    "    stop_buy = -0.05\n",
    "\n",
    "    y = np.full(len(macdhist), np.nan)\n",
    "    y[0] = 0\n",
    "\n",
    "    for i in range(1, len(macdhist)):\n",
    "\n",
    "        if y[i-1] == 0:\n",
    "            if (macdhist_norm[i] >= start_sell):\n",
    "                # Enter sell position\n",
    "                y[i] = -1\n",
    "            elif (macdhist_norm[i] <= start_buy):\n",
    "                # Enter buy position\n",
    "                y[i] = 1\n",
    "            else:\n",
    "                y[i] = 0\n",
    "        elif y[i-1] == -1:\n",
    "            if macdhist_norm[i] > stop_sell:\n",
    "                # Stay in sell position\n",
    "                y[i] = -1\n",
    "            else:\n",
    "                # Leave sell position\n",
    "                y[i] = 0\n",
    "        else:\n",
    "            if macdhist_norm[i] < stop_buy:\n",
    "                # Stay in buy position\n",
    "                y[i] = 1\n",
    "            else:\n",
    "                # Leave buy position\n",
    "                y[i] = 0\n",
    "\n",
    "    # Plot strategy\n",
    "    dates = np.arange(len(macdhist))\n",
    "    plt.plot(dates, y,'g', label='Strategy Positions')\n",
    "    plt.bar(dates, macdhist_norm[:, 0], width=1, color='blue', label='MACD histogram')\n",
    "    plt.plot(dates, start_sell * np.ones(len(macdhist)), 'k--', lw=1)\n",
    "    plt.plot(dates, stop_sell * np.ones(len(macdhist)), 'k--', lw=1)\n",
    "    plt.plot(dates, start_buy * np.ones(len(macdhist)), 'k--', lw=1)\n",
    "    plt.plot(dates, stop_buy * np.ones(len(macdhist)), 'k--', lw=1)\n",
    "    plt.xlabel('Days')\n",
    "    plt.xlim((0, len(y)))\n",
    "    plt.legend()\n",
    "    # plt.savefig('images/AAL_macd.png', bbox_inches='tight')\n",
    "    plt.show()\n",
    "    \n",
    "    # Generate input data - technical indicators\n",
    "    ind1 = talib.MIDPOINT(close)    # Overlap: MidPoint over period\n",
    "    ind2 = talib.HT_DCPERIOD(close) # Cycle Indicator Functions:  Hilbert Transform - Dominant Cycle Period\n",
    "    ind3 = talib.MAX(close)         # Math Operator: Highest value over a specified period\n",
    "    ind4 = talib.SIN(close)         # Math Transform: Vector Trigonometric Sin\n",
    "    ind5 = talib.APO(close)         # Momentum: Absolute Price Oscillator\n",
    "    ind6 = talib.TEMA(close, timeperiod=5) ## Triple Exponential Moving Average\n",
    "\n",
    "    x = np.vstack((macdhist, macd, macdsignal, ind1[-len(macdhist):], ind2[-len(macdhist):],\n",
    "                   ind3[-len(macdhist):], ind4[-len(macdhist):], ind5[-len(macdhist):],\n",
    "                   ind6[-len(macdhist):]))\n",
    "    x = x.T\n",
    "\n",
    "    return x, y"
   ]
  },
  {
   "cell_type": "code",
   "execution_count": 6,
   "metadata": {},
   "outputs": [
    {
     "data": {
      "image/png": "[encoded data removed]",
      "text/plain": [
       "<Figure size 432x288 with 1 Axes>"
      ]
     },
     "metadata": {
      "needs_background": "light"
     },
     "output_type": "display_data"
    }
   ],
   "source": [
    "# Implement MACD trading strategy\n",
    "X, y = prepare_dataset(close)"
   ]
  },
  {
   "cell_type": "code",
   "execution_count": 7,
   "metadata": {},
   "outputs": [
    {
     "data": {
      "text/plain": [
       "array([ 0.44850727,  0.14436786, -0.30413941, 79.8003006 , 17.21176483,\n",
       "       82.23538208, -0.51627917,  0.51010259, 81.25078884])"
      ]
     },
     "execution_count": 7,
     "metadata": {},
     "output_type": "execute_result"
    }
   ],
   "source": [
    "X[0]"
   ]
  },
  {
   "cell_type": "code",
   "execution_count": 8,
   "metadata": {},
   "outputs": [],
   "source": [
    "# Split dataset\n",
    "n_train = int(X.shape[0] * 0.8)\n",
    "\n",
    "X_train, y_train = X[:n_train], y[:n_train]\n",
    "X_test, y_test = X[n_train:], y[n_train:]"
   ]
  },
  {
   "cell_type": "code",
   "execution_count": 9,
   "metadata": {},
   "outputs": [],
   "source": [
    "# Normalize data\n",
    "scaler = preprocessing.MinMaxScaler()\n",
    "\n",
    "X_train = scaler.fit_transform(X_train)\n",
    "X_test = scaler.transform(X_test)"
   ]
  },
  {
   "cell_type": "code",
   "execution_count": 10,
   "metadata": {},
   "outputs": [
    {
     "name": "stdout",
     "output_type": "stream",
     "text": [
      "[-1.  0.  1.]\n"
     ]
    }
   ],
   "source": [
    "# Encode trading signal with integers between 0 and n-1 classes\n",
    "le = preprocessing.LabelEncoder()\n",
    "\n",
    "y_train = le.fit_transform(y_train)\n",
    "y_test = le.transform(y_test)\n",
    "\n",
    "print(le.classes_)"
   ]
  },
  {
   "cell_type": "code",
   "execution_count": 11,
   "metadata": {},
   "outputs": [],
   "source": [
    "## Create and train the Agent\n",
    "# Variable definiton\n",
    "episodes = 20\n",
    "look_back = 5\n",
    "batch_size = 32\n",
    "action_size = len(le.classes_)\n",
    "n_features = X_train.shape[1]"
   ]
  },
  {
   "cell_type": "code",
   "execution_count": 12,
   "metadata": {},
   "outputs": [],
   "source": [
    "# Create Agent\n",
    "agent = Agent(look_back, action_size, n_features)"
   ]
  },
  {
   "cell_type": "code",
   "execution_count": 13,
   "metadata": {},
   "outputs": [],
   "source": [
    "def run(agent, dataX, dataY, episodes, look_back):\n",
    "    \"\"\"\n",
    "    Function run to train the agent\n",
    "    \"\"\"\n",
    "    \n",
    "    # Length of dataset\n",
    "    times = len(dataX)\n",
    "\n",
    "    # List of total rewards\n",
    "    total_reward_list = []\n",
    "\n",
    "    for ep in range(episodes):\n",
    "\n",
    "        # print('Episode: ' + str(ep))\n",
    "        \n",
    "        # Initial state and position\n",
    "        state = dataX[:look_back, :][np.newaxis, :, :]\n",
    "        pos = dataY[look_back - 1]\n",
    "\n",
    "        done = False\n",
    "        total_reward = 0\n",
    "\n",
    "        for t in range(1, times - look_back + 1):\n",
    "\n",
    "            # Predict action based on the current state\n",
    "            action = agent.act(state)\n",
    "\n",
    "            # Calculate reward\n",
    "            if action == pos:   # 0:-1      1:0     2:1\n",
    "                reward = +1\n",
    "\n",
    "            elif (pos == 0 or pos == 2):\n",
    "                if action == 1:\n",
    "                    reward = 0\n",
    "                else:\n",
    "                    reward = -1\n",
    "            else:\n",
    "                reward = -1\n",
    "\n",
    "            total_reward += reward\n",
    "\n",
    "            # Final state\n",
    "            if t == times - look_back:\n",
    "                done = True\n",
    "\n",
    "            # Receive next state and position\n",
    "            next_state = dataX[t:t + look_back, :][np.newaxis, :, :]\n",
    "            next_pos = dataY[t + look_back - 1]\n",
    "            \n",
    "            # Remember current experience\n",
    "            agent.remember(state, action, reward, next_state, done)\n",
    "            \n",
    "            # Make next_state the new current state; the same for pos\n",
    "            state = next_state\n",
    "            pos = next_pos\n",
    "\n",
    "            if done:\n",
    "                print('Episode: %i ---> Total Reward: %i' %(ep, total_reward))\n",
    "                total_reward_list.append(total_reward)\n",
    "\n",
    "            # Train the agent with previous experiences\n",
    "            if len(agent.memory) > batch_size:\n",
    "                agent.replay(batch_size)\n",
    "\n",
    "        if (ep + 1) % 5 == 0 and ep > 0:\n",
    "            file = 'checkpoints/' + symbol + '_robot_checkpoint' + str(ep + 1)\n",
    "            # Serialize weights to HDF5\n",
    "            agent.model.save_weights(file + \".h5\")\n",
    "            # Save epsilon\n",
    "            pickle.dump(agent.epsilon, open(file + \"_epsilon.pickle\", \"wb\"))\n",
    "\n",
    "    # Save list of rewards along the epochs\n",
    "    np.savetxt(file + '_total_reward.txt', total_reward_list)\n",
    "\n",
    "    return\n"
   ]
  },
  {
   "cell_type": "code",
   "execution_count": 14,
   "metadata": {},
   "outputs": [
    {
     "name": "stdout",
     "output_type": "stream",
     "text": [
      "Episode: 0 ---> Total Reward: 149\n",
      "Episode: 1 ---> Total Reward: 383\n",
      "Episode: 2 ---> Total Reward: 426\n",
      "Episode: 3 ---> Total Reward: 407\n",
      "Episode: 4 ---> Total Reward: 426\n",
      "Episode: 5 ---> Total Reward: 412\n",
      "Episode: 6 ---> Total Reward: 430\n",
      "Episode: 7 ---> Total Reward: 437\n",
      "Episode: 8 ---> Total Reward: 442\n",
      "Episode: 9 ---> Total Reward: 453\n",
      "Episode: 10 ---> Total Reward: 450\n",
      "Episode: 11 ---> Total Reward: 438\n",
      "Episode: 12 ---> Total Reward: 459\n",
      "Episode: 13 ---> Total Reward: 437\n",
      "Episode: 14 ---> Total Reward: 432\n",
      "Episode: 15 ---> Total Reward: 451\n",
      "Episode: 16 ---> Total Reward: 449\n",
      "Episode: 17 ---> Total Reward: 456\n",
      "Episode: 18 ---> Total Reward: 472\n",
      "Episode: 19 ---> Total Reward: 436\n"
     ]
    }
   ],
   "source": [
    "# Train Agent\n",
    "run(agent, X_train, y_train, episodes, look_back)"
   ]
  },
  {
   "cell_type": "code",
   "execution_count": 15,
   "metadata": {},
   "outputs": [
    {
     "data": {
      "image/png": "[encoded data removed]",
      "text/plain": [
       "<Figure size 432x288 with 1 Axes>"
      ]
     },
     "metadata": {
      "needs_background": "light"
     },
     "output_type": "display_data"
    }
   ],
   "source": [
    "# Load rewards\n",
    "total_reward_list = np.loadtxt( 'checkpoints/'+ symbol + '_robot_checkpoint' + str(episodes) + '_total_reward.txt')\n",
    "# Plot\n",
    "plt.figure()\n",
    "plt.plot(np.arange(1, episodes+1), total_reward_list)\n",
    "plt.xlabel('Episodes')\n",
    "plt.ylabel('Total Reward')\n",
    "plt.show()"
   ]
  },
  {
   "cell_type": "code",
   "execution_count": 16,
   "metadata": {},
   "outputs": [
    {
     "data": {
      "text/plain": [
       "array([149., 383., 426., 407., 426., 412., 430., 437., 442., 453., 450.,\n",
       "       438., 459., 437., 432., 451., 449., 456., 472., 436.])"
      ]
     },
     "execution_count": 16,
     "metadata": {},
     "output_type": "execute_result"
    }
   ],
   "source": [
    "total_reward_list"
   ]
  },
  {
   "cell_type": "code",
   "execution_count": 17,
   "metadata": {},
   "outputs": [],
   "source": [
    "def evaluate(agent, dataX, dataY, look_back):\n",
    "    \"\"\"\n",
    "    Function run to evaluate the trained agent\n",
    "    \"\"\"\n",
    "    \n",
    "    # Length of dataset\n",
    "    times = len(dataX)\n",
    "\n",
    "    # Initial state and position\n",
    "    state = dataX[:look_back, :][np.newaxis, :, :]\n",
    "    pos = dataY[look_back - 1]\n",
    "\n",
    "    # List of predicted positions\n",
    "    pos_list = []\n",
    "    \n",
    "    done = False\n",
    "    total_reward = 0\n",
    "    \n",
    "    for t in range(1, times - look_back + 1):\n",
    "\n",
    "        # Predict action based on the current state\n",
    "        action = agent.act(state)\n",
    "\n",
    "        # Calculate reward\n",
    "        if action == pos:   # 0:-1      1:0     2:1\n",
    "            reward = +1\n",
    "\n",
    "        elif (pos == 0 or pos == 2):\n",
    "            if action == 1:\n",
    "                reward = 0\n",
    "            else:\n",
    "                reward = -1\n",
    "        else:\n",
    "            reward = -1\n",
    "\n",
    "        pos_list.append(action)\n",
    "        total_reward += reward\n",
    "\n",
    "        # Final state\n",
    "        if t == times - look_back:\n",
    "            done = True\n",
    "\n",
    "        # Receive next state and position\n",
    "        next_state = dataX[t:t + look_back, :][np.newaxis, :, :]\n",
    "        next_pos = dataY[t + look_back - 1]\n",
    "\n",
    "        # Remember current experience\n",
    "        agent.remember(state, action, reward, next_state, done)\n",
    "\n",
    "        # Make next_state the new current state; the same for pos\n",
    "        state = next_state\n",
    "        pos = next_pos\n",
    "\n",
    "        if done:\n",
    "            print('Total Reward: %i' % total_reward)\n",
    "\n",
    "    return np.array(pos_list)"
   ]
  },
  {
   "cell_type": "code",
   "execution_count": 18,
   "metadata": {},
   "outputs": [
    {
     "name": "stdout",
     "output_type": "stream",
     "text": [
      "Total Reward: 37\n",
      "Accuracy: 59.29 %\n"
     ]
    }
   ],
   "source": [
    "# Evaluate the model\n",
    "# Make predictions\n",
    "y_pred_test = evaluate(agent, X_test, y_test, look_back)\n",
    "\n",
    "# Calculate and print accuracy\n",
    "acc = accuracy_score(y_test[look_back-1:-1], y_pred_test)\n",
    "\n",
    "print('Accuracy: %.2f %%' % (acc*100))"
   ]
  },
  {
   "cell_type": "code",
   "execution_count": 19,
   "metadata": {},
   "outputs": [
    {
     "name": "stdout",
     "output_type": "stream",
     "text": [
      "      1-Precision  2-Recall  3-F1 score  4-Support\n",
      "-1.0        0.000     0.000       0.000         18\n",
      " 0.0        0.607     0.309       0.410         55\n",
      " 1.0        0.589     0.985       0.737         67\n"
     ]
    },
    {
     "name": "stderr",
     "output_type": "stream",
     "text": [
      "C:\\Users\\Elid-PC.DESKTOP-MG9DS93\\anaconda3\\lib\\site-packages\\sklearn\\metrics\\_classification.py:1272: UndefinedMetricWarning: Precision and F-score are ill-defined and being set to 0.0 in labels with no predicted samples. Use `zero_division` parameter to control this behavior.\n",
      "  _warn_prf(average, modifier, msg_start, len(result))\n"
     ]
    }
   ],
   "source": [
    "# Calculate and print precision, recall, f1 score and support\n",
    "p, r, f1, s = precision_recall_fscore_support(y_test[look_back-1:-1], y_pred_test, average=None)\n",
    "results = pd.DataFrame({'1-Precision': p, '2-Recall': r, '3-F1 score': f1, '4-Support': s}, index=le.classes_)\n",
    "\n",
    "print(results.round(decimals=3))"
   ]
  },
  {
   "cell_type": "code",
   "execution_count": 20,
   "metadata": {},
   "outputs": [],
   "source": [
    "# Decodificate labels\n",
    "y_true_test = le.inverse_transform(y_test[look_back-1:-1])\n",
    "y_pred_test = le.inverse_transform(y_pred_test)"
   ]
  },
  {
   "cell_type": "code",
   "execution_count": 21,
   "metadata": {},
   "outputs": [
    {
     "data": {
      "image/png": "[encoded data removed]",
      "text/plain": [
       "<Figure size 432x288 with 1 Axes>"
      ]
     },
     "metadata": {
      "needs_background": "light"
     },
     "output_type": "display_data"
    }
   ],
   "source": [
    "# Plot strategy\n",
    "plt.figure()\n",
    "plt.plot(y_true_test, label='true')\n",
    "plt.plot(y_pred_test, label='pred')\n",
    "plt.legend()\n",
    "plt.show()"
   ]
  },
  {
   "cell_type": "code",
   "execution_count": null,
   "metadata": {},
   "outputs": [],
   "source": []
  }
 ],
 "metadata": {
  "kernelspec": {
   "display_name": "Python 3",
   "language": "python",
   "name": "python3"
  },
  "language_info": {
   "codemirror_mode": {
    "name": "ipython",
    "version": 3
   },
   "file_extension": ".py",
   "mimetype": "text/x-python",
   "name": "python",
   "nbconvert_exporter": "python",
   "pygments_lexer": "ipython3",
   "version": "3.7.6"
  }
 },
 "nbformat": 4,
 "nbformat_minor": 2
}
