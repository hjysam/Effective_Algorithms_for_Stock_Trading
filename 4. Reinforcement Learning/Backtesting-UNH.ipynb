{
 "cells": [
  {
   "cell_type": "code",
   "execution_count": 1,
   "metadata": {
    "scrolled": true
   },
   "outputs": [
    {
     "name": "stderr",
     "output_type": "stream",
     "text": [
      "C:\\Users\\Elid-PC.DESKTOP-MG9DS93\\anaconda3\\lib\\site-packages\\pandas_datareader\\compat\\__init__.py:7: FutureWarning: pandas.util.testing is deprecated. Use the functions in the public API at pandas.testing instead.\n",
      "  from pandas.util.testing import assert_frame_equal\n"
     ]
    },
    {
     "data": {
      "application/javascript": [
       "\n",
       "console.log('Starting front end url_querystring_target comm target');\n",
       "const comm = Jupyter.notebook.kernel.comm_manager.new_comm('url_querystring_target', {'init': 1});\n",
       "comm.send({'ipyparams_browser_url': window.location.href});\n",
       "console.log('Sent window.location.href on url_querystring_target comm target');\n",
       "\n",
       "comm.on_msg(function(msg) {\n",
       "    console.log(msg.content.data);\n",
       "});\n"
      ],
      "text/plain": [
       "<IPython.core.display.Javascript object>"
      ]
     },
     "metadata": {},
     "output_type": "display_data"
    },
    {
     "name": "stderr",
     "output_type": "stream",
     "text": [
      "Using TensorFlow backend.\n"
     ]
    }
   ],
   "source": [
    "# Import libraries\n",
    "import pandas as pd\n",
    "from pandas_datareader import data as pdr\n",
    "\n",
    "import numpy as np\n",
    "import matplotlib.pyplot as plt\n",
    "import pickle\n",
    "\n",
    "from sklearn import preprocessing\n",
    "from sklearn.metrics import accuracy_score\n",
    "from sklearn.metrics import precision_recall_fscore_support\n",
    "\n",
    "import talib, re, ipyparams\n",
    "\n",
    "from Agent import Agent"
   ]
  },
  {
   "cell_type": "code",
   "execution_count": 2,
   "metadata": {},
   "outputs": [
    {
     "data": {
      "text/plain": [
       "755"
      ]
     },
     "execution_count": 2,
     "metadata": {},
     "output_type": "execute_result"
    }
   ],
   "source": [
    "end_date = '2020-04-19'\n",
    "start_date = '2017-04-20'\n",
    "\n",
    "\n",
    "symbol = 'UNH'\n",
    "Date = pd.DataFrame(pdr.DataReader(symbol,'yahoo', start_date, end_date))\n",
    "\n",
    "alldata = pd.DataFrame({'Date': Date.index})\n",
    "alldata[symbol] = pdr.DataReader(symbol, 'yahoo', start_date, end_date)['Adj Close'].values\n",
    "# Stock symbol\n",
    "\n",
    "# Load close prices of to NumPy array\n",
    "close = alldata[symbol].values\n",
    "len(close)"
   ]
  },
  {
   "cell_type": "code",
   "execution_count": 3,
   "metadata": {},
   "outputs": [
    {
     "data": {
      "text/plain": [
       "array([161.67849731, 163.86602783, 163.50306702, 164.62068176,\n",
       "       166.25418091, 166.57901001, 166.81781006, 167.05661011,\n",
       "       166.77957153, 166.34973145, 164.82128906, 166.23506165,\n",
       "       166.33062744, 166.63632202, 165.48999023, 165.63327026,\n",
       "       165.56642151, 164.1239624 , 163.85647583, 160.59901428,\n",
       "       161.30592346, 163.78004456, 164.86907959, 166.88468933,\n",
       "       167.38142395, 167.73486328, 170.08480835, 169.55941772,\n",
       "       168.69010925, 167.34318542, 171.54637146, 171.36488342,\n",
       "       171.3457489 , 172.73092651, 175.01397705, 173.5619812 ,\n",
       "       173.34225464, 171.23114014, 172.9506073 , 174.20201111,\n",
       "       173.02217102, 174.22117615, 175.55447388, 175.79431152,\n",
       "       177.37695312, 178.89253235, 177.69351196, 177.56880188,\n",
       "       177.07003784, 178.12515259, 177.71272278, 177.85656738,\n",
       "       179.03642273, 180.57115173, 179.31459045, 180.29296875,\n",
       "       179.32415771, 178.36495972, 179.07479858, 177.91413879,\n",
       "       179.27618408, 178.74864197, 179.22827148, 181.4728241 ,\n",
       "       183.68858337, 183.95715332, 183.10345459, 182.63345337,\n",
       "       182.96917725, 181.22340393, 183.35284424, 183.98591614,\n",
       "       184.38877869, 185.12738037, 186.82519531, 186.93067932,\n",
       "       186.83477783, 186.94987488, 186.88275146, 184.7149353 ,\n",
       "       185.14659119, 185.80844116, 186.56620789, 185.86601257,\n",
       "       184.83964539, 183.03631592, 184.19696045, 186.84439087,\n",
       "       186.31681824, 186.8059845 , 186.43191528, 187.13214111,\n",
       "       188.70521545, 187.88990784, 190.78672791, 191.6020813 ,\n",
       "       191.18002319, 190.28794861, 190.80786133, 190.4034729 ,\n",
       "       192.16548157, 190.13386536, 190.96192932, 190.38420105,\n",
       "       190.81747437, 190.82711792, 187.41864014, 188.47776794,\n",
       "       187.95785522, 185.85882568, 184.62638855, 185.54109192,\n",
       "       187.26457214, 188.81478882, 188.5740509 , 190.10498047,\n",
       "       191.2507782 , 193.03204346, 190.54788208, 190.70195007,\n",
       "       189.00733948, 187.44752502, 188.00596619, 185.75291443,\n",
       "       185.36778259, 186.02249146, 196.31536865, 197.60554504,\n",
       "       195.69915771, 199.78161621, 199.31945801, 200.417099  ,\n",
       "       199.84901428, 201.37992859, 204.70178223, 201.61105347,\n",
       "       202.41020203, 201.74583435, 203.25750732, 204.96176147,\n",
       "       204.23960876, 204.79804993, 202.93980408, 203.70040894,\n",
       "       203.2286377 , 204.75958252, 203.84484863, 202.06356812,\n",
       "       203.28642273, 202.10209656, 202.43908691, 204.70178223,\n",
       "       203.37304688, 204.61512756, 204.50921631, 208.11024475,\n",
       "       214.59988403, 220.43511963, 219.09222412, 213.91395569,\n",
       "       212.62904358, 212.48414612, 212.68699646, 216.3195343 ,\n",
       "       215.21818542, 214.94767761, 216.74461365, 213.74967957,\n",
       "       214.30039978, 215.12155151, 214.51292419, 214.84140015,\n",
       "       214.17477417, 212.542099  , 212.15565491, 212.94787598,\n",
       "       215.21818542, 212.98649597, 213.6627655 , 215.90411377,\n",
       "       216.8412323 , 220.97613525, 217.14070129, 218.2227478 ,\n",
       "       216.59970093, 217.74935913, 220.88919067, 225.004776  ,\n",
       "       230.34729004, 234.91699219, 235.10055542, 235.30340576,\n",
       "       236.8974762 , 236.54966736, 236.86849976, 240.04696655,\n",
       "       239.02293396, 228.62763977, 228.75326538, 227.24612427,\n",
       "       224.01937866, 212.56138611, 217.54646301, 218.16481018,\n",
       "       209.12208557, 213.46954346, 218.03919983, 218.95698547,\n",
       "       221.02445984, 218.35800171, 221.59443665, 218.97631836,\n",
       "       217.4981842 , 219.39172363, 222.35766602, 226.12545776,\n",
       "       224.63768005, 218.49327087, 216.8412323 , 217.55615234,\n",
       "       220.63801575, 218.51257324, 219.56561279, 217.83058167,\n",
       "       218.50907898, 215.93074036, 219.9727478 , 218.46063232,\n",
       "       222.43476868, 220.86448669, 218.14077759, 219.81764221,\n",
       "       215.97921753, 208.60287476, 206.02452087, 212.34434509,\n",
       "       211.26843262, 211.79185486, 207.42999268, 210.5317688 ,\n",
       "       217.68521118, 221.76593018, 222.037323  , 217.08424377,\n",
       "       215.89199829, 219.82733154, 215.08744812, 217.3556366 ,\n",
       "       217.39440918, 223.24897766, 231.2263031 , 229.14228821,\n",
       "       228.5219574 , 227.84344482, 227.14555359, 227.02922058,\n",
       "       227.68835449, 229.75294495, 232.80622864, 229.14228821,\n",
       "       229.57852173, 226.29255676, 226.96138   , 228.65763855,\n",
       "       226.60272217, 224.90647888, 222.17304993, 226.53489685,\n",
       "       230.96458435, 235.44274902, 232.1471405 , 234.29898071,\n",
       "       235.50091553, 237.12931824, 240.28923035, 237.65275574,\n",
       "       236.76098633, 235.27793884, 237.42980957, 234.73513794,\n",
       "       237.42012024, 234.09542847, 235.87893677, 237.11962891,\n",
       "       236.92575073, 241.01620483, 241.33607483, 242.98390198,\n",
       "       245.9887085 , 245.79486084, 245.10664368, 247.4911499 ,\n",
       "       248.99884033, 247.91914368, 246.11958313, 245.91531372,\n",
       "       245.020401  , 247.43276978, 243.87257385, 242.95822144,\n",
       "       241.40184021, 238.22102356, 238.64903259, 240.73068237,\n",
       "       240.24430847, 243.66828918, 243.92123413, 246.75186157,\n",
       "       248.57086182, 247.64675903, 249.06697083, 251.64466858,\n",
       "       249.97161865, 243.46403503, 248.45411682, 246.0320282 ,\n",
       "       245.80831909, 245.847229  , 246.83940125, 247.90939331,\n",
       "       249.99105835, 248.96968079, 246.91720581, 246.31411743,\n",
       "       246.46003723, 249.09609985, 250.20504761, 249.75756836,\n",
       "       250.62332153, 251.75169373, 254.45588684, 253.25939941,\n",
       "       253.79444885, 256.29431152, 253.50257874, 255.92466736,\n",
       "       255.17567444, 255.24378967, 254.55310059, 253.62905884,\n",
       "       254.29049683, 257.07250977, 259.79611206, 261.18713379,\n",
       "       261.66375732, 261.07043457, 261.13845825, 261.18713379,\n",
       "       260.34088135, 263.18103027, 261.84387207, 253.4990387 ,\n",
       "       254.77764893, 256.36853027, 259.12084961, 258.94512939,\n",
       "       257.53970337, 256.97363281, 258.96469116, 259.99926758,\n",
       "       260.27252197, 260.94598389, 257.18835449, 256.60275269,\n",
       "       258.30099487, 259.65765381, 262.64428711, 264.13757324,\n",
       "       264.40106201, 261.88296509, 262.74182129, 262.556427  ,\n",
       "       263.63000488, 256.76864624, 250.95162964, 253.38188171,\n",
       "       254.00654602, 266.03100586, 260.88742065, 260.40921021,\n",
       "       258.9354248 , 255.90002441, 258.50592041, 250.17085266,\n",
       "       257.90081787, 251.9861908 , 250.36602783, 252.08381653,\n",
       "       255.08016968, 254.67019653, 254.74835205, 254.74835205,\n",
       "       257.21765137, 268.04156494, 270.01312256, 269.91546631,\n",
       "       265.84555054, 262.76141357, 258.60354614, 258.58404541,\n",
       "       264.60598755, 259.66738892, 255.22659302, 254.29936218,\n",
       "       255.34368896, 259.77481079, 264.64505005, 274.20996094,\n",
       "       275.77157593, 275.48760986, 280.35388184, 272.73626709,\n",
       "       271.07177734, 263.5617981 , 260.96716309, 261.64273071,\n",
       "       264.99139404, 266.46981812, 259.48864746, 252.68373108,\n",
       "       247.69017029, 245.0856781 , 237.37992859, 233.36550903,\n",
       "       228.07821655, 238.27096558, 240.83624268, 241.10063171,\n",
       "       243.92050171, 238.40803528, 231.90661621, 234.61878967,\n",
       "       235.06921387, 238.21220398, 238.55488586, 239.75921631,\n",
       "       242.50079346, 242.88264465, 251.50875854, 256.00296021,\n",
       "       254.34820557, 259.95864868, 260.14468384, 261.44692993,\n",
       "       260.57553101, 262.45544434, 261.20214844, 261.76025391,\n",
       "       264.72702026, 264.56054688, 263.11141968, 262.61209106,\n",
       "       260.7517395 , 263.87515259, 263.3855896 , 256.43377686,\n",
       "       251.77314758, 258.00039673, 258.29412842, 259.79220581,\n",
       "       265.47113037, 264.76620483, 263.88497925, 260.83984375,\n",
       "       261.5350647 , 259.07739258, 257.49124146, 244.86047363,\n",
       "       237.16453552, 241.01251221, 231.09396362, 236.39102173,\n",
       "       234.08029175, 231.75973511, 233.22419739, 238.98379517,\n",
       "       241.66703796, 247.92788696, 248.93041992, 247.092453  ,\n",
       "       250.63078308, 252.72428894, 246.20788574, 247.70184326,\n",
       "       242.85629272, 242.63024902, 239.21968079, 237.5684967 ,\n",
       "       238.07955933, 243.02339172, 241.33285522, 240.222229  ,\n",
       "       241.62773132, 243.15116882, 244.51734924, 244.487854  ,\n",
       "       244.5271759 , 241.81446838, 231.38626099, 219.39529419,\n",
       "       226.25570679, 217.17404175, 213.12461853, 217.95048523,\n",
       "       223.21864319, 226.62919617, 226.40313721, 226.83560181,\n",
       "       232.93917847, 233.38148499, 229.07652283, 227.97572327,\n",
       "       228.46713257, 227.97572327, 236.37922668, 233.97120667,\n",
       "       235.05235291, 233.89256287, 236.46768188, 235.44551086,\n",
       "       232.37896729, 232.03495789, 232.73278809, 237.24414062,\n",
       "       241.77516174, 245.65748596, 245.06773376, 242.27639771,\n",
       "       243.3870697 , 237.91249084, 238.24665833, 239.32781982,\n",
       "       237.6569519 , 232.50672913, 236.63478088, 238.61030579,\n",
       "       237.67660522, 242.54179382, 243.88830566, 241.6572113 ,\n",
       "       240.31069946, 240.76280212, 242.23376465, 242.82609558,\n",
       "       242.55952454, 246.99215698, 244.59320068, 249.05543518,\n",
       "       246.44918823, 244.49447632, 240.35804749, 243.19134521,\n",
       "       240.89112854, 239.53865051, 240.85163879, 242.07582092,\n",
       "       243.83306885, 244.67218018, 242.85571289, 244.31677246,\n",
       "       257.82192993, 262.50134277, 262.56060791, 261.27722168,\n",
       "       263.24172974, 257.26907349, 253.36958313, 252.05657959,\n",
       "       251.75054932, 247.92015076, 245.5211792 , 249.70701599,\n",
       "       250.57575989, 251.67155457, 245.82723999, 246.06416321,\n",
       "       246.85394287, 241.92771912, 245.10655212, 243.29995728,\n",
       "       244.45500183, 245.45210266, 240.0914917 , 246.03453064,\n",
       "       240.0914917 , 241.12808228, 242.54968262, 241.58221436,\n",
       "       237.09036255, 237.27793884, 229.96264648, 227.71177673,\n",
       "       228.12641907, 220.08058167, 224.4440918 , 227.67228699,\n",
       "       231.00907898, 227.67228699, 223.83200073, 226.65545654,\n",
       "       226.07301331, 227.73152161, 229.48878479, 231.21641541,\n",
       "       227.15895081, 231.71165466, 232.52497864, 230.63050842,\n",
       "       228.73602295, 230.95780945, 230.9974823 , 226.91098022,\n",
       "       223.17160034, 220.36459351, 213.72895813, 213.51074219,\n",
       "       215.55401611, 215.44491577, 214.98864746, 213.60993958,\n",
       "       218.01387024, 219.44216919, 218.32133484, 220.27534485,\n",
       "       221.91192627, 220.26541138, 218.79743958, 236.65116882,\n",
       "       235.06417847, 241.68988037, 243.34631348, 241.93785095,\n",
       "       247.4526825 , 245.78633118, 242.52307129, 242.91983032,\n",
       "       245.04243469, 250.23983765, 252.72944641, 250.64651489,\n",
       "       250.16049194, 249.20829773, 248.26602173, 248.48423767,\n",
       "       254.37594604, 254.88182068, 252.02520752, 253.17579651,\n",
       "       251.50944519, 253.75108337, 267.21081543, 270.71212769,\n",
       "       272.0015564 , 273.32073975, 274.30267334, 274.59033203,\n",
       "       280.37298584, 279.11328125, 278.38922119, 277.59570312,\n",
       "       277.38745117, 274.64987183, 277.05020142, 279.70840454,\n",
       "       278.98156738, 276.34298706, 278.31445312, 279.29022217,\n",
       "       282.38677979, 284.24874878, 290.77050781, 289.21722412,\n",
       "       291.63674927, 293.3493042 , 291.32806396, 293.81729126,\n",
       "       293.26968384, 294.37487793, 294.69351196, 292.5826416 ,\n",
       "       292.71209717, 291.23846436, 288.29122925, 290.2925415 ,\n",
       "       288.54016113, 294.62380981, 292.9510498 , 293.8571167 ,\n",
       "       284.61715698, 286.99682617, 295.13162231, 299.44293213,\n",
       "       297.18270874, 299.23382568, 299.2935791 , 298.16842651,\n",
       "       291.54711914, 282.86474609, 284.63705444, 281.67987061,\n",
       "       279.76815796, 271.27496338, 272.83816528, 279.62875366,\n",
       "       294.45455933, 291.19863892, 287.97262573, 285.79205322,\n",
       "       289.53585815, 302.17111206, 300.89663696, 297.49139404,\n",
       "       300.83691406, 303.9932251 , 300.82693481, 300.12994385,\n",
       "       276.59191895, 262.25402832, 261.86569214, 252.82485962,\n",
       "       253.86038208, 271.93206787, 260.27258301, 288.17175293,\n",
       "       281.73959351, 282.64569092, 272.26068115, 278.79238892,\n",
       "       276.5819397 , 249.33000183, 272.04000854, 225.03999329,\n",
       "       244.22000122, 217.05999756, 219.80000305, 206.58999634,\n",
       "       194.86000061, 219.80000305, 234.49000549, 255.38999939,\n",
       "       242.44999695, 251.27999878, 249.38000488, 237.32000732,\n",
       "       240.44000244, 229.49000549, 248.33999634, 248.03999329,\n",
       "       267.82998657, 264.13000488, 263.51000977, 270.5       ,\n",
       "       281.67999268, 298.42999268, 290.55999756])"
      ]
     },
     "execution_count": 3,
     "metadata": {},
     "output_type": "execute_result"
    }
   ],
   "source": [
    "close"
   ]
  },
  {
   "cell_type": "code",
   "execution_count": 4,
   "metadata": {},
   "outputs": [
    {
     "data": {
      "text/html": [
       "<div>\n",
       "<style scoped>\n",
       "    .dataframe tbody tr th:only-of-type {\n",
       "        vertical-align: middle;\n",
       "    }\n",
       "\n",
       "    .dataframe tbody tr th {\n",
       "        vertical-align: top;\n",
       "    }\n",
       "\n",
       "    .dataframe thead th {\n",
       "        text-align: right;\n",
       "    }\n",
       "</style>\n",
       "<table border=\"1\" class=\"dataframe\">\n",
       "  <thead>\n",
       "    <tr style=\"text-align: right;\">\n",
       "      <th></th>\n",
       "      <th>macd</th>\n",
       "      <th>macdsignal</th>\n",
       "      <th>macdhist</th>\n",
       "    </tr>\n",
       "  </thead>\n",
       "  <tbody>\n",
       "    <tr>\n",
       "      <th>0</th>\n",
       "      <td>2.069207</td>\n",
       "      <td>0.021224</td>\n",
       "      <td>2.047983</td>\n",
       "    </tr>\n",
       "    <tr>\n",
       "      <th>1</th>\n",
       "      <td>1.974555</td>\n",
       "      <td>0.411891</td>\n",
       "      <td>1.562664</td>\n",
       "    </tr>\n",
       "    <tr>\n",
       "      <th>2</th>\n",
       "      <td>1.534082</td>\n",
       "      <td>0.636329</td>\n",
       "      <td>0.897753</td>\n",
       "    </tr>\n",
       "    <tr>\n",
       "      <th>3</th>\n",
       "      <td>2.220458</td>\n",
       "      <td>0.953155</td>\n",
       "      <td>1.267303</td>\n",
       "    </tr>\n",
       "    <tr>\n",
       "      <th>4</th>\n",
       "      <td>2.520760</td>\n",
       "      <td>1.266676</td>\n",
       "      <td>1.254084</td>\n",
       "    </tr>\n",
       "  </tbody>\n",
       "</table>\n",
       "</div>"
      ],
      "text/plain": [
       "       macd  macdsignal  macdhist\n",
       "0  2.069207    0.021224  2.047983\n",
       "1  1.974555    0.411891  1.562664\n",
       "2  1.534082    0.636329  0.897753\n",
       "3  2.220458    0.953155  1.267303\n",
       "4  2.520760    1.266676  1.254084"
      ]
     },
     "execution_count": 4,
     "metadata": {},
     "output_type": "execute_result"
    }
   ],
   "source": [
    "macd, macdsignal, macdhist = talib.MACD(close, fastperiod=5, slowperiod=20, signalperiod=9)\n",
    "macdhist = macdhist[~np.isnan(macdhist)]\n",
    "macd = macd[-len(macdhist):]\n",
    "macdsignal = macdsignal[-len(macdhist):]\n",
    "\n",
    "\n",
    "pd.DataFrame({'macd': macd, 'macdsignal': macdsignal, 'macdhist': macdhist}).head()"
   ]
  },
  {
   "cell_type": "code",
   "execution_count": 5,
   "metadata": {},
   "outputs": [],
   "source": [
    "def prepare_dataset(close):\n",
    "    \"\"\"\n",
    "    Function prepare_dataset to generate input data and trading strategy from stock close prices\n",
    "    \"\"\"\n",
    "\n",
    "    macd, macdsignal, macdhist = talib.MACD(close, fastperiod=12, slowperiod=26, signalperiod=9)\n",
    "\n",
    "    # Cancel NaN values\n",
    "    macdhist = macdhist[~np.isnan(macdhist)]\n",
    "    macd = macd[-len(macdhist):]\n",
    "    macdsignal = macdsignal[-len(macdhist):]\n",
    "\n",
    "    # Scaling features to a range [0, 1]\n",
    "    min_max_scaler = preprocessing.MinMaxScaler(feature_range=(-1, 1))\n",
    "    macdhist_norm = min_max_scaler.fit_transform(np.expand_dims(macdhist, axis=1))\n",
    "\n",
    "    # Implement strategy\n",
    "    start_sell = 0.2\n",
    "    stop_sell = 0.05\n",
    "    start_buy = -0.2\n",
    "    stop_buy = -0.05\n",
    "\n",
    "    y = np.full(len(macdhist), np.nan)\n",
    "    y[0] = 0\n",
    "\n",
    "    for i in range(1, len(macdhist)):\n",
    "\n",
    "        if y[i-1] == 0:\n",
    "            if (macdhist_norm[i] >= start_sell):\n",
    "                # Enter sell position\n",
    "                y[i] = -1\n",
    "            elif (macdhist_norm[i] <= start_buy):\n",
    "                # Enter buy position\n",
    "                y[i] = 1\n",
    "            else:\n",
    "                y[i] = 0\n",
    "        elif y[i-1] == -1:\n",
    "            if macdhist_norm[i] > stop_sell:\n",
    "                # Stay in sell position\n",
    "                y[i] = -1\n",
    "            else:\n",
    "                # Leave sell position\n",
    "                y[i] = 0\n",
    "        else:\n",
    "            if macdhist_norm[i] < stop_buy:\n",
    "                # Stay in buy position\n",
    "                y[i] = 1\n",
    "            else:\n",
    "                # Leave buy position\n",
    "                y[i] = 0\n",
    "\n",
    "    # Plot strategy\n",
    "    dates = np.arange(len(macdhist))\n",
    "    plt.plot(dates, y,'g', label='Strategy Positions')\n",
    "    plt.bar(dates, macdhist_norm[:, 0], width=1, color='blue', label='MACD histogram')\n",
    "    plt.plot(dates, start_sell * np.ones(len(macdhist)), 'k--', lw=1)\n",
    "    plt.plot(dates, stop_sell * np.ones(len(macdhist)), 'k--', lw=1)\n",
    "    plt.plot(dates, start_buy * np.ones(len(macdhist)), 'k--', lw=1)\n",
    "    plt.plot(dates, stop_buy * np.ones(len(macdhist)), 'k--', lw=1)\n",
    "    plt.xlabel('Days')\n",
    "    plt.xlim((0, len(y)))\n",
    "    plt.legend()\n",
    "    # plt.savefig('images/AAL_macd.png', bbox_inches='tight')\n",
    "    plt.show()\n",
    "    \n",
    "    # Generate input data - technical indicators\n",
    "    ind1 = talib.MIDPOINT(close)    # Overlap: MidPoint over period\n",
    "    ind2 = talib.HT_DCPERIOD(close) # Cycle Indicator Functions:  Hilbert Transform - Dominant Cycle Period\n",
    "    ind3 = talib.MAX(close)         # Math Operator: Highest value over a specified period\n",
    "    ind4 = talib.SIN(close)         # Math Transform: Vector Trigonometric Sin\n",
    "    ind5 = talib.APO(close)         # Momentum: Absolute Price Oscillator\n",
    "    ind6 = talib.TEMA(close, timeperiod=5) ## Triple Exponential Moving Average\n",
    "\n",
    "    x = np.vstack((macdhist, macd, macdsignal, ind1[-len(macdhist):], ind2[-len(macdhist):],\n",
    "                   ind3[-len(macdhist):], ind4[-len(macdhist):], ind5[-len(macdhist):],\n",
    "                   ind6[-len(macdhist):]))\n",
    "    x = x.T\n",
    "\n",
    "    return x, y"
   ]
  },
  {
   "cell_type": "code",
   "execution_count": 6,
   "metadata": {},
   "outputs": [
    {
     "data": {
      "image/png": "[encoded data removed]",
      "text/plain": [
       "<Figure size 432x288 with 1 Axes>"
      ]
     },
     "metadata": {
      "needs_background": "light"
     },
     "output_type": "display_data"
    }
   ],
   "source": [
    "# Implement MACD trading strategy\n",
    "X, y = prepare_dataset(close)"
   ]
  },
  {
   "cell_type": "code",
   "execution_count": 7,
   "metadata": {},
   "outputs": [
    {
     "data": {
      "text/plain": [
       "array([8.92117383e-01, 1.55531634e+00, 6.63198958e-01, 1.67018425e+02,\n",
       "       1.72117648e+01, 1.72730927e+02, 5.66391070e-02, 2.31860459e+00,\n",
       "       1.72574018e+02])"
      ]
     },
     "execution_count": 7,
     "metadata": {},
     "output_type": "execute_result"
    }
   ],
   "source": [
    "X[0]"
   ]
  },
  {
   "cell_type": "code",
   "execution_count": 8,
   "metadata": {},
   "outputs": [],
   "source": [
    "# Split dataset\n",
    "n_train = int(X.shape[0] * 0.8)\n",
    "\n",
    "X_train, y_train = X[:n_train], y[:n_train]\n",
    "X_test, y_test = X[n_train:], y[n_train:]"
   ]
  },
  {
   "cell_type": "code",
   "execution_count": 9,
   "metadata": {},
   "outputs": [],
   "source": [
    "# Normalize data\n",
    "scaler = preprocessing.MinMaxScaler()\n",
    "\n",
    "X_train = scaler.fit_transform(X_train)\n",
    "X_test = scaler.transform(X_test)"
   ]
  },
  {
   "cell_type": "code",
   "execution_count": 10,
   "metadata": {},
   "outputs": [
    {
     "name": "stdout",
     "output_type": "stream",
     "text": [
      "[-1.  0.  1.]\n"
     ]
    }
   ],
   "source": [
    "# Encode trading signal with integers between 0 and n-1 classes\n",
    "le = preprocessing.LabelEncoder()\n",
    "\n",
    "y_train = le.fit_transform(y_train)\n",
    "y_test = le.transform(y_test)\n",
    "\n",
    "print(le.classes_)"
   ]
  },
  {
   "cell_type": "code",
   "execution_count": 11,
   "metadata": {},
   "outputs": [],
   "source": [
    "## Create and train the Agent\n",
    "# Variable definiton\n",
    "episodes = 20\n",
    "look_back = 5\n",
    "batch_size = 32\n",
    "action_size = len(le.classes_)\n",
    "n_features = X_train.shape[1]"
   ]
  },
  {
   "cell_type": "code",
   "execution_count": 12,
   "metadata": {},
   "outputs": [],
   "source": [
    "# Create Agent\n",
    "agent = Agent(look_back, action_size, n_features)"
   ]
  },
  {
   "cell_type": "code",
   "execution_count": 13,
   "metadata": {},
   "outputs": [],
   "source": [
    "def run(agent, dataX, dataY, episodes, look_back):\n",
    "    \"\"\"\n",
    "    Function run to train the agent\n",
    "    \"\"\"\n",
    "    \n",
    "    # Length of dataset\n",
    "    times = len(dataX)\n",
    "\n",
    "    # List of total rewards\n",
    "    total_reward_list = []\n",
    "\n",
    "    for ep in range(episodes):\n",
    "\n",
    "        # print('Episode: ' + str(ep))\n",
    "        \n",
    "        # Initial state and position\n",
    "        state = dataX[:look_back, :][np.newaxis, :, :]\n",
    "        pos = dataY[look_back - 1]\n",
    "\n",
    "        done = False\n",
    "        total_reward = 0\n",
    "\n",
    "        for t in range(1, times - look_back + 1):\n",
    "\n",
    "            # Predict action based on the current state\n",
    "            action = agent.act(state)\n",
    "\n",
    "            # Calculate reward\n",
    "            if action == pos:   # 0:-1      1:0     2:1\n",
    "                reward = +1\n",
    "\n",
    "            elif (pos == 0 or pos == 2):\n",
    "                if action == 1:\n",
    "                    reward = 0\n",
    "                else:\n",
    "                    reward = -1\n",
    "            else:\n",
    "                reward = -1\n",
    "\n",
    "            total_reward += reward\n",
    "\n",
    "            # Final state\n",
    "            if t == times - look_back:\n",
    "                done = True\n",
    "\n",
    "            # Receive next state and position\n",
    "            next_state = dataX[t:t + look_back, :][np.newaxis, :, :]\n",
    "            next_pos = dataY[t + look_back - 1]\n",
    "            \n",
    "            # Remember current experience\n",
    "            agent.remember(state, action, reward, next_state, done)\n",
    "            \n",
    "            # Make next_state the new current state; the same for pos\n",
    "            state = next_state\n",
    "            pos = next_pos\n",
    "\n",
    "            if done:\n",
    "                print('Episode: %i ---> Total Reward: %i' %(ep, total_reward))\n",
    "                total_reward_list.append(total_reward)\n",
    "\n",
    "            # Train the agent with previous experiences\n",
    "            if len(agent.memory) > batch_size:\n",
    "                agent.replay(batch_size)\n",
    "\n",
    "        if (ep + 1) % 5 == 0 and ep > 0:\n",
    "            file = 'checkpoints/' + symbol + '_robot_checkpoint' + str(ep + 1)\n",
    "            # Serialize weights to HDF5\n",
    "            agent.model.save_weights(file + \".h5\")\n",
    "            # Save epsilon\n",
    "            pickle.dump(agent.epsilon, open(file + \"_epsilon.pickle\", \"wb\"))\n",
    "\n",
    "    # Save list of rewards along the epochs\n",
    "    np.savetxt(file + '_total_reward.txt', total_reward_list)\n",
    "\n",
    "    return\n"
   ]
  },
  {
   "cell_type": "code",
   "execution_count": 14,
   "metadata": {},
   "outputs": [
    {
     "name": "stdout",
     "output_type": "stream",
     "text": [
      "Episode: 0 ---> Total Reward: 164\n",
      "Episode: 1 ---> Total Reward: 449\n",
      "Episode: 2 ---> Total Reward: 446\n",
      "Episode: 3 ---> Total Reward: 446\n",
      "Episode: 4 ---> Total Reward: 462\n",
      "Episode: 5 ---> Total Reward: 457\n",
      "Episode: 6 ---> Total Reward: 468\n",
      "Episode: 7 ---> Total Reward: 470\n",
      "Episode: 8 ---> Total Reward: 470\n",
      "Episode: 9 ---> Total Reward: 486\n",
      "Episode: 10 ---> Total Reward: 448\n",
      "Episode: 11 ---> Total Reward: 468\n",
      "Episode: 12 ---> Total Reward: 483\n",
      "Episode: 13 ---> Total Reward: 466\n",
      "Episode: 14 ---> Total Reward: 477\n",
      "Episode: 15 ---> Total Reward: 453\n",
      "Episode: 16 ---> Total Reward: 456\n",
      "Episode: 17 ---> Total Reward: 456\n",
      "Episode: 18 ---> Total Reward: 459\n",
      "Episode: 19 ---> Total Reward: 470\n"
     ]
    }
   ],
   "source": [
    "# Train Agent\n",
    "run(agent, X_train, y_train, episodes, look_back)"
   ]
  },
  {
   "cell_type": "code",
   "execution_count": 15,
   "metadata": {},
   "outputs": [
    {
     "data": {
      "image/png": "[encoded data removed]",
      "text/plain": [
       "<Figure size 432x288 with 1 Axes>"
      ]
     },
     "metadata": {
      "needs_background": "light"
     },
     "output_type": "display_data"
    }
   ],
   "source": [
    "# Load rewards\n",
    "total_reward_list = np.loadtxt( 'checkpoints/'+ symbol + '_robot_checkpoint' + str(episodes) + '_total_reward.txt')\n",
    "# Plot\n",
    "plt.figure()\n",
    "plt.plot(np.arange(1, episodes+1), total_reward_list)\n",
    "plt.xlabel('Episodes')\n",
    "plt.ylabel('Total Reward')\n",
    "plt.show()"
   ]
  },
  {
   "cell_type": "code",
   "execution_count": 16,
   "metadata": {},
   "outputs": [
    {
     "data": {
      "text/plain": [
       "array([164., 449., 446., 446., 462., 457., 468., 470., 470., 486., 448.,\n",
       "       468., 483., 466., 477., 453., 456., 456., 459., 470.])"
      ]
     },
     "execution_count": 16,
     "metadata": {},
     "output_type": "execute_result"
    }
   ],
   "source": [
    "total_reward_list"
   ]
  },
  {
   "cell_type": "code",
   "execution_count": 17,
   "metadata": {},
   "outputs": [],
   "source": [
    "def evaluate(agent, dataX, dataY, look_back):\n",
    "    \"\"\"\n",
    "    Function run to evaluate the trained agent\n",
    "    \"\"\"\n",
    "    \n",
    "    # Length of dataset\n",
    "    times = len(dataX)\n",
    "\n",
    "    # Initial state and position\n",
    "    state = dataX[:look_back, :][np.newaxis, :, :]\n",
    "    pos = dataY[look_back - 1]\n",
    "\n",
    "    # List of predicted positions\n",
    "    pos_list = []\n",
    "    \n",
    "    done = False\n",
    "    total_reward = 0\n",
    "    \n",
    "    for t in range(1, times - look_back + 1):\n",
    "\n",
    "        # Predict action based on the current state\n",
    "        action = agent.act(state)\n",
    "\n",
    "        # Calculate reward\n",
    "        if action == pos:   # 0:-1      1:0     2:1\n",
    "            reward = +1\n",
    "\n",
    "        elif (pos == 0 or pos == 2):\n",
    "            if action == 1:\n",
    "                reward = 0\n",
    "            else:\n",
    "                reward = -1\n",
    "        else:\n",
    "            reward = -1\n",
    "\n",
    "        pos_list.append(action)\n",
    "        total_reward += reward\n",
    "\n",
    "        # Final state\n",
    "        if t == times - look_back:\n",
    "            done = True\n",
    "\n",
    "        # Receive next state and position\n",
    "        next_state = dataX[t:t + look_back, :][np.newaxis, :, :]\n",
    "        next_pos = dataY[t + look_back - 1]\n",
    "\n",
    "        # Remember current experience\n",
    "        agent.remember(state, action, reward, next_state, done)\n",
    "\n",
    "        # Make next_state the new current state; the same for pos\n",
    "        state = next_state\n",
    "        pos = next_pos\n",
    "\n",
    "        if done:\n",
    "            print('Total Reward: %i' % total_reward)\n",
    "\n",
    "    return np.array(pos_list)"
   ]
  },
  {
   "cell_type": "code",
   "execution_count": 18,
   "metadata": {},
   "outputs": [
    {
     "name": "stdout",
     "output_type": "stream",
     "text": [
      "Total Reward: 22\n",
      "Accuracy: 41.43 %\n"
     ]
    }
   ],
   "source": [
    "# Evaluate the model\n",
    "# Make predictions\n",
    "y_pred_test = evaluate(agent, X_test, y_test, look_back)\n",
    "\n",
    "# Calculate and print accuracy\n",
    "acc = accuracy_score(y_test[look_back-1:-1], y_pred_test)\n",
    "\n",
    "print('Accuracy: %.2f %%' % (acc*100))"
   ]
  },
  {
   "cell_type": "code",
   "execution_count": 19,
   "metadata": {},
   "outputs": [
    {
     "name": "stdout",
     "output_type": "stream",
     "text": [
      "      1-Precision  2-Recall  3-F1 score  4-Support\n",
      "-1.0        1.000     0.068       0.128         44\n",
      " 0.0        0.378     0.444       0.409         63\n",
      " 1.0        0.429     0.818       0.562         33\n"
     ]
    }
   ],
   "source": [
    "# Calculate and print precision, recall, f1 score and support\n",
    "p, r, f1, s = precision_recall_fscore_support(y_test[look_back-1:-1], y_pred_test, average=None)\n",
    "results = pd.DataFrame({'1-Precision': p, '2-Recall': r, '3-F1 score': f1, '4-Support': s}, index=le.classes_)\n",
    "\n",
    "print(results.round(decimals=3))"
   ]
  },
  {
   "cell_type": "code",
   "execution_count": 20,
   "metadata": {},
   "outputs": [],
   "source": [
    "# Decodificate labels\n",
    "y_true_test = le.inverse_transform(y_test[look_back-1:-1])\n",
    "y_pred_test = le.inverse_transform(y_pred_test)"
   ]
  },
  {
   "cell_type": "code",
   "execution_count": 21,
   "metadata": {},
   "outputs": [
    {
     "data": {
      "image/png": "[encoded data removed]",
      "text/plain": [
       "<Figure size 432x288 with 1 Axes>"
      ]
     },
     "metadata": {
      "needs_background": "light"
     },
     "output_type": "display_data"
    }
   ],
   "source": [
    "# Plot strategy\n",
    "plt.figure()\n",
    "plt.plot(y_true_test, label='true')\n",
    "plt.plot(y_pred_test, label='pred')\n",
    "plt.legend()\n",
    "plt.show()"
   ]
  },
  {
   "cell_type": "code",
   "execution_count": null,
   "metadata": {},
   "outputs": [],
   "source": []
  }
 ],
 "metadata": {
  "kernelspec": {
   "display_name": "Python 3",
   "language": "python",
   "name": "python3"
  },
  "language_info": {
   "codemirror_mode": {
    "name": "ipython",
    "version": 3
   },
   "file_extension": ".py",
   "mimetype": "text/x-python",
   "name": "python",
   "nbconvert_exporter": "python",
   "pygments_lexer": "ipython3",
   "version": "3.7.6"
  }
 },
 "nbformat": 4,
 "nbformat_minor": 2
}
