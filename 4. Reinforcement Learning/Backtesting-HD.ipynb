{
 "cells": [
  {
   "cell_type": "code",
   "execution_count": 1,
   "metadata": {
    "scrolled": true
   },
   "outputs": [
    {
     "name": "stderr",
     "output_type": "stream",
     "text": [
      "C:\\Users\\Elid-PC.DESKTOP-MG9DS93\\anaconda3\\lib\\site-packages\\pandas_datareader\\compat\\__init__.py:7: FutureWarning: pandas.util.testing is deprecated. Use the functions in the public API at pandas.testing instead.\n",
      "  from pandas.util.testing import assert_frame_equal\n"
     ]
    },
    {
     "data": {
      "application/javascript": [
       "\n",
       "console.log('Starting front end url_querystring_target comm target');\n",
       "const comm = Jupyter.notebook.kernel.comm_manager.new_comm('url_querystring_target', {'init': 1});\n",
       "comm.send({'ipyparams_browser_url': window.location.href});\n",
       "console.log('Sent window.location.href on url_querystring_target comm target');\n",
       "\n",
       "comm.on_msg(function(msg) {\n",
       "    console.log(msg.content.data);\n",
       "});\n"
      ],
      "text/plain": [
       "<IPython.core.display.Javascript object>"
      ]
     },
     "metadata": {},
     "output_type": "display_data"
    },
    {
     "name": "stderr",
     "output_type": "stream",
     "text": [
      "Using TensorFlow backend.\n"
     ]
    }
   ],
   "source": [
    "# Import libraries\n",
    "import pandas as pd\n",
    "from pandas_datareader import data as pdr\n",
    "\n",
    "import numpy as np\n",
    "import matplotlib.pyplot as plt\n",
    "import pickle\n",
    "\n",
    "from sklearn import preprocessing\n",
    "from sklearn.metrics import accuracy_score\n",
    "from sklearn.metrics import precision_recall_fscore_support\n",
    "\n",
    "import talib, re, ipyparams\n",
    "\n",
    "from Agent import Agent"
   ]
  },
  {
   "cell_type": "code",
   "execution_count": 2,
   "metadata": {},
   "outputs": [
    {
     "data": {
      "text/plain": [
       "754"
      ]
     },
     "execution_count": 2,
     "metadata": {},
     "output_type": "execute_result"
    }
   ],
   "source": [
    "end_date = '2020-02-19'\n",
    "start_date = '2017-02-20'\n",
    "\n",
    "symbol = 'HD'\n",
    "Date = pd.DataFrame(pdr.DataReader(symbol,'yahoo', start_date, end_date))\n",
    "\n",
    "alldata = pd.DataFrame({'Date': Date.index})\n",
    "alldata[symbol] = pdr.DataReader(symbol, 'yahoo', start_date, end_date)['Adj Close'].values\n",
    "# Stock symbol\n",
    "\n",
    "# Load close prices of to NumPy array\n",
    "close = alldata[symbol].values\n",
    "len(close)"
   ]
  },
  {
   "cell_type": "code",
   "execution_count": 3,
   "metadata": {},
   "outputs": [
    {
     "data": {
      "text/plain": [
       "array([134.04904175, 134.2616272 , 133.76249695, 134.90867615,\n",
       "       134.30789185, 133.94740295, 135.58343506, 136.75737   ,\n",
       "       136.62796021, 135.99943542, 135.79481506, 136.63182068,\n",
       "       136.3527832 , 136.56669617, 137.1060791 , 136.85499573,\n",
       "       137.58966064, 138.31506348, 139.12413025, 137.45018005,\n",
       "       136.34350586, 137.04100037, 137.62687683, 137.3664856 ,\n",
       "       136.58529663, 136.89219666, 136.74339294, 136.65969849,\n",
       "       136.5480957 , 136.3527832 , 136.09240723, 136.37142944,\n",
       "       136.92941284, 136.82711792, 137.83146667, 137.82214355,\n",
       "       136.27839661, 135.69255066, 136.99449158, 137.41299438,\n",
       "       136.91079712, 138.30577087, 139.49609375, 141.25378418,\n",
       "       142.31393433, 143.42062378, 145.18757629, 145.16896057,\n",
       "       143.41131592, 144.09950256, 144.14601135, 144.01580811,\n",
       "       144.82485962, 145.90365601, 146.63829041, 147.05680847,\n",
       "       145.26196289, 145.93153381, 146.31283569, 147.17770386,\n",
       "       145.15966797, 144.79698181, 145.35498047, 145.03877258,\n",
       "       143.98789978, 144.14601135, 145.50376892, 144.05299377,\n",
       "       143.93139648, 143.58532715, 145.11927795, 145.30635071,\n",
       "       144.78256226, 144.23069763, 144.94158936, 143.57597351,\n",
       "       143.07089233, 142.34132385, 144.03427124, 146.62519836,\n",
       "       146.63456726, 146.51293945, 148.54266357, 147.47637939,\n",
       "       146.46620178, 145.42797852, 141.52752686, 141.63044739,\n",
       "       142.39744568, 143.32344055, 142.32260132, 143.48243713,\n",
       "       144.05300903, 142.81835938, 142.2197113 , 142.38807678,\n",
       "       141.40594482, 140.86346436, 142.724823  , 143.37953186,\n",
       "       142.99607849, 143.94078064, 142.33195496, 143.38887024,\n",
       "       137.52426147, 137.1688385 , 135.23266602, 137.46813965,\n",
       "       137.20623779, 138.17900085, 138.50639343, 139.9281311 ,\n",
       "       140.16194153, 140.76989746, 141.04119873, 142.87443542,\n",
       "       143.43566895, 143.43566895, 145.22219849, 143.93139648,\n",
       "       144.86676025, 144.28681946, 140.46122742, 142.4067688 ,\n",
       "       139.99357605, 137.95452881, 139.55397034, 140.21807861,\n",
       "       139.46046448, 138.66540527, 139.97488403, 141.60237122,\n",
       "       140.98138428, 141.13197327, 141.00964355, 141.86584473,\n",
       "       143.88870239, 147.30410767, 148.59312439, 150.22084045,\n",
       "       149.00712585, 150.45605469, 150.55957031, 149.95739746,\n",
       "       149.03535461, 148.48022461, 148.33909607, 149.29876709,\n",
       "       149.77864075, 150.51251221, 151.57574463, 151.72625732,\n",
       "       151.40637207, 152.76123047, 153.89027405, 154.32307434,\n",
       "       155.40509033, 155.51799011, 156.29891968, 156.04490662,\n",
       "       155.91319275, 155.39567566, 155.4803772 , 154.859375  ,\n",
       "       154.74647522, 154.51124573, 153.69270325, 153.78677368,\n",
       "       153.58917236, 153.76795959, 155.0005188 , 156.2142334 ,\n",
       "       156.25187683, 157.73846436, 157.44677734, 155.53681946,\n",
       "       155.97900391, 155.60266113, 153.09054565, 154.67120361,\n",
       "       154.51124573, 153.984375  , 154.3513031 , 153.6174469 ,\n",
       "       154.40777588, 155.57446289, 158.12423706, 155.68736267,\n",
       "       157.59735107, 157.82315063, 160.37294006, 162.64047241,\n",
       "       161.88774109, 162.14176941, 163.86360168, 166.13111877,\n",
       "       167.61576843, 170.04608154, 170.61346436, 174.84997559,\n",
       "       172.91139221, 170.9728241 , 172.10757446, 173.44096375,\n",
       "       172.3440094 , 171.91848755, 173.08158875, 172.23054504,\n",
       "       172.65608215, 174.68920898, 175.87123108, 177.1289978 ,\n",
       "       177.85714722, 177.90440369, 180.01318359, 179.85246277,\n",
       "       179.46470642, 179.228302  , 177.80984497, 178.73657227,\n",
       "       180.15505981, 182.03686523, 181.60186768, 182.60424805,\n",
       "       181.37492371, 184.09838867, 185.74380493, 185.63978577,\n",
       "       188.95901489, 187.55001831, 190.38694763, 193.34684753,\n",
       "       193.76290894, 195.01113892, 194.20735168, 195.9662323 ,\n",
       "       193.78179932, 190.84085083, 189.98028564, 189.03466797,\n",
       "       183.42698669, 173.15725708, 180.65623474, 180.89266968,\n",
       "       171.37001038, 174.11233521, 174.0556488 , 173.73410034,\n",
       "       174.65139771, 175.19987488, 176.80744934, 176.56159973,\n",
       "       173.10997009, 175.38899231, 178.11244202, 178.21647644,\n",
       "       174.9256134 , 172.36291504, 169.87583923, 168.76000977,\n",
       "       171.86175537, 171.76715088, 169.83656311, 169.22789001,\n",
       "       173.24127197, 170.91123962, 169.61784363, 168.72384644,\n",
       "       169.35151672, 170.19793701, 168.42901611, 169.43713379,\n",
       "       169.30397034, 166.7076416 , 163.38851929, 167.74427795,\n",
       "       166.12745667, 166.2035675 , 169.51319885, 164.43466187,\n",
       "       165.25254822, 168.75236511, 170.3596344 , 165.90878296,\n",
       "       164.06373596, 164.99578857, 164.3966217 , 164.87214661,\n",
       "       164.33953857, 165.88972473, 166.34623718, 171.04438782,\n",
       "       168.41001892, 168.34344482, 168.96160889, 167.63014221,\n",
       "       168.70481873, 176.62696838, 177.33076477, 175.75202942,\n",
       "       175.59036255, 176.80766296, 174.2208252 , 175.9707489 ,\n",
       "       174.57273865, 175.98025513, 177.23564148, 177.99645996,\n",
       "       180.99224854, 181.72453308, 178.77629089, 177.25465393,\n",
       "       176.256073  , 178.24372864, 180.49768066, 177.72065735,\n",
       "       177.53044128, 177.98695374, 177.70166016, 175.94221497,\n",
       "       178.92605591, 178.40965271, 179.17472839, 183.00975037,\n",
       "       183.56443787, 185.14242554, 187.60987854, 189.67559814,\n",
       "       190.92845154, 192.52557373, 191.56921387, 190.9571228 ,\n",
       "       191.78916931, 191.93261719, 190.51721191, 190.3928833 ,\n",
       "       191.56921387, 188.79574585, 187.81071472, 187.79154968,\n",
       "       186.5100708 , 186.6917572 , 186.58657837, 185.55368042,\n",
       "       185.17114258, 185.926651  , 185.99357605, 187.52380371,\n",
       "       188.98703003, 188.35583496, 189.31219482, 190.01989746,\n",
       "       190.20159912, 192.32472229, 192.20040894, 193.78797913,\n",
       "       193.61581421, 193.40542603, 193.17591858, 192.22909546,\n",
       "       190.69889832, 188.53753662, 188.6714325 , 188.90097046,\n",
       "       187.73419189, 187.12211609, 187.10298157, 187.15080261,\n",
       "       188.45146179, 189.37913513, 189.43650818, 187.73419189,\n",
       "       185.66844177, 184.67384338, 185.5249939 , 186.8638916 ,\n",
       "       187.02648926, 189.29302979, 191.49269104, 190.28765869,\n",
       "       191.42575073, 192.51602173, 193.1663208 , 193.1567688 ,\n",
       "       193.86811829, 191.54182434, 192.99334717, 197.13642883,\n",
       "       196.24241638, 197.91503906, 198.24188232, 202.52911377,\n",
       "       205.56671143, 203.76913452, 201.33712769, 200.97187805,\n",
       "       200.32780457, 202.84631348, 203.48075867, 202.88476562,\n",
       "       204.16325378, 199.9336853 , 199.42422485, 199.48190308,\n",
       "       198.82821655, 199.1262207 , 199.55880737, 196.81919861,\n",
       "       195.84832764, 191.14772034, 188.77340698, 190.72477722,\n",
       "       188.1678009 , 186.19718933, 182.39059448, 185.01486206,\n",
       "       183.76521301, 186.0818634 , 177.99760437, 173.45082092,\n",
       "       172.88369751, 171.82627869, 171.61477661, 170.11521912,\n",
       "       172.13391113, 165.55882263, 166.49124146, 169.41351318,\n",
       "       169.06745911, 173.470047  , 172.96055603, 175.13301086,\n",
       "       174.96000671, 179.97781372, 180.7179718 , 178.7858429 ,\n",
       "       172.47991943, 172.06661987, 172.93173218, 170.4901123 ,\n",
       "       170.1632843 , 166.8661499 , 162.50198364, 162.74230957,\n",
       "       162.30973816, 163.24217224, 166.51046753, 171.57763672,\n",
       "       169.86602783, 174.37231445, 175.74546814, 169.51791382,\n",
       "       170.15612793, 167.09068298, 166.0269928 , 166.52981567,\n",
       "       168.46385193, 168.1350708 , 166.60717773, 162.4296875 ,\n",
       "       164.43139648, 162.03318787, 158.74534607, 155.1867218 ,\n",
       "       152.92390442, 162.72944641, 164.7021637 , 164.60545349,\n",
       "       166.1526947 , 166.72322083, 163.04856873, 167.89332581,\n",
       "       171.20048523, 172.02246094, 173.80177307, 173.15388489,\n",
       "       173.49232483, 172.91212463, 170.64930725, 171.20048523,\n",
       "       169.1020813 , 173.65672302, 171.26818848, 171.05545044,\n",
       "       171.44224548, 174.44967651, 173.89848328, 173.7631073 ,\n",
       "       176.17094421, 177.47642517, 178.28872681, 180.28079224,\n",
       "       180.24211121, 178.62718201, 177.99864197, 178.45314026,\n",
       "       176.88656616, 179.40080261, 182.19548035, 181.51858521,\n",
       "       186.04420471, 185.9861908 , 185.52203369, 185.49301147,\n",
       "       186.04420471, 183.71369934, 182.08909607, 177.61181641,\n",
       "       179.03334045, 179.06234741, 177.74719238, 177.93095398,\n",
       "       178.36608887, 176.49008179, 175.25230408, 176.4223938 ,\n",
       "       177.93095398, 176.46961975, 176.92749023, 177.5315094 ,\n",
       "       178.69082642, 179.38253784, 181.30174255, 185.07196045,\n",
       "       183.88339233, 184.78942871, 184.45819092, 184.37051392,\n",
       "       185.15962219, 186.94244385, 190.5957489 , 189.30004883,\n",
       "       193.48918152, 195.28175354, 196.85023499, 198.30181885,\n",
       "       195.72013855, 194.2880249 , 196.28518677, 198.59408569,\n",
       "       199.57803345, 199.1980896 , 201.22447205, 200.35740662,\n",
       "       199.50012207, 200.73735046, 201.39009094, 201.17575073,\n",
       "       198.36027527, 196.94766235, 198.44795227, 193.67428589,\n",
       "       195.82728577, 195.38890076, 194.4828949 , 189.74819946,\n",
       "       190.13787842, 189.56309509, 189.56309509, 185.43240356,\n",
       "       186.67939758, 186.8157959 , 187.41981506, 187.6146698 ,\n",
       "       186.02668762, 186.5138092 , 184.03927612, 187.04962158,\n",
       "       188.59861755, 186.61122131, 185.09146118, 186.15335083,\n",
       "       184.95506287, 184.68228149, 190.21582031, 192.96276855,\n",
       "       193.43365479, 193.561203  , 194.29699707, 194.25775146,\n",
       "       195.17012024, 198.51551819, 201.87069702, 203.05776978,\n",
       "       203.54827881, 203.99958801, 207.24685669, 205.42211914,\n",
       "       201.6058197 , 200.86021423, 202.50839233, 203.09701538,\n",
       "       204.02900696, 206.29522705, 206.15788269, 208.08076477,\n",
       "       207.45289612, 208.87541199, 207.98265076, 206.7563324 ,\n",
       "       209.98397827, 214.09458923, 214.55566406, 213.14297485,\n",
       "       211.52423096, 210.37640381, 209.00294495, 207.26647949,\n",
       "       209.04219055, 210.64129639, 211.46537781, 212.79960632,\n",
       "       213.90817261, 213.24105835, 209.640625  , 208.79692078,\n",
       "       208.12979126, 201.056427  , 204.84327698, 203.97015381,\n",
       "       207.56080627, 206.04016113, 203.08720398, 204.38218689,\n",
       "       197.76989746, 197.96611023, 199.79086304, 204.00938416,\n",
       "       212.97618103, 216.22346497, 216.83171082, 213.34898376,\n",
       "       214.50662231, 214.07496643, 217.74409485, 223.01234436,\n",
       "       223.59114075, 219.82392883, 221.24525452, 225.19342041,\n",
       "       228.1348114 , 229.85224915, 229.98057556, 229.64498901,\n",
       "       230.77020264, 230.94786072, 227.99662781, 227.22673035,\n",
       "       227.83869934, 225.16381836, 221.75852966, 223.3180542 ,\n",
       "       222.48892212, 225.14407349, 226.81216431, 226.88127136,\n",
       "       229.01327515, 228.08546448, 222.62712097, 223.87078857,\n",
       "       224.97627258, 223.80171204, 223.73260498, 225.97319031,\n",
       "       228.60858154, 231.61906433, 231.14527893, 232.56661987,\n",
       "       232.84298706, 233.70172119, 234.84667969, 233.63261414,\n",
       "       234.12614441, 231.62893677, 230.85903931, 231.34269714,\n",
       "       233.7313385 , 231.10580444, 233.17858887, 231.5401001 ,\n",
       "       234.264328  , 231.8757019 , 229.19094849, 230.97749329,\n",
       "       229.9213562 , 229.82264709, 228.79612732, 230.09901428,\n",
       "       231.75726318, 233.48457336, 234.21498108, 235.754776  ,\n",
       "       222.93310547, 218.03736877, 215.70796204, 215.20455933,\n",
       "       215.56976318, 217.89918518, 220.1101532 , 217.65242004,\n",
       "       214.79988098, 211.22679138, 212.67710876, 211.58441162,\n",
       "       212.855896  , 215.09094238, 214.46513367, 210.59104919,\n",
       "       210.63078308, 212.65722656, 214.09759521, 216.27304077,\n",
       "       216.55117798, 218.75642395, 219.71998596, 217.75314331,\n",
       "       219.20343018, 219.35244751, 218.50808716, 215.86575317,\n",
       "       216.9286499 , 218.20014954, 217.47499084, 218.49815369,\n",
       "       217.06771851, 220.315979  , 223.69338989, 222.72984314,\n",
       "       221.85568237, 221.32920837, 223.09738159, 227.29927063,\n",
       "       230.36872864, 231.40180969, 231.35214233, 232.09716797,\n",
       "       230.45812988, 229.65351868, 232.30577087, 232.46470642,\n",
       "       231.24287415, 226.58406067, 230.00119019, 233.4382019 ,\n",
       "       236.52752686, 237.25267029, 235.72291565, 239.01091003,\n",
       "       240.03407288, 239.98439026, 240.74928284, 243.40153503,\n",
       "       242.31878662, 242.02076721])"
      ]
     },
     "execution_count": 3,
     "metadata": {},
     "output_type": "execute_result"
    }
   ],
   "source": [
    "close"
   ]
  },
  {
   "cell_type": "code",
   "execution_count": 4,
   "metadata": {},
   "outputs": [
    {
     "data": {
      "text/html": [
       "<div>\n",
       "<style scoped>\n",
       "    .dataframe tbody tr th:only-of-type {\n",
       "        vertical-align: middle;\n",
       "    }\n",
       "\n",
       "    .dataframe tbody tr th {\n",
       "        vertical-align: top;\n",
       "    }\n",
       "\n",
       "    .dataframe thead th {\n",
       "        text-align: right;\n",
       "    }\n",
       "</style>\n",
       "<table border=\"1\" class=\"dataframe\">\n",
       "  <thead>\n",
       "    <tr style=\"text-align: right;\">\n",
       "      <th></th>\n",
       "      <th>macd</th>\n",
       "      <th>macdsignal</th>\n",
       "      <th>macdhist</th>\n",
       "    </tr>\n",
       "  </thead>\n",
       "  <tbody>\n",
       "    <tr>\n",
       "      <th>0</th>\n",
       "      <td>0.312271</td>\n",
       "      <td>0.881871</td>\n",
       "      <td>-0.569600</td>\n",
       "    </tr>\n",
       "    <tr>\n",
       "      <th>1</th>\n",
       "      <td>0.211488</td>\n",
       "      <td>0.747794</td>\n",
       "      <td>-0.536306</td>\n",
       "    </tr>\n",
       "    <tr>\n",
       "      <th>2</th>\n",
       "      <td>0.097481</td>\n",
       "      <td>0.617732</td>\n",
       "      <td>-0.520250</td>\n",
       "    </tr>\n",
       "    <tr>\n",
       "      <th>3</th>\n",
       "      <td>-0.036373</td>\n",
       "      <td>0.486911</td>\n",
       "      <td>-0.523284</td>\n",
       "    </tr>\n",
       "    <tr>\n",
       "      <th>4</th>\n",
       "      <td>-0.049522</td>\n",
       "      <td>0.379624</td>\n",
       "      <td>-0.429147</td>\n",
       "    </tr>\n",
       "  </tbody>\n",
       "</table>\n",
       "</div>"
      ],
      "text/plain": [
       "       macd  macdsignal  macdhist\n",
       "0  0.312271    0.881871 -0.569600\n",
       "1  0.211488    0.747794 -0.536306\n",
       "2  0.097481    0.617732 -0.520250\n",
       "3 -0.036373    0.486911 -0.523284\n",
       "4 -0.049522    0.379624 -0.429147"
      ]
     },
     "execution_count": 4,
     "metadata": {},
     "output_type": "execute_result"
    }
   ],
   "source": [
    "macd, macdsignal, macdhist = talib.MACD(close, fastperiod=5, slowperiod=20, signalperiod=9)\n",
    "macdhist = macdhist[~np.isnan(macdhist)]\n",
    "macd = macd[-len(macdhist):]\n",
    "macdsignal = macdsignal[-len(macdhist):]\n",
    "\n",
    "\n",
    "pd.DataFrame({'macd': macd, 'macdsignal': macdsignal, 'macdhist': macdhist}).head()"
   ]
  },
  {
   "cell_type": "code",
   "execution_count": 5,
   "metadata": {},
   "outputs": [],
   "source": [
    "def prepare_dataset(close):\n",
    "    \"\"\"\n",
    "    Function prepare_dataset to generate input data and trading strategy from stock close prices\n",
    "    \"\"\"\n",
    "\n",
    "    macd, macdsignal, macdhist = talib.MACD(close, fastperiod=12, slowperiod=26, signalperiod=9)\n",
    "\n",
    "    # Cancel NaN values\n",
    "    macdhist = macdhist[~np.isnan(macdhist)]\n",
    "    macd = macd[-len(macdhist):]\n",
    "    macdsignal = macdsignal[-len(macdhist):]\n",
    "\n",
    "    # Scaling features to a range [0, 1]\n",
    "    min_max_scaler = preprocessing.MinMaxScaler(feature_range=(-1, 1))\n",
    "    macdhist_norm = min_max_scaler.fit_transform(np.expand_dims(macdhist, axis=1))\n",
    "\n",
    "    # Implement strategy\n",
    "    start_sell = 0.2\n",
    "    stop_sell = 0.05\n",
    "    start_buy = -0.2\n",
    "    stop_buy = -0.05\n",
    "\n",
    "    y = np.full(len(macdhist), np.nan)\n",
    "    y[0] = 0\n",
    "\n",
    "    for i in range(1, len(macdhist)):\n",
    "\n",
    "        if y[i-1] == 0:\n",
    "            if (macdhist_norm[i] >= start_sell):\n",
    "                # Enter sell position\n",
    "                y[i] = -1\n",
    "            elif (macdhist_norm[i] <= start_buy):\n",
    "                # Enter buy position\n",
    "                y[i] = 1\n",
    "            else:\n",
    "                y[i] = 0\n",
    "        elif y[i-1] == -1:\n",
    "            if macdhist_norm[i] > stop_sell:\n",
    "                # Stay in sell position\n",
    "                y[i] = -1\n",
    "            else:\n",
    "                # Leave sell position\n",
    "                y[i] = 0\n",
    "        else:\n",
    "            if macdhist_norm[i] < stop_buy:\n",
    "                # Stay in buy position\n",
    "                y[i] = 1\n",
    "            else:\n",
    "                # Leave buy position\n",
    "                y[i] = 0\n",
    "\n",
    "    # Plot strategy\n",
    "    dates = np.arange(len(macdhist))\n",
    "    plt.plot(dates, y,'g', label='Strategy Positions')\n",
    "    plt.bar(dates, macdhist_norm[:, 0], width=1, color='blue', label='MACD histogram')\n",
    "    plt.plot(dates, start_sell * np.ones(len(macdhist)), 'k--', lw=1)\n",
    "    plt.plot(dates, stop_sell * np.ones(len(macdhist)), 'k--', lw=1)\n",
    "    plt.plot(dates, start_buy * np.ones(len(macdhist)), 'k--', lw=1)\n",
    "    plt.plot(dates, stop_buy * np.ones(len(macdhist)), 'k--', lw=1)\n",
    "    plt.xlabel('Days')\n",
    "    plt.xlim((0, len(y)))\n",
    "    plt.legend()\n",
    "    # plt.savefig('images/AAL_macd.png', bbox_inches='tight')\n",
    "    plt.show()\n",
    "    \n",
    "    # Generate input data - technical indicators\n",
    "    ind1 = talib.MIDPOINT(close)    # Overlap: MidPoint over period\n",
    "    ind2 = talib.HT_DCPERIOD(close) # Cycle Indicator Functions:  Hilbert Transform - Dominant Cycle Period\n",
    "    ind3 = talib.MAX(close)         # Math Operator: Highest value over a specified period\n",
    "    ind4 = talib.SIN(close)         # Math Transform: Vector Trigonometric Sin\n",
    "    ind5 = talib.APO(close)         # Momentum: Absolute Price Oscillator\n",
    "    ind6 = talib.TEMA(close, timeperiod=5) ## Triple Exponential Moving Average\n",
    "\n",
    "    x = np.vstack((macdhist, macd, macdsignal, ind1[-len(macdhist):], ind2[-len(macdhist):],\n",
    "                   ind3[-len(macdhist):], ind4[-len(macdhist):], ind5[-len(macdhist):],\n",
    "                   ind6[-len(macdhist):]))\n",
    "    x = x.T\n",
    "\n",
    "    return x, y"
   ]
  },
  {
   "cell_type": "code",
   "execution_count": 6,
   "metadata": {},
   "outputs": [
    {
     "data": {
      "image/png": "[encoded data removed]",
      "text/plain": [
       "<Figure size 432x288 with 1 Axes>"
      ]
     },
     "metadata": {
      "needs_background": "light"
     },
     "output_type": "display_data"
    }
   ],
   "source": [
    "# Implement MACD trading strategy\n",
    "X, y = prepare_dataset(close)"
   ]
  },
  {
   "cell_type": "code",
   "execution_count": 7,
   "metadata": {},
   "outputs": [
    {
     "data": {
      "text/plain": [
       "array([-2.72111924e-01,  3.64919363e-01,  6.37031286e-01,  1.36859642e+02,\n",
       "        1.72117648e+01,  1.39124130e+02, -9.85948321e-01, -1.27066686e-01,\n",
       "        1.36832278e+02])"
      ]
     },
     "execution_count": 7,
     "metadata": {},
     "output_type": "execute_result"
    }
   ],
   "source": [
    "X[0]"
   ]
  },
  {
   "cell_type": "code",
   "execution_count": 8,
   "metadata": {},
   "outputs": [],
   "source": [
    "# Split dataset\n",
    "n_train = int(X.shape[0] * 0.8)\n",
    "\n",
    "X_train, y_train = X[:n_train], y[:n_train]\n",
    "X_test, y_test = X[n_train:], y[n_train:]"
   ]
  },
  {
   "cell_type": "code",
   "execution_count": 9,
   "metadata": {},
   "outputs": [],
   "source": [
    "# Normalize data\n",
    "scaler = preprocessing.MinMaxScaler()\n",
    "\n",
    "X_train = scaler.fit_transform(X_train)\n",
    "X_test = scaler.transform(X_test)"
   ]
  },
  {
   "cell_type": "code",
   "execution_count": 10,
   "metadata": {},
   "outputs": [
    {
     "name": "stdout",
     "output_type": "stream",
     "text": [
      "[-1.  0.  1.]\n"
     ]
    }
   ],
   "source": [
    "# Encode trading signal with integers between 0 and n-1 classes\n",
    "le = preprocessing.LabelEncoder()\n",
    "\n",
    "y_train = le.fit_transform(y_train)\n",
    "y_test = le.transform(y_test)\n",
    "\n",
    "print(le.classes_)"
   ]
  },
  {
   "cell_type": "code",
   "execution_count": 11,
   "metadata": {},
   "outputs": [
    {
     "data": {
      "text/plain": [
       "array([1, 1, 1, 1, 1, 1, 1, 1, 2, 2, 2, 2, 2, 2, 2, 2, 2, 2, 2, 1, 0, 0,\n",
       "       0, 0, 0, 0, 0, 0, 0, 0, 0, 0, 0, 0, 0, 0, 0, 0, 0, 0, 1, 2, 2, 2,\n",
       "       2, 2, 2, 2, 1, 1, 2, 2, 2, 2, 2, 1, 1, 0, 0, 0, 0, 0, 0, 0, 0, 0,\n",
       "       0, 0, 1, 1, 1, 1, 1, 1, 1, 1, 1, 1, 1, 1, 1, 1, 0, 1, 2, 2, 2, 2,\n",
       "       2, 2, 2, 2, 2, 2, 2, 2, 2, 1, 1, 1, 1, 0, 0, 0, 0, 0, 0, 0, 0, 0,\n",
       "       0, 0, 0, 0, 0, 0, 0, 0, 0, 0, 0, 0, 0, 0, 0, 0, 0, 0, 0, 0, 0, 0,\n",
       "       0, 0, 0, 0, 0, 0, 0, 0, 0, 0, 0, 0, 0], dtype=int64)"
      ]
     },
     "execution_count": 11,
     "metadata": {},
     "output_type": "execute_result"
    }
   ],
   "source": [
    "y_test"
   ]
  },
  {
   "cell_type": "code",
   "execution_count": 12,
   "metadata": {},
   "outputs": [],
   "source": [
    "## Create and train the Agent\n",
    "# Variable definiton\n",
    "episodes = 20\n",
    "look_back = 5\n",
    "batch_size = 32\n",
    "action_size = len(le.classes_)\n",
    "n_features = X_train.shape[1]"
   ]
  },
  {
   "cell_type": "code",
   "execution_count": 13,
   "metadata": {},
   "outputs": [],
   "source": [
    "# Create Agent\n",
    "agent = Agent(look_back, action_size, n_features)"
   ]
  },
  {
   "cell_type": "code",
   "execution_count": 14,
   "metadata": {},
   "outputs": [],
   "source": [
    "def run(agent, dataX, dataY, episodes, look_back):\n",
    "    \"\"\"\n",
    "    Function run to train the agent\n",
    "    \"\"\"\n",
    "    \n",
    "    # Length of dataset\n",
    "    times = len(dataX)\n",
    "\n",
    "    # List of total rewards\n",
    "    total_reward_list = []\n",
    "\n",
    "    for ep in range(episodes):\n",
    "\n",
    "        # print('Episode: ' + str(ep))\n",
    "        \n",
    "        # Initial state and position\n",
    "        state = dataX[:look_back, :][np.newaxis, :, :]\n",
    "        pos = dataY[look_back - 1]\n",
    "\n",
    "        done = False\n",
    "        total_reward = 0\n",
    "\n",
    "        for t in range(1, times - look_back + 1):\n",
    "\n",
    "            # Predict action based on the current state\n",
    "            action = agent.act(state)\n",
    "\n",
    "            # Calculate reward\n",
    "            if action == pos:   # 0:-1      1:0     2:1\n",
    "                reward = +1\n",
    "\n",
    "            elif (pos == 0 or pos == 2):\n",
    "                if action == 1:\n",
    "                    reward = 0\n",
    "                else:\n",
    "                    reward = -1\n",
    "            else:\n",
    "                reward = -1\n",
    "\n",
    "            total_reward += reward\n",
    "\n",
    "            # Final state\n",
    "            if t == times - look_back:\n",
    "                done = True\n",
    "\n",
    "            # Receive next state and position\n",
    "            next_state = dataX[t:t + look_back, :][np.newaxis, :, :]\n",
    "            next_pos = dataY[t + look_back - 1]\n",
    "            \n",
    "            # Remember current experience\n",
    "            agent.remember(state, action, reward, next_state, done)\n",
    "            \n",
    "            # Make next_state the new current state; the same for pos\n",
    "            state = next_state\n",
    "            pos = next_pos\n",
    "\n",
    "            if done:\n",
    "                print('Episode: %i ---> Total Reward: %i' %(ep, total_reward))\n",
    "                total_reward_list.append(total_reward)\n",
    "\n",
    "            # Train the agent with previous experiences\n",
    "            if len(agent.memory) > batch_size:\n",
    "                agent.replay(batch_size)\n",
    "\n",
    "        if (ep + 1) % 5 == 0 and ep > 0:\n",
    "            file = 'checkpoints/' + symbol + '_robot_checkpoint' + str(ep + 1)\n",
    "            # Serialize weights to HDF5\n",
    "            agent.model.save_weights(file + \".h5\")\n",
    "            # Save epsilon\n",
    "            pickle.dump(agent.epsilon, open(file + \"_epsilon.pickle\", \"wb\"))\n",
    "\n",
    "    # Save list of rewards along the epochs\n",
    "    np.savetxt(file + '_total_reward.txt', total_reward_list)\n",
    "\n",
    "    return\n"
   ]
  },
  {
   "cell_type": "code",
   "execution_count": 15,
   "metadata": {},
   "outputs": [
    {
     "name": "stdout",
     "output_type": "stream",
     "text": [
      "Episode: 0 ---> Total Reward: 39\n",
      "Episode: 1 ---> Total Reward: 324\n",
      "Episode: 2 ---> Total Reward: 389\n",
      "Episode: 3 ---> Total Reward: 419\n",
      "Episode: 4 ---> Total Reward: 419\n",
      "Episode: 5 ---> Total Reward: 423\n",
      "Episode: 6 ---> Total Reward: 407\n",
      "Episode: 7 ---> Total Reward: 428\n",
      "Episode: 8 ---> Total Reward: 424\n",
      "Episode: 9 ---> Total Reward: 426\n",
      "Episode: 10 ---> Total Reward: 458\n",
      "Episode: 11 ---> Total Reward: 440\n",
      "Episode: 12 ---> Total Reward: 429\n",
      "Episode: 13 ---> Total Reward: 439\n",
      "Episode: 14 ---> Total Reward: 436\n",
      "Episode: 15 ---> Total Reward: 427\n",
      "Episode: 16 ---> Total Reward: 438\n",
      "Episode: 17 ---> Total Reward: 430\n",
      "Episode: 18 ---> Total Reward: 437\n",
      "Episode: 19 ---> Total Reward: 453\n"
     ]
    }
   ],
   "source": [
    "# Train Agent\n",
    "run(agent, X_train, y_train, episodes, look_back)"
   ]
  },
  {
   "cell_type": "code",
   "execution_count": 16,
   "metadata": {},
   "outputs": [
    {
     "data": {
      "image/png": "[encoded data removed]",
      "text/plain": [
       "<Figure size 432x288 with 1 Axes>"
      ]
     },
     "metadata": {
      "needs_background": "light"
     },
     "output_type": "display_data"
    }
   ],
   "source": [
    "# Load rewards\n",
    "total_reward_list = np.loadtxt( 'checkpoints/'+ symbol + '_robot_checkpoint' + str(episodes) + '_total_reward.txt')\n",
    "# Plot\n",
    "plt.figure()\n",
    "plt.plot(np.arange(1, episodes+1), total_reward_list)\n",
    "plt.xlabel('Episodes')\n",
    "plt.ylabel('Total Reward')\n",
    "plt.show()"
   ]
  },
  {
   "cell_type": "code",
   "execution_count": 17,
   "metadata": {},
   "outputs": [
    {
     "data": {
      "text/plain": [
       "array([ 39., 324., 389., 419., 419., 423., 407., 428., 424., 426., 458.,\n",
       "       440., 429., 439., 436., 427., 438., 430., 437., 453.])"
      ]
     },
     "execution_count": 17,
     "metadata": {},
     "output_type": "execute_result"
    }
   ],
   "source": [
    "total_reward_list"
   ]
  },
  {
   "cell_type": "code",
   "execution_count": 18,
   "metadata": {},
   "outputs": [],
   "source": [
    "def evaluate(agent, dataX, dataY, look_back):\n",
    "    \"\"\"\n",
    "    Function run to evaluate the trained agent\n",
    "    \"\"\"\n",
    "    \n",
    "    # Length of dataset\n",
    "    times = len(dataX)\n",
    "\n",
    "    # Initial state and position\n",
    "    state = dataX[:look_back, :][np.newaxis, :, :]\n",
    "    pos = dataY[look_back - 1]\n",
    "\n",
    "    # List of predicted positions\n",
    "    pos_list = []\n",
    "    \n",
    "    done = False\n",
    "    total_reward = 0\n",
    "    \n",
    "    for t in range(1, times - look_back + 1):\n",
    "\n",
    "        # Predict action based on the current state\n",
    "        action = agent.act(state)\n",
    "\n",
    "        # Calculate reward\n",
    "        if action == pos:   # 0:-1      1:0     2:1\n",
    "            reward = +1\n",
    "\n",
    "        elif (pos == 0 or pos == 2):\n",
    "            if action == 1:\n",
    "                reward = 0\n",
    "            else:\n",
    "                reward = -1\n",
    "        else:\n",
    "            reward = -1\n",
    "\n",
    "        pos_list.append(action)\n",
    "        total_reward += reward\n",
    "\n",
    "        # Final state\n",
    "        if t == times - look_back:\n",
    "            done = True\n",
    "\n",
    "        # Receive next state and position\n",
    "        next_state = dataX[t:t + look_back, :][np.newaxis, :, :]\n",
    "        next_pos = dataY[t + look_back - 1]\n",
    "\n",
    "        # Remember current experience\n",
    "        agent.remember(state, action, reward, next_state, done)\n",
    "\n",
    "        # Make next_state the new current state; the same for pos\n",
    "        state = next_state\n",
    "        pos = next_pos\n",
    "\n",
    "        if done:\n",
    "            print('Total Reward: %i' % total_reward)\n",
    "\n",
    "    return np.array(pos_list)"
   ]
  },
  {
   "cell_type": "code",
   "execution_count": 19,
   "metadata": {},
   "outputs": [
    {
     "name": "stdout",
     "output_type": "stream",
     "text": [
      "Total Reward: 66\n",
      "Accuracy: 49.29 %\n"
     ]
    }
   ],
   "source": [
    "# Evaluate the model\n",
    "# Make predictions\n",
    "y_pred_test = evaluate(agent, X_test, y_test, look_back)\n",
    "\n",
    "# Calculate and print accuracy\n",
    "acc = accuracy_score(y_test[look_back-1:-1], y_pred_test)\n",
    "\n",
    "print('Accuracy: %.2f %%' % (acc*100))"
   ]
  },
  {
   "cell_type": "code",
   "execution_count": 20,
   "metadata": {},
   "outputs": [
    {
     "name": "stdout",
     "output_type": "stream",
     "text": [
      "      1-Precision  2-Recall  3-F1 score  4-Support\n",
      "-1.0        0.935     0.573       0.711         75\n",
      " 0.0        0.277     0.897       0.423         29\n",
      " 1.0        0.000     0.000       0.000         36\n"
     ]
    },
    {
     "name": "stderr",
     "output_type": "stream",
     "text": [
      "C:\\Users\\Elid-PC.DESKTOP-MG9DS93\\anaconda3\\lib\\site-packages\\sklearn\\metrics\\_classification.py:1272: UndefinedMetricWarning: Precision and F-score are ill-defined and being set to 0.0 in labels with no predicted samples. Use `zero_division` parameter to control this behavior.\n",
      "  _warn_prf(average, modifier, msg_start, len(result))\n"
     ]
    }
   ],
   "source": [
    "# Calculate and print precision, recall, f1 score and support\n",
    "p, r, f1, s = precision_recall_fscore_support(y_test[look_back-1:-1], y_pred_test, average=None)\n",
    "results = pd.DataFrame({'1-Precision': p, '2-Recall': r, '3-F1 score': f1, '4-Support': s}, index=le.classes_)\n",
    "\n",
    "print(results.round(decimals=3))"
   ]
  },
  {
   "cell_type": "code",
   "execution_count": 21,
   "metadata": {},
   "outputs": [],
   "source": [
    "# Decodificate labels\n",
    "y_true_test = le.inverse_transform(y_test[look_back-1:-1])\n",
    "y_pred_test = le.inverse_transform(y_pred_test)"
   ]
  },
  {
   "cell_type": "code",
   "execution_count": 22,
   "metadata": {},
   "outputs": [
    {
     "data": {
      "image/png": "[encoded data removed]",
      "text/plain": [
       "<Figure size 432x288 with 1 Axes>"
      ]
     },
     "metadata": {
      "needs_background": "light"
     },
     "output_type": "display_data"
    }
   ],
   "source": [
    "# Plot strategy\n",
    "plt.figure()\n",
    "plt.plot(y_true_test, label='true')\n",
    "plt.plot(y_pred_test, label='pred')\n",
    "plt.legend()\n",
    "plt.show()"
   ]
  },
  {
   "cell_type": "code",
   "execution_count": null,
   "metadata": {},
   "outputs": [],
   "source": []
  }
 ],
 "metadata": {
  "kernelspec": {
   "display_name": "Python 3",
   "language": "python",
   "name": "python3"
  },
  "language_info": {
   "codemirror_mode": {
    "name": "ipython",
    "version": 3
   },
   "file_extension": ".py",
   "mimetype": "text/x-python",
   "name": "python",
   "nbconvert_exporter": "python",
   "pygments_lexer": "ipython3",
   "version": "3.7.6"
  }
 },
 "nbformat": 4,
 "nbformat_minor": 2
}
