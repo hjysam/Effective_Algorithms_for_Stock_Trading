{
 "cells": [
  {
   "cell_type": "code",
   "execution_count": 1,
   "metadata": {
    "scrolled": true
   },
   "outputs": [
    {
     "name": "stderr",
     "output_type": "stream",
     "text": [
      "C:\\Users\\Elid-PC.DESKTOP-MG9DS93\\anaconda3\\lib\\site-packages\\pandas_datareader\\compat\\__init__.py:7: FutureWarning: pandas.util.testing is deprecated. Use the functions in the public API at pandas.testing instead.\n",
      "  from pandas.util.testing import assert_frame_equal\n"
     ]
    },
    {
     "data": {
      "application/javascript": [
       "\n",
       "console.log('Starting front end url_querystring_target comm target');\n",
       "const comm = Jupyter.notebook.kernel.comm_manager.new_comm('url_querystring_target', {'init': 1});\n",
       "comm.send({'ipyparams_browser_url': window.location.href});\n",
       "console.log('Sent window.location.href on url_querystring_target comm target');\n",
       "\n",
       "comm.on_msg(function(msg) {\n",
       "    console.log(msg.content.data);\n",
       "});\n"
      ],
      "text/plain": [
       "<IPython.core.display.Javascript object>"
      ]
     },
     "metadata": {},
     "output_type": "display_data"
    },
    {
     "name": "stderr",
     "output_type": "stream",
     "text": [
      "Using TensorFlow backend.\n"
     ]
    }
   ],
   "source": [
    "# Import libraries\n",
    "import pandas as pd\n",
    "from pandas_datareader import data as pdr\n",
    "\n",
    "import numpy as np\n",
    "import matplotlib.pyplot as plt\n",
    "import pickle\n",
    "\n",
    "from sklearn import preprocessing\n",
    "from sklearn.metrics import accuracy_score\n",
    "from sklearn.metrics import precision_recall_fscore_support\n",
    "\n",
    "import talib, re, ipyparams\n",
    "\n",
    "from Agent import Agent"
   ]
  },
  {
   "cell_type": "code",
   "execution_count": 2,
   "metadata": {},
   "outputs": [
    {
     "data": {
      "text/plain": [
       "755"
      ]
     },
     "execution_count": 2,
     "metadata": {},
     "output_type": "execute_result"
    }
   ],
   "source": [
    "end_date = '2020-04-19'\n",
    "start_date = '2017-04-20'\n",
    "\n",
    "symbol = 'TRV'\n",
    "Date = pd.DataFrame(pdr.DataReader(symbol,'yahoo', start_date, end_date))\n",
    "\n",
    "alldata = pd.DataFrame({'Date': Date.index})\n",
    "alldata[symbol] = pdr.DataReader(symbol, 'yahoo', start_date, end_date)['Adj Close'].values\n",
    "# Stock symbol\n",
    "\n",
    "# Load close prices of to NumPy array\n",
    "close = alldata[symbol].values\n",
    "len(close)"
   ]
  },
  {
   "cell_type": "code",
   "execution_count": 3,
   "metadata": {},
   "outputs": [
    {
     "data": {
      "text/plain": [
       "array([112.26733398, 110.84999847, 111.05516052, 112.42585754,\n",
       "       113.12519836, 113.76859283, 113.90846252, 113.44223785,\n",
       "       112.99465942, 112.23004913, 112.64964294, 112.64964294,\n",
       "       113.10656738, 112.83614349, 111.84774017, 112.53775024,\n",
       "       112.39788055, 112.44450378, 112.12747192, 111.82909393,\n",
       "       112.12747192, 112.71491241, 112.6309967 , 113.43289948,\n",
       "       113.44223785, 113.80588531, 115.36308289, 115.30714417,\n",
       "       115.37241364, 116.41675568, 116.92959595, 116.69649506,\n",
       "       116.91095734, 115.65214539, 115.83035278, 116.09296417,\n",
       "       117.45290375, 117.86558533, 118.26887512, 120.01337433,\n",
       "       121.00754547, 121.40146637, 120.30413055, 120.75431061,\n",
       "       120.59487152, 120.3416214 , 119.73200989, 120.00400543,\n",
       "       119.46939087, 119.84453583, 118.54086304, 118.67219543,\n",
       "       119.43186188, 118.52211761, 118.34391785, 119.27242279,\n",
       "       117.95937347, 117.28411102, 117.47167206, 117.64048767,\n",
       "       117.91247559, 118.39082336, 117.73428345, 118.60652924,\n",
       "       116.83389282, 117.37788391, 118.53148651, 119.54441833,\n",
       "       118.17510223, 118.06254578, 119.30994415, 120.13529968,\n",
       "       121.18573761, 120.73555756, 121.51400757, 121.63592529,\n",
       "       120.80122375, 120.56673431, 122.06736755, 121.63592529,\n",
       "       120.21971893, 120.79181671, 121.03569031, 121.42958832,\n",
       "       120.22908783, 119.94773865, 119.53504181, 119.83516693,\n",
       "       119.26305389, 117.77178955, 118.61590576, 115.57711792,\n",
       "       115.37078094, 114.24530029, 113.65441895, 112.45391846,\n",
       "       108.26152039, 110.41867828, 108.69176483, 113.01378632,\n",
       "       115.65603638, 115.58055115, 114.66518402, 113.20249939,\n",
       "       113.90081024, 113.91970062, 113.7875824 , 115.04266357,\n",
       "       114.64632416, 115.16532898, 115.75984955, 115.66546631,\n",
       "       115.68434143, 115.88253021, 115.61829376, 116.37322998,\n",
       "       116.73181915, 116.92057037, 117.43013763, 118.02465057,\n",
       "       117.91139984, 118.84564209, 118.53423309, 118.85507202,\n",
       "       119.53451538, 121.56341553, 121.40296936, 122.69581604,\n",
       "       125.66835785, 125.80991364, 126.87627411, 125.68724823,\n",
       "       124.35666656, 124.50765991, 123.67721558, 125.14932251,\n",
       "       124.98894501, 125.95146179, 127.10272217, 125.80991364,\n",
       "       125.92316437, 126.18738556, 125.99867249, 126.95174408,\n",
       "       127.90487671, 125.80991364, 126.3194809 , 126.177948  ,\n",
       "       123.4413147 , 122.60144043, 122.45990753, 123.27145386,\n",
       "       122.68637848, 122.51651001, 123.12988281, 125.5173645 ,\n",
       "       126.95174408, 127.93318939, 128.53710938, 128.67866516,\n",
       "       127.69722748, 127.73500824, 126.64979553, 126.89647675,\n",
       "       126.33668518, 127.4657135 , 126.71620178, 125.78643799,\n",
       "       127.97807312, 128.28166199, 128.59475708, 128.32910156,\n",
       "       127.55108643, 127.50363159, 127.87367249, 127.86419678,\n",
       "       128.70860291, 128.68960571, 125.21716309, 125.61561584,\n",
       "       125.61561584, 125.38793182, 124.71430206, 125.68205261,\n",
       "       125.34048462, 125.55870056, 127.82624817, 128.57574463,\n",
       "       129.84710693, 130.30250549, 130.78637695, 132.20951843,\n",
       "       138.76542664, 140.0557251 , 140.86216736, 141.76351929,\n",
       "       141.32707214, 141.09938049, 142.23786926, 142.31378174,\n",
       "       140.36882019, 134.26834106, 133.63265991, 134.85652161,\n",
       "       128.09188843, 130.05583191, 131.06150818, 131.47897339,\n",
       "       133.39546204, 133.66110229, 133.92675781, 131.94384766,\n",
       "       131.44100952, 130.58711243, 132.57954407, 135.27403259,\n",
       "       134.28727722, 131.87745667, 131.84896851, 130.81484985,\n",
       "       132.42771912, 134.14498901, 131.76358032, 133.20368958,\n",
       "       135.71191406, 134.93940735, 134.1764679 , 133.06062317,\n",
       "       133.96665955, 134.77728271, 133.53747559, 134.92988586,\n",
       "       134.56748962, 131.75405884, 128.6545105 , 131.82080078,\n",
       "       130.41888428, 132.36442566, 132.43118286, 128.59732056,\n",
       "       130.64775085, 132.21185303, 132.84127808, 130.89575195,\n",
       "       130.87664795, 131.47747803, 130.26626587, 130.93386841,\n",
       "       129.98017883, 131.18183899, 130.98155212, 130.15184021,\n",
       "       130.26626587, 130.50469971, 130.87664795, 126.7280426 ,\n",
       "       126.09858704, 126.79478455, 127.02367401, 125.50730133,\n",
       "       125.02089691, 122.37915039, 121.41591644, 123.7048111 ,\n",
       "       123.01813507, 122.70341492, 123.74295044, 124.82064056,\n",
       "       125.17350006, 123.98136902, 123.84786224, 124.1244278 ,\n",
       "       124.66802979, 123.8383255 , 125.06858826, 125.33563232,\n",
       "       124.83969879, 124.60127258, 124.96369934, 122.27426147,\n",
       "       124.14350128, 122.56990814, 123.30423737, 123.71433258,\n",
       "       123.18980408, 122.80831909, 124.50653076, 125.9936676 ,\n",
       "       125.20693207, 124.32424927, 124.4585495 , 123.63344574,\n",
       "       124.12274933, 122.41495514, 122.9618454 , 119.9203949 ,\n",
       "       118.44287109, 119.36393738, 118.70191193, 117.64653778,\n",
       "       116.41844177, 117.48342896, 117.3779068 , 117.4258728 ,\n",
       "       117.79044342, 117.62734985, 118.18382263, 120.31376648,\n",
       "       120.7647171 , 119.97797394, 120.90863037, 121.49388885,\n",
       "       122.99061584, 123.56628418, 124.72719574, 120.10269165,\n",
       "       120.12188721, 119.20082855, 119.69013977, 121.15808868,\n",
       "       124.23789215, 125.42760468, 125.78258514, 124.86152649,\n",
       "       123.72937775, 123.12493896, 124.4393692 , 124.72719574,\n",
       "       124.66964722, 123.96925354, 124.30505371, 123.64303589,\n",
       "       122.85629272, 122.36698151, 123.54708862, 125.05341339,\n",
       "       125.1301651 , 126.08960724, 126.36785889, 124.16113281,\n",
       "       124.26667786, 125.21650696, 126.54057312, 126.91472626,\n",
       "       127.27931213, 126.31027985, 126.26230621, 126.77082062,\n",
       "       127.2121582 , 127.19298553, 125.54273224, 123.13977051,\n",
       "       123.38101959, 122.45458984, 124.3267746 , 125.46553802,\n",
       "       125.34971619, 126.77799225, 127.86846161, 129.46081543,\n",
       "       129.74067688, 128.18695068, 126.70078278, 124.97333527,\n",
       "       124.60664368, 125.17602539, 124.46189117, 124.98300934,\n",
       "       125.01195526, 126.21824646, 125.58132935, 127.05784607,\n",
       "       126.99029541, 123.68984985, 119.96477509, 119.32784271,\n",
       "       119.07692719, 120.38938904, 122.02031708, 120.76576233,\n",
       "       121.66324615, 119.73316956, 119.47261047, 117.31089783,\n",
       "       117.00208282, 117.05034637, 118.04431915, 121.47024536,\n",
       "       120.75609589, 120.8236618 , 120.53414917, 122.10716248,\n",
       "       124.10482025, 125.72608185, 126.4112854 , 126.44987488,\n",
       "       122.59934998, 122.37738037, 118.73916626, 121.20001984,\n",
       "       124.26887512, 125.9577179 , 123.88284302, 123.29418182,\n",
       "       122.17472839, 125.78399658, 125.07951355, 126.13140869,\n",
       "       126.06385803, 125.81295013, 125.56203461, 122.26158142,\n",
       "       121.02632904, 119.97763062, 119.43386841, 117.46272278,\n",
       "       118.47257996, 117.97735596, 117.05490875, 116.45288086,\n",
       "       115.84115601, 115.70520782, 113.91855621, 112.69508362,\n",
       "       109.36452484, 113.77289581, 115.22941589, 114.81188202,\n",
       "       116.27809143, 113.96710968, 111.91828156, 115.23912048,\n",
       "       114.87014008, 114.42346954, 115.23912048, 116.78301239,\n",
       "       116.97723389, 117.08403778, 118.28808594, 118.75417328,\n",
       "       119.37561798, 120.41458893, 118.81243134, 119.45328522,\n",
       "       120.77385712, 121.3564682 , 121.40502167, 121.20110321,\n",
       "       122.23036957, 121.90022278, 122.82267761, 122.38574219,\n",
       "       122.52167511, 121.909935  , 123.08485413, 122.14297485,\n",
       "       121.78370667, 123.57037354, 124.32774353, 123.24993134,\n",
       "       125.00746918, 125.35702515, 125.97846985, 126.05614471,\n",
       "       127.22134399, 128.64874268, 129.40611267, 128.77496338,\n",
       "       129.05656433, 129.17304993, 128.31858826, 128.84294128,\n",
       "       127.97874451, 127.67772675, 127.97074127, 128.80097961,\n",
       "       129.63117981, 129.90466309, 129.96327209, 131.0572052 ,\n",
       "       131.79951477, 129.83627319, 128.27351379, 131.24278259,\n",
       "       131.76042175, 131.8092804 , 131.83857727, 133.17669678,\n",
       "       133.71389771, 133.96784973, 134.80784607, 133.62599182,\n",
       "       133.42089844, 133.34274292, 133.2255249 , 132.71762085,\n",
       "       132.04368591, 132.30741882, 133.10832214, 134.51481628,\n",
       "       133.60644531, 135.12037659, 132.70785522, 135.69664001,\n",
       "       133.4306488 , 134.79806519, 135.94082642, 135.9506073 ,\n",
       "       136.97616577, 138.16777039, 140.40447998, 139.75006104,\n",
       "       139.37890625, 140.01379395, 140.09190369, 138.41197205,\n",
       "       138.23614502, 138.52914429, 140.60960388, 140.07240295,\n",
       "       142.31886292, 143.11001587, 143.97930908, 144.05744934,\n",
       "       144.72160339, 144.03790283, 144.51651001, 143.52023315,\n",
       "       144.49694824, 142.87557983, 141.69377136, 142.33839417,\n",
       "       142.18212891, 143.37371826, 144.11602783, 146.36250305,\n",
       "       145.5322876 , 146.85816956, 146.65193176, 146.52424622,\n",
       "       147.05458069, 146.74031067, 147.42779541, 147.24119568,\n",
       "       147.64387512, 148.89118958, 149.47062683, 148.77331543,\n",
       "       149.30368042, 150.3938446 , 146.04298401, 146.53405762,\n",
       "       146.84835815, 148.71440125, 150.09921265, 151.54293823,\n",
       "       151.33668518, 151.05187988, 150.70811462, 150.590271  ,\n",
       "       149.7063446 , 150.64918518, 152.06347656, 151.82775879,\n",
       "       149.65724182, 149.98135376, 147.54563904, 147.03495789,\n",
       "       144.86444092, 146.19033813, 145.83676147, 147.25100708,\n",
       "       146.08227539, 144.9822998 , 144.00016785, 143.1751709 ,\n",
       "       144.2947998 , 141.35821533, 143.35195923, 144.72694397,\n",
       "       145.57157898, 146.40640259, 143.68588257, 145.57157898,\n",
       "       140.91625977, 142.98857117, 144.18678284, 144.94302368,\n",
       "       143.89212036, 144.41264343, 145.16889954, 142.14393616,\n",
       "       144.70729065, 144.47158813, 143.75462341, 144.31443787,\n",
       "       144.33409119, 144.93319702, 147.47691345, 149.02868652,\n",
       "       150.10902405, 147.3540802 , 144.72753906, 144.39179993,\n",
       "       146.43579102, 144.47080994, 144.50042725, 145.39897156,\n",
       "       144.62878418, 145.09288025, 144.44116211, 144.69789124,\n",
       "       144.90525818, 145.00402832, 146.23831177, 146.13955688,\n",
       "       146.82087708, 143.72035217, 140.6000824 , 139.94836426,\n",
       "       143.13777161, 141.3505249 , 138.86221313, 139.52377319,\n",
       "       139.78050232, 140.80744934, 141.31103516, 141.50849915,\n",
       "       140.77781677, 138.71408081, 139.58303833, 140.12611389,\n",
       "       128.51393127, 130.49867249, 129.77783203, 128.79040527,\n",
       "       127.67462921, 127.30926514, 128.14859009, 129.4125061 ,\n",
       "       129.07676697, 128.56330872, 129.61987305, 130.68629456,\n",
       "       131.33798218, 131.61445618, 131.86132812, 131.67372131,\n",
       "       132.44390869, 132.26617432, 131.89096069, 132.60189819,\n",
       "       133.75720215, 133.72756958, 132.99687195, 133.43133545,\n",
       "       133.33259583, 134.96185303, 135.11984253, 135.00135803,\n",
       "       133.55970764, 132.92773438, 133.4708252 , 132.62164307,\n",
       "       134.01393127, 134.56030273, 134.64970398, 133.74569702,\n",
       "       134.71925354, 134.76893616, 135.2855072 , 136.0901947 ,\n",
       "       134.77885437, 135.5736084 , 135.53385925, 135.33517456,\n",
       "       134.93780518, 135.39477539, 135.90144348, 135.59347534,\n",
       "       136.05044556, 136.60676575, 136.11999512, 136.26901245,\n",
       "       134.2722168 , 135.71269226, 136.71604919, 134.61990356,\n",
       "       135.36497498, 135.75241089, 136.66638184, 137.93797302,\n",
       "       139.80561829, 139.98445129, 140.41162109, 133.30857849,\n",
       "       133.8946991 , 132.85159302, 133.50726318, 132.3946228 ,\n",
       "       133.31851196, 130.75546265, 132.73239136, 131.70915222,\n",
       "       135.88156128, 135.60340881, 135.11662292, 135.32525635,\n",
       "       136.47763062, 134.81860352, 135.98091125, 136.85513306,\n",
       "       134.98748779, 133.6264801 , 133.09996033, 134.2722168 ,\n",
       "       133.23904419, 129.9309082 , 127.71556091, 123.26499176,\n",
       "       119.02303314, 126.84133911, 124.48690796, 130.66604614,\n",
       "       127.1791153 , 124.01999664, 116.19999695, 119.56999969,\n",
       "       112.59999847, 102.18000031, 107.44999695,  85.09999847,\n",
       "        96.41000366,  81.69000244,  86.06999969,  89.51000214,\n",
       "        88.36000061,  93.73999786,  92.18000031,  98.66999817,\n",
       "        99.94999695, 102.58999634,  99.34999847,  95.19999695,\n",
       "        97.19000244,  93.88999939,  98.98000336, 100.77999878,\n",
       "       104.94000244, 109.73999786, 106.41999817, 108.01999664,\n",
       "       102.16999817,  99.80999756, 105.06999969])"
      ]
     },
     "execution_count": 3,
     "metadata": {},
     "output_type": "execute_result"
    }
   ],
   "source": [
    "close"
   ]
  },
  {
   "cell_type": "code",
   "execution_count": 4,
   "metadata": {},
   "outputs": [
    {
     "data": {
      "text/html": [
       "<div>\n",
       "<style scoped>\n",
       "    .dataframe tbody tr th:only-of-type {\n",
       "        vertical-align: middle;\n",
       "    }\n",
       "\n",
       "    .dataframe tbody tr th {\n",
       "        vertical-align: top;\n",
       "    }\n",
       "\n",
       "    .dataframe thead th {\n",
       "        text-align: right;\n",
       "    }\n",
       "</style>\n",
       "<table border=\"1\" class=\"dataframe\">\n",
       "  <thead>\n",
       "    <tr style=\"text-align: right;\">\n",
       "      <th></th>\n",
       "      <th>macd</th>\n",
       "      <th>macdsignal</th>\n",
       "      <th>macdhist</th>\n",
       "    </tr>\n",
       "  </thead>\n",
       "  <tbody>\n",
       "    <tr>\n",
       "      <th>0</th>\n",
       "      <td>1.161466</td>\n",
       "      <td>0.263972</td>\n",
       "      <td>0.897494</td>\n",
       "    </tr>\n",
       "    <tr>\n",
       "      <th>1</th>\n",
       "      <td>1.278663</td>\n",
       "      <td>0.466910</td>\n",
       "      <td>0.811753</td>\n",
       "    </tr>\n",
       "    <tr>\n",
       "      <th>2</th>\n",
       "      <td>1.557414</td>\n",
       "      <td>0.685011</td>\n",
       "      <td>0.872403</td>\n",
       "    </tr>\n",
       "    <tr>\n",
       "      <th>3</th>\n",
       "      <td>1.798212</td>\n",
       "      <td>0.907651</td>\n",
       "      <td>0.890561</td>\n",
       "    </tr>\n",
       "    <tr>\n",
       "      <th>4</th>\n",
       "      <td>1.830869</td>\n",
       "      <td>1.092295</td>\n",
       "      <td>0.738575</td>\n",
       "    </tr>\n",
       "  </tbody>\n",
       "</table>\n",
       "</div>"
      ],
      "text/plain": [
       "       macd  macdsignal  macdhist\n",
       "0  1.161466    0.263972  0.897494\n",
       "1  1.278663    0.466910  0.811753\n",
       "2  1.557414    0.685011  0.872403\n",
       "3  1.798212    0.907651  0.890561\n",
       "4  1.830869    1.092295  0.738575"
      ]
     },
     "execution_count": 4,
     "metadata": {},
     "output_type": "execute_result"
    }
   ],
   "source": [
    "macd, macdsignal, macdhist = talib.MACD(close, fastperiod=5, slowperiod=20, signalperiod=9)\n",
    "macdhist = macdhist[~np.isnan(macdhist)]\n",
    "macd = macd[-len(macdhist):]\n",
    "macdsignal = macdsignal[-len(macdhist):]\n",
    "\n",
    "\n",
    "pd.DataFrame({'macd': macd, 'macdsignal': macdsignal, 'macdhist': macdhist}).head()"
   ]
  },
  {
   "cell_type": "code",
   "execution_count": 5,
   "metadata": {},
   "outputs": [],
   "source": [
    "def prepare_dataset(close):\n",
    "    \"\"\"\n",
    "    Function prepare_dataset to generate input data and trading strategy from stock close prices\n",
    "    \"\"\"\n",
    "\n",
    "    macd, macdsignal, macdhist = talib.MACD(close, fastperiod=12, slowperiod=26, signalperiod=9)\n",
    "\n",
    "    # Cancel NaN values\n",
    "    macdhist = macdhist[~np.isnan(macdhist)]\n",
    "    macd = macd[-len(macdhist):]\n",
    "    macdsignal = macdsignal[-len(macdhist):]\n",
    "\n",
    "    # Scaling features to a range [0, 1]\n",
    "    min_max_scaler = preprocessing.MinMaxScaler(feature_range=(-1, 1))\n",
    "    macdhist_norm = min_max_scaler.fit_transform(np.expand_dims(macdhist, axis=1))\n",
    "\n",
    "    # Implement strategy\n",
    "    start_sell = 0.2\n",
    "    stop_sell = 0.05\n",
    "    start_buy = -0.2\n",
    "    stop_buy = -0.05\n",
    "\n",
    "    y = np.full(len(macdhist), np.nan)\n",
    "    y[0] = 0\n",
    "\n",
    "    for i in range(1, len(macdhist)):\n",
    "\n",
    "        if y[i-1] == 0:\n",
    "            if (macdhist_norm[i] >= start_sell):\n",
    "                # Enter sell position\n",
    "                y[i] = -1\n",
    "            elif (macdhist_norm[i] <= start_buy):\n",
    "                # Enter buy position\n",
    "                y[i] = 1\n",
    "            else:\n",
    "                y[i] = 0\n",
    "        elif y[i-1] == -1:\n",
    "            if macdhist_norm[i] > stop_sell:\n",
    "                # Stay in sell position\n",
    "                y[i] = -1\n",
    "            else:\n",
    "                # Leave sell position\n",
    "                y[i] = 0\n",
    "        else:\n",
    "            if macdhist_norm[i] < stop_buy:\n",
    "                # Stay in buy position\n",
    "                y[i] = 1\n",
    "            else:\n",
    "                # Leave buy position\n",
    "                y[i] = 0\n",
    "\n",
    "    # Plot strategy\n",
    "    dates = np.arange(len(macdhist))\n",
    "    plt.plot(dates, y,'g', label='Strategy Positions')\n",
    "    plt.bar(dates, macdhist_norm[:, 0], width=1, color='blue', label='MACD histogram')\n",
    "    plt.plot(dates, start_sell * np.ones(len(macdhist)), 'k--', lw=1)\n",
    "    plt.plot(dates, stop_sell * np.ones(len(macdhist)), 'k--', lw=1)\n",
    "    plt.plot(dates, start_buy * np.ones(len(macdhist)), 'k--', lw=1)\n",
    "    plt.plot(dates, stop_buy * np.ones(len(macdhist)), 'k--', lw=1)\n",
    "    plt.xlabel('Days')\n",
    "    plt.xlim((0, len(y)))\n",
    "    plt.legend()\n",
    "    # plt.savefig('images/AAL_macd.png', bbox_inches='tight')\n",
    "    plt.show()\n",
    "    \n",
    "    # Generate input data - technical indicators\n",
    "    ind1 = talib.MIDPOINT(close)    # Overlap: MidPoint over period\n",
    "    ind2 = talib.HT_DCPERIOD(close) # Cycle Indicator Functions:  Hilbert Transform - Dominant Cycle Period\n",
    "    ind3 = talib.MAX(close)         # Math Operator: Highest value over a specified period\n",
    "    ind4 = talib.SIN(close)         # Math Transform: Vector Trigonometric Sin\n",
    "    ind5 = talib.APO(close)         # Momentum: Absolute Price Oscillator\n",
    "    ind6 = talib.TEMA(close, timeperiod=5) ## Triple Exponential Moving Average\n",
    "\n",
    "    x = np.vstack((macdhist, macd, macdsignal, ind1[-len(macdhist):], ind2[-len(macdhist):],\n",
    "                   ind3[-len(macdhist):], ind4[-len(macdhist):], ind5[-len(macdhist):],\n",
    "                   ind6[-len(macdhist):]))\n",
    "    x = x.T\n",
    "\n",
    "    return x, y"
   ]
  },
  {
   "cell_type": "code",
   "execution_count": 6,
   "metadata": {},
   "outputs": [
    {
     "data": {
      "image/png": "[encoded data removed]",
      "text/plain": [
       "<Figure size 432x288 with 1 Axes>"
      ]
     },
     "metadata": {
      "needs_background": "light"
     },
     "output_type": "display_data"
    }
   ],
   "source": [
    "# Implement MACD trading strategy\n",
    "X, y = prepare_dataset(close)"
   ]
  },
  {
   "cell_type": "code",
   "execution_count": 7,
   "metadata": {},
   "outputs": [
    {
     "data": {
      "text/plain": [
       "array([  0.3911635 ,   1.00778903,   0.61662553, 114.52853394,\n",
       "        17.21176483, 116.92959595,   0.55368484,   1.45360952,\n",
       "       116.159587  ])"
      ]
     },
     "execution_count": 7,
     "metadata": {},
     "output_type": "execute_result"
    }
   ],
   "source": [
    "X[0]"
   ]
  },
  {
   "cell_type": "code",
   "execution_count": 8,
   "metadata": {},
   "outputs": [],
   "source": [
    "# Split dataset\n",
    "n_train = int(X.shape[0] * 0.8)\n",
    "\n",
    "X_train, y_train = X[:n_train], y[:n_train]\n",
    "X_test, y_test = X[n_train:], y[n_train:]"
   ]
  },
  {
   "cell_type": "code",
   "execution_count": 9,
   "metadata": {},
   "outputs": [],
   "source": [
    "# Normalize data\n",
    "scaler = preprocessing.MinMaxScaler()\n",
    "\n",
    "X_train = scaler.fit_transform(X_train)\n",
    "X_test = scaler.transform(X_test)"
   ]
  },
  {
   "cell_type": "code",
   "execution_count": 10,
   "metadata": {},
   "outputs": [
    {
     "name": "stdout",
     "output_type": "stream",
     "text": [
      "[-1.  0.  1.]\n"
     ]
    }
   ],
   "source": [
    "# Encode trading signal with integers between 0 and n-1 classes\n",
    "le = preprocessing.LabelEncoder()\n",
    "\n",
    "y_train = le.fit_transform(y_train)\n",
    "y_test = le.transform(y_test)\n",
    "\n",
    "print(le.classes_)"
   ]
  },
  {
   "cell_type": "code",
   "execution_count": 11,
   "metadata": {},
   "outputs": [],
   "source": [
    "## Create and train the Agent\n",
    "# Variable definiton\n",
    "episodes = 20\n",
    "look_back = 5\n",
    "batch_size = 32\n",
    "action_size = len(le.classes_)\n",
    "n_features = X_train.shape[1]"
   ]
  },
  {
   "cell_type": "code",
   "execution_count": 12,
   "metadata": {},
   "outputs": [],
   "source": [
    "# Create Agent\n",
    "agent = Agent(look_back, action_size, n_features)"
   ]
  },
  {
   "cell_type": "code",
   "execution_count": 13,
   "metadata": {},
   "outputs": [],
   "source": [
    "def run(agent, dataX, dataY, episodes, look_back):\n",
    "    \"\"\"\n",
    "    Function run to train the agent\n",
    "    \"\"\"\n",
    "    \n",
    "    # Length of dataset\n",
    "    times = len(dataX)\n",
    "\n",
    "    # List of total rewards\n",
    "    total_reward_list = []\n",
    "\n",
    "    for ep in range(episodes):\n",
    "\n",
    "        # print('Episode: ' + str(ep))\n",
    "        \n",
    "        # Initial state and position\n",
    "        state = dataX[:look_back, :][np.newaxis, :, :]\n",
    "        pos = dataY[look_back - 1]\n",
    "\n",
    "        done = False\n",
    "        total_reward = 0\n",
    "\n",
    "        for t in range(1, times - look_back + 1):\n",
    "\n",
    "            # Predict action based on the current state\n",
    "            action = agent.act(state)\n",
    "\n",
    "            # Calculate reward\n",
    "            if action == pos:   # 0:-1      1:0     2:1\n",
    "                reward = +1\n",
    "\n",
    "            elif (pos == 0 or pos == 2):\n",
    "                if action == 1:\n",
    "                    reward = 0\n",
    "                else:\n",
    "                    reward = -1\n",
    "            else:\n",
    "                reward = -1\n",
    "\n",
    "            total_reward += reward\n",
    "\n",
    "            # Final state\n",
    "            if t == times - look_back:\n",
    "                done = True\n",
    "\n",
    "            # Receive next state and position\n",
    "            next_state = dataX[t:t + look_back, :][np.newaxis, :, :]\n",
    "            next_pos = dataY[t + look_back - 1]\n",
    "            \n",
    "            # Remember current experience\n",
    "            agent.remember(state, action, reward, next_state, done)\n",
    "            \n",
    "            # Make next_state the new current state; the same for pos\n",
    "            state = next_state\n",
    "            pos = next_pos\n",
    "\n",
    "            if done:\n",
    "                print('Episode: %i ---> Total Reward: %i' %(ep, total_reward))\n",
    "                total_reward_list.append(total_reward)\n",
    "\n",
    "            # Train the agent with previous experiences\n",
    "            if len(agent.memory) > batch_size:\n",
    "                agent.replay(batch_size)\n",
    "\n",
    "        if (ep + 1) % 5 == 0 and ep > 0:\n",
    "            file = 'checkpoints/' + symbol + '_robot_checkpoint' + str(ep + 1)\n",
    "            # Serialize weights to HDF5\n",
    "            agent.model.save_weights(file + \".h5\")\n",
    "            # Save epsilon\n",
    "            pickle.dump(agent.epsilon, open(file + \"_epsilon.pickle\", \"wb\"))\n",
    "\n",
    "    # Save list of rewards along the epochs\n",
    "    np.savetxt(file + '_total_reward.txt', total_reward_list)\n",
    "\n",
    "    return\n"
   ]
  },
  {
   "cell_type": "code",
   "execution_count": 14,
   "metadata": {},
   "outputs": [
    {
     "name": "stdout",
     "output_type": "stream",
     "text": [
      "Episode: 0 ---> Total Reward: 139\n",
      "Episode: 1 ---> Total Reward: 433\n",
      "Episode: 2 ---> Total Reward: 485\n",
      "Episode: 3 ---> Total Reward: 486\n",
      "Episode: 4 ---> Total Reward: 498\n",
      "Episode: 5 ---> Total Reward: 510\n",
      "Episode: 6 ---> Total Reward: 504\n",
      "Episode: 7 ---> Total Reward: 485\n",
      "Episode: 8 ---> Total Reward: 509\n",
      "Episode: 9 ---> Total Reward: 495\n",
      "Episode: 10 ---> Total Reward: 498\n",
      "Episode: 11 ---> Total Reward: 495\n",
      "Episode: 12 ---> Total Reward: 525\n",
      "Episode: 13 ---> Total Reward: 501\n",
      "Episode: 14 ---> Total Reward: 524\n",
      "Episode: 15 ---> Total Reward: 523\n",
      "Episode: 16 ---> Total Reward: 518\n",
      "Episode: 17 ---> Total Reward: 514\n",
      "Episode: 18 ---> Total Reward: 524\n",
      "Episode: 19 ---> Total Reward: 533\n"
     ]
    }
   ],
   "source": [
    "# Train Agent\n",
    "run(agent, X_train, y_train, episodes, look_back)"
   ]
  },
  {
   "cell_type": "code",
   "execution_count": 15,
   "metadata": {},
   "outputs": [
    {
     "data": {
      "image/png": "[encoded data removed]",
      "text/plain": [
       "<Figure size 432x288 with 1 Axes>"
      ]
     },
     "metadata": {
      "needs_background": "light"
     },
     "output_type": "display_data"
    }
   ],
   "source": [
    "# Load rewards\n",
    "total_reward_list = np.loadtxt( 'checkpoints/'+ symbol + '_robot_checkpoint' + str(episodes) + '_total_reward.txt')\n",
    "# Plot\n",
    "plt.figure()\n",
    "plt.plot(np.arange(1, episodes+1), total_reward_list)\n",
    "plt.xlabel('Episodes')\n",
    "plt.ylabel('Total Reward')\n",
    "plt.show()"
   ]
  },
  {
   "cell_type": "code",
   "execution_count": 16,
   "metadata": {},
   "outputs": [
    {
     "data": {
      "text/plain": [
       "array([139., 433., 485., 486., 498., 510., 504., 485., 509., 495., 498.,\n",
       "       495., 525., 501., 524., 523., 518., 514., 524., 533.])"
      ]
     },
     "execution_count": 16,
     "metadata": {},
     "output_type": "execute_result"
    }
   ],
   "source": [
    "total_reward_list"
   ]
  },
  {
   "cell_type": "code",
   "execution_count": 17,
   "metadata": {},
   "outputs": [],
   "source": [
    "def evaluate(agent, dataX, dataY, look_back):\n",
    "    \"\"\"\n",
    "    Function run to evaluate the trained agent\n",
    "    \"\"\"\n",
    "    \n",
    "    # Length of dataset\n",
    "    times = len(dataX)\n",
    "\n",
    "    # Initial state and position\n",
    "    state = dataX[:look_back, :][np.newaxis, :, :]\n",
    "    pos = dataY[look_back - 1]\n",
    "\n",
    "    # List of predicted positions\n",
    "    pos_list = []\n",
    "    \n",
    "    done = False\n",
    "    total_reward = 0\n",
    "    \n",
    "    for t in range(1, times - look_back + 1):\n",
    "\n",
    "        # Predict action based on the current state\n",
    "        action = agent.act(state)\n",
    "\n",
    "        # Calculate reward\n",
    "        if action == pos:   # 0:-1      1:0     2:1\n",
    "            reward = +1\n",
    "\n",
    "        elif (pos == 0 or pos == 2):\n",
    "            if action == 1:\n",
    "                reward = 0\n",
    "            else:\n",
    "                reward = -1\n",
    "        else:\n",
    "            reward = -1\n",
    "\n",
    "        pos_list.append(action)\n",
    "        total_reward += reward\n",
    "\n",
    "        # Final state\n",
    "        if t == times - look_back:\n",
    "            done = True\n",
    "\n",
    "        # Receive next state and position\n",
    "        next_state = dataX[t:t + look_back, :][np.newaxis, :, :]\n",
    "        next_pos = dataY[t + look_back - 1]\n",
    "\n",
    "        # Remember current experience\n",
    "        agent.remember(state, action, reward, next_state, done)\n",
    "\n",
    "        # Make next_state the new current state; the same for pos\n",
    "        state = next_state\n",
    "        pos = next_pos\n",
    "\n",
    "        if done:\n",
    "            print('Total Reward: %i' % total_reward)\n",
    "\n",
    "    return np.array(pos_list)"
   ]
  },
  {
   "cell_type": "code",
   "execution_count": 18,
   "metadata": {},
   "outputs": [
    {
     "name": "stdout",
     "output_type": "stream",
     "text": [
      "Total Reward: 107\n",
      "Accuracy: 85.00 %\n"
     ]
    }
   ],
   "source": [
    "# Evaluate the model\n",
    "# Make predictions\n",
    "y_pred_test = evaluate(agent, X_test, y_test, look_back)\n",
    "\n",
    "# Calculate and print accuracy\n",
    "acc = accuracy_score(y_test[look_back-1:-1], y_pred_test)\n",
    "\n",
    "print('Accuracy: %.2f %%' % (acc*100))"
   ]
  },
  {
   "cell_type": "code",
   "execution_count": 19,
   "metadata": {},
   "outputs": [
    {
     "name": "stdout",
     "output_type": "stream",
     "text": [
      "      1-Precision  2-Recall  3-F1 score  4-Support\n",
      "-1.0        0.882     0.965       0.921         85\n",
      " 0.0        0.804     0.902       0.851         41\n",
      " 1.0        0.000     0.000       0.000         14\n"
     ]
    }
   ],
   "source": [
    "# Calculate and print precision, recall, f1 score and support\n",
    "p, r, f1, s = precision_recall_fscore_support(y_test[look_back-1:-1], y_pred_test, average=None)\n",
    "results = pd.DataFrame({'1-Precision': p, '2-Recall': r, '3-F1 score': f1, '4-Support': s}, index=le.classes_)\n",
    "\n",
    "print(results.round(decimals=3))"
   ]
  },
  {
   "cell_type": "code",
   "execution_count": 20,
   "metadata": {},
   "outputs": [],
   "source": [
    "# Decodificate labels\n",
    "y_true_test = le.inverse_transform(y_test[look_back-1:-1])\n",
    "y_pred_test = le.inverse_transform(y_pred_test)"
   ]
  },
  {
   "cell_type": "code",
   "execution_count": 21,
   "metadata": {},
   "outputs": [
    {
     "data": {
      "image/png": "[encoded data removed]",
      "text/plain": [
       "<Figure size 432x288 with 1 Axes>"
      ]
     },
     "metadata": {
      "needs_background": "light"
     },
     "output_type": "display_data"
    }
   ],
   "source": [
    "# Plot strategy\n",
    "plt.figure()\n",
    "plt.plot(y_true_test, label='true')\n",
    "plt.plot(y_pred_test, label='pred')\n",
    "plt.legend()\n",
    "plt.show()"
   ]
  },
  {
   "cell_type": "code",
   "execution_count": null,
   "metadata": {},
   "outputs": [],
   "source": []
  }
 ],
 "metadata": {
  "kernelspec": {
   "display_name": "Python 3",
   "language": "python",
   "name": "python3"
  },
  "language_info": {
   "codemirror_mode": {
    "name": "ipython",
    "version": 3
   },
   "file_extension": ".py",
   "mimetype": "text/x-python",
   "name": "python",
   "nbconvert_exporter": "python",
   "pygments_lexer": "ipython3",
   "version": "3.7.6"
  }
 },
 "nbformat": 4,
 "nbformat_minor": 2
}
