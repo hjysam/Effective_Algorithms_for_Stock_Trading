{
 "cells": [
  {
   "cell_type": "code",
   "execution_count": 1,
   "metadata": {
    "scrolled": true
   },
   "outputs": [
    {
     "name": "stderr",
     "output_type": "stream",
     "text": [
      "C:\\Users\\Elid-PC.DESKTOP-MG9DS93\\anaconda3\\lib\\site-packages\\pandas_datareader\\compat\\__init__.py:7: FutureWarning: pandas.util.testing is deprecated. Use the functions in the public API at pandas.testing instead.\n",
      "  from pandas.util.testing import assert_frame_equal\n"
     ]
    },
    {
     "data": {
      "application/javascript": [
       "\n",
       "console.log('Starting front end url_querystring_target comm target');\n",
       "const comm = Jupyter.notebook.kernel.comm_manager.new_comm('url_querystring_target', {'init': 1});\n",
       "comm.send({'ipyparams_browser_url': window.location.href});\n",
       "console.log('Sent window.location.href on url_querystring_target comm target');\n",
       "\n",
       "comm.on_msg(function(msg) {\n",
       "    console.log(msg.content.data);\n",
       "});\n"
      ],
      "text/plain": [
       "<IPython.core.display.Javascript object>"
      ]
     },
     "metadata": {},
     "output_type": "display_data"
    },
    {
     "name": "stderr",
     "output_type": "stream",
     "text": [
      "Using TensorFlow backend.\n"
     ]
    }
   ],
   "source": [
    "# Import libraries\n",
    "import pandas as pd\n",
    "from pandas_datareader import data as pdr\n",
    "\n",
    "import numpy as np\n",
    "import matplotlib.pyplot as plt\n",
    "import pickle\n",
    "\n",
    "from sklearn import preprocessing\n",
    "from sklearn.metrics import accuracy_score\n",
    "from sklearn.metrics import precision_recall_fscore_support\n",
    "\n",
    "import talib, re, ipyparams\n",
    "\n",
    "from Agent import Agent"
   ]
  },
  {
   "cell_type": "code",
   "execution_count": 2,
   "metadata": {},
   "outputs": [
    {
     "data": {
      "text/plain": [
       "755"
      ]
     },
     "execution_count": 2,
     "metadata": {},
     "output_type": "execute_result"
    }
   ],
   "source": [
    "end_date = '2020-04-19'\n",
    "start_date = '2017-04-20'\n",
    "\n",
    "\n",
    "symbol = 'WMT'\n",
    "Date = pd.DataFrame(pdr.DataReader(symbol,'yahoo', start_date, end_date))\n",
    "\n",
    "alldata = pd.DataFrame({'Date': Date.index})\n",
    "alldata[symbol] = pdr.DataReader(symbol, 'yahoo', start_date, end_date)['Adj Close'].values\n",
    "# Stock symbol\n",
    "\n",
    "# Load close prices of to NumPy array\n",
    "close = alldata[symbol].values\n",
    "len(close)"
   ]
  },
  {
   "cell_type": "code",
   "execution_count": 3,
   "metadata": {},
   "outputs": [
    {
     "data": {
      "text/plain": [
       "array([ 69.02728271,  69.70759583,  69.83805084,  69.68895721,\n",
       "        69.94056702,  70.29469299,  70.30400848,  70.06171417,\n",
       "        70.10832214,  70.37856293,  70.60222626,  71.14273834,\n",
       "        71.29184723,  70.93772888,  71.49687958,  71.95656586,\n",
       "        71.42182159,  71.02779388,  71.57189941,  70.46489716,\n",
       "        70.4743042 ,  72.74462891,  73.89855194,  73.69216156,\n",
       "        73.63586426,  73.31689453,  73.46699524,  73.29813385,\n",
       "        73.31689453,  73.73906708,  74.8742218 ,  74.69597626,\n",
       "        75.29640961,  74.04864502,  74.25504303,  74.04864502,\n",
       "        74.50833893,  74.33947754,  74.60216522,  74.95865631,\n",
       "        74.0298996 ,  70.5868454 ,  70.83078003,  70.86830902,\n",
       "        71.52502441,  70.84953308,  70.21160126,  70.83078003,\n",
       "        71.30923462,  71.77832031,  71.23420715,  70.99964142,\n",
       "        70.69944763,  70.66191101,  70.80263519,  70.67129517,\n",
       "        68.70115662,  68.9263382 ,  69.36726379,  70.40860748,\n",
       "        71.61882782,  71.64697266,  71.48748779,  71.17789459,\n",
       "        71.31861115,  71.4405899 ,  72.13481903,  73.66400146,\n",
       "        74.02050781,  74.84609985,  74.8742218 ,  75.04309845,\n",
       "        75.5215683 ,  75.54970551,  75.8686676 ,  75.50279999,\n",
       "        76.25332642,  76.54414368,  77.04450989,  76.1476593 ,\n",
       "        75.90219116,  76.18540192,  76.2514801 ,  76.44975281,\n",
       "        75.24133301,  74.87317657,  75.2507782 ,  75.5434494 ,\n",
       "        75.48680115,  73.95742798,  74.23120117,  73.66477966,\n",
       "        74.3633728 ,  74.14624023,  73.70253754,  73.98574829,\n",
       "        75.33576202,  75.60009766,  75.63785553,  74.46721649,\n",
       "        74.65604401,  75.15638733,  75.39241028,  75.22246552,\n",
       "        75.88328552,  75.52455902,  75.57177734,  75.99659729,\n",
       "        75.53400421,  75.08085632,  74.72212219,  74.94868469,\n",
       "        74.85429382,  74.53329468,  73.76862335,  74.0612793 ,\n",
       "        74.78819275,  74.66547394,  74.96756744,  74.580513  ,\n",
       "        76.02492523,  79.42352295,  80.93399811,  81.28331757,\n",
       "        81.77422333,  80.94345093,  81.17002869,  81.39660645,\n",
       "        81.56653595,  82.54836273,  83.69065857,  83.05814362,\n",
       "        83.53016663,  83.66234589,  83.23751068,  82.08576202,\n",
       "        82.4256134 ,  83.02038574,  83.83228302,  84.66303253,\n",
       "        83.73786926,  83.97388458,  85.21059418,  85.24835968,\n",
       "        85.83365631,  85.89974976,  85.99415588,  84.80464172,\n",
       "        94.04697418,  92.01725006,  92.02668762,  91.12039185,\n",
       "        91.01655579,  91.21479797,  91.21479797,  91.35639191,\n",
       "        92.10221863,  91.7906723 ,  91.90394592,  91.58299255,\n",
       "        92.35710144,  91.837883  ,  91.8473587 ,  91.62908173,\n",
       "        91.98971558,  91.7714386 ,  92.77742004,  92.17952728,\n",
       "        92.16055298,  92.91027069,  93.76441193,  93.71695709,\n",
       "        93.06212616,  93.20448303,  94.10606384,  94.20096588,\n",
       "        94.33382416,  93.71695709,  93.56510925,  94.38127899,\n",
       "        94.46669006,  95.02662659,  96.43117523,  95.27337646,\n",
       "        94.590065  ,  94.92222595,  95.72890472,  95.55808258,\n",
       "        97.46563721,  98.98408508,  99.25930786, 100.07546234,\n",
       "       100.50254059, 100.39813995, 101.16685486, 102.86562347,\n",
       "       103.96651459, 102.23926544, 101.16685486, 100.14190674,\n",
       "        99.15492249,  94.98865509,  95.75737762,  97.60798645,\n",
       "        94.92222595,  94.30535889,  94.4761734 ,  95.83329773,\n",
       "        96.5165863 ,  97.96863556,  99.43961334,  89.31343842,\n",
       "        86.85543823,  88.04173279,  88.15563202,  88.37389374,\n",
       "        86.85543823,  85.42240906,  84.53980255,  84.2456131 ,\n",
       "        85.39394379,  84.52082062,  83.26809692,  83.93639374,\n",
       "        84.70014191,  84.0796051 ,  84.29917145,  83.69772339,\n",
       "        83.54496002,  85.12975311,  83.48767853,  83.96501923,\n",
       "        84.18460846,  83.19172668,  81.54965973,  83.53541565,\n",
       "        82.15113068,  83.79318237,  84.93881989,  81.67378235,\n",
       "        82.86714935,  83.26811218,  83.83137512,  82.76212311,\n",
       "        82.37068939,  82.53299713,  82.01747131,  81.55921936,\n",
       "        82.12247467,  82.90531921,  83.91729736,  83.60225677,\n",
       "        83.90776062,  83.03899384,  82.19886017,  82.609375  ,\n",
       "        83.22037506,  83.95549011,  83.33493805,  84.45192719,\n",
       "        83.44950867,  82.42798615,  82.32298279,  83.5640564 ,\n",
       "        81.59740448,  81.85516357,  79.29659271,  79.44069672,\n",
       "        80.10359192,  81.07389069,  81.1987915 ,  82.74552917,\n",
       "        81.16996002,  80.35336304,  81.18919373,  80.09398651,\n",
       "        79.7481308 ,  79.59440613,  79.21974182,  79.16210175,\n",
       "        80.8144989 ,  79.29659271,  79.72891235,  82.06341553,\n",
       "        81.29486847,  81.23722839,  81.61190033,  81.04508209,\n",
       "        80.98744202,  80.79529572,  80.78569031,  80.4974823 ,\n",
       "        80.41101074,  79.73851776,  80.32455444,  80.32455444,\n",
       "        80.90096283,  81.48701477,  83.07217407,  82.60142517,\n",
       "        83.47566223,  82.48612976,  82.28439331,  80.69922638,\n",
       "        81.12193298,  81.24681854,  81.18919373,  82.55338287,\n",
       "        83.78308868,  83.12981415,  83.12020111,  84.25382996,\n",
       "        84.19618225,  84.72457123,  84.60929871,  84.27304077,\n",
       "        84.59968567,  84.18657684,  84.5036087 ,  84.44597626,\n",
       "        84.76300812,  84.66693115,  85.38746643,  85.72372437,\n",
       "        84.7726059 ,  85.27218628,  86.07917023,  86.14641571,\n",
       "        86.24250031,  86.5114975 ,  86.00902557,  87.13957214,\n",
       "        86.61777496,  87.78697205,  87.17822266,  95.31434631,\n",
       "        94.55097198,  92.76334381,  92.84065247,  92.4444809 ,\n",
       "        91.97099304,  91.74874878,  91.35256958,  92.83098602,\n",
       "        92.4154892 ,  92.85997772,  92.62807465,  92.14492798,\n",
       "        93.36245728,  93.19817352,  92.59908295,  93.63301086,\n",
       "        93.3817749 ,  92.734375  ,  91.91300964,  91.40089417,\n",
       "        91.62313843,  92.21257019,  92.02896881,  92.52178955,\n",
       "        92.66672516,  91.71975708,  91.89369202,  91.40089417,\n",
       "        90.95639801,  90.74382782,  91.21729279,  91.94200897,\n",
       "        90.89842224,  91.03369141,  90.16404724,  91.49752045,\n",
       "        93.80693817,  92.53145599,  90.75348663,  91.61347961,\n",
       "        90.65685272,  92.57975006,  93.30447388,  92.92761993,\n",
       "        93.87457275,  93.86491394,  94.50266266,  94.27075195,\n",
       "        95.83613586,  95.60422516,  96.43523407,  98.96690369,\n",
       "        96.89904022,  97.18893433,  97.92330933,  99.44038391,\n",
       "        99.84622955, 100.80284119, 101.34396362, 102.00102997,\n",
       "       100.36801147,  99.46936798,  98.10691071,  96.18400574,\n",
       "        94.39636993,  93.51704407,  90.98538971,  90.99505615,\n",
       "        91.89369202,  91.94200897,  91.83572388,  94.1741333 ,\n",
       "        94.00985718,  94.35772705,  95.42063904,  92.57975006,\n",
       "        92.07453918,  90.53948975,  91.26815796,  91.18070984,\n",
       "        90.4617691 ,  90.31603241,  89.23760223,  88.18831635,\n",
       "        88.48950195,  87.97457123,  84.79758453,  84.65184784,\n",
       "        83.37909698,  87.83856201,  88.98498535,  89.50963593,\n",
       "        90.50062561,  90.68521118,  90.21887207,  90.78237915,\n",
       "        91.85108948,  92.4923172 ,  92.19113922,  92.25914764,\n",
       "        92.14255524,  92.24942017,  93.51245117,  93.60961151,\n",
       "        93.98851776,  94.95036316,  94.71717834,  95.90248871,\n",
       "        95.56243896,  94.18283844,  94.29940796,  93.95937347,\n",
       "        92.10369873,  93.10439301,  91.19043732,  92.07453918,\n",
       "        92.8809433 ,  92.9197998 ,  93.97880554,  92.86151123,\n",
       "        93.46387482,  94.2119751 ,  95.15438843,  95.71788025,\n",
       "        97.14608002,  99.29322052,  97.03920746,  96.5631485 ,\n",
       "        96.71858978,  96.3008194 ,  95.88305664,  95.31954956,\n",
       "        96.1745224 ,  95.14467621,  95.06694031,  95.5430069 ,\n",
       "        95.46528625,  94.67832947,  94.81433868,  95.679039  ,\n",
       "        95.57215881,  96.21338654,  95.939888  ,  96.13524628,\n",
       "        97.34646606,  97.53205109,  96.3501358 ,  96.76036835,\n",
       "        95.99848938,  95.89104462,  96.03755951,  94.95332336,\n",
       "        94.87518311,  95.26589966,  95.54916382,  94.68959808,\n",
       "        94.93380737,  95.83243561,  96.53572845,  96.92644501,\n",
       "        96.39897919,  97.28784943,  98.45999908,  99.20233917,\n",
       "       100.05216217, 100.54055023, 100.76520538, 100.78473663,\n",
       "        99.99354553, 100.67729187, 101.12661743, 101.11684418,\n",
       "        99.1730423 ,  99.20233917, 100.45263672,  99.00698853,\n",
       "        98.80185699,  99.710289  , 100.08145142,  98.94839478,\n",
       "        97.97159576,  97.7457428 , 100.07302094,  98.08942413,\n",
       "        98.48223114,  98.07961273,  99.48383331,  99.04195404,\n",
       "        99.69004059,  99.2972641 , 100.38725281, 100.02392578,\n",
       "       100.81931305, 100.57382965, 100.27924347, 100.34797668,\n",
       "        99.61149597, 100.12212372, 100.71130371, 102.5377655 ,\n",
       "       103.21533966, 104.14821625, 105.58190155, 105.99433136,\n",
       "       106.8584671 , 106.69152832, 107.10396576, 107.19234467,\n",
       "       107.67350006, 107.64404297, 108.33142853, 109.12682343,\n",
       "       109.23484039, 108.72422028, 108.17432404, 108.11539459,\n",
       "       108.49835968, 108.62602234, 109.58834839, 110.29537201,\n",
       "       109.9615097 , 110.68816376, 110.84528351, 110.94348145,\n",
       "       111.866539  , 112.53427887, 112.90743256, 112.69139862,\n",
       "       112.53427887, 112.6521225 , 111.84690094, 110.78636932,\n",
       "       110.06952667, 109.98114777, 110.1971817 , 110.98275757,\n",
       "       110.24627686, 110.04006958, 108.39034271, 107.40836334,\n",
       "       107.42800903, 103.91255188, 105.33640289, 106.24964142,\n",
       "       107.08842468, 105.86477661, 103.83196259, 105.99307251,\n",
       "       104.79902649, 111.20342255, 111.49945068, 112.30863953,\n",
       "       110.57186127, 110.54225159, 110.43370819, 109.36795044,\n",
       "       110.51264191, 110.9369812 , 111.23301697, 112.57508087,\n",
       "       112.75270844, 113.12769318, 114.3809433 , 113.91713715,\n",
       "       113.21650696, 114.7953949 , 114.51908875, 114.48947906,\n",
       "       115.37760925, 115.88088989, 114.04541779, 114.97303009,\n",
       "       115.61445618, 115.56510925, 115.43682861, 116.06838226,\n",
       "       116.83808899, 116.90717316, 116.7394104 , 116.88743591,\n",
       "       117.11439514, 116.29534912, 114.58817291, 114.77565765,\n",
       "       116.60125732, 115.68353271, 116.02891541, 117.36110687,\n",
       "       118.03213501, 118.65381622, 117.59793091, 117.95317841,\n",
       "       117.84463501, 118.25909424, 117.56832886, 118.16040802,\n",
       "       118.00252533, 117.77555847, 117.52885437, 117.46964264,\n",
       "       117.64727783, 115.60458374, 116.54204559, 115.71313477,\n",
       "       116.06838226, 116.01904297, 117.29203033, 117.92357635,\n",
       "       118.64395142, 117.86437988, 117.46964264, 117.54859924,\n",
       "       119.38405609, 119.05841064, 117.30189514, 118.66368866,\n",
       "       118.30844116, 117.55846405, 118.27883148, 117.78543091,\n",
       "       117.35121918, 117.61766815, 117.19334412, 117.51898956,\n",
       "       117.70648956, 117.10453033, 117.12426758, 117.61988831,\n",
       "       118.73006439, 118.31375122, 118.09567261, 117.95690155,\n",
       "       118.71024323, 119.2355957 , 119.48339844, 120.21691132,\n",
       "       118.80936432, 119.0274353 , 119.2355957 , 117.9866333 ,\n",
       "       118.46243286, 118.47233582, 118.54172516, 118.35340118,\n",
       "       117.7983017 , 117.89743042, 116.85663605, 116.61873627,\n",
       "       115.53829193, 115.1417923 , 116.33128357, 115.35986328,\n",
       "       114.86424255, 115.16162109, 114.26950836, 114.88407898,\n",
       "       113.95230865, 114.57678986, 115.08232117, 114.79486084,\n",
       "       113.36748505, 114.84442902, 115.57793427, 114.87416077,\n",
       "       115.5581131 , 113.48643494, 113.26836395, 114.25959015,\n",
       "       115.78609467, 115.29048157, 115.42925262, 114.23976898,\n",
       "       114.38845825, 114.8345108 , 116.41057587, 116.85663605,\n",
       "       118.58137512, 116.64847565, 116.65838623, 117.54058075,\n",
       "       115.30039215, 113.38730621, 112.78266144, 109.43228149,\n",
       "       106.73612976, 114.86424255, 111.92028809, 115.7464447 ,\n",
       "       114.90390015, 116.2024231 , 116.13303375, 118.7399826 ,\n",
       "       113.42695618, 103.13794708, 113.09985352, 105.82419586,\n",
       "       118.21463013, 121.50552368, 118.92685699, 113.47086334,\n",
       "       113.77950287, 114.5262146 , 108.92087555, 109.33903503,\n",
       "       109.10009003, 114.68551636, 113.12239838, 113.64011383,\n",
       "       118.13036346, 118.9567337 , 125.51786804, 121.45573425,\n",
       "       121.30638885, 121.26657104, 124.75124359, 128.43502808,\n",
       "       128.19607544, 131.75045776, 131.54136658])"
      ]
     },
     "execution_count": 3,
     "metadata": {},
     "output_type": "execute_result"
    }
   ],
   "source": [
    "close"
   ]
  },
  {
   "cell_type": "code",
   "execution_count": 4,
   "metadata": {},
   "outputs": [
    {
     "data": {
      "text/html": [
       "<div>\n",
       "<style scoped>\n",
       "    .dataframe tbody tr th:only-of-type {\n",
       "        vertical-align: middle;\n",
       "    }\n",
       "\n",
       "    .dataframe tbody tr th {\n",
       "        vertical-align: top;\n",
       "    }\n",
       "\n",
       "    .dataframe thead th {\n",
       "        text-align: right;\n",
       "    }\n",
       "</style>\n",
       "<table border=\"1\" class=\"dataframe\">\n",
       "  <thead>\n",
       "    <tr style=\"text-align: right;\">\n",
       "      <th></th>\n",
       "      <th>macd</th>\n",
       "      <th>macdsignal</th>\n",
       "      <th>macdhist</th>\n",
       "    </tr>\n",
       "  </thead>\n",
       "  <tbody>\n",
       "    <tr>\n",
       "      <th>0</th>\n",
       "      <td>1.267062</td>\n",
       "      <td>1.163666</td>\n",
       "      <td>0.103395</td>\n",
       "    </tr>\n",
       "    <tr>\n",
       "      <th>1</th>\n",
       "      <td>1.156508</td>\n",
       "      <td>1.162234</td>\n",
       "      <td>-0.005727</td>\n",
       "    </tr>\n",
       "    <tr>\n",
       "      <th>2</th>\n",
       "      <td>1.153627</td>\n",
       "      <td>1.160513</td>\n",
       "      <td>-0.006886</td>\n",
       "    </tr>\n",
       "    <tr>\n",
       "      <th>3</th>\n",
       "      <td>1.385541</td>\n",
       "      <td>1.205519</td>\n",
       "      <td>0.180023</td>\n",
       "    </tr>\n",
       "    <tr>\n",
       "      <th>4</th>\n",
       "      <td>1.439001</td>\n",
       "      <td>1.252215</td>\n",
       "      <td>0.186786</td>\n",
       "    </tr>\n",
       "  </tbody>\n",
       "</table>\n",
       "</div>"
      ],
      "text/plain": [
       "       macd  macdsignal  macdhist\n",
       "0  1.267062    1.163666  0.103395\n",
       "1  1.156508    1.162234 -0.005727\n",
       "2  1.153627    1.160513 -0.006886\n",
       "3  1.385541    1.205519  0.180023\n",
       "4  1.439001    1.252215  0.186786"
      ]
     },
     "execution_count": 4,
     "metadata": {},
     "output_type": "execute_result"
    }
   ],
   "source": [
    "macd, macdsignal, macdhist = talib.MACD(close, fastperiod=5, slowperiod=20, signalperiod=9)\n",
    "macdhist = macdhist[~np.isnan(macdhist)]\n",
    "macd = macd[-len(macdhist):]\n",
    "macdsignal = macdsignal[-len(macdhist):]\n",
    "\n",
    "\n",
    "pd.DataFrame({'macd': macd, 'macdsignal': macdsignal, 'macdhist': macdhist}).head()"
   ]
  },
  {
   "cell_type": "code",
   "execution_count": 5,
   "metadata": {},
   "outputs": [],
   "source": [
    "def prepare_dataset(close):\n",
    "    \"\"\"\n",
    "    Function prepare_dataset to generate input data and trading strategy from stock close prices\n",
    "    \"\"\"\n",
    "\n",
    "    macd, macdsignal, macdhist = talib.MACD(close, fastperiod=12, slowperiod=26, signalperiod=9)\n",
    "\n",
    "    # Cancel NaN values\n",
    "    macdhist = macdhist[~np.isnan(macdhist)]\n",
    "    macd = macd[-len(macdhist):]\n",
    "    macdsignal = macdsignal[-len(macdhist):]\n",
    "\n",
    "    # Scaling features to a range [0, 1]\n",
    "    min_max_scaler = preprocessing.MinMaxScaler(feature_range=(-1, 1))\n",
    "    macdhist_norm = min_max_scaler.fit_transform(np.expand_dims(macdhist, axis=1))\n",
    "\n",
    "    # Implement strategy\n",
    "    start_sell = 0.2\n",
    "    stop_sell = 0.05\n",
    "    start_buy = -0.2\n",
    "    stop_buy = -0.05\n",
    "\n",
    "    y = np.full(len(macdhist), np.nan)\n",
    "    y[0] = 0\n",
    "\n",
    "    for i in range(1, len(macdhist)):\n",
    "\n",
    "        if y[i-1] == 0:\n",
    "            if (macdhist_norm[i] >= start_sell):\n",
    "                # Enter sell position\n",
    "                y[i] = -1\n",
    "            elif (macdhist_norm[i] <= start_buy):\n",
    "                # Enter buy position\n",
    "                y[i] = 1\n",
    "            else:\n",
    "                y[i] = 0\n",
    "        elif y[i-1] == -1:\n",
    "            if macdhist_norm[i] > stop_sell:\n",
    "                # Stay in sell position\n",
    "                y[i] = -1\n",
    "            else:\n",
    "                # Leave sell position\n",
    "                y[i] = 0\n",
    "        else:\n",
    "            if macdhist_norm[i] < stop_buy:\n",
    "                # Stay in buy position\n",
    "                y[i] = 1\n",
    "            else:\n",
    "                # Leave buy position\n",
    "                y[i] = 0\n",
    "\n",
    "    # Plot strategy\n",
    "    dates = np.arange(len(macdhist))\n",
    "    plt.plot(dates, y,'g', label='Strategy Positions')\n",
    "    plt.bar(dates, macdhist_norm[:, 0], width=1, color='blue', label='MACD histogram')\n",
    "    plt.plot(dates, start_sell * np.ones(len(macdhist)), 'k--', lw=1)\n",
    "    plt.plot(dates, stop_sell * np.ones(len(macdhist)), 'k--', lw=1)\n",
    "    plt.plot(dates, start_buy * np.ones(len(macdhist)), 'k--', lw=1)\n",
    "    plt.plot(dates, stop_buy * np.ones(len(macdhist)), 'k--', lw=1)\n",
    "    plt.xlabel('Days')\n",
    "    plt.xlim((0, len(y)))\n",
    "    plt.legend()\n",
    "    # plt.savefig('images/AAL_macd.png', bbox_inches='tight')\n",
    "    plt.show()\n",
    "    \n",
    "    # Generate input data - technical indicators\n",
    "    ind1 = talib.MIDPOINT(close)    # Overlap: MidPoint over period\n",
    "    ind2 = talib.HT_DCPERIOD(close) # Cycle Indicator Functions:  Hilbert Transform - Dominant Cycle Period\n",
    "    ind3 = talib.MAX(close)         # Math Operator: Highest value over a specified period\n",
    "    ind4 = talib.SIN(close)         # Math Transform: Vector Trigonometric Sin\n",
    "    ind5 = talib.APO(close)         # Momentum: Absolute Price Oscillator\n",
    "    ind6 = talib.TEMA(close, timeperiod=5) ## Triple Exponential Moving Average\n",
    "\n",
    "    x = np.vstack((macdhist, macd, macdsignal, ind1[-len(macdhist):], ind2[-len(macdhist):],\n",
    "                   ind3[-len(macdhist):], ind4[-len(macdhist):], ind5[-len(macdhist):],\n",
    "                   ind6[-len(macdhist):]))\n",
    "    x = x.T\n",
    "\n",
    "    return x, y"
   ]
  },
  {
   "cell_type": "code",
   "execution_count": 6,
   "metadata": {},
   "outputs": [
    {
     "data": {
      "image/png": "[encoded data removed]",
      "text/plain": [
       "<Figure size 432x288 with 1 Axes>"
      ]
     },
     "metadata": {
      "needs_background": "light"
     },
     "output_type": "display_data"
    }
   ],
   "source": [
    "# Implement MACD trading strategy\n",
    "X, y = prepare_dataset(close)"
   ]
  },
  {
   "cell_type": "code",
   "execution_count": 7,
   "metadata": {},
   "outputs": [
    {
     "data": {
      "text/plain": [
       "array([ 0.0789672 ,  1.18907845,  1.11011125, 72.8853569 , 17.21176483,\n",
       "       75.29640961, -0.975631  ,  1.52075264, 74.52678537])"
      ]
     },
     "execution_count": 7,
     "metadata": {},
     "output_type": "execute_result"
    }
   ],
   "source": [
    "X[0]"
   ]
  },
  {
   "cell_type": "code",
   "execution_count": 8,
   "metadata": {},
   "outputs": [],
   "source": [
    "# Split dataset\n",
    "n_train = int(X.shape[0] * 0.8)\n",
    "\n",
    "X_train, y_train = X[:n_train], y[:n_train]\n",
    "X_test, y_test = X[n_train:], y[n_train:]"
   ]
  },
  {
   "cell_type": "code",
   "execution_count": 9,
   "metadata": {},
   "outputs": [],
   "source": [
    "# Normalize data\n",
    "scaler = preprocessing.MinMaxScaler()\n",
    "\n",
    "X_train = scaler.fit_transform(X_train)\n",
    "X_test = scaler.transform(X_test)"
   ]
  },
  {
   "cell_type": "code",
   "execution_count": 10,
   "metadata": {},
   "outputs": [
    {
     "name": "stdout",
     "output_type": "stream",
     "text": [
      "[-1.  0.  1.]\n"
     ]
    }
   ],
   "source": [
    "# Encode trading signal with integers between 0 and n-1 classes\n",
    "le = preprocessing.LabelEncoder()\n",
    "\n",
    "y_train = le.fit_transform(y_train)\n",
    "y_test = le.transform(y_test)\n",
    "\n",
    "print(le.classes_)"
   ]
  },
  {
   "cell_type": "code",
   "execution_count": 11,
   "metadata": {},
   "outputs": [],
   "source": [
    "## Create and train the Agent\n",
    "# Variable definiton\n",
    "episodes = 20\n",
    "look_back = 5\n",
    "batch_size = 32\n",
    "action_size = len(le.classes_)\n",
    "n_features = X_train.shape[1]"
   ]
  },
  {
   "cell_type": "code",
   "execution_count": 12,
   "metadata": {},
   "outputs": [],
   "source": [
    "# Create Agent\n",
    "agent = Agent(look_back, action_size, n_features)"
   ]
  },
  {
   "cell_type": "code",
   "execution_count": 13,
   "metadata": {},
   "outputs": [],
   "source": [
    "def run(agent, dataX, dataY, episodes, look_back):\n",
    "    \"\"\"\n",
    "    Function run to train the agent\n",
    "    \"\"\"\n",
    "    \n",
    "    # Length of dataset\n",
    "    times = len(dataX)\n",
    "\n",
    "    # List of total rewards\n",
    "    total_reward_list = []\n",
    "\n",
    "    for ep in range(episodes):\n",
    "\n",
    "        # print('Episode: ' + str(ep))\n",
    "        \n",
    "        # Initial state and position\n",
    "        state = dataX[:look_back, :][np.newaxis, :, :]\n",
    "        pos = dataY[look_back - 1]\n",
    "\n",
    "        done = False\n",
    "        total_reward = 0\n",
    "\n",
    "        for t in range(1, times - look_back + 1):\n",
    "\n",
    "            # Predict action based on the current state\n",
    "            action = agent.act(state)\n",
    "\n",
    "            # Calculate reward\n",
    "            if action == pos:   # 0:-1      1:0     2:1\n",
    "                reward = +1\n",
    "\n",
    "            elif (pos == 0 or pos == 2):\n",
    "                if action == 1:\n",
    "                    reward = 0\n",
    "                else:\n",
    "                    reward = -1\n",
    "            else:\n",
    "                reward = -1\n",
    "\n",
    "            total_reward += reward\n",
    "\n",
    "            # Final state\n",
    "            if t == times - look_back:\n",
    "                done = True\n",
    "\n",
    "            # Receive next state and position\n",
    "            next_state = dataX[t:t + look_back, :][np.newaxis, :, :]\n",
    "            next_pos = dataY[t + look_back - 1]\n",
    "            \n",
    "            # Remember current experience\n",
    "            agent.remember(state, action, reward, next_state, done)\n",
    "            \n",
    "            # Make next_state the new current state; the same for pos\n",
    "            state = next_state\n",
    "            pos = next_pos\n",
    "\n",
    "            if done:\n",
    "                print('Episode: %i ---> Total Reward: %i' %(ep, total_reward))\n",
    "                total_reward_list.append(total_reward)\n",
    "\n",
    "            # Train the agent with previous experiences\n",
    "            if len(agent.memory) > batch_size:\n",
    "                agent.replay(batch_size)\n",
    "\n",
    "        if (ep + 1) % 5 == 0 and ep > 0:\n",
    "            file = 'checkpoints/' + symbol + '_robot_checkpoint' + str(ep + 1)\n",
    "            # Serialize weights to HDF5\n",
    "            agent.model.save_weights(file + \".h5\")\n",
    "            # Save epsilon\n",
    "            pickle.dump(agent.epsilon, open(file + \"_epsilon.pickle\", \"wb\"))\n",
    "\n",
    "    # Save list of rewards along the epochs\n",
    "    np.savetxt(file + '_total_reward.txt', total_reward_list)\n",
    "\n",
    "    return\n"
   ]
  },
  {
   "cell_type": "code",
   "execution_count": 14,
   "metadata": {},
   "outputs": [
    {
     "name": "stdout",
     "output_type": "stream",
     "text": [
      "Episode: 0 ---> Total Reward: 110\n",
      "Episode: 1 ---> Total Reward: 323\n",
      "Episode: 2 ---> Total Reward: 365\n",
      "Episode: 3 ---> Total Reward: 360\n",
      "Episode: 4 ---> Total Reward: 380\n",
      "Episode: 5 ---> Total Reward: 357\n",
      "Episode: 6 ---> Total Reward: 374\n",
      "Episode: 7 ---> Total Reward: 423\n",
      "Episode: 8 ---> Total Reward: 404\n",
      "Episode: 9 ---> Total Reward: 445\n",
      "Episode: 10 ---> Total Reward: 415\n",
      "Episode: 11 ---> Total Reward: 418\n",
      "Episode: 12 ---> Total Reward: 433\n",
      "Episode: 13 ---> Total Reward: 426\n",
      "Episode: 14 ---> Total Reward: 432\n",
      "Episode: 15 ---> Total Reward: 430\n",
      "Episode: 16 ---> Total Reward: 439\n",
      "Episode: 17 ---> Total Reward: 467\n",
      "Episode: 18 ---> Total Reward: 442\n",
      "Episode: 19 ---> Total Reward: 467\n"
     ]
    }
   ],
   "source": [
    "# Train Agent\n",
    "run(agent, X_train, y_train, episodes, look_back)"
   ]
  },
  {
   "cell_type": "code",
   "execution_count": 15,
   "metadata": {},
   "outputs": [
    {
     "data": {
      "image/png": "[encoded data removed]",
      "text/plain": [
       "<Figure size 432x288 with 1 Axes>"
      ]
     },
     "metadata": {
      "needs_background": "light"
     },
     "output_type": "display_data"
    }
   ],
   "source": [
    "# Load rewards\n",
    "total_reward_list = np.loadtxt( 'checkpoints/'+ symbol + '_robot_checkpoint' + str(episodes) + '_total_reward.txt')\n",
    "# Plot\n",
    "plt.figure()\n",
    "plt.plot(np.arange(1, episodes+1), total_reward_list)\n",
    "plt.xlabel('Episodes')\n",
    "plt.ylabel('Total Reward')\n",
    "plt.show()"
   ]
  },
  {
   "cell_type": "code",
   "execution_count": 16,
   "metadata": {},
   "outputs": [
    {
     "data": {
      "text/plain": [
       "array([110., 323., 365., 360., 380., 357., 374., 423., 404., 445., 415.,\n",
       "       418., 433., 426., 432., 430., 439., 467., 442., 467.])"
      ]
     },
     "execution_count": 16,
     "metadata": {},
     "output_type": "execute_result"
    }
   ],
   "source": [
    "total_reward_list"
   ]
  },
  {
   "cell_type": "code",
   "execution_count": 17,
   "metadata": {},
   "outputs": [],
   "source": [
    "def evaluate(agent, dataX, dataY, look_back):\n",
    "    \"\"\"\n",
    "    Function run to evaluate the trained agent\n",
    "    \"\"\"\n",
    "    \n",
    "    # Length of dataset\n",
    "    times = len(dataX)\n",
    "\n",
    "    # Initial state and position\n",
    "    state = dataX[:look_back, :][np.newaxis, :, :]\n",
    "    pos = dataY[look_back - 1]\n",
    "\n",
    "    # List of predicted positions\n",
    "    pos_list = []\n",
    "    \n",
    "    done = False\n",
    "    total_reward = 0\n",
    "    \n",
    "    for t in range(1, times - look_back + 1):\n",
    "\n",
    "        # Predict action based on the current state\n",
    "        action = agent.act(state)\n",
    "\n",
    "        # Calculate reward\n",
    "        if action == pos:   # 0:-1      1:0     2:1\n",
    "            reward = +1\n",
    "\n",
    "        elif (pos == 0 or pos == 2):\n",
    "            if action == 1:\n",
    "                reward = 0\n",
    "            else:\n",
    "                reward = -1\n",
    "        else:\n",
    "            reward = -1\n",
    "\n",
    "        pos_list.append(action)\n",
    "        total_reward += reward\n",
    "\n",
    "        # Final state\n",
    "        if t == times - look_back:\n",
    "            done = True\n",
    "\n",
    "        # Receive next state and position\n",
    "        next_state = dataX[t:t + look_back, :][np.newaxis, :, :]\n",
    "        next_pos = dataY[t + look_back - 1]\n",
    "\n",
    "        # Remember current experience\n",
    "        agent.remember(state, action, reward, next_state, done)\n",
    "\n",
    "        # Make next_state the new current state; the same for pos\n",
    "        state = next_state\n",
    "        pos = next_pos\n",
    "\n",
    "        if done:\n",
    "            print('Total Reward: %i' % total_reward)\n",
    "\n",
    "    return np.array(pos_list)"
   ]
  },
  {
   "cell_type": "code",
   "execution_count": 18,
   "metadata": {},
   "outputs": [
    {
     "name": "stdout",
     "output_type": "stream",
     "text": [
      "Total Reward: 41\n",
      "Accuracy: 50.71 %\n"
     ]
    }
   ],
   "source": [
    "# Evaluate the model\n",
    "# Make predictions\n",
    "y_pred_test = evaluate(agent, X_test, y_test, look_back)\n",
    "\n",
    "# Calculate and print accuracy\n",
    "acc = accuracy_score(y_test[look_back-1:-1], y_pred_test)\n",
    "\n",
    "print('Accuracy: %.2f %%' % (acc*100))"
   ]
  },
  {
   "cell_type": "code",
   "execution_count": 19,
   "metadata": {},
   "outputs": [
    {
     "name": "stdout",
     "output_type": "stream",
     "text": [
      "      1-Precision  2-Recall  3-F1 score  4-Support\n",
      "-1.0        0.520     0.684       0.591         19\n",
      " 0.0        0.361     0.489       0.415         45\n",
      " 1.0        0.667     0.474       0.554         76\n"
     ]
    }
   ],
   "source": [
    "# Calculate and print precision, recall, f1 score and support\n",
    "p, r, f1, s = precision_recall_fscore_support(y_test[look_back-1:-1], y_pred_test, average=None)\n",
    "results = pd.DataFrame({'1-Precision': p, '2-Recall': r, '3-F1 score': f1, '4-Support': s}, index=le.classes_)\n",
    "\n",
    "print(results.round(decimals=3))"
   ]
  },
  {
   "cell_type": "code",
   "execution_count": 20,
   "metadata": {},
   "outputs": [],
   "source": [
    "# Decodificate labels\n",
    "y_true_test = le.inverse_transform(y_test[look_back-1:-1])\n",
    "y_pred_test = le.inverse_transform(y_pred_test)"
   ]
  },
  {
   "cell_type": "code",
   "execution_count": 21,
   "metadata": {},
   "outputs": [
    {
     "data": {
      "image/png": "[encoded data removed]",
      "text/plain": [
       "<Figure size 432x288 with 1 Axes>"
      ]
     },
     "metadata": {
      "needs_background": "light"
     },
     "output_type": "display_data"
    }
   ],
   "source": [
    "# Plot strategy\n",
    "plt.figure()\n",
    "plt.plot(y_true_test, label='true')\n",
    "plt.plot(y_pred_test, label='pred')\n",
    "plt.legend()\n",
    "plt.show()"
   ]
  },
  {
   "cell_type": "code",
   "execution_count": null,
   "metadata": {},
   "outputs": [],
   "source": []
  }
 ],
 "metadata": {
  "kernelspec": {
   "display_name": "Python 3",
   "language": "python",
   "name": "python3"
  },
  "language_info": {
   "codemirror_mode": {
    "name": "ipython",
    "version": 3
   },
   "file_extension": ".py",
   "mimetype": "text/x-python",
   "name": "python",
   "nbconvert_exporter": "python",
   "pygments_lexer": "ipython3",
   "version": "3.7.6"
  }
 },
 "nbformat": 4,
 "nbformat_minor": 2
}
