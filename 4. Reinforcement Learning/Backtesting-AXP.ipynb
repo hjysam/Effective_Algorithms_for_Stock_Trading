{
 "cells": [
  {
   "cell_type": "code",
   "execution_count": 1,
   "metadata": {
    "scrolled": true
   },
   "outputs": [
    {
     "name": "stderr",
     "output_type": "stream",
     "text": [
      "C:\\Users\\Elid-PC.DESKTOP-MG9DS93\\anaconda3\\lib\\site-packages\\pandas_datareader\\compat\\__init__.py:7: FutureWarning: pandas.util.testing is deprecated. Use the functions in the public API at pandas.testing instead.\n",
      "  from pandas.util.testing import assert_frame_equal\n"
     ]
    },
    {
     "data": {
      "application/javascript": [
       "\n",
       "console.log('Starting front end url_querystring_target comm target');\n",
       "const comm = Jupyter.notebook.kernel.comm_manager.new_comm('url_querystring_target', {'init': 1});\n",
       "comm.send({'ipyparams_browser_url': window.location.href});\n",
       "console.log('Sent window.location.href on url_querystring_target comm target');\n",
       "\n",
       "comm.on_msg(function(msg) {\n",
       "    console.log(msg.content.data);\n",
       "});\n"
      ],
      "text/plain": [
       "<IPython.core.display.Javascript object>"
      ]
     },
     "metadata": {},
     "output_type": "display_data"
    },
    {
     "name": "stderr",
     "output_type": "stream",
     "text": [
      "Using TensorFlow backend.\n"
     ]
    }
   ],
   "source": [
    "# Import libraries\n",
    "import pandas as pd\n",
    "from pandas_datareader import data as pdr\n",
    "\n",
    "import numpy as np\n",
    "import matplotlib.pyplot as plt\n",
    "import pickle\n",
    "\n",
    "from sklearn import preprocessing\n",
    "from sklearn.metrics import accuracy_score\n",
    "from sklearn.metrics import precision_recall_fscore_support\n",
    "\n",
    "import talib, re, ipyparams\n",
    "\n",
    "from Agent import Agent"
   ]
  },
  {
   "cell_type": "code",
   "execution_count": 2,
   "metadata": {},
   "outputs": [
    {
     "data": {
      "text/plain": [
       "755"
      ]
     },
     "execution_count": 2,
     "metadata": {},
     "output_type": "execute_result"
    }
   ],
   "source": [
    "end_date = '2020-04-19'\n",
    "start_date = '2017-04-20'\n",
    "\n",
    "symbol = 'AXP'\n",
    "Date = pd.DataFrame(pdr.DataReader(symbol,'yahoo', start_date, end_date))\n",
    "\n",
    "alldata = pd.DataFrame({'Date': Date.index})\n",
    "alldata[symbol] = pdr.DataReader(symbol, 'yahoo', start_date, end_date)['Adj Close'].values\n",
    "# Stock symbol\n",
    "\n",
    "# Load close prices of to NumPy array\n",
    "close = alldata[symbol].values\n",
    "len(close)"
   ]
  },
  {
   "cell_type": "code",
   "execution_count": 3,
   "metadata": {},
   "outputs": [
    {
     "data": {
      "text/plain": [
       "array([ 72.17987823,  76.45048523,  76.03965759,  76.86128998,\n",
       "        77.03326416,  76.92816925,  76.74664307,  75.71481323,\n",
       "        75.69572449,  75.99190521,  75.31357574,  74.83586884,\n",
       "        74.8263092 ,  74.67346191,  74.94094849,  75.14159393,\n",
       "        74.44416046,  74.03334045,  74.83586884,  74.64478302,\n",
       "        72.96330261,  72.97285461,  73.37411499,  73.54608917,\n",
       "        73.75626373,  73.67985535,  73.98555756,  74.00468445,\n",
       "        73.65117645,  73.50787354,  74.78808594,  74.98872375,\n",
       "        75.44732666,  75.33267212,  76.24983215,  76.38359833,\n",
       "        76.72754669,  76.59378815,  76.99505615,  77.23389435,\n",
       "        77.10014343,  77.81668091,  78.22749329,  78.82941437,\n",
       "        78.54277802,  78.58099365,  78.55235291,  79.25933075,\n",
       "        79.37397766,  80.22428894,  79.89942932,  80.48223877,\n",
       "        81.30386353,  81.40936279,  80.3065033 ,  80.87232971,\n",
       "        80.84355164,  80.70928955,  81.34221649,  81.86968231,\n",
       "        81.78336334,  81.72582245,  82.01352692,  82.40672302,\n",
       "        81.85050201,  82.08065033,  81.5148468 ,  81.90804291,\n",
       "        81.80253601,  80.41200256,  81.32305908,  81.73542786,\n",
       "        81.74498749,  81.80253601,  82.03270721,  82.44507599,\n",
       "        82.33000183,  82.41631317,  82.17656708,  81.09288788,\n",
       "        80.83397675,  81.96557617,  83.23146057,  83.80685425,\n",
       "        82.56015015,  81.87926483,  81.80253601,  81.80253601,\n",
       "        81.78336334,  81.86008453,  81.96557617,  81.90804291,\n",
       "        81.91762543,  82.17656708,  82.56974792,  82.60810089,\n",
       "        81.81214142,  81.73542786,  80.9490509 ,  80.79560089,\n",
       "        82.17656708,  83.001297  ,  83.08760834,  82.65606689,\n",
       "        83.42324066,  84.26717377,  85.35084534,  84.80420685,\n",
       "        84.79462433,  84.77544403,  84.5932312 ,  85.05355072,\n",
       "        85.82073975,  86.44409943,  86.75097656,  86.82771301,\n",
       "        87.68121338,  87.27843475,  87.75978851,  88.13523102,\n",
       "        88.2700119 ,  88.46255493,  88.52994537,  88.19300842,\n",
       "        89.39636993,  88.52994537,  88.2700119 ,  88.64547729,\n",
       "        88.47218323,  88.6550827 ,  88.93427277,  90.35906219,\n",
       "        90.04137421,  92.12080383,  92.21709442,  91.52393341,\n",
       "        91.95715332,  92.21709442,  92.40000153,  92.83321381,\n",
       "        92.69844818,  91.81276703,  91.58168793,  90.2531662 ,\n",
       "        90.03174591,  90.39756775,  90.26281738,  89.78144836,\n",
       "        90.07025909,  90.19541931,  90.44571686,  90.88856506,\n",
       "        90.3205719 ,  89.99324036,  89.98362732,  91.72610474,\n",
       "        92.99687958,  94.06546783,  94.20987701,  94.9126358 ,\n",
       "        95.02816772,  94.54682922,  94.9030304 ,  94.87413788,\n",
       "        95.30734253,  95.66355896,  94.13285828,  93.52635956,\n",
       "        94.84525299,  95.96199036,  95.45175171,  94.83563232,\n",
       "        94.8259964 ,  95.05705261,  94.89337921,  95.43251038,\n",
       "        95.98124695,  95.60577393,  95.24958038,  95.83683777,\n",
       "        97.43091583,  97.65309906,  96.75463867,  97.11208344,\n",
       "        97.78837585,  97.31497955,  97.54682922,  96.93817139,\n",
       "        97.34395599,  96.47445679,  94.70649719,  94.98667145,\n",
       "        94.65821838,  95.93344879,  96.31023407,  96.2522583 ,\n",
       "        96.03971863,  95.3634491 ,  96.03005981,  96.60971832,\n",
       "        93.40228271,  88.89060211,  90.98703003,  90.43635559,\n",
       "        85.34501648,  88.61044312,  91.48940277,  91.35415649,\n",
       "        92.9675293 ,  93.28635406,  93.50855255,  93.89498901,\n",
       "        94.19447327,  94.04956818,  95.45041656,  98.19411469,\n",
       "        96.20396423,  94.20413208,  91.91448975,  92.35889435,\n",
       "        93.38294983,  92.81295776,  92.39754486,  93.31532288,\n",
       "        95.69193268,  94.35870361,  92.13669586,  91.32515717,\n",
       "        91.18991089,  92.36854553,  91.62466431,  91.73091888,\n",
       "        91.52804565,  88.3109436 ,  87.38349152,  89.47992706,\n",
       "        88.32059479,  89.08381653,  90.11753845,  87.91485596,\n",
       "        89.59584045,  90.40738678,  91.34799957,  89.12733459,\n",
       "        89.35037994,  90.18434143,  88.82672119,  90.52374268,\n",
       "        90.21343994,  90.76616669,  91.01830292,  92.26924896,\n",
       "        99.2706604 ,  97.73849487,  97.56394958,  97.399086  ,\n",
       "        95.78934479,  97.1954422 ,  96.59422302,  95.76025391,\n",
       "        95.59541321,  94.67415619,  94.19900513,  95.37236023,\n",
       "        95.59541321,  96.72027588,  97.45726013,  98.3106308 ,\n",
       "        98.34941864,  98.2233429 ,  97.68999481,  97.54454041,\n",
       "        98.1554718 ,  97.93243408,  98.95064545,  99.5906601 ,\n",
       "        98.84398651,  98.92155457,  98.03910065,  94.76144409,\n",
       "        95.99298096,  95.32389832,  95.275383  ,  96.43904877,\n",
       "        96.30329132,  97.91304016,  98.40760803,  97.94212341,\n",
       "        98.13607788,  97.68031311,  96.9917984 ,  96.73967743,\n",
       "        95.53721619,  95.48873138,  94.19900513,  93.50079346,\n",
       "        93.70443726,  94.28629303,  95.55661774,  95.23660278,\n",
       "        94.02442932,  94.03414154,  95.03296661,  96.00267792,\n",
       "        94.87780762,  95.88993835,  95.88021088,  97.23296356,\n",
       "        97.23296356,  97.61251831,  98.43973541,  97.80715179,\n",
       "        97.99206543,  98.43973541, 100.22071075,  97.48600006,\n",
       "        97.46653748,  98.50786591,  98.98473358,  99.88008118,\n",
       "        99.75356293, 101.06739044,  98.14778137,  96.85340881,\n",
       "        96.78528595,  97.05779266,  98.08937836,  98.21589661,\n",
       "        99.23777008, 100.02605438, 100.23043823,  98.85822296,\n",
       "        99.08205414,  99.4421463 ,  98.79008484,  99.89955139,\n",
       "       100.26935577, 101.04792786, 102.00167084, 102.99433136,\n",
       "       102.54666901, 102.92622375, 104.18166351, 104.40549469,\n",
       "       103.85075378, 103.38362885, 103.14032745, 104.14272308,\n",
       "       102.84835052, 102.57587433, 103.23764038, 104.4152298 ,\n",
       "       105.40789032, 104.98940277, 105.74851227, 106.62438965,\n",
       "       106.27404022, 106.70224762, 107.14992523, 108.13286591,\n",
       "       107.92848969, 106.90662384, 106.9260788 , 105.11592865,\n",
       "       104.96020508, 103.63665009, 105.00887299, 105.48575592,\n",
       "       105.54413605, 105.23158264, 104.7334671 , 104.49904633,\n",
       "       104.17674255, 101.15867615,  99.2150116 , 100.60194397,\n",
       "       100.23078918, 101.84236908, 101.91074371, 100.44566345,\n",
       "       104.24510956, 102.07678986, 101.94981384,  99.46894073,\n",
       "       101.18797302,  98.8927002 ,  98.83408356,  99.70336914,\n",
       "       100.33823395, 101.61772156, 101.29541779, 102.76049042,\n",
       "       102.53585052, 104.81159973, 105.97388458, 105.75901794,\n",
       "       104.01068878, 105.34880066, 105.26089478, 107.04829407,\n",
       "       106.9115448 , 105.72971344, 103.61999512, 104.02045441,\n",
       "       103.27815247, 107.12641907, 107.54640961, 110.2616806 ,\n",
       "       108.71846771, 109.65611267, 109.74402618, 105.13391876,\n",
       "       105.72971344, 104.19626617, 103.32698822, 102.94608307,\n",
       "       104.97764587, 104.21580505, 103.23907471,  98.82431793,\n",
       "        98.66802979,  96.47042847,  93.54027557,  89.20365143,\n",
       "        87.41625977,  91.65520477,  92.4756546 ,  92.22169495,\n",
       "        93.10076141,  93.45237732,  91.62824249,  95.75704956,\n",
       "        96.27682495,  96.74757385,  96.92410278,  96.36508942,\n",
       "        96.64950562,  96.54163361,  96.10030365,  97.49291992,\n",
       "        97.57137299,  98.54228973,  97.90481567,  97.78713226,\n",
       "        97.79693604,  98.82668304,  98.44420624,  99.01302338,\n",
       "       100.69004822, 100.71946716, 101.07252502, 101.42558289,\n",
       "       101.89633179, 102.93588257, 102.3768692 , 102.50436401,\n",
       "       103.37721252, 104.93654633, 105.48574829, 104.56387329,\n",
       "       105.30921173, 104.44618225, 104.72078705, 104.55406189,\n",
       "       105.36806488, 104.86790466, 104.87770844, 105.34844971,\n",
       "       105.66226959, 106.7999115 , 106.89797974, 106.75086975,\n",
       "       106.87836456, 105.77996063, 105.89765167, 107.44717407,\n",
       "       108.30039215, 109.97742462, 110.1833725 , 111.33081055,\n",
       "       111.36023712, 110.49720001, 108.63384247, 109.66359711,\n",
       "       107.34910583, 106.93720245, 107.38832855, 106.87836456,\n",
       "       107.05489349, 107.19218445, 109.54590607, 108.85939789,\n",
       "       108.42788696, 108.378685  , 109.20539856, 108.9495163 ,\n",
       "       108.11295319, 108.4180603 , 108.11295319, 109.15619659,\n",
       "       108.78219604, 110.11084747, 109.9927597 , 111.87254333,\n",
       "       110.55374146, 112.16780853, 112.2170105 , 114.04759979,\n",
       "       115.74040222, 114.91369629, 115.37625885, 115.16957092,\n",
       "       115.39594269, 117.46273804, 117.45288849, 116.3506012 ,\n",
       "       115.63214874, 115.40578461, 116.58679962, 114.06729126,\n",
       "       115.15973663, 115.79946136, 117.94497681, 117.18716431,\n",
       "       117.94497681, 118.64376068, 118.11229706, 116.55728149,\n",
       "       117.62020111, 116.3013916 , 115.15973663, 114.89401245,\n",
       "       112.89611053, 112.80752563, 115.0022583 , 116.25218964,\n",
       "       117.54146576, 119.19490051, 120.72039795, 121.2813797 ,\n",
       "       120.10034943, 119.93304443, 120.0708313 , 119.52952576,\n",
       "       121.47821045, 122.70845032, 122.944664  , 122.75765991,\n",
       "       122.17699432, 121.2124939 , 121.63568115, 121.98014832,\n",
       "       121.48806   , 122.944664  , 123.12180328, 124.257164  ,\n",
       "       123.80301666, 123.26002502, 124.29665375, 125.27404785,\n",
       "       125.65908051, 126.33041382, 126.93266296, 126.42914581,\n",
       "       125.46163177, 126.76481628, 123.23041534, 124.39537811,\n",
       "       126.56735992, 126.32054138, 125.5307312 , 125.16543579,\n",
       "       125.57023621, 124.85939789, 122.78613281, 122.50969696,\n",
       "       122.72690582, 119.18262482, 120.98931885, 121.96670532,\n",
       "       123.69442749, 124.56321716, 122.37148285, 124.71130371,\n",
       "       121.08803558, 120.82147217, 123.04283142, 122.81575775,\n",
       "       119.873703  , 120.93995667, 120.712883  , 116.26032257,\n",
       "       117.02050781, 116.25045013, 117.57337189, 119.20236969,\n",
       "       118.83708191, 116.10234833, 116.89216614, 119.133255  ,\n",
       "       118.65937805, 118.39280701, 115.81604767, 116.49726105,\n",
       "       117.50427246, 117.68197632, 116.1418457 , 117.53388977,\n",
       "       117.22783661, 116.28993225, 115.31255341, 116.73420715,\n",
       "       116.66509247, 117.60300446, 117.39566803, 117.07974243,\n",
       "       116.7736969 , 115.21381378, 111.42272186, 111.54164886,\n",
       "       113.38498688, 112.63179779, 111.53173065, 112.89937592,\n",
       "       113.98950958, 115.35715485, 115.34723663, 116.53649139,\n",
       "       116.35810089, 118.03295898, 115.71392822, 117.9834137 ,\n",
       "       117.54735565, 115.44634247, 115.36706543, 117.20049286,\n",
       "       117.5176239 , 116.36801147, 117.01219177, 116.22926331,\n",
       "       118.07260132, 118.54830933, 117.70591736, 118.61767578,\n",
       "       120.19342804, 120.38172913, 119.8168335 , 119.80692291,\n",
       "       119.18257141, 119.84657288, 119.67809296, 118.58795166,\n",
       "       118.92490387, 118.23117828, 117.73564911, 117.99331665,\n",
       "       119.51952362, 118.71678162, 119.2519455 , 119.04383087,\n",
       "       116.20944977, 115.52563477, 116.88336182, 117.22031403,\n",
       "       119.5294342 , 119.38078308, 119.8168335 , 119.55916595,\n",
       "       121.54125214, 123.60261536, 122.57192993, 123.83055115,\n",
       "       123.14673615, 123.71162415, 124.64320374, 123.37467194,\n",
       "       123.62242889, 124.28643799, 124.06840515, 123.18637848,\n",
       "       123.37467194, 125.15478516, 123.91168976, 123.37467194,\n",
       "       122.72826385, 124.84649658, 127.10395813, 126.57688141,\n",
       "       127.82991791, 128.08848572, 129.1028595 , 129.8288269 ,\n",
       "       130.79347229, 129.80892944, 130.76364136, 130.64428711,\n",
       "       134.3636322 , 129.9183197 , 131.71832275, 130.95257568,\n",
       "       132.48406982, 129.15257263, 130.27633667, 131.12164307,\n",
       "       132.86198425, 132.51390076, 131.09181213, 131.50949097,\n",
       "       131.89733887, 132.50396729, 133.71722412, 135.11943054,\n",
       "       134.85093689, 136.17356873, 135.82551575, 134.15478516,\n",
       "       127.4818573 , 120.23213196, 117.84539032, 112.18682098,\n",
       "       109.32273102, 113.2409668 , 107.41333771, 115.06085205,\n",
       "       110.32715607, 107.64205933,  97.74703217, 102.72935486,\n",
       "        94.85310364,  83.06856537,  99.04978943,  85.39564514,\n",
       "        86.10172272,  73.34259033,  76.64425659,  73.7105484 ,\n",
       "        68.57905579,  83.58570099,  89.67188263,  92.77465057,\n",
       "        88.23984528,  89.77133179,  85.13707733,  77.40999603,\n",
       "        76.66000366,  73.59999847,  83.87000275,  87.58000183,\n",
       "        92.08000183,  94.81999969,  90.33000183,  88.38999939,\n",
       "        83.79000092,  81.34999847,  87.38999939])"
      ]
     },
     "execution_count": 3,
     "metadata": {},
     "output_type": "execute_result"
    }
   ],
   "source": [
    "close"
   ]
  },
  {
   "cell_type": "code",
   "execution_count": 4,
   "metadata": {},
   "outputs": [
    {
     "data": {
      "text/html": [
       "<div>\n",
       "<style scoped>\n",
       "    .dataframe tbody tr th:only-of-type {\n",
       "        vertical-align: middle;\n",
       "    }\n",
       "\n",
       "    .dataframe tbody tr th {\n",
       "        vertical-align: top;\n",
       "    }\n",
       "\n",
       "    .dataframe thead th {\n",
       "        text-align: right;\n",
       "    }\n",
       "</style>\n",
       "<table border=\"1\" class=\"dataframe\">\n",
       "  <thead>\n",
       "    <tr style=\"text-align: right;\">\n",
       "      <th></th>\n",
       "      <th>macd</th>\n",
       "      <th>macdsignal</th>\n",
       "      <th>macdhist</th>\n",
       "    </tr>\n",
       "  </thead>\n",
       "  <tbody>\n",
       "    <tr>\n",
       "      <th>0</th>\n",
       "      <td>-0.559524</td>\n",
       "      <td>-0.927596</td>\n",
       "      <td>0.368072</td>\n",
       "    </tr>\n",
       "    <tr>\n",
       "      <th>1</th>\n",
       "      <td>-0.552003</td>\n",
       "      <td>-0.852478</td>\n",
       "      <td>0.300475</td>\n",
       "    </tr>\n",
       "    <tr>\n",
       "      <th>2</th>\n",
       "      <td>-0.564062</td>\n",
       "      <td>-0.794794</td>\n",
       "      <td>0.230732</td>\n",
       "    </tr>\n",
       "    <tr>\n",
       "      <th>3</th>\n",
       "      <td>-0.248616</td>\n",
       "      <td>-0.685559</td>\n",
       "      <td>0.436942</td>\n",
       "    </tr>\n",
       "    <tr>\n",
       "      <th>4</th>\n",
       "      <td>-0.002684</td>\n",
       "      <td>-0.548984</td>\n",
       "      <td>0.546300</td>\n",
       "    </tr>\n",
       "  </tbody>\n",
       "</table>\n",
       "</div>"
      ],
      "text/plain": [
       "       macd  macdsignal  macdhist\n",
       "0 -0.559524   -0.927596  0.368072\n",
       "1 -0.552003   -0.852478  0.300475\n",
       "2 -0.564062   -0.794794  0.230732\n",
       "3 -0.248616   -0.685559  0.436942\n",
       "4 -0.002684   -0.548984  0.546300"
      ]
     },
     "execution_count": 4,
     "metadata": {},
     "output_type": "execute_result"
    }
   ],
   "source": [
    "macd, macdsignal, macdhist = talib.MACD(close, fastperiod=5, slowperiod=20, signalperiod=9)\n",
    "macdhist = macdhist[~np.isnan(macdhist)]\n",
    "macd = macd[-len(macdhist):]\n",
    "macdsignal = macdsignal[-len(macdhist):]\n",
    "\n",
    "\n",
    "pd.DataFrame({'macd': macd, 'macdsignal': macdsignal, 'macdhist': macdhist}).head()"
   ]
  },
  {
   "cell_type": "code",
   "execution_count": 5,
   "metadata": {},
   "outputs": [],
   "source": [
    "def prepare_dataset(close):\n",
    "    \"\"\"\n",
    "    Function prepare_dataset to generate input data and trading strategy from stock close prices\n",
    "    \"\"\"\n",
    "\n",
    "    macd, macdsignal, macdhist = talib.MACD(close, fastperiod=12, slowperiod=26, signalperiod=9)\n",
    "\n",
    "    # Cancel NaN values\n",
    "    macdhist = macdhist[~np.isnan(macdhist)]\n",
    "    macd = macd[-len(macdhist):]\n",
    "    macdsignal = macdsignal[-len(macdhist):]\n",
    "\n",
    "    # Scaling features to a range [0, 1]\n",
    "    min_max_scaler = preprocessing.MinMaxScaler(feature_range=(-1, 1))\n",
    "    macdhist_norm = min_max_scaler.fit_transform(np.expand_dims(macdhist, axis=1))\n",
    "\n",
    "    # Implement strategy\n",
    "    start_sell = 0.2\n",
    "    stop_sell = 0.05\n",
    "    start_buy = -0.2\n",
    "    stop_buy = -0.05\n",
    "\n",
    "    y = np.full(len(macdhist), np.nan)\n",
    "    y[0] = 0\n",
    "\n",
    "    for i in range(1, len(macdhist)):\n",
    "\n",
    "        if y[i-1] == 0:\n",
    "            if (macdhist_norm[i] >= start_sell):\n",
    "                # Enter sell position\n",
    "                y[i] = -1\n",
    "            elif (macdhist_norm[i] <= start_buy):\n",
    "                # Enter buy position\n",
    "                y[i] = 1\n",
    "            else:\n",
    "                y[i] = 0\n",
    "        elif y[i-1] == -1:\n",
    "            if macdhist_norm[i] > stop_sell:\n",
    "                # Stay in sell position\n",
    "                y[i] = -1\n",
    "            else:\n",
    "                # Leave sell position\n",
    "                y[i] = 0\n",
    "        else:\n",
    "            if macdhist_norm[i] < stop_buy:\n",
    "                # Stay in buy position\n",
    "                y[i] = 1\n",
    "            else:\n",
    "                # Leave buy position\n",
    "                y[i] = 0\n",
    "\n",
    "    # Plot strategy\n",
    "    dates = np.arange(len(macdhist))\n",
    "    plt.plot(dates, y,'g', label='Strategy Positions')\n",
    "    plt.bar(dates, macdhist_norm[:, 0], width=1, color='blue', label='MACD histogram')\n",
    "    plt.plot(dates, start_sell * np.ones(len(macdhist)), 'k--', lw=1)\n",
    "    plt.plot(dates, stop_sell * np.ones(len(macdhist)), 'k--', lw=1)\n",
    "    plt.plot(dates, start_buy * np.ones(len(macdhist)), 'k--', lw=1)\n",
    "    plt.plot(dates, stop_buy * np.ones(len(macdhist)), 'k--', lw=1)\n",
    "    plt.xlabel('Days')\n",
    "    plt.xlim((0, len(y)))\n",
    "    plt.legend()\n",
    "    # plt.savefig('images/AAL_macd.png', bbox_inches='tight')\n",
    "    plt.show()\n",
    "    \n",
    "    # Generate input data - technical indicators\n",
    "    ind1 = talib.MIDPOINT(close)    # Overlap: MidPoint over period\n",
    "    ind2 = talib.HT_DCPERIOD(close) # Cycle Indicator Functions:  Hilbert Transform - Dominant Cycle Period\n",
    "    ind3 = talib.MAX(close)         # Math Operator: Highest value over a specified period\n",
    "    ind4 = talib.SIN(close)         # Math Transform: Vector Trigonometric Sin\n",
    "    ind5 = talib.APO(close)         # Momentum: Absolute Price Oscillator\n",
    "    ind6 = talib.TEMA(close, timeperiod=5) ## Triple Exponential Moving Average\n",
    "\n",
    "    x = np.vstack((macdhist, macd, macdsignal, ind1[-len(macdhist):], ind2[-len(macdhist):],\n",
    "                   ind3[-len(macdhist):], ind4[-len(macdhist):], ind5[-len(macdhist):],\n",
    "                   ind6[-len(macdhist):]))\n",
    "    x = x.T\n",
    "\n",
    "    return x, y"
   ]
  },
  {
   "cell_type": "code",
   "execution_count": 6,
   "metadata": {},
   "outputs": [
    {
     "data": {
      "image/png": "[encoded data removed]",
      "text/plain": [
       "<Figure size 432x288 with 1 Axes>"
      ]
     },
     "metadata": {
      "needs_background": "light"
     },
     "output_type": "display_data"
    }
   ],
   "source": [
    "# Implement MACD trading strategy\n",
    "X, y = prepare_dataset(close)"
   ]
  },
  {
   "cell_type": "code",
   "execution_count": 7,
   "metadata": {},
   "outputs": [
    {
     "data": {
      "text/plain": [
       "array([ 3.82205743e-01, -2.32653690e-01, -6.14859432e-01,  7.42053146e+01,\n",
       "        1.72117648e+01,  7.70332642e+01, -6.55046312e-02, -2.65674493e-01,\n",
       "        7.55105095e+01])"
      ]
     },
     "execution_count": 7,
     "metadata": {},
     "output_type": "execute_result"
    }
   ],
   "source": [
    "X[0]"
   ]
  },
  {
   "cell_type": "code",
   "execution_count": 8,
   "metadata": {},
   "outputs": [],
   "source": [
    "# Split dataset\n",
    "n_train = int(X.shape[0] * 0.8)\n",
    "\n",
    "X_train, y_train = X[:n_train], y[:n_train]\n",
    "X_test, y_test = X[n_train:], y[n_train:]"
   ]
  },
  {
   "cell_type": "code",
   "execution_count": 9,
   "metadata": {},
   "outputs": [],
   "source": [
    "# Normalize data\n",
    "scaler = preprocessing.MinMaxScaler()\n",
    "\n",
    "X_train = scaler.fit_transform(X_train)\n",
    "X_test = scaler.transform(X_test)"
   ]
  },
  {
   "cell_type": "code",
   "execution_count": 10,
   "metadata": {},
   "outputs": [
    {
     "name": "stdout",
     "output_type": "stream",
     "text": [
      "[-1.  0.  1.]\n"
     ]
    }
   ],
   "source": [
    "# Encode trading signal with integers between 0 and n-1 classes\n",
    "le = preprocessing.LabelEncoder()\n",
    "\n",
    "y_train = le.fit_transform(y_train)\n",
    "y_test = le.transform(y_test)\n",
    "\n",
    "print(le.classes_)"
   ]
  },
  {
   "cell_type": "code",
   "execution_count": 11,
   "metadata": {},
   "outputs": [],
   "source": [
    "## Create and train the Agent\n",
    "# Variable definiton\n",
    "episodes = 20\n",
    "look_back = 5\n",
    "batch_size = 32\n",
    "action_size = len(le.classes_)\n",
    "n_features = X_train.shape[1]"
   ]
  },
  {
   "cell_type": "code",
   "execution_count": 12,
   "metadata": {},
   "outputs": [],
   "source": [
    "# Create Agent\n",
    "agent = Agent(look_back, action_size, n_features)"
   ]
  },
  {
   "cell_type": "code",
   "execution_count": 13,
   "metadata": {},
   "outputs": [],
   "source": [
    "def run(agent, dataX, dataY, episodes, look_back):\n",
    "    \"\"\"\n",
    "    Function run to train the agent\n",
    "    \"\"\"\n",
    "    \n",
    "    # Length of dataset\n",
    "    times = len(dataX)\n",
    "\n",
    "    # List of total rewards\n",
    "    total_reward_list = []\n",
    "\n",
    "    for ep in range(episodes):\n",
    "\n",
    "        # print('Episode: ' + str(ep))\n",
    "        \n",
    "        # Initial state and position\n",
    "        state = dataX[:look_back, :][np.newaxis, :, :]\n",
    "        pos = dataY[look_back - 1]\n",
    "\n",
    "        done = False\n",
    "        total_reward = 0\n",
    "\n",
    "        for t in range(1, times - look_back + 1):\n",
    "\n",
    "            # Predict action based on the current state\n",
    "            action = agent.act(state)\n",
    "\n",
    "            # Calculate reward\n",
    "            if action == pos:   # 0:-1      1:0     2:1\n",
    "                reward = +1\n",
    "\n",
    "            elif (pos == 0 or pos == 2):\n",
    "                if action == 1:\n",
    "                    reward = 0\n",
    "                else:\n",
    "                    reward = -1\n",
    "            else:\n",
    "                reward = -1\n",
    "\n",
    "            total_reward += reward\n",
    "\n",
    "            # Final state\n",
    "            if t == times - look_back:\n",
    "                done = True\n",
    "\n",
    "            # Receive next state and position\n",
    "            next_state = dataX[t:t + look_back, :][np.newaxis, :, :]\n",
    "            next_pos = dataY[t + look_back - 1]\n",
    "            \n",
    "            # Remember current experience\n",
    "            agent.remember(state, action, reward, next_state, done)\n",
    "            \n",
    "            # Make next_state the new current state; the same for pos\n",
    "            state = next_state\n",
    "            pos = next_pos\n",
    "\n",
    "            if done:\n",
    "                print('Episode: %i ---> Total Reward: %i' %(ep, total_reward))\n",
    "                total_reward_list.append(total_reward)\n",
    "\n",
    "            # Train the agent with previous experiences\n",
    "            if len(agent.memory) > batch_size:\n",
    "                agent.replay(batch_size)\n",
    "\n",
    "        if (ep + 1) % 5 == 0 and ep > 0:\n",
    "            file = 'checkpoints/' + symbol + '_robot_checkpoint' + str(ep + 1)\n",
    "            # Serialize weights to HDF5\n",
    "            agent.model.save_weights(file + \".h5\")\n",
    "            # Save epsilon\n",
    "            pickle.dump(agent.epsilon, open(file + \"_epsilon.pickle\", \"wb\"))\n",
    "\n",
    "    # Save list of rewards along the epochs\n",
    "    np.savetxt(file + '_total_reward.txt', total_reward_list)\n",
    "\n",
    "    return\n"
   ]
  },
  {
   "cell_type": "code",
   "execution_count": 14,
   "metadata": {},
   "outputs": [
    {
     "name": "stdout",
     "output_type": "stream",
     "text": [
      "Episode: 0 ---> Total Reward: 141\n",
      "Episode: 1 ---> Total Reward: 396\n",
      "Episode: 2 ---> Total Reward: 419\n",
      "Episode: 3 ---> Total Reward: 469\n",
      "Episode: 4 ---> Total Reward: 492\n",
      "Episode: 5 ---> Total Reward: 478\n",
      "Episode: 6 ---> Total Reward: 503\n",
      "Episode: 7 ---> Total Reward: 485\n",
      "Episode: 8 ---> Total Reward: 480\n",
      "Episode: 9 ---> Total Reward: 495\n",
      "Episode: 10 ---> Total Reward: 511\n",
      "Episode: 11 ---> Total Reward: 514\n",
      "Episode: 12 ---> Total Reward: 506\n",
      "Episode: 13 ---> Total Reward: 524\n",
      "Episode: 14 ---> Total Reward: 503\n",
      "Episode: 15 ---> Total Reward: 508\n",
      "Episode: 16 ---> Total Reward: 523\n",
      "Episode: 17 ---> Total Reward: 502\n",
      "Episode: 18 ---> Total Reward: 516\n",
      "Episode: 19 ---> Total Reward: 474\n"
     ]
    }
   ],
   "source": [
    "# Train Agent\n",
    "run(agent, X_train, y_train, episodes, look_back)"
   ]
  },
  {
   "cell_type": "code",
   "execution_count": 15,
   "metadata": {},
   "outputs": [
    {
     "data": {
      "image/png": "[encoded data removed]",
      "text/plain": [
       "<Figure size 432x288 with 1 Axes>"
      ]
     },
     "metadata": {
      "needs_background": "light"
     },
     "output_type": "display_data"
    }
   ],
   "source": [
    "# Load rewards\n",
    "total_reward_list = np.loadtxt( 'checkpoints/'+ symbol + '_robot_checkpoint' + str(episodes) + '_total_reward.txt')\n",
    "# Plot\n",
    "plt.figure()\n",
    "plt.plot(np.arange(1, episodes+1), total_reward_list)\n",
    "plt.xlabel('Episodes')\n",
    "plt.ylabel('Total Reward')\n",
    "plt.show()"
   ]
  },
  {
   "cell_type": "code",
   "execution_count": 16,
   "metadata": {},
   "outputs": [
    {
     "data": {
      "text/plain": [
       "array([141., 396., 419., 469., 492., 478., 503., 485., 480., 495., 511.,\n",
       "       514., 506., 524., 503., 508., 523., 502., 516., 474.])"
      ]
     },
     "execution_count": 16,
     "metadata": {},
     "output_type": "execute_result"
    }
   ],
   "source": [
    "total_reward_list"
   ]
  },
  {
   "cell_type": "code",
   "execution_count": 17,
   "metadata": {},
   "outputs": [],
   "source": [
    "def evaluate(agent, dataX, dataY, look_back):\n",
    "    \"\"\"\n",
    "    Function run to evaluate the trained agent\n",
    "    \"\"\"\n",
    "    \n",
    "    # Length of dataset\n",
    "    times = len(dataX)\n",
    "\n",
    "    # Initial state and position\n",
    "    state = dataX[:look_back, :][np.newaxis, :, :]\n",
    "    pos = dataY[look_back - 1]\n",
    "\n",
    "    # List of predicted positions\n",
    "    pos_list = []\n",
    "    \n",
    "    done = False\n",
    "    total_reward = 0\n",
    "    \n",
    "    for t in range(1, times - look_back + 1):\n",
    "\n",
    "        # Predict action based on the current state\n",
    "        action = agent.act(state)\n",
    "\n",
    "        # Calculate reward\n",
    "        if action == pos:   # 0:-1      1:0     2:1\n",
    "            reward = +1\n",
    "\n",
    "        elif (pos == 0 or pos == 2):\n",
    "            if action == 1:\n",
    "                reward = 0\n",
    "            else:\n",
    "                reward = -1\n",
    "        else:\n",
    "            reward = -1\n",
    "\n",
    "        pos_list.append(action)\n",
    "        total_reward += reward\n",
    "\n",
    "        # Final state\n",
    "        if t == times - look_back:\n",
    "            done = True\n",
    "\n",
    "        # Receive next state and position\n",
    "        next_state = dataX[t:t + look_back, :][np.newaxis, :, :]\n",
    "        next_pos = dataY[t + look_back - 1]\n",
    "\n",
    "        # Remember current experience\n",
    "        agent.remember(state, action, reward, next_state, done)\n",
    "\n",
    "        # Make next_state the new current state; the same for pos\n",
    "        state = next_state\n",
    "        pos = next_pos\n",
    "\n",
    "        if done:\n",
    "            print('Total Reward: %i' % total_reward)\n",
    "\n",
    "    return np.array(pos_list)"
   ]
  },
  {
   "cell_type": "code",
   "execution_count": 18,
   "metadata": {},
   "outputs": [
    {
     "name": "stdout",
     "output_type": "stream",
     "text": [
      "Total Reward: 110\n",
      "Accuracy: 83.57 %\n"
     ]
    }
   ],
   "source": [
    "# Evaluate the model\n",
    "# Make predictions\n",
    "y_pred_test = evaluate(agent, X_test, y_test, look_back)\n",
    "\n",
    "# Calculate and print accuracy\n",
    "acc = accuracy_score(y_test[look_back-1:-1], y_pred_test)\n",
    "\n",
    "print('Accuracy: %.2f %%' % (acc*100))"
   ]
  },
  {
   "cell_type": "code",
   "execution_count": 19,
   "metadata": {},
   "outputs": [
    {
     "name": "stdout",
     "output_type": "stream",
     "text": [
      "      1-Precision  2-Recall  3-F1 score  4-Support\n",
      "-1.0        0.914     0.955       0.934         67\n",
      " 0.0        0.738     0.865       0.796         52\n",
      " 1.0        0.889     0.381       0.533         21\n"
     ]
    }
   ],
   "source": [
    "# Calculate and print precision, recall, f1 score and support\n",
    "p, r, f1, s = precision_recall_fscore_support(y_test[look_back-1:-1], y_pred_test, average=None)\n",
    "results = pd.DataFrame({'1-Precision': p, '2-Recall': r, '3-F1 score': f1, '4-Support': s}, index=le.classes_)\n",
    "\n",
    "print(results.round(decimals=3))"
   ]
  },
  {
   "cell_type": "code",
   "execution_count": 20,
   "metadata": {},
   "outputs": [],
   "source": [
    "# Decodificate labels\n",
    "y_true_test = le.inverse_transform(y_test[look_back-1:-1])\n",
    "y_pred_test = le.inverse_transform(y_pred_test)"
   ]
  },
  {
   "cell_type": "code",
   "execution_count": 21,
   "metadata": {},
   "outputs": [
    {
     "data": {
      "image/png": "[encoded data removed]",
      "text/plain": [
       "<Figure size 432x288 with 1 Axes>"
      ]
     },
     "metadata": {
      "needs_background": "light"
     },
     "output_type": "display_data"
    }
   ],
   "source": [
    "# Plot strategy\n",
    "plt.figure()\n",
    "plt.plot(y_true_test, label='true')\n",
    "plt.plot(y_pred_test, label='pred')\n",
    "plt.legend()\n",
    "plt.show()"
   ]
  },
  {
   "cell_type": "code",
   "execution_count": null,
   "metadata": {},
   "outputs": [],
   "source": []
  }
 ],
 "metadata": {
  "kernelspec": {
   "display_name": "Python 3",
   "language": "python",
   "name": "python3"
  },
  "language_info": {
   "codemirror_mode": {
    "name": "ipython",
    "version": 3
   },
   "file_extension": ".py",
   "mimetype": "text/x-python",
   "name": "python",
   "nbconvert_exporter": "python",
   "pygments_lexer": "ipython3",
   "version": "3.7.6"
  }
 },
 "nbformat": 4,
 "nbformat_minor": 2
}
