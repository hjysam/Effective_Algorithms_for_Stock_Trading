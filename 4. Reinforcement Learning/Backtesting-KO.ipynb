{
 "cells": [
  {
   "cell_type": "code",
   "execution_count": 1,
   "metadata": {
    "scrolled": true
   },
   "outputs": [
    {
     "name": "stderr",
     "output_type": "stream",
     "text": [
      "C:\\Users\\Elid-PC.DESKTOP-MG9DS93\\anaconda3\\lib\\site-packages\\pandas_datareader\\compat\\__init__.py:7: FutureWarning: pandas.util.testing is deprecated. Use the functions in the public API at pandas.testing instead.\n",
      "  from pandas.util.testing import assert_frame_equal\n"
     ]
    },
    {
     "data": {
      "application/javascript": [
       "\n",
       "console.log('Starting front end url_querystring_target comm target');\n",
       "const comm = Jupyter.notebook.kernel.comm_manager.new_comm('url_querystring_target', {'init': 1});\n",
       "comm.send({'ipyparams_browser_url': window.location.href});\n",
       "console.log('Sent window.location.href on url_querystring_target comm target');\n",
       "\n",
       "comm.on_msg(function(msg) {\n",
       "    console.log(msg.content.data);\n",
       "});\n"
      ],
      "text/plain": [
       "<IPython.core.display.Javascript object>"
      ]
     },
     "metadata": {},
     "output_type": "display_data"
    },
    {
     "name": "stderr",
     "output_type": "stream",
     "text": [
      "Using TensorFlow backend.\n"
     ]
    }
   ],
   "source": [
    "# Import libraries\n",
    "import pandas as pd\n",
    "from pandas_datareader import data as pdr\n",
    "\n",
    "import numpy as np\n",
    "import matplotlib.pyplot as plt\n",
    "import pickle\n",
    "\n",
    "from sklearn import preprocessing\n",
    "from sklearn.metrics import accuracy_score\n",
    "from sklearn.metrics import precision_recall_fscore_support\n",
    "\n",
    "import talib, re, ipyparams\n",
    "\n",
    "from Agent import Agent"
   ]
  },
  {
   "cell_type": "code",
   "execution_count": 2,
   "metadata": {},
   "outputs": [
    {
     "data": {
      "text/plain": [
       "754"
      ]
     },
     "execution_count": 2,
     "metadata": {},
     "output_type": "execute_result"
    }
   ],
   "source": [
    "end_date = '2020-02-19'\n",
    "start_date = '2017-02-20'\n",
    "\n",
    "symbol = 'KO'\n",
    "Date = pd.DataFrame(pdr.DataReader(symbol,'yahoo', start_date, end_date))\n",
    "\n",
    "alldata = pd.DataFrame({'Date': Date.index})\n",
    "alldata[symbol] = pdr.DataReader(symbol, 'yahoo', start_date, end_date)['Adj Close'].values\n",
    "# Stock symbol\n",
    "\n",
    "# Load close prices of to NumPy array\n",
    "close = alldata[symbol].values\n",
    "len(close)"
   ]
  },
  {
   "cell_type": "code",
   "execution_count": 3,
   "metadata": {},
   "outputs": [
    {
     "data": {
      "text/plain": [
       "array([37.2527771 , 37.378582  , 37.43249512, 37.54030991, 37.44147491,\n",
       "       37.70204544, 37.88174438, 38.16029739, 38.16927719, 37.89971924,\n",
       "       37.72900391, 37.72900391, 37.76493835, 37.99855804, 38.09827042,\n",
       "       38.04388428, 38.17985535, 38.29768753, 38.09827042, 38.23423004,\n",
       "       38.52430344, 38.41553497, 38.22517014, 38.17985535, 38.36114502,\n",
       "       38.46085358, 38.45178223, 38.61494064, 38.46990967, 38.44272232,\n",
       "       38.68746567, 38.5877533 , 38.67840195, 38.62401581, 38.69652939,\n",
       "       38.66933823, 38.92313766, 38.78717422, 39.04097748, 39.41263199,\n",
       "       39.18600845, 39.05911255, 39.04097748, 39.23133469, 39.07723999,\n",
       "       39.1950798 , 38.98659515, 39.11349487, 39.17694473, 39.33104706,\n",
       "       39.26759338, 39.57578659, 39.60298157, 39.78426743, 39.43981934,\n",
       "       39.49420929, 39.58485413, 39.51233673, 39.63923645, 39.74801636,\n",
       "       39.82052994, 39.70269394, 39.79333496, 40.04714203, 40.23749924,\n",
       "       40.81762695, 41.16208267, 41.14396286, 41.18021774, 41.21647644,\n",
       "       41.50653839, 41.59717941, 41.68782425, 41.67876053, 41.25272751,\n",
       "       40.90827942, 41.08050156, 41.08956528, 41.15354156, 41.40028763,\n",
       "       41.35460281, 41.40943527, 41.47341537, 41.68361282, 41.3271904 ,\n",
       "       41.19009399, 41.35460281, 41.51910782, 41.17182159, 41.4185791 ,\n",
       "       40.97076416, 40.98903275, 40.90678787, 40.96162033, 40.57777786,\n",
       "       40.56863785, 40.55950165, 40.51380539, 40.67829895, 40.60519791,\n",
       "       40.83367157, 40.87937164, 40.82453156, 40.97076416, 40.96162033,\n",
       "       41.15354156, 40.97990036, 41.34546661, 41.80242157, 42.14970779,\n",
       "       42.04917145, 41.89381409, 41.76586151, 41.66533661, 41.73844147,\n",
       "       41.58308029, 41.71102524, 41.67447662, 41.66533661, 41.80242157,\n",
       "       41.66533661, 41.85725021, 42.21368408, 42.22282791, 41.91209412,\n",
       "       41.73844147, 41.7475853 , 41.67447662, 41.61964417, 41.50082397,\n",
       "       41.64706039, 41.5099678 , 41.53738785, 41.48254776, 41.62877655,\n",
       "       41.838974  , 41.96691895, 42.00349045, 42.29592896, 42.31421661,\n",
       "       42.51527023, 42.69805908, 42.83514023, 42.47588348, 42.5403595 ,\n",
       "       42.47588348, 42.35612488, 42.17189026, 41.82184219, 41.90474701,\n",
       "       42.088974  , 41.97843933, 41.12173462, 41.37046051, 41.46257782,\n",
       "       41.26912308, 41.62839127, 41.9139595 , 41.93238068, 41.90474701,\n",
       "       41.83104706, 42.25479126, 42.46667099, 42.47588348, 42.5403595 ,\n",
       "       42.94568253, 42.85356522, 42.74302292, 42.91804886, 42.72460556,\n",
       "       42.6693306 , 42.5403595 , 42.42061234, 42.58641815, 42.43903351,\n",
       "       42.24559021, 42.35612488, 42.19030762, 42.26400375, 42.34692001,\n",
       "       41.88632584, 42.31928253, 42.5403595 , 42.58641815, 42.87199402,\n",
       "       43.03781128, 43.69184875, 43.12071609, 42.88119888, 42.10740662,\n",
       "       41.87710953, 42.17189026, 42.22716141, 42.26400375, 42.28243256,\n",
       "       42.2179451 , 41.9139595 , 42.50835037, 42.69409561, 42.93556595,\n",
       "       42.96342087, 43.13989258, 42.51763153, 42.08112717, 42.09970474,\n",
       "       42.06255341, 42.62908173, 42.74981689, 42.89841843, 42.65694809,\n",
       "       42.84269714, 42.7962532 , 42.35046387, 42.34117889, 42.54550171,\n",
       "       42.65694809, 42.46191788, 42.61051178, 42.29474258, 42.20186234,\n",
       "       42.7962532 , 42.78696823, 42.72195816, 42.93556595, 42.78696823,\n",
       "       42.7591095 , 42.8612709 , 43.21419144, 43.48352814, 43.53925705,\n",
       "       43.79929352, 44.00361633, 44.06863022, 44.42155075, 44.43083572,\n",
       "       45.0716629 , 44.30081177, 44.03147888, 44.19865799, 44.06863022,\n",
       "       43.39993668, 41.6910553 , 41.48673248, 41.3845787 , 40.02861404,\n",
       "       40.05648422, 40.83662033, 41.04093933, 40.9573555 , 41.58889771,\n",
       "       41.77464294, 40.85519409, 40.25151443, 40.4186821 , 40.9016304 ,\n",
       "       40.8923378 , 40.51156235, 40.14006805, 40.3351059 , 40.60443878,\n",
       "       40.76231766, 40.79946899, 40.6973114 , 41.28241348, 41.62604904,\n",
       "       41.35671234, 41.39386749, 41.01908112, 40.91602707, 40.71927261,\n",
       "       40.53187561, 40.43819046, 40.28828049, 40.06341171, 39.66053009,\n",
       "       39.99782944, 40.18521118, 40.58810043, 40.69115829, 39.97908401,\n",
       "       40.64431381, 41.45008469, 41.59999084, 41.15025711, 41.06593323,\n",
       "       41.2158432 , 41.2158432 , 41.25331879, 41.70304871, 41.86233139,\n",
       "       42.04972076, 41.70304871, 41.51566696, 40.98160934, 41.20647812,\n",
       "       40.35386658, 39.75422668, 40.054039  , 40.57872772, 40.48503494,\n",
       "       39.90413284, 39.40755463, 39.24827576, 39.68863678, 39.48250961,\n",
       "       39.17332077, 39.1452179 , 39.5199852 , 39.48250961, 39.38882065,\n",
       "       39.08899689, 38.92971802, 39.63241959, 39.5199852 , 39.73548889,\n",
       "       39.5855751 , 39.72611237, 39.65116119, 39.72611237, 39.98845291,\n",
       "       40.41008377, 40.28828049, 40.40070724, 40.74738312, 40.39134216,\n",
       "       40.71927261, 40.70052719, 41.17836761, 41.34701538, 41.60935593,\n",
       "       41.39386368, 41.19535828, 41.70580292, 41.16699219, 41.21425629,\n",
       "       40.8928566 , 40.73216629, 40.88341141, 41.19535828, 40.95903778,\n",
       "       40.71326065, 41.09137344, 41.46003342, 41.35604858, 41.58291626,\n",
       "       42.216259  , 42.19734955, 41.97048569, 42.50929642, 42.33914566,\n",
       "       42.22570801, 42.29187775, 42.28242874, 42.77396774, 42.6510849 ,\n",
       "       42.64163208, 42.80233002, 42.49039078, 42.78342438, 43.56800461,\n",
       "       43.70980453, 43.68143845, 43.70034027, 44.07845688, 43.85159302,\n",
       "       43.65308762, 44.06900787, 44.09736252, 43.95557404, 43.62472916,\n",
       "       43.81378174, 43.55855942, 43.32223892, 43.37895203, 43.55855942,\n",
       "       43.6908989 , 44.05010223, 44.17298889, 43.6908989 , 43.41675949,\n",
       "       43.19934845, 43.13318253, 43.18989563, 42.8874054 , 42.84959412,\n",
       "       42.49039078, 42.13117981, 42.31077957, 42.89686203, 43.265522  ,\n",
       "       43.2182579 , 43.53965378, 43.50183868, 43.70980453, 43.69073486,\n",
       "       43.84326553, 44.1578598 , 43.78606415, 43.81466675, 44.46292114,\n",
       "       44.40572739, 43.91953278, 43.54773712, 43.70979691, 43.86233139,\n",
       "       44.03392792, 44.07205963, 44.33899307, 43.72886276, 43.70979691,\n",
       "       43.73839569, 44.31039429, 44.22459412, 43.54773712, 42.55628204,\n",
       "       42.59440994, 42.81367874, 43.36660385, 43.71933746, 43.48099899,\n",
       "       44.16740036, 43.82419586, 44.19599152, 44.54872513, 44.33899307,\n",
       "       43.77653122, 44.2913208 , 45.40671539, 45.64504242, 45.51157761,\n",
       "       45.75943756, 46.41723251, 46.81763458, 47.06549072, 47.02735901,\n",
       "       47.36102295, 47.54215622, 47.53262329, 47.43728638, 47.41822052,\n",
       "       47.82814789, 48.15227127, 47.07502365, 46.45536804, 46.7318306 ,\n",
       "       46.58882904, 47.06549072, 47.38961792, 47.06293106, 48.42735291,\n",
       "       47.74514008, 47.63945007, 47.44727325, 47.16862488, 47.31275558,\n",
       "       47.60101318, 47.29353714, 47.53375244, 47.40884399, 46.43837357,\n",
       "       46.42876053, 46.02519989, 45.67929459, 45.70811462, 44.16113281,\n",
       "       45.10277176, 45.66968155, 45.35259628, 45.49672699, 45.09316635,\n",
       "       44.81451797, 45.70811462, 45.11238098, 45.62164307, 44.74726105,\n",
       "       45.22768784, 45.48711777, 45.3045578 , 45.70811462, 45.08355713,\n",
       "       45.21807861, 45.74655151, 45.85224915, 46.38072205, 45.82341766,\n",
       "       45.51594543, 45.32376862, 45.54477692, 45.98677063, 46.24619675,\n",
       "       46.79388809, 47.32236099, 47.33197021, 47.33197021, 47.48570633,\n",
       "       47.56257629, 47.66827011, 47.71631241, 47.84122467, 43.80561447,\n",
       "       43.46931839, 43.07535934, 43.33479309, 44.06504822, 43.50774384,\n",
       "       43.18105316, 42.94083786, 43.18105316, 43.56539917, 43.60383606,\n",
       "       43.86326981, 43.81522369, 43.67109299, 43.50774384, 43.08496857,\n",
       "       44.37251663, 44.24760818, 44.41095352, 44.29464722, 43.90694427,\n",
       "       44.01356125, 44.15895081, 44.12987518, 44.11048126, 44.5175705 ,\n",
       "       44.61449432, 45.20573807, 45.17666245, 45.14758682, 45.41897583,\n",
       "       45.28327942, 45.13789368, 44.75988007, 45.05065536, 45.04096603,\n",
       "       45.11850739, 45.2348175 , 45.20573807, 45.27358246, 45.3026619 ,\n",
       "       45.55467224, 45.5062027 , 45.82605362, 46.01990891, 45.94237137,\n",
       "       46.72745514, 46.50452805, 46.36883545, 46.77592087, 46.93099594,\n",
       "       47.55132294, 47.09577179, 46.90192032, 47.22177887, 46.97946167,\n",
       "       46.52391815, 46.37852478, 45.94237137, 46.70807266, 46.57237625,\n",
       "       47.19269562, 47.66762543, 48.05533218, 47.68701553, 47.34777451,\n",
       "       47.10546112, 48.12317657, 48.31702042, 48.08440399, 47.59008789,\n",
       "       47.11515808, 47.73547363, 47.61916733, 48.4430275 , 48.46240997,\n",
       "       49.21842957, 49.81936264, 49.90659714, 49.79997635, 49.75151443,\n",
       "       50.05198288, 49.94453049, 50.12035751, 49.69055557, 49.46588898,\n",
       "       49.93475723, 50.46223831, 50.35478973, 50.71621323, 50.55991745,\n",
       "       49.93475723, 49.89569092, 49.73939896, 50.40363312, 50.77482224,\n",
       "       50.89203644, 50.90180969, 50.7943573 , 50.39386368, 50.61853409,\n",
       "       50.83343124, 50.91157532, 50.92134476, 50.93111038, 50.97018433,\n",
       "       50.8236618 , 50.19850159, 50.032444  , 53.0703392 , 52.53308487,\n",
       "       51.83955002, 52.91404343, 52.73822021, 52.47447968, 51.40975189,\n",
       "       50.8236618 , 51.11670685, 50.45247269, 51.05809784, 51.9469986 ,\n",
       "       52.44517517, 52.18143082, 51.96653748, 52.25958252, 51.76140594,\n",
       "       52.6210022 , 53.14848328, 53.42198944, 52.63077164, 52.84566498,\n",
       "       53.22662735, 52.49401474, 53.27546692, 53.45129013, 53.8322525 ,\n",
       "       53.77364349, 53.76387405, 54.01784897, 54.47694778, 53.84202194,\n",
       "       53.94947052, 53.25593185, 53.13871765, 53.50013351, 53.8322525 ,\n",
       "       53.38947296, 53.09428406, 53.36979294, 53.35995102, 53.64530182,\n",
       "       53.04508591, 53.27139664, 53.42883301, 53.30091476, 53.51738358,\n",
       "       53.43867111, 53.56658554, 53.77321625, 52.228405  , 52.97621155,\n",
       "       53.66498184, 53.00572968, 52.72038651, 52.96637344, 52.79909897,\n",
       "       52.44487381, 52.44487381, 52.65150452, 52.63182831, 52.9270134 ,\n",
       "       53.90113068, 53.35995102, 52.98604965, 53.76337433, 53.7338562 ,\n",
       "       52.88765335, 52.71054077, 52.55310822, 53.07460403, 53.55674362,\n",
       "       53.0352478 , 52.28744125, 51.57899094, 51.95289612, 51.45107651,\n",
       "       51.37236023, 51.00829697, 50.88038254, 51.56915283, 51.78562546,\n",
       "       51.82497787, 52.17920303, 52.228405  , 52.36615753, 52.11032867,\n",
       "       52.17920303, 52.36615753, 53.0352478 , 53.08444595, 52.93575287,\n",
       "       53.28270721, 53.33227158, 53.81801224, 53.7188797 , 53.94688034,\n",
       "       53.59992599, 53.3025322 , 53.48096848, 53.66931534, 53.94688034,\n",
       "       53.94688034, 53.94688034, 53.4413147 , 53.84775162, 54.49210358,\n",
       "       54.432621  , 54.23435974, 54.54166794, 54.8687973 , 54.78949356,\n",
       "       54.8687973 , 54.51192856, 54.21453476, 54.19470596, 53.77836227,\n",
       "       53.877491  , 54.8588829 , 55.04722977, 55.64201736, 55.51314545,\n",
       "       56.20706177, 56.32601547, 56.44497299, 56.67297363, 57.10914993,\n",
       "       57.32723999, 57.17853928, 56.98027802, 56.51436234, 56.51436234,\n",
       "       58.34828186, 57.89228439, 58.07071686, 58.32845688, 58.33836746,\n",
       "       58.47715378, 58.67541122, 59.23054504, 59.07193756, 58.89350128,\n",
       "       59.09176254, 59.4288063 , 59.01245499, 59.25037003])"
      ]
     },
     "execution_count": 3,
     "metadata": {},
     "output_type": "execute_result"
    }
   ],
   "source": [
    "close"
   ]
  },
  {
   "cell_type": "code",
   "execution_count": 4,
   "metadata": {},
   "outputs": [
    {
     "data": {
      "text/html": [
       "<div>\n",
       "<style scoped>\n",
       "    .dataframe tbody tr th:only-of-type {\n",
       "        vertical-align: middle;\n",
       "    }\n",
       "\n",
       "    .dataframe tbody tr th {\n",
       "        vertical-align: top;\n",
       "    }\n",
       "\n",
       "    .dataframe thead th {\n",
       "        text-align: right;\n",
       "    }\n",
       "</style>\n",
       "<table border=\"1\" class=\"dataframe\">\n",
       "  <thead>\n",
       "    <tr style=\"text-align: right;\">\n",
       "      <th></th>\n",
       "      <th>macd</th>\n",
       "      <th>macdsignal</th>\n",
       "      <th>macdhist</th>\n",
       "    </tr>\n",
       "  </thead>\n",
       "  <tbody>\n",
       "    <tr>\n",
       "      <th>0</th>\n",
       "      <td>0.296858</td>\n",
       "      <td>0.300103</td>\n",
       "      <td>-0.003245</td>\n",
       "    </tr>\n",
       "    <tr>\n",
       "      <th>1</th>\n",
       "      <td>0.270922</td>\n",
       "      <td>0.294266</td>\n",
       "      <td>-0.023345</td>\n",
       "    </tr>\n",
       "    <tr>\n",
       "      <th>2</th>\n",
       "      <td>0.240204</td>\n",
       "      <td>0.283454</td>\n",
       "      <td>-0.043250</td>\n",
       "    </tr>\n",
       "    <tr>\n",
       "      <th>3</th>\n",
       "      <td>0.272322</td>\n",
       "      <td>0.281228</td>\n",
       "      <td>-0.008905</td>\n",
       "    </tr>\n",
       "    <tr>\n",
       "      <th>4</th>\n",
       "      <td>0.259309</td>\n",
       "      <td>0.276844</td>\n",
       "      <td>-0.017535</td>\n",
       "    </tr>\n",
       "  </tbody>\n",
       "</table>\n",
       "</div>"
      ],
      "text/plain": [
       "       macd  macdsignal  macdhist\n",
       "0  0.296858    0.300103 -0.003245\n",
       "1  0.270922    0.294266 -0.023345\n",
       "2  0.240204    0.283454 -0.043250\n",
       "3  0.272322    0.281228 -0.008905\n",
       "4  0.259309    0.276844 -0.017535"
      ]
     },
     "execution_count": 4,
     "metadata": {},
     "output_type": "execute_result"
    }
   ],
   "source": [
    "macd, macdsignal, macdhist = talib.MACD(close, fastperiod=5, slowperiod=20, signalperiod=9)\n",
    "macdhist = macdhist[~np.isnan(macdhist)]\n",
    "macd = macd[-len(macdhist):]\n",
    "macdsignal = macdsignal[-len(macdhist):]\n",
    "\n",
    "\n",
    "pd.DataFrame({'macd': macd, 'macdsignal': macdsignal, 'macdhist': macdhist}).head()"
   ]
  },
  {
   "cell_type": "code",
   "execution_count": 5,
   "metadata": {},
   "outputs": [],
   "source": [
    "def prepare_dataset(close):\n",
    "    \"\"\"\n",
    "    Function prepare_dataset to generate input data and trading strategy from stock close prices\n",
    "    \"\"\"\n",
    "\n",
    "    macd, macdsignal, macdhist = talib.MACD(close, fastperiod=12, slowperiod=26, signalperiod=9)\n",
    "\n",
    "    # Cancel NaN values\n",
    "    macdhist = macdhist[~np.isnan(macdhist)]\n",
    "    macd = macd[-len(macdhist):]\n",
    "    macdsignal = macdsignal[-len(macdhist):]\n",
    "\n",
    "    # Scaling features to a range [0, 1]\n",
    "    min_max_scaler = preprocessing.MinMaxScaler(feature_range=(-1, 1))\n",
    "    macdhist_norm = min_max_scaler.fit_transform(np.expand_dims(macdhist, axis=1))\n",
    "\n",
    "    # Implement strategy\n",
    "    start_sell = 0.2\n",
    "    stop_sell = 0.05\n",
    "    start_buy = -0.2\n",
    "    stop_buy = -0.05\n",
    "\n",
    "    y = np.full(len(macdhist), np.nan)\n",
    "    y[0] = 0\n",
    "\n",
    "    for i in range(1, len(macdhist)):\n",
    "\n",
    "        if y[i-1] == 0:\n",
    "            if (macdhist_norm[i] >= start_sell):\n",
    "                # Enter sell position\n",
    "                y[i] = -1\n",
    "            elif (macdhist_norm[i] <= start_buy):\n",
    "                # Enter buy position\n",
    "                y[i] = 1\n",
    "            else:\n",
    "                y[i] = 0\n",
    "        elif y[i-1] == -1:\n",
    "            if macdhist_norm[i] > stop_sell:\n",
    "                # Stay in sell position\n",
    "                y[i] = -1\n",
    "            else:\n",
    "                # Leave sell position\n",
    "                y[i] = 0\n",
    "        else:\n",
    "            if macdhist_norm[i] < stop_buy:\n",
    "                # Stay in buy position\n",
    "                y[i] = 1\n",
    "            else:\n",
    "                # Leave buy position\n",
    "                y[i] = 0\n",
    "\n",
    "    # Plot strategy\n",
    "    dates = np.arange(len(macdhist))\n",
    "    plt.plot(dates, y,'g', label='Strategy Positions')\n",
    "    plt.bar(dates, macdhist_norm[:, 0], width=1, color='blue', label='MACD histogram')\n",
    "    plt.plot(dates, start_sell * np.ones(len(macdhist)), 'k--', lw=1)\n",
    "    plt.plot(dates, stop_sell * np.ones(len(macdhist)), 'k--', lw=1)\n",
    "    plt.plot(dates, start_buy * np.ones(len(macdhist)), 'k--', lw=1)\n",
    "    plt.plot(dates, stop_buy * np.ones(len(macdhist)), 'k--', lw=1)\n",
    "    plt.xlabel('Days')\n",
    "    plt.xlim((0, len(y)))\n",
    "    plt.legend()\n",
    "    # plt.savefig('images/AAL_macd.png', bbox_inches='tight')\n",
    "    plt.show()\n",
    "    \n",
    "    # Generate input data - technical indicators\n",
    "    ind1 = talib.MIDPOINT(close)    # Overlap: MidPoint over period\n",
    "    ind2 = talib.HT_DCPERIOD(close) # Cycle Indicator Functions:  Hilbert Transform - Dominant Cycle Period\n",
    "    ind3 = talib.MAX(close)         # Math Operator: Highest value over a specified period\n",
    "    ind4 = talib.SIN(close)         # Math Transform: Vector Trigonometric Sin\n",
    "    ind5 = talib.APO(close)         # Momentum: Absolute Price Oscillator\n",
    "    ind6 = talib.TEMA(close, timeperiod=5) ## Triple Exponential Moving Average\n",
    "\n",
    "    x = np.vstack((macdhist, macd, macdsignal, ind1[-len(macdhist):], ind2[-len(macdhist):],\n",
    "                   ind3[-len(macdhist):], ind4[-len(macdhist):], ind5[-len(macdhist):],\n",
    "                   ind6[-len(macdhist):]))\n",
    "    x = x.T\n",
    "\n",
    "    return x, y"
   ]
  },
  {
   "cell_type": "code",
   "execution_count": 6,
   "metadata": {},
   "outputs": [
    {
     "data": {
      "image/png": "[encoded data removed]",
      "text/plain": [
       "<Figure size 432x288 with 1 Axes>"
      ]
     },
     "metadata": {
      "needs_background": "light"
     },
     "output_type": "display_data"
    }
   ],
   "source": [
    "# Implement MACD trading strategy\n",
    "X, y = prepare_dataset(close)"
   ]
  },
  {
   "cell_type": "code",
   "execution_count": 7,
   "metadata": {},
   "outputs": [
    {
     "data": {
      "text/plain": [
       "array([-1.88553743e-02,  2.54123358e-01,  2.72978732e-01,  3.84336605e+01,\n",
       "        1.72117648e+01,  3.86874657e+01,  7.98562962e-01,  2.14056969e-01,\n",
       "        3.86492313e+01])"
      ]
     },
     "execution_count": 7,
     "metadata": {},
     "output_type": "execute_result"
    }
   ],
   "source": [
    "X[0]"
   ]
  },
  {
   "cell_type": "code",
   "execution_count": 8,
   "metadata": {},
   "outputs": [],
   "source": [
    "# Split dataset\n",
    "n_train = int(X.shape[0] * 0.8)\n",
    "\n",
    "X_train, y_train = X[:n_train], y[:n_train]\n",
    "X_test, y_test = X[n_train:], y[n_train:]"
   ]
  },
  {
   "cell_type": "code",
   "execution_count": 9,
   "metadata": {},
   "outputs": [],
   "source": [
    "# Normalize data\n",
    "scaler = preprocessing.MinMaxScaler()\n",
    "\n",
    "X_train = scaler.fit_transform(X_train)\n",
    "X_test = scaler.transform(X_test)"
   ]
  },
  {
   "cell_type": "code",
   "execution_count": 10,
   "metadata": {},
   "outputs": [
    {
     "name": "stdout",
     "output_type": "stream",
     "text": [
      "[-1.  0.  1.]\n"
     ]
    }
   ],
   "source": [
    "# Encode trading signal with integers between 0 and n-1 classes\n",
    "le = preprocessing.LabelEncoder()\n",
    "\n",
    "y_train = le.fit_transform(y_train)\n",
    "y_test = le.transform(y_test)\n",
    "\n",
    "print(le.classes_)"
   ]
  },
  {
   "cell_type": "code",
   "execution_count": 11,
   "metadata": {},
   "outputs": [],
   "source": [
    "## Create and train the Agent\n",
    "# Variable definiton\n",
    "episodes = 20\n",
    "look_back = 5\n",
    "batch_size = 32\n",
    "action_size = len(le.classes_)\n",
    "n_features = X_train.shape[1]"
   ]
  },
  {
   "cell_type": "code",
   "execution_count": 12,
   "metadata": {},
   "outputs": [],
   "source": [
    "# Create Agent\n",
    "agent = Agent(look_back, action_size, n_features)"
   ]
  },
  {
   "cell_type": "code",
   "execution_count": 13,
   "metadata": {},
   "outputs": [],
   "source": [
    "def run(agent, dataX, dataY, episodes, look_back):\n",
    "    \"\"\"\n",
    "    Function run to train the agent\n",
    "    \"\"\"\n",
    "    \n",
    "    # Length of dataset\n",
    "    times = len(dataX)\n",
    "\n",
    "    # List of total rewards\n",
    "    total_reward_list = []\n",
    "\n",
    "    for ep in range(episodes):\n",
    "\n",
    "        # print('Episode: ' + str(ep))\n",
    "        \n",
    "        # Initial state and position\n",
    "        state = dataX[:look_back, :][np.newaxis, :, :]\n",
    "        pos = dataY[look_back - 1]\n",
    "\n",
    "        done = False\n",
    "        total_reward = 0\n",
    "\n",
    "        for t in range(1, times - look_back + 1):\n",
    "\n",
    "            # Predict action based on the current state\n",
    "            action = agent.act(state)\n",
    "\n",
    "            # Calculate reward\n",
    "            if action == pos:   # 0:-1      1:0     2:1\n",
    "                reward = +1\n",
    "\n",
    "            elif (pos == 0 or pos == 2):\n",
    "                if action == 1:\n",
    "                    reward = 0\n",
    "                else:\n",
    "                    reward = -1\n",
    "            else:\n",
    "                reward = -1\n",
    "\n",
    "            total_reward += reward\n",
    "\n",
    "            # Final state\n",
    "            if t == times - look_back:\n",
    "                done = True\n",
    "\n",
    "            # Receive next state and position\n",
    "            next_state = dataX[t:t + look_back, :][np.newaxis, :, :]\n",
    "            next_pos = dataY[t + look_back - 1]\n",
    "            \n",
    "            # Remember current experience\n",
    "            agent.remember(state, action, reward, next_state, done)\n",
    "            \n",
    "            # Make next_state the new current state; the same for pos\n",
    "            state = next_state\n",
    "            pos = next_pos\n",
    "\n",
    "            if done:\n",
    "                print('Episode: %i ---> Total Reward: %i' %(ep, total_reward))\n",
    "                total_reward_list.append(total_reward)\n",
    "\n",
    "            # Train the agent with previous experiences\n",
    "            if len(agent.memory) > batch_size:\n",
    "                agent.replay(batch_size)\n",
    "\n",
    "        if (ep + 1) % 5 == 0 and ep > 0:\n",
    "            file = 'checkpoints/' + symbol + '_robot_checkpoint' + str(ep + 1)\n",
    "            # Serialize weights to HDF5\n",
    "            agent.model.save_weights(file + \".h5\")\n",
    "            # Save epsilon\n",
    "            pickle.dump(agent.epsilon, open(file + \"_epsilon.pickle\", \"wb\"))\n",
    "\n",
    "    # Save list of rewards along the epochs\n",
    "    np.savetxt(file + '_total_reward.txt', total_reward_list)\n",
    "\n",
    "    return\n"
   ]
  },
  {
   "cell_type": "code",
   "execution_count": 14,
   "metadata": {},
   "outputs": [
    {
     "name": "stdout",
     "output_type": "stream",
     "text": [
      "Episode: 0 ---> Total Reward: 131\n",
      "Episode: 1 ---> Total Reward: 385\n",
      "Episode: 2 ---> Total Reward: 432\n",
      "Episode: 3 ---> Total Reward: 443\n",
      "Episode: 4 ---> Total Reward: 474\n",
      "Episode: 5 ---> Total Reward: 461\n",
      "Episode: 6 ---> Total Reward: 467\n",
      "Episode: 7 ---> Total Reward: 456\n",
      "Episode: 8 ---> Total Reward: 473\n",
      "Episode: 9 ---> Total Reward: 478\n",
      "Episode: 10 ---> Total Reward: 505\n",
      "Episode: 11 ---> Total Reward: 478\n",
      "Episode: 12 ---> Total Reward: 479\n",
      "Episode: 13 ---> Total Reward: 485\n",
      "Episode: 14 ---> Total Reward: 486\n",
      "Episode: 15 ---> Total Reward: 509\n",
      "Episode: 16 ---> Total Reward: 508\n",
      "Episode: 17 ---> Total Reward: 457\n",
      "Episode: 18 ---> Total Reward: 512\n",
      "Episode: 19 ---> Total Reward: 514\n"
     ]
    }
   ],
   "source": [
    "# Train Agent\n",
    "run(agent, X_train, y_train, episodes, look_back)"
   ]
  },
  {
   "cell_type": "code",
   "execution_count": 15,
   "metadata": {},
   "outputs": [
    {
     "data": {
      "image/png": "[encoded data removed]",
      "text/plain": [
       "<Figure size 432x288 with 1 Axes>"
      ]
     },
     "metadata": {
      "needs_background": "light"
     },
     "output_type": "display_data"
    }
   ],
   "source": [
    "# Load rewards\n",
    "total_reward_list = np.loadtxt( 'checkpoints/'+ symbol + '_robot_checkpoint' + str(episodes) + '_total_reward.txt')\n",
    "# Plot\n",
    "plt.figure()\n",
    "plt.plot(np.arange(1, episodes+1), total_reward_list)\n",
    "plt.xlabel('Episodes')\n",
    "plt.ylabel('Total Reward')\n",
    "plt.show()"
   ]
  },
  {
   "cell_type": "code",
   "execution_count": 16,
   "metadata": {},
   "outputs": [
    {
     "data": {
      "text/plain": [
       "array([131., 385., 432., 443., 474., 461., 467., 456., 473., 478., 505.,\n",
       "       478., 479., 485., 486., 509., 508., 457., 512., 514.])"
      ]
     },
     "execution_count": 16,
     "metadata": {},
     "output_type": "execute_result"
    }
   ],
   "source": [
    "total_reward_list"
   ]
  },
  {
   "cell_type": "code",
   "execution_count": 17,
   "metadata": {},
   "outputs": [],
   "source": [
    "def evaluate(agent, dataX, dataY, look_back):\n",
    "    \"\"\"\n",
    "    Function run to evaluate the trained agent\n",
    "    \"\"\"\n",
    "    \n",
    "    # Length of dataset\n",
    "    times = len(dataX)\n",
    "\n",
    "    # Initial state and position\n",
    "    state = dataX[:look_back, :][np.newaxis, :, :]\n",
    "    pos = dataY[look_back - 1]\n",
    "\n",
    "    # List of predicted positions\n",
    "    pos_list = []\n",
    "    \n",
    "    done = False\n",
    "    total_reward = 0\n",
    "    \n",
    "    for t in range(1, times - look_back + 1):\n",
    "\n",
    "        # Predict action based on the current state\n",
    "        action = agent.act(state)\n",
    "\n",
    "        # Calculate reward\n",
    "        if action == pos:   # 0:-1      1:0     2:1\n",
    "            reward = +1\n",
    "\n",
    "        elif (pos == 0 or pos == 2):\n",
    "            if action == 1:\n",
    "                reward = 0\n",
    "            else:\n",
    "                reward = -1\n",
    "        else:\n",
    "            reward = -1\n",
    "\n",
    "        pos_list.append(action)\n",
    "        total_reward += reward\n",
    "\n",
    "        # Final state\n",
    "        if t == times - look_back:\n",
    "            done = True\n",
    "\n",
    "        # Receive next state and position\n",
    "        next_state = dataX[t:t + look_back, :][np.newaxis, :, :]\n",
    "        next_pos = dataY[t + look_back - 1]\n",
    "\n",
    "        # Remember current experience\n",
    "        agent.remember(state, action, reward, next_state, done)\n",
    "\n",
    "        # Make next_state the new current state; the same for pos\n",
    "        state = next_state\n",
    "        pos = next_pos\n",
    "\n",
    "        if done:\n",
    "            print('Total Reward: %i' % total_reward)\n",
    "\n",
    "    return np.array(pos_list)"
   ]
  },
  {
   "cell_type": "code",
   "execution_count": 18,
   "metadata": {},
   "outputs": [
    {
     "name": "stdout",
     "output_type": "stream",
     "text": [
      "Total Reward: 58\n",
      "Accuracy: 41.43 %\n"
     ]
    }
   ],
   "source": [
    "# Evaluate the model\n",
    "# Make predictions\n",
    "y_pred_test = evaluate(agent, X_test, y_test, look_back)\n",
    "\n",
    "# Calculate and print accuracy\n",
    "acc = accuracy_score(y_test[look_back-1:-1], y_pred_test)\n",
    "\n",
    "print('Accuracy: %.2f %%' % (acc*100))"
   ]
  },
  {
   "cell_type": "code",
   "execution_count": 19,
   "metadata": {},
   "outputs": [
    {
     "name": "stdout",
     "output_type": "stream",
     "text": [
      "      1-Precision  2-Recall  3-F1 score  4-Support\n",
      "-1.0        1.000     0.194       0.324         93\n",
      " 0.0        0.328     1.000       0.494         40\n",
      " 1.0        0.000     0.000       0.000          7\n"
     ]
    },
    {
     "name": "stderr",
     "output_type": "stream",
     "text": [
      "C:\\Users\\Elid-PC.DESKTOP-MG9DS93\\anaconda3\\lib\\site-packages\\sklearn\\metrics\\_classification.py:1272: UndefinedMetricWarning: Precision and F-score are ill-defined and being set to 0.0 in labels with no predicted samples. Use `zero_division` parameter to control this behavior.\n",
      "  _warn_prf(average, modifier, msg_start, len(result))\n"
     ]
    }
   ],
   "source": [
    "# Calculate and print precision, recall, f1 score and support\n",
    "p, r, f1, s = precision_recall_fscore_support(y_test[look_back-1:-1], y_pred_test, average=None)\n",
    "results = pd.DataFrame({'1-Precision': p, '2-Recall': r, '3-F1 score': f1, '4-Support': s}, index=le.classes_)\n",
    "\n",
    "print(results.round(decimals=3))"
   ]
  },
  {
   "cell_type": "code",
   "execution_count": 20,
   "metadata": {},
   "outputs": [],
   "source": [
    "# Decodificate labels\n",
    "y_true_test = le.inverse_transform(y_test[look_back-1:-1])\n",
    "y_pred_test = le.inverse_transform(y_pred_test)"
   ]
  },
  {
   "cell_type": "code",
   "execution_count": 21,
   "metadata": {},
   "outputs": [
    {
     "data": {
      "image/png": "[encoded data removed]",
      "text/plain": [
       "<Figure size 432x288 with 1 Axes>"
      ]
     },
     "metadata": {
      "needs_background": "light"
     },
     "output_type": "display_data"
    }
   ],
   "source": [
    "# Plot strategy\n",
    "plt.figure()\n",
    "plt.plot(y_true_test, label='true')\n",
    "plt.plot(y_pred_test, label='pred')\n",
    "plt.legend()\n",
    "plt.show()"
   ]
  },
  {
   "cell_type": "code",
   "execution_count": null,
   "metadata": {},
   "outputs": [],
   "source": []
  }
 ],
 "metadata": {
  "kernelspec": {
   "display_name": "Python 3",
   "language": "python",
   "name": "python3"
  },
  "language_info": {
   "codemirror_mode": {
    "name": "ipython",
    "version": 3
   },
   "file_extension": ".py",
   "mimetype": "text/x-python",
   "name": "python",
   "nbconvert_exporter": "python",
   "pygments_lexer": "ipython3",
   "version": "3.7.6"
  }
 },
 "nbformat": 4,
 "nbformat_minor": 2
}
