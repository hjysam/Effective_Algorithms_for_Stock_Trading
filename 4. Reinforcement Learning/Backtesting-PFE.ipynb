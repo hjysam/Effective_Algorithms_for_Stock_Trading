{
 "cells": [
  {
   "cell_type": "code",
   "execution_count": 1,
   "metadata": {
    "scrolled": true
   },
   "outputs": [
    {
     "name": "stderr",
     "output_type": "stream",
     "text": [
      "C:\\Users\\Elid-PC.DESKTOP-MG9DS93\\anaconda3\\lib\\site-packages\\pandas_datareader\\compat\\__init__.py:7: FutureWarning: pandas.util.testing is deprecated. Use the functions in the public API at pandas.testing instead.\n",
      "  from pandas.util.testing import assert_frame_equal\n"
     ]
    },
    {
     "data": {
      "application/javascript": [
       "\n",
       "console.log('Starting front end url_querystring_target comm target');\n",
       "const comm = Jupyter.notebook.kernel.comm_manager.new_comm('url_querystring_target', {'init': 1});\n",
       "comm.send({'ipyparams_browser_url': window.location.href});\n",
       "console.log('Sent window.location.href on url_querystring_target comm target');\n",
       "\n",
       "comm.on_msg(function(msg) {\n",
       "    console.log(msg.content.data);\n",
       "});\n"
      ],
      "text/plain": [
       "<IPython.core.display.Javascript object>"
      ]
     },
     "metadata": {},
     "output_type": "display_data"
    },
    {
     "name": "stderr",
     "output_type": "stream",
     "text": [
      "Using TensorFlow backend.\n"
     ]
    }
   ],
   "source": [
    "# Import libraries\n",
    "import pandas as pd\n",
    "from pandas_datareader import data as pdr\n",
    "\n",
    "import numpy as np\n",
    "import matplotlib.pyplot as plt\n",
    "import pickle\n",
    "\n",
    "from sklearn import preprocessing\n",
    "from sklearn.metrics import accuracy_score\n",
    "from sklearn.metrics import precision_recall_fscore_support\n",
    "\n",
    "import talib, re, ipyparams\n",
    "\n",
    "from Agent import Agent"
   ]
  },
  {
   "cell_type": "code",
   "execution_count": 2,
   "metadata": {},
   "outputs": [
    {
     "data": {
      "text/plain": [
       "755"
      ]
     },
     "execution_count": 2,
     "metadata": {},
     "output_type": "execute_result"
    }
   ],
   "source": [
    "end_date = '2020-04-19'\n",
    "start_date = '2017-04-20'\n",
    "\n",
    "symbol = 'PFE'\n",
    "Date = pd.DataFrame(pdr.DataReader(symbol,'yahoo', start_date, end_date))\n",
    "\n",
    "alldata = pd.DataFrame({'Date': Date.index})\n",
    "alldata[symbol] = pdr.DataReader(symbol, 'yahoo', start_date, end_date)['Adj Close'].values\n",
    "# Stock symbol\n",
    "\n",
    "# Load close prices of to NumPy array\n",
    "close = alldata[symbol].values\n",
    "len(close)"
   ]
  },
  {
   "cell_type": "code",
   "execution_count": 3,
   "metadata": {},
   "outputs": [
    {
     "data": {
      "text/plain": [
       "array([29.80679321, 29.92208481, 29.83340263, 29.92208481, 29.93981743,\n",
       "       30.01963425, 30.02850914, 30.08171654, 29.95755959, 29.80679321,\n",
       "       29.68264008, 29.66490173, 29.69150925, 29.66490173, 29.60281944,\n",
       "       29.57595634, 29.58491325, 29.55805206, 29.65654564, 29.19092751,\n",
       "       28.85961723, 28.85066605, 29.06556702, 28.76111794, 28.77902603,\n",
       "       28.69843864, 28.79693985, 28.77902603, 28.77007484, 29.23570061,\n",
       "       29.28942108, 29.13720131, 28.96706772, 28.71635056, 28.65366936,\n",
       "       28.42981339, 29.34314919, 29.28046799, 29.1730175 , 29.27151299,\n",
       "       29.37896729, 29.52223396, 29.74609375, 30.0505352 , 30.33706856,\n",
       "       30.49824905, 30.59674263, 30.48033714, 30.23857498, 30.22067451,\n",
       "       30.1132164 , 30.0773983 , 30.28334427, 30.12216949, 29.74609375,\n",
       "       29.86249733, 29.91621971, 29.70131683, 29.74609375, 29.79981613,\n",
       "       29.93413162, 29.77295494, 29.87145042, 30.10426331, 30.03263092,\n",
       "       29.97890663, 29.83563042, 29.63863945, 29.45059967, 29.54909897,\n",
       "       29.68341064, 29.69236946, 29.62073135, 29.76539803, 30.22652817,\n",
       "       30.41640282, 30.11802673, 30.09090042, 30.24460983, 30.21748543,\n",
       "       30.06377602, 30.11802673, 30.18131638, 30.16323853, 29.79252243,\n",
       "       29.53935432, 29.62072754, 29.97335815, 30.05474091, 30.04569054,\n",
       "       30.19035912, 30.26269722, 30.28981781, 30.24460983, 30.66956902,\n",
       "       30.70573616, 30.56106949, 30.73286819, 30.73286819, 30.83232689,\n",
       "       31.03124619, 31.98062515, 31.70032883, 32.30612183, 31.97158432,\n",
       "       32.1433754 , 32.05296326, 32.54121399, 32.52313614, 32.51409149,\n",
       "       32.10720444, 31.91732979, 32.05296326, 32.18857574, 32.27900696,\n",
       "       32.61354828, 32.67683029, 32.51409149, 32.55025482, 32.5954628 ,\n",
       "       32.67683029, 32.91192627, 32.95713043, 32.86671448, 32.85767746,\n",
       "       32.53216553, 32.73109055, 32.39654541, 32.76725388, 32.93001175,\n",
       "       32.91192627, 32.79437256, 32.6949234 , 32.3151741 , 32.18857574,\n",
       "       31.78170776, 31.70032883, 31.88116837, 32.06199646, 32.1433754 ,\n",
       "       31.93541908, 31.97158432, 31.95350266, 32.11774063, 32.0994873 ,\n",
       "       32.20898056, 32.28198242, 32.2637291 , 32.44622421, 32.27285004,\n",
       "       32.25460052, 32.42796326, 32.32760239, 32.38234329, 32.38234329,\n",
       "       32.71082306, 33.0392952 , 33.08491516, 33.16703796, 32.9024353 ,\n",
       "       32.51008606, 32.44622421, 32.39146805, 32.61045074, 33.0392952 ,\n",
       "       33.37691116, 33.43164825, 33.26740646, 33.94261169, 33.8787384 ,\n",
       "       33.70537567, 33.26740646, 33.06666946, 32.97542572, 33.0392952 ,\n",
       "       33.14879608, 33.18528366, 33.04842758, 33.24916077, 33.49550629,\n",
       "       33.56851196, 33.63238144, 33.25828171, 33.22178268, 33.27653122,\n",
       "       33.35865402, 33.3404007 , 33.3951416 , 33.924366  , 33.75099945,\n",
       "       33.70537567, 33.69625854, 33.59588242, 33.69625854, 33.96998215,\n",
       "       35.59412003, 35.60323715, 34.49007034, 33.79662323, 33.91633606,\n",
       "       33.71374512, 31.92720985, 32.48895264, 32.21269226, 30.96949387,\n",
       "       31.45756531, 31.91800117, 32.17585754, 32.40607452, 32.88494492,\n",
       "       33.39143372, 33.16120529, 32.93098068, 32.91257095, 33.39143372,\n",
       "       34.15576172, 33.88870621, 33.43747711, 32.81126785, 33.10595322,\n",
       "       33.26250076, 33.04149246, 33.08753967, 33.61244202, 33.86108017,\n",
       "       33.71374512, 33.84266663, 33.47430801, 33.68611908, 33.87028885,\n",
       "       33.45589447, 33.45589447, 33.40063858, 32.78364182, 31.76145744,\n",
       "       32.26794052, 32.2403183 , 32.50738144, 32.68234253, 32.2771492 ,\n",
       "       32.85731506, 33.27171707, 32.90335846, 32.38765717, 32.65472031,\n",
       "       33.10595322, 32.95861435, 33.44668579, 33.44668579, 33.64006805,\n",
       "       33.45589447, 33.60323334, 33.64006805, 33.73216248, 33.88870621,\n",
       "       34.12814331, 33.77820587, 33.93474579, 34.07288742, 33.71374512,\n",
       "       32.59946823, 32.12981033, 32.01009369, 32.08376312, 32.16664505,\n",
       "       32.21269226, 32.38765717, 32.58293533, 33.01067734, 33.3454361 ,\n",
       "       33.18735504, 33.17805481, 33.20595551, 33.14086533, 33.28964233,\n",
       "       33.21525955, 33.44771957, 33.37332916, 33.17805481, 33.19665527,\n",
       "       33.5221138 , 33.41053009, 33.70808792, 33.89406586, 33.88476181,\n",
       "       33.82897186, 33.93126297, 34.09863663, 33.75458527, 33.75458527,\n",
       "       33.68019104, 33.62440491, 33.8103714 , 33.62440491, 33.68019104,\n",
       "       33.90336609, 33.75458527, 33.94985199, 33.82897186, 33.82897186,\n",
       "       33.67089462, 33.8103714 , 33.7359848 , 33.78247833, 33.80107498,\n",
       "       34.28461075, 34.5077858 , 34.55427933, 34.80534363, 34.60077286,\n",
       "       34.88903809, 34.8983345 , 34.75885773, 35.00991821, 35.01921844,\n",
       "       34.74026108, 34.71236038, 34.60077286, 35.05641556, 35.32607269,\n",
       "       35.48415756, 35.71662903, 35.88400269, 37.1300354 , 37.44619751,\n",
       "       37.18361664, 38.01825333, 38.4871521 , 38.29959106, 38.83413696,\n",
       "       38.44964218, 38.38399506, 38.27145767, 38.17768097, 38.59968948,\n",
       "       38.84351349, 39.4718399 , 39.69691086, 39.53748703, 39.45307922,\n",
       "       39.57499313, 39.76255798, 38.99356079, 38.91853714, 38.91853714,\n",
       "       38.91853714, 38.93729782, 38.79662323, 39.24676895, 39.18112183,\n",
       "       39.57499313, 39.44371033, 39.67816162, 39.77193451, 40.18456268,\n",
       "       40.28772354, 40.33460999, 40.80351257, 40.56906128, 41.02857971,\n",
       "       41.31929779, 41.19738007, 41.06609344, 40.96293259, 41.16925049,\n",
       "       41.32867432, 41.51623154, 41.46934509, 42.02264786, 41.91948318,\n",
       "       42.11642075, 42.46340561, 42.6415863 , 41.74130249, 40.14705658,\n",
       "       41.05670929, 40.43776321, 41.19738007, 41.79757309, 41.26302719,\n",
       "       41.73192215, 41.61000824, 41.35681152, 39.83757401, 40.70973206,\n",
       "       39.95011139, 40.54092407, 40.22207642, 40.38150406, 40.95355606,\n",
       "       40.25959015, 40.8128891 , 40.33460999, 41.63815308, 41.43968964,\n",
       "       41.84605408, 41.6853981 , 41.12783051, 40.55135727, 40.83486557,\n",
       "       41.1183815 , 41.75155258, 41.1372757 , 40.73091125, 40.76871872,\n",
       "       40.95772552, 41.64759445, 42.4319725 , 43.00843811, 43.68886948,\n",
       "       43.46206284, 42.65878296, 42.50757217, 41.5058403 , 41.95946121,\n",
       "       41.59089661, 41.73265457, 42.12011337, 41.39243698, 40.74036789,\n",
       "       40.06938934, 39.6630249 , 39.64413071, 39.62522888, 38.32108307,\n",
       "       39.87092972, 40.49465561, 40.59861374, 41.25068665, 40.87266541,\n",
       "       39.72917938, 40.63641357, 40.8537674 , 41.04277802, 40.95772552,\n",
       "       39.98434448, 40.52300644, 40.04104233, 40.38125229, 39.79533386,\n",
       "       40.13554764, 40.19224548, 39.94653702, 39.84258652, 38.69909668,\n",
       "       38.40613174, 37.35714722, 38.52898407, 39.29446411, 40.4670105 ,\n",
       "       40.87692261, 40.45747375, 40.14289093, 40.35261536, 39.75204086,\n",
       "       40.25728226, 39.73298264, 39.91410065, 39.75204086, 40.00942612,\n",
       "       40.41934586, 40.61000061, 40.22868347, 40.17148972, 40.95318222,\n",
       "       41.06758118, 41.01037598, 40.92458725, 41.32496643, 41.33449554,\n",
       "       41.05804062, 40.88645172, 39.90456772, 39.4565239 , 38.97988129,\n",
       "       39.56138229, 39.78063965, 40.04755783, 39.26586533, 39.82830048,\n",
       "       39.85690308, 40.32401276, 40.20008469, 40.3716774 , 39.89503479,\n",
       "       39.9331665 , 40.43840408, 40.05709457, 40.31448746, 40.48607254,\n",
       "       40.83878708, 40.90551376, 40.83878708, 40.74346542, 40.98178101,\n",
       "       41.12477875, 40.83878708, 40.73392868, 40.29541779, 39.76157379,\n",
       "       40.12382507, 39.00847626, 38.01706314, 37.54042053, 37.15910721,\n",
       "       37.57854843, 37.53088379, 37.75967026, 38.10286331, 37.74060822,\n",
       "       38.71295929, 38.86548615, 39.09427261, 39.4565239 , 39.70437622,\n",
       "       38.92268372, 39.03708267, 39.08516312, 39.16210556, 39.01784515,\n",
       "       39.10440063, 39.57565689, 40.04690552, 39.88341522, 39.99881744,\n",
       "       40.07575226, 40.38351822, 40.31619263, 40.345047  , 40.29695892,\n",
       "       40.12384415, 40.29695892, 39.93149948, 40.31619263, 40.61433411,\n",
       "       40.85476685, 41.07596588, 41.27793503, 41.42219162, 41.03749847,\n",
       "       41.4318161 , 40.87400055, 41.12405396, 41.23946381, 41.42219162,\n",
       "       41.83574295, 41.93191528, 41.99924088, 42.08579254, 42.08579254,\n",
       "       41.34525681, 41.76842499, 41.66262817, 42.09541321, 42.52819824,\n",
       "       42.70131683, 42.23967361, 41.64339828, 41.71071625, 42.37432098,\n",
       "       41.33563995, 40.77783203, 41.1144371 , 41.21060944, 41.10482407,\n",
       "       41.4125824 , 41.13367462, 41.1817627 , 41.44142914, 41.24908447,\n",
       "       41.03749847, 41.44142914, 39.86417389, 37.30594635, 37.35403061,\n",
       "       37.13076019, 36.88807678, 35.87850952, 35.86880493, 35.5096283 ,\n",
       "       35.79114151, 35.28635788, 34.35444641, 34.1700058 , 33.23809814,\n",
       "       33.47107697, 33.63610077, 34.1505928 , 33.59727097, 33.84966278,\n",
       "       34.0535202 , 33.33517075, 33.8205452 , 33.33517075, 34.0535202 ,\n",
       "       34.29620743, 34.50976562, 35.06308746, 34.78157425, 35.27665329,\n",
       "       35.43196869, 35.75231552, 36.28621674, 36.31534195, 36.18914413,\n",
       "       35.82997131, 35.75231552, 35.43196869, 35.31547928, 35.44167709,\n",
       "       35.61640549, 35.17957687, 34.95630264, 34.84952927, 34.73303604,\n",
       "       35.16016388, 34.87864685, 34.39328003, 33.68463898, 34.41269684,\n",
       "       34.87864685, 34.78157425, 34.39328003, 34.64566803, 34.74274063,\n",
       "       35.05337906, 35.23781967, 35.43196869, 35.27665329, 35.39313889,\n",
       "       35.39313889, 35.39313889, 35.36401749, 35.69406509, 35.32518768,\n",
       "       35.69406509, 36.18914413, 37.09193039, 37.35403061, 37.2472496 ,\n",
       "       37.2666626 , 36.91719437, 36.38329315, 36.50949097, 36.17624664,\n",
       "       36.3134613 , 36.19584656, 36.23505402, 35.87240601, 35.8234024 ,\n",
       "       36.53889084, 36.53889084, 36.91133499, 36.3134613 , 36.98974609,\n",
       "       37.56801987, 37.91106033, 37.52881622, 37.86205673, 37.75424194,\n",
       "       37.52881622, 37.29358292, 37.38179779, 37.27397919, 37.52881622,\n",
       "       37.55821609, 37.71503448, 37.46020889, 37.77384567, 37.56801987,\n",
       "       38.36191559, 38.12668991, 38.11688614, 38.19529724, 38.45012665,\n",
       "       38.53833771, 38.50893402, 38.59714508, 38.53833771, 38.13648987,\n",
       "       38.40111923, 38.36191559, 38.15608978, 38.10708237, 37.97967148,\n",
       "       38.2835083 , 38.11688614, 38.70495605, 38.62654495, 39.27342606,\n",
       "       39.86149597, 39.80269241, 39.70467758, 39.53806305, 39.3910408 ,\n",
       "       39.90070343, 39.02839661, 39.36163712, 37.38179779, 36.8329277 ,\n",
       "       36.70420837, 36.87253571, 37.13986588, 37.31809235, 37.79335403,\n",
       "       37.88246536, 37.67453766, 37.43690872, 37.71414566, 37.36759949,\n",
       "       36.5655899 , 36.1497345 , 35.96160889, 35.87249756, 35.49624634,\n",
       "       35.36753082, 34.32788849, 33.59519577, 34.37739944, 33.76351547,\n",
       "       33.09022522, 34.53582001, 33.96154404, 36.04082108, 35.11009598,\n",
       "       34.67443848, 33.42686844, 34.24868011, 31.85256004, 29.72377586,\n",
       "       32.38722992, 29.88219833, 31.842659  , 32.04068756, 30.11982918,\n",
       "       28.72374344, 28.20887375, 29.40693474, 29.45643997, 31.43670464,\n",
       "       30.59509277, 32.34762573, 32.3179245 , 31.43670464, 32.5456543 ,\n",
       "       33.30805588, 34.22887802, 33.27835083, 34.25858307, 35.04078674,\n",
       "       34.79325485, 36.08042526, 35.61506653, 35.5259552 , 36.54578781])"
      ]
     },
     "execution_count": 3,
     "metadata": {},
     "output_type": "execute_result"
    }
   ],
   "source": [
    "close"
   ]
  },
  {
   "cell_type": "code",
   "execution_count": 4,
   "metadata": {},
   "outputs": [
    {
     "data": {
      "text/html": [
       "<div>\n",
       "<style scoped>\n",
       "    .dataframe tbody tr th:only-of-type {\n",
       "        vertical-align: middle;\n",
       "    }\n",
       "\n",
       "    .dataframe tbody tr th {\n",
       "        vertical-align: top;\n",
       "    }\n",
       "\n",
       "    .dataframe thead th {\n",
       "        text-align: right;\n",
       "    }\n",
       "</style>\n",
       "<table border=\"1\" class=\"dataframe\">\n",
       "  <thead>\n",
       "    <tr style=\"text-align: right;\">\n",
       "      <th></th>\n",
       "      <th>macd</th>\n",
       "      <th>macdsignal</th>\n",
       "      <th>macdhist</th>\n",
       "    </tr>\n",
       "  </thead>\n",
       "  <tbody>\n",
       "    <tr>\n",
       "      <th>0</th>\n",
       "      <td>-0.422752</td>\n",
       "      <td>-0.423189</td>\n",
       "      <td>0.000436</td>\n",
       "    </tr>\n",
       "    <tr>\n",
       "      <th>1</th>\n",
       "      <td>-0.393136</td>\n",
       "      <td>-0.417178</td>\n",
       "      <td>0.024043</td>\n",
       "    </tr>\n",
       "    <tr>\n",
       "      <th>2</th>\n",
       "      <td>-0.251928</td>\n",
       "      <td>-0.384128</td>\n",
       "      <td>0.132200</td>\n",
       "    </tr>\n",
       "    <tr>\n",
       "      <th>3</th>\n",
       "      <td>-0.145966</td>\n",
       "      <td>-0.336496</td>\n",
       "      <td>0.190529</td>\n",
       "    </tr>\n",
       "    <tr>\n",
       "      <th>4</th>\n",
       "      <td>-0.113662</td>\n",
       "      <td>-0.291929</td>\n",
       "      <td>0.178267</td>\n",
       "    </tr>\n",
       "  </tbody>\n",
       "</table>\n",
       "</div>"
      ],
      "text/plain": [
       "       macd  macdsignal  macdhist\n",
       "0 -0.422752   -0.423189  0.000436\n",
       "1 -0.393136   -0.417178  0.024043\n",
       "2 -0.251928   -0.384128  0.132200\n",
       "3 -0.145966   -0.336496  0.190529\n",
       "4 -0.113662   -0.291929  0.178267"
      ]
     },
     "execution_count": 4,
     "metadata": {},
     "output_type": "execute_result"
    }
   ],
   "source": [
    "macd, macdsignal, macdhist = talib.MACD(close, fastperiod=5, slowperiod=20, signalperiod=9)\n",
    "macdhist = macdhist[~np.isnan(macdhist)]\n",
    "macd = macd[-len(macdhist):]\n",
    "macdsignal = macdsignal[-len(macdhist):]\n",
    "\n",
    "\n",
    "pd.DataFrame({'macd': macd, 'macdsignal': macdsignal, 'macdhist': macdhist}).head()"
   ]
  },
  {
   "cell_type": "code",
   "execution_count": 5,
   "metadata": {},
   "outputs": [],
   "source": [
    "def prepare_dataset(close):\n",
    "    \"\"\"\n",
    "    Function prepare_dataset to generate input data and trading strategy from stock close prices\n",
    "    \"\"\"\n",
    "\n",
    "    macd, macdsignal, macdhist = talib.MACD(close, fastperiod=12, slowperiod=26, signalperiod=9)\n",
    "\n",
    "    # Cancel NaN values\n",
    "    macdhist = macdhist[~np.isnan(macdhist)]\n",
    "    macd = macd[-len(macdhist):]\n",
    "    macdsignal = macdsignal[-len(macdhist):]\n",
    "\n",
    "    # Scaling features to a range [0, 1]\n",
    "    min_max_scaler = preprocessing.MinMaxScaler(feature_range=(-1, 1))\n",
    "    macdhist_norm = min_max_scaler.fit_transform(np.expand_dims(macdhist, axis=1))\n",
    "\n",
    "    # Implement strategy\n",
    "    start_sell = 0.2\n",
    "    stop_sell = 0.05\n",
    "    start_buy = -0.2\n",
    "    stop_buy = -0.05\n",
    "\n",
    "    y = np.full(len(macdhist), np.nan)\n",
    "    y[0] = 0\n",
    "\n",
    "    for i in range(1, len(macdhist)):\n",
    "\n",
    "        if y[i-1] == 0:\n",
    "            if (macdhist_norm[i] >= start_sell):\n",
    "                # Enter sell position\n",
    "                y[i] = -1\n",
    "            elif (macdhist_norm[i] <= start_buy):\n",
    "                # Enter buy position\n",
    "                y[i] = 1\n",
    "            else:\n",
    "                y[i] = 0\n",
    "        elif y[i-1] == -1:\n",
    "            if macdhist_norm[i] > stop_sell:\n",
    "                # Stay in sell position\n",
    "                y[i] = -1\n",
    "            else:\n",
    "                # Leave sell position\n",
    "                y[i] = 0\n",
    "        else:\n",
    "            if macdhist_norm[i] < stop_buy:\n",
    "                # Stay in buy position\n",
    "                y[i] = 1\n",
    "            else:\n",
    "                # Leave buy position\n",
    "                y[i] = 0\n",
    "\n",
    "    # Plot strategy\n",
    "    dates = np.arange(len(macdhist))\n",
    "    plt.plot(dates, y,'g', label='Strategy Positions')\n",
    "    plt.bar(dates, macdhist_norm[:, 0], width=1, color='blue', label='MACD histogram')\n",
    "    plt.plot(dates, start_sell * np.ones(len(macdhist)), 'k--', lw=1)\n",
    "    plt.plot(dates, stop_sell * np.ones(len(macdhist)), 'k--', lw=1)\n",
    "    plt.plot(dates, start_buy * np.ones(len(macdhist)), 'k--', lw=1)\n",
    "    plt.plot(dates, stop_buy * np.ones(len(macdhist)), 'k--', lw=1)\n",
    "    plt.xlabel('Days')\n",
    "    plt.xlim((0, len(y)))\n",
    "    plt.legend()\n",
    "    # plt.savefig('images/AAL_macd.png', bbox_inches='tight')\n",
    "    plt.show()\n",
    "    \n",
    "    # Generate input data - technical indicators\n",
    "    ind1 = talib.MIDPOINT(close)    # Overlap: MidPoint over period\n",
    "    ind2 = talib.HT_DCPERIOD(close) # Cycle Indicator Functions:  Hilbert Transform - Dominant Cycle Period\n",
    "    ind3 = talib.MAX(close)         # Math Operator: Highest value over a specified period\n",
    "    ind4 = talib.SIN(close)         # Math Transform: Vector Trigonometric Sin\n",
    "    ind5 = talib.APO(close)         # Momentum: Absolute Price Oscillator\n",
    "    ind6 = talib.TEMA(close, timeperiod=5) ## Triple Exponential Moving Average\n",
    "\n",
    "    x = np.vstack((macdhist, macd, macdsignal, ind1[-len(macdhist):], ind2[-len(macdhist):],\n",
    "                   ind3[-len(macdhist):], ind4[-len(macdhist):], ind5[-len(macdhist):],\n",
    "                   ind6[-len(macdhist):]))\n",
    "    x = x.T\n",
    "\n",
    "    return x, y"
   ]
  },
  {
   "cell_type": "code",
   "execution_count": 6,
   "metadata": {},
   "outputs": [
    {
     "data": {
      "image/png": "[encoded data removed]",
      "text/plain": [
       "<Figure size 432x288 with 1 Axes>"
      ]
     },
     "metadata": {
      "needs_background": "light"
     },
     "output_type": "display_data"
    }
   ],
   "source": [
    "# Implement MACD trading strategy\n",
    "X, y = prepare_dataset(close)"
   ]
  },
  {
   "cell_type": "code",
   "execution_count": 7,
   "metadata": {},
   "outputs": [
    {
     "data": {
      "text/plain": [
       "array([ 0.05685714, -0.25675993, -0.31361706, 28.99392986, 17.19715092,\n",
       "       30.08171654, -0.42776319, -0.32766216, 28.83163003])"
      ]
     },
     "execution_count": 7,
     "metadata": {},
     "output_type": "execute_result"
    }
   ],
   "source": [
    "X[0]"
   ]
  },
  {
   "cell_type": "code",
   "execution_count": 8,
   "metadata": {},
   "outputs": [],
   "source": [
    "# Split dataset\n",
    "n_train = int(X.shape[0] * 0.8)\n",
    "\n",
    "X_train, y_train = X[:n_train], y[:n_train]\n",
    "X_test, y_test = X[n_train:], y[n_train:]"
   ]
  },
  {
   "cell_type": "code",
   "execution_count": 9,
   "metadata": {},
   "outputs": [],
   "source": [
    "# Normalize data\n",
    "scaler = preprocessing.MinMaxScaler()\n",
    "\n",
    "X_train = scaler.fit_transform(X_train)\n",
    "X_test = scaler.transform(X_test)"
   ]
  },
  {
   "cell_type": "code",
   "execution_count": 10,
   "metadata": {},
   "outputs": [
    {
     "name": "stdout",
     "output_type": "stream",
     "text": [
      "[-1.  0.  1.]\n"
     ]
    }
   ],
   "source": [
    "# Encode trading signal with integers between 0 and n-1 classes\n",
    "le = preprocessing.LabelEncoder()\n",
    "\n",
    "y_train = le.fit_transform(y_train)\n",
    "y_test = le.transform(y_test)\n",
    "\n",
    "print(le.classes_)"
   ]
  },
  {
   "cell_type": "code",
   "execution_count": 11,
   "metadata": {},
   "outputs": [],
   "source": [
    "## Create and train the Agent\n",
    "# Variable definiton\n",
    "episodes = 20\n",
    "look_back = 5\n",
    "batch_size = 32\n",
    "action_size = len(le.classes_)\n",
    "n_features = X_train.shape[1]"
   ]
  },
  {
   "cell_type": "code",
   "execution_count": 12,
   "metadata": {},
   "outputs": [],
   "source": [
    "# Create Agent\n",
    "agent = Agent(look_back, action_size, n_features)"
   ]
  },
  {
   "cell_type": "code",
   "execution_count": 13,
   "metadata": {},
   "outputs": [],
   "source": [
    "def run(agent, dataX, dataY, episodes, look_back):\n",
    "    \"\"\"\n",
    "    Function run to train the agent\n",
    "    \"\"\"\n",
    "    \n",
    "    # Length of dataset\n",
    "    times = len(dataX)\n",
    "\n",
    "    # List of total rewards\n",
    "    total_reward_list = []\n",
    "\n",
    "    for ep in range(episodes):\n",
    "\n",
    "        # print('Episode: ' + str(ep))\n",
    "        \n",
    "        # Initial state and position\n",
    "        state = dataX[:look_back, :][np.newaxis, :, :]\n",
    "        pos = dataY[look_back - 1]\n",
    "\n",
    "        done = False\n",
    "        total_reward = 0\n",
    "\n",
    "        for t in range(1, times - look_back + 1):\n",
    "\n",
    "            # Predict action based on the current state\n",
    "            action = agent.act(state)\n",
    "\n",
    "            # Calculate reward\n",
    "            if action == pos:   # 0:-1      1:0     2:1\n",
    "                reward = +1\n",
    "\n",
    "            elif (pos == 0 or pos == 2):\n",
    "                if action == 1:\n",
    "                    reward = 0\n",
    "                else:\n",
    "                    reward = -1\n",
    "            else:\n",
    "                reward = -1\n",
    "\n",
    "            total_reward += reward\n",
    "\n",
    "            # Final state\n",
    "            if t == times - look_back:\n",
    "                done = True\n",
    "\n",
    "            # Receive next state and position\n",
    "            next_state = dataX[t:t + look_back, :][np.newaxis, :, :]\n",
    "            next_pos = dataY[t + look_back - 1]\n",
    "            \n",
    "            # Remember current experience\n",
    "            agent.remember(state, action, reward, next_state, done)\n",
    "            \n",
    "            # Make next_state the new current state; the same for pos\n",
    "            state = next_state\n",
    "            pos = next_pos\n",
    "\n",
    "            if done:\n",
    "                print('Episode: %i ---> Total Reward: %i' %(ep, total_reward))\n",
    "                total_reward_list.append(total_reward)\n",
    "\n",
    "            # Train the agent with previous experiences\n",
    "            if len(agent.memory) > batch_size:\n",
    "                agent.replay(batch_size)\n",
    "\n",
    "        if (ep + 1) % 5 == 0 and ep > 0:\n",
    "            file = 'checkpoints/' + symbol + '_robot_checkpoint' + str(ep + 1)\n",
    "            # Serialize weights to HDF5\n",
    "            agent.model.save_weights(file + \".h5\")\n",
    "            # Save epsilon\n",
    "            pickle.dump(agent.epsilon, open(file + \"_epsilon.pickle\", \"wb\"))\n",
    "\n",
    "    # Save list of rewards along the epochs\n",
    "    np.savetxt(file + '_total_reward.txt', total_reward_list)\n",
    "\n",
    "    return\n"
   ]
  },
  {
   "cell_type": "code",
   "execution_count": 14,
   "metadata": {},
   "outputs": [
    {
     "name": "stdout",
     "output_type": "stream",
     "text": [
      "Episode: 0 ---> Total Reward: 149\n",
      "Episode: 1 ---> Total Reward: 378\n",
      "Episode: 2 ---> Total Reward: 408\n",
      "Episode: 3 ---> Total Reward: 421\n",
      "Episode: 4 ---> Total Reward: 426\n",
      "Episode: 5 ---> Total Reward: 441\n",
      "Episode: 6 ---> Total Reward: 436\n",
      "Episode: 7 ---> Total Reward: 310\n",
      "Episode: 8 ---> Total Reward: 343\n",
      "Episode: 9 ---> Total Reward: 417\n",
      "Episode: 10 ---> Total Reward: 328\n",
      "Episode: 11 ---> Total Reward: 464\n",
      "Episode: 12 ---> Total Reward: 477\n",
      "Episode: 13 ---> Total Reward: 471\n",
      "Episode: 14 ---> Total Reward: 481\n",
      "Episode: 15 ---> Total Reward: 517\n",
      "Episode: 16 ---> Total Reward: 497\n",
      "Episode: 17 ---> Total Reward: 500\n",
      "Episode: 18 ---> Total Reward: 511\n",
      "Episode: 19 ---> Total Reward: 510\n"
     ]
    }
   ],
   "source": [
    "# Train Agent\n",
    "run(agent, X_train, y_train, episodes, look_back)"
   ]
  },
  {
   "cell_type": "code",
   "execution_count": 15,
   "metadata": {},
   "outputs": [
    {
     "data": {
      "image/png": "[encoded data removed]",
      "text/plain": [
       "<Figure size 432x288 with 1 Axes>"
      ]
     },
     "metadata": {
      "needs_background": "light"
     },
     "output_type": "display_data"
    }
   ],
   "source": [
    "# Load rewards\n",
    "total_reward_list = np.loadtxt( 'checkpoints/'+ symbol + '_robot_checkpoint' + str(episodes) + '_total_reward.txt')\n",
    "# Plot\n",
    "plt.figure()\n",
    "plt.plot(np.arange(1, episodes+1), total_reward_list)\n",
    "plt.xlabel('Episodes')\n",
    "plt.ylabel('Total Reward')\n",
    "plt.show()"
   ]
  },
  {
   "cell_type": "code",
   "execution_count": 16,
   "metadata": {},
   "outputs": [
    {
     "data": {
      "text/plain": [
       "array([149., 378., 408., 421., 426., 441., 436., 310., 343., 417., 328.,\n",
       "       464., 477., 471., 481., 517., 497., 500., 511., 510.])"
      ]
     },
     "execution_count": 16,
     "metadata": {},
     "output_type": "execute_result"
    }
   ],
   "source": [
    "total_reward_list"
   ]
  },
  {
   "cell_type": "code",
   "execution_count": 17,
   "metadata": {},
   "outputs": [],
   "source": [
    "def evaluate(agent, dataX, dataY, look_back):\n",
    "    \"\"\"\n",
    "    Function run to evaluate the trained agent\n",
    "    \"\"\"\n",
    "    \n",
    "    # Length of dataset\n",
    "    times = len(dataX)\n",
    "\n",
    "    # Initial state and position\n",
    "    state = dataX[:look_back, :][np.newaxis, :, :]\n",
    "    pos = dataY[look_back - 1]\n",
    "\n",
    "    # List of predicted positions\n",
    "    pos_list = []\n",
    "    \n",
    "    done = False\n",
    "    total_reward = 0\n",
    "    \n",
    "    for t in range(1, times - look_back + 1):\n",
    "\n",
    "        # Predict action based on the current state\n",
    "        action = agent.act(state)\n",
    "\n",
    "        # Calculate reward\n",
    "        if action == pos:   # 0:-1      1:0     2:1\n",
    "            reward = +1\n",
    "\n",
    "        elif (pos == 0 or pos == 2):\n",
    "            if action == 1:\n",
    "                reward = 0\n",
    "            else:\n",
    "                reward = -1\n",
    "        else:\n",
    "            reward = -1\n",
    "\n",
    "        pos_list.append(action)\n",
    "        total_reward += reward\n",
    "\n",
    "        # Final state\n",
    "        if t == times - look_back:\n",
    "            done = True\n",
    "\n",
    "        # Receive next state and position\n",
    "        next_state = dataX[t:t + look_back, :][np.newaxis, :, :]\n",
    "        next_pos = dataY[t + look_back - 1]\n",
    "\n",
    "        # Remember current experience\n",
    "        agent.remember(state, action, reward, next_state, done)\n",
    "\n",
    "        # Make next_state the new current state; the same for pos\n",
    "        state = next_state\n",
    "        pos = next_pos\n",
    "\n",
    "        if done:\n",
    "            print('Total Reward: %i' % total_reward)\n",
    "\n",
    "    return np.array(pos_list)"
   ]
  },
  {
   "cell_type": "code",
   "execution_count": 18,
   "metadata": {},
   "outputs": [
    {
     "name": "stdout",
     "output_type": "stream",
     "text": [
      "Total Reward: 74\n",
      "Accuracy: 66.43 %\n"
     ]
    }
   ],
   "source": [
    "# Evaluate the model\n",
    "# Make predictions\n",
    "y_pred_test = evaluate(agent, X_test, y_test, look_back)\n",
    "\n",
    "# Calculate and print accuracy\n",
    "acc = accuracy_score(y_test[look_back-1:-1], y_pred_test)\n",
    "\n",
    "print('Accuracy: %.2f %%' % (acc*100))"
   ]
  },
  {
   "cell_type": "code",
   "execution_count": 19,
   "metadata": {},
   "outputs": [
    {
     "name": "stdout",
     "output_type": "stream",
     "text": [
      "      1-Precision  2-Recall  3-F1 score  4-Support\n",
      "-1.0        0.400     0.600       0.480         20\n",
      " 0.0        0.622     0.708       0.662         65\n",
      " 1.0        0.972     0.636       0.769         55\n"
     ]
    }
   ],
   "source": [
    "# Calculate and print precision, recall, f1 score and support\n",
    "p, r, f1, s = precision_recall_fscore_support(y_test[look_back-1:-1], y_pred_test, average=None)\n",
    "results = pd.DataFrame({'1-Precision': p, '2-Recall': r, '3-F1 score': f1, '4-Support': s}, index=le.classes_)\n",
    "\n",
    "print(results.round(decimals=3))"
   ]
  },
  {
   "cell_type": "code",
   "execution_count": 20,
   "metadata": {},
   "outputs": [],
   "source": [
    "# Decodificate labels\n",
    "y_true_test = le.inverse_transform(y_test[look_back-1:-1])\n",
    "y_pred_test = le.inverse_transform(y_pred_test)"
   ]
  },
  {
   "cell_type": "code",
   "execution_count": 21,
   "metadata": {},
   "outputs": [
    {
     "data": {
      "image/png": "[encoded data removed]",
      "text/plain": [
       "<Figure size 432x288 with 1 Axes>"
      ]
     },
     "metadata": {
      "needs_background": "light"
     },
     "output_type": "display_data"
    }
   ],
   "source": [
    "# Plot strategy\n",
    "plt.figure()\n",
    "plt.plot(y_true_test, label='true')\n",
    "plt.plot(y_pred_test, label='pred')\n",
    "plt.legend()\n",
    "plt.show()"
   ]
  },
  {
   "cell_type": "code",
   "execution_count": null,
   "metadata": {},
   "outputs": [],
   "source": []
  }
 ],
 "metadata": {
  "kernelspec": {
   "display_name": "Python 3",
   "language": "python",
   "name": "python3"
  },
  "language_info": {
   "codemirror_mode": {
    "name": "ipython",
    "version": 3
   },
   "file_extension": ".py",
   "mimetype": "text/x-python",
   "name": "python",
   "nbconvert_exporter": "python",
   "pygments_lexer": "ipython3",
   "version": "3.7.6"
  }
 },
 "nbformat": 4,
 "nbformat_minor": 2
}
