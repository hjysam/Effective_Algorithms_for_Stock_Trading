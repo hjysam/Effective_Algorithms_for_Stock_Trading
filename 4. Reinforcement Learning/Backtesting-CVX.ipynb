{
 "cells": [
  {
   "cell_type": "code",
   "execution_count": 1,
   "metadata": {
    "scrolled": true
   },
   "outputs": [
    {
     "name": "stderr",
     "output_type": "stream",
     "text": [
      "C:\\Users\\Elid-PC.DESKTOP-MG9DS93\\anaconda3\\lib\\site-packages\\pandas_datareader\\compat\\__init__.py:7: FutureWarning: pandas.util.testing is deprecated. Use the functions in the public API at pandas.testing instead.\n",
      "  from pandas.util.testing import assert_frame_equal\n"
     ]
    },
    {
     "data": {
      "application/javascript": [
       "\n",
       "console.log('Starting front end url_querystring_target comm target');\n",
       "const comm = Jupyter.notebook.kernel.comm_manager.new_comm('url_querystring_target', {'init': 1});\n",
       "comm.send({'ipyparams_browser_url': window.location.href});\n",
       "console.log('Sent window.location.href on url_querystring_target comm target');\n",
       "\n",
       "comm.on_msg(function(msg) {\n",
       "    console.log(msg.content.data);\n",
       "});\n"
      ],
      "text/plain": [
       "<IPython.core.display.Javascript object>"
      ]
     },
     "metadata": {},
     "output_type": "display_data"
    },
    {
     "name": "stderr",
     "output_type": "stream",
     "text": [
      "Using TensorFlow backend.\n"
     ]
    }
   ],
   "source": [
    "# Import libraries\n",
    "import pandas as pd\n",
    "from pandas_datareader import data as pdr\n",
    "\n",
    "import numpy as np\n",
    "import matplotlib.pyplot as plt\n",
    "import pickle\n",
    "\n",
    "from sklearn import preprocessing\n",
    "from sklearn.metrics import accuracy_score\n",
    "from sklearn.metrics import precision_recall_fscore_support\n",
    "\n",
    "import talib, re, ipyparams\n",
    "\n",
    "from Agent import Agent"
   ]
  },
  {
   "cell_type": "code",
   "execution_count": 2,
   "metadata": {},
   "outputs": [
    {
     "data": {
      "text/plain": [
       "755"
      ]
     },
     "execution_count": 2,
     "metadata": {},
     "output_type": "execute_result"
    }
   ],
   "source": [
    "end_date = '2020-04-19'\n",
    "start_date = '2017-04-20'\n",
    "\n",
    "symbol = 'CVX'\n",
    "Date = pd.DataFrame(pdr.DataReader(symbol,'yahoo', start_date, end_date))\n",
    "\n",
    "alldata = pd.DataFrame({'Date': Date.index})\n",
    "alldata[symbol] = pdr.DataReader(symbol, 'yahoo', start_date, end_date)['Adj Close'].values\n",
    "# Stock symbol\n",
    "\n",
    "# Load close prices of to NumPy array\n",
    "close = alldata[symbol].values\n",
    "len(close)"
   ]
  },
  {
   "cell_type": "code",
   "execution_count": 3,
   "metadata": {},
   "outputs": [
    {
     "data": {
      "text/plain": [
       "array([ 91.2213974 ,  91.79026031,  91.79902649,  92.70921326,\n",
       "        93.40937805,  92.84049225,  92.30662537,  93.38310242,\n",
       "        92.70046997,  92.21034241,  93.40061188,  91.72898865,\n",
       "        92.58668518,  93.36560822,  91.96531677,  93.20807648,\n",
       "        92.95425415,  92.73547363,  93.51438141,  93.86445618,\n",
       "        92.56484985,  92.98036957,  94.17388153,  93.82025909,\n",
       "        93.9528656 ,  93.90866089,  92.92732239,  92.58251953,\n",
       "        91.99901581,  91.48625946,  92.18468475,  91.15912628,\n",
       "        91.22984314,  92.09627533,  91.74263   ,  91.94597626,\n",
       "        94.06780243,  95.51772308,  95.59729004,  94.24462891,\n",
       "        94.00591278,  95.79179382,  95.00495148,  94.13853455,\n",
       "        92.37917328,  92.34382629,  92.8300705 ,  92.06973267,\n",
       "        92.00786591,  92.19353485,  92.05207825,  92.23773193,\n",
       "        93.97940826,  92.49411011,  91.78683472,  91.4950943 ,\n",
       "        91.09724426,  91.16796875,  91.84873199,  92.06091309,\n",
       "        92.3349762 ,  92.13163757,  91.69842529,  92.35264587,\n",
       "        92.50296021,  91.28289795,  91.23869324,  92.29077148,\n",
       "        92.93617249,  93.81140137,  95.5884552 ,  96.53444672,\n",
       "        97.94016266,  97.65723419,  96.74662018,  97.34780884,\n",
       "        97.05605316,  97.55998993,  98.03739929,  97.34780884,\n",
       "        96.56980896,  96.11006927,  95.98628235,  95.40584564,\n",
       "        94.5843277 ,  95.08438873,  94.45930481,  94.97722626,\n",
       "        95.20046997,  95.94163513,  96.64710236,  96.22738647,\n",
       "        96.31668854,  96.20061493,  96.10237885,  97.12037659,\n",
       "        97.72760773,  99.82609558,  99.83504486,  98.92419434,\n",
       "       100.47796631, 100.45118713, 101.96032715, 102.20142365,\n",
       "       102.36216736, 102.86221313, 103.8891449 , 103.91594696,\n",
       "       104.00523376, 104.73748016, 105.36256409, 104.94287872,\n",
       "       104.88037109, 105.03216553, 104.92501831, 104.86249542,\n",
       "       105.21076202, 104.99645233, 105.88941956, 104.50531769,\n",
       "       105.11253357, 106.08588409, 106.55916595, 106.38948822,\n",
       "       106.40735626, 107.27353668, 107.35389709, 105.50543976,\n",
       "       105.55008698, 105.94300079, 106.20197296, 106.46987915,\n",
       "       105.7644043 , 105.7644043 , 101.38882446, 102.14785004,\n",
       "       103.48731232, 103.49623871, 102.98725128, 102.6836319 ,\n",
       "       104.51424408, 104.69284058, 104.18383026, 104.69284058,\n",
       "       104.63926697, 104.68391418, 104.40708923, 103.98737335,\n",
       "       103.26631927, 103.39250946, 103.40150452, 103.80711365,\n",
       "       104.47409821, 105.01491547, 104.18566895, 104.96083069,\n",
       "       105.61880493, 107.25022125, 107.71891022, 108.91770172,\n",
       "       108.51209259, 107.80905151, 107.82707214, 108.08846283,\n",
       "       108.53913879, 107.87215424, 108.0974884 , 107.73694611,\n",
       "       107.91721344, 107.89016724, 108.01635742, 108.96276093,\n",
       "       112.50502777, 112.64923096, 113.55059052, 113.16301727,\n",
       "       113.19004822, 112.83852386, 114.99272156, 115.83095551,\n",
       "       115.47042084, 115.28115845, 115.84899902, 115.22705841,\n",
       "       115.96617126, 119.49040985, 120.41876984, 118.98565674,\n",
       "       119.30110931, 118.60709381, 118.3456955 , 119.48136902,\n",
       "       118.09332275, 118.42681122, 117.75982666, 118.24655914,\n",
       "       115.80391693, 112.87458038, 112.98274994, 113.18102264,\n",
       "       106.88066864, 101.50870514, 105.61880493, 103.91526794,\n",
       "       101.22027588, 102.30187988, 102.73452759, 102.11260223,\n",
       "       102.41904449, 102.43725586, 102.08224487, 101.02628326,\n",
       "        99.2784729 , 100.03404236, 102.49188232, 104.32160187,\n",
       "       103.42038727, 101.88197327, 101.99121857, 101.62708282,\n",
       "       103.00165558, 103.45681763, 103.62976837, 103.18371582,\n",
       "       106.70662689, 106.31518555, 106.0147934 , 104.80406952,\n",
       "       105.21369934, 105.04985809, 103.67528534, 104.23057556,\n",
       "       106.54276276, 103.50231934, 102.84690094, 105.0043335 ,\n",
       "       104.37621307, 102.04582214, 103.81182861, 102.17327118,\n",
       "       104.53097534, 104.21237183, 106.77033234, 104.46726227,\n",
       "       105.57782745, 108.19043732, 108.5545578 , 108.53634644,\n",
       "       109.16445923, 109.87448883, 110.56633759, 112.71466827,\n",
       "       112.61453247, 111.34009552, 112.49619293, 111.54947662,\n",
       "       111.7133255 , 113.07878876, 115.26354218, 113.88896942,\n",
       "       113.66139221, 114.2348938 , 114.70825195, 114.27130127,\n",
       "       113.73422241, 115.21800995, 117.17520142, 117.26623535,\n",
       "       118.19473267, 118.69539642, 118.10371399, 117.93984985,\n",
       "       118.87647247, 117.40726471, 118.79381561, 117.74703217,\n",
       "       118.1785965 , 116.25946045, 112.20081329, 111.46619415,\n",
       "       114.9280014 , 114.13831329, 113.72509003, 112.26508331,\n",
       "       112.6966629 , 113.29351807, 116.58084869, 116.10335541,\n",
       "       117.13179016, 116.69104767, 116.68184662, 116.16763306,\n",
       "       113.89955902, 115.67178345, 115.27693176, 115.04737091,\n",
       "       112.56809235, 114.87289429, 112.58647156, 114.009758  ,\n",
       "       115.69931793, 115.38712311, 116.09417725, 114.09237671,\n",
       "       114.53316498, 113.84445953, 113.99138641, 115.6901474 ,\n",
       "       117.15933228, 113.42206573, 114.10157013, 113.89955902,\n",
       "       112.92621613, 111.94369507, 111.59474945, 111.72330475,\n",
       "       112.27425385, 111.41109467, 113.72509003, 114.68924713,\n",
       "       113.81691742, 115.67178345, 117.3797226 , 115.94725037,\n",
       "       115.1391983 , 113.64245605, 113.90874481, 114.13831329,\n",
       "       114.94636536, 113.7526474 , 112.51300812, 113.25679016,\n",
       "       112.43036652, 112.55891418, 108.29824066, 109.0769577 ,\n",
       "       109.20674896, 109.16040039, 109.33654022, 110.24504852,\n",
       "       109.48486328, 110.32848358, 111.57073212, 111.11647797,\n",
       "       111.45022583, 111.07012177, 109.81860352, 110.19869232,\n",
       "       110.24504852, 106.82423401, 106.24018097, 106.1289444 ,\n",
       "       106.62953949, 107.34338379, 107.81617737, 108.81737518,\n",
       "       108.93791199, 109.51267242, 110.79201508, 110.70857239,\n",
       "       112.29383087, 113.67514801, 114.37042999, 113.05400848,\n",
       "       113.53608704, 113.3599472 , 115.31601715, 115.64050293,\n",
       "       116.16890717, 115.83517456, 116.18745422, 115.73320007,\n",
       "       117.56877136, 113.65660858, 109.79079437, 109.17893982,\n",
       "       108.40948486, 108.93791199, 108.73395538, 108.90083313,\n",
       "       109.52194977, 108.65979004, 105.12772369, 102.17043304,\n",
       "       103.44049072, 103.39413452, 100.98379517, 102.76374817,\n",
       "       103.50538635, 103.06039429, 106.36070251, 110.26358795,\n",
       "       110.22651672, 112.05281067, 110.6529541 , 110.79201508,\n",
       "       108.82666016, 106.93547058, 107.27848053, 109.47834778,\n",
       "       111.45355225, 111.79053497, 108.68265533, 110.05873871,\n",
       "       106.34236908, 107.63420868, 107.84951019, 110.5923233 ,\n",
       "       111.25696564, 111.34121704, 112.96069336, 109.74981689,\n",
       "       108.50479889, 108.11161804, 107.59675598, 108.09290314,\n",
       "       108.23332214, 108.53287506, 106.55768585, 105.26583862,\n",
       "       102.72896576, 100.94100189,  98.27308655,  97.55226898,\n",
       "        94.53798676, 100.52911377, 102.33580017, 101.70861053,\n",
       "       101.83966827, 103.61828613, 101.63372803, 103.73997498,\n",
       "       105.08798981, 104.62928772, 106.03344727, 106.20195007,\n",
       "       105.35009766, 104.58247375, 104.95693207, 104.28292847,\n",
       "       104.80714417, 107.06317902, 105.16287231, 104.2735672 ,\n",
       "       106.25812531, 105.98664093, 105.00373077, 104.68545532,\n",
       "       105.79007721, 107.32527924, 110.80763245, 112.09010315,\n",
       "       111.84672546, 111.28504944, 110.67657471, 110.06809998,\n",
       "       109.47834778, 111.13525391, 111.93096161, 111.72293854,\n",
       "       112.84811401, 112.8102951 , 113.72744751, 112.64955139,\n",
       "       112.88593292, 113.10342407, 113.40598297, 113.53835297,\n",
       "       113.0655899 , 115.3821106 , 115.46721649, 116.57347107,\n",
       "       116.80039978, 115.29701996, 114.99445343, 116.88549805,\n",
       "       117.15024567, 117.8782959 , 117.8121109 , 118.48342896,\n",
       "       119.02237701, 118.4550705 , 117.89720917, 119.00347137,\n",
       "       116.3843689 , 116.19526672, 117.36769867, 116.10070801,\n",
       "       116.3181839 , 116.46947479, 118.1335907 , 118.12413025,\n",
       "       117.14079285, 118.00121307, 119.53296661, 119.77880096,\n",
       "       118.70090485, 118.65361786, 119.12638092, 113.23579407,\n",
       "       113.59507751, 114.5689621 , 113.71798706, 113.3303299 ,\n",
       "       115.25920105, 115.37265778, 111.83641052, 111.47710419,\n",
       "       110.72068024, 111.30691528, 113.51943207, 111.39200592,\n",
       "       110.03990936, 110.88142395, 111.94987488, 111.82695007,\n",
       "       111.09889984, 114.587883  , 115.34429932, 113.87874603,\n",
       "       115.0133667 , 115.48612976, 115.34291077, 115.07554626,\n",
       "       115.38108826, 115.85850525, 115.12329102, 112.54527283,\n",
       "       113.34732056, 112.96538544, 111.49494934, 110.1677475 ,\n",
       "       108.7068634 , 110.75018311, 112.00101471, 112.33520508,\n",
       "       115.22831726, 115.99217987, 116.76558685, 115.69618225,\n",
       "       114.76045227, 115.44793701, 115.35244751, 115.90625   ,\n",
       "       117.37667084, 117.33848572, 118.66569519, 119.28633118,\n",
       "       119.26722717, 118.05460358, 118.33150482, 117.54854584,\n",
       "       118.81847382, 119.20039368, 117.37667084, 117.77770233,\n",
       "       117.9591217 , 118.01641083, 117.77770233, 119.77330017,\n",
       "       119.76374817, 120.28890228, 120.04064178, 119.12400818,\n",
       "       118.53202057, 119.04762268, 119.39135742, 119.64915466,\n",
       "       120.13612366, 120.8236084 , 119.95470428, 118.1309967 ,\n",
       "       118.61795807, 118.72298431, 117.54854584, 115.28561401,\n",
       "       115.27606201, 113.3759613 , 113.98704529, 113.71969604,\n",
       "       117.66313171, 116.8897171 , 116.05902863, 116.86106873,\n",
       "       112.42112732, 111.66682434, 111.71505737, 113.16201782,\n",
       "       112.02373505, 113.71185303, 113.56717682, 111.10733032,\n",
       "       111.64752197, 111.73435211, 112.69898987, 113.36458588,\n",
       "       113.55751801, 112.15878296, 113.10414124, 113.48035431,\n",
       "       114.07843018, 115.16846466, 117.54148865, 116.99163818,\n",
       "       117.1266861 , 117.20386505, 119.73122406, 119.50935364,\n",
       "       119.78909302, 119.28749084, 119.92414093, 120.48364258,\n",
       "       119.36465454, 119.14279175, 115.91124725, 114.40640259,\n",
       "       114.40640259, 111.90798187, 108.31951904, 109.14911652,\n",
       "       109.82436371, 109.25522614, 107.76002502, 109.13946533,\n",
       "       110.53818512, 112.04302979, 112.07197571, 112.19737244,\n",
       "       111.03981018, 111.2713089 , 110.68289185, 112.48677063,\n",
       "       113.63469696, 113.80833435, 113.42247009, 114.47393036,\n",
       "       114.29064941, 113.95301819, 112.2456131 , 112.03338623,\n",
       "       112.10090637, 117.27139282, 117.62830353, 115.66044617,\n",
       "       117.5800705 , 116.65402222, 116.53826141, 116.68295288,\n",
       "       117.95628357, 117.64759827, 117.52095795, 115.48499298,\n",
       "       113.43928528, 114.30626678, 115.69930267, 115.56291962,\n",
       "       115.31938171, 114.74464417, 115.01740265, 114.10169983,\n",
       "       113.78024292, 112.89376068, 113.91661835, 113.3223877 ,\n",
       "       114.95895386, 114.2673111 , 114.84204865, 113.22497559,\n",
       "       115.73826599, 114.91024017, 116.27404785, 115.53369904,\n",
       "       115.48499298, 115.07585144, 116.58577728, 117.21897125,\n",
       "       117.22870636, 117.48199463, 117.18975067, 116.75137329,\n",
       "       117.39431763, 118.29053497, 117.88139343, 117.48199463,\n",
       "       115.98180389, 114.65696716, 114.47188568, 113.42954254,\n",
       "       113.64385986, 113.29316711, 113.12755585, 113.86790466,\n",
       "       112.59178162, 110.38047028, 109.98106384, 110.17589569,\n",
       "       108.95820618, 107.53595734, 108.2470932 , 107.51647949,\n",
       "       108.51985168, 104.36998749, 103.53221893, 104.08748627,\n",
       "       107.42880249, 106.65922546, 106.12345123, 106.95147705,\n",
       "       108.33476257, 109.14330292, 108.77312469, 108.48731995,\n",
       "       108.64500427, 109.13777161, 108.22122192, 107.43280792,\n",
       "       103.19501495,  99.25289154,  96.621521  ,  92.76808929,\n",
       "        91.98951721,  95.19249725,  93.02433014,  97.10443115,\n",
       "        95.78382111,  93.94087219,  79.50283813,  83.75048065,\n",
       "        81.82868958,  75.15664673,  82.21304321,  68.69155121,\n",
       "        69.66723633,  54.25351715,  56.55965805,  58.53072357,\n",
       "        53.4355278 ,  65.58713531,  68.26776886,  75.27490234,\n",
       "        67.78486633,  70.90899658,  71.41162109,  67.56804657,\n",
       "        75.01866913,  74.02328491,  79.22689056,  79.74921417,\n",
       "        84.73601532,  83.09017181,  83.68149567,  83.38583374,\n",
       "        81.29650116,  78.83267212,  85.90879059])"
      ]
     },
     "execution_count": 3,
     "metadata": {},
     "output_type": "execute_result"
    }
   ],
   "source": [
    "close"
   ]
  },
  {
   "cell_type": "code",
   "execution_count": 4,
   "metadata": {},
   "outputs": [
    {
     "data": {
      "text/html": [
       "<div>\n",
       "<style scoped>\n",
       "    .dataframe tbody tr th:only-of-type {\n",
       "        vertical-align: middle;\n",
       "    }\n",
       "\n",
       "    .dataframe tbody tr th {\n",
       "        vertical-align: top;\n",
       "    }\n",
       "\n",
       "    .dataframe thead th {\n",
       "        text-align: right;\n",
       "    }\n",
       "</style>\n",
       "<table border=\"1\" class=\"dataframe\">\n",
       "  <thead>\n",
       "    <tr style=\"text-align: right;\">\n",
       "      <th></th>\n",
       "      <th>macd</th>\n",
       "      <th>macdsignal</th>\n",
       "      <th>macdhist</th>\n",
       "    </tr>\n",
       "  </thead>\n",
       "  <tbody>\n",
       "    <tr>\n",
       "      <th>0</th>\n",
       "      <td>0.130862</td>\n",
       "      <td>0.464694</td>\n",
       "      <td>-0.333832</td>\n",
       "    </tr>\n",
       "    <tr>\n",
       "      <th>1</th>\n",
       "      <td>-0.162752</td>\n",
       "      <td>0.339205</td>\n",
       "      <td>-0.501957</td>\n",
       "    </tr>\n",
       "    <tr>\n",
       "      <th>2</th>\n",
       "      <td>-0.456771</td>\n",
       "      <td>0.180010</td>\n",
       "      <td>-0.636781</td>\n",
       "    </tr>\n",
       "    <tr>\n",
       "      <th>3</th>\n",
       "      <td>-0.453324</td>\n",
       "      <td>0.053343</td>\n",
       "      <td>-0.506667</td>\n",
       "    </tr>\n",
       "    <tr>\n",
       "      <th>4</th>\n",
       "      <td>-0.681033</td>\n",
       "      <td>-0.093532</td>\n",
       "      <td>-0.587501</td>\n",
       "    </tr>\n",
       "  </tbody>\n",
       "</table>\n",
       "</div>"
      ],
      "text/plain": [
       "       macd  macdsignal  macdhist\n",
       "0  0.130862    0.464694 -0.333832\n",
       "1 -0.162752    0.339205 -0.501957\n",
       "2 -0.456771    0.180010 -0.636781\n",
       "3 -0.453324    0.053343 -0.506667\n",
       "4 -0.681033   -0.093532 -0.587501"
      ]
     },
     "execution_count": 4,
     "metadata": {},
     "output_type": "execute_result"
    }
   ],
   "source": [
    "macd, macdsignal, macdhist = talib.MACD(close, fastperiod=5, slowperiod=20, signalperiod=9)\n",
    "macdhist = macdhist[~np.isnan(macdhist)]\n",
    "macd = macd[-len(macdhist):]\n",
    "macdsignal = macdsignal[-len(macdhist):]\n",
    "\n",
    "\n",
    "pd.DataFrame({'macd': macd, 'macdsignal': macdsignal, 'macdhist': macdhist}).head()"
   ]
  },
  {
   "cell_type": "code",
   "execution_count": 5,
   "metadata": {},
   "outputs": [],
   "source": [
    "def prepare_dataset(close):\n",
    "    \"\"\"\n",
    "    Function prepare_dataset to generate input data and trading strategy from stock close prices\n",
    "    \"\"\"\n",
    "\n",
    "    macd, macdsignal, macdhist = talib.MACD(close, fastperiod=12, slowperiod=26, signalperiod=9)\n",
    "\n",
    "    # Cancel NaN values\n",
    "    macdhist = macdhist[~np.isnan(macdhist)]\n",
    "    macd = macd[-len(macdhist):]\n",
    "    macdsignal = macdsignal[-len(macdhist):]\n",
    "\n",
    "    # Scaling features to a range [0, 1]\n",
    "    min_max_scaler = preprocessing.MinMaxScaler(feature_range=(-1, 1))\n",
    "    macdhist_norm = min_max_scaler.fit_transform(np.expand_dims(macdhist, axis=1))\n",
    "\n",
    "    # Implement strategy\n",
    "    start_sell = 0.2\n",
    "    stop_sell = 0.05\n",
    "    start_buy = -0.2\n",
    "    stop_buy = -0.05\n",
    "\n",
    "    y = np.full(len(macdhist), np.nan)\n",
    "    y[0] = 0\n",
    "\n",
    "    for i in range(1, len(macdhist)):\n",
    "\n",
    "        if y[i-1] == 0:\n",
    "            if (macdhist_norm[i] >= start_sell):\n",
    "                # Enter sell position\n",
    "                y[i] = -1\n",
    "            elif (macdhist_norm[i] <= start_buy):\n",
    "                # Enter buy position\n",
    "                y[i] = 1\n",
    "            else:\n",
    "                y[i] = 0\n",
    "        elif y[i-1] == -1:\n",
    "            if macdhist_norm[i] > stop_sell:\n",
    "                # Stay in sell position\n",
    "                y[i] = -1\n",
    "            else:\n",
    "                # Leave sell position\n",
    "                y[i] = 0\n",
    "        else:\n",
    "            if macdhist_norm[i] < stop_buy:\n",
    "                # Stay in buy position\n",
    "                y[i] = 1\n",
    "            else:\n",
    "                # Leave buy position\n",
    "                y[i] = 0\n",
    "\n",
    "    # Plot strategy\n",
    "    dates = np.arange(len(macdhist))\n",
    "    plt.plot(dates, y,'g', label='Strategy Positions')\n",
    "    plt.bar(dates, macdhist_norm[:, 0], width=1, color='blue', label='MACD histogram')\n",
    "    plt.plot(dates, start_sell * np.ones(len(macdhist)), 'k--', lw=1)\n",
    "    plt.plot(dates, stop_sell * np.ones(len(macdhist)), 'k--', lw=1)\n",
    "    plt.plot(dates, start_buy * np.ones(len(macdhist)), 'k--', lw=1)\n",
    "    plt.plot(dates, stop_buy * np.ones(len(macdhist)), 'k--', lw=1)\n",
    "    plt.xlabel('Days')\n",
    "    plt.xlim((0, len(y)))\n",
    "    plt.legend()\n",
    "    # plt.savefig('images/AAL_macd.png', bbox_inches='tight')\n",
    "    plt.show()\n",
    "    \n",
    "    # Generate input data - technical indicators\n",
    "    ind1 = talib.MIDPOINT(close)    # Overlap: MidPoint over period\n",
    "    ind2 = talib.HT_DCPERIOD(close) # Cycle Indicator Functions:  Hilbert Transform - Dominant Cycle Period\n",
    "    ind3 = talib.MAX(close)         # Math Operator: Highest value over a specified period\n",
    "    ind4 = talib.SIN(close)         # Math Transform: Vector Trigonometric Sin\n",
    "    ind5 = talib.APO(close)         # Momentum: Absolute Price Oscillator\n",
    "    ind6 = talib.TEMA(close, timeperiod=5) ## Triple Exponential Moving Average\n",
    "\n",
    "    x = np.vstack((macdhist, macd, macdsignal, ind1[-len(macdhist):], ind2[-len(macdhist):],\n",
    "                   ind3[-len(macdhist):], ind4[-len(macdhist):], ind5[-len(macdhist):],\n",
    "                   ind6[-len(macdhist):]))\n",
    "    x = x.T\n",
    "\n",
    "    return x, y"
   ]
  },
  {
   "cell_type": "code",
   "execution_count": 6,
   "metadata": {},
   "outputs": [
    {
     "data": {
      "image/png": "[encoded data removed]",
      "text/plain": [
       "<Figure size 432x288 with 1 Axes>"
      ]
     },
     "metadata": {
      "needs_background": "light"
     },
     "output_type": "display_data"
    }
   ],
   "source": [
    "# Implement MACD trading strategy\n",
    "X, y = prepare_dataset(close)"
   ]
  },
  {
   "cell_type": "code",
   "execution_count": 7,
   "metadata": {},
   "outputs": [
    {
     "data": {
      "text/plain": [
       "array([-2.86758146e-01, -2.12607571e-01,  7.41505755e-02,  9.26665039e+01,\n",
       "        1.72117648e+01,  9.41738815e+01, -8.36074466e-01, -1.15604547e-01,\n",
       "        9.16992405e+01])"
      ]
     },
     "execution_count": 7,
     "metadata": {},
     "output_type": "execute_result"
    }
   ],
   "source": [
    "X[0]"
   ]
  },
  {
   "cell_type": "code",
   "execution_count": 8,
   "metadata": {},
   "outputs": [],
   "source": [
    "# Split dataset\n",
    "n_train = int(X.shape[0] * 0.8)\n",
    "\n",
    "X_train, y_train = X[:n_train], y[:n_train]\n",
    "X_test, y_test = X[n_train:], y[n_train:]"
   ]
  },
  {
   "cell_type": "code",
   "execution_count": 9,
   "metadata": {},
   "outputs": [],
   "source": [
    "# Normalize data\n",
    "scaler = preprocessing.MinMaxScaler()\n",
    "\n",
    "X_train = scaler.fit_transform(X_train)\n",
    "X_test = scaler.transform(X_test)"
   ]
  },
  {
   "cell_type": "code",
   "execution_count": 10,
   "metadata": {},
   "outputs": [
    {
     "name": "stdout",
     "output_type": "stream",
     "text": [
      "[-1.  0.  1.]\n"
     ]
    }
   ],
   "source": [
    "# Encode trading signal with integers between 0 and n-1 classes\n",
    "le = preprocessing.LabelEncoder()\n",
    "\n",
    "y_train = le.fit_transform(y_train)\n",
    "y_test = le.transform(y_test)\n",
    "\n",
    "print(le.classes_)"
   ]
  },
  {
   "cell_type": "code",
   "execution_count": 11,
   "metadata": {},
   "outputs": [],
   "source": [
    "## Create and train the Agent\n",
    "# Variable definiton\n",
    "episodes = 20\n",
    "look_back = 5\n",
    "batch_size = 32\n",
    "action_size = len(le.classes_)\n",
    "n_features = X_train.shape[1]"
   ]
  },
  {
   "cell_type": "code",
   "execution_count": 12,
   "metadata": {},
   "outputs": [],
   "source": [
    "# Create Agent\n",
    "agent = Agent(look_back, action_size, n_features)"
   ]
  },
  {
   "cell_type": "code",
   "execution_count": 13,
   "metadata": {},
   "outputs": [],
   "source": [
    "def run(agent, dataX, dataY, episodes, look_back):\n",
    "    \"\"\"\n",
    "    Function run to train the agent\n",
    "    \"\"\"\n",
    "    \n",
    "    # Length of dataset\n",
    "    times = len(dataX)\n",
    "\n",
    "    # List of total rewards\n",
    "    total_reward_list = []\n",
    "\n",
    "    for ep in range(episodes):\n",
    "\n",
    "        # print('Episode: ' + str(ep))\n",
    "        \n",
    "        # Initial state and position\n",
    "        state = dataX[:look_back, :][np.newaxis, :, :]\n",
    "        pos = dataY[look_back - 1]\n",
    "\n",
    "        done = False\n",
    "        total_reward = 0\n",
    "\n",
    "        for t in range(1, times - look_back + 1):\n",
    "\n",
    "            # Predict action based on the current state\n",
    "            action = agent.act(state)\n",
    "\n",
    "            # Calculate reward\n",
    "            if action == pos:   # 0:-1      1:0     2:1\n",
    "                reward = +1\n",
    "\n",
    "            elif (pos == 0 or pos == 2):\n",
    "                if action == 1:\n",
    "                    reward = 0\n",
    "                else:\n",
    "                    reward = -1\n",
    "            else:\n",
    "                reward = -1\n",
    "\n",
    "            total_reward += reward\n",
    "\n",
    "            # Final state\n",
    "            if t == times - look_back:\n",
    "                done = True\n",
    "\n",
    "            # Receive next state and position\n",
    "            next_state = dataX[t:t + look_back, :][np.newaxis, :, :]\n",
    "            next_pos = dataY[t + look_back - 1]\n",
    "            \n",
    "            # Remember current experience\n",
    "            agent.remember(state, action, reward, next_state, done)\n",
    "            \n",
    "            # Make next_state the new current state; the same for pos\n",
    "            state = next_state\n",
    "            pos = next_pos\n",
    "\n",
    "            if done:\n",
    "                print('Episode: %i ---> Total Reward: %i' %(ep, total_reward))\n",
    "                total_reward_list.append(total_reward)\n",
    "\n",
    "            # Train the agent with previous experiences\n",
    "            if len(agent.memory) > batch_size:\n",
    "                agent.replay(batch_size)\n",
    "\n",
    "        if (ep + 1) % 5 == 0 and ep > 0:\n",
    "            file = 'checkpoints/' + symbol + '_robot_checkpoint' + str(ep + 1)\n",
    "            # Serialize weights to HDF5\n",
    "            agent.model.save_weights(file + \".h5\")\n",
    "            # Save epsilon\n",
    "            pickle.dump(agent.epsilon, open(file + \"_epsilon.pickle\", \"wb\"))\n",
    "\n",
    "    # Save list of rewards along the epochs\n",
    "    np.savetxt(file + '_total_reward.txt', total_reward_list)\n",
    "\n",
    "    return\n"
   ]
  },
  {
   "cell_type": "code",
   "execution_count": 14,
   "metadata": {},
   "outputs": [
    {
     "name": "stdout",
     "output_type": "stream",
     "text": [
      "Episode: 0 ---> Total Reward: 162\n",
      "Episode: 1 ---> Total Reward: 415\n",
      "Episode: 2 ---> Total Reward: 411\n",
      "Episode: 3 ---> Total Reward: 453\n",
      "Episode: 4 ---> Total Reward: 470\n",
      "Episode: 5 ---> Total Reward: 457\n",
      "Episode: 6 ---> Total Reward: 484\n",
      "Episode: 7 ---> Total Reward: 435\n",
      "Episode: 8 ---> Total Reward: 464\n",
      "Episode: 9 ---> Total Reward: 499\n",
      "Episode: 10 ---> Total Reward: 436\n",
      "Episode: 11 ---> Total Reward: 494\n",
      "Episode: 12 ---> Total Reward: 507\n",
      "Episode: 13 ---> Total Reward: 488\n",
      "Episode: 14 ---> Total Reward: 492\n",
      "Episode: 15 ---> Total Reward: 500\n",
      "Episode: 16 ---> Total Reward: 509\n",
      "Episode: 17 ---> Total Reward: 464\n",
      "Episode: 18 ---> Total Reward: 486\n",
      "Episode: 19 ---> Total Reward: 455\n"
     ]
    }
   ],
   "source": [
    "# Train Agent\n",
    "run(agent, X_train, y_train, episodes, look_back)"
   ]
  },
  {
   "cell_type": "code",
   "execution_count": 15,
   "metadata": {},
   "outputs": [
    {
     "data": {
      "image/png": "[encoded data removed]",
      "text/plain": [
       "<Figure size 432x288 with 1 Axes>"
      ]
     },
     "metadata": {
      "needs_background": "light"
     },
     "output_type": "display_data"
    }
   ],
   "source": [
    "# Load rewards\n",
    "total_reward_list = np.loadtxt( 'checkpoints/'+ symbol + '_robot_checkpoint' + str(episodes) + '_total_reward.txt')\n",
    "# Plot\n",
    "plt.figure()\n",
    "plt.plot(np.arange(1, episodes+1), total_reward_list)\n",
    "plt.xlabel('Episodes')\n",
    "plt.ylabel('Total Reward')\n",
    "plt.show()"
   ]
  },
  {
   "cell_type": "code",
   "execution_count": 16,
   "metadata": {},
   "outputs": [
    {
     "data": {
      "text/plain": [
       "array([162., 415., 411., 453., 470., 457., 484., 435., 464., 499., 436.,\n",
       "       494., 507., 488., 492., 500., 509., 464., 486., 455.])"
      ]
     },
     "execution_count": 16,
     "metadata": {},
     "output_type": "execute_result"
    }
   ],
   "source": [
    "total_reward_list"
   ]
  },
  {
   "cell_type": "code",
   "execution_count": 17,
   "metadata": {},
   "outputs": [],
   "source": [
    "def evaluate(agent, dataX, dataY, look_back):\n",
    "    \"\"\"\n",
    "    Function run to evaluate the trained agent\n",
    "    \"\"\"\n",
    "    \n",
    "    # Length of dataset\n",
    "    times = len(dataX)\n",
    "\n",
    "    # Initial state and position\n",
    "    state = dataX[:look_back, :][np.newaxis, :, :]\n",
    "    pos = dataY[look_back - 1]\n",
    "\n",
    "    # List of predicted positions\n",
    "    pos_list = []\n",
    "    \n",
    "    done = False\n",
    "    total_reward = 0\n",
    "    \n",
    "    for t in range(1, times - look_back + 1):\n",
    "\n",
    "        # Predict action based on the current state\n",
    "        action = agent.act(state)\n",
    "\n",
    "        # Calculate reward\n",
    "        if action == pos:   # 0:-1      1:0     2:1\n",
    "            reward = +1\n",
    "\n",
    "        elif (pos == 0 or pos == 2):\n",
    "            if action == 1:\n",
    "                reward = 0\n",
    "            else:\n",
    "                reward = -1\n",
    "        else:\n",
    "            reward = -1\n",
    "\n",
    "        pos_list.append(action)\n",
    "        total_reward += reward\n",
    "\n",
    "        # Final state\n",
    "        if t == times - look_back:\n",
    "            done = True\n",
    "\n",
    "        # Receive next state and position\n",
    "        next_state = dataX[t:t + look_back, :][np.newaxis, :, :]\n",
    "        next_pos = dataY[t + look_back - 1]\n",
    "\n",
    "        # Remember current experience\n",
    "        agent.remember(state, action, reward, next_state, done)\n",
    "\n",
    "        # Make next_state the new current state; the same for pos\n",
    "        state = next_state\n",
    "        pos = next_pos\n",
    "\n",
    "        if done:\n",
    "            print('Total Reward: %i' % total_reward)\n",
    "\n",
    "    return np.array(pos_list)"
   ]
  },
  {
   "cell_type": "code",
   "execution_count": 18,
   "metadata": {},
   "outputs": [
    {
     "name": "stdout",
     "output_type": "stream",
     "text": [
      "Total Reward: 118\n",
      "Accuracy: 88.57 %\n"
     ]
    }
   ],
   "source": [
    "# Evaluate the model\n",
    "# Make predictions\n",
    "y_pred_test = evaluate(agent, X_test, y_test, look_back)\n",
    "\n",
    "# Calculate and print accuracy\n",
    "acc = accuracy_score(y_test[look_back-1:-1], y_pred_test)\n",
    "\n",
    "print('Accuracy: %.2f %%' % (acc*100))"
   ]
  },
  {
   "cell_type": "code",
   "execution_count": 19,
   "metadata": {},
   "outputs": [
    {
     "name": "stdout",
     "output_type": "stream",
     "text": [
      "      1-Precision  2-Recall  3-F1 score  4-Support\n",
      "-1.0        0.700     1.000       0.824         14\n",
      " 0.0        0.886     0.951       0.918         82\n",
      " 1.0        1.000     0.727       0.842         44\n"
     ]
    }
   ],
   "source": [
    "# Calculate and print precision, recall, f1 score and support\n",
    "p, r, f1, s = precision_recall_fscore_support(y_test[look_back-1:-1], y_pred_test, average=None)\n",
    "results = pd.DataFrame({'1-Precision': p, '2-Recall': r, '3-F1 score': f1, '4-Support': s}, index=le.classes_)\n",
    "\n",
    "print(results.round(decimals=3))"
   ]
  },
  {
   "cell_type": "code",
   "execution_count": 20,
   "metadata": {},
   "outputs": [],
   "source": [
    "# Decodificate labels\n",
    "y_true_test = le.inverse_transform(y_test[look_back-1:-1])\n",
    "y_pred_test = le.inverse_transform(y_pred_test)"
   ]
  },
  {
   "cell_type": "code",
   "execution_count": 21,
   "metadata": {},
   "outputs": [
    {
     "data": {
      "image/png": "[encoded data removed]",
      "text/plain": [
       "<Figure size 432x288 with 1 Axes>"
      ]
     },
     "metadata": {
      "needs_background": "light"
     },
     "output_type": "display_data"
    }
   ],
   "source": [
    "# Plot strategy\n",
    "plt.figure()\n",
    "plt.plot(y_true_test, label='true')\n",
    "plt.plot(y_pred_test, label='pred')\n",
    "plt.legend()\n",
    "plt.show()"
   ]
  },
  {
   "cell_type": "code",
   "execution_count": null,
   "metadata": {},
   "outputs": [],
   "source": []
  }
 ],
 "metadata": {
  "kernelspec": {
   "display_name": "Python 3",
   "language": "python",
   "name": "python3"
  },
  "language_info": {
   "codemirror_mode": {
    "name": "ipython",
    "version": 3
   },
   "file_extension": ".py",
   "mimetype": "text/x-python",
   "name": "python",
   "nbconvert_exporter": "python",
   "pygments_lexer": "ipython3",
   "version": "3.7.6"
  }
 },
 "nbformat": 4,
 "nbformat_minor": 2
}
