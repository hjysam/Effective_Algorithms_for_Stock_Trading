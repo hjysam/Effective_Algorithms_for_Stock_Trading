{
 "cells": [
  {
   "cell_type": "markdown",
   "metadata": {},
   "source": [
    "# Data Preparation "
   ]
  },
  {
   "cell_type": "code",
   "execution_count": 2,
   "metadata": {},
   "outputs": [],
   "source": [
    "from pandas_datareader import data as pdr\n",
    "import pandas as pd\n",
    "import numpy as np\n",
    "import csv, glob, os, time\n",
    "from datetime import date\n",
    "from IPython.display import display, Image\n",
    "import warnings\n",
    "warnings.filterwarnings(\"ignore\")"
   ]
  },
  {
   "cell_type": "code",
   "execution_count": 3,
   "metadata": {},
   "outputs": [
    {
     "data": {
      "text/plain": [
       "datetime.date(2020, 5, 3)"
      ]
     },
     "execution_count": 3,
     "metadata": {},
     "output_type": "execute_result"
    }
   ],
   "source": [
    "date.today()"
   ]
  },
  {
   "cell_type": "code",
   "execution_count": 2,
   "metadata": {},
   "outputs": [
    {
     "name": "stdout",
     "output_type": "stream",
     "text": [
      "Filename for Summary Table: Summary_DJIA30.csv\n",
      "Number of History Download 29 Out of 29\n",
      "--- 15.0 seconds taken ---\n"
     ]
    }
   ],
   "source": [
    "csv = (glob.glob('*.csv'))[0]\n",
    "print ('Filename for Summary Table: ' + csv)\n",
    "\n",
    "start_time = time.time()\n",
    "\n",
    "today = date.today()\n",
    "df_Summary = pd.read_csv(csv, index_col=0,engine = 'python')\n",
    "count = 1\n",
    "for i in range(0, len(df_Summary)):\n",
    "    ticker = df_Summary['Ticker'][i]\n",
    "    try:\n",
    "        #Downloads history data from Yahoo Finance based on last 3 year\n",
    "        start_date = '2017-01-02'\n",
    "        end_date = today\n",
    "        #Downloads data from Yahoo\n",
    "        df = pdr.DataReader(ticker, 'yahoo', start_date, end_date)\n",
    "\n",
    "        # Create Return Variables \n",
    "        df['Ret_Diff'] = df['Adj Close'].diff()\n",
    "        df['Ret_%_Chg'] = df['Adj Close'].pct_change()\n",
    "        df['Ret_Log'] = np.log(df['Adj Close'])-np.log(df['Adj Close'].shift(1))\n",
    "        df['Ret_Var'] = df['Ret_Log']**2\n",
    "        df['R_Vol_20D'] = np.sqrt(df['Ret_Var'].rolling(20).\n",
    "                                  sum()*252/20)*100 #Realised Volatility, assuming 20 days\n",
    "        csv_dir =  'Data\\\\' + ticker +'\\\\' + ticker +'.csv'\n",
    "        df.to_csv(csv_dir,encoding='utf-8', index=True, header = True)\n",
    "        \n",
    "        count = count + 1 \n",
    "    except:\n",
    "        print('Failed to download: ' + str(ticker[i]))\n",
    "        continue\n",
    "\n",
    "print('Number of History Download ' + str(count-1) + ' Out of ' + str(i+1))\n",
    "print(\"--- %s seconds taken ---\" % round((time.time() - start_time),0))"
   ]
  },
  {
   "cell_type": "code",
   "execution_count": 3,
   "metadata": {},
   "outputs": [
    {
     "name": "stdout",
     "output_type": "stream",
     "text": [
      "Filename for Summary Table: Summary_DJIA30.csv\n",
      "Number of Returns vs Realised Volatility plotted: 29\n"
     ]
    },
    {
     "data": {
      "image/png": "[encoded data removed]",
      "text/plain": [
       "<IPython.core.display.Image object>"
      ]
     },
     "metadata": {},
     "output_type": "display_data"
    }
   ],
   "source": [
    "#Summary Table\n",
    "csv = (glob.glob('*.csv'))[0]\n",
    "print ('Filename for Summary Table: ' + csv)\n",
    "\n",
    "#Data Preparation from CSV  \n",
    "df_Summary = pd.read_csv(csv,index_col=0,engine = 'python')\n",
    "n_days = 252 #Number of days to use as dataset based on average trading days per year \n",
    "\n",
    "#Define empty array\n",
    "dataset = np.empty((n_days, 0)) # Preallocate the array\n",
    "reject = []\n",
    "#Create Dataset\n",
    "for i in range(0, len(df_Summary)):\n",
    "    try:\n",
    "        ticker = df_Summary['Ticker'][i]\n",
    "        df_ticker = pd.read_csv('Data//'+ ticker + '//' + ticker + '.csv',engine = 'python')\n",
    "\n",
    "        #Create new dataset array based on 'Return_log' and 'Realized_Volatility_20D'\n",
    "        asset=df_ticker[['Ret_Log','R_Vol_20D']].tail(n_days).values\n",
    "        dataset = np.append(dataset, asset, axis=1)\n",
    "\n",
    "        # Visualize returns and volatility\n",
    "        plt.plot(dataset[:, i], label='returns')\n",
    "        plt.plot(dataset[:, i+1], label='volatility')\n",
    "        plt.legend()\n",
    "        plt.title(ticker)\n",
    "        plt.xlabel('Time (days)')\n",
    "        plt.savefig('Data//'+ ticker + '//' + ticker +'_Returns vs Realised Volatility.png')\n",
    "        plt.clf()\n",
    "    \n",
    "    except:\n",
    "        continue\n",
    "    \n",
    "print('Number of Charts (Returns vs Realised Volatility) plotted: ' + str(i+1))\n",
    "\n",
    "# Display an example of Returns vs Realised Volatility Chart - Apple \n",
    "display(Image(filename='Data//AAPL//AAPL_Returns vs Realised Volatility.png'))"
   ]
  },
  {
   "cell_type": "code",
   "execution_count": 69,
   "metadata": {},
   "outputs": [],
   "source": [
    "df = []\n",
    "start_date = '2015-01-02'\n",
    "end_date = '2029-12-31'\n",
    "#for ticker in ['AAPL', 'MSI', 'SBUX']:\n",
    "\n",
    "#Downloads data from Yahoo\n",
    "AAPL = pdr.DataReader( 'AAPL','yahoo', start_date, end_date)['Adj Close'].values\n",
    "MSI = pdr.DataReader( 'MSI','yahoo', start_date, end_date)['Adj Close'].values\n",
    "SBUX = pdr.DataReader( 'SBUX','yahoo', start_date, end_date)['Adj Close'].values"
   ]
  },
  {
   "cell_type": "code",
   "execution_count": 73,
   "metadata": {},
   "outputs": [],
   "source": [
    "df = pd.DataFrame({'AAPL': AAPL, 'MSI': MSI, 'SBUX': SBUX})"
   ]
  },
  {
   "cell_type": "code",
   "execution_count": 74,
   "metadata": {},
   "outputs": [
    {
     "data": {
      "text/html": [
       "<div>\n",
       "<style scoped>\n",
       "    .dataframe tbody tr th:only-of-type {\n",
       "        vertical-align: middle;\n",
       "    }\n",
       "\n",
       "    .dataframe tbody tr th {\n",
       "        vertical-align: top;\n",
       "    }\n",
       "\n",
       "    .dataframe thead th {\n",
       "        text-align: right;\n",
       "    }\n",
       "</style>\n",
       "<table border=\"1\" class=\"dataframe\">\n",
       "  <thead>\n",
       "    <tr style=\"text-align: right;\">\n",
       "      <th></th>\n",
       "      <th>AAPL</th>\n",
       "      <th>MSI</th>\n",
       "      <th>SBUX</th>\n",
       "    </tr>\n",
       "  </thead>\n",
       "  <tbody>\n",
       "    <tr>\n",
       "      <th>0</th>\n",
       "      <td>100.216454</td>\n",
       "      <td>59.945068</td>\n",
       "      <td>37.132599</td>\n",
       "    </tr>\n",
       "    <tr>\n",
       "      <th>1</th>\n",
       "      <td>97.393181</td>\n",
       "      <td>58.638191</td>\n",
       "      <td>36.421303</td>\n",
       "    </tr>\n",
       "    <tr>\n",
       "      <th>2</th>\n",
       "      <td>97.402374</td>\n",
       "      <td>58.142483</td>\n",
       "      <td>36.124943</td>\n",
       "    </tr>\n",
       "    <tr>\n",
       "      <th>3</th>\n",
       "      <td>98.768150</td>\n",
       "      <td>58.070385</td>\n",
       "      <td>37.014053</td>\n",
       "    </tr>\n",
       "    <tr>\n",
       "      <th>4</th>\n",
       "      <td>102.563072</td>\n",
       "      <td>58.971680</td>\n",
       "      <td>37.611340</td>\n",
       "    </tr>\n",
       "    <tr>\n",
       "      <th>...</th>\n",
       "      <td>...</td>\n",
       "      <td>...</td>\n",
       "      <td>...</td>\n",
       "    </tr>\n",
       "    <tr>\n",
       "      <th>1336</th>\n",
       "      <td>282.970001</td>\n",
       "      <td>152.800003</td>\n",
       "      <td>75.580002</td>\n",
       "    </tr>\n",
       "    <tr>\n",
       "      <th>1337</th>\n",
       "      <td>283.170013</td>\n",
       "      <td>154.440002</td>\n",
       "      <td>77.739998</td>\n",
       "    </tr>\n",
       "    <tr>\n",
       "      <th>1338</th>\n",
       "      <td>278.579987</td>\n",
       "      <td>145.429993</td>\n",
       "      <td>78.690002</td>\n",
       "    </tr>\n",
       "    <tr>\n",
       "      <th>1339</th>\n",
       "      <td>287.730011</td>\n",
       "      <td>148.919998</td>\n",
       "      <td>76.860001</td>\n",
       "    </tr>\n",
       "    <tr>\n",
       "      <th>1340</th>\n",
       "      <td>290.619995</td>\n",
       "      <td>146.179993</td>\n",
       "      <td>76.349998</td>\n",
       "    </tr>\n",
       "  </tbody>\n",
       "</table>\n",
       "<p>1341 rows × 3 columns</p>\n",
       "</div>"
      ],
      "text/plain": [
       "            AAPL         MSI       SBUX\n",
       "0     100.216454   59.945068  37.132599\n",
       "1      97.393181   58.638191  36.421303\n",
       "2      97.402374   58.142483  36.124943\n",
       "3      98.768150   58.070385  37.014053\n",
       "4     102.563072   58.971680  37.611340\n",
       "...          ...         ...        ...\n",
       "1336  282.970001  152.800003  75.580002\n",
       "1337  283.170013  154.440002  77.739998\n",
       "1338  278.579987  145.429993  78.690002\n",
       "1339  287.730011  148.919998  76.860001\n",
       "1340  290.619995  146.179993  76.349998\n",
       "\n",
       "[1341 rows x 3 columns]"
      ]
     },
     "execution_count": 74,
     "metadata": {},
     "output_type": "execute_result"
    }
   ],
   "source": [
    "df"
   ]
  },
  {
   "cell_type": "code",
   "execution_count": 75,
   "metadata": {},
   "outputs": [],
   "source": [
    "df.to_csv('aapl_msi_sbux.csv',encoding='utf-8', index=True, header = True)"
   ]
  },
  {
   "cell_type": "code",
   "execution_count": null,
   "metadata": {},
   "outputs": [],
   "source": []
  }
 ],
 "metadata": {
  "kernelspec": {
   "display_name": "Python 3",
   "language": "python",
   "name": "python3"
  },
  "language_info": {
   "codemirror_mode": {
    "name": "ipython",
    "version": 3
   },
   "file_extension": ".py",
   "mimetype": "text/x-python",
   "name": "python",
   "nbconvert_exporter": "python",
   "pygments_lexer": "ipython3",
   "version": "3.7.6"
  }
 },
 "nbformat": 4,
 "nbformat_minor": 2
}
