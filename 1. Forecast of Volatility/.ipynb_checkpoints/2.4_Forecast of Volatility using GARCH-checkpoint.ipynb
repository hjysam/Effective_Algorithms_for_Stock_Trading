{
 "cells": [
  {
   "cell_type": "code",
   "execution_count": 1,
   "metadata": {},
   "outputs": [],
   "source": [
    "# Import libraries\n",
    "import os, glob\n",
    "import numpy as np\n",
    "import pandas as pd\n",
    "import matplotlib.pyplot as plt\n",
    "\n",
    "from arch import arch_model"
   ]
  },
  {
   "cell_type": "code",
   "execution_count": 2,
   "metadata": {},
   "outputs": [],
   "source": [
    "# Variable definition\n",
    "data_folder = 'Data/' # Folder containing the dataset\n",
    "n_days = 252\n",
    "look_back = 20\n",
    "# Rolling window forecasting\n",
    "window_length = 50"
   ]
  },
  {
   "cell_type": "code",
   "execution_count": 3,
   "metadata": {},
   "outputs": [
    {
     "name": "stdout",
     "output_type": "stream",
     "text": [
      "Filename for Summary Table: Summary_DJIA30.csv\n"
     ]
    }
   ],
   "source": [
    "#Summary Table\n",
    "csv = (glob.glob('*.csv'))[0]\n",
    "print ('Filename for Summary Table: ' + csv)\n",
    "\n",
    "#Data Preparation from CSV  \n",
    "df_Summary = pd.read_csv(csv,index_col=0,engine = 'python')\n",
    "n_days = 252 #Number of days to use as dataset based on average trading days per year \n",
    "\n",
    "#Define empty array\n",
    "dataset = np.empty((n_days, 0)) # Preallocate the array\n",
    "\n",
    "#Create Dataset\n",
    "for i in range(0, len(df_Summary)):\n",
    "    try:\n",
    "        ticker = df_Summary['Ticker'][i]\n",
    "        df_ticker = pd.read_csv('Data//'+ ticker + '//' + ticker + '.csv',engine = 'python')\n",
    "\n",
    "        #Create new dataset array based on 'Return_log' and 'Realized_Volatility_20D'\n",
    "        asset=df_ticker[['Ret_Log','R_Vol_20D']].tail(n_days).values\n",
    "        dataset = np.append(dataset, asset, axis=1)\n",
    "    \n",
    "    except:\n",
    "        continue"
   ]
  },
  {
   "cell_type": "code",
   "execution_count": 4,
   "metadata": {},
   "outputs": [
    {
     "ename": "IndexError",
     "evalue": "index 0 is out of bounds for axis 1 with size 0",
     "output_type": "error",
     "traceback": [
      "\u001b[1;31m---------------------------------------------------------------------------\u001b[0m",
      "\u001b[1;31mIndexError\u001b[0m                                Traceback (most recent call last)",
      "\u001b[1;32m<ipython-input-4-dddc458d23b7>\u001b[0m in \u001b[0;36m<module>\u001b[1;34m\u001b[0m\n\u001b[0;32m      5\u001b[0m     \u001b[1;31m# load returns\u001b[0m\u001b[1;33m\u001b[0m\u001b[1;33m\u001b[0m\u001b[1;33m\u001b[0m\u001b[0m\n\u001b[0;32m      6\u001b[0m     \u001b[0mticker\u001b[0m \u001b[1;33m=\u001b[0m \u001b[0mdf_Summary\u001b[0m\u001b[1;33m[\u001b[0m\u001b[1;34m'Ticker'\u001b[0m\u001b[1;33m]\u001b[0m\u001b[1;33m[\u001b[0m\u001b[0mi\u001b[0m\u001b[1;33m]\u001b[0m\u001b[1;33m\u001b[0m\u001b[1;33m\u001b[0m\u001b[0m\n\u001b[1;32m----> 7\u001b[1;33m     \u001b[0mret\u001b[0m \u001b[1;33m=\u001b[0m \u001b[0mdataset\u001b[0m\u001b[1;33m[\u001b[0m\u001b[1;33m:\u001b[0m\u001b[1;33m,\u001b[0m \u001b[0mi\u001b[0m\u001b[1;33m*\u001b[0m\u001b[1;36m2\u001b[0m\u001b[1;33m]\u001b[0m\u001b[1;33m\u001b[0m\u001b[1;33m\u001b[0m\u001b[0m\n\u001b[0m\u001b[0;32m      8\u001b[0m \u001b[1;33m\u001b[0m\u001b[0m\n\u001b[0;32m      9\u001b[0m     \u001b[1;31m# Specify the model and estimating parameters\u001b[0m\u001b[1;33m\u001b[0m\u001b[1;33m\u001b[0m\u001b[1;33m\u001b[0m\u001b[0m\n",
      "\u001b[1;31mIndexError\u001b[0m: index 0 is out of bounds for axis 1 with size 0"
     ]
    }
   ],
   "source": [
    "mse = []\n",
    "qlike = []\n",
    "\n",
    "for i in range(0, len(df_Summary)):\n",
    "    # load returns\n",
    "    ticker = df_Summary['Ticker'][i]\n",
    "    ret = dataset[:, i*2]\n",
    "    \n",
    "    # Specify the model and estimating parameters\n",
    "    am = arch_model(ret*100, vol='Garch', p=look_back, q=look_back)\n",
    "\n",
    "    forecasts = dict()\n",
    "    forecasts['day'] = []\n",
    "    forecasts['fcast'] = []\n",
    "    \n",
    "    for j in range(len(ret) - window_length):\n",
    "        # Estimate the model\n",
    "        res = am.fit(first_obs=j, last_obs=j+window_length, disp='off')\n",
    "        \n",
    "        # Make forecasts\n",
    "        temp = res.forecast(horizon=1).variance\n",
    "        fcast = temp.iloc[j + window_length - 1]\n",
    "        forecasts['day'].append(fcast.name)\n",
    "        forecasts['fcast'].append(fcast.values)\n",
    "\n",
    "    y_pred = np.array(forecasts['fcast']).reshape(-1)\n",
    "    y_true = dataset[window_length:, i*2+1]\n",
    "    \n",
    "    #plt.figure()\n",
    "    #plt.plot(forecasts['day'], y_pred, label='forecast')\n",
    "    #plt.plot(forecasts['day'], y_true, label='expected')\n",
    "    #plt.ylim([0, 60])\n",
    "    #plt.legend()\n",
    "    #plt.show()\n",
    "\n",
    "    # Calculate the evaluation metrics\n",
    "    mse_i = (y_true - y_pred) ** 2\n",
    "    qlike_i = np.log(y_pred) + (y_true / y_pred)\n",
    "    \n",
    "    # Save results\n",
    "    ticker = df_Summary['Ticker'][i]\n",
    "    results = np.array([mse_i, qlike_i]).transpose()\n",
    "    np.savetxt('Data//' + ticker + '//' + ticker + '_GARCH.csv', results, \n",
    "               delimiter=',', header='MSE, Q-LIKE', fmt='%10.5f', comments='')\n",
    "    \n",
    "    mse.append(np.mean(mse_i, axis=0))\n",
    "    qlike.append(np.mean(qlike_i, axis=0))"
   ]
  },
  {
   "cell_type": "code",
   "execution_count": null,
   "metadata": {},
   "outputs": [],
   "source": [
    "# Save results\n",
    "results = np.array([mse, qlike]).transpose()\n",
    "\n",
    "df = pd.DataFrame({'MSE_GARCH': mse, 'QLIKE_GARCH': qlike})\n",
    "print(df.describe())\n",
    "\n",
    "df_Summary['MSE_GARCH'] = df['MSE_GARCH'] \n",
    "df_Summary['QLIKE_GARCH'] = df['QLIKE_GARCH'] \n",
    "df_Summary.to_csv(csv,encoding='utf-8', index=True, header = True)"
   ]
  },
  {
   "cell_type": "code",
   "execution_count": null,
   "metadata": {},
   "outputs": [],
   "source": []
  }
 ],
 "metadata": {
  "kernelspec": {
   "display_name": "Python 3",
   "language": "python",
   "name": "python3"
  },
  "language_info": {
   "codemirror_mode": {
    "name": "ipython",
    "version": 3
   },
   "file_extension": ".py",
   "mimetype": "text/x-python",
   "name": "python",
   "nbconvert_exporter": "python",
   "pygments_lexer": "ipython3",
   "version": "3.7.6"
  }
 },
 "nbformat": 4,
 "nbformat_minor": 2
}
