{
 "cells": [
  {
   "cell_type": "markdown",
   "metadata": {},
   "source": [
    "# Data Preparation "
   ]
  },
  {
   "cell_type": "code",
   "execution_count": 1,
   "metadata": {},
   "outputs": [
    {
     "name": "stderr",
     "output_type": "stream",
     "text": [
      "C:\\Users\\Elid-PC.DESKTOP-MG9DS93\\anaconda3\\lib\\site-packages\\pandas_datareader\\compat\\__init__.py:7: FutureWarning: pandas.util.testing is deprecated. Use the functions in the public API at pandas.testing instead.\n",
      "  from pandas.util.testing import assert_frame_equal\n"
     ]
    }
   ],
   "source": [
    "from pandas_datareader import data as pdr\n",
    "import matplotlib.pyplot as plt\n",
    "import pandas as pd\n",
    "import numpy as np\n",
    "import csv, glob, os, time\n",
    "from datetime import date\n",
    "from IPython.display import display, Image\n",
    "import warnings\n",
    "warnings.filterwarnings(\"ignore\")"
   ]
  },
  {
   "cell_type": "code",
   "execution_count": 14,
   "metadata": {},
   "outputs": [
    {
     "name": "stdout",
     "output_type": "stream",
     "text": [
      "Filename for Summary Table: Summary_DJIA30.csv\n",
      "Number of History Download 29 Out of 29\n",
      "--- 13.0 seconds taken ---\n"
     ]
    }
   ],
   "source": [
    "csv = (glob.glob('*.csv'))[0]\n",
    "print ('Filename for Summary Table: ' + csv)\n",
    "\n",
    "start_time = time.time()\n",
    "\n",
    "df_Summary = pd.read_csv(csv, index_col=0,engine = 'python')\n",
    "count = 1\n",
    "for i in range(0, len(df_Summary)):\n",
    "    ticker = df_Summary['Ticker'][i]\n",
    "    #try:\n",
    "    #Downloads history data from Yahoo Finance based on last 3 year\n",
    "    end_date = date.today()\n",
    "    start_date = end_date.replace(year=date.today().year -3)\n",
    "\n",
    "    #Downloads data from Yahoo\n",
    "    df = pdr.DataReader(ticker, 'yahoo', start_date, end_date)\n",
    "\n",
    "    # Create Return Variables\n",
    "    \n",
    "    df['Ret_Diff'] = df['Adj Close'].diff()\n",
    "    df['Ret_%_Chg'] = df['Adj Close'].pct_change()\n",
    "    df['Ret_Log'] = np.log(df['Adj Close'])-np.log(df['Adj Close'].shift(1))\n",
    "    df['Vol'] = df['Ret_Log'].rolling(252).std()*(252**0.5)\n",
    "    df=df.dropna()\n",
    "    df=df.reset_index(drop = True)\n",
    "    csv_dir =  'Data\\\\' + ticker +'\\\\' + ticker +'.csv'\n",
    "    df.to_csv(csv_dir,encoding='utf-8', index=True, header = True)\n",
    "\n",
    "    count = count + 1 \n",
    "    #except:\n",
    "        #print('Failed to Download: ' + str(ticker))\n",
    "        #continue\n",
    "\n",
    "print('Number of History Download ' + str(count-1) + ' Out of ' + str(i+1))\n",
    "print(\"--- %s seconds taken ---\" % round((time.time() - start_time),0))"
   ]
  },
  {
   "cell_type": "code",
   "execution_count": 28,
   "metadata": {},
   "outputs": [
    {
     "name": "stdout",
     "output_type": "stream",
     "text": [
      "Filename for Summary Table: Summary_DJIA30.csv\n",
      "Number of Charts (Returns vs Volatility) plotted: 29\n"
     ]
    },
    {
     "data": {
      "image/png": "[encoded data removed]",
      "text/plain": [
       "<IPython.core.display.Image object>"
      ]
     },
     "metadata": {},
     "output_type": "display_data"
    },
    {
     "data": {
      "text/plain": [
       "<Figure size 432x288 with 0 Axes>"
      ]
     },
     "metadata": {},
     "output_type": "display_data"
    }
   ],
   "source": [
    "#Summary Table\n",
    "csv = (glob.glob('*.csv'))[0]\n",
    "print ('Filename for Summary Table: ' + csv)\n",
    "\n",
    "#Data Preparation from CSV  \n",
    "df_Summary = pd.read_csv(csv,index_col=0,engine = 'python')\n",
    "n_days = 252 #Number of days to use as dataset based on average trading days per year \n",
    "\n",
    "#Define empty array\n",
    "dataset = np.empty((n_days, 0)) # Initialised the array as zero\n",
    "reject = []\n",
    "#Create Dataset\n",
    "for i in range(0, len(df_Summary)):\n",
    "    try:\n",
    "        ticker = df_Summary['Ticker'][i]\n",
    "        df_ticker = pd.read_csv('Data//'+ ticker + '//' + ticker + '.csv',engine = 'python')\n",
    "\n",
    "        #Create new dataset array based on 'Return_log' and 'Volatility'\n",
    "        asset=df_ticker[['Ret_Log','Vol']].tail(n_days).values\n",
    "        dataset = np.append(dataset, asset, axis=1)\n",
    "\n",
    "        # Visualize returns and volatility\n",
    "        plt.plot(dataset[:, i], label='returns')\n",
    "        plt.plot(dataset[:, i+1], label='volatility')\n",
    "        plt.legend()\n",
    "        plt.title(ticker)\n",
    "        plt.xlabel('Time (days)')\n",
    "        plt.savefig('Data//'+ ticker + '//' + ticker +'_Returns vs Volatility.png')\n",
    "        plt.clf()\n",
    "    \n",
    "    except:\n",
    "        continue\n",
    "    \n",
    "print('Number of Charts (Returns vs Volatility) plotted: ' + str(i+1))\n",
    "\n",
    "# Display an example of Returns vs  Volatility Chart - Apple \n",
    "display(Image(filename='Data//AAPL//AAPL_Returns vs Volatility.png'))"
   ]
  },
  {
   "cell_type": "code",
   "execution_count": 27,
   "metadata": {},
   "outputs": [
    {
     "data": {
      "text/plain": [
       "50"
      ]
     },
     "execution_count": 27,
     "metadata": {},
     "output_type": "execute_result"
    }
   ],
   "source": [
    "len(df_ticker[['Ret_Log','Vol']].tail(n_days).values)"
   ]
  },
  {
   "cell_type": "code",
   "execution_count": null,
   "metadata": {},
   "outputs": [],
   "source": []
  }
 ],
 "metadata": {
  "kernelspec": {
   "display_name": "Python 3",
   "language": "python",
   "name": "python3"
  },
  "language_info": {
   "codemirror_mode": {
    "name": "ipython",
    "version": 3
   },
   "file_extension": ".py",
   "mimetype": "text/x-python",
   "name": "python",
   "nbconvert_exporter": "python",
   "pygments_lexer": "ipython3",
   "version": "3.7.6"
  }
 },
 "nbformat": 4,
 "nbformat_minor": 2
}
