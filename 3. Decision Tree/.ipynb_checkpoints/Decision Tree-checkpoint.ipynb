{
 "cells": [
  {
   "cell_type": "markdown",
   "metadata": {},
   "source": [
    "# How to use decision trees in practice"
   ]
  },
  {
   "cell_type": "markdown",
   "metadata": {},
   "source": [
    "In this notebook, we illustrate how to use tree-based models to gain insight and make predictions. \n",
    "\n",
    "To demonstrate regression trees we predict returns, and for the classification case, we return to the example of positive and negative asset price moves."
   ]
  },
  {
   "cell_type": "code",
   "execution_count": 1,
   "metadata": {
    "ExecuteTime": {
     "end_time": "2018-10-31T22:03:40.814238Z",
     "start_time": "2018-10-31T22:03:40.490481Z"
    }
   },
   "outputs": [],
   "source": [
    "%matplotlib inline\n",
    "\n",
    "import warnings\n",
    "import os\n",
    "from pathlib import Path\n",
    "import numpy as np\n",
    "import pandas as pd\n",
    "\n",
    "import matplotlib.pyplot as plt\n",
    "from matplotlib.ticker import FuncFormatter\n",
    "from matplotlib import cm\n",
    "import seaborn as sns\n",
    "import graphviz\n",
    "from sklearn.tree import DecisionTreeClassifier, DecisionTreeRegressor, export_graphviz, _tree\n",
    "from sklearn.linear_model import LinearRegression, Ridge, LogisticRegression\n",
    "from sklearn.model_selection import train_test_split, cross_val_score, GridSearchCV, learning_curve, KFold\n",
    "from sklearn.metrics import roc_auc_score, roc_curve, mean_squared_error, precision_recall_curve,  accuracy_score\n",
    "from sklearn.impute import SimpleImputer\n",
    "import statsmodels.api as sm\n",
    "from scipy.interpolate import interp1d, interp2d"
   ]
  },
  {
   "cell_type": "code",
   "execution_count": 2,
   "metadata": {},
   "outputs": [],
   "source": [
    "warnings.filterwarnings('ignore')\n",
    "plt.style.use('fivethirtyeight')"
   ]
  },
  {
   "cell_type": "markdown",
   "metadata": {},
   "source": [
    "## Get Data"
   ]
  },
  {
   "cell_type": "markdown",
   "metadata": {},
   "source": [
    "The decision tree models in this chapter are not equipped to handle missing or categorical variables, so we will apply dummy encoding to the latter after dropping any of the former."
   ]
  },
  {
   "cell_type": "markdown",
   "metadata": {},
   "source": [
    "### Stock Prices"
   ]
  },
  {
   "cell_type": "code",
   "execution_count": 3,
   "metadata": {
    "ExecuteTime": {
     "end_time": "2018-10-31T22:06:14.046946Z",
     "start_time": "2018-10-31T22:06:14.023537Z"
    }
   },
   "outputs": [
    {
     "name": "stdout",
     "output_type": "stream",
     "text": [
      "<class 'pandas.core.frame.DataFrame'>\n",
      "MultiIndex: 27548 entries, (0, 'UNH', Timestamp('2017-04-20 00:00:00')) to (27547, 'WMT', Timestamp('2020-04-17 00:00:00'))\n",
      "Data columns (total 2 columns):\n",
      " #   Column  Non-Null Count  Dtype  \n",
      "---  ------  --------------  -----  \n",
      " 0   t-5     27548 non-null  float64\n",
      " 1   t-20    27548 non-null  float64\n",
      "dtypes: float64(2)\n",
      "memory usage: 789.0+ KB\n"
     ]
    }
   ],
   "source": [
    "data = pd.read_csv('Feature_Engineering.csv', index_col= None ,engine = 'python')\n",
    "data.set_index([\"ticker\", pd.DatetimeIndex(data['date'])], inplace = True, \n",
    "                            append = True, drop = True)\n",
    "data = data.drop(['date'],axis=1)\n",
    "y = data.returns\n",
    "X = data.drop('returns', axis=1)\n",
    "X.info()"
   ]
  },
  {
   "cell_type": "markdown",
   "metadata": {},
   "source": [
    "### Binary Outcome"
   ]
  },
  {
   "cell_type": "code",
   "execution_count": 4,
   "metadata": {
    "ExecuteTime": {
     "end_time": "2018-10-31T22:06:14.560201Z",
     "start_time": "2018-10-31T22:06:14.556970Z"
    }
   },
   "outputs": [
    {
     "data": {
      "text/plain": [
       "       ticker  date      \n",
       "0      UNH     2017-04-20    1\n",
       "1      V       2017-04-20    1\n",
       "2      VZ      2017-04-20    0\n",
       "3      WBA     2017-04-20    1\n",
       "4      WMT     2017-04-20    1\n",
       "                            ..\n",
       "27543  MMM     2020-04-17    1\n",
       "27544  MRK     2020-04-17    1\n",
       "27545  MSFT    2020-04-17    1\n",
       "27546  VZ      2020-04-17    1\n",
       "27547  WMT     2020-04-17    0\n",
       "Name: returns, Length: 27548, dtype: int32"
      ]
     },
     "execution_count": 4,
     "metadata": {},
     "output_type": "execute_result"
    }
   ],
   "source": [
    "y_binary = (y>0).astype(int)\n",
    "y_binary"
   ]
  },
  {
   "cell_type": "markdown",
   "metadata": {},
   "source": [
    "### 2 Lags Only"
   ]
  },
  {
   "cell_type": "code",
   "execution_count": 5,
   "metadata": {
    "ExecuteTime": {
     "end_time": "2018-10-31T22:06:15.185101Z",
     "start_time": "2018-10-31T22:06:15.177458Z"
    }
   },
   "outputs": [
    {
     "name": "stdout",
     "output_type": "stream",
     "text": [
      "<class 'pandas.core.frame.DataFrame'>\n",
      "MultiIndex: 27548 entries, (0, 'UNH', Timestamp('2017-04-20 00:00:00')) to (27547, 'WMT', Timestamp('2020-04-17 00:00:00'))\n",
      "Data columns (total 2 columns):\n",
      " #   Column  Non-Null Count  Dtype  \n",
      "---  ------  --------------  -----  \n",
      " 0   t-5     27548 non-null  float64\n",
      " 1   t-20    27548 non-null  float64\n",
      "dtypes: float64(2)\n",
      "memory usage: 2.0+ MB\n"
     ]
    }
   ],
   "source": [
    "X2 = X.loc[:, ['t-5', 't-20']]\n",
    "X2.info()"
   ]
  },
  {
   "cell_type": "markdown",
   "metadata": {},
   "source": [
    "## Explore Data"
   ]
  },
  {
   "cell_type": "code",
   "execution_count": 6,
   "metadata": {
    "ExecuteTime": {
     "end_time": "2018-10-31T22:06:17.839683Z",
     "start_time": "2018-10-31T22:06:17.789405Z"
    }
   },
   "outputs": [
    {
     "data": {
      "text/plain": [
       "count    27548.000000\n",
       "mean         0.000460\n",
       "std          0.006748\n",
       "min         -0.019581\n",
       "10%         -0.008097\n",
       "20%         -0.003445\n",
       "30%          0.000000\n",
       "40%          0.000000\n",
       "50%          0.000000\n",
       "60%          0.000000\n",
       "70%          0.001696\n",
       "80%          0.005125\n",
       "90%          0.009583\n",
       "max          0.018930\n",
       "Name: returns, dtype: float64"
      ]
     },
     "execution_count": 6,
     "metadata": {},
     "output_type": "execute_result"
    }
   ],
   "source": [
    "y.describe(percentiles=np.arange(.1, .91, .1).round(1))"
   ]
  },
  {
   "cell_type": "markdown",
   "metadata": {},
   "source": [
    "<a id=\"custom_kfold\"></a>\n",
    "## Custom KFold"
   ]
  },
  {
   "cell_type": "markdown",
   "metadata": {},
   "source": [
    "We also construct a custom cross-validation class tailored to the format of the data just created, which has pandas MultiIndex with two levels, one for the ticker and one for the data."
   ]
  },
  {
   "cell_type": "markdown",
   "metadata": {},
   "source": [
    "`OneStepTimeSeriesSplit` ensures a split of training and validation sets that avoids a lookahead bias by training models using only data up to period T-1 for each stock when validating using data for month T. We will only use one-step-ahead forecasts."
   ]
  },
  {
   "cell_type": "code",
   "execution_count": 7,
   "metadata": {
    "ExecuteTime": {
     "end_time": "2018-10-31T22:06:23.748287Z",
     "start_time": "2018-10-31T22:06:23.739908Z"
    }
   },
   "outputs": [],
   "source": [
    "class OneStepTimeSeriesSplit:\n",
    "    \"\"\"Generates tuples of train_idx, test_idx pairs\n",
    "    Assumes the index contains a level labeled 'date'\"\"\"\n",
    "\n",
    "    def __init__(self, n_splits=10, test_period_length=1, shuffle=False):\n",
    "        self.n_splits = n_splits\n",
    "        self.test_period_length = test_period_length\n",
    "        self.shuffle = shuffle\n",
    "        self.test_end = n_splits * test_period_length\n",
    "\n",
    "    @staticmethod\n",
    "    def chunks(l, chunk_size):\n",
    "        for i in range(0, len(l), chunk_size):\n",
    "            yield l[i:i + chunk_size]\n",
    "\n",
    "    def split(self, X, y=None, groups=None):\n",
    "        unique_dates = (X.index\n",
    "                        .get_level_values('date')\n",
    "                        .unique()\n",
    "                        .sort_values(ascending=False)[:self.test_end])\n",
    "\n",
    "        dates = X.reset_index()[['date']]\n",
    "        for test_date in self.chunks(unique_dates, self.test_period_length):\n",
    "            train_idx = dates[dates.date < min(test_date)].index\n",
    "            test_idx = dates[dates.date.isin(test_date)].index\n",
    "            if self.shuffle:\n",
    "                np.random.shuffle(list(train_idx))\n",
    "            yield train_idx, test_idx\n",
    "\n",
    "    def get_n_splits(self, X, y, groups=None):\n",
    "        return self.n_splits"
   ]
  },
  {
   "cell_type": "code",
   "execution_count": 8,
   "metadata": {
    "ExecuteTime": {
     "end_time": "2018-10-31T22:06:24.039034Z",
     "start_time": "2018-10-31T22:06:24.033920Z"
    }
   },
   "outputs": [],
   "source": [
    "def regression_benchmark():\n",
    "    rmse = []\n",
    "    for train_idx, test_idx in cv.split(X):\n",
    "        mean = y.iloc[train_idx].mean()\n",
    "        data = y.iloc[test_idx].to_frame('y_test').assign(y_pred=mean)\n",
    "        rmse.append(np.sqrt(mean_squared_error(data.y_test, data.y_pred))) \n",
    "    return np.mean(rmse)"
   ]
  },
  {
   "cell_type": "code",
   "execution_count": 9,
   "metadata": {
    "ExecuteTime": {
     "end_time": "2018-10-31T22:06:24.280282Z",
     "start_time": "2018-10-31T22:06:24.277278Z"
    }
   },
   "outputs": [],
   "source": [
    "def classification_benchmark():\n",
    "    auc = []\n",
    "    for train_idx, test_idx in cv.split(X):\n",
    "        mean = y_binary.iloc[train_idx].mean()\n",
    "        data = y_binary.iloc[test_idx].to_frame('y_test').assign(y_pred=mean)\n",
    "        auc.append(roc_auc_score(data.y_test, data.y_pred))\n",
    "    return np.mean(auc)"
   ]
  },
  {
   "cell_type": "markdown",
   "metadata": {},
   "source": [
    "## Simple Regression Tree"
   ]
  },
  {
   "cell_type": "markdown",
   "metadata": {},
   "source": [
    "Regression trees make predictions based on the mean outcome value for the training samples assigned to a given node and typically rely on the mean-squared error to select optimal rules during recursive binary splitting.\n",
    "\n",
    "Given a training set, the algorithm iterates over the predictors, $X_1, X_2, ..., X_p$, and possible cutpoints, $s_1, s_2, ..., s_N$, to find an optimal combination. The optimal rule splits the feature space into two regions, $\\{X\\mid X_i < s_j\\}$ and $\\{X\\mid X_i > s_j\\}$, with values for the $X_i$ feature either below or above the $s_j$ threshold so that predictions based on the training subsets maximize the reduction of the squared residuals relative to the current node."
   ]
  },
  {
   "cell_type": "markdown",
   "metadata": {},
   "source": [
    "### Configure Tree"
   ]
  },
  {
   "cell_type": "markdown",
   "metadata": {},
   "source": [
    "Let's start with a simplified example to facilitate visualization and only use two months of lagged returns to predict the following month, in the vein of an AR(2) model from the last chapter:"
   ]
  },
  {
   "cell_type": "code",
   "execution_count": 10,
   "metadata": {},
   "outputs": [],
   "source": [
    "import os\n",
    "os.environ[\"PATH\"] += os.pathsep +'C:/Users/Elid-PC.DESKTOP-MG9DS93/Anaconda3/Library/bin/graphviz/'"
   ]
  },
  {
   "cell_type": "code",
   "execution_count": 11,
   "metadata": {
    "ExecuteTime": {
     "end_time": "2018-10-31T22:06:29.430468Z",
     "start_time": "2018-10-31T22:06:29.423601Z"
    }
   },
   "outputs": [],
   "source": [
    "reg_tree_t2 = DecisionTreeRegressor(criterion='mse',\n",
    "                                    splitter='best',\n",
    "                                    max_depth=4,\n",
    "                                    min_samples_split=2,\n",
    "                                    min_samples_leaf=1,\n",
    "                                    min_weight_fraction_leaf=0.0,\n",
    "                                    max_features=None,\n",
    "                                    random_state=42,\n",
    "                                    max_leaf_nodes=None,\n",
    "                                    min_impurity_decrease=0.0,\n",
    "                                    min_impurity_split=None,\n",
    "                                    presort=False)"
   ]
  },
  {
   "cell_type": "markdown",
   "metadata": {},
   "source": [
    "### Train Decision Tree"
   ]
  },
  {
   "cell_type": "code",
   "execution_count": 12,
   "metadata": {},
   "outputs": [
    {
     "data": {
      "text/plain": [
       "DecisionTreeRegressor(ccp_alpha=0.0, criterion='mse', max_depth=4,\n",
       "                      max_features=None, max_leaf_nodes=None,\n",
       "                      min_impurity_decrease=0.0, min_impurity_split=None,\n",
       "                      min_samples_leaf=1, min_samples_split=2,\n",
       "                      min_weight_fraction_leaf=0.0, presort=False,\n",
       "                      random_state=42, splitter='best')"
      ]
     },
     "execution_count": 12,
     "metadata": {},
     "output_type": "execute_result"
    }
   ],
   "source": [
    "reg_tree_t2.fit(X=X2, y=y)"
   ]
  },
  {
   "cell_type": "markdown",
   "metadata": {},
   "source": [
    "### Visualize Tree"
   ]
  },
  {
   "cell_type": "markdown",
   "metadata": {},
   "source": [
    "You can visualize the tree using the graphviz library (see GitHub for installation instructions) because sklearn can output a description of the tree using the .dot language used by that library. \n",
    "\n",
    "You can configure the output to include feature and class labels and limit the number of levels to keep the chart readable, as follows:"
   ]
  },
  {
   "cell_type": "code",
   "execution_count": 13,
   "metadata": {
    "ExecuteTime": {
     "end_time": "2018-10-31T22:06:38.863228Z",
     "start_time": "2018-10-31T22:06:38.755940Z"
    }
   },
   "outputs": [
    {
     "data": {
      "image/svg+xml": [
       "<?xml version=\"1.0\" encoding=\"UTF-8\" standalone=\"no\"?>\r\n",
       "<!DOCTYPE svg PUBLIC \"-//W3C//DTD SVG 1.1//EN\"\r\n",
       " \"http://www.w3.org/Graphics/SVG/1.1/DTD/svg11.dtd\">\r\n",
       "<!-- Generated by graphviz version 2.38.0 (20140413.2041)\r\n",
       " -->\r\n",
       "<!-- Title: Tree Pages: 1 -->\r\n",
       "<svg width=\"2088pt\" height=\"477pt\"\r\n",
       " viewBox=\"0.00 0.00 2088.00 477.00\" xmlns=\"http://www.w3.org/2000/svg\" xmlns:xlink=\"http://www.w3.org/1999/xlink\">\r\n",
       "<g id=\"graph0\" class=\"graph\" transform=\"scale(1 1) rotate(0) translate(4 473)\">\r\n",
       "<title>Tree</title>\r\n",
       "<polygon fill=\"white\" stroke=\"none\" points=\"-4,4 -4,-473 2084,-473 2084,4 -4,4\"/>\r\n",
       "<!-- 0 -->\r\n",
       "<g id=\"node1\" class=\"node\"><title>0</title>\r\n",
       "<path fill=\"#eead7f\" stroke=\"black\" d=\"M1088.5,-469C1088.5,-469 984.5,-469 984.5,-469 978.5,-469 972.5,-463 972.5,-457 972.5,-457 972.5,-413 972.5,-413 972.5,-407 978.5,-401 984.5,-401 984.5,-401 1088.5,-401 1088.5,-401 1094.5,-401 1100.5,-407 1100.5,-413 1100.5,-413 1100.5,-457 1100.5,-457 1100.5,-463 1094.5,-469 1088.5,-469\"/>\r\n",
       "<text text-anchor=\"start\" x=\"1002\" y=\"-453.8\" font-family=\"Helvetica,sans-Serif\" font-size=\"14.00\">t&#45;5 ≤ 0.002</text>\r\n",
       "<text text-anchor=\"start\" x=\"1004.5\" y=\"-438.8\" font-family=\"Helvetica,sans-Serif\" font-size=\"14.00\">mse = 0.0</text>\r\n",
       "<text text-anchor=\"start\" x=\"980.5\" y=\"-423.8\" font-family=\"Helvetica,sans-Serif\" font-size=\"14.00\">samples = 27548</text>\r\n",
       "<text text-anchor=\"start\" x=\"1001.5\" y=\"-408.8\" font-family=\"Helvetica,sans-Serif\" font-size=\"14.00\">value = 0.0</text>\r\n",
       "</g>\r\n",
       "<!-- 1 -->\r\n",
       "<g id=\"node2\" class=\"node\"><title>1</title>\r\n",
       "<path fill=\"#efb387\" stroke=\"black\" d=\"M823.5,-365C823.5,-365 719.5,-365 719.5,-365 713.5,-365 707.5,-359 707.5,-353 707.5,-353 707.5,-309 707.5,-309 707.5,-303 713.5,-297 719.5,-297 719.5,-297 823.5,-297 823.5,-297 829.5,-297 835.5,-303 835.5,-309 835.5,-309 835.5,-353 835.5,-353 835.5,-359 829.5,-365 823.5,-365\"/>\r\n",
       "<text text-anchor=\"start\" x=\"735\" y=\"-349.8\" font-family=\"Helvetica,sans-Serif\" font-size=\"14.00\">t&#45;5 ≤ &#45;0.006</text>\r\n",
       "<text text-anchor=\"start\" x=\"739.5\" y=\"-334.8\" font-family=\"Helvetica,sans-Serif\" font-size=\"14.00\">mse = 0.0</text>\r\n",
       "<text text-anchor=\"start\" x=\"715.5\" y=\"-319.8\" font-family=\"Helvetica,sans-Serif\" font-size=\"14.00\">samples = 19160</text>\r\n",
       "<text text-anchor=\"start\" x=\"734.5\" y=\"-304.8\" font-family=\"Helvetica,sans-Serif\" font-size=\"14.00\">value = &#45;0.0</text>\r\n",
       "</g>\r\n",
       "<!-- 0&#45;&gt;1 -->\r\n",
       "<g id=\"edge1\" class=\"edge\"><title>0&#45;&gt;1</title>\r\n",
       "<path fill=\"none\" stroke=\"black\" d=\"M972.351,-409.309C933.92,-394.517 884.926,-375.658 844.948,-360.271\"/>\r\n",
       "<polygon fill=\"black\" stroke=\"black\" points=\"846.107,-356.966 835.517,-356.641 843.592,-363.499 846.107,-356.966\"/>\r\n",
       "<text text-anchor=\"middle\" x=\"845.665\" y=\"-375.788\" font-family=\"Helvetica,sans-Serif\" font-size=\"14.00\">True</text>\r\n",
       "</g>\r\n",
       "<!-- 16 -->\r\n",
       "<g id=\"node17\" class=\"node\"><title>16</title>\r\n",
       "<path fill=\"#eca16b\" stroke=\"black\" d=\"M1350,-365C1350,-365 1255,-365 1255,-365 1249,-365 1243,-359 1243,-353 1243,-353 1243,-309 1243,-309 1243,-303 1249,-297 1255,-297 1255,-297 1350,-297 1350,-297 1356,-297 1362,-303 1362,-309 1362,-309 1362,-353 1362,-353 1362,-359 1356,-365 1350,-365\"/>\r\n",
       "<text text-anchor=\"start\" x=\"1268\" y=\"-349.8\" font-family=\"Helvetica,sans-Serif\" font-size=\"14.00\">t&#45;5 ≤ 0.012</text>\r\n",
       "<text text-anchor=\"start\" x=\"1270.5\" y=\"-334.8\" font-family=\"Helvetica,sans-Serif\" font-size=\"14.00\">mse = 0.0</text>\r\n",
       "<text text-anchor=\"start\" x=\"1251\" y=\"-319.8\" font-family=\"Helvetica,sans-Serif\" font-size=\"14.00\">samples = 8388</text>\r\n",
       "<text text-anchor=\"start\" x=\"1259.5\" y=\"-304.8\" font-family=\"Helvetica,sans-Serif\" font-size=\"14.00\">value = 0.002</text>\r\n",
       "</g>\r\n",
       "<!-- 0&#45;&gt;16 -->\r\n",
       "<g id=\"edge16\" class=\"edge\"><title>0&#45;&gt;16</title>\r\n",
       "<path fill=\"none\" stroke=\"black\" d=\"M1100.55,-409.439C1140.63,-394.071 1192.25,-374.277 1233.27,-358.548\"/>\r\n",
       "<polygon fill=\"black\" stroke=\"black\" points=\"1234.57,-361.799 1242.65,-354.95 1232.06,-355.263 1234.57,-361.799\"/>\r\n",
       "<text text-anchor=\"middle\" x=\"1232.47\" y=\"-374.085\" font-family=\"Helvetica,sans-Serif\" font-size=\"14.00\">False</text>\r\n",
       "</g>\r\n",
       "<!-- 2 -->\r\n",
       "<g id=\"node3\" class=\"node\"><title>2</title>\r\n",
       "<path fill=\"#f2bf9b\" stroke=\"black\" d=\"M431,-261C431,-261 336,-261 336,-261 330,-261 324,-255 324,-249 324,-249 324,-205 324,-205 324,-199 330,-193 336,-193 336,-193 431,-193 431,-193 437,-193 443,-199 443,-205 443,-205 443,-249 443,-249 443,-255 437,-261 431,-261\"/>\r\n",
       "<text text-anchor=\"start\" x=\"347\" y=\"-245.8\" font-family=\"Helvetica,sans-Serif\" font-size=\"14.00\">t&#45;5 ≤ &#45;0.013</text>\r\n",
       "<text text-anchor=\"start\" x=\"351.5\" y=\"-230.8\" font-family=\"Helvetica,sans-Serif\" font-size=\"14.00\">mse = 0.0</text>\r\n",
       "<text text-anchor=\"start\" x=\"332\" y=\"-215.8\" font-family=\"Helvetica,sans-Serif\" font-size=\"14.00\">samples = 3586</text>\r\n",
       "<text text-anchor=\"start\" x=\"338\" y=\"-200.8\" font-family=\"Helvetica,sans-Serif\" font-size=\"14.00\">value = &#45;0.002</text>\r\n",
       "</g>\r\n",
       "<!-- 1&#45;&gt;2 -->\r\n",
       "<g id=\"edge2\" class=\"edge\"><title>1&#45;&gt;2</title>\r\n",
       "<path fill=\"none\" stroke=\"black\" d=\"M707.43,-313.157C637.33,-294.728 525.342,-265.288 453.12,-246.302\"/>\r\n",
       "<polygon fill=\"black\" stroke=\"black\" points=\"453.763,-242.852 443.202,-243.695 451.983,-249.622 453.763,-242.852\"/>\r\n",
       "</g>\r\n",
       "<!-- 9 -->\r\n",
       "<g id=\"node10\" class=\"node\"><title>9</title>\r\n",
       "<path fill=\"#efb083\" stroke=\"black\" d=\"M823.5,-261C823.5,-261 719.5,-261 719.5,-261 713.5,-261 707.5,-255 707.5,-249 707.5,-249 707.5,-205 707.5,-205 707.5,-199 713.5,-193 719.5,-193 719.5,-193 823.5,-193 823.5,-193 829.5,-193 835.5,-199 835.5,-205 835.5,-205 835.5,-249 835.5,-249 835.5,-255 829.5,-261 823.5,-261\"/>\r\n",
       "<text text-anchor=\"start\" x=\"735\" y=\"-245.8\" font-family=\"Helvetica,sans-Serif\" font-size=\"14.00\">t&#45;5 ≤ &#45;0.003</text>\r\n",
       "<text text-anchor=\"start\" x=\"739.5\" y=\"-230.8\" font-family=\"Helvetica,sans-Serif\" font-size=\"14.00\">mse = 0.0</text>\r\n",
       "<text text-anchor=\"start\" x=\"715.5\" y=\"-215.8\" font-family=\"Helvetica,sans-Serif\" font-size=\"14.00\">samples = 15574</text>\r\n",
       "<text text-anchor=\"start\" x=\"736.5\" y=\"-200.8\" font-family=\"Helvetica,sans-Serif\" font-size=\"14.00\">value = 0.0</text>\r\n",
       "</g>\r\n",
       "<!-- 1&#45;&gt;9 -->\r\n",
       "<g id=\"edge9\" class=\"edge\"><title>1&#45;&gt;9</title>\r\n",
       "<path fill=\"none\" stroke=\"black\" d=\"M771.5,-296.884C771.5,-288.778 771.5,-279.982 771.5,-271.472\"/>\r\n",
       "<polygon fill=\"black\" stroke=\"black\" points=\"775,-271.299 771.5,-261.299 768,-271.299 775,-271.299\"/>\r\n",
       "</g>\r\n",
       "<!-- 3 -->\r\n",
       "<g id=\"node4\" class=\"node\"><title>3</title>\r\n",
       "<path fill=\"#f4c7a8\" stroke=\"black\" d=\"M230,-157C230,-157 135,-157 135,-157 129,-157 123,-151 123,-145 123,-145 123,-101 123,-101 123,-95 129,-89 135,-89 135,-89 230,-89 230,-89 236,-89 242,-95 242,-101 242,-101 242,-145 242,-145 242,-151 236,-157 230,-157\"/>\r\n",
       "<text text-anchor=\"start\" x=\"144\" y=\"-141.8\" font-family=\"Helvetica,sans-Serif\" font-size=\"14.00\">t&#45;20 ≤ 0.017</text>\r\n",
       "<text text-anchor=\"start\" x=\"150.5\" y=\"-126.8\" font-family=\"Helvetica,sans-Serif\" font-size=\"14.00\">mse = 0.0</text>\r\n",
       "<text text-anchor=\"start\" x=\"131\" y=\"-111.8\" font-family=\"Helvetica,sans-Serif\" font-size=\"14.00\">samples = 1005</text>\r\n",
       "<text text-anchor=\"start\" x=\"137\" y=\"-96.8\" font-family=\"Helvetica,sans-Serif\" font-size=\"14.00\">value = &#45;0.003</text>\r\n",
       "</g>\r\n",
       "<!-- 2&#45;&gt;3 -->\r\n",
       "<g id=\"edge3\" class=\"edge\"><title>2&#45;&gt;3</title>\r\n",
       "<path fill=\"none\" stroke=\"black\" d=\"M323.738,-195.673C300.956,-184.112 274.812,-170.845 251.26,-158.893\"/>\r\n",
       "<polygon fill=\"black\" stroke=\"black\" points=\"252.534,-155.615 242.032,-154.21 249.366,-161.857 252.534,-155.615\"/>\r\n",
       "</g>\r\n",
       "<!-- 6 -->\r\n",
       "<g id=\"node7\" class=\"node\"><title>6</title>\r\n",
       "<path fill=\"#f1bc96\" stroke=\"black\" d=\"M431,-157C431,-157 336,-157 336,-157 330,-157 324,-151 324,-145 324,-145 324,-101 324,-101 324,-95 330,-89 336,-89 336,-89 431,-89 431,-89 437,-89 443,-95 443,-101 443,-101 443,-145 443,-145 443,-151 437,-157 431,-157\"/>\r\n",
       "<text text-anchor=\"start\" x=\"345\" y=\"-141.8\" font-family=\"Helvetica,sans-Serif\" font-size=\"14.00\">t&#45;20 ≤ 0.007</text>\r\n",
       "<text text-anchor=\"start\" x=\"351.5\" y=\"-126.8\" font-family=\"Helvetica,sans-Serif\" font-size=\"14.00\">mse = 0.0</text>\r\n",
       "<text text-anchor=\"start\" x=\"332\" y=\"-111.8\" font-family=\"Helvetica,sans-Serif\" font-size=\"14.00\">samples = 2581</text>\r\n",
       "<text text-anchor=\"start\" x=\"338\" y=\"-96.8\" font-family=\"Helvetica,sans-Serif\" font-size=\"14.00\">value = &#45;0.002</text>\r\n",
       "</g>\r\n",
       "<!-- 2&#45;&gt;6 -->\r\n",
       "<g id=\"edge6\" class=\"edge\"><title>2&#45;&gt;6</title>\r\n",
       "<path fill=\"none\" stroke=\"black\" d=\"M383.5,-192.884C383.5,-184.778 383.5,-175.982 383.5,-167.472\"/>\r\n",
       "<polygon fill=\"black\" stroke=\"black\" points=\"387,-167.299 383.5,-157.299 380,-167.299 387,-167.299\"/>\r\n",
       "</g>\r\n",
       "<!-- 4 -->\r\n",
       "<g id=\"node5\" class=\"node\"><title>4</title>\r\n",
       "<path fill=\"#f3c7a7\" stroke=\"black\" d=\"M99,-53C99,-53 12,-53 12,-53 6,-53 0,-47 0,-41 0,-41 0,-12 0,-12 0,-6 6,-0 12,-0 12,-0 99,-0 99,-0 105,-0 111,-6 111,-12 111,-12 111,-41 111,-41 111,-47 105,-53 99,-53\"/>\r\n",
       "<text text-anchor=\"start\" x=\"23.5\" y=\"-37.8\" font-family=\"Helvetica,sans-Serif\" font-size=\"14.00\">mse = 0.0</text>\r\n",
       "<text text-anchor=\"start\" x=\"8\" y=\"-22.8\" font-family=\"Helvetica,sans-Serif\" font-size=\"14.00\">samples = 993</text>\r\n",
       "<text text-anchor=\"start\" x=\"10\" y=\"-7.8\" font-family=\"Helvetica,sans-Serif\" font-size=\"14.00\">value = &#45;0.003</text>\r\n",
       "</g>\r\n",
       "<!-- 3&#45;&gt;4 -->\r\n",
       "<g id=\"edge4\" class=\"edge\"><title>3&#45;&gt;4</title>\r\n",
       "<path fill=\"none\" stroke=\"black\" d=\"M138.082,-88.9485C125.173,-79.3431 111.104,-68.8747 98.297,-59.345\"/>\r\n",
       "<polygon fill=\"black\" stroke=\"black\" points=\"100.2,-56.3984 90.088,-53.2367 96.0213,-62.0143 100.2,-56.3984\"/>\r\n",
       "</g>\r\n",
       "<!-- 5 -->\r\n",
       "<g id=\"node6\" class=\"node\"><title>5</title>\r\n",
       "<path fill=\"#fbe9dd\" stroke=\"black\" d=\"M224,-53C224,-53 141,-53 141,-53 135,-53 129,-47 129,-41 129,-41 129,-12 129,-12 129,-6 135,-0 141,-0 141,-0 224,-0 224,-0 230,-0 236,-6 236,-12 236,-12 236,-41 236,-41 236,-47 230,-53 224,-53\"/>\r\n",
       "<text text-anchor=\"start\" x=\"150.5\" y=\"-37.8\" font-family=\"Helvetica,sans-Serif\" font-size=\"14.00\">mse = 0.0</text>\r\n",
       "<text text-anchor=\"start\" x=\"139\" y=\"-22.8\" font-family=\"Helvetica,sans-Serif\" font-size=\"14.00\">samples = 12</text>\r\n",
       "<text text-anchor=\"start\" x=\"137\" y=\"-7.8\" font-family=\"Helvetica,sans-Serif\" font-size=\"14.00\">value = &#45;0.008</text>\r\n",
       "</g>\r\n",
       "<!-- 3&#45;&gt;5 -->\r\n",
       "<g id=\"edge5\" class=\"edge\"><title>3&#45;&gt;5</title>\r\n",
       "<path fill=\"none\" stroke=\"black\" d=\"M182.5,-88.9485C182.5,-80.7153 182.5,-71.848 182.5,-63.4814\"/>\r\n",
       "<polygon fill=\"black\" stroke=\"black\" points=\"186,-63.2367 182.5,-53.2367 179,-63.2367 186,-63.2367\"/>\r\n",
       "</g>\r\n",
       "<!-- 7 -->\r\n",
       "<g id=\"node8\" class=\"node\"><title>7</title>\r\n",
       "<path fill=\"#f1be98\" stroke=\"black\" d=\"M361,-53C361,-53 266,-53 266,-53 260,-53 254,-47 254,-41 254,-41 254,-12 254,-12 254,-6 260,-0 266,-0 266,-0 361,-0 361,-0 367,-0 373,-6 373,-12 373,-12 373,-41 373,-41 373,-47 367,-53 361,-53\"/>\r\n",
       "<text text-anchor=\"start\" x=\"281.5\" y=\"-37.8\" font-family=\"Helvetica,sans-Serif\" font-size=\"14.00\">mse = 0.0</text>\r\n",
       "<text text-anchor=\"start\" x=\"262\" y=\"-22.8\" font-family=\"Helvetica,sans-Serif\" font-size=\"14.00\">samples = 2134</text>\r\n",
       "<text text-anchor=\"start\" x=\"268\" y=\"-7.8\" font-family=\"Helvetica,sans-Serif\" font-size=\"14.00\">value = &#45;0.002</text>\r\n",
       "</g>\r\n",
       "<!-- 6&#45;&gt;7 -->\r\n",
       "<g id=\"edge7\" class=\"edge\"><title>6&#45;&gt;7</title>\r\n",
       "<path fill=\"none\" stroke=\"black\" d=\"M359.017,-88.9485C352.444,-80.0749 345.326,-70.4648 338.714,-61.5388\"/>\r\n",
       "<polygon fill=\"black\" stroke=\"black\" points=\"341.329,-59.189 332.564,-53.2367 335.704,-63.3556 341.329,-59.189\"/>\r\n",
       "</g>\r\n",
       "<!-- 8 -->\r\n",
       "<g id=\"node9\" class=\"node\"><title>8</title>\r\n",
       "<path fill=\"#f0b78e\" stroke=\"black\" d=\"M490,-53C490,-53 403,-53 403,-53 397,-53 391,-47 391,-41 391,-41 391,-12 391,-12 391,-6 397,-0 403,-0 403,-0 490,-0 490,-0 496,-0 502,-6 502,-12 502,-12 502,-41 502,-41 502,-47 496,-53 490,-53\"/>\r\n",
       "<text text-anchor=\"start\" x=\"414.5\" y=\"-37.8\" font-family=\"Helvetica,sans-Serif\" font-size=\"14.00\">mse = 0.0</text>\r\n",
       "<text text-anchor=\"start\" x=\"399\" y=\"-22.8\" font-family=\"Helvetica,sans-Serif\" font-size=\"14.00\">samples = 447</text>\r\n",
       "<text text-anchor=\"start\" x=\"401\" y=\"-7.8\" font-family=\"Helvetica,sans-Serif\" font-size=\"14.00\">value = &#45;0.001</text>\r\n",
       "</g>\r\n",
       "<!-- 6&#45;&gt;8 -->\r\n",
       "<g id=\"edge8\" class=\"edge\"><title>6&#45;&gt;8</title>\r\n",
       "<path fill=\"none\" stroke=\"black\" d=\"M405.534,-88.9485C411.389,-80.1664 417.725,-70.6629 423.623,-61.815\"/>\r\n",
       "<polygon fill=\"black\" stroke=\"black\" points=\"426.707,-63.4987 429.342,-53.2367 420.883,-59.6158 426.707,-63.4987\"/>\r\n",
       "</g>\r\n",
       "<!-- 10 -->\r\n",
       "<g id=\"node11\" class=\"node\"><title>10</title>\r\n",
       "<path fill=\"#efb489\" stroke=\"black\" d=\"M748,-157C748,-157 653,-157 653,-157 647,-157 641,-151 641,-145 641,-145 641,-101 641,-101 641,-95 647,-89 653,-89 653,-89 748,-89 748,-89 754,-89 760,-95 760,-101 760,-101 760,-145 760,-145 760,-151 754,-157 748,-157\"/>\r\n",
       "<text text-anchor=\"start\" x=\"664\" y=\"-141.8\" font-family=\"Helvetica,sans-Serif\" font-size=\"14.00\">t&#45;5 ≤ &#45;0.006</text>\r\n",
       "<text text-anchor=\"start\" x=\"668.5\" y=\"-126.8\" font-family=\"Helvetica,sans-Serif\" font-size=\"14.00\">mse = 0.0</text>\r\n",
       "<text text-anchor=\"start\" x=\"649\" y=\"-111.8\" font-family=\"Helvetica,sans-Serif\" font-size=\"14.00\">samples = 2279</text>\r\n",
       "<text text-anchor=\"start\" x=\"663.5\" y=\"-96.8\" font-family=\"Helvetica,sans-Serif\" font-size=\"14.00\">value = &#45;0.0</text>\r\n",
       "</g>\r\n",
       "<!-- 9&#45;&gt;10 -->\r\n",
       "<g id=\"edge10\" class=\"edge\"><title>9&#45;&gt;10</title>\r\n",
       "<path fill=\"none\" stroke=\"black\" d=\"M748.448,-192.884C742.372,-184.154 735.739,-174.625 729.397,-165.514\"/>\r\n",
       "<polygon fill=\"black\" stroke=\"black\" points=\"732.265,-163.507 723.679,-157.299 726.519,-167.506 732.265,-163.507\"/>\r\n",
       "</g>\r\n",
       "<!-- 13 -->\r\n",
       "<g id=\"node14\" class=\"node\"><title>13</title>\r\n",
       "<path fill=\"#efaf82\" stroke=\"black\" d=\"M894.5,-157C894.5,-157 790.5,-157 790.5,-157 784.5,-157 778.5,-151 778.5,-145 778.5,-145 778.5,-101 778.5,-101 778.5,-95 784.5,-89 790.5,-89 790.5,-89 894.5,-89 894.5,-89 900.5,-89 906.5,-95 906.5,-101 906.5,-101 906.5,-145 906.5,-145 906.5,-151 900.5,-157 894.5,-157\"/>\r\n",
       "<text text-anchor=\"start\" x=\"808\" y=\"-141.8\" font-family=\"Helvetica,sans-Serif\" font-size=\"14.00\">t&#45;5 ≤ 0.002</text>\r\n",
       "<text text-anchor=\"start\" x=\"810.5\" y=\"-126.8\" font-family=\"Helvetica,sans-Serif\" font-size=\"14.00\">mse = 0.0</text>\r\n",
       "<text text-anchor=\"start\" x=\"786.5\" y=\"-111.8\" font-family=\"Helvetica,sans-Serif\" font-size=\"14.00\">samples = 13295</text>\r\n",
       "<text text-anchor=\"start\" x=\"807.5\" y=\"-96.8\" font-family=\"Helvetica,sans-Serif\" font-size=\"14.00\">value = 0.0</text>\r\n",
       "</g>\r\n",
       "<!-- 9&#45;&gt;13 -->\r\n",
       "<g id=\"edge13\" class=\"edge\"><title>9&#45;&gt;13</title>\r\n",
       "<path fill=\"none\" stroke=\"black\" d=\"M794.552,-192.884C800.628,-184.154 807.261,-174.625 813.603,-165.514\"/>\r\n",
       "<polygon fill=\"black\" stroke=\"black\" points=\"816.481,-167.506 819.321,-157.299 810.735,-163.507 816.481,-167.506\"/>\r\n",
       "</g>\r\n",
       "<!-- 11 -->\r\n",
       "<g id=\"node12\" class=\"node\"><title>11</title>\r\n",
       "<path fill=\"#e5823b\" stroke=\"black\" d=\"M611,-53C611,-53 532,-53 532,-53 526,-53 520,-47 520,-41 520,-41 520,-12 520,-12 520,-6 526,-0 532,-0 532,-0 611,-0 611,-0 617,-0 623,-6 623,-12 623,-12 623,-41 623,-41 623,-47 617,-53 611,-53\"/>\r\n",
       "<text text-anchor=\"start\" x=\"539.5\" y=\"-37.8\" font-family=\"Helvetica,sans-Serif\" font-size=\"14.00\">mse = 0.0</text>\r\n",
       "<text text-anchor=\"start\" x=\"528\" y=\"-22.8\" font-family=\"Helvetica,sans-Serif\" font-size=\"14.00\">samples = 16</text>\r\n",
       "<text text-anchor=\"start\" x=\"528.5\" y=\"-7.8\" font-family=\"Helvetica,sans-Serif\" font-size=\"14.00\">value = 0.006</text>\r\n",
       "</g>\r\n",
       "<!-- 10&#45;&gt;11 -->\r\n",
       "<g id=\"edge11\" class=\"edge\"><title>10&#45;&gt;11</title>\r\n",
       "<path fill=\"none\" stroke=\"black\" d=\"M655.382,-88.9485C642.27,-79.3431 627.98,-68.8747 614.971,-59.345\"/>\r\n",
       "<polygon fill=\"black\" stroke=\"black\" points=\"616.768,-56.3228 606.633,-53.2367 612.631,-61.9698 616.768,-56.3228\"/>\r\n",
       "</g>\r\n",
       "<!-- 12 -->\r\n",
       "<g id=\"node13\" class=\"node\"><title>12</title>\r\n",
       "<path fill=\"#f0b489\" stroke=\"black\" d=\"M748,-53C748,-53 653,-53 653,-53 647,-53 641,-47 641,-41 641,-41 641,-12 641,-12 641,-6 647,-0 653,-0 653,-0 748,-0 748,-0 754,-0 760,-6 760,-12 760,-12 760,-41 760,-41 760,-47 754,-53 748,-53\"/>\r\n",
       "<text text-anchor=\"start\" x=\"668.5\" y=\"-37.8\" font-family=\"Helvetica,sans-Serif\" font-size=\"14.00\">mse = 0.0</text>\r\n",
       "<text text-anchor=\"start\" x=\"649\" y=\"-22.8\" font-family=\"Helvetica,sans-Serif\" font-size=\"14.00\">samples = 2263</text>\r\n",
       "<text text-anchor=\"start\" x=\"663.5\" y=\"-7.8\" font-family=\"Helvetica,sans-Serif\" font-size=\"14.00\">value = &#45;0.0</text>\r\n",
       "</g>\r\n",
       "<!-- 10&#45;&gt;12 -->\r\n",
       "<g id=\"edge12\" class=\"edge\"><title>10&#45;&gt;12</title>\r\n",
       "<path fill=\"none\" stroke=\"black\" d=\"M700.5,-88.9485C700.5,-80.7153 700.5,-71.848 700.5,-63.4814\"/>\r\n",
       "<polygon fill=\"black\" stroke=\"black\" points=\"704,-63.2367 700.5,-53.2367 697,-63.2367 704,-63.2367\"/>\r\n",
       "</g>\r\n",
       "<!-- 14 -->\r\n",
       "<g id=\"node15\" class=\"node\"><title>14</title>\r\n",
       "<path fill=\"#efaf82\" stroke=\"black\" d=\"M894.5,-53C894.5,-53 790.5,-53 790.5,-53 784.5,-53 778.5,-47 778.5,-41 778.5,-41 778.5,-12 778.5,-12 778.5,-6 784.5,-0 790.5,-0 790.5,-0 894.5,-0 894.5,-0 900.5,-0 906.5,-6 906.5,-12 906.5,-12 906.5,-41 906.5,-41 906.5,-47 900.5,-53 894.5,-53\"/>\r\n",
       "<text text-anchor=\"start\" x=\"810.5\" y=\"-37.8\" font-family=\"Helvetica,sans-Serif\" font-size=\"14.00\">mse = 0.0</text>\r\n",
       "<text text-anchor=\"start\" x=\"786.5\" y=\"-22.8\" font-family=\"Helvetica,sans-Serif\" font-size=\"14.00\">samples = 13290</text>\r\n",
       "<text text-anchor=\"start\" x=\"807.5\" y=\"-7.8\" font-family=\"Helvetica,sans-Serif\" font-size=\"14.00\">value = 0.0</text>\r\n",
       "</g>\r\n",
       "<!-- 13&#45;&gt;14 -->\r\n",
       "<g id=\"edge14\" class=\"edge\"><title>13&#45;&gt;14</title>\r\n",
       "<path fill=\"none\" stroke=\"black\" d=\"M842.5,-88.9485C842.5,-80.7153 842.5,-71.848 842.5,-63.4814\"/>\r\n",
       "<polygon fill=\"black\" stroke=\"black\" points=\"846,-63.2367 842.5,-53.2367 839,-63.2367 846,-63.2367\"/>\r\n",
       "</g>\r\n",
       "<!-- 15 -->\r\n",
       "<g id=\"node16\" class=\"node\"><title>15</title>\r\n",
       "<path fill=\"#fcf2eb\" stroke=\"black\" d=\"M1020,-53C1020,-53 937,-53 937,-53 931,-53 925,-47 925,-41 925,-41 925,-12 925,-12 925,-6 931,-0 937,-0 937,-0 1020,-0 1020,-0 1026,-0 1032,-6 1032,-12 1032,-12 1032,-41 1032,-41 1032,-47 1026,-53 1020,-53\"/>\r\n",
       "<text text-anchor=\"start\" x=\"946.5\" y=\"-37.8\" font-family=\"Helvetica,sans-Serif\" font-size=\"14.00\">mse = 0.0</text>\r\n",
       "<text text-anchor=\"start\" x=\"939\" y=\"-22.8\" font-family=\"Helvetica,sans-Serif\" font-size=\"14.00\">samples = 5</text>\r\n",
       "<text text-anchor=\"start\" x=\"933\" y=\"-7.8\" font-family=\"Helvetica,sans-Serif\" font-size=\"14.00\">value = &#45;0.009</text>\r\n",
       "</g>\r\n",
       "<!-- 13&#45;&gt;15 -->\r\n",
       "<g id=\"edge15\" class=\"edge\"><title>13&#45;&gt;15</title>\r\n",
       "<path fill=\"none\" stroke=\"black\" d=\"M890.066,-88.9485C904.022,-79.2516 919.243,-68.6752 933.062,-59.073\"/>\r\n",
       "<polygon fill=\"black\" stroke=\"black\" points=\"935.246,-61.8172 941.461,-53.2367 931.252,-56.0687 935.246,-61.8172\"/>\r\n",
       "</g>\r\n",
       "<!-- 17 -->\r\n",
       "<g id=\"node18\" class=\"node\"><title>17</title>\r\n",
       "<path fill=\"#eca36f\" stroke=\"black\" d=\"M1350,-261C1350,-261 1255,-261 1255,-261 1249,-261 1243,-255 1243,-249 1243,-249 1243,-205 1243,-205 1243,-199 1249,-193 1255,-193 1255,-193 1350,-193 1350,-193 1356,-193 1362,-199 1362,-205 1362,-205 1362,-249 1362,-249 1362,-255 1356,-261 1350,-261\"/>\r\n",
       "<text text-anchor=\"start\" x=\"1268\" y=\"-245.8\" font-family=\"Helvetica,sans-Serif\" font-size=\"14.00\">t&#45;5 ≤ 0.004</text>\r\n",
       "<text text-anchor=\"start\" x=\"1270.5\" y=\"-230.8\" font-family=\"Helvetica,sans-Serif\" font-size=\"14.00\">mse = 0.0</text>\r\n",
       "<text text-anchor=\"start\" x=\"1251\" y=\"-215.8\" font-family=\"Helvetica,sans-Serif\" font-size=\"14.00\">samples = 6810</text>\r\n",
       "<text text-anchor=\"start\" x=\"1259.5\" y=\"-200.8\" font-family=\"Helvetica,sans-Serif\" font-size=\"14.00\">value = 0.002</text>\r\n",
       "</g>\r\n",
       "<!-- 16&#45;&gt;17 -->\r\n",
       "<g id=\"edge17\" class=\"edge\"><title>16&#45;&gt;17</title>\r\n",
       "<path fill=\"none\" stroke=\"black\" d=\"M1302.5,-296.884C1302.5,-288.778 1302.5,-279.982 1302.5,-271.472\"/>\r\n",
       "<polygon fill=\"black\" stroke=\"black\" points=\"1306,-271.299 1302.5,-261.299 1299,-271.299 1306,-271.299\"/>\r\n",
       "</g>\r\n",
       "<!-- 24 -->\r\n",
       "<g id=\"node25\" class=\"node\"><title>24</title>\r\n",
       "<path fill=\"#ea975c\" stroke=\"black\" d=\"M1753,-261C1753,-261 1658,-261 1658,-261 1652,-261 1646,-255 1646,-249 1646,-249 1646,-205 1646,-205 1646,-199 1652,-193 1658,-193 1658,-193 1753,-193 1753,-193 1759,-193 1765,-199 1765,-205 1765,-205 1765,-249 1765,-249 1765,-255 1759,-261 1753,-261\"/>\r\n",
       "<text text-anchor=\"start\" x=\"1671\" y=\"-245.8\" font-family=\"Helvetica,sans-Serif\" font-size=\"14.00\">t&#45;5 ≤ 0.016</text>\r\n",
       "<text text-anchor=\"start\" x=\"1673.5\" y=\"-230.8\" font-family=\"Helvetica,sans-Serif\" font-size=\"14.00\">mse = 0.0</text>\r\n",
       "<text text-anchor=\"start\" x=\"1654\" y=\"-215.8\" font-family=\"Helvetica,sans-Serif\" font-size=\"14.00\">samples = 1578</text>\r\n",
       "<text text-anchor=\"start\" x=\"1662.5\" y=\"-200.8\" font-family=\"Helvetica,sans-Serif\" font-size=\"14.00\">value = 0.004</text>\r\n",
       "</g>\r\n",
       "<!-- 16&#45;&gt;24 -->\r\n",
       "<g id=\"edge24\" class=\"edge\"><title>16&#45;&gt;24</title>\r\n",
       "<path fill=\"none\" stroke=\"black\" d=\"M1362.4,-314.84C1435.42,-296.357 1558.62,-265.175 1635.82,-245.636\"/>\r\n",
       "<polygon fill=\"black\" stroke=\"black\" points=\"1637.1,-248.924 1645.93,-243.077 1635.38,-242.138 1637.1,-248.924\"/>\r\n",
       "</g>\r\n",
       "<!-- 18 -->\r\n",
       "<g id=\"node19\" class=\"node\"><title>18</title>\r\n",
       "<path fill=\"#eda876\" stroke=\"black\" d=\"M1282,-157C1282,-157 1187,-157 1187,-157 1181,-157 1175,-151 1175,-145 1175,-145 1175,-101 1175,-101 1175,-95 1181,-89 1187,-89 1187,-89 1282,-89 1282,-89 1288,-89 1294,-95 1294,-101 1294,-101 1294,-145 1294,-145 1294,-151 1288,-157 1282,-157\"/>\r\n",
       "<text text-anchor=\"start\" x=\"1193.5\" y=\"-141.8\" font-family=\"Helvetica,sans-Serif\" font-size=\"14.00\">t&#45;20 ≤ &#45;0.018</text>\r\n",
       "<text text-anchor=\"start\" x=\"1202.5\" y=\"-126.8\" font-family=\"Helvetica,sans-Serif\" font-size=\"14.00\">mse = 0.0</text>\r\n",
       "<text text-anchor=\"start\" x=\"1183\" y=\"-111.8\" font-family=\"Helvetica,sans-Serif\" font-size=\"14.00\">samples = 1929</text>\r\n",
       "<text text-anchor=\"start\" x=\"1191.5\" y=\"-96.8\" font-family=\"Helvetica,sans-Serif\" font-size=\"14.00\">value = 0.001</text>\r\n",
       "</g>\r\n",
       "<!-- 17&#45;&gt;18 -->\r\n",
       "<g id=\"edge18\" class=\"edge\"><title>17&#45;&gt;18</title>\r\n",
       "<path fill=\"none\" stroke=\"black\" d=\"M1280.42,-192.884C1274.66,-184.243 1268.38,-174.819 1262.36,-165.793\"/>\r\n",
       "<polygon fill=\"black\" stroke=\"black\" points=\"1265.16,-163.678 1256.7,-157.299 1259.33,-167.561 1265.16,-163.678\"/>\r\n",
       "</g>\r\n",
       "<!-- 21 -->\r\n",
       "<g id=\"node22\" class=\"node\"><title>21</title>\r\n",
       "<path fill=\"#eca16c\" stroke=\"black\" d=\"M1419,-157C1419,-157 1324,-157 1324,-157 1318,-157 1312,-151 1312,-145 1312,-145 1312,-101 1312,-101 1312,-95 1318,-89 1324,-89 1324,-89 1419,-89 1419,-89 1425,-89 1431,-95 1431,-101 1431,-101 1431,-145 1431,-145 1431,-151 1425,-157 1419,-157\"/>\r\n",
       "<text text-anchor=\"start\" x=\"1333\" y=\"-141.8\" font-family=\"Helvetica,sans-Serif\" font-size=\"14.00\">t&#45;20 ≤ 0.003</text>\r\n",
       "<text text-anchor=\"start\" x=\"1339.5\" y=\"-126.8\" font-family=\"Helvetica,sans-Serif\" font-size=\"14.00\">mse = 0.0</text>\r\n",
       "<text text-anchor=\"start\" x=\"1320\" y=\"-111.8\" font-family=\"Helvetica,sans-Serif\" font-size=\"14.00\">samples = 4881</text>\r\n",
       "<text text-anchor=\"start\" x=\"1328.5\" y=\"-96.8\" font-family=\"Helvetica,sans-Serif\" font-size=\"14.00\">value = 0.002</text>\r\n",
       "</g>\r\n",
       "<!-- 17&#45;&gt;21 -->\r\n",
       "<g id=\"edge21\" class=\"edge\"><title>17&#45;&gt;21</title>\r\n",
       "<path fill=\"none\" stroke=\"black\" d=\"M1324.9,-192.884C1330.75,-184.243 1337.12,-174.819 1343.23,-165.793\"/>\r\n",
       "<polygon fill=\"black\" stroke=\"black\" points=\"1346.27,-167.543 1348.97,-157.299 1340.47,-163.621 1346.27,-167.543\"/>\r\n",
       "</g>\r\n",
       "<!-- 19 -->\r\n",
       "<g id=\"node20\" class=\"node\"><title>19</title>\r\n",
       "<path fill=\"#f4cbad\" stroke=\"black\" d=\"M1145,-53C1145,-53 1062,-53 1062,-53 1056,-53 1050,-47 1050,-41 1050,-41 1050,-12 1050,-12 1050,-6 1056,-0 1062,-0 1062,-0 1145,-0 1145,-0 1151,-0 1157,-6 1157,-12 1157,-12 1157,-41 1157,-41 1157,-47 1151,-53 1145,-53\"/>\r\n",
       "<text text-anchor=\"start\" x=\"1071.5\" y=\"-37.8\" font-family=\"Helvetica,sans-Serif\" font-size=\"14.00\">mse = 0.0</text>\r\n",
       "<text text-anchor=\"start\" x=\"1060\" y=\"-22.8\" font-family=\"Helvetica,sans-Serif\" font-size=\"14.00\">samples = 20</text>\r\n",
       "<text text-anchor=\"start\" x=\"1058\" y=\"-7.8\" font-family=\"Helvetica,sans-Serif\" font-size=\"14.00\">value = &#45;0.004</text>\r\n",
       "</g>\r\n",
       "<!-- 18&#45;&gt;19 -->\r\n",
       "<g id=\"edge19\" class=\"edge\"><title>18&#45;&gt;19</title>\r\n",
       "<path fill=\"none\" stroke=\"black\" d=\"M1188.68,-88.9485C1175.37,-79.3431 1160.86,-68.8747 1147.64,-59.345\"/>\r\n",
       "<polygon fill=\"black\" stroke=\"black\" points=\"1149.34,-56.2486 1139.18,-53.2367 1145.24,-61.9257 1149.34,-56.2486\"/>\r\n",
       "</g>\r\n",
       "<!-- 20 -->\r\n",
       "<g id=\"node21\" class=\"node\"><title>20</title>\r\n",
       "<path fill=\"#eda775\" stroke=\"black\" d=\"M1282,-53C1282,-53 1187,-53 1187,-53 1181,-53 1175,-47 1175,-41 1175,-41 1175,-12 1175,-12 1175,-6 1181,-0 1187,-0 1187,-0 1282,-0 1282,-0 1288,-0 1294,-6 1294,-12 1294,-12 1294,-41 1294,-41 1294,-47 1288,-53 1282,-53\"/>\r\n",
       "<text text-anchor=\"start\" x=\"1202.5\" y=\"-37.8\" font-family=\"Helvetica,sans-Serif\" font-size=\"14.00\">mse = 0.0</text>\r\n",
       "<text text-anchor=\"start\" x=\"1183\" y=\"-22.8\" font-family=\"Helvetica,sans-Serif\" font-size=\"14.00\">samples = 1909</text>\r\n",
       "<text text-anchor=\"start\" x=\"1191.5\" y=\"-7.8\" font-family=\"Helvetica,sans-Serif\" font-size=\"14.00\">value = 0.001</text>\r\n",
       "</g>\r\n",
       "<!-- 18&#45;&gt;20 -->\r\n",
       "<g id=\"edge20\" class=\"edge\"><title>18&#45;&gt;20</title>\r\n",
       "<path fill=\"none\" stroke=\"black\" d=\"M1234.5,-88.9485C1234.5,-80.7153 1234.5,-71.848 1234.5,-63.4814\"/>\r\n",
       "<polygon fill=\"black\" stroke=\"black\" points=\"1238,-63.2367 1234.5,-53.2367 1231,-63.2367 1238,-63.2367\"/>\r\n",
       "</g>\r\n",
       "<!-- 22 -->\r\n",
       "<g id=\"node23\" class=\"node\"><title>22</title>\r\n",
       "<path fill=\"#eca36f\" stroke=\"black\" d=\"M1419,-53C1419,-53 1324,-53 1324,-53 1318,-53 1312,-47 1312,-41 1312,-41 1312,-12 1312,-12 1312,-6 1318,-0 1324,-0 1324,-0 1419,-0 1419,-0 1425,-0 1431,-6 1431,-12 1431,-12 1431,-41 1431,-41 1431,-47 1425,-53 1419,-53\"/>\r\n",
       "<text text-anchor=\"start\" x=\"1339.5\" y=\"-37.8\" font-family=\"Helvetica,sans-Serif\" font-size=\"14.00\">mse = 0.0</text>\r\n",
       "<text text-anchor=\"start\" x=\"1320\" y=\"-22.8\" font-family=\"Helvetica,sans-Serif\" font-size=\"14.00\">samples = 3019</text>\r\n",
       "<text text-anchor=\"start\" x=\"1328.5\" y=\"-7.8\" font-family=\"Helvetica,sans-Serif\" font-size=\"14.00\">value = 0.002</text>\r\n",
       "</g>\r\n",
       "<!-- 21&#45;&gt;22 -->\r\n",
       "<g id=\"edge22\" class=\"edge\"><title>21&#45;&gt;22</title>\r\n",
       "<path fill=\"none\" stroke=\"black\" d=\"M1371.5,-88.9485C1371.5,-80.7153 1371.5,-71.848 1371.5,-63.4814\"/>\r\n",
       "<polygon fill=\"black\" stroke=\"black\" points=\"1375,-63.2367 1371.5,-53.2367 1368,-63.2367 1375,-63.2367\"/>\r\n",
       "</g>\r\n",
       "<!-- 23 -->\r\n",
       "<g id=\"node24\" class=\"node\"><title>23</title>\r\n",
       "<path fill=\"#eb9e67\" stroke=\"black\" d=\"M1556,-53C1556,-53 1461,-53 1461,-53 1455,-53 1449,-47 1449,-41 1449,-41 1449,-12 1449,-12 1449,-6 1455,-0 1461,-0 1461,-0 1556,-0 1556,-0 1562,-0 1568,-6 1568,-12 1568,-12 1568,-41 1568,-41 1568,-47 1562,-53 1556,-53\"/>\r\n",
       "<text text-anchor=\"start\" x=\"1476.5\" y=\"-37.8\" font-family=\"Helvetica,sans-Serif\" font-size=\"14.00\">mse = 0.0</text>\r\n",
       "<text text-anchor=\"start\" x=\"1457\" y=\"-22.8\" font-family=\"Helvetica,sans-Serif\" font-size=\"14.00\">samples = 1862</text>\r\n",
       "<text text-anchor=\"start\" x=\"1465.5\" y=\"-7.8\" font-family=\"Helvetica,sans-Serif\" font-size=\"14.00\">value = 0.003</text>\r\n",
       "</g>\r\n",
       "<!-- 21&#45;&gt;23 -->\r\n",
       "<g id=\"edge23\" class=\"edge\"><title>21&#45;&gt;23</title>\r\n",
       "<path fill=\"none\" stroke=\"black\" d=\"M1419.42,-88.9485C1433.47,-79.2516 1448.81,-68.6752 1462.73,-59.073\"/>\r\n",
       "<polygon fill=\"black\" stroke=\"black\" points=\"1464.94,-61.7959 1471.19,-53.2367 1460.97,-56.0337 1464.94,-61.7959\"/>\r\n",
       "</g>\r\n",
       "<!-- 25 -->\r\n",
       "<g id=\"node26\" class=\"node\"><title>25</title>\r\n",
       "<path fill=\"#ea9a60\" stroke=\"black\" d=\"M1753,-157C1753,-157 1658,-157 1658,-157 1652,-157 1646,-151 1646,-145 1646,-145 1646,-101 1646,-101 1646,-95 1652,-89 1658,-89 1658,-89 1753,-89 1753,-89 1759,-89 1765,-95 1765,-101 1765,-101 1765,-145 1765,-145 1765,-151 1759,-157 1753,-157\"/>\r\n",
       "<text text-anchor=\"start\" x=\"1671\" y=\"-141.8\" font-family=\"Helvetica,sans-Serif\" font-size=\"14.00\">t&#45;5 ≤ 0.016</text>\r\n",
       "<text text-anchor=\"start\" x=\"1673.5\" y=\"-126.8\" font-family=\"Helvetica,sans-Serif\" font-size=\"14.00\">mse = 0.0</text>\r\n",
       "<text text-anchor=\"start\" x=\"1654\" y=\"-111.8\" font-family=\"Helvetica,sans-Serif\" font-size=\"14.00\">samples = 1116</text>\r\n",
       "<text text-anchor=\"start\" x=\"1662.5\" y=\"-96.8\" font-family=\"Helvetica,sans-Serif\" font-size=\"14.00\">value = 0.003</text>\r\n",
       "</g>\r\n",
       "<!-- 24&#45;&gt;25 -->\r\n",
       "<g id=\"edge25\" class=\"edge\"><title>24&#45;&gt;25</title>\r\n",
       "<path fill=\"none\" stroke=\"black\" d=\"M1705.5,-192.884C1705.5,-184.778 1705.5,-175.982 1705.5,-167.472\"/>\r\n",
       "<polygon fill=\"black\" stroke=\"black\" points=\"1709,-167.299 1705.5,-157.299 1702,-167.299 1709,-167.299\"/>\r\n",
       "</g>\r\n",
       "<!-- 28 -->\r\n",
       "<g id=\"node29\" class=\"node\"><title>28</title>\r\n",
       "<path fill=\"#e89152\" stroke=\"black\" d=\"M1943,-157C1943,-157 1856,-157 1856,-157 1850,-157 1844,-151 1844,-145 1844,-145 1844,-101 1844,-101 1844,-95 1850,-89 1856,-89 1856,-89 1943,-89 1943,-89 1949,-89 1955,-95 1955,-101 1955,-101 1955,-145 1955,-145 1955,-151 1949,-157 1943,-157\"/>\r\n",
       "<text text-anchor=\"start\" x=\"1865\" y=\"-141.8\" font-family=\"Helvetica,sans-Serif\" font-size=\"14.00\">t&#45;5 ≤ 0.017</text>\r\n",
       "<text text-anchor=\"start\" x=\"1867.5\" y=\"-126.8\" font-family=\"Helvetica,sans-Serif\" font-size=\"14.00\">mse = 0.0</text>\r\n",
       "<text text-anchor=\"start\" x=\"1852\" y=\"-111.8\" font-family=\"Helvetica,sans-Serif\" font-size=\"14.00\">samples = 462</text>\r\n",
       "<text text-anchor=\"start\" x=\"1856.5\" y=\"-96.8\" font-family=\"Helvetica,sans-Serif\" font-size=\"14.00\">value = 0.004</text>\r\n",
       "</g>\r\n",
       "<!-- 24&#45;&gt;28 -->\r\n",
       "<g id=\"edge28\" class=\"edge\"><title>24&#45;&gt;28</title>\r\n",
       "<path fill=\"none\" stroke=\"black\" d=\"M1765.02,-194.703C1787.05,-183.123 1812.12,-169.94 1834.6,-158.121\"/>\r\n",
       "<polygon fill=\"black\" stroke=\"black\" points=\"1836.51,-161.073 1843.73,-153.321 1833.25,-154.877 1836.51,-161.073\"/>\r\n",
       "</g>\r\n",
       "<!-- 26 -->\r\n",
       "<g id=\"node27\" class=\"node\"><title>26</title>\r\n",
       "<path fill=\"#ea995f\" stroke=\"black\" d=\"M1693,-53C1693,-53 1598,-53 1598,-53 1592,-53 1586,-47 1586,-41 1586,-41 1586,-12 1586,-12 1586,-6 1592,-0 1598,-0 1598,-0 1693,-0 1693,-0 1699,-0 1705,-6 1705,-12 1705,-12 1705,-41 1705,-41 1705,-47 1699,-53 1693,-53\"/>\r\n",
       "<text text-anchor=\"start\" x=\"1613.5\" y=\"-37.8\" font-family=\"Helvetica,sans-Serif\" font-size=\"14.00\">mse = 0.0</text>\r\n",
       "<text text-anchor=\"start\" x=\"1594\" y=\"-22.8\" font-family=\"Helvetica,sans-Serif\" font-size=\"14.00\">samples = 1113</text>\r\n",
       "<text text-anchor=\"start\" x=\"1602.5\" y=\"-7.8\" font-family=\"Helvetica,sans-Serif\" font-size=\"14.00\">value = 0.003</text>\r\n",
       "</g>\r\n",
       "<!-- 25&#45;&gt;26 -->\r\n",
       "<g id=\"edge26\" class=\"edge\"><title>25&#45;&gt;26</title>\r\n",
       "<path fill=\"none\" stroke=\"black\" d=\"M1684.51,-88.9485C1678.94,-80.1664 1672.91,-70.6629 1667.29,-61.815\"/>\r\n",
       "<polygon fill=\"black\" stroke=\"black\" points=\"1670.16,-59.8028 1661.84,-53.2367 1664.25,-63.5549 1670.16,-59.8028\"/>\r\n",
       "</g>\r\n",
       "<!-- 27 -->\r\n",
       "<g id=\"node28\" class=\"node\"><title>27</title>\r\n",
       "<path fill=\"#ffffff\" stroke=\"black\" d=\"M1818,-53C1818,-53 1735,-53 1735,-53 1729,-53 1723,-47 1723,-41 1723,-41 1723,-12 1723,-12 1723,-6 1729,-0 1735,-0 1735,-0 1818,-0 1818,-0 1824,-0 1830,-6 1830,-12 1830,-12 1830,-41 1830,-41 1830,-47 1824,-53 1818,-53\"/>\r\n",
       "<text text-anchor=\"start\" x=\"1744.5\" y=\"-37.8\" font-family=\"Helvetica,sans-Serif\" font-size=\"14.00\">mse = 0.0</text>\r\n",
       "<text text-anchor=\"start\" x=\"1737\" y=\"-22.8\" font-family=\"Helvetica,sans-Serif\" font-size=\"14.00\">samples = 3</text>\r\n",
       "<text text-anchor=\"start\" x=\"1731\" y=\"-7.8\" font-family=\"Helvetica,sans-Serif\" font-size=\"14.00\">value = &#45;0.011</text>\r\n",
       "</g>\r\n",
       "<!-- 25&#45;&gt;27 -->\r\n",
       "<g id=\"edge27\" class=\"edge\"><title>25&#45;&gt;27</title>\r\n",
       "<path fill=\"none\" stroke=\"black\" d=\"M1730.33,-88.9485C1737.07,-79.9834 1744.37,-70.2666 1751.13,-61.2629\"/>\r\n",
       "<polygon fill=\"black\" stroke=\"black\" points=\"1753.95,-63.334 1757.16,-53.2367 1748.36,-59.1293 1753.95,-63.334\"/>\r\n",
       "</g>\r\n",
       "<!-- 29 -->\r\n",
       "<g id=\"node30\" class=\"node\"><title>29</title>\r\n",
       "<path fill=\"#e58139\" stroke=\"black\" d=\"M1939,-53C1939,-53 1860,-53 1860,-53 1854,-53 1848,-47 1848,-41 1848,-41 1848,-12 1848,-12 1848,-6 1854,-0 1860,-0 1860,-0 1939,-0 1939,-0 1945,-0 1951,-6 1951,-12 1951,-12 1951,-41 1951,-41 1951,-47 1945,-53 1939,-53\"/>\r\n",
       "<text text-anchor=\"start\" x=\"1867.5\" y=\"-37.8\" font-family=\"Helvetica,sans-Serif\" font-size=\"14.00\">mse = 0.0</text>\r\n",
       "<text text-anchor=\"start\" x=\"1856\" y=\"-22.8\" font-family=\"Helvetica,sans-Serif\" font-size=\"14.00\">samples = 58</text>\r\n",
       "<text text-anchor=\"start\" x=\"1856.5\" y=\"-7.8\" font-family=\"Helvetica,sans-Serif\" font-size=\"14.00\">value = 0.007</text>\r\n",
       "</g>\r\n",
       "<!-- 28&#45;&gt;29 -->\r\n",
       "<g id=\"edge29\" class=\"edge\"><title>28&#45;&gt;29</title>\r\n",
       "<path fill=\"none\" stroke=\"black\" d=\"M1899.5,-88.9485C1899.5,-80.7153 1899.5,-71.848 1899.5,-63.4814\"/>\r\n",
       "<polygon fill=\"black\" stroke=\"black\" points=\"1903,-63.2367 1899.5,-53.2367 1896,-63.2367 1903,-63.2367\"/>\r\n",
       "</g>\r\n",
       "<!-- 30 -->\r\n",
       "<g id=\"node31\" class=\"node\"><title>30</title>\r\n",
       "<path fill=\"#e99356\" stroke=\"black\" d=\"M2068,-53C2068,-53 1981,-53 1981,-53 1975,-53 1969,-47 1969,-41 1969,-41 1969,-12 1969,-12 1969,-6 1975,-0 1981,-0 1981,-0 2068,-0 2068,-0 2074,-0 2080,-6 2080,-12 2080,-12 2080,-41 2080,-41 2080,-47 2074,-53 2068,-53\"/>\r\n",
       "<text text-anchor=\"start\" x=\"1992.5\" y=\"-37.8\" font-family=\"Helvetica,sans-Serif\" font-size=\"14.00\">mse = 0.0</text>\r\n",
       "<text text-anchor=\"start\" x=\"1977\" y=\"-22.8\" font-family=\"Helvetica,sans-Serif\" font-size=\"14.00\">samples = 404</text>\r\n",
       "<text text-anchor=\"start\" x=\"1981.5\" y=\"-7.8\" font-family=\"Helvetica,sans-Serif\" font-size=\"14.00\">value = 0.004</text>\r\n",
       "</g>\r\n",
       "<!-- 28&#45;&gt;30 -->\r\n",
       "<g id=\"edge30\" class=\"edge\"><title>28&#45;&gt;30</title>\r\n",
       "<path fill=\"none\" stroke=\"black\" d=\"M1943.22,-88.9485C1955.92,-79.3431 1969.77,-68.8747 1982.38,-59.345\"/>\r\n",
       "<polygon fill=\"black\" stroke=\"black\" points=\"1984.59,-62.0593 1990.46,-53.2367 1980.37,-56.4754 1984.59,-62.0593\"/>\r\n",
       "</g>\r\n",
       "</g>\r\n",
       "</svg>\r\n"
      ],
      "text/plain": [
       "<graphviz.files.Source at 0x15de49de948>"
      ]
     },
     "execution_count": 13,
     "metadata": {},
     "output_type": "execute_result"
    }
   ],
   "source": [
    "out_file = 'figures/reg_tree_t2.dot'\n",
    "dot_data = export_graphviz(reg_tree_t2,\n",
    "                          out_file=out_file,\n",
    "                          feature_names=X2.columns,\n",
    "                          max_depth=10,\n",
    "                          filled=True,\n",
    "                          rounded=True,\n",
    "                          special_characters=True)\n",
    "if out_file is not None:\n",
    "    dot_data = Path(out_file).read_text()\n",
    "\n",
    "graphviz.Source(dot_data)"
   ]
  },
  {
   "cell_type": "markdown",
   "metadata": {},
   "source": [
    "### Compare with Linear Regression"
   ]
  },
  {
   "cell_type": "markdown",
   "metadata": {},
   "source": [
    "The OLS summary below and a visualization of the first two levels of the decision tree above reveal the striking differences between the models. The OLS model provides three parameters for the intercepts and the two features in line with the linear assumption.\n",
    "\n",
    "In contrast, the regression tree chart above displays for each node of the first two levels the feature and threshold used to split the data (note that features can be used repeatedly), as well as the current value of the mean-squared error (MSE), the number of samples, and predicted value based on these training samples."
   ]
  },
  {
   "cell_type": "markdown",
   "metadata": {},
   "source": [
    "The tree chart also highlights the uneven distribution of samples across the nodes as the numbers vary between 31,000 and 65,000 samples after only two splits."
   ]
  },
  {
   "cell_type": "markdown",
   "metadata": {},
   "source": [
    "#### statsmodels OLS"
   ]
  },
  {
   "cell_type": "code",
   "execution_count": 14,
   "metadata": {
    "ExecuteTime": {
     "end_time": "2018-10-31T22:06:45.762964Z",
     "start_time": "2018-10-31T22:06:45.561094Z"
    }
   },
   "outputs": [
    {
     "name": "stdout",
     "output_type": "stream",
     "text": [
      "                            OLS Regression Results                            \n",
      "==============================================================================\n",
      "Dep. Variable:                returns   R-squared:                       0.044\n",
      "Model:                            OLS   Adj. R-squared:                  0.044\n",
      "Method:                 Least Squares   F-statistic:                     627.5\n",
      "Date:                Sun, 17 May 2020   Prob (F-statistic):          3.24e-267\n",
      "Time:                        16:35:26   Log-Likelihood:                 99226.\n",
      "No. Observations:               27548   AIC:                        -1.984e+05\n",
      "Df Residuals:                   27545   BIC:                        -1.984e+05\n",
      "Df Model:                           2                                         \n",
      "Covariance Type:            nonrobust                                         \n",
      "==============================================================================\n",
      "                 coef    std err          t      P>|t|      [0.025      0.975]\n",
      "------------------------------------------------------------------------------\n",
      "const          0.0004   3.99e-05      8.874      0.000       0.000       0.000\n",
      "t-5            0.2054      0.006     34.730      0.000       0.194       0.217\n",
      "t-20           0.0241      0.006      4.081      0.000       0.013       0.036\n",
      "==============================================================================\n",
      "Omnibus:                      514.671   Durbin-Watson:                   1.663\n",
      "Prob(Omnibus):                  0.000   Jarque-Bera (JB):             1069.169\n",
      "Skew:                          -0.048   Prob(JB):                    6.81e-233\n",
      "Kurtosis:                       3.960   Cond. No.                         155.\n",
      "==============================================================================\n",
      "\n",
      "Warnings:\n",
      "[1] Standard Errors assume that the covariance matrix of the errors is correctly specified.\n"
     ]
    }
   ],
   "source": [
    "ols_model = sm.OLS(endog=y, exog=sm.add_constant(X2)).fit()\n",
    "print(ols_model.summary())"
   ]
  },
  {
   "cell_type": "markdown",
   "metadata": {},
   "source": [
    "### Compare with Linear Time Series Models"
   ]
  },
  {
   "cell_type": "markdown",
   "metadata": {},
   "source": [
    "#### statsmodels AR(2) Model"
   ]
  },
  {
   "cell_type": "markdown",
   "metadata": {},
   "source": [
    "Coefficients slighty different because AR model treats returns as a single time series instead creating groups by ticker."
   ]
  },
  {
   "cell_type": "code",
   "execution_count": 15,
   "metadata": {
    "ExecuteTime": {
     "end_time": "2018-10-31T22:07:32.482806Z",
     "start_time": "2018-10-31T22:07:27.792548Z"
    }
   },
   "outputs": [],
   "source": [
    "ar_model = sm.tsa.ARMA(endog=y, order=(2,0)).fit()"
   ]
  },
  {
   "cell_type": "code",
   "execution_count": 16,
   "metadata": {
    "ExecuteTime": {
     "end_time": "2018-10-31T22:07:32.490833Z",
     "start_time": "2018-10-31T22:07:32.484038Z"
    }
   },
   "outputs": [
    {
     "data": {
      "text/html": [
       "<div>\n",
       "<style scoped>\n",
       "    .dataframe tbody tr th:only-of-type {\n",
       "        vertical-align: middle;\n",
       "    }\n",
       "\n",
       "    .dataframe tbody tr th {\n",
       "        vertical-align: top;\n",
       "    }\n",
       "\n",
       "    .dataframe thead th {\n",
       "        text-align: right;\n",
       "    }\n",
       "</style>\n",
       "<table border=\"1\" class=\"dataframe\">\n",
       "  <thead>\n",
       "    <tr style=\"text-align: right;\">\n",
       "      <th></th>\n",
       "      <th>AR(2)</th>\n",
       "      <th>OLS</th>\n",
       "    </tr>\n",
       "  </thead>\n",
       "  <tbody>\n",
       "    <tr>\n",
       "      <th>const</th>\n",
       "      <td>0.000460</td>\n",
       "      <td>0.000354</td>\n",
       "    </tr>\n",
       "    <tr>\n",
       "      <th>t-5</th>\n",
       "      <td>0.188720</td>\n",
       "      <td>0.205361</td>\n",
       "    </tr>\n",
       "    <tr>\n",
       "      <th>t-20</th>\n",
       "      <td>0.192433</td>\n",
       "      <td>0.024139</td>\n",
       "    </tr>\n",
       "  </tbody>\n",
       "</table>\n",
       "</div>"
      ],
      "text/plain": [
       "          AR(2)       OLS\n",
       "const  0.000460  0.000354\n",
       "t-5    0.188720  0.205361\n",
       "t-20   0.192433  0.024139"
      ]
     },
     "execution_count": 16,
     "metadata": {},
     "output_type": "execute_result"
    }
   ],
   "source": [
    "pd.DataFrame({'AR(2)': ar_model.params.values, \n",
    "              'OLS': ols_model.params.values}, \n",
    "             index=ols_model.params.index)"
   ]
  },
  {
   "cell_type": "code",
   "execution_count": 17,
   "metadata": {
    "ExecuteTime": {
     "end_time": "2018-10-31T22:07:32.604890Z",
     "start_time": "2018-10-31T22:07:32.492041Z"
    }
   },
   "outputs": [],
   "source": [
    "ar_preds = ar_model.predict()"
   ]
  },
  {
   "cell_type": "markdown",
   "metadata": {},
   "source": [
    "#### ARMA(2,2)"
   ]
  },
  {
   "cell_type": "code",
   "execution_count": null,
   "metadata": {
    "ExecuteTime": {
     "end_time": "2018-10-31T22:34:16.066091Z",
     "start_time": "2018-10-31T22:06:38.840Z"
    },
    "scrolled": true
   },
   "outputs": [],
   "source": [
    "arma_model = sm.tsa.ARMA(endog=y, order=(2, 2)).fit()\n",
    "print(arma_model.summary())"
   ]
  },
  {
   "cell_type": "code",
   "execution_count": null,
   "metadata": {
    "ExecuteTime": {
     "end_time": "2018-10-31T22:34:16.068811Z",
     "start_time": "2018-10-31T22:06:38.854Z"
    }
   },
   "outputs": [],
   "source": [
    "arma_preds = arma_model.predict()"
   ]
  },
  {
   "cell_type": "code",
   "execution_count": null,
   "metadata": {
    "ExecuteTime": {
     "end_time": "2018-10-31T22:34:16.074680Z",
     "start_time": "2018-10-31T22:06:38.862Z"
    }
   },
   "outputs": [],
   "source": [
    "preds = X2.assign(arma=arma_preds, ar=ar_preds).sample(frac=.1).sort_values(['t-5', 't-20'])\n",
    "preds.info()"
   ]
  },
  {
   "cell_type": "code",
   "execution_count": null,
   "metadata": {
    "ExecuteTime": {
     "end_time": "2018-10-31T22:34:16.076706Z",
     "start_time": "2018-10-31T22:06:38.865Z"
    }
   },
   "outputs": [],
   "source": [
    "q = 4\n",
    "preds['t-5q'] = pd.qcut(preds['t-5'], q=q, labels=list(range(1, q+1)), duplicates='drop').astype(int)\n",
    "preds['t-20q'] = pd.qcut(preds['t-20'], q=q, labels=list(range(1, q+1))).astype(int)"
   ]
  },
  {
   "cell_type": "markdown",
   "metadata": {},
   "source": [
    "#### Decision Surfaces"
   ]
  },
  {
   "cell_type": "markdown",
   "metadata": {},
   "source": [
    "The plot of the decision surface for both time series models illustrates how the ARMA model is capable of representing a more complex dynamic relationship."
   ]
  },
  {
   "cell_type": "code",
   "execution_count": null,
   "metadata": {
    "ExecuteTime": {
     "end_time": "2018-10-31T22:34:16.077708Z",
     "start_time": "2018-10-31T22:06:38.875Z"
    }
   },
   "outputs": [],
   "source": [
    "fig, axes = plt.subplots(ncols=2, figsize=(14, 6))\n",
    "sns.heatmap(preds.groupby(['t-5q', 't-20q']).ar.median().unstack(), ax=axes[0], cmap='BuPu_r')\n",
    "axes[0].set_title('AR(2) Model')\n",
    "sns.heatmap(preds.groupby(['t-5q', 't-20q']).arma.median().unstack(), ax=axes[1], cmap='BuPu_r')\n",
    "axes[1].set_title('ARMA(2,2) Model')\n",
    "fig.tight_layout();"
   ]
  },
  {
   "cell_type": "markdown",
   "metadata": {},
   "source": [
    "### sklearn Linear Regression"
   ]
  },
  {
   "cell_type": "code",
   "execution_count": null,
   "metadata": {
    "ExecuteTime": {
     "end_time": "2018-10-31T22:34:16.078692Z",
     "start_time": "2018-10-31T22:06:38.882Z"
    }
   },
   "outputs": [],
   "source": [
    "lin_reg = LinearRegression()"
   ]
  },
  {
   "cell_type": "code",
   "execution_count": null,
   "metadata": {
    "ExecuteTime": {
     "end_time": "2018-10-31T22:34:16.079858Z",
     "start_time": "2018-10-31T22:06:38.885Z"
    }
   },
   "outputs": [],
   "source": [
    "# %%timeit\n",
    "lin_reg.fit(X=X2,y=y)"
   ]
  },
  {
   "cell_type": "code",
   "execution_count": null,
   "metadata": {
    "ExecuteTime": {
     "end_time": "2018-10-31T22:34:16.084325Z",
     "start_time": "2018-10-31T22:06:38.897Z"
    }
   },
   "outputs": [],
   "source": [
    "lin_reg.intercept_"
   ]
  },
  {
   "cell_type": "code",
   "execution_count": null,
   "metadata": {
    "ExecuteTime": {
     "end_time": "2018-10-31T22:34:16.085484Z",
     "start_time": "2018-10-31T22:06:38.901Z"
    }
   },
   "outputs": [],
   "source": [
    "lin_reg.coef_"
   ]
  },
  {
   "cell_type": "markdown",
   "metadata": {},
   "source": [
    "### Linear Regression vs Regressin Tree Decision Surfaces"
   ]
  },
  {
   "cell_type": "markdown",
   "metadata": {},
   "source": [
    "To further illustrate the different assumptions about the functional form of the relationships between the input variables and the output, we can visualize current return predictions as a function of the feature space, that is, as a function of the range of values for the lagged returns. The following figure shows the current period return as a function of returns one and two periods ago for linear regression and the regression tree:\n",
    "\n",
    "The linear-regression model result on the right side underlines the linearity of the relationship between lagged and current returns, whereas the regression tree chart on the left illustrates the non-linear relationship encoded in the recursive partitioning of the feature space."
   ]
  },
  {
   "cell_type": "code",
   "execution_count": null,
   "metadata": {
    "ExecuteTime": {
     "end_time": "2018-10-31T22:34:16.087092Z",
     "start_time": "2018-10-31T22:06:38.904Z"
    }
   },
   "outputs": [],
   "source": [
    "t1, t2 = np.meshgrid(np.linspace(X2['t-5'].quantile(.01), X2['t-5'].quantile(.99), 100),\n",
    "                     np.linspace(X2['t-20'].quantile(.01), X2['t-20'].quantile(.99), 100))\n",
    "X_data = np.c_[t1.ravel(), t2.ravel()]"
   ]
  },
  {
   "cell_type": "code",
   "execution_count": null,
   "metadata": {
    "ExecuteTime": {
     "end_time": "2018-10-31T22:34:16.089090Z",
     "start_time": "2018-10-31T22:06:38.922Z"
    },
    "scrolled": false
   },
   "outputs": [],
   "source": [
    "fig, axes = plt.subplots(ncols=2, figsize=(12,5))\n",
    "\n",
    "# Linear Regression\n",
    "ret1 = lin_reg.predict(X_data).reshape(t1.shape)\n",
    "surface1 = axes[0].contourf(t1, t2, ret1, cmap='Blues')\n",
    "plt.colorbar(mappable=surface1, ax=axes[0])\n",
    "\n",
    "# Regression Tree\n",
    "ret2 = reg_tree_t2.predict(X_data).reshape(t1.shape)\n",
    "surface2 = axes[1].contourf(t1, t2, ret2, cmap='Blues')\n",
    "# surface2 = axes[1].contourf(t1, t2, np.clip(ret2, a_min=-.05, a_max=.05), cmap='Blues')\n",
    "plt.colorbar(mappable=surface2, ax=axes[1])\n",
    "\n",
    "# Format plots\n",
    "titles = ['Linear Regression', 'Regression Tree']\n",
    "for i, ax in enumerate(axes):\n",
    "    ax.set_xlabel('t-5')\n",
    "    ax.set_ylabel('t-20')\n",
    "    ax.set_title(titles[i])\n",
    "\n",
    "fig.suptitle('Decision Surfaces', fontsize=20)\n",
    "fig.tight_layout()\n",
    "fig.subplots_adjust(top=.9);"
   ]
  },
  {
   "cell_type": "markdown",
   "metadata": {},
   "source": [
    "## Simple Classification Tree"
   ]
  },
  {
   "cell_type": "markdown",
   "metadata": {},
   "source": [
    "A classification tree works just like the regression version, except that categorical nature of the outcome requires a different approach to making predictions and measuring the loss. While a regression tree predicts the response for an observation assigned to a leaf node using the mean outcome of the associated training samples, a classification tree instead uses the mode, that is, the most common class among the training samples in the relevant region. A classification tree can also generate probabilistic predictions based on relative class frequencies."
   ]
  },
  {
   "cell_type": "markdown",
   "metadata": {},
   "source": [
    "### Loss Functions"
   ]
  },
  {
   "cell_type": "markdown",
   "metadata": {},
   "source": [
    "When growing a classification tree, we also use recursive binary splitting but, instead of evaluating the quality of a decision rule using the reduction of the mean-squared error, we can use the classification error rate, which is simply the fraction of the training samples in a given (leave) node that do not belong to the most common class."
   ]
  },
  {
   "cell_type": "markdown",
   "metadata": {},
   "source": [
    "However, the alternative measures, Gini Index or Cross-Entropy, are preferred because they are more sensitive to node purity than the classification error rate. Node purity refers to the extent of the preponderance of a single class in a node. A node that only contains samples with outcomes belonging to a single class is pure and imply successful classification for this particular region of the feature space. "
   ]
  },
  {
   "cell_type": "code",
   "execution_count": null,
   "metadata": {
    "ExecuteTime": {
     "end_time": "2018-10-31T22:34:16.095170Z",
     "start_time": "2018-10-31T22:06:38.934Z"
    }
   },
   "outputs": [],
   "source": [
    "def entropy(f):\n",
    "    return (-f*np.log2(f) - (1-f)*np.log2(1-f))/2"
   ]
  },
  {
   "cell_type": "code",
   "execution_count": null,
   "metadata": {
    "ExecuteTime": {
     "end_time": "2018-10-31T22:34:16.096711Z",
     "start_time": "2018-10-31T22:06:38.943Z"
    }
   },
   "outputs": [],
   "source": [
    "def gini(f):\n",
    "    return 2*f*(1-f)"
   ]
  },
  {
   "cell_type": "code",
   "execution_count": null,
   "metadata": {
    "ExecuteTime": {
     "end_time": "2018-10-31T22:34:16.098059Z",
     "start_time": "2018-10-31T22:06:38.952Z"
    }
   },
   "outputs": [],
   "source": [
    "def misclassification_rate(f):\n",
    "    return np.where(f<=.5, f, 1-f)"
   ]
  },
  {
   "cell_type": "markdown",
   "metadata": {},
   "source": [
    "Both the Gini Impurity and the Cross-Entropy measure take on smaller values when the class proportions approach zero or one, that is, when the child nodes become pure as a result of the split and are highest when the class proportions are even or 0.5 in the binary case. \n",
    "\n",
    "The chart below visualizes the values assumed by these two measures and the misclassification error rates across the [0, 1] interval of proportions."
   ]
  },
  {
   "cell_type": "code",
   "execution_count": null,
   "metadata": {
    "ExecuteTime": {
     "end_time": "2018-10-31T22:34:16.100377Z",
     "start_time": "2018-10-31T22:06:38.969Z"
    }
   },
   "outputs": [],
   "source": [
    "x = np.linspace(0, 1, 10000)\n",
    "(pd.DataFrame({'Gini': gini(x), \n",
    "              'Entropy': entropy(x),\n",
    "             'Misclassification Rate': misclassification_rate(x)}, index=x)\n",
    " .plot(title='Classification Loss Functions', lw=2));"
   ]
  },
  {
   "cell_type": "markdown",
   "metadata": {},
   "source": [
    "#### Compare computation time"
   ]
  },
  {
   "cell_type": "markdown",
   "metadata": {},
   "source": [
    "Gini is often preferred over entropy because it computes faster:"
   ]
  },
  {
   "cell_type": "code",
   "execution_count": null,
   "metadata": {
    "ExecuteTime": {
     "end_time": "2018-10-31T22:34:16.103157Z",
     "start_time": "2018-10-31T22:06:38.978Z"
    }
   },
   "outputs": [],
   "source": [
    "%%timeit\n",
    "misclassification_rate(x)"
   ]
  },
  {
   "cell_type": "code",
   "execution_count": null,
   "metadata": {
    "ExecuteTime": {
     "end_time": "2018-10-31T22:34:16.105649Z",
     "start_time": "2018-10-31T22:06:38.986Z"
    }
   },
   "outputs": [],
   "source": [
    "%%timeit\n",
    "gini(x)"
   ]
  },
  {
   "cell_type": "code",
   "execution_count": null,
   "metadata": {
    "ExecuteTime": {
     "end_time": "2018-10-31T22:34:16.106843Z",
     "start_time": "2018-10-31T22:06:38.994Z"
    }
   },
   "outputs": [],
   "source": [
    "%%timeit\n",
    "entropy(x)"
   ]
  },
  {
   "cell_type": "markdown",
   "metadata": {},
   "source": [
    "### Configure Tree"
   ]
  },
  {
   "cell_type": "code",
   "execution_count": null,
   "metadata": {
    "ExecuteTime": {
     "end_time": "2018-10-31T22:34:16.109952Z",
     "start_time": "2018-10-31T22:06:39.005Z"
    }
   },
   "outputs": [],
   "source": [
    "clf_tree_t2 = DecisionTreeClassifier(criterion='gini',\n",
    "                                     splitter='best',\n",
    "                                     max_depth=4,\n",
    "                                     min_samples_split=2,\n",
    "                                     min_samples_leaf=1,\n",
    "                                     min_weight_fraction_leaf=0.0,\n",
    "                                     max_features=None,\n",
    "                                     random_state=42,\n",
    "                                     max_leaf_nodes=None,\n",
    "                                     min_impurity_decrease=0.0,\n",
    "                                     min_impurity_split=None,\n",
    "                                     class_weight=None,\n",
    "                                     presort=False)"
   ]
  },
  {
   "cell_type": "markdown",
   "metadata": {},
   "source": [
    "### Train Tree"
   ]
  },
  {
   "cell_type": "code",
   "execution_count": null,
   "metadata": {
    "ExecuteTime": {
     "end_time": "2018-10-31T22:34:16.111002Z",
     "start_time": "2018-10-31T22:06:39.017Z"
    },
    "scrolled": true
   },
   "outputs": [],
   "source": [
    "# %%timeit\n",
    "clf_tree_t2.fit(X=X2, y=y_binary)"
   ]
  },
  {
   "cell_type": "markdown",
   "metadata": {},
   "source": [
    "### Visualize Tree"
   ]
  },
  {
   "cell_type": "code",
   "execution_count": null,
   "metadata": {
    "ExecuteTime": {
     "end_time": "2018-10-31T22:34:16.115952Z",
     "start_time": "2018-10-31T22:06:39.049Z"
    }
   },
   "outputs": [],
   "source": [
    "out_file = 'figures/clf_tree_t2.dot'\n",
    "dot_data = export_graphviz(clf_tree_t2,\n",
    "                           out_file=out_file,\n",
    "                           feature_names=X2.columns,\n",
    "                           class_names=['Down', 'Up'],\n",
    "                           max_depth=10,\n",
    "                           filled=True,\n",
    "                           rounded=True,\n",
    "                           special_characters=True)\n",
    "if out_file is not None:\n",
    "    dot_data = Path(out_file).read_text()\n",
    "\n",
    "g = graphviz.Source(dot_data,format=\"png\")\n",
    "g.render()"
   ]
  },
  {
   "cell_type": "markdown",
   "metadata": {},
   "source": [
    "### Compare with Logistic Regression"
   ]
  },
  {
   "cell_type": "markdown",
   "metadata": {},
   "source": [
    "#### Statsmodels"
   ]
  },
  {
   "cell_type": "code",
   "execution_count": null,
   "metadata": {
    "ExecuteTime": {
     "end_time": "2018-10-31T22:34:16.120856Z",
     "start_time": "2018-10-31T22:06:39.068Z"
    }
   },
   "outputs": [],
   "source": [
    "model = sm.Logit(endog=y_binary, exog=sm.add_constant(X2)).fit()\n",
    "print(model.summary())"
   ]
  },
  {
   "cell_type": "markdown",
   "metadata": {},
   "source": [
    "#### sklearn"
   ]
  },
  {
   "cell_type": "code",
   "execution_count": null,
   "metadata": {
    "ExecuteTime": {
     "end_time": "2018-10-31T22:34:16.124316Z",
     "start_time": "2018-10-31T22:06:39.078Z"
    }
   },
   "outputs": [],
   "source": [
    "logistic_reg = LogisticRegression()"
   ]
  },
  {
   "cell_type": "code",
   "execution_count": null,
   "metadata": {
    "ExecuteTime": {
     "end_time": "2018-10-31T22:34:16.125951Z",
     "start_time": "2018-10-31T22:06:39.086Z"
    }
   },
   "outputs": [],
   "source": [
    "# %%timeit\n",
    "logistic_reg.fit(X=X2, y=y_binary)"
   ]
  },
  {
   "cell_type": "code",
   "execution_count": null,
   "metadata": {
    "ExecuteTime": {
     "end_time": "2018-10-31T22:34:16.129350Z",
     "start_time": "2018-10-31T22:06:39.094Z"
    }
   },
   "outputs": [],
   "source": [
    "logistic_reg.coef_"
   ]
  },
  {
   "cell_type": "markdown",
   "metadata": {},
   "source": [
    "### Plot Decision Surfaces"
   ]
  },
  {
   "cell_type": "code",
   "execution_count": null,
   "metadata": {
    "ExecuteTime": {
     "end_time": "2018-10-31T22:34:16.132367Z",
     "start_time": "2018-10-31T22:06:39.105Z"
    }
   },
   "outputs": [],
   "source": [
    "fig, axes = plt.subplots(ncols=2, figsize=(12,5))\n",
    "\n",
    "# Linear Regression\n",
    "ret1 = logistic_reg.predict_proba(X_data)[:, 1].reshape(t1.shape)\n",
    "surface1 = axes[0].contourf(t1, t2, ret1, cmap='Blues')\n",
    "plt.colorbar(mappable=surface1, ax=axes[0])\n",
    "\n",
    "# Regression Tree\n",
    "ret2 = clf_tree_t2.predict_proba(X_data)[:, 1].reshape(t1.shape)\n",
    "surface2 = axes[1].contourf(t1, t2, ret2, cmap='Blues')\n",
    "plt.colorbar(mappable=surface2, ax=axes[1])\n",
    "\n",
    "# Format plots\n",
    "titles = ['Logistic Regression', 'Classification Tree']\n",
    "for i, ax in enumerate(axes):\n",
    "    ax.set_xlabel('t-5')\n",
    "    ax.set_ylabel('t-20')\n",
    "    ax.set_title(titles[i])\n",
    "\n",
    "fig.suptitle('Decision Surfaces', fontsize=20)\n",
    "fig.tight_layout()\n",
    "fig.subplots_adjust(top=.9);"
   ]
  },
  {
   "cell_type": "markdown",
   "metadata": {},
   "source": [
    "## Regression Tree with all Features"
   ]
  },
  {
   "cell_type": "markdown",
   "metadata": {},
   "source": [
    "We now train, visualize, and evaluate a regression tree with up to 5 consecutive splits using 80% of the samples for training to predict the remaining 20%.\n",
    "\n",
    "We are taking a shortcut here to simplify the illustration and use the built-in train_test_split, which does not protect against lookahead bias, as our custom iterator. The tree configuration implies up to $2^5=32$ leaf nodes that, on average in the balanced case, would contain over 4,300 of the training samples."
   ]
  },
  {
   "cell_type": "markdown",
   "metadata": {},
   "source": [
    "### Train-Test Split"
   ]
  },
  {
   "cell_type": "code",
   "execution_count": null,
   "metadata": {
    "ExecuteTime": {
     "end_time": "2018-10-31T22:34:16.162314Z",
     "start_time": "2018-10-31T22:06:39.234Z"
    }
   },
   "outputs": [],
   "source": [
    "X_train, X_test, y_train, y_test = train_test_split(X, y, test_size=0.2, random_state=42)"
   ]
  },
  {
   "cell_type": "code",
   "execution_count": null,
   "metadata": {},
   "outputs": [],
   "source": [
    "print( y_test)"
   ]
  },
  {
   "cell_type": "markdown",
   "metadata": {},
   "source": [
    "### Configure Tree"
   ]
  },
  {
   "cell_type": "markdown",
   "metadata": {},
   "source": [
    "The output after training the model displays all the DecisionTreeClassifier parameters that we will address in more detail in the next section when we discuss parameter-tuning. "
   ]
  },
  {
   "cell_type": "code",
   "execution_count": null,
   "metadata": {
    "ExecuteTime": {
     "end_time": "2018-10-31T22:34:16.163307Z",
     "start_time": "2018-10-31T22:06:39.243Z"
    }
   },
   "outputs": [],
   "source": [
    "regression_tree = DecisionTreeRegressor(criterion='mse',\n",
    "                                        splitter='best',\n",
    "                                        max_depth=5,\n",
    "                                        min_samples_split=2,\n",
    "                                        min_samples_leaf=1,\n",
    "                                        min_weight_fraction_leaf=0.0,\n",
    "                                        max_features=None,\n",
    "                                        random_state=42,\n",
    "                                        max_leaf_nodes=None,\n",
    "                                        min_impurity_decrease=0.0,\n",
    "                                        min_impurity_split=None,\n",
    "                                        presort=False)"
   ]
  },
  {
   "cell_type": "markdown",
   "metadata": {},
   "source": [
    "### Train Model"
   ]
  },
  {
   "cell_type": "code",
   "execution_count": null,
   "metadata": {
    "ExecuteTime": {
     "end_time": "2018-10-31T22:34:16.164295Z",
     "start_time": "2018-10-31T22:06:39.252Z"
    },
    "scrolled": true
   },
   "outputs": [],
   "source": [
    "regression_tree.fit(X=X_train, y=y_train)"
   ]
  },
  {
   "cell_type": "markdown",
   "metadata": {},
   "source": [
    "### Visualize Tree"
   ]
  },
  {
   "cell_type": "markdown",
   "metadata": {},
   "source": [
    "The result shows that the model uses a variety of different features and indicates the split rules for both continuous and categorical (dummy) variables. "
   ]
  },
  {
   "cell_type": "code",
   "execution_count": null,
   "metadata": {
    "ExecuteTime": {
     "end_time": "2018-10-31T22:34:16.165329Z",
     "start_time": "2018-10-31T22:06:39.261Z"
    },
    "scrolled": false
   },
   "outputs": [],
   "source": [
    "out_file = 'figures/reg_tree.dot'\n",
    "dot_data = export_graphviz(regression_tree,\n",
    "                           out_file=out_file,\n",
    "                           feature_names=X_train.columns,\n",
    "                           max_depth=10,\n",
    "                           filled=True,\n",
    "                           rounded=True,\n",
    "                           special_characters=True)\n",
    "if out_file is not None:\n",
    "    dot_data = Path(out_file).read_text()\n",
    "\n",
    "graphviz.Source(dot_data)"
   ]
  },
  {
   "cell_type": "markdown",
   "metadata": {},
   "source": [
    "### Evaluate Test Set"
   ]
  },
  {
   "cell_type": "code",
   "execution_count": null,
   "metadata": {
    "ExecuteTime": {
     "end_time": "2018-10-31T22:34:16.166403Z",
     "start_time": "2018-10-31T22:06:39.270Z"
    }
   },
   "outputs": [],
   "source": [
    "y_pred = regression_tree.predict(X_test)"
   ]
  },
  {
   "cell_type": "code",
   "execution_count": null,
   "metadata": {
    "ExecuteTime": {
     "end_time": "2018-10-31T22:34:16.169601Z",
     "start_time": "2018-10-31T22:06:39.277Z"
    }
   },
   "outputs": [],
   "source": [
    "np.sqrt(mean_squared_error(y_pred=y_pred, y_true=y_test))"
   ]
  },
  {
   "cell_type": "markdown",
   "metadata": {},
   "source": [
    "## Classification Tree with all Features"
   ]
  },
  {
   "cell_type": "markdown",
   "metadata": {},
   "source": [
    "We will now train, visualize, and evaluate a classification tree with up to 5 consecutive splits using 80% of the samples for training to predict the remaining 20%. We are taking a shortcut here to simplify the illustration and use the built-in train_test_split, which does not protect against lookahead bias, as our custom iterator. The tree configuration implies up to $2^5=32$ leaf nodes that, on average in the balanced case, would contain over 4,300 of the training samples."
   ]
  },
  {
   "cell_type": "markdown",
   "metadata": {},
   "source": [
    "### Train-Test Split"
   ]
  },
  {
   "cell_type": "code",
   "execution_count": null,
   "metadata": {
    "ExecuteTime": {
     "end_time": "2018-10-31T22:34:16.143123Z",
     "start_time": "2018-10-31T22:06:39.172Z"
    }
   },
   "outputs": [],
   "source": [
    "X_train, X_test, y_train, y_test = train_test_split(X, y_binary, test_size=0.2, random_state=42)"
   ]
  },
  {
   "cell_type": "code",
   "execution_count": null,
   "metadata": {
    "ExecuteTime": {
     "end_time": "2018-10-31T22:34:16.144442Z",
     "start_time": "2018-10-31T22:06:39.181Z"
    }
   },
   "outputs": [],
   "source": [
    "clf = DecisionTreeClassifier(criterion='gini',\n",
    "                             max_depth=5,\n",
    "                             random_state=42)"
   ]
  },
  {
   "cell_type": "code",
   "execution_count": null,
   "metadata": {
    "ExecuteTime": {
     "end_time": "2018-10-31T22:34:16.148241Z",
     "start_time": "2018-10-31T22:06:39.190Z"
    }
   },
   "outputs": [],
   "source": [
    "clf.fit(X=X_train, y=y_train)"
   ]
  },
  {
   "cell_type": "markdown",
   "metadata": {},
   "source": [
    "To evaluate the predictive accuracy of our first classification tree, we will use our test set to generate predicted class probabilities. \n",
    "\n",
    "The `.predict_proba()` method produces one probability for each class. In the binary class, these probabilities are complementary and sum to 1, so we only need the value for the positive class. "
   ]
  },
  {
   "cell_type": "code",
   "execution_count": null,
   "metadata": {
    "ExecuteTime": {
     "end_time": "2018-10-31T22:34:16.150012Z",
     "start_time": "2018-10-31T22:06:39.198Z"
    }
   },
   "outputs": [],
   "source": [
    "y_score = clf.predict_proba(X=X_test)[:, 1]"
   ]
  },
  {
   "cell_type": "markdown",
   "metadata": {},
   "source": [
    "To evaluate the generalization error, we will use the area under the curve based on the receiver-operating characteristic that we introduced in Chapter 6, The Machine Learning Process. The result indicates a significant improvement above and beyond the baseline value of 0.5 for a random prediction:"
   ]
  },
  {
   "cell_type": "code",
   "execution_count": null,
   "metadata": {},
   "outputs": [],
   "source": [
    "roc_auc_score(y_score=y_score, y_true=y_test)"
   ]
  },
  {
   "cell_type": "markdown",
   "metadata": {},
   "source": [
    "### Plot Tree"
   ]
  },
  {
   "cell_type": "raw",
   "metadata": {
    "ExecuteTime": {
     "end_time": "2018-10-31T22:34:16.151746Z",
     "start_time": "2018-10-31T22:06:39.207Z"
    }
   },
   "source": [
    "out_file = 'figures/clf_tree.dot'\n",
    "dot_data = export_graphviz(clf,\n",
    "                           out_file=out_file,\n",
    "                           feature_names=X.columns,\n",
    "                           class_names=['Down', 'Up'],\n",
    "                           max_depth=3,\n",
    "                           filled=True,\n",
    "                           rounded=True,\n",
    "                           special_characters=True)\n",
    "if out_file is not None:\n",
    "    dot_data = Path(out_file).read_text()\n",
    "\n",
    "graphviz.Source(dot_data)"
   ]
  },
  {
   "cell_type": "markdown",
   "metadata": {},
   "source": [
    "### Evaluate Test Set"
   ]
  },
  {
   "cell_type": "code",
   "execution_count": null,
   "metadata": {
    "ExecuteTime": {
     "end_time": "2018-10-31T22:34:16.160193Z",
     "start_time": "2018-10-31T22:06:39.216Z"
    }
   },
   "outputs": [],
   "source": [
    "y_pred = clf.predict_proba(X_test)[:, 1]"
   ]
  },
  {
   "cell_type": "code",
   "execution_count": null,
   "metadata": {
    "ExecuteTime": {
     "end_time": "2018-10-31T22:34:16.161309Z",
     "start_time": "2018-10-31T22:06:39.223Z"
    }
   },
   "outputs": [],
   "source": [
    "roc_auc_score(y_true=y_test, y_score=y_pred)"
   ]
  },
  {
   "cell_type": "markdown",
   "metadata": {},
   "source": [
    "### Print Decision Path"
   ]
  },
  {
   "cell_type": "markdown",
   "metadata": {},
   "source": [
    "Inspired by https://stackoverflow.com/questions/20224526/how-to-extract-the-decision-rules-from-scikit-learn-decision-tree"
   ]
  },
  {
   "cell_type": "code",
   "execution_count": null,
   "metadata": {
    "ExecuteTime": {
     "end_time": "2018-10-31T22:34:16.134173Z",
     "start_time": "2018-10-31T22:06:39.125Z"
    }
   },
   "outputs": [],
   "source": [
    "from sklearn.tree._tree import Tree\n",
    "help(Tree)"
   ]
  },
  {
   "cell_type": "code",
   "execution_count": null,
   "metadata": {
    "ExecuteTime": {
     "end_time": "2018-10-31T22:34:16.140502Z",
     "start_time": "2018-10-31T22:06:39.134Z"
    }
   },
   "outputs": [],
   "source": [
    "def tree_to_code(tree, feature_names):\n",
    "    if isinstance(tree, DecisionTreeClassifier):\n",
    "        model = 'clf'\n",
    "    elif isinstance(tree, DecisionTreeRegressor):\n",
    "        model = 'reg'\n",
    "    else:\n",
    "        raise ValueError('Need Regression or Classification Tree')\n",
    "        \n",
    "    tree_ = tree.tree_\n",
    "    feature_name = [\n",
    "        feature_names[i] if i != _tree.TREE_UNDEFINED else \"undefined!\"\n",
    "        for i in tree_.feature\n",
    "    ]\n",
    "    print(\"def tree({}):\".format(\", \".join(feature_names)))\n",
    "\n",
    "    def recurse(node, depth):\n",
    "        indent = \"  \" * depth\n",
    "        if tree_.feature[node] != _tree.TREE_UNDEFINED:\n",
    "            name = feature_name[node]\n",
    "            threshold = tree_.threshold[node]\n",
    "            print(indent, f'if {name} <= {threshold:.2%}')\n",
    "            recurse(tree_.children_left[node], depth + 1)\n",
    "            print(indent, f'else:  # if {name} > {threshold:.2%}')\n",
    "            recurse(tree_.children_right[node], depth + 1)\n",
    "        else:\n",
    "            pred = tree_.value[node][0]\n",
    "            val = pred[1]/sum(pred) if model == 'clf' else pred[0]\n",
    "            print(indent, f'return {val:.2%}')\n",
    "    recurse(0, 1)"
   ]
  },
  {
   "cell_type": "code",
   "execution_count": null,
   "metadata": {
    "ExecuteTime": {
     "end_time": "2018-10-31T22:34:16.142001Z",
     "start_time": "2018-10-31T22:06:39.142Z"
    }
   },
   "outputs": [],
   "source": [
    "tree_to_code(clf_tree_t2, X2.columns)"
   ]
  },
  {
   "cell_type": "code",
   "execution_count": null,
   "metadata": {},
   "outputs": [],
   "source": []
  }
 ],
 "metadata": {
  "kernelspec": {
   "display_name": "Python 3",
   "language": "python",
   "name": "python3"
  },
  "language_info": {
   "codemirror_mode": {
    "name": "ipython",
    "version": 3
   },
   "file_extension": ".py",
   "mimetype": "text/x-python",
   "name": "python",
   "nbconvert_exporter": "python",
   "pygments_lexer": "ipython3",
   "version": "3.7.6"
  },
  "toc": {
   "base_numbering": 1,
   "nav_menu": {},
   "number_sections": true,
   "sideBar": true,
   "skip_h1_title": true,
   "title_cell": "Table of Contents",
   "title_sidebar": "Contents",
   "toc_cell": false,
   "toc_position": {
    "height": "calc(100% - 180px)",
    "left": "10px",
    "top": "150px",
    "width": "343.837px"
   },
   "toc_section_display": true,
   "toc_window_display": true
  }
 },
 "nbformat": 4,
 "nbformat_minor": 2
}
