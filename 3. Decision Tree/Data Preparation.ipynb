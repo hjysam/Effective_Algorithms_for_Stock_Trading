{
 "cells": [
  {
   "cell_type": "markdown",
   "metadata": {},
   "source": [
    "# How to prepare the data"
   ]
  },
  {
   "cell_type": "markdown",
   "metadata": {},
   "source": [
    "We use a simplified version of the data set constructed in Chapter 4, Alpha factor research. It consists of daily stock prices provided by Quandl for the 2010-2017 period and various engineered features. \n",
    "\n",
    "The decision tree models in this chapter are not equipped to handle missing or categorical variables, so we will apply dummy encoding to the latter after dropping any of the former."
   ]
  },
  {
   "cell_type": "code",
   "execution_count": 1,
   "metadata": {
    "ExecuteTime": {
     "end_time": "2018-11-09T16:12:33.669796Z",
     "start_time": "2018-11-09T16:12:33.468906Z"
    }
   },
   "outputs": [
    {
     "name": "stderr",
     "output_type": "stream",
     "text": [
      "C:\\Users\\Elid-PC.DESKTOP-MG9DS93\\anaconda3\\lib\\site-packages\\pandas_datareader\\compat\\__init__.py:7: FutureWarning: pandas.util.testing is deprecated. Use the functions in the public API at pandas.testing instead.\n",
      "  from pandas.util.testing import assert_frame_equal\n"
     ]
    }
   ],
   "source": [
    "%matplotlib inline\n",
    "\n",
    "import warnings\n",
    "import os\n",
    "from pathlib import Path\n",
    "import numpy as np\n",
    "import pandas as pd\n",
    "from pandas_datareader import data as pdr\n",
    "import matplotlib.pyplot as plt\n",
    "import seaborn as sns\n",
    "import graphviz\n",
    "from sklearn.tree import DecisionTreeClassifier, DecisionTreeRegressor, export_graphviz, _tree\n",
    "from sklearn.linear_model import LinearRegression, Ridge, LogisticRegression\n",
    "from sklearn.model_selection import train_test_split, cross_val_score, GridSearchCV\n",
    "from sklearn.metrics import roc_auc_score, roc_curve, mean_squared_error, precision_recall_curve\n",
    "from sklearn.impute import SimpleImputer\n",
    "import statsmodels.api as sm\n",
    "from scipy.interpolate import interp1d, interp2d"
   ]
  },
  {
   "cell_type": "code",
   "execution_count": 2,
   "metadata": {
    "ExecuteTime": {
     "end_time": "2018-11-09T16:12:33.673698Z",
     "start_time": "2018-11-09T16:12:33.671186Z"
    }
   },
   "outputs": [],
   "source": [
    "warnings.filterwarnings('ignore')\n",
    "plt.style.use('ggplot')"
   ]
  },
  {
   "cell_type": "markdown",
   "metadata": {},
   "source": [
    "## Get Data"
   ]
  },
  {
   "cell_type": "code",
   "execution_count": 3,
   "metadata": {
    "ExecuteTime": {
     "end_time": "2018-11-09T16:12:37.806190Z",
     "start_time": "2018-11-09T16:12:37.788666Z"
    }
   },
   "outputs": [
    {
     "name": "stdout",
     "output_type": "stream",
     "text": [
      "<class 'pandas.core.frame.DataFrame'>\n",
      "DatetimeIndex: 755 entries, 2017-04-19 to 2020-04-17\n",
      "Data columns (total 28 columns):\n",
      " #   Column  Non-Null Count  Dtype  \n",
      "---  ------  --------------  -----  \n",
      " 0   AAPL    755 non-null    float64\n",
      " 1   AXP     755 non-null    float64\n",
      " 2   BA      755 non-null    float64\n",
      " 3   CAT     755 non-null    float64\n",
      " 4   CSCO    755 non-null    float64\n",
      " 5   CVX     755 non-null    float64\n",
      " 6   DIS     755 non-null    float64\n",
      " 7   GS      755 non-null    float64\n",
      " 8   HD      755 non-null    float64\n",
      " 9   IBM     755 non-null    float64\n",
      " 10  INTC    755 non-null    float64\n",
      " 11  JNJ     755 non-null    float64\n",
      " 12  JPM     755 non-null    float64\n",
      " 13  KO      755 non-null    float64\n",
      " 14  MCD     755 non-null    float64\n",
      " 15  MMM     755 non-null    float64\n",
      " 16  MRK     755 non-null    float64\n",
      " 17  MSFT    755 non-null    float64\n",
      " 18  NKE     755 non-null    float64\n",
      " 19  PFE     755 non-null    float64\n",
      " 20  PG      755 non-null    float64\n",
      " 21  TRV     755 non-null    float64\n",
      " 22  UNH     755 non-null    float64\n",
      " 23  V       755 non-null    float64\n",
      " 24  VZ      755 non-null    float64\n",
      " 25  WBA     755 non-null    float64\n",
      " 26  WMT     755 non-null    float64\n",
      " 27  XOM     755 non-null    float64\n",
      "dtypes: float64(28)\n",
      "memory usage: 171.1 KB\n"
     ]
    }
   ],
   "source": [
    "end_date = '2020-04-19'\n",
    "start_date = '2017-04-20'\n",
    "prices = pd.DataFrame(pdr.DataReader( 'AAPL','yahoo', start_date, end_date))\n",
    "# DJIA\n",
    "for ticker in ['AAPL','AXP','BA','CAT','CSCO','CVX','DIS','GS','HD','IBM',\n",
    "               'INTC','JNJ','JPM','KO','MCD','MMM','MRK','MSFT','NKE',\n",
    "               'PFE','PG','TRV','UNH','V','VZ','WBA','WMT','XOM']:\n",
    "    #Downloads data from Yahoo\n",
    "    prices[ticker] = pdr.DataReader( ticker,'yahoo', start_date, end_date)['Adj Close'].values\n",
    "    \n",
    "prices.drop(['High', 'Low', 'Open', 'Close', 'Volume', 'Adj Close'], axis = 1, inplace = True)   \n",
    "prices.info()\n"
   ]
  },
  {
   "cell_type": "markdown",
   "metadata": {},
   "source": [
    "### Create monthly return series"
   ]
  },
  {
   "cell_type": "markdown",
   "metadata": {},
   "source": [
    "Remove outliers"
   ]
  },
  {
   "cell_type": "code",
   "execution_count": 4,
   "metadata": {
    "ExecuteTime": {
     "end_time": "2018-11-09T16:12:37.918524Z",
     "start_time": "2018-11-09T16:12:37.885693Z"
    }
   },
   "outputs": [
    {
     "name": "stdout",
     "output_type": "stream",
     "text": [
      "<class 'pandas.core.frame.DataFrame'>\n",
      "MultiIndex: 27568 entries, ('AAPL', Timestamp('2017-04-20 00:00:00', freq='D')) to ('WMT', Timestamp('2020-04-17 00:00:00', freq='D'))\n",
      "Data columns (total 1 columns):\n",
      " #   Column   Non-Null Count  Dtype  \n",
      "---  ------   --------------  -----  \n",
      " 0   returns  27568 non-null  float64\n",
      "dtypes: float64(1)\n",
      "memory usage: 305.0+ KB\n"
     ]
    }
   ],
   "source": [
    "returns = []\n",
    "returns = prices.resample('D').last().pct_change().stack().swaplevel()\n",
    "returns = (returns[returns.between(left=returns.quantile(.05), \n",
    "                                   right=returns.quantile(.95))].to_frame('returns'))\n",
    "returns.rename_axis(['ticker','date'])\n",
    "returns.info()"
   ]
  },
  {
   "cell_type": "code",
   "execution_count": 5,
   "metadata": {},
   "outputs": [
    {
     "name": "stdout",
     "output_type": "stream",
     "text": [
      "<class 'pandas.core.frame.DataFrame'>\n",
      "MultiIndex: 27548 entries, ('UNH', Timestamp('2017-04-20 00:00:00', freq='D')) to ('WMT', Timestamp('2020-04-17 00:00:00', freq='D'))\n",
      "Data columns (total 3 columns):\n",
      " #   Column   Non-Null Count  Dtype  \n",
      "---  ------   --------------  -----  \n",
      " 0   returns  27548 non-null  float64\n",
      " 1   t-5      27548 non-null  float64\n",
      " 2   t-20     27548 non-null  float64\n",
      "dtypes: float64(3)\n",
      "memory usage: 735.2+ KB\n"
     ]
    }
   ],
   "source": [
    "for t in [5,20]:\n",
    "    returns[f't-{t}'] = returns.returns.shift(t)\n",
    "returns = returns.dropna()\n",
    "returns.info()"
   ]
  },
  {
   "cell_type": "code",
   "execution_count": 6,
   "metadata": {},
   "outputs": [
    {
     "data": {
      "text/html": [
       "<div>\n",
       "<style scoped>\n",
       "    .dataframe tbody tr th:only-of-type {\n",
       "        vertical-align: middle;\n",
       "    }\n",
       "\n",
       "    .dataframe tbody tr th {\n",
       "        vertical-align: top;\n",
       "    }\n",
       "\n",
       "    .dataframe thead th {\n",
       "        text-align: right;\n",
       "    }\n",
       "</style>\n",
       "<table border=\"1\" class=\"dataframe\">\n",
       "  <thead>\n",
       "    <tr style=\"text-align: right;\">\n",
       "      <th></th>\n",
       "      <th></th>\n",
       "      <th>returns</th>\n",
       "      <th>t-5</th>\n",
       "      <th>t-20</th>\n",
       "    </tr>\n",
       "    <tr>\n",
       "      <th></th>\n",
       "      <th>Date</th>\n",
       "      <th></th>\n",
       "      <th></th>\n",
       "      <th></th>\n",
       "    </tr>\n",
       "  </thead>\n",
       "  <tbody>\n",
       "    <tr>\n",
       "      <th>UNH</th>\n",
       "      <th>2017-04-20</th>\n",
       "      <td>0.013530</td>\n",
       "      <td>0.007073</td>\n",
       "      <td>0.012511</td>\n",
       "    </tr>\n",
       "    <tr>\n",
       "      <th>V</th>\n",
       "      <th>2017-04-20</th>\n",
       "      <td>0.015599</td>\n",
       "      <td>0.009667</td>\n",
       "      <td>0.005045</td>\n",
       "    </tr>\n",
       "    <tr>\n",
       "      <th>VZ</th>\n",
       "      <th>2017-04-20</th>\n",
       "      <td>-0.010830</td>\n",
       "      <td>0.003868</td>\n",
       "      <td>0.005513</td>\n",
       "    </tr>\n",
       "    <tr>\n",
       "      <th>WBA</th>\n",
       "      <th>2017-04-20</th>\n",
       "      <td>0.007544</td>\n",
       "      <td>-0.003013</td>\n",
       "      <td>0.006236</td>\n",
       "    </tr>\n",
       "    <tr>\n",
       "      <th>WMT</th>\n",
       "      <th>2017-04-20</th>\n",
       "      <td>0.009856</td>\n",
       "      <td>-0.012625</td>\n",
       "      <td>0.009320</td>\n",
       "    </tr>\n",
       "    <tr>\n",
       "      <th>...</th>\n",
       "      <th>...</th>\n",
       "      <td>...</td>\n",
       "      <td>...</td>\n",
       "      <td>...</td>\n",
       "    </tr>\n",
       "    <tr>\n",
       "      <th>MMM</th>\n",
       "      <th>2020-04-17</th>\n",
       "      <td>0.010766</td>\n",
       "      <td>0.012823</td>\n",
       "      <td>-0.001860</td>\n",
       "    </tr>\n",
       "    <tr>\n",
       "      <th>MRK</th>\n",
       "      <th>2020-04-17</th>\n",
       "      <td>0.005542</td>\n",
       "      <td>-0.004834</td>\n",
       "      <td>0.007946</td>\n",
       "    </tr>\n",
       "    <tr>\n",
       "      <th>MSFT</th>\n",
       "      <th>2020-04-17</th>\n",
       "      <td>0.008812</td>\n",
       "      <td>-0.013569</td>\n",
       "      <td>0.015153</td>\n",
       "    </tr>\n",
       "    <tr>\n",
       "      <th>VZ</th>\n",
       "      <th>2020-04-17</th>\n",
       "      <td>0.013874</td>\n",
       "      <td>-0.007074</td>\n",
       "      <td>-0.000482</td>\n",
       "    </tr>\n",
       "    <tr>\n",
       "      <th>WMT</th>\n",
       "      <th>2020-04-17</th>\n",
       "      <td>-0.001587</td>\n",
       "      <td>0.015701</td>\n",
       "      <td>-0.013060</td>\n",
       "    </tr>\n",
       "  </tbody>\n",
       "</table>\n",
       "<p>27548 rows × 3 columns</p>\n",
       "</div>"
      ],
      "text/plain": [
       "                  returns       t-5      t-20\n",
       "     Date                                    \n",
       "UNH  2017-04-20  0.013530  0.007073  0.012511\n",
       "V    2017-04-20  0.015599  0.009667  0.005045\n",
       "VZ   2017-04-20 -0.010830  0.003868  0.005513\n",
       "WBA  2017-04-20  0.007544 -0.003013  0.006236\n",
       "WMT  2017-04-20  0.009856 -0.012625  0.009320\n",
       "...                   ...       ...       ...\n",
       "MMM  2020-04-17  0.010766  0.012823 -0.001860\n",
       "MRK  2020-04-17  0.005542 -0.004834  0.007946\n",
       "MSFT 2020-04-17  0.008812 -0.013569  0.015153\n",
       "VZ   2020-04-17  0.013874 -0.007074 -0.000482\n",
       "WMT  2020-04-17 -0.001587  0.015701 -0.013060\n",
       "\n",
       "[27548 rows x 3 columns]"
      ]
     },
     "execution_count": 6,
     "metadata": {},
     "output_type": "execute_result"
    }
   ],
   "source": [
    "returns"
   ]
  },
  {
   "cell_type": "markdown",
   "metadata": {},
   "source": [
    "### Time Period Dummies"
   ]
  },
  {
   "cell_type": "code",
   "execution_count": 7,
   "metadata": {
    "ExecuteTime": {
     "end_time": "2018-11-09T16:12:38.143960Z",
     "start_time": "2018-11-09T16:12:38.091096Z"
    }
   },
   "outputs": [],
   "source": [
    "# returns = returns.reset_index('date')\n",
    "dates = returns.index.get_level_values('Date')"
   ]
  },
  {
   "cell_type": "code",
   "execution_count": 8,
   "metadata": {},
   "outputs": [
    {
     "data": {
      "text/html": [
       "<div>\n",
       "<style scoped>\n",
       "    .dataframe tbody tr th:only-of-type {\n",
       "        vertical-align: middle;\n",
       "    }\n",
       "\n",
       "    .dataframe tbody tr th {\n",
       "        vertical-align: top;\n",
       "    }\n",
       "\n",
       "    .dataframe thead th {\n",
       "        text-align: right;\n",
       "    }\n",
       "</style>\n",
       "<table border=\"1\" class=\"dataframe\">\n",
       "  <thead>\n",
       "    <tr style=\"text-align: right;\">\n",
       "      <th></th>\n",
       "      <th></th>\n",
       "      <th>returns</th>\n",
       "      <th>t-5</th>\n",
       "      <th>t-20</th>\n",
       "    </tr>\n",
       "    <tr>\n",
       "      <th></th>\n",
       "      <th>Date</th>\n",
       "      <th></th>\n",
       "      <th></th>\n",
       "      <th></th>\n",
       "    </tr>\n",
       "  </thead>\n",
       "  <tbody>\n",
       "    <tr>\n",
       "      <th>UNH</th>\n",
       "      <th>2017-04-20</th>\n",
       "      <td>0.013530</td>\n",
       "      <td>0.007073</td>\n",
       "      <td>0.012511</td>\n",
       "    </tr>\n",
       "    <tr>\n",
       "      <th>V</th>\n",
       "      <th>2017-04-20</th>\n",
       "      <td>0.015599</td>\n",
       "      <td>0.009667</td>\n",
       "      <td>0.005045</td>\n",
       "    </tr>\n",
       "    <tr>\n",
       "      <th>VZ</th>\n",
       "      <th>2017-04-20</th>\n",
       "      <td>-0.010830</td>\n",
       "      <td>0.003868</td>\n",
       "      <td>0.005513</td>\n",
       "    </tr>\n",
       "    <tr>\n",
       "      <th>WBA</th>\n",
       "      <th>2017-04-20</th>\n",
       "      <td>0.007544</td>\n",
       "      <td>-0.003013</td>\n",
       "      <td>0.006236</td>\n",
       "    </tr>\n",
       "    <tr>\n",
       "      <th>WMT</th>\n",
       "      <th>2017-04-20</th>\n",
       "      <td>0.009856</td>\n",
       "      <td>-0.012625</td>\n",
       "      <td>0.009320</td>\n",
       "    </tr>\n",
       "    <tr>\n",
       "      <th>...</th>\n",
       "      <th>...</th>\n",
       "      <td>...</td>\n",
       "      <td>...</td>\n",
       "      <td>...</td>\n",
       "    </tr>\n",
       "    <tr>\n",
       "      <th>MMM</th>\n",
       "      <th>2020-04-17</th>\n",
       "      <td>0.010766</td>\n",
       "      <td>0.012823</td>\n",
       "      <td>-0.001860</td>\n",
       "    </tr>\n",
       "    <tr>\n",
       "      <th>MRK</th>\n",
       "      <th>2020-04-17</th>\n",
       "      <td>0.005542</td>\n",
       "      <td>-0.004834</td>\n",
       "      <td>0.007946</td>\n",
       "    </tr>\n",
       "    <tr>\n",
       "      <th>MSFT</th>\n",
       "      <th>2020-04-17</th>\n",
       "      <td>0.008812</td>\n",
       "      <td>-0.013569</td>\n",
       "      <td>0.015153</td>\n",
       "    </tr>\n",
       "    <tr>\n",
       "      <th>VZ</th>\n",
       "      <th>2020-04-17</th>\n",
       "      <td>0.013874</td>\n",
       "      <td>-0.007074</td>\n",
       "      <td>-0.000482</td>\n",
       "    </tr>\n",
       "    <tr>\n",
       "      <th>WMT</th>\n",
       "      <th>2020-04-17</th>\n",
       "      <td>-0.001587</td>\n",
       "      <td>0.015701</td>\n",
       "      <td>-0.013060</td>\n",
       "    </tr>\n",
       "  </tbody>\n",
       "</table>\n",
       "<p>27548 rows × 3 columns</p>\n",
       "</div>"
      ],
      "text/plain": [
       "                  returns       t-5      t-20\n",
       "     Date                                    \n",
       "UNH  2017-04-20  0.013530  0.007073  0.012511\n",
       "V    2017-04-20  0.015599  0.009667  0.005045\n",
       "VZ   2017-04-20 -0.010830  0.003868  0.005513\n",
       "WBA  2017-04-20  0.007544 -0.003013  0.006236\n",
       "WMT  2017-04-20  0.009856 -0.012625  0.009320\n",
       "...                   ...       ...       ...\n",
       "MMM  2020-04-17  0.010766  0.012823 -0.001860\n",
       "MRK  2020-04-17  0.005542 -0.004834  0.007946\n",
       "MSFT 2020-04-17  0.008812 -0.013569  0.015153\n",
       "VZ   2020-04-17  0.013874 -0.007074 -0.000482\n",
       "WMT  2020-04-17 -0.001587  0.015701 -0.013060\n",
       "\n",
       "[27548 rows x 3 columns]"
      ]
     },
     "execution_count": 8,
     "metadata": {},
     "output_type": "execute_result"
    }
   ],
   "source": [
    "returns"
   ]
  },
  {
   "cell_type": "code",
   "execution_count": 9,
   "metadata": {
    "ExecuteTime": {
     "end_time": "2018-11-09T16:12:38.211032Z",
     "start_time": "2018-11-09T16:12:38.144952Z"
    }
   },
   "outputs": [
    {
     "name": "stdout",
     "output_type": "stream",
     "text": [
      "<class 'pandas.core.frame.DataFrame'>\n",
      "MultiIndex: 27548 entries, ('UNH', Timestamp('2017-04-20 00:00:00', freq='D')) to ('WMT', Timestamp('2020-04-17 00:00:00', freq='D'))\n",
      "Data columns (total 3 columns):\n",
      " #   Column   Non-Null Count  Dtype  \n",
      "---  ------   --------------  -----  \n",
      " 0   returns  27548 non-null  float64\n",
      " 1   t-5      27548 non-null  float64\n",
      " 2   t-20     27548 non-null  float64\n",
      "dtypes: float64(3)\n",
      "memory usage: 735.2+ KB\n"
     ]
    }
   ],
   "source": [
    "returns.info()"
   ]
  },
  {
   "cell_type": "code",
   "execution_count": 10,
   "metadata": {},
   "outputs": [
    {
     "data": {
      "image/png": "[encoded data removed]",
      "text/plain": [
       "<Figure size 720x720 with 4 Axes>"
      ]
     },
     "metadata": {},
     "output_type": "display_data"
    }
   ],
   "source": [
    "# cmap = sns.diverging_palette(10, 220, as_cmap=True)\n",
    "sns.clustermap(returns.corr('spearman'), annot=True, center=0, cmap='Blues');"
   ]
  },
  {
   "cell_type": "markdown",
   "metadata": {},
   "source": [
    "### Store data"
   ]
  },
  {
   "cell_type": "code",
   "execution_count": 11,
   "metadata": {
    "ExecuteTime": {
     "end_time": "2018-11-09T16:12:41.079760Z",
     "start_time": "2018-11-09T16:12:41.046398Z"
    }
   },
   "outputs": [],
   "source": [
    "returns.dropna()\n",
    "returns.to_csv('Feature_Engineering.csv')"
   ]
  },
  {
   "cell_type": "code",
   "execution_count": null,
   "metadata": {},
   "outputs": [],
   "source": []
  }
 ],
 "metadata": {
  "kernelspec": {
   "display_name": "Python 3",
   "language": "python",
   "name": "python3"
  },
  "language_info": {
   "codemirror_mode": {
    "name": "ipython",
    "version": 3
   },
   "file_extension": ".py",
   "mimetype": "text/x-python",
   "name": "python",
   "nbconvert_exporter": "python",
   "pygments_lexer": "ipython3",
   "version": "3.7.6"
  },
  "toc": {
   "base_numbering": 1,
   "nav_menu": {},
   "number_sections": true,
   "sideBar": true,
   "skip_h1_title": false,
   "title_cell": "Table of Contents",
   "title_sidebar": "Contents",
   "toc_cell": false,
   "toc_position": {},
   "toc_section_display": true,
   "toc_window_display": true
  }
 },
 "nbformat": 4,
 "nbformat_minor": 2
}
