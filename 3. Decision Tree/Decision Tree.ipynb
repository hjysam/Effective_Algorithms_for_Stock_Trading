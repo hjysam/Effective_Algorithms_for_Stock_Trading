{
 "cells": [
  {
   "cell_type": "markdown",
   "metadata": {},
   "source": [
    "# Experiment - Decision Tree"
   ]
  },
  {
   "cell_type": "code",
   "execution_count": 1,
   "metadata": {
    "ExecuteTime": {
     "end_time": "2018-10-31T22:03:40.814238Z",
     "start_time": "2018-10-31T22:03:40.490481Z"
    }
   },
   "outputs": [],
   "source": [
    "%matplotlib inline\n",
    "\n",
    "import warnings\n",
    "import os\n",
    "from pathlib import Path\n",
    "import numpy as np\n",
    "import pandas as pd\n",
    "\n",
    "import matplotlib.pyplot as plt\n",
    "from matplotlib.ticker import FuncFormatter\n",
    "from matplotlib import cm\n",
    "import seaborn as sns\n",
    "import graphviz\n",
    "from sklearn.tree import DecisionTreeClassifier, DecisionTreeRegressor, export_graphviz, _tree\n",
    "from sklearn.linear_model import LinearRegression, Ridge, LogisticRegression\n",
    "from sklearn.model_selection import train_test_split, cross_val_score, GridSearchCV, learning_curve, KFold\n",
    "from sklearn.metrics import roc_auc_score, roc_curve, mean_squared_error, precision_recall_curve,  accuracy_score\n",
    "from sklearn.impute import SimpleImputer\n",
    "import statsmodels.api as sm\n",
    "from scipy.interpolate import interp1d, interp2d"
   ]
  },
  {
   "cell_type": "code",
   "execution_count": 2,
   "metadata": {},
   "outputs": [],
   "source": [
    "warnings.filterwarnings('ignore')\n",
    "plt.style.use('fivethirtyeight')"
   ]
  },
  {
   "cell_type": "markdown",
   "metadata": {},
   "source": [
    "## Get Data"
   ]
  },
  {
   "cell_type": "markdown",
   "metadata": {},
   "source": [
    "### Stock Prices"
   ]
  },
  {
   "cell_type": "code",
   "execution_count": 3,
   "metadata": {
    "ExecuteTime": {
     "end_time": "2018-10-31T22:06:14.046946Z",
     "start_time": "2018-10-31T22:06:14.023537Z"
    }
   },
   "outputs": [
    {
     "name": "stdout",
     "output_type": "stream",
     "text": [
      "<class 'pandas.core.frame.DataFrame'>\n",
      "MultiIndex: 27548 entries, (0, 'UNH', Timestamp('2017-04-20 00:00:00')) to (27547, 'WMT', Timestamp('2020-04-17 00:00:00'))\n",
      "Data columns (total 2 columns):\n",
      " #   Column  Non-Null Count  Dtype  \n",
      "---  ------  --------------  -----  \n",
      " 0   t-5     27548 non-null  float64\n",
      " 1   t-20    27548 non-null  float64\n",
      "dtypes: float64(2)\n",
      "memory usage: 789.0+ KB\n"
     ]
    }
   ],
   "source": [
    "data = pd.read_csv('Feature_Engineering.csv', index_col= None ,engine = 'python')\n",
    "data.set_index([\"ticker\", pd.DatetimeIndex(data['date'])], inplace = True, \n",
    "                            append = True, drop = True)\n",
    "data = data.drop(['date'],axis=1)\n",
    "y = data.returns\n",
    "X = data.drop('returns', axis=1)\n",
    "X.info()"
   ]
  },
  {
   "cell_type": "markdown",
   "metadata": {},
   "source": [
    "### Binary Outcome"
   ]
  },
  {
   "cell_type": "code",
   "execution_count": 4,
   "metadata": {
    "ExecuteTime": {
     "end_time": "2018-10-31T22:06:14.560201Z",
     "start_time": "2018-10-31T22:06:14.556970Z"
    }
   },
   "outputs": [
    {
     "data": {
      "text/plain": [
       "       ticker  date      \n",
       "0      UNH     2017-04-20    1\n",
       "1      V       2017-04-20    1\n",
       "2      VZ      2017-04-20    0\n",
       "3      WBA     2017-04-20    1\n",
       "4      WMT     2017-04-20    1\n",
       "                            ..\n",
       "27543  MMM     2020-04-17    1\n",
       "27544  MRK     2020-04-17    1\n",
       "27545  MSFT    2020-04-17    1\n",
       "27546  VZ      2020-04-17    1\n",
       "27547  WMT     2020-04-17    0\n",
       "Name: returns, Length: 27548, dtype: int32"
      ]
     },
     "execution_count": 4,
     "metadata": {},
     "output_type": "execute_result"
    }
   ],
   "source": [
    "y_binary = (y>0).astype(int)\n",
    "y_binary"
   ]
  },
  {
   "cell_type": "markdown",
   "metadata": {},
   "source": [
    "### 2 Lags Only"
   ]
  },
  {
   "cell_type": "code",
   "execution_count": 5,
   "metadata": {
    "ExecuteTime": {
     "end_time": "2018-10-31T22:06:15.185101Z",
     "start_time": "2018-10-31T22:06:15.177458Z"
    }
   },
   "outputs": [
    {
     "name": "stdout",
     "output_type": "stream",
     "text": [
      "<class 'pandas.core.frame.DataFrame'>\n",
      "MultiIndex: 27548 entries, (0, 'UNH', Timestamp('2017-04-20 00:00:00')) to (27547, 'WMT', Timestamp('2020-04-17 00:00:00'))\n",
      "Data columns (total 2 columns):\n",
      " #   Column  Non-Null Count  Dtype  \n",
      "---  ------  --------------  -----  \n",
      " 0   t-5     27548 non-null  float64\n",
      " 1   t-20    27548 non-null  float64\n",
      "dtypes: float64(2)\n",
      "memory usage: 2.0+ MB\n"
     ]
    }
   ],
   "source": [
    "X2 = X.loc[:, ['t-5', 't-20']]\n",
    "X2.info()"
   ]
  },
  {
   "cell_type": "markdown",
   "metadata": {},
   "source": [
    "## Explore Data"
   ]
  },
  {
   "cell_type": "code",
   "execution_count": 6,
   "metadata": {
    "ExecuteTime": {
     "end_time": "2018-10-31T22:06:17.839683Z",
     "start_time": "2018-10-31T22:06:17.789405Z"
    }
   },
   "outputs": [
    {
     "data": {
      "text/plain": [
       "count    27548.000000\n",
       "mean         0.000460\n",
       "std          0.006748\n",
       "min         -0.019581\n",
       "10%         -0.008097\n",
       "20%         -0.003445\n",
       "30%          0.000000\n",
       "40%          0.000000\n",
       "50%          0.000000\n",
       "60%          0.000000\n",
       "70%          0.001696\n",
       "80%          0.005125\n",
       "90%          0.009583\n",
       "max          0.018930\n",
       "Name: returns, dtype: float64"
      ]
     },
     "execution_count": 6,
     "metadata": {},
     "output_type": "execute_result"
    }
   ],
   "source": [
    "y.describe(percentiles=np.arange(.1, .91, .1).round(1))"
   ]
  },
  {
   "cell_type": "markdown",
   "metadata": {},
   "source": [
    "## Simple Regression Tree"
   ]
  },
  {
   "cell_type": "markdown",
   "metadata": {},
   "source": [
    "### Configure Tree"
   ]
  },
  {
   "cell_type": "code",
   "execution_count": 10,
   "metadata": {},
   "outputs": [],
   "source": [
    "import os\n",
    "os.environ[\"PATH\"] += os.pathsep +'C:/Users/Elid-PC.DESKTOP-MG9DS93/Anaconda3/Library/bin/graphviz/'"
   ]
  },
  {
   "cell_type": "code",
   "execution_count": 11,
   "metadata": {
    "ExecuteTime": {
     "end_time": "2018-10-31T22:06:29.430468Z",
     "start_time": "2018-10-31T22:06:29.423601Z"
    }
   },
   "outputs": [],
   "source": [
    "reg_tree_t2 = DecisionTreeRegressor(criterion='mse',\n",
    "                                    splitter='best',\n",
    "                                    max_depth=4,\n",
    "                                    min_samples_split=2,\n",
    "                                    min_samples_leaf=1,\n",
    "                                    min_weight_fraction_leaf=0.0,\n",
    "                                    max_features=None,\n",
    "                                    random_state=42,\n",
    "                                    max_leaf_nodes=None,\n",
    "                                    min_impurity_decrease=0.0,\n",
    "                                    min_impurity_split=None,\n",
    "                                    presort=False)"
   ]
  },
  {
   "cell_type": "markdown",
   "metadata": {},
   "source": [
    "### Train Decision Tree"
   ]
  },
  {
   "cell_type": "code",
   "execution_count": 12,
   "metadata": {},
   "outputs": [
    {
     "data": {
      "text/plain": [
       "DecisionTreeRegressor(ccp_alpha=0.0, criterion='mse', max_depth=4,\n",
       "                      max_features=None, max_leaf_nodes=None,\n",
       "                      min_impurity_decrease=0.0, min_impurity_split=None,\n",
       "                      min_samples_leaf=1, min_samples_split=2,\n",
       "                      min_weight_fraction_leaf=0.0, presort=False,\n",
       "                      random_state=42, splitter='best')"
      ]
     },
     "execution_count": 12,
     "metadata": {},
     "output_type": "execute_result"
    }
   ],
   "source": [
    "reg_tree_t2.fit(X=X2, y=y)"
   ]
  },
  {
   "cell_type": "markdown",
   "metadata": {},
   "source": [
    "### Visualize Tree"
   ]
  },
  {
   "cell_type": "code",
   "execution_count": 13,
   "metadata": {
    "ExecuteTime": {
     "end_time": "2018-10-31T22:06:38.863228Z",
     "start_time": "2018-10-31T22:06:38.755940Z"
    }
   },
   "outputs": [
    {
     "data": {
      "image/svg+xml": [
       "<?xml version=\"1.0\" encoding=\"UTF-8\" standalone=\"no\"?>\r\n",
       "<!DOCTYPE svg PUBLIC \"-//W3C//DTD SVG 1.1//EN\"\r\n",
       " \"http://www.w3.org/Graphics/SVG/1.1/DTD/svg11.dtd\">\r\n",
       "<!-- Generated by graphviz version 2.38.0 (20140413.2041)\r\n",
       " -->\r\n",
       "<!-- Title: Tree Pages: 1 -->\r\n",
       "<svg width=\"2088pt\" height=\"477pt\"\r\n",
       " viewBox=\"0.00 0.00 2088.00 477.00\" xmlns=\"http://www.w3.org/2000/svg\" xmlns:xlink=\"http://www.w3.org/1999/xlink\">\r\n",
       "<g id=\"graph0\" class=\"graph\" transform=\"scale(1 1) rotate(0) translate(4 473)\">\r\n",
       "<title>Tree</title>\r\n",
       "<polygon fill=\"white\" stroke=\"none\" points=\"-4,4 -4,-473 2084,-473 2084,4 -4,4\"/>\r\n",
       "<!-- 0 -->\r\n",
       "<g id=\"node1\" class=\"node\"><title>0</title>\r\n",
       "<path fill=\"#eead7f\" stroke=\"black\" d=\"M1088.5,-469C1088.5,-469 984.5,-469 984.5,-469 978.5,-469 972.5,-463 972.5,-457 972.5,-457 972.5,-413 972.5,-413 972.5,-407 978.5,-401 984.5,-401 984.5,-401 1088.5,-401 1088.5,-401 1094.5,-401 1100.5,-407 1100.5,-413 1100.5,-413 1100.5,-457 1100.5,-457 1100.5,-463 1094.5,-469 1088.5,-469\"/>\r\n",
       "<text text-anchor=\"start\" x=\"1002\" y=\"-453.8\" font-family=\"Helvetica,sans-Serif\" font-size=\"14.00\">t&#45;5 ≤ 0.002</text>\r\n",
       "<text text-anchor=\"start\" x=\"1004.5\" y=\"-438.8\" font-family=\"Helvetica,sans-Serif\" font-size=\"14.00\">mse = 0.0</text>\r\n",
       "<text text-anchor=\"start\" x=\"980.5\" y=\"-423.8\" font-family=\"Helvetica,sans-Serif\" font-size=\"14.00\">samples = 27548</text>\r\n",
       "<text text-anchor=\"start\" x=\"1001.5\" y=\"-408.8\" font-family=\"Helvetica,sans-Serif\" font-size=\"14.00\">value = 0.0</text>\r\n",
       "</g>\r\n",
       "<!-- 1 -->\r\n",
       "<g id=\"node2\" class=\"node\"><title>1</title>\r\n",
       "<path fill=\"#efb387\" stroke=\"black\" d=\"M823.5,-365C823.5,-365 719.5,-365 719.5,-365 713.5,-365 707.5,-359 707.5,-353 707.5,-353 707.5,-309 707.5,-309 707.5,-303 713.5,-297 719.5,-297 719.5,-297 823.5,-297 823.5,-297 829.5,-297 835.5,-303 835.5,-309 835.5,-309 835.5,-353 835.5,-353 835.5,-359 829.5,-365 823.5,-365\"/>\r\n",
       "<text text-anchor=\"start\" x=\"735\" y=\"-349.8\" font-family=\"Helvetica,sans-Serif\" font-size=\"14.00\">t&#45;5 ≤ &#45;0.006</text>\r\n",
       "<text text-anchor=\"start\" x=\"739.5\" y=\"-334.8\" font-family=\"Helvetica,sans-Serif\" font-size=\"14.00\">mse = 0.0</text>\r\n",
       "<text text-anchor=\"start\" x=\"715.5\" y=\"-319.8\" font-family=\"Helvetica,sans-Serif\" font-size=\"14.00\">samples = 19160</text>\r\n",
       "<text text-anchor=\"start\" x=\"734.5\" y=\"-304.8\" font-family=\"Helvetica,sans-Serif\" font-size=\"14.00\">value = &#45;0.0</text>\r\n",
       "</g>\r\n",
       "<!-- 0&#45;&gt;1 -->\r\n",
       "<g id=\"edge1\" class=\"edge\"><title>0&#45;&gt;1</title>\r\n",
       "<path fill=\"none\" stroke=\"black\" d=\"M972.351,-409.309C933.92,-394.517 884.926,-375.658 844.948,-360.271\"/>\r\n",
       "<polygon fill=\"black\" stroke=\"black\" points=\"846.107,-356.966 835.517,-356.641 843.592,-363.499 846.107,-356.966\"/>\r\n",
       "<text text-anchor=\"middle\" x=\"845.665\" y=\"-375.788\" font-family=\"Helvetica,sans-Serif\" font-size=\"14.00\">True</text>\r\n",
       "</g>\r\n",
       "<!-- 16 -->\r\n",
       "<g id=\"node17\" class=\"node\"><title>16</title>\r\n",
       "<path fill=\"#eca16b\" stroke=\"black\" d=\"M1350,-365C1350,-365 1255,-365 1255,-365 1249,-365 1243,-359 1243,-353 1243,-353 1243,-309 1243,-309 1243,-303 1249,-297 1255,-297 1255,-297 1350,-297 1350,-297 1356,-297 1362,-303 1362,-309 1362,-309 1362,-353 1362,-353 1362,-359 1356,-365 1350,-365\"/>\r\n",
       "<text text-anchor=\"start\" x=\"1268\" y=\"-349.8\" font-family=\"Helvetica,sans-Serif\" font-size=\"14.00\">t&#45;5 ≤ 0.012</text>\r\n",
       "<text text-anchor=\"start\" x=\"1270.5\" y=\"-334.8\" font-family=\"Helvetica,sans-Serif\" font-size=\"14.00\">mse = 0.0</text>\r\n",
       "<text text-anchor=\"start\" x=\"1251\" y=\"-319.8\" font-family=\"Helvetica,sans-Serif\" font-size=\"14.00\">samples = 8388</text>\r\n",
       "<text text-anchor=\"start\" x=\"1259.5\" y=\"-304.8\" font-family=\"Helvetica,sans-Serif\" font-size=\"14.00\">value = 0.002</text>\r\n",
       "</g>\r\n",
       "<!-- 0&#45;&gt;16 -->\r\n",
       "<g id=\"edge16\" class=\"edge\"><title>0&#45;&gt;16</title>\r\n",
       "<path fill=\"none\" stroke=\"black\" d=\"M1100.55,-409.439C1140.63,-394.071 1192.25,-374.277 1233.27,-358.548\"/>\r\n",
       "<polygon fill=\"black\" stroke=\"black\" points=\"1234.57,-361.799 1242.65,-354.95 1232.06,-355.263 1234.57,-361.799\"/>\r\n",
       "<text text-anchor=\"middle\" x=\"1232.47\" y=\"-374.085\" font-family=\"Helvetica,sans-Serif\" font-size=\"14.00\">False</text>\r\n",
       "</g>\r\n",
       "<!-- 2 -->\r\n",
       "<g id=\"node3\" class=\"node\"><title>2</title>\r\n",
       "<path fill=\"#f2bf9b\" stroke=\"black\" d=\"M431,-261C431,-261 336,-261 336,-261 330,-261 324,-255 324,-249 324,-249 324,-205 324,-205 324,-199 330,-193 336,-193 336,-193 431,-193 431,-193 437,-193 443,-199 443,-205 443,-205 443,-249 443,-249 443,-255 437,-261 431,-261\"/>\r\n",
       "<text text-anchor=\"start\" x=\"347\" y=\"-245.8\" font-family=\"Helvetica,sans-Serif\" font-size=\"14.00\">t&#45;5 ≤ &#45;0.013</text>\r\n",
       "<text text-anchor=\"start\" x=\"351.5\" y=\"-230.8\" font-family=\"Helvetica,sans-Serif\" font-size=\"14.00\">mse = 0.0</text>\r\n",
       "<text text-anchor=\"start\" x=\"332\" y=\"-215.8\" font-family=\"Helvetica,sans-Serif\" font-size=\"14.00\">samples = 3586</text>\r\n",
       "<text text-anchor=\"start\" x=\"338\" y=\"-200.8\" font-family=\"Helvetica,sans-Serif\" font-size=\"14.00\">value = &#45;0.002</text>\r\n",
       "</g>\r\n",
       "<!-- 1&#45;&gt;2 -->\r\n",
       "<g id=\"edge2\" class=\"edge\"><title>1&#45;&gt;2</title>\r\n",
       "<path fill=\"none\" stroke=\"black\" d=\"M707.43,-313.157C637.33,-294.728 525.342,-265.288 453.12,-246.302\"/>\r\n",
       "<polygon fill=\"black\" stroke=\"black\" points=\"453.763,-242.852 443.202,-243.695 451.983,-249.622 453.763,-242.852\"/>\r\n",
       "</g>\r\n",
       "<!-- 9 -->\r\n",
       "<g id=\"node10\" class=\"node\"><title>9</title>\r\n",
       "<path fill=\"#efb083\" stroke=\"black\" d=\"M823.5,-261C823.5,-261 719.5,-261 719.5,-261 713.5,-261 707.5,-255 707.5,-249 707.5,-249 707.5,-205 707.5,-205 707.5,-199 713.5,-193 719.5,-193 719.5,-193 823.5,-193 823.5,-193 829.5,-193 835.5,-199 835.5,-205 835.5,-205 835.5,-249 835.5,-249 835.5,-255 829.5,-261 823.5,-261\"/>\r\n",
       "<text text-anchor=\"start\" x=\"735\" y=\"-245.8\" font-family=\"Helvetica,sans-Serif\" font-size=\"14.00\">t&#45;5 ≤ &#45;0.003</text>\r\n",
       "<text text-anchor=\"start\" x=\"739.5\" y=\"-230.8\" font-family=\"Helvetica,sans-Serif\" font-size=\"14.00\">mse = 0.0</text>\r\n",
       "<text text-anchor=\"start\" x=\"715.5\" y=\"-215.8\" font-family=\"Helvetica,sans-Serif\" font-size=\"14.00\">samples = 15574</text>\r\n",
       "<text text-anchor=\"start\" x=\"736.5\" y=\"-200.8\" font-family=\"Helvetica,sans-Serif\" font-size=\"14.00\">value = 0.0</text>\r\n",
       "</g>\r\n",
       "<!-- 1&#45;&gt;9 -->\r\n",
       "<g id=\"edge9\" class=\"edge\"><title>1&#45;&gt;9</title>\r\n",
       "<path fill=\"none\" stroke=\"black\" d=\"M771.5,-296.884C771.5,-288.778 771.5,-279.982 771.5,-271.472\"/>\r\n",
       "<polygon fill=\"black\" stroke=\"black\" points=\"775,-271.299 771.5,-261.299 768,-271.299 775,-271.299\"/>\r\n",
       "</g>\r\n",
       "<!-- 3 -->\r\n",
       "<g id=\"node4\" class=\"node\"><title>3</title>\r\n",
       "<path fill=\"#f4c7a8\" stroke=\"black\" d=\"M230,-157C230,-157 135,-157 135,-157 129,-157 123,-151 123,-145 123,-145 123,-101 123,-101 123,-95 129,-89 135,-89 135,-89 230,-89 230,-89 236,-89 242,-95 242,-101 242,-101 242,-145 242,-145 242,-151 236,-157 230,-157\"/>\r\n",
       "<text text-anchor=\"start\" x=\"144\" y=\"-141.8\" font-family=\"Helvetica,sans-Serif\" font-size=\"14.00\">t&#45;20 ≤ 0.017</text>\r\n",
       "<text text-anchor=\"start\" x=\"150.5\" y=\"-126.8\" font-family=\"Helvetica,sans-Serif\" font-size=\"14.00\">mse = 0.0</text>\r\n",
       "<text text-anchor=\"start\" x=\"131\" y=\"-111.8\" font-family=\"Helvetica,sans-Serif\" font-size=\"14.00\">samples = 1005</text>\r\n",
       "<text text-anchor=\"start\" x=\"137\" y=\"-96.8\" font-family=\"Helvetica,sans-Serif\" font-size=\"14.00\">value = &#45;0.003</text>\r\n",
       "</g>\r\n",
       "<!-- 2&#45;&gt;3 -->\r\n",
       "<g id=\"edge3\" class=\"edge\"><title>2&#45;&gt;3</title>\r\n",
       "<path fill=\"none\" stroke=\"black\" d=\"M323.738,-195.673C300.956,-184.112 274.812,-170.845 251.26,-158.893\"/>\r\n",
       "<polygon fill=\"black\" stroke=\"black\" points=\"252.534,-155.615 242.032,-154.21 249.366,-161.857 252.534,-155.615\"/>\r\n",
       "</g>\r\n",
       "<!-- 6 -->\r\n",
       "<g id=\"node7\" class=\"node\"><title>6</title>\r\n",
       "<path fill=\"#f1bc96\" stroke=\"black\" d=\"M431,-157C431,-157 336,-157 336,-157 330,-157 324,-151 324,-145 324,-145 324,-101 324,-101 324,-95 330,-89 336,-89 336,-89 431,-89 431,-89 437,-89 443,-95 443,-101 443,-101 443,-145 443,-145 443,-151 437,-157 431,-157\"/>\r\n",
       "<text text-anchor=\"start\" x=\"345\" y=\"-141.8\" font-family=\"Helvetica,sans-Serif\" font-size=\"14.00\">t&#45;20 ≤ 0.007</text>\r\n",
       "<text text-anchor=\"start\" x=\"351.5\" y=\"-126.8\" font-family=\"Helvetica,sans-Serif\" font-size=\"14.00\">mse = 0.0</text>\r\n",
       "<text text-anchor=\"start\" x=\"332\" y=\"-111.8\" font-family=\"Helvetica,sans-Serif\" font-size=\"14.00\">samples = 2581</text>\r\n",
       "<text text-anchor=\"start\" x=\"338\" y=\"-96.8\" font-family=\"Helvetica,sans-Serif\" font-size=\"14.00\">value = &#45;0.002</text>\r\n",
       "</g>\r\n",
       "<!-- 2&#45;&gt;6 -->\r\n",
       "<g id=\"edge6\" class=\"edge\"><title>2&#45;&gt;6</title>\r\n",
       "<path fill=\"none\" stroke=\"black\" d=\"M383.5,-192.884C383.5,-184.778 383.5,-175.982 383.5,-167.472\"/>\r\n",
       "<polygon fill=\"black\" stroke=\"black\" points=\"387,-167.299 383.5,-157.299 380,-167.299 387,-167.299\"/>\r\n",
       "</g>\r\n",
       "<!-- 4 -->\r\n",
       "<g id=\"node5\" class=\"node\"><title>4</title>\r\n",
       "<path fill=\"#f3c7a7\" stroke=\"black\" d=\"M99,-53C99,-53 12,-53 12,-53 6,-53 0,-47 0,-41 0,-41 0,-12 0,-12 0,-6 6,-0 12,-0 12,-0 99,-0 99,-0 105,-0 111,-6 111,-12 111,-12 111,-41 111,-41 111,-47 105,-53 99,-53\"/>\r\n",
       "<text text-anchor=\"start\" x=\"23.5\" y=\"-37.8\" font-family=\"Helvetica,sans-Serif\" font-size=\"14.00\">mse = 0.0</text>\r\n",
       "<text text-anchor=\"start\" x=\"8\" y=\"-22.8\" font-family=\"Helvetica,sans-Serif\" font-size=\"14.00\">samples = 993</text>\r\n",
       "<text text-anchor=\"start\" x=\"10\" y=\"-7.8\" font-family=\"Helvetica,sans-Serif\" font-size=\"14.00\">value = &#45;0.003</text>\r\n",
       "</g>\r\n",
       "<!-- 3&#45;&gt;4 -->\r\n",
       "<g id=\"edge4\" class=\"edge\"><title>3&#45;&gt;4</title>\r\n",
       "<path fill=\"none\" stroke=\"black\" d=\"M138.082,-88.9485C125.173,-79.3431 111.104,-68.8747 98.297,-59.345\"/>\r\n",
       "<polygon fill=\"black\" stroke=\"black\" points=\"100.2,-56.3984 90.088,-53.2367 96.0213,-62.0143 100.2,-56.3984\"/>\r\n",
       "</g>\r\n",
       "<!-- 5 -->\r\n",
       "<g id=\"node6\" class=\"node\"><title>5</title>\r\n",
       "<path fill=\"#fbe9dd\" stroke=\"black\" d=\"M224,-53C224,-53 141,-53 141,-53 135,-53 129,-47 129,-41 129,-41 129,-12 129,-12 129,-6 135,-0 141,-0 141,-0 224,-0 224,-0 230,-0 236,-6 236,-12 236,-12 236,-41 236,-41 236,-47 230,-53 224,-53\"/>\r\n",
       "<text text-anchor=\"start\" x=\"150.5\" y=\"-37.8\" font-family=\"Helvetica,sans-Serif\" font-size=\"14.00\">mse = 0.0</text>\r\n",
       "<text text-anchor=\"start\" x=\"139\" y=\"-22.8\" font-family=\"Helvetica,sans-Serif\" font-size=\"14.00\">samples = 12</text>\r\n",
       "<text text-anchor=\"start\" x=\"137\" y=\"-7.8\" font-family=\"Helvetica,sans-Serif\" font-size=\"14.00\">value = &#45;0.008</text>\r\n",
       "</g>\r\n",
       "<!-- 3&#45;&gt;5 -->\r\n",
       "<g id=\"edge5\" class=\"edge\"><title>3&#45;&gt;5</title>\r\n",
       "<path fill=\"none\" stroke=\"black\" d=\"M182.5,-88.9485C182.5,-80.7153 182.5,-71.848 182.5,-63.4814\"/>\r\n",
       "<polygon fill=\"black\" stroke=\"black\" points=\"186,-63.2367 182.5,-53.2367 179,-63.2367 186,-63.2367\"/>\r\n",
       "</g>\r\n",
       "<!-- 7 -->\r\n",
       "<g id=\"node8\" class=\"node\"><title>7</title>\r\n",
       "<path fill=\"#f1be98\" stroke=\"black\" d=\"M361,-53C361,-53 266,-53 266,-53 260,-53 254,-47 254,-41 254,-41 254,-12 254,-12 254,-6 260,-0 266,-0 266,-0 361,-0 361,-0 367,-0 373,-6 373,-12 373,-12 373,-41 373,-41 373,-47 367,-53 361,-53\"/>\r\n",
       "<text text-anchor=\"start\" x=\"281.5\" y=\"-37.8\" font-family=\"Helvetica,sans-Serif\" font-size=\"14.00\">mse = 0.0</text>\r\n",
       "<text text-anchor=\"start\" x=\"262\" y=\"-22.8\" font-family=\"Helvetica,sans-Serif\" font-size=\"14.00\">samples = 2134</text>\r\n",
       "<text text-anchor=\"start\" x=\"268\" y=\"-7.8\" font-family=\"Helvetica,sans-Serif\" font-size=\"14.00\">value = &#45;0.002</text>\r\n",
       "</g>\r\n",
       "<!-- 6&#45;&gt;7 -->\r\n",
       "<g id=\"edge7\" class=\"edge\"><title>6&#45;&gt;7</title>\r\n",
       "<path fill=\"none\" stroke=\"black\" d=\"M359.017,-88.9485C352.444,-80.0749 345.326,-70.4648 338.714,-61.5388\"/>\r\n",
       "<polygon fill=\"black\" stroke=\"black\" points=\"341.329,-59.189 332.564,-53.2367 335.704,-63.3556 341.329,-59.189\"/>\r\n",
       "</g>\r\n",
       "<!-- 8 -->\r\n",
       "<g id=\"node9\" class=\"node\"><title>8</title>\r\n",
       "<path fill=\"#f0b78e\" stroke=\"black\" d=\"M490,-53C490,-53 403,-53 403,-53 397,-53 391,-47 391,-41 391,-41 391,-12 391,-12 391,-6 397,-0 403,-0 403,-0 490,-0 490,-0 496,-0 502,-6 502,-12 502,-12 502,-41 502,-41 502,-47 496,-53 490,-53\"/>\r\n",
       "<text text-anchor=\"start\" x=\"414.5\" y=\"-37.8\" font-family=\"Helvetica,sans-Serif\" font-size=\"14.00\">mse = 0.0</text>\r\n",
       "<text text-anchor=\"start\" x=\"399\" y=\"-22.8\" font-family=\"Helvetica,sans-Serif\" font-size=\"14.00\">samples = 447</text>\r\n",
       "<text text-anchor=\"start\" x=\"401\" y=\"-7.8\" font-family=\"Helvetica,sans-Serif\" font-size=\"14.00\">value = &#45;0.001</text>\r\n",
       "</g>\r\n",
       "<!-- 6&#45;&gt;8 -->\r\n",
       "<g id=\"edge8\" class=\"edge\"><title>6&#45;&gt;8</title>\r\n",
       "<path fill=\"none\" stroke=\"black\" d=\"M405.534,-88.9485C411.389,-80.1664 417.725,-70.6629 423.623,-61.815\"/>\r\n",
       "<polygon fill=\"black\" stroke=\"black\" points=\"426.707,-63.4987 429.342,-53.2367 420.883,-59.6158 426.707,-63.4987\"/>\r\n",
       "</g>\r\n",
       "<!-- 10 -->\r\n",
       "<g id=\"node11\" class=\"node\"><title>10</title>\r\n",
       "<path fill=\"#efb489\" stroke=\"black\" d=\"M748,-157C748,-157 653,-157 653,-157 647,-157 641,-151 641,-145 641,-145 641,-101 641,-101 641,-95 647,-89 653,-89 653,-89 748,-89 748,-89 754,-89 760,-95 760,-101 760,-101 760,-145 760,-145 760,-151 754,-157 748,-157\"/>\r\n",
       "<text text-anchor=\"start\" x=\"664\" y=\"-141.8\" font-family=\"Helvetica,sans-Serif\" font-size=\"14.00\">t&#45;5 ≤ &#45;0.006</text>\r\n",
       "<text text-anchor=\"start\" x=\"668.5\" y=\"-126.8\" font-family=\"Helvetica,sans-Serif\" font-size=\"14.00\">mse = 0.0</text>\r\n",
       "<text text-anchor=\"start\" x=\"649\" y=\"-111.8\" font-family=\"Helvetica,sans-Serif\" font-size=\"14.00\">samples = 2279</text>\r\n",
       "<text text-anchor=\"start\" x=\"663.5\" y=\"-96.8\" font-family=\"Helvetica,sans-Serif\" font-size=\"14.00\">value = &#45;0.0</text>\r\n",
       "</g>\r\n",
       "<!-- 9&#45;&gt;10 -->\r\n",
       "<g id=\"edge10\" class=\"edge\"><title>9&#45;&gt;10</title>\r\n",
       "<path fill=\"none\" stroke=\"black\" d=\"M748.448,-192.884C742.372,-184.154 735.739,-174.625 729.397,-165.514\"/>\r\n",
       "<polygon fill=\"black\" stroke=\"black\" points=\"732.265,-163.507 723.679,-157.299 726.519,-167.506 732.265,-163.507\"/>\r\n",
       "</g>\r\n",
       "<!-- 13 -->\r\n",
       "<g id=\"node14\" class=\"node\"><title>13</title>\r\n",
       "<path fill=\"#efaf82\" stroke=\"black\" d=\"M894.5,-157C894.5,-157 790.5,-157 790.5,-157 784.5,-157 778.5,-151 778.5,-145 778.5,-145 778.5,-101 778.5,-101 778.5,-95 784.5,-89 790.5,-89 790.5,-89 894.5,-89 894.5,-89 900.5,-89 906.5,-95 906.5,-101 906.5,-101 906.5,-145 906.5,-145 906.5,-151 900.5,-157 894.5,-157\"/>\r\n",
       "<text text-anchor=\"start\" x=\"808\" y=\"-141.8\" font-family=\"Helvetica,sans-Serif\" font-size=\"14.00\">t&#45;5 ≤ 0.002</text>\r\n",
       "<text text-anchor=\"start\" x=\"810.5\" y=\"-126.8\" font-family=\"Helvetica,sans-Serif\" font-size=\"14.00\">mse = 0.0</text>\r\n",
       "<text text-anchor=\"start\" x=\"786.5\" y=\"-111.8\" font-family=\"Helvetica,sans-Serif\" font-size=\"14.00\">samples = 13295</text>\r\n",
       "<text text-anchor=\"start\" x=\"807.5\" y=\"-96.8\" font-family=\"Helvetica,sans-Serif\" font-size=\"14.00\">value = 0.0</text>\r\n",
       "</g>\r\n",
       "<!-- 9&#45;&gt;13 -->\r\n",
       "<g id=\"edge13\" class=\"edge\"><title>9&#45;&gt;13</title>\r\n",
       "<path fill=\"none\" stroke=\"black\" d=\"M794.552,-192.884C800.628,-184.154 807.261,-174.625 813.603,-165.514\"/>\r\n",
       "<polygon fill=\"black\" stroke=\"black\" points=\"816.481,-167.506 819.321,-157.299 810.735,-163.507 816.481,-167.506\"/>\r\n",
       "</g>\r\n",
       "<!-- 11 -->\r\n",
       "<g id=\"node12\" class=\"node\"><title>11</title>\r\n",
       "<path fill=\"#e5823b\" stroke=\"black\" d=\"M611,-53C611,-53 532,-53 532,-53 526,-53 520,-47 520,-41 520,-41 520,-12 520,-12 520,-6 526,-0 532,-0 532,-0 611,-0 611,-0 617,-0 623,-6 623,-12 623,-12 623,-41 623,-41 623,-47 617,-53 611,-53\"/>\r\n",
       "<text text-anchor=\"start\" x=\"539.5\" y=\"-37.8\" font-family=\"Helvetica,sans-Serif\" font-size=\"14.00\">mse = 0.0</text>\r\n",
       "<text text-anchor=\"start\" x=\"528\" y=\"-22.8\" font-family=\"Helvetica,sans-Serif\" font-size=\"14.00\">samples = 16</text>\r\n",
       "<text text-anchor=\"start\" x=\"528.5\" y=\"-7.8\" font-family=\"Helvetica,sans-Serif\" font-size=\"14.00\">value = 0.006</text>\r\n",
       "</g>\r\n",
       "<!-- 10&#45;&gt;11 -->\r\n",
       "<g id=\"edge11\" class=\"edge\"><title>10&#45;&gt;11</title>\r\n",
       "<path fill=\"none\" stroke=\"black\" d=\"M655.382,-88.9485C642.27,-79.3431 627.98,-68.8747 614.971,-59.345\"/>\r\n",
       "<polygon fill=\"black\" stroke=\"black\" points=\"616.768,-56.3228 606.633,-53.2367 612.631,-61.9698 616.768,-56.3228\"/>\r\n",
       "</g>\r\n",
       "<!-- 12 -->\r\n",
       "<g id=\"node13\" class=\"node\"><title>12</title>\r\n",
       "<path fill=\"#f0b489\" stroke=\"black\" d=\"M748,-53C748,-53 653,-53 653,-53 647,-53 641,-47 641,-41 641,-41 641,-12 641,-12 641,-6 647,-0 653,-0 653,-0 748,-0 748,-0 754,-0 760,-6 760,-12 760,-12 760,-41 760,-41 760,-47 754,-53 748,-53\"/>\r\n",
       "<text text-anchor=\"start\" x=\"668.5\" y=\"-37.8\" font-family=\"Helvetica,sans-Serif\" font-size=\"14.00\">mse = 0.0</text>\r\n",
       "<text text-anchor=\"start\" x=\"649\" y=\"-22.8\" font-family=\"Helvetica,sans-Serif\" font-size=\"14.00\">samples = 2263</text>\r\n",
       "<text text-anchor=\"start\" x=\"663.5\" y=\"-7.8\" font-family=\"Helvetica,sans-Serif\" font-size=\"14.00\">value = &#45;0.0</text>\r\n",
       "</g>\r\n",
       "<!-- 10&#45;&gt;12 -->\r\n",
       "<g id=\"edge12\" class=\"edge\"><title>10&#45;&gt;12</title>\r\n",
       "<path fill=\"none\" stroke=\"black\" d=\"M700.5,-88.9485C700.5,-80.7153 700.5,-71.848 700.5,-63.4814\"/>\r\n",
       "<polygon fill=\"black\" stroke=\"black\" points=\"704,-63.2367 700.5,-53.2367 697,-63.2367 704,-63.2367\"/>\r\n",
       "</g>\r\n",
       "<!-- 14 -->\r\n",
       "<g id=\"node15\" class=\"node\"><title>14</title>\r\n",
       "<path fill=\"#efaf82\" stroke=\"black\" d=\"M894.5,-53C894.5,-53 790.5,-53 790.5,-53 784.5,-53 778.5,-47 778.5,-41 778.5,-41 778.5,-12 778.5,-12 778.5,-6 784.5,-0 790.5,-0 790.5,-0 894.5,-0 894.5,-0 900.5,-0 906.5,-6 906.5,-12 906.5,-12 906.5,-41 906.5,-41 906.5,-47 900.5,-53 894.5,-53\"/>\r\n",
       "<text text-anchor=\"start\" x=\"810.5\" y=\"-37.8\" font-family=\"Helvetica,sans-Serif\" font-size=\"14.00\">mse = 0.0</text>\r\n",
       "<text text-anchor=\"start\" x=\"786.5\" y=\"-22.8\" font-family=\"Helvetica,sans-Serif\" font-size=\"14.00\">samples = 13290</text>\r\n",
       "<text text-anchor=\"start\" x=\"807.5\" y=\"-7.8\" font-family=\"Helvetica,sans-Serif\" font-size=\"14.00\">value = 0.0</text>\r\n",
       "</g>\r\n",
       "<!-- 13&#45;&gt;14 -->\r\n",
       "<g id=\"edge14\" class=\"edge\"><title>13&#45;&gt;14</title>\r\n",
       "<path fill=\"none\" stroke=\"black\" d=\"M842.5,-88.9485C842.5,-80.7153 842.5,-71.848 842.5,-63.4814\"/>\r\n",
       "<polygon fill=\"black\" stroke=\"black\" points=\"846,-63.2367 842.5,-53.2367 839,-63.2367 846,-63.2367\"/>\r\n",
       "</g>\r\n",
       "<!-- 15 -->\r\n",
       "<g id=\"node16\" class=\"node\"><title>15</title>\r\n",
       "<path fill=\"#fcf2eb\" stroke=\"black\" d=\"M1020,-53C1020,-53 937,-53 937,-53 931,-53 925,-47 925,-41 925,-41 925,-12 925,-12 925,-6 931,-0 937,-0 937,-0 1020,-0 1020,-0 1026,-0 1032,-6 1032,-12 1032,-12 1032,-41 1032,-41 1032,-47 1026,-53 1020,-53\"/>\r\n",
       "<text text-anchor=\"start\" x=\"946.5\" y=\"-37.8\" font-family=\"Helvetica,sans-Serif\" font-size=\"14.00\">mse = 0.0</text>\r\n",
       "<text text-anchor=\"start\" x=\"939\" y=\"-22.8\" font-family=\"Helvetica,sans-Serif\" font-size=\"14.00\">samples = 5</text>\r\n",
       "<text text-anchor=\"start\" x=\"933\" y=\"-7.8\" font-family=\"Helvetica,sans-Serif\" font-size=\"14.00\">value = &#45;0.009</text>\r\n",
       "</g>\r\n",
       "<!-- 13&#45;&gt;15 -->\r\n",
       "<g id=\"edge15\" class=\"edge\"><title>13&#45;&gt;15</title>\r\n",
       "<path fill=\"none\" stroke=\"black\" d=\"M890.066,-88.9485C904.022,-79.2516 919.243,-68.6752 933.062,-59.073\"/>\r\n",
       "<polygon fill=\"black\" stroke=\"black\" points=\"935.246,-61.8172 941.461,-53.2367 931.252,-56.0687 935.246,-61.8172\"/>\r\n",
       "</g>\r\n",
       "<!-- 17 -->\r\n",
       "<g id=\"node18\" class=\"node\"><title>17</title>\r\n",
       "<path fill=\"#eca36f\" stroke=\"black\" d=\"M1350,-261C1350,-261 1255,-261 1255,-261 1249,-261 1243,-255 1243,-249 1243,-249 1243,-205 1243,-205 1243,-199 1249,-193 1255,-193 1255,-193 1350,-193 1350,-193 1356,-193 1362,-199 1362,-205 1362,-205 1362,-249 1362,-249 1362,-255 1356,-261 1350,-261\"/>\r\n",
       "<text text-anchor=\"start\" x=\"1268\" y=\"-245.8\" font-family=\"Helvetica,sans-Serif\" font-size=\"14.00\">t&#45;5 ≤ 0.004</text>\r\n",
       "<text text-anchor=\"start\" x=\"1270.5\" y=\"-230.8\" font-family=\"Helvetica,sans-Serif\" font-size=\"14.00\">mse = 0.0</text>\r\n",
       "<text text-anchor=\"start\" x=\"1251\" y=\"-215.8\" font-family=\"Helvetica,sans-Serif\" font-size=\"14.00\">samples = 6810</text>\r\n",
       "<text text-anchor=\"start\" x=\"1259.5\" y=\"-200.8\" font-family=\"Helvetica,sans-Serif\" font-size=\"14.00\">value = 0.002</text>\r\n",
       "</g>\r\n",
       "<!-- 16&#45;&gt;17 -->\r\n",
       "<g id=\"edge17\" class=\"edge\"><title>16&#45;&gt;17</title>\r\n",
       "<path fill=\"none\" stroke=\"black\" d=\"M1302.5,-296.884C1302.5,-288.778 1302.5,-279.982 1302.5,-271.472\"/>\r\n",
       "<polygon fill=\"black\" stroke=\"black\" points=\"1306,-271.299 1302.5,-261.299 1299,-271.299 1306,-271.299\"/>\r\n",
       "</g>\r\n",
       "<!-- 24 -->\r\n",
       "<g id=\"node25\" class=\"node\"><title>24</title>\r\n",
       "<path fill=\"#ea975c\" stroke=\"black\" d=\"M1753,-261C1753,-261 1658,-261 1658,-261 1652,-261 1646,-255 1646,-249 1646,-249 1646,-205 1646,-205 1646,-199 1652,-193 1658,-193 1658,-193 1753,-193 1753,-193 1759,-193 1765,-199 1765,-205 1765,-205 1765,-249 1765,-249 1765,-255 1759,-261 1753,-261\"/>\r\n",
       "<text text-anchor=\"start\" x=\"1671\" y=\"-245.8\" font-family=\"Helvetica,sans-Serif\" font-size=\"14.00\">t&#45;5 ≤ 0.016</text>\r\n",
       "<text text-anchor=\"start\" x=\"1673.5\" y=\"-230.8\" font-family=\"Helvetica,sans-Serif\" font-size=\"14.00\">mse = 0.0</text>\r\n",
       "<text text-anchor=\"start\" x=\"1654\" y=\"-215.8\" font-family=\"Helvetica,sans-Serif\" font-size=\"14.00\">samples = 1578</text>\r\n",
       "<text text-anchor=\"start\" x=\"1662.5\" y=\"-200.8\" font-family=\"Helvetica,sans-Serif\" font-size=\"14.00\">value = 0.004</text>\r\n",
       "</g>\r\n",
       "<!-- 16&#45;&gt;24 -->\r\n",
       "<g id=\"edge24\" class=\"edge\"><title>16&#45;&gt;24</title>\r\n",
       "<path fill=\"none\" stroke=\"black\" d=\"M1362.4,-314.84C1435.42,-296.357 1558.62,-265.175 1635.82,-245.636\"/>\r\n",
       "<polygon fill=\"black\" stroke=\"black\" points=\"1637.1,-248.924 1645.93,-243.077 1635.38,-242.138 1637.1,-248.924\"/>\r\n",
       "</g>\r\n",
       "<!-- 18 -->\r\n",
       "<g id=\"node19\" class=\"node\"><title>18</title>\r\n",
       "<path fill=\"#eda876\" stroke=\"black\" d=\"M1282,-157C1282,-157 1187,-157 1187,-157 1181,-157 1175,-151 1175,-145 1175,-145 1175,-101 1175,-101 1175,-95 1181,-89 1187,-89 1187,-89 1282,-89 1282,-89 1288,-89 1294,-95 1294,-101 1294,-101 1294,-145 1294,-145 1294,-151 1288,-157 1282,-157\"/>\r\n",
       "<text text-anchor=\"start\" x=\"1193.5\" y=\"-141.8\" font-family=\"Helvetica,sans-Serif\" font-size=\"14.00\">t&#45;20 ≤ &#45;0.018</text>\r\n",
       "<text text-anchor=\"start\" x=\"1202.5\" y=\"-126.8\" font-family=\"Helvetica,sans-Serif\" font-size=\"14.00\">mse = 0.0</text>\r\n",
       "<text text-anchor=\"start\" x=\"1183\" y=\"-111.8\" font-family=\"Helvetica,sans-Serif\" font-size=\"14.00\">samples = 1929</text>\r\n",
       "<text text-anchor=\"start\" x=\"1191.5\" y=\"-96.8\" font-family=\"Helvetica,sans-Serif\" font-size=\"14.00\">value = 0.001</text>\r\n",
       "</g>\r\n",
       "<!-- 17&#45;&gt;18 -->\r\n",
       "<g id=\"edge18\" class=\"edge\"><title>17&#45;&gt;18</title>\r\n",
       "<path fill=\"none\" stroke=\"black\" d=\"M1280.42,-192.884C1274.66,-184.243 1268.38,-174.819 1262.36,-165.793\"/>\r\n",
       "<polygon fill=\"black\" stroke=\"black\" points=\"1265.16,-163.678 1256.7,-157.299 1259.33,-167.561 1265.16,-163.678\"/>\r\n",
       "</g>\r\n",
       "<!-- 21 -->\r\n",
       "<g id=\"node22\" class=\"node\"><title>21</title>\r\n",
       "<path fill=\"#eca16c\" stroke=\"black\" d=\"M1419,-157C1419,-157 1324,-157 1324,-157 1318,-157 1312,-151 1312,-145 1312,-145 1312,-101 1312,-101 1312,-95 1318,-89 1324,-89 1324,-89 1419,-89 1419,-89 1425,-89 1431,-95 1431,-101 1431,-101 1431,-145 1431,-145 1431,-151 1425,-157 1419,-157\"/>\r\n",
       "<text text-anchor=\"start\" x=\"1333\" y=\"-141.8\" font-family=\"Helvetica,sans-Serif\" font-size=\"14.00\">t&#45;20 ≤ 0.003</text>\r\n",
       "<text text-anchor=\"start\" x=\"1339.5\" y=\"-126.8\" font-family=\"Helvetica,sans-Serif\" font-size=\"14.00\">mse = 0.0</text>\r\n",
       "<text text-anchor=\"start\" x=\"1320\" y=\"-111.8\" font-family=\"Helvetica,sans-Serif\" font-size=\"14.00\">samples = 4881</text>\r\n",
       "<text text-anchor=\"start\" x=\"1328.5\" y=\"-96.8\" font-family=\"Helvetica,sans-Serif\" font-size=\"14.00\">value = 0.002</text>\r\n",
       "</g>\r\n",
       "<!-- 17&#45;&gt;21 -->\r\n",
       "<g id=\"edge21\" class=\"edge\"><title>17&#45;&gt;21</title>\r\n",
       "<path fill=\"none\" stroke=\"black\" d=\"M1324.9,-192.884C1330.75,-184.243 1337.12,-174.819 1343.23,-165.793\"/>\r\n",
       "<polygon fill=\"black\" stroke=\"black\" points=\"1346.27,-167.543 1348.97,-157.299 1340.47,-163.621 1346.27,-167.543\"/>\r\n",
       "</g>\r\n",
       "<!-- 19 -->\r\n",
       "<g id=\"node20\" class=\"node\"><title>19</title>\r\n",
       "<path fill=\"#f4cbad\" stroke=\"black\" d=\"M1145,-53C1145,-53 1062,-53 1062,-53 1056,-53 1050,-47 1050,-41 1050,-41 1050,-12 1050,-12 1050,-6 1056,-0 1062,-0 1062,-0 1145,-0 1145,-0 1151,-0 1157,-6 1157,-12 1157,-12 1157,-41 1157,-41 1157,-47 1151,-53 1145,-53\"/>\r\n",
       "<text text-anchor=\"start\" x=\"1071.5\" y=\"-37.8\" font-family=\"Helvetica,sans-Serif\" font-size=\"14.00\">mse = 0.0</text>\r\n",
       "<text text-anchor=\"start\" x=\"1060\" y=\"-22.8\" font-family=\"Helvetica,sans-Serif\" font-size=\"14.00\">samples = 20</text>\r\n",
       "<text text-anchor=\"start\" x=\"1058\" y=\"-7.8\" font-family=\"Helvetica,sans-Serif\" font-size=\"14.00\">value = &#45;0.004</text>\r\n",
       "</g>\r\n",
       "<!-- 18&#45;&gt;19 -->\r\n",
       "<g id=\"edge19\" class=\"edge\"><title>18&#45;&gt;19</title>\r\n",
       "<path fill=\"none\" stroke=\"black\" d=\"M1188.68,-88.9485C1175.37,-79.3431 1160.86,-68.8747 1147.64,-59.345\"/>\r\n",
       "<polygon fill=\"black\" stroke=\"black\" points=\"1149.34,-56.2486 1139.18,-53.2367 1145.24,-61.9257 1149.34,-56.2486\"/>\r\n",
       "</g>\r\n",
       "<!-- 20 -->\r\n",
       "<g id=\"node21\" class=\"node\"><title>20</title>\r\n",
       "<path fill=\"#eda775\" stroke=\"black\" d=\"M1282,-53C1282,-53 1187,-53 1187,-53 1181,-53 1175,-47 1175,-41 1175,-41 1175,-12 1175,-12 1175,-6 1181,-0 1187,-0 1187,-0 1282,-0 1282,-0 1288,-0 1294,-6 1294,-12 1294,-12 1294,-41 1294,-41 1294,-47 1288,-53 1282,-53\"/>\r\n",
       "<text text-anchor=\"start\" x=\"1202.5\" y=\"-37.8\" font-family=\"Helvetica,sans-Serif\" font-size=\"14.00\">mse = 0.0</text>\r\n",
       "<text text-anchor=\"start\" x=\"1183\" y=\"-22.8\" font-family=\"Helvetica,sans-Serif\" font-size=\"14.00\">samples = 1909</text>\r\n",
       "<text text-anchor=\"start\" x=\"1191.5\" y=\"-7.8\" font-family=\"Helvetica,sans-Serif\" font-size=\"14.00\">value = 0.001</text>\r\n",
       "</g>\r\n",
       "<!-- 18&#45;&gt;20 -->\r\n",
       "<g id=\"edge20\" class=\"edge\"><title>18&#45;&gt;20</title>\r\n",
       "<path fill=\"none\" stroke=\"black\" d=\"M1234.5,-88.9485C1234.5,-80.7153 1234.5,-71.848 1234.5,-63.4814\"/>\r\n",
       "<polygon fill=\"black\" stroke=\"black\" points=\"1238,-63.2367 1234.5,-53.2367 1231,-63.2367 1238,-63.2367\"/>\r\n",
       "</g>\r\n",
       "<!-- 22 -->\r\n",
       "<g id=\"node23\" class=\"node\"><title>22</title>\r\n",
       "<path fill=\"#eca36f\" stroke=\"black\" d=\"M1419,-53C1419,-53 1324,-53 1324,-53 1318,-53 1312,-47 1312,-41 1312,-41 1312,-12 1312,-12 1312,-6 1318,-0 1324,-0 1324,-0 1419,-0 1419,-0 1425,-0 1431,-6 1431,-12 1431,-12 1431,-41 1431,-41 1431,-47 1425,-53 1419,-53\"/>\r\n",
       "<text text-anchor=\"start\" x=\"1339.5\" y=\"-37.8\" font-family=\"Helvetica,sans-Serif\" font-size=\"14.00\">mse = 0.0</text>\r\n",
       "<text text-anchor=\"start\" x=\"1320\" y=\"-22.8\" font-family=\"Helvetica,sans-Serif\" font-size=\"14.00\">samples = 3019</text>\r\n",
       "<text text-anchor=\"start\" x=\"1328.5\" y=\"-7.8\" font-family=\"Helvetica,sans-Serif\" font-size=\"14.00\">value = 0.002</text>\r\n",
       "</g>\r\n",
       "<!-- 21&#45;&gt;22 -->\r\n",
       "<g id=\"edge22\" class=\"edge\"><title>21&#45;&gt;22</title>\r\n",
       "<path fill=\"none\" stroke=\"black\" d=\"M1371.5,-88.9485C1371.5,-80.7153 1371.5,-71.848 1371.5,-63.4814\"/>\r\n",
       "<polygon fill=\"black\" stroke=\"black\" points=\"1375,-63.2367 1371.5,-53.2367 1368,-63.2367 1375,-63.2367\"/>\r\n",
       "</g>\r\n",
       "<!-- 23 -->\r\n",
       "<g id=\"node24\" class=\"node\"><title>23</title>\r\n",
       "<path fill=\"#eb9e67\" stroke=\"black\" d=\"M1556,-53C1556,-53 1461,-53 1461,-53 1455,-53 1449,-47 1449,-41 1449,-41 1449,-12 1449,-12 1449,-6 1455,-0 1461,-0 1461,-0 1556,-0 1556,-0 1562,-0 1568,-6 1568,-12 1568,-12 1568,-41 1568,-41 1568,-47 1562,-53 1556,-53\"/>\r\n",
       "<text text-anchor=\"start\" x=\"1476.5\" y=\"-37.8\" font-family=\"Helvetica,sans-Serif\" font-size=\"14.00\">mse = 0.0</text>\r\n",
       "<text text-anchor=\"start\" x=\"1457\" y=\"-22.8\" font-family=\"Helvetica,sans-Serif\" font-size=\"14.00\">samples = 1862</text>\r\n",
       "<text text-anchor=\"start\" x=\"1465.5\" y=\"-7.8\" font-family=\"Helvetica,sans-Serif\" font-size=\"14.00\">value = 0.003</text>\r\n",
       "</g>\r\n",
       "<!-- 21&#45;&gt;23 -->\r\n",
       "<g id=\"edge23\" class=\"edge\"><title>21&#45;&gt;23</title>\r\n",
       "<path fill=\"none\" stroke=\"black\" d=\"M1419.42,-88.9485C1433.47,-79.2516 1448.81,-68.6752 1462.73,-59.073\"/>\r\n",
       "<polygon fill=\"black\" stroke=\"black\" points=\"1464.94,-61.7959 1471.19,-53.2367 1460.97,-56.0337 1464.94,-61.7959\"/>\r\n",
       "</g>\r\n",
       "<!-- 25 -->\r\n",
       "<g id=\"node26\" class=\"node\"><title>25</title>\r\n",
       "<path fill=\"#ea9a60\" stroke=\"black\" d=\"M1753,-157C1753,-157 1658,-157 1658,-157 1652,-157 1646,-151 1646,-145 1646,-145 1646,-101 1646,-101 1646,-95 1652,-89 1658,-89 1658,-89 1753,-89 1753,-89 1759,-89 1765,-95 1765,-101 1765,-101 1765,-145 1765,-145 1765,-151 1759,-157 1753,-157\"/>\r\n",
       "<text text-anchor=\"start\" x=\"1671\" y=\"-141.8\" font-family=\"Helvetica,sans-Serif\" font-size=\"14.00\">t&#45;5 ≤ 0.016</text>\r\n",
       "<text text-anchor=\"start\" x=\"1673.5\" y=\"-126.8\" font-family=\"Helvetica,sans-Serif\" font-size=\"14.00\">mse = 0.0</text>\r\n",
       "<text text-anchor=\"start\" x=\"1654\" y=\"-111.8\" font-family=\"Helvetica,sans-Serif\" font-size=\"14.00\">samples = 1116</text>\r\n",
       "<text text-anchor=\"start\" x=\"1662.5\" y=\"-96.8\" font-family=\"Helvetica,sans-Serif\" font-size=\"14.00\">value = 0.003</text>\r\n",
       "</g>\r\n",
       "<!-- 24&#45;&gt;25 -->\r\n",
       "<g id=\"edge25\" class=\"edge\"><title>24&#45;&gt;25</title>\r\n",
       "<path fill=\"none\" stroke=\"black\" d=\"M1705.5,-192.884C1705.5,-184.778 1705.5,-175.982 1705.5,-167.472\"/>\r\n",
       "<polygon fill=\"black\" stroke=\"black\" points=\"1709,-167.299 1705.5,-157.299 1702,-167.299 1709,-167.299\"/>\r\n",
       "</g>\r\n",
       "<!-- 28 -->\r\n",
       "<g id=\"node29\" class=\"node\"><title>28</title>\r\n",
       "<path fill=\"#e89152\" stroke=\"black\" d=\"M1943,-157C1943,-157 1856,-157 1856,-157 1850,-157 1844,-151 1844,-145 1844,-145 1844,-101 1844,-101 1844,-95 1850,-89 1856,-89 1856,-89 1943,-89 1943,-89 1949,-89 1955,-95 1955,-101 1955,-101 1955,-145 1955,-145 1955,-151 1949,-157 1943,-157\"/>\r\n",
       "<text text-anchor=\"start\" x=\"1865\" y=\"-141.8\" font-family=\"Helvetica,sans-Serif\" font-size=\"14.00\">t&#45;5 ≤ 0.017</text>\r\n",
       "<text text-anchor=\"start\" x=\"1867.5\" y=\"-126.8\" font-family=\"Helvetica,sans-Serif\" font-size=\"14.00\">mse = 0.0</text>\r\n",
       "<text text-anchor=\"start\" x=\"1852\" y=\"-111.8\" font-family=\"Helvetica,sans-Serif\" font-size=\"14.00\">samples = 462</text>\r\n",
       "<text text-anchor=\"start\" x=\"1856.5\" y=\"-96.8\" font-family=\"Helvetica,sans-Serif\" font-size=\"14.00\">value = 0.004</text>\r\n",
       "</g>\r\n",
       "<!-- 24&#45;&gt;28 -->\r\n",
       "<g id=\"edge28\" class=\"edge\"><title>24&#45;&gt;28</title>\r\n",
       "<path fill=\"none\" stroke=\"black\" d=\"M1765.02,-194.703C1787.05,-183.123 1812.12,-169.94 1834.6,-158.121\"/>\r\n",
       "<polygon fill=\"black\" stroke=\"black\" points=\"1836.51,-161.073 1843.73,-153.321 1833.25,-154.877 1836.51,-161.073\"/>\r\n",
       "</g>\r\n",
       "<!-- 26 -->\r\n",
       "<g id=\"node27\" class=\"node\"><title>26</title>\r\n",
       "<path fill=\"#ea995f\" stroke=\"black\" d=\"M1693,-53C1693,-53 1598,-53 1598,-53 1592,-53 1586,-47 1586,-41 1586,-41 1586,-12 1586,-12 1586,-6 1592,-0 1598,-0 1598,-0 1693,-0 1693,-0 1699,-0 1705,-6 1705,-12 1705,-12 1705,-41 1705,-41 1705,-47 1699,-53 1693,-53\"/>\r\n",
       "<text text-anchor=\"start\" x=\"1613.5\" y=\"-37.8\" font-family=\"Helvetica,sans-Serif\" font-size=\"14.00\">mse = 0.0</text>\r\n",
       "<text text-anchor=\"start\" x=\"1594\" y=\"-22.8\" font-family=\"Helvetica,sans-Serif\" font-size=\"14.00\">samples = 1113</text>\r\n",
       "<text text-anchor=\"start\" x=\"1602.5\" y=\"-7.8\" font-family=\"Helvetica,sans-Serif\" font-size=\"14.00\">value = 0.003</text>\r\n",
       "</g>\r\n",
       "<!-- 25&#45;&gt;26 -->\r\n",
       "<g id=\"edge26\" class=\"edge\"><title>25&#45;&gt;26</title>\r\n",
       "<path fill=\"none\" stroke=\"black\" d=\"M1684.51,-88.9485C1678.94,-80.1664 1672.91,-70.6629 1667.29,-61.815\"/>\r\n",
       "<polygon fill=\"black\" stroke=\"black\" points=\"1670.16,-59.8028 1661.84,-53.2367 1664.25,-63.5549 1670.16,-59.8028\"/>\r\n",
       "</g>\r\n",
       "<!-- 27 -->\r\n",
       "<g id=\"node28\" class=\"node\"><title>27</title>\r\n",
       "<path fill=\"#ffffff\" stroke=\"black\" d=\"M1818,-53C1818,-53 1735,-53 1735,-53 1729,-53 1723,-47 1723,-41 1723,-41 1723,-12 1723,-12 1723,-6 1729,-0 1735,-0 1735,-0 1818,-0 1818,-0 1824,-0 1830,-6 1830,-12 1830,-12 1830,-41 1830,-41 1830,-47 1824,-53 1818,-53\"/>\r\n",
       "<text text-anchor=\"start\" x=\"1744.5\" y=\"-37.8\" font-family=\"Helvetica,sans-Serif\" font-size=\"14.00\">mse = 0.0</text>\r\n",
       "<text text-anchor=\"start\" x=\"1737\" y=\"-22.8\" font-family=\"Helvetica,sans-Serif\" font-size=\"14.00\">samples = 3</text>\r\n",
       "<text text-anchor=\"start\" x=\"1731\" y=\"-7.8\" font-family=\"Helvetica,sans-Serif\" font-size=\"14.00\">value = &#45;0.011</text>\r\n",
       "</g>\r\n",
       "<!-- 25&#45;&gt;27 -->\r\n",
       "<g id=\"edge27\" class=\"edge\"><title>25&#45;&gt;27</title>\r\n",
       "<path fill=\"none\" stroke=\"black\" d=\"M1730.33,-88.9485C1737.07,-79.9834 1744.37,-70.2666 1751.13,-61.2629\"/>\r\n",
       "<polygon fill=\"black\" stroke=\"black\" points=\"1753.95,-63.334 1757.16,-53.2367 1748.36,-59.1293 1753.95,-63.334\"/>\r\n",
       "</g>\r\n",
       "<!-- 29 -->\r\n",
       "<g id=\"node30\" class=\"node\"><title>29</title>\r\n",
       "<path fill=\"#e58139\" stroke=\"black\" d=\"M1939,-53C1939,-53 1860,-53 1860,-53 1854,-53 1848,-47 1848,-41 1848,-41 1848,-12 1848,-12 1848,-6 1854,-0 1860,-0 1860,-0 1939,-0 1939,-0 1945,-0 1951,-6 1951,-12 1951,-12 1951,-41 1951,-41 1951,-47 1945,-53 1939,-53\"/>\r\n",
       "<text text-anchor=\"start\" x=\"1867.5\" y=\"-37.8\" font-family=\"Helvetica,sans-Serif\" font-size=\"14.00\">mse = 0.0</text>\r\n",
       "<text text-anchor=\"start\" x=\"1856\" y=\"-22.8\" font-family=\"Helvetica,sans-Serif\" font-size=\"14.00\">samples = 58</text>\r\n",
       "<text text-anchor=\"start\" x=\"1856.5\" y=\"-7.8\" font-family=\"Helvetica,sans-Serif\" font-size=\"14.00\">value = 0.007</text>\r\n",
       "</g>\r\n",
       "<!-- 28&#45;&gt;29 -->\r\n",
       "<g id=\"edge29\" class=\"edge\"><title>28&#45;&gt;29</title>\r\n",
       "<path fill=\"none\" stroke=\"black\" d=\"M1899.5,-88.9485C1899.5,-80.7153 1899.5,-71.848 1899.5,-63.4814\"/>\r\n",
       "<polygon fill=\"black\" stroke=\"black\" points=\"1903,-63.2367 1899.5,-53.2367 1896,-63.2367 1903,-63.2367\"/>\r\n",
       "</g>\r\n",
       "<!-- 30 -->\r\n",
       "<g id=\"node31\" class=\"node\"><title>30</title>\r\n",
       "<path fill=\"#e99356\" stroke=\"black\" d=\"M2068,-53C2068,-53 1981,-53 1981,-53 1975,-53 1969,-47 1969,-41 1969,-41 1969,-12 1969,-12 1969,-6 1975,-0 1981,-0 1981,-0 2068,-0 2068,-0 2074,-0 2080,-6 2080,-12 2080,-12 2080,-41 2080,-41 2080,-47 2074,-53 2068,-53\"/>\r\n",
       "<text text-anchor=\"start\" x=\"1992.5\" y=\"-37.8\" font-family=\"Helvetica,sans-Serif\" font-size=\"14.00\">mse = 0.0</text>\r\n",
       "<text text-anchor=\"start\" x=\"1977\" y=\"-22.8\" font-family=\"Helvetica,sans-Serif\" font-size=\"14.00\">samples = 404</text>\r\n",
       "<text text-anchor=\"start\" x=\"1981.5\" y=\"-7.8\" font-family=\"Helvetica,sans-Serif\" font-size=\"14.00\">value = 0.004</text>\r\n",
       "</g>\r\n",
       "<!-- 28&#45;&gt;30 -->\r\n",
       "<g id=\"edge30\" class=\"edge\"><title>28&#45;&gt;30</title>\r\n",
       "<path fill=\"none\" stroke=\"black\" d=\"M1943.22,-88.9485C1955.92,-79.3431 1969.77,-68.8747 1982.38,-59.345\"/>\r\n",
       "<polygon fill=\"black\" stroke=\"black\" points=\"1984.59,-62.0593 1990.46,-53.2367 1980.37,-56.4754 1984.59,-62.0593\"/>\r\n",
       "</g>\r\n",
       "</g>\r\n",
       "</svg>\r\n"
      ],
      "text/plain": [
       "<graphviz.files.Source at 0x2d1b2888d48>"
      ]
     },
     "execution_count": 13,
     "metadata": {},
     "output_type": "execute_result"
    }
   ],
   "source": [
    "out_file = 'figures/reg_tree_t2.dot'\n",
    "dot_data = export_graphviz(reg_tree_t2,\n",
    "                          out_file=out_file,\n",
    "                          feature_names=X2.columns,\n",
    "                          max_depth=10,\n",
    "                          filled=True,\n",
    "                          rounded=True,\n",
    "                          special_characters=True)\n",
    "if out_file is not None:\n",
    "    dot_data = Path(out_file).read_text()\n",
    "\n",
    "graphviz.Source(dot_data)"
   ]
  },
  {
   "cell_type": "markdown",
   "metadata": {},
   "source": [
    "### Compare with Linear Regression"
   ]
  },
  {
   "cell_type": "markdown",
   "metadata": {},
   "source": [
    "#### statsmodels OLS"
   ]
  },
  {
   "cell_type": "code",
   "execution_count": 14,
   "metadata": {
    "ExecuteTime": {
     "end_time": "2018-10-31T22:06:45.762964Z",
     "start_time": "2018-10-31T22:06:45.561094Z"
    }
   },
   "outputs": [
    {
     "name": "stdout",
     "output_type": "stream",
     "text": [
      "                            OLS Regression Results                            \n",
      "==============================================================================\n",
      "Dep. Variable:                returns   R-squared:                       0.044\n",
      "Model:                            OLS   Adj. R-squared:                  0.044\n",
      "Method:                 Least Squares   F-statistic:                     627.5\n",
      "Date:                Sun, 17 May 2020   Prob (F-statistic):          3.24e-267\n",
      "Time:                        16:48:35   Log-Likelihood:                 99226.\n",
      "No. Observations:               27548   AIC:                        -1.984e+05\n",
      "Df Residuals:                   27545   BIC:                        -1.984e+05\n",
      "Df Model:                           2                                         \n",
      "Covariance Type:            nonrobust                                         \n",
      "==============================================================================\n",
      "                 coef    std err          t      P>|t|      [0.025      0.975]\n",
      "------------------------------------------------------------------------------\n",
      "const          0.0004   3.99e-05      8.874      0.000       0.000       0.000\n",
      "t-5            0.2054      0.006     34.730      0.000       0.194       0.217\n",
      "t-20           0.0241      0.006      4.081      0.000       0.013       0.036\n",
      "==============================================================================\n",
      "Omnibus:                      514.671   Durbin-Watson:                   1.663\n",
      "Prob(Omnibus):                  0.000   Jarque-Bera (JB):             1069.169\n",
      "Skew:                          -0.048   Prob(JB):                    6.81e-233\n",
      "Kurtosis:                       3.960   Cond. No.                         155.\n",
      "==============================================================================\n",
      "\n",
      "Warnings:\n",
      "[1] Standard Errors assume that the covariance matrix of the errors is correctly specified.\n"
     ]
    }
   ],
   "source": [
    "ols_model = sm.OLS(endog=y, exog=sm.add_constant(X2)).fit()\n",
    "print(ols_model.summary())"
   ]
  },
  {
   "cell_type": "markdown",
   "metadata": {},
   "source": [
    "### Compare with Linear Time Series Models"
   ]
  },
  {
   "cell_type": "markdown",
   "metadata": {},
   "source": [
    "#### statsmodels AR(2) Model"
   ]
  },
  {
   "cell_type": "markdown",
   "metadata": {},
   "source": [
    "Coefficients slighty different because AR model treats returns as a single time series instead creating groups by ticker."
   ]
  },
  {
   "cell_type": "code",
   "execution_count": 15,
   "metadata": {
    "ExecuteTime": {
     "end_time": "2018-10-31T22:07:32.482806Z",
     "start_time": "2018-10-31T22:07:27.792548Z"
    }
   },
   "outputs": [],
   "source": [
    "ar_model = sm.tsa.ARMA(endog=y, order=(2,0)).fit()"
   ]
  },
  {
   "cell_type": "code",
   "execution_count": 16,
   "metadata": {
    "ExecuteTime": {
     "end_time": "2018-10-31T22:07:32.490833Z",
     "start_time": "2018-10-31T22:07:32.484038Z"
    }
   },
   "outputs": [
    {
     "data": {
      "text/html": [
       "<div>\n",
       "<style scoped>\n",
       "    .dataframe tbody tr th:only-of-type {\n",
       "        vertical-align: middle;\n",
       "    }\n",
       "\n",
       "    .dataframe tbody tr th {\n",
       "        vertical-align: top;\n",
       "    }\n",
       "\n",
       "    .dataframe thead th {\n",
       "        text-align: right;\n",
       "    }\n",
       "</style>\n",
       "<table border=\"1\" class=\"dataframe\">\n",
       "  <thead>\n",
       "    <tr style=\"text-align: right;\">\n",
       "      <th></th>\n",
       "      <th>AR(2)</th>\n",
       "      <th>OLS</th>\n",
       "    </tr>\n",
       "  </thead>\n",
       "  <tbody>\n",
       "    <tr>\n",
       "      <th>const</th>\n",
       "      <td>0.000460</td>\n",
       "      <td>0.000354</td>\n",
       "    </tr>\n",
       "    <tr>\n",
       "      <th>t-5</th>\n",
       "      <td>0.188720</td>\n",
       "      <td>0.205361</td>\n",
       "    </tr>\n",
       "    <tr>\n",
       "      <th>t-20</th>\n",
       "      <td>0.192433</td>\n",
       "      <td>0.024139</td>\n",
       "    </tr>\n",
       "  </tbody>\n",
       "</table>\n",
       "</div>"
      ],
      "text/plain": [
       "          AR(2)       OLS\n",
       "const  0.000460  0.000354\n",
       "t-5    0.188720  0.205361\n",
       "t-20   0.192433  0.024139"
      ]
     },
     "execution_count": 16,
     "metadata": {},
     "output_type": "execute_result"
    }
   ],
   "source": [
    "pd.DataFrame({'AR(2)': ar_model.params.values, \n",
    "              'OLS': ols_model.params.values}, \n",
    "             index=ols_model.params.index)"
   ]
  },
  {
   "cell_type": "code",
   "execution_count": 17,
   "metadata": {
    "ExecuteTime": {
     "end_time": "2018-10-31T22:07:32.604890Z",
     "start_time": "2018-10-31T22:07:32.492041Z"
    }
   },
   "outputs": [],
   "source": [
    "ar_preds = ar_model.predict()"
   ]
  },
  {
   "cell_type": "markdown",
   "metadata": {},
   "source": [
    "#### ARMA(2,2)"
   ]
  },
  {
   "cell_type": "code",
   "execution_count": 18,
   "metadata": {
    "ExecuteTime": {
     "end_time": "2018-10-31T22:34:16.066091Z",
     "start_time": "2018-10-31T22:06:38.840Z"
    },
    "scrolled": true
   },
   "outputs": [
    {
     "name": "stdout",
     "output_type": "stream",
     "text": [
      "                              ARMA Model Results                              \n",
      "==============================================================================\n",
      "Dep. Variable:                returns   No. Observations:                27548\n",
      "Model:                     ARMA(2, 2)   Log Likelihood              100638.171\n",
      "Method:                       css-mle   S.D. of innovations              0.006\n",
      "Date:                Sun, 17 May 2020   AIC                        -201264.341\n",
      "Time:                        16:49:17   BIC                        -201214.999\n",
      "Sample:                             0   HQIC                       -201248.445\n",
      "                                                                              \n",
      "=================================================================================\n",
      "                    coef    std err          z      P>|z|      [0.025      0.975]\n",
      "---------------------------------------------------------------------------------\n",
      "const             0.0005      0.000      4.462      0.000       0.000       0.001\n",
      "ar.L1.returns     1.8075      0.026     68.523      0.000       1.756       1.859\n",
      "ar.L2.returns    -0.8217      0.025    -33.527      0.000      -0.870      -0.774\n",
      "ma.L1.returns    -1.6861      0.026    -65.648      0.000      -1.736      -1.636\n",
      "ma.L2.returns     0.7253      0.020     35.971      0.000       0.686       0.765\n",
      "                                    Roots                                    \n",
      "=============================================================================\n",
      "                  Real          Imaginary           Modulus         Frequency\n",
      "-----------------------------------------------------------------------------\n",
      "AR.1            1.0998           -0.0861j            1.1032           -0.0124\n",
      "AR.2            1.0998           +0.0861j            1.1032            0.0124\n",
      "MA.1            1.1624           -0.1663j            1.1742           -0.0226\n",
      "MA.2            1.1624           +0.1663j            1.1742            0.0226\n",
      "-----------------------------------------------------------------------------\n"
     ]
    }
   ],
   "source": [
    "arma_model = sm.tsa.ARMA(endog=y, order=(2, 2)).fit()\n",
    "print(arma_model.summary())"
   ]
  },
  {
   "cell_type": "code",
   "execution_count": 19,
   "metadata": {
    "ExecuteTime": {
     "end_time": "2018-10-31T22:34:16.068811Z",
     "start_time": "2018-10-31T22:06:38.854Z"
    }
   },
   "outputs": [],
   "source": [
    "arma_preds = arma_model.predict()"
   ]
  },
  {
   "cell_type": "code",
   "execution_count": 20,
   "metadata": {
    "ExecuteTime": {
     "end_time": "2018-10-31T22:34:16.074680Z",
     "start_time": "2018-10-31T22:06:38.862Z"
    }
   },
   "outputs": [
    {
     "name": "stdout",
     "output_type": "stream",
     "text": [
      "<class 'pandas.core.frame.DataFrame'>\n",
      "MultiIndex: 2755 entries, (18077, 'AAPL', Timestamp('2019-03-23 00:00:00')) to (9903, 'XOM', Timestamp('2018-04-05 00:00:00'))\n",
      "Data columns (total 4 columns):\n",
      " #   Column  Non-Null Count  Dtype  \n",
      "---  ------  --------------  -----  \n",
      " 0   t-5     2755 non-null   float64\n",
      " 1   t-20    2755 non-null   float64\n",
      " 2   arma    2755 non-null   float64\n",
      " 3   ar      2755 non-null   float64\n",
      "dtypes: float64(4)\n",
      "memory usage: 323.6+ KB\n"
     ]
    }
   ],
   "source": [
    "preds = X2.assign(arma=arma_preds, ar=ar_preds).sample(frac=.1).sort_values(['t-5', 't-20'])\n",
    "preds.info()"
   ]
  },
  {
   "cell_type": "code",
   "execution_count": 21,
   "metadata": {
    "ExecuteTime": {
     "end_time": "2018-10-31T22:34:16.076706Z",
     "start_time": "2018-10-31T22:06:38.865Z"
    }
   },
   "outputs": [],
   "source": [
    "q = 4\n",
    "preds['t-5q'] = pd.qcut(preds['t-5'], q=q, labels=list(range(1, q+1)), duplicates='drop').astype(int)\n",
    "preds['t-20q'] = pd.qcut(preds['t-20'], q=q, labels=list(range(1, q+1))).astype(int)"
   ]
  },
  {
   "cell_type": "markdown",
   "metadata": {},
   "source": [
    "#### Decision Surfaces"
   ]
  },
  {
   "cell_type": "markdown",
   "metadata": {},
   "source": [
    "The plot of the decision surface for both time series models illustrates how the ARMA model is capable of representing a more complex dynamic relationship."
   ]
  },
  {
   "cell_type": "code",
   "execution_count": 22,
   "metadata": {
    "ExecuteTime": {
     "end_time": "2018-10-31T22:34:16.077708Z",
     "start_time": "2018-10-31T22:06:38.875Z"
    }
   },
   "outputs": [
    {
     "data": {
      "image/png": "[encoded data removed]",
      "text/plain": [
       "<Figure size 1008x432 with 4 Axes>"
      ]
     },
     "metadata": {},
     "output_type": "display_data"
    }
   ],
   "source": [
    "fig, axes = plt.subplots(ncols=2, figsize=(14, 6))\n",
    "sns.heatmap(preds.groupby(['t-5q', 't-20q']).ar.median().unstack(), ax=axes[0], cmap='BuPu_r')\n",
    "axes[0].set_title('AR(2) Model')\n",
    "sns.heatmap(preds.groupby(['t-5q', 't-20q']).arma.median().unstack(), ax=axes[1], cmap='BuPu_r')\n",
    "axes[1].set_title('ARMA(2,2) Model')\n",
    "fig.tight_layout();"
   ]
  },
  {
   "cell_type": "markdown",
   "metadata": {},
   "source": [
    "### sklearn Linear Regression"
   ]
  },
  {
   "cell_type": "code",
   "execution_count": 23,
   "metadata": {
    "ExecuteTime": {
     "end_time": "2018-10-31T22:34:16.078692Z",
     "start_time": "2018-10-31T22:06:38.882Z"
    }
   },
   "outputs": [],
   "source": [
    "lin_reg = LinearRegression()"
   ]
  },
  {
   "cell_type": "code",
   "execution_count": 24,
   "metadata": {
    "ExecuteTime": {
     "end_time": "2018-10-31T22:34:16.079858Z",
     "start_time": "2018-10-31T22:06:38.885Z"
    }
   },
   "outputs": [
    {
     "data": {
      "text/plain": [
       "LinearRegression(copy_X=True, fit_intercept=True, n_jobs=None, normalize=False)"
      ]
     },
     "execution_count": 24,
     "metadata": {},
     "output_type": "execute_result"
    }
   ],
   "source": [
    "# %%timeit\n",
    "lin_reg.fit(X=X2,y=y)"
   ]
  },
  {
   "cell_type": "code",
   "execution_count": 25,
   "metadata": {
    "ExecuteTime": {
     "end_time": "2018-10-31T22:34:16.084325Z",
     "start_time": "2018-10-31T22:06:38.897Z"
    }
   },
   "outputs": [
    {
     "data": {
      "text/plain": [
       "0.00035433473120230935"
      ]
     },
     "execution_count": 25,
     "metadata": {},
     "output_type": "execute_result"
    }
   ],
   "source": [
    "lin_reg.intercept_"
   ]
  },
  {
   "cell_type": "code",
   "execution_count": 26,
   "metadata": {
    "ExecuteTime": {
     "end_time": "2018-10-31T22:34:16.085484Z",
     "start_time": "2018-10-31T22:06:38.901Z"
    }
   },
   "outputs": [
    {
     "data": {
      "text/plain": [
       "array([0.2053612 , 0.02413856])"
      ]
     },
     "execution_count": 26,
     "metadata": {},
     "output_type": "execute_result"
    }
   ],
   "source": [
    "lin_reg.coef_"
   ]
  },
  {
   "cell_type": "markdown",
   "metadata": {},
   "source": [
    "### Linear Regression vs Regressin Tree Decision Surfaces"
   ]
  },
  {
   "cell_type": "code",
   "execution_count": 27,
   "metadata": {
    "ExecuteTime": {
     "end_time": "2018-10-31T22:34:16.087092Z",
     "start_time": "2018-10-31T22:06:38.904Z"
    }
   },
   "outputs": [],
   "source": [
    "t1, t2 = np.meshgrid(np.linspace(X2['t-5'].quantile(.01), X2['t-5'].quantile(.99), 100),\n",
    "                     np.linspace(X2['t-20'].quantile(.01), X2['t-20'].quantile(.99), 100))\n",
    "X_data = np.c_[t1.ravel(), t2.ravel()]"
   ]
  },
  {
   "cell_type": "code",
   "execution_count": 28,
   "metadata": {
    "ExecuteTime": {
     "end_time": "2018-10-31T22:34:16.089090Z",
     "start_time": "2018-10-31T22:06:38.922Z"
    },
    "scrolled": false
   },
   "outputs": [
    {
     "data": {
      "image/png": "[encoded data removed]",
      "text/plain": [
       "<Figure size 864x360 with 4 Axes>"
      ]
     },
     "metadata": {},
     "output_type": "display_data"
    }
   ],
   "source": [
    "fig, axes = plt.subplots(ncols=2, figsize=(12,5))\n",
    "\n",
    "# Linear Regression\n",
    "ret1 = lin_reg.predict(X_data).reshape(t1.shape)\n",
    "surface1 = axes[0].contourf(t1, t2, ret1, cmap='Blues')\n",
    "plt.colorbar(mappable=surface1, ax=axes[0])\n",
    "\n",
    "# Regression Tree\n",
    "ret2 = reg_tree_t2.predict(X_data).reshape(t1.shape)\n",
    "surface2 = axes[1].contourf(t1, t2, ret2, cmap='Blues')\n",
    "# surface2 = axes[1].contourf(t1, t2, np.clip(ret2, a_min=-.05, a_max=.05), cmap='Blues')\n",
    "plt.colorbar(mappable=surface2, ax=axes[1])\n",
    "\n",
    "# Format plots\n",
    "titles = ['Linear Regression', 'Regression Tree']\n",
    "for i, ax in enumerate(axes):\n",
    "    ax.set_xlabel('t-5')\n",
    "    ax.set_ylabel('t-20')\n",
    "    ax.set_title(titles[i])\n",
    "\n",
    "fig.suptitle('Decision Surfaces', fontsize=20)\n",
    "fig.tight_layout()\n",
    "fig.subplots_adjust(top=.9);"
   ]
  },
  {
   "cell_type": "markdown",
   "metadata": {},
   "source": [
    "## Simple Classification Tree"
   ]
  },
  {
   "cell_type": "markdown",
   "metadata": {},
   "source": [
    "### Loss Functions"
   ]
  },
  {
   "cell_type": "code",
   "execution_count": 29,
   "metadata": {
    "ExecuteTime": {
     "end_time": "2018-10-31T22:34:16.095170Z",
     "start_time": "2018-10-31T22:06:38.934Z"
    }
   },
   "outputs": [],
   "source": [
    "def entropy(f):\n",
    "    return (-f*np.log2(f) - (1-f)*np.log2(1-f))/2"
   ]
  },
  {
   "cell_type": "code",
   "execution_count": 30,
   "metadata": {
    "ExecuteTime": {
     "end_time": "2018-10-31T22:34:16.096711Z",
     "start_time": "2018-10-31T22:06:38.943Z"
    }
   },
   "outputs": [],
   "source": [
    "def gini(f):\n",
    "    return 2*f*(1-f)"
   ]
  },
  {
   "cell_type": "code",
   "execution_count": 31,
   "metadata": {
    "ExecuteTime": {
     "end_time": "2018-10-31T22:34:16.098059Z",
     "start_time": "2018-10-31T22:06:38.952Z"
    }
   },
   "outputs": [],
   "source": [
    "def misclassification_rate(f):\n",
    "    return np.where(f<=.5, f, 1-f)"
   ]
  },
  {
   "cell_type": "code",
   "execution_count": 32,
   "metadata": {
    "ExecuteTime": {
     "end_time": "2018-10-31T22:34:16.100377Z",
     "start_time": "2018-10-31T22:06:38.969Z"
    }
   },
   "outputs": [
    {
     "data": {
      "image/png": "[encoded data removed]",
      "text/plain": [
       "<Figure size 432x288 with 1 Axes>"
      ]
     },
     "metadata": {},
     "output_type": "display_data"
    }
   ],
   "source": [
    "x = np.linspace(0, 1, 10000)\n",
    "(pd.DataFrame({'Gini': gini(x), \n",
    "              'Entropy': entropy(x),\n",
    "             'Misclassification Rate': misclassification_rate(x)}, index=x)\n",
    " .plot(title='Classification Loss Functions', lw=2));"
   ]
  },
  {
   "cell_type": "markdown",
   "metadata": {},
   "source": [
    "#### Compare computation time"
   ]
  },
  {
   "cell_type": "markdown",
   "metadata": {},
   "source": [
    "Gini is often preferred over entropy because it computes faster:"
   ]
  },
  {
   "cell_type": "code",
   "execution_count": 33,
   "metadata": {
    "ExecuteTime": {
     "end_time": "2018-10-31T22:34:16.103157Z",
     "start_time": "2018-10-31T22:06:38.978Z"
    }
   },
   "outputs": [
    {
     "name": "stdout",
     "output_type": "stream",
     "text": [
      "18.3 µs ± 762 ns per loop (mean ± std. dev. of 7 runs, 100000 loops each)\n"
     ]
    }
   ],
   "source": [
    "%%timeit\n",
    "misclassification_rate(x)"
   ]
  },
  {
   "cell_type": "code",
   "execution_count": 34,
   "metadata": {
    "ExecuteTime": {
     "end_time": "2018-10-31T22:34:16.105649Z",
     "start_time": "2018-10-31T22:06:38.986Z"
    }
   },
   "outputs": [
    {
     "name": "stdout",
     "output_type": "stream",
     "text": [
      "14.3 µs ± 1.35 µs per loop (mean ± std. dev. of 7 runs, 100000 loops each)\n"
     ]
    }
   ],
   "source": [
    "%%timeit\n",
    "gini(x)"
   ]
  },
  {
   "cell_type": "code",
   "execution_count": 35,
   "metadata": {
    "ExecuteTime": {
     "end_time": "2018-10-31T22:34:16.106843Z",
     "start_time": "2018-10-31T22:06:38.994Z"
    }
   },
   "outputs": [
    {
     "name": "stdout",
     "output_type": "stream",
     "text": [
      "241 µs ± 6.7 µs per loop (mean ± std. dev. of 7 runs, 1000 loops each)\n"
     ]
    }
   ],
   "source": [
    "%%timeit\n",
    "entropy(x)"
   ]
  },
  {
   "cell_type": "markdown",
   "metadata": {},
   "source": [
    "### Configure Tree"
   ]
  },
  {
   "cell_type": "code",
   "execution_count": 36,
   "metadata": {
    "ExecuteTime": {
     "end_time": "2018-10-31T22:34:16.109952Z",
     "start_time": "2018-10-31T22:06:39.005Z"
    }
   },
   "outputs": [],
   "source": [
    "clf_tree_t2 = DecisionTreeClassifier(criterion='gini',\n",
    "                                     splitter='best',\n",
    "                                     max_depth=4,\n",
    "                                     min_samples_split=2,\n",
    "                                     min_samples_leaf=1,\n",
    "                                     min_weight_fraction_leaf=0.0,\n",
    "                                     max_features=None,\n",
    "                                     random_state=42,\n",
    "                                     max_leaf_nodes=None,\n",
    "                                     min_impurity_decrease=0.0,\n",
    "                                     min_impurity_split=None,\n",
    "                                     class_weight=None,\n",
    "                                     presort=False)"
   ]
  },
  {
   "cell_type": "markdown",
   "metadata": {},
   "source": [
    "### Train Tree"
   ]
  },
  {
   "cell_type": "code",
   "execution_count": 37,
   "metadata": {
    "ExecuteTime": {
     "end_time": "2018-10-31T22:34:16.111002Z",
     "start_time": "2018-10-31T22:06:39.017Z"
    },
    "scrolled": true
   },
   "outputs": [
    {
     "data": {
      "text/plain": [
       "DecisionTreeClassifier(ccp_alpha=0.0, class_weight=None, criterion='gini',\n",
       "                       max_depth=4, max_features=None, max_leaf_nodes=None,\n",
       "                       min_impurity_decrease=0.0, min_impurity_split=None,\n",
       "                       min_samples_leaf=1, min_samples_split=2,\n",
       "                       min_weight_fraction_leaf=0.0, presort=False,\n",
       "                       random_state=42, splitter='best')"
      ]
     },
     "execution_count": 37,
     "metadata": {},
     "output_type": "execute_result"
    }
   ],
   "source": [
    "# %%timeit\n",
    "clf_tree_t2.fit(X=X2, y=y_binary)"
   ]
  },
  {
   "cell_type": "markdown",
   "metadata": {},
   "source": [
    "### Visualize Tree"
   ]
  },
  {
   "cell_type": "code",
   "execution_count": 38,
   "metadata": {
    "ExecuteTime": {
     "end_time": "2018-10-31T22:34:16.115952Z",
     "start_time": "2018-10-31T22:06:39.049Z"
    }
   },
   "outputs": [
    {
     "data": {
      "text/plain": [
       "'Source.gv.png'"
      ]
     },
     "execution_count": 38,
     "metadata": {},
     "output_type": "execute_result"
    }
   ],
   "source": [
    "out_file = 'figures/clf_tree_t2.dot'\n",
    "dot_data = export_graphviz(clf_tree_t2,\n",
    "                           out_file=out_file,\n",
    "                           feature_names=X2.columns,\n",
    "                           class_names=['Down', 'Up'],\n",
    "                           max_depth=10,\n",
    "                           filled=True,\n",
    "                           rounded=True,\n",
    "                           special_characters=True)\n",
    "if out_file is not None:\n",
    "    dot_data = Path(out_file).read_text()\n",
    "\n",
    "g = graphviz.Source(dot_data,format=\"png\")\n",
    "g.render()"
   ]
  },
  {
   "cell_type": "markdown",
   "metadata": {},
   "source": [
    "### Compare with Logistic Regression"
   ]
  },
  {
   "cell_type": "markdown",
   "metadata": {},
   "source": [
    "#### Statsmodels"
   ]
  },
  {
   "cell_type": "code",
   "execution_count": 39,
   "metadata": {
    "ExecuteTime": {
     "end_time": "2018-10-31T22:34:16.120856Z",
     "start_time": "2018-10-31T22:06:39.068Z"
    }
   },
   "outputs": [
    {
     "name": "stdout",
     "output_type": "stream",
     "text": [
      "Optimization terminated successfully.\n",
      "         Current function value: 0.633783\n",
      "         Iterations 5\n",
      "                           Logit Regression Results                           \n",
      "==============================================================================\n",
      "Dep. Variable:                returns   No. Observations:                27548\n",
      "Model:                          Logit   Df Residuals:                    27545\n",
      "Method:                           MLE   Df Model:                            2\n",
      "Date:                Sun, 17 May 2020   Pseudo R-squ.:                 0.02246\n",
      "Time:                        16:49:50   Log-Likelihood:                -17459.\n",
      "converged:                       True   LL-Null:                       -17861.\n",
      "Covariance Type:            nonrobust   LLR p-value:                6.050e-175\n",
      "==============================================================================\n",
      "                 coef    std err          z      P>|z|      [0.025      0.975]\n",
      "------------------------------------------------------------------------------\n",
      "const         -0.6595      0.013    -50.587      0.000      -0.685      -0.634\n",
      "t-5           53.5687      1.981     27.048      0.000      49.687      57.450\n",
      "t-20           6.5017      1.913      3.400      0.001       2.753      10.250\n",
      "==============================================================================\n"
     ]
    }
   ],
   "source": [
    "model = sm.Logit(endog=y_binary, exog=sm.add_constant(X2)).fit()\n",
    "print(model.summary())"
   ]
  },
  {
   "cell_type": "markdown",
   "metadata": {},
   "source": [
    "#### sklearn"
   ]
  },
  {
   "cell_type": "code",
   "execution_count": 40,
   "metadata": {
    "ExecuteTime": {
     "end_time": "2018-10-31T22:34:16.124316Z",
     "start_time": "2018-10-31T22:06:39.078Z"
    }
   },
   "outputs": [],
   "source": [
    "logistic_reg = LogisticRegression()"
   ]
  },
  {
   "cell_type": "code",
   "execution_count": 41,
   "metadata": {
    "ExecuteTime": {
     "end_time": "2018-10-31T22:34:16.125951Z",
     "start_time": "2018-10-31T22:06:39.086Z"
    }
   },
   "outputs": [
    {
     "data": {
      "text/plain": [
       "LogisticRegression(C=1.0, class_weight=None, dual=False, fit_intercept=True,\n",
       "                   intercept_scaling=1, l1_ratio=None, max_iter=100,\n",
       "                   multi_class='auto', n_jobs=None, penalty='l2',\n",
       "                   random_state=None, solver='lbfgs', tol=0.0001, verbose=0,\n",
       "                   warm_start=False)"
      ]
     },
     "execution_count": 41,
     "metadata": {},
     "output_type": "execute_result"
    }
   ],
   "source": [
    "# %%timeit\n",
    "logistic_reg.fit(X=X2, y=y_binary)"
   ]
  },
  {
   "cell_type": "code",
   "execution_count": 42,
   "metadata": {
    "ExecuteTime": {
     "end_time": "2018-10-31T22:34:16.129350Z",
     "start_time": "2018-10-31T22:06:39.094Z"
    }
   },
   "outputs": [
    {
     "data": {
      "text/plain": [
       "array([[11.54895035,  2.131106  ]])"
      ]
     },
     "execution_count": 42,
     "metadata": {},
     "output_type": "execute_result"
    }
   ],
   "source": [
    "logistic_reg.coef_"
   ]
  },
  {
   "cell_type": "markdown",
   "metadata": {},
   "source": [
    "### Plot Decision Surfaces"
   ]
  },
  {
   "cell_type": "code",
   "execution_count": 43,
   "metadata": {
    "ExecuteTime": {
     "end_time": "2018-10-31T22:34:16.132367Z",
     "start_time": "2018-10-31T22:06:39.105Z"
    }
   },
   "outputs": [
    {
     "data": {
      "image/png": "[encoded data removed]",
      "text/plain": [
       "<Figure size 864x360 with 4 Axes>"
      ]
     },
     "metadata": {},
     "output_type": "display_data"
    }
   ],
   "source": [
    "fig, axes = plt.subplots(ncols=2, figsize=(12,5))\n",
    "\n",
    "# Linear Regression\n",
    "ret1 = logistic_reg.predict_proba(X_data)[:, 1].reshape(t1.shape)\n",
    "surface1 = axes[0].contourf(t1, t2, ret1, cmap='Blues')\n",
    "plt.colorbar(mappable=surface1, ax=axes[0])\n",
    "\n",
    "# Regression Tree\n",
    "ret2 = clf_tree_t2.predict_proba(X_data)[:, 1].reshape(t1.shape)\n",
    "surface2 = axes[1].contourf(t1, t2, ret2, cmap='Blues')\n",
    "plt.colorbar(mappable=surface2, ax=axes[1])\n",
    "\n",
    "# Format plots\n",
    "titles = ['Logistic Regression', 'Classification Tree']\n",
    "for i, ax in enumerate(axes):\n",
    "    ax.set_xlabel('t-5')\n",
    "    ax.set_ylabel('t-20')\n",
    "    ax.set_title(titles[i])\n",
    "\n",
    "fig.suptitle('Decision Surfaces', fontsize=20)\n",
    "fig.tight_layout()\n",
    "fig.subplots_adjust(top=.9);"
   ]
  },
  {
   "cell_type": "markdown",
   "metadata": {},
   "source": [
    "## Regression Tree with all Features"
   ]
  },
  {
   "cell_type": "markdown",
   "metadata": {},
   "source": [
    "### Train-Test Split"
   ]
  },
  {
   "cell_type": "code",
   "execution_count": 44,
   "metadata": {
    "ExecuteTime": {
     "end_time": "2018-10-31T22:34:16.162314Z",
     "start_time": "2018-10-31T22:06:39.234Z"
    }
   },
   "outputs": [],
   "source": [
    "X_train, X_test, y_train, y_test = train_test_split(X, y, test_size=0.2, random_state=42)"
   ]
  },
  {
   "cell_type": "code",
   "execution_count": 45,
   "metadata": {},
   "outputs": [
    {
     "name": "stdout",
     "output_type": "stream",
     "text": [
      "       ticker  date      \n",
      "27412  XOM     2020-09-04   -0.016420\n",
      "22613  DIS     2019-09-16   -0.016085\n",
      "26600  AAPL    2020-02-15    0.000000\n",
      "18602  KO      2019-11-04    0.001501\n",
      "1837   MCD     2017-06-27   -0.001559\n",
      "                               ...   \n",
      "19155  XOM     2019-02-05   -0.017541\n",
      "2616   AAPL    2017-07-26    0.004714\n",
      "17539  INTC    2019-02-03    0.000000\n",
      "3287   MSFT    2017-08-19    0.000000\n",
      "2638   V       2017-07-26    0.008601\n",
      "Name: returns, Length: 5510, dtype: float64\n"
     ]
    }
   ],
   "source": [
    "print( y_test)"
   ]
  },
  {
   "cell_type": "markdown",
   "metadata": {},
   "source": [
    "### Configure Tree"
   ]
  },
  {
   "cell_type": "code",
   "execution_count": 46,
   "metadata": {
    "ExecuteTime": {
     "end_time": "2018-10-31T22:34:16.163307Z",
     "start_time": "2018-10-31T22:06:39.243Z"
    }
   },
   "outputs": [],
   "source": [
    "regression_tree = DecisionTreeRegressor(criterion='mse',\n",
    "                                        splitter='best',\n",
    "                                        max_depth=5,\n",
    "                                        min_samples_split=2,\n",
    "                                        min_samples_leaf=1,\n",
    "                                        min_weight_fraction_leaf=0.0,\n",
    "                                        max_features=None,\n",
    "                                        random_state=42,\n",
    "                                        max_leaf_nodes=None,\n",
    "                                        min_impurity_decrease=0.0,\n",
    "                                        min_impurity_split=None,\n",
    "                                        presort=False)"
   ]
  },
  {
   "cell_type": "markdown",
   "metadata": {},
   "source": [
    "### Train Model"
   ]
  },
  {
   "cell_type": "code",
   "execution_count": 47,
   "metadata": {
    "ExecuteTime": {
     "end_time": "2018-10-31T22:34:16.164295Z",
     "start_time": "2018-10-31T22:06:39.252Z"
    },
    "scrolled": true
   },
   "outputs": [
    {
     "data": {
      "text/plain": [
       "DecisionTreeRegressor(ccp_alpha=0.0, criterion='mse', max_depth=5,\n",
       "                      max_features=None, max_leaf_nodes=None,\n",
       "                      min_impurity_decrease=0.0, min_impurity_split=None,\n",
       "                      min_samples_leaf=1, min_samples_split=2,\n",
       "                      min_weight_fraction_leaf=0.0, presort=False,\n",
       "                      random_state=42, splitter='best')"
      ]
     },
     "execution_count": 47,
     "metadata": {},
     "output_type": "execute_result"
    }
   ],
   "source": [
    "regression_tree.fit(X=X_train, y=y_train)"
   ]
  },
  {
   "cell_type": "markdown",
   "metadata": {},
   "source": [
    "### Visualize Tree"
   ]
  },
  {
   "cell_type": "markdown",
   "metadata": {},
   "source": [
    "The result shows that the model uses a variety of different features and indicates the split rules for both continuous and categorical (dummy) variables. "
   ]
  },
  {
   "cell_type": "code",
   "execution_count": 48,
   "metadata": {
    "ExecuteTime": {
     "end_time": "2018-10-31T22:34:16.165329Z",
     "start_time": "2018-10-31T22:06:39.261Z"
    },
    "scrolled": false
   },
   "outputs": [
    {
     "data": {
      "image/svg+xml": [
       "<?xml version=\"1.0\" encoding=\"UTF-8\" standalone=\"no\"?>\r\n",
       "<!DOCTYPE svg PUBLIC \"-//W3C//DTD SVG 1.1//EN\"\r\n",
       " \"http://www.w3.org/Graphics/SVG/1.1/DTD/svg11.dtd\">\r\n",
       "<!-- Generated by graphviz version 2.38.0 (20140413.2041)\r\n",
       " -->\r\n",
       "<!-- Title: Tree Pages: 1 -->\r\n",
       "<svg width=\"3803pt\" height=\"581pt\"\r\n",
       " viewBox=\"0.00 0.00 3803.00 581.00\" xmlns=\"http://www.w3.org/2000/svg\" xmlns:xlink=\"http://www.w3.org/1999/xlink\">\r\n",
       "<g id=\"graph0\" class=\"graph\" transform=\"scale(1 1) rotate(0) translate(4 577)\">\r\n",
       "<title>Tree</title>\r\n",
       "<polygon fill=\"white\" stroke=\"none\" points=\"-4,4 -4,-577 3799,-577 3799,4 -4,4\"/>\r\n",
       "<!-- 0 -->\r\n",
       "<g id=\"node1\" class=\"node\"><title>0</title>\r\n",
       "<path fill=\"#f0b890\" stroke=\"black\" d=\"M2126.5,-573C2126.5,-573 2022.5,-573 2022.5,-573 2016.5,-573 2010.5,-567 2010.5,-561 2010.5,-561 2010.5,-517 2010.5,-517 2010.5,-511 2016.5,-505 2022.5,-505 2022.5,-505 2126.5,-505 2126.5,-505 2132.5,-505 2138.5,-511 2138.5,-517 2138.5,-517 2138.5,-561 2138.5,-561 2138.5,-567 2132.5,-573 2126.5,-573\"/>\r\n",
       "<text text-anchor=\"start\" x=\"2040\" y=\"-557.8\" font-family=\"Helvetica,sans-Serif\" font-size=\"14.00\">t&#45;5 ≤ 0.002</text>\r\n",
       "<text text-anchor=\"start\" x=\"2042.5\" y=\"-542.8\" font-family=\"Helvetica,sans-Serif\" font-size=\"14.00\">mse = 0.0</text>\r\n",
       "<text text-anchor=\"start\" x=\"2018.5\" y=\"-527.8\" font-family=\"Helvetica,sans-Serif\" font-size=\"14.00\">samples = 22038</text>\r\n",
       "<text text-anchor=\"start\" x=\"2039.5\" y=\"-512.8\" font-family=\"Helvetica,sans-Serif\" font-size=\"14.00\">value = 0.0</text>\r\n",
       "</g>\r\n",
       "<!-- 1 -->\r\n",
       "<g id=\"node2\" class=\"node\"><title>1</title>\r\n",
       "<path fill=\"#f1bb94\" stroke=\"black\" d=\"M1594.5,-469C1594.5,-469 1490.5,-469 1490.5,-469 1484.5,-469 1478.5,-463 1478.5,-457 1478.5,-457 1478.5,-413 1478.5,-413 1478.5,-407 1484.5,-401 1490.5,-401 1490.5,-401 1594.5,-401 1594.5,-401 1600.5,-401 1606.5,-407 1606.5,-413 1606.5,-413 1606.5,-457 1606.5,-457 1606.5,-463 1600.5,-469 1594.5,-469\"/>\r\n",
       "<text text-anchor=\"start\" x=\"1506\" y=\"-453.8\" font-family=\"Helvetica,sans-Serif\" font-size=\"14.00\">t&#45;5 ≤ &#45;0.007</text>\r\n",
       "<text text-anchor=\"start\" x=\"1510.5\" y=\"-438.8\" font-family=\"Helvetica,sans-Serif\" font-size=\"14.00\">mse = 0.0</text>\r\n",
       "<text text-anchor=\"start\" x=\"1486.5\" y=\"-423.8\" font-family=\"Helvetica,sans-Serif\" font-size=\"14.00\">samples = 15309</text>\r\n",
       "<text text-anchor=\"start\" x=\"1505.5\" y=\"-408.8\" font-family=\"Helvetica,sans-Serif\" font-size=\"14.00\">value = &#45;0.0</text>\r\n",
       "</g>\r\n",
       "<!-- 0&#45;&gt;1 -->\r\n",
       "<g id=\"edge1\" class=\"edge\"><title>0&#45;&gt;1</title>\r\n",
       "<path fill=\"none\" stroke=\"black\" d=\"M2010.33,-525.696C1911.27,-506.704 1721.62,-470.343 1616.78,-450.241\"/>\r\n",
       "<polygon fill=\"black\" stroke=\"black\" points=\"1617.38,-446.793 1606.9,-448.347 1616.06,-453.668 1617.38,-446.793\"/>\r\n",
       "<text text-anchor=\"middle\" x=\"1620.93\" y=\"-465.337\" font-family=\"Helvetica,sans-Serif\" font-size=\"14.00\">True</text>\r\n",
       "</g>\r\n",
       "<!-- 32 -->\r\n",
       "<g id=\"node33\" class=\"node\"><title>32</title>\r\n",
       "<path fill=\"#efb286\" stroke=\"black\" d=\"M2538,-469C2538,-469 2443,-469 2443,-469 2437,-469 2431,-463 2431,-457 2431,-457 2431,-413 2431,-413 2431,-407 2437,-401 2443,-401 2443,-401 2538,-401 2538,-401 2544,-401 2550,-407 2550,-413 2550,-413 2550,-457 2550,-457 2550,-463 2544,-469 2538,-469\"/>\r\n",
       "<text text-anchor=\"start\" x=\"2456\" y=\"-453.8\" font-family=\"Helvetica,sans-Serif\" font-size=\"14.00\">t&#45;5 ≤ 0.009</text>\r\n",
       "<text text-anchor=\"start\" x=\"2458.5\" y=\"-438.8\" font-family=\"Helvetica,sans-Serif\" font-size=\"14.00\">mse = 0.0</text>\r\n",
       "<text text-anchor=\"start\" x=\"2439\" y=\"-423.8\" font-family=\"Helvetica,sans-Serif\" font-size=\"14.00\">samples = 6729</text>\r\n",
       "<text text-anchor=\"start\" x=\"2447.5\" y=\"-408.8\" font-family=\"Helvetica,sans-Serif\" font-size=\"14.00\">value = 0.002</text>\r\n",
       "</g>\r\n",
       "<!-- 0&#45;&gt;32 -->\r\n",
       "<g id=\"edge32\" class=\"edge\"><title>0&#45;&gt;32</title>\r\n",
       "<path fill=\"none\" stroke=\"black\" d=\"M2138.59,-522.286C2214.98,-503.556 2342.16,-472.372 2420.9,-453.066\"/>\r\n",
       "<polygon fill=\"black\" stroke=\"black\" points=\"2421.85,-456.437 2430.73,-450.656 2420.18,-449.638 2421.85,-456.437\"/>\r\n",
       "<text text-anchor=\"middle\" x=\"2417.77\" y=\"-468.335\" font-family=\"Helvetica,sans-Serif\" font-size=\"14.00\">False</text>\r\n",
       "</g>\r\n",
       "<!-- 2 -->\r\n",
       "<g id=\"node3\" class=\"node\"><title>2</title>\r\n",
       "<path fill=\"#f2c29f\" stroke=\"black\" d=\"M796,-365C796,-365 701,-365 701,-365 695,-365 689,-359 689,-353 689,-353 689,-309 689,-309 689,-303 695,-297 701,-297 701,-297 796,-297 796,-297 802,-297 808,-303 808,-309 808,-309 808,-353 808,-353 808,-359 802,-365 796,-365\"/>\r\n",
       "<text text-anchor=\"start\" x=\"712\" y=\"-349.8\" font-family=\"Helvetica,sans-Serif\" font-size=\"14.00\">t&#45;5 ≤ &#45;0.013</text>\r\n",
       "<text text-anchor=\"start\" x=\"716.5\" y=\"-334.8\" font-family=\"Helvetica,sans-Serif\" font-size=\"14.00\">mse = 0.0</text>\r\n",
       "<text text-anchor=\"start\" x=\"697\" y=\"-319.8\" font-family=\"Helvetica,sans-Serif\" font-size=\"14.00\">samples = 2491</text>\r\n",
       "<text text-anchor=\"start\" x=\"703\" y=\"-304.8\" font-family=\"Helvetica,sans-Serif\" font-size=\"14.00\">value = &#45;0.002</text>\r\n",
       "</g>\r\n",
       "<!-- 1&#45;&gt;2 -->\r\n",
       "<g id=\"edge2\" class=\"edge\"><title>1&#45;&gt;2</title>\r\n",
       "<path fill=\"none\" stroke=\"black\" d=\"M1478.2,-425.739C1331.04,-406.835 970.766,-360.553 818.383,-340.977\"/>\r\n",
       "<polygon fill=\"black\" stroke=\"black\" points=\"818.578,-337.474 808.214,-339.671 817.686,-344.417 818.578,-337.474\"/>\r\n",
       "</g>\r\n",
       "<!-- 17 -->\r\n",
       "<g id=\"node18\" class=\"node\"><title>17</title>\r\n",
       "<path fill=\"#f1ba92\" stroke=\"black\" d=\"M1594.5,-365C1594.5,-365 1490.5,-365 1490.5,-365 1484.5,-365 1478.5,-359 1478.5,-353 1478.5,-353 1478.5,-309 1478.5,-309 1478.5,-303 1484.5,-297 1490.5,-297 1490.5,-297 1594.5,-297 1594.5,-297 1600.5,-297 1606.5,-303 1606.5,-309 1606.5,-309 1606.5,-353 1606.5,-353 1606.5,-359 1600.5,-365 1594.5,-365\"/>\r\n",
       "<text text-anchor=\"start\" x=\"1506\" y=\"-349.8\" font-family=\"Helvetica,sans-Serif\" font-size=\"14.00\">t&#45;5 ≤ &#45;0.003</text>\r\n",
       "<text text-anchor=\"start\" x=\"1510.5\" y=\"-334.8\" font-family=\"Helvetica,sans-Serif\" font-size=\"14.00\">mse = 0.0</text>\r\n",
       "<text text-anchor=\"start\" x=\"1486.5\" y=\"-319.8\" font-family=\"Helvetica,sans-Serif\" font-size=\"14.00\">samples = 12818</text>\r\n",
       "<text text-anchor=\"start\" x=\"1507.5\" y=\"-304.8\" font-family=\"Helvetica,sans-Serif\" font-size=\"14.00\">value = 0.0</text>\r\n",
       "</g>\r\n",
       "<!-- 1&#45;&gt;17 -->\r\n",
       "<g id=\"edge17\" class=\"edge\"><title>1&#45;&gt;17</title>\r\n",
       "<path fill=\"none\" stroke=\"black\" d=\"M1542.5,-400.884C1542.5,-392.778 1542.5,-383.982 1542.5,-375.472\"/>\r\n",
       "<polygon fill=\"black\" stroke=\"black\" points=\"1546,-375.299 1542.5,-365.299 1539,-375.299 1546,-375.299\"/>\r\n",
       "</g>\r\n",
       "<!-- 3 -->\r\n",
       "<g id=\"node4\" class=\"node\"><title>3</title>\r\n",
       "<path fill=\"#f3c5a4\" stroke=\"black\" d=\"M422,-261C422,-261 335,-261 335,-261 329,-261 323,-255 323,-249 323,-249 323,-205 323,-205 323,-199 329,-193 335,-193 335,-193 422,-193 422,-193 428,-193 434,-199 434,-205 434,-205 434,-249 434,-249 434,-255 428,-261 422,-261\"/>\r\n",
       "<text text-anchor=\"start\" x=\"346\" y=\"-245.8\" font-family=\"Helvetica,sans-Serif\" font-size=\"14.00\">t&#45;20 ≤ &#45;0.0</text>\r\n",
       "<text text-anchor=\"start\" x=\"346.5\" y=\"-230.8\" font-family=\"Helvetica,sans-Serif\" font-size=\"14.00\">mse = 0.0</text>\r\n",
       "<text text-anchor=\"start\" x=\"331\" y=\"-215.8\" font-family=\"Helvetica,sans-Serif\" font-size=\"14.00\">samples = 809</text>\r\n",
       "<text text-anchor=\"start\" x=\"333\" y=\"-200.8\" font-family=\"Helvetica,sans-Serif\" font-size=\"14.00\">value = &#45;0.003</text>\r\n",
       "</g>\r\n",
       "<!-- 2&#45;&gt;3 -->\r\n",
       "<g id=\"edge3\" class=\"edge\"><title>2&#45;&gt;3</title>\r\n",
       "<path fill=\"none\" stroke=\"black\" d=\"M688.642,-313.499C621.582,-295.012 513.225,-265.14 443.962,-246.046\"/>\r\n",
       "<polygon fill=\"black\" stroke=\"black\" points=\"444.607,-242.594 434.037,-243.31 442.747,-249.342 444.607,-242.594\"/>\r\n",
       "</g>\r\n",
       "<!-- 10 -->\r\n",
       "<g id=\"node11\" class=\"node\"><title>10</title>\r\n",
       "<path fill=\"#f2c09c\" stroke=\"black\" d=\"M796,-261C796,-261 701,-261 701,-261 695,-261 689,-255 689,-249 689,-249 689,-205 689,-205 689,-199 695,-193 701,-193 701,-193 796,-193 796,-193 802,-193 808,-199 808,-205 808,-205 808,-249 808,-249 808,-255 802,-261 796,-261\"/>\r\n",
       "<text text-anchor=\"start\" x=\"712\" y=\"-245.8\" font-family=\"Helvetica,sans-Serif\" font-size=\"14.00\">t&#45;5 ≤ &#45;0.013</text>\r\n",
       "<text text-anchor=\"start\" x=\"716.5\" y=\"-230.8\" font-family=\"Helvetica,sans-Serif\" font-size=\"14.00\">mse = 0.0</text>\r\n",
       "<text text-anchor=\"start\" x=\"697\" y=\"-215.8\" font-family=\"Helvetica,sans-Serif\" font-size=\"14.00\">samples = 1682</text>\r\n",
       "<text text-anchor=\"start\" x=\"703\" y=\"-200.8\" font-family=\"Helvetica,sans-Serif\" font-size=\"14.00\">value = &#45;0.002</text>\r\n",
       "</g>\r\n",
       "<!-- 2&#45;&gt;10 -->\r\n",
       "<g id=\"edge10\" class=\"edge\"><title>2&#45;&gt;10</title>\r\n",
       "<path fill=\"none\" stroke=\"black\" d=\"M748.5,-296.884C748.5,-288.778 748.5,-279.982 748.5,-271.472\"/>\r\n",
       "<polygon fill=\"black\" stroke=\"black\" points=\"752,-271.299 748.5,-261.299 745,-271.299 752,-271.299\"/>\r\n",
       "</g>\r\n",
       "<!-- 4 -->\r\n",
       "<g id=\"node5\" class=\"node\"><title>4</title>\r\n",
       "<path fill=\"#f2c29f\" stroke=\"black\" d=\"M228,-157C228,-157 141,-157 141,-157 135,-157 129,-151 129,-145 129,-145 129,-101 129,-101 129,-95 135,-89 141,-89 141,-89 228,-89 228,-89 234,-89 240,-95 240,-101 240,-101 240,-145 240,-145 240,-151 234,-157 228,-157\"/>\r\n",
       "<text text-anchor=\"start\" x=\"148\" y=\"-141.8\" font-family=\"Helvetica,sans-Serif\" font-size=\"14.00\">t&#45;20 ≤ &#45;0.01</text>\r\n",
       "<text text-anchor=\"start\" x=\"152.5\" y=\"-126.8\" font-family=\"Helvetica,sans-Serif\" font-size=\"14.00\">mse = 0.0</text>\r\n",
       "<text text-anchor=\"start\" x=\"137\" y=\"-111.8\" font-family=\"Helvetica,sans-Serif\" font-size=\"14.00\">samples = 369</text>\r\n",
       "<text text-anchor=\"start\" x=\"139\" y=\"-96.8\" font-family=\"Helvetica,sans-Serif\" font-size=\"14.00\">value = &#45;0.002</text>\r\n",
       "</g>\r\n",
       "<!-- 3&#45;&gt;4 -->\r\n",
       "<g id=\"edge4\" class=\"edge\"><title>3&#45;&gt;4</title>\r\n",
       "<path fill=\"none\" stroke=\"black\" d=\"M322.907,-196.771C299.874,-184.66 273.006,-170.534 249.102,-157.966\"/>\r\n",
       "<polygon fill=\"black\" stroke=\"black\" points=\"250.581,-154.789 240.101,-153.233 247.323,-160.985 250.581,-154.789\"/>\r\n",
       "</g>\r\n",
       "<!-- 7 -->\r\n",
       "<g id=\"node8\" class=\"node\"><title>7</title>\r\n",
       "<path fill=\"#f4c7a8\" stroke=\"black\" d=\"M422,-157C422,-157 335,-157 335,-157 329,-157 323,-151 323,-145 323,-145 323,-101 323,-101 323,-95 329,-89 335,-89 335,-89 422,-89 422,-89 428,-89 434,-95 434,-101 434,-101 434,-145 434,-145 434,-151 428,-157 422,-157\"/>\r\n",
       "<text text-anchor=\"start\" x=\"340\" y=\"-141.8\" font-family=\"Helvetica,sans-Serif\" font-size=\"14.00\">t&#45;20 ≤ 0.006</text>\r\n",
       "<text text-anchor=\"start\" x=\"346.5\" y=\"-126.8\" font-family=\"Helvetica,sans-Serif\" font-size=\"14.00\">mse = 0.0</text>\r\n",
       "<text text-anchor=\"start\" x=\"331\" y=\"-111.8\" font-family=\"Helvetica,sans-Serif\" font-size=\"14.00\">samples = 440</text>\r\n",
       "<text text-anchor=\"start\" x=\"333\" y=\"-96.8\" font-family=\"Helvetica,sans-Serif\" font-size=\"14.00\">value = &#45;0.004</text>\r\n",
       "</g>\r\n",
       "<!-- 3&#45;&gt;7 -->\r\n",
       "<g id=\"edge7\" class=\"edge\"><title>3&#45;&gt;7</title>\r\n",
       "<path fill=\"none\" stroke=\"black\" d=\"M378.5,-192.884C378.5,-184.778 378.5,-175.982 378.5,-167.472\"/>\r\n",
       "<polygon fill=\"black\" stroke=\"black\" points=\"382,-167.299 378.5,-157.299 375,-167.299 382,-167.299\"/>\r\n",
       "</g>\r\n",
       "<!-- 5 -->\r\n",
       "<g id=\"node6\" class=\"node\"><title>5</title>\r\n",
       "<path fill=\"#f4c8a9\" stroke=\"black\" d=\"M99,-53C99,-53 12,-53 12,-53 6,-53 0,-47 0,-41 0,-41 0,-12 0,-12 0,-6 6,-0 12,-0 12,-0 99,-0 99,-0 105,-0 111,-6 111,-12 111,-12 111,-41 111,-41 111,-47 105,-53 99,-53\"/>\r\n",
       "<text text-anchor=\"start\" x=\"23.5\" y=\"-37.8\" font-family=\"Helvetica,sans-Serif\" font-size=\"14.00\">mse = 0.0</text>\r\n",
       "<text text-anchor=\"start\" x=\"8\" y=\"-22.8\" font-family=\"Helvetica,sans-Serif\" font-size=\"14.00\">samples = 111</text>\r\n",
       "<text text-anchor=\"start\" x=\"10\" y=\"-7.8\" font-family=\"Helvetica,sans-Serif\" font-size=\"14.00\">value = &#45;0.004</text>\r\n",
       "</g>\r\n",
       "<!-- 4&#45;&gt;5 -->\r\n",
       "<g id=\"edge5\" class=\"edge\"><title>4&#45;&gt;5</title>\r\n",
       "<path fill=\"none\" stroke=\"black\" d=\"M139.382,-88.9485C126.27,-79.3431 111.98,-68.8747 98.9709,-59.345\"/>\r\n",
       "<polygon fill=\"black\" stroke=\"black\" points=\"100.768,-56.3228 90.6326,-53.2367 96.6313,-61.9698 100.768,-56.3228\"/>\r\n",
       "</g>\r\n",
       "<!-- 6 -->\r\n",
       "<g id=\"node7\" class=\"node\"><title>6</title>\r\n",
       "<path fill=\"#f2bf9b\" stroke=\"black\" d=\"M228,-53C228,-53 141,-53 141,-53 135,-53 129,-47 129,-41 129,-41 129,-12 129,-12 129,-6 135,-0 141,-0 141,-0 228,-0 228,-0 234,-0 240,-6 240,-12 240,-12 240,-41 240,-41 240,-47 234,-53 228,-53\"/>\r\n",
       "<text text-anchor=\"start\" x=\"152.5\" y=\"-37.8\" font-family=\"Helvetica,sans-Serif\" font-size=\"14.00\">mse = 0.0</text>\r\n",
       "<text text-anchor=\"start\" x=\"137\" y=\"-22.8\" font-family=\"Helvetica,sans-Serif\" font-size=\"14.00\">samples = 258</text>\r\n",
       "<text text-anchor=\"start\" x=\"139\" y=\"-7.8\" font-family=\"Helvetica,sans-Serif\" font-size=\"14.00\">value = &#45;0.002</text>\r\n",
       "</g>\r\n",
       "<!-- 4&#45;&gt;6 -->\r\n",
       "<g id=\"edge6\" class=\"edge\"><title>4&#45;&gt;6</title>\r\n",
       "<path fill=\"none\" stroke=\"black\" d=\"M184.5,-88.9485C184.5,-80.7153 184.5,-71.848 184.5,-63.4814\"/>\r\n",
       "<polygon fill=\"black\" stroke=\"black\" points=\"188,-63.2367 184.5,-53.2367 181,-63.2367 188,-63.2367\"/>\r\n",
       "</g>\r\n",
       "<!-- 8 -->\r\n",
       "<g id=\"node9\" class=\"node\"><title>8</title>\r\n",
       "<path fill=\"#f4caab\" stroke=\"black\" d=\"M357,-53C357,-53 270,-53 270,-53 264,-53 258,-47 258,-41 258,-41 258,-12 258,-12 258,-6 264,-0 270,-0 270,-0 357,-0 357,-0 363,-0 369,-6 369,-12 369,-12 369,-41 369,-41 369,-47 363,-53 357,-53\"/>\r\n",
       "<text text-anchor=\"start\" x=\"281.5\" y=\"-37.8\" font-family=\"Helvetica,sans-Serif\" font-size=\"14.00\">mse = 0.0</text>\r\n",
       "<text text-anchor=\"start\" x=\"266\" y=\"-22.8\" font-family=\"Helvetica,sans-Serif\" font-size=\"14.00\">samples = 293</text>\r\n",
       "<text text-anchor=\"start\" x=\"268\" y=\"-7.8\" font-family=\"Helvetica,sans-Serif\" font-size=\"14.00\">value = &#45;0.004</text>\r\n",
       "</g>\r\n",
       "<!-- 7&#45;&gt;8 -->\r\n",
       "<g id=\"edge8\" class=\"edge\"><title>7&#45;&gt;8</title>\r\n",
       "<path fill=\"none\" stroke=\"black\" d=\"M355.766,-88.9485C349.663,-80.0749 343.053,-70.4648 336.913,-61.5388\"/>\r\n",
       "<polygon fill=\"black\" stroke=\"black\" points=\"339.753,-59.4924 331.202,-53.2367 333.986,-63.4594 339.753,-59.4924\"/>\r\n",
       "</g>\r\n",
       "<!-- 9 -->\r\n",
       "<g id=\"node10\" class=\"node\"><title>9</title>\r\n",
       "<path fill=\"#f3c3a1\" stroke=\"black\" d=\"M486,-53C486,-53 399,-53 399,-53 393,-53 387,-47 387,-41 387,-41 387,-12 387,-12 387,-6 393,-0 399,-0 399,-0 486,-0 486,-0 492,-0 498,-6 498,-12 498,-12 498,-41 498,-41 498,-47 492,-53 486,-53\"/>\r\n",
       "<text text-anchor=\"start\" x=\"410.5\" y=\"-37.8\" font-family=\"Helvetica,sans-Serif\" font-size=\"14.00\">mse = 0.0</text>\r\n",
       "<text text-anchor=\"start\" x=\"395\" y=\"-22.8\" font-family=\"Helvetica,sans-Serif\" font-size=\"14.00\">samples = 147</text>\r\n",
       "<text text-anchor=\"start\" x=\"397\" y=\"-7.8\" font-family=\"Helvetica,sans-Serif\" font-size=\"14.00\">value = &#45;0.003</text>\r\n",
       "</g>\r\n",
       "<!-- 7&#45;&gt;9 -->\r\n",
       "<g id=\"edge9\" class=\"edge\"><title>7&#45;&gt;9</title>\r\n",
       "<path fill=\"none\" stroke=\"black\" d=\"M400.884,-88.9485C406.894,-80.0749 413.402,-70.4648 419.447,-61.5388\"/>\r\n",
       "<polygon fill=\"black\" stroke=\"black\" points=\"422.36,-63.4792 425.07,-53.2367 416.564,-59.5539 422.36,-63.4792\"/>\r\n",
       "</g>\r\n",
       "<!-- 11 -->\r\n",
       "<g id=\"node12\" class=\"node\"><title>11</title>\r\n",
       "<path fill=\"#ea9c63\" stroke=\"black\" d=\"M722.5,-157C722.5,-157 644.5,-157 644.5,-157 638.5,-157 632.5,-151 632.5,-145 632.5,-145 632.5,-101 632.5,-101 632.5,-95 638.5,-89 644.5,-89 644.5,-89 722.5,-89 722.5,-89 728.5,-89 734.5,-95 734.5,-101 734.5,-101 734.5,-145 734.5,-145 734.5,-151 728.5,-157 722.5,-157\"/>\r\n",
       "<text text-anchor=\"start\" x=\"647\" y=\"-141.8\" font-family=\"Helvetica,sans-Serif\" font-size=\"14.00\">t&#45;5 ≤ &#45;0.013</text>\r\n",
       "<text text-anchor=\"start\" x=\"651.5\" y=\"-126.8\" font-family=\"Helvetica,sans-Serif\" font-size=\"14.00\">mse = 0.0</text>\r\n",
       "<text text-anchor=\"start\" x=\"644\" y=\"-111.8\" font-family=\"Helvetica,sans-Serif\" font-size=\"14.00\">samples = 4</text>\r\n",
       "<text text-anchor=\"start\" x=\"640.5\" y=\"-96.8\" font-family=\"Helvetica,sans-Serif\" font-size=\"14.00\">value = 0.008</text>\r\n",
       "</g>\r\n",
       "<!-- 10&#45;&gt;11 -->\r\n",
       "<g id=\"edge11\" class=\"edge\"><title>10&#45;&gt;11</title>\r\n",
       "<path fill=\"none\" stroke=\"black\" d=\"M727.396,-192.884C721.89,-184.243 715.885,-174.819 710.133,-165.793\"/>\r\n",
       "<polygon fill=\"black\" stroke=\"black\" points=\"713.046,-163.852 704.72,-157.299 707.143,-167.614 713.046,-163.852\"/>\r\n",
       "</g>\r\n",
       "<!-- 14 -->\r\n",
       "<g id=\"node15\" class=\"node\"><title>14</title>\r\n",
       "<path fill=\"#f2c09c\" stroke=\"black\" d=\"M860,-157C860,-157 765,-157 765,-157 759,-157 753,-151 753,-145 753,-145 753,-101 753,-101 753,-95 759,-89 765,-89 765,-89 860,-89 860,-89 866,-89 872,-95 872,-101 872,-101 872,-145 872,-145 872,-151 866,-157 860,-157\"/>\r\n",
       "<text text-anchor=\"start\" x=\"771.5\" y=\"-141.8\" font-family=\"Helvetica,sans-Serif\" font-size=\"14.00\">t&#45;20 ≤ &#45;0.015</text>\r\n",
       "<text text-anchor=\"start\" x=\"780.5\" y=\"-126.8\" font-family=\"Helvetica,sans-Serif\" font-size=\"14.00\">mse = 0.0</text>\r\n",
       "<text text-anchor=\"start\" x=\"761\" y=\"-111.8\" font-family=\"Helvetica,sans-Serif\" font-size=\"14.00\">samples = 1678</text>\r\n",
       "<text text-anchor=\"start\" x=\"767\" y=\"-96.8\" font-family=\"Helvetica,sans-Serif\" font-size=\"14.00\">value = &#45;0.002</text>\r\n",
       "</g>\r\n",
       "<!-- 10&#45;&gt;14 -->\r\n",
       "<g id=\"edge14\" class=\"edge\"><title>10&#45;&gt;14</title>\r\n",
       "<path fill=\"none\" stroke=\"black\" d=\"M769.279,-192.884C774.7,-184.243 780.613,-174.819 786.277,-165.793\"/>\r\n",
       "<polygon fill=\"black\" stroke=\"black\" points=\"789.256,-167.63 791.606,-157.299 783.327,-163.91 789.256,-167.63\"/>\r\n",
       "</g>\r\n",
       "<!-- 12 -->\r\n",
       "<g id=\"node13\" class=\"node\"><title>12</title>\r\n",
       "<path fill=\"#f0b68c\" stroke=\"black\" d=\"M606.5,-53C606.5,-53 528.5,-53 528.5,-53 522.5,-53 516.5,-47 516.5,-41 516.5,-41 516.5,-12 516.5,-12 516.5,-6 522.5,-0 528.5,-0 528.5,-0 606.5,-0 606.5,-0 612.5,-0 618.5,-6 618.5,-12 618.5,-12 618.5,-41 618.5,-41 618.5,-47 612.5,-53 606.5,-53\"/>\r\n",
       "<text text-anchor=\"start\" x=\"535.5\" y=\"-37.8\" font-family=\"Helvetica,sans-Serif\" font-size=\"14.00\">mse = 0.0</text>\r\n",
       "<text text-anchor=\"start\" x=\"528\" y=\"-22.8\" font-family=\"Helvetica,sans-Serif\" font-size=\"14.00\">samples = 2</text>\r\n",
       "<text text-anchor=\"start\" x=\"524.5\" y=\"-7.8\" font-family=\"Helvetica,sans-Serif\" font-size=\"14.00\">value = 0.001</text>\r\n",
       "</g>\r\n",
       "<!-- 11&#45;&gt;12 -->\r\n",
       "<g id=\"edge12\" class=\"edge\"><title>11&#45;&gt;12</title>\r\n",
       "<path fill=\"none\" stroke=\"black\" d=\"M642.929,-88.9485C631.25,-79.4346 618.533,-69.074 606.925,-59.6175\"/>\r\n",
       "<polygon fill=\"black\" stroke=\"black\" points=\"609.056,-56.8392 599.092,-53.2367 604.635,-62.2663 609.056,-56.8392\"/>\r\n",
       "</g>\r\n",
       "<!-- 13 -->\r\n",
       "<g id=\"node14\" class=\"node\"><title>13</title>\r\n",
       "<path fill=\"#e58139\" stroke=\"black\" d=\"M726.5,-53C726.5,-53 648.5,-53 648.5,-53 642.5,-53 636.5,-47 636.5,-41 636.5,-41 636.5,-12 636.5,-12 636.5,-6 642.5,-0 648.5,-0 648.5,-0 726.5,-0 726.5,-0 732.5,-0 738.5,-6 738.5,-12 738.5,-12 738.5,-41 738.5,-41 738.5,-47 732.5,-53 726.5,-53\"/>\r\n",
       "<text text-anchor=\"start\" x=\"655.5\" y=\"-37.8\" font-family=\"Helvetica,sans-Serif\" font-size=\"14.00\">mse = 0.0</text>\r\n",
       "<text text-anchor=\"start\" x=\"648\" y=\"-22.8\" font-family=\"Helvetica,sans-Serif\" font-size=\"14.00\">samples = 2</text>\r\n",
       "<text text-anchor=\"start\" x=\"644.5\" y=\"-7.8\" font-family=\"Helvetica,sans-Serif\" font-size=\"14.00\">value = 0.016</text>\r\n",
       "</g>\r\n",
       "<!-- 11&#45;&gt;13 -->\r\n",
       "<g id=\"edge13\" class=\"edge\"><title>11&#45;&gt;13</title>\r\n",
       "<path fill=\"none\" stroke=\"black\" d=\"M684.899,-88.9485C685.248,-80.7153 685.623,-71.848 685.977,-63.4814\"/>\r\n",
       "<polygon fill=\"black\" stroke=\"black\" points=\"689.484,-63.3758 686.411,-53.2367 682.491,-63.0797 689.484,-63.3758\"/>\r\n",
       "</g>\r\n",
       "<!-- 15 -->\r\n",
       "<g id=\"node16\" class=\"node\"><title>15</title>\r\n",
       "<path fill=\"#f0b88f\" stroke=\"black\" d=\"M848,-53C848,-53 769,-53 769,-53 763,-53 757,-47 757,-41 757,-41 757,-12 757,-12 757,-6 763,-0 769,-0 769,-0 848,-0 848,-0 854,-0 860,-6 860,-12 860,-12 860,-41 860,-41 860,-47 854,-53 848,-53\"/>\r\n",
       "<text text-anchor=\"start\" x=\"776.5\" y=\"-37.8\" font-family=\"Helvetica,sans-Serif\" font-size=\"14.00\">mse = 0.0</text>\r\n",
       "<text text-anchor=\"start\" x=\"765\" y=\"-22.8\" font-family=\"Helvetica,sans-Serif\" font-size=\"14.00\">samples = 72</text>\r\n",
       "<text text-anchor=\"start\" x=\"765.5\" y=\"-7.8\" font-family=\"Helvetica,sans-Serif\" font-size=\"14.00\">value = 0.001</text>\r\n",
       "</g>\r\n",
       "<!-- 14&#45;&gt;15 -->\r\n",
       "<g id=\"edge15\" class=\"edge\"><title>14&#45;&gt;15</title>\r\n",
       "<path fill=\"none\" stroke=\"black\" d=\"M811.101,-88.9485C810.752,-80.7153 810.377,-71.848 810.023,-63.4814\"/>\r\n",
       "<polygon fill=\"black\" stroke=\"black\" points=\"813.509,-63.0797 809.589,-53.2367 806.516,-63.3758 813.509,-63.0797\"/>\r\n",
       "</g>\r\n",
       "<!-- 16 -->\r\n",
       "<g id=\"node17\" class=\"node\"><title>16</title>\r\n",
       "<path fill=\"#f2c09d\" stroke=\"black\" d=\"M985,-53C985,-53 890,-53 890,-53 884,-53 878,-47 878,-41 878,-41 878,-12 878,-12 878,-6 884,-0 890,-0 890,-0 985,-0 985,-0 991,-0 997,-6 997,-12 997,-12 997,-41 997,-41 997,-47 991,-53 985,-53\"/>\r\n",
       "<text text-anchor=\"start\" x=\"905.5\" y=\"-37.8\" font-family=\"Helvetica,sans-Serif\" font-size=\"14.00\">mse = 0.0</text>\r\n",
       "<text text-anchor=\"start\" x=\"886\" y=\"-22.8\" font-family=\"Helvetica,sans-Serif\" font-size=\"14.00\">samples = 1606</text>\r\n",
       "<text text-anchor=\"start\" x=\"892\" y=\"-7.8\" font-family=\"Helvetica,sans-Serif\" font-size=\"14.00\">value = &#45;0.002</text>\r\n",
       "</g>\r\n",
       "<!-- 14&#45;&gt;16 -->\r\n",
       "<g id=\"edge16\" class=\"edge\"><title>14&#45;&gt;16</title>\r\n",
       "<path fill=\"none\" stroke=\"black\" d=\"M856.219,-88.9485C868.924,-79.3431 882.772,-68.8747 895.377,-59.345\"/>\r\n",
       "<polygon fill=\"black\" stroke=\"black\" points=\"897.59,-62.0593 903.457,-53.2367 893.369,-56.4754 897.59,-62.0593\"/>\r\n",
       "</g>\r\n",
       "<!-- 18 -->\r\n",
       "<g id=\"node19\" class=\"node\"><title>18</title>\r\n",
       "<path fill=\"#f1bc95\" stroke=\"black\" d=\"M1440,-261C1440,-261 1345,-261 1345,-261 1339,-261 1333,-255 1333,-249 1333,-249 1333,-205 1333,-205 1333,-199 1339,-193 1345,-193 1345,-193 1440,-193 1440,-193 1446,-193 1452,-199 1452,-205 1452,-205 1452,-249 1452,-249 1452,-255 1446,-261 1440,-261\"/>\r\n",
       "<text text-anchor=\"start\" x=\"1362\" y=\"-245.8\" font-family=\"Helvetica,sans-Serif\" font-size=\"14.00\">t&#45;20 ≤ 0.0</text>\r\n",
       "<text text-anchor=\"start\" x=\"1360.5\" y=\"-230.8\" font-family=\"Helvetica,sans-Serif\" font-size=\"14.00\">mse = 0.0</text>\r\n",
       "<text text-anchor=\"start\" x=\"1341\" y=\"-215.8\" font-family=\"Helvetica,sans-Serif\" font-size=\"14.00\">samples = 2188</text>\r\n",
       "<text text-anchor=\"start\" x=\"1347\" y=\"-200.8\" font-family=\"Helvetica,sans-Serif\" font-size=\"14.00\">value = &#45;0.001</text>\r\n",
       "</g>\r\n",
       "<!-- 17&#45;&gt;18 -->\r\n",
       "<g id=\"edge18\" class=\"edge\"><title>17&#45;&gt;18</title>\r\n",
       "<path fill=\"none\" stroke=\"black\" d=\"M1493.8,-296.884C1479.71,-287.304 1464.21,-276.761 1449.65,-266.864\"/>\r\n",
       "<polygon fill=\"black\" stroke=\"black\" points=\"1451.45,-263.854 1441.21,-261.125 1447.51,-269.642 1451.45,-263.854\"/>\r\n",
       "</g>\r\n",
       "<!-- 25 -->\r\n",
       "<g id=\"node26\" class=\"node\"><title>25</title>\r\n",
       "<path fill=\"#f1b991\" stroke=\"black\" d=\"M1684.5,-261C1684.5,-261 1580.5,-261 1580.5,-261 1574.5,-261 1568.5,-255 1568.5,-249 1568.5,-249 1568.5,-205 1568.5,-205 1568.5,-199 1574.5,-193 1580.5,-193 1580.5,-193 1684.5,-193 1684.5,-193 1690.5,-193 1696.5,-199 1696.5,-205 1696.5,-205 1696.5,-249 1696.5,-249 1696.5,-255 1690.5,-261 1684.5,-261\"/>\r\n",
       "<text text-anchor=\"start\" x=\"1596\" y=\"-245.8\" font-family=\"Helvetica,sans-Serif\" font-size=\"14.00\">t&#45;5 ≤ &#45;0.003</text>\r\n",
       "<text text-anchor=\"start\" x=\"1600.5\" y=\"-230.8\" font-family=\"Helvetica,sans-Serif\" font-size=\"14.00\">mse = 0.0</text>\r\n",
       "<text text-anchor=\"start\" x=\"1576.5\" y=\"-215.8\" font-family=\"Helvetica,sans-Serif\" font-size=\"14.00\">samples = 10630</text>\r\n",
       "<text text-anchor=\"start\" x=\"1597.5\" y=\"-200.8\" font-family=\"Helvetica,sans-Serif\" font-size=\"14.00\">value = 0.0</text>\r\n",
       "</g>\r\n",
       "<!-- 17&#45;&gt;25 -->\r\n",
       "<g id=\"edge25\" class=\"edge\"><title>17&#45;&gt;25</title>\r\n",
       "<path fill=\"none\" stroke=\"black\" d=\"M1571.72,-296.884C1579.58,-287.976 1588.17,-278.235 1596.36,-268.957\"/>\r\n",
       "<polygon fill=\"black\" stroke=\"black\" points=\"1599.13,-271.113 1603.12,-261.299 1593.88,-266.482 1599.13,-271.113\"/>\r\n",
       "</g>\r\n",
       "<!-- 19 -->\r\n",
       "<g id=\"node20\" class=\"node\"><title>19</title>\r\n",
       "<path fill=\"#f2be98\" stroke=\"black\" d=\"M1247,-157C1247,-157 1152,-157 1152,-157 1146,-157 1140,-151 1140,-145 1140,-145 1140,-101 1140,-101 1140,-95 1146,-89 1152,-89 1152,-89 1247,-89 1247,-89 1253,-89 1259,-95 1259,-101 1259,-101 1259,-145 1259,-145 1259,-151 1253,-157 1247,-157\"/>\r\n",
       "<text text-anchor=\"start\" x=\"1163\" y=\"-141.8\" font-family=\"Helvetica,sans-Serif\" font-size=\"14.00\">t&#45;5 ≤ &#45;0.004</text>\r\n",
       "<text text-anchor=\"start\" x=\"1167.5\" y=\"-126.8\" font-family=\"Helvetica,sans-Serif\" font-size=\"14.00\">mse = 0.0</text>\r\n",
       "<text text-anchor=\"start\" x=\"1148\" y=\"-111.8\" font-family=\"Helvetica,sans-Serif\" font-size=\"14.00\">samples = 1244</text>\r\n",
       "<text text-anchor=\"start\" x=\"1154\" y=\"-96.8\" font-family=\"Helvetica,sans-Serif\" font-size=\"14.00\">value = &#45;0.001</text>\r\n",
       "</g>\r\n",
       "<!-- 18&#45;&gt;19 -->\r\n",
       "<g id=\"edge19\" class=\"edge\"><title>18&#45;&gt;19</title>\r\n",
       "<path fill=\"none\" stroke=\"black\" d=\"M1332.76,-194.425C1312.32,-183.623 1289.29,-171.454 1268.2,-160.308\"/>\r\n",
       "<polygon fill=\"black\" stroke=\"black\" points=\"1269.77,-157.179 1259.29,-155.601 1266.5,-163.368 1269.77,-157.179\"/>\r\n",
       "</g>\r\n",
       "<!-- 22 -->\r\n",
       "<g id=\"node23\" class=\"node\"><title>22</title>\r\n",
       "<path fill=\"#f1b992\" stroke=\"black\" d=\"M1436,-157C1436,-157 1349,-157 1349,-157 1343,-157 1337,-151 1337,-145 1337,-145 1337,-101 1337,-101 1337,-95 1343,-89 1349,-89 1349,-89 1436,-89 1436,-89 1442,-89 1448,-95 1448,-101 1448,-101 1448,-145 1448,-145 1448,-151 1442,-157 1436,-157\"/>\r\n",
       "<text text-anchor=\"start\" x=\"1354\" y=\"-141.8\" font-family=\"Helvetica,sans-Serif\" font-size=\"14.00\">t&#45;20 ≤ 0.017</text>\r\n",
       "<text text-anchor=\"start\" x=\"1360.5\" y=\"-126.8\" font-family=\"Helvetica,sans-Serif\" font-size=\"14.00\">mse = 0.0</text>\r\n",
       "<text text-anchor=\"start\" x=\"1345\" y=\"-111.8\" font-family=\"Helvetica,sans-Serif\" font-size=\"14.00\">samples = 944</text>\r\n",
       "<text text-anchor=\"start\" x=\"1357.5\" y=\"-96.8\" font-family=\"Helvetica,sans-Serif\" font-size=\"14.00\">value = 0.0</text>\r\n",
       "</g>\r\n",
       "<!-- 18&#45;&gt;22 -->\r\n",
       "<g id=\"edge22\" class=\"edge\"><title>18&#45;&gt;22</title>\r\n",
       "<path fill=\"none\" stroke=\"black\" d=\"M1392.5,-192.884C1392.5,-184.778 1392.5,-175.982 1392.5,-167.472\"/>\r\n",
       "<polygon fill=\"black\" stroke=\"black\" points=\"1396,-167.299 1392.5,-157.299 1389,-167.299 1396,-167.299\"/>\r\n",
       "</g>\r\n",
       "<!-- 20 -->\r\n",
       "<g id=\"node21\" class=\"node\"><title>20</title>\r\n",
       "<path fill=\"#f1bc96\" stroke=\"black\" d=\"M1114,-53C1114,-53 1027,-53 1027,-53 1021,-53 1015,-47 1015,-41 1015,-41 1015,-12 1015,-12 1015,-6 1021,-0 1027,-0 1027,-0 1114,-0 1114,-0 1120,-0 1126,-6 1126,-12 1126,-12 1126,-41 1126,-41 1126,-47 1120,-53 1114,-53\"/>\r\n",
       "<text text-anchor=\"start\" x=\"1038.5\" y=\"-37.8\" font-family=\"Helvetica,sans-Serif\" font-size=\"14.00\">mse = 0.0</text>\r\n",
       "<text text-anchor=\"start\" x=\"1023\" y=\"-22.8\" font-family=\"Helvetica,sans-Serif\" font-size=\"14.00\">samples = 830</text>\r\n",
       "<text text-anchor=\"start\" x=\"1025\" y=\"-7.8\" font-family=\"Helvetica,sans-Serif\" font-size=\"14.00\">value = &#45;0.001</text>\r\n",
       "</g>\r\n",
       "<!-- 19&#45;&gt;20 -->\r\n",
       "<g id=\"edge20\" class=\"edge\"><title>19&#45;&gt;20</title>\r\n",
       "<path fill=\"none\" stroke=\"black\" d=\"M1154.38,-88.9485C1141.27,-79.3431 1126.98,-68.8747 1113.97,-59.345\"/>\r\n",
       "<polygon fill=\"black\" stroke=\"black\" points=\"1115.77,-56.3228 1105.63,-53.2367 1111.63,-61.9698 1115.77,-56.3228\"/>\r\n",
       "</g>\r\n",
       "<!-- 21 -->\r\n",
       "<g id=\"node22\" class=\"node\"><title>21</title>\r\n",
       "<path fill=\"#f2c09c\" stroke=\"black\" d=\"M1243,-53C1243,-53 1156,-53 1156,-53 1150,-53 1144,-47 1144,-41 1144,-41 1144,-12 1144,-12 1144,-6 1150,-0 1156,-0 1156,-0 1243,-0 1243,-0 1249,-0 1255,-6 1255,-12 1255,-12 1255,-41 1255,-41 1255,-47 1249,-53 1243,-53\"/>\r\n",
       "<text text-anchor=\"start\" x=\"1167.5\" y=\"-37.8\" font-family=\"Helvetica,sans-Serif\" font-size=\"14.00\">mse = 0.0</text>\r\n",
       "<text text-anchor=\"start\" x=\"1152\" y=\"-22.8\" font-family=\"Helvetica,sans-Serif\" font-size=\"14.00\">samples = 414</text>\r\n",
       "<text text-anchor=\"start\" x=\"1154\" y=\"-7.8\" font-family=\"Helvetica,sans-Serif\" font-size=\"14.00\">value = &#45;0.002</text>\r\n",
       "</g>\r\n",
       "<!-- 19&#45;&gt;21 -->\r\n",
       "<g id=\"edge21\" class=\"edge\"><title>19&#45;&gt;21</title>\r\n",
       "<path fill=\"none\" stroke=\"black\" d=\"M1199.5,-88.9485C1199.5,-80.7153 1199.5,-71.848 1199.5,-63.4814\"/>\r\n",
       "<polygon fill=\"black\" stroke=\"black\" points=\"1203,-63.2367 1199.5,-53.2367 1196,-63.2367 1203,-63.2367\"/>\r\n",
       "</g>\r\n",
       "<!-- 23 -->\r\n",
       "<g id=\"node24\" class=\"node\"><title>23</title>\r\n",
       "<path fill=\"#f1ba92\" stroke=\"black\" d=\"M1372,-53C1372,-53 1285,-53 1285,-53 1279,-53 1273,-47 1273,-41 1273,-41 1273,-12 1273,-12 1273,-6 1279,-0 1285,-0 1285,-0 1372,-0 1372,-0 1378,-0 1384,-6 1384,-12 1384,-12 1384,-41 1384,-41 1384,-47 1378,-53 1372,-53\"/>\r\n",
       "<text text-anchor=\"start\" x=\"1296.5\" y=\"-37.8\" font-family=\"Helvetica,sans-Serif\" font-size=\"14.00\">mse = 0.0</text>\r\n",
       "<text text-anchor=\"start\" x=\"1281\" y=\"-22.8\" font-family=\"Helvetica,sans-Serif\" font-size=\"14.00\">samples = 914</text>\r\n",
       "<text text-anchor=\"start\" x=\"1293.5\" y=\"-7.8\" font-family=\"Helvetica,sans-Serif\" font-size=\"14.00\">value = 0.0</text>\r\n",
       "</g>\r\n",
       "<!-- 22&#45;&gt;23 -->\r\n",
       "<g id=\"edge23\" class=\"edge\"><title>22&#45;&gt;23</title>\r\n",
       "<path fill=\"none\" stroke=\"black\" d=\"M1370.12,-88.9485C1364.11,-80.0749 1357.6,-70.4648 1351.55,-61.5388\"/>\r\n",
       "<polygon fill=\"black\" stroke=\"black\" points=\"1354.44,-59.5539 1345.93,-53.2367 1348.64,-63.4792 1354.44,-59.5539\"/>\r\n",
       "</g>\r\n",
       "<!-- 24 -->\r\n",
       "<g id=\"node25\" class=\"node\"><title>24</title>\r\n",
       "<path fill=\"#eead7f\" stroke=\"black\" d=\"M1493,-53C1493,-53 1414,-53 1414,-53 1408,-53 1402,-47 1402,-41 1402,-41 1402,-12 1402,-12 1402,-6 1408,-0 1414,-0 1414,-0 1493,-0 1493,-0 1499,-0 1505,-6 1505,-12 1505,-12 1505,-41 1505,-41 1505,-47 1499,-53 1493,-53\"/>\r\n",
       "<text text-anchor=\"start\" x=\"1421.5\" y=\"-37.8\" font-family=\"Helvetica,sans-Serif\" font-size=\"14.00\">mse = 0.0</text>\r\n",
       "<text text-anchor=\"start\" x=\"1410\" y=\"-22.8\" font-family=\"Helvetica,sans-Serif\" font-size=\"14.00\">samples = 30</text>\r\n",
       "<text text-anchor=\"start\" x=\"1410.5\" y=\"-7.8\" font-family=\"Helvetica,sans-Serif\" font-size=\"14.00\">value = 0.003</text>\r\n",
       "</g>\r\n",
       "<!-- 22&#45;&gt;24 -->\r\n",
       "<g id=\"edge24\" class=\"edge\"><title>22&#45;&gt;24</title>\r\n",
       "<path fill=\"none\" stroke=\"black\" d=\"M1413.83,-88.9485C1419.5,-80.1664 1425.64,-70.6629 1431.35,-61.815\"/>\r\n",
       "<polygon fill=\"black\" stroke=\"black\" points=\"1434.4,-63.5365 1436.89,-53.2367 1428.52,-59.7402 1434.4,-63.5365\"/>\r\n",
       "</g>\r\n",
       "<!-- 26 -->\r\n",
       "<g id=\"node27\" class=\"node\"><title>26</title>\r\n",
       "<path fill=\"#eeab7b\" stroke=\"black\" d=\"M1672,-157C1672,-157 1593,-157 1593,-157 1587,-157 1581,-151 1581,-145 1581,-145 1581,-101 1581,-101 1581,-95 1587,-89 1593,-89 1593,-89 1672,-89 1672,-89 1678,-89 1684,-95 1684,-101 1684,-101 1684,-145 1684,-145 1684,-151 1678,-157 1672,-157\"/>\r\n",
       "<text text-anchor=\"start\" x=\"1596\" y=\"-141.8\" font-family=\"Helvetica,sans-Serif\" font-size=\"14.00\">t&#45;5 ≤ &#45;0.003</text>\r\n",
       "<text text-anchor=\"start\" x=\"1600.5\" y=\"-126.8\" font-family=\"Helvetica,sans-Serif\" font-size=\"14.00\">mse = 0.0</text>\r\n",
       "<text text-anchor=\"start\" x=\"1589\" y=\"-111.8\" font-family=\"Helvetica,sans-Serif\" font-size=\"14.00\">samples = 27</text>\r\n",
       "<text text-anchor=\"start\" x=\"1589.5\" y=\"-96.8\" font-family=\"Helvetica,sans-Serif\" font-size=\"14.00\">value = 0.004</text>\r\n",
       "</g>\r\n",
       "<!-- 25&#45;&gt;26 -->\r\n",
       "<g id=\"edge26\" class=\"edge\"><title>25&#45;&gt;26</title>\r\n",
       "<path fill=\"none\" stroke=\"black\" d=\"M1632.5,-192.884C1632.5,-184.778 1632.5,-175.982 1632.5,-167.472\"/>\r\n",
       "<polygon fill=\"black\" stroke=\"black\" points=\"1636,-167.299 1632.5,-157.299 1629,-167.299 1636,-167.299\"/>\r\n",
       "</g>\r\n",
       "<!-- 29 -->\r\n",
       "<g id=\"node30\" class=\"node\"><title>29</title>\r\n",
       "<path fill=\"#f1b991\" stroke=\"black\" d=\"M1876.5,-157C1876.5,-157 1772.5,-157 1772.5,-157 1766.5,-157 1760.5,-151 1760.5,-145 1760.5,-145 1760.5,-101 1760.5,-101 1760.5,-95 1766.5,-89 1772.5,-89 1772.5,-89 1876.5,-89 1876.5,-89 1882.5,-89 1888.5,-95 1888.5,-101 1888.5,-101 1888.5,-145 1888.5,-145 1888.5,-151 1882.5,-157 1876.5,-157\"/>\r\n",
       "<text text-anchor=\"start\" x=\"1798.5\" y=\"-141.8\" font-family=\"Helvetica,sans-Serif\" font-size=\"14.00\">t&#45;5 ≤ 0.0</text>\r\n",
       "<text text-anchor=\"start\" x=\"1792.5\" y=\"-126.8\" font-family=\"Helvetica,sans-Serif\" font-size=\"14.00\">mse = 0.0</text>\r\n",
       "<text text-anchor=\"start\" x=\"1768.5\" y=\"-111.8\" font-family=\"Helvetica,sans-Serif\" font-size=\"14.00\">samples = 10603</text>\r\n",
       "<text text-anchor=\"start\" x=\"1789.5\" y=\"-96.8\" font-family=\"Helvetica,sans-Serif\" font-size=\"14.00\">value = 0.0</text>\r\n",
       "</g>\r\n",
       "<!-- 25&#45;&gt;29 -->\r\n",
       "<g id=\"edge29\" class=\"edge\"><title>25&#45;&gt;29</title>\r\n",
       "<path fill=\"none\" stroke=\"black\" d=\"M1694.84,-192.884C1713.46,-182.991 1734.02,-172.07 1753.17,-161.895\"/>\r\n",
       "<polygon fill=\"black\" stroke=\"black\" points=\"1754.96,-164.907 1762.15,-157.125 1751.67,-158.725 1754.96,-164.907\"/>\r\n",
       "</g>\r\n",
       "<!-- 27 -->\r\n",
       "<g id=\"node28\" class=\"node\"><title>27</title>\r\n",
       "<path fill=\"#efb083\" stroke=\"black\" d=\"M1614,-53C1614,-53 1535,-53 1535,-53 1529,-53 1523,-47 1523,-41 1523,-41 1523,-12 1523,-12 1523,-6 1529,-0 1535,-0 1535,-0 1614,-0 1614,-0 1620,-0 1626,-6 1626,-12 1626,-12 1626,-41 1626,-41 1626,-47 1620,-53 1614,-53\"/>\r\n",
       "<text text-anchor=\"start\" x=\"1542.5\" y=\"-37.8\" font-family=\"Helvetica,sans-Serif\" font-size=\"14.00\">mse = 0.0</text>\r\n",
       "<text text-anchor=\"start\" x=\"1531\" y=\"-22.8\" font-family=\"Helvetica,sans-Serif\" font-size=\"14.00\">samples = 23</text>\r\n",
       "<text text-anchor=\"start\" x=\"1531.5\" y=\"-7.8\" font-family=\"Helvetica,sans-Serif\" font-size=\"14.00\">value = 0.003</text>\r\n",
       "</g>\r\n",
       "<!-- 26&#45;&gt;27 -->\r\n",
       "<g id=\"edge27\" class=\"edge\"><title>26&#45;&gt;27</title>\r\n",
       "<path fill=\"none\" stroke=\"black\" d=\"M1612.21,-88.9485C1606.82,-80.1664 1600.99,-70.6629 1595.56,-61.815\"/>\r\n",
       "<polygon fill=\"black\" stroke=\"black\" points=\"1598.51,-59.9287 1590.3,-53.2367 1592.54,-63.5903 1598.51,-59.9287\"/>\r\n",
       "</g>\r\n",
       "<!-- 28 -->\r\n",
       "<g id=\"node29\" class=\"node\"><title>28</title>\r\n",
       "<path fill=\"#e78d4c\" stroke=\"black\" d=\"M1734.5,-53C1734.5,-53 1656.5,-53 1656.5,-53 1650.5,-53 1644.5,-47 1644.5,-41 1644.5,-41 1644.5,-12 1644.5,-12 1644.5,-6 1650.5,-0 1656.5,-0 1656.5,-0 1734.5,-0 1734.5,-0 1740.5,-0 1746.5,-6 1746.5,-12 1746.5,-12 1746.5,-41 1746.5,-41 1746.5,-47 1740.5,-53 1734.5,-53\"/>\r\n",
       "<text text-anchor=\"start\" x=\"1663.5\" y=\"-37.8\" font-family=\"Helvetica,sans-Serif\" font-size=\"14.00\">mse = 0.0</text>\r\n",
       "<text text-anchor=\"start\" x=\"1656\" y=\"-22.8\" font-family=\"Helvetica,sans-Serif\" font-size=\"14.00\">samples = 4</text>\r\n",
       "<text text-anchor=\"start\" x=\"1652.5\" y=\"-7.8\" font-family=\"Helvetica,sans-Serif\" font-size=\"14.00\">value = 0.012</text>\r\n",
       "</g>\r\n",
       "<!-- 26&#45;&gt;28 -->\r\n",
       "<g id=\"edge28\" class=\"edge\"><title>26&#45;&gt;28</title>\r\n",
       "<path fill=\"none\" stroke=\"black\" d=\"M1654.53,-88.9485C1660.39,-80.1664 1666.72,-70.6629 1672.62,-61.815\"/>\r\n",
       "<polygon fill=\"black\" stroke=\"black\" points=\"1675.71,-63.4987 1678.34,-53.2367 1669.88,-59.6158 1675.71,-63.4987\"/>\r\n",
       "</g>\r\n",
       "<!-- 30 -->\r\n",
       "<g id=\"node31\" class=\"node\"><title>30</title>\r\n",
       "<path fill=\"#f1b992\" stroke=\"black\" d=\"M1872,-53C1872,-53 1777,-53 1777,-53 1771,-53 1765,-47 1765,-41 1765,-41 1765,-12 1765,-12 1765,-6 1771,-0 1777,-0 1777,-0 1872,-0 1872,-0 1878,-0 1884,-6 1884,-12 1884,-12 1884,-41 1884,-41 1884,-47 1878,-53 1872,-53\"/>\r\n",
       "<text text-anchor=\"start\" x=\"1792.5\" y=\"-37.8\" font-family=\"Helvetica,sans-Serif\" font-size=\"14.00\">mse = 0.0</text>\r\n",
       "<text text-anchor=\"start\" x=\"1773\" y=\"-22.8\" font-family=\"Helvetica,sans-Serif\" font-size=\"14.00\">samples = 9570</text>\r\n",
       "<text text-anchor=\"start\" x=\"1789.5\" y=\"-7.8\" font-family=\"Helvetica,sans-Serif\" font-size=\"14.00\">value = 0.0</text>\r\n",
       "</g>\r\n",
       "<!-- 29&#45;&gt;30 -->\r\n",
       "<g id=\"edge30\" class=\"edge\"><title>29&#45;&gt;30</title>\r\n",
       "<path fill=\"none\" stroke=\"black\" d=\"M1824.5,-88.9485C1824.5,-80.7153 1824.5,-71.848 1824.5,-63.4814\"/>\r\n",
       "<polygon fill=\"black\" stroke=\"black\" points=\"1828,-63.2367 1824.5,-53.2367 1821,-63.2367 1828,-63.2367\"/>\r\n",
       "</g>\r\n",
       "<!-- 31 -->\r\n",
       "<g id=\"node32\" class=\"node\"><title>31</title>\r\n",
       "<path fill=\"#f0b78e\" stroke=\"black\" d=\"M2009,-53C2009,-53 1914,-53 1914,-53 1908,-53 1902,-47 1902,-41 1902,-41 1902,-12 1902,-12 1902,-6 1908,-0 1914,-0 1914,-0 2009,-0 2009,-0 2015,-0 2021,-6 2021,-12 2021,-12 2021,-41 2021,-41 2021,-47 2015,-53 2009,-53\"/>\r\n",
       "<text text-anchor=\"start\" x=\"1929.5\" y=\"-37.8\" font-family=\"Helvetica,sans-Serif\" font-size=\"14.00\">mse = 0.0</text>\r\n",
       "<text text-anchor=\"start\" x=\"1910\" y=\"-22.8\" font-family=\"Helvetica,sans-Serif\" font-size=\"14.00\">samples = 1033</text>\r\n",
       "<text text-anchor=\"start\" x=\"1918.5\" y=\"-7.8\" font-family=\"Helvetica,sans-Serif\" font-size=\"14.00\">value = 0.001</text>\r\n",
       "</g>\r\n",
       "<!-- 29&#45;&gt;31 -->\r\n",
       "<g id=\"edge31\" class=\"edge\"><title>29&#45;&gt;31</title>\r\n",
       "<path fill=\"none\" stroke=\"black\" d=\"M1872.42,-88.9485C1886.47,-79.2516 1901.81,-68.6752 1915.73,-59.073\"/>\r\n",
       "<polygon fill=\"black\" stroke=\"black\" points=\"1917.94,-61.7959 1924.19,-53.2367 1913.97,-56.0337 1917.94,-61.7959\"/>\r\n",
       "</g>\r\n",
       "<!-- 33 -->\r\n",
       "<g id=\"node34\" class=\"node\"><title>33</title>\r\n",
       "<path fill=\"#efb489\" stroke=\"black\" d=\"M2538,-365C2538,-365 2443,-365 2443,-365 2437,-365 2431,-359 2431,-353 2431,-353 2431,-309 2431,-309 2431,-303 2437,-297 2443,-297 2443,-297 2538,-297 2538,-297 2544,-297 2550,-303 2550,-309 2550,-309 2550,-353 2550,-353 2550,-359 2544,-365 2538,-365\"/>\r\n",
       "<text text-anchor=\"start\" x=\"2452\" y=\"-349.8\" font-family=\"Helvetica,sans-Serif\" font-size=\"14.00\">t&#45;20 ≤ 0.011</text>\r\n",
       "<text text-anchor=\"start\" x=\"2458.5\" y=\"-334.8\" font-family=\"Helvetica,sans-Serif\" font-size=\"14.00\">mse = 0.0</text>\r\n",
       "<text text-anchor=\"start\" x=\"2439\" y=\"-319.8\" font-family=\"Helvetica,sans-Serif\" font-size=\"14.00\">samples = 4338</text>\r\n",
       "<text text-anchor=\"start\" x=\"2447.5\" y=\"-304.8\" font-family=\"Helvetica,sans-Serif\" font-size=\"14.00\">value = 0.002</text>\r\n",
       "</g>\r\n",
       "<!-- 32&#45;&gt;33 -->\r\n",
       "<g id=\"edge33\" class=\"edge\"><title>32&#45;&gt;33</title>\r\n",
       "<path fill=\"none\" stroke=\"black\" d=\"M2490.5,-400.884C2490.5,-392.778 2490.5,-383.982 2490.5,-375.472\"/>\r\n",
       "<polygon fill=\"black\" stroke=\"black\" points=\"2494,-375.299 2490.5,-365.299 2487,-375.299 2494,-375.299\"/>\r\n",
       "</g>\r\n",
       "<!-- 46 -->\r\n",
       "<g id=\"node47\" class=\"node\"><title>46</title>\r\n",
       "<path fill=\"#eeaf81\" stroke=\"black\" d=\"M3106,-365C3106,-365 3011,-365 3011,-365 3005,-365 2999,-359 2999,-353 2999,-353 2999,-309 2999,-309 2999,-303 3005,-297 3011,-297 3011,-297 3106,-297 3106,-297 3112,-297 3118,-303 3118,-309 3118,-309 3118,-353 3118,-353 3118,-359 3112,-365 3106,-365\"/>\r\n",
       "<text text-anchor=\"start\" x=\"3024\" y=\"-349.8\" font-family=\"Helvetica,sans-Serif\" font-size=\"14.00\">t&#45;5 ≤ 0.016</text>\r\n",
       "<text text-anchor=\"start\" x=\"3026.5\" y=\"-334.8\" font-family=\"Helvetica,sans-Serif\" font-size=\"14.00\">mse = 0.0</text>\r\n",
       "<text text-anchor=\"start\" x=\"3007\" y=\"-319.8\" font-family=\"Helvetica,sans-Serif\" font-size=\"14.00\">samples = 2391</text>\r\n",
       "<text text-anchor=\"start\" x=\"3015.5\" y=\"-304.8\" font-family=\"Helvetica,sans-Serif\" font-size=\"14.00\">value = 0.003</text>\r\n",
       "</g>\r\n",
       "<!-- 32&#45;&gt;46 -->\r\n",
       "<g id=\"edge46\" class=\"edge\"><title>32&#45;&gt;46</title>\r\n",
       "<path fill=\"none\" stroke=\"black\" d=\"M2550.21,-423.277C2656.11,-404.261 2876.22,-364.734 2988.84,-344.51\"/>\r\n",
       "<polygon fill=\"black\" stroke=\"black\" points=\"2989.51,-347.945 2998.74,-342.732 2988.27,-341.055 2989.51,-347.945\"/>\r\n",
       "</g>\r\n",
       "<!-- 34 -->\r\n",
       "<g id=\"node35\" class=\"node\"><title>34</title>\r\n",
       "<path fill=\"#f0b489\" stroke=\"black\" d=\"M2472,-261C2472,-261 2377,-261 2377,-261 2371,-261 2365,-255 2365,-249 2365,-249 2365,-205 2365,-205 2365,-199 2371,-193 2377,-193 2377,-193 2472,-193 2472,-193 2478,-193 2484,-199 2484,-205 2484,-205 2484,-249 2484,-249 2484,-255 2478,-261 2472,-261\"/>\r\n",
       "<text text-anchor=\"start\" x=\"2390\" y=\"-245.8\" font-family=\"Helvetica,sans-Serif\" font-size=\"14.00\">t&#45;5 ≤ 0.009</text>\r\n",
       "<text text-anchor=\"start\" x=\"2392.5\" y=\"-230.8\" font-family=\"Helvetica,sans-Serif\" font-size=\"14.00\">mse = 0.0</text>\r\n",
       "<text text-anchor=\"start\" x=\"2373\" y=\"-215.8\" font-family=\"Helvetica,sans-Serif\" font-size=\"14.00\">samples = 3843</text>\r\n",
       "<text text-anchor=\"start\" x=\"2381.5\" y=\"-200.8\" font-family=\"Helvetica,sans-Serif\" font-size=\"14.00\">value = 0.002</text>\r\n",
       "</g>\r\n",
       "<!-- 33&#45;&gt;34 -->\r\n",
       "<g id=\"edge34\" class=\"edge\"><title>33&#45;&gt;34</title>\r\n",
       "<path fill=\"none\" stroke=\"black\" d=\"M2469.07,-296.884C2463.48,-288.243 2457.38,-278.819 2451.54,-269.793\"/>\r\n",
       "<polygon fill=\"black\" stroke=\"black\" points=\"2454.42,-267.794 2446.05,-261.299 2448.54,-271.596 2454.42,-267.794\"/>\r\n",
       "</g>\r\n",
       "<!-- 41 -->\r\n",
       "<g id=\"node42\" class=\"node\"><title>41</title>\r\n",
       "<path fill=\"#efb082\" stroke=\"black\" d=\"M2658,-261C2658,-261 2571,-261 2571,-261 2565,-261 2559,-255 2559,-249 2559,-249 2559,-205 2559,-205 2559,-199 2565,-193 2571,-193 2571,-193 2658,-193 2658,-193 2664,-193 2670,-199 2670,-205 2670,-205 2670,-249 2670,-249 2670,-255 2664,-261 2658,-261\"/>\r\n",
       "<text text-anchor=\"start\" x=\"2576\" y=\"-245.8\" font-family=\"Helvetica,sans-Serif\" font-size=\"14.00\">t&#45;20 ≤ 0.019</text>\r\n",
       "<text text-anchor=\"start\" x=\"2582.5\" y=\"-230.8\" font-family=\"Helvetica,sans-Serif\" font-size=\"14.00\">mse = 0.0</text>\r\n",
       "<text text-anchor=\"start\" x=\"2567\" y=\"-215.8\" font-family=\"Helvetica,sans-Serif\" font-size=\"14.00\">samples = 495</text>\r\n",
       "<text text-anchor=\"start\" x=\"2571.5\" y=\"-200.8\" font-family=\"Helvetica,sans-Serif\" font-size=\"14.00\">value = 0.003</text>\r\n",
       "</g>\r\n",
       "<!-- 33&#45;&gt;41 -->\r\n",
       "<g id=\"edge41\" class=\"edge\"><title>33&#45;&gt;41</title>\r\n",
       "<path fill=\"none\" stroke=\"black\" d=\"M2530.76,-296.884C2542.02,-287.62 2554.38,-277.455 2566.06,-267.845\"/>\r\n",
       "<polygon fill=\"black\" stroke=\"black\" points=\"2568.52,-270.355 2574.02,-261.299 2564.07,-264.949 2568.52,-270.355\"/>\r\n",
       "</g>\r\n",
       "<!-- 35 -->\r\n",
       "<g id=\"node36\" class=\"node\"><title>35</title>\r\n",
       "<path fill=\"#f0b489\" stroke=\"black\" d=\"M2283,-157C2283,-157 2188,-157 2188,-157 2182,-157 2176,-151 2176,-145 2176,-145 2176,-101 2176,-101 2176,-95 2182,-89 2188,-89 2188,-89 2283,-89 2283,-89 2289,-89 2295,-95 2295,-101 2295,-101 2295,-145 2295,-145 2295,-151 2289,-157 2283,-157\"/>\r\n",
       "<text text-anchor=\"start\" x=\"2201\" y=\"-141.8\" font-family=\"Helvetica,sans-Serif\" font-size=\"14.00\">t&#45;5 ≤ 0.005</text>\r\n",
       "<text text-anchor=\"start\" x=\"2203.5\" y=\"-126.8\" font-family=\"Helvetica,sans-Serif\" font-size=\"14.00\">mse = 0.0</text>\r\n",
       "<text text-anchor=\"start\" x=\"2184\" y=\"-111.8\" font-family=\"Helvetica,sans-Serif\" font-size=\"14.00\">samples = 3831</text>\r\n",
       "<text text-anchor=\"start\" x=\"2192.5\" y=\"-96.8\" font-family=\"Helvetica,sans-Serif\" font-size=\"14.00\">value = 0.002</text>\r\n",
       "</g>\r\n",
       "<!-- 34&#45;&gt;35 -->\r\n",
       "<g id=\"edge35\" class=\"edge\"><title>34&#45;&gt;35</title>\r\n",
       "<path fill=\"none\" stroke=\"black\" d=\"M2364.96,-193.867C2345.63,-183.435 2324.03,-171.777 2304.09,-161.019\"/>\r\n",
       "<polygon fill=\"black\" stroke=\"black\" points=\"2305.53,-157.816 2295.07,-156.147 2302.2,-163.977 2305.53,-157.816\"/>\r\n",
       "</g>\r\n",
       "<!-- 38 -->\r\n",
       "<g id=\"node39\" class=\"node\"><title>38</title>\r\n",
       "<path fill=\"#f4ccae\" stroke=\"black\" d=\"M2466,-157C2466,-157 2383,-157 2383,-157 2377,-157 2371,-151 2371,-145 2371,-145 2371,-101 2371,-101 2371,-95 2377,-89 2383,-89 2383,-89 2466,-89 2466,-89 2472,-89 2478,-95 2478,-101 2478,-101 2478,-145 2478,-145 2478,-151 2472,-157 2466,-157\"/>\r\n",
       "<text text-anchor=\"start\" x=\"2386\" y=\"-141.8\" font-family=\"Helvetica,sans-Serif\" font-size=\"14.00\">t&#45;20 ≤ 0.003</text>\r\n",
       "<text text-anchor=\"start\" x=\"2392.5\" y=\"-126.8\" font-family=\"Helvetica,sans-Serif\" font-size=\"14.00\">mse = 0.0</text>\r\n",
       "<text text-anchor=\"start\" x=\"2381\" y=\"-111.8\" font-family=\"Helvetica,sans-Serif\" font-size=\"14.00\">samples = 12</text>\r\n",
       "<text text-anchor=\"start\" x=\"2379\" y=\"-96.8\" font-family=\"Helvetica,sans-Serif\" font-size=\"14.00\">value = &#45;0.005</text>\r\n",
       "</g>\r\n",
       "<!-- 34&#45;&gt;38 -->\r\n",
       "<g id=\"edge38\" class=\"edge\"><title>34&#45;&gt;38</title>\r\n",
       "<path fill=\"none\" stroke=\"black\" d=\"M2424.5,-192.884C2424.5,-184.778 2424.5,-175.982 2424.5,-167.472\"/>\r\n",
       "<polygon fill=\"black\" stroke=\"black\" points=\"2428,-167.299 2424.5,-157.299 2421,-167.299 2428,-167.299\"/>\r\n",
       "</g>\r\n",
       "<!-- 36 -->\r\n",
       "<g id=\"node37\" class=\"node\"><title>36</title>\r\n",
       "<path fill=\"#f0b58b\" stroke=\"black\" d=\"M2146,-53C2146,-53 2051,-53 2051,-53 2045,-53 2039,-47 2039,-41 2039,-41 2039,-12 2039,-12 2039,-6 2045,-0 2051,-0 2051,-0 2146,-0 2146,-0 2152,-0 2158,-6 2158,-12 2158,-12 2158,-41 2158,-41 2158,-47 2152,-53 2146,-53\"/>\r\n",
       "<text text-anchor=\"start\" x=\"2066.5\" y=\"-37.8\" font-family=\"Helvetica,sans-Serif\" font-size=\"14.00\">mse = 0.0</text>\r\n",
       "<text text-anchor=\"start\" x=\"2047\" y=\"-22.8\" font-family=\"Helvetica,sans-Serif\" font-size=\"14.00\">samples = 2151</text>\r\n",
       "<text text-anchor=\"start\" x=\"2055.5\" y=\"-7.8\" font-family=\"Helvetica,sans-Serif\" font-size=\"14.00\">value = 0.001</text>\r\n",
       "</g>\r\n",
       "<!-- 35&#45;&gt;36 -->\r\n",
       "<g id=\"edge36\" class=\"edge\"><title>35&#45;&gt;36</title>\r\n",
       "<path fill=\"none\" stroke=\"black\" d=\"M2187.58,-88.9485C2173.53,-79.2516 2158.19,-68.6752 2144.27,-59.073\"/>\r\n",
       "<polygon fill=\"black\" stroke=\"black\" points=\"2146.03,-56.0337 2135.81,-53.2367 2142.06,-61.7959 2146.03,-56.0337\"/>\r\n",
       "</g>\r\n",
       "<!-- 37 -->\r\n",
       "<g id=\"node38\" class=\"node\"><title>37</title>\r\n",
       "<path fill=\"#efb387\" stroke=\"black\" d=\"M2283,-53C2283,-53 2188,-53 2188,-53 2182,-53 2176,-47 2176,-41 2176,-41 2176,-12 2176,-12 2176,-6 2182,-0 2188,-0 2188,-0 2283,-0 2283,-0 2289,-0 2295,-6 2295,-12 2295,-12 2295,-41 2295,-41 2295,-47 2289,-53 2283,-53\"/>\r\n",
       "<text text-anchor=\"start\" x=\"2203.5\" y=\"-37.8\" font-family=\"Helvetica,sans-Serif\" font-size=\"14.00\">mse = 0.0</text>\r\n",
       "<text text-anchor=\"start\" x=\"2184\" y=\"-22.8\" font-family=\"Helvetica,sans-Serif\" font-size=\"14.00\">samples = 1680</text>\r\n",
       "<text text-anchor=\"start\" x=\"2192.5\" y=\"-7.8\" font-family=\"Helvetica,sans-Serif\" font-size=\"14.00\">value = 0.002</text>\r\n",
       "</g>\r\n",
       "<!-- 35&#45;&gt;37 -->\r\n",
       "<g id=\"edge37\" class=\"edge\"><title>35&#45;&gt;37</title>\r\n",
       "<path fill=\"none\" stroke=\"black\" d=\"M2235.5,-88.9485C2235.5,-80.7153 2235.5,-71.848 2235.5,-63.4814\"/>\r\n",
       "<polygon fill=\"black\" stroke=\"black\" points=\"2239,-63.2367 2235.5,-53.2367 2232,-63.2367 2239,-63.2367\"/>\r\n",
       "</g>\r\n",
       "<!-- 39 -->\r\n",
       "<g id=\"node40\" class=\"node\"><title>39</title>\r\n",
       "<path fill=\"#f6d1b7\" stroke=\"black\" d=\"M2408,-53C2408,-53 2325,-53 2325,-53 2319,-53 2313,-47 2313,-41 2313,-41 2313,-12 2313,-12 2313,-6 2319,-0 2325,-0 2325,-0 2408,-0 2408,-0 2414,-0 2420,-6 2420,-12 2420,-12 2420,-41 2420,-41 2420,-47 2414,-53 2408,-53\"/>\r\n",
       "<text text-anchor=\"start\" x=\"2334.5\" y=\"-37.8\" font-family=\"Helvetica,sans-Serif\" font-size=\"14.00\">mse = 0.0</text>\r\n",
       "<text text-anchor=\"start\" x=\"2323\" y=\"-22.8\" font-family=\"Helvetica,sans-Serif\" font-size=\"14.00\">samples = 11</text>\r\n",
       "<text text-anchor=\"start\" x=\"2321\" y=\"-7.8\" font-family=\"Helvetica,sans-Serif\" font-size=\"14.00\">value = &#45;0.006</text>\r\n",
       "</g>\r\n",
       "<!-- 38&#45;&gt;39 -->\r\n",
       "<g id=\"edge39\" class=\"edge\"><title>38&#45;&gt;39</title>\r\n",
       "<path fill=\"none\" stroke=\"black\" d=\"M2404.21,-88.9485C2398.82,-80.1664 2392.99,-70.6629 2387.56,-61.815\"/>\r\n",
       "<polygon fill=\"black\" stroke=\"black\" points=\"2390.51,-59.9287 2382.3,-53.2367 2384.54,-63.5903 2390.51,-59.9287\"/>\r\n",
       "</g>\r\n",
       "<!-- 40 -->\r\n",
       "<g id=\"node41\" class=\"node\"><title>40</title>\r\n",
       "<path fill=\"#e89050\" stroke=\"black\" d=\"M2528.5,-53C2528.5,-53 2450.5,-53 2450.5,-53 2444.5,-53 2438.5,-47 2438.5,-41 2438.5,-41 2438.5,-12 2438.5,-12 2438.5,-6 2444.5,-0 2450.5,-0 2450.5,-0 2528.5,-0 2528.5,-0 2534.5,-0 2540.5,-6 2540.5,-12 2540.5,-12 2540.5,-41 2540.5,-41 2540.5,-47 2534.5,-53 2528.5,-53\"/>\r\n",
       "<text text-anchor=\"start\" x=\"2455\" y=\"-37.8\" font-family=\"Helvetica,sans-Serif\" font-size=\"14.00\">mse = &#45;0.0</text>\r\n",
       "<text text-anchor=\"start\" x=\"2450\" y=\"-22.8\" font-family=\"Helvetica,sans-Serif\" font-size=\"14.00\">samples = 1</text>\r\n",
       "<text text-anchor=\"start\" x=\"2446.5\" y=\"-7.8\" font-family=\"Helvetica,sans-Serif\" font-size=\"14.00\">value = 0.012</text>\r\n",
       "</g>\r\n",
       "<!-- 38&#45;&gt;40 -->\r\n",
       "<g id=\"edge40\" class=\"edge\"><title>38&#45;&gt;40</title>\r\n",
       "<path fill=\"none\" stroke=\"black\" d=\"M2447.23,-88.9485C2453.34,-80.0749 2459.95,-70.4648 2466.09,-61.5388\"/>\r\n",
       "<polygon fill=\"black\" stroke=\"black\" points=\"2469.01,-63.4594 2471.8,-53.2367 2463.25,-59.4924 2469.01,-63.4594\"/>\r\n",
       "</g>\r\n",
       "<!-- 42 -->\r\n",
       "<g id=\"node43\" class=\"node\"><title>42</title>\r\n",
       "<path fill=\"#efaf82\" stroke=\"black\" d=\"M2658,-157C2658,-157 2571,-157 2571,-157 2565,-157 2559,-151 2559,-145 2559,-145 2559,-101 2559,-101 2559,-95 2565,-89 2571,-89 2571,-89 2658,-89 2658,-89 2664,-89 2670,-95 2670,-101 2670,-101 2670,-145 2670,-145 2670,-151 2664,-157 2658,-157\"/>\r\n",
       "<text text-anchor=\"start\" x=\"2576\" y=\"-141.8\" font-family=\"Helvetica,sans-Serif\" font-size=\"14.00\">t&#45;20 ≤ 0.019</text>\r\n",
       "<text text-anchor=\"start\" x=\"2582.5\" y=\"-126.8\" font-family=\"Helvetica,sans-Serif\" font-size=\"14.00\">mse = 0.0</text>\r\n",
       "<text text-anchor=\"start\" x=\"2567\" y=\"-111.8\" font-family=\"Helvetica,sans-Serif\" font-size=\"14.00\">samples = 494</text>\r\n",
       "<text text-anchor=\"start\" x=\"2571.5\" y=\"-96.8\" font-family=\"Helvetica,sans-Serif\" font-size=\"14.00\">value = 0.003</text>\r\n",
       "</g>\r\n",
       "<!-- 41&#45;&gt;42 -->\r\n",
       "<g id=\"edge42\" class=\"edge\"><title>41&#45;&gt;42</title>\r\n",
       "<path fill=\"none\" stroke=\"black\" d=\"M2614.5,-192.884C2614.5,-184.778 2614.5,-175.982 2614.5,-167.472\"/>\r\n",
       "<polygon fill=\"black\" stroke=\"black\" points=\"2618,-167.299 2614.5,-157.299 2611,-167.299 2618,-167.299\"/>\r\n",
       "</g>\r\n",
       "<!-- 45 -->\r\n",
       "<g id=\"node46\" class=\"node\"><title>45</title>\r\n",
       "<path fill=\"#ffffff\" stroke=\"black\" d=\"M2783,-149.5C2783,-149.5 2700,-149.5 2700,-149.5 2694,-149.5 2688,-143.5 2688,-137.5 2688,-137.5 2688,-108.5 2688,-108.5 2688,-102.5 2694,-96.5 2700,-96.5 2700,-96.5 2783,-96.5 2783,-96.5 2789,-96.5 2795,-102.5 2795,-108.5 2795,-108.5 2795,-137.5 2795,-137.5 2795,-143.5 2789,-149.5 2783,-149.5\"/>\r\n",
       "<text text-anchor=\"start\" x=\"2709.5\" y=\"-134.3\" font-family=\"Helvetica,sans-Serif\" font-size=\"14.00\">mse = 0.0</text>\r\n",
       "<text text-anchor=\"start\" x=\"2702\" y=\"-119.3\" font-family=\"Helvetica,sans-Serif\" font-size=\"14.00\">samples = 1</text>\r\n",
       "<text text-anchor=\"start\" x=\"2696\" y=\"-104.3\" font-family=\"Helvetica,sans-Serif\" font-size=\"14.00\">value = &#45;0.019</text>\r\n",
       "</g>\r\n",
       "<!-- 41&#45;&gt;45 -->\r\n",
       "<g id=\"edge45\" class=\"edge\"><title>41&#45;&gt;45</title>\r\n",
       "<path fill=\"none\" stroke=\"black\" d=\"M2655.73,-192.884C2670.52,-181.006 2687.16,-167.646 2701.81,-155.876\"/>\r\n",
       "<polygon fill=\"black\" stroke=\"black\" points=\"2704.12,-158.511 2709.73,-149.52 2699.74,-153.053 2704.12,-158.511\"/>\r\n",
       "</g>\r\n",
       "<!-- 43 -->\r\n",
       "<g id=\"node44\" class=\"node\"><title>43</title>\r\n",
       "<path fill=\"#efb083\" stroke=\"black\" d=\"M2658,-53C2658,-53 2571,-53 2571,-53 2565,-53 2559,-47 2559,-41 2559,-41 2559,-12 2559,-12 2559,-6 2565,-0 2571,-0 2571,-0 2658,-0 2658,-0 2664,-0 2670,-6 2670,-12 2670,-12 2670,-41 2670,-41 2670,-47 2664,-53 2658,-53\"/>\r\n",
       "<text text-anchor=\"start\" x=\"2582.5\" y=\"-37.8\" font-family=\"Helvetica,sans-Serif\" font-size=\"14.00\">mse = 0.0</text>\r\n",
       "<text text-anchor=\"start\" x=\"2567\" y=\"-22.8\" font-family=\"Helvetica,sans-Serif\" font-size=\"14.00\">samples = 488</text>\r\n",
       "<text text-anchor=\"start\" x=\"2571.5\" y=\"-7.8\" font-family=\"Helvetica,sans-Serif\" font-size=\"14.00\">value = 0.003</text>\r\n",
       "</g>\r\n",
       "<!-- 42&#45;&gt;43 -->\r\n",
       "<g id=\"edge43\" class=\"edge\"><title>42&#45;&gt;43</title>\r\n",
       "<path fill=\"none\" stroke=\"black\" d=\"M2614.5,-88.9485C2614.5,-80.7153 2614.5,-71.848 2614.5,-63.4814\"/>\r\n",
       "<polygon fill=\"black\" stroke=\"black\" points=\"2618,-63.2367 2614.5,-53.2367 2611,-63.2367 2618,-63.2367\"/>\r\n",
       "</g>\r\n",
       "<!-- 44 -->\r\n",
       "<g id=\"node45\" class=\"node\"><title>44</title>\r\n",
       "<path fill=\"#e88e4d\" stroke=\"black\" d=\"M2778.5,-53C2778.5,-53 2700.5,-53 2700.5,-53 2694.5,-53 2688.5,-47 2688.5,-41 2688.5,-41 2688.5,-12 2688.5,-12 2688.5,-6 2694.5,-0 2700.5,-0 2700.5,-0 2778.5,-0 2778.5,-0 2784.5,-0 2790.5,-6 2790.5,-12 2790.5,-12 2790.5,-41 2790.5,-41 2790.5,-47 2784.5,-53 2778.5,-53\"/>\r\n",
       "<text text-anchor=\"start\" x=\"2707.5\" y=\"-37.8\" font-family=\"Helvetica,sans-Serif\" font-size=\"14.00\">mse = 0.0</text>\r\n",
       "<text text-anchor=\"start\" x=\"2700\" y=\"-22.8\" font-family=\"Helvetica,sans-Serif\" font-size=\"14.00\">samples = 6</text>\r\n",
       "<text text-anchor=\"start\" x=\"2696.5\" y=\"-7.8\" font-family=\"Helvetica,sans-Serif\" font-size=\"14.00\">value = 0.012</text>\r\n",
       "</g>\r\n",
       "<!-- 42&#45;&gt;44 -->\r\n",
       "<g id=\"edge44\" class=\"edge\"><title>42&#45;&gt;44</title>\r\n",
       "<path fill=\"none\" stroke=\"black\" d=\"M2658.22,-88.9485C2670.92,-79.3431 2684.77,-68.8747 2697.38,-59.345\"/>\r\n",
       "<polygon fill=\"black\" stroke=\"black\" points=\"2699.59,-62.0593 2705.46,-53.2367 2695.37,-56.4754 2699.59,-62.0593\"/>\r\n",
       "</g>\r\n",
       "<!-- 47 -->\r\n",
       "<g id=\"node48\" class=\"node\"><title>47</title>\r\n",
       "<path fill=\"#efb082\" stroke=\"black\" d=\"M3106,-261C3106,-261 3011,-261 3011,-261 3005,-261 2999,-255 2999,-249 2999,-249 2999,-205 2999,-205 2999,-199 3005,-193 3011,-193 3011,-193 3106,-193 3106,-193 3112,-193 3118,-199 3118,-205 3118,-205 3118,-249 3118,-249 3118,-255 3112,-261 3106,-261\"/>\r\n",
       "<text text-anchor=\"start\" x=\"3024\" y=\"-245.8\" font-family=\"Helvetica,sans-Serif\" font-size=\"14.00\">t&#45;5 ≤ 0.016</text>\r\n",
       "<text text-anchor=\"start\" x=\"3026.5\" y=\"-230.8\" font-family=\"Helvetica,sans-Serif\" font-size=\"14.00\">mse = 0.0</text>\r\n",
       "<text text-anchor=\"start\" x=\"3007\" y=\"-215.8\" font-family=\"Helvetica,sans-Serif\" font-size=\"14.00\">samples = 2027</text>\r\n",
       "<text text-anchor=\"start\" x=\"3015.5\" y=\"-200.8\" font-family=\"Helvetica,sans-Serif\" font-size=\"14.00\">value = 0.003</text>\r\n",
       "</g>\r\n",
       "<!-- 46&#45;&gt;47 -->\r\n",
       "<g id=\"edge47\" class=\"edge\"><title>46&#45;&gt;47</title>\r\n",
       "<path fill=\"none\" stroke=\"black\" d=\"M3058.5,-296.884C3058.5,-288.778 3058.5,-279.982 3058.5,-271.472\"/>\r\n",
       "<polygon fill=\"black\" stroke=\"black\" points=\"3062,-271.299 3058.5,-261.299 3055,-271.299 3062,-271.299\"/>\r\n",
       "</g>\r\n",
       "<!-- 54 -->\r\n",
       "<g id=\"node55\" class=\"node\"><title>54</title>\r\n",
       "<path fill=\"#eda978\" stroke=\"black\" d=\"M3478,-261C3478,-261 3391,-261 3391,-261 3385,-261 3379,-255 3379,-249 3379,-249 3379,-205 3379,-205 3379,-199 3385,-193 3391,-193 3391,-193 3478,-193 3478,-193 3484,-193 3490,-199 3490,-205 3490,-205 3490,-249 3490,-249 3490,-255 3484,-261 3478,-261\"/>\r\n",
       "<text text-anchor=\"start\" x=\"3400\" y=\"-245.8\" font-family=\"Helvetica,sans-Serif\" font-size=\"14.00\">t&#45;20 ≤ 0.01</text>\r\n",
       "<text text-anchor=\"start\" x=\"3402.5\" y=\"-230.8\" font-family=\"Helvetica,sans-Serif\" font-size=\"14.00\">mse = 0.0</text>\r\n",
       "<text text-anchor=\"start\" x=\"3387\" y=\"-215.8\" font-family=\"Helvetica,sans-Serif\" font-size=\"14.00\">samples = 364</text>\r\n",
       "<text text-anchor=\"start\" x=\"3391.5\" y=\"-200.8\" font-family=\"Helvetica,sans-Serif\" font-size=\"14.00\">value = 0.005</text>\r\n",
       "</g>\r\n",
       "<!-- 46&#45;&gt;54 -->\r\n",
       "<g id=\"edge54\" class=\"edge\"><title>46&#45;&gt;54</title>\r\n",
       "<path fill=\"none\" stroke=\"black\" d=\"M3118.08,-313.838C3186.51,-295.275 3298.42,-264.916 3369.18,-245.721\"/>\r\n",
       "<polygon fill=\"black\" stroke=\"black\" points=\"3370.14,-249.085 3378.88,-243.089 3368.31,-242.329 3370.14,-249.085\"/>\r\n",
       "</g>\r\n",
       "<!-- 48 -->\r\n",
       "<g id=\"node49\" class=\"node\"><title>48</title>\r\n",
       "<path fill=\"#efb082\" stroke=\"black\" d=\"M3041,-157C3041,-157 2946,-157 2946,-157 2940,-157 2934,-151 2934,-145 2934,-145 2934,-101 2934,-101 2934,-95 2940,-89 2946,-89 2946,-89 3041,-89 3041,-89 3047,-89 3053,-95 3053,-101 3053,-101 3053,-145 3053,-145 3053,-151 3047,-157 3041,-157\"/>\r\n",
       "<text text-anchor=\"start\" x=\"2952.5\" y=\"-141.8\" font-family=\"Helvetica,sans-Serif\" font-size=\"14.00\">t&#45;20 ≤ &#45;0.019</text>\r\n",
       "<text text-anchor=\"start\" x=\"2961.5\" y=\"-126.8\" font-family=\"Helvetica,sans-Serif\" font-size=\"14.00\">mse = 0.0</text>\r\n",
       "<text text-anchor=\"start\" x=\"2942\" y=\"-111.8\" font-family=\"Helvetica,sans-Serif\" font-size=\"14.00\">samples = 2024</text>\r\n",
       "<text text-anchor=\"start\" x=\"2950.5\" y=\"-96.8\" font-family=\"Helvetica,sans-Serif\" font-size=\"14.00\">value = 0.003</text>\r\n",
       "</g>\r\n",
       "<!-- 47&#45;&gt;48 -->\r\n",
       "<g id=\"edge48\" class=\"edge\"><title>47&#45;&gt;48</title>\r\n",
       "<path fill=\"none\" stroke=\"black\" d=\"M3037.4,-192.884C3031.89,-184.243 3025.88,-174.819 3020.13,-165.793\"/>\r\n",
       "<polygon fill=\"black\" stroke=\"black\" points=\"3023.05,-163.852 3014.72,-157.299 3017.14,-167.614 3023.05,-163.852\"/>\r\n",
       "</g>\r\n",
       "<!-- 51 -->\r\n",
       "<g id=\"node52\" class=\"node\"><title>51</title>\r\n",
       "<path fill=\"#f9e1cf\" stroke=\"black\" d=\"M3166,-157C3166,-157 3083,-157 3083,-157 3077,-157 3071,-151 3071,-145 3071,-145 3071,-101 3071,-101 3071,-95 3077,-89 3083,-89 3083,-89 3166,-89 3166,-89 3172,-89 3178,-95 3178,-101 3178,-101 3178,-145 3178,-145 3178,-151 3172,-157 3166,-157\"/>\r\n",
       "<text text-anchor=\"start\" x=\"3086\" y=\"-141.8\" font-family=\"Helvetica,sans-Serif\" font-size=\"14.00\">t&#45;20 ≤ 0.003</text>\r\n",
       "<text text-anchor=\"start\" x=\"3092.5\" y=\"-126.8\" font-family=\"Helvetica,sans-Serif\" font-size=\"14.00\">mse = 0.0</text>\r\n",
       "<text text-anchor=\"start\" x=\"3085\" y=\"-111.8\" font-family=\"Helvetica,sans-Serif\" font-size=\"14.00\">samples = 3</text>\r\n",
       "<text text-anchor=\"start\" x=\"3079\" y=\"-96.8\" font-family=\"Helvetica,sans-Serif\" font-size=\"14.00\">value = &#45;0.011</text>\r\n",
       "</g>\r\n",
       "<!-- 47&#45;&gt;51 -->\r\n",
       "<g id=\"edge51\" class=\"edge\"><title>47&#45;&gt;51</title>\r\n",
       "<path fill=\"none\" stroke=\"black\" d=\"M3079.93,-192.884C3085.52,-184.243 3091.62,-174.819 3097.46,-165.793\"/>\r\n",
       "<polygon fill=\"black\" stroke=\"black\" points=\"3100.46,-167.596 3102.95,-157.299 3094.58,-163.794 3100.46,-167.596\"/>\r\n",
       "</g>\r\n",
       "<!-- 49 -->\r\n",
       "<g id=\"node50\" class=\"node\"><title>49</title>\r\n",
       "<path fill=\"#f4caac\" stroke=\"black\" d=\"M2904,-53C2904,-53 2821,-53 2821,-53 2815,-53 2809,-47 2809,-41 2809,-41 2809,-12 2809,-12 2809,-6 2815,-0 2821,-0 2821,-0 2904,-0 2904,-0 2910,-0 2916,-6 2916,-12 2916,-12 2916,-41 2916,-41 2916,-47 2910,-53 2904,-53\"/>\r\n",
       "<text text-anchor=\"start\" x=\"2830.5\" y=\"-37.8\" font-family=\"Helvetica,sans-Serif\" font-size=\"14.00\">mse = 0.0</text>\r\n",
       "<text text-anchor=\"start\" x=\"2823\" y=\"-22.8\" font-family=\"Helvetica,sans-Serif\" font-size=\"14.00\">samples = 8</text>\r\n",
       "<text text-anchor=\"start\" x=\"2817\" y=\"-7.8\" font-family=\"Helvetica,sans-Serif\" font-size=\"14.00\">value = &#45;0.005</text>\r\n",
       "</g>\r\n",
       "<!-- 48&#45;&gt;49 -->\r\n",
       "<g id=\"edge49\" class=\"edge\"><title>48&#45;&gt;49</title>\r\n",
       "<path fill=\"none\" stroke=\"black\" d=\"M2947.68,-88.9485C2934.37,-79.3431 2919.86,-68.8747 2906.64,-59.345\"/>\r\n",
       "<polygon fill=\"black\" stroke=\"black\" points=\"2908.34,-56.2486 2898.18,-53.2367 2904.24,-61.9257 2908.34,-56.2486\"/>\r\n",
       "</g>\r\n",
       "<!-- 50 -->\r\n",
       "<g id=\"node51\" class=\"node\"><title>50</title>\r\n",
       "<path fill=\"#efb082\" stroke=\"black\" d=\"M3041,-53C3041,-53 2946,-53 2946,-53 2940,-53 2934,-47 2934,-41 2934,-41 2934,-12 2934,-12 2934,-6 2940,-0 2946,-0 2946,-0 3041,-0 3041,-0 3047,-0 3053,-6 3053,-12 3053,-12 3053,-41 3053,-41 3053,-47 3047,-53 3041,-53\"/>\r\n",
       "<text text-anchor=\"start\" x=\"2961.5\" y=\"-37.8\" font-family=\"Helvetica,sans-Serif\" font-size=\"14.00\">mse = 0.0</text>\r\n",
       "<text text-anchor=\"start\" x=\"2942\" y=\"-22.8\" font-family=\"Helvetica,sans-Serif\" font-size=\"14.00\">samples = 2016</text>\r\n",
       "<text text-anchor=\"start\" x=\"2950.5\" y=\"-7.8\" font-family=\"Helvetica,sans-Serif\" font-size=\"14.00\">value = 0.003</text>\r\n",
       "</g>\r\n",
       "<!-- 48&#45;&gt;50 -->\r\n",
       "<g id=\"edge50\" class=\"edge\"><title>48&#45;&gt;50</title>\r\n",
       "<path fill=\"none\" stroke=\"black\" d=\"M2993.5,-88.9485C2993.5,-80.7153 2993.5,-71.848 2993.5,-63.4814\"/>\r\n",
       "<polygon fill=\"black\" stroke=\"black\" points=\"2997,-63.2367 2993.5,-53.2367 2990,-63.2367 2997,-63.2367\"/>\r\n",
       "</g>\r\n",
       "<!-- 52 -->\r\n",
       "<g id=\"node53\" class=\"node\"><title>52</title>\r\n",
       "<path fill=\"#f3c3a0\" stroke=\"black\" d=\"M3166,-53C3166,-53 3083,-53 3083,-53 3077,-53 3071,-47 3071,-41 3071,-41 3071,-12 3071,-12 3071,-6 3077,-0 3083,-0 3083,-0 3166,-0 3166,-0 3172,-0 3178,-6 3178,-12 3178,-12 3178,-41 3178,-41 3178,-47 3172,-53 3166,-53\"/>\r\n",
       "<text text-anchor=\"start\" x=\"3092.5\" y=\"-37.8\" font-family=\"Helvetica,sans-Serif\" font-size=\"14.00\">mse = 0.0</text>\r\n",
       "<text text-anchor=\"start\" x=\"3085\" y=\"-22.8\" font-family=\"Helvetica,sans-Serif\" font-size=\"14.00\">samples = 1</text>\r\n",
       "<text text-anchor=\"start\" x=\"3079\" y=\"-7.8\" font-family=\"Helvetica,sans-Serif\" font-size=\"14.00\">value = &#45;0.002</text>\r\n",
       "</g>\r\n",
       "<!-- 51&#45;&gt;52 -->\r\n",
       "<g id=\"edge52\" class=\"edge\"><title>51&#45;&gt;52</title>\r\n",
       "<path fill=\"none\" stroke=\"black\" d=\"M3124.5,-88.9485C3124.5,-80.7153 3124.5,-71.848 3124.5,-63.4814\"/>\r\n",
       "<polygon fill=\"black\" stroke=\"black\" points=\"3128,-63.2367 3124.5,-53.2367 3121,-63.2367 3128,-63.2367\"/>\r\n",
       "</g>\r\n",
       "<!-- 53 -->\r\n",
       "<g id=\"node54\" class=\"node\"><title>53</title>\r\n",
       "<path fill=\"#fcf0e7\" stroke=\"black\" d=\"M3291,-53C3291,-53 3208,-53 3208,-53 3202,-53 3196,-47 3196,-41 3196,-41 3196,-12 3196,-12 3196,-6 3202,-0 3208,-0 3208,-0 3291,-0 3291,-0 3297,-0 3303,-6 3303,-12 3303,-12 3303,-41 3303,-41 3303,-47 3297,-53 3291,-53\"/>\r\n",
       "<text text-anchor=\"start\" x=\"3217.5\" y=\"-37.8\" font-family=\"Helvetica,sans-Serif\" font-size=\"14.00\">mse = 0.0</text>\r\n",
       "<text text-anchor=\"start\" x=\"3210\" y=\"-22.8\" font-family=\"Helvetica,sans-Serif\" font-size=\"14.00\">samples = 2</text>\r\n",
       "<text text-anchor=\"start\" x=\"3204\" y=\"-7.8\" font-family=\"Helvetica,sans-Serif\" font-size=\"14.00\">value = &#45;0.015</text>\r\n",
       "</g>\r\n",
       "<!-- 51&#45;&gt;53 -->\r\n",
       "<g id=\"edge53\" class=\"edge\"><title>51&#45;&gt;53</title>\r\n",
       "<path fill=\"none\" stroke=\"black\" d=\"M3168.22,-88.9485C3180.92,-79.3431 3194.77,-68.8747 3207.38,-59.345\"/>\r\n",
       "<polygon fill=\"black\" stroke=\"black\" points=\"3209.59,-62.0593 3215.46,-53.2367 3205.37,-56.4754 3209.59,-62.0593\"/>\r\n",
       "</g>\r\n",
       "<!-- 55 -->\r\n",
       "<g id=\"node56\" class=\"node\"><title>55</title>\r\n",
       "<path fill=\"#eeab7b\" stroke=\"black\" d=\"M3478,-157C3478,-157 3391,-157 3391,-157 3385,-157 3379,-151 3379,-145 3379,-145 3379,-101 3379,-101 3379,-95 3385,-89 3391,-89 3391,-89 3478,-89 3478,-89 3484,-89 3490,-95 3490,-101 3490,-101 3490,-145 3490,-145 3490,-151 3484,-157 3478,-157\"/>\r\n",
       "<text text-anchor=\"start\" x=\"3400\" y=\"-141.8\" font-family=\"Helvetica,sans-Serif\" font-size=\"14.00\">t&#45;5 ≤ 0.016</text>\r\n",
       "<text text-anchor=\"start\" x=\"3402.5\" y=\"-126.8\" font-family=\"Helvetica,sans-Serif\" font-size=\"14.00\">mse = 0.0</text>\r\n",
       "<text text-anchor=\"start\" x=\"3387\" y=\"-111.8\" font-family=\"Helvetica,sans-Serif\" font-size=\"14.00\">samples = 315</text>\r\n",
       "<text text-anchor=\"start\" x=\"3391.5\" y=\"-96.8\" font-family=\"Helvetica,sans-Serif\" font-size=\"14.00\">value = 0.004</text>\r\n",
       "</g>\r\n",
       "<!-- 54&#45;&gt;55 -->\r\n",
       "<g id=\"edge55\" class=\"edge\"><title>54&#45;&gt;55</title>\r\n",
       "<path fill=\"none\" stroke=\"black\" d=\"M3434.5,-192.884C3434.5,-184.778 3434.5,-175.982 3434.5,-167.472\"/>\r\n",
       "<polygon fill=\"black\" stroke=\"black\" points=\"3438,-167.299 3434.5,-157.299 3431,-167.299 3438,-167.299\"/>\r\n",
       "</g>\r\n",
       "<!-- 58 -->\r\n",
       "<g id=\"node59\" class=\"node\"><title>58</title>\r\n",
       "<path fill=\"#eb9e66\" stroke=\"black\" d=\"M3662,-157C3662,-157 3583,-157 3583,-157 3577,-157 3571,-151 3571,-145 3571,-145 3571,-101 3571,-101 3571,-95 3577,-89 3583,-89 3583,-89 3662,-89 3662,-89 3668,-89 3674,-95 3674,-101 3674,-101 3674,-145 3674,-145 3674,-151 3668,-157 3662,-157\"/>\r\n",
       "<text text-anchor=\"start\" x=\"3584\" y=\"-141.8\" font-family=\"Helvetica,sans-Serif\" font-size=\"14.00\">t&#45;20 ≤ 0.016</text>\r\n",
       "<text text-anchor=\"start\" x=\"3590.5\" y=\"-126.8\" font-family=\"Helvetica,sans-Serif\" font-size=\"14.00\">mse = 0.0</text>\r\n",
       "<text text-anchor=\"start\" x=\"3579\" y=\"-111.8\" font-family=\"Helvetica,sans-Serif\" font-size=\"14.00\">samples = 49</text>\r\n",
       "<text text-anchor=\"start\" x=\"3579.5\" y=\"-96.8\" font-family=\"Helvetica,sans-Serif\" font-size=\"14.00\">value = 0.008</text>\r\n",
       "</g>\r\n",
       "<!-- 54&#45;&gt;58 -->\r\n",
       "<g id=\"edge58\" class=\"edge\"><title>54&#45;&gt;58</title>\r\n",
       "<path fill=\"none\" stroke=\"black\" d=\"M3490.14,-195.811C3512.7,-183.572 3538.82,-169.402 3561.86,-156.901\"/>\r\n",
       "<polygon fill=\"black\" stroke=\"black\" points=\"3563.74,-159.864 3570.86,-152.018 3560.4,-153.711 3563.74,-159.864\"/>\r\n",
       "</g>\r\n",
       "<!-- 56 -->\r\n",
       "<g id=\"node57\" class=\"node\"><title>56</title>\r\n",
       "<path fill=\"#ea9c63\" stroke=\"black\" d=\"M3412,-53C3412,-53 3333,-53 3333,-53 3327,-53 3321,-47 3321,-41 3321,-41 3321,-12 3321,-12 3321,-6 3327,-0 3333,-0 3333,-0 3412,-0 3412,-0 3418,-0 3424,-6 3424,-12 3424,-12 3424,-41 3424,-41 3424,-47 3418,-53 3412,-53\"/>\r\n",
       "<text text-anchor=\"start\" x=\"3340.5\" y=\"-37.8\" font-family=\"Helvetica,sans-Serif\" font-size=\"14.00\">mse = 0.0</text>\r\n",
       "<text text-anchor=\"start\" x=\"3329\" y=\"-22.8\" font-family=\"Helvetica,sans-Serif\" font-size=\"14.00\">samples = 14</text>\r\n",
       "<text text-anchor=\"start\" x=\"3329.5\" y=\"-7.8\" font-family=\"Helvetica,sans-Serif\" font-size=\"14.00\">value = 0.008</text>\r\n",
       "</g>\r\n",
       "<!-- 55&#45;&gt;56 -->\r\n",
       "<g id=\"edge56\" class=\"edge\"><title>55&#45;&gt;56</title>\r\n",
       "<path fill=\"none\" stroke=\"black\" d=\"M3412.82,-88.9485C3407.05,-80.1664 3400.82,-70.6629 3395.01,-61.815\"/>\r\n",
       "<polygon fill=\"black\" stroke=\"black\" points=\"3397.8,-59.6779 3389.39,-53.2367 3391.94,-63.5178 3397.8,-59.6779\"/>\r\n",
       "</g>\r\n",
       "<!-- 57 -->\r\n",
       "<g id=\"node58\" class=\"node\"><title>57</title>\r\n",
       "<path fill=\"#eeac7c\" stroke=\"black\" d=\"M3541,-53C3541,-53 3454,-53 3454,-53 3448,-53 3442,-47 3442,-41 3442,-41 3442,-12 3442,-12 3442,-6 3448,-0 3454,-0 3454,-0 3541,-0 3541,-0 3547,-0 3553,-6 3553,-12 3553,-12 3553,-41 3553,-41 3553,-47 3547,-53 3541,-53\"/>\r\n",
       "<text text-anchor=\"start\" x=\"3465.5\" y=\"-37.8\" font-family=\"Helvetica,sans-Serif\" font-size=\"14.00\">mse = 0.0</text>\r\n",
       "<text text-anchor=\"start\" x=\"3450\" y=\"-22.8\" font-family=\"Helvetica,sans-Serif\" font-size=\"14.00\">samples = 301</text>\r\n",
       "<text text-anchor=\"start\" x=\"3454.5\" y=\"-7.8\" font-family=\"Helvetica,sans-Serif\" font-size=\"14.00\">value = 0.004</text>\r\n",
       "</g>\r\n",
       "<!-- 55&#45;&gt;57 -->\r\n",
       "<g id=\"edge57\" class=\"edge\"><title>55&#45;&gt;57</title>\r\n",
       "<path fill=\"none\" stroke=\"black\" d=\"M3456.53,-88.9485C3462.39,-80.1664 3468.72,-70.6629 3474.62,-61.815\"/>\r\n",
       "<polygon fill=\"black\" stroke=\"black\" points=\"3477.71,-63.4987 3480.34,-53.2367 3471.88,-59.6158 3477.71,-63.4987\"/>\r\n",
       "</g>\r\n",
       "<!-- 59 -->\r\n",
       "<g id=\"node60\" class=\"node\"><title>59</title>\r\n",
       "<path fill=\"#ea985e\" stroke=\"black\" d=\"M3662,-53C3662,-53 3583,-53 3583,-53 3577,-53 3571,-47 3571,-41 3571,-41 3571,-12 3571,-12 3571,-6 3577,-0 3583,-0 3583,-0 3662,-0 3662,-0 3668,-0 3674,-6 3674,-12 3674,-12 3674,-41 3674,-41 3674,-47 3668,-53 3662,-53\"/>\r\n",
       "<text text-anchor=\"start\" x=\"3590.5\" y=\"-37.8\" font-family=\"Helvetica,sans-Serif\" font-size=\"14.00\">mse = 0.0</text>\r\n",
       "<text text-anchor=\"start\" x=\"3579\" y=\"-22.8\" font-family=\"Helvetica,sans-Serif\" font-size=\"14.00\">samples = 34</text>\r\n",
       "<text text-anchor=\"start\" x=\"3579.5\" y=\"-7.8\" font-family=\"Helvetica,sans-Serif\" font-size=\"14.00\">value = 0.009</text>\r\n",
       "</g>\r\n",
       "<!-- 58&#45;&gt;59 -->\r\n",
       "<g id=\"edge59\" class=\"edge\"><title>58&#45;&gt;59</title>\r\n",
       "<path fill=\"none\" stroke=\"black\" d=\"M3622.5,-88.9485C3622.5,-80.7153 3622.5,-71.848 3622.5,-63.4814\"/>\r\n",
       "<polygon fill=\"black\" stroke=\"black\" points=\"3626,-63.2367 3622.5,-53.2367 3619,-63.2367 3626,-63.2367\"/>\r\n",
       "</g>\r\n",
       "<!-- 60 -->\r\n",
       "<g id=\"node61\" class=\"node\"><title>60</title>\r\n",
       "<path fill=\"#edaa7a\" stroke=\"black\" d=\"M3783,-53C3783,-53 3704,-53 3704,-53 3698,-53 3692,-47 3692,-41 3692,-41 3692,-12 3692,-12 3692,-6 3698,-0 3704,-0 3704,-0 3783,-0 3783,-0 3789,-0 3795,-6 3795,-12 3795,-12 3795,-41 3795,-41 3795,-47 3789,-53 3783,-53\"/>\r\n",
       "<text text-anchor=\"start\" x=\"3711.5\" y=\"-37.8\" font-family=\"Helvetica,sans-Serif\" font-size=\"14.00\">mse = 0.0</text>\r\n",
       "<text text-anchor=\"start\" x=\"3700\" y=\"-22.8\" font-family=\"Helvetica,sans-Serif\" font-size=\"14.00\">samples = 15</text>\r\n",
       "<text text-anchor=\"start\" x=\"3700.5\" y=\"-7.8\" font-family=\"Helvetica,sans-Serif\" font-size=\"14.00\">value = 0.004</text>\r\n",
       "</g>\r\n",
       "<!-- 58&#45;&gt;60 -->\r\n",
       "<g id=\"edge60\" class=\"edge\"><title>58&#45;&gt;60</title>\r\n",
       "<path fill=\"none\" stroke=\"black\" d=\"M3664.82,-88.9485C3677,-79.4346 3690.27,-69.074 3702.38,-59.6175\"/>\r\n",
       "<polygon fill=\"black\" stroke=\"black\" points=\"3704.82,-62.1504 3710.55,-53.2367 3700.51,-56.6335 3704.82,-62.1504\"/>\r\n",
       "</g>\r\n",
       "</g>\r\n",
       "</svg>\r\n"
      ],
      "text/plain": [
       "<graphviz.files.Source at 0x2d1b79ae688>"
      ]
     },
     "execution_count": 48,
     "metadata": {},
     "output_type": "execute_result"
    }
   ],
   "source": [
    "out_file = 'figures/reg_tree.dot'\n",
    "dot_data = export_graphviz(regression_tree,\n",
    "                           out_file=out_file,\n",
    "                           feature_names=X_train.columns,\n",
    "                           max_depth=10,\n",
    "                           filled=True,\n",
    "                           rounded=True,\n",
    "                           special_characters=True)\n",
    "if out_file is not None:\n",
    "    dot_data = Path(out_file).read_text()\n",
    "\n",
    "graphviz.Source(dot_data)"
   ]
  },
  {
   "cell_type": "markdown",
   "metadata": {},
   "source": [
    "### Evaluate Test Set"
   ]
  },
  {
   "cell_type": "code",
   "execution_count": 49,
   "metadata": {
    "ExecuteTime": {
     "end_time": "2018-10-31T22:34:16.166403Z",
     "start_time": "2018-10-31T22:06:39.270Z"
    }
   },
   "outputs": [],
   "source": [
    "y_pred = regression_tree.predict(X_test)"
   ]
  },
  {
   "cell_type": "code",
   "execution_count": 50,
   "metadata": {
    "ExecuteTime": {
     "end_time": "2018-10-31T22:34:16.169601Z",
     "start_time": "2018-10-31T22:06:39.277Z"
    }
   },
   "outputs": [
    {
     "data": {
      "text/plain": [
       "0.006576971531461803"
      ]
     },
     "execution_count": 50,
     "metadata": {},
     "output_type": "execute_result"
    }
   ],
   "source": [
    "np.sqrt(mean_squared_error(y_pred=y_pred, y_true=y_test))"
   ]
  },
  {
   "cell_type": "markdown",
   "metadata": {},
   "source": [
    "## Classification Tree with all Features"
   ]
  },
  {
   "cell_type": "markdown",
   "metadata": {},
   "source": [
    "### Train-Test Split"
   ]
  },
  {
   "cell_type": "code",
   "execution_count": 51,
   "metadata": {
    "ExecuteTime": {
     "end_time": "2018-10-31T22:34:16.143123Z",
     "start_time": "2018-10-31T22:06:39.172Z"
    }
   },
   "outputs": [],
   "source": [
    "X_train, X_test, y_train, y_test = train_test_split(X, y_binary, test_size=0.2, random_state=42)"
   ]
  },
  {
   "cell_type": "code",
   "execution_count": 52,
   "metadata": {
    "ExecuteTime": {
     "end_time": "2018-10-31T22:34:16.144442Z",
     "start_time": "2018-10-31T22:06:39.181Z"
    }
   },
   "outputs": [],
   "source": [
    "clf = DecisionTreeClassifier(criterion='gini',\n",
    "                             max_depth=5,\n",
    "                             random_state=42)"
   ]
  },
  {
   "cell_type": "code",
   "execution_count": 53,
   "metadata": {
    "ExecuteTime": {
     "end_time": "2018-10-31T22:34:16.148241Z",
     "start_time": "2018-10-31T22:06:39.190Z"
    }
   },
   "outputs": [
    {
     "data": {
      "text/plain": [
       "DecisionTreeClassifier(ccp_alpha=0.0, class_weight=None, criterion='gini',\n",
       "                       max_depth=5, max_features=None, max_leaf_nodes=None,\n",
       "                       min_impurity_decrease=0.0, min_impurity_split=None,\n",
       "                       min_samples_leaf=1, min_samples_split=2,\n",
       "                       min_weight_fraction_leaf=0.0, presort='deprecated',\n",
       "                       random_state=42, splitter='best')"
      ]
     },
     "execution_count": 53,
     "metadata": {},
     "output_type": "execute_result"
    }
   ],
   "source": [
    "clf.fit(X=X_train, y=y_train)"
   ]
  },
  {
   "cell_type": "code",
   "execution_count": 54,
   "metadata": {
    "ExecuteTime": {
     "end_time": "2018-10-31T22:34:16.150012Z",
     "start_time": "2018-10-31T22:06:39.198Z"
    }
   },
   "outputs": [],
   "source": [
    "y_score = clf.predict_proba(X=X_test)[:, 1]"
   ]
  },
  {
   "cell_type": "code",
   "execution_count": 55,
   "metadata": {},
   "outputs": [
    {
     "data": {
      "text/plain": [
       "0.7741661860429204"
      ]
     },
     "execution_count": 55,
     "metadata": {},
     "output_type": "execute_result"
    }
   ],
   "source": [
    "roc_auc_score(y_score=y_score, y_true=y_test)"
   ]
  },
  {
   "cell_type": "markdown",
   "metadata": {},
   "source": [
    "### Plot Tree"
   ]
  },
  {
   "cell_type": "raw",
   "metadata": {
    "ExecuteTime": {
     "end_time": "2018-10-31T22:34:16.151746Z",
     "start_time": "2018-10-31T22:06:39.207Z"
    }
   },
   "source": [
    "out_file = 'figures/clf_tree.dot'\n",
    "dot_data = export_graphviz(clf,\n",
    "                           out_file=out_file,\n",
    "                           feature_names=X.columns,\n",
    "                           class_names=['Down', 'Up'],\n",
    "                           max_depth=3,\n",
    "                           filled=True,\n",
    "                           rounded=True,\n",
    "                           special_characters=True)\n",
    "if out_file is not None:\n",
    "    dot_data = Path(out_file).read_text()\n",
    "\n",
    "graphviz.Source(dot_data)"
   ]
  },
  {
   "cell_type": "markdown",
   "metadata": {},
   "source": [
    "### Evaluate Test Set"
   ]
  },
  {
   "cell_type": "code",
   "execution_count": 56,
   "metadata": {
    "ExecuteTime": {
     "end_time": "2018-10-31T22:34:16.160193Z",
     "start_time": "2018-10-31T22:06:39.216Z"
    }
   },
   "outputs": [],
   "source": [
    "y_pred = clf.predict_proba(X_test)[:, 1]"
   ]
  },
  {
   "cell_type": "code",
   "execution_count": 57,
   "metadata": {
    "ExecuteTime": {
     "end_time": "2018-10-31T22:34:16.161309Z",
     "start_time": "2018-10-31T22:06:39.223Z"
    }
   },
   "outputs": [
    {
     "data": {
      "text/plain": [
       "0.7741661860429204"
      ]
     },
     "execution_count": 57,
     "metadata": {},
     "output_type": "execute_result"
    }
   ],
   "source": [
    "roc_auc_score(y_true=y_test, y_score=y_pred)"
   ]
  },
  {
   "cell_type": "markdown",
   "metadata": {},
   "source": [
    "### Print Decision Path"
   ]
  },
  {
   "cell_type": "code",
   "execution_count": 59,
   "metadata": {
    "ExecuteTime": {
     "end_time": "2018-10-31T22:34:16.140502Z",
     "start_time": "2018-10-31T22:06:39.134Z"
    }
   },
   "outputs": [],
   "source": [
    "def tree_to_code(tree, feature_names):\n",
    "    if isinstance(tree, DecisionTreeClassifier):\n",
    "        model = 'clf'\n",
    "    elif isinstance(tree, DecisionTreeRegressor):\n",
    "        model = 'reg'\n",
    "    else:\n",
    "        raise ValueError('Need Regression or Classification Tree')\n",
    "        \n",
    "    tree_ = tree.tree_\n",
    "    feature_name = [\n",
    "        feature_names[i] if i != _tree.TREE_UNDEFINED else \"undefined!\"\n",
    "        for i in tree_.feature\n",
    "    ]\n",
    "    print(\"def tree({}):\".format(\", \".join(feature_names)))\n",
    "\n",
    "    def recurse(node, depth):\n",
    "        indent = \"  \" * depth\n",
    "        if tree_.feature[node] != _tree.TREE_UNDEFINED:\n",
    "            name = feature_name[node]\n",
    "            threshold = tree_.threshold[node]\n",
    "            print(indent, f'if {name} <= {threshold:.2%}')\n",
    "            recurse(tree_.children_left[node], depth + 1)\n",
    "            print(indent, f'else:  # if {name} > {threshold:.2%}')\n",
    "            recurse(tree_.children_right[node], depth + 1)\n",
    "        else:\n",
    "            pred = tree_.value[node][0]\n",
    "            val = pred[1]/sum(pred) if model == 'clf' else pred[0]\n",
    "            print(indent, f'return {val:.2%}')\n",
    "    recurse(0, 1)"
   ]
  },
  {
   "cell_type": "code",
   "execution_count": 60,
   "metadata": {
    "ExecuteTime": {
     "end_time": "2018-10-31T22:34:16.142001Z",
     "start_time": "2018-10-31T22:06:39.142Z"
    }
   },
   "outputs": [
    {
     "name": "stdout",
     "output_type": "stream",
     "text": [
      "def tree(t-5, t-20):\n",
      "   if t-5 <= 0.00%\n",
      "     if t-5 <= -0.00%\n",
      "       if t-5 <= -0.65%\n",
      "         if t-5 <= -1.38%\n",
      "           return 31.80%\n",
      "         else:  # if t-5 > -1.38%\n",
      "           return 39.36%\n",
      "       else:  # if t-5 > -0.65%\n",
      "         if t-20 <= 0.06%\n",
      "           return 45.35%\n",
      "         else:  # if t-20 > 0.06%\n",
      "           return 50.13%\n",
      "     else:  # if t-5 > -0.00%\n",
      "       if t-20 <= 0.00%\n",
      "         if t-20 <= -0.00%\n",
      "           return 1.85%\n",
      "         else:  # if t-20 > -0.00%\n",
      "           return 6.38%\n",
      "       else:  # if t-20 > 0.00%\n",
      "         if t-20 <= 1.29%\n",
      "           return 2.51%\n",
      "         else:  # if t-20 > 1.29%\n",
      "           return 0.47%\n",
      "   else:  # if t-5 > 0.00%\n",
      "     if t-5 <= 1.19%\n",
      "       if t-5 <= 0.24%\n",
      "         if t-5 <= 0.02%\n",
      "           return 62.71%\n",
      "         else:  # if t-5 > 0.02%\n",
      "           return 52.58%\n",
      "       else:  # if t-5 > 0.24%\n",
      "         if t-5 <= 1.18%\n",
      "           return 58.02%\n",
      "         else:  # if t-5 > 1.18%\n",
      "           return 21.43%\n",
      "     else:  # if t-5 > 1.19%\n",
      "       if t-20 <= -0.52%\n",
      "         if t-20 <= -0.59%\n",
      "           return 60.88%\n",
      "         else:  # if t-20 > -0.59%\n",
      "           return 31.58%\n",
      "       else:  # if t-20 > -0.52%\n",
      "         if t-20 <= 0.41%\n",
      "           return 67.81%\n",
      "         else:  # if t-20 > 0.41%\n",
      "           return 62.88%\n"
     ]
    }
   ],
   "source": [
    "tree_to_code(clf_tree_t2, X2.columns)"
   ]
  }
 ],
 "metadata": {
  "kernelspec": {
   "display_name": "Python 3",
   "language": "python",
   "name": "python3"
  },
  "language_info": {
   "codemirror_mode": {
    "name": "ipython",
    "version": 3
   },
   "file_extension": ".py",
   "mimetype": "text/x-python",
   "name": "python",
   "nbconvert_exporter": "python",
   "pygments_lexer": "ipython3",
   "version": "3.7.6"
  },
  "toc": {
   "base_numbering": 1,
   "nav_menu": {},
   "number_sections": true,
   "sideBar": true,
   "skip_h1_title": true,
   "title_cell": "Table of Contents",
   "title_sidebar": "Contents",
   "toc_cell": false,
   "toc_position": {
    "height": "calc(100% - 180px)",
    "left": "10px",
    "top": "150px",
    "width": "343.837px"
   },
   "toc_section_display": true,
   "toc_window_display": true
  }
 },
 "nbformat": 4,
 "nbformat_minor": 2
}
